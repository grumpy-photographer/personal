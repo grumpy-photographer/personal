{
 "cells": [
  {
   "cell_type": "markdown",
   "metadata": {
    "toc": true
   },
   "source": [
    "<h1>Table of Contents<span class=\"tocSkip\"></span></h1>\n",
    "<div class=\"toc\"><ul class=\"toc-item\"><li><span><a href=\"#Project-Review\" data-toc-modified-id=\"Project-Review-1\"><span class=\"toc-item-num\">1&nbsp;&nbsp;</span>Project Review</a></span></li><li><span><a href=\"#Advanced-Regression-Methods\" data-toc-modified-id=\"Advanced-Regression-Methods-2\"><span class=\"toc-item-num\">2&nbsp;&nbsp;</span>Advanced Regression Methods</a></span></li></ul></div>"
   ]
  },
  {
   "cell_type": "markdown",
   "metadata": {},
   "source": [
    "***"
   ]
  },
  {
   "cell_type": "markdown",
   "metadata": {},
   "source": [
    "## Project Review"
   ]
  },
  {
   "cell_type": "markdown",
   "metadata": {},
   "source": [
    "Please do include some kind of narrative.\n",
    "\n",
    "__Machine Learning Panel at JMM__\n",
    "\n",
    "1. Complaint: Effective communication\n",
    "2. Complaint: Willingness to look at data\n",
    "3. Complaint: How do people respond to feedback\n",
    "4. Complaint: Impatience\n",
    "5. Complaint: Students had good theoretical knowledge, but not experience\n",
    "\n",
    "Goal is not to impress professor, it is to gain understanding.\n",
    "\n",
    "Use good grammar and write professionally.\n",
    "\n",
    "When you plot, attempt to give a succinct summary of information.\n",
    "\n",
    "Don't go score chasing."
   ]
  },
  {
   "cell_type": "markdown",
   "metadata": {},
   "source": [
    "***"
   ]
  },
  {
   "cell_type": "markdown",
   "metadata": {
    "ExecuteTime": {
     "end_time": "2020-10-22T22:45:00.985974Z",
     "start_time": "2020-10-22T22:45:00.961139Z"
    }
   },
   "source": [
    "## Advanced Regression Methods"
   ]
  },
  {
   "cell_type": "markdown",
   "metadata": {},
   "source": [
    "Get feedback for 2 or 3 \"response items.\"\n",
    "\n",
    "by Wednesday of next week, we will submit the response items."
   ]
  },
  {
   "cell_type": "markdown",
   "metadata": {},
   "source": [
    "Random Forest IS a voting regressor\n",
    "\n",
    "- Decision trees tend to overfit the data\n",
    "- Random Forest splits data to decision trees in much smaller chunks to smooth out issues"
   ]
  },
  {
   "cell_type": "markdown",
   "metadata": {},
   "source": [
    "***"
   ]
  },
  {
   "cell_type": "code",
   "execution_count": 9,
   "metadata": {
    "ExecuteTime": {
     "end_time": "2020-10-22T23:04:40.599685Z",
     "start_time": "2020-10-22T23:04:40.572004Z"
    }
   },
   "outputs": [],
   "source": [
    "import pandas as pd"
   ]
  },
  {
   "cell_type": "code",
   "execution_count": 10,
   "metadata": {
    "ExecuteTime": {
     "end_time": "2020-10-22T23:04:40.853414Z",
     "start_time": "2020-10-22T23:04:40.609473Z"
    }
   },
   "outputs": [],
   "source": [
    "df = pd.read_csv(\"california-housing.csv\")\n",
    "\n",
    "df.dropna(axis=\"rows\", inplace=True)\n",
    "df.drop(columns = \"ocean_proximity\", inplace=True)"
   ]
  },
  {
   "cell_type": "code",
   "execution_count": 11,
   "metadata": {
    "ExecuteTime": {
     "end_time": "2020-10-22T23:04:40.893636Z",
     "start_time": "2020-10-22T23:04:40.862374Z"
    }
   },
   "outputs": [],
   "source": [
    "X = df.drop(columns = \"median_house_value\")\n",
    "y = df[\"median_house_value\"]"
   ]
  },
  {
   "cell_type": "code",
   "execution_count": 14,
   "metadata": {
    "ExecuteTime": {
     "end_time": "2020-10-22T23:05:11.271573Z",
     "start_time": "2020-10-22T23:05:11.247471Z"
    },
    "scrolled": true
   },
   "outputs": [],
   "source": [
    "from sklearn.model_selection import train_test_split, GridSearchCV\n",
    "\n",
    "X_train, X_test, y_train, y_test = train_test_split(X,y, train_size=.7, random_state=1)"
   ]
  },
  {
   "cell_type": "code",
   "execution_count": 15,
   "metadata": {
    "ExecuteTime": {
     "end_time": "2020-10-22T23:05:52.742432Z",
     "start_time": "2020-10-22T23:05:51.214651Z"
    }
   },
   "outputs": [],
   "source": [
    "from sklearn.neighbors import KNeighborsRegressor"
   ]
  },
  {
   "cell_type": "code",
   "execution_count": 16,
   "metadata": {
    "ExecuteTime": {
     "end_time": "2020-10-22T23:05:59.790802Z",
     "start_time": "2020-10-22T23:05:59.771279Z"
    }
   },
   "outputs": [],
   "source": [
    "KNR = KNeighborsRegressor()"
   ]
  },
  {
   "cell_type": "code",
   "execution_count": 17,
   "metadata": {
    "ExecuteTime": {
     "end_time": "2020-10-22T23:07:51.160697Z",
     "start_time": "2020-10-22T23:07:51.144891Z"
    }
   },
   "outputs": [],
   "source": [
    "parameters ={\"n_neighbors\": [1,2,3,4,5,6,7,8],\n",
    "            \"weights\" : (\"uniform\", \"distance\")}"
   ]
  },
  {
   "cell_type": "code",
   "execution_count": 18,
   "metadata": {
    "ExecuteTime": {
     "end_time": "2020-10-22T23:08:04.153508Z",
     "start_time": "2020-10-22T23:08:04.133574Z"
    }
   },
   "outputs": [],
   "source": [
    "grid_search = GridSearchCV(KNR, parameters)"
   ]
  },
  {
   "cell_type": "code",
   "execution_count": 20,
   "metadata": {
    "ExecuteTime": {
     "end_time": "2020-10-22T23:08:28.391959Z",
     "start_time": "2020-10-22T23:08:20.104341Z"
    }
   },
   "outputs": [
    {
     "data": {
      "text/plain": [
       "GridSearchCV(cv=None, error_score=nan,\n",
       "             estimator=KNeighborsRegressor(algorithm='auto', leaf_size=30,\n",
       "                                           metric='minkowski',\n",
       "                                           metric_params=None, n_jobs=None,\n",
       "                                           n_neighbors=5, p=2,\n",
       "                                           weights='uniform'),\n",
       "             iid='deprecated', n_jobs=None,\n",
       "             param_grid={'n_neighbors': [1, 2, 3, 4, 5, 6, 7, 8],\n",
       "                         'weights': ('uniform', 'distance')},\n",
       "             pre_dispatch='2*n_jobs', refit=True, return_train_score=False,\n",
       "             scoring=None, verbose=0)"
      ]
     },
     "execution_count": 20,
     "metadata": {},
     "output_type": "execute_result"
    }
   ],
   "source": [
    "grid_search.fit(X_train, y_train)"
   ]
  },
  {
   "cell_type": "code",
   "execution_count": 23,
   "metadata": {
    "ExecuteTime": {
     "end_time": "2020-10-22T23:09:15.006184Z",
     "start_time": "2020-10-22T23:09:14.953930Z"
    }
   },
   "outputs": [],
   "source": [
    "grid_search_data = pd.DataFrame(grid_search.cv_results_)"
   ]
  },
  {
   "cell_type": "code",
   "execution_count": 26,
   "metadata": {
    "ExecuteTime": {
     "end_time": "2020-10-22T23:10:50.896454Z",
     "start_time": "2020-10-22T23:10:50.842847Z"
    },
    "scrolled": false
   },
   "outputs": [
    {
     "data": {
      "text/html": [
       "<div>\n",
       "<style scoped>\n",
       "    .dataframe tbody tr th:only-of-type {\n",
       "        vertical-align: middle;\n",
       "    }\n",
       "\n",
       "    .dataframe tbody tr th {\n",
       "        vertical-align: top;\n",
       "    }\n",
       "\n",
       "    .dataframe thead th {\n",
       "        text-align: right;\n",
       "    }\n",
       "</style>\n",
       "<table border=\"1\" class=\"dataframe\">\n",
       "  <thead>\n",
       "    <tr style=\"text-align: right;\">\n",
       "      <th></th>\n",
       "      <th>mean_fit_time</th>\n",
       "      <th>std_fit_time</th>\n",
       "      <th>mean_score_time</th>\n",
       "      <th>std_score_time</th>\n",
       "      <th>param_n_neighbors</th>\n",
       "      <th>param_weights</th>\n",
       "      <th>params</th>\n",
       "      <th>split0_test_score</th>\n",
       "      <th>split1_test_score</th>\n",
       "      <th>split2_test_score</th>\n",
       "      <th>split3_test_score</th>\n",
       "      <th>split4_test_score</th>\n",
       "      <th>mean_test_score</th>\n",
       "      <th>std_test_score</th>\n",
       "      <th>rank_test_score</th>\n",
       "    </tr>\n",
       "  </thead>\n",
       "  <tbody>\n",
       "    <tr>\n",
       "      <th>0</th>\n",
       "      <td>0.051007</td>\n",
       "      <td>0.013127</td>\n",
       "      <td>0.047633</td>\n",
       "      <td>0.004923</td>\n",
       "      <td>1</td>\n",
       "      <td>uniform</td>\n",
       "      <td>{'n_neighbors': 1, 'weights': 'uniform'}</td>\n",
       "      <td>-0.197917</td>\n",
       "      <td>-0.220312</td>\n",
       "      <td>-0.207678</td>\n",
       "      <td>-0.225222</td>\n",
       "      <td>-0.190779</td>\n",
       "      <td>-0.208382</td>\n",
       "      <td>0.013006</td>\n",
       "      <td>15</td>\n",
       "    </tr>\n",
       "    <tr>\n",
       "      <th>1</th>\n",
       "      <td>0.048306</td>\n",
       "      <td>0.013311</td>\n",
       "      <td>0.051179</td>\n",
       "      <td>0.016729</td>\n",
       "      <td>1</td>\n",
       "      <td>distance</td>\n",
       "      <td>{'n_neighbors': 1, 'weights': 'distance'}</td>\n",
       "      <td>-0.197917</td>\n",
       "      <td>-0.220312</td>\n",
       "      <td>-0.207678</td>\n",
       "      <td>-0.225222</td>\n",
       "      <td>-0.190779</td>\n",
       "      <td>-0.208382</td>\n",
       "      <td>0.013006</td>\n",
       "      <td>15</td>\n",
       "    </tr>\n",
       "    <tr>\n",
       "      <th>2</th>\n",
       "      <td>0.052052</td>\n",
       "      <td>0.013438</td>\n",
       "      <td>0.066004</td>\n",
       "      <td>0.015523</td>\n",
       "      <td>2</td>\n",
       "      <td>uniform</td>\n",
       "      <td>{'n_neighbors': 2, 'weights': 'uniform'}</td>\n",
       "      <td>0.073077</td>\n",
       "      <td>0.052210</td>\n",
       "      <td>0.075964</td>\n",
       "      <td>0.066611</td>\n",
       "      <td>0.077482</td>\n",
       "      <td>0.069069</td>\n",
       "      <td>0.009216</td>\n",
       "      <td>13</td>\n",
       "    </tr>\n",
       "    <tr>\n",
       "      <th>3</th>\n",
       "      <td>0.057411</td>\n",
       "      <td>0.017415</td>\n",
       "      <td>0.075440</td>\n",
       "      <td>0.017728</td>\n",
       "      <td>2</td>\n",
       "      <td>distance</td>\n",
       "      <td>{'n_neighbors': 2, 'weights': 'distance'}</td>\n",
       "      <td>0.073420</td>\n",
       "      <td>0.050462</td>\n",
       "      <td>0.070739</td>\n",
       "      <td>0.062982</td>\n",
       "      <td>0.073512</td>\n",
       "      <td>0.066223</td>\n",
       "      <td>0.008766</td>\n",
       "      <td>14</td>\n",
       "    </tr>\n",
       "    <tr>\n",
       "      <th>4</th>\n",
       "      <td>0.052452</td>\n",
       "      <td>0.012114</td>\n",
       "      <td>0.063074</td>\n",
       "      <td>0.016570</td>\n",
       "      <td>3</td>\n",
       "      <td>uniform</td>\n",
       "      <td>{'n_neighbors': 3, 'weights': 'uniform'}</td>\n",
       "      <td>0.167401</td>\n",
       "      <td>0.167983</td>\n",
       "      <td>0.165168</td>\n",
       "      <td>0.169319</td>\n",
       "      <td>0.171409</td>\n",
       "      <td>0.168256</td>\n",
       "      <td>0.002070</td>\n",
       "      <td>11</td>\n",
       "    </tr>\n",
       "  </tbody>\n",
       "</table>\n",
       "</div>"
      ],
      "text/plain": [
       "   mean_fit_time  std_fit_time  mean_score_time  std_score_time  \\\n",
       "0       0.051007      0.013127         0.047633        0.004923   \n",
       "1       0.048306      0.013311         0.051179        0.016729   \n",
       "2       0.052052      0.013438         0.066004        0.015523   \n",
       "3       0.057411      0.017415         0.075440        0.017728   \n",
       "4       0.052452      0.012114         0.063074        0.016570   \n",
       "\n",
       "  param_n_neighbors param_weights                                     params  \\\n",
       "0                 1       uniform   {'n_neighbors': 1, 'weights': 'uniform'}   \n",
       "1                 1      distance  {'n_neighbors': 1, 'weights': 'distance'}   \n",
       "2                 2       uniform   {'n_neighbors': 2, 'weights': 'uniform'}   \n",
       "3                 2      distance  {'n_neighbors': 2, 'weights': 'distance'}   \n",
       "4                 3       uniform   {'n_neighbors': 3, 'weights': 'uniform'}   \n",
       "\n",
       "   split0_test_score  split1_test_score  split2_test_score  split3_test_score  \\\n",
       "0          -0.197917          -0.220312          -0.207678          -0.225222   \n",
       "1          -0.197917          -0.220312          -0.207678          -0.225222   \n",
       "2           0.073077           0.052210           0.075964           0.066611   \n",
       "3           0.073420           0.050462           0.070739           0.062982   \n",
       "4           0.167401           0.167983           0.165168           0.169319   \n",
       "\n",
       "   split4_test_score  mean_test_score  std_test_score  rank_test_score  \n",
       "0          -0.190779        -0.208382        0.013006               15  \n",
       "1          -0.190779        -0.208382        0.013006               15  \n",
       "2           0.077482         0.069069        0.009216               13  \n",
       "3           0.073512         0.066223        0.008766               14  \n",
       "4           0.171409         0.168256        0.002070               11  "
      ]
     },
     "execution_count": 26,
     "metadata": {},
     "output_type": "execute_result"
    }
   ],
   "source": [
    "grid_search_data.head()"
   ]
  },
  {
   "cell_type": "code",
   "execution_count": 29,
   "metadata": {
    "ExecuteTime": {
     "end_time": "2020-10-22T23:13:04.004116Z",
     "start_time": "2020-10-22T23:13:03.950580Z"
    }
   },
   "outputs": [
    {
     "data": {
      "text/html": [
       "<div>\n",
       "<style scoped>\n",
       "    .dataframe tbody tr th:only-of-type {\n",
       "        vertical-align: middle;\n",
       "    }\n",
       "\n",
       "    .dataframe tbody tr th {\n",
       "        vertical-align: top;\n",
       "    }\n",
       "\n",
       "    .dataframe thead th {\n",
       "        text-align: right;\n",
       "    }\n",
       "</style>\n",
       "<table border=\"1\" class=\"dataframe\">\n",
       "  <thead>\n",
       "    <tr style=\"text-align: right;\">\n",
       "      <th></th>\n",
       "      <th>mean_fit_time</th>\n",
       "      <th>std_fit_time</th>\n",
       "      <th>mean_score_time</th>\n",
       "      <th>std_score_time</th>\n",
       "      <th>param_n_neighbors</th>\n",
       "      <th>param_weights</th>\n",
       "      <th>params</th>\n",
       "      <th>split0_test_score</th>\n",
       "      <th>split1_test_score</th>\n",
       "      <th>split2_test_score</th>\n",
       "      <th>split3_test_score</th>\n",
       "      <th>split4_test_score</th>\n",
       "      <th>mean_test_score</th>\n",
       "      <th>std_test_score</th>\n",
       "      <th>rank_test_score</th>\n",
       "    </tr>\n",
       "  </thead>\n",
       "  <tbody>\n",
       "    <tr>\n",
       "      <th>4</th>\n",
       "      <td>0.052452</td>\n",
       "      <td>0.012114</td>\n",
       "      <td>0.063074</td>\n",
       "      <td>0.016570</td>\n",
       "      <td>3</td>\n",
       "      <td>uniform</td>\n",
       "      <td>{'n_neighbors': 3, 'weights': 'uniform'}</td>\n",
       "      <td>0.167401</td>\n",
       "      <td>0.167983</td>\n",
       "      <td>0.165168</td>\n",
       "      <td>0.169319</td>\n",
       "      <td>0.171409</td>\n",
       "      <td>0.168256</td>\n",
       "      <td>0.002070</td>\n",
       "      <td>11</td>\n",
       "    </tr>\n",
       "    <tr>\n",
       "      <th>5</th>\n",
       "      <td>0.042756</td>\n",
       "      <td>0.009659</td>\n",
       "      <td>0.066580</td>\n",
       "      <td>0.023924</td>\n",
       "      <td>3</td>\n",
       "      <td>distance</td>\n",
       "      <td>{'n_neighbors': 3, 'weights': 'distance'}</td>\n",
       "      <td>0.166670</td>\n",
       "      <td>0.162626</td>\n",
       "      <td>0.161982</td>\n",
       "      <td>0.166110</td>\n",
       "      <td>0.170327</td>\n",
       "      <td>0.165543</td>\n",
       "      <td>0.003022</td>\n",
       "      <td>12</td>\n",
       "    </tr>\n",
       "    <tr>\n",
       "      <th>6</th>\n",
       "      <td>0.037074</td>\n",
       "      <td>0.007922</td>\n",
       "      <td>0.062647</td>\n",
       "      <td>0.022685</td>\n",
       "      <td>4</td>\n",
       "      <td>uniform</td>\n",
       "      <td>{'n_neighbors': 4, 'weights': 'uniform'}</td>\n",
       "      <td>0.205917</td>\n",
       "      <td>0.220365</td>\n",
       "      <td>0.203155</td>\n",
       "      <td>0.217033</td>\n",
       "      <td>0.214648</td>\n",
       "      <td>0.212223</td>\n",
       "      <td>0.006593</td>\n",
       "      <td>9</td>\n",
       "    </tr>\n",
       "    <tr>\n",
       "      <th>7</th>\n",
       "      <td>0.040116</td>\n",
       "      <td>0.007536</td>\n",
       "      <td>0.049526</td>\n",
       "      <td>0.002694</td>\n",
       "      <td>4</td>\n",
       "      <td>distance</td>\n",
       "      <td>{'n_neighbors': 4, 'weights': 'distance'}</td>\n",
       "      <td>0.207287</td>\n",
       "      <td>0.214682</td>\n",
       "      <td>0.203781</td>\n",
       "      <td>0.214700</td>\n",
       "      <td>0.218216</td>\n",
       "      <td>0.211733</td>\n",
       "      <td>0.005339</td>\n",
       "      <td>10</td>\n",
       "    </tr>\n",
       "    <tr>\n",
       "      <th>8</th>\n",
       "      <td>0.037305</td>\n",
       "      <td>0.003337</td>\n",
       "      <td>0.049743</td>\n",
       "      <td>0.001756</td>\n",
       "      <td>5</td>\n",
       "      <td>uniform</td>\n",
       "      <td>{'n_neighbors': 5, 'weights': 'uniform'}</td>\n",
       "      <td>0.230756</td>\n",
       "      <td>0.242646</td>\n",
       "      <td>0.235581</td>\n",
       "      <td>0.242258</td>\n",
       "      <td>0.242267</td>\n",
       "      <td>0.238702</td>\n",
       "      <td>0.004771</td>\n",
       "      <td>8</td>\n",
       "    </tr>\n",
       "  </tbody>\n",
       "</table>\n",
       "</div>"
      ],
      "text/plain": [
       "   mean_fit_time  std_fit_time  mean_score_time  std_score_time  \\\n",
       "4       0.052452      0.012114         0.063074        0.016570   \n",
       "5       0.042756      0.009659         0.066580        0.023924   \n",
       "6       0.037074      0.007922         0.062647        0.022685   \n",
       "7       0.040116      0.007536         0.049526        0.002694   \n",
       "8       0.037305      0.003337         0.049743        0.001756   \n",
       "\n",
       "  param_n_neighbors param_weights                                     params  \\\n",
       "4                 3       uniform   {'n_neighbors': 3, 'weights': 'uniform'}   \n",
       "5                 3      distance  {'n_neighbors': 3, 'weights': 'distance'}   \n",
       "6                 4       uniform   {'n_neighbors': 4, 'weights': 'uniform'}   \n",
       "7                 4      distance  {'n_neighbors': 4, 'weights': 'distance'}   \n",
       "8                 5       uniform   {'n_neighbors': 5, 'weights': 'uniform'}   \n",
       "\n",
       "   split0_test_score  split1_test_score  split2_test_score  split3_test_score  \\\n",
       "4           0.167401           0.167983           0.165168           0.169319   \n",
       "5           0.166670           0.162626           0.161982           0.166110   \n",
       "6           0.205917           0.220365           0.203155           0.217033   \n",
       "7           0.207287           0.214682           0.203781           0.214700   \n",
       "8           0.230756           0.242646           0.235581           0.242258   \n",
       "\n",
       "   split4_test_score  mean_test_score  std_test_score  rank_test_score  \n",
       "4           0.171409         0.168256        0.002070               11  \n",
       "5           0.170327         0.165543        0.003022               12  \n",
       "6           0.214648         0.212223        0.006593                9  \n",
       "7           0.218216         0.211733        0.005339               10  \n",
       "8           0.242267         0.238702        0.004771                8  "
      ]
     },
     "execution_count": 29,
     "metadata": {},
     "output_type": "execute_result"
    }
   ],
   "source": [
    "grid_search_data[grid_search_data[\"mean_test_score\"] > 0.1]"
   ]
  },
  {
   "cell_type": "code",
   "execution_count": 30,
   "metadata": {
    "ExecuteTime": {
     "end_time": "2020-10-22T23:13:12.897418Z",
     "start_time": "2020-10-22T23:13:12.837365Z"
    }
   },
   "outputs": [
    {
     "data": {
      "text/html": [
       "<div>\n",
       "<style scoped>\n",
       "    .dataframe tbody tr th:only-of-type {\n",
       "        vertical-align: middle;\n",
       "    }\n",
       "\n",
       "    .dataframe tbody tr th {\n",
       "        vertical-align: top;\n",
       "    }\n",
       "\n",
       "    .dataframe thead th {\n",
       "        text-align: right;\n",
       "    }\n",
       "</style>\n",
       "<table border=\"1\" class=\"dataframe\">\n",
       "  <thead>\n",
       "    <tr style=\"text-align: right;\">\n",
       "      <th></th>\n",
       "      <th>mean_fit_time</th>\n",
       "      <th>std_fit_time</th>\n",
       "      <th>mean_score_time</th>\n",
       "      <th>std_score_time</th>\n",
       "      <th>param_n_neighbors</th>\n",
       "      <th>param_weights</th>\n",
       "      <th>params</th>\n",
       "      <th>split0_test_score</th>\n",
       "      <th>split1_test_score</th>\n",
       "      <th>split2_test_score</th>\n",
       "      <th>split3_test_score</th>\n",
       "      <th>split4_test_score</th>\n",
       "      <th>mean_test_score</th>\n",
       "      <th>std_test_score</th>\n",
       "      <th>rank_test_score</th>\n",
       "    </tr>\n",
       "  </thead>\n",
       "  <tbody>\n",
       "    <tr>\n",
       "      <th>10</th>\n",
       "      <td>0.034450</td>\n",
       "      <td>0.004799</td>\n",
       "      <td>0.064608</td>\n",
       "      <td>0.008307</td>\n",
       "      <td>6</td>\n",
       "      <td>uniform</td>\n",
       "      <td>{'n_neighbors': 6, 'weights': 'uniform'}</td>\n",
       "      <td>0.243387</td>\n",
       "      <td>0.265187</td>\n",
       "      <td>0.249737</td>\n",
       "      <td>0.260589</td>\n",
       "      <td>0.262238</td>\n",
       "      <td>0.256228</td>\n",
       "      <td>0.008276</td>\n",
       "      <td>6</td>\n",
       "    </tr>\n",
       "    <tr>\n",
       "      <th>11</th>\n",
       "      <td>0.034710</td>\n",
       "      <td>0.005999</td>\n",
       "      <td>0.057655</td>\n",
       "      <td>0.005361</td>\n",
       "      <td>6</td>\n",
       "      <td>distance</td>\n",
       "      <td>{'n_neighbors': 6, 'weights': 'distance'}</td>\n",
       "      <td>0.245047</td>\n",
       "      <td>0.263319</td>\n",
       "      <td>0.251873</td>\n",
       "      <td>0.260504</td>\n",
       "      <td>0.265895</td>\n",
       "      <td>0.257328</td>\n",
       "      <td>0.007745</td>\n",
       "      <td>5</td>\n",
       "    </tr>\n",
       "    <tr>\n",
       "      <th>12</th>\n",
       "      <td>0.031838</td>\n",
       "      <td>0.002036</td>\n",
       "      <td>0.075957</td>\n",
       "      <td>0.027786</td>\n",
       "      <td>7</td>\n",
       "      <td>uniform</td>\n",
       "      <td>{'n_neighbors': 7, 'weights': 'uniform'}</td>\n",
       "      <td>0.256333</td>\n",
       "      <td>0.273636</td>\n",
       "      <td>0.263223</td>\n",
       "      <td>0.273382</td>\n",
       "      <td>0.273761</td>\n",
       "      <td>0.268067</td>\n",
       "      <td>0.007111</td>\n",
       "      <td>4</td>\n",
       "    </tr>\n",
       "    <tr>\n",
       "      <th>13</th>\n",
       "      <td>0.033698</td>\n",
       "      <td>0.003155</td>\n",
       "      <td>0.058571</td>\n",
       "      <td>0.004132</td>\n",
       "      <td>7</td>\n",
       "      <td>distance</td>\n",
       "      <td>{'n_neighbors': 7, 'weights': 'distance'}</td>\n",
       "      <td>0.258273</td>\n",
       "      <td>0.273429</td>\n",
       "      <td>0.265716</td>\n",
       "      <td>0.273920</td>\n",
       "      <td>0.277834</td>\n",
       "      <td>0.269834</td>\n",
       "      <td>0.006989</td>\n",
       "      <td>3</td>\n",
       "    </tr>\n",
       "    <tr>\n",
       "      <th>14</th>\n",
       "      <td>0.033403</td>\n",
       "      <td>0.001862</td>\n",
       "      <td>0.059332</td>\n",
       "      <td>0.003819</td>\n",
       "      <td>8</td>\n",
       "      <td>uniform</td>\n",
       "      <td>{'n_neighbors': 8, 'weights': 'uniform'}</td>\n",
       "      <td>0.260023</td>\n",
       "      <td>0.281849</td>\n",
       "      <td>0.279038</td>\n",
       "      <td>0.281493</td>\n",
       "      <td>0.279751</td>\n",
       "      <td>0.276431</td>\n",
       "      <td>0.008271</td>\n",
       "      <td>2</td>\n",
       "    </tr>\n",
       "    <tr>\n",
       "      <th>15</th>\n",
       "      <td>0.031505</td>\n",
       "      <td>0.000982</td>\n",
       "      <td>0.063089</td>\n",
       "      <td>0.006667</td>\n",
       "      <td>8</td>\n",
       "      <td>distance</td>\n",
       "      <td>{'n_neighbors': 8, 'weights': 'distance'}</td>\n",
       "      <td>0.263453</td>\n",
       "      <td>0.282714</td>\n",
       "      <td>0.280410</td>\n",
       "      <td>0.283047</td>\n",
       "      <td>0.285459</td>\n",
       "      <td>0.279017</td>\n",
       "      <td>0.007945</td>\n",
       "      <td>1</td>\n",
       "    </tr>\n",
       "  </tbody>\n",
       "</table>\n",
       "</div>"
      ],
      "text/plain": [
       "    mean_fit_time  std_fit_time  mean_score_time  std_score_time  \\\n",
       "10       0.034450      0.004799         0.064608        0.008307   \n",
       "11       0.034710      0.005999         0.057655        0.005361   \n",
       "12       0.031838      0.002036         0.075957        0.027786   \n",
       "13       0.033698      0.003155         0.058571        0.004132   \n",
       "14       0.033403      0.001862         0.059332        0.003819   \n",
       "15       0.031505      0.000982         0.063089        0.006667   \n",
       "\n",
       "   param_n_neighbors param_weights                                     params  \\\n",
       "10                 6       uniform   {'n_neighbors': 6, 'weights': 'uniform'}   \n",
       "11                 6      distance  {'n_neighbors': 6, 'weights': 'distance'}   \n",
       "12                 7       uniform   {'n_neighbors': 7, 'weights': 'uniform'}   \n",
       "13                 7      distance  {'n_neighbors': 7, 'weights': 'distance'}   \n",
       "14                 8       uniform   {'n_neighbors': 8, 'weights': 'uniform'}   \n",
       "15                 8      distance  {'n_neighbors': 8, 'weights': 'distance'}   \n",
       "\n",
       "    split0_test_score  split1_test_score  split2_test_score  \\\n",
       "10           0.243387           0.265187           0.249737   \n",
       "11           0.245047           0.263319           0.251873   \n",
       "12           0.256333           0.273636           0.263223   \n",
       "13           0.258273           0.273429           0.265716   \n",
       "14           0.260023           0.281849           0.279038   \n",
       "15           0.263453           0.282714           0.280410   \n",
       "\n",
       "    split3_test_score  split4_test_score  mean_test_score  std_test_score  \\\n",
       "10           0.260589           0.262238         0.256228        0.008276   \n",
       "11           0.260504           0.265895         0.257328        0.007745   \n",
       "12           0.273382           0.273761         0.268067        0.007111   \n",
       "13           0.273920           0.277834         0.269834        0.006989   \n",
       "14           0.281493           0.279751         0.276431        0.008271   \n",
       "15           0.283047           0.285459         0.279017        0.007945   \n",
       "\n",
       "    rank_test_score  \n",
       "10                6  \n",
       "11                5  \n",
       "12                4  \n",
       "13                3  \n",
       "14                2  \n",
       "15                1  "
      ]
     },
     "execution_count": 30,
     "metadata": {},
     "output_type": "execute_result"
    }
   ],
   "source": [
    "grid_search_data[grid_search_data[\"mean_test_score\"] > 0.25]"
   ]
  },
  {
   "cell_type": "code",
   "execution_count": 34,
   "metadata": {
    "ExecuteTime": {
     "end_time": "2020-10-22T23:13:36.985278Z",
     "start_time": "2020-10-22T23:13:36.948863Z"
    }
   },
   "outputs": [
    {
     "data": {
      "text/html": [
       "<div>\n",
       "<style scoped>\n",
       "    .dataframe tbody tr th:only-of-type {\n",
       "        vertical-align: middle;\n",
       "    }\n",
       "\n",
       "    .dataframe tbody tr th {\n",
       "        vertical-align: top;\n",
       "    }\n",
       "\n",
       "    .dataframe thead th {\n",
       "        text-align: right;\n",
       "    }\n",
       "</style>\n",
       "<table border=\"1\" class=\"dataframe\">\n",
       "  <thead>\n",
       "    <tr style=\"text-align: right;\">\n",
       "      <th></th>\n",
       "      <th>mean_fit_time</th>\n",
       "      <th>std_fit_time</th>\n",
       "      <th>mean_score_time</th>\n",
       "      <th>std_score_time</th>\n",
       "      <th>param_n_neighbors</th>\n",
       "      <th>param_weights</th>\n",
       "      <th>params</th>\n",
       "      <th>split0_test_score</th>\n",
       "      <th>split1_test_score</th>\n",
       "      <th>split2_test_score</th>\n",
       "      <th>split3_test_score</th>\n",
       "      <th>split4_test_score</th>\n",
       "      <th>mean_test_score</th>\n",
       "      <th>std_test_score</th>\n",
       "      <th>rank_test_score</th>\n",
       "    </tr>\n",
       "  </thead>\n",
       "  <tbody>\n",
       "    <tr>\n",
       "      <th>14</th>\n",
       "      <td>0.033403</td>\n",
       "      <td>0.001862</td>\n",
       "      <td>0.059332</td>\n",
       "      <td>0.003819</td>\n",
       "      <td>8</td>\n",
       "      <td>uniform</td>\n",
       "      <td>{'n_neighbors': 8, 'weights': 'uniform'}</td>\n",
       "      <td>0.260023</td>\n",
       "      <td>0.281849</td>\n",
       "      <td>0.279038</td>\n",
       "      <td>0.281493</td>\n",
       "      <td>0.279751</td>\n",
       "      <td>0.276431</td>\n",
       "      <td>0.008271</td>\n",
       "      <td>2</td>\n",
       "    </tr>\n",
       "    <tr>\n",
       "      <th>15</th>\n",
       "      <td>0.031505</td>\n",
       "      <td>0.000982</td>\n",
       "      <td>0.063089</td>\n",
       "      <td>0.006667</td>\n",
       "      <td>8</td>\n",
       "      <td>distance</td>\n",
       "      <td>{'n_neighbors': 8, 'weights': 'distance'}</td>\n",
       "      <td>0.263453</td>\n",
       "      <td>0.282714</td>\n",
       "      <td>0.280410</td>\n",
       "      <td>0.283047</td>\n",
       "      <td>0.285459</td>\n",
       "      <td>0.279017</td>\n",
       "      <td>0.007945</td>\n",
       "      <td>1</td>\n",
       "    </tr>\n",
       "  </tbody>\n",
       "</table>\n",
       "</div>"
      ],
      "text/plain": [
       "    mean_fit_time  std_fit_time  mean_score_time  std_score_time  \\\n",
       "14       0.033403      0.001862         0.059332        0.003819   \n",
       "15       0.031505      0.000982         0.063089        0.006667   \n",
       "\n",
       "   param_n_neighbors param_weights                                     params  \\\n",
       "14                 8       uniform   {'n_neighbors': 8, 'weights': 'uniform'}   \n",
       "15                 8      distance  {'n_neighbors': 8, 'weights': 'distance'}   \n",
       "\n",
       "    split0_test_score  split1_test_score  split2_test_score  \\\n",
       "14           0.260023           0.281849           0.279038   \n",
       "15           0.263453           0.282714           0.280410   \n",
       "\n",
       "    split3_test_score  split4_test_score  mean_test_score  std_test_score  \\\n",
       "14           0.281493           0.279751         0.276431        0.008271   \n",
       "15           0.283047           0.285459         0.279017        0.007945   \n",
       "\n",
       "    rank_test_score  \n",
       "14                2  \n",
       "15                1  "
      ]
     },
     "execution_count": 34,
     "metadata": {},
     "output_type": "execute_result"
    }
   ],
   "source": [
    "grid_search_data[grid_search_data[\"mean_test_score\"] > 0.27]"
   ]
  },
  {
   "cell_type": "markdown",
   "metadata": {},
   "source": [
    "We don't have to know what the right values are, we can search for them quickly."
   ]
  },
  {
   "cell_type": "markdown",
   "metadata": {
    "ExecuteTime": {
     "end_time": "2020-10-22T23:26:20.461024Z",
     "start_time": "2020-10-22T23:26:20.449801Z"
    }
   },
   "source": [
    "Bayes Optimum: the absolute best score you could get on the data you have."
   ]
  }
 ],
 "metadata": {
  "kernelspec": {
   "display_name": "Python 3",
   "language": "python",
   "name": "python3"
  },
  "language_info": {
   "codemirror_mode": {
    "name": "ipython",
    "version": 3
   },
   "file_extension": ".py",
   "mimetype": "text/x-python",
   "name": "python",
   "nbconvert_exporter": "python",
   "pygments_lexer": "ipython3",
   "version": "3.7.9"
  },
  "notify_time": "30",
  "toc": {
   "base_numbering": 1,
   "nav_menu": {},
   "number_sections": true,
   "sideBar": false,
   "skip_h1_title": true,
   "title_cell": "Table of Contents",
   "title_sidebar": "Contents",
   "toc_cell": true,
   "toc_position": {},
   "toc_section_display": true,
   "toc_window_display": false
  }
 },
 "nbformat": 4,
 "nbformat_minor": 4
}
