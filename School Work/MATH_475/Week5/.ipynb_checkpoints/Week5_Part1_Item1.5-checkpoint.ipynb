{
 "cells": [
  {
   "cell_type": "markdown",
   "metadata": {
    "toc": true
   },
   "source": [
    "<h1>Table of Contents<span class=\"tocSkip\"></span></h1>\n",
    "<div class=\"toc\"><ul class=\"toc-item\"><li><span><a href=\"#Old-Function\" data-toc-modified-id=\"Old-Function-1\">Old Function</a></span></li><li><span><a href=\"#New-Function\" data-toc-modified-id=\"New-Function-2\">New Function</a></span></li><li><span><a href=\"#Speed-Test\" data-toc-modified-id=\"Speed-Test-3\">Speed Test</a></span><ul class=\"toc-item\"><li><ul class=\"toc-item\"><li><span><a href=\"#Old-Function\" data-toc-modified-id=\"Old-Function-3.0.1\">Old Function</a></span></li><li><span><a href=\"#New-Function\" data-toc-modified-id=\"New-Function-3.0.2\">New Function</a></span></li></ul></li></ul></li><li><span><a href=\"#Answer\" data-toc-modified-id=\"Answer-4\">Answer</a></span></li></ul></div>"
   ]
  },
  {
   "cell_type": "markdown",
   "metadata": {},
   "source": [
    "# Instructions"
   ]
  },
  {
   "cell_type": "markdown",
   "metadata": {},
   "source": [
    "A student has written the following function ```sum_of_squares```  which is supposed to take a list and add up all of the squares of the elements in the list.\n",
    "\n",
    "Example:\n",
    "```sum_of_squares([1,3,5]) = 35 (1^2 + 3^2 + 5^2)```\n",
    "\n",
    "Please do the following:\n",
    "1. Write a function ```sum_of_squares_np(x_array)``` that uses numpy's built-in functions to do the same thing for a numpy array.\n",
    "2. Compare the speed of ```sum_of_squares``` to ```sum_of_squares_np```.  Is one noticeably faster than the other? "
   ]
  },
  {
   "cell_type": "markdown",
   "metadata": {},
   "source": [
    "## Old Function"
   ]
  },
  {
   "cell_type": "markdown",
   "metadata": {
    "ExecuteTime": {
     "end_time": "2020-09-18T20:39:01.653473Z",
     "start_time": "2020-09-18T20:39:01.647849Z"
    }
   },
   "source": [
    "```def sum_of_square(x_list):\n",
    "    y_list = sum([x*x for x in x_list])```"
   ]
  },
  {
   "cell_type": "markdown",
   "metadata": {
    "ExecuteTime": {
     "end_time": "2020-09-18T20:43:20.282774Z",
     "start_time": "2020-09-18T20:43:20.265260Z"
    }
   },
   "source": [
    "## New Function"
   ]
  },
  {
   "cell_type": "code",
   "execution_count": 1,
   "metadata": {
    "ExecuteTime": {
     "end_time": "2020-09-19T01:26:23.468229Z",
     "start_time": "2020-09-19T01:26:23.010134Z"
    }
   },
   "outputs": [],
   "source": [
    "import numpy as np"
   ]
  },
  {
   "cell_type": "code",
   "execution_count": 2,
   "metadata": {
    "ExecuteTime": {
     "end_time": "2020-09-19T01:26:23.487502Z",
     "start_time": "2020-09-19T01:26:23.476328Z"
    }
   },
   "outputs": [],
   "source": [
    "def sum_of_square_np(x_array):\n",
    "    \"\"\"\n",
    "    Input\n",
    "    -----\n",
    "    x_array : numpy array with values to square\n",
    "\n",
    "    Return\n",
    "    ------\n",
    "    sum_of_array : sum of numbers squared in array\n",
    "\n",
    "    Example\n",
    "    -------\n",
    "    sum_of_square_np([1,3,5]) = 35\n",
    "    \"\"\"\n",
    "    return sum(np.square(x_array))"
   ]
  },
  {
   "cell_type": "code",
   "execution_count": 3,
   "metadata": {
    "ExecuteTime": {
     "end_time": "2020-09-19T01:26:23.583578Z",
     "start_time": "2020-09-19T01:26:23.496043Z"
    }
   },
   "outputs": [
    {
     "data": {
      "text/plain": [
       "35"
      ]
     },
     "execution_count": 3,
     "metadata": {},
     "output_type": "execute_result"
    }
   ],
   "source": [
    "sum_of_square_np([1, 3, 5])"
   ]
  },
  {
   "cell_type": "markdown",
   "metadata": {},
   "source": [
    "## Speed Test"
   ]
  },
  {
   "cell_type": "markdown",
   "metadata": {},
   "source": [
    "#### Old Function"
   ]
  },
  {
   "cell_type": "code",
   "execution_count": 4,
   "metadata": {
    "ExecuteTime": {
     "end_time": "2020-09-19T01:26:23.695764Z",
     "start_time": "2020-09-19T01:26:23.615032Z"
    }
   },
   "outputs": [],
   "source": [
    "def sum_of_square(x_list):\n",
    "    y_list = sum([x * x for x in x_list])\n",
    "    return y_list"
   ]
  },
  {
   "cell_type": "code",
   "execution_count": 5,
   "metadata": {
    "ExecuteTime": {
     "end_time": "2020-09-19T01:26:23.725214Z",
     "start_time": "2020-09-19T01:26:23.700743Z"
    },
    "scrolled": true
   },
   "outputs": [
    {
     "name": "stdout",
     "output_type": "stream",
     "text": [
      "Wall time: 0 ns\n"
     ]
    },
    {
     "data": {
      "text/plain": [
       "35"
      ]
     },
     "execution_count": 5,
     "metadata": {},
     "output_type": "execute_result"
    }
   ],
   "source": [
    "%time sum_of_square([1, 3, 5])"
   ]
  },
  {
   "cell_type": "code",
   "execution_count": 6,
   "metadata": {
    "ExecuteTime": {
     "end_time": "2020-09-19T01:26:23.752190Z",
     "start_time": "2020-09-19T01:26:23.729471Z"
    },
    "scrolled": true
   },
   "outputs": [
    {
     "name": "stdout",
     "output_type": "stream",
     "text": [
      "Wall time: 0 ns\n"
     ]
    },
    {
     "data": {
      "text/plain": [
       "45063490"
      ]
     },
     "execution_count": 6,
     "metadata": {},
     "output_type": "execute_result"
    }
   ],
   "source": [
    "%time sum_of_square([1752, 3825, 5231])"
   ]
  },
  {
   "cell_type": "markdown",
   "metadata": {},
   "source": [
    "#### New Function"
   ]
  },
  {
   "cell_type": "code",
   "execution_count": 7,
   "metadata": {
    "ExecuteTime": {
     "end_time": "2020-09-19T01:26:23.780821Z",
     "start_time": "2020-09-19T01:26:23.758068Z"
    }
   },
   "outputs": [],
   "source": [
    "def sum_of_square_np(x_array):\n",
    "    \"\"\"\n",
    "    Input\n",
    "    -----\n",
    "    x_array : numpy array with values to square\n",
    "\n",
    "    Return\n",
    "    ------\n",
    "    sum_of_array : sum of numbers squared in array\n",
    "\n",
    "    Example\n",
    "    -------\n",
    "    sum_of_square_np([1,3,5]) = 35\n",
    "    \"\"\"\n",
    "    return sum(np.square(x_array))"
   ]
  },
  {
   "cell_type": "code",
   "execution_count": 8,
   "metadata": {
    "ExecuteTime": {
     "end_time": "2020-09-19T01:26:23.820672Z",
     "start_time": "2020-09-19T01:26:23.786666Z"
    }
   },
   "outputs": [
    {
     "name": "stdout",
     "output_type": "stream",
     "text": [
      "Wall time: 0 ns\n"
     ]
    },
    {
     "data": {
      "text/plain": [
       "35"
      ]
     },
     "execution_count": 8,
     "metadata": {},
     "output_type": "execute_result"
    }
   ],
   "source": [
    "%time sum_of_square_np([1, 3, 5])"
   ]
  },
  {
   "cell_type": "code",
   "execution_count": 9,
   "metadata": {
    "ExecuteTime": {
     "end_time": "2020-09-19T01:26:23.844790Z",
     "start_time": "2020-09-19T01:26:23.828453Z"
    }
   },
   "outputs": [
    {
     "name": "stdout",
     "output_type": "stream",
     "text": [
      "Wall time: 0 ns\n"
     ]
    },
    {
     "data": {
      "text/plain": [
       "45063490"
      ]
     },
     "execution_count": 9,
     "metadata": {},
     "output_type": "execute_result"
    }
   ],
   "source": [
    "%time sum_of_square_np([1752, 3825, 5231])"
   ]
  },
  {
   "cell_type": "markdown",
   "metadata": {},
   "source": [
    "## Answer"
   ]
  },
  {
   "cell_type": "markdown",
   "metadata": {},
   "source": [
    "From what I can tell, and for some reason I can't see speeds other than 'Wall time' when using `%time`, there is no noticeable difference in speed between the two functions.\n",
    "\n",
    "When I use the 'ExecuteTime' Jupyter notebook extension, I can see that the old function did take longer than the new function.\n",
    "\n",
    "Compared to the old function, the new function runs much quicker, although in the grand scheme of things the milliseconds of difference is not noticeable."
   ]
  },
  {
   "cell_type": "code",
   "execution_count": null,
   "metadata": {},
   "outputs": [],
   "source": []
  }
 ],
 "metadata": {
  "kernelspec": {
   "display_name": "Python 3",
   "language": "python",
   "name": "python3"
  },
  "language_info": {
   "codemirror_mode": {
    "name": "ipython",
    "version": 3
   },
   "file_extension": ".py",
   "mimetype": "text/x-python",
   "name": "python",
   "nbconvert_exporter": "python",
   "pygments_lexer": "ipython3",
   "version": "3.8.5"
  },
  "toc": {
   "base_numbering": 1,
   "nav_menu": {},
   "number_sections": false,
   "sideBar": true,
   "skip_h1_title": true,
   "title_cell": "Table of Contents",
   "title_sidebar": "Contents",
   "toc_cell": true,
   "toc_position": {},
   "toc_section_display": true,
   "toc_window_display": true
  }
 },
 "nbformat": 4,
 "nbformat_minor": 4
}
