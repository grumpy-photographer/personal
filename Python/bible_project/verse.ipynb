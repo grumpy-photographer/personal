{
 "cells": [
  {
   "cell_type": "code",
   "execution_count": 1,
   "metadata": {},
   "outputs": [],
   "source": [
    "import pandas as pd\n",
    "from getbibleverse import verse_lookup"
   ]
  },
  {
   "cell_type": "code",
   "execution_count": 18,
   "metadata": {},
   "outputs": [],
   "source": [
    "def store_verses(*passage):\n",
    "    \n",
    "    # create empty df to store verses\n",
    "    verses_df = pd.DataFrame(columns=[\"bookname\", \"chapter\", \"verse\", \"text\"])\n",
    "    df = pd.DataFrame([])\n",
    "    \n",
    "    # create empty list to store input separately\n",
    "    books = []\n",
    "    chapters = []\n",
    "    verses = []\n",
    "    \n",
    "    # break down input into separate lists\n",
    "    for entry in passage:\n",
    "        book, ch_ver = entry.split(\" \")\n",
    "        chapter, verse_range = ch_ver.split(\":\")\n",
    "        \n",
    "        books.append(book)\n",
    "        chapters.append(chapter)\n",
    "        verses.append(verse_range)\n",
    "        \n",
    "    for i in range(len(books)):\n",
    "        data = pd.json_normalize(verse_lookup(books[i], chapters[i], verses[i]))\n",
    "        verses_df = pd.concat([verses_df, data], ignore_index=True)\n",
    "        \n",
    "    df['book'] = verses_df[\"bookname\"].unique()\n",
    "    df['chapter'] = verses_df['chapter'].unique()\n",
    "    df['verses'] = [i for i in verses]\n",
    "    df['location'] = df[\"book\"] + \" \" + df[\"chapter\"] + \":\" + df[\"verses\"]\n",
    "    \n",
    "    # how do I get text\n",
    "    \n",
    "\n",
    "    return df"
   ]
  },
  {
   "cell_type": "code",
   "execution_count": 19,
   "metadata": {},
   "outputs": [
    {
     "data": {
      "text/html": [
       "<div>\n",
       "<style scoped>\n",
       "    .dataframe tbody tr th:only-of-type {\n",
       "        vertical-align: middle;\n",
       "    }\n",
       "\n",
       "    .dataframe tbody tr th {\n",
       "        vertical-align: top;\n",
       "    }\n",
       "\n",
       "    .dataframe thead th {\n",
       "        text-align: right;\n",
       "    }\n",
       "</style>\n",
       "<table border=\"1\" class=\"dataframe\">\n",
       "  <thead>\n",
       "    <tr style=\"text-align: right;\">\n",
       "      <th></th>\n",
       "      <th>book</th>\n",
       "      <th>chapter</th>\n",
       "      <th>verses</th>\n",
       "      <th>location</th>\n",
       "    </tr>\n",
       "  </thead>\n",
       "  <tbody>\n",
       "    <tr>\n",
       "      <th>0</th>\n",
       "      <td>Genesis</td>\n",
       "      <td>1</td>\n",
       "      <td>1-10</td>\n",
       "      <td>Genesis 1:1-10</td>\n",
       "    </tr>\n",
       "    <tr>\n",
       "      <th>1</th>\n",
       "      <td>Exodus</td>\n",
       "      <td>3</td>\n",
       "      <td>5-15</td>\n",
       "      <td>Exodus 3:5-15</td>\n",
       "    </tr>\n",
       "  </tbody>\n",
       "</table>\n",
       "</div>"
      ],
      "text/plain": [
       "      book chapter verses        location\n",
       "0  Genesis       1   1-10  Genesis 1:1-10\n",
       "1   Exodus       3   5-15   Exodus 3:5-15"
      ]
     },
     "execution_count": 19,
     "metadata": {},
     "output_type": "execute_result"
    }
   ],
   "source": [
    "store_verses(\"Genesis 1:1-10\", \"Exodus 3:5-15\")"
   ]
  },
  {
   "cell_type": "code",
   "execution_count": null,
   "metadata": {},
   "outputs": [],
   "source": []
  }
 ],
 "metadata": {
  "kernelspec": {
   "display_name": "Python 3 (ipykernel)",
   "language": "python",
   "name": "python3"
  },
  "language_info": {
   "codemirror_mode": {
    "name": "ipython",
    "version": 3
   },
   "file_extension": ".py",
   "mimetype": "text/x-python",
   "name": "python",
   "nbconvert_exporter": "python",
   "pygments_lexer": "ipython3",
   "version": "3.10.8"
  },
  "vscode": {
   "interpreter": {
    "hash": "9f0d103aebe82dfbb47ec724a2ca4fd3dcb0c9038207abb072b7913218171667"
   }
  }
 },
 "nbformat": 4,
 "nbformat_minor": 2
}
