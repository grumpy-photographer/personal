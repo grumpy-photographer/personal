{
 "cells": [
  {
   "cell_type": "markdown",
   "metadata": {},
   "source": [
    "# 3.2c Appending *pandas* Dataframes  \n",
    "\n",
    "1. [Get the Data into Dataframes](#1.-Get-the-Data-into-Dataframes)\n",
    "2. [Append the Dataframes](#2.-Append-the-Dataframes)   \n",
    "\n",
    "\n",
    "3. [Save the Appended Dataframe as a Pickle File](#3.-Save-the-Appended-Dataframe-as-a-Pickle-File)"
   ]
  },
  {
   "cell_type": "code",
   "execution_count": 58,
   "metadata": {},
   "outputs": [],
   "source": [
    "#Import pandas \n",
    "import pandas as pd"
   ]
  },
  {
   "cell_type": "markdown",
   "metadata": {},
   "source": [
    "# 1. Get the Data into Dataframes"
   ]
  },
  {
   "cell_type": "markdown",
   "metadata": {},
   "source": [
    "###  *mnth7_2011.csv*  \n",
    "\n",
    "- Filename:  mnth7_2011.csv\n",
    "- Number of Rows:   10\n",
    "- Number of Columns:   6"
   ]
  },
  {
   "cell_type": "code",
   "execution_count": 59,
   "metadata": {},
   "outputs": [],
   "source": [
    "#Read the csv file into a pandas dataframe\n",
    "#Note: This file is in the Data folder underneath this folder \n",
    "df_mnth7_2011 = pd.read_csv('Data//mnth7_2011.csv')"
   ]
  },
  {
   "cell_type": "code",
   "execution_count": 60,
   "metadata": {},
   "outputs": [
    {
     "name": "stdout",
     "output_type": "stream",
     "text": [
      "Filename:  mnth7_2011.csv\n",
      "Number of Rows:   10\n",
      "Number of Columns:   6\n"
     ]
    }
   ],
   "source": [
    "print(\"Filename:  mnth7_2011.csv\")\n",
    "print(\"Number of Rows:  \", df_mnth7_2011.shape[0])\n",
    "print(\"Number of Columns:  \", df_mnth7_2011.shape[1])"
   ]
  },
  {
   "cell_type": "code",
   "execution_count": 61,
   "metadata": {},
   "outputs": [
    {
     "data": {
      "text/html": [
       "<div>\n",
       "<style scoped>\n",
       "    .dataframe tbody tr th:only-of-type {\n",
       "        vertical-align: middle;\n",
       "    }\n",
       "\n",
       "    .dataframe tbody tr th {\n",
       "        vertical-align: top;\n",
       "    }\n",
       "\n",
       "    .dataframe thead th {\n",
       "        text-align: right;\n",
       "    }\n",
       "</style>\n",
       "<table border=\"1\" class=\"dataframe\">\n",
       "  <thead>\n",
       "    <tr style=\"text-align: right;\">\n",
       "      <th></th>\n",
       "      <th>Order_ID</th>\n",
       "      <th>Order_Type</th>\n",
       "      <th>Employee_ID</th>\n",
       "      <th>Customer_ID</th>\n",
       "      <th>Order_Date</th>\n",
       "      <th>Delivery_Date</th>\n",
       "    </tr>\n",
       "  </thead>\n",
       "  <tbody>\n",
       "    <tr>\n",
       "      <th>0</th>\n",
       "      <td>1242691897</td>\n",
       "      <td>2</td>\n",
       "      <td>99999999</td>\n",
       "      <td>90</td>\n",
       "      <td>02JUL2011</td>\n",
       "      <td>04JUL2011</td>\n",
       "    </tr>\n",
       "    <tr>\n",
       "      <th>1</th>\n",
       "      <td>1242736731</td>\n",
       "      <td>1</td>\n",
       "      <td>121107</td>\n",
       "      <td>10</td>\n",
       "      <td>07JUL2011</td>\n",
       "      <td>07JUL2011</td>\n",
       "    </tr>\n",
       "    <tr>\n",
       "      <th>2</th>\n",
       "      <td>1242773202</td>\n",
       "      <td>3</td>\n",
       "      <td>99999999</td>\n",
       "      <td>24</td>\n",
       "      <td>11JUL2011</td>\n",
       "      <td>14JUL2011</td>\n",
       "    </tr>\n",
       "  </tbody>\n",
       "</table>\n",
       "</div>"
      ],
      "text/plain": [
       "     Order_ID  Order_Type  Employee_ID  Customer_ID Order_Date Delivery_Date\n",
       "0  1242691897           2     99999999           90  02JUL2011     04JUL2011\n",
       "1  1242736731           1       121107           10  07JUL2011     07JUL2011\n",
       "2  1242773202           3     99999999           24  11JUL2011     14JUL2011"
      ]
     },
     "execution_count": 61,
     "metadata": {},
     "output_type": "execute_result"
    }
   ],
   "source": [
    "#Display the first three records/rows in the dataframe\n",
    "df_mnth7_2011.head(3)"
   ]
  },
  {
   "cell_type": "markdown",
   "metadata": {},
   "source": [
    "###  *mnth8_2011.csv*  \n",
    "\n",
    "\n",
    "- Filename:  mnth8_2011.csv\n",
    "- Number of Rows:   12\n",
    "- Number of Columns:   6"
   ]
  },
  {
   "cell_type": "code",
   "execution_count": 62,
   "metadata": {},
   "outputs": [],
   "source": [
    "# mnth8_2011.csv\n",
    "\n",
    "#Read the csv file into a pandas dataframe\n",
    "#Note: This file is in the Data folder underneath this folder \n",
    "df_mnth8_2011 = pd.read_csv('Data//mnth8_2011.csv')"
   ]
  },
  {
   "cell_type": "code",
   "execution_count": 63,
   "metadata": {},
   "outputs": [
    {
     "name": "stdout",
     "output_type": "stream",
     "text": [
      "Filename:  mnth8_2011.csv\n",
      "Number of Rows:   12\n",
      "Number of Columns:   6\n"
     ]
    }
   ],
   "source": [
    "print(\"Filename:  mnth8_2011.csv\")\n",
    "print(\"Number of Rows:  \", df_mnth8_2011.shape[0])\n",
    "print(\"Number of Columns:  \", df_mnth8_2011.shape[1])"
   ]
  },
  {
   "cell_type": "code",
   "execution_count": 64,
   "metadata": {},
   "outputs": [
    {
     "data": {
      "text/html": [
       "<div>\n",
       "<style scoped>\n",
       "    .dataframe tbody tr th:only-of-type {\n",
       "        vertical-align: middle;\n",
       "    }\n",
       "\n",
       "    .dataframe tbody tr th {\n",
       "        vertical-align: top;\n",
       "    }\n",
       "\n",
       "    .dataframe thead th {\n",
       "        text-align: right;\n",
       "    }\n",
       "</style>\n",
       "<table border=\"1\" class=\"dataframe\">\n",
       "  <thead>\n",
       "    <tr style=\"text-align: right;\">\n",
       "      <th></th>\n",
       "      <th>Order_ID</th>\n",
       "      <th>Order_Type</th>\n",
       "      <th>Employee_ID</th>\n",
       "      <th>Customer_ID</th>\n",
       "      <th>Order_Date</th>\n",
       "      <th>Delivery_Date</th>\n",
       "    </tr>\n",
       "  </thead>\n",
       "  <tbody>\n",
       "    <tr>\n",
       "      <th>0</th>\n",
       "      <td>1242977743</td>\n",
       "      <td>2</td>\n",
       "      <td>99999999</td>\n",
       "      <td>65</td>\n",
       "      <td>03AUG2011</td>\n",
       "      <td>07AUG2011</td>\n",
       "    </tr>\n",
       "    <tr>\n",
       "      <th>1</th>\n",
       "      <td>1243012144</td>\n",
       "      <td>2</td>\n",
       "      <td>99999999</td>\n",
       "      <td>2806</td>\n",
       "      <td>06AUG2011</td>\n",
       "      <td>10AUG2011</td>\n",
       "    </tr>\n",
       "  </tbody>\n",
       "</table>\n",
       "</div>"
      ],
      "text/plain": [
       "     Order_ID  Order_Type  Employee_ID  Customer_ID Order_Date Delivery_Date\n",
       "0  1242977743           2     99999999           65  03AUG2011     07AUG2011\n",
       "1  1243012144           2     99999999         2806  06AUG2011     10AUG2011"
      ]
     },
     "execution_count": 64,
     "metadata": {},
     "output_type": "execute_result"
    }
   ],
   "source": [
    "#Display the first two rows in the dataframe\n",
    "df_mnth8_2011.head(2)"
   ]
  },
  {
   "cell_type": "markdown",
   "metadata": {},
   "source": [
    "## Display top two rows of the two dataframes we will append"
   ]
  },
  {
   "cell_type": "code",
   "execution_count": 65,
   "metadata": {
    "scrolled": true
   },
   "outputs": [
    {
     "data": {
      "text/html": [
       "<div>\n",
       "<style scoped>\n",
       "    .dataframe tbody tr th:only-of-type {\n",
       "        vertical-align: middle;\n",
       "    }\n",
       "\n",
       "    .dataframe tbody tr th {\n",
       "        vertical-align: top;\n",
       "    }\n",
       "\n",
       "    .dataframe thead th {\n",
       "        text-align: right;\n",
       "    }\n",
       "</style>\n",
       "<table border=\"1\" class=\"dataframe\">\n",
       "  <thead>\n",
       "    <tr style=\"text-align: right;\">\n",
       "      <th></th>\n",
       "      <th>Order_ID</th>\n",
       "      <th>Order_Type</th>\n",
       "      <th>Employee_ID</th>\n",
       "      <th>Customer_ID</th>\n",
       "      <th>Order_Date</th>\n",
       "      <th>Delivery_Date</th>\n",
       "    </tr>\n",
       "  </thead>\n",
       "  <tbody>\n",
       "    <tr>\n",
       "      <th>0</th>\n",
       "      <td>1242691897</td>\n",
       "      <td>2</td>\n",
       "      <td>99999999</td>\n",
       "      <td>90</td>\n",
       "      <td>02JUL2011</td>\n",
       "      <td>04JUL2011</td>\n",
       "    </tr>\n",
       "    <tr>\n",
       "      <th>1</th>\n",
       "      <td>1242736731</td>\n",
       "      <td>1</td>\n",
       "      <td>121107</td>\n",
       "      <td>10</td>\n",
       "      <td>07JUL2011</td>\n",
       "      <td>07JUL2011</td>\n",
       "    </tr>\n",
       "  </tbody>\n",
       "</table>\n",
       "</div>"
      ],
      "text/plain": [
       "     Order_ID  Order_Type  Employee_ID  Customer_ID Order_Date Delivery_Date\n",
       "0  1242691897           2     99999999           90  02JUL2011     04JUL2011\n",
       "1  1242736731           1       121107           10  07JUL2011     07JUL2011"
      ]
     },
     "execution_count": 65,
     "metadata": {},
     "output_type": "execute_result"
    }
   ],
   "source": [
    "# Display the first two rows of the first dataframe to append\n",
    "df_mnth7_2011.head(2)"
   ]
  },
  {
   "cell_type": "code",
   "execution_count": 66,
   "metadata": {},
   "outputs": [
    {
     "data": {
      "text/html": [
       "<div>\n",
       "<style scoped>\n",
       "    .dataframe tbody tr th:only-of-type {\n",
       "        vertical-align: middle;\n",
       "    }\n",
       "\n",
       "    .dataframe tbody tr th {\n",
       "        vertical-align: top;\n",
       "    }\n",
       "\n",
       "    .dataframe thead th {\n",
       "        text-align: right;\n",
       "    }\n",
       "</style>\n",
       "<table border=\"1\" class=\"dataframe\">\n",
       "  <thead>\n",
       "    <tr style=\"text-align: right;\">\n",
       "      <th></th>\n",
       "      <th>Order_ID</th>\n",
       "      <th>Order_Type</th>\n",
       "      <th>Employee_ID</th>\n",
       "      <th>Customer_ID</th>\n",
       "      <th>Order_Date</th>\n",
       "      <th>Delivery_Date</th>\n",
       "    </tr>\n",
       "  </thead>\n",
       "  <tbody>\n",
       "    <tr>\n",
       "      <th>0</th>\n",
       "      <td>1242977743</td>\n",
       "      <td>2</td>\n",
       "      <td>99999999</td>\n",
       "      <td>65</td>\n",
       "      <td>03AUG2011</td>\n",
       "      <td>07AUG2011</td>\n",
       "    </tr>\n",
       "    <tr>\n",
       "      <th>1</th>\n",
       "      <td>1243012144</td>\n",
       "      <td>2</td>\n",
       "      <td>99999999</td>\n",
       "      <td>2806</td>\n",
       "      <td>06AUG2011</td>\n",
       "      <td>10AUG2011</td>\n",
       "    </tr>\n",
       "  </tbody>\n",
       "</table>\n",
       "</div>"
      ],
      "text/plain": [
       "     Order_ID  Order_Type  Employee_ID  Customer_ID Order_Date Delivery_Date\n",
       "0  1242977743           2     99999999           65  03AUG2011     07AUG2011\n",
       "1  1243012144           2     99999999         2806  06AUG2011     10AUG2011"
      ]
     },
     "execution_count": 66,
     "metadata": {},
     "output_type": "execute_result"
    }
   ],
   "source": [
    "# Display the first two rows of the second dataframe to append\n",
    "df_mnth8_2011.head(2)"
   ]
  },
  {
   "cell_type": "markdown",
   "metadata": {},
   "source": [
    "# 2. Append the Dataframes"
   ]
  },
  {
   "cell_type": "markdown",
   "metadata": {},
   "source": [
    "### Append df_mnth8_2011 to df_mnth7_2011  \n",
    "After appending should end up with:  \n",
    "- Number of Rows:   10 + 12 = 22  \n",
    "- Number of Columns:   6"
   ]
  },
  {
   "cell_type": "code",
   "execution_count": 73,
   "metadata": {},
   "outputs": [],
   "source": [
    "# Append df_mnth8_2011 to df_mnth7_2011\n",
    "df_Appended_8_2011 = df_mnth7_2011.append(df_mnth8_2011, ignore_index=True)"
   ]
  },
  {
   "cell_type": "code",
   "execution_count": 74,
   "metadata": {},
   "outputs": [
    {
     "name": "stdout",
     "output_type": "stream",
     "text": [
      "Dataframe:  df_Appended_8_2011\n",
      "Number of Rows:   22\n",
      "Number of Columns:   6\n"
     ]
    }
   ],
   "source": [
    "# Append check for df_Appended_8_2011\n",
    "print(\"Dataframe:  df_Appended_8_2011\")\n",
    "print(\"Number of Rows:  \", df_Appended_8_2011.shape[0])\n",
    "print(\"Number of Columns:  \", df_Appended_8_2011.shape[1])"
   ]
  },
  {
   "cell_type": "code",
   "execution_count": 75,
   "metadata": {},
   "outputs": [
    {
     "data": {
      "text/html": [
       "<div>\n",
       "<style scoped>\n",
       "    .dataframe tbody tr th:only-of-type {\n",
       "        vertical-align: middle;\n",
       "    }\n",
       "\n",
       "    .dataframe tbody tr th {\n",
       "        vertical-align: top;\n",
       "    }\n",
       "\n",
       "    .dataframe thead th {\n",
       "        text-align: right;\n",
       "    }\n",
       "</style>\n",
       "<table border=\"1\" class=\"dataframe\">\n",
       "  <thead>\n",
       "    <tr style=\"text-align: right;\">\n",
       "      <th></th>\n",
       "      <th>Order_ID</th>\n",
       "      <th>Order_Type</th>\n",
       "      <th>Employee_ID</th>\n",
       "      <th>Customer_ID</th>\n",
       "      <th>Order_Date</th>\n",
       "      <th>Delivery_Date</th>\n",
       "    </tr>\n",
       "  </thead>\n",
       "  <tbody>\n",
       "    <tr>\n",
       "      <th>0</th>\n",
       "      <td>1242691897</td>\n",
       "      <td>2</td>\n",
       "      <td>99999999</td>\n",
       "      <td>90</td>\n",
       "      <td>02JUL2011</td>\n",
       "      <td>04JUL2011</td>\n",
       "    </tr>\n",
       "    <tr>\n",
       "      <th>1</th>\n",
       "      <td>1242736731</td>\n",
       "      <td>1</td>\n",
       "      <td>121107</td>\n",
       "      <td>10</td>\n",
       "      <td>07JUL2011</td>\n",
       "      <td>07JUL2011</td>\n",
       "    </tr>\n",
       "    <tr>\n",
       "      <th>2</th>\n",
       "      <td>1242773202</td>\n",
       "      <td>3</td>\n",
       "      <td>99999999</td>\n",
       "      <td>24</td>\n",
       "      <td>11JUL2011</td>\n",
       "      <td>14JUL2011</td>\n",
       "    </tr>\n",
       "    <tr>\n",
       "      <th>3</th>\n",
       "      <td>1242782701</td>\n",
       "      <td>3</td>\n",
       "      <td>99999999</td>\n",
       "      <td>27</td>\n",
       "      <td>12JUL2011</td>\n",
       "      <td>17JUL2011</td>\n",
       "    </tr>\n",
       "    <tr>\n",
       "      <th>4</th>\n",
       "      <td>1242827683</td>\n",
       "      <td>1</td>\n",
       "      <td>121105</td>\n",
       "      <td>10</td>\n",
       "      <td>17JUL2011</td>\n",
       "      <td>17JUL2011</td>\n",
       "    </tr>\n",
       "  </tbody>\n",
       "</table>\n",
       "</div>"
      ],
      "text/plain": [
       "     Order_ID  Order_Type  Employee_ID  Customer_ID Order_Date Delivery_Date\n",
       "0  1242691897           2     99999999           90  02JUL2011     04JUL2011\n",
       "1  1242736731           1       121107           10  07JUL2011     07JUL2011\n",
       "2  1242773202           3     99999999           24  11JUL2011     14JUL2011\n",
       "3  1242782701           3     99999999           27  12JUL2011     17JUL2011\n",
       "4  1242827683           1       121105           10  17JUL2011     17JUL2011"
      ]
     },
     "execution_count": 75,
     "metadata": {},
     "output_type": "execute_result"
    }
   ],
   "source": [
    "df_Appended_8_2011.head()"
   ]
  },
  {
   "cell_type": "markdown",
   "metadata": {},
   "source": [
    "# 3. Save the Appended Dataframe as a Pickle File"
   ]
  },
  {
   "cell_type": "code",
   "execution_count": 78,
   "metadata": {},
   "outputs": [],
   "source": [
    "# Save the Appended Dataframe as a Pickle file\n",
    "import pickle\n",
    "\n",
    "# Save the df dataframe as a pickle file in the Data folder\n",
    "df_Appended_8_2011.to_pickle('./Data/df_Appended_8_2011.pkl')"
   ]
  },
  {
   "cell_type": "code",
   "execution_count": 79,
   "metadata": {},
   "outputs": [
    {
     "name": "stdout",
     "output_type": "stream",
     "text": [
      "Dataframe:  df_pickle_test\n",
      "Number of Rows:   22\n",
      "Number of Columns:   6\n"
     ]
    }
   ],
   "source": [
    "# Check that the pickle files has the correct number of rows and columns\n",
    "\n",
    "# Read (unpickle) the saved pickle data frame \n",
    "df_pickle_test = pd.read_pickle('Appended_8_2011.pkl')\n",
    "\n",
    "# Append check pickle file\n",
    "print(\"Dataframe:  df_pickle_test\")\n",
    "print(\"Number of Rows:  \", df_pickle_test.shape[0])\n",
    "print(\"Number of Columns:  \", df_pickle_test.shape[1])"
   ]
  }
 ],
 "metadata": {
  "kernelspec": {
   "display_name": "Python 3",
   "language": "python",
   "name": "python3"
  },
  "language_info": {
   "codemirror_mode": {
    "name": "ipython",
    "version": 3
   },
   "file_extension": ".py",
   "mimetype": "text/x-python",
   "name": "python",
   "nbconvert_exporter": "python",
   "pygments_lexer": "ipython3",
   "version": "3.7.0"
  }
 },
 "nbformat": 4,
 "nbformat_minor": 2
}
