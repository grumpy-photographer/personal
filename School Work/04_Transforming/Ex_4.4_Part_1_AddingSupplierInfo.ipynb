{
 "cells": [
  {
   "cell_type": "markdown",
   "metadata": {},
   "source": [
    "\n",
    "# 4.4 Left Join Template\n",
    "\n",
    "1. [Identify the *Left* Table](#1.-Identify-the-Left-Table)    \n",
    "2. [Identify the *Right* Table](#2.-Identify-the-Right-Table)   \n",
    "3. [Identify the *Merge* Field/Column](#3.-Identify-the-Merge-Field)   \n",
    "4. [Merge the Two Dataframes](#4.-Merge-the-Two-Dataframes)  \n",
    "5. [Verify that the Merge is Correct](#5.-Verify-that-the-Merge-is-Correct)  \n",
    "6. [Save the Merged Dataframe as a Pickle File](#6.-Save-the-Merged-Dataframe-as-a-Pickle-File)"
   ]
  },
  {
   "cell_type": "code",
   "execution_count": 1,
   "metadata": {},
   "outputs": [],
   "source": [
    "import pandas as pd\n",
    "import pickle"
   ]
  },
  {
   "cell_type": "markdown",
   "metadata": {},
   "source": [
    "# 1. Identify the Left Table  \n",
    "\n",
    "### Questions to answer:  \n",
    "1. What is the Left Table? Products-Categories\n",
    "1. Why is this the Left table/data set?  This is the left data set because we are adding a new sheet to this data.\n",
    "\n",
    "2. Number of Rows: 77 \n",
    "3. Number of Columns:  6"
   ]
  },
  {
   "cell_type": "code",
   "execution_count": 2,
   "metadata": {},
   "outputs": [],
   "source": [
    "file = './Data/Ex_4.4_InClass_Merge.pkl'"
   ]
  },
  {
   "cell_type": "code",
   "execution_count": 3,
   "metadata": {},
   "outputs": [],
   "source": [
    "# Read the Left Table data into a dataframe named: df_Left\n",
    "df_Left = pd.read_pickle(file)"
   ]
  },
  {
   "cell_type": "code",
   "execution_count": 4,
   "metadata": {},
   "outputs": [
    {
     "data": {
      "text/html": [
       "<div>\n",
       "<style scoped>\n",
       "    .dataframe tbody tr th:only-of-type {\n",
       "        vertical-align: middle;\n",
       "    }\n",
       "\n",
       "    .dataframe tbody tr th {\n",
       "        vertical-align: top;\n",
       "    }\n",
       "\n",
       "    .dataframe thead th {\n",
       "        text-align: right;\n",
       "    }\n",
       "</style>\n",
       "<table border=\"1\" class=\"dataframe\">\n",
       "  <thead>\n",
       "    <tr style=\"text-align: right;\">\n",
       "      <th></th>\n",
       "      <th>ProductID</th>\n",
       "      <th>ProductName</th>\n",
       "      <th>SupplierID</th>\n",
       "      <th>CategoryID</th>\n",
       "      <th>Unit</th>\n",
       "      <th>Price</th>\n",
       "      <th>CategoryName</th>\n",
       "      <th>Description</th>\n",
       "    </tr>\n",
       "  </thead>\n",
       "  <tbody>\n",
       "    <tr>\n",
       "      <th>0</th>\n",
       "      <td>1</td>\n",
       "      <td>Chais</td>\n",
       "      <td>1</td>\n",
       "      <td>1</td>\n",
       "      <td>10 boxes x 20 bags</td>\n",
       "      <td>18.00</td>\n",
       "      <td>Beverages</td>\n",
       "      <td>Soft drinks, coffees, teas, beers, and ales</td>\n",
       "    </tr>\n",
       "    <tr>\n",
       "      <th>1</th>\n",
       "      <td>2</td>\n",
       "      <td>Chang</td>\n",
       "      <td>1</td>\n",
       "      <td>1</td>\n",
       "      <td>24 - 12 oz bottles</td>\n",
       "      <td>19.00</td>\n",
       "      <td>Beverages</td>\n",
       "      <td>Soft drinks, coffees, teas, beers, and ales</td>\n",
       "    </tr>\n",
       "    <tr>\n",
       "      <th>2</th>\n",
       "      <td>3</td>\n",
       "      <td>Aniseed Syrup</td>\n",
       "      <td>1</td>\n",
       "      <td>2</td>\n",
       "      <td>12 - 550 ml bottles</td>\n",
       "      <td>10.00</td>\n",
       "      <td>Condiments</td>\n",
       "      <td>Sweet and savory sauces, relishes, spreads, an...</td>\n",
       "    </tr>\n",
       "    <tr>\n",
       "      <th>3</th>\n",
       "      <td>4</td>\n",
       "      <td>Chef Anton's Cajun Seasoning</td>\n",
       "      <td>2</td>\n",
       "      <td>2</td>\n",
       "      <td>48 - 6 oz jars</td>\n",
       "      <td>22.00</td>\n",
       "      <td>Condiments</td>\n",
       "      <td>Sweet and savory sauces, relishes, spreads, an...</td>\n",
       "    </tr>\n",
       "    <tr>\n",
       "      <th>4</th>\n",
       "      <td>5</td>\n",
       "      <td>Chef Anton's Gumbo Mix</td>\n",
       "      <td>2</td>\n",
       "      <td>2</td>\n",
       "      <td>36 boxes</td>\n",
       "      <td>21.35</td>\n",
       "      <td>Condiments</td>\n",
       "      <td>Sweet and savory sauces, relishes, spreads, an...</td>\n",
       "    </tr>\n",
       "  </tbody>\n",
       "</table>\n",
       "</div>"
      ],
      "text/plain": [
       "   ProductID                   ProductName  SupplierID  CategoryID  \\\n",
       "0          1                         Chais           1           1   \n",
       "1          2                         Chang           1           1   \n",
       "2          3                 Aniseed Syrup           1           2   \n",
       "3          4  Chef Anton's Cajun Seasoning           2           2   \n",
       "4          5        Chef Anton's Gumbo Mix           2           2   \n",
       "\n",
       "                  Unit  Price CategoryName  \\\n",
       "0   10 boxes x 20 bags  18.00    Beverages   \n",
       "1   24 - 12 oz bottles  19.00    Beverages   \n",
       "2  12 - 550 ml bottles  10.00   Condiments   \n",
       "3       48 - 6 oz jars  22.00   Condiments   \n",
       "4             36 boxes  21.35   Condiments   \n",
       "\n",
       "                                         Description  \n",
       "0        Soft drinks, coffees, teas, beers, and ales  \n",
       "1        Soft drinks, coffees, teas, beers, and ales  \n",
       "2  Sweet and savory sauces, relishes, spreads, an...  \n",
       "3  Sweet and savory sauces, relishes, spreads, an...  \n",
       "4  Sweet and savory sauces, relishes, spreads, an...  "
      ]
     },
     "execution_count": 4,
     "metadata": {},
     "output_type": "execute_result"
    }
   ],
   "source": [
    "# Display the first rows in the dataframe\n",
    "df_Left.head()"
   ]
  },
  {
   "cell_type": "code",
   "execution_count": 5,
   "metadata": {},
   "outputs": [
    {
     "name": "stdout",
     "output_type": "stream",
     "text": [
      "Number of Rows in the Left dataframe:   77\n",
      "Number of Columns in Left dataframe:   8\n"
     ]
    }
   ],
   "source": [
    "print(\"Number of Rows in the Left dataframe:  \", df_Left.shape[0])\n",
    "print(\"Number of Columns in Left dataframe:  \", df_Left.shape[1])"
   ]
  },
  {
   "cell_type": "markdown",
   "metadata": {},
   "source": [
    "# 2. Identify the Right Table  \n",
    "\n",
    "### Questions to answer:  \n",
    "1. What is the Right Table? Suppliers\n",
    "1. Why is this the Right table/data set?  This is the right data set because we are adding this data into the Products-Categories sheet.\n",
    "2. What columns does it contain that we want to add to the columns in the Left table/dataframe?  SupplierName, ContactName, Address, City, PostalCode, Country, Phone\n",
    "2. Number of Rows:  29   \n",
    "3. Number of Columns:  8"
   ]
  },
  {
   "cell_type": "code",
   "execution_count": 6,
   "metadata": {},
   "outputs": [],
   "source": [
    "file = 'Data//w3schools_Data.xlsx'"
   ]
  },
  {
   "cell_type": "code",
   "execution_count": 7,
   "metadata": {},
   "outputs": [],
   "source": [
    "# Read the Right Table data into a dataframe named: df_Right\n",
    "df_Right = pd.read_excel(file, 'Suppliers')"
   ]
  },
  {
   "cell_type": "code",
   "execution_count": 8,
   "metadata": {},
   "outputs": [
    {
     "data": {
      "text/html": [
       "<div>\n",
       "<style scoped>\n",
       "    .dataframe tbody tr th:only-of-type {\n",
       "        vertical-align: middle;\n",
       "    }\n",
       "\n",
       "    .dataframe tbody tr th {\n",
       "        vertical-align: top;\n",
       "    }\n",
       "\n",
       "    .dataframe thead th {\n",
       "        text-align: right;\n",
       "    }\n",
       "</style>\n",
       "<table border=\"1\" class=\"dataframe\">\n",
       "  <thead>\n",
       "    <tr style=\"text-align: right;\">\n",
       "      <th></th>\n",
       "      <th>SupplierID</th>\n",
       "      <th>SupplierName</th>\n",
       "      <th>ContactName</th>\n",
       "      <th>Address</th>\n",
       "      <th>City</th>\n",
       "      <th>PostalCode</th>\n",
       "      <th>Country</th>\n",
       "      <th>Phone</th>\n",
       "    </tr>\n",
       "  </thead>\n",
       "  <tbody>\n",
       "    <tr>\n",
       "      <th>0</th>\n",
       "      <td>1</td>\n",
       "      <td>Exotic Liquid</td>\n",
       "      <td>Charlotte Cooper</td>\n",
       "      <td>49 Gilbert St.</td>\n",
       "      <td>Londona</td>\n",
       "      <td>EC1 4SD</td>\n",
       "      <td>UK</td>\n",
       "      <td>(171) 555-2222</td>\n",
       "    </tr>\n",
       "    <tr>\n",
       "      <th>1</th>\n",
       "      <td>2</td>\n",
       "      <td>New Orleans Cajun Delights</td>\n",
       "      <td>Shelley Burke</td>\n",
       "      <td>P.O. Box 78934</td>\n",
       "      <td>New Orleans</td>\n",
       "      <td>70117</td>\n",
       "      <td>USA</td>\n",
       "      <td>(100) 555-4822</td>\n",
       "    </tr>\n",
       "    <tr>\n",
       "      <th>2</th>\n",
       "      <td>3</td>\n",
       "      <td>Grandma Kelly's Homestead</td>\n",
       "      <td>Regina Murphy</td>\n",
       "      <td>707 Oxford Rd.</td>\n",
       "      <td>Ann Arbor</td>\n",
       "      <td>48104</td>\n",
       "      <td>USA</td>\n",
       "      <td>(313) 555-5735</td>\n",
       "    </tr>\n",
       "    <tr>\n",
       "      <th>3</th>\n",
       "      <td>4</td>\n",
       "      <td>Tokyo Traders</td>\n",
       "      <td>Yoshi Nagase</td>\n",
       "      <td>9-8 Sekimai Musashino-shi</td>\n",
       "      <td>Tokyo</td>\n",
       "      <td>100</td>\n",
       "      <td>Japan</td>\n",
       "      <td>(03) 3555-5011</td>\n",
       "    </tr>\n",
       "    <tr>\n",
       "      <th>4</th>\n",
       "      <td>5</td>\n",
       "      <td>Cooperativa de Quesos 'Las Cabras'</td>\n",
       "      <td>Antonio del Valle Saavedra</td>\n",
       "      <td>Calle del Rosal 4</td>\n",
       "      <td>Oviedo</td>\n",
       "      <td>33007</td>\n",
       "      <td>Spain</td>\n",
       "      <td>(98) 598 76 54</td>\n",
       "    </tr>\n",
       "  </tbody>\n",
       "</table>\n",
       "</div>"
      ],
      "text/plain": [
       "   SupplierID                        SupplierName                 ContactName  \\\n",
       "0           1                       Exotic Liquid            Charlotte Cooper   \n",
       "1           2          New Orleans Cajun Delights               Shelley Burke   \n",
       "2           3           Grandma Kelly's Homestead               Regina Murphy   \n",
       "3           4                       Tokyo Traders                Yoshi Nagase   \n",
       "4           5  Cooperativa de Quesos 'Las Cabras'  Antonio del Valle Saavedra   \n",
       "\n",
       "                     Address         City PostalCode Country           Phone  \n",
       "0             49 Gilbert St.      Londona    EC1 4SD      UK  (171) 555-2222  \n",
       "1             P.O. Box 78934  New Orleans      70117     USA  (100) 555-4822  \n",
       "2             707 Oxford Rd.    Ann Arbor      48104     USA  (313) 555-5735  \n",
       "3  9-8 Sekimai Musashino-shi        Tokyo        100   Japan  (03) 3555-5011  \n",
       "4          Calle del Rosal 4       Oviedo      33007   Spain  (98) 598 76 54  "
      ]
     },
     "execution_count": 8,
     "metadata": {},
     "output_type": "execute_result"
    }
   ],
   "source": [
    "# Display the first rows in the dataframe\n",
    "df_Right.head()"
   ]
  },
  {
   "cell_type": "code",
   "execution_count": 9,
   "metadata": {},
   "outputs": [
    {
     "name": "stdout",
     "output_type": "stream",
     "text": [
      "Number of Rows in the Right dataframe:   29\n",
      "Number of Columns in Right dataframe:   8\n"
     ]
    }
   ],
   "source": [
    "print(\"Number of Rows in the Right dataframe:  \", df_Right.shape[0])\n",
    "print(\"Number of Columns in Right dataframe:  \", df_Right.shape[1])"
   ]
  },
  {
   "cell_type": "markdown",
   "metadata": {},
   "source": [
    "# 3. Identify the Merge Field  \n",
    "\n",
    "Questions to answer:  \n",
    "1. What is the Merge Column?  SupplierID\n",
    "2. Is this Merge Column in both dataframes? This is the merge column for both dataframes. \n",
    "3. Why is this the correct Merge Column? This is the merge column because it is a similar field between both dataframes."
   ]
  },
  {
   "cell_type": "markdown",
   "metadata": {},
   "source": [
    "# 4. Merge the Two Dataframes "
   ]
  },
  {
   "cell_type": "code",
   "execution_count": 14,
   "metadata": {},
   "outputs": [],
   "source": [
    "# Create a new Dataframe from a Left Join of two existing dataframes\n",
    "df_left_join = pd.merge(df_Left, df_Right, on='SupplierID', how='left')"
   ]
  },
  {
   "cell_type": "code",
   "execution_count": 15,
   "metadata": {},
   "outputs": [
    {
     "data": {
      "text/html": [
       "<div>\n",
       "<style scoped>\n",
       "    .dataframe tbody tr th:only-of-type {\n",
       "        vertical-align: middle;\n",
       "    }\n",
       "\n",
       "    .dataframe tbody tr th {\n",
       "        vertical-align: top;\n",
       "    }\n",
       "\n",
       "    .dataframe thead th {\n",
       "        text-align: right;\n",
       "    }\n",
       "</style>\n",
       "<table border=\"1\" class=\"dataframe\">\n",
       "  <thead>\n",
       "    <tr style=\"text-align: right;\">\n",
       "      <th></th>\n",
       "      <th>ProductID</th>\n",
       "      <th>ProductName</th>\n",
       "      <th>SupplierID</th>\n",
       "      <th>CategoryID</th>\n",
       "      <th>Unit</th>\n",
       "      <th>Price</th>\n",
       "      <th>CategoryName</th>\n",
       "      <th>Description</th>\n",
       "      <th>SupplierName</th>\n",
       "      <th>ContactName</th>\n",
       "      <th>Address</th>\n",
       "      <th>City</th>\n",
       "      <th>PostalCode</th>\n",
       "      <th>Country</th>\n",
       "      <th>Phone</th>\n",
       "    </tr>\n",
       "  </thead>\n",
       "  <tbody>\n",
       "    <tr>\n",
       "      <th>0</th>\n",
       "      <td>1</td>\n",
       "      <td>Chais</td>\n",
       "      <td>1</td>\n",
       "      <td>1</td>\n",
       "      <td>10 boxes x 20 bags</td>\n",
       "      <td>18.00</td>\n",
       "      <td>Beverages</td>\n",
       "      <td>Soft drinks, coffees, teas, beers, and ales</td>\n",
       "      <td>Exotic Liquid</td>\n",
       "      <td>Charlotte Cooper</td>\n",
       "      <td>49 Gilbert St.</td>\n",
       "      <td>Londona</td>\n",
       "      <td>EC1 4SD</td>\n",
       "      <td>UK</td>\n",
       "      <td>(171) 555-2222</td>\n",
       "    </tr>\n",
       "    <tr>\n",
       "      <th>1</th>\n",
       "      <td>2</td>\n",
       "      <td>Chang</td>\n",
       "      <td>1</td>\n",
       "      <td>1</td>\n",
       "      <td>24 - 12 oz bottles</td>\n",
       "      <td>19.00</td>\n",
       "      <td>Beverages</td>\n",
       "      <td>Soft drinks, coffees, teas, beers, and ales</td>\n",
       "      <td>Exotic Liquid</td>\n",
       "      <td>Charlotte Cooper</td>\n",
       "      <td>49 Gilbert St.</td>\n",
       "      <td>Londona</td>\n",
       "      <td>EC1 4SD</td>\n",
       "      <td>UK</td>\n",
       "      <td>(171) 555-2222</td>\n",
       "    </tr>\n",
       "    <tr>\n",
       "      <th>2</th>\n",
       "      <td>3</td>\n",
       "      <td>Aniseed Syrup</td>\n",
       "      <td>1</td>\n",
       "      <td>2</td>\n",
       "      <td>12 - 550 ml bottles</td>\n",
       "      <td>10.00</td>\n",
       "      <td>Condiments</td>\n",
       "      <td>Sweet and savory sauces, relishes, spreads, an...</td>\n",
       "      <td>Exotic Liquid</td>\n",
       "      <td>Charlotte Cooper</td>\n",
       "      <td>49 Gilbert St.</td>\n",
       "      <td>Londona</td>\n",
       "      <td>EC1 4SD</td>\n",
       "      <td>UK</td>\n",
       "      <td>(171) 555-2222</td>\n",
       "    </tr>\n",
       "    <tr>\n",
       "      <th>3</th>\n",
       "      <td>4</td>\n",
       "      <td>Chef Anton's Cajun Seasoning</td>\n",
       "      <td>2</td>\n",
       "      <td>2</td>\n",
       "      <td>48 - 6 oz jars</td>\n",
       "      <td>22.00</td>\n",
       "      <td>Condiments</td>\n",
       "      <td>Sweet and savory sauces, relishes, spreads, an...</td>\n",
       "      <td>New Orleans Cajun Delights</td>\n",
       "      <td>Shelley Burke</td>\n",
       "      <td>P.O. Box 78934</td>\n",
       "      <td>New Orleans</td>\n",
       "      <td>70117</td>\n",
       "      <td>USA</td>\n",
       "      <td>(100) 555-4822</td>\n",
       "    </tr>\n",
       "    <tr>\n",
       "      <th>4</th>\n",
       "      <td>5</td>\n",
       "      <td>Chef Anton's Gumbo Mix</td>\n",
       "      <td>2</td>\n",
       "      <td>2</td>\n",
       "      <td>36 boxes</td>\n",
       "      <td>21.35</td>\n",
       "      <td>Condiments</td>\n",
       "      <td>Sweet and savory sauces, relishes, spreads, an...</td>\n",
       "      <td>New Orleans Cajun Delights</td>\n",
       "      <td>Shelley Burke</td>\n",
       "      <td>P.O. Box 78934</td>\n",
       "      <td>New Orleans</td>\n",
       "      <td>70117</td>\n",
       "      <td>USA</td>\n",
       "      <td>(100) 555-4822</td>\n",
       "    </tr>\n",
       "  </tbody>\n",
       "</table>\n",
       "</div>"
      ],
      "text/plain": [
       "   ProductID                   ProductName  SupplierID  CategoryID  \\\n",
       "0          1                         Chais           1           1   \n",
       "1          2                         Chang           1           1   \n",
       "2          3                 Aniseed Syrup           1           2   \n",
       "3          4  Chef Anton's Cajun Seasoning           2           2   \n",
       "4          5        Chef Anton's Gumbo Mix           2           2   \n",
       "\n",
       "                  Unit  Price CategoryName  \\\n",
       "0   10 boxes x 20 bags  18.00    Beverages   \n",
       "1   24 - 12 oz bottles  19.00    Beverages   \n",
       "2  12 - 550 ml bottles  10.00   Condiments   \n",
       "3       48 - 6 oz jars  22.00   Condiments   \n",
       "4             36 boxes  21.35   Condiments   \n",
       "\n",
       "                                         Description  \\\n",
       "0        Soft drinks, coffees, teas, beers, and ales   \n",
       "1        Soft drinks, coffees, teas, beers, and ales   \n",
       "2  Sweet and savory sauces, relishes, spreads, an...   \n",
       "3  Sweet and savory sauces, relishes, spreads, an...   \n",
       "4  Sweet and savory sauces, relishes, spreads, an...   \n",
       "\n",
       "                 SupplierName       ContactName         Address         City  \\\n",
       "0               Exotic Liquid  Charlotte Cooper  49 Gilbert St.      Londona   \n",
       "1               Exotic Liquid  Charlotte Cooper  49 Gilbert St.      Londona   \n",
       "2               Exotic Liquid  Charlotte Cooper  49 Gilbert St.      Londona   \n",
       "3  New Orleans Cajun Delights     Shelley Burke  P.O. Box 78934  New Orleans   \n",
       "4  New Orleans Cajun Delights     Shelley Burke  P.O. Box 78934  New Orleans   \n",
       "\n",
       "  PostalCode Country           Phone  \n",
       "0    EC1 4SD      UK  (171) 555-2222  \n",
       "1    EC1 4SD      UK  (171) 555-2222  \n",
       "2    EC1 4SD      UK  (171) 555-2222  \n",
       "3      70117     USA  (100) 555-4822  \n",
       "4      70117     USA  (100) 555-4822  "
      ]
     },
     "execution_count": 15,
     "metadata": {},
     "output_type": "execute_result"
    }
   ],
   "source": [
    "# Display the first rows in the merged dataframe\n",
    "df_left_join.head()"
   ]
  },
  {
   "cell_type": "markdown",
   "metadata": {},
   "source": [
    "# 5. Verify that the Merge is Correct  \n",
    "\n",
    "1. Display the first several rows of the merged dataframe.\n",
    "2. Display the number of rows and columns in the merged dataframe  \n",
    "\n",
    "\n",
    "### Questions to answer:  \n",
    "1. Number of Rows:  77\n",
    "  1. How many should there be? 77  \n",
    "2. Number of Columns:   15\n",
    "  1. How many should there be?  The number in the Left Table + number in Right Table - 1 (Merge Column is not duplicated) 15\n",
    "3. Are all the original rows and columns from the Left Table still here?  Yes, the original rows and columns are still present.\n",
    "4. Are the additional columns from the Right table now here? Yes, the additional columns from the right table are here."
   ]
  },
  {
   "cell_type": "code",
   "execution_count": 16,
   "metadata": {},
   "outputs": [
    {
     "name": "stdout",
     "output_type": "stream",
     "text": [
      "Left dataframe: \n",
      "Number of Rows in Left dataframe:   77\n",
      "Number of Cols in Left dataframe:   8\n",
      "\n",
      "Right dataframe: \n",
      "Number of Rows in Right dataframe:   29\n",
      "Number of Cols in Right dataframe:   8\n",
      "\n",
      "Merged dataframe: \n",
      "Number of Rows in Merged dataframe:   77 (Note: This should be same as the Left dataframe)\n",
      "Number of Cols in Merged dataframe:   15 (Note: This should be Left Cols + Right Cols - 1)\n",
      "\n",
      "\n",
      "YOUR MERGE WAS SUCCESSFULL!!!\n"
     ]
    }
   ],
   "source": [
    "# Display Left dataframe info\n",
    "print(\"Left dataframe: \")\n",
    "print(\"Number of Rows in Left dataframe:  \", df_Left.shape[0])\n",
    "print(\"Number of Cols in Left dataframe:  \", df_Left.shape[1])\n",
    "print()\n",
    "\n",
    "# Display Right dataframe info\n",
    "print(\"Right dataframe: \")\n",
    "print(\"Number of Rows in Right dataframe:  \", df_Right.shape[0])\n",
    "print(\"Number of Cols in Right dataframe:  \", df_Right.shape[1])\n",
    "print()\n",
    "\n",
    "# Display Merged dataframe info\n",
    "print(\"Merged dataframe: \")\n",
    "print(\"Number of Rows in Merged dataframe:  \", df_left_join.shape[0], \"(Note: This should be same as the Left dataframe)\")\n",
    "print(\"Number of Cols in Merged dataframe:  \", df_left_join.shape[1], \"(Note: This should be Left Cols + Right Cols - 1)\")\n",
    "print()\n",
    "\n",
    "# Check for correct number of Rows and Cols\n",
    "expected_merge_cols = df_Left.shape[1] + df_Right.shape[1] - 1\n",
    "\n",
    "assert df_left_join.shape[0] == df_Left.shape[0], \"The Number of Rows in the Merge is NOT Correct!!\"\n",
    "assert df_left_join.shape[1] == expected_merge_cols, \"The Number of Columns in the Merge is NOT Correct!!\"\n",
    "\n",
    "print()\n",
    "print(\"YOUR MERGE WAS SUCCESSFULL!!!\")"
   ]
  },
  {
   "cell_type": "markdown",
   "metadata": {},
   "source": [
    "# 6. Save the Merged Dataframe as a Pickle File"
   ]
  },
  {
   "cell_type": "code",
   "execution_count": 17,
   "metadata": {},
   "outputs": [],
   "source": [
    "df_left_join.to_pickle('./Data/Ex_4.4_Part1_AddingSupplierInfo.pkl')"
   ]
  }
 ],
 "metadata": {
  "kernelspec": {
   "display_name": "Python 3",
   "language": "python",
   "name": "python3"
  },
  "language_info": {
   "codemirror_mode": {
    "name": "ipython",
    "version": 3
   },
   "file_extension": ".py",
   "mimetype": "text/x-python",
   "name": "python",
   "nbconvert_exporter": "python",
   "pygments_lexer": "ipython3",
   "version": "3.7.0"
  }
 },
 "nbformat": 4,
 "nbformat_minor": 2
}
