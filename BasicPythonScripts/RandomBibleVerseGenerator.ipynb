#!/usr/bin/env python3.7

## Imports
import pandas as pd

## This code will display a random Bible Verse on command. ##

df_bible = pd.read_excel('/Users/owner/OneDrive/Desktop/personal/Data/bible_kjv.xlsx')


df_bible.head(2)