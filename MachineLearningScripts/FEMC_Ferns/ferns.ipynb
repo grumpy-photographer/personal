{
 "metadata": {
  "language_info": {
   "codemirror_mode": {
    "name": "ipython",
    "version": 3
   },
   "file_extension": ".py",
   "mimetype": "text/x-python",
   "name": "python",
   "nbconvert_exporter": "python",
   "pygments_lexer": "ipython3",
   "version": "3.7.9-final"
  },
  "orig_nbformat": 2,
  "kernelspec": {
   "name": "python38532bitdb13ff30e9b3458ebbabb19dc2e7a3ce",
   "display_name": "Python 3.8.5 32-bit"
  }
 },
 "nbformat": 4,
 "nbformat_minor": 2,
 "cells": [
  {
   "cell_type": "code",
   "execution_count": 1,
   "metadata": {},
   "outputs": [],
   "source": [
    "import pandas as pd"
   ]
  },
  {
   "cell_type": "code",
   "execution_count": 5,
   "metadata": {},
   "outputs": [
    {
     "output_type": "execute_result",
     "data": {
      "text/plain": [
       "       YEAR  SUBQID BLOCK  QUAD  SUBQUAD PROFILE  SP  FLA  FERTILE  STERILE  \\\n",
       "0      2000       1    3F     2        1       X  DI  644      2.0      2.0   \n",
       "1      2000       1    3F     2        1       X  DI  645      4.0      0.0   \n",
       "2      2000       1    3F     2        1       X  DI  646      2.0      4.0   \n",
       "3      2000       1    3F     2        1       X  DI  648      4.0      2.0   \n",
       "4      2000       1    3F     2        1       X  DI  649      1.0      3.0   \n",
       "...     ...     ...   ...   ...      ...     ...  ..  ...      ...      ...   \n",
       "15649  2019      20    8C     4        4       N  DM  243      NaN      NaN   \n",
       "15650  2019      20    8C     4        4       N  DM  244      4.0      1.0   \n",
       "15651  2019      20    8C     4        4       X  DM  245      0.0      4.0   \n",
       "15652  2019      20    8C     4        4       N  DM  246      3.0      0.0   \n",
       "15653  2019      20    8C     4        4       X  DM  247      2.0      1.0   \n",
       "\n",
       "       ... LENGTH BROKEN  INSECT_LF_COUNT  FIM  EATEN  SORAL_COUNT  VCROWN  \\\n",
       "0      ...   40.0    NaN              NaN  NaN    NaN          NaN     NaN   \n",
       "1      ...   38.0    NaN              NaN  NaN    NaN          NaN     NaN   \n",
       "2      ...   38.0    NaN              NaN  NaN    NaN          NaN     NaN   \n",
       "3      ...   52.0    NaN              NaN  NaN    NaN          NaN     NaN   \n",
       "4      ...   37.0    NaN              NaN  NaN    NaN          NaN     NaN   \n",
       "...    ...    ...    ...              ...  ...    ...          ...     ...   \n",
       "15649  ...    NaN    NaN              NaN  NaN    NaN          NaN     NaN   \n",
       "15650  ...   36.0    NaN              NaN  NaN      Y          8.0     NaN   \n",
       "15651  ...   21.0    NaN              NaN  NaN    NaN          NaN     NaN   \n",
       "15652  ...   31.0    NaN              NaN  NaN    NaN          5.0     NaN   \n",
       "15653  ...   40.0    NaN              NaN  NaN      Y          0.0     NaN   \n",
       "\n",
       "      STATCODE  STATYEAR                         LOCATION_NOTES  \n",
       "0           AL    2000.0                     1 M NO OF DRMA 262  \n",
       "1           AL    2000.0                     .5 M N OF DRMA 261  \n",
       "2           AL    2000.0                     2 M N OF  DRMA 260  \n",
       "3           AL    2000.0                    1.5 M S OF DRMA 268  \n",
       "4           AL    2000.0                      3 M 2 OF DRMA 266  \n",
       "...        ...       ...                                    ...  \n",
       "15649       G1       NaN  1 M E OF 242, SMALL (EASY TO STEP ON)  \n",
       "15650       AL       NaN                          1 M NW OF 245  \n",
       "15651       AL       NaN                1 M S OF 242, SE OF 244  \n",
       "15652       AL       NaN                           1 M E OF 243  \n",
       "15653       AL       NaN                           2 M E OF 245  \n",
       "\n",
       "[15654 rows x 26 columns]"
      ],
      "text/html": "<div>\n<style scoped>\n    .dataframe tbody tr th:only-of-type {\n        vertical-align: middle;\n    }\n\n    .dataframe tbody tr th {\n        vertical-align: top;\n    }\n\n    .dataframe thead th {\n        text-align: right;\n    }\n</style>\n<table border=\"1\" class=\"dataframe\">\n  <thead>\n    <tr style=\"text-align: right;\">\n      <th></th>\n      <th>YEAR</th>\n      <th>SUBQID</th>\n      <th>BLOCK</th>\n      <th>QUAD</th>\n      <th>SUBQUAD</th>\n      <th>PROFILE</th>\n      <th>SP</th>\n      <th>FLA</th>\n      <th>FERTILE</th>\n      <th>STERILE</th>\n      <th>...</th>\n      <th>LENGTH</th>\n      <th>BROKEN</th>\n      <th>INSECT_LF_COUNT</th>\n      <th>FIM</th>\n      <th>EATEN</th>\n      <th>SORAL_COUNT</th>\n      <th>VCROWN</th>\n      <th>STATCODE</th>\n      <th>STATYEAR</th>\n      <th>LOCATION_NOTES</th>\n    </tr>\n  </thead>\n  <tbody>\n    <tr>\n      <th>0</th>\n      <td>2000</td>\n      <td>1</td>\n      <td>3F</td>\n      <td>2</td>\n      <td>1</td>\n      <td>X</td>\n      <td>DI</td>\n      <td>644</td>\n      <td>2.0</td>\n      <td>2.0</td>\n      <td>...</td>\n      <td>40.0</td>\n      <td>NaN</td>\n      <td>NaN</td>\n      <td>NaN</td>\n      <td>NaN</td>\n      <td>NaN</td>\n      <td>NaN</td>\n      <td>AL</td>\n      <td>2000.0</td>\n      <td>1 M NO OF DRMA 262</td>\n    </tr>\n    <tr>\n      <th>1</th>\n      <td>2000</td>\n      <td>1</td>\n      <td>3F</td>\n      <td>2</td>\n      <td>1</td>\n      <td>X</td>\n      <td>DI</td>\n      <td>645</td>\n      <td>4.0</td>\n      <td>0.0</td>\n      <td>...</td>\n      <td>38.0</td>\n      <td>NaN</td>\n      <td>NaN</td>\n      <td>NaN</td>\n      <td>NaN</td>\n      <td>NaN</td>\n      <td>NaN</td>\n      <td>AL</td>\n      <td>2000.0</td>\n      <td>.5 M N OF DRMA 261</td>\n    </tr>\n    <tr>\n      <th>2</th>\n      <td>2000</td>\n      <td>1</td>\n      <td>3F</td>\n      <td>2</td>\n      <td>1</td>\n      <td>X</td>\n      <td>DI</td>\n      <td>646</td>\n      <td>2.0</td>\n      <td>4.0</td>\n      <td>...</td>\n      <td>38.0</td>\n      <td>NaN</td>\n      <td>NaN</td>\n      <td>NaN</td>\n      <td>NaN</td>\n      <td>NaN</td>\n      <td>NaN</td>\n      <td>AL</td>\n      <td>2000.0</td>\n      <td>2 M N OF  DRMA 260</td>\n    </tr>\n    <tr>\n      <th>3</th>\n      <td>2000</td>\n      <td>1</td>\n      <td>3F</td>\n      <td>2</td>\n      <td>1</td>\n      <td>X</td>\n      <td>DI</td>\n      <td>648</td>\n      <td>4.0</td>\n      <td>2.0</td>\n      <td>...</td>\n      <td>52.0</td>\n      <td>NaN</td>\n      <td>NaN</td>\n      <td>NaN</td>\n      <td>NaN</td>\n      <td>NaN</td>\n      <td>NaN</td>\n      <td>AL</td>\n      <td>2000.0</td>\n      <td>1.5 M S OF DRMA 268</td>\n    </tr>\n    <tr>\n      <th>4</th>\n      <td>2000</td>\n      <td>1</td>\n      <td>3F</td>\n      <td>2</td>\n      <td>1</td>\n      <td>X</td>\n      <td>DI</td>\n      <td>649</td>\n      <td>1.0</td>\n      <td>3.0</td>\n      <td>...</td>\n      <td>37.0</td>\n      <td>NaN</td>\n      <td>NaN</td>\n      <td>NaN</td>\n      <td>NaN</td>\n      <td>NaN</td>\n      <td>NaN</td>\n      <td>AL</td>\n      <td>2000.0</td>\n      <td>3 M 2 OF DRMA 266</td>\n    </tr>\n    <tr>\n      <th>...</th>\n      <td>...</td>\n      <td>...</td>\n      <td>...</td>\n      <td>...</td>\n      <td>...</td>\n      <td>...</td>\n      <td>...</td>\n      <td>...</td>\n      <td>...</td>\n      <td>...</td>\n      <td>...</td>\n      <td>...</td>\n      <td>...</td>\n      <td>...</td>\n      <td>...</td>\n      <td>...</td>\n      <td>...</td>\n      <td>...</td>\n      <td>...</td>\n      <td>...</td>\n      <td>...</td>\n    </tr>\n    <tr>\n      <th>15649</th>\n      <td>2019</td>\n      <td>20</td>\n      <td>8C</td>\n      <td>4</td>\n      <td>4</td>\n      <td>N</td>\n      <td>DM</td>\n      <td>243</td>\n      <td>NaN</td>\n      <td>NaN</td>\n      <td>...</td>\n      <td>NaN</td>\n      <td>NaN</td>\n      <td>NaN</td>\n      <td>NaN</td>\n      <td>NaN</td>\n      <td>NaN</td>\n      <td>NaN</td>\n      <td>G1</td>\n      <td>NaN</td>\n      <td>1 M E OF 242, SMALL (EASY TO STEP ON)</td>\n    </tr>\n    <tr>\n      <th>15650</th>\n      <td>2019</td>\n      <td>20</td>\n      <td>8C</td>\n      <td>4</td>\n      <td>4</td>\n      <td>N</td>\n      <td>DM</td>\n      <td>244</td>\n      <td>4.0</td>\n      <td>1.0</td>\n      <td>...</td>\n      <td>36.0</td>\n      <td>NaN</td>\n      <td>NaN</td>\n      <td>NaN</td>\n      <td>Y</td>\n      <td>8.0</td>\n      <td>NaN</td>\n      <td>AL</td>\n      <td>NaN</td>\n      <td>1 M NW OF 245</td>\n    </tr>\n    <tr>\n      <th>15651</th>\n      <td>2019</td>\n      <td>20</td>\n      <td>8C</td>\n      <td>4</td>\n      <td>4</td>\n      <td>X</td>\n      <td>DM</td>\n      <td>245</td>\n      <td>0.0</td>\n      <td>4.0</td>\n      <td>...</td>\n      <td>21.0</td>\n      <td>NaN</td>\n      <td>NaN</td>\n      <td>NaN</td>\n      <td>NaN</td>\n      <td>NaN</td>\n      <td>NaN</td>\n      <td>AL</td>\n      <td>NaN</td>\n      <td>1 M S OF 242, SE OF 244</td>\n    </tr>\n    <tr>\n      <th>15652</th>\n      <td>2019</td>\n      <td>20</td>\n      <td>8C</td>\n      <td>4</td>\n      <td>4</td>\n      <td>N</td>\n      <td>DM</td>\n      <td>246</td>\n      <td>3.0</td>\n      <td>0.0</td>\n      <td>...</td>\n      <td>31.0</td>\n      <td>NaN</td>\n      <td>NaN</td>\n      <td>NaN</td>\n      <td>NaN</td>\n      <td>5.0</td>\n      <td>NaN</td>\n      <td>AL</td>\n      <td>NaN</td>\n      <td>1 M E OF 243</td>\n    </tr>\n    <tr>\n      <th>15653</th>\n      <td>2019</td>\n      <td>20</td>\n      <td>8C</td>\n      <td>4</td>\n      <td>4</td>\n      <td>X</td>\n      <td>DM</td>\n      <td>247</td>\n      <td>2.0</td>\n      <td>1.0</td>\n      <td>...</td>\n      <td>40.0</td>\n      <td>NaN</td>\n      <td>NaN</td>\n      <td>NaN</td>\n      <td>Y</td>\n      <td>0.0</td>\n      <td>NaN</td>\n      <td>AL</td>\n      <td>NaN</td>\n      <td>2 M E OF 245</td>\n    </tr>\n  </tbody>\n</table>\n<p>15654 rows × 26 columns</p>\n</div>"
     },
     "metadata": {},
     "execution_count": 5
    }
   ],
   "source": [
    "ferns = pd.read_csv(\"D:/Data/HoltResearchForest_FernObservations.csv\")\n",
    "ferns"
   ]
  },
  {
   "cell_type": "code",
   "execution_count": 7,
   "metadata": {},
   "outputs": [],
   "source": [
    "ferns.set_index(\"YEAR\", inplace=True)"
   ]
  },
  {
   "cell_type": "code",
   "execution_count": 8,
   "metadata": {},
   "outputs": [],
   "source": [
    "ferns = ferns[ferns.PROFILE != \"N\"]\n"
   ]
  },
  {
   "cell_type": "code",
   "execution_count": 9,
   "metadata": {},
   "outputs": [
    {
     "output_type": "execute_result",
     "data": {
      "text/plain": [
       "      SUBQID BLOCK  QUAD  SUBQUAD PROFILE  SP  FLA  FERTILE  STERILE  \\\n",
       "YEAR                                                                   \n",
       "2000       1    3F     2        1       X  DI  644      2.0      2.0   \n",
       "2000       1    3F     2        1       X  DI  645      4.0      0.0   \n",
       "2000       1    3F     2        1       X  DI  646      2.0      4.0   \n",
       "2000       1    3F     2        1       X  DI  648      4.0      2.0   \n",
       "2000       1    3F     2        1       X  DI  649      1.0      3.0   \n",
       "...      ...   ...   ...      ...     ...  ..  ...      ...      ...   \n",
       "2019      20    8C     4        4       X  DM  238      1.0      3.0   \n",
       "2019      20    8C     4        4       X  DM  241      NaN      NaN   \n",
       "2019      20    8C     4        4       X  DM  242      3.0      0.0   \n",
       "2019      20    8C     4        4       X  DM  245      0.0      4.0   \n",
       "2019      20    8C     4        4       X  DM  247      2.0      1.0   \n",
       "\n",
       "     TYPE_PLANT  ... LENGTH  BROKEN  INSECT_LF_COUNT  FIM  EATEN  SORAL_COUNT  \\\n",
       "YEAR             ...                                                            \n",
       "2000          F  ...   40.0     NaN              NaN  NaN    NaN          NaN   \n",
       "2000          F  ...   38.0     NaN              NaN  NaN    NaN          NaN   \n",
       "2000          F  ...   38.0     NaN              NaN  NaN    NaN          NaN   \n",
       "2000          F  ...   52.0     NaN              NaN  NaN    NaN          NaN   \n",
       "2000          F  ...   37.0     NaN              NaN  NaN    NaN          NaN   \n",
       "...         ...  ...    ...     ...              ...  ...    ...          ...   \n",
       "2019          F  ...   43.0     NaN              NaN  NaN    NaN          1.0   \n",
       "2019        NaN  ...    NaN     NaN              NaN  NaN    NaN          NaN   \n",
       "2019          F  ...   36.0     NaN              NaN  NaN      Y          7.0   \n",
       "2019          S  ...   21.0     NaN              NaN  NaN    NaN          NaN   \n",
       "2019          F  ...   40.0     NaN              NaN  NaN      Y          0.0   \n",
       "\n",
       "     VCROWN  STATCODE  STATYEAR           LOCATION_NOTES  \n",
       "YEAR                                                      \n",
       "2000    NaN        AL    2000.0       1 M NO OF DRMA 262  \n",
       "2000    NaN        AL    2000.0       .5 M N OF DRMA 261  \n",
       "2000    NaN        AL    2000.0       2 M N OF  DRMA 260  \n",
       "2000    NaN        AL    2000.0      1.5 M S OF DRMA 268  \n",
       "2000    NaN        AL    2000.0        3 M 2 OF DRMA 266  \n",
       "...     ...       ...       ...                      ...  \n",
       "2019    NaN        AL       NaN  LEDGE/EYE, 2 M N OF 240  \n",
       "2019    NaN        G1       NaN           0.8 M N OF 242  \n",
       "2019    NaN        AL       NaN             1 M N OF 244  \n",
       "2019    NaN        AL       NaN  1 M S OF 242, SE OF 244  \n",
       "2019    NaN        AL       NaN             2 M E OF 245  \n",
       "\n",
       "[5784 rows x 25 columns]"
      ],
      "text/html": "<div>\n<style scoped>\n    .dataframe tbody tr th:only-of-type {\n        vertical-align: middle;\n    }\n\n    .dataframe tbody tr th {\n        vertical-align: top;\n    }\n\n    .dataframe thead th {\n        text-align: right;\n    }\n</style>\n<table border=\"1\" class=\"dataframe\">\n  <thead>\n    <tr style=\"text-align: right;\">\n      <th></th>\n      <th>SUBQID</th>\n      <th>BLOCK</th>\n      <th>QUAD</th>\n      <th>SUBQUAD</th>\n      <th>PROFILE</th>\n      <th>SP</th>\n      <th>FLA</th>\n      <th>FERTILE</th>\n      <th>STERILE</th>\n      <th>TYPE_PLANT</th>\n      <th>...</th>\n      <th>LENGTH</th>\n      <th>BROKEN</th>\n      <th>INSECT_LF_COUNT</th>\n      <th>FIM</th>\n      <th>EATEN</th>\n      <th>SORAL_COUNT</th>\n      <th>VCROWN</th>\n      <th>STATCODE</th>\n      <th>STATYEAR</th>\n      <th>LOCATION_NOTES</th>\n    </tr>\n    <tr>\n      <th>YEAR</th>\n      <th></th>\n      <th></th>\n      <th></th>\n      <th></th>\n      <th></th>\n      <th></th>\n      <th></th>\n      <th></th>\n      <th></th>\n      <th></th>\n      <th></th>\n      <th></th>\n      <th></th>\n      <th></th>\n      <th></th>\n      <th></th>\n      <th></th>\n      <th></th>\n      <th></th>\n      <th></th>\n      <th></th>\n    </tr>\n  </thead>\n  <tbody>\n    <tr>\n      <th>2000</th>\n      <td>1</td>\n      <td>3F</td>\n      <td>2</td>\n      <td>1</td>\n      <td>X</td>\n      <td>DI</td>\n      <td>644</td>\n      <td>2.0</td>\n      <td>2.0</td>\n      <td>F</td>\n      <td>...</td>\n      <td>40.0</td>\n      <td>NaN</td>\n      <td>NaN</td>\n      <td>NaN</td>\n      <td>NaN</td>\n      <td>NaN</td>\n      <td>NaN</td>\n      <td>AL</td>\n      <td>2000.0</td>\n      <td>1 M NO OF DRMA 262</td>\n    </tr>\n    <tr>\n      <th>2000</th>\n      <td>1</td>\n      <td>3F</td>\n      <td>2</td>\n      <td>1</td>\n      <td>X</td>\n      <td>DI</td>\n      <td>645</td>\n      <td>4.0</td>\n      <td>0.0</td>\n      <td>F</td>\n      <td>...</td>\n      <td>38.0</td>\n      <td>NaN</td>\n      <td>NaN</td>\n      <td>NaN</td>\n      <td>NaN</td>\n      <td>NaN</td>\n      <td>NaN</td>\n      <td>AL</td>\n      <td>2000.0</td>\n      <td>.5 M N OF DRMA 261</td>\n    </tr>\n    <tr>\n      <th>2000</th>\n      <td>1</td>\n      <td>3F</td>\n      <td>2</td>\n      <td>1</td>\n      <td>X</td>\n      <td>DI</td>\n      <td>646</td>\n      <td>2.0</td>\n      <td>4.0</td>\n      <td>F</td>\n      <td>...</td>\n      <td>38.0</td>\n      <td>NaN</td>\n      <td>NaN</td>\n      <td>NaN</td>\n      <td>NaN</td>\n      <td>NaN</td>\n      <td>NaN</td>\n      <td>AL</td>\n      <td>2000.0</td>\n      <td>2 M N OF  DRMA 260</td>\n    </tr>\n    <tr>\n      <th>2000</th>\n      <td>1</td>\n      <td>3F</td>\n      <td>2</td>\n      <td>1</td>\n      <td>X</td>\n      <td>DI</td>\n      <td>648</td>\n      <td>4.0</td>\n      <td>2.0</td>\n      <td>F</td>\n      <td>...</td>\n      <td>52.0</td>\n      <td>NaN</td>\n      <td>NaN</td>\n      <td>NaN</td>\n      <td>NaN</td>\n      <td>NaN</td>\n      <td>NaN</td>\n      <td>AL</td>\n      <td>2000.0</td>\n      <td>1.5 M S OF DRMA 268</td>\n    </tr>\n    <tr>\n      <th>2000</th>\n      <td>1</td>\n      <td>3F</td>\n      <td>2</td>\n      <td>1</td>\n      <td>X</td>\n      <td>DI</td>\n      <td>649</td>\n      <td>1.0</td>\n      <td>3.0</td>\n      <td>F</td>\n      <td>...</td>\n      <td>37.0</td>\n      <td>NaN</td>\n      <td>NaN</td>\n      <td>NaN</td>\n      <td>NaN</td>\n      <td>NaN</td>\n      <td>NaN</td>\n      <td>AL</td>\n      <td>2000.0</td>\n      <td>3 M 2 OF DRMA 266</td>\n    </tr>\n    <tr>\n      <th>...</th>\n      <td>...</td>\n      <td>...</td>\n      <td>...</td>\n      <td>...</td>\n      <td>...</td>\n      <td>...</td>\n      <td>...</td>\n      <td>...</td>\n      <td>...</td>\n      <td>...</td>\n      <td>...</td>\n      <td>...</td>\n      <td>...</td>\n      <td>...</td>\n      <td>...</td>\n      <td>...</td>\n      <td>...</td>\n      <td>...</td>\n      <td>...</td>\n      <td>...</td>\n      <td>...</td>\n    </tr>\n    <tr>\n      <th>2019</th>\n      <td>20</td>\n      <td>8C</td>\n      <td>4</td>\n      <td>4</td>\n      <td>X</td>\n      <td>DM</td>\n      <td>238</td>\n      <td>1.0</td>\n      <td>3.0</td>\n      <td>F</td>\n      <td>...</td>\n      <td>43.0</td>\n      <td>NaN</td>\n      <td>NaN</td>\n      <td>NaN</td>\n      <td>NaN</td>\n      <td>1.0</td>\n      <td>NaN</td>\n      <td>AL</td>\n      <td>NaN</td>\n      <td>LEDGE/EYE, 2 M N OF 240</td>\n    </tr>\n    <tr>\n      <th>2019</th>\n      <td>20</td>\n      <td>8C</td>\n      <td>4</td>\n      <td>4</td>\n      <td>X</td>\n      <td>DM</td>\n      <td>241</td>\n      <td>NaN</td>\n      <td>NaN</td>\n      <td>NaN</td>\n      <td>...</td>\n      <td>NaN</td>\n      <td>NaN</td>\n      <td>NaN</td>\n      <td>NaN</td>\n      <td>NaN</td>\n      <td>NaN</td>\n      <td>NaN</td>\n      <td>G1</td>\n      <td>NaN</td>\n      <td>0.8 M N OF 242</td>\n    </tr>\n    <tr>\n      <th>2019</th>\n      <td>20</td>\n      <td>8C</td>\n      <td>4</td>\n      <td>4</td>\n      <td>X</td>\n      <td>DM</td>\n      <td>242</td>\n      <td>3.0</td>\n      <td>0.0</td>\n      <td>F</td>\n      <td>...</td>\n      <td>36.0</td>\n      <td>NaN</td>\n      <td>NaN</td>\n      <td>NaN</td>\n      <td>Y</td>\n      <td>7.0</td>\n      <td>NaN</td>\n      <td>AL</td>\n      <td>NaN</td>\n      <td>1 M N OF 244</td>\n    </tr>\n    <tr>\n      <th>2019</th>\n      <td>20</td>\n      <td>8C</td>\n      <td>4</td>\n      <td>4</td>\n      <td>X</td>\n      <td>DM</td>\n      <td>245</td>\n      <td>0.0</td>\n      <td>4.0</td>\n      <td>S</td>\n      <td>...</td>\n      <td>21.0</td>\n      <td>NaN</td>\n      <td>NaN</td>\n      <td>NaN</td>\n      <td>NaN</td>\n      <td>NaN</td>\n      <td>NaN</td>\n      <td>AL</td>\n      <td>NaN</td>\n      <td>1 M S OF 242, SE OF 244</td>\n    </tr>\n    <tr>\n      <th>2019</th>\n      <td>20</td>\n      <td>8C</td>\n      <td>4</td>\n      <td>4</td>\n      <td>X</td>\n      <td>DM</td>\n      <td>247</td>\n      <td>2.0</td>\n      <td>1.0</td>\n      <td>F</td>\n      <td>...</td>\n      <td>40.0</td>\n      <td>NaN</td>\n      <td>NaN</td>\n      <td>NaN</td>\n      <td>Y</td>\n      <td>0.0</td>\n      <td>NaN</td>\n      <td>AL</td>\n      <td>NaN</td>\n      <td>2 M E OF 245</td>\n    </tr>\n  </tbody>\n</table>\n<p>5784 rows × 25 columns</p>\n</div>"
     },
     "metadata": {},
     "execution_count": 9
    }
   ],
   "source": [
    "ferns"
   ]
  },
  {
   "cell_type": "code",
   "execution_count": 10,
   "metadata": {},
   "outputs": [],
   "source": [
    "X = ferns.drop(columns = \"SP\", axis=1)\n",
    "y = ferns[\"SP\"]"
   ]
  },
  {
   "cell_type": "code",
   "execution_count": 20,
   "metadata": {},
   "outputs": [],
   "source": [
    "from sklearn.model_selection import train_test_split, GridSearchCV"
   ]
  },
  {
   "cell_type": "code",
   "execution_count": 21,
   "metadata": {},
   "outputs": [],
   "source": [
    "X_train, X_test, y_train, y_test = train_test_split(X, y, test_size=.3, random_state=1)"
   ]
  },
  {
   "cell_type": "code",
   "execution_count": 22,
   "metadata": {},
   "outputs": [],
   "source": [
    "from sklearn.ensemble import RandomForestClassifier"
   ]
  },
  {
   "cell_type": "code",
   "execution_count": 23,
   "metadata": {},
   "outputs": [],
   "source": [
    "rfc = RandomForestClassifier()\n",
    "\n",
    "params = (\"\")"
   ]
  },
  {
   "cell_type": "code",
   "execution_count": null,
   "metadata": {},
   "outputs": [],
   "source": [
    "grid_search = "
   ]
  }
 ]
}