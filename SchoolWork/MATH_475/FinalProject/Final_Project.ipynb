{
 "cells": [
  {
   "cell_type": "markdown",
   "metadata": {},
   "source": [
    "# Predicting Hazardous Asteroids"
   ]
  },
  {
   "cell_type": "markdown",
   "metadata": {
    "toc": true
   },
   "source": [
    "<h1>Table of Contents<span class=\"tocSkip\"></span></h1>\n",
    "<div class=\"toc\"><ul class=\"toc-item\"><li><span><a href=\"#Intro\" data-toc-modified-id=\"Intro-1\"><span class=\"toc-item-num\">1&nbsp;&nbsp;</span>Intro</a></span><ul class=\"toc-item\"><li><span><a href=\"#What\" data-toc-modified-id=\"What-1.1\"><span class=\"toc-item-num\">1.1&nbsp;&nbsp;</span>What</a></span></li><li><span><a href=\"#Why\" data-toc-modified-id=\"Why-1.2\"><span class=\"toc-item-num\">1.2&nbsp;&nbsp;</span>Why</a></span></li></ul></li><li><span><a href=\"#Imports\" data-toc-modified-id=\"Imports-2\"><span class=\"toc-item-num\">2&nbsp;&nbsp;</span>Imports</a></span></li><li><span><a href=\"#Process-Data\" data-toc-modified-id=\"Process-Data-3\"><span class=\"toc-item-num\">3&nbsp;&nbsp;</span>Process Data</a></span><ul class=\"toc-item\"><li><span><a href=\"#Load-data\" data-toc-modified-id=\"Load-data-3.1\"><span class=\"toc-item-num\">3.1&nbsp;&nbsp;</span>Load data</a></span></li><li><span><a href=\"#Understand-data\" data-toc-modified-id=\"Understand-data-3.2\"><span class=\"toc-item-num\">3.2&nbsp;&nbsp;</span>Understand data</a></span></li><li><span><a href=\"#Clean-data\" data-toc-modified-id=\"Clean-data-3.3\"><span class=\"toc-item-num\">3.3&nbsp;&nbsp;</span>Clean data</a></span></li><li><span><a href=\"#Visualize-data\" data-toc-modified-id=\"Visualize-data-3.4\"><span class=\"toc-item-num\">3.4&nbsp;&nbsp;</span>Visualize data</a></span></li></ul></li><li><span><a href=\"#Split-data\" data-toc-modified-id=\"Split-data-4\"><span class=\"toc-item-num\">4&nbsp;&nbsp;</span>Split data</a></span></li><li><span><a href=\"#Find-Model\" data-toc-modified-id=\"Find-Model-5\"><span class=\"toc-item-num\">5&nbsp;&nbsp;</span>Find Model</a></span></li><li><span><a href=\"#Model-1\" data-toc-modified-id=\"Model-1-6\"><span class=\"toc-item-num\">6&nbsp;&nbsp;</span>Model 1</a></span></li><li><span><a href=\"#Model-2\" data-toc-modified-id=\"Model-2-7\"><span class=\"toc-item-num\">7&nbsp;&nbsp;</span>Model 2</a></span></li></ul></div>"
   ]
  },
  {
   "cell_type": "markdown",
   "metadata": {},
   "source": [
    "***"
   ]
  },
  {
   "cell_type": "markdown",
   "metadata": {},
   "source": [
    "## Intro"
   ]
  },
  {
   "cell_type": "markdown",
   "metadata": {},
   "source": [
    "### What"
   ]
  },
  {
   "cell_type": "markdown",
   "metadata": {},
   "source": [
    "NASA (National Aeronautics and Space Administration) is a world-renown organization headquartered in the United States.  The organization was created during the Space Race with Russia, in response to Sputnik 1 being launched into orbit around Earth.  Since then, NASA has landed people on the moon, rovers on Mars, telescopes into deep space, built (with international partnerships) a space station, and is still working to develop new technologies every day.  Part of their research takes a look at asteroids and attempts to determine if asteroids are hazardous or safe to Earth, so that we can take proper action should it be necessary.  The data used in this project comes from [Kaggle](https://www.kaggle.com/shrutimehta/nasa-asteroids-classification), but originates from NASA.\n",
    "\n",
    "This data contains 40 variables which can be summarized as follows:\n",
    "\n",
    "- The first two columns contain identical identifier values and are not too important or beneficial for a model. \n",
    "- The next feature is the absolute magnitude which looks looks at the brightness of an celestial object, according to the definition of absolute magnitude, as it would be seen at a distance of 10 parsecs (equal to 1.9174E+14 miles).  \n",
    "- The next set of features are related to the diameter of asteroids.  Estimates are made in kilometers (km), meters (m), miles (mi), and feet (ft), with data for the maximum and minimum of each distance.  \n",
    "- There are two columns addressing the date asteroids will approach Earth, by date and periods (epoch).  \n",
    "- Features also include the speed of the asteroid, the distance from the earth the asteroid will pass, measured in astronomical, lunar, km, and mi units.  \n",
    "- There are a number of columns dealing with the orbit pattern including the orbital period, perihelion distance, aphelion distance, eccentricity and the like.\n",
    "\n",
    "There is one target in the 40 columns:\n",
    "\n",
    "- The target variable is `hazardous` column, showing whether the asteroid is hazardous or not, based on size, speed, and orbit."
   ]
  },
  {
   "cell_type": "markdown",
   "metadata": {},
   "source": [
    "### Why"
   ]
  },
  {
   "cell_type": "markdown",
   "metadata": {},
   "source": [
    "My grandfather worked for NASA during the Apollo missions.  This alone got me interested in a career in aeronautics, as well as witnessing SpaceX's many successes (and failures) and eventual partnership with NASA to launch American astronauts from American soil.  Today, my interest in space continues to grow and one of my goals is to work for an aeronautics company in the future.  Chances of me getting that a role like that are slim, right now, so the best thing I can do is work with data they provide to continue building my skills and experience.\n",
    "\n",
    "Let's get started!"
   ]
  },
  {
   "cell_type": "markdown",
   "metadata": {},
   "source": [
    "***\n",
    "\n",
    "## Imports"
   ]
  },
  {
   "cell_type": "markdown",
   "metadata": {},
   "source": [
    "First, we will import \"global\" packages that we will use throughout our code."
   ]
  },
  {
   "cell_type": "code",
   "execution_count": null,
   "metadata": {
    "ExecuteTime": {
     "end_time": "2020-11-19T22:53:31.278259Z",
     "start_time": "2020-11-19T22:53:27.888684Z"
    },
    "code_folding": [
     0
    ],
    "jupyter": {
     "source_hidden": true
    }
   },
   "outputs": [],
   "source": [
    "# global imports\n",
    "import pandas as pd\n",
    "import numpy as np\n",
    "import seaborn as sns\n",
    "import matplotlib.pyplot as plt\n",
    "from matplotlib.colors import ListedColormap\n",
    "from sklearn.metrics import confusion_matrix, classification_report"
   ]
  },
  {
   "cell_type": "markdown",
   "metadata": {},
   "source": [
    "***\n",
    "\n",
    "## Process Data"
   ]
  },
  {
   "cell_type": "markdown",
   "metadata": {},
   "source": [
    "### Load data"
   ]
  },
  {
   "cell_type": "markdown",
   "metadata": {},
   "source": [
    "Thanks to this data coming from Kaggle, there are no special steps or attributes necessary to load data into a data frame.  We can just use the `read_csv()` function included in the Pandas library."
   ]
  },
  {
   "cell_type": "code",
   "execution_count": null,
   "metadata": {
    "ExecuteTime": {
     "end_time": "2020-11-19T22:53:31.399953Z",
     "start_time": "2020-11-19T22:53:31.284162Z"
    },
    "code_folding": [
     0
    ],
    "jupyter": {
     "source_hidden": true
    }
   },
   "outputs": [],
   "source": [
    "# load csv into pandas dataframe\n",
    "asteroids = pd.read_csv(\"nasa.csv\")"
   ]
  },
  {
   "cell_type": "markdown",
   "metadata": {},
   "source": [
    "### Understand data"
   ]
  },
  {
   "cell_type": "markdown",
   "metadata": {},
   "source": [
    "Now that the data has been loaded, let's take a run-down of contents.  Again, this data comes from Kaggle and thus has already been preprocessed, but we might want to do more to make it our own."
   ]
  },
  {
   "cell_type": "code",
   "execution_count": null,
   "metadata": {
    "ExecuteTime": {
     "end_time": "2020-11-19T22:53:31.443222Z",
     "start_time": "2020-11-19T22:53:31.404441Z"
    },
    "jupyter": {
     "source_hidden": true
    }
   },
   "outputs": [],
   "source": [
    "# view basic info about columns\n",
    "asteroids.info()"
   ]
  },
  {
   "cell_type": "markdown",
   "metadata": {},
   "source": [
    "Each column has the same number of non-null rows which matches the number of rows the dataframe contains (see RangeIndex value at the top of the result pane).  That means there are likely no nulls in the data.  We can see here that there are four (4) columns with the `object` data type and five (5) columns with the `int64` data type.  Let's look at what these columns contain to see if they are helpful. We already plan on dropping the first two `int64` columns, but we will take a look to understand why. We will look at the others following in order, for readability.  \n",
    "\n",
    "First, `Neo Reference ID`."
   ]
  },
  {
   "cell_type": "code",
   "execution_count": null,
   "metadata": {
    "ExecuteTime": {
     "end_time": "2020-11-19T22:53:31.466273Z",
     "start_time": "2020-11-19T22:53:31.449207Z"
    },
    "jupyter": {
     "source_hidden": true
    }
   },
   "outputs": [],
   "source": [
    "# look at 'Neo Reference ID'\n",
    "asteroids[\"Neo Reference ID\"]\n",
    "\n",
    "# asteroids[\"Neo Refernce ID\"].sum() = 15337259656"
   ]
  },
  {
   "cell_type": "code",
   "execution_count": null,
   "metadata": {
    "ExecuteTime": {
     "end_time": "2020-11-19T22:53:31.483950Z",
     "start_time": "2020-11-19T22:53:31.470385Z"
    },
    "jupyter": {
     "source_hidden": true
    }
   },
   "outputs": [],
   "source": [
    "# see unique values in column\n",
    "asteroids[\"Neo Reference ID\"].unique()\n",
    "\n",
    "# asteroids[\"Neo Reference ID\"].unique().sum() = 12150256364"
   ]
  },
  {
   "cell_type": "markdown",
   "metadata": {},
   "source": [
    "As mentioned before, these values just identify asteroids.  Interesting enough, if you put `.sum()` at the end, it will give you the sum of the column, adding each value together.  That is not the interesting part, as that should be obvious.  What is interesting is if you add `.sum()` to `.unique()` you get a smaller value when you would expect the same value.  This means some asteroids can be found more than once in this data set.  We might want to remove duplicates as they may throw the model off or train it too well. \n",
    "\n",
    "The `Name` column should contain the same values, but we can check just to make sure."
   ]
  },
  {
   "cell_type": "code",
   "execution_count": null,
   "metadata": {
    "ExecuteTime": {
     "end_time": "2020-11-19T22:53:31.501902Z",
     "start_time": "2020-11-19T22:53:31.487939Z"
    },
    "jupyter": {
     "source_hidden": true
    }
   },
   "outputs": [],
   "source": [
    "# look at 'Name'\n",
    "asteroids[\"Name\"]\n",
    "\n",
    "# asteroids[\"Name\"].sum() = 15337259656"
   ]
  },
  {
   "cell_type": "code",
   "execution_count": null,
   "metadata": {
    "ExecuteTime": {
     "end_time": "2020-11-19T22:53:31.532356Z",
     "start_time": "2020-11-19T22:53:31.514404Z"
    },
    "jupyter": {
     "source_hidden": true
    }
   },
   "outputs": [],
   "source": [
    "# see unique values in column\n",
    "asteroids[\"Name\"].unique()\n",
    "\n",
    "# asteroids[\"Name\"].unique().sum() = 12150256364"
   ]
  },
  {
   "cell_type": "markdown",
   "metadata": {},
   "source": [
    "Sure enough, as expected, both `Neo Reference ID` and `Name` contain the same values.  We can drop these columns after we use them to remove duplicates.  \n",
    "\n",
    "Let's look at `Close Approach Date`."
   ]
  },
  {
   "cell_type": "code",
   "execution_count": null,
   "metadata": {
    "ExecuteTime": {
     "end_time": "2020-11-19T22:53:31.554313Z",
     "start_time": "2020-11-19T22:53:31.541389Z"
    },
    "jupyter": {
     "source_hidden": true
    }
   },
   "outputs": [],
   "source": [
    "# look at 'Close Approach Date'\n",
    "asteroids[\"Close Approach Date\"].head()"
   ]
  },
  {
   "cell_type": "markdown",
   "metadata": {},
   "source": [
    "We don't have access to the metadata, but from the column name, `Close Approach Date` is most likely the date the asteroid will pass closest to the earth.  While it might be interesting to see if there is a pattern in dates relating to if an asteroid is hazardous or not, that exploration is for another project.  If we wanted to use this column, we could encode it, but that would result in over 4000 new columns.  Instead of doing that, for this project, we will drop this column. \n",
    "\n",
    "Let's look at `Epoch Date Close Approach`."
   ]
  },
  {
   "cell_type": "code",
   "execution_count": null,
   "metadata": {
    "ExecuteTime": {
     "end_time": "2020-11-19T22:53:31.583386Z",
     "start_time": "2020-11-19T22:53:31.566281Z"
    },
    "jupyter": {
     "source_hidden": true
    }
   },
   "outputs": [],
   "source": [
    "# look at 'Epoch Date Close Approach'\n",
    "asteroids[\"Epoch Date Close Approach\"]"
   ]
  },
  {
   "cell_type": "code",
   "execution_count": null,
   "metadata": {
    "ExecuteTime": {
     "end_time": "2020-11-19T22:53:31.605327Z",
     "start_time": "2020-11-19T22:53:31.588373Z"
    },
    "jupyter": {
     "source_hidden": true
    }
   },
   "outputs": [],
   "source": [
    "# see unique values in column\n",
    "asteroids[\"Epoch Date Close Approach\"].unique()"
   ]
  },
  {
   "cell_type": "markdown",
   "metadata": {},
   "source": [
    "There are a number of unique values, but it might be the `Close Approach Date` in epoch format.  Since we are not completely sure, we will drop this column too.  \n",
    "\n",
    "Let's look at `Orbiting Body`."
   ]
  },
  {
   "cell_type": "code",
   "execution_count": null,
   "metadata": {
    "ExecuteTime": {
     "end_time": "2020-11-19T22:53:31.623291Z",
     "start_time": "2020-11-19T22:53:31.609318Z"
    },
    "jupyter": {
     "source_hidden": true
    }
   },
   "outputs": [],
   "source": [
    "# look at 'Orbiting Body'\n",
    "asteroids[\"Orbiting Body\"]"
   ]
  },
  {
   "cell_type": "code",
   "execution_count": null,
   "metadata": {
    "ExecuteTime": {
     "end_time": "2020-11-19T22:53:31.638251Z",
     "start_time": "2020-11-19T22:53:31.628278Z"
    },
    "jupyter": {
     "source_hidden": true
    }
   },
   "outputs": [],
   "source": [
    "# see unique values in column\n",
    "asteroids[\"Orbiting Body\"].unique()"
   ]
  },
  {
   "cell_type": "markdown",
   "metadata": {},
   "source": [
    "Looking at the data in the `Orbiting Body` column, we can tell that the value is the body the asteroid is orbiting.  Now, basic knowledge of the solar system will tell us that we (Earth) orbit the sun, as does everything else in our the solar system.  We then have an idea of what this column will contain for the values we cannot see.  When `.unique()` argument, we are able to find each distinct value in a column.  Having 4686 rows with the same value  ('Earth') seems odd, but since this data is determining if an asteroid is hazardous to Earth and not the entire solar system, it makes sense.  We can remove this column as it provides no helpful information for classification.\n",
    "\n",
    "Let's take a look at `Orbit ID`."
   ]
  },
  {
   "cell_type": "code",
   "execution_count": null,
   "metadata": {
    "ExecuteTime": {
     "end_time": "2020-11-19T22:53:31.713522Z",
     "start_time": "2020-11-19T22:53:31.643238Z"
    },
    "jupyter": {
     "source_hidden": true
    }
   },
   "outputs": [],
   "source": [
    "# look at 'Orbit ID'\n",
    "asteroids[\"Orbit ID\"]"
   ]
  },
  {
   "cell_type": "code",
   "execution_count": null,
   "metadata": {
    "ExecuteTime": {
     "end_time": "2020-11-19T22:53:31.759945Z",
     "start_time": "2020-11-19T22:53:31.718812Z"
    },
    "jupyter": {
     "source_hidden": true
    }
   },
   "outputs": [],
   "source": [
    "# see unique values\n",
    "asteroids[\"Orbit ID\"].unique()"
   ]
  },
  {
   "cell_type": "markdown",
   "metadata": {},
   "source": [
    "If we were to look at a map of asteroids orbiting Earth, we would see rings going around the planet.  Without the meta data it is difficult to be certain what this column is trying to share with us, but it could be an identifier of an orbital pattern.  Because we don't know exactly what this column means, we will remove it from this classification project.\n",
    "\n",
    "Let's look at `Orbit Determination Date`."
   ]
  },
  {
   "cell_type": "code",
   "execution_count": null,
   "metadata": {
    "ExecuteTime": {
     "end_time": "2020-11-19T22:53:31.778692Z",
     "start_time": "2020-11-19T22:53:31.766312Z"
    },
    "jupyter": {
     "source_hidden": true
    }
   },
   "outputs": [],
   "source": [
    "# look at 'Orbit Determination Date'\n",
    "asteroids[\"Orbit Determination Date\"].head()"
   ]
  },
  {
   "cell_type": "markdown",
   "metadata": {},
   "source": [
    "This column contains more dates but this column contains times as well.  Again, without meta data we cannot conclude for sure what the definition of this column is, but it might be pertaining to the date and time an asteroid completes an orbit around Earth.  Much like `Close Approach Date`, `Orbit Determination Date` is not helpful for this classification project, thought it might provide helpful insight for other projects.\n",
    "\n",
    "Next, we will check out the `Orbit Uncertainity` column."
   ]
  },
  {
   "cell_type": "code",
   "execution_count": null,
   "metadata": {
    "ExecuteTime": {
     "end_time": "2020-11-19T22:53:31.806308Z",
     "start_time": "2020-11-19T22:53:31.782233Z"
    },
    "jupyter": {
     "source_hidden": true
    }
   },
   "outputs": [],
   "source": [
    "# look at 'Orbit Uncertainty'\n",
    "asteroids[\"Orbit Uncertainity\"]"
   ]
  },
  {
   "cell_type": "code",
   "execution_count": null,
   "metadata": {
    "ExecuteTime": {
     "end_time": "2020-11-19T22:53:31.838365Z",
     "start_time": "2020-11-19T22:53:31.813243Z"
    },
    "jupyter": {
     "source_hidden": true
    }
   },
   "outputs": [],
   "source": [
    "asteroids[\"Orbit Uncertainity\"].unique()"
   ]
  },
  {
   "cell_type": "markdown",
   "metadata": {},
   "source": [
    "The column name has a spelling error, adding an extra 'i' so if we keeping it we could make that change.  However, we do not have much information about this column and therefore we will not use it in this classification project.\n",
    "\n",
    "Finally, let's look at `Equinox`."
   ]
  },
  {
   "cell_type": "code",
   "execution_count": null,
   "metadata": {
    "ExecuteTime": {
     "end_time": "2020-11-19T22:53:31.857557Z",
     "start_time": "2020-11-19T22:53:31.843781Z"
    },
    "jupyter": {
     "source_hidden": true
    }
   },
   "outputs": [],
   "source": [
    "# look at 'Equinox'\n",
    "asteroids[\"Equinox\"]"
   ]
  },
  {
   "cell_type": "code",
   "execution_count": null,
   "metadata": {
    "ExecuteTime": {
     "end_time": "2020-11-19T22:53:31.880666Z",
     "start_time": "2020-11-19T22:53:31.861379Z"
    },
    "jupyter": {
     "source_hidden": true
    }
   },
   "outputs": [],
   "source": [
    "# see unique values in `Equinox` column\n",
    "asteroids[\"Equinox\"].unique()"
   ]
  },
  {
   "cell_type": "markdown",
   "metadata": {},
   "source": [
    "The \"equinox\" is the time or date when the equator of the sun matches the equator of the earth, causing day and night to be equal lengths.  In this case, the values are obviously not in standard date and time, however they are in date and time.  This format is called the \"standard equinox (and epoch)\" where \"J\" stands for \"Julian epoch\" and \"2000\" refers to January 1, 2000, 12:00 Terrestrial Time ([more here](https://community.esri.com/t5/coordinate-reference-systems/drifting-of-the-celestial-sphere-what-is-j2000/ba-p/902058)).  This is a standard value being used since 1984 and is not helpful to determining if an asteroid is hazardous or not, so we will remove this column from our project.\n",
    "\n",
    "None of the columns with an `object` or `int64` data type are helpful when determining if an asteroid is hazardous or not so we will drop them when we clean the data.\n",
    "\n",
    "Also, earlier we mentioned removing the first two columns as they are identifiers and contain the exact same data.  We will do this in the next step as well."
   ]
  },
  {
   "cell_type": "markdown",
   "metadata": {},
   "source": [
    "### Clean data "
   ]
  },
  {
   "cell_type": "code",
   "execution_count": null,
   "metadata": {
    "ExecuteTime": {
     "end_time": "2020-11-19T22:53:31.897620Z",
     "start_time": "2020-11-19T22:53:31.884657Z"
    },
    "jupyter": {
     "source_hidden": true
    }
   },
   "outputs": [],
   "source": [
    "# drop columns with 'object' or 'int64' dtypes\n",
    "asteroids = asteroids.select_dtypes(exclude=[\"object\", \"int64\"])"
   ]
  },
  {
   "cell_type": "markdown",
   "metadata": {},
   "source": [
    "[Code from Stack Overflow](https://stackoverflow.com/questions/48817592/how-to-drop-dataframe-columns-based-on-dtype)"
   ]
  },
  {
   "cell_type": "markdown",
   "metadata": {},
   "source": [
    "### Visualize data"
   ]
  },
  {
   "cell_type": "code",
   "execution_count": null,
   "metadata": {
    "ExecuteTime": {
     "end_time": "2020-11-19T22:53:31.923259Z",
     "start_time": "2020-11-19T22:53:31.900613Z"
    },
    "code_folding": [
     0
    ],
    "jupyter": {
     "source_hidden": true
    }
   },
   "outputs": [],
   "source": [
    "# plot_decision_regions function\n",
    "def plot_decision_regions(X, y, classifier, test_idx=None, resolution=0.02):\n",
    "\n",
    "    # setup marker generator and color map\n",
    "    markers = (\"s\", \"x\", \"o\", \"^\", \"v\")\n",
    "    colors = (\"red\", \"blue\", \"lightgreen\", \"gray\", \"cyan\")\n",
    "    cmap = ListedColormap(colors[: len(np.unique(y))])\n",
    "\n",
    "    # plot the decision surface\n",
    "    x1_min, x1_max = X[:, 0].min() - 1, X[:, 0].max() + 1\n",
    "    x2_min, x2_max = X[:, 1].min() - 1, X[:, 1].max() + 1\n",
    "    xx1, xx2 = np.meshgrid(\n",
    "        np.arange(x1_min, x1_max, resolution), np.arange(x2_min, x2_max, resolution)\n",
    "    )\n",
    "    Z = classifier.predict(np.array([xx1.ravel(), xx2.ravel()]).T)\n",
    "    Z = Z.reshape(xx1.shape)\n",
    "    plt.contourf(xx1, xx2, Z, alpha=0.3, cmap=cmap)\n",
    "    plt.xlim(xx1.min(), xx1.max())\n",
    "    plt.ylim(xx2.min(), xx2.max())\n",
    "\n",
    "    for idx, cl in enumerate(np.unique(y)):\n",
    "        plt.scatter(\n",
    "            x=X[y == cl, 0],\n",
    "            y=X[y == cl, 1],\n",
    "            alpha=0.8,\n",
    "            c=colors[idx],\n",
    "            marker=markers[idx],\n",
    "            label=cl,\n",
    "            edgecolor=\"black\",\n",
    "        )\n",
    "\n",
    "    # highlight test examples\n",
    "    if test_idx:\n",
    "        # plot all examples\n",
    "        X_test, y_test = X[test_idx, :], y[test_idx]\n",
    "\n",
    "        plt.scatter(\n",
    "            X_test[:, 0],\n",
    "            X_test[:, 1],\n",
    "            c=\"\",\n",
    "            edgecolor=\"black\",\n",
    "            alpha=1.0,\n",
    "            linewidth=1,\n",
    "            marker=\"o\",\n",
    "            s=100,\n",
    "            label=\"test set\",\n",
    "        )"
   ]
  },
  {
   "cell_type": "markdown",
   "metadata": {},
   "source": [
    "***\n",
    "\n",
    "## Split data"
   ]
  },
  {
   "cell_type": "code",
   "execution_count": null,
   "metadata": {
    "ExecuteTime": {
     "end_time": "2020-11-19T22:53:31.963352Z",
     "start_time": "2020-11-19T22:53:31.931239Z"
    },
    "jupyter": {
     "source_hidden": true
    }
   },
   "outputs": [],
   "source": [
    "# import packages necessary to split and scale data\n",
    "from sklearn.model_selection import train_test_split\n",
    "from sklearn.preprocessing import StandardScaler"
   ]
  },
  {
   "cell_type": "code",
   "execution_count": null,
   "metadata": {
    "ExecuteTime": {
     "end_time": "2020-11-19T22:53:31.981979Z",
     "start_time": "2020-11-19T22:53:31.970707Z"
    },
    "jupyter": {
     "source_hidden": true
    }
   },
   "outputs": [],
   "source": [
    "X = asteroids.drop(columns=[\"Hazardous\"], axis=1)\n",
    "y = asteroids[\"Hazardous\"]"
   ]
  },
  {
   "cell_type": "code",
   "execution_count": null,
   "metadata": {
    "ExecuteTime": {
     "end_time": "2020-11-19T22:53:32.004530Z",
     "start_time": "2020-11-19T22:53:31.986382Z"
    },
    "jupyter": {
     "source_hidden": true
    }
   },
   "outputs": [],
   "source": [
    "X_train, X_test, y_train, y_test = train_test_split(X, y, test_size=0.3)"
   ]
  },
  {
   "cell_type": "code",
   "execution_count": null,
   "metadata": {
    "ExecuteTime": {
     "end_time": "2020-11-19T22:53:32.040413Z",
     "start_time": "2020-11-19T22:53:32.010441Z"
    },
    "jupyter": {
     "source_hidden": true
    }
   },
   "outputs": [],
   "source": [
    "# scale data\n",
    "sc = StandardScaler()\n",
    "sc.fit(X_train)\n",
    "X_train_std = sc.transform(X_train)\n",
    "X_test_std = sc.transform(X_test)\n",
    "\n",
    "X_combined_std = np.vstack((X_train_std, X_test_std))\n",
    "y_combined = np.hstack((y_train, y_test))"
   ]
  },
  {
   "cell_type": "markdown",
   "metadata": {},
   "source": [
    "***\n",
    "\n",
    "## Find Model"
   ]
  },
  {
   "cell_type": "code",
   "execution_count": null,
   "metadata": {
    "ExecuteTime": {
     "end_time": "2020-11-19T22:53:32.246210Z",
     "start_time": "2020-11-19T22:53:32.044215Z"
    },
    "jupyter": {
     "source_hidden": true
    }
   },
   "outputs": [],
   "source": [
    "from sklearn.model_selection import GridSearchCV\n",
    "from sklearn.ensemble import RandomForestClassifier, StackingClassifier\n",
    "from sklearn.linear_model import LogisticRegression\n",
    "from sklearn.svm import LinearSVC\n",
    "from sklearn.pipeline import make_pipeline"
   ]
  },
  {
   "cell_type": "code",
   "execution_count": null,
   "metadata": {
    "ExecuteTime": {
     "end_time": "2020-11-19T22:53:32.260175Z",
     "start_time": "2020-11-19T22:53:32.251190Z"
    },
    "jupyter": {
     "source_hidden": true
    }
   },
   "outputs": [],
   "source": [
    "estimators = [\n",
    "    (\"rf\", RandomForestClassifier(n_estimators=10, \n",
    "                                  random_state=1)),\n",
    "    (\"svr\", make_pipeline(StandardScaler(), \n",
    "                          LinearSVC(random_state=1, max_iter = 100000)),\n",
    "    ),\n",
    "]"
   ]
  },
  {
   "cell_type": "code",
   "execution_count": null,
   "metadata": {
    "ExecuteTime": {
     "end_time": "2020-11-19T22:53:43.329402Z",
     "start_time": "2020-11-19T22:53:32.266070Z"
    },
    "jupyter": {
     "source_hidden": true
    }
   },
   "outputs": [],
   "source": [
    "clf = StackingClassifier(\n",
    "    estimators=estimators, \n",
    "    final_estimator=LogisticRegression()\n",
    ").fit(X_train, y_train)"
   ]
  },
  {
   "cell_type": "code",
   "execution_count": null,
   "metadata": {
    "ExecuteTime": {
     "end_time": "2020-11-19T22:53:43.369950Z",
     "start_time": "2020-11-19T22:53:43.334405Z"
    },
    "jupyter": {
     "source_hidden": true
    }
   },
   "outputs": [],
   "source": [
    "clf.score(X_train, y_train)"
   ]
  },
  {
   "cell_type": "code",
   "execution_count": null,
   "metadata": {
    "ExecuteTime": {
     "end_time": "2020-11-19T22:53:43.444423Z",
     "start_time": "2020-11-19T22:53:43.376255Z"
    },
    "jupyter": {
     "source_hidden": true
    }
   },
   "outputs": [],
   "source": [
    "clf.score(X_test, y_test)"
   ]
  },
  {
   "cell_type": "markdown",
   "metadata": {},
   "source": [
    "***\n",
    "\n",
    "## Model 1"
   ]
  },
  {
   "cell_type": "code",
   "execution_count": null,
   "metadata": {
    "jupyter": {
     "source_hidden": true
    }
   },
   "outputs": [],
   "source": []
  },
  {
   "cell_type": "markdown",
   "metadata": {},
   "source": [
    "***\n",
    "\n",
    "## Model 2"
   ]
  }
 ],
 "metadata": {
  "kernelspec": {
   "display_name": "Python 3",
   "language": "python",
   "name": "python3"
  },
  "language_info": {
   "codemirror_mode": {
    "name": "ipython",
    "version": 3
   },
   "file_extension": ".py",
   "mimetype": "text/x-python",
   "name": "python",
   "nbconvert_exporter": "python",
   "pygments_lexer": "ipython3",
   "version": "3.7.9"
  },
  "notify_time": "30",
  "toc": {
   "base_numbering": 1,
   "nav_menu": {},
   "number_sections": true,
   "sideBar": false,
   "skip_h1_title": true,
   "title_cell": "Table of Contents",
   "title_sidebar": "Contents",
   "toc_cell": true,
   "toc_position": {},
   "toc_section_display": true,
   "toc_window_display": false
  }
 },
 "nbformat": 4,
 "nbformat_minor": 4
}
