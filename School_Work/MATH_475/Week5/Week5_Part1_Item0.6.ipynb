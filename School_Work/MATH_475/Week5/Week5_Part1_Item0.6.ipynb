{
 "cells": [
  {
   "cell_type": "markdown",
   "metadata": {},
   "source": [
    "## Instructions\n",
    "\n",
    "Rewrite the following Python function so it is automated rather than human in the loop."
   ]
  },
  {
   "cell_type": "markdown",
   "metadata": {},
   "source": [
    "## Old Function"
   ]
  },
  {
   "cell_type": "markdown",
   "metadata": {
    "ExecuteTime": {
     "end_time": "2020-09-18T20:23:47.553263Z",
     "start_time": "2020-09-18T20:23:47.532982Z"
    }
   },
   "source": [
    "```def cube_numbers():\n",
    "    num = float(input(\"What number would you like to cube? \"))\n",
    "    num_cubed = num * num * num\n",
    "    print(\"Your number is \" + str(num_cubed))```"
   ]
  },
  {
   "cell_type": "markdown",
   "metadata": {},
   "source": [
    "## New Function"
   ]
  },
  {
   "cell_type": "code",
   "execution_count": 1,
   "metadata": {
    "ExecuteTime": {
     "end_time": "2020-09-18T20:30:27.433815Z",
     "start_time": "2020-09-18T20:30:27.423287Z"
    }
   },
   "outputs": [],
   "source": [
    "def cube_numbers(n):\n",
    "    \"\"\"\n",
    "    Input\n",
    "    -----\n",
    "    n : value to cube\n",
    " \n",
    "    Return\n",
    "    ------\n",
    "    cube : value of n cubed\n",
    "    \n",
    "    Example\n",
    "    _______\n",
    "    cube_numbers(3) returns 27\n",
    "    \n",
    "    \"\"\"\n",
    "    return n**3"
   ]
  },
  {
   "cell_type": "code",
   "execution_count": 2,
   "metadata": {
    "ExecuteTime": {
     "end_time": "2020-09-18T20:30:27.481371Z",
     "start_time": "2020-09-18T20:30:27.436334Z"
    }
   },
   "outputs": [
    {
     "name": "stdout",
     "output_type": "stream",
     "text": [
      "Wall time: 0 ns\n"
     ]
    },
    {
     "data": {
      "text/plain": [
       "27"
      ]
     },
     "execution_count": 2,
     "metadata": {},
     "output_type": "execute_result"
    }
   ],
   "source": [
    "%time cube_numbers(3)"
   ]
  }
 ],
 "metadata": {
  "kernelspec": {
   "display_name": "Python 3",
   "language": "python",
   "name": "python3"
  },
  "language_info": {
   "codemirror_mode": {
    "name": "ipython",
    "version": 3
   },
   "file_extension": ".py",
   "mimetype": "text/x-python",
   "name": "python",
   "nbconvert_exporter": "python",
   "pygments_lexer": "ipython3",
   "version": "3.8.5"
  },
  "toc": {
   "base_numbering": 1,
   "nav_menu": {},
   "number_sections": false,
   "sideBar": true,
   "skip_h1_title": false,
   "title_cell": "Table of Contents",
   "title_sidebar": "Contents",
   "toc_cell": false,
   "toc_position": {},
   "toc_section_display": true,
   "toc_window_display": true
  }
 },
 "nbformat": 4,
 "nbformat_minor": 4
}
