{
 "cells": [
  {
   "cell_type": "code",
   "execution_count": 14,
   "metadata": {},
   "outputs": [],
   "source": [
    "import pandas as pd\n",
    "from getbibleverse import verse_lookup"
   ]
  },
  {
   "cell_type": "code",
   "execution_count": 15,
   "metadata": {},
   "outputs": [],
   "source": [
    "def store_verses(bible_books, bible_chapters, bible_verses):\n",
    "\n",
    "    # create empty df to store verses \n",
    "    verses_df = pd.DataFrame(columns=[\"bookname\", \"chapter\", \"verse\", \"text\"])\n",
    "    \n",
    "    # get verses and store in data frame\n",
    "    if verse_lookup([book for book in bible_books], [chapter for chapter in bible_chapters], [verse for verse in bible_verses]) is None:\n",
    "        print(\"That didn't work.\")\n",
    "    else:\n",
    "        verses = pd.json_normalize(\n",
    "            verse_lookup([book for book in bible_books], [chapter for chapter in bible_chapters], [verse for verse in bible_verses])\n",
    "        )\n",
    "        verses_df = pd.concat([verses_df, verses], ignore_index=True)\n",
    "\n",
    "    # combine data frame values\n",
    "    books = \"\".join(pd.unique(verses_df[\"bookname\"]))\n",
    "    chapters = \"\".join(pd.unique(verses_df[\"chapter\"]))\n",
    "    verses = \"1-10\"\n",
    "    text = \"\".join(pd.unique(verses_df[\"text\"]))\n",
    "\n",
    "    return print(\"{} \\n- {} {}:{}\".format(text, books, chapters, verses))"
   ]
  },
  {
   "cell_type": "code",
   "execution_count": 16,
   "metadata": {},
   "outputs": [
    {
     "name": "stdout",
     "output_type": "stream",
     "text": [
      "Cannot find that book.\n",
      "That didn't work.\n",
      " \n",
      "-  :1-10\n"
     ]
    }
   ],
   "source": [
    "store_verses(['Genesis','Ephesians'], ['1','1'], ['1-10', '1-10'])"
   ]
  },
  {
   "cell_type": "code",
   "execution_count": 17,
   "metadata": {},
   "outputs": [],
   "source": [
    "def store_verses2(bible_books, bible_chapters, bible_verses):\n",
    "     # create empty df to store verses \n",
    "    verses_df = pd.DataFrame(columns=[\"bookname\", \"chapter\", \"verse\", \"text\"])\n",
    "    #verses = pd.json_normalize(\n",
    "    #        verse_lookup(bible_books, bible_chapters, bible_verses)\n",
    "    #    )\n",
    "    #verses_df = pd.concat([verses_df, verses], ignore_index=True)\n",
    "\n",
    "    return print([book for book in bible_books], [chapter for chapter in bible_chapters], [verse for verse in bible_verses])\n"
   ]
  },
  {
   "cell_type": "code",
   "execution_count": 18,
   "metadata": {},
   "outputs": [
    {
     "name": "stdout",
     "output_type": "stream",
     "text": [
      "['Genesis', 'Ephesians'] ['1', '1'] ['1-10', '1-10']\n"
     ]
    }
   ],
   "source": [
    "store_verses2(['Genesis','Ephesians'], ['1','1'], ['1-10', '1-10'])"
   ]
  },
  {
   "cell_type": "code",
   "execution_count": null,
   "metadata": {},
   "outputs": [],
   "source": []
  }
 ],
 "metadata": {
  "kernelspec": {
   "display_name": "Python 3.10.8 64-bit",
   "language": "python",
   "name": "python3"
  },
  "language_info": {
   "codemirror_mode": {
    "name": "ipython",
    "version": 3
   },
   "file_extension": ".py",
   "mimetype": "text/x-python",
   "name": "python",
   "nbconvert_exporter": "python",
   "pygments_lexer": "ipython3",
   "version": "3.10.8"
  },
  "orig_nbformat": 4,
  "vscode": {
   "interpreter": {
    "hash": "9f0d103aebe82dfbb47ec724a2ca4fd3dcb0c9038207abb072b7913218171667"
   }
  }
 },
 "nbformat": 4,
 "nbformat_minor": 2
}
