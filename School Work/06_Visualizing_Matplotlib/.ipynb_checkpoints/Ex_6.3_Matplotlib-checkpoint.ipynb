{
 "cells": [
  {
   "cell_type": "markdown",
   "metadata": {},
   "source": [
    "# Ex 6.3 Matplotlib \n",
    "\n",
    "- [**In Class**](#In-Class)  \n",
    "  - [In Class Chart 1](#In-Class-Chart-1)  \n",
    "  - [In Class Chart 2](#In-Class-Chart-2) \n",
    "  - [In Class Chart 3](#In-Class-Chart-3) \n",
    "  \n",
    " \n",
    "- [**Ex 6.3**](#Ex-6.3)   \n",
    "  - [Ex Chart 1](#Ex-Chart-1)  \n",
    "  - [Ex Chart 2](#Ex-Chart-2) \n",
    "  - [Ex Chart 3](#Ex-Chart-3)  \n",
    "  - [Ex Chart 4](#Ex-Chart-4)      \n",
    "  - [Ex Chart 5](#Ex-Chart-5)      \n"
   ]
  },
  {
   "cell_type": "code",
   "execution_count": 341,
   "metadata": {},
   "outputs": [],
   "source": [
    "import matplotlib\n",
    "import matplotlib.pyplot as plt\n",
    "import pandas as pd"
   ]
  },
  {
   "cell_type": "code",
   "execution_count": 342,
   "metadata": {},
   "outputs": [],
   "source": [
    "plt.rcParams[\"figure.figsize\"]=5,5\n",
    "#plt.rcdefaults()"
   ]
  },
  {
   "cell_type": "markdown",
   "metadata": {},
   "source": [
    "# In Class"
   ]
  },
  {
   "cell_type": "markdown",
   "metadata": {},
   "source": [
    "# In Class Chart 1  \n",
    "- Data source:  *Country_Data.csv*\n",
    "- Plot Population Over Time for US vs Canada\n",
    "- Use all years in the data source \n",
    "- Divide the populations by one million and indicate that in the chart title"
   ]
  },
  {
   "cell_type": "markdown",
   "metadata": {},
   "source": [
    "### Read data"
   ]
  },
  {
   "cell_type": "code",
   "execution_count": 343,
   "metadata": {},
   "outputs": [
    {
     "data": {
      "text/html": [
       "<div>\n",
       "<style scoped>\n",
       "    .dataframe tbody tr th:only-of-type {\n",
       "        vertical-align: middle;\n",
       "    }\n",
       "\n",
       "    .dataframe tbody tr th {\n",
       "        vertical-align: top;\n",
       "    }\n",
       "\n",
       "    .dataframe thead th {\n",
       "        text-align: right;\n",
       "    }\n",
       "</style>\n",
       "<table border=\"1\" class=\"dataframe\">\n",
       "  <thead>\n",
       "    <tr style=\"text-align: right;\">\n",
       "      <th></th>\n",
       "      <th>country</th>\n",
       "      <th>continent</th>\n",
       "      <th>year</th>\n",
       "      <th>lifeExpectancy</th>\n",
       "      <th>population</th>\n",
       "      <th>gdpPerCapita</th>\n",
       "    </tr>\n",
       "  </thead>\n",
       "  <tbody>\n",
       "    <tr>\n",
       "      <th>0</th>\n",
       "      <td>Afghanistan</td>\n",
       "      <td>Asia</td>\n",
       "      <td>1952</td>\n",
       "      <td>28.801</td>\n",
       "      <td>8425333</td>\n",
       "      <td>779.445314</td>\n",
       "    </tr>\n",
       "    <tr>\n",
       "      <th>1</th>\n",
       "      <td>Afghanistan</td>\n",
       "      <td>Asia</td>\n",
       "      <td>1957</td>\n",
       "      <td>30.332</td>\n",
       "      <td>9240934</td>\n",
       "      <td>820.853030</td>\n",
       "    </tr>\n",
       "    <tr>\n",
       "      <th>2</th>\n",
       "      <td>Afghanistan</td>\n",
       "      <td>Asia</td>\n",
       "      <td>1962</td>\n",
       "      <td>31.997</td>\n",
       "      <td>10267083</td>\n",
       "      <td>853.100710</td>\n",
       "    </tr>\n",
       "    <tr>\n",
       "      <th>3</th>\n",
       "      <td>Afghanistan</td>\n",
       "      <td>Asia</td>\n",
       "      <td>1967</td>\n",
       "      <td>34.020</td>\n",
       "      <td>11537966</td>\n",
       "      <td>836.197138</td>\n",
       "    </tr>\n",
       "    <tr>\n",
       "      <th>4</th>\n",
       "      <td>Afghanistan</td>\n",
       "      <td>Asia</td>\n",
       "      <td>1972</td>\n",
       "      <td>36.088</td>\n",
       "      <td>13079460</td>\n",
       "      <td>739.981106</td>\n",
       "    </tr>\n",
       "  </tbody>\n",
       "</table>\n",
       "</div>"
      ],
      "text/plain": [
       "       country continent  year  lifeExpectancy  population  gdpPerCapita\n",
       "0  Afghanistan      Asia  1952          28.801     8425333    779.445314\n",
       "1  Afghanistan      Asia  1957          30.332     9240934    820.853030\n",
       "2  Afghanistan      Asia  1962          31.997    10267083    853.100710\n",
       "3  Afghanistan      Asia  1967          34.020    11537966    836.197138\n",
       "4  Afghanistan      Asia  1972          36.088    13079460    739.981106"
      ]
     },
     "execution_count": 343,
     "metadata": {},
     "output_type": "execute_result"
    }
   ],
   "source": [
    "df_1  = pd.read_csv('Data/Country_Data.csv')\n",
    "df_1.head()"
   ]
  },
  {
   "cell_type": "code",
   "execution_count": 344,
   "metadata": {},
   "outputs": [],
   "source": [
    "df_1['population'] = df_1['population']/1000000"
   ]
  },
  {
   "cell_type": "markdown",
   "metadata": {},
   "source": [
    "### Pivot Data from Tall to Wide Shape for *population*"
   ]
  },
  {
   "cell_type": "code",
   "execution_count": 345,
   "metadata": {},
   "outputs": [
    {
     "data": {
      "text/html": [
       "<div>\n",
       "<style scoped>\n",
       "    .dataframe tbody tr th:only-of-type {\n",
       "        vertical-align: middle;\n",
       "    }\n",
       "\n",
       "    .dataframe tbody tr th {\n",
       "        vertical-align: top;\n",
       "    }\n",
       "\n",
       "    .dataframe thead th {\n",
       "        text-align: right;\n",
       "    }\n",
       "</style>\n",
       "<table border=\"1\" class=\"dataframe\">\n",
       "  <thead>\n",
       "    <tr style=\"text-align: right;\">\n",
       "      <th>country</th>\n",
       "      <th>Afghanistan</th>\n",
       "      <th>Albania</th>\n",
       "      <th>Algeria</th>\n",
       "      <th>Angola</th>\n",
       "      <th>Argentina</th>\n",
       "      <th>Australia</th>\n",
       "      <th>Austria</th>\n",
       "      <th>Bahrain</th>\n",
       "      <th>Bangladesh</th>\n",
       "      <th>Belgium</th>\n",
       "      <th>...</th>\n",
       "      <th>Uganda</th>\n",
       "      <th>United Kingdom</th>\n",
       "      <th>United States</th>\n",
       "      <th>Uruguay</th>\n",
       "      <th>Venezuela</th>\n",
       "      <th>Vietnam</th>\n",
       "      <th>West Bank and Gaza</th>\n",
       "      <th>Yemen, Rep.</th>\n",
       "      <th>Zambia</th>\n",
       "      <th>Zimbabwe</th>\n",
       "    </tr>\n",
       "    <tr>\n",
       "      <th>year</th>\n",
       "      <th></th>\n",
       "      <th></th>\n",
       "      <th></th>\n",
       "      <th></th>\n",
       "      <th></th>\n",
       "      <th></th>\n",
       "      <th></th>\n",
       "      <th></th>\n",
       "      <th></th>\n",
       "      <th></th>\n",
       "      <th></th>\n",
       "      <th></th>\n",
       "      <th></th>\n",
       "      <th></th>\n",
       "      <th></th>\n",
       "      <th></th>\n",
       "      <th></th>\n",
       "      <th></th>\n",
       "      <th></th>\n",
       "      <th></th>\n",
       "      <th></th>\n",
       "    </tr>\n",
       "  </thead>\n",
       "  <tbody>\n",
       "    <tr>\n",
       "      <th>1952</th>\n",
       "      <td>8.425333</td>\n",
       "      <td>1.282697</td>\n",
       "      <td>9.279525</td>\n",
       "      <td>4.232095</td>\n",
       "      <td>17.876956</td>\n",
       "      <td>8.691212</td>\n",
       "      <td>6.927772</td>\n",
       "      <td>0.120447</td>\n",
       "      <td>46.886859</td>\n",
       "      <td>8.730405</td>\n",
       "      <td>...</td>\n",
       "      <td>5.824797</td>\n",
       "      <td>50.430</td>\n",
       "      <td>157.553</td>\n",
       "      <td>2.252965</td>\n",
       "      <td>5.439568</td>\n",
       "      <td>26.246839</td>\n",
       "      <td>1.030585</td>\n",
       "      <td>4.963829</td>\n",
       "      <td>2.672000</td>\n",
       "      <td>3.080907</td>\n",
       "    </tr>\n",
       "    <tr>\n",
       "      <th>1957</th>\n",
       "      <td>9.240934</td>\n",
       "      <td>1.476505</td>\n",
       "      <td>10.270856</td>\n",
       "      <td>4.561361</td>\n",
       "      <td>19.610538</td>\n",
       "      <td>9.712569</td>\n",
       "      <td>6.965860</td>\n",
       "      <td>0.138655</td>\n",
       "      <td>51.365468</td>\n",
       "      <td>8.989111</td>\n",
       "      <td>...</td>\n",
       "      <td>6.675501</td>\n",
       "      <td>51.430</td>\n",
       "      <td>171.984</td>\n",
       "      <td>2.424959</td>\n",
       "      <td>6.702668</td>\n",
       "      <td>28.998543</td>\n",
       "      <td>1.070439</td>\n",
       "      <td>5.498090</td>\n",
       "      <td>3.016000</td>\n",
       "      <td>3.646340</td>\n",
       "    </tr>\n",
       "    <tr>\n",
       "      <th>1962</th>\n",
       "      <td>10.267083</td>\n",
       "      <td>1.728137</td>\n",
       "      <td>11.000948</td>\n",
       "      <td>4.826015</td>\n",
       "      <td>21.283783</td>\n",
       "      <td>10.794968</td>\n",
       "      <td>7.129864</td>\n",
       "      <td>0.171863</td>\n",
       "      <td>56.839289</td>\n",
       "      <td>9.218400</td>\n",
       "      <td>...</td>\n",
       "      <td>7.688797</td>\n",
       "      <td>53.292</td>\n",
       "      <td>186.538</td>\n",
       "      <td>2.598466</td>\n",
       "      <td>8.143375</td>\n",
       "      <td>33.796140</td>\n",
       "      <td>1.133134</td>\n",
       "      <td>6.120081</td>\n",
       "      <td>3.421000</td>\n",
       "      <td>4.277736</td>\n",
       "    </tr>\n",
       "    <tr>\n",
       "      <th>1967</th>\n",
       "      <td>11.537966</td>\n",
       "      <td>1.984060</td>\n",
       "      <td>12.760499</td>\n",
       "      <td>5.247469</td>\n",
       "      <td>22.934225</td>\n",
       "      <td>11.872264</td>\n",
       "      <td>7.376998</td>\n",
       "      <td>0.202182</td>\n",
       "      <td>62.821884</td>\n",
       "      <td>9.556500</td>\n",
       "      <td>...</td>\n",
       "      <td>8.900294</td>\n",
       "      <td>54.959</td>\n",
       "      <td>198.712</td>\n",
       "      <td>2.748579</td>\n",
       "      <td>9.709552</td>\n",
       "      <td>39.463910</td>\n",
       "      <td>1.142636</td>\n",
       "      <td>6.740785</td>\n",
       "      <td>3.900000</td>\n",
       "      <td>4.995432</td>\n",
       "    </tr>\n",
       "    <tr>\n",
       "      <th>1972</th>\n",
       "      <td>13.079460</td>\n",
       "      <td>2.263554</td>\n",
       "      <td>14.760787</td>\n",
       "      <td>5.894858</td>\n",
       "      <td>24.779799</td>\n",
       "      <td>13.177000</td>\n",
       "      <td>7.544201</td>\n",
       "      <td>0.230800</td>\n",
       "      <td>70.759295</td>\n",
       "      <td>9.709100</td>\n",
       "      <td>...</td>\n",
       "      <td>10.190285</td>\n",
       "      <td>56.079</td>\n",
       "      <td>209.896</td>\n",
       "      <td>2.829526</td>\n",
       "      <td>11.515649</td>\n",
       "      <td>44.655014</td>\n",
       "      <td>1.089572</td>\n",
       "      <td>7.407075</td>\n",
       "      <td>4.506497</td>\n",
       "      <td>5.861135</td>\n",
       "    </tr>\n",
       "  </tbody>\n",
       "</table>\n",
       "<p>5 rows × 142 columns</p>\n",
       "</div>"
      ],
      "text/plain": [
       "country  Afghanistan   Albania    Algeria    Angola  Argentina  Australia  \\\n",
       "year                                                                        \n",
       "1952        8.425333  1.282697   9.279525  4.232095  17.876956   8.691212   \n",
       "1957        9.240934  1.476505  10.270856  4.561361  19.610538   9.712569   \n",
       "1962       10.267083  1.728137  11.000948  4.826015  21.283783  10.794968   \n",
       "1967       11.537966  1.984060  12.760499  5.247469  22.934225  11.872264   \n",
       "1972       13.079460  2.263554  14.760787  5.894858  24.779799  13.177000   \n",
       "\n",
       "country   Austria   Bahrain  Bangladesh   Belgium  ...     Uganda  \\\n",
       "year                                               ...              \n",
       "1952     6.927772  0.120447   46.886859  8.730405  ...   5.824797   \n",
       "1957     6.965860  0.138655   51.365468  8.989111  ...   6.675501   \n",
       "1962     7.129864  0.171863   56.839289  9.218400  ...   7.688797   \n",
       "1967     7.376998  0.202182   62.821884  9.556500  ...   8.900294   \n",
       "1972     7.544201  0.230800   70.759295  9.709100  ...  10.190285   \n",
       "\n",
       "country  United Kingdom  United States   Uruguay  Venezuela    Vietnam  \\\n",
       "year                                                                     \n",
       "1952             50.430        157.553  2.252965   5.439568  26.246839   \n",
       "1957             51.430        171.984  2.424959   6.702668  28.998543   \n",
       "1962             53.292        186.538  2.598466   8.143375  33.796140   \n",
       "1967             54.959        198.712  2.748579   9.709552  39.463910   \n",
       "1972             56.079        209.896  2.829526  11.515649  44.655014   \n",
       "\n",
       "country  West Bank and Gaza  Yemen, Rep.    Zambia  Zimbabwe  \n",
       "year                                                          \n",
       "1952               1.030585     4.963829  2.672000  3.080907  \n",
       "1957               1.070439     5.498090  3.016000  3.646340  \n",
       "1962               1.133134     6.120081  3.421000  4.277736  \n",
       "1967               1.142636     6.740785  3.900000  4.995432  \n",
       "1972               1.089572     7.407075  4.506497  5.861135  \n",
       "\n",
       "[5 rows x 142 columns]"
      ]
     },
     "execution_count": 345,
     "metadata": {},
     "output_type": "execute_result"
    }
   ],
   "source": [
    "df_country = df_1.pivot(index='year', columns='country', values='population')\n",
    "df_country.head()"
   ]
  },
  {
   "cell_type": "markdown",
   "metadata": {},
   "source": [
    "### Plot"
   ]
  },
  {
   "cell_type": "code",
   "execution_count": 346,
   "metadata": {},
   "outputs": [
    {
     "data": {
      "image/png": "[encoded data removed]",
      "text/plain": [
       "<Figure size 500x500 with 1 Axes>"
      ]
     },
     "metadata": {},
     "output_type": "display_data"
    }
   ],
   "source": [
    "plt.plot(df_country.index,\n",
    "        df_country['United States'],\n",
    "         label='United States',\n",
    "        marker='D',\n",
    "        linestyle=':',\n",
    "        color='green',\n",
    "        linewidth=3)\n",
    "\n",
    "plt.plot(df_country.index,\n",
    "         df_country['Canada'],\n",
    "         label='Canada',marker='D',\n",
    "         linestyle=':', \n",
    "         color='blue')\n",
    "\n",
    "plt.ylabel('Population (millions)')\n",
    "\n",
    "plt.legend()\n",
    "plt.title('United States and Canada Pop (millions)')\n",
    "plt.show()"
   ]
  },
  {
   "cell_type": "markdown",
   "metadata": {},
   "source": [
    "# In Class Chart 2\n",
    "- Data source:  *Country_Data.csv*\n",
    "- Plot Life Expectancy on a Multi-Line Chart for For China, Thailand, Vietnam\n",
    "- For all years after the 1960's\n"
   ]
  },
  {
   "cell_type": "markdown",
   "metadata": {},
   "source": [
    "### Read data  \n",
    "- Reuse the df_country dataframe created above"
   ]
  },
  {
   "cell_type": "code",
   "execution_count": 347,
   "metadata": {},
   "outputs": [],
   "source": [
    "df_2 = df_1"
   ]
  },
  {
   "cell_type": "markdown",
   "metadata": {},
   "source": [
    "### Pivot Data from Tall to Wide on Life Expectancy"
   ]
  },
  {
   "cell_type": "code",
   "execution_count": 348,
   "metadata": {},
   "outputs": [
    {
     "data": {
      "text/html": [
       "<div>\n",
       "<style scoped>\n",
       "    .dataframe tbody tr th:only-of-type {\n",
       "        vertical-align: middle;\n",
       "    }\n",
       "\n",
       "    .dataframe tbody tr th {\n",
       "        vertical-align: top;\n",
       "    }\n",
       "\n",
       "    .dataframe thead th {\n",
       "        text-align: right;\n",
       "    }\n",
       "</style>\n",
       "<table border=\"1\" class=\"dataframe\">\n",
       "  <thead>\n",
       "    <tr style=\"text-align: right;\">\n",
       "      <th>country</th>\n",
       "      <th>Afghanistan</th>\n",
       "      <th>Albania</th>\n",
       "      <th>Algeria</th>\n",
       "      <th>Angola</th>\n",
       "      <th>Argentina</th>\n",
       "      <th>Australia</th>\n",
       "      <th>Austria</th>\n",
       "      <th>Bahrain</th>\n",
       "      <th>Bangladesh</th>\n",
       "      <th>Belgium</th>\n",
       "      <th>...</th>\n",
       "      <th>Uganda</th>\n",
       "      <th>United Kingdom</th>\n",
       "      <th>United States</th>\n",
       "      <th>Uruguay</th>\n",
       "      <th>Venezuela</th>\n",
       "      <th>Vietnam</th>\n",
       "      <th>West Bank and Gaza</th>\n",
       "      <th>Yemen, Rep.</th>\n",
       "      <th>Zambia</th>\n",
       "      <th>Zimbabwe</th>\n",
       "    </tr>\n",
       "    <tr>\n",
       "      <th>year</th>\n",
       "      <th></th>\n",
       "      <th></th>\n",
       "      <th></th>\n",
       "      <th></th>\n",
       "      <th></th>\n",
       "      <th></th>\n",
       "      <th></th>\n",
       "      <th></th>\n",
       "      <th></th>\n",
       "      <th></th>\n",
       "      <th></th>\n",
       "      <th></th>\n",
       "      <th></th>\n",
       "      <th></th>\n",
       "      <th></th>\n",
       "      <th></th>\n",
       "      <th></th>\n",
       "      <th></th>\n",
       "      <th></th>\n",
       "      <th></th>\n",
       "      <th></th>\n",
       "    </tr>\n",
       "  </thead>\n",
       "  <tbody>\n",
       "    <tr>\n",
       "      <th>1952</th>\n",
       "      <td>28.801</td>\n",
       "      <td>55.23</td>\n",
       "      <td>43.077</td>\n",
       "      <td>30.015</td>\n",
       "      <td>62.485</td>\n",
       "      <td>69.12</td>\n",
       "      <td>66.80</td>\n",
       "      <td>50.939</td>\n",
       "      <td>37.484</td>\n",
       "      <td>68.00</td>\n",
       "      <td>...</td>\n",
       "      <td>39.978</td>\n",
       "      <td>69.18</td>\n",
       "      <td>68.44</td>\n",
       "      <td>66.071</td>\n",
       "      <td>55.088</td>\n",
       "      <td>40.412</td>\n",
       "      <td>43.160</td>\n",
       "      <td>32.548</td>\n",
       "      <td>42.038</td>\n",
       "      <td>48.451</td>\n",
       "    </tr>\n",
       "    <tr>\n",
       "      <th>1957</th>\n",
       "      <td>30.332</td>\n",
       "      <td>59.28</td>\n",
       "      <td>45.685</td>\n",
       "      <td>31.999</td>\n",
       "      <td>64.399</td>\n",
       "      <td>70.33</td>\n",
       "      <td>67.48</td>\n",
       "      <td>53.832</td>\n",
       "      <td>39.348</td>\n",
       "      <td>69.24</td>\n",
       "      <td>...</td>\n",
       "      <td>42.571</td>\n",
       "      <td>70.42</td>\n",
       "      <td>69.49</td>\n",
       "      <td>67.044</td>\n",
       "      <td>57.907</td>\n",
       "      <td>42.887</td>\n",
       "      <td>45.671</td>\n",
       "      <td>33.970</td>\n",
       "      <td>44.077</td>\n",
       "      <td>50.469</td>\n",
       "    </tr>\n",
       "    <tr>\n",
       "      <th>1962</th>\n",
       "      <td>31.997</td>\n",
       "      <td>64.82</td>\n",
       "      <td>48.303</td>\n",
       "      <td>34.000</td>\n",
       "      <td>65.142</td>\n",
       "      <td>70.93</td>\n",
       "      <td>69.54</td>\n",
       "      <td>56.923</td>\n",
       "      <td>41.216</td>\n",
       "      <td>70.25</td>\n",
       "      <td>...</td>\n",
       "      <td>45.344</td>\n",
       "      <td>70.76</td>\n",
       "      <td>70.21</td>\n",
       "      <td>68.253</td>\n",
       "      <td>60.770</td>\n",
       "      <td>45.363</td>\n",
       "      <td>48.127</td>\n",
       "      <td>35.180</td>\n",
       "      <td>46.023</td>\n",
       "      <td>52.358</td>\n",
       "    </tr>\n",
       "    <tr>\n",
       "      <th>1967</th>\n",
       "      <td>34.020</td>\n",
       "      <td>66.22</td>\n",
       "      <td>51.407</td>\n",
       "      <td>35.985</td>\n",
       "      <td>65.634</td>\n",
       "      <td>71.10</td>\n",
       "      <td>70.14</td>\n",
       "      <td>59.923</td>\n",
       "      <td>43.453</td>\n",
       "      <td>70.94</td>\n",
       "      <td>...</td>\n",
       "      <td>48.051</td>\n",
       "      <td>71.36</td>\n",
       "      <td>70.76</td>\n",
       "      <td>68.468</td>\n",
       "      <td>63.479</td>\n",
       "      <td>47.838</td>\n",
       "      <td>51.631</td>\n",
       "      <td>36.984</td>\n",
       "      <td>47.768</td>\n",
       "      <td>53.995</td>\n",
       "    </tr>\n",
       "    <tr>\n",
       "      <th>1972</th>\n",
       "      <td>36.088</td>\n",
       "      <td>67.69</td>\n",
       "      <td>54.518</td>\n",
       "      <td>37.928</td>\n",
       "      <td>67.065</td>\n",
       "      <td>71.93</td>\n",
       "      <td>70.63</td>\n",
       "      <td>63.300</td>\n",
       "      <td>45.252</td>\n",
       "      <td>71.44</td>\n",
       "      <td>...</td>\n",
       "      <td>51.016</td>\n",
       "      <td>72.01</td>\n",
       "      <td>71.34</td>\n",
       "      <td>68.673</td>\n",
       "      <td>65.712</td>\n",
       "      <td>50.254</td>\n",
       "      <td>56.532</td>\n",
       "      <td>39.848</td>\n",
       "      <td>50.107</td>\n",
       "      <td>55.635</td>\n",
       "    </tr>\n",
       "  </tbody>\n",
       "</table>\n",
       "<p>5 rows × 142 columns</p>\n",
       "</div>"
      ],
      "text/plain": [
       "country  Afghanistan  Albania  Algeria  Angola  Argentina  Australia  Austria  \\\n",
       "year                                                                            \n",
       "1952          28.801    55.23   43.077  30.015     62.485      69.12    66.80   \n",
       "1957          30.332    59.28   45.685  31.999     64.399      70.33    67.48   \n",
       "1962          31.997    64.82   48.303  34.000     65.142      70.93    69.54   \n",
       "1967          34.020    66.22   51.407  35.985     65.634      71.10    70.14   \n",
       "1972          36.088    67.69   54.518  37.928     67.065      71.93    70.63   \n",
       "\n",
       "country  Bahrain  Bangladesh  Belgium  ...  Uganda  United Kingdom  \\\n",
       "year                                   ...                           \n",
       "1952      50.939      37.484    68.00  ...  39.978           69.18   \n",
       "1957      53.832      39.348    69.24  ...  42.571           70.42   \n",
       "1962      56.923      41.216    70.25  ...  45.344           70.76   \n",
       "1967      59.923      43.453    70.94  ...  48.051           71.36   \n",
       "1972      63.300      45.252    71.44  ...  51.016           72.01   \n",
       "\n",
       "country  United States  Uruguay  Venezuela  Vietnam  West Bank and Gaza  \\\n",
       "year                                                                      \n",
       "1952             68.44   66.071     55.088   40.412              43.160   \n",
       "1957             69.49   67.044     57.907   42.887              45.671   \n",
       "1962             70.21   68.253     60.770   45.363              48.127   \n",
       "1967             70.76   68.468     63.479   47.838              51.631   \n",
       "1972             71.34   68.673     65.712   50.254              56.532   \n",
       "\n",
       "country  Yemen, Rep.  Zambia  Zimbabwe  \n",
       "year                                    \n",
       "1952          32.548  42.038    48.451  \n",
       "1957          33.970  44.077    50.469  \n",
       "1962          35.180  46.023    52.358  \n",
       "1967          36.984  47.768    53.995  \n",
       "1972          39.848  50.107    55.635  \n",
       "\n",
       "[5 rows x 142 columns]"
      ]
     },
     "execution_count": 348,
     "metadata": {},
     "output_type": "execute_result"
    }
   ],
   "source": [
    "df_country_wide = df_1.pivot(index='year', columns='country', values='lifeExpectancy')\n",
    "df_country_wide.head()"
   ]
  },
  {
   "cell_type": "markdown",
   "metadata": {},
   "source": [
    "### Subset the dataframe:  Years after the 1960's  \n",
    "- Use .loc[] to do this rather than a boolean filter"
   ]
  },
  {
   "cell_type": "code",
   "execution_count": 349,
   "metadata": {},
   "outputs": [
    {
     "data": {
      "text/html": [
       "<div>\n",
       "<style scoped>\n",
       "    .dataframe tbody tr th:only-of-type {\n",
       "        vertical-align: middle;\n",
       "    }\n",
       "\n",
       "    .dataframe tbody tr th {\n",
       "        vertical-align: top;\n",
       "    }\n",
       "\n",
       "    .dataframe thead th {\n",
       "        text-align: right;\n",
       "    }\n",
       "</style>\n",
       "<table border=\"1\" class=\"dataframe\">\n",
       "  <thead>\n",
       "    <tr style=\"text-align: right;\">\n",
       "      <th>country</th>\n",
       "      <th>Afghanistan</th>\n",
       "      <th>Albania</th>\n",
       "      <th>Algeria</th>\n",
       "      <th>Angola</th>\n",
       "      <th>Argentina</th>\n",
       "      <th>Australia</th>\n",
       "      <th>Austria</th>\n",
       "      <th>Bahrain</th>\n",
       "      <th>Bangladesh</th>\n",
       "      <th>Belgium</th>\n",
       "      <th>...</th>\n",
       "      <th>Uganda</th>\n",
       "      <th>United Kingdom</th>\n",
       "      <th>United States</th>\n",
       "      <th>Uruguay</th>\n",
       "      <th>Venezuela</th>\n",
       "      <th>Vietnam</th>\n",
       "      <th>West Bank and Gaza</th>\n",
       "      <th>Yemen, Rep.</th>\n",
       "      <th>Zambia</th>\n",
       "      <th>Zimbabwe</th>\n",
       "    </tr>\n",
       "    <tr>\n",
       "      <th>year</th>\n",
       "      <th></th>\n",
       "      <th></th>\n",
       "      <th></th>\n",
       "      <th></th>\n",
       "      <th></th>\n",
       "      <th></th>\n",
       "      <th></th>\n",
       "      <th></th>\n",
       "      <th></th>\n",
       "      <th></th>\n",
       "      <th></th>\n",
       "      <th></th>\n",
       "      <th></th>\n",
       "      <th></th>\n",
       "      <th></th>\n",
       "      <th></th>\n",
       "      <th></th>\n",
       "      <th></th>\n",
       "      <th></th>\n",
       "      <th></th>\n",
       "      <th></th>\n",
       "    </tr>\n",
       "  </thead>\n",
       "  <tbody>\n",
       "    <tr>\n",
       "      <th>1972</th>\n",
       "      <td>36.088</td>\n",
       "      <td>67.690</td>\n",
       "      <td>54.518</td>\n",
       "      <td>37.928</td>\n",
       "      <td>67.065</td>\n",
       "      <td>71.93</td>\n",
       "      <td>70.63</td>\n",
       "      <td>63.300</td>\n",
       "      <td>45.252</td>\n",
       "      <td>71.44</td>\n",
       "      <td>...</td>\n",
       "      <td>51.016</td>\n",
       "      <td>72.010</td>\n",
       "      <td>71.34</td>\n",
       "      <td>68.673</td>\n",
       "      <td>65.712</td>\n",
       "      <td>50.254</td>\n",
       "      <td>56.532</td>\n",
       "      <td>39.848</td>\n",
       "      <td>50.107</td>\n",
       "      <td>55.635</td>\n",
       "    </tr>\n",
       "    <tr>\n",
       "      <th>1977</th>\n",
       "      <td>38.438</td>\n",
       "      <td>68.930</td>\n",
       "      <td>58.014</td>\n",
       "      <td>39.483</td>\n",
       "      <td>68.481</td>\n",
       "      <td>73.49</td>\n",
       "      <td>72.17</td>\n",
       "      <td>65.593</td>\n",
       "      <td>46.923</td>\n",
       "      <td>72.80</td>\n",
       "      <td>...</td>\n",
       "      <td>50.350</td>\n",
       "      <td>72.760</td>\n",
       "      <td>73.38</td>\n",
       "      <td>69.481</td>\n",
       "      <td>67.456</td>\n",
       "      <td>55.764</td>\n",
       "      <td>60.765</td>\n",
       "      <td>44.175</td>\n",
       "      <td>51.386</td>\n",
       "      <td>57.674</td>\n",
       "    </tr>\n",
       "    <tr>\n",
       "      <th>1982</th>\n",
       "      <td>39.854</td>\n",
       "      <td>70.420</td>\n",
       "      <td>61.368</td>\n",
       "      <td>39.942</td>\n",
       "      <td>69.942</td>\n",
       "      <td>74.74</td>\n",
       "      <td>73.18</td>\n",
       "      <td>69.052</td>\n",
       "      <td>50.009</td>\n",
       "      <td>73.93</td>\n",
       "      <td>...</td>\n",
       "      <td>49.849</td>\n",
       "      <td>74.040</td>\n",
       "      <td>74.65</td>\n",
       "      <td>70.805</td>\n",
       "      <td>68.557</td>\n",
       "      <td>58.816</td>\n",
       "      <td>64.406</td>\n",
       "      <td>49.113</td>\n",
       "      <td>51.821</td>\n",
       "      <td>60.363</td>\n",
       "    </tr>\n",
       "    <tr>\n",
       "      <th>1987</th>\n",
       "      <td>40.822</td>\n",
       "      <td>72.000</td>\n",
       "      <td>65.799</td>\n",
       "      <td>39.906</td>\n",
       "      <td>70.774</td>\n",
       "      <td>76.32</td>\n",
       "      <td>74.94</td>\n",
       "      <td>70.750</td>\n",
       "      <td>52.819</td>\n",
       "      <td>75.35</td>\n",
       "      <td>...</td>\n",
       "      <td>51.509</td>\n",
       "      <td>75.007</td>\n",
       "      <td>75.02</td>\n",
       "      <td>71.918</td>\n",
       "      <td>70.190</td>\n",
       "      <td>62.820</td>\n",
       "      <td>67.046</td>\n",
       "      <td>52.922</td>\n",
       "      <td>50.821</td>\n",
       "      <td>62.351</td>\n",
       "    </tr>\n",
       "    <tr>\n",
       "      <th>1992</th>\n",
       "      <td>41.674</td>\n",
       "      <td>71.581</td>\n",
       "      <td>67.744</td>\n",
       "      <td>40.647</td>\n",
       "      <td>71.868</td>\n",
       "      <td>77.56</td>\n",
       "      <td>76.04</td>\n",
       "      <td>72.601</td>\n",
       "      <td>56.018</td>\n",
       "      <td>76.46</td>\n",
       "      <td>...</td>\n",
       "      <td>48.825</td>\n",
       "      <td>76.420</td>\n",
       "      <td>76.09</td>\n",
       "      <td>72.752</td>\n",
       "      <td>71.150</td>\n",
       "      <td>67.662</td>\n",
       "      <td>69.718</td>\n",
       "      <td>55.599</td>\n",
       "      <td>46.100</td>\n",
       "      <td>60.377</td>\n",
       "    </tr>\n",
       "  </tbody>\n",
       "</table>\n",
       "<p>5 rows × 142 columns</p>\n",
       "</div>"
      ],
      "text/plain": [
       "country  Afghanistan  Albania  Algeria  Angola  Argentina  Australia  Austria  \\\n",
       "year                                                                            \n",
       "1972          36.088   67.690   54.518  37.928     67.065      71.93    70.63   \n",
       "1977          38.438   68.930   58.014  39.483     68.481      73.49    72.17   \n",
       "1982          39.854   70.420   61.368  39.942     69.942      74.74    73.18   \n",
       "1987          40.822   72.000   65.799  39.906     70.774      76.32    74.94   \n",
       "1992          41.674   71.581   67.744  40.647     71.868      77.56    76.04   \n",
       "\n",
       "country  Bahrain  Bangladesh  Belgium  ...  Uganda  United Kingdom  \\\n",
       "year                                   ...                           \n",
       "1972      63.300      45.252    71.44  ...  51.016          72.010   \n",
       "1977      65.593      46.923    72.80  ...  50.350          72.760   \n",
       "1982      69.052      50.009    73.93  ...  49.849          74.040   \n",
       "1987      70.750      52.819    75.35  ...  51.509          75.007   \n",
       "1992      72.601      56.018    76.46  ...  48.825          76.420   \n",
       "\n",
       "country  United States  Uruguay  Venezuela  Vietnam  West Bank and Gaza  \\\n",
       "year                                                                      \n",
       "1972             71.34   68.673     65.712   50.254              56.532   \n",
       "1977             73.38   69.481     67.456   55.764              60.765   \n",
       "1982             74.65   70.805     68.557   58.816              64.406   \n",
       "1987             75.02   71.918     70.190   62.820              67.046   \n",
       "1992             76.09   72.752     71.150   67.662              69.718   \n",
       "\n",
       "country  Yemen, Rep.  Zambia  Zimbabwe  \n",
       "year                                    \n",
       "1972          39.848  50.107    55.635  \n",
       "1977          44.175  51.386    57.674  \n",
       "1982          49.113  51.821    60.363  \n",
       "1987          52.922  50.821    62.351  \n",
       "1992          55.599  46.100    60.377  \n",
       "\n",
       "[5 rows x 142 columns]"
      ]
     },
     "execution_count": 349,
     "metadata": {},
     "output_type": "execute_result"
    }
   ],
   "source": [
    "df_after_1960 = df_country_wide.loc['1970-01-01':]\n",
    "df_after_1960.head()"
   ]
  },
  {
   "cell_type": "markdown",
   "metadata": {},
   "source": [
    "### Plot"
   ]
  },
  {
   "cell_type": "code",
   "execution_count": 350,
   "metadata": {},
   "outputs": [
    {
     "data": {
      "text/plain": [
       "Text(0.5, 1.0, 'In Class Chart 2: Life Expectancy after the 1960s')"
      ]
     },
     "execution_count": 350,
     "metadata": {},
     "output_type": "execute_result"
    },
    {
     "data": {
      "image/png": "[encoded data removed]",
      "text/plain": [
       "<Figure size 500x500 with 1 Axes>"
      ]
     },
     "metadata": {},
     "output_type": "display_data"
    }
   ],
   "source": [
    "plt.plot(df_after_1960.index,\n",
    "        df_after_1960['China'],\n",
    "        label='China',\n",
    "        marker='D',\n",
    "        linestyle=':',\n",
    "        color='green',\n",
    "        linewidth=3)\n",
    "\n",
    "plt.plot(df_after_1960.index,\n",
    "         df_after_1960['Thailand'],\n",
    "         label='Thailand',\n",
    "        marker='D',\n",
    "        linestyle=':',\n",
    "        color='purple')\n",
    "\n",
    "plt.plot(df_after_1960.index,\n",
    "        df_after_1960['Vietnam'],\n",
    "        label='Vietnam',\n",
    "        marker='D',\n",
    "        linestyle=':',\n",
    "        color='blue')\n",
    "\n",
    "plt.ylabel('Life Expectancy')\n",
    "\n",
    "plt.legend()\n",
    "plt.title(\"In Class Chart 2: Life Expectancy after the 1960s\")"
   ]
  },
  {
   "cell_type": "markdown",
   "metadata": {},
   "source": [
    "# In Class Chart 3\n",
    "- Data source: *Data_Household.csv*  \n",
    "- Plot Average Amount Spent per Month"
   ]
  },
  {
   "cell_type": "markdown",
   "metadata": {},
   "source": [
    "### Read data"
   ]
  },
  {
   "cell_type": "code",
   "execution_count": 351,
   "metadata": {},
   "outputs": [],
   "source": [
    "df_Household = pd.read_csv('Data/Data_Household.csv')"
   ]
  },
  {
   "cell_type": "markdown",
   "metadata": {},
   "source": [
    "### Cleanup Data Types as Needed"
   ]
  },
  {
   "cell_type": "code",
   "execution_count": 352,
   "metadata": {},
   "outputs": [
    {
     "data": {
      "text/plain": [
       "Month       object\n",
       "Category    object\n",
       "Amount       int64\n",
       "dtype: object"
      ]
     },
     "execution_count": 352,
     "metadata": {},
     "output_type": "execute_result"
    }
   ],
   "source": [
    "# Before\n",
    "df_Household.dtypes"
   ]
  },
  {
   "cell_type": "code",
   "execution_count": 353,
   "metadata": {},
   "outputs": [],
   "source": [
    "# Do required cleanup\n",
    "df_Household['Month']= pd.to_datetime(df_Household['Month'])"
   ]
  },
  {
   "cell_type": "code",
   "execution_count": 354,
   "metadata": {},
   "outputs": [
    {
     "data": {
      "text/plain": [
       "Month       datetime64[ns]\n",
       "Category            object\n",
       "Amount               int64\n",
       "dtype: object"
      ]
     },
     "execution_count": 354,
     "metadata": {},
     "output_type": "execute_result"
    }
   ],
   "source": [
    "# After\n",
    "df_Household.dtypes"
   ]
  },
  {
   "cell_type": "code",
   "execution_count": 355,
   "metadata": {},
   "outputs": [],
   "source": [
    "df_Household['month_name'] = df_Household['Month'].dt.strftime('%b')"
   ]
  },
  {
   "cell_type": "markdown",
   "metadata": {},
   "source": [
    "### Group by Month"
   ]
  },
  {
   "cell_type": "code",
   "execution_count": 356,
   "metadata": {},
   "outputs": [
    {
     "data": {
      "text/plain": [
       "month_name\n",
       "Feb    176.25\n",
       "Jan    146.00\n",
       "Mar    167.50\n",
       "Name: Amount, dtype: float64"
      ]
     },
     "execution_count": 356,
     "metadata": {},
     "output_type": "execute_result"
    }
   ],
   "source": [
    "month = df_Household.groupby('month_name')['Amount'].mean()\n",
    "month.head()"
   ]
  },
  {
   "cell_type": "markdown",
   "metadata": {},
   "source": [
    "### Plot"
   ]
  },
  {
   "cell_type": "code",
   "execution_count": 357,
   "metadata": {},
   "outputs": [
    {
     "data": {
      "text/plain": [
       "<matplotlib.axes._subplots.AxesSubplot at 0x1237ab70>"
      ]
     },
     "execution_count": 357,
     "metadata": {},
     "output_type": "execute_result"
    },
    {
     "data": {
      "image/png": "[encoded data removed]",
      "text/plain": [
       "<Figure size 500x500 with 1 Axes>"
      ]
     },
     "metadata": {},
     "output_type": "display_data"
    }
   ],
   "source": [
    "month_name = ['Jan', 'Feb', 'Mar']\n",
    "\n",
    "month[month_name].plot.bar(color='green',\n",
    "                           title='In Class Chart 3: Average Amount Spent per Month')"
   ]
  },
  {
   "cell_type": "markdown",
   "metadata": {},
   "source": [
    "# Ex 6.3"
   ]
  },
  {
   "cell_type": "markdown",
   "metadata": {},
   "source": [
    "# Ex Chart 1\n",
    "- Data source: *stocks_Tall.csv*  \n",
    "- Create a new dataframe named df_stocks based on df -- but with the Number of Records column dropped \n",
    "- Plot Microsoft, Netflix and Oracle on  a Multi-Line Chart"
   ]
  },
  {
   "cell_type": "code",
   "execution_count": 358,
   "metadata": {
    "scrolled": true
   },
   "outputs": [
    {
     "data": {
      "text/html": [
       "<div>\n",
       "<style scoped>\n",
       "    .dataframe tbody tr th:only-of-type {\n",
       "        vertical-align: middle;\n",
       "    }\n",
       "\n",
       "    .dataframe tbody tr th {\n",
       "        vertical-align: top;\n",
       "    }\n",
       "\n",
       "    .dataframe thead th {\n",
       "        text-align: right;\n",
       "    }\n",
       "</style>\n",
       "<table border=\"1\" class=\"dataframe\">\n",
       "  <thead>\n",
       "    <tr style=\"text-align: right;\">\n",
       "      <th></th>\n",
       "      <th>Date</th>\n",
       "      <th>Number of Records</th>\n",
       "      <th>Stock</th>\n",
       "      <th>Stock Value</th>\n",
       "    </tr>\n",
       "  </thead>\n",
       "  <tbody>\n",
       "    <tr>\n",
       "      <th>0</th>\n",
       "      <td>1/3/2007</td>\n",
       "      <td>1</td>\n",
       "      <td>Aapl</td>\n",
       "      <td>11.107141</td>\n",
       "    </tr>\n",
       "    <tr>\n",
       "      <th>1</th>\n",
       "      <td>2/1/2007</td>\n",
       "      <td>1</td>\n",
       "      <td>Aapl</td>\n",
       "      <td>10.962033</td>\n",
       "    </tr>\n",
       "    <tr>\n",
       "      <th>2</th>\n",
       "      <td>3/1/2007</td>\n",
       "      <td>1</td>\n",
       "      <td>Aapl</td>\n",
       "      <td>12.037377</td>\n",
       "    </tr>\n",
       "    <tr>\n",
       "      <th>3</th>\n",
       "      <td>4/2/2007</td>\n",
       "      <td>1</td>\n",
       "      <td>Aapl</td>\n",
       "      <td>12.930043</td>\n",
       "    </tr>\n",
       "    <tr>\n",
       "      <th>4</th>\n",
       "      <td>5/1/2007</td>\n",
       "      <td>1</td>\n",
       "      <td>Aapl</td>\n",
       "      <td>15.701322</td>\n",
       "    </tr>\n",
       "  </tbody>\n",
       "</table>\n",
       "</div>"
      ],
      "text/plain": [
       "       Date  Number of Records Stock  Stock Value\n",
       "0  1/3/2007                  1  Aapl    11.107141\n",
       "1  2/1/2007                  1  Aapl    10.962033\n",
       "2  3/1/2007                  1  Aapl    12.037377\n",
       "3  4/2/2007                  1  Aapl    12.930043\n",
       "4  5/1/2007                  1  Aapl    15.701322"
      ]
     },
     "execution_count": 358,
     "metadata": {},
     "output_type": "execute_result"
    }
   ],
   "source": [
    "df= pd.read_csv('Data//stocks_Tall.csv')\n",
    "df.head()"
   ]
  },
  {
   "cell_type": "code",
   "execution_count": 359,
   "metadata": {
    "scrolled": true
   },
   "outputs": [
    {
     "data": {
      "text/html": [
       "<div>\n",
       "<style scoped>\n",
       "    .dataframe tbody tr th:only-of-type {\n",
       "        vertical-align: middle;\n",
       "    }\n",
       "\n",
       "    .dataframe tbody tr th {\n",
       "        vertical-align: top;\n",
       "    }\n",
       "\n",
       "    .dataframe thead th {\n",
       "        text-align: right;\n",
       "    }\n",
       "</style>\n",
       "<table border=\"1\" class=\"dataframe\">\n",
       "  <thead>\n",
       "    <tr style=\"text-align: right;\">\n",
       "      <th></th>\n",
       "      <th>Date</th>\n",
       "      <th>Stock</th>\n",
       "      <th>Stock Value</th>\n",
       "    </tr>\n",
       "  </thead>\n",
       "  <tbody>\n",
       "    <tr>\n",
       "      <th>0</th>\n",
       "      <td>1/3/2007</td>\n",
       "      <td>Aapl</td>\n",
       "      <td>11.107141</td>\n",
       "    </tr>\n",
       "    <tr>\n",
       "      <th>1</th>\n",
       "      <td>2/1/2007</td>\n",
       "      <td>Aapl</td>\n",
       "      <td>10.962033</td>\n",
       "    </tr>\n",
       "    <tr>\n",
       "      <th>2</th>\n",
       "      <td>3/1/2007</td>\n",
       "      <td>Aapl</td>\n",
       "      <td>12.037377</td>\n",
       "    </tr>\n",
       "    <tr>\n",
       "      <th>3</th>\n",
       "      <td>4/2/2007</td>\n",
       "      <td>Aapl</td>\n",
       "      <td>12.930043</td>\n",
       "    </tr>\n",
       "    <tr>\n",
       "      <th>4</th>\n",
       "      <td>5/1/2007</td>\n",
       "      <td>Aapl</td>\n",
       "      <td>15.701322</td>\n",
       "    </tr>\n",
       "  </tbody>\n",
       "</table>\n",
       "</div>"
      ],
      "text/plain": [
       "       Date Stock  Stock Value\n",
       "0  1/3/2007  Aapl    11.107141\n",
       "1  2/1/2007  Aapl    10.962033\n",
       "2  3/1/2007  Aapl    12.037377\n",
       "3  4/2/2007  Aapl    12.930043\n",
       "4  5/1/2007  Aapl    15.701322"
      ]
     },
     "execution_count": 359,
     "metadata": {},
     "output_type": "execute_result"
    }
   ],
   "source": [
    "df_stocks = df.drop('Number of Records', axis='columns', inplace=False)\n",
    "df_stocks.head()"
   ]
  },
  {
   "cell_type": "code",
   "execution_count": 360,
   "metadata": {
    "scrolled": true
   },
   "outputs": [
    {
     "data": {
      "text/html": [
       "<div>\n",
       "<style scoped>\n",
       "    .dataframe tbody tr th:only-of-type {\n",
       "        vertical-align: middle;\n",
       "    }\n",
       "\n",
       "    .dataframe tbody tr th {\n",
       "        vertical-align: top;\n",
       "    }\n",
       "\n",
       "    .dataframe thead th {\n",
       "        text-align: right;\n",
       "    }\n",
       "</style>\n",
       "<table border=\"1\" class=\"dataframe\">\n",
       "  <thead>\n",
       "    <tr style=\"text-align: right;\">\n",
       "      <th></th>\n",
       "      <th>Date</th>\n",
       "      <th>Stock</th>\n",
       "      <th>Stock Value</th>\n",
       "      <th>Year</th>\n",
       "    </tr>\n",
       "  </thead>\n",
       "  <tbody>\n",
       "    <tr>\n",
       "      <th>0</th>\n",
       "      <td>2007-01-03</td>\n",
       "      <td>Aapl</td>\n",
       "      <td>11.107141</td>\n",
       "      <td>2007</td>\n",
       "    </tr>\n",
       "    <tr>\n",
       "      <th>1</th>\n",
       "      <td>2007-02-01</td>\n",
       "      <td>Aapl</td>\n",
       "      <td>10.962033</td>\n",
       "      <td>2007</td>\n",
       "    </tr>\n",
       "    <tr>\n",
       "      <th>2</th>\n",
       "      <td>2007-03-01</td>\n",
       "      <td>Aapl</td>\n",
       "      <td>12.037377</td>\n",
       "      <td>2007</td>\n",
       "    </tr>\n",
       "    <tr>\n",
       "      <th>3</th>\n",
       "      <td>2007-04-02</td>\n",
       "      <td>Aapl</td>\n",
       "      <td>12.930043</td>\n",
       "      <td>2007</td>\n",
       "    </tr>\n",
       "    <tr>\n",
       "      <th>4</th>\n",
       "      <td>2007-05-01</td>\n",
       "      <td>Aapl</td>\n",
       "      <td>15.701322</td>\n",
       "      <td>2007</td>\n",
       "    </tr>\n",
       "  </tbody>\n",
       "</table>\n",
       "</div>"
      ],
      "text/plain": [
       "        Date Stock  Stock Value  Year\n",
       "0 2007-01-03  Aapl    11.107141  2007\n",
       "1 2007-02-01  Aapl    10.962033  2007\n",
       "2 2007-03-01  Aapl    12.037377  2007\n",
       "3 2007-04-02  Aapl    12.930043  2007\n",
       "4 2007-05-01  Aapl    15.701322  2007"
      ]
     },
     "execution_count": 360,
     "metadata": {},
     "output_type": "execute_result"
    }
   ],
   "source": [
    "df_stocks['Date']= pd.to_datetime(df_stocks['Date'])\n",
    "df_stocks['Year'] = df_stocks['Date'].dt.year\n",
    "df_stocks['Year'] = pd.to_numeric(df_stocks['Year'])\n",
    "#df_stocks.dtypes\n",
    "df_stocks.head()"
   ]
  },
  {
   "cell_type": "code",
   "execution_count": 361,
   "metadata": {},
   "outputs": [
    {
     "data": {
      "text/html": [
       "<div>\n",
       "<style scoped>\n",
       "    .dataframe tbody tr th:only-of-type {\n",
       "        vertical-align: middle;\n",
       "    }\n",
       "\n",
       "    .dataframe tbody tr th {\n",
       "        vertical-align: top;\n",
       "    }\n",
       "\n",
       "    .dataframe thead th {\n",
       "        text-align: right;\n",
       "    }\n",
       "</style>\n",
       "<table border=\"1\" class=\"dataframe\">\n",
       "  <thead>\n",
       "    <tr style=\"text-align: right;\">\n",
       "      <th>Stock</th>\n",
       "      <th>Aapl</th>\n",
       "      <th>Adbe</th>\n",
       "      <th>CVX</th>\n",
       "      <th>Goog</th>\n",
       "      <th>IBM</th>\n",
       "      <th>Mdlz</th>\n",
       "      <th>Msft</th>\n",
       "      <th>Nflx</th>\n",
       "      <th>Orcl</th>\n",
       "      <th>Sbux</th>\n",
       "    </tr>\n",
       "    <tr>\n",
       "      <th>Date</th>\n",
       "      <th></th>\n",
       "      <th></th>\n",
       "      <th></th>\n",
       "      <th></th>\n",
       "      <th></th>\n",
       "      <th></th>\n",
       "      <th></th>\n",
       "      <th></th>\n",
       "      <th></th>\n",
       "      <th></th>\n",
       "    </tr>\n",
       "  </thead>\n",
       "  <tbody>\n",
       "    <tr>\n",
       "      <th>2007-01-03</th>\n",
       "      <td>11.107141</td>\n",
       "      <td>38.869999</td>\n",
       "      <td>50.777351</td>\n",
       "      <td>251.001007</td>\n",
       "      <td>79.242500</td>\n",
       "      <td>17.519524</td>\n",
       "      <td>24.118483</td>\n",
       "      <td>3.258571</td>\n",
       "      <td>15.696321</td>\n",
       "      <td>15.752188</td>\n",
       "    </tr>\n",
       "    <tr>\n",
       "      <th>2007-02-01</th>\n",
       "      <td>10.962033</td>\n",
       "      <td>39.250000</td>\n",
       "      <td>48.082939</td>\n",
       "      <td>224.949951</td>\n",
       "      <td>74.503204</td>\n",
       "      <td>16.019426</td>\n",
       "      <td>22.092464</td>\n",
       "      <td>3.218571</td>\n",
       "      <td>15.028588</td>\n",
       "      <td>13.930813</td>\n",
       "    </tr>\n",
       "    <tr>\n",
       "      <th>2007-03-01</th>\n",
       "      <td>12.037377</td>\n",
       "      <td>41.700001</td>\n",
       "      <td>51.900383</td>\n",
       "      <td>229.309311</td>\n",
       "      <td>75.561348</td>\n",
       "      <td>16.009354</td>\n",
       "      <td>21.857189</td>\n",
       "      <td>3.312857</td>\n",
       "      <td>16.583584</td>\n",
       "      <td>14.138198</td>\n",
       "    </tr>\n",
       "    <tr>\n",
       "      <th>2007-04-02</th>\n",
       "      <td>12.930043</td>\n",
       "      <td>41.560001</td>\n",
       "      <td>54.588032</td>\n",
       "      <td>235.925919</td>\n",
       "      <td>81.934280</td>\n",
       "      <td>16.924608</td>\n",
       "      <td>23.480597</td>\n",
       "      <td>3.167143</td>\n",
       "      <td>17.196436</td>\n",
       "      <td>13.984914</td>\n",
       "    </tr>\n",
       "    <tr>\n",
       "      <th>2007-05-01</th>\n",
       "      <td>15.701322</td>\n",
       "      <td>44.060001</td>\n",
       "      <td>57.598267</td>\n",
       "      <td>249.204208</td>\n",
       "      <td>85.786057</td>\n",
       "      <td>17.111704</td>\n",
       "      <td>24.146753</td>\n",
       "      <td>3.128572</td>\n",
       "      <td>17.726965</td>\n",
       "      <td>12.988567</td>\n",
       "    </tr>\n",
       "  </tbody>\n",
       "</table>\n",
       "</div>"
      ],
      "text/plain": [
       "Stock            Aapl       Adbe        CVX        Goog        IBM       Mdlz  \\\n",
       "Date                                                                            \n",
       "2007-01-03  11.107141  38.869999  50.777351  251.001007  79.242500  17.519524   \n",
       "2007-02-01  10.962033  39.250000  48.082939  224.949951  74.503204  16.019426   \n",
       "2007-03-01  12.037377  41.700001  51.900383  229.309311  75.561348  16.009354   \n",
       "2007-04-02  12.930043  41.560001  54.588032  235.925919  81.934280  16.924608   \n",
       "2007-05-01  15.701322  44.060001  57.598267  249.204208  85.786057  17.111704   \n",
       "\n",
       "Stock            Msft      Nflx       Orcl       Sbux  \n",
       "Date                                                   \n",
       "2007-01-03  24.118483  3.258571  15.696321  15.752188  \n",
       "2007-02-01  22.092464  3.218571  15.028588  13.930813  \n",
       "2007-03-01  21.857189  3.312857  16.583584  14.138198  \n",
       "2007-04-02  23.480597  3.167143  17.196436  13.984914  \n",
       "2007-05-01  24.146753  3.128572  17.726965  12.988567  "
      ]
     },
     "execution_count": 361,
     "metadata": {},
     "output_type": "execute_result"
    }
   ],
   "source": [
    "df_stocks_wide = df_stocks.pivot(index='Date', columns='Stock', values='Stock Value')\n",
    "df_stocks_wide.head()"
   ]
  },
  {
   "cell_type": "code",
   "execution_count": 362,
   "metadata": {},
   "outputs": [
    {
     "data": {
      "text/plain": [
       "Text(0.5, 1.0, 'MSFT, NFLX, ORCL Stocks')"
      ]
     },
     "execution_count": 362,
     "metadata": {},
     "output_type": "execute_result"
    },
    {
     "data": {
      "image/png": "[encoded data removed]",
      "text/plain": [
       "<Figure size 500x500 with 1 Axes>"
      ]
     },
     "metadata": {},
     "output_type": "display_data"
    }
   ],
   "source": [
    "plt.plot(df_stocks_wide.index,\n",
    "        df_stocks_wide['Msft'],\n",
    "        color='green')\n",
    "\n",
    "plt.plot(df_stocks_wide.index,\n",
    "        df_stocks_wide['Nflx'],\n",
    "        color='purple')\n",
    "\n",
    "plt.plot(df_stocks_wide.index,\n",
    "        df_stocks_wide['Orcl'],\n",
    "        color='red')\n",
    "\n",
    "plt.legend()\n",
    "plt.title('MSFT, NFLX, ORCL Stocks')"
   ]
  },
  {
   "cell_type": "markdown",
   "metadata": {},
   "source": [
    "# Ex Chart 2  \n",
    "- Plot Adobe, Apple and IBM for all years past 2008"
   ]
  },
  {
   "cell_type": "code",
   "execution_count": 363,
   "metadata": {},
   "outputs": [],
   "source": [
    "df_stocks_after_2008 = df_stocks_wide.loc['2008-12-31':]"
   ]
  },
  {
   "cell_type": "code",
   "execution_count": 364,
   "metadata": {},
   "outputs": [
    {
     "data": {
      "text/plain": [
       "Text(0.5, 1.0, 'ADBE, AAPL, IBM Stocks After 2008')"
      ]
     },
     "execution_count": 364,
     "metadata": {},
     "output_type": "execute_result"
    },
    {
     "data": {
      "image/png": "[encoded data removed]",
      "text/plain": [
       "<Figure size 500x500 with 1 Axes>"
      ]
     },
     "metadata": {},
     "output_type": "display_data"
    }
   ],
   "source": [
    "plt.plot(df_stocks_after_2008.index,\n",
    "        df_stocks_after_2008['Adbe'],\n",
    "        color='green')\n",
    "\n",
    "plt.plot(df_stocks_after_2008.index,\n",
    "        df_stocks_after_2008['Aapl'],\n",
    "        color='purple')\n",
    "\n",
    "plt.plot(df_stocks_after_2008.index,\n",
    "        df_stocks_after_2008['IBM'],\n",
    "        color='red')\n",
    "\n",
    "plt.legend()\n",
    "plt.title('ADBE, AAPL, IBM Stocks After 2008')"
   ]
  },
  {
   "cell_type": "markdown",
   "metadata": {},
   "source": [
    "# Ex Chart 3  \n",
    "- Data source: *BikeStore.csv* \n",
    "- Plot Bike Sales (in millions)  by Category  "
   ]
  },
  {
   "cell_type": "code",
   "execution_count": 365,
   "metadata": {},
   "outputs": [],
   "source": [
    "df_bikes = pd.read_csv('Data/BikeStore.csv')"
   ]
  },
  {
   "cell_type": "code",
   "execution_count": 366,
   "metadata": {},
   "outputs": [],
   "source": [
    "df_bikes['Sales Amount'] = df_bikes['Sales Amount'].str.replace('$', '')\n",
    "df_bikes['Sales Amount'] = df_bikes['Sales Amount'].str.replace(',', '')"
   ]
  },
  {
   "cell_type": "code",
   "execution_count": 367,
   "metadata": {},
   "outputs": [],
   "source": [
    "df_bikes['SalesDate'] = pd.to_datetime(df_bikes['SalesDate'])\n",
    "df_bikes['Month'] = df_bikes['SalesDate'].dt.strftime('%b')\n",
    "df_bikes['Quarter'] = df_bikes['SalesDate'].dt.to_period('Q')\n",
    "df_bikes['SalesPeriod'] = pd.to_datetime(df_bikes['SalesPeriod'])\n",
    "df_bikes['Sales Amount'] = pd.to_numeric(df_bikes['Sales Amount'])"
   ]
  },
  {
   "cell_type": "code",
   "execution_count": 368,
   "metadata": {
    "scrolled": true
   },
   "outputs": [
    {
     "data": {
      "text/html": [
       "<div>\n",
       "<style scoped>\n",
       "    .dataframe tbody tr th:only-of-type {\n",
       "        vertical-align: middle;\n",
       "    }\n",
       "\n",
       "    .dataframe tbody tr th {\n",
       "        vertical-align: top;\n",
       "    }\n",
       "\n",
       "    .dataframe thead th {\n",
       "        text-align: right;\n",
       "    }\n",
       "</style>\n",
       "<table border=\"1\" class=\"dataframe\">\n",
       "  <thead>\n",
       "    <tr style=\"text-align: right;\">\n",
       "      <th></th>\n",
       "      <th>Market</th>\n",
       "      <th>Customer</th>\n",
       "      <th>Business Segment</th>\n",
       "      <th>Category</th>\n",
       "      <th>Model</th>\n",
       "      <th>Color</th>\n",
       "      <th>SalesDate</th>\n",
       "      <th>SalesPeriod</th>\n",
       "      <th>ListPrice</th>\n",
       "      <th>UnitPrice</th>\n",
       "      <th>OrderQty</th>\n",
       "      <th>Sales Amount</th>\n",
       "      <th>Month</th>\n",
       "      <th>Quarter</th>\n",
       "      <th>Sales in Millions</th>\n",
       "    </tr>\n",
       "  </thead>\n",
       "  <tbody>\n",
       "    <tr>\n",
       "      <th>0</th>\n",
       "      <td>Southeast</td>\n",
       "      <td>Trusted Catalog Store</td>\n",
       "      <td>Bikes</td>\n",
       "      <td>Mountain Bikes</td>\n",
       "      <td>Mountain-100</td>\n",
       "      <td>Silver</td>\n",
       "      <td>2008-01-01</td>\n",
       "      <td>2008-01-01</td>\n",
       "      <td>$3,400</td>\n",
       "      <td>$2,040</td>\n",
       "      <td>3</td>\n",
       "      <td>6120</td>\n",
       "      <td>Jan</td>\n",
       "      <td>2008Q1</td>\n",
       "      <td>0.006120</td>\n",
       "    </tr>\n",
       "    <tr>\n",
       "      <th>1</th>\n",
       "      <td>Southeast</td>\n",
       "      <td>Trusted Catalog Store</td>\n",
       "      <td>Bikes</td>\n",
       "      <td>Mountain Bikes</td>\n",
       "      <td>Mountain-100</td>\n",
       "      <td>Black</td>\n",
       "      <td>2008-01-14</td>\n",
       "      <td>2008-01-01</td>\n",
       "      <td>$3,375</td>\n",
       "      <td>$2,025</td>\n",
       "      <td>2</td>\n",
       "      <td>4050</td>\n",
       "      <td>Jan</td>\n",
       "      <td>2008Q1</td>\n",
       "      <td>0.004050</td>\n",
       "    </tr>\n",
       "    <tr>\n",
       "      <th>2</th>\n",
       "      <td>Southeast</td>\n",
       "      <td>Trusted Catalog Store</td>\n",
       "      <td>Bikes</td>\n",
       "      <td>Mountain Bikes</td>\n",
       "      <td>Mountain-100</td>\n",
       "      <td>Black</td>\n",
       "      <td>2008-01-30</td>\n",
       "      <td>2008-01-01</td>\n",
       "      <td>$3,375</td>\n",
       "      <td>$2,025</td>\n",
       "      <td>3</td>\n",
       "      <td>6075</td>\n",
       "      <td>Jan</td>\n",
       "      <td>2008Q1</td>\n",
       "      <td>0.006075</td>\n",
       "    </tr>\n",
       "    <tr>\n",
       "      <th>3</th>\n",
       "      <td>Southeast</td>\n",
       "      <td>Trusted Catalog Store</td>\n",
       "      <td>Clothing</td>\n",
       "      <td>Socks</td>\n",
       "      <td>Mountain Bike Socks</td>\n",
       "      <td>White</td>\n",
       "      <td>2008-01-16</td>\n",
       "      <td>2008-01-01</td>\n",
       "      <td>$10</td>\n",
       "      <td>$6</td>\n",
       "      <td>8</td>\n",
       "      <td>46</td>\n",
       "      <td>Jan</td>\n",
       "      <td>2008Q1</td>\n",
       "      <td>0.000046</td>\n",
       "    </tr>\n",
       "    <tr>\n",
       "      <th>4</th>\n",
       "      <td>Southeast</td>\n",
       "      <td>Trusted Catalog Store</td>\n",
       "      <td>Bikes</td>\n",
       "      <td>Mountain Bikes</td>\n",
       "      <td>Mountain-100</td>\n",
       "      <td>Silver</td>\n",
       "      <td>2008-01-31</td>\n",
       "      <td>2008-01-01</td>\n",
       "      <td>$3,400</td>\n",
       "      <td>$2,040</td>\n",
       "      <td>1</td>\n",
       "      <td>2040</td>\n",
       "      <td>Jan</td>\n",
       "      <td>2008Q1</td>\n",
       "      <td>0.002040</td>\n",
       "    </tr>\n",
       "  </tbody>\n",
       "</table>\n",
       "</div>"
      ],
      "text/plain": [
       "      Market               Customer Business Segment        Category  \\\n",
       "0  Southeast  Trusted Catalog Store            Bikes  Mountain Bikes   \n",
       "1  Southeast  Trusted Catalog Store            Bikes  Mountain Bikes   \n",
       "2  Southeast  Trusted Catalog Store            Bikes  Mountain Bikes   \n",
       "3  Southeast  Trusted Catalog Store         Clothing           Socks   \n",
       "4  Southeast  Trusted Catalog Store            Bikes  Mountain Bikes   \n",
       "\n",
       "                 Model   Color  SalesDate SalesPeriod ListPrice UnitPrice  \\\n",
       "0         Mountain-100  Silver 2008-01-01  2008-01-01    $3,400    $2,040   \n",
       "1         Mountain-100   Black 2008-01-14  2008-01-01    $3,375    $2,025   \n",
       "2         Mountain-100   Black 2008-01-30  2008-01-01    $3,375    $2,025   \n",
       "3  Mountain Bike Socks   White 2008-01-16  2008-01-01       $10        $6   \n",
       "4         Mountain-100  Silver 2008-01-31  2008-01-01    $3,400    $2,040   \n",
       "\n",
       "   OrderQty  Sales Amount Month Quarter  Sales in Millions  \n",
       "0         3          6120   Jan  2008Q1           0.006120  \n",
       "1         2          4050   Jan  2008Q1           0.004050  \n",
       "2         3          6075   Jan  2008Q1           0.006075  \n",
       "3         8            46   Jan  2008Q1           0.000046  \n",
       "4         1          2040   Jan  2008Q1           0.002040  "
      ]
     },
     "execution_count": 368,
     "metadata": {},
     "output_type": "execute_result"
    }
   ],
   "source": [
    "df_bikes['Sales in Millions'] = df_bikes['Sales Amount'] / 1000000\n",
    "df_bikes.head()"
   ]
  },
  {
   "cell_type": "code",
   "execution_count": 369,
   "metadata": {},
   "outputs": [
    {
     "data": {
      "text/plain": [
       "<matplotlib.axes._subplots.AxesSubplot at 0x124d5690>"
      ]
     },
     "execution_count": 369,
     "metadata": {},
     "output_type": "execute_result"
    },
    {
     "data": {
      "image/png": "[encoded data removed]",
      "text/plain": [
       "<Figure size 500x500 with 1 Axes>"
      ]
     },
     "metadata": {},
     "output_type": "display_data"
    }
   ],
   "source": [
    "categories = ['Road Bikes', 'Mountain Bikes', 'Touring Bikes']\n",
    "bike_sales_by_category = df_bikes.groupby(\"Category\")['Sales in Millions'].sum()\n",
    "bike_sales_by_category[categories].plot.bar(title='Ex 6.3 Chart 3: Bike Sales by Category (millions)',\n",
    "                                           color='green')"
   ]
  },
  {
   "cell_type": "markdown",
   "metadata": {},
   "source": [
    "# Ex Chart 4   \n",
    "- Plot Bike Sales (in millions)  by Month "
   ]
  },
  {
   "cell_type": "code",
   "execution_count": 370,
   "metadata": {},
   "outputs": [
    {
     "data": {
      "text/plain": [
       "<matplotlib.axes._subplots.AxesSubplot at 0x1234a290>"
      ]
     },
     "execution_count": 370,
     "metadata": {},
     "output_type": "execute_result"
    },
    {
     "data": {
      "image/png": "[encoded data removed]",
      "text/plain": [
       "<Figure size 500x500 with 1 Axes>"
      ]
     },
     "metadata": {},
     "output_type": "display_data"
    }
   ],
   "source": [
    "bike_sales_by_month = df_bikes.groupby(\"Month\")['Sales in Millions'].sum()\n",
    "\n",
    "months = ['Jan', 'Feb', 'Mar', 'Apr', 'May', 'Jun', 'Jul', 'Aug', 'Sep', 'Oct', 'Nov', 'Dec']\n",
    "\n",
    "bike_sales_by_month[months].plot.line(title='Ex 6.3 Chart 4: Bike Sales (in millions) by Month',\n",
    "                             color='green')"
   ]
  },
  {
   "cell_type": "markdown",
   "metadata": {},
   "source": [
    "# Ex Chart 5  \n",
    "- Plot Bike Sales (in millions)  by Quarter"
   ]
  },
  {
   "cell_type": "code",
   "execution_count": 371,
   "metadata": {},
   "outputs": [
    {
     "data": {
      "text/plain": [
       "<matplotlib.axes._subplots.AxesSubplot at 0x123406b0>"
      ]
     },
     "execution_count": 371,
     "metadata": {},
     "output_type": "execute_result"
    },
    {
     "data": {
      "image/png": "[encoded data removed]",
      "text/plain": [
       "<Figure size 500x500 with 1 Axes>"
      ]
     },
     "metadata": {},
     "output_type": "display_data"
    }
   ],
   "source": [
    "bike_sales_by_quarter = df_bikes.groupby('Quarter')['Sales in Millions'].sum()\n",
    "\n",
    "bike_sales_by_quarter.plot.line(title='Ex 6.3 Chart 5: Bike Sales (in millions) by Quarter',\n",
    "                               color='green')"
   ]
  },
  {
   "cell_type": "code",
   "execution_count": null,
   "metadata": {},
   "outputs": [],
   "source": []
  }
 ],
 "metadata": {
  "kernelspec": {
   "display_name": "Python 3",
   "language": "python",
   "name": "python3"
  },
  "language_info": {
   "codemirror_mode": {
    "name": "ipython",
    "version": 3
   },
   "file_extension": ".py",
   "mimetype": "text/x-python",
   "name": "python",
   "nbconvert_exporter": "python",
   "pygments_lexer": "ipython3",
   "version": "3.7.0"
  }
 },
 "nbformat": 4,
 "nbformat_minor": 2
}
