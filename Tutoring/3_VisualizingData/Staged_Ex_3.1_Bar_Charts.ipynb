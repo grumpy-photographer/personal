{
 "cells": [
  {
   "cell_type": "markdown",
   "metadata": {},
   "source": [
    "# Ex 3.1 Basic Bar Charts\n",
    "\n",
    "- [**In Class: Change in Canadian GDP**](#In-Class:-Change-in-Canadian-GDP)    \n",
    "\n",
    " \n",
    " \n",
    " \n",
    "- [**Exercise**](#Exercise)    \n",
    "  - [Part 1: Yearly Canadian GDP per Capita](#Part-1:-Yearly-Canadian-Population)  \n",
    "  - [Part 2: Yearly US Population](#Part-2:-Yearly-US-Population) \n",
    "  - [Part 3: Yearly China Life Expectancy](#Part-3:-Life-Expectancy-in-China--Over-Time) \n",
    "\n"
   ]
  },
  {
   "cell_type": "code",
   "execution_count": null,
   "metadata": {},
   "outputs": [],
   "source": [
    "from IPython.display import display, HTML\n",
    "import pandas as pd\n",
    "import math\n",
    "\n",
    "import plotly.express as px\n",
    "import numpy as np\n",
    "from scipy import special"
   ]
  },
  {
   "cell_type": "markdown",
   "metadata": {},
   "source": [
    "# In Class: Change in Canadian GDP \n",
    "- **Question:  How Did Canadian GDP Change from 1952 to 2007?**  \n",
    "- Chart Type:  Vertical Bar Chart  \n",
    "\n",
    "\n",
    "- Note:  This is not the best chart to answer this question!  "
   ]
  },
  {
   "cell_type": "code",
   "execution_count": null,
   "metadata": {},
   "outputs": [],
   "source": [
    "# Read data: Country_Data.csv \n"
   ]
  },
  {
   "cell_type": "code",
   "execution_count": null,
   "metadata": {},
   "outputs": [],
   "source": [
    "# Create df_Canada which contains only Canada data\n"
   ]
  },
  {
   "cell_type": "code",
   "execution_count": null,
   "metadata": {},
   "outputs": [],
   "source": [
    "# Plot data\n"
   ]
  },
  {
   "cell_type": "markdown",
   "metadata": {},
   "source": [
    "# Exercise"
   ]
  },
  {
   "cell_type": "markdown",
   "metadata": {},
   "source": [
    "# Part 1: Yearly Canadian Population  \n",
    "- **Question:  How Did Canadian Population Change from 1952 to 2007?**  \n",
    "- Chart Type:  **Horizontal Bar Chart**  \n",
    "\n",
    "\n",
    "- Note:  This is not the best chart to answer this question! "
   ]
  },
  {
   "cell_type": "markdown",
   "metadata": {},
   "source": [
    "# Part 2: Yearly US Population  \n",
    "- **Question:  How Did US Population Change from 1952 to 2007?**  \n",
    "- Chart Type:  **Vertical Bar Chart**  \n",
    "\n",
    "\n",
    "- Note:  This is not the best chart to answer this question!  "
   ]
  },
  {
   "cell_type": "markdown",
   "metadata": {},
   "source": [
    "# Part 3: Life Expectancy in China  Over Time\n",
    "- **Question:  How Did China Life Expectancy Change from 1952 to 2007?**  \n",
    "- Chart Type:  **Vertical Bar Chart**  \n",
    "\n",
    "\n",
    "- Note:  This is not the best chart to answer this question!  "
   ]
  }
 ],
 "metadata": {
  "kernelspec": {
   "display_name": "Python 3",
   "language": "python",
   "name": "python3"
  },
  "language_info": {
   "codemirror_mode": {
    "name": "ipython",
    "version": 3
   },
   "file_extension": ".py",
   "mimetype": "text/x-python",
   "name": "python",
   "nbconvert_exporter": "python",
   "pygments_lexer": "ipython3",
   "version": "3.7.4"
  }
 },
 "nbformat": 4,
 "nbformat_minor": 4
}
