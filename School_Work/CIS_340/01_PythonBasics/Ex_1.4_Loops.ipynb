{
 "cells": [
  {
   "cell_type": "markdown",
   "metadata": {},
   "source": [
    "# Ex 1.4 - For Loops in Python  \n",
    "\n",
    "- [In Class](#In-Class:--Quarterly-Sales) \n",
    "\n",
    "\n",
    "- [Exercise 1.4](#Exercise-1.4)  \n",
    "  - [Part 1: Monthly Sales](#Part-1:-Monthly-Sales)  \n",
    "  - [Part 2: Entertainment Expense Tracking](#Part-2:-Entertainment-Expense-Tracking)"
   ]
  },
  {
   "cell_type": "markdown",
   "metadata": {},
   "source": [
    "## In Class:  Quarterly Sales"
   ]
  },
  {
   "cell_type": "code",
   "execution_count": 1,
   "metadata": {
    "scrolled": true
   },
   "outputs": [
    {
     "name": "stdout",
     "output_type": "stream",
     "text": [
      "[300000, 400000, 1300000, 500000]\n"
     ]
    }
   ],
   "source": [
    "# Create a List named quarterly_sales and fill it with the following values:  300000, 400000, 1300000, 500000 \n",
    "quarterly_sales = [300000, 400000, 1300000, 500000]\n",
    "# Display the List\n",
    "print(quarterly_sales)\n"
   ]
  },
  {
   "cell_type": "code",
   "execution_count": 2,
   "metadata": {},
   "outputs": [],
   "source": [
    "# Declare annual_sales variable and set it equal to zero\n",
    "annual_sales = 0\n",
    "# Loop through the list and sum the values: print the current annual_sales value every time through the loop\n",
    "for sales in quarterly_sales:\n",
    "    annual_sales = annual_sales + sales"
   ]
  },
  {
   "cell_type": "code",
   "execution_count": 3,
   "metadata": {},
   "outputs": [
    {
     "name": "stdout",
     "output_type": "stream",
     "text": [
      "$2,500,000\n"
     ]
    }
   ],
   "source": [
    "# Display the sum - formatted as dollar amount with zero decimal places\n",
    "print('${:,.0f}'.format(annual_sales))"
   ]
  },
  {
   "cell_type": "code",
   "execution_count": 4,
   "metadata": {},
   "outputs": [
    {
     "name": "stdout",
     "output_type": "stream",
     "text": [
      "$208,333.33\n"
     ]
    }
   ],
   "source": [
    "# Calculate the monthly sales \n",
    "monthly_sales = annual_sales/12\n",
    "\n",
    "# Display the average - formatted as dollar amount with two decimal places\n",
    "print('${:,.2f}'.format(monthly_sales))"
   ]
  },
  {
   "cell_type": "code",
   "execution_count": 5,
   "metadata": {},
   "outputs": [
    {
     "name": "stdout",
     "output_type": "stream",
     "text": [
      "[300000, 400000, 1300000, 500000]\n",
      "1300000\n"
     ]
    }
   ],
   "source": [
    "# Using an if statement inside a For Loop, display the highest sales value in the quarterly_sales List\n",
    "# Intialize highest_value variable to zero\n",
    "highest_value = quarterly_sales[0]\n",
    "# Loop through the List and find the highest value\n",
    "for sales in quarterly_sales:\n",
    "    if sales > highest_value:\n",
    "        highest_value = sales\n",
    "\n",
    "# Display the entire List\n",
    "print(quarterly_sales )\n",
    "# Display the highest value in the List\n",
    "print(highest_value)"
   ]
  },
  {
   "cell_type": "code",
   "execution_count": 6,
   "metadata": {},
   "outputs": [
    {
     "name": "stdout",
     "output_type": "stream",
     "text": [
      "[300000, 400000, 1300000, 500000]\n",
      "300000\n"
     ]
    }
   ],
   "source": [
    "#  Using an if statement inside a For Loop, display the lowest sales value in the List\n",
    "# Intialize the lowest value variable\n",
    "lowest_value = quarterly_sales[0]\n",
    "# Loop through the List and find the lowest value\n",
    "for sales in quarterly_sales:\n",
    "    if sales < lowest_value:\n",
    "        lowest_value = sales\n",
    "\n",
    "# Display the entire List\n",
    "print(quarterly_sales)\n",
    "# Display the lowest value in the List\n",
    "print(lowest_value)"
   ]
  },
  {
   "cell_type": "markdown",
   "metadata": {},
   "source": [
    "# Exercise 1.4"
   ]
  },
  {
   "cell_type": "markdown",
   "metadata": {},
   "source": [
    "## Part 1: Monthly Sales\n",
    "1. Create a List named **monthly_sales** and fill it with the following values:  \n",
    "3,000  \n",
    "10,000  \n",
    "15,000  \n",
    "20,000  \n",
    "20,000  \n",
    "25,000  \n",
    "22,000  \n",
    "80,000  \n",
    "20,000  \n",
    "20,000  \n",
    "40,000  \n",
    "60,000  \n",
    "Note:  I included commas above to make the values more readable.  Don't include them in your list values."
   ]
  },
  {
   "cell_type": "code",
   "execution_count": 7,
   "metadata": {},
   "outputs": [],
   "source": [
    "# Create a List named monthly_sales \n",
    "monthly_sales = [3000,10000,15000,20000,20000,25000,22000,80000,20000,20000,40000,60000]"
   ]
  },
  {
   "cell_type": "code",
   "execution_count": 8,
   "metadata": {
    "scrolled": true
   },
   "outputs": [
    {
     "name": "stdout",
     "output_type": "stream",
     "text": [
      "1 3000\n",
      "2 10000\n",
      "3 15000\n",
      "4 20000\n",
      "5 20000\n",
      "6 25000\n",
      "7 22000\n",
      "8 80000\n",
      "9 20000\n",
      "10 20000\n",
      "11 40000\n",
      "12 60000\n"
     ]
    }
   ],
   "source": [
    "#Loop through the monthly_sales List and display all of the values \n",
    "for i in range (len(monthly_sales)):\n",
    "    print((i+1), monthly_sales[i])"
   ]
  },
  {
   "cell_type": "code",
   "execution_count": 9,
   "metadata": {},
   "outputs": [
    {
     "name": "stdout",
     "output_type": "stream",
     "text": [
      "The sum after this month is:  $3,000\n",
      "The sum after this month is:  $13,000\n",
      "The sum after this month is:  $28,000\n",
      "The sum after this month is:  $48,000\n",
      "The sum after this month is:  $68,000\n",
      "The sum after this month is:  $93,000\n",
      "The sum after this month is:  $115,000\n",
      "The sum after this month is:  $195,000\n",
      "The sum after this month is:  $215,000\n",
      "The sum after this month is:  $235,000\n",
      "The sum after this month is:  $275,000\n",
      "The sum after this month is:  $335,000\n"
     ]
    }
   ],
   "source": [
    "#Loop through the list and sum the values\n",
    "sum= 0\n",
    "for i in range(len(monthly_sales)):\n",
    "    sum += monthly_sales[i]\n",
    "    print(\"The sum after this month is: \", ('${:,.0f}'.format(sum)))"
   ]
  },
  {
   "cell_type": "code",
   "execution_count": 10,
   "metadata": {},
   "outputs": [
    {
     "name": "stdout",
     "output_type": "stream",
     "text": [
      "$27,917\n"
     ]
    }
   ],
   "source": [
    "#Calculate the average of the values in the list\n",
    "average = sum/12\n",
    "#Display the average - formatted as dollar amounts with zero decimal places\n",
    "print('${:,.0f}'.format(average))"
   ]
  },
  {
   "cell_type": "code",
   "execution_count": 11,
   "metadata": {},
   "outputs": [
    {
     "name": "stdout",
     "output_type": "stream",
     "text": [
      "The sales rep has exceded the sales quota 5 times in the past year.\n"
     ]
    }
   ],
   "source": [
    "# The Monthly Sales quota is $20,000\n",
    "months = 0\n",
    "# Display the number of months the sales rep has exceded this Sales Quota\n",
    "for i in range(len(monthly_sales)):\n",
    "    if (monthly_sales[i] > 20000):\n",
    "        months += 1\n",
    "print(\"The sales rep has exceded the sales quota\",months, \"times in the past year.\")"
   ]
  },
  {
   "cell_type": "code",
   "execution_count": 12,
   "metadata": {},
   "outputs": [
    {
     "name": "stdout",
     "output_type": "stream",
     "text": [
      "The sales rep has not exceded the sales quota 3 times in the past year.\n"
     ]
    }
   ],
   "source": [
    "# Using Looping, display the number of months the sales rep has Not exceded this Sales Quota\n",
    "not_months = 0\n",
    "for i in range(len(monthly_sales)):\n",
    "    if (monthly_sales[i] < 20000):\n",
    "        not_months +=1\n",
    "print(\"The sales rep has not exceded the sales quota\",not_months,\"times in the past year.\")"
   ]
  },
  {
   "cell_type": "code",
   "execution_count": 13,
   "metadata": {},
   "outputs": [
    {
     "name": "stdout",
     "output_type": "stream",
     "text": [
      "The sales rep made $227,000 in the months they exceded the quota.\n"
     ]
    }
   ],
   "source": [
    "# Using Looping, display the total sum of the amount for the year the sales rep has exceded the Sales Quota\n",
    "ex_sales = 0\n",
    "for i in range(len(monthly_sales)):\n",
    "    if (monthly_sales[i] > 20000):\n",
    "        ex_sales += monthly_sales[i]\n",
    "print(\"The sales rep made\",'${:,.0f}'.format(ex_sales),\"in the months they exceded the quota.\")"
   ]
  },
  {
   "cell_type": "markdown",
   "metadata": {},
   "source": [
    "## Part 2: Entertainment Expense Tracking\n",
    "1. Create a List named entertainment_expenses and fill it with the folllowing values: 90, 150, 200, 90, 85, 130\n",
    "2. You've decided that your target max for this category is $100 \n",
    "3. Loop through the List and display the number of months that you exceded your target  \n",
    "4. Loop through the List and display the total sum of how much you've exceded your target over these months     \n",
    "5. Loop through the List and display for every time you've exceded your target:  \n",
    "  1. The amount you exceded your target that month  \n",
    "  2. The running total of the sum of how much you've exceded your target by that point in the year.  \n",
    "  \n",
    "**Notes:**  \n",
    "- Each of the above top level numbered items should show up as a comment in its own code cell below.  \n",
    "\n",
    "- The second level numbered items should show up as comments within a cell"
   ]
  },
  {
   "cell_type": "code",
   "execution_count": 14,
   "metadata": {},
   "outputs": [],
   "source": [
    "#Create a list\n",
    "entertainment_expenses = [90, 150, 200, 90, 85, 130]"
   ]
  },
  {
   "cell_type": "code",
   "execution_count": 15,
   "metadata": {
    "scrolled": true
   },
   "outputs": [
    {
     "name": "stdout",
     "output_type": "stream",
     "text": [
      "Expenses exceded the target 3 times.\n"
     ]
    }
   ],
   "source": [
    "#max = $100\n",
    "target_max = 100\n",
    "entex_months = 0\n",
    "#create a loop displaying months exceded target\n",
    "for i in range(len(entertainment_expenses)):\n",
    "    if (entertainment_expenses[i] > target_max):\n",
    "        entex_months += 1\n",
    "print(\"Expenses exceded the target\",entex_months,\"times.\")"
   ]
  },
  {
   "cell_type": "code",
   "execution_count": 16,
   "metadata": {},
   "outputs": [
    {
     "name": "stdout",
     "output_type": "stream",
     "text": [
      "The total sum of the months that exceded the target is $480\n"
     ]
    }
   ],
   "source": [
    "#loop and display total sum of months exceeded\n",
    "entex_months_sum = 0\n",
    "for i in range(len(entertainment_expenses)):\n",
    "    if (entertainment_expenses[i] > target_max):\n",
    "        entex_months_sum += entertainment_expenses[i]\n",
    "print(\"The total sum of the months that exceded the target is\",'${:,.0f}'.format(entex_months_sum))"
   ]
  },
  {
   "cell_type": "code",
   "execution_count": 17,
   "metadata": {},
   "outputs": [
    {
     "name": "stdout",
     "output_type": "stream",
     "text": [
      "We exceded our target by $30 this month, and $180 in total, so far.\n"
     ]
    }
   ],
   "source": [
    "#loop through the list every time exceded, amount exceded and sum at that point of the year\n",
    "running_total = 0\n",
    "for i in range(len(entertainment_expenses)):\n",
    "    if (entertainment_expenses[i] > target_max):\n",
    "        exceded = (entertainment_expenses[i] - target_max)\n",
    "        running_total += exceded\n",
    "print(\"We exceded our target by\",'${:,.0f}'.format(exceded),\"this month, and\",'${:,.0f}'.format(running_total),\"in total, so far.\")"
   ]
  }
 ],
 "metadata": {
  "kernelspec": {
   "display_name": "Python 3",
   "language": "python",
   "name": "python3"
  },
  "language_info": {
   "codemirror_mode": {
    "name": "ipython",
    "version": 3
   },
   "file_extension": ".py",
   "mimetype": "text/x-python",
   "name": "python",
   "nbconvert_exporter": "python",
   "pygments_lexer": "ipython3",
   "version": "3.7.0"
  }
 },
 "nbformat": 4,
 "nbformat_minor": 2
}
