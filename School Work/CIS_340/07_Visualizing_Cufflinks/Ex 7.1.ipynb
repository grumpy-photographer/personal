{
 "cells": [
  {
   "cell_type": "markdown",
   "metadata": {
    "toc": true
   },
   "source": [
    "<h1>Table of Contents<span class=\"tocSkip\"></span></h1>\n",
    "<div class=\"toc\"><ul class=\"toc-item\"><li><span><a href=\"#Read-data\" data-toc-modified-id=\"Read-data-1\"><span class=\"toc-item-num\">1&nbsp;&nbsp;</span>Read data</a></span></li><li><span><a href=\"#Pivot-Data-from-Tall-to-Wide-Shape-for-population\" data-toc-modified-id=\"Pivot-Data-from-Tall-to-Wide-Shape-for-population-2\"><span class=\"toc-item-num\">2&nbsp;&nbsp;</span>Pivot Data from Tall to Wide Shape for <em>population</em></a></span></li><li><span><a href=\"#Plot\" data-toc-modified-id=\"Plot-3\"><span class=\"toc-item-num\">3&nbsp;&nbsp;</span>Plot</a></span></li><li><span><a href=\"#Read-data\" data-toc-modified-id=\"Read-data-4\"><span class=\"toc-item-num\">4&nbsp;&nbsp;</span>Read data</a></span></li><li><span><a href=\"#Pivot-Data-from-Tall-to-Wide-on-Life-Expectancy\" data-toc-modified-id=\"Pivot-Data-from-Tall-to-Wide-on-Life-Expectancy-5\"><span class=\"toc-item-num\">5&nbsp;&nbsp;</span>Pivot Data from Tall to Wide on Life Expectancy</a></span></li><li><span><a href=\"#Subset-the-dataframe:--Years-after-the-1960's\" data-toc-modified-id=\"Subset-the-dataframe:--Years-after-the-1960's-6\"><span class=\"toc-item-num\">6&nbsp;&nbsp;</span>Subset the dataframe:  Years after the 1960's</a></span></li><li><span><a href=\"#Plot\" data-toc-modified-id=\"Plot-7\"><span class=\"toc-item-num\">7&nbsp;&nbsp;</span>Plot</a></span></li><li><span><a href=\"#Read-data\" data-toc-modified-id=\"Read-data-8\"><span class=\"toc-item-num\">8&nbsp;&nbsp;</span>Read data</a></span></li><li><span><a href=\"#Cleanup-Data-Types-as-Needed\" data-toc-modified-id=\"Cleanup-Data-Types-as-Needed-9\"><span class=\"toc-item-num\">9&nbsp;&nbsp;</span>Cleanup Data Types as Needed</a></span></li><li><span><a href=\"#Group-by-Month\" data-toc-modified-id=\"Group-by-Month-10\"><span class=\"toc-item-num\">10&nbsp;&nbsp;</span>Group by Month</a></span></li><li><span><a href=\"#Plot\" data-toc-modified-id=\"Plot-11\"><span class=\"toc-item-num\">11&nbsp;&nbsp;</span>Plot</a></span></li></ul></div>"
   ]
  },
  {
   "cell_type": "markdown",
   "metadata": {},
   "source": [
    "# Ex 6.3 Matplotlib \n",
    "\n",
    "- [**In Class**](#In-Class)  \n",
    "  - [In Class Chart 1](#In-Class-Chart-1)  \n",
    "  - [In Class Chart 2](#In-Class-Chart-2) \n",
    "  - [In Class Chart 3](#In-Class-Chart-3) \n",
    "  \n",
    " \n",
    "- [**Ex 6.3**](#Ex-6.3)   \n",
    "  - [Ex Chart 1](#Ex-Chart-1)  \n",
    "  - [Ex Chart 2](#Ex-Chart-2) \n",
    "  - [Ex Chart 3](#Ex-Chart-3)  \n",
    "  - [Ex Chart 4](#Ex-Chart-4)      \n",
    "  - [Ex Chart 5](#Ex-Chart-5)      \n"
   ]
  },
  {
   "cell_type": "code",
   "execution_count": 168,
   "metadata": {},
   "outputs": [],
   "source": [
    "import matplotlib\n",
    "import matplotlib.pyplot as plt\n",
    "import pandas as pd"
   ]
  },
  {
   "cell_type": "code",
   "execution_count": 169,
   "metadata": {},
   "outputs": [
    {
     "data": {
      "text/html": [
       "        <script type=\"text/javascript\">\n",
       "        window.PlotlyConfig = {MathJaxConfig: 'local'};\n",
       "        if (window.MathJax) {MathJax.Hub.Config({SVG: {font: \"STIX-Web\"}});}\n",
       "        if (typeof require !== 'undefined') {\n",
       "        require.undef(\"plotly\");\n",
       "        requirejs.config({\n",
       "            paths: {\n",
       "                'plotly': ['https://cdn.plot.ly/plotly-latest.min']\n",
       "            }\n",
       "        });\n",
       "        require(['plotly'], function(Plotly) {\n",
       "            window._Plotly = Plotly;\n",
       "        });\n",
       "        }\n",
       "        </script>\n",
       "        "
      ]
     },
     "metadata": {},
     "output_type": "display_data"
    }
   ],
   "source": [
    "from IPython.display import display, HTML\n",
    "import pandas as pd\n",
    "import numpy as np\n",
    "import math\n",
    "\n",
    "# Using plotly + cufflinks in offline mode\n",
    "\n",
    "import plotly.plotly as py\n",
    "import plotly.graph_objs as go\n",
    "import plotly\n",
    "from plotly.offline import download_plotlyjs, init_notebook_mode, plot, iplot\n",
    "import cufflinks as cf\n",
    "cf.set_config_file(offline=True)"
   ]
  },
  {
   "cell_type": "code",
   "execution_count": 170,
   "metadata": {},
   "outputs": [],
   "source": [
    "plt.rcParams[\"figure.figsize\"]=5,5\n",
    "#plt.rcdefaults()"
   ]
  },
  {
   "cell_type": "markdown",
   "metadata": {},
   "source": [
    "# In Class"
   ]
  },
  {
   "cell_type": "markdown",
   "metadata": {},
   "source": [
    "# In Class Chart 1  \n",
    "- Data source:  *Country_Data.csv*\n",
    "- Plot Population Over Time for US vs Canada\n",
    "- Use all years in the data source \n",
    "- Divide the populations by one million and indicate that in the chart title"
   ]
  },
  {
   "cell_type": "markdown",
   "metadata": {},
   "source": [
    "### Read data"
   ]
  },
  {
   "cell_type": "code",
   "execution_count": 171,
   "metadata": {},
   "outputs": [
    {
     "data": {
      "text/html": [
       "<div>\n",
       "<style scoped>\n",
       "    .dataframe tbody tr th:only-of-type {\n",
       "        vertical-align: middle;\n",
       "    }\n",
       "\n",
       "    .dataframe tbody tr th {\n",
       "        vertical-align: top;\n",
       "    }\n",
       "\n",
       "    .dataframe thead th {\n",
       "        text-align: right;\n",
       "    }\n",
       "</style>\n",
       "<table border=\"1\" class=\"dataframe\">\n",
       "  <thead>\n",
       "    <tr style=\"text-align: right;\">\n",
       "      <th></th>\n",
       "      <th>country</th>\n",
       "      <th>continent</th>\n",
       "      <th>year</th>\n",
       "      <th>lifeExpectancy</th>\n",
       "      <th>population</th>\n",
       "      <th>gdpPerCapita</th>\n",
       "    </tr>\n",
       "  </thead>\n",
       "  <tbody>\n",
       "    <tr>\n",
       "      <th>0</th>\n",
       "      <td>Afghanistan</td>\n",
       "      <td>Asia</td>\n",
       "      <td>1952</td>\n",
       "      <td>28.801</td>\n",
       "      <td>8425333</td>\n",
       "      <td>779.445314</td>\n",
       "    </tr>\n",
       "    <tr>\n",
       "      <th>1</th>\n",
       "      <td>Afghanistan</td>\n",
       "      <td>Asia</td>\n",
       "      <td>1957</td>\n",
       "      <td>30.332</td>\n",
       "      <td>9240934</td>\n",
       "      <td>820.853030</td>\n",
       "    </tr>\n",
       "    <tr>\n",
       "      <th>2</th>\n",
       "      <td>Afghanistan</td>\n",
       "      <td>Asia</td>\n",
       "      <td>1962</td>\n",
       "      <td>31.997</td>\n",
       "      <td>10267083</td>\n",
       "      <td>853.100710</td>\n",
       "    </tr>\n",
       "    <tr>\n",
       "      <th>3</th>\n",
       "      <td>Afghanistan</td>\n",
       "      <td>Asia</td>\n",
       "      <td>1967</td>\n",
       "      <td>34.020</td>\n",
       "      <td>11537966</td>\n",
       "      <td>836.197138</td>\n",
       "    </tr>\n",
       "    <tr>\n",
       "      <th>4</th>\n",
       "      <td>Afghanistan</td>\n",
       "      <td>Asia</td>\n",
       "      <td>1972</td>\n",
       "      <td>36.088</td>\n",
       "      <td>13079460</td>\n",
       "      <td>739.981106</td>\n",
       "    </tr>\n",
       "  </tbody>\n",
       "</table>\n",
       "</div>"
      ],
      "text/plain": [
       "       country continent  year  lifeExpectancy  population  gdpPerCapita\n",
       "0  Afghanistan      Asia  1952          28.801     8425333    779.445314\n",
       "1  Afghanistan      Asia  1957          30.332     9240934    820.853030\n",
       "2  Afghanistan      Asia  1962          31.997    10267083    853.100710\n",
       "3  Afghanistan      Asia  1967          34.020    11537966    836.197138\n",
       "4  Afghanistan      Asia  1972          36.088    13079460    739.981106"
      ]
     },
     "execution_count": 171,
     "metadata": {},
     "output_type": "execute_result"
    }
   ],
   "source": [
    "df_1  = pd.read_csv('Data/Country_Data.csv')\n",
    "df_1.head()"
   ]
  },
  {
   "cell_type": "code",
   "execution_count": 172,
   "metadata": {},
   "outputs": [],
   "source": [
    "df_1['population'] = df_1['population']/1000000"
   ]
  },
  {
   "cell_type": "markdown",
   "metadata": {},
   "source": [
    "### Pivot Data from Tall to Wide Shape for *population*"
   ]
  },
  {
   "cell_type": "code",
   "execution_count": 173,
   "metadata": {},
   "outputs": [
    {
     "data": {
      "text/html": [
       "<div>\n",
       "<style scoped>\n",
       "    .dataframe tbody tr th:only-of-type {\n",
       "        vertical-align: middle;\n",
       "    }\n",
       "\n",
       "    .dataframe tbody tr th {\n",
       "        vertical-align: top;\n",
       "    }\n",
       "\n",
       "    .dataframe thead th {\n",
       "        text-align: right;\n",
       "    }\n",
       "</style>\n",
       "<table border=\"1\" class=\"dataframe\">\n",
       "  <thead>\n",
       "    <tr style=\"text-align: right;\">\n",
       "      <th>country</th>\n",
       "      <th>Afghanistan</th>\n",
       "      <th>Albania</th>\n",
       "      <th>Algeria</th>\n",
       "      <th>Angola</th>\n",
       "      <th>Argentina</th>\n",
       "      <th>Australia</th>\n",
       "      <th>Austria</th>\n",
       "      <th>Bahrain</th>\n",
       "      <th>Bangladesh</th>\n",
       "      <th>Belgium</th>\n",
       "      <th>...</th>\n",
       "      <th>Uganda</th>\n",
       "      <th>United Kingdom</th>\n",
       "      <th>United States</th>\n",
       "      <th>Uruguay</th>\n",
       "      <th>Venezuela</th>\n",
       "      <th>Vietnam</th>\n",
       "      <th>West Bank and Gaza</th>\n",
       "      <th>Yemen, Rep.</th>\n",
       "      <th>Zambia</th>\n",
       "      <th>Zimbabwe</th>\n",
       "    </tr>\n",
       "    <tr>\n",
       "      <th>year</th>\n",
       "      <th></th>\n",
       "      <th></th>\n",
       "      <th></th>\n",
       "      <th></th>\n",
       "      <th></th>\n",
       "      <th></th>\n",
       "      <th></th>\n",
       "      <th></th>\n",
       "      <th></th>\n",
       "      <th></th>\n",
       "      <th></th>\n",
       "      <th></th>\n",
       "      <th></th>\n",
       "      <th></th>\n",
       "      <th></th>\n",
       "      <th></th>\n",
       "      <th></th>\n",
       "      <th></th>\n",
       "      <th></th>\n",
       "      <th></th>\n",
       "      <th></th>\n",
       "    </tr>\n",
       "  </thead>\n",
       "  <tbody>\n",
       "    <tr>\n",
       "      <th>1952</th>\n",
       "      <td>8.425333</td>\n",
       "      <td>1.282697</td>\n",
       "      <td>9.279525</td>\n",
       "      <td>4.232095</td>\n",
       "      <td>17.876956</td>\n",
       "      <td>8.691212</td>\n",
       "      <td>6.927772</td>\n",
       "      <td>0.120447</td>\n",
       "      <td>46.886859</td>\n",
       "      <td>8.730405</td>\n",
       "      <td>...</td>\n",
       "      <td>5.824797</td>\n",
       "      <td>50.430</td>\n",
       "      <td>157.553</td>\n",
       "      <td>2.252965</td>\n",
       "      <td>5.439568</td>\n",
       "      <td>26.246839</td>\n",
       "      <td>1.030585</td>\n",
       "      <td>4.963829</td>\n",
       "      <td>2.672000</td>\n",
       "      <td>3.080907</td>\n",
       "    </tr>\n",
       "    <tr>\n",
       "      <th>1957</th>\n",
       "      <td>9.240934</td>\n",
       "      <td>1.476505</td>\n",
       "      <td>10.270856</td>\n",
       "      <td>4.561361</td>\n",
       "      <td>19.610538</td>\n",
       "      <td>9.712569</td>\n",
       "      <td>6.965860</td>\n",
       "      <td>0.138655</td>\n",
       "      <td>51.365468</td>\n",
       "      <td>8.989111</td>\n",
       "      <td>...</td>\n",
       "      <td>6.675501</td>\n",
       "      <td>51.430</td>\n",
       "      <td>171.984</td>\n",
       "      <td>2.424959</td>\n",
       "      <td>6.702668</td>\n",
       "      <td>28.998543</td>\n",
       "      <td>1.070439</td>\n",
       "      <td>5.498090</td>\n",
       "      <td>3.016000</td>\n",
       "      <td>3.646340</td>\n",
       "    </tr>\n",
       "    <tr>\n",
       "      <th>1962</th>\n",
       "      <td>10.267083</td>\n",
       "      <td>1.728137</td>\n",
       "      <td>11.000948</td>\n",
       "      <td>4.826015</td>\n",
       "      <td>21.283783</td>\n",
       "      <td>10.794968</td>\n",
       "      <td>7.129864</td>\n",
       "      <td>0.171863</td>\n",
       "      <td>56.839289</td>\n",
       "      <td>9.218400</td>\n",
       "      <td>...</td>\n",
       "      <td>7.688797</td>\n",
       "      <td>53.292</td>\n",
       "      <td>186.538</td>\n",
       "      <td>2.598466</td>\n",
       "      <td>8.143375</td>\n",
       "      <td>33.796140</td>\n",
       "      <td>1.133134</td>\n",
       "      <td>6.120081</td>\n",
       "      <td>3.421000</td>\n",
       "      <td>4.277736</td>\n",
       "    </tr>\n",
       "    <tr>\n",
       "      <th>1967</th>\n",
       "      <td>11.537966</td>\n",
       "      <td>1.984060</td>\n",
       "      <td>12.760499</td>\n",
       "      <td>5.247469</td>\n",
       "      <td>22.934225</td>\n",
       "      <td>11.872264</td>\n",
       "      <td>7.376998</td>\n",
       "      <td>0.202182</td>\n",
       "      <td>62.821884</td>\n",
       "      <td>9.556500</td>\n",
       "      <td>...</td>\n",
       "      <td>8.900294</td>\n",
       "      <td>54.959</td>\n",
       "      <td>198.712</td>\n",
       "      <td>2.748579</td>\n",
       "      <td>9.709552</td>\n",
       "      <td>39.463910</td>\n",
       "      <td>1.142636</td>\n",
       "      <td>6.740785</td>\n",
       "      <td>3.900000</td>\n",
       "      <td>4.995432</td>\n",
       "    </tr>\n",
       "    <tr>\n",
       "      <th>1972</th>\n",
       "      <td>13.079460</td>\n",
       "      <td>2.263554</td>\n",
       "      <td>14.760787</td>\n",
       "      <td>5.894858</td>\n",
       "      <td>24.779799</td>\n",
       "      <td>13.177000</td>\n",
       "      <td>7.544201</td>\n",
       "      <td>0.230800</td>\n",
       "      <td>70.759295</td>\n",
       "      <td>9.709100</td>\n",
       "      <td>...</td>\n",
       "      <td>10.190285</td>\n",
       "      <td>56.079</td>\n",
       "      <td>209.896</td>\n",
       "      <td>2.829526</td>\n",
       "      <td>11.515649</td>\n",
       "      <td>44.655014</td>\n",
       "      <td>1.089572</td>\n",
       "      <td>7.407075</td>\n",
       "      <td>4.506497</td>\n",
       "      <td>5.861135</td>\n",
       "    </tr>\n",
       "  </tbody>\n",
       "</table>\n",
       "<p>5 rows × 142 columns</p>\n",
       "</div>"
      ],
      "text/plain": [
       "country  Afghanistan   Albania    Algeria    Angola  Argentina  Australia  \\\n",
       "year                                                                        \n",
       "1952        8.425333  1.282697   9.279525  4.232095  17.876956   8.691212   \n",
       "1957        9.240934  1.476505  10.270856  4.561361  19.610538   9.712569   \n",
       "1962       10.267083  1.728137  11.000948  4.826015  21.283783  10.794968   \n",
       "1967       11.537966  1.984060  12.760499  5.247469  22.934225  11.872264   \n",
       "1972       13.079460  2.263554  14.760787  5.894858  24.779799  13.177000   \n",
       "\n",
       "country   Austria   Bahrain  Bangladesh   Belgium  ...     Uganda  \\\n",
       "year                                               ...              \n",
       "1952     6.927772  0.120447   46.886859  8.730405  ...   5.824797   \n",
       "1957     6.965860  0.138655   51.365468  8.989111  ...   6.675501   \n",
       "1962     7.129864  0.171863   56.839289  9.218400  ...   7.688797   \n",
       "1967     7.376998  0.202182   62.821884  9.556500  ...   8.900294   \n",
       "1972     7.544201  0.230800   70.759295  9.709100  ...  10.190285   \n",
       "\n",
       "country  United Kingdom  United States   Uruguay  Venezuela    Vietnam  \\\n",
       "year                                                                     \n",
       "1952             50.430        157.553  2.252965   5.439568  26.246839   \n",
       "1957             51.430        171.984  2.424959   6.702668  28.998543   \n",
       "1962             53.292        186.538  2.598466   8.143375  33.796140   \n",
       "1967             54.959        198.712  2.748579   9.709552  39.463910   \n",
       "1972             56.079        209.896  2.829526  11.515649  44.655014   \n",
       "\n",
       "country  West Bank and Gaza  Yemen, Rep.    Zambia  Zimbabwe  \n",
       "year                                                          \n",
       "1952               1.030585     4.963829  2.672000  3.080907  \n",
       "1957               1.070439     5.498090  3.016000  3.646340  \n",
       "1962               1.133134     6.120081  3.421000  4.277736  \n",
       "1967               1.142636     6.740785  3.900000  4.995432  \n",
       "1972               1.089572     7.407075  4.506497  5.861135  \n",
       "\n",
       "[5 rows x 142 columns]"
      ]
     },
     "execution_count": 173,
     "metadata": {},
     "output_type": "execute_result"
    }
   ],
   "source": [
    "df_country = df_1.pivot(index='year', columns='country', values='population')\n",
    "df_country.head()"
   ]
  },
  {
   "cell_type": "markdown",
   "metadata": {},
   "source": [
    "### Plot"
   ]
  },
  {
   "cell_type": "code",
   "execution_count": 174,
   "metadata": {
    "scrolled": true
   },
   "outputs": [
    {
     "data": {
      "image/png": "[encoded data removed]",
      "text/plain": [
       "<Figure size 360x360 with 1 Axes>"
      ]
     },
     "metadata": {
      "needs_background": "light"
     },
     "output_type": "display_data"
    }
   ],
   "source": [
    "plt.plot(df_country.index,\n",
    "        df_country['United States'],\n",
    "         label='United States',\n",
    "        marker='D',\n",
    "        linestyle=':',\n",
    "        color='green',\n",
    "        linewidth=3)\n",
    "\n",
    "plt.plot(df_country.index,\n",
    "         df_country['Canada'],\n",
    "         label='Canada',marker='D',\n",
    "         linestyle=':', \n",
    "         color='blue')\n",
    "\n",
    "plt.ylabel('Population (millions)')\n",
    "\n",
    "plt.legend()\n",
    "plt.title('United States and Canada Pop (millions)')\n",
    "plt.show()"
   ]
  },
  {
   "cell_type": "code",
   "execution_count": 175,
   "metadata": {},
   "outputs": [
    {
     "data": {
      "application/vnd.plotly.v1+json": {
       "config": {
        "linkText": "Export to plot.ly",
        "plotlyServerURL": "https://plot.ly",
        "responsive": true,
        "showLink": true
       },
       "data": [
        {
         "line": {
          "color": "rgba(255, 153, 51, 1.0)",
          "dash": "solid",
          "shape": "linear",
          "width": 1.3
         },
         "mode": "lines",
         "name": "United States",
         "text": "",
         "type": "scatter",
         "uid": "95237198-a835-4ea9-9320-ccd71421266f",
         "x": [
          1952,
          1957,
          1962,
          1967,
          1972,
          1977,
          1982,
          1987,
          1992,
          1997,
          2002,
          2007
         ],
         "y": [
          157.553,
          171.984,
          186.538,
          198.712,
          209.896,
          220.239,
          232.187835,
          242.803533,
          256.894189,
          272.91176,
          287.675526,
          301.139947
         ]
        },
        {
         "line": {
          "color": "rgba(55, 128, 191, 1.0)",
          "dash": "solid",
          "shape": "linear",
          "width": 1.3
         },
         "mode": "lines",
         "name": "Canada",
         "text": "",
         "type": "scatter",
         "uid": "199afd51-8958-4239-89a5-f7accfea0a31",
         "x": [
          1952,
          1957,
          1962,
          1967,
          1972,
          1977,
          1982,
          1987,
          1992,
          1997,
          2002,
          2007
         ],
         "y": [
          14.785584,
          17.010154,
          18.985849,
          20.819767,
          22.2845,
          23.7964,
          25.2019,
          26.5497,
          28.523502,
          30.305843,
          31.902268,
          33.390141
         ]
        }
       ],
       "layout": {
        "legend": {
         "bgcolor": "#F5F6F9",
         "font": {
          "color": "#4D5663"
         }
        },
        "paper_bgcolor": "#F5F6F9",
        "plot_bgcolor": "#F5F6F9",
        "title": {
         "font": {
          "color": "#4D5663"
         },
         "text": "7.1 In-Class Chart 1"
        },
        "xaxis": {
         "gridcolor": "#E1E5ED",
         "showgrid": true,
         "tickfont": {
          "color": "#4D5663"
         },
         "title": {
          "font": {
           "color": "#4D5663"
          },
          "text": ""
         },
         "zerolinecolor": "#E1E5ED"
        },
        "yaxis": {
         "gridcolor": "#E1E5ED",
         "showgrid": true,
         "tickfont": {
          "color": "#4D5663"
         },
         "title": {
          "font": {
           "color": "#4D5663"
          },
          "text": ""
         },
         "zerolinecolor": "#E1E5ED"
        }
       }
      },
      "text/html": [
       "<div>\n",
       "        \n",
       "        \n",
       "            <div id=\"eff99914-450a-4ff3-8ba2-6cc777c16612\" class=\"plotly-graph-div\"></div>\n",
       "            <script type=\"text/javascript\">\n",
       "                require([\"plotly\"], function(Plotly) {\n",
       "                    window.PLOTLYENV=window.PLOTLYENV || {};\n",
       "                    window.PLOTLYENV.BASE_URL='https://plot.ly';\n",
       "                    \n",
       "                if (document.getElementById(\"eff99914-450a-4ff3-8ba2-6cc777c16612\")) {\n",
       "                    Plotly.newPlot(\n",
       "                        'eff99914-450a-4ff3-8ba2-6cc777c16612',\n",
       "                        [{\"line\": {\"color\": \"rgba(255, 153, 51, 1.0)\", \"dash\": \"solid\", \"shape\": \"linear\", \"width\": 1.3}, \"mode\": \"lines\", \"name\": \"United States\", \"text\": \"\", \"type\": \"scatter\", \"uid\": \"fda68e1c-e0d5-412f-be39-60cd82e5361d\", \"x\": [1952, 1957, 1962, 1967, 1972, 1977, 1982, 1987, 1992, 1997, 2002, 2007], \"y\": [157.553, 171.984, 186.538, 198.712, 209.896, 220.239, 232.187835, 242.803533, 256.894189, 272.91176, 287.675526, 301.139947]}, {\"line\": {\"color\": \"rgba(55, 128, 191, 1.0)\", \"dash\": \"solid\", \"shape\": \"linear\", \"width\": 1.3}, \"mode\": \"lines\", \"name\": \"Canada\", \"text\": \"\", \"type\": \"scatter\", \"uid\": \"d91329b8-0b17-4720-afd1-18ff99744546\", \"x\": [1952, 1957, 1962, 1967, 1972, 1977, 1982, 1987, 1992, 1997, 2002, 2007], \"y\": [14.785584, 17.010154, 18.985849, 20.819767, 22.2845, 23.7964, 25.2019, 26.5497, 28.523502, 30.305843, 31.902268, 33.390141]}],\n",
       "                        {\"legend\": {\"bgcolor\": \"#F5F6F9\", \"font\": {\"color\": \"#4D5663\"}}, \"paper_bgcolor\": \"#F5F6F9\", \"plot_bgcolor\": \"#F5F6F9\", \"title\": {\"font\": {\"color\": \"#4D5663\"}, \"text\": \"7.1 In-Class Chart 1\"}, \"xaxis\": {\"gridcolor\": \"#E1E5ED\", \"showgrid\": true, \"tickfont\": {\"color\": \"#4D5663\"}, \"title\": {\"font\": {\"color\": \"#4D5663\"}, \"text\": \"\"}, \"zerolinecolor\": \"#E1E5ED\"}, \"yaxis\": {\"gridcolor\": \"#E1E5ED\", \"showgrid\": true, \"tickfont\": {\"color\": \"#4D5663\"}, \"title\": {\"font\": {\"color\": \"#4D5663\"}, \"text\": \"\"}, \"zerolinecolor\": \"#E1E5ED\"}},\n",
       "                        {\"showLink\": true, \"linkText\": \"Export to plot.ly\", \"plotlyServerURL\": \"https://plot.ly\", \"responsive\": true}\n",
       "                    )\n",
       "                };\n",
       "                });\n",
       "            </script>\n",
       "        </div>"
      ]
     },
     "metadata": {},
     "output_type": "display_data"
    }
   ],
   "source": [
    "# Create a List filled with the countries to plot\n",
    "countries_to_plot = ['United States', 'Canada']\n",
    "\n",
    "# plot the countries \n",
    "df_country[countries_to_plot].iplot(kind='line', \n",
    "                                     theme='pearl',\n",
    "                                     title='7.1 In-Class Chart 1')\n"
   ]
  },
  {
   "cell_type": "markdown",
   "metadata": {},
   "source": [
    "# In Class Chart 2\n",
    "- Data source:  *Country_Data.csv*\n",
    "- Plot Life Expectancy on a Multi-Line Chart for For China, Thailand, Vietnam\n",
    "- For all years after the 1960's\n"
   ]
  },
  {
   "cell_type": "markdown",
   "metadata": {},
   "source": [
    "### Read data  \n",
    "- Reuse the df_country dataframe created above"
   ]
  },
  {
   "cell_type": "code",
   "execution_count": 176,
   "metadata": {},
   "outputs": [],
   "source": [
    "df_2 = df_1"
   ]
  },
  {
   "cell_type": "markdown",
   "metadata": {},
   "source": [
    "### Pivot Data from Tall to Wide on Life Expectancy"
   ]
  },
  {
   "cell_type": "code",
   "execution_count": 177,
   "metadata": {},
   "outputs": [
    {
     "data": {
      "text/html": [
       "<div>\n",
       "<style scoped>\n",
       "    .dataframe tbody tr th:only-of-type {\n",
       "        vertical-align: middle;\n",
       "    }\n",
       "\n",
       "    .dataframe tbody tr th {\n",
       "        vertical-align: top;\n",
       "    }\n",
       "\n",
       "    .dataframe thead th {\n",
       "        text-align: right;\n",
       "    }\n",
       "</style>\n",
       "<table border=\"1\" class=\"dataframe\">\n",
       "  <thead>\n",
       "    <tr style=\"text-align: right;\">\n",
       "      <th>country</th>\n",
       "      <th>Afghanistan</th>\n",
       "      <th>Albania</th>\n",
       "      <th>Algeria</th>\n",
       "      <th>Angola</th>\n",
       "      <th>Argentina</th>\n",
       "      <th>Australia</th>\n",
       "      <th>Austria</th>\n",
       "      <th>Bahrain</th>\n",
       "      <th>Bangladesh</th>\n",
       "      <th>Belgium</th>\n",
       "      <th>...</th>\n",
       "      <th>Uganda</th>\n",
       "      <th>United Kingdom</th>\n",
       "      <th>United States</th>\n",
       "      <th>Uruguay</th>\n",
       "      <th>Venezuela</th>\n",
       "      <th>Vietnam</th>\n",
       "      <th>West Bank and Gaza</th>\n",
       "      <th>Yemen, Rep.</th>\n",
       "      <th>Zambia</th>\n",
       "      <th>Zimbabwe</th>\n",
       "    </tr>\n",
       "    <tr>\n",
       "      <th>year</th>\n",
       "      <th></th>\n",
       "      <th></th>\n",
       "      <th></th>\n",
       "      <th></th>\n",
       "      <th></th>\n",
       "      <th></th>\n",
       "      <th></th>\n",
       "      <th></th>\n",
       "      <th></th>\n",
       "      <th></th>\n",
       "      <th></th>\n",
       "      <th></th>\n",
       "      <th></th>\n",
       "      <th></th>\n",
       "      <th></th>\n",
       "      <th></th>\n",
       "      <th></th>\n",
       "      <th></th>\n",
       "      <th></th>\n",
       "      <th></th>\n",
       "      <th></th>\n",
       "    </tr>\n",
       "  </thead>\n",
       "  <tbody>\n",
       "    <tr>\n",
       "      <th>1952</th>\n",
       "      <td>28.801</td>\n",
       "      <td>55.23</td>\n",
       "      <td>43.077</td>\n",
       "      <td>30.015</td>\n",
       "      <td>62.485</td>\n",
       "      <td>69.12</td>\n",
       "      <td>66.80</td>\n",
       "      <td>50.939</td>\n",
       "      <td>37.484</td>\n",
       "      <td>68.00</td>\n",
       "      <td>...</td>\n",
       "      <td>39.978</td>\n",
       "      <td>69.18</td>\n",
       "      <td>68.44</td>\n",
       "      <td>66.071</td>\n",
       "      <td>55.088</td>\n",
       "      <td>40.412</td>\n",
       "      <td>43.160</td>\n",
       "      <td>32.548</td>\n",
       "      <td>42.038</td>\n",
       "      <td>48.451</td>\n",
       "    </tr>\n",
       "    <tr>\n",
       "      <th>1957</th>\n",
       "      <td>30.332</td>\n",
       "      <td>59.28</td>\n",
       "      <td>45.685</td>\n",
       "      <td>31.999</td>\n",
       "      <td>64.399</td>\n",
       "      <td>70.33</td>\n",
       "      <td>67.48</td>\n",
       "      <td>53.832</td>\n",
       "      <td>39.348</td>\n",
       "      <td>69.24</td>\n",
       "      <td>...</td>\n",
       "      <td>42.571</td>\n",
       "      <td>70.42</td>\n",
       "      <td>69.49</td>\n",
       "      <td>67.044</td>\n",
       "      <td>57.907</td>\n",
       "      <td>42.887</td>\n",
       "      <td>45.671</td>\n",
       "      <td>33.970</td>\n",
       "      <td>44.077</td>\n",
       "      <td>50.469</td>\n",
       "    </tr>\n",
       "    <tr>\n",
       "      <th>1962</th>\n",
       "      <td>31.997</td>\n",
       "      <td>64.82</td>\n",
       "      <td>48.303</td>\n",
       "      <td>34.000</td>\n",
       "      <td>65.142</td>\n",
       "      <td>70.93</td>\n",
       "      <td>69.54</td>\n",
       "      <td>56.923</td>\n",
       "      <td>41.216</td>\n",
       "      <td>70.25</td>\n",
       "      <td>...</td>\n",
       "      <td>45.344</td>\n",
       "      <td>70.76</td>\n",
       "      <td>70.21</td>\n",
       "      <td>68.253</td>\n",
       "      <td>60.770</td>\n",
       "      <td>45.363</td>\n",
       "      <td>48.127</td>\n",
       "      <td>35.180</td>\n",
       "      <td>46.023</td>\n",
       "      <td>52.358</td>\n",
       "    </tr>\n",
       "    <tr>\n",
       "      <th>1967</th>\n",
       "      <td>34.020</td>\n",
       "      <td>66.22</td>\n",
       "      <td>51.407</td>\n",
       "      <td>35.985</td>\n",
       "      <td>65.634</td>\n",
       "      <td>71.10</td>\n",
       "      <td>70.14</td>\n",
       "      <td>59.923</td>\n",
       "      <td>43.453</td>\n",
       "      <td>70.94</td>\n",
       "      <td>...</td>\n",
       "      <td>48.051</td>\n",
       "      <td>71.36</td>\n",
       "      <td>70.76</td>\n",
       "      <td>68.468</td>\n",
       "      <td>63.479</td>\n",
       "      <td>47.838</td>\n",
       "      <td>51.631</td>\n",
       "      <td>36.984</td>\n",
       "      <td>47.768</td>\n",
       "      <td>53.995</td>\n",
       "    </tr>\n",
       "    <tr>\n",
       "      <th>1972</th>\n",
       "      <td>36.088</td>\n",
       "      <td>67.69</td>\n",
       "      <td>54.518</td>\n",
       "      <td>37.928</td>\n",
       "      <td>67.065</td>\n",
       "      <td>71.93</td>\n",
       "      <td>70.63</td>\n",
       "      <td>63.300</td>\n",
       "      <td>45.252</td>\n",
       "      <td>71.44</td>\n",
       "      <td>...</td>\n",
       "      <td>51.016</td>\n",
       "      <td>72.01</td>\n",
       "      <td>71.34</td>\n",
       "      <td>68.673</td>\n",
       "      <td>65.712</td>\n",
       "      <td>50.254</td>\n",
       "      <td>56.532</td>\n",
       "      <td>39.848</td>\n",
       "      <td>50.107</td>\n",
       "      <td>55.635</td>\n",
       "    </tr>\n",
       "  </tbody>\n",
       "</table>\n",
       "<p>5 rows × 142 columns</p>\n",
       "</div>"
      ],
      "text/plain": [
       "country  Afghanistan  Albania  Algeria  Angola  Argentina  Australia  Austria  \\\n",
       "year                                                                            \n",
       "1952          28.801    55.23   43.077  30.015     62.485      69.12    66.80   \n",
       "1957          30.332    59.28   45.685  31.999     64.399      70.33    67.48   \n",
       "1962          31.997    64.82   48.303  34.000     65.142      70.93    69.54   \n",
       "1967          34.020    66.22   51.407  35.985     65.634      71.10    70.14   \n",
       "1972          36.088    67.69   54.518  37.928     67.065      71.93    70.63   \n",
       "\n",
       "country  Bahrain  Bangladesh  Belgium  ...  Uganda  United Kingdom  \\\n",
       "year                                   ...                           \n",
       "1952      50.939      37.484    68.00  ...  39.978           69.18   \n",
       "1957      53.832      39.348    69.24  ...  42.571           70.42   \n",
       "1962      56.923      41.216    70.25  ...  45.344           70.76   \n",
       "1967      59.923      43.453    70.94  ...  48.051           71.36   \n",
       "1972      63.300      45.252    71.44  ...  51.016           72.01   \n",
       "\n",
       "country  United States  Uruguay  Venezuela  Vietnam  West Bank and Gaza  \\\n",
       "year                                                                      \n",
       "1952             68.44   66.071     55.088   40.412              43.160   \n",
       "1957             69.49   67.044     57.907   42.887              45.671   \n",
       "1962             70.21   68.253     60.770   45.363              48.127   \n",
       "1967             70.76   68.468     63.479   47.838              51.631   \n",
       "1972             71.34   68.673     65.712   50.254              56.532   \n",
       "\n",
       "country  Yemen, Rep.  Zambia  Zimbabwe  \n",
       "year                                    \n",
       "1952          32.548  42.038    48.451  \n",
       "1957          33.970  44.077    50.469  \n",
       "1962          35.180  46.023    52.358  \n",
       "1967          36.984  47.768    53.995  \n",
       "1972          39.848  50.107    55.635  \n",
       "\n",
       "[5 rows x 142 columns]"
      ]
     },
     "execution_count": 177,
     "metadata": {},
     "output_type": "execute_result"
    }
   ],
   "source": [
    "df_country_wide = df_1.pivot(index='year', columns='country', values='lifeExpectancy')\n",
    "df_country_wide.head()"
   ]
  },
  {
   "cell_type": "markdown",
   "metadata": {},
   "source": [
    "### Subset the dataframe:  Years after the 1960's  \n",
    "- Use .loc[] to do this rather than a boolean filter"
   ]
  },
  {
   "cell_type": "code",
   "execution_count": 178,
   "metadata": {},
   "outputs": [
    {
     "data": {
      "text/html": [
       "<div>\n",
       "<style scoped>\n",
       "    .dataframe tbody tr th:only-of-type {\n",
       "        vertical-align: middle;\n",
       "    }\n",
       "\n",
       "    .dataframe tbody tr th {\n",
       "        vertical-align: top;\n",
       "    }\n",
       "\n",
       "    .dataframe thead th {\n",
       "        text-align: right;\n",
       "    }\n",
       "</style>\n",
       "<table border=\"1\" class=\"dataframe\">\n",
       "  <thead>\n",
       "    <tr style=\"text-align: right;\">\n",
       "      <th>country</th>\n",
       "      <th>Afghanistan</th>\n",
       "      <th>Albania</th>\n",
       "      <th>Algeria</th>\n",
       "      <th>Angola</th>\n",
       "      <th>Argentina</th>\n",
       "      <th>Australia</th>\n",
       "      <th>Austria</th>\n",
       "      <th>Bahrain</th>\n",
       "      <th>Bangladesh</th>\n",
       "      <th>Belgium</th>\n",
       "      <th>...</th>\n",
       "      <th>Uganda</th>\n",
       "      <th>United Kingdom</th>\n",
       "      <th>United States</th>\n",
       "      <th>Uruguay</th>\n",
       "      <th>Venezuela</th>\n",
       "      <th>Vietnam</th>\n",
       "      <th>West Bank and Gaza</th>\n",
       "      <th>Yemen, Rep.</th>\n",
       "      <th>Zambia</th>\n",
       "      <th>Zimbabwe</th>\n",
       "    </tr>\n",
       "    <tr>\n",
       "      <th>year</th>\n",
       "      <th></th>\n",
       "      <th></th>\n",
       "      <th></th>\n",
       "      <th></th>\n",
       "      <th></th>\n",
       "      <th></th>\n",
       "      <th></th>\n",
       "      <th></th>\n",
       "      <th></th>\n",
       "      <th></th>\n",
       "      <th></th>\n",
       "      <th></th>\n",
       "      <th></th>\n",
       "      <th></th>\n",
       "      <th></th>\n",
       "      <th></th>\n",
       "      <th></th>\n",
       "      <th></th>\n",
       "      <th></th>\n",
       "      <th></th>\n",
       "      <th></th>\n",
       "    </tr>\n",
       "  </thead>\n",
       "  <tbody>\n",
       "    <tr>\n",
       "      <th>1972</th>\n",
       "      <td>36.088</td>\n",
       "      <td>67.690</td>\n",
       "      <td>54.518</td>\n",
       "      <td>37.928</td>\n",
       "      <td>67.065</td>\n",
       "      <td>71.93</td>\n",
       "      <td>70.63</td>\n",
       "      <td>63.300</td>\n",
       "      <td>45.252</td>\n",
       "      <td>71.44</td>\n",
       "      <td>...</td>\n",
       "      <td>51.016</td>\n",
       "      <td>72.010</td>\n",
       "      <td>71.34</td>\n",
       "      <td>68.673</td>\n",
       "      <td>65.712</td>\n",
       "      <td>50.254</td>\n",
       "      <td>56.532</td>\n",
       "      <td>39.848</td>\n",
       "      <td>50.107</td>\n",
       "      <td>55.635</td>\n",
       "    </tr>\n",
       "    <tr>\n",
       "      <th>1977</th>\n",
       "      <td>38.438</td>\n",
       "      <td>68.930</td>\n",
       "      <td>58.014</td>\n",
       "      <td>39.483</td>\n",
       "      <td>68.481</td>\n",
       "      <td>73.49</td>\n",
       "      <td>72.17</td>\n",
       "      <td>65.593</td>\n",
       "      <td>46.923</td>\n",
       "      <td>72.80</td>\n",
       "      <td>...</td>\n",
       "      <td>50.350</td>\n",
       "      <td>72.760</td>\n",
       "      <td>73.38</td>\n",
       "      <td>69.481</td>\n",
       "      <td>67.456</td>\n",
       "      <td>55.764</td>\n",
       "      <td>60.765</td>\n",
       "      <td>44.175</td>\n",
       "      <td>51.386</td>\n",
       "      <td>57.674</td>\n",
       "    </tr>\n",
       "    <tr>\n",
       "      <th>1982</th>\n",
       "      <td>39.854</td>\n",
       "      <td>70.420</td>\n",
       "      <td>61.368</td>\n",
       "      <td>39.942</td>\n",
       "      <td>69.942</td>\n",
       "      <td>74.74</td>\n",
       "      <td>73.18</td>\n",
       "      <td>69.052</td>\n",
       "      <td>50.009</td>\n",
       "      <td>73.93</td>\n",
       "      <td>...</td>\n",
       "      <td>49.849</td>\n",
       "      <td>74.040</td>\n",
       "      <td>74.65</td>\n",
       "      <td>70.805</td>\n",
       "      <td>68.557</td>\n",
       "      <td>58.816</td>\n",
       "      <td>64.406</td>\n",
       "      <td>49.113</td>\n",
       "      <td>51.821</td>\n",
       "      <td>60.363</td>\n",
       "    </tr>\n",
       "    <tr>\n",
       "      <th>1987</th>\n",
       "      <td>40.822</td>\n",
       "      <td>72.000</td>\n",
       "      <td>65.799</td>\n",
       "      <td>39.906</td>\n",
       "      <td>70.774</td>\n",
       "      <td>76.32</td>\n",
       "      <td>74.94</td>\n",
       "      <td>70.750</td>\n",
       "      <td>52.819</td>\n",
       "      <td>75.35</td>\n",
       "      <td>...</td>\n",
       "      <td>51.509</td>\n",
       "      <td>75.007</td>\n",
       "      <td>75.02</td>\n",
       "      <td>71.918</td>\n",
       "      <td>70.190</td>\n",
       "      <td>62.820</td>\n",
       "      <td>67.046</td>\n",
       "      <td>52.922</td>\n",
       "      <td>50.821</td>\n",
       "      <td>62.351</td>\n",
       "    </tr>\n",
       "    <tr>\n",
       "      <th>1992</th>\n",
       "      <td>41.674</td>\n",
       "      <td>71.581</td>\n",
       "      <td>67.744</td>\n",
       "      <td>40.647</td>\n",
       "      <td>71.868</td>\n",
       "      <td>77.56</td>\n",
       "      <td>76.04</td>\n",
       "      <td>72.601</td>\n",
       "      <td>56.018</td>\n",
       "      <td>76.46</td>\n",
       "      <td>...</td>\n",
       "      <td>48.825</td>\n",
       "      <td>76.420</td>\n",
       "      <td>76.09</td>\n",
       "      <td>72.752</td>\n",
       "      <td>71.150</td>\n",
       "      <td>67.662</td>\n",
       "      <td>69.718</td>\n",
       "      <td>55.599</td>\n",
       "      <td>46.100</td>\n",
       "      <td>60.377</td>\n",
       "    </tr>\n",
       "  </tbody>\n",
       "</table>\n",
       "<p>5 rows × 142 columns</p>\n",
       "</div>"
      ],
      "text/plain": [
       "country  Afghanistan  Albania  Algeria  Angola  Argentina  Australia  Austria  \\\n",
       "year                                                                            \n",
       "1972          36.088   67.690   54.518  37.928     67.065      71.93    70.63   \n",
       "1977          38.438   68.930   58.014  39.483     68.481      73.49    72.17   \n",
       "1982          39.854   70.420   61.368  39.942     69.942      74.74    73.18   \n",
       "1987          40.822   72.000   65.799  39.906     70.774      76.32    74.94   \n",
       "1992          41.674   71.581   67.744  40.647     71.868      77.56    76.04   \n",
       "\n",
       "country  Bahrain  Bangladesh  Belgium  ...  Uganda  United Kingdom  \\\n",
       "year                                   ...                           \n",
       "1972      63.300      45.252    71.44  ...  51.016          72.010   \n",
       "1977      65.593      46.923    72.80  ...  50.350          72.760   \n",
       "1982      69.052      50.009    73.93  ...  49.849          74.040   \n",
       "1987      70.750      52.819    75.35  ...  51.509          75.007   \n",
       "1992      72.601      56.018    76.46  ...  48.825          76.420   \n",
       "\n",
       "country  United States  Uruguay  Venezuela  Vietnam  West Bank and Gaza  \\\n",
       "year                                                                      \n",
       "1972             71.34   68.673     65.712   50.254              56.532   \n",
       "1977             73.38   69.481     67.456   55.764              60.765   \n",
       "1982             74.65   70.805     68.557   58.816              64.406   \n",
       "1987             75.02   71.918     70.190   62.820              67.046   \n",
       "1992             76.09   72.752     71.150   67.662              69.718   \n",
       "\n",
       "country  Yemen, Rep.  Zambia  Zimbabwe  \n",
       "year                                    \n",
       "1972          39.848  50.107    55.635  \n",
       "1977          44.175  51.386    57.674  \n",
       "1982          49.113  51.821    60.363  \n",
       "1987          52.922  50.821    62.351  \n",
       "1992          55.599  46.100    60.377  \n",
       "\n",
       "[5 rows x 142 columns]"
      ]
     },
     "execution_count": 178,
     "metadata": {},
     "output_type": "execute_result"
    }
   ],
   "source": [
    "df_after_1960 = df_country_wide.loc['1970-01-01':]\n",
    "df_after_1960.head()"
   ]
  },
  {
   "cell_type": "markdown",
   "metadata": {},
   "source": [
    "### Plot"
   ]
  },
  {
   "cell_type": "code",
   "execution_count": 179,
   "metadata": {
    "scrolled": true
   },
   "outputs": [
    {
     "data": {
      "text/plain": [
       "Text(0.5, 1.0, 'In Class Chart 2: Life Expectancy after the 1960s')"
      ]
     },
     "execution_count": 179,
     "metadata": {},
     "output_type": "execute_result"
    },
    {
     "data": {
      "image/png": "[encoded data removed]",
      "text/plain": [
       "<Figure size 360x360 with 1 Axes>"
      ]
     },
     "metadata": {
      "needs_background": "light"
     },
     "output_type": "display_data"
    }
   ],
   "source": [
    "plt.plot(df_after_1960.index,\n",
    "        df_after_1960['China'],\n",
    "        label='China',\n",
    "        marker='D',\n",
    "        linestyle=':',\n",
    "        color='green',\n",
    "        linewidth=3)\n",
    "\n",
    "plt.plot(df_after_1960.index,\n",
    "         df_after_1960['Thailand'],\n",
    "         label='Thailand',\n",
    "        marker='D',\n",
    "        linestyle=':',\n",
    "        color='purple')\n",
    "\n",
    "plt.plot(df_after_1960.index,\n",
    "        df_after_1960['Vietnam'],\n",
    "        label='Vietnam',\n",
    "        marker='D',\n",
    "        linestyle=':',\n",
    "        color='blue')\n",
    "\n",
    "plt.ylabel('Life Expectancy')\n",
    "\n",
    "plt.legend()\n",
    "plt.title(\"In Class Chart 2: Life Expectancy after the 1960s\")"
   ]
  },
  {
   "cell_type": "code",
   "execution_count": 180,
   "metadata": {},
   "outputs": [
    {
     "data": {
      "application/vnd.plotly.v1+json": {
       "config": {
        "linkText": "Export to plot.ly",
        "plotlyServerURL": "https://plot.ly",
        "responsive": true,
        "showLink": true
       },
       "data": [
        {
         "line": {
          "color": "rgba(255, 153, 51, 1.0)",
          "dash": "solid",
          "shape": "linear",
          "width": 1.3
         },
         "mode": "lines",
         "name": "China",
         "text": "",
         "type": "scatter",
         "uid": "6792b289-dfca-400e-bcb6-e34cf978b420",
         "x": [
          1972,
          1977,
          1982,
          1987,
          1992,
          1997,
          2002,
          2007
         ],
         "y": [
          63.118880000000004,
          63.96736,
          65.525,
          67.274,
          68.69,
          70.426,
          72.028,
          72.961
         ]
        },
        {
         "line": {
          "color": "rgba(55, 128, 191, 1.0)",
          "dash": "solid",
          "shape": "linear",
          "width": 1.3
         },
         "mode": "lines",
         "name": "Thailand",
         "text": "",
         "type": "scatter",
         "uid": "82d5467a-c117-4c96-a060-97dc53785592",
         "x": [
          1972,
          1977,
          1982,
          1987,
          1992,
          1997,
          2002,
          2007
         ],
         "y": [
          60.405,
          62.494,
          64.597,
          66.084,
          67.298,
          67.521,
          68.564,
          70.616
         ]
        },
        {
         "line": {
          "color": "rgba(50, 171, 96, 1.0)",
          "dash": "solid",
          "shape": "linear",
          "width": 1.3
         },
         "mode": "lines",
         "name": "Vietnam",
         "text": "",
         "type": "scatter",
         "uid": "d0a05ea7-8f5b-4589-83cf-151583b451ce",
         "x": [
          1972,
          1977,
          1982,
          1987,
          1992,
          1997,
          2002,
          2007
         ],
         "y": [
          50.254,
          55.763999999999996,
          58.816,
          62.82,
          67.66199999999999,
          70.672,
          73.017,
          74.249
         ]
        }
       ],
       "layout": {
        "legend": {
         "bgcolor": "#1A1A1C",
         "font": {
          "color": "#D9D9D9"
         }
        },
        "paper_bgcolor": "#1A1A1C",
        "plot_bgcolor": "#1A1A1C",
        "title": {
         "font": {
          "color": "#D9D9D9"
         },
         "text": "7.1 In-Class Chart 2: Life Expectancy after the 1960s"
        },
        "xaxis": {
         "gridcolor": "#434343",
         "showgrid": true,
         "tickfont": {
          "color": "#C2C2C2"
         },
         "title": {
          "font": {
           "color": "#D9D9D9"
          },
          "text": ""
         },
         "zerolinecolor": "#666570"
        },
        "yaxis": {
         "gridcolor": "#434343",
         "showgrid": true,
         "tickfont": {
          "color": "#C2C2C2"
         },
         "title": {
          "font": {
           "color": "#D9D9D9"
          },
          "text": ""
         },
         "zerolinecolor": "#666570"
        }
       }
      },
      "text/html": [
       "<div>\n",
       "        \n",
       "        \n",
       "            <div id=\"1abed887-8823-4607-83b9-30913719c034\" class=\"plotly-graph-div\"></div>\n",
       "            <script type=\"text/javascript\">\n",
       "                require([\"plotly\"], function(Plotly) {\n",
       "                    window.PLOTLYENV=window.PLOTLYENV || {};\n",
       "                    window.PLOTLYENV.BASE_URL='https://plot.ly';\n",
       "                    \n",
       "                if (document.getElementById(\"1abed887-8823-4607-83b9-30913719c034\")) {\n",
       "                    Plotly.newPlot(\n",
       "                        '1abed887-8823-4607-83b9-30913719c034',\n",
       "                        [{\"line\": {\"color\": \"rgba(255, 153, 51, 1.0)\", \"dash\": \"solid\", \"shape\": \"linear\", \"width\": 1.3}, \"mode\": \"lines\", \"name\": \"China\", \"text\": \"\", \"type\": \"scatter\", \"uid\": \"a3e150e1-efee-4f97-a6ee-5dbbb3524184\", \"x\": [1972, 1977, 1982, 1987, 1992, 1997, 2002, 2007], \"y\": [63.118880000000004, 63.96736, 65.525, 67.274, 68.69, 70.426, 72.028, 72.961]}, {\"line\": {\"color\": \"rgba(55, 128, 191, 1.0)\", \"dash\": \"solid\", \"shape\": \"linear\", \"width\": 1.3}, \"mode\": \"lines\", \"name\": \"Thailand\", \"text\": \"\", \"type\": \"scatter\", \"uid\": \"abb581dc-1261-4244-8376-ee9bd2cd6728\", \"x\": [1972, 1977, 1982, 1987, 1992, 1997, 2002, 2007], \"y\": [60.405, 62.494, 64.597, 66.084, 67.298, 67.521, 68.564, 70.616]}, {\"line\": {\"color\": \"rgba(50, 171, 96, 1.0)\", \"dash\": \"solid\", \"shape\": \"linear\", \"width\": 1.3}, \"mode\": \"lines\", \"name\": \"Vietnam\", \"text\": \"\", \"type\": \"scatter\", \"uid\": \"1754345f-9c70-4f26-ac7f-1f580f1eed51\", \"x\": [1972, 1977, 1982, 1987, 1992, 1997, 2002, 2007], \"y\": [50.254, 55.763999999999996, 58.816, 62.82, 67.66199999999999, 70.672, 73.017, 74.249]}],\n",
       "                        {\"legend\": {\"bgcolor\": \"#1A1A1C\", \"font\": {\"color\": \"#D9D9D9\"}}, \"paper_bgcolor\": \"#1A1A1C\", \"plot_bgcolor\": \"#1A1A1C\", \"title\": {\"font\": {\"color\": \"#D9D9D9\"}, \"text\": \"7.1 In-Class Chart 2: Life Expectancy after the 1960s\"}, \"xaxis\": {\"gridcolor\": \"#434343\", \"showgrid\": true, \"tickfont\": {\"color\": \"#C2C2C2\"}, \"title\": {\"font\": {\"color\": \"#D9D9D9\"}, \"text\": \"\"}, \"zerolinecolor\": \"#666570\"}, \"yaxis\": {\"gridcolor\": \"#434343\", \"showgrid\": true, \"tickfont\": {\"color\": \"#C2C2C2\"}, \"title\": {\"font\": {\"color\": \"#D9D9D9\"}, \"text\": \"\"}, \"zerolinecolor\": \"#666570\"}},\n",
       "                        {\"showLink\": true, \"linkText\": \"Export to plot.ly\", \"plotlyServerURL\": \"https://plot.ly\", \"responsive\": true}\n",
       "                    )\n",
       "                };\n",
       "                });\n",
       "            </script>\n",
       "        </div>"
      ]
     },
     "metadata": {},
     "output_type": "display_data"
    }
   ],
   "source": [
    "# Create a List filled with the countries to plot\n",
    "countries_to_plot = ['China', 'Thailand', 'Vietnam']\n",
    "\n",
    "# plot the countries \n",
    "df_after_1960[countries_to_plot].iplot(kind='line', \n",
    "                                     theme='space',\n",
    "                                     title='7.1 In-Class Chart 2: Life Expectancy after the 1960s')\n"
   ]
  },
  {
   "cell_type": "markdown",
   "metadata": {},
   "source": [
    "# In Class Chart 3\n",
    "- Data source: *Data_Household.csv*  \n",
    "- Plot Average Amount Spent per Month"
   ]
  },
  {
   "cell_type": "markdown",
   "metadata": {},
   "source": [
    "### Read data"
   ]
  },
  {
   "cell_type": "code",
   "execution_count": 181,
   "metadata": {},
   "outputs": [],
   "source": [
    "df_Household = pd.read_csv('Data/Data_Household.csv')"
   ]
  },
  {
   "cell_type": "markdown",
   "metadata": {},
   "source": [
    "### Cleanup Data Types as Needed"
   ]
  },
  {
   "cell_type": "code",
   "execution_count": 182,
   "metadata": {},
   "outputs": [
    {
     "data": {
      "text/plain": [
       "Month       object\n",
       "Category    object\n",
       "Amount       int64\n",
       "dtype: object"
      ]
     },
     "execution_count": 182,
     "metadata": {},
     "output_type": "execute_result"
    }
   ],
   "source": [
    "# Before\n",
    "df_Household.dtypes"
   ]
  },
  {
   "cell_type": "code",
   "execution_count": 183,
   "metadata": {},
   "outputs": [],
   "source": [
    "# Do required cleanup\n",
    "df_Household['Month']= pd.to_datetime(df_Household['Month'])"
   ]
  },
  {
   "cell_type": "code",
   "execution_count": 184,
   "metadata": {},
   "outputs": [
    {
     "data": {
      "text/plain": [
       "Month       datetime64[ns]\n",
       "Category            object\n",
       "Amount               int64\n",
       "dtype: object"
      ]
     },
     "execution_count": 184,
     "metadata": {},
     "output_type": "execute_result"
    }
   ],
   "source": [
    "# After\n",
    "df_Household.dtypes"
   ]
  },
  {
   "cell_type": "code",
   "execution_count": 185,
   "metadata": {},
   "outputs": [],
   "source": [
    "df_Household['month_name'] = df_Household['Month'].dt.strftime('%b')"
   ]
  },
  {
   "cell_type": "markdown",
   "metadata": {},
   "source": [
    "### Group by Month"
   ]
  },
  {
   "cell_type": "code",
   "execution_count": 186,
   "metadata": {},
   "outputs": [
    {
     "data": {
      "text/plain": [
       "month_name\n",
       "Feb    176.25\n",
       "Jan    146.00\n",
       "Mar    167.50\n",
       "Name: Amount, dtype: float64"
      ]
     },
     "execution_count": 186,
     "metadata": {},
     "output_type": "execute_result"
    }
   ],
   "source": [
    "month = df_Household.groupby('month_name')['Amount'].mean()\n",
    "month.head()"
   ]
  },
  {
   "cell_type": "markdown",
   "metadata": {},
   "source": [
    "### Plot"
   ]
  },
  {
   "cell_type": "code",
   "execution_count": 187,
   "metadata": {
    "scrolled": true
   },
   "outputs": [
    {
     "data": {
      "text/plain": [
       "<matplotlib.axes._subplots.AxesSubplot at 0xf644110>"
      ]
     },
     "execution_count": 187,
     "metadata": {},
     "output_type": "execute_result"
    },
    {
     "data": {
      "image/png": "[encoded data removed]",
      "text/plain": [
       "<Figure size 360x360 with 1 Axes>"
      ]
     },
     "metadata": {
      "needs_background": "light"
     },
     "output_type": "display_data"
    }
   ],
   "source": [
    "month_name = ['Jan', 'Feb', 'Mar']\n",
    "\n",
    "month[month_name].plot.bar(color='green',\n",
    "                           title='In Class Chart 3: Average Amount Spent per Month')"
   ]
  },
  {
   "cell_type": "code",
   "execution_count": 188,
   "metadata": {},
   "outputs": [
    {
     "data": {
      "application/vnd.plotly.v1+json": {
       "config": {
        "linkText": "Export to plot.ly",
        "plotlyServerURL": "https://plot.ly",
        "responsive": true,
        "showLink": true
       },
       "data": [
        {
         "marker": {
          "color": "rgba(55, 128, 191, 0.6)",
          "line": {
           "color": "rgba(55, 128, 191, 1.0)",
           "width": 1
          }
         },
         "name": "Amount",
         "orientation": "v",
         "text": "",
         "type": "bar",
         "uid": "98ef4bc8-dc44-4d4e-a8e9-693ca9c05e93",
         "x": [
          "Jan",
          "Feb",
          "Mar"
         ],
         "y": [
          146,
          176.25,
          167.5
         ]
        }
       ],
       "layout": {
        "legend": {
         "bgcolor": "#F5F6F9",
         "font": {
          "color": "#4D5663"
         }
        },
        "paper_bgcolor": "#F5F6F9",
        "plot_bgcolor": "#F5F6F9",
        "title": {
         "font": {
          "color": "#4D5663"
         },
         "text": "7.1 In Class Chart 3: Average Amount Spent per Month"
        },
        "xaxis": {
         "gridcolor": "#E1E5ED",
         "showgrid": true,
         "tickfont": {
          "color": "#4D5663"
         },
         "title": {
          "font": {
           "color": "#4D5663"
          },
          "text": ""
         },
         "zerolinecolor": "#E1E5ED"
        },
        "yaxis": {
         "gridcolor": "#E1E5ED",
         "showgrid": true,
         "tickfont": {
          "color": "#4D5663"
         },
         "title": {
          "font": {
           "color": "#4D5663"
          },
          "text": ""
         },
         "zerolinecolor": "#E1E5ED"
        }
       }
      },
      "text/html": [
       "<div>\n",
       "        \n",
       "        \n",
       "            <div id=\"180748ac-b82e-4f86-b163-fe33b2c69298\" class=\"plotly-graph-div\"></div>\n",
       "            <script type=\"text/javascript\">\n",
       "                require([\"plotly\"], function(Plotly) {\n",
       "                    window.PLOTLYENV=window.PLOTLYENV || {};\n",
       "                    window.PLOTLYENV.BASE_URL='https://plot.ly';\n",
       "                    \n",
       "                if (document.getElementById(\"180748ac-b82e-4f86-b163-fe33b2c69298\")) {\n",
       "                    Plotly.newPlot(\n",
       "                        '180748ac-b82e-4f86-b163-fe33b2c69298',\n",
       "                        [{\"marker\": {\"color\": \"rgba(55, 128, 191, 0.6)\", \"line\": {\"color\": \"rgba(55, 128, 191, 1.0)\", \"width\": 1}}, \"name\": \"Amount\", \"orientation\": \"v\", \"text\": \"\", \"type\": \"bar\", \"uid\": \"aabb9c69-4c5c-43f4-bde2-3b2408a61e1e\", \"x\": [\"Jan\", \"Feb\", \"Mar\"], \"y\": [146.0, 176.25, 167.5]}],\n",
       "                        {\"legend\": {\"bgcolor\": \"#F5F6F9\", \"font\": {\"color\": \"#4D5663\"}}, \"paper_bgcolor\": \"#F5F6F9\", \"plot_bgcolor\": \"#F5F6F9\", \"title\": {\"font\": {\"color\": \"#4D5663\"}, \"text\": \"7.1 In Class Chart 3: Average Amount Spent per Month\"}, \"xaxis\": {\"gridcolor\": \"#E1E5ED\", \"showgrid\": true, \"tickfont\": {\"color\": \"#4D5663\"}, \"title\": {\"font\": {\"color\": \"#4D5663\"}, \"text\": \"\"}, \"zerolinecolor\": \"#E1E5ED\"}, \"yaxis\": {\"gridcolor\": \"#E1E5ED\", \"showgrid\": true, \"tickfont\": {\"color\": \"#4D5663\"}, \"title\": {\"font\": {\"color\": \"#4D5663\"}, \"text\": \"\"}, \"zerolinecolor\": \"#E1E5ED\"}},\n",
       "                        {\"showLink\": true, \"linkText\": \"Export to plot.ly\", \"plotlyServerURL\": \"https://plot.ly\", \"responsive\": true}\n",
       "                    )\n",
       "                };\n",
       "                });\n",
       "            </script>\n",
       "        </div>"
      ]
     },
     "metadata": {},
     "output_type": "display_data"
    }
   ],
   "source": [
    "month_name = ['Jan', 'Feb', 'Mar']\n",
    "\n",
    "month[month_name].iplot(kind='bar', \n",
    "            theme='pearl',\n",
    "            color='blue',\n",
    "            title='7.1 In Class Chart 3: Average Amount Spent per Month')"
   ]
  },
  {
   "cell_type": "markdown",
   "metadata": {},
   "source": [
    "# Ex 6.3"
   ]
  },
  {
   "cell_type": "markdown",
   "metadata": {},
   "source": [
    "# Ex Chart 1\n",
    "- Data source: *stocks_Tall.csv*  \n",
    "- Create a new dataframe named df_stocks based on df -- but with the Number of Records column dropped \n",
    "- Plot Microsoft, Netflix and Oracle on  a Multi-Line Chart"
   ]
  },
  {
   "cell_type": "code",
   "execution_count": 189,
   "metadata": {
    "scrolled": true
   },
   "outputs": [
    {
     "data": {
      "text/html": [
       "<div>\n",
       "<style scoped>\n",
       "    .dataframe tbody tr th:only-of-type {\n",
       "        vertical-align: middle;\n",
       "    }\n",
       "\n",
       "    .dataframe tbody tr th {\n",
       "        vertical-align: top;\n",
       "    }\n",
       "\n",
       "    .dataframe thead th {\n",
       "        text-align: right;\n",
       "    }\n",
       "</style>\n",
       "<table border=\"1\" class=\"dataframe\">\n",
       "  <thead>\n",
       "    <tr style=\"text-align: right;\">\n",
       "      <th></th>\n",
       "      <th>Date</th>\n",
       "      <th>Number of Records</th>\n",
       "      <th>Stock</th>\n",
       "      <th>Stock Value</th>\n",
       "    </tr>\n",
       "  </thead>\n",
       "  <tbody>\n",
       "    <tr>\n",
       "      <th>0</th>\n",
       "      <td>1/3/2007</td>\n",
       "      <td>1</td>\n",
       "      <td>Aapl</td>\n",
       "      <td>11.107141</td>\n",
       "    </tr>\n",
       "    <tr>\n",
       "      <th>1</th>\n",
       "      <td>2/1/2007</td>\n",
       "      <td>1</td>\n",
       "      <td>Aapl</td>\n",
       "      <td>10.962033</td>\n",
       "    </tr>\n",
       "    <tr>\n",
       "      <th>2</th>\n",
       "      <td>3/1/2007</td>\n",
       "      <td>1</td>\n",
       "      <td>Aapl</td>\n",
       "      <td>12.037377</td>\n",
       "    </tr>\n",
       "    <tr>\n",
       "      <th>3</th>\n",
       "      <td>4/2/2007</td>\n",
       "      <td>1</td>\n",
       "      <td>Aapl</td>\n",
       "      <td>12.930043</td>\n",
       "    </tr>\n",
       "    <tr>\n",
       "      <th>4</th>\n",
       "      <td>5/1/2007</td>\n",
       "      <td>1</td>\n",
       "      <td>Aapl</td>\n",
       "      <td>15.701322</td>\n",
       "    </tr>\n",
       "  </tbody>\n",
       "</table>\n",
       "</div>"
      ],
      "text/plain": [
       "       Date  Number of Records Stock  Stock Value\n",
       "0  1/3/2007                  1  Aapl    11.107141\n",
       "1  2/1/2007                  1  Aapl    10.962033\n",
       "2  3/1/2007                  1  Aapl    12.037377\n",
       "3  4/2/2007                  1  Aapl    12.930043\n",
       "4  5/1/2007                  1  Aapl    15.701322"
      ]
     },
     "execution_count": 189,
     "metadata": {},
     "output_type": "execute_result"
    }
   ],
   "source": [
    "df= pd.read_csv('Data//stocks_Tall.csv')\n",
    "df.head()"
   ]
  },
  {
   "cell_type": "code",
   "execution_count": 190,
   "metadata": {
    "scrolled": true
   },
   "outputs": [
    {
     "data": {
      "text/html": [
       "<div>\n",
       "<style scoped>\n",
       "    .dataframe tbody tr th:only-of-type {\n",
       "        vertical-align: middle;\n",
       "    }\n",
       "\n",
       "    .dataframe tbody tr th {\n",
       "        vertical-align: top;\n",
       "    }\n",
       "\n",
       "    .dataframe thead th {\n",
       "        text-align: right;\n",
       "    }\n",
       "</style>\n",
       "<table border=\"1\" class=\"dataframe\">\n",
       "  <thead>\n",
       "    <tr style=\"text-align: right;\">\n",
       "      <th></th>\n",
       "      <th>Date</th>\n",
       "      <th>Stock</th>\n",
       "      <th>Stock Value</th>\n",
       "    </tr>\n",
       "  </thead>\n",
       "  <tbody>\n",
       "    <tr>\n",
       "      <th>0</th>\n",
       "      <td>1/3/2007</td>\n",
       "      <td>Aapl</td>\n",
       "      <td>11.107141</td>\n",
       "    </tr>\n",
       "    <tr>\n",
       "      <th>1</th>\n",
       "      <td>2/1/2007</td>\n",
       "      <td>Aapl</td>\n",
       "      <td>10.962033</td>\n",
       "    </tr>\n",
       "    <tr>\n",
       "      <th>2</th>\n",
       "      <td>3/1/2007</td>\n",
       "      <td>Aapl</td>\n",
       "      <td>12.037377</td>\n",
       "    </tr>\n",
       "    <tr>\n",
       "      <th>3</th>\n",
       "      <td>4/2/2007</td>\n",
       "      <td>Aapl</td>\n",
       "      <td>12.930043</td>\n",
       "    </tr>\n",
       "    <tr>\n",
       "      <th>4</th>\n",
       "      <td>5/1/2007</td>\n",
       "      <td>Aapl</td>\n",
       "      <td>15.701322</td>\n",
       "    </tr>\n",
       "  </tbody>\n",
       "</table>\n",
       "</div>"
      ],
      "text/plain": [
       "       Date Stock  Stock Value\n",
       "0  1/3/2007  Aapl    11.107141\n",
       "1  2/1/2007  Aapl    10.962033\n",
       "2  3/1/2007  Aapl    12.037377\n",
       "3  4/2/2007  Aapl    12.930043\n",
       "4  5/1/2007  Aapl    15.701322"
      ]
     },
     "execution_count": 190,
     "metadata": {},
     "output_type": "execute_result"
    }
   ],
   "source": [
    "df_stocks = df.drop('Number of Records', axis='columns', inplace=False)\n",
    "df_stocks.head()"
   ]
  },
  {
   "cell_type": "code",
   "execution_count": 191,
   "metadata": {
    "scrolled": true
   },
   "outputs": [
    {
     "data": {
      "text/html": [
       "<div>\n",
       "<style scoped>\n",
       "    .dataframe tbody tr th:only-of-type {\n",
       "        vertical-align: middle;\n",
       "    }\n",
       "\n",
       "    .dataframe tbody tr th {\n",
       "        vertical-align: top;\n",
       "    }\n",
       "\n",
       "    .dataframe thead th {\n",
       "        text-align: right;\n",
       "    }\n",
       "</style>\n",
       "<table border=\"1\" class=\"dataframe\">\n",
       "  <thead>\n",
       "    <tr style=\"text-align: right;\">\n",
       "      <th></th>\n",
       "      <th>Date</th>\n",
       "      <th>Stock</th>\n",
       "      <th>Stock Value</th>\n",
       "      <th>Year</th>\n",
       "    </tr>\n",
       "  </thead>\n",
       "  <tbody>\n",
       "    <tr>\n",
       "      <th>0</th>\n",
       "      <td>2007-01-03</td>\n",
       "      <td>Aapl</td>\n",
       "      <td>11.107141</td>\n",
       "      <td>2007</td>\n",
       "    </tr>\n",
       "    <tr>\n",
       "      <th>1</th>\n",
       "      <td>2007-02-01</td>\n",
       "      <td>Aapl</td>\n",
       "      <td>10.962033</td>\n",
       "      <td>2007</td>\n",
       "    </tr>\n",
       "    <tr>\n",
       "      <th>2</th>\n",
       "      <td>2007-03-01</td>\n",
       "      <td>Aapl</td>\n",
       "      <td>12.037377</td>\n",
       "      <td>2007</td>\n",
       "    </tr>\n",
       "    <tr>\n",
       "      <th>3</th>\n",
       "      <td>2007-04-02</td>\n",
       "      <td>Aapl</td>\n",
       "      <td>12.930043</td>\n",
       "      <td>2007</td>\n",
       "    </tr>\n",
       "    <tr>\n",
       "      <th>4</th>\n",
       "      <td>2007-05-01</td>\n",
       "      <td>Aapl</td>\n",
       "      <td>15.701322</td>\n",
       "      <td>2007</td>\n",
       "    </tr>\n",
       "  </tbody>\n",
       "</table>\n",
       "</div>"
      ],
      "text/plain": [
       "        Date Stock  Stock Value  Year\n",
       "0 2007-01-03  Aapl    11.107141  2007\n",
       "1 2007-02-01  Aapl    10.962033  2007\n",
       "2 2007-03-01  Aapl    12.037377  2007\n",
       "3 2007-04-02  Aapl    12.930043  2007\n",
       "4 2007-05-01  Aapl    15.701322  2007"
      ]
     },
     "execution_count": 191,
     "metadata": {},
     "output_type": "execute_result"
    }
   ],
   "source": [
    "df_stocks['Date']= pd.to_datetime(df_stocks['Date'])\n",
    "df_stocks['Year'] = df_stocks['Date'].dt.year\n",
    "df_stocks['Year'] = pd.to_numeric(df_stocks['Year'])\n",
    "#df_stocks.dtypes\n",
    "df_stocks.head()"
   ]
  },
  {
   "cell_type": "code",
   "execution_count": 192,
   "metadata": {},
   "outputs": [
    {
     "data": {
      "text/html": [
       "<div>\n",
       "<style scoped>\n",
       "    .dataframe tbody tr th:only-of-type {\n",
       "        vertical-align: middle;\n",
       "    }\n",
       "\n",
       "    .dataframe tbody tr th {\n",
       "        vertical-align: top;\n",
       "    }\n",
       "\n",
       "    .dataframe thead th {\n",
       "        text-align: right;\n",
       "    }\n",
       "</style>\n",
       "<table border=\"1\" class=\"dataframe\">\n",
       "  <thead>\n",
       "    <tr style=\"text-align: right;\">\n",
       "      <th>Stock</th>\n",
       "      <th>Aapl</th>\n",
       "      <th>Adbe</th>\n",
       "      <th>CVX</th>\n",
       "      <th>Goog</th>\n",
       "      <th>IBM</th>\n",
       "      <th>Mdlz</th>\n",
       "      <th>Msft</th>\n",
       "      <th>Nflx</th>\n",
       "      <th>Orcl</th>\n",
       "      <th>Sbux</th>\n",
       "    </tr>\n",
       "    <tr>\n",
       "      <th>Date</th>\n",
       "      <th></th>\n",
       "      <th></th>\n",
       "      <th></th>\n",
       "      <th></th>\n",
       "      <th></th>\n",
       "      <th></th>\n",
       "      <th></th>\n",
       "      <th></th>\n",
       "      <th></th>\n",
       "      <th></th>\n",
       "    </tr>\n",
       "  </thead>\n",
       "  <tbody>\n",
       "    <tr>\n",
       "      <th>2007-01-03</th>\n",
       "      <td>11.107141</td>\n",
       "      <td>38.869999</td>\n",
       "      <td>50.777351</td>\n",
       "      <td>251.001007</td>\n",
       "      <td>79.242500</td>\n",
       "      <td>17.519524</td>\n",
       "      <td>24.118483</td>\n",
       "      <td>3.258571</td>\n",
       "      <td>15.696321</td>\n",
       "      <td>15.752188</td>\n",
       "    </tr>\n",
       "    <tr>\n",
       "      <th>2007-02-01</th>\n",
       "      <td>10.962033</td>\n",
       "      <td>39.250000</td>\n",
       "      <td>48.082939</td>\n",
       "      <td>224.949951</td>\n",
       "      <td>74.503204</td>\n",
       "      <td>16.019426</td>\n",
       "      <td>22.092464</td>\n",
       "      <td>3.218571</td>\n",
       "      <td>15.028588</td>\n",
       "      <td>13.930813</td>\n",
       "    </tr>\n",
       "    <tr>\n",
       "      <th>2007-03-01</th>\n",
       "      <td>12.037377</td>\n",
       "      <td>41.700001</td>\n",
       "      <td>51.900383</td>\n",
       "      <td>229.309311</td>\n",
       "      <td>75.561348</td>\n",
       "      <td>16.009354</td>\n",
       "      <td>21.857189</td>\n",
       "      <td>3.312857</td>\n",
       "      <td>16.583584</td>\n",
       "      <td>14.138198</td>\n",
       "    </tr>\n",
       "    <tr>\n",
       "      <th>2007-04-02</th>\n",
       "      <td>12.930043</td>\n",
       "      <td>41.560001</td>\n",
       "      <td>54.588032</td>\n",
       "      <td>235.925919</td>\n",
       "      <td>81.934280</td>\n",
       "      <td>16.924608</td>\n",
       "      <td>23.480597</td>\n",
       "      <td>3.167143</td>\n",
       "      <td>17.196436</td>\n",
       "      <td>13.984914</td>\n",
       "    </tr>\n",
       "    <tr>\n",
       "      <th>2007-05-01</th>\n",
       "      <td>15.701322</td>\n",
       "      <td>44.060001</td>\n",
       "      <td>57.598267</td>\n",
       "      <td>249.204208</td>\n",
       "      <td>85.786057</td>\n",
       "      <td>17.111704</td>\n",
       "      <td>24.146753</td>\n",
       "      <td>3.128572</td>\n",
       "      <td>17.726965</td>\n",
       "      <td>12.988567</td>\n",
       "    </tr>\n",
       "  </tbody>\n",
       "</table>\n",
       "</div>"
      ],
      "text/plain": [
       "Stock            Aapl       Adbe        CVX        Goog        IBM       Mdlz  \\\n",
       "Date                                                                            \n",
       "2007-01-03  11.107141  38.869999  50.777351  251.001007  79.242500  17.519524   \n",
       "2007-02-01  10.962033  39.250000  48.082939  224.949951  74.503204  16.019426   \n",
       "2007-03-01  12.037377  41.700001  51.900383  229.309311  75.561348  16.009354   \n",
       "2007-04-02  12.930043  41.560001  54.588032  235.925919  81.934280  16.924608   \n",
       "2007-05-01  15.701322  44.060001  57.598267  249.204208  85.786057  17.111704   \n",
       "\n",
       "Stock            Msft      Nflx       Orcl       Sbux  \n",
       "Date                                                   \n",
       "2007-01-03  24.118483  3.258571  15.696321  15.752188  \n",
       "2007-02-01  22.092464  3.218571  15.028588  13.930813  \n",
       "2007-03-01  21.857189  3.312857  16.583584  14.138198  \n",
       "2007-04-02  23.480597  3.167143  17.196436  13.984914  \n",
       "2007-05-01  24.146753  3.128572  17.726965  12.988567  "
      ]
     },
     "execution_count": 192,
     "metadata": {},
     "output_type": "execute_result"
    }
   ],
   "source": [
    "df_stocks_wide = df_stocks.pivot(index='Date', columns='Stock', values='Stock Value')\n",
    "df_stocks_wide.head()"
   ]
  },
  {
   "cell_type": "code",
   "execution_count": 193,
   "metadata": {
    "scrolled": true
   },
   "outputs": [
    {
     "data": {
      "text/plain": [
       "Text(0.5, 1.0, 'MSFT, NFLX, ORCL Stocks')"
      ]
     },
     "execution_count": 193,
     "metadata": {},
     "output_type": "execute_result"
    },
    {
     "data": {
      "image/png": "[encoded data removed]",
      "text/plain": [
       "<Figure size 360x360 with 1 Axes>"
      ]
     },
     "metadata": {
      "needs_background": "light"
     },
     "output_type": "display_data"
    }
   ],
   "source": [
    "plt.plot(df_stocks_wide.index,\n",
    "        df_stocks_wide['Msft'],\n",
    "        color='green')\n",
    "\n",
    "plt.plot(df_stocks_wide.index,\n",
    "        df_stocks_wide['Nflx'],\n",
    "        color='purple')\n",
    "\n",
    "plt.plot(df_stocks_wide.index,\n",
    "        df_stocks_wide['Orcl'],\n",
    "        color='red')\n",
    "\n",
    "plt.legend()\n",
    "plt.title('MSFT, NFLX, ORCL Stocks')"
   ]
  },
  {
   "cell_type": "code",
   "execution_count": 194,
   "metadata": {},
   "outputs": [
    {
     "data": {
      "application/vnd.plotly.v1+json": {
       "config": {
        "linkText": "Export to plot.ly",
        "plotlyServerURL": "https://plot.ly",
        "responsive": true,
        "showLink": true
       },
       "data": [
        {
         "line": {
          "color": "rgba(255, 153, 51, 1.0)",
          "dash": "solid",
          "shape": "linear",
          "width": 1.3
         },
         "mode": "lines",
         "name": "Msft",
         "text": "",
         "type": "scatter",
         "uid": "4e4be974-71dd-4675-b339-b78ae74dd014",
         "x": [
          "2007-01-03",
          "2007-02-01",
          "2007-03-01",
          "2007-04-02",
          "2007-05-01",
          "2007-06-01",
          "2007-07-02",
          "2007-08-01",
          "2007-09-04",
          "2007-10-01",
          "2007-11-01",
          "2007-12-03",
          "2008-01-02",
          "2008-02-01",
          "2008-03-03",
          "2008-04-01",
          "2008-05-01",
          "2008-06-02",
          "2008-07-01",
          "2008-08-01",
          "2008-09-02",
          "2008-10-01",
          "2008-11-03",
          "2008-12-01",
          "2009-01-02",
          "2009-02-02",
          "2009-03-02",
          "2009-04-01",
          "2009-05-01",
          "2009-06-01",
          "2009-07-01",
          "2009-08-03",
          "2009-09-01",
          "2009-10-01",
          "2009-11-02",
          "2009-12-01",
          "2010-01-04",
          "2010-02-01",
          "2010-03-01",
          "2010-04-01",
          "2010-05-03",
          "2010-06-01",
          "2010-07-01",
          "2010-08-02",
          "2010-09-01",
          "2010-10-01",
          "2010-11-01",
          "2010-12-01",
          "2011-01-03",
          "2011-02-01",
          "2011-03-01",
          "2011-04-01",
          "2011-05-02",
          "2011-06-01",
          "2011-07-01",
          "2011-08-01",
          "2011-09-01",
          "2011-10-03",
          "2011-11-01",
          "2011-12-01",
          "2012-01-03",
          "2012-02-01",
          "2012-03-01",
          "2012-04-02",
          "2012-05-01",
          "2012-06-01",
          "2012-07-02",
          "2012-08-01",
          "2012-09-04",
          "2012-10-01",
          "2012-11-01",
          "2012-12-03",
          "2013-01-02",
          "2013-02-01",
          "2013-03-01",
          "2013-04-01",
          "2013-05-01",
          "2013-06-03",
          "2013-07-01",
          "2013-08-01",
          "2013-09-03",
          "2013-10-01",
          "2013-11-01",
          "2013-12-02",
          "2014-01-02",
          "2014-02-03",
          "2014-03-03",
          "2014-04-01",
          "2014-05-01",
          "2014-06-02",
          "2014-07-01",
          "2014-08-01",
          "2014-09-02",
          "2014-10-01",
          "2014-11-03",
          "2014-12-01",
          "2015-01-02",
          "2015-02-02",
          "2015-03-02",
          "2015-04-01",
          "2015-05-01",
          "2015-06-01",
          "2015-07-01",
          "2015-08-03",
          "2015-09-01",
          "2015-10-01",
          "2015-11-02",
          "2015-12-01",
          "2016-01-04",
          "2016-02-01",
          "2016-03-01",
          "2016-04-01",
          "2016-05-02",
          "2016-06-01",
          "2016-07-01",
          "2016-08-01",
          "2016-09-01",
          "2016-10-03",
          "2016-11-01",
          "2016-12-01",
          "2017-01-03"
         ],
         "y": [
          24.118482999999998,
          22.092464,
          21.857189,
          23.480597,
          24.146753,
          23.186863,
          22.809202,
          22.683865,
          23.260239000000002,
          29.063457,
          26.616703,
          28.201029,
          25.824539,
          21.630577,
          22.56896,
          22.680296,
          22.604156,
          21.957639999999998,
          20.528914999999998,
          21.868919,
          21.388107,
          17.894207,
          16.31312,
          15.683832,
          13.795963,
          13.118857,
          14.922194000000001,
          16.457466,
          17.07699,
          19.431309,
          19.226942,
          20.263988,
          21.143601999999998,
          22.795959,
          24.283903,
          25.167404,
          23.26829,
          23.783585000000002,
          24.297915,
          25.334867000000003,
          21.499313,
          19.174389,
          21.507647,
          19.662036999999998,
          20.516544,
          22.342844,
          21.291639,
          23.525322,
          23.3736,
          22.536688,
          21.52771,
          21.977087,
          21.344510999999997,
          22.189415,
          23.38423,
          22.844763,
          21.376169,
          22.870525,
          22.134188,
          22.462999,
          25.552095,
          27.645195,
          28.098108,
          27.889072,
          25.590999999999998,
          26.818386,
          25.836475,
          27.199026,
          26.263563,
          25.186899,
          23.685518,
          23.765596,
          24.424023000000002,
          24.940231,
          25.666908,
          29.695024,
          31.529413,
          31.204179999999997,
          28.764941999999998,
          30.386908000000002,
          30.277731,
          32.215579999999996,
          34.953289,
          34.293274,
          34.68745,
          35.381634000000005,
          37.856777,
          37.311878,
          38.077339,
          38.784199,
          40.142113,
          42.517292,
          43.387665000000005,
          43.939838,
          45.026917,
          43.746086,
          38.048264,
          41.591328000000004,
          38.565643,
          46.134602,
          44.735141999999996,
          42.148026,
          44.582397,
          41.820564000000005,
          42.531665999999994,
          50.584435,
          52.579689,
          53.672881999999994,
          53.295586,
          49.57613,
          53.814655,
          48.592009999999995,
          52.003006,
          50.207428,
          55.613781,
          56.730499,
          56.868720999999994,
          59.15926700000001,
          59.896873,
          61.765544999999996,
          64.737526
         ]
        },
        {
         "line": {
          "color": "rgba(55, 128, 191, 1.0)",
          "dash": "solid",
          "shape": "linear",
          "width": 1.3
         },
         "mode": "lines",
         "name": "Nflx",
         "text": "",
         "type": "scatter",
         "uid": "9e575a51-3ae3-4533-8614-8ee1da06c6dc",
         "x": [
          "2007-01-03",
          "2007-02-01",
          "2007-03-01",
          "2007-04-02",
          "2007-05-01",
          "2007-06-01",
          "2007-07-02",
          "2007-08-01",
          "2007-09-04",
          "2007-10-01",
          "2007-11-01",
          "2007-12-03",
          "2008-01-02",
          "2008-02-01",
          "2008-03-03",
          "2008-04-01",
          "2008-05-01",
          "2008-06-02",
          "2008-07-01",
          "2008-08-01",
          "2008-09-02",
          "2008-10-01",
          "2008-11-03",
          "2008-12-01",
          "2009-01-02",
          "2009-02-02",
          "2009-03-02",
          "2009-04-01",
          "2009-05-01",
          "2009-06-01",
          "2009-07-01",
          "2009-08-03",
          "2009-09-01",
          "2009-10-01",
          "2009-11-02",
          "2009-12-01",
          "2010-01-04",
          "2010-02-01",
          "2010-03-01",
          "2010-04-01",
          "2010-05-03",
          "2010-06-01",
          "2010-07-01",
          "2010-08-02",
          "2010-09-01",
          "2010-10-01",
          "2010-11-01",
          "2010-12-01",
          "2011-01-03",
          "2011-02-01",
          "2011-03-01",
          "2011-04-01",
          "2011-05-02",
          "2011-06-01",
          "2011-07-01",
          "2011-08-01",
          "2011-09-01",
          "2011-10-03",
          "2011-11-01",
          "2011-12-01",
          "2012-01-03",
          "2012-02-01",
          "2012-03-01",
          "2012-04-02",
          "2012-05-01",
          "2012-06-01",
          "2012-07-02",
          "2012-08-01",
          "2012-09-04",
          "2012-10-01",
          "2012-11-01",
          "2012-12-03",
          "2013-01-02",
          "2013-02-01",
          "2013-03-01",
          "2013-04-01",
          "2013-05-01",
          "2013-06-03",
          "2013-07-01",
          "2013-08-01",
          "2013-09-03",
          "2013-10-01",
          "2013-11-01",
          "2013-12-02",
          "2014-01-02",
          "2014-02-03",
          "2014-03-03",
          "2014-04-01",
          "2014-05-01",
          "2014-06-02",
          "2014-07-01",
          "2014-08-01",
          "2014-09-02",
          "2014-10-01",
          "2014-11-03",
          "2014-12-01",
          "2015-01-02",
          "2015-02-02",
          "2015-03-02",
          "2015-04-01",
          "2015-05-01",
          "2015-06-01",
          "2015-07-01",
          "2015-08-03",
          "2015-09-01",
          "2015-10-01",
          "2015-11-02",
          "2015-12-01",
          "2016-01-04",
          "2016-02-01",
          "2016-03-01",
          "2016-04-01",
          "2016-05-02",
          "2016-06-01",
          "2016-07-01",
          "2016-08-01",
          "2016-09-01",
          "2016-10-03",
          "2016-11-01",
          "2016-12-01",
          "2017-01-03"
         ],
         "y": [
          3.258571,
          3.218571,
          3.312857,
          3.167143,
          3.128572,
          2.77,
          2.461429,
          2.502857,
          2.964286,
          3.781429,
          3.3,
          3.802857,
          3.592857,
          4.5114279999999995,
          4.95,
          4.5685720000000005,
          4.337143,
          3.724286,
          4.412857,
          4.405715,
          4.411428,
          3.537143,
          3.282857,
          4.27,
          5.162857,
          5.177143,
          6.131429,
          6.472857,
          5.631429,
          5.905715,
          6.277143,
          6.232857,
          6.595714,
          7.635714,
          8.375714,
          7.87,
          8.892858,
          9.435715,
          10.534286,
          14.128572,
          15.878572,
          15.521428,
          14.65,
          17.931429,
          23.165714,
          24.795713,
          29.414285999999997,
          25.1,
          30.582857,
          29.524286,
          33.968571000000004,
          33.238571,
          38.685715,
          37.527142,
          37.998573,
          33.572857,
          16.181429,
          11.725715,
          9.218572,
          9.898571,
          17.171429,
          15.818570999999999,
          16.434286,
          11.448571000000001,
          9.062857000000001,
          9.784286,
          8.121428,
          8.531428,
          7.777143,
          11.32,
          11.672857,
          13.227143,
          23.605715,
          26.868571999999997,
          27.040001,
          30.867144,
          32.32143,
          30.155714,
          34.925713,
          40.558571,
          44.172855,
          46.068573,
          52.257141,
          52.595715000000006,
          58.475716000000006,
          63.66143,
          50.290001000000004,
          46.005714000000005,
          59.689999,
          62.942856000000006,
          60.388573,
          68.23428299999999,
          64.454285,
          56.110001000000004,
          49.512856,
          48.801429999999996,
          63.114284999999995,
          67.844284,
          59.527142000000005,
          79.5,
          89.15142800000001,
          93.84857199999999,
          114.309998,
          115.029999,
          103.260002,
          108.379997,
          123.33000200000001,
          114.379997,
          91.839996,
          93.410004,
          102.230003,
          90.029999,
          102.57,
          91.480003,
          91.25,
          97.449997,
          98.550003,
          124.870003,
          117,
          123.800003,
          141.220001
         ]
        },
        {
         "line": {
          "color": "rgba(50, 171, 96, 1.0)",
          "dash": "solid",
          "shape": "linear",
          "width": 1.3
         },
         "mode": "lines",
         "name": "Orcl",
         "text": "",
         "type": "scatter",
         "uid": "0ed906ce-fbae-461b-a1a4-0c7698c74d6d",
         "x": [
          "2007-01-03",
          "2007-02-01",
          "2007-03-01",
          "2007-04-02",
          "2007-05-01",
          "2007-06-01",
          "2007-07-02",
          "2007-08-01",
          "2007-09-04",
          "2007-10-01",
          "2007-11-01",
          "2007-12-03",
          "2008-01-02",
          "2008-02-01",
          "2008-03-03",
          "2008-04-01",
          "2008-05-01",
          "2008-06-02",
          "2008-07-01",
          "2008-08-01",
          "2008-09-02",
          "2008-10-01",
          "2008-11-03",
          "2008-12-01",
          "2009-01-02",
          "2009-02-02",
          "2009-03-02",
          "2009-04-01",
          "2009-05-01",
          "2009-06-01",
          "2009-07-01",
          "2009-08-03",
          "2009-09-01",
          "2009-10-01",
          "2009-11-02",
          "2009-12-01",
          "2010-01-04",
          "2010-02-01",
          "2010-03-01",
          "2010-04-01",
          "2010-05-03",
          "2010-06-01",
          "2010-07-01",
          "2010-08-02",
          "2010-09-01",
          "2010-10-01",
          "2010-11-01",
          "2010-12-01",
          "2011-01-03",
          "2011-02-01",
          "2011-03-01",
          "2011-04-01",
          "2011-05-02",
          "2011-06-01",
          "2011-07-01",
          "2011-08-01",
          "2011-09-01",
          "2011-10-03",
          "2011-11-01",
          "2011-12-01",
          "2012-01-03",
          "2012-02-01",
          "2012-03-01",
          "2012-04-02",
          "2012-05-01",
          "2012-06-01",
          "2012-07-02",
          "2012-08-01",
          "2012-09-04",
          "2012-10-01",
          "2012-11-01",
          "2012-12-03",
          "2013-01-02",
          "2013-02-01",
          "2013-03-01",
          "2013-04-01",
          "2013-05-01",
          "2013-06-03",
          "2013-07-01",
          "2013-08-01",
          "2013-09-03",
          "2013-10-01",
          "2013-11-01",
          "2013-12-02",
          "2014-01-02",
          "2014-02-03",
          "2014-03-03",
          "2014-04-01",
          "2014-05-01",
          "2014-06-02",
          "2014-07-01",
          "2014-08-01",
          "2014-09-02",
          "2014-10-01",
          "2014-11-03",
          "2014-12-01",
          "2015-01-02",
          "2015-02-02",
          "2015-03-02",
          "2015-04-01",
          "2015-05-01",
          "2015-06-01",
          "2015-07-01",
          "2015-08-03",
          "2015-09-01",
          "2015-10-01",
          "2015-11-02",
          "2015-12-01",
          "2016-01-04",
          "2016-02-01",
          "2016-03-01",
          "2016-04-01",
          "2016-05-02",
          "2016-06-01",
          "2016-07-01",
          "2016-08-01",
          "2016-09-01",
          "2016-10-03",
          "2016-11-01",
          "2016-12-01",
          "2017-01-03"
         ],
         "y": [
          15.696321,
          15.028588000000001,
          16.583584,
          17.196436,
          17.726965,
          18.028816,
          17.489143,
          18.5502,
          19.803342999999998,
          20.27899,
          18.458729,
          20.654018,
          18.797169,
          17.196436,
          17.891610999999997,
          19.071581,
          20.891842,
          19.208786,
          19.693579,
          20.059462,
          18.577639,
          16.729939,
          14.717588000000001,
          16.217703,
          15.394469,
          14.214501,
          16.528702,
          17.736351000000003,
          17.96562,
          19.643879000000002,
          20.34465,
          20.11482,
          19.158724,
          19.44449,
          20.347599,
          22.605370999999998,
          21.293638,
          22.761847,
          23.74065,
          23.934195000000003,
          20.881126000000002,
          19.854185,
          21.917953,
          20.249075,
          24.894123,
          27.289917,
          25.125671,
          29.073328000000004,
          29.799183000000003,
          30.608590999999997,
          31.101677000000002,
          33.515423,
          31.893711,
          30.672764,
          28.551634000000004,
          26.20812,
          26.833681,
          30.657543,
          29.329081,
          23.996520999999998,
          26.450426,
          27.425556,
          27.341171000000003,
          27.622269,
          24.869436,
          27.904128999999998,
          28.432621,
          29.797762,
          29.618881,
          29.318512,
          30.356169,
          31.607483000000002,
          33.684925,
          32.480202,
          30.668367,
          31.095236,
          32.043839,
          29.131626,
          30.804610999999998,
          30.33802,
          31.585440000000002,
          32.015254999999996,
          33.725922,
          36.564285,
          35.376754999999996,
          37.495525,
          39.221218,
          39.309307000000004,
          40.405502,
          38.972752,
          38.951195,
          40.050587,
          36.916359,
          37.775494,
          41.025828999999995,
          43.502277,
          40.63279,
          42.504868,
          41.854977000000005,
          42.45919,
          42.332653,
          39.227543,
          39.022148,
          36.237648,
          35.289936,
          38.098255,
          38.225773,
          35.832371,
          35.763424,
          36.226345,
          40.294178,
          39.40633,
          39.742461999999996,
          40.464153,
          40.722141,
          40.900745,
          38.975769,
          38.270115000000004,
          40.033211,
          38.299999,
          40.23
         ]
        }
       ],
       "layout": {
        "legend": {
         "bgcolor": "#F5F6F9",
         "font": {
          "color": "#4D5663"
         }
        },
        "paper_bgcolor": "#F5F6F9",
        "plot_bgcolor": "#F5F6F9",
        "title": {
         "font": {
          "color": "#4D5663"
         },
         "text": "Basic Multi Line Chart"
        },
        "xaxis": {
         "gridcolor": "#E1E5ED",
         "showgrid": true,
         "tickfont": {
          "color": "#4D5663"
         },
         "title": {
          "font": {
           "color": "#4D5663"
          },
          "text": ""
         },
         "zerolinecolor": "#E1E5ED"
        },
        "yaxis": {
         "gridcolor": "#E1E5ED",
         "showgrid": true,
         "tickfont": {
          "color": "#4D5663"
         },
         "title": {
          "font": {
           "color": "#4D5663"
          },
          "text": ""
         },
         "zerolinecolor": "#E1E5ED"
        }
       }
      },
      "text/html": [
       "<div>\n",
       "        \n",
       "        \n",
       "            <div id=\"02cf0219-387a-4a06-b9a4-d5ba0e33f542\" class=\"plotly-graph-div\"></div>\n",
       "            <script type=\"text/javascript\">\n",
       "                require([\"plotly\"], function(Plotly) {\n",
       "                    window.PLOTLYENV=window.PLOTLYENV || {};\n",
       "                    window.PLOTLYENV.BASE_URL='https://plot.ly';\n",
       "                    \n",
       "                if (document.getElementById(\"02cf0219-387a-4a06-b9a4-d5ba0e33f542\")) {\n",
       "                    Plotly.newPlot(\n",
       "                        '02cf0219-387a-4a06-b9a4-d5ba0e33f542',\n",
       "                        [{\"line\": {\"color\": \"rgba(255, 153, 51, 1.0)\", \"dash\": \"solid\", \"shape\": \"linear\", \"width\": 1.3}, \"mode\": \"lines\", \"name\": \"Msft\", \"text\": \"\", \"type\": \"scatter\", \"uid\": \"08b04ba5-1d51-4108-8c66-80a6aa72e685\", \"x\": [\"2007-01-03\", \"2007-02-01\", \"2007-03-01\", \"2007-04-02\", \"2007-05-01\", \"2007-06-01\", \"2007-07-02\", \"2007-08-01\", \"2007-09-04\", \"2007-10-01\", \"2007-11-01\", \"2007-12-03\", \"2008-01-02\", \"2008-02-01\", \"2008-03-03\", \"2008-04-01\", \"2008-05-01\", \"2008-06-02\", \"2008-07-01\", \"2008-08-01\", \"2008-09-02\", \"2008-10-01\", \"2008-11-03\", \"2008-12-01\", \"2009-01-02\", \"2009-02-02\", \"2009-03-02\", \"2009-04-01\", \"2009-05-01\", \"2009-06-01\", \"2009-07-01\", \"2009-08-03\", \"2009-09-01\", \"2009-10-01\", \"2009-11-02\", \"2009-12-01\", \"2010-01-04\", \"2010-02-01\", \"2010-03-01\", \"2010-04-01\", \"2010-05-03\", \"2010-06-01\", \"2010-07-01\", \"2010-08-02\", \"2010-09-01\", \"2010-10-01\", \"2010-11-01\", \"2010-12-01\", \"2011-01-03\", \"2011-02-01\", \"2011-03-01\", \"2011-04-01\", \"2011-05-02\", \"2011-06-01\", \"2011-07-01\", \"2011-08-01\", \"2011-09-01\", \"2011-10-03\", \"2011-11-01\", \"2011-12-01\", \"2012-01-03\", \"2012-02-01\", \"2012-03-01\", \"2012-04-02\", \"2012-05-01\", \"2012-06-01\", \"2012-07-02\", \"2012-08-01\", \"2012-09-04\", \"2012-10-01\", \"2012-11-01\", \"2012-12-03\", \"2013-01-02\", \"2013-02-01\", \"2013-03-01\", \"2013-04-01\", \"2013-05-01\", \"2013-06-03\", \"2013-07-01\", \"2013-08-01\", \"2013-09-03\", \"2013-10-01\", \"2013-11-01\", \"2013-12-02\", \"2014-01-02\", \"2014-02-03\", \"2014-03-03\", \"2014-04-01\", \"2014-05-01\", \"2014-06-02\", \"2014-07-01\", \"2014-08-01\", \"2014-09-02\", \"2014-10-01\", \"2014-11-03\", \"2014-12-01\", \"2015-01-02\", \"2015-02-02\", \"2015-03-02\", \"2015-04-01\", \"2015-05-01\", \"2015-06-01\", \"2015-07-01\", \"2015-08-03\", \"2015-09-01\", \"2015-10-01\", \"2015-11-02\", \"2015-12-01\", \"2016-01-04\", \"2016-02-01\", \"2016-03-01\", \"2016-04-01\", \"2016-05-02\", \"2016-06-01\", \"2016-07-01\", \"2016-08-01\", \"2016-09-01\", \"2016-10-03\", \"2016-11-01\", \"2016-12-01\", \"2017-01-03\"], \"y\": [24.118482999999998, 22.092464, 21.857189, 23.480597, 24.146753, 23.186863, 22.809202, 22.683865, 23.260239000000002, 29.063457, 26.616703, 28.201029, 25.824539, 21.630577, 22.56896, 22.680296, 22.604156, 21.957639999999998, 20.528914999999998, 21.868919, 21.388107, 17.894207, 16.31312, 15.683832, 13.795963, 13.118857, 14.922194000000001, 16.457466, 17.07699, 19.431309, 19.226942, 20.263988, 21.143601999999998, 22.795959, 24.283903, 25.167404, 23.26829, 23.783585000000002, 24.297915, 25.334867000000003, 21.499313, 19.174389, 21.507647, 19.662036999999998, 20.516544, 22.342844, 21.291639, 23.525322, 23.3736, 22.536688, 21.52771, 21.977087, 21.344510999999997, 22.189415, 23.38423, 22.844763, 21.376169, 22.870525, 22.134188, 22.462999, 25.552095, 27.645195, 28.098108, 27.889072, 25.590999999999998, 26.818386, 25.836475, 27.199026, 26.263563, 25.186899, 23.685518, 23.765596, 24.424023000000002, 24.940231, 25.666908, 29.695024, 31.529413, 31.204179999999997, 28.764941999999998, 30.386908000000002, 30.277731, 32.215579999999996, 34.953289, 34.293274, 34.68745, 35.381634000000005, 37.856777, 37.311878, 38.077339, 38.784199, 40.142113, 42.517292, 43.387665000000005, 43.939838, 45.026917, 43.746086, 38.048264, 41.591328000000004, 38.565643, 46.134602, 44.735141999999996, 42.148026, 44.582397, 41.820564000000005, 42.531665999999994, 50.584435, 52.579689, 53.672881999999994, 53.295586, 49.57613, 53.814655, 48.592009999999995, 52.003006, 50.207428, 55.613781, 56.730499, 56.868720999999994, 59.15926700000001, 59.896873, 61.765544999999996, 64.737526]}, {\"line\": {\"color\": \"rgba(55, 128, 191, 1.0)\", \"dash\": \"solid\", \"shape\": \"linear\", \"width\": 1.3}, \"mode\": \"lines\", \"name\": \"Nflx\", \"text\": \"\", \"type\": \"scatter\", \"uid\": \"04c687f6-03f2-49f9-86a1-c9c83e24faa1\", \"x\": [\"2007-01-03\", \"2007-02-01\", \"2007-03-01\", \"2007-04-02\", \"2007-05-01\", \"2007-06-01\", \"2007-07-02\", \"2007-08-01\", \"2007-09-04\", \"2007-10-01\", \"2007-11-01\", \"2007-12-03\", \"2008-01-02\", \"2008-02-01\", \"2008-03-03\", \"2008-04-01\", \"2008-05-01\", \"2008-06-02\", \"2008-07-01\", \"2008-08-01\", \"2008-09-02\", \"2008-10-01\", \"2008-11-03\", \"2008-12-01\", \"2009-01-02\", \"2009-02-02\", \"2009-03-02\", \"2009-04-01\", \"2009-05-01\", \"2009-06-01\", \"2009-07-01\", \"2009-08-03\", \"2009-09-01\", \"2009-10-01\", \"2009-11-02\", \"2009-12-01\", \"2010-01-04\", \"2010-02-01\", \"2010-03-01\", \"2010-04-01\", \"2010-05-03\", \"2010-06-01\", \"2010-07-01\", \"2010-08-02\", \"2010-09-01\", \"2010-10-01\", \"2010-11-01\", \"2010-12-01\", \"2011-01-03\", \"2011-02-01\", \"2011-03-01\", \"2011-04-01\", \"2011-05-02\", \"2011-06-01\", \"2011-07-01\", \"2011-08-01\", \"2011-09-01\", \"2011-10-03\", \"2011-11-01\", \"2011-12-01\", \"2012-01-03\", \"2012-02-01\", \"2012-03-01\", \"2012-04-02\", \"2012-05-01\", \"2012-06-01\", \"2012-07-02\", \"2012-08-01\", \"2012-09-04\", \"2012-10-01\", \"2012-11-01\", \"2012-12-03\", \"2013-01-02\", \"2013-02-01\", \"2013-03-01\", \"2013-04-01\", \"2013-05-01\", \"2013-06-03\", \"2013-07-01\", \"2013-08-01\", \"2013-09-03\", \"2013-10-01\", \"2013-11-01\", \"2013-12-02\", \"2014-01-02\", \"2014-02-03\", \"2014-03-03\", \"2014-04-01\", \"2014-05-01\", \"2014-06-02\", \"2014-07-01\", \"2014-08-01\", \"2014-09-02\", \"2014-10-01\", \"2014-11-03\", \"2014-12-01\", \"2015-01-02\", \"2015-02-02\", \"2015-03-02\", \"2015-04-01\", \"2015-05-01\", \"2015-06-01\", \"2015-07-01\", \"2015-08-03\", \"2015-09-01\", \"2015-10-01\", \"2015-11-02\", \"2015-12-01\", \"2016-01-04\", \"2016-02-01\", \"2016-03-01\", \"2016-04-01\", \"2016-05-02\", \"2016-06-01\", \"2016-07-01\", \"2016-08-01\", \"2016-09-01\", \"2016-10-03\", \"2016-11-01\", \"2016-12-01\", \"2017-01-03\"], \"y\": [3.258571, 3.218571, 3.312857, 3.167143, 3.128572, 2.77, 2.461429, 2.502857, 2.964286, 3.781429, 3.3, 3.802857, 3.592857, 4.5114279999999995, 4.95, 4.5685720000000005, 4.337143, 3.724286, 4.412857, 4.405715, 4.411428, 3.537143, 3.282857, 4.27, 5.162857, 5.177143, 6.131429, 6.472857, 5.631429, 5.905715, 6.277143, 6.232857, 6.595714, 7.635714, 8.375714, 7.87, 8.892858, 9.435715, 10.534286, 14.128572, 15.878572, 15.521428, 14.65, 17.931429, 23.165714, 24.795713, 29.414285999999997, 25.1, 30.582857, 29.524286, 33.968571000000004, 33.238571, 38.685715, 37.527142, 37.998573, 33.572857, 16.181429, 11.725715, 9.218572, 9.898571, 17.171429, 15.818570999999999, 16.434286, 11.448571000000001, 9.062857000000001, 9.784286, 8.121428, 8.531428, 7.777143, 11.32, 11.672857, 13.227143, 23.605715, 26.868571999999997, 27.040001, 30.867144, 32.32143, 30.155714, 34.925713, 40.558571, 44.172855, 46.068573, 52.257141, 52.595715000000006, 58.475716000000006, 63.66143, 50.290001000000004, 46.005714000000005, 59.689999, 62.942856000000006, 60.388573, 68.23428299999999, 64.454285, 56.110001000000004, 49.512856, 48.801429999999996, 63.114284999999995, 67.844284, 59.527142000000005, 79.5, 89.15142800000001, 93.84857199999999, 114.309998, 115.029999, 103.260002, 108.379997, 123.33000200000001, 114.379997, 91.839996, 93.410004, 102.230003, 90.029999, 102.57, 91.480003, 91.25, 97.449997, 98.550003, 124.870003, 117.0, 123.800003, 141.220001]}, {\"line\": {\"color\": \"rgba(50, 171, 96, 1.0)\", \"dash\": \"solid\", \"shape\": \"linear\", \"width\": 1.3}, \"mode\": \"lines\", \"name\": \"Orcl\", \"text\": \"\", \"type\": \"scatter\", \"uid\": \"22367908-9b99-482e-adb2-9b0fff24c6f3\", \"x\": [\"2007-01-03\", \"2007-02-01\", \"2007-03-01\", \"2007-04-02\", \"2007-05-01\", \"2007-06-01\", \"2007-07-02\", \"2007-08-01\", \"2007-09-04\", \"2007-10-01\", \"2007-11-01\", \"2007-12-03\", \"2008-01-02\", \"2008-02-01\", \"2008-03-03\", \"2008-04-01\", \"2008-05-01\", \"2008-06-02\", \"2008-07-01\", \"2008-08-01\", \"2008-09-02\", \"2008-10-01\", \"2008-11-03\", \"2008-12-01\", \"2009-01-02\", \"2009-02-02\", \"2009-03-02\", \"2009-04-01\", \"2009-05-01\", \"2009-06-01\", \"2009-07-01\", \"2009-08-03\", \"2009-09-01\", \"2009-10-01\", \"2009-11-02\", \"2009-12-01\", \"2010-01-04\", \"2010-02-01\", \"2010-03-01\", \"2010-04-01\", \"2010-05-03\", \"2010-06-01\", \"2010-07-01\", \"2010-08-02\", \"2010-09-01\", \"2010-10-01\", \"2010-11-01\", \"2010-12-01\", \"2011-01-03\", \"2011-02-01\", \"2011-03-01\", \"2011-04-01\", \"2011-05-02\", \"2011-06-01\", \"2011-07-01\", \"2011-08-01\", \"2011-09-01\", \"2011-10-03\", \"2011-11-01\", \"2011-12-01\", \"2012-01-03\", \"2012-02-01\", \"2012-03-01\", \"2012-04-02\", \"2012-05-01\", \"2012-06-01\", \"2012-07-02\", \"2012-08-01\", \"2012-09-04\", \"2012-10-01\", \"2012-11-01\", \"2012-12-03\", \"2013-01-02\", \"2013-02-01\", \"2013-03-01\", \"2013-04-01\", \"2013-05-01\", \"2013-06-03\", \"2013-07-01\", \"2013-08-01\", \"2013-09-03\", \"2013-10-01\", \"2013-11-01\", \"2013-12-02\", \"2014-01-02\", \"2014-02-03\", \"2014-03-03\", \"2014-04-01\", \"2014-05-01\", \"2014-06-02\", \"2014-07-01\", \"2014-08-01\", \"2014-09-02\", \"2014-10-01\", \"2014-11-03\", \"2014-12-01\", \"2015-01-02\", \"2015-02-02\", \"2015-03-02\", \"2015-04-01\", \"2015-05-01\", \"2015-06-01\", \"2015-07-01\", \"2015-08-03\", \"2015-09-01\", \"2015-10-01\", \"2015-11-02\", \"2015-12-01\", \"2016-01-04\", \"2016-02-01\", \"2016-03-01\", \"2016-04-01\", \"2016-05-02\", \"2016-06-01\", \"2016-07-01\", \"2016-08-01\", \"2016-09-01\", \"2016-10-03\", \"2016-11-01\", \"2016-12-01\", \"2017-01-03\"], \"y\": [15.696321, 15.028588000000001, 16.583584, 17.196436, 17.726965, 18.028816, 17.489143, 18.5502, 19.803342999999998, 20.27899, 18.458729, 20.654018, 18.797169, 17.196436, 17.891610999999997, 19.071581, 20.891842, 19.208786, 19.693579, 20.059462, 18.577639, 16.729939, 14.717588000000001, 16.217703, 15.394469, 14.214501, 16.528702, 17.736351000000003, 17.96562, 19.643879000000002, 20.34465, 20.11482, 19.158724, 19.44449, 20.347599, 22.605370999999998, 21.293638, 22.761847, 23.74065, 23.934195000000003, 20.881126000000002, 19.854185, 21.917953, 20.249075, 24.894123, 27.289917, 25.125671, 29.073328000000004, 29.799183000000003, 30.608590999999997, 31.101677000000002, 33.515423, 31.893711, 30.672764, 28.551634000000004, 26.20812, 26.833681, 30.657543, 29.329081, 23.996520999999998, 26.450426, 27.425556, 27.341171000000003, 27.622269, 24.869436, 27.904128999999998, 28.432621, 29.797762, 29.618881, 29.318512, 30.356169, 31.607483000000002, 33.684925, 32.480202, 30.668367, 31.095236, 32.043839, 29.131626, 30.804610999999998, 30.33802, 31.585440000000002, 32.015254999999996, 33.725922, 36.564285, 35.376754999999996, 37.495525, 39.221218, 39.309307000000004, 40.405502, 38.972752, 38.951195, 40.050587, 36.916359, 37.775494, 41.025828999999995, 43.502277, 40.63279, 42.504868, 41.854977000000005, 42.45919, 42.332653, 39.227543, 39.022148, 36.237648, 35.289936, 38.098255, 38.225773, 35.832371, 35.763424, 36.226345, 40.294178, 39.40633, 39.742461999999996, 40.464153, 40.722141, 40.900745, 38.975769, 38.270115000000004, 40.033211, 38.299999, 40.23]}],\n",
       "                        {\"legend\": {\"bgcolor\": \"#F5F6F9\", \"font\": {\"color\": \"#4D5663\"}}, \"paper_bgcolor\": \"#F5F6F9\", \"plot_bgcolor\": \"#F5F6F9\", \"title\": {\"font\": {\"color\": \"#4D5663\"}, \"text\": \"Basic Multi Line Chart\"}, \"xaxis\": {\"gridcolor\": \"#E1E5ED\", \"showgrid\": true, \"tickfont\": {\"color\": \"#4D5663\"}, \"title\": {\"font\": {\"color\": \"#4D5663\"}, \"text\": \"\"}, \"zerolinecolor\": \"#E1E5ED\"}, \"yaxis\": {\"gridcolor\": \"#E1E5ED\", \"showgrid\": true, \"tickfont\": {\"color\": \"#4D5663\"}, \"title\": {\"font\": {\"color\": \"#4D5663\"}, \"text\": \"\"}, \"zerolinecolor\": \"#E1E5ED\"}},\n",
       "                        {\"showLink\": true, \"linkText\": \"Export to plot.ly\", \"plotlyServerURL\": \"https://plot.ly\", \"responsive\": true}\n",
       "                    )\n",
       "                };\n",
       "                });\n",
       "            </script>\n",
       "        </div>"
      ]
     },
     "metadata": {},
     "output_type": "display_data"
    }
   ],
   "source": [
    "# Create a List filled with the countries to plot\n",
    "stocks_to_plot = ['Msft', 'Nflx', 'Orcl']\n",
    "\n",
    "# plot the countries \n",
    "df_stocks_wide[stocks_to_plot].iplot(kind='line', \n",
    "                                     theme='pearl',\n",
    "                                     title='Basic Multi Line Chart')\n"
   ]
  },
  {
   "cell_type": "markdown",
   "metadata": {},
   "source": [
    "# Ex Chart 2  \n",
    "- Plot Adobe, Apple and IBM for all years past 2008"
   ]
  },
  {
   "cell_type": "code",
   "execution_count": 195,
   "metadata": {},
   "outputs": [],
   "source": [
    "df_stocks_after_2008 = df_stocks_wide.loc['2008-12-31':]"
   ]
  },
  {
   "cell_type": "code",
   "execution_count": 196,
   "metadata": {
    "scrolled": true
   },
   "outputs": [
    {
     "data": {
      "text/plain": [
       "Text(0.5, 1.0, 'ADBE, AAPL, IBM Stocks After 2008')"
      ]
     },
     "execution_count": 196,
     "metadata": {},
     "output_type": "execute_result"
    },
    {
     "data": {
      "image/png": "[encoded data removed]",
      "text/plain": [
       "<Figure size 360x360 with 1 Axes>"
      ]
     },
     "metadata": {
      "needs_background": "light"
     },
     "output_type": "display_data"
    }
   ],
   "source": [
    "plt.plot(df_stocks_after_2008.index,\n",
    "        df_stocks_after_2008['Adbe'],\n",
    "        color='green')\n",
    "\n",
    "plt.plot(df_stocks_after_2008.index,\n",
    "        df_stocks_after_2008['Aapl'],\n",
    "        color='purple')\n",
    "\n",
    "plt.plot(df_stocks_after_2008.index,\n",
    "        df_stocks_after_2008['IBM'],\n",
    "        color='red')\n",
    "\n",
    "plt.legend()\n",
    "plt.title('ADBE, AAPL, IBM Stocks After 2008')"
   ]
  },
  {
   "cell_type": "code",
   "execution_count": 197,
   "metadata": {},
   "outputs": [
    {
     "data": {
      "application/vnd.plotly.v1+json": {
       "config": {
        "linkText": "Export to plot.ly",
        "plotlyServerURL": "https://plot.ly",
        "responsive": true,
        "showLink": true
       },
       "data": [
        {
         "line": {
          "color": "rgba(255, 153, 51, 1.0)",
          "dash": "solid",
          "shape": "linear",
          "width": 1.3
         },
         "mode": "lines",
         "name": "Adbe",
         "text": "",
         "type": "scatter",
         "uid": "78638b48-19b1-49b5-98c7-e07d9b961e7d",
         "x": [
          "2009-01-02",
          "2009-02-02",
          "2009-03-02",
          "2009-04-01",
          "2009-05-01",
          "2009-06-01",
          "2009-07-01",
          "2009-08-03",
          "2009-09-01",
          "2009-10-01",
          "2009-11-02",
          "2009-12-01",
          "2010-01-04",
          "2010-02-01",
          "2010-03-01",
          "2010-04-01",
          "2010-05-03",
          "2010-06-01",
          "2010-07-01",
          "2010-08-02",
          "2010-09-01",
          "2010-10-01",
          "2010-11-01",
          "2010-12-01",
          "2011-01-03",
          "2011-02-01",
          "2011-03-01",
          "2011-04-01",
          "2011-05-02",
          "2011-06-01",
          "2011-07-01",
          "2011-08-01",
          "2011-09-01",
          "2011-10-03",
          "2011-11-01",
          "2011-12-01",
          "2012-01-03",
          "2012-02-01",
          "2012-03-01",
          "2012-04-02",
          "2012-05-01",
          "2012-06-01",
          "2012-07-02",
          "2012-08-01",
          "2012-09-04",
          "2012-10-01",
          "2012-11-01",
          "2012-12-03",
          "2013-01-02",
          "2013-02-01",
          "2013-03-01",
          "2013-04-01",
          "2013-05-01",
          "2013-06-03",
          "2013-07-01",
          "2013-08-01",
          "2013-09-03",
          "2013-10-01",
          "2013-11-01",
          "2013-12-02",
          "2014-01-02",
          "2014-02-03",
          "2014-03-03",
          "2014-04-01",
          "2014-05-01",
          "2014-06-02",
          "2014-07-01",
          "2014-08-01",
          "2014-09-02",
          "2014-10-01",
          "2014-11-03",
          "2014-12-01",
          "2015-01-02",
          "2015-02-02",
          "2015-03-02",
          "2015-04-01",
          "2015-05-01",
          "2015-06-01",
          "2015-07-01",
          "2015-08-03",
          "2015-09-01",
          "2015-10-01",
          "2015-11-02",
          "2015-12-01",
          "2016-01-04",
          "2016-02-01",
          "2016-03-01",
          "2016-04-01",
          "2016-05-02",
          "2016-06-01",
          "2016-07-01",
          "2016-08-01",
          "2016-09-01",
          "2016-10-03",
          "2016-11-01",
          "2016-12-01",
          "2017-01-03"
         ],
         "y": [
          19.309998999999998,
          16.700001,
          21.389999,
          27.35,
          28.18,
          28.299999,
          32.419998,
          31.42,
          33.040001000000004,
          32.939999,
          35.080002,
          36.779999,
          32.299999,
          34.650002,
          35.369999,
          33.599998,
          32.080002,
          26.43,
          28.719998999999998,
          27.700001,
          26.15,
          28.15,
          27.799999,
          30.780001000000002,
          33.049999,
          34.5,
          33.16,
          33.549999,
          34.630001,
          31.450001,
          27.709999,
          25.24,
          24.17,
          29.41,
          27.42,
          28.27,
          30.950001,
          32.889998999999996,
          34.310001,
          33.549999,
          31.049999,
          32.369999,
          30.879998999999998,
          31.27,
          32.439999,
          34.029999,
          34.610001000000004,
          37.68,
          37.830002,
          39.310001,
          43.52,
          45.080002,
          42.91,
          45.560001,
          47.279999,
          45.75,
          51.939999,
          54.220001,
          56.779999,
          59.880001,
          59.189999,
          68.629997,
          65.739998,
          61.689999,
          64.540001,
          72.360001,
          69.25,
          71.900002,
          69.190002,
          70.120003,
          73.68,
          72.699997,
          70.129997,
          79.099998,
          73.940002,
          76.059998,
          79.089996,
          81.010002,
          81.989998,
          78.57,
          82.220001,
          88.660004,
          91.459999,
          93.940002,
          89.129997,
          85.150002,
          93.800003,
          94.220001,
          99.470001,
          95.790001,
          97.860001,
          102.309998,
          108.540001,
          107.510002,
          102.809998,
          102.949997,
          113.82
         ]
        },
        {
         "line": {
          "color": "rgba(55, 128, 191, 1.0)",
          "dash": "solid",
          "shape": "linear",
          "width": 1.3
         },
         "mode": "lines",
         "name": "Aapl",
         "text": "",
         "type": "scatter",
         "uid": "034d2281-3067-46c9-9746-a1feb21d56cb",
         "x": [
          "2009-01-02",
          "2009-02-02",
          "2009-03-02",
          "2009-04-01",
          "2009-05-01",
          "2009-06-01",
          "2009-07-01",
          "2009-08-03",
          "2009-09-01",
          "2009-10-01",
          "2009-11-02",
          "2009-12-01",
          "2010-01-04",
          "2010-02-01",
          "2010-03-01",
          "2010-04-01",
          "2010-05-03",
          "2010-06-01",
          "2010-07-01",
          "2010-08-02",
          "2010-09-01",
          "2010-10-01",
          "2010-11-01",
          "2010-12-01",
          "2011-01-03",
          "2011-02-01",
          "2011-03-01",
          "2011-04-01",
          "2011-05-02",
          "2011-06-01",
          "2011-07-01",
          "2011-08-01",
          "2011-09-01",
          "2011-10-03",
          "2011-11-01",
          "2011-12-01",
          "2012-01-03",
          "2012-02-01",
          "2012-03-01",
          "2012-04-02",
          "2012-05-01",
          "2012-06-01",
          "2012-07-02",
          "2012-08-01",
          "2012-09-04",
          "2012-10-01",
          "2012-11-01",
          "2012-12-03",
          "2013-01-02",
          "2013-02-01",
          "2013-03-01",
          "2013-04-01",
          "2013-05-01",
          "2013-06-03",
          "2013-07-01",
          "2013-08-01",
          "2013-09-03",
          "2013-10-01",
          "2013-11-01",
          "2013-12-02",
          "2014-01-02",
          "2014-02-03",
          "2014-03-03",
          "2014-04-01",
          "2014-05-01",
          "2014-06-02",
          "2014-07-01",
          "2014-08-01",
          "2014-09-02",
          "2014-10-01",
          "2014-11-03",
          "2014-12-01",
          "2015-01-02",
          "2015-02-02",
          "2015-03-02",
          "2015-04-01",
          "2015-05-01",
          "2015-06-01",
          "2015-07-01",
          "2015-08-03",
          "2015-09-01",
          "2015-10-01",
          "2015-11-02",
          "2015-12-01",
          "2016-01-04",
          "2016-02-01",
          "2016-03-01",
          "2016-04-01",
          "2016-05-02",
          "2016-06-01",
          "2016-07-01",
          "2016-08-01",
          "2016-09-01",
          "2016-10-03",
          "2016-11-01",
          "2016-12-01",
          "2017-01-03"
         ],
         "y": [
          11.677202000000001,
          11.570964,
          13.6193,
          16.302477,
          17.595482,
          18.453167,
          21.168736,
          21.793213,
          24.013863,
          24.421976,
          25.900249,
          27.302084000000004,
          24.883207000000002,
          26.510475,
          30.446495000000002,
          33.826706,
          33.281258,
          32.588116,
          33.329193,
          31.495928000000003,
          36.76252,
          38.994834999999995,
          40.312453999999995,
          41.790729999999996,
          43.962146999999995,
          45.76173,
          45.152802,
          45.362682,
          45.064696999999995,
          43.489253999999995,
          50.590412,
          49.858402000000005,
          49.403648,
          52.443115,
          49.517658000000004,
          52.471619,
          59.141342,
          70.27829,
          77.677429,
          75.660187,
          74.850441,
          75.66278100000001,
          79.129791,
          86.558243,
          86.800262,
          77.460548,
          76.50200699999999,
          69.55999,
          59.537144,
          58.031689,
          58.197345999999996,
          58.213119999999996,
          59.518211,
          52.477612,
          59.888763,
          64.905457,
          63.510681000000005,
          69.63195,
          74.509857,
          75.173126,
          67.077225,
          70.934898,
          72.35025,
          79.54160300000001,
          85.802269,
          88.17572,
          90.709122,
          97.73988299999999,
          96.071152,
          102.984459,
          113.898628,
          105.71033500000001,
          112.203506,
          123.51098600000002,
          119.63623799999999,
          120.328499,
          125.78408799999998,
          121.101463,
          117.113991,
          109.361488,
          106.975632,
          115.89834599999999,
          115.225647,
          102.524529,
          94.81034100000001,
          94.688271,
          106.73362,
          91.799339,
          98.388046,
          94.190842,
          102.673927,
          105.102364,
          111.98701499999999,
          112.472404,
          110.0429,
          115.32002299999999,
          121.10493500000001
         ]
        },
        {
         "line": {
          "color": "rgba(50, 171, 96, 1.0)",
          "dash": "solid",
          "shape": "linear",
          "width": 1.3
         },
         "mode": "lines",
         "name": "IBM",
         "text": "",
         "type": "scatter",
         "uid": "0c3b4fe8-0a9a-4a1a-9d63-0699d5429ee4",
         "x": [
          "2009-01-02",
          "2009-02-02",
          "2009-03-02",
          "2009-04-01",
          "2009-05-01",
          "2009-06-01",
          "2009-07-01",
          "2009-08-03",
          "2009-09-01",
          "2009-10-01",
          "2009-11-02",
          "2009-12-01",
          "2010-01-04",
          "2010-02-01",
          "2010-03-01",
          "2010-04-01",
          "2010-05-03",
          "2010-06-01",
          "2010-07-01",
          "2010-08-02",
          "2010-09-01",
          "2010-10-01",
          "2010-11-01",
          "2010-12-01",
          "2011-01-03",
          "2011-02-01",
          "2011-03-01",
          "2011-04-01",
          "2011-05-02",
          "2011-06-01",
          "2011-07-01",
          "2011-08-01",
          "2011-09-01",
          "2011-10-03",
          "2011-11-01",
          "2011-12-01",
          "2012-01-03",
          "2012-02-01",
          "2012-03-01",
          "2012-04-02",
          "2012-05-01",
          "2012-06-01",
          "2012-07-02",
          "2012-08-01",
          "2012-09-04",
          "2012-10-01",
          "2012-11-01",
          "2012-12-03",
          "2013-01-02",
          "2013-02-01",
          "2013-03-01",
          "2013-04-01",
          "2013-05-01",
          "2013-06-03",
          "2013-07-01",
          "2013-08-01",
          "2013-09-03",
          "2013-10-01",
          "2013-11-01",
          "2013-12-02",
          "2014-01-02",
          "2014-02-03",
          "2014-03-03",
          "2014-04-01",
          "2014-05-01",
          "2014-06-02",
          "2014-07-01",
          "2014-08-01",
          "2014-09-02",
          "2014-10-01",
          "2014-11-03",
          "2014-12-01",
          "2015-01-02",
          "2015-02-02",
          "2015-03-02",
          "2015-04-01",
          "2015-05-01",
          "2015-06-01",
          "2015-07-01",
          "2015-08-03",
          "2015-09-01",
          "2015-10-01",
          "2015-11-02",
          "2015-12-01",
          "2016-01-04",
          "2016-02-01",
          "2016-03-01",
          "2016-04-01",
          "2016-05-02",
          "2016-06-01",
          "2016-07-01",
          "2016-08-01",
          "2016-09-01",
          "2016-10-03",
          "2016-11-01",
          "2016-12-01",
          "2017-01-03"
         ],
         "y": [
          75.578949,
          76.305176,
          80.33476999999999,
          85.57489,
          88.580597,
          87.030357,
          98.290459,
          98.849388,
          100.15565500000001,
          100.993011,
          106.274231,
          110.10128,
          102.943436,
          107.43391399999999,
          108.35481999999999,
          108.988472,
          106.371109,
          104.859528,
          109.037598,
          105.08040600000001,
          114.476456,
          122.549728,
          121.25990300000001,
          125.80306200000001,
          138.866837,
          139.313385,
          140.337509,
          146.80058300000002,
          146.030731,
          148.295593,
          157.19937099999999,
          149.253922,
          151.82380700000002,
          160.29754599999998,
          163.879547,
          160.288147,
          167.889374,
          172.157288,
          182.588409,
          181.21452299999999,
          169.512848,
          171.86792,
          172.21942099999998,
          171.957504,
          183.077148,
          171.675095,
          168.473206,
          169.785034,
          179.996063,
          178.759872,
          189.859497,
          180.281952,
          186.027618,
          170.90538,
          174.419876,
          163.814789,
          166.43013,
          161.064621,
          162.35424799999998,
          169.483475,
          159.64352399999999,
          168.232117,
          174.882553,
          178.49848899999998,
          168.47142,
          165.647736,
          175.151428,
          176.76638799999998,
          174.495895,
          151.120087,
          150.0905,
          148.489365,
          141.89044199999998,
          150.929001,
          149.586899,
          159.643234,
          159.31134,
          152.74733,
          152.118149,
          140.030304,
          137.26548799999998,
          132.63536100000002,
          133.248718,
          131.52839699999998,
          119.26631200000001,
          126.509262,
          146.22473100000002,
          140.904846,
          149.868225,
          147.957581,
          156.574951,
          156.2164,
          156.186905,
          151.113403,
          160.947403,
          164.687836,
          174.420883
         ]
        }
       ],
       "layout": {
        "legend": {
         "bgcolor": "#F5F6F9",
         "font": {
          "color": "#4D5663"
         }
        },
        "paper_bgcolor": "#F5F6F9",
        "plot_bgcolor": "#F5F6F9",
        "title": {
         "font": {
          "color": "#4D5663"
         },
         "text": "7.1 Ex Chart 2: Stock Prices After 2008: Adobe, Apple and IBM"
        },
        "xaxis": {
         "gridcolor": "#E1E5ED",
         "showgrid": true,
         "tickfont": {
          "color": "#4D5663"
         },
         "title": {
          "font": {
           "color": "#4D5663"
          },
          "text": ""
         },
         "zerolinecolor": "#E1E5ED"
        },
        "yaxis": {
         "gridcolor": "#E1E5ED",
         "showgrid": true,
         "tickfont": {
          "color": "#4D5663"
         },
         "title": {
          "font": {
           "color": "#4D5663"
          },
          "text": ""
         },
         "zerolinecolor": "#E1E5ED"
        }
       }
      },
      "text/html": [
       "<div>\n",
       "        \n",
       "        \n",
       "            <div id=\"b07d5cf0-8cb9-4d8f-9e3a-bcce520cd2c4\" class=\"plotly-graph-div\"></div>\n",
       "            <script type=\"text/javascript\">\n",
       "                require([\"plotly\"], function(Plotly) {\n",
       "                    window.PLOTLYENV=window.PLOTLYENV || {};\n",
       "                    window.PLOTLYENV.BASE_URL='https://plot.ly';\n",
       "                    \n",
       "                if (document.getElementById(\"b07d5cf0-8cb9-4d8f-9e3a-bcce520cd2c4\")) {\n",
       "                    Plotly.newPlot(\n",
       "                        'b07d5cf0-8cb9-4d8f-9e3a-bcce520cd2c4',\n",
       "                        [{\"line\": {\"color\": \"rgba(255, 153, 51, 1.0)\", \"dash\": \"solid\", \"shape\": \"linear\", \"width\": 1.3}, \"mode\": \"lines\", \"name\": \"Adbe\", \"text\": \"\", \"type\": \"scatter\", \"uid\": \"e925cedd-1d14-4a8e-be46-aef85ec989f6\", \"x\": [\"2009-01-02\", \"2009-02-02\", \"2009-03-02\", \"2009-04-01\", \"2009-05-01\", \"2009-06-01\", \"2009-07-01\", \"2009-08-03\", \"2009-09-01\", \"2009-10-01\", \"2009-11-02\", \"2009-12-01\", \"2010-01-04\", \"2010-02-01\", \"2010-03-01\", \"2010-04-01\", \"2010-05-03\", \"2010-06-01\", \"2010-07-01\", \"2010-08-02\", \"2010-09-01\", \"2010-10-01\", \"2010-11-01\", \"2010-12-01\", \"2011-01-03\", \"2011-02-01\", \"2011-03-01\", \"2011-04-01\", \"2011-05-02\", \"2011-06-01\", \"2011-07-01\", \"2011-08-01\", \"2011-09-01\", \"2011-10-03\", \"2011-11-01\", \"2011-12-01\", \"2012-01-03\", \"2012-02-01\", \"2012-03-01\", \"2012-04-02\", \"2012-05-01\", \"2012-06-01\", \"2012-07-02\", \"2012-08-01\", \"2012-09-04\", \"2012-10-01\", \"2012-11-01\", \"2012-12-03\", \"2013-01-02\", \"2013-02-01\", \"2013-03-01\", \"2013-04-01\", \"2013-05-01\", \"2013-06-03\", \"2013-07-01\", \"2013-08-01\", \"2013-09-03\", \"2013-10-01\", \"2013-11-01\", \"2013-12-02\", \"2014-01-02\", \"2014-02-03\", \"2014-03-03\", \"2014-04-01\", \"2014-05-01\", \"2014-06-02\", \"2014-07-01\", \"2014-08-01\", \"2014-09-02\", \"2014-10-01\", \"2014-11-03\", \"2014-12-01\", \"2015-01-02\", \"2015-02-02\", \"2015-03-02\", \"2015-04-01\", \"2015-05-01\", \"2015-06-01\", \"2015-07-01\", \"2015-08-03\", \"2015-09-01\", \"2015-10-01\", \"2015-11-02\", \"2015-12-01\", \"2016-01-04\", \"2016-02-01\", \"2016-03-01\", \"2016-04-01\", \"2016-05-02\", \"2016-06-01\", \"2016-07-01\", \"2016-08-01\", \"2016-09-01\", \"2016-10-03\", \"2016-11-01\", \"2016-12-01\", \"2017-01-03\"], \"y\": [19.309998999999998, 16.700001, 21.389999, 27.35, 28.18, 28.299999, 32.419998, 31.42, 33.040001000000004, 32.939999, 35.080002, 36.779999, 32.299999, 34.650002, 35.369999, 33.599998, 32.080002, 26.43, 28.719998999999998, 27.700001, 26.15, 28.15, 27.799999, 30.780001000000002, 33.049999, 34.5, 33.16, 33.549999, 34.630001, 31.450001, 27.709999, 25.24, 24.17, 29.41, 27.42, 28.27, 30.950001, 32.889998999999996, 34.310001, 33.549999, 31.049999, 32.369999, 30.879998999999998, 31.27, 32.439999, 34.029999, 34.610001000000004, 37.68, 37.830002, 39.310001, 43.52, 45.080002, 42.91, 45.560001, 47.279999, 45.75, 51.939999, 54.220001, 56.779999, 59.880001, 59.189999, 68.629997, 65.739998, 61.689999, 64.540001, 72.360001, 69.25, 71.900002, 69.190002, 70.120003, 73.68, 72.699997, 70.129997, 79.099998, 73.940002, 76.059998, 79.089996, 81.010002, 81.989998, 78.57, 82.220001, 88.660004, 91.459999, 93.940002, 89.129997, 85.150002, 93.800003, 94.220001, 99.470001, 95.790001, 97.860001, 102.309998, 108.540001, 107.510002, 102.809998, 102.949997, 113.82]}, {\"line\": {\"color\": \"rgba(55, 128, 191, 1.0)\", \"dash\": \"solid\", \"shape\": \"linear\", \"width\": 1.3}, \"mode\": \"lines\", \"name\": \"Aapl\", \"text\": \"\", \"type\": \"scatter\", \"uid\": \"edca5a25-67af-4f64-bb2c-e108bb76b4a4\", \"x\": [\"2009-01-02\", \"2009-02-02\", \"2009-03-02\", \"2009-04-01\", \"2009-05-01\", \"2009-06-01\", \"2009-07-01\", \"2009-08-03\", \"2009-09-01\", \"2009-10-01\", \"2009-11-02\", \"2009-12-01\", \"2010-01-04\", \"2010-02-01\", \"2010-03-01\", \"2010-04-01\", \"2010-05-03\", \"2010-06-01\", \"2010-07-01\", \"2010-08-02\", \"2010-09-01\", \"2010-10-01\", \"2010-11-01\", \"2010-12-01\", \"2011-01-03\", \"2011-02-01\", \"2011-03-01\", \"2011-04-01\", \"2011-05-02\", \"2011-06-01\", \"2011-07-01\", \"2011-08-01\", \"2011-09-01\", \"2011-10-03\", \"2011-11-01\", \"2011-12-01\", \"2012-01-03\", \"2012-02-01\", \"2012-03-01\", \"2012-04-02\", \"2012-05-01\", \"2012-06-01\", \"2012-07-02\", \"2012-08-01\", \"2012-09-04\", \"2012-10-01\", \"2012-11-01\", \"2012-12-03\", \"2013-01-02\", \"2013-02-01\", \"2013-03-01\", \"2013-04-01\", \"2013-05-01\", \"2013-06-03\", \"2013-07-01\", \"2013-08-01\", \"2013-09-03\", \"2013-10-01\", \"2013-11-01\", \"2013-12-02\", \"2014-01-02\", \"2014-02-03\", \"2014-03-03\", \"2014-04-01\", \"2014-05-01\", \"2014-06-02\", \"2014-07-01\", \"2014-08-01\", \"2014-09-02\", \"2014-10-01\", \"2014-11-03\", \"2014-12-01\", \"2015-01-02\", \"2015-02-02\", \"2015-03-02\", \"2015-04-01\", \"2015-05-01\", \"2015-06-01\", \"2015-07-01\", \"2015-08-03\", \"2015-09-01\", \"2015-10-01\", \"2015-11-02\", \"2015-12-01\", \"2016-01-04\", \"2016-02-01\", \"2016-03-01\", \"2016-04-01\", \"2016-05-02\", \"2016-06-01\", \"2016-07-01\", \"2016-08-01\", \"2016-09-01\", \"2016-10-03\", \"2016-11-01\", \"2016-12-01\", \"2017-01-03\"], \"y\": [11.677202000000001, 11.570964, 13.6193, 16.302477, 17.595482, 18.453167, 21.168736, 21.793213, 24.013863, 24.421976, 25.900249, 27.302084000000004, 24.883207000000002, 26.510475, 30.446495000000002, 33.826706, 33.281258, 32.588116, 33.329193, 31.495928000000003, 36.76252, 38.994834999999995, 40.312453999999995, 41.790729999999996, 43.962146999999995, 45.76173, 45.152802, 45.362682, 45.064696999999995, 43.489253999999995, 50.590412, 49.858402000000005, 49.403648, 52.443115, 49.517658000000004, 52.471619, 59.141342, 70.27829, 77.677429, 75.660187, 74.850441, 75.66278100000001, 79.129791, 86.558243, 86.800262, 77.460548, 76.50200699999999, 69.55999, 59.537144, 58.031689, 58.197345999999996, 58.213119999999996, 59.518211, 52.477612, 59.888763, 64.905457, 63.510681000000005, 69.63195, 74.509857, 75.173126, 67.077225, 70.934898, 72.35025, 79.54160300000001, 85.802269, 88.17572, 90.709122, 97.73988299999999, 96.071152, 102.984459, 113.898628, 105.71033500000001, 112.203506, 123.51098600000002, 119.63623799999999, 120.328499, 125.78408799999998, 121.101463, 117.113991, 109.361488, 106.975632, 115.89834599999999, 115.225647, 102.524529, 94.81034100000001, 94.688271, 106.73362, 91.799339, 98.388046, 94.190842, 102.673927, 105.102364, 111.98701499999999, 112.472404, 110.0429, 115.32002299999999, 121.10493500000001]}, {\"line\": {\"color\": \"rgba(50, 171, 96, 1.0)\", \"dash\": \"solid\", \"shape\": \"linear\", \"width\": 1.3}, \"mode\": \"lines\", \"name\": \"IBM\", \"text\": \"\", \"type\": \"scatter\", \"uid\": \"670202ab-3565-497c-89ad-fb51c2bdf6dc\", \"x\": [\"2009-01-02\", \"2009-02-02\", \"2009-03-02\", \"2009-04-01\", \"2009-05-01\", \"2009-06-01\", \"2009-07-01\", \"2009-08-03\", \"2009-09-01\", \"2009-10-01\", \"2009-11-02\", \"2009-12-01\", \"2010-01-04\", \"2010-02-01\", \"2010-03-01\", \"2010-04-01\", \"2010-05-03\", \"2010-06-01\", \"2010-07-01\", \"2010-08-02\", \"2010-09-01\", \"2010-10-01\", \"2010-11-01\", \"2010-12-01\", \"2011-01-03\", \"2011-02-01\", \"2011-03-01\", \"2011-04-01\", \"2011-05-02\", \"2011-06-01\", \"2011-07-01\", \"2011-08-01\", \"2011-09-01\", \"2011-10-03\", \"2011-11-01\", \"2011-12-01\", \"2012-01-03\", \"2012-02-01\", \"2012-03-01\", \"2012-04-02\", \"2012-05-01\", \"2012-06-01\", \"2012-07-02\", \"2012-08-01\", \"2012-09-04\", \"2012-10-01\", \"2012-11-01\", \"2012-12-03\", \"2013-01-02\", \"2013-02-01\", \"2013-03-01\", \"2013-04-01\", \"2013-05-01\", \"2013-06-03\", \"2013-07-01\", \"2013-08-01\", \"2013-09-03\", \"2013-10-01\", \"2013-11-01\", \"2013-12-02\", \"2014-01-02\", \"2014-02-03\", \"2014-03-03\", \"2014-04-01\", \"2014-05-01\", \"2014-06-02\", \"2014-07-01\", \"2014-08-01\", \"2014-09-02\", \"2014-10-01\", \"2014-11-03\", \"2014-12-01\", \"2015-01-02\", \"2015-02-02\", \"2015-03-02\", \"2015-04-01\", \"2015-05-01\", \"2015-06-01\", \"2015-07-01\", \"2015-08-03\", \"2015-09-01\", \"2015-10-01\", \"2015-11-02\", \"2015-12-01\", \"2016-01-04\", \"2016-02-01\", \"2016-03-01\", \"2016-04-01\", \"2016-05-02\", \"2016-06-01\", \"2016-07-01\", \"2016-08-01\", \"2016-09-01\", \"2016-10-03\", \"2016-11-01\", \"2016-12-01\", \"2017-01-03\"], \"y\": [75.578949, 76.305176, 80.33476999999999, 85.57489, 88.580597, 87.030357, 98.290459, 98.849388, 100.15565500000001, 100.993011, 106.274231, 110.10128, 102.943436, 107.43391399999999, 108.35481999999999, 108.988472, 106.371109, 104.859528, 109.037598, 105.08040600000001, 114.476456, 122.549728, 121.25990300000001, 125.80306200000001, 138.866837, 139.313385, 140.337509, 146.80058300000002, 146.030731, 148.295593, 157.19937099999999, 149.253922, 151.82380700000002, 160.29754599999998, 163.879547, 160.288147, 167.889374, 172.157288, 182.588409, 181.21452299999999, 169.512848, 171.86792, 172.21942099999998, 171.957504, 183.077148, 171.675095, 168.473206, 169.785034, 179.996063, 178.759872, 189.859497, 180.281952, 186.027618, 170.90538, 174.419876, 163.814789, 166.43013, 161.064621, 162.35424799999998, 169.483475, 159.64352399999999, 168.232117, 174.882553, 178.49848899999998, 168.47142, 165.647736, 175.151428, 176.76638799999998, 174.495895, 151.120087, 150.0905, 148.489365, 141.89044199999998, 150.929001, 149.586899, 159.643234, 159.31134, 152.74733, 152.118149, 140.030304, 137.26548799999998, 132.63536100000002, 133.248718, 131.52839699999998, 119.26631200000001, 126.509262, 146.22473100000002, 140.904846, 149.868225, 147.957581, 156.574951, 156.2164, 156.186905, 151.113403, 160.947403, 164.687836, 174.420883]}],\n",
       "                        {\"legend\": {\"bgcolor\": \"#F5F6F9\", \"font\": {\"color\": \"#4D5663\"}}, \"paper_bgcolor\": \"#F5F6F9\", \"plot_bgcolor\": \"#F5F6F9\", \"title\": {\"font\": {\"color\": \"#4D5663\"}, \"text\": \"7.1 Ex Chart 2: Stock Prices After 2008: Adobe, Apple and IBM\"}, \"xaxis\": {\"gridcolor\": \"#E1E5ED\", \"showgrid\": true, \"tickfont\": {\"color\": \"#4D5663\"}, \"title\": {\"font\": {\"color\": \"#4D5663\"}, \"text\": \"\"}, \"zerolinecolor\": \"#E1E5ED\"}, \"yaxis\": {\"gridcolor\": \"#E1E5ED\", \"showgrid\": true, \"tickfont\": {\"color\": \"#4D5663\"}, \"title\": {\"font\": {\"color\": \"#4D5663\"}, \"text\": \"\"}, \"zerolinecolor\": \"#E1E5ED\"}},\n",
       "                        {\"showLink\": true, \"linkText\": \"Export to plot.ly\", \"plotlyServerURL\": \"https://plot.ly\", \"responsive\": true}\n",
       "                    )\n",
       "                };\n",
       "                });\n",
       "            </script>\n",
       "        </div>"
      ]
     },
     "metadata": {},
     "output_type": "display_data"
    }
   ],
   "source": [
    "# Create a List filled with the countries to plot\n",
    "stocks_to_plot = ['Adbe', 'Aapl', 'IBM']\n",
    "\n",
    "# plot the countries \n",
    "df_stocks_after_2008[stocks_to_plot].iplot(kind='line', \n",
    "                                     theme='pearl',\n",
    "                                     title='7.1 Ex Chart 2: Stock Prices After 2008: Adobe, Apple and IBM')\n"
   ]
  },
  {
   "cell_type": "markdown",
   "metadata": {},
   "source": [
    "# Ex Chart 3  \n",
    "- Data source: *BikeStore.csv* \n",
    "- Plot Bike Sales (in millions)  by Category  "
   ]
  },
  {
   "cell_type": "code",
   "execution_count": 198,
   "metadata": {},
   "outputs": [],
   "source": [
    "df_bikes = pd.read_csv('Data/BikeStore.csv')"
   ]
  },
  {
   "cell_type": "code",
   "execution_count": 199,
   "metadata": {},
   "outputs": [],
   "source": [
    "df_bikes['Sales Amount'] = df_bikes['Sales Amount'].str.replace('$', '')\n",
    "df_bikes['Sales Amount'] = df_bikes['Sales Amount'].str.replace(',', '')"
   ]
  },
  {
   "cell_type": "code",
   "execution_count": 200,
   "metadata": {},
   "outputs": [],
   "source": [
    "df_bikes['SalesDate'] = pd.to_datetime(df_bikes['SalesDate'])\n",
    "df_bikes['Month'] = df_bikes['SalesDate'].dt.strftime('%b')\n",
    "df_bikes['Quarter'] = df_bikes['SalesDate'].dt.to_period('Q')\n",
    "df_bikes['SalesPeriod'] = pd.to_datetime(df_bikes['SalesPeriod'])\n",
    "df_bikes['Sales Amount'] = pd.to_numeric(df_bikes['Sales Amount'])"
   ]
  },
  {
   "cell_type": "code",
   "execution_count": 201,
   "metadata": {
    "scrolled": true
   },
   "outputs": [
    {
     "data": {
      "text/html": [
       "<div>\n",
       "<style scoped>\n",
       "    .dataframe tbody tr th:only-of-type {\n",
       "        vertical-align: middle;\n",
       "    }\n",
       "\n",
       "    .dataframe tbody tr th {\n",
       "        vertical-align: top;\n",
       "    }\n",
       "\n",
       "    .dataframe thead th {\n",
       "        text-align: right;\n",
       "    }\n",
       "</style>\n",
       "<table border=\"1\" class=\"dataframe\">\n",
       "  <thead>\n",
       "    <tr style=\"text-align: right;\">\n",
       "      <th></th>\n",
       "      <th>Market</th>\n",
       "      <th>Customer</th>\n",
       "      <th>Business Segment</th>\n",
       "      <th>Category</th>\n",
       "      <th>Model</th>\n",
       "      <th>Color</th>\n",
       "      <th>SalesDate</th>\n",
       "      <th>SalesPeriod</th>\n",
       "      <th>ListPrice</th>\n",
       "      <th>UnitPrice</th>\n",
       "      <th>OrderQty</th>\n",
       "      <th>Sales Amount</th>\n",
       "      <th>Month</th>\n",
       "      <th>Quarter</th>\n",
       "      <th>Sales in Millions</th>\n",
       "    </tr>\n",
       "  </thead>\n",
       "  <tbody>\n",
       "    <tr>\n",
       "      <th>0</th>\n",
       "      <td>Southeast</td>\n",
       "      <td>Trusted Catalog Store</td>\n",
       "      <td>Bikes</td>\n",
       "      <td>Mountain Bikes</td>\n",
       "      <td>Mountain-100</td>\n",
       "      <td>Silver</td>\n",
       "      <td>2008-01-01</td>\n",
       "      <td>2008-01-01</td>\n",
       "      <td>$3,400</td>\n",
       "      <td>$2,040</td>\n",
       "      <td>3</td>\n",
       "      <td>6120</td>\n",
       "      <td>Jan</td>\n",
       "      <td>2008Q1</td>\n",
       "      <td>0.006120</td>\n",
       "    </tr>\n",
       "    <tr>\n",
       "      <th>1</th>\n",
       "      <td>Southeast</td>\n",
       "      <td>Trusted Catalog Store</td>\n",
       "      <td>Bikes</td>\n",
       "      <td>Mountain Bikes</td>\n",
       "      <td>Mountain-100</td>\n",
       "      <td>Black</td>\n",
       "      <td>2008-01-14</td>\n",
       "      <td>2008-01-01</td>\n",
       "      <td>$3,375</td>\n",
       "      <td>$2,025</td>\n",
       "      <td>2</td>\n",
       "      <td>4050</td>\n",
       "      <td>Jan</td>\n",
       "      <td>2008Q1</td>\n",
       "      <td>0.004050</td>\n",
       "    </tr>\n",
       "    <tr>\n",
       "      <th>2</th>\n",
       "      <td>Southeast</td>\n",
       "      <td>Trusted Catalog Store</td>\n",
       "      <td>Bikes</td>\n",
       "      <td>Mountain Bikes</td>\n",
       "      <td>Mountain-100</td>\n",
       "      <td>Black</td>\n",
       "      <td>2008-01-30</td>\n",
       "      <td>2008-01-01</td>\n",
       "      <td>$3,375</td>\n",
       "      <td>$2,025</td>\n",
       "      <td>3</td>\n",
       "      <td>6075</td>\n",
       "      <td>Jan</td>\n",
       "      <td>2008Q1</td>\n",
       "      <td>0.006075</td>\n",
       "    </tr>\n",
       "    <tr>\n",
       "      <th>3</th>\n",
       "      <td>Southeast</td>\n",
       "      <td>Trusted Catalog Store</td>\n",
       "      <td>Clothing</td>\n",
       "      <td>Socks</td>\n",
       "      <td>Mountain Bike Socks</td>\n",
       "      <td>White</td>\n",
       "      <td>2008-01-16</td>\n",
       "      <td>2008-01-01</td>\n",
       "      <td>$10</td>\n",
       "      <td>$6</td>\n",
       "      <td>8</td>\n",
       "      <td>46</td>\n",
       "      <td>Jan</td>\n",
       "      <td>2008Q1</td>\n",
       "      <td>0.000046</td>\n",
       "    </tr>\n",
       "    <tr>\n",
       "      <th>4</th>\n",
       "      <td>Southeast</td>\n",
       "      <td>Trusted Catalog Store</td>\n",
       "      <td>Bikes</td>\n",
       "      <td>Mountain Bikes</td>\n",
       "      <td>Mountain-100</td>\n",
       "      <td>Silver</td>\n",
       "      <td>2008-01-31</td>\n",
       "      <td>2008-01-01</td>\n",
       "      <td>$3,400</td>\n",
       "      <td>$2,040</td>\n",
       "      <td>1</td>\n",
       "      <td>2040</td>\n",
       "      <td>Jan</td>\n",
       "      <td>2008Q1</td>\n",
       "      <td>0.002040</td>\n",
       "    </tr>\n",
       "  </tbody>\n",
       "</table>\n",
       "</div>"
      ],
      "text/plain": [
       "      Market               Customer Business Segment        Category  \\\n",
       "0  Southeast  Trusted Catalog Store            Bikes  Mountain Bikes   \n",
       "1  Southeast  Trusted Catalog Store            Bikes  Mountain Bikes   \n",
       "2  Southeast  Trusted Catalog Store            Bikes  Mountain Bikes   \n",
       "3  Southeast  Trusted Catalog Store         Clothing           Socks   \n",
       "4  Southeast  Trusted Catalog Store            Bikes  Mountain Bikes   \n",
       "\n",
       "                 Model   Color  SalesDate SalesPeriod ListPrice UnitPrice  \\\n",
       "0         Mountain-100  Silver 2008-01-01  2008-01-01    $3,400    $2,040   \n",
       "1         Mountain-100   Black 2008-01-14  2008-01-01    $3,375    $2,025   \n",
       "2         Mountain-100   Black 2008-01-30  2008-01-01    $3,375    $2,025   \n",
       "3  Mountain Bike Socks   White 2008-01-16  2008-01-01       $10        $6   \n",
       "4         Mountain-100  Silver 2008-01-31  2008-01-01    $3,400    $2,040   \n",
       "\n",
       "   OrderQty  Sales Amount Month Quarter  Sales in Millions  \n",
       "0         3          6120   Jan  2008Q1           0.006120  \n",
       "1         2          4050   Jan  2008Q1           0.004050  \n",
       "2         3          6075   Jan  2008Q1           0.006075  \n",
       "3         8            46   Jan  2008Q1           0.000046  \n",
       "4         1          2040   Jan  2008Q1           0.002040  "
      ]
     },
     "execution_count": 201,
     "metadata": {},
     "output_type": "execute_result"
    }
   ],
   "source": [
    "df_bikes['Sales in Millions'] = df_bikes['Sales Amount'] / 1000000\n",
    "df_bikes.head()"
   ]
  },
  {
   "cell_type": "code",
   "execution_count": 202,
   "metadata": {},
   "outputs": [
    {
     "data": {
      "text/plain": [
       "<matplotlib.axes._subplots.AxesSubplot at 0x1876e370>"
      ]
     },
     "execution_count": 202,
     "metadata": {},
     "output_type": "execute_result"
    },
    {
     "data": {
      "image/png": "[encoded data removed]",
      "text/plain": [
       "<Figure size 360x360 with 1 Axes>"
      ]
     },
     "metadata": {
      "needs_background": "light"
     },
     "output_type": "display_data"
    }
   ],
   "source": [
    "categories = ['Road Bikes', 'Mountain Bikes', 'Touring Bikes']\n",
    "bike_sales_by_category = df_bikes.groupby(\"Category\")['Sales in Millions'].sum()\n",
    "bike_sales_by_category[categories].plot.bar(title='Ex 6.3 Chart 3: Bike Sales by Category (millions)',\n",
    "                                           color='green')"
   ]
  },
  {
   "cell_type": "code",
   "execution_count": 203,
   "metadata": {},
   "outputs": [
    {
     "data": {
      "application/vnd.plotly.v1+json": {
       "config": {
        "linkText": "Export to plot.ly",
        "plotlyServerURL": "https://plot.ly",
        "responsive": true,
        "showLink": true
       },
       "data": [
        {
         "marker": {
          "color": "rgba(0, 128, 0, 0.6)",
          "line": {
           "color": "rgba(0, 128, 0, 1.0)",
           "width": 1
          }
         },
         "name": "Sales in Millions",
         "orientation": "v",
         "text": "",
         "type": "bar",
         "uid": "d6d9c8fb-6e0a-4a2e-8b23-97dbc13a22d2",
         "x": [
          "Road Bikes",
          "Mountain Bikes",
          "Touring Bikes"
         ],
         "y": [
          17.337797000000656,
          16.445326000000012,
          4.5594700000000215
         ]
        }
       ],
       "layout": {
        "legend": {
         "bgcolor": "#1A1A1C",
         "font": {
          "color": "#D9D9D9"
         }
        },
        "paper_bgcolor": "#1A1A1C",
        "plot_bgcolor": "#1A1A1C",
        "title": {
         "font": {
          "color": "#D9D9D9"
         },
         "text": "Basic Multi Line Chart"
        },
        "xaxis": {
         "gridcolor": "#434343",
         "showgrid": true,
         "tickfont": {
          "color": "#C2C2C2"
         },
         "title": {
          "font": {
           "color": "#D9D9D9"
          },
          "text": ""
         },
         "zerolinecolor": "#666570"
        },
        "yaxis": {
         "gridcolor": "#434343",
         "showgrid": true,
         "tickfont": {
          "color": "#C2C2C2"
         },
         "title": {
          "font": {
           "color": "#D9D9D9"
          },
          "text": ""
         },
         "zerolinecolor": "#666570"
        }
       }
      },
      "text/html": [
       "<div>\n",
       "        \n",
       "        \n",
       "            <div id=\"2d6f105f-2105-4a0e-a456-e3e90e3f922d\" class=\"plotly-graph-div\"></div>\n",
       "            <script type=\"text/javascript\">\n",
       "                require([\"plotly\"], function(Plotly) {\n",
       "                    window.PLOTLYENV=window.PLOTLYENV || {};\n",
       "                    window.PLOTLYENV.BASE_URL='https://plot.ly';\n",
       "                    \n",
       "                if (document.getElementById(\"2d6f105f-2105-4a0e-a456-e3e90e3f922d\")) {\n",
       "                    Plotly.newPlot(\n",
       "                        '2d6f105f-2105-4a0e-a456-e3e90e3f922d',\n",
       "                        [{\"marker\": {\"color\": \"rgba(0, 128, 0, 0.6)\", \"line\": {\"color\": \"rgba(0, 128, 0, 1.0)\", \"width\": 1}}, \"name\": \"Sales in Millions\", \"orientation\": \"v\", \"text\": \"\", \"type\": \"bar\", \"uid\": \"f41a5e59-5744-44f4-a15d-b0e62d3ca3bd\", \"x\": [\"Road Bikes\", \"Mountain Bikes\", \"Touring Bikes\"], \"y\": [17.337797000000656, 16.445326000000012, 4.5594700000000215]}],\n",
       "                        {\"legend\": {\"bgcolor\": \"#1A1A1C\", \"font\": {\"color\": \"#D9D9D9\"}}, \"paper_bgcolor\": \"#1A1A1C\", \"plot_bgcolor\": \"#1A1A1C\", \"title\": {\"font\": {\"color\": \"#D9D9D9\"}, \"text\": \"Basic Multi Line Chart\"}, \"xaxis\": {\"gridcolor\": \"#434343\", \"showgrid\": true, \"tickfont\": {\"color\": \"#C2C2C2\"}, \"title\": {\"font\": {\"color\": \"#D9D9D9\"}, \"text\": \"\"}, \"zerolinecolor\": \"#666570\"}, \"yaxis\": {\"gridcolor\": \"#434343\", \"showgrid\": true, \"tickfont\": {\"color\": \"#C2C2C2\"}, \"title\": {\"font\": {\"color\": \"#D9D9D9\"}, \"text\": \"\"}, \"zerolinecolor\": \"#666570\"}},\n",
       "                        {\"showLink\": true, \"linkText\": \"Export to plot.ly\", \"plotlyServerURL\": \"https://plot.ly\", \"responsive\": true}\n",
       "                    )\n",
       "                };\n",
       "                });\n",
       "            </script>\n",
       "        </div>"
      ]
     },
     "metadata": {},
     "output_type": "display_data"
    }
   ],
   "source": [
    "# Create a List filled with the countries to plot\n",
    "categories = ['Road Bikes', 'Mountain Bikes', 'Touring Bikes']\n",
    "\n",
    "# plot the countries \n",
    "bike_sales_by_category[categories].iplot(kind='bar', \n",
    "                                     theme='space',\n",
    "                                    color='green',\n",
    "                                     title='Basic Multi Line Chart')\n"
   ]
  },
  {
   "cell_type": "markdown",
   "metadata": {},
   "source": [
    "# Ex Chart 4   \n",
    "- Plot Bike Sales (in millions)  by Month "
   ]
  },
  {
   "cell_type": "code",
   "execution_count": 204,
   "metadata": {},
   "outputs": [
    {
     "data": {
      "text/plain": [
       "<matplotlib.axes._subplots.AxesSubplot at 0x186ee310>"
      ]
     },
     "execution_count": 204,
     "metadata": {},
     "output_type": "execute_result"
    },
    {
     "data": {
      "image/png": "[encoded data removed]",
      "text/plain": [
       "<Figure size 360x360 with 1 Axes>"
      ]
     },
     "metadata": {
      "needs_background": "light"
     },
     "output_type": "display_data"
    }
   ],
   "source": [
    "bike_sales_by_month = df_bikes.groupby(\"Month\")['Sales in Millions'].sum()\n",
    "\n",
    "months = ['Jan', 'Feb', 'Mar', 'Apr', 'May', 'Jun', 'Jul', 'Aug', 'Sep', 'Oct', 'Nov', 'Dec']\n",
    "\n",
    "bike_sales_by_month[months].plot.line(title='Ex 6.3 Chart 4: Bike Sales (in millions) by Month',\n",
    "                             color='green')"
   ]
  },
  {
   "cell_type": "code",
   "execution_count": 209,
   "metadata": {},
   "outputs": [
    {
     "data": {
      "application/vnd.plotly.v1+json": {
       "config": {
        "linkText": "Export to plot.ly",
        "plotlyServerURL": "https://plot.ly",
        "responsive": true,
        "showLink": true
       },
       "data": [
        {
         "fill": "tonexty",
         "fillcolor": "rgba(128, 0, 128, 0.3)",
         "line": {
          "color": "rgba(128, 0, 128, 1.0)",
          "dash": "solid",
          "shape": "linear",
          "width": 1.3
         },
         "mode": "lines",
         "name": "Sales in Millions",
         "text": "",
         "type": "scatter",
         "uid": "533848d2-d02c-45c2-b505-340fc91a21ea",
         "x": [
          "Jan",
          "Feb",
          "Mar",
          "Apr",
          "May",
          "Jun",
          "Jul",
          "Aug",
          "Sep",
          "Oct",
          "Nov",
          "Dec"
         ],
         "y": [
          2.3546049999999923,
          3.8129830000000062,
          3.4283539999999944,
          2.920498999999985,
          4.995969000000007,
          2.6225819999999915,
          4.082620999999989,
          5.144033999999989,
          4.426699000000006,
          3.097675999999988,
          4.93580199999999,
          4.164612000000002
         ]
        }
       ],
       "layout": {
        "legend": {
         "bgcolor": "#1A1A1C",
         "font": {
          "color": "#D9D9D9"
         }
        },
        "paper_bgcolor": "#1A1A1C",
        "plot_bgcolor": "#1A1A1C",
        "title": {
         "font": {
          "color": "#D9D9D9"
         },
         "text": "Basic Multi Line Chart"
        },
        "xaxis": {
         "gridcolor": "#434343",
         "showgrid": true,
         "tickfont": {
          "color": "#C2C2C2"
         },
         "title": {
          "font": {
           "color": "#D9D9D9"
          },
          "text": ""
         },
         "zerolinecolor": "#666570"
        },
        "yaxis": {
         "gridcolor": "#434343",
         "showgrid": true,
         "tickfont": {
          "color": "#C2C2C2"
         },
         "title": {
          "font": {
           "color": "#D9D9D9"
          },
          "text": ""
         },
         "zerolinecolor": "#666570"
        }
       }
      },
      "text/html": [
       "<div>\n",
       "        \n",
       "        \n",
       "            <div id=\"8a1fa2e8-d3b4-40d2-85dd-5031a1814eb7\" class=\"plotly-graph-div\"></div>\n",
       "            <script type=\"text/javascript\">\n",
       "                require([\"plotly\"], function(Plotly) {\n",
       "                    window.PLOTLYENV=window.PLOTLYENV || {};\n",
       "                    window.PLOTLYENV.BASE_URL='https://plot.ly';\n",
       "                    \n",
       "                if (document.getElementById(\"8a1fa2e8-d3b4-40d2-85dd-5031a1814eb7\")) {\n",
       "                    Plotly.newPlot(\n",
       "                        '8a1fa2e8-d3b4-40d2-85dd-5031a1814eb7',\n",
       "                        [{\"fill\": \"tonexty\", \"fillcolor\": \"rgba(128, 0, 128, 0.3)\", \"line\": {\"color\": \"rgba(128, 0, 128, 1.0)\", \"dash\": \"solid\", \"shape\": \"linear\", \"width\": 1.3}, \"mode\": \"lines\", \"name\": \"Sales in Millions\", \"text\": \"\", \"type\": \"scatter\", \"uid\": \"d00eba19-629a-4cf3-a091-90386106d590\", \"x\": [\"Jan\", \"Feb\", \"Mar\", \"Apr\", \"May\", \"Jun\", \"Jul\", \"Aug\", \"Sep\", \"Oct\", \"Nov\", \"Dec\"], \"y\": [2.3546049999999923, 3.8129830000000062, 3.4283539999999944, 2.920498999999985, 4.995969000000007, 2.6225819999999915, 4.082620999999989, 5.144033999999989, 4.426699000000006, 3.097675999999988, 4.93580199999999, 4.164612000000002]}],\n",
       "                        {\"legend\": {\"bgcolor\": \"#1A1A1C\", \"font\": {\"color\": \"#D9D9D9\"}}, \"paper_bgcolor\": \"#1A1A1C\", \"plot_bgcolor\": \"#1A1A1C\", \"title\": {\"font\": {\"color\": \"#D9D9D9\"}, \"text\": \"Basic Multi Line Chart\"}, \"xaxis\": {\"gridcolor\": \"#434343\", \"showgrid\": true, \"tickfont\": {\"color\": \"#C2C2C2\"}, \"title\": {\"font\": {\"color\": \"#D9D9D9\"}, \"text\": \"\"}, \"zerolinecolor\": \"#666570\"}, \"yaxis\": {\"gridcolor\": \"#434343\", \"showgrid\": true, \"tickfont\": {\"color\": \"#C2C2C2\"}, \"title\": {\"font\": {\"color\": \"#D9D9D9\"}, \"text\": \"\"}, \"zerolinecolor\": \"#666570\"}},\n",
       "                        {\"showLink\": true, \"linkText\": \"Export to plot.ly\", \"plotlyServerURL\": \"https://plot.ly\", \"responsive\": true}\n",
       "                    )\n",
       "                };\n",
       "                });\n",
       "            </script>\n",
       "        </div>"
      ]
     },
     "metadata": {},
     "output_type": "display_data"
    }
   ],
   "source": [
    "# Create a List filled with the countries to plot\n",
    "months = ['Jan', 'Feb', 'Mar', 'Apr', 'May', 'Jun', 'Jul', 'Aug', 'Sep', 'Oct', 'Nov', 'Dec']\n",
    "\n",
    "# plot the countries \n",
    "bike_sales_by_month[months].iplot(kind='area', \n",
    "                                  fill=True,\n",
    "                                     theme='space',\n",
    "                                      color='purple',\n",
    "                                     title='Basic Multi Line Chart')\n"
   ]
  },
  {
   "cell_type": "markdown",
   "metadata": {},
   "source": [
    "# Ex Chart 5  \n",
    "- Plot Bike Sales (in millions)  by Quarter"
   ]
  },
  {
   "cell_type": "code",
   "execution_count": 206,
   "metadata": {},
   "outputs": [
    {
     "data": {
      "text/plain": [
       "<matplotlib.axes._subplots.AxesSubplot at 0x18f22730>"
      ]
     },
     "execution_count": 206,
     "metadata": {},
     "output_type": "execute_result"
    },
    {
     "data": {
      "image/png": "[encoded data removed]",
      "text/plain": [
       "<Figure size 360x360 with 1 Axes>"
      ]
     },
     "metadata": {
      "needs_background": "light"
     },
     "output_type": "display_data"
    }
   ],
   "source": [
    "bike_sales_by_quarter = df_bikes.groupby('Quarter')['Sales in Millions'].sum()\n",
    "\n",
    "bike_sales_by_quarter.plot.line(title='Ex 6.3 Chart 5: Bike Sales (in millions) by Quarter',\n",
    "                               color='green')"
   ]
  },
  {
   "cell_type": "code",
   "execution_count": 208,
   "metadata": {},
   "outputs": [
    {
     "data": {
      "application/vnd.plotly.v1+json": {
       "config": {
        "linkText": "Export to plot.ly",
        "plotlyServerURL": "https://plot.ly",
        "responsive": true,
        "showLink": true
       },
       "data": [
        {
         "fill": "tonexty",
         "fillcolor": "rgba(0, 128, 0, 0.3)",
         "line": {
          "color": "rgba(0, 128, 0, 1.0)",
          "dash": "solid",
          "shape": "linear",
          "width": 1.3
         },
         "mode": "lines",
         "name": "Sales in Millions",
         "text": "",
         "type": "scatter",
         "uid": "6d928e10-c7b1-4fd7-ad9f-3aedd7ac7776",
         "x": [
          "2008Q1",
          "2008Q2",
          "2008Q3",
          "2008Q4",
          "2009Q1",
          "2009Q2",
          "2009Q3",
          "2009Q4",
          "2010Q1",
          "2010Q2",
          "2010Q3",
          "2010Q4"
         ],
         "y": [
          2.827556000000002,
          2.837066999999994,
          5.181947999999991,
          4.279506999999994,
          3.1850379999999983,
          4.04088,
          5.461060999999986,
          4.509804,
          3.583347999999999,
          3.661102999999995,
          3.0103450000000005,
          3.408779000000002
         ]
        }
       ],
       "layout": {
        "legend": {
         "bgcolor": "#1A1A1C",
         "font": {
          "color": "#D9D9D9"
         }
        },
        "paper_bgcolor": "#1A1A1C",
        "plot_bgcolor": "#1A1A1C",
        "title": {
         "font": {
          "color": "#D9D9D9"
         },
         "text": "Basic Multi Line Chart"
        },
        "xaxis": {
         "gridcolor": "#434343",
         "showgrid": true,
         "tickfont": {
          "color": "#C2C2C2"
         },
         "title": {
          "font": {
           "color": "#D9D9D9"
          },
          "text": ""
         },
         "zerolinecolor": "#666570"
        },
        "yaxis": {
         "gridcolor": "#434343",
         "showgrid": true,
         "tickfont": {
          "color": "#C2C2C2"
         },
         "title": {
          "font": {
           "color": "#D9D9D9"
          },
          "text": ""
         },
         "zerolinecolor": "#666570"
        }
       }
      },
      "text/html": [
       "<div>\n",
       "        \n",
       "        \n",
       "            <div id=\"bf754cf5-8c7b-4347-8384-1a4de1fab15d\" class=\"plotly-graph-div\"></div>\n",
       "            <script type=\"text/javascript\">\n",
       "                require([\"plotly\"], function(Plotly) {\n",
       "                    window.PLOTLYENV=window.PLOTLYENV || {};\n",
       "                    window.PLOTLYENV.BASE_URL='https://plot.ly';\n",
       "                    \n",
       "                if (document.getElementById(\"bf754cf5-8c7b-4347-8384-1a4de1fab15d\")) {\n",
       "                    Plotly.newPlot(\n",
       "                        'bf754cf5-8c7b-4347-8384-1a4de1fab15d',\n",
       "                        [{\"fill\": \"tonexty\", \"fillcolor\": \"rgba(0, 128, 0, 0.3)\", \"line\": {\"color\": \"rgba(0, 128, 0, 1.0)\", \"dash\": \"solid\", \"shape\": \"linear\", \"width\": 1.3}, \"mode\": \"lines\", \"name\": \"Sales in Millions\", \"text\": \"\", \"type\": \"scatter\", \"uid\": \"d372a0d7-ef39-42ee-b614-fc6b5cd43ca1\", \"x\": [\"2008Q1\", \"2008Q2\", \"2008Q3\", \"2008Q4\", \"2009Q1\", \"2009Q2\", \"2009Q3\", \"2009Q4\", \"2010Q1\", \"2010Q2\", \"2010Q3\", \"2010Q4\"], \"y\": [2.827556000000002, 2.837066999999994, 5.181947999999991, 4.279506999999994, 3.1850379999999983, 4.04088, 5.461060999999986, 4.509804, 3.583347999999999, 3.661102999999995, 3.0103450000000005, 3.408779000000002]}],\n",
       "                        {\"legend\": {\"bgcolor\": \"#1A1A1C\", \"font\": {\"color\": \"#D9D9D9\"}}, \"paper_bgcolor\": \"#1A1A1C\", \"plot_bgcolor\": \"#1A1A1C\", \"title\": {\"font\": {\"color\": \"#D9D9D9\"}, \"text\": \"Basic Multi Line Chart\"}, \"xaxis\": {\"gridcolor\": \"#434343\", \"showgrid\": true, \"tickfont\": {\"color\": \"#C2C2C2\"}, \"title\": {\"font\": {\"color\": \"#D9D9D9\"}, \"text\": \"\"}, \"zerolinecolor\": \"#666570\"}, \"yaxis\": {\"gridcolor\": \"#434343\", \"showgrid\": true, \"tickfont\": {\"color\": \"#C2C2C2\"}, \"title\": {\"font\": {\"color\": \"#D9D9D9\"}, \"text\": \"\"}, \"zerolinecolor\": \"#666570\"}},\n",
       "                        {\"showLink\": true, \"linkText\": \"Export to plot.ly\", \"plotlyServerURL\": \"https://plot.ly\", \"responsive\": true}\n",
       "                    )\n",
       "                };\n",
       "                });\n",
       "            </script>\n",
       "        </div>"
      ]
     },
     "metadata": {},
     "output_type": "display_data"
    }
   ],
   "source": [
    "# plot the countries \n",
    "bike_sales_by_quarter.iplot(kind='area',\n",
    "                            fill=True,\n",
    "                                     theme='space',\n",
    "                                    color='green',\n",
    "                                     title='Basic Multi Line Chart')\n"
   ]
  },
  {
   "cell_type": "code",
   "execution_count": null,
   "metadata": {},
   "outputs": [],
   "source": []
  }
 ],
 "metadata": {
  "kernelspec": {
   "display_name": "Python 3",
   "language": "python",
   "name": "python3"
  },
  "language_info": {
   "codemirror_mode": {
    "name": "ipython",
    "version": 3
   },
   "file_extension": ".py",
   "mimetype": "text/x-python",
   "name": "python",
   "nbconvert_exporter": "python",
   "pygments_lexer": "ipython3",
   "version": "3.7.9"
  },
  "toc": {
   "base_numbering": 1,
   "nav_menu": {},
   "number_sections": true,
   "sideBar": false,
   "skip_h1_title": true,
   "title_cell": "Table of Contents",
   "title_sidebar": "Contents",
   "toc_cell": true,
   "toc_position": {},
   "toc_section_display": true,
   "toc_window_display": false
  }
 },
 "nbformat": 4,
 "nbformat_minor": 2
}
