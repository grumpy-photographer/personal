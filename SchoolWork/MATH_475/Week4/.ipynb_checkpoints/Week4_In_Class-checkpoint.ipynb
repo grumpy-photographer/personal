{
 "cells": [
  {
   "cell_type": "code",
   "execution_count": 1,
   "metadata": {
    "ExecuteTime": {
     "end_time": "2020-09-10T23:15:44.438250Z",
     "start_time": "2020-09-10T23:15:41.832742Z"
    }
   },
   "outputs": [],
   "source": [
    "# imports\n",
    "import pandas as pd\n",
    "import matplotlib.pyplot as plt\n",
    "import seaborn as sns\n",
    "import numpy as np"
   ]
  },
  {
   "cell_type": "markdown",
   "metadata": {},
   "source": [
    "The only thing we know about the data is we are trying to use x variables to predict y variable."
   ]
  },
  {
   "cell_type": "code",
   "execution_count": 2,
   "metadata": {
    "ExecuteTime": {
     "end_time": "2020-09-10T23:15:44.479375Z",
     "start_time": "2020-09-10T23:15:44.446579Z"
    }
   },
   "outputs": [],
   "source": [
    "my_df = pd.read_csv('../../../Data/multi-set-1.csv')"
   ]
  },
  {
   "cell_type": "code",
   "execution_count": 3,
   "metadata": {
    "ExecuteTime": {
     "end_time": "2020-09-10T23:15:44.568021Z",
     "start_time": "2020-09-10T23:15:44.491065Z"
    }
   },
   "outputs": [
    {
     "data": {
      "text/plain": [
       "<bound method DataFrame.info of      Unnamed: 0        X0        X1        X2        X3        X4        X5  \\\n",
       "0             0 -2.322018 -0.347711 -0.613853 -0.283326 -1.825783 -0.832817   \n",
       "1             1  0.694377 -0.244357 -1.135003  0.343134 -0.579199  0.232848   \n",
       "2             2 -1.345888 -0.727013  1.645505 -0.675970  0.358269  2.949318   \n",
       "3             3  1.042922 -0.623371 -0.809288 -0.406957 -0.084170 -0.669237   \n",
       "4             4  0.588704 -0.834573 -1.597467  1.919520  0.172437  2.413028   \n",
       "..          ...       ...       ...       ...       ...       ...       ...   \n",
       "745         745 -1.471496  1.013023  0.503969  1.097987  1.541199  0.643162   \n",
       "746         746 -0.031940  1.582798  0.284986 -0.686531 -1.544323 -0.927135   \n",
       "747         747  0.556434 -1.081989  2.005101  0.081933  0.748353  0.657440   \n",
       "748         748  0.822929  2.932668 -1.118101 -1.805829  0.353588 -0.658435   \n",
       "749         749 -1.395976 -0.929219 -0.548496 -0.501613 -0.916014  0.569704   \n",
       "\n",
       "           X6        X7        X8          y  \n",
       "0   -1.071861  0.412314 -1.034779  -1.344751  \n",
       "1   -0.070817 -0.254534  1.143459   1.445259  \n",
       "2   -0.234073  1.660794 -1.093550  -5.397212  \n",
       "3    2.017704 -0.696253  0.334309   3.598597  \n",
       "4   -0.045973  0.184001  0.269435  -0.128731  \n",
       "..        ...       ...       ...        ...  \n",
       "745  1.028758 -1.498719  0.805392  -2.668182  \n",
       "746 -0.547706  0.618604  0.082957   4.229213  \n",
       "747  0.563369 -0.007315 -0.992694  -4.932195  \n",
       "748  0.145354  1.291487  0.979674  12.967947  \n",
       "749  0.260734 -0.583258 -1.162740  -0.042080  \n",
       "\n",
       "[750 rows x 11 columns]>"
      ]
     },
     "execution_count": 3,
     "metadata": {},
     "output_type": "execute_result"
    }
   ],
   "source": [
    "my_df.info"
   ]
  },
  {
   "cell_type": "code",
   "execution_count": 4,
   "metadata": {
    "ExecuteTime": {
     "end_time": "2020-09-10T23:15:45.250541Z",
     "start_time": "2020-09-10T23:15:44.575332Z"
    }
   },
   "outputs": [],
   "source": [
    "from sklearn.model_selection import train_test_split"
   ]
  },
  {
   "cell_type": "code",
   "execution_count": 5,
   "metadata": {
    "ExecuteTime": {
     "end_time": "2020-09-10T23:15:45.285185Z",
     "start_time": "2020-09-10T23:15:45.256701Z"
    }
   },
   "outputs": [],
   "source": [
    "y = my_df['y']"
   ]
  },
  {
   "cell_type": "code",
   "execution_count": 6,
   "metadata": {
    "ExecuteTime": {
     "end_time": "2020-09-10T23:15:45.355623Z",
     "start_time": "2020-09-10T23:15:45.304093Z"
    }
   },
   "outputs": [],
   "source": [
    "X = my_df.drop('y', axis=1)"
   ]
  },
  {
   "cell_type": "code",
   "execution_count": 7,
   "metadata": {
    "ExecuteTime": {
     "end_time": "2020-09-10T23:15:45.722091Z",
     "start_time": "2020-09-10T23:15:45.367390Z"
    }
   },
   "outputs": [],
   "source": [
    "from sklearn.feature_selection import SelectKBest\n",
    "from sklearn.feature_selection import f_regression"
   ]
  },
  {
   "cell_type": "markdown",
   "metadata": {},
   "source": [
    "Split into training and test sets."
   ]
  },
  {
   "cell_type": "code",
   "execution_count": 8,
   "metadata": {
    "ExecuteTime": {
     "end_time": "2020-09-10T23:15:45.753512Z",
     "start_time": "2020-09-10T23:15:45.730192Z"
    }
   },
   "outputs": [],
   "source": [
    "X_train, X_test, y_train, y_test = train_test_split(\n",
    "    X, y, train_size=0.7, random_state=1)"
   ]
  },
  {
   "cell_type": "code",
   "execution_count": 9,
   "metadata": {
    "ExecuteTime": {
     "end_time": "2020-09-10T23:15:45.813355Z",
     "start_time": "2020-09-10T23:15:45.767127Z"
    }
   },
   "outputs": [],
   "source": [
    "feature_selector = SelectKBest(score_func=f_regression, k=3)"
   ]
  },
  {
   "cell_type": "markdown",
   "metadata": {},
   "source": [
    "Feature selector below uses a criterion called \"f_regression\", and selects the three best features according to that criterion."
   ]
  },
  {
   "cell_type": "code",
   "execution_count": 10,
   "metadata": {
    "ExecuteTime": {
     "end_time": "2020-09-10T23:15:45.888830Z",
     "start_time": "2020-09-10T23:15:45.826938Z"
    },
    "scrolled": true
   },
   "outputs": [
    {
     "data": {
      "text/plain": [
       "SelectKBest(k=3, score_func=<function f_regression at 0x1BABA460>)"
      ]
     },
     "execution_count": 10,
     "metadata": {},
     "output_type": "execute_result"
    }
   ],
   "source": [
    "feature_selector"
   ]
  },
  {
   "cell_type": "code",
   "execution_count": 11,
   "metadata": {
    "ExecuteTime": {
     "end_time": "2020-09-10T23:15:45.920507Z",
     "start_time": "2020-09-10T23:15:45.899378Z"
    }
   },
   "outputs": [],
   "source": [
    "from sklearn.linear_model import LinearRegression\n",
    "from sklearn.pipeline import make_pipeline"
   ]
  },
  {
   "cell_type": "markdown",
   "metadata": {},
   "source": [
    "Pipeline is first going to use feature_selector to select the 3 best features according to f_regression and then fit a LInear Regression model to it."
   ]
  },
  {
   "cell_type": "code",
   "execution_count": 12,
   "metadata": {
    "ExecuteTime": {
     "end_time": "2020-09-10T23:15:45.996931Z",
     "start_time": "2020-09-10T23:15:45.932506Z"
    }
   },
   "outputs": [],
   "source": [
    "lm = LinearRegression()"
   ]
  },
  {
   "cell_type": "code",
   "execution_count": 13,
   "metadata": {
    "ExecuteTime": {
     "end_time": "2020-09-10T23:15:46.029730Z",
     "start_time": "2020-09-10T23:15:46.005194Z"
    }
   },
   "outputs": [],
   "source": [
    "pl = make_pipeline(feature_selector, lm)"
   ]
  },
  {
   "cell_type": "code",
   "execution_count": 14,
   "metadata": {
    "ExecuteTime": {
     "end_time": "2020-09-10T23:15:46.068398Z",
     "start_time": "2020-09-10T23:15:46.034102Z"
    }
   },
   "outputs": [
    {
     "data": {
      "text/plain": [
       "Pipeline(steps=[('selectkbest',\n",
       "                 SelectKBest(k=3,\n",
       "                             score_func=<function f_regression at 0x1BABA460>)),\n",
       "                ('linearregression', LinearRegression())])"
      ]
     },
     "execution_count": 14,
     "metadata": {},
     "output_type": "execute_result"
    }
   ],
   "source": [
    "pl.fit(X_train, y_train)"
   ]
  },
  {
   "cell_type": "code",
   "execution_count": 15,
   "metadata": {
    "ExecuteTime": {
     "end_time": "2020-09-10T23:15:46.086899Z",
     "start_time": "2020-09-10T23:15:46.072604Z"
    }
   },
   "outputs": [
    {
     "data": {
      "text/plain": [
       "array([ 1.99766284, -2.09379528, -1.5218715 ])"
      ]
     },
     "execution_count": 15,
     "metadata": {},
     "output_type": "execute_result"
    }
   ],
   "source": [
    "lm.coef_"
   ]
  },
  {
   "cell_type": "code",
   "execution_count": 16,
   "metadata": {
    "ExecuteTime": {
     "end_time": "2020-09-10T23:15:46.104737Z",
     "start_time": "2020-09-10T23:15:46.091584Z"
    }
   },
   "outputs": [
    {
     "data": {
      "text/plain": [
       "0.007164358096600668"
      ]
     },
     "execution_count": 16,
     "metadata": {},
     "output_type": "execute_result"
    }
   ],
   "source": [
    "lm.intercept_"
   ]
  },
  {
   "cell_type": "code",
   "execution_count": 17,
   "metadata": {
    "ExecuteTime": {
     "end_time": "2020-09-10T23:15:46.146851Z",
     "start_time": "2020-09-10T23:15:46.111033Z"
    }
   },
   "outputs": [
    {
     "data": {
      "text/plain": [
       "0.8562958252685078"
      ]
     },
     "execution_count": 17,
     "metadata": {},
     "output_type": "execute_result"
    }
   ],
   "source": [
    "pl.score(X_train, y_train)"
   ]
  },
  {
   "cell_type": "markdown",
   "metadata": {},
   "source": [
    "We should take this and see how it scores on the test data."
   ]
  },
  {
   "cell_type": "code",
   "execution_count": 18,
   "metadata": {
    "ExecuteTime": {
     "end_time": "2020-09-10T23:15:46.164451Z",
     "start_time": "2020-09-10T23:15:46.150944Z"
    }
   },
   "outputs": [
    {
     "data": {
      "text/plain": [
       "0.8186188695223429"
      ]
     },
     "execution_count": 18,
     "metadata": {},
     "output_type": "execute_result"
    }
   ],
   "source": [
    "pl.score(X_test, y_test)"
   ]
  },
  {
   "cell_type": "markdown",
   "metadata": {},
   "source": [
    "Model does worse on testing then training thus slight evidence there might be over fitting.\n",
    "\n",
    "We would like to automate this."
   ]
  },
  {
   "cell_type": "code",
   "execution_count": 19,
   "metadata": {
    "ExecuteTime": {
     "end_time": "2020-09-10T23:15:46.188889Z",
     "start_time": "2020-09-10T23:15:46.169681Z"
    }
   },
   "outputs": [],
   "source": [
    "def make_k_best_features_f_regression_pipeline(X, y, num_features):\n",
    "    # split data into train/test\n",
    "    X_train, X_test, y_train, y_test = train_test_split(X, y,\n",
    "                                                        train_size=0.7,\n",
    "                                                        random_state=1)\n",
    "    # created SelectKBestFeatures object that used f-regression\n",
    "    feature_selector = SelectKBest(score_func=f_regression, k=num_features)\n",
    "\n",
    "    # Created a linearRegression object\n",
    "    lm = LinearRegression()\n",
    "    pl = make_pipeline(feature_selector,\n",
    "                       lm)\n",
    "\n",
    "    # fit data\n",
    "    pl.fit(X_train, y_train)\n",
    "\n",
    "    # Created a pipeline\n",
    "    return pl"
   ]
  },
  {
   "cell_type": "code",
   "execution_count": 20,
   "metadata": {
    "ExecuteTime": {
     "end_time": "2020-09-10T23:15:46.229967Z",
     "start_time": "2020-09-10T23:15:46.194515Z"
    }
   },
   "outputs": [
    {
     "data": {
      "text/plain": [
       "Pipeline(steps=[('selectkbest',\n",
       "                 SelectKBest(k=4,\n",
       "                             score_func=<function f_regression at 0x1BABA460>)),\n",
       "                ('linearregression', LinearRegression())])"
      ]
     },
     "execution_count": 20,
     "metadata": {},
     "output_type": "execute_result"
    }
   ],
   "source": [
    "make_k_best_features_f_regression_pipeline(X, y, 4)"
   ]
  },
  {
   "cell_type": "markdown",
   "metadata": {},
   "source": [
    "Now we are going to create a for loop to compare pipelines."
   ]
  },
  {
   "cell_type": "code",
   "execution_count": 27,
   "metadata": {
    "ExecuteTime": {
     "end_time": "2020-09-10T23:19:35.872140Z",
     "start_time": "2020-09-10T23:19:35.599409Z"
    },
    "scrolled": true
   },
   "outputs": [
    {
     "name": "stdout",
     "output_type": "stream",
     "text": [
      "With 1 features training set score is:  0.3686364807385255 \n",
      "            and the test set score is:  0.2602569314848532\n",
      "\n",
      "\n",
      "With 2 features training set score is:  0.6964040974121528 \n",
      "            and the test set score is:  0.6228953327159134\n",
      "\n",
      "\n",
      "With 3 features training set score is:  0.8562958252685078 \n",
      "            and the test set score is:  0.8186188695223429\n",
      "\n",
      "\n",
      "With 4 features training set score is:  0.926596512257632 \n",
      "            and the test set score is:  0.9188802144103643\n",
      "\n",
      "\n",
      "With 5 features training set score is:  0.9266398423325634 \n",
      "            and the test set score is:  0.9188404788951915\n",
      "\n",
      "\n",
      "With 6 features training set score is:  0.9266460620392583 \n",
      "            and the test set score is:  0.9187788457356857\n",
      "\n",
      "\n",
      "With 7 features training set score is:  0.9266461254408862 \n",
      "            and the test set score is:  0.9187548757770102\n",
      "\n",
      "\n",
      "With 8 features training set score is:  0.9266593717277892 \n",
      "            and the test set score is:  0.9188765912377325\n",
      "\n",
      "\n"
     ]
    }
   ],
   "source": [
    "for j in range(1, 9):\n",
    "    my_pl_w_j_features = make_k_best_features_f_regression_pipeline(X, y, j)\n",
    "\n",
    "    train_score_j = my_pl_w_j_features.score(X_train, y_train)\n",
    "    test_score_j = my_pl_w_j_features.score(X_test, y_test)\n",
    "\n",
    "    print(\"With \" + str(j) + \" features training set score is: \",\n",
    "          train_score_j, \"\\n            and the test set score is: \", test_score_j)\n",
    "    print(\"\\n\")"
   ]
  }
 ],
 "metadata": {
  "kernelspec": {
   "display_name": "Python 3",
   "language": "python",
   "name": "python3"
  },
  "language_info": {
   "codemirror_mode": {
    "name": "ipython",
    "version": 3
   },
   "file_extension": ".py",
   "mimetype": "text/x-python",
   "name": "python",
   "nbconvert_exporter": "python",
   "pygments_lexer": "ipython3",
   "version": "3.8.5"
  },
  "toc": {
   "base_numbering": 1,
   "nav_menu": {},
   "number_sections": true,
   "sideBar": true,
   "skip_h1_title": false,
   "title_cell": "Table of Contents",
   "title_sidebar": "Contents",
   "toc_cell": false,
   "toc_position": {},
   "toc_section_display": true,
   "toc_window_display": false
  }
 },
 "nbformat": 4,
 "nbformat_minor": 4
}
