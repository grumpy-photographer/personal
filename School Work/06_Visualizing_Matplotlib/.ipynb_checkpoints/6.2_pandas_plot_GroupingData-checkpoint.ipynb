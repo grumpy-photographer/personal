{
 "cells": [
  {
   "cell_type": "markdown",
   "metadata": {},
   "source": [
    "# 6.2 pandas *plot()* and *groupby()*: Grouping and Plotting Data\n",
    "\n",
    "- [Grouping on a Single Column](#Grouping-on-a-Single-Column)  \n",
    "  - [Group By *Type*, Apply *mean* calculation, for *MPG_City*](#Group-By-Type,-Apply-mean-calculation,-for-MPG_City)  \n",
    "  - [Group By *Type*, Apply *sum* calculation, for *Invoice*](#Group-By-Type,-Apply-sum-calculation,-for-Invoice)   \n",
    "  - [Group By Type, Apply count calculation, for Invoice](#Group-By-Type,-Apply-count-calculation,-for-Invoice)    \n",
    "  \n",
    "\n",
    "- [Sorting](#Sorting)  \n",
    "\n",
    "\n",
    "- [Calculations on Grouped Values](#Calculations-on-Grouped-Values)\n",
    "  \n",
    "    \n",
    "- [Grouping on One Column - Two Values](#Grouping-on-One-Column---Two-Values)    \n",
    "\n"
   ]
  },
  {
   "cell_type": "markdown",
   "metadata": {},
   "source": [
    "# Split-Apply-Combine.png"
   ]
  },
  {
   "cell_type": "markdown",
   "metadata": {},
   "source": [
    "![Split-Apply-Combine](Images/Split-Apply-Combine.png)"
   ]
  },
  {
   "cell_type": "code",
   "execution_count": 107,
   "metadata": {},
   "outputs": [],
   "source": [
    "import pandas as pd"
   ]
  },
  {
   "cell_type": "markdown",
   "metadata": {},
   "source": [
    "#### Read Data file"
   ]
  },
  {
   "cell_type": "code",
   "execution_count": 108,
   "metadata": {},
   "outputs": [
    {
     "data": {
      "text/html": [
       "<div>\n",
       "<style scoped>\n",
       "    .dataframe tbody tr th:only-of-type {\n",
       "        vertical-align: middle;\n",
       "    }\n",
       "\n",
       "    .dataframe tbody tr th {\n",
       "        vertical-align: top;\n",
       "    }\n",
       "\n",
       "    .dataframe thead th {\n",
       "        text-align: right;\n",
       "    }\n",
       "</style>\n",
       "<table border=\"1\" class=\"dataframe\">\n",
       "  <thead>\n",
       "    <tr style=\"text-align: right;\">\n",
       "      <th></th>\n",
       "      <th>Make</th>\n",
       "      <th>Model</th>\n",
       "      <th>Type</th>\n",
       "      <th>Origin</th>\n",
       "      <th>DriveTrain</th>\n",
       "      <th>MSRP</th>\n",
       "      <th>Invoice</th>\n",
       "      <th>EngineSize</th>\n",
       "      <th>Cylinders</th>\n",
       "      <th>Horsepower</th>\n",
       "      <th>MPG_City</th>\n",
       "      <th>MPG_Highway</th>\n",
       "      <th>Weight</th>\n",
       "      <th>Wheelbase</th>\n",
       "      <th>Length</th>\n",
       "    </tr>\n",
       "  </thead>\n",
       "  <tbody>\n",
       "    <tr>\n",
       "      <th>0</th>\n",
       "      <td>Acura</td>\n",
       "      <td>MDX</td>\n",
       "      <td>SUV</td>\n",
       "      <td>Asia</td>\n",
       "      <td>All</td>\n",
       "      <td>36945</td>\n",
       "      <td>33337</td>\n",
       "      <td>3.5</td>\n",
       "      <td>6.0</td>\n",
       "      <td>265</td>\n",
       "      <td>17</td>\n",
       "      <td>23</td>\n",
       "      <td>4451</td>\n",
       "      <td>106</td>\n",
       "      <td>189</td>\n",
       "    </tr>\n",
       "    <tr>\n",
       "      <th>1</th>\n",
       "      <td>Acura</td>\n",
       "      <td>RSX Type S 2dr</td>\n",
       "      <td>Sedan</td>\n",
       "      <td>Asia</td>\n",
       "      <td>Front</td>\n",
       "      <td>23820</td>\n",
       "      <td>21761</td>\n",
       "      <td>2.0</td>\n",
       "      <td>4.0</td>\n",
       "      <td>200</td>\n",
       "      <td>24</td>\n",
       "      <td>31</td>\n",
       "      <td>2778</td>\n",
       "      <td>101</td>\n",
       "      <td>172</td>\n",
       "    </tr>\n",
       "  </tbody>\n",
       "</table>\n",
       "</div>"
      ],
      "text/plain": [
       "    Make           Model   Type Origin DriveTrain   MSRP  Invoice  EngineSize  \\\n",
       "0  Acura             MDX    SUV   Asia        All  36945    33337         3.5   \n",
       "1  Acura  RSX Type S 2dr  Sedan   Asia      Front  23820    21761         2.0   \n",
       "\n",
       "   Cylinders  Horsepower  MPG_City  MPG_Highway  Weight  Wheelbase  Length  \n",
       "0        6.0         265        17           23    4451        106     189  \n",
       "1        4.0         200        24           31    2778        101     172  "
      ]
     },
     "execution_count": 108,
     "metadata": {},
     "output_type": "execute_result"
    }
   ],
   "source": [
    "#Read the csv file into a pandas dataframe\n",
    "df_Cars = pd.read_csv('Data/cars.csv')\n",
    "df_Cars.head(2)"
   ]
  },
  {
   "cell_type": "markdown",
   "metadata": {},
   "source": [
    "#### Cleanup Data Types as Needed"
   ]
  },
  {
   "cell_type": "code",
   "execution_count": 109,
   "metadata": {},
   "outputs": [
    {
     "data": {
      "text/plain": [
       "Make            object\n",
       "Model           object\n",
       "Type            object\n",
       "Origin          object\n",
       "DriveTrain      object\n",
       "MSRP             int64\n",
       "Invoice          int64\n",
       "EngineSize     float64\n",
       "Cylinders      float64\n",
       "Horsepower       int64\n",
       "MPG_City         int64\n",
       "MPG_Highway      int64\n",
       "Weight           int64\n",
       "Wheelbase        int64\n",
       "Length           int64\n",
       "dtype: object"
      ]
     },
     "execution_count": 109,
     "metadata": {},
     "output_type": "execute_result"
    }
   ],
   "source": [
    "# data types 'Before' \n",
    "df_Cars.dtypes"
   ]
  },
  {
   "cell_type": "code",
   "execution_count": 110,
   "metadata": {},
   "outputs": [],
   "source": [
    "# Convert MSRP and Invoice to floats\n",
    "df_Cars['MSRP'] = pd.to_numeric(df_Cars['MSRP']).astype(float)\n",
    "df_Cars['Invoice'] = pd.to_numeric(df_Cars['Invoice']).astype(float)\n",
    "\n",
    "df_Cars['MPG_City'] = pd.to_numeric(df_Cars['MPG_City']).astype(float)\n",
    "df_Cars['MPG_Highway'] = pd.to_numeric(df_Cars['MPG_Highway']).astype(float)"
   ]
  },
  {
   "cell_type": "code",
   "execution_count": 111,
   "metadata": {},
   "outputs": [
    {
     "data": {
      "text/plain": [
       "Make            object\n",
       "Model           object\n",
       "Type            object\n",
       "Origin          object\n",
       "DriveTrain      object\n",
       "MSRP           float64\n",
       "Invoice        float64\n",
       "EngineSize     float64\n",
       "Cylinders      float64\n",
       "Horsepower       int64\n",
       "MPG_City       float64\n",
       "MPG_Highway    float64\n",
       "Weight           int64\n",
       "Wheelbase        int64\n",
       "Length           int64\n",
       "dtype: object"
      ]
     },
     "execution_count": 111,
     "metadata": {},
     "output_type": "execute_result"
    }
   ],
   "source": [
    "# data types 'After' \n",
    "df_Cars.dtypes"
   ]
  },
  {
   "cell_type": "markdown",
   "metadata": {},
   "source": [
    "# Grouping on a Single Column  \n",
    "### Split, Apply and Combine  \n",
    "The *Apply* calculations we use the most are:\n",
    "  - mean()\n",
    "  - sum()  \n",
    "  - count()"
   ]
  },
  {
   "cell_type": "code",
   "execution_count": 112,
   "metadata": {},
   "outputs": [
    {
     "name": "stdout",
     "output_type": "stream",
     "text": [
      "0         SUV\n",
      "1       Sedan\n",
      "2       Sedan\n",
      "3       Sedan\n",
      "4       Sedan\n",
      "5       Sedan\n",
      "6      Sports\n",
      "7       Sedan\n",
      "8       Sedan\n",
      "9       Sedan\n",
      "10      Sedan\n",
      "11      Sedan\n",
      "12      Sedan\n",
      "13      Sedan\n",
      "14      Sedan\n",
      "15      Sedan\n",
      "16      Sedan\n",
      "17      Sedan\n",
      "18      Sedan\n",
      "19      Sedan\n",
      "20     Sports\n",
      "21     Sports\n",
      "22     Sports\n",
      "23     Sports\n",
      "24      Wagon\n",
      "25      Wagon\n",
      "26        SUV\n",
      "27        SUV\n",
      "28      Sedan\n",
      "29      Sedan\n",
      "        ...  \n",
      "398     Truck\n",
      "399     Truck\n",
      "400     Wagon\n",
      "401       SUV\n",
      "402     Sedan\n",
      "403     Sedan\n",
      "404     Sedan\n",
      "405     Sedan\n",
      "406     Sedan\n",
      "407     Sedan\n",
      "408     Sedan\n",
      "409     Sedan\n",
      "410     Sedan\n",
      "411     Sedan\n",
      "412     Sedan\n",
      "413     Wagon\n",
      "414     Wagon\n",
      "415     Wagon\n",
      "416       SUV\n",
      "417     Sedan\n",
      "418     Sedan\n",
      "419     Sedan\n",
      "420     Sedan\n",
      "421     Sedan\n",
      "422     Sedan\n",
      "423     Sedan\n",
      "424     Sedan\n",
      "425     Sedan\n",
      "426     Wagon\n",
      "427     Wagon\n",
      "Name: Type, Length: 428, dtype: object\n"
     ]
    }
   ],
   "source": [
    "# Display the unique values in the Type column\n",
    "print(df_Cars['Type'] )"
   ]
  },
  {
   "cell_type": "markdown",
   "metadata": {},
   "source": [
    "### Group By *Type*, Apply *mean* calculation, for *MPG_City*\n",
    "- Split by the *Type* column unqiue values  \n",
    "- Apply calculation to each split - Mean of *MPG_City*\n",
    "- Combine those calculations into a new pandas Series\n"
   ]
  },
  {
   "cell_type": "code",
   "execution_count": 113,
   "metadata": {},
   "outputs": [
    {
     "name": "stdout",
     "output_type": "stream",
     "text": [
      "<class 'pandas.core.series.Series'>\n"
     ]
    },
    {
     "data": {
      "text/plain": [
       "Type\n",
       "Hybrid    55.000000\n",
       "SUV       16.100000\n",
       "Sedan     21.083969\n",
       "Sports    18.408163\n",
       "Truck     16.500000\n",
       "Name: MPG_City, dtype: float64"
      ]
     },
     "execution_count": 113,
     "metadata": {},
     "output_type": "execute_result"
    }
   ],
   "source": [
    "# Means by Type: MPG_City\n",
    "#mpg_city_means_by_type = df_Cars.groupby(['Type']).mean()\n",
    "mpg_city_means_by_type = df_Cars.groupby(\"Type\")['MPG_City'].mean()\n",
    "\n",
    "print(type(mpg_city_means_by_type))\n",
    "mpg_city_means_by_type.head()"
   ]
  },
  {
   "cell_type": "code",
   "execution_count": 114,
   "metadata": {},
   "outputs": [
    {
     "data": {
      "text/plain": [
       "<matplotlib.axes._subplots.AxesSubplot at 0x197e6290>"
      ]
     },
     "execution_count": 114,
     "metadata": {},
     "output_type": "execute_result"
    },
    {
     "data": {
      "image/png": "[encoded data removed]",
      "text/plain": [
       "<Figure size 432x288 with 1 Axes>"
      ]
     },
     "metadata": {
      "needs_background": "light"
     },
     "output_type": "display_data"
    }
   ],
   "source": [
    "# Plot\n",
    "mpg_city_means_by_type.plot(title='Mean of MPG_City')"
   ]
  },
  {
   "cell_type": "markdown",
   "metadata": {},
   "source": [
    "### Group By *Type*, Apply *sum* calculation, for *Invoice*\n",
    "- Split by the *Type* column unique values  \n",
    "- Apply calculation to each split - sum of *Invoice*\n",
    "- Combine those calculations into a new pandas Series\n"
   ]
  },
  {
   "cell_type": "code",
   "execution_count": 115,
   "metadata": {},
   "outputs": [
    {
     "data": {
      "text/plain": [
       "Type\n",
       "Hybrid      55288.0\n",
       "SUV       1897521.0\n",
       "Sedan     7176127.0\n",
       "Sports    2375185.0\n",
       "Truck      542802.0\n",
       "Name: Invoice, dtype: float64"
      ]
     },
     "execution_count": 115,
     "metadata": {},
     "output_type": "execute_result"
    }
   ],
   "source": [
    "invoice_sums_by_type = df_Cars.groupby('Type')['Invoice'].sum()\n",
    "invoice_sums_by_type.head()"
   ]
  },
  {
   "cell_type": "code",
   "execution_count": 116,
   "metadata": {},
   "outputs": [
    {
     "data": {
      "text/plain": [
       "<matplotlib.axes._subplots.AxesSubplot at 0x19769db0>"
      ]
     },
     "execution_count": 116,
     "metadata": {},
     "output_type": "execute_result"
    },
    {
     "data": {
      "image/png": "[encoded data removed]",
      "text/plain": [
       "<Figure size 432x288 with 1 Axes>"
      ]
     },
     "metadata": {
      "needs_background": "light"
     },
     "output_type": "display_data"
    }
   ],
   "source": [
    "# Plot\n",
    "invoice_sums_by_type.plot.bar(title='Sum of Invoice by Car Type')"
   ]
  },
  {
   "cell_type": "markdown",
   "metadata": {},
   "source": [
    "### Group By *Type*, Apply *count* calculation, for *Invoice*\n",
    "- Split by the *Type* column unique values  \n",
    "- Apply calculation to each split - count of *Invoice*\n",
    "- Combine those calculations into a new pandas Series"
   ]
  },
  {
   "cell_type": "code",
   "execution_count": 117,
   "metadata": {
    "scrolled": false
   },
   "outputs": [
    {
     "data": {
      "text/plain": [
       "Type\n",
       "Hybrid      3\n",
       "SUV        60\n",
       "Sedan     262\n",
       "Sports     49\n",
       "Truck      24\n",
       "Name: Invoice, dtype: int64"
      ]
     },
     "execution_count": 117,
     "metadata": {},
     "output_type": "execute_result"
    }
   ],
   "source": [
    "invoice_counts_by_type = df_Cars.groupby('Type')['Invoice'].count()\n",
    "invoice_counts_by_type.head()"
   ]
  },
  {
   "cell_type": "code",
   "execution_count": 118,
   "metadata": {},
   "outputs": [
    {
     "data": {
      "text/plain": [
       "<matplotlib.axes._subplots.AxesSubplot at 0x198dcbd0>"
      ]
     },
     "execution_count": 118,
     "metadata": {},
     "output_type": "execute_result"
    },
    {
     "data": {
      "image/png": "[encoded data removed]",
      "text/plain": [
       "<Figure size 432x288 with 1 Axes>"
      ]
     },
     "metadata": {
      "needs_background": "light"
     },
     "output_type": "display_data"
    }
   ],
   "source": [
    "# Plot\n",
    "invoice_counts_by_type.plot.bar(title='Count of Cars by Car Type')"
   ]
  },
  {
   "cell_type": "markdown",
   "metadata": {},
   "source": [
    "# Sorting "
   ]
  },
  {
   "cell_type": "markdown",
   "metadata": {},
   "source": [
    "### Sorting by the *values* in the pandas Series"
   ]
  },
  {
   "cell_type": "code",
   "execution_count": 119,
   "metadata": {},
   "outputs": [
    {
     "data": {
      "text/plain": [
       "Type\n",
       "Hybrid      3\n",
       "Truck      24\n",
       "Wagon      30\n",
       "Sports     49\n",
       "SUV        60\n",
       "Sedan     262\n",
       "Name: Invoice, dtype: int64"
      ]
     },
     "execution_count": 119,
     "metadata": {},
     "output_type": "execute_result"
    }
   ],
   "source": [
    "# Sort the Counts: by the count values\n",
    "invoice_counts_by_type.sort_values(ascending=True, inplace=True)\n",
    "invoice_counts_by_type"
   ]
  },
  {
   "cell_type": "code",
   "execution_count": 120,
   "metadata": {},
   "outputs": [
    {
     "data": {
      "text/plain": [
       "<matplotlib.axes._subplots.AxesSubplot at 0x199166f0>"
      ]
     },
     "execution_count": 120,
     "metadata": {},
     "output_type": "execute_result"
    },
    {
     "data": {
      "image/png": "[encoded data removed]",
      "text/plain": [
       "<Figure size 432x288 with 1 Axes>"
      ]
     },
     "metadata": {
      "needs_background": "light"
     },
     "output_type": "display_data"
    }
   ],
   "source": [
    "# Plot\n",
    "invoice_counts_by_type.plot.bar(title='Count of Cars by Car Type')"
   ]
  },
  {
   "cell_type": "markdown",
   "metadata": {},
   "source": [
    "### Sorting by the *Index* of the pandas Series"
   ]
  },
  {
   "cell_type": "code",
   "execution_count": 121,
   "metadata": {},
   "outputs": [
    {
     "data": {
      "text/plain": [
       "Type\n",
       "Hybrid      3\n",
       "SUV        60\n",
       "Sedan     262\n",
       "Sports     49\n",
       "Truck      24\n",
       "Wagon      30\n",
       "Name: Invoice, dtype: int64"
      ]
     },
     "execution_count": 121,
     "metadata": {},
     "output_type": "execute_result"
    }
   ],
   "source": [
    "# Sort the Counts: by Types (alphabetically)\n",
    "invoice_counts_by_type.sort_index(ascending=True, inplace=True)\n",
    "invoice_counts_by_type"
   ]
  },
  {
   "cell_type": "code",
   "execution_count": 122,
   "metadata": {},
   "outputs": [
    {
     "data": {
      "text/plain": [
       "<matplotlib.axes._subplots.AxesSubplot at 0x1995e7b0>"
      ]
     },
     "execution_count": 122,
     "metadata": {},
     "output_type": "execute_result"
    },
    {
     "data": {
      "image/png": "[encoded data removed]",
      "text/plain": [
       "<Figure size 432x288 with 1 Axes>"
      ]
     },
     "metadata": {
      "needs_background": "light"
     },
     "output_type": "display_data"
    }
   ],
   "source": [
    "# Plot\n",
    "invoice_counts_by_type.plot.bar(title='Count of Cars by Car Type')"
   ]
  },
  {
   "cell_type": "markdown",
   "metadata": {},
   "source": [
    "# Calculations on Grouped Values Series"
   ]
  },
  {
   "cell_type": "code",
   "execution_count": 123,
   "metadata": {},
   "outputs": [
    {
     "name": "stdout",
     "output_type": "stream",
     "text": [
      "Sum of all the different types of cars:   428\n"
     ]
    }
   ],
   "source": [
    "sum = invoice_counts_by_type.sum()\n",
    "print(\"Sum of all the different types of cars:  \", sum)"
   ]
  },
  {
   "cell_type": "code",
   "execution_count": 129,
   "metadata": {},
   "outputs": [
    {
     "data": {
      "text/plain": [
       "Type\n",
       "Hybrid     0.700935\n",
       "SUV       14.018692\n",
       "Sedan     61.214953\n",
       "Sports    11.448598\n",
       "Truck      5.607477\n",
       "Wagon      7.009346\n",
       "Name: Invoice, dtype: float64"
      ]
     },
     "execution_count": 129,
     "metadata": {},
     "output_type": "execute_result"
    }
   ],
   "source": [
    "# Create a new series that shows percentage of total for each type\n",
    "type_percents = (invoice_counts_by_type / sum) * 100\n",
    "type_percents\n",
    "\n",
    "# Sort\n",
    "#type_percents\n",
    "#type_percents"
   ]
  },
  {
   "cell_type": "code",
   "execution_count": 130,
   "metadata": {},
   "outputs": [
    {
     "data": {
      "text/plain": [
       "Type\n",
       "Hybrid     1%\n",
       "SUV       14%\n",
       "Sedan     61%\n",
       "Sports    11%\n",
       "Truck      6%\n",
       "Wagon      7%\n",
       "Name: Invoice, dtype: object"
      ]
     },
     "execution_count": 130,
     "metadata": {},
     "output_type": "execute_result"
    }
   ],
   "source": [
    "# Create a new series that has nicely formated percentage values \n",
    "type_percents_formatted = type_percents.map('{:,.0f}%'.format)\n",
    "type_percents_formatted"
   ]
  },
  {
   "cell_type": "markdown",
   "metadata": {},
   "source": [
    "# Grouping on One Column - Two Values\n",
    "\n",
    "### Group By *Type*, Apply *mean* calculation, for *MPG_City* and *MPG_Highway* \n",
    "- Split by the *Type* column unqiue values  \n",
    "- Apply calculation to each split - mean of *MPG_City* and *MPG_Highway* \n",
    "- Combine those calculations into a new pandas Dataframe"
   ]
  },
  {
   "cell_type": "code",
   "execution_count": 135,
   "metadata": {},
   "outputs": [
    {
     "data": {
      "text/html": [
       "<div>\n",
       "<style scoped>\n",
       "    .dataframe tbody tr th:only-of-type {\n",
       "        vertical-align: middle;\n",
       "    }\n",
       "\n",
       "    .dataframe tbody tr th {\n",
       "        vertical-align: top;\n",
       "    }\n",
       "\n",
       "    .dataframe thead th {\n",
       "        text-align: right;\n",
       "    }\n",
       "</style>\n",
       "<table border=\"1\" class=\"dataframe\">\n",
       "  <thead>\n",
       "    <tr style=\"text-align: right;\">\n",
       "      <th></th>\n",
       "      <th>MPG_City</th>\n",
       "      <th>MPG_Highway</th>\n",
       "    </tr>\n",
       "    <tr>\n",
       "      <th>Type</th>\n",
       "      <th></th>\n",
       "      <th></th>\n",
       "    </tr>\n",
       "  </thead>\n",
       "  <tbody>\n",
       "    <tr>\n",
       "      <th>Hybrid</th>\n",
       "      <td>55.000000</td>\n",
       "      <td>56.000000</td>\n",
       "    </tr>\n",
       "    <tr>\n",
       "      <th>SUV</th>\n",
       "      <td>16.100000</td>\n",
       "      <td>20.500000</td>\n",
       "    </tr>\n",
       "    <tr>\n",
       "      <th>Sedan</th>\n",
       "      <td>21.083969</td>\n",
       "      <td>28.629771</td>\n",
       "    </tr>\n",
       "    <tr>\n",
       "      <th>Sports</th>\n",
       "      <td>18.408163</td>\n",
       "      <td>25.489796</td>\n",
       "    </tr>\n",
       "    <tr>\n",
       "      <th>Truck</th>\n",
       "      <td>16.500000</td>\n",
       "      <td>21.000000</td>\n",
       "    </tr>\n",
       "    <tr>\n",
       "      <th>Wagon</th>\n",
       "      <td>21.100000</td>\n",
       "      <td>27.900000</td>\n",
       "    </tr>\n",
       "  </tbody>\n",
       "</table>\n",
       "</div>"
      ],
      "text/plain": [
       "         MPG_City  MPG_Highway\n",
       "Type                          \n",
       "Hybrid  55.000000    56.000000\n",
       "SUV     16.100000    20.500000\n",
       "Sedan   21.083969    28.629771\n",
       "Sports  18.408163    25.489796\n",
       "Truck   16.500000    21.000000\n",
       "Wagon   21.100000    27.900000"
      ]
     },
     "execution_count": 135,
     "metadata": {},
     "output_type": "execute_result"
    }
   ],
   "source": [
    "# Group by Type on MPG_City and MPG_Highway:  mean\n",
    "df_mean_MPG_City_Highway = df_Cars.groupby(\"Type\")['MPG_City', 'MPG_Highway'].mean()\n",
    "df_mean_MPG_City_Highway"
   ]
  },
  {
   "cell_type": "code",
   "execution_count": 136,
   "metadata": {},
   "outputs": [
    {
     "data": {
      "text/plain": [
       "pandas.core.frame.DataFrame"
      ]
     },
     "execution_count": 136,
     "metadata": {},
     "output_type": "execute_result"
    }
   ],
   "source": [
    "type(df_mean_MPG_City_Highway)"
   ]
  },
  {
   "cell_type": "code",
   "execution_count": 137,
   "metadata": {
    "scrolled": true
   },
   "outputs": [
    {
     "data": {
      "text/plain": [
       "<matplotlib.axes._subplots.AxesSubplot at 0x1d3ba2b0>"
      ]
     },
     "execution_count": 137,
     "metadata": {},
     "output_type": "execute_result"
    },
    {
     "data": {
      "image/png": "[encoded data removed]",
      "text/plain": [
       "<Figure size 432x288 with 1 Axes>"
      ]
     },
     "metadata": {
      "needs_background": "light"
     },
     "output_type": "display_data"
    }
   ],
   "source": [
    "# plot\n",
    "df_mean_MPG_City_Highway.plot.bar(title='Bar Chart: City and Hwy MPG by Car Type')"
   ]
  },
  {
   "cell_type": "code",
   "execution_count": null,
   "metadata": {},
   "outputs": [],
   "source": []
  }
 ],
 "metadata": {
  "kernelspec": {
   "display_name": "Python 3",
   "language": "python",
   "name": "python3"
  },
  "language_info": {
   "codemirror_mode": {
    "name": "ipython",
    "version": 3
   },
   "file_extension": ".py",
   "mimetype": "text/x-python",
   "name": "python",
   "nbconvert_exporter": "python",
   "pygments_lexer": "ipython3",
   "version": "3.7.0"
  }
 },
 "nbformat": 4,
 "nbformat_minor": 2
}
