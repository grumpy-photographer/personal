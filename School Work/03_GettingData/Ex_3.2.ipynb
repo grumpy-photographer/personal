{
 "cells": [
  {
   "cell_type": "markdown",
   "metadata": {},
   "source": [
    "# Ex 3.2 *pandas* Dataframes: Info and Appending    \n",
    "\n",
    "- **In Class**  \n",
    "  - [Reading and Exploring the Household Data Source](#In-Class:-Reading-and-Exploring-the-Household-Data-Source)  \n",
    "  - [Save the Household Dataframe as a Pickle File](#In-Class:-Save-the-Household-Dataframe--as-a-Pickle-File)  \n",
    "  - [In Class: Append September data to the July/Aug data](#In-Class:-Append-September-data-to-the-July/Aug-data)\n",
    "\n",
    "\n",
    "\n",
    "- **Exercise 3.2**  \n",
    "  - [Part 1: Read and Pickle - 02.2_Task_SmallData.xlsx](#Part-1:-Read-and-Pickle---02.2_Task_SmallData.xlsx) \n",
    "  - [Part 2: Read and Pickle - w3schools_Data.xlsx - Orders](#Part-2:-Read-and-Pickle---w3schools_Data.xlsx---Orders) \n",
    "  - [Part 3: Append Two Dataframes and Pickle](#Part-3:-Append-Two-Dataframes-and-Pickle)\n",
    "\n",
    "\n",
    "- **Data Files Required**  \n",
    "  - Data_Household.xlsx  \n",
    "  - df_Appended_8_2011.pkl \n",
    "  - mnth9_2011.csv  \n",
    "  - 02.2_Task_SmallData.xlsx\n",
    "  - w3schools_Data.xlsx\n",
    "  - g20141ca.xlsx    \n",
    "  - g20141or.xlsx"
   ]
  },
  {
   "cell_type": "code",
   "execution_count": 118,
   "metadata": {},
   "outputs": [],
   "source": [
    "#Import pandas \n",
    "import pandas as pd"
   ]
  },
  {
   "cell_type": "markdown",
   "metadata": {},
   "source": [
    "# In Class: Reading and Exploring the *Household* Data Source  \n",
    "Data Source: **Data_Household.xlsx**  \n",
    "Worksheet:   **Data_Household**\n",
    "\n",
    "Add code to the cells below to answer the following questions:  \n",
    "1. How many rows and columns do we have in the Dataframe?  \n",
    "2. What are the datatypes of the columns  \n",
    "3. Show some statistical stats for the columns in the dataframe  \n",
    "\n",
    "Note: Each cell should have the question (with number) as a comment at the top."
   ]
  },
  {
   "cell_type": "code",
   "execution_count": 119,
   "metadata": {},
   "outputs": [
    {
     "data": {
      "text/plain": [
       "Month       object\n",
       "Category    object\n",
       "Amount       int64\n",
       "dtype: object"
      ]
     },
     "execution_count": 119,
     "metadata": {},
     "output_type": "execute_result"
    }
   ],
   "source": [
    "# Read the Excel spreadsheet into a pandas dataframe\n",
    "# Set path to Excel file\n",
    "file = 'Data//Data_Household.xlsx'\n",
    "\n",
    "# Read the Excel file\n",
    "df = pd.read_excel('Data//Data_Household.xlsx')\n",
    "\n",
    "# Display dataframe\n",
    "df.dtypes"
   ]
  },
  {
   "cell_type": "code",
   "execution_count": 120,
   "metadata": {},
   "outputs": [
    {
     "name": "stdout",
     "output_type": "stream",
     "text": [
      "Number of columns : 3\n"
     ]
    }
   ],
   "source": [
    "# Question:  1. How many rows and columns do we have in the Dataframe? \n",
    "print(\"Number of columns :\", df.shape[1])\n"
   ]
  },
  {
   "cell_type": "code",
   "execution_count": 121,
   "metadata": {},
   "outputs": [
    {
     "data": {
      "text/plain": [
       "Month       object\n",
       "Category    object\n",
       "Amount       int64\n",
       "dtype: object"
      ]
     },
     "execution_count": 121,
     "metadata": {},
     "output_type": "execute_result"
    }
   ],
   "source": [
    "# Questions:  \n",
    "# 2. What are the datatypes of the columns  \n",
    "df.dtypes"
   ]
  },
  {
   "cell_type": "code",
   "execution_count": 122,
   "metadata": {},
   "outputs": [
    {
     "data": {
      "text/html": [
       "<div>\n",
       "<style scoped>\n",
       "    .dataframe tbody tr th:only-of-type {\n",
       "        vertical-align: middle;\n",
       "    }\n",
       "\n",
       "    .dataframe tbody tr th {\n",
       "        vertical-align: top;\n",
       "    }\n",
       "\n",
       "    .dataframe thead th {\n",
       "        text-align: right;\n",
       "    }\n",
       "</style>\n",
       "<table border=\"1\" class=\"dataframe\">\n",
       "  <thead>\n",
       "    <tr style=\"text-align: right;\">\n",
       "      <th></th>\n",
       "      <th>Amount</th>\n",
       "    </tr>\n",
       "  </thead>\n",
       "  <tbody>\n",
       "    <tr>\n",
       "      <th>count</th>\n",
       "      <td>12.000000</td>\n",
       "    </tr>\n",
       "    <tr>\n",
       "      <th>mean</th>\n",
       "      <td>163.250000</td>\n",
       "    </tr>\n",
       "    <tr>\n",
       "      <th>std</th>\n",
       "      <td>66.533826</td>\n",
       "    </tr>\n",
       "    <tr>\n",
       "      <th>min</th>\n",
       "      <td>74.000000</td>\n",
       "    </tr>\n",
       "    <tr>\n",
       "      <th>25%</th>\n",
       "      <td>111.250000</td>\n",
       "    </tr>\n",
       "    <tr>\n",
       "      <th>50%</th>\n",
       "      <td>150.000000</td>\n",
       "    </tr>\n",
       "    <tr>\n",
       "      <th>75%</th>\n",
       "      <td>227.500000</td>\n",
       "    </tr>\n",
       "    <tr>\n",
       "      <th>max</th>\n",
       "      <td>260.000000</td>\n",
       "    </tr>\n",
       "  </tbody>\n",
       "</table>\n",
       "</div>"
      ],
      "text/plain": [
       "           Amount\n",
       "count   12.000000\n",
       "mean   163.250000\n",
       "std     66.533826\n",
       "min     74.000000\n",
       "25%    111.250000\n",
       "50%    150.000000\n",
       "75%    227.500000\n",
       "max    260.000000"
      ]
     },
     "execution_count": 122,
     "metadata": {},
     "output_type": "execute_result"
    }
   ],
   "source": [
    "# 3. Show some stats (count, mean, std, ...) for the numeric column in the dataframe\n",
    "df.describe()"
   ]
  },
  {
   "cell_type": "markdown",
   "metadata": {},
   "source": [
    "### Exploring the Household Dataframe  Columns  \n",
    "Create cells below to answer the following questions:  \n",
    "1. How many unique values are in the Month column?    \n",
    "2. What are the unique values in the Month column?  \n",
    "3. How many unique values are in the Category column?   \n",
    "4. What are the unique values in the Category column?  \n",
    "\n",
    "\n",
    "\n",
    "Note: Each cell should have the question (with number) as a comment at the top."
   ]
  },
  {
   "cell_type": "code",
   "execution_count": 123,
   "metadata": {},
   "outputs": [
    {
     "data": {
      "text/plain": [
       "array(['January', 'February', 'March'], dtype=object)"
      ]
     },
     "execution_count": 123,
     "metadata": {},
     "output_type": "execute_result"
    }
   ],
   "source": [
    "# 1. Display unique values are in the Month column\n",
    "df.Month.unique()"
   ]
  },
  {
   "cell_type": "code",
   "execution_count": 124,
   "metadata": {},
   "outputs": [
    {
     "data": {
      "text/plain": [
       "array(['Transportation', 'Grocery', 'Household', 'Entertainment'],\n",
       "      dtype=object)"
      ]
     },
     "execution_count": 124,
     "metadata": {},
     "output_type": "execute_result"
    }
   ],
   "source": [
    "# 4. Display unique values are in the Category column\n",
    "df.Category.unique()"
   ]
  },
  {
   "cell_type": "markdown",
   "metadata": {},
   "source": [
    "# In Class: Save the Household Dataframe  as a Pickle File    \n",
    "1. Save the Household dataframe as a pickle file in the Data folder of your repo  \n",
    "2. Read the pickle file back into a new test dataframe \n",
    "3. Display the new dataframe to make sure it's correct"
   ]
  },
  {
   "cell_type": "code",
   "execution_count": 125,
   "metadata": {},
   "outputs": [],
   "source": [
    "# 1. Save the Household dataframe as a pickle file in the Data folder of your repo \n",
    "df.to_pickle('./Data/Data_Household.pkl')"
   ]
  },
  {
   "cell_type": "code",
   "execution_count": 126,
   "metadata": {},
   "outputs": [],
   "source": [
    "# 2. Read the pickle file back into a new test dataframe\n",
    "df_test =  pd.read_pickle('./Data/Data_Household.pkl')"
   ]
  },
  {
   "cell_type": "code",
   "execution_count": 127,
   "metadata": {},
   "outputs": [
    {
     "data": {
      "text/html": [
       "<div>\n",
       "<style scoped>\n",
       "    .dataframe tbody tr th:only-of-type {\n",
       "        vertical-align: middle;\n",
       "    }\n",
       "\n",
       "    .dataframe tbody tr th {\n",
       "        vertical-align: top;\n",
       "    }\n",
       "\n",
       "    .dataframe thead th {\n",
       "        text-align: right;\n",
       "    }\n",
       "</style>\n",
       "<table border=\"1\" class=\"dataframe\">\n",
       "  <thead>\n",
       "    <tr style=\"text-align: right;\">\n",
       "      <th></th>\n",
       "      <th>Month</th>\n",
       "      <th>Category</th>\n",
       "      <th>Amount</th>\n",
       "    </tr>\n",
       "  </thead>\n",
       "  <tbody>\n",
       "    <tr>\n",
       "      <th>0</th>\n",
       "      <td>January</td>\n",
       "      <td>Transportation</td>\n",
       "      <td>74</td>\n",
       "    </tr>\n",
       "    <tr>\n",
       "      <th>1</th>\n",
       "      <td>January</td>\n",
       "      <td>Grocery</td>\n",
       "      <td>235</td>\n",
       "    </tr>\n",
       "    <tr>\n",
       "      <th>2</th>\n",
       "      <td>January</td>\n",
       "      <td>Household</td>\n",
       "      <td>175</td>\n",
       "    </tr>\n",
       "    <tr>\n",
       "      <th>3</th>\n",
       "      <td>January</td>\n",
       "      <td>Entertainment</td>\n",
       "      <td>100</td>\n",
       "    </tr>\n",
       "    <tr>\n",
       "      <th>4</th>\n",
       "      <td>February</td>\n",
       "      <td>Transportation</td>\n",
       "      <td>115</td>\n",
       "    </tr>\n",
       "  </tbody>\n",
       "</table>\n",
       "</div>"
      ],
      "text/plain": [
       "      Month        Category  Amount\n",
       "0   January  Transportation      74\n",
       "1   January         Grocery     235\n",
       "2   January       Household     175\n",
       "3   January   Entertainment     100\n",
       "4  February  Transportation     115"
      ]
     },
     "execution_count": 127,
     "metadata": {},
     "output_type": "execute_result"
    }
   ],
   "source": [
    "# 3. Display the new dataframe to make sure it's correct\n",
    "df_test.head()"
   ]
  },
  {
   "cell_type": "markdown",
   "metadata": {},
   "source": [
    "# In Class: Append September data to the July/Aug data  \n",
    "1. [Load prior Appended data in a pickle file into a Dataframe](#1.-Load-prior-Appended-data-in-a-pickle-file-into-a-Dataframe)  \n",
    "2. [Read new csv data (to append) into a Dataframe](#2.-Read-new-csv-data-(to-append)-into-a-Dataframe:--mnth9_2011.csv)  \n",
    "3. [Append df_mnth9_2011 to df_Appended_8_2011](#3.-Append-df_mnth9_2011-to-df_Appended_8_2011)\n",
    "4. [Save the appended dataframe as a new pickle file](#4.-Save-the-appended-dataframe-as-a-new-pickle-file)"
   ]
  },
  {
   "cell_type": "markdown",
   "metadata": {},
   "source": [
    "### 1. Load prior Appended data in a pickle file into a Dataframe\n",
    "Should have:  \n",
    "- Number of Rows:   22  \n",
    "- Number of Columns:   6"
   ]
  },
  {
   "cell_type": "code",
   "execution_count": 128,
   "metadata": {},
   "outputs": [],
   "source": [
    "# Read the pickle file containing the appended July and August data (df_Appended_8_2011.pkl)\n",
    "df = pd.read_pickle('./Data/df_Appended_8_2011.pkl')"
   ]
  },
  {
   "cell_type": "code",
   "execution_count": 129,
   "metadata": {},
   "outputs": [
    {
     "name": "stdout",
     "output_type": "stream",
     "text": [
      "Number of rows:  22\n",
      "Number of columns:  6\n"
     ]
    }
   ],
   "source": [
    "# Display number of rows and columns and double-check those are correct numbers\n",
    "print(\"Number of rows: \", df.shape[0])\n",
    "print(\"Number of columns: \", df.shape[1])\n"
   ]
  },
  {
   "cell_type": "markdown",
   "metadata": {},
   "source": [
    "###  2. Read new csv data (to append) into a Dataframe:  *mnth9_2011.csv*  \n",
    "- Filename:  mnth9_2011.csv\n",
    "- Number of Rows:   10\n",
    "- Number of Columns:   6"
   ]
  },
  {
   "cell_type": "code",
   "execution_count": 130,
   "metadata": {},
   "outputs": [],
   "source": [
    "#Read the mnth9_2011.csv file into a pandas dataframe\n",
    "df_mnth9_2011 = pd.read_csv('Data//mnth9_2011.csv')"
   ]
  },
  {
   "cell_type": "code",
   "execution_count": 131,
   "metadata": {},
   "outputs": [
    {
     "name": "stdout",
     "output_type": "stream",
     "text": [
      "Number of rows:  10\n",
      "Number of rows:  6\n"
     ]
    }
   ],
   "source": [
    "# Display number of rows and columns and double-check those are correct numbers\n",
    "print(\"Number of rows: \", df_mnth9_2011.shape[0])\n",
    "print(\"Number of rows: \", df_mnth9_2011.shape[1])"
   ]
  },
  {
   "cell_type": "code",
   "execution_count": 132,
   "metadata": {},
   "outputs": [
    {
     "data": {
      "text/html": [
       "<div>\n",
       "<style scoped>\n",
       "    .dataframe tbody tr th:only-of-type {\n",
       "        vertical-align: middle;\n",
       "    }\n",
       "\n",
       "    .dataframe tbody tr th {\n",
       "        vertical-align: top;\n",
       "    }\n",
       "\n",
       "    .dataframe thead th {\n",
       "        text-align: right;\n",
       "    }\n",
       "</style>\n",
       "<table border=\"1\" class=\"dataframe\">\n",
       "  <thead>\n",
       "    <tr style=\"text-align: right;\">\n",
       "      <th></th>\n",
       "      <th>Order_ID</th>\n",
       "      <th>Order_Type</th>\n",
       "      <th>Employee_ID</th>\n",
       "      <th>Customer_ID</th>\n",
       "      <th>Order_Date</th>\n",
       "      <th>Delivery_Date</th>\n",
       "    </tr>\n",
       "  </thead>\n",
       "  <tbody>\n",
       "    <tr>\n",
       "      <th>0</th>\n",
       "      <td>1243269405</td>\n",
       "      <td>2</td>\n",
       "      <td>99999999</td>\n",
       "      <td>928</td>\n",
       "      <td>04SEP2011</td>\n",
       "      <td>08SEP2011</td>\n",
       "    </tr>\n",
       "    <tr>\n",
       "      <th>1</th>\n",
       "      <td>1243279343</td>\n",
       "      <td>3</td>\n",
       "      <td>99999999</td>\n",
       "      <td>27</td>\n",
       "      <td>05SEP2011</td>\n",
       "      <td>10SEP2011</td>\n",
       "    </tr>\n",
       "    <tr>\n",
       "      <th>2</th>\n",
       "      <td>1243290080</td>\n",
       "      <td>1</td>\n",
       "      <td>121057</td>\n",
       "      <td>31</td>\n",
       "      <td>06SEP2011</td>\n",
       "      <td>06SEP2011</td>\n",
       "    </tr>\n",
       "  </tbody>\n",
       "</table>\n",
       "</div>"
      ],
      "text/plain": [
       "     Order_ID  Order_Type  Employee_ID  Customer_ID Order_Date Delivery_Date\n",
       "0  1243269405           2     99999999          928  04SEP2011     08SEP2011\n",
       "1  1243279343           3     99999999           27  05SEP2011     10SEP2011\n",
       "2  1243290080           1       121057           31  06SEP2011     06SEP2011"
      ]
     },
     "execution_count": 132,
     "metadata": {},
     "output_type": "execute_result"
    }
   ],
   "source": [
    "#Display the first three rows in the dataframe\n",
    "df_mnth9_2011.head(3)"
   ]
  },
  {
   "cell_type": "markdown",
   "metadata": {},
   "source": [
    "### 3. Append df_mnth9_2011 to df_Appended_8_2011 \n",
    "After appending should end up with:  \n",
    "- Number of Rows:   22 + 10 = 32  \n",
    "- Number of Columns:   6"
   ]
  },
  {
   "cell_type": "code",
   "execution_count": 133,
   "metadata": {},
   "outputs": [],
   "source": [
    "# Append df_mnth9_2011 to df_Appended_8_2011\n",
    "df_Appended_9_2011 = df_mnth9_2011.append(df, ignore_index=True)"
   ]
  },
  {
   "cell_type": "code",
   "execution_count": 134,
   "metadata": {},
   "outputs": [
    {
     "name": "stdout",
     "output_type": "stream",
     "text": [
      "Number of rows:  32\n",
      "Number of columns:  6\n"
     ]
    }
   ],
   "source": [
    "# Append check for df_Appended_9_2011\n",
    "print(\"Number of rows: \", df_Appended_9_2011.shape[0])\n",
    "print(\"Number of columns: \", df_Appended_9_2011.shape[1])\n"
   ]
  },
  {
   "cell_type": "markdown",
   "metadata": {},
   "source": [
    "### 4. Save the appended dataframe as a new pickle file"
   ]
  },
  {
   "cell_type": "code",
   "execution_count": 135,
   "metadata": {},
   "outputs": [],
   "source": [
    "# Save the Appended Dataframe as a Pickle file\n",
    "import pickle\n",
    "\n",
    "# Save the df dataframe as a pickle file in the Data folder\n",
    "df_Appended_9_2011.to_pickle('./Data/df_Appended_9_2011.pkl')"
   ]
  },
  {
   "cell_type": "code",
   "execution_count": 136,
   "metadata": {},
   "outputs": [
    {
     "name": "stdout",
     "output_type": "stream",
     "text": [
      "Number of rows:  32\n",
      "Number of columns:  6\n"
     ]
    }
   ],
   "source": [
    "# Check that the pickle file has the correct number of rows and columns\n",
    "# Read (unpickle) the saved pickle data frame \n",
    "df_pickle_test = pd.read_pickle('./Data/df_Appended_9_2011.pkl')\n",
    "\n",
    "# Display number of rows and columns and double-check those are correct numbers\n",
    "print(\"Number of rows: \", df_pickle_test.shape[0])\n",
    "print(\"Number of columns: \", df_pickle_test.shape[1])\n"
   ]
  },
  {
   "cell_type": "markdown",
   "metadata": {},
   "source": [
    "# Exercise 3.2  "
   ]
  },
  {
   "cell_type": "markdown",
   "metadata": {},
   "source": [
    "# Part 1: Read and Pickle - 02.2_Task_SmallData.xlsx\n",
    "- Data source:  **02.2_Task_SmallData.xlsx** Excel file  \n",
    "- Worksheet:  *Large Data*   \n",
    "\n",
    "\n",
    "1. Name the pandas dataframe:  *df_large_data*  \n",
    "2. Display the number of rows and columns in the dataframe  \n",
    "3. Display the data types of the columns in the dataframe  \n",
    "4. Save the dataframe as a pickle file with the same name (except file extension) as the source data file"
   ]
  },
  {
   "cell_type": "code",
   "execution_count": 137,
   "metadata": {},
   "outputs": [
    {
     "data": {
      "text/plain": [
       "['Small Data', 'Large Data']"
      ]
     },
     "execution_count": 137,
     "metadata": {},
     "output_type": "execute_result"
    }
   ],
   "source": [
    "# Locate file\n",
    "file = 'Data//02.2_Task_SmallData.xlsx'\n",
    "\n",
    "# Read file\n",
    "df_large_data = pd.ExcelFile('Data//02.2_Task_SmallData.xlsx')\n",
    "\n",
    "# Find worksheet\n",
    "df_large_data.sheet_names"
   ]
  },
  {
   "cell_type": "code",
   "execution_count": 138,
   "metadata": {},
   "outputs": [
    {
     "data": {
      "text/html": [
       "<div>\n",
       "<style scoped>\n",
       "    .dataframe tbody tr th:only-of-type {\n",
       "        vertical-align: middle;\n",
       "    }\n",
       "\n",
       "    .dataframe tbody tr th {\n",
       "        vertical-align: top;\n",
       "    }\n",
       "\n",
       "    .dataframe thead th {\n",
       "        text-align: right;\n",
       "    }\n",
       "</style>\n",
       "<table border=\"1\" class=\"dataframe\">\n",
       "  <thead>\n",
       "    <tr style=\"text-align: right;\">\n",
       "      <th></th>\n",
       "      <th>OrderID</th>\n",
       "      <th>Order Date</th>\n",
       "      <th>Product</th>\n",
       "      <th>Size (US)</th>\n",
       "      <th>Colour</th>\n",
       "      <th>Price ($)</th>\n",
       "      <th>Store</th>\n",
       "      <th>Returned</th>\n",
       "      <th>Gender</th>\n",
       "    </tr>\n",
       "  </thead>\n",
       "  <tbody>\n",
       "    <tr>\n",
       "      <th>0</th>\n",
       "      <td>1</td>\n",
       "      <td>2015-01-02</td>\n",
       "      <td>Boots</td>\n",
       "      <td>7</td>\n",
       "      <td>Gold</td>\n",
       "      <td>25</td>\n",
       "      <td>California</td>\n",
       "      <td>Yes</td>\n",
       "      <td>Female</td>\n",
       "    </tr>\n",
       "    <tr>\n",
       "      <th>1</th>\n",
       "      <td>2</td>\n",
       "      <td>2015-01-02</td>\n",
       "      <td>Boots</td>\n",
       "      <td>4</td>\n",
       "      <td>Black</td>\n",
       "      <td>25</td>\n",
       "      <td>New York</td>\n",
       "      <td>NaN</td>\n",
       "      <td>Female</td>\n",
       "    </tr>\n",
       "    <tr>\n",
       "      <th>2</th>\n",
       "      <td>3</td>\n",
       "      <td>2015-01-02</td>\n",
       "      <td>Boots</td>\n",
       "      <td>6</td>\n",
       "      <td>Red</td>\n",
       "      <td>25</td>\n",
       "      <td>Georgia</td>\n",
       "      <td>NaN</td>\n",
       "      <td>Female</td>\n",
       "    </tr>\n",
       "    <tr>\n",
       "      <th>3</th>\n",
       "      <td>4</td>\n",
       "      <td>2015-01-03</td>\n",
       "      <td>House Slippers</td>\n",
       "      <td>11</td>\n",
       "      <td>Black</td>\n",
       "      <td>8</td>\n",
       "      <td>Internet</td>\n",
       "      <td>NaN</td>\n",
       "      <td>Female</td>\n",
       "    </tr>\n",
       "    <tr>\n",
       "      <th>4</th>\n",
       "      <td>5</td>\n",
       "      <td>2015-01-03</td>\n",
       "      <td>Boots</td>\n",
       "      <td>6</td>\n",
       "      <td>Silver</td>\n",
       "      <td>25</td>\n",
       "      <td>California</td>\n",
       "      <td>NaN</td>\n",
       "      <td>Female</td>\n",
       "    </tr>\n",
       "  </tbody>\n",
       "</table>\n",
       "</div>"
      ],
      "text/plain": [
       "   OrderID Order Date         Product  Size (US)  Colour  Price ($)  \\\n",
       "0        1 2015-01-02           Boots          7    Gold         25   \n",
       "1        2 2015-01-02           Boots          4   Black         25   \n",
       "2        3 2015-01-02           Boots          6     Red         25   \n",
       "3        4 2015-01-03  House Slippers         11   Black          8   \n",
       "4        5 2015-01-03           Boots          6  Silver         25   \n",
       "\n",
       "        Store Returned  Gender  \n",
       "0  California      Yes  Female  \n",
       "1    New York      NaN  Female  \n",
       "2     Georgia      NaN  Female  \n",
       "3    Internet      NaN  Female  \n",
       "4  California      NaN  Female  "
      ]
     },
     "execution_count": 138,
     "metadata": {},
     "output_type": "execute_result"
    }
   ],
   "source": [
    "# Filter to Large Data\n",
    "df_large_data_categories = pd.read_excel(file, 'Large Data')\n",
    "df_large_data_categories.head()"
   ]
  },
  {
   "cell_type": "code",
   "execution_count": 139,
   "metadata": {},
   "outputs": [
    {
     "name": "stdout",
     "output_type": "stream",
     "text": [
      "Number of rows:  1000\n",
      "Number of columns:  9\n"
     ]
    }
   ],
   "source": [
    "# Display the number of rows and columns in the dataframe\n",
    "print(\"Number of rows: \", df_large_data_categories.shape[0])\n",
    "print(\"Number of columns: \", df_large_data_categories.shape[1])"
   ]
  },
  {
   "cell_type": "code",
   "execution_count": 140,
   "metadata": {},
   "outputs": [
    {
     "data": {
      "text/plain": [
       "OrderID                int64\n",
       "Order Date    datetime64[ns]\n",
       "Product               object\n",
       "Size (US)              int64\n",
       "Colour                object\n",
       "Price ($)              int64\n",
       "Store                 object\n",
       "Returned              object\n",
       "Gender                object\n",
       "dtype: object"
      ]
     },
     "execution_count": 140,
     "metadata": {},
     "output_type": "execute_result"
    }
   ],
   "source": [
    "# Display the data types of the columns in the dataframe\n",
    "df_large_data_categories.dtypes"
   ]
  },
  {
   "cell_type": "code",
   "execution_count": 141,
   "metadata": {},
   "outputs": [],
   "source": [
    "# Save the dataframe as a pickle file with the same name (except file extension) as the source data file\n",
    "df_large_data_categories.to_pickle('./Data/02.2_Task_SmallData.pkl')"
   ]
  },
  {
   "cell_type": "markdown",
   "metadata": {},
   "source": [
    "# Part 2: Read and Pickle - w3schools_Data.xlsx - Orders\n",
    "- Data source:  **w3schools_Data.xlsx** Excel file  \n",
    "- Worksheet:  *Orders*   \n",
    "\n",
    "\n",
    "1. Name the pandas dataframe:  *df_Orders*  \n",
    "2. Display the number of rows and columns in the dataframe  \n",
    "3. Display the data types of the columns in the dataframe  \n",
    "4. Save the dataframe as a pickle file with the same name (except file extension) as the source data file"
   ]
  },
  {
   "cell_type": "code",
   "execution_count": 142,
   "metadata": {},
   "outputs": [],
   "source": [
    "# Get file\n",
    "file = 'Data//w3schools_Data.xlsx'\n",
    "\n",
    "# Read file\n",
    "df_Orders = pd.read_excel('Data//w3schools_Data.xlsx')"
   ]
  },
  {
   "cell_type": "code",
   "execution_count": 143,
   "metadata": {},
   "outputs": [
    {
     "name": "stdout",
     "output_type": "stream",
     "text": [
      "Number of rows:  95\n",
      "Number of columns:  7\n"
     ]
    }
   ],
   "source": [
    "# Display the number of rows and columns in the dataframes\n",
    "print(\"Number of rows: \", df_Orders.shape[0])\n",
    "print(\"Number of columns: \", df_Orders.shape[1])"
   ]
  },
  {
   "cell_type": "code",
   "execution_count": 144,
   "metadata": {},
   "outputs": [
    {
     "data": {
      "text/plain": [
       "Customers Table    object\n",
       "Unnamed: 1         object\n",
       "Unnamed: 2         object\n",
       "Unnamed: 3         object\n",
       "Unnamed: 4         object\n",
       "Unnamed: 5         object\n",
       "Unnamed: 6         object\n",
       "dtype: object"
      ]
     },
     "execution_count": 144,
     "metadata": {},
     "output_type": "execute_result"
    }
   ],
   "source": [
    "# Display the data types of the columns in the dataframe\n",
    "df_Orders.dtypes"
   ]
  },
  {
   "cell_type": "code",
   "execution_count": 145,
   "metadata": {},
   "outputs": [],
   "source": [
    "# Save the dataframe as a pickle file with the same name (except file extension) as the source data file\n",
    "df_Orders.to_pickle('./Data/w3schools_Data.pkl')"
   ]
  },
  {
   "cell_type": "markdown",
   "metadata": {},
   "source": [
    "# Part 3: Append Two Dataframes and Pickle  \n",
    "1. Append the data from the following two Excel files into a Dataframe named **df_Geography**\n",
    "   1. g20141ca.xlsx  \n",
    "   2. g20141or.xlsx  \n",
    "2. These files do not have column headers at the top, so you're going to have to add them -- **before** you read them with pandas!  \n",
    "  1. The file that contains the column headers is: **2014_SFGeoFileTemplate.xlsx**  \n",
    "  2. So you need to grab the column headers from 2014_SFGeoFileTemplate and add them to the top of the g files before you read them into pandas dataframes.  \n",
    "  3. My tip would be to read the the csv files with Excel and then save them as Excel files. Then it's easy to add the column header row to the top of the Excel file.\n",
    " \n",
    "3. For appending, use exactly the steps and code and markdown cells demonstrated above!"
   ]
  },
  {
   "cell_type": "markdown",
   "metadata": {},
   "source": [
    "### g20141ca.xlsx \n",
    "- Filename:  g20141ca.xlsx \n",
    "- Number of Rows:   784\n",
    "- Number of Columns:   53"
   ]
  },
  {
   "cell_type": "code",
   "execution_count": 146,
   "metadata": {},
   "outputs": [],
   "source": [
    "# Get and read file\n",
    "file = 'Data//g20141ca.xlsx'\n",
    "df_ca = pd.read_excel('Data//g20141ca.xlsx')"
   ]
  },
  {
   "cell_type": "code",
   "execution_count": 147,
   "metadata": {},
   "outputs": [
    {
     "name": "stdout",
     "output_type": "stream",
     "text": [
      "Number of rows:  784\n",
      "Number of columns:  53\n"
     ]
    }
   ],
   "source": [
    "# List number of rows and columns\n",
    "print(\"Number of rows: \", df_ca.shape[0])\n",
    "print(\"Number of columns: \", df_ca.shape[1])"
   ]
  },
  {
   "cell_type": "markdown",
   "metadata": {},
   "source": [
    "### g20141or.xlsx  \n",
    "- Filename:  g20141or.xlsx \n",
    "- Number of Rows:   92\n",
    "- Number of Columns:   53"
   ]
  },
  {
   "cell_type": "code",
   "execution_count": 148,
   "metadata": {},
   "outputs": [],
   "source": [
    "# Get and read file\n",
    "file = 'Data//g20141or.xlsx'\n",
    "df_or = pd.read_excel('Data//g20141or.xlsx')"
   ]
  },
  {
   "cell_type": "code",
   "execution_count": 149,
   "metadata": {},
   "outputs": [
    {
     "name": "stdout",
     "output_type": "stream",
     "text": [
      "Number of rows:  92\n",
      "Number of columns:  53\n"
     ]
    }
   ],
   "source": [
    "# List number of rows and columns\n",
    "print(\"Number of rows: \", df_or.shape[0])\n",
    "print(\"Number of columns: \", df_or.shape[1])"
   ]
  },
  {
   "cell_type": "markdown",
   "metadata": {},
   "source": [
    "### Append the Dataframes into a new dataframe named:  df_Appended_CA_OR \n",
    "After appending should end up with:  \n",
    "- Number of Rows:   876  \n",
    "- Number of Columns:   53"
   ]
  },
  {
   "cell_type": "code",
   "execution_count": 150,
   "metadata": {},
   "outputs": [],
   "source": [
    "# Append dataframes into new dataframe titled df_Appended_CA_OR\n",
    "df_Appended_CA_OR = df_ca.append(df_or, ignore_index=True)"
   ]
  },
  {
   "cell_type": "code",
   "execution_count": 151,
   "metadata": {},
   "outputs": [
    {
     "name": "stdout",
     "output_type": "stream",
     "text": [
      "Number of rows:  876\n",
      "Number of columns:  53\n"
     ]
    }
   ],
   "source": [
    "# List number of rows and columns\n",
    "print(\"Number of rows: \", df_Appended_CA_OR.shape[0])\n",
    "print(\"Number of columns: \", df_Appended_CA_OR.shape[1])"
   ]
  },
  {
   "cell_type": "markdown",
   "metadata": {},
   "source": [
    "### Save the appended dataframe as a pickle file"
   ]
  },
  {
   "cell_type": "code",
   "execution_count": 152,
   "metadata": {},
   "outputs": [],
   "source": [
    "# Save appended dataframe as a pickle file\n",
    "df_Appended_CA_OR.to_pickle('./Data/df_Appended_CA_OR.pkl')"
   ]
  }
 ],
 "metadata": {
  "kernelspec": {
   "display_name": "Python 3",
   "language": "python",
   "name": "python3"
  },
  "language_info": {
   "codemirror_mode": {
    "name": "ipython",
    "version": 3
   },
   "file_extension": ".py",
   "mimetype": "text/x-python",
   "name": "python",
   "nbconvert_exporter": "python",
   "pygments_lexer": "ipython3",
   "version": "3.7.0"
  }
 },
 "nbformat": 4,
 "nbformat_minor": 2
}
