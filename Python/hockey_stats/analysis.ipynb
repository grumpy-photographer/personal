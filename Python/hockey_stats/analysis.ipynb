{
 "cells": [
  {
   "cell_type": "code",
   "execution_count": 1,
   "metadata": {},
   "outputs": [],
   "source": [
    "import pandas as pd\n",
    "import urllib\n",
    "from sqlalchemy import create_engine\n",
    "import numpy as np\n",
    "from datetime import date as dt\n",
    "import seaborn as sns\n",
    "from sklearn.metrics import confusion_matrix\n",
    "import matplotlib.pyplot as plt\n",
    "from sklearn.model_selection import GridSearchCV\n",
    "from sklearn.model_selection import train_test_split\n",
    "from sklearn.ensemble import RandomForestClassifier"
   ]
  },
  {
   "cell_type": "code",
   "execution_count": 2,
   "metadata": {},
   "outputs": [],
   "source": [
    "params = urllib.parse.quote_plus(\n",
    "    r\"Driver={SQL Server Native Client 11.0};\"\n",
    "    r\"Server=BARAD-DUR;\"\n",
    "    r\"Database=Endeavor;\"\n",
    "    r\"trusted_connection=yes;\"\n",
    "    r\"fast_executemany=True;\"\n",
    ")\n",
    "\n",
    "engine = create_engine(\"mssql+pyodbc:///?odbc_connect=%s\" % params)"
   ]
  },
  {
   "cell_type": "code",
   "execution_count": 3,
   "metadata": {},
   "outputs": [],
   "source": [
    "query = \"select * from hockey_stats where home_team = 'bowling-green' or away_team = 'bowling-green'\""
   ]
  },
  {
   "cell_type": "code",
   "execution_count": 4,
   "metadata": {},
   "outputs": [],
   "source": [
    "data = pd.read_sql(query, engine)"
   ]
  },
  {
   "cell_type": "code",
   "execution_count": 5,
   "metadata": {},
   "outputs": [],
   "source": [
    "data[\"game_date\"] = pd.to_datetime(data[\"game_date\"])\n",
    "data[\"day\"] = data[\"game_date\"].dt.day\n",
    "data[\"month\"] = data[\"game_date\"].dt.month\n",
    "data['year'] = data[\"game_date\"].dt.year"
   ]
  },
  {
   "cell_type": "code",
   "execution_count": 6,
   "metadata": {},
   "outputs": [],
   "source": [
    "data[\"win\"] = np.where(data['home_score'] > data[\"away_score\"], 1, 0)\n",
    "data[\"loss\"] = np.where(data['home_score'] < data[\"away_score\"], 1, 0)\n",
    "data[\"tie\"] = np.where(data['home_score'] == data[\"away_score\"], 1, 0)"
   ]
  },
  {
   "cell_type": "code",
   "execution_count": 7,
   "metadata": {},
   "outputs": [],
   "source": [
    "X = data[[\"home_score\", \"away_score\"]]\n",
    "y = data[\"win\"]"
   ]
  },
  {
   "cell_type": "code",
   "execution_count": 8,
   "metadata": {},
   "outputs": [],
   "source": [
    "X_train, X_test, y_train, y_test = train_test_split(X, y, train_size = .3)"
   ]
  },
  {
   "cell_type": "code",
   "execution_count": 9,
   "metadata": {},
   "outputs": [],
   "source": [
    "rfc = RandomForestClassifier()"
   ]
  },
  {
   "cell_type": "code",
   "execution_count": 10,
   "metadata": {},
   "outputs": [],
   "source": [
    "params = {\n",
    "        \"n_estimators\": [100, 1000, 1500],\n",
    "        \"criterion\": [\"gini\", \"entropy\"],\n",
    "        \"max_depth\": [1, 5, 10],\n",
    "        \"max_features\": [\"sqrt\", \"log2\"],\n",
    "        \"n_jobs\": [-1]\n",
    "    }"
   ]
  },
  {
   "cell_type": "code",
   "execution_count": 11,
   "metadata": {},
   "outputs": [],
   "source": [
    "grid = GridSearchCV(rfc, params).fit(X_train, y_train)\n",
    "grid_df = pd.DataFrame(grid.cv_results_)"
   ]
  },
  {
   "cell_type": "code",
   "execution_count": 12,
   "metadata": {},
   "outputs": [
    {
     "name": "stderr",
     "output_type": "stream",
     "text": [
      "C:\\Users\\natha\\AppData\\Local\\Temp\\ipykernel_18328\\3501407989.py:1: FutureWarning: Dropping of nuisance columns in DataFrame reductions (with 'numeric_only=None') is deprecated; in a future version this will raise TypeError.  Select only valid columns before calling the reduction.\n",
      "  best_model = grid_df.loc[:\"mean_test_score\"].max()\n"
     ]
    }
   ],
   "source": [
    "best_model = grid_df.loc[:\"mean_test_score\"].max()"
   ]
  },
  {
   "cell_type": "code",
   "execution_count": 13,
   "metadata": {},
   "outputs": [],
   "source": [
    "# Train best model\n",
    "best_rfc = RandomForestClassifier(\n",
    "    n_estimators=best_model.param_n_estimators,\n",
    "    criterion=best_model.param_criterion,\n",
    "    max_depth=best_model.param_max_depth,\n",
    "    max_features=best_model.param_max_features,\n",
    "    n_jobs=best_model.param_n_jobs\n",
    ").fit(X_train, y_train)\n",
    "\n",
    "y_pred = best_rfc.predict(X)"
   ]
  },
  {
   "cell_type": "code",
   "execution_count": 14,
   "metadata": {},
   "outputs": [
    {
     "data": {
      "text/plain": [
       "[Text(0, 0.5, 'Positive'), Text(0, 1.5, 'Negative')]"
      ]
     },
     "execution_count": 14,
     "metadata": {},
     "output_type": "execute_result"
    },
    {
     "data": {
      "image/png": "[encoded data removed]",
      "text/plain": [
       "<Figure size 432x288 with 2 Axes>"
      ]
     },
     "metadata": {
      "needs_background": "light"
     },
     "output_type": "display_data"
    }
   ],
   "source": [
    "# get results\n",
    "con_mat = confusion_matrix(y, y_pred)\n",
    "accuracy = np.trace(con_mat) / np.sum(con_mat).astype(\"float\")\n",
    "misclassified = 1 - accuracy\n",
    "\n",
    "ax = plt.subplot()\n",
    "sns.heatmap(con_mat, annot=True, fmt=\"d\", cmap=\"YlGnBu\")\n",
    "plt.title(label=\"Confusion Matrix\")\n",
    "plt.xlabel(\n",
    "    \"Predicted\\naccuracy={:0.4f}; misclassified={:0.4f}\".format(\n",
    "        accuracy, misclassified\n",
    "    )\n",
    ")\n",
    "plt.ylabel(\"True\")\n",
    "ax.xaxis.set_ticklabels([\"Positive\", \"Negative\"])\n",
    "ax.yaxis.set_ticklabels([\"Positive\", \"Negative\"])"
   ]
  },
  {
   "cell_type": "code",
   "execution_count": null,
   "metadata": {},
   "outputs": [],
   "source": []
  }
 ],
 "metadata": {
  "kernelspec": {
   "display_name": "Python 3.10.6 64-bit",
   "language": "python",
   "name": "python3"
  },
  "language_info": {
   "codemirror_mode": {
    "name": "ipython",
    "version": 3
   },
   "file_extension": ".py",
   "mimetype": "text/x-python",
   "name": "python",
   "nbconvert_exporter": "python",
   "pygments_lexer": "ipython3",
   "version": "3.10.6 (tags/v3.10.6:9c7b4bd, Aug  1 2022, 21:53:49) [MSC v.1932 64 bit (AMD64)]"
  },
  "orig_nbformat": 4,
  "vscode": {
   "interpreter": {
    "hash": "26de051ba29f2982a8de78e945f0abaf191376122a1563185a90213a26c5da77"
   }
  }
 },
 "nbformat": 4,
 "nbformat_minor": 2
}
