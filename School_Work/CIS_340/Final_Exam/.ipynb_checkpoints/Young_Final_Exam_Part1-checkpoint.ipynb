{
 "cells": [
  {
   "cell_type": "markdown",
   "metadata": {},
   "source": [
    "# Cis 340 - Final Exam - Part 1  \n",
    "- (10 pts) Dropping Columns   \n",
    "- (5 pts) Renaming Columns]    \n",
    "- (5 pts) Get Rid of Non-Numeric Junk    \n",
    "- (5 pts) Change Data Types]     \n",
    "- (10 pts) Subset/Filter Dataframe    \n",
    "- (5 pts) Sort   \n",
    "- (10 pts) Do Calculations    \n",
    "\n",
    "**Important Reminder:**  *You must show the results of each of the above steps! If you do the step, but then don't show that the results were successful, you will receive a zero for it.*"
   ]
  },
  {
   "cell_type": "code",
   "execution_count": 17,
   "metadata": {},
   "outputs": [],
   "source": [
    "import pandas as pd"
   ]
  },
  {
   "cell_type": "markdown",
   "metadata": {},
   "source": [
    "**Important Note:**  *Do not change the data hardcoded into df_customers below!  You must use it exactly as is.*"
   ]
  },
  {
   "cell_type": "code",
   "execution_count": 18,
   "metadata": {
    "scrolled": true
   },
   "outputs": [
    {
     "data": {
      "text/html": [
       "<div>\n",
       "<style scoped>\n",
       "    .dataframe tbody tr th:only-of-type {\n",
       "        vertical-align: middle;\n",
       "    }\n",
       "\n",
       "    .dataframe tbody tr th {\n",
       "        vertical-align: top;\n",
       "    }\n",
       "\n",
       "    .dataframe thead th {\n",
       "        text-align: right;\n",
       "    }\n",
       "</style>\n",
       "<table border=\"1\" class=\"dataframe\">\n",
       "  <thead>\n",
       "    <tr style=\"text-align: right;\">\n",
       "      <th></th>\n",
       "      <th>CustomerID</th>\n",
       "      <th>SalesRegion</th>\n",
       "      <th>CustomerName</th>\n",
       "      <th>EmailAddress</th>\n",
       "      <th>PhoneNumber</th>\n",
       "      <th>FirstPurchaseDate</th>\n",
       "      <th>TotalSales</th>\n",
       "      <th>OtherInfo1</th>\n",
       "      <th>OtherInfo2</th>\n",
       "    </tr>\n",
       "  </thead>\n",
       "  <tbody>\n",
       "    <tr>\n",
       "      <th>0</th>\n",
       "      <td>1702</td>\n",
       "      <td>1</td>\n",
       "      <td>Robinett, David</td>\n",
       "      <td>david22@adventure-works.com</td>\n",
       "      <td>(827) 525-0100</td>\n",
       "      <td>06-05-2010</td>\n",
       "      <td>$80,950</td>\n",
       "      <td>dsfkjdfl</td>\n",
       "      <td>dsfkjdfl</td>\n",
       "    </tr>\n",
       "    <tr>\n",
       "      <th>1</th>\n",
       "      <td>1703</td>\n",
       "      <td>2</td>\n",
       "      <td>Roberson, Rebecca</td>\n",
       "      <td>rebecca5 @adventure-works.com</td>\n",
       "      <td>(829) 525-0101</td>\n",
       "      <td>05-01-2015</td>\n",
       "      <td>$70,950</td>\n",
       "      <td>dsfkjdfl</td>\n",
       "      <td>dsfkjdfl</td>\n",
       "    </tr>\n",
       "    <tr>\n",
       "      <th>2</th>\n",
       "      <td>1704</td>\n",
       "      <td>2</td>\n",
       "      <td>Zillo, Dan</td>\n",
       "      <td>dan3@adventure-works.com</td>\n",
       "      <td>(828) 555-0102</td>\n",
       "      <td>03-01-2017</td>\n",
       "      <td>$50,000</td>\n",
       "      <td>dsfkjdfl</td>\n",
       "      <td>dsfkjdfl</td>\n",
       "    </tr>\n",
       "    <tr>\n",
       "      <th>3</th>\n",
       "      <td>1700</td>\n",
       "      <td>1</td>\n",
       "      <td>Craft, Reba</td>\n",
       "      <td>rebea@adventure-works.com</td>\n",
       "      <td>(829) 525-0101</td>\n",
       "      <td>05-01-2015</td>\n",
       "      <td>$70,950</td>\n",
       "      <td>dsfkjdfl</td>\n",
       "      <td>dsfkjdfl</td>\n",
       "    </tr>\n",
       "    <tr>\n",
       "      <th>4</th>\n",
       "      <td>1698</td>\n",
       "      <td>2</td>\n",
       "      <td>Craft, Maria</td>\n",
       "      <td>maria5@adventure-works.com</td>\n",
       "      <td>(829) 525-0101</td>\n",
       "      <td>05-01-2015</td>\n",
       "      <td>$70,950</td>\n",
       "      <td>dsfkjdfl</td>\n",
       "      <td>dsfkjdfl</td>\n",
       "    </tr>\n",
       "    <tr>\n",
       "      <th>5</th>\n",
       "      <td>1699</td>\n",
       "      <td>2</td>\n",
       "      <td>Adams, Jorge</td>\n",
       "      <td>adams9@adventure-works.com</td>\n",
       "      <td>(827) 525-0100</td>\n",
       "      <td>06-05-2010</td>\n",
       "      <td>$80,950</td>\n",
       "      <td>dsfkjdfl</td>\n",
       "      <td>dsfkjdfl</td>\n",
       "    </tr>\n",
       "    <tr>\n",
       "      <th>6</th>\n",
       "      <td>1696</td>\n",
       "      <td>2</td>\n",
       "      <td>Forney, Dorothy</td>\n",
       "      <td>dorothy3@adventure-works.com</td>\n",
       "      <td>(828) 555-0102</td>\n",
       "      <td>03-01-2017</td>\n",
       "      <td>$50,00</td>\n",
       "      <td>dsfkjdfl</td>\n",
       "      <td>dsfkjdfl</td>\n",
       "    </tr>\n",
       "    <tr>\n",
       "      <th>7</th>\n",
       "      <td>1701</td>\n",
       "      <td>3</td>\n",
       "      <td>Forbes, Donna</td>\n",
       "      <td>donna@adventure-works.com</td>\n",
       "      <td>(828) 555-0102</td>\n",
       "      <td>03-01-2017</td>\n",
       "      <td>$50,00</td>\n",
       "      <td>dsfkjdfl</td>\n",
       "      <td>dsfkjdfl</td>\n",
       "    </tr>\n",
       "  </tbody>\n",
       "</table>\n",
       "</div>"
      ],
      "text/plain": [
       "   CustomerID  SalesRegion       CustomerName                   EmailAddress  \\\n",
       "0        1702            1    Robinett, David    david22@adventure-works.com   \n",
       "1        1703            2  Roberson, Rebecca  rebecca5 @adventure-works.com   \n",
       "2        1704            2         Zillo, Dan       dan3@adventure-works.com   \n",
       "3        1700            1        Craft, Reba      rebea@adventure-works.com   \n",
       "4        1698            2       Craft, Maria     maria5@adventure-works.com   \n",
       "5        1699            2       Adams, Jorge     adams9@adventure-works.com   \n",
       "6        1696            2    Forney, Dorothy   dorothy3@adventure-works.com   \n",
       "7        1701            3      Forbes, Donna      donna@adventure-works.com   \n",
       "\n",
       "      PhoneNumber FirstPurchaseDate TotalSales OtherInfo1 OtherInfo2  \n",
       "0  (827) 525-0100        06-05-2010    $80,950   dsfkjdfl   dsfkjdfl  \n",
       "1  (829) 525-0101        05-01-2015    $70,950   dsfkjdfl   dsfkjdfl  \n",
       "2  (828) 555-0102        03-01-2017    $50,000   dsfkjdfl   dsfkjdfl  \n",
       "3  (829) 525-0101        05-01-2015    $70,950   dsfkjdfl   dsfkjdfl  \n",
       "4  (829) 525-0101        05-01-2015    $70,950   dsfkjdfl   dsfkjdfl  \n",
       "5  (827) 525-0100        06-05-2010    $80,950   dsfkjdfl   dsfkjdfl  \n",
       "6  (828) 555-0102        03-01-2017     $50,00   dsfkjdfl   dsfkjdfl  \n",
       "7  (828) 555-0102        03-01-2017     $50,00   dsfkjdfl   dsfkjdfl  "
      ]
     },
     "execution_count": 18,
     "metadata": {},
     "output_type": "execute_result"
    }
   ],
   "source": [
    "# Data to work on\n",
    "df_customers = pd.DataFrame(\n",
    "    [\n",
    "    [1702,1,'Robinett, David','david22@adventure-works.com', '(827) 525-0100', '06-05-2010', '$80,950', 'dsfkjdfl','dsfkjdfl'], \n",
    "    [1703,2,'Roberson, Rebecca','rebecca5 @adventure-works.com', '(829) 525-0101', '05-01-2015', '$70,950','dsfkjdfl','dsfkjdfl'],\n",
    "    [1704,2,'Zillo, Dan','dan3@adventure-works.com', '(828) 555-0102', '03-01-2017', '$50,000','dsfkjdfl','dsfkjdfl'],\n",
    "    [1700,1,'Craft, Reba','rebea@adventure-works.com', '(829) 525-0101', '05-01-2015', '$70,950','dsfkjdfl','dsfkjdfl'],\n",
    "    [1698,2,'Craft, Maria','maria5@adventure-works.com', '(829) 525-0101', '05-01-2015', '$70,950','dsfkjdfl','dsfkjdfl'],\n",
    "    [1699,2,'Adams, Jorge','adams9@adventure-works.com', '(827) 525-0100', '06-05-2010', '$80,950', 'dsfkjdfl','dsfkjdfl'],   \n",
    "    [1696,2,'Forney, Dorothy','dorothy3@adventure-works.com', '(828) 555-0102', '03-01-2017', '$50,00','dsfkjdfl','dsfkjdfl'],\n",
    "    [1701,3,'Forbes, Donna','donna@adventure-works.com', '(828) 555-0102', '03-01-2017', '$50,00','dsfkjdfl','dsfkjdfl']\n",
    "    ], \n",
    "    columns=['CustomerID', 'SalesRegion', 'CustomerName','EmailAddress', 'PhoneNumber', 'FirstPurchaseDate', 'TotalSales', 'OtherInfo1', 'OtherInfo2'])\n",
    "  \n",
    "df_customers"
   ]
  },
  {
   "cell_type": "markdown",
   "metadata": {},
   "source": [
    "# (10 pts) Dropping Columns  \n",
    "Drop the following columns: **PhoneNumber**, **OtherInfo1** and **OtherInfo2** "
   ]
  },
  {
   "cell_type": "code",
   "execution_count": 19,
   "metadata": {
    "scrolled": true
   },
   "outputs": [
    {
     "data": {
      "text/html": [
       "<div>\n",
       "<style scoped>\n",
       "    .dataframe tbody tr th:only-of-type {\n",
       "        vertical-align: middle;\n",
       "    }\n",
       "\n",
       "    .dataframe tbody tr th {\n",
       "        vertical-align: top;\n",
       "    }\n",
       "\n",
       "    .dataframe thead th {\n",
       "        text-align: right;\n",
       "    }\n",
       "</style>\n",
       "<table border=\"1\" class=\"dataframe\">\n",
       "  <thead>\n",
       "    <tr style=\"text-align: right;\">\n",
       "      <th></th>\n",
       "      <th>CustomerID</th>\n",
       "      <th>SalesRegion</th>\n",
       "      <th>CustomerName</th>\n",
       "      <th>EmailAddress</th>\n",
       "      <th>FirstPurchaseDate</th>\n",
       "      <th>TotalSales</th>\n",
       "    </tr>\n",
       "  </thead>\n",
       "  <tbody>\n",
       "    <tr>\n",
       "      <th>0</th>\n",
       "      <td>1702</td>\n",
       "      <td>1</td>\n",
       "      <td>Robinett, David</td>\n",
       "      <td>david22@adventure-works.com</td>\n",
       "      <td>06-05-2010</td>\n",
       "      <td>$80,950</td>\n",
       "    </tr>\n",
       "    <tr>\n",
       "      <th>1</th>\n",
       "      <td>1703</td>\n",
       "      <td>2</td>\n",
       "      <td>Roberson, Rebecca</td>\n",
       "      <td>rebecca5 @adventure-works.com</td>\n",
       "      <td>05-01-2015</td>\n",
       "      <td>$70,950</td>\n",
       "    </tr>\n",
       "    <tr>\n",
       "      <th>2</th>\n",
       "      <td>1704</td>\n",
       "      <td>2</td>\n",
       "      <td>Zillo, Dan</td>\n",
       "      <td>dan3@adventure-works.com</td>\n",
       "      <td>03-01-2017</td>\n",
       "      <td>$50,000</td>\n",
       "    </tr>\n",
       "    <tr>\n",
       "      <th>3</th>\n",
       "      <td>1700</td>\n",
       "      <td>1</td>\n",
       "      <td>Craft, Reba</td>\n",
       "      <td>rebea@adventure-works.com</td>\n",
       "      <td>05-01-2015</td>\n",
       "      <td>$70,950</td>\n",
       "    </tr>\n",
       "    <tr>\n",
       "      <th>4</th>\n",
       "      <td>1698</td>\n",
       "      <td>2</td>\n",
       "      <td>Craft, Maria</td>\n",
       "      <td>maria5@adventure-works.com</td>\n",
       "      <td>05-01-2015</td>\n",
       "      <td>$70,950</td>\n",
       "    </tr>\n",
       "  </tbody>\n",
       "</table>\n",
       "</div>"
      ],
      "text/plain": [
       "   CustomerID  SalesRegion       CustomerName                   EmailAddress  \\\n",
       "0        1702            1    Robinett, David    david22@adventure-works.com   \n",
       "1        1703            2  Roberson, Rebecca  rebecca5 @adventure-works.com   \n",
       "2        1704            2         Zillo, Dan       dan3@adventure-works.com   \n",
       "3        1700            1        Craft, Reba      rebea@adventure-works.com   \n",
       "4        1698            2       Craft, Maria     maria5@adventure-works.com   \n",
       "\n",
       "  FirstPurchaseDate TotalSales  \n",
       "0        06-05-2010    $80,950  \n",
       "1        05-01-2015    $70,950  \n",
       "2        03-01-2017    $50,000  \n",
       "3        05-01-2015    $70,950  \n",
       "4        05-01-2015    $70,950  "
      ]
     },
     "execution_count": 19,
     "metadata": {},
     "output_type": "execute_result"
    }
   ],
   "source": [
    "df_customers.drop(['PhoneNumber', 'OtherInfo1', 'OtherInfo2'], axis='columns', inplace=True)\n",
    "\n",
    "df_customers.head()"
   ]
  },
  {
   "cell_type": "markdown",
   "metadata": {},
   "source": [
    "# (5 pts) Renaming Columns  \n",
    "Rename the following columns:  \n",
    "1. **CustomerID** to **customer_id**\n",
    "2. **CustomerName** to **customer_name**   \n",
    "3. **EmailAddress** to **email_address**"
   ]
  },
  {
   "cell_type": "code",
   "execution_count": 21,
   "metadata": {},
   "outputs": [
    {
     "data": {
      "text/html": [
       "<div>\n",
       "<style scoped>\n",
       "    .dataframe tbody tr th:only-of-type {\n",
       "        vertical-align: middle;\n",
       "    }\n",
       "\n",
       "    .dataframe tbody tr th {\n",
       "        vertical-align: top;\n",
       "    }\n",
       "\n",
       "    .dataframe thead th {\n",
       "        text-align: right;\n",
       "    }\n",
       "</style>\n",
       "<table border=\"1\" class=\"dataframe\">\n",
       "  <thead>\n",
       "    <tr style=\"text-align: right;\">\n",
       "      <th></th>\n",
       "      <th>customer_id</th>\n",
       "      <th>SalesRegion</th>\n",
       "      <th>customer_name</th>\n",
       "      <th>email_address</th>\n",
       "      <th>FirstPurchaseDate</th>\n",
       "      <th>TotalSales</th>\n",
       "    </tr>\n",
       "  </thead>\n",
       "  <tbody>\n",
       "    <tr>\n",
       "      <th>0</th>\n",
       "      <td>1702</td>\n",
       "      <td>1</td>\n",
       "      <td>Robinett, David</td>\n",
       "      <td>david22@adventure-works.com</td>\n",
       "      <td>06-05-2010</td>\n",
       "      <td>$80,950</td>\n",
       "    </tr>\n",
       "    <tr>\n",
       "      <th>1</th>\n",
       "      <td>1703</td>\n",
       "      <td>2</td>\n",
       "      <td>Roberson, Rebecca</td>\n",
       "      <td>rebecca5 @adventure-works.com</td>\n",
       "      <td>05-01-2015</td>\n",
       "      <td>$70,950</td>\n",
       "    </tr>\n",
       "    <tr>\n",
       "      <th>2</th>\n",
       "      <td>1704</td>\n",
       "      <td>2</td>\n",
       "      <td>Zillo, Dan</td>\n",
       "      <td>dan3@adventure-works.com</td>\n",
       "      <td>03-01-2017</td>\n",
       "      <td>$50,000</td>\n",
       "    </tr>\n",
       "    <tr>\n",
       "      <th>3</th>\n",
       "      <td>1700</td>\n",
       "      <td>1</td>\n",
       "      <td>Craft, Reba</td>\n",
       "      <td>rebea@adventure-works.com</td>\n",
       "      <td>05-01-2015</td>\n",
       "      <td>$70,950</td>\n",
       "    </tr>\n",
       "    <tr>\n",
       "      <th>4</th>\n",
       "      <td>1698</td>\n",
       "      <td>2</td>\n",
       "      <td>Craft, Maria</td>\n",
       "      <td>maria5@adventure-works.com</td>\n",
       "      <td>05-01-2015</td>\n",
       "      <td>$70,950</td>\n",
       "    </tr>\n",
       "  </tbody>\n",
       "</table>\n",
       "</div>"
      ],
      "text/plain": [
       "   customer_id  SalesRegion      customer_name                  email_address  \\\n",
       "0         1702            1    Robinett, David    david22@adventure-works.com   \n",
       "1         1703            2  Roberson, Rebecca  rebecca5 @adventure-works.com   \n",
       "2         1704            2         Zillo, Dan       dan3@adventure-works.com   \n",
       "3         1700            1        Craft, Reba      rebea@adventure-works.com   \n",
       "4         1698            2       Craft, Maria     maria5@adventure-works.com   \n",
       "\n",
       "  FirstPurchaseDate TotalSales  \n",
       "0        06-05-2010    $80,950  \n",
       "1        05-01-2015    $70,950  \n",
       "2        03-01-2017    $50,000  \n",
       "3        05-01-2015    $70,950  \n",
       "4        05-01-2015    $70,950  "
      ]
     },
     "execution_count": 21,
     "metadata": {},
     "output_type": "execute_result"
    }
   ],
   "source": [
    "new_columns = {'CustomerID':'customer_id', 'CustomerName':'customer_name', 'EmailAddress':'email_address'}\n",
    "\n",
    "df_customers.rename(columns= new_columns, inplace=True)\n",
    "df_customers.head()"
   ]
  },
  {
   "cell_type": "markdown",
   "metadata": {},
   "source": [
    "# (5 pts) Get Rid of Non-Numeric Junk  \n",
    "- Get rid of the non-numeric junk in any column that contains dollar/currency values"
   ]
  },
  {
   "cell_type": "code",
   "execution_count": 22,
   "metadata": {},
   "outputs": [
    {
     "data": {
      "text/plain": [
       "0    80950\n",
       "1    70950\n",
       "2    50000\n",
       "3    70950\n",
       "4    70950\n",
       "Name: TotalSales, dtype: object"
      ]
     },
     "execution_count": 22,
     "metadata": {},
     "output_type": "execute_result"
    }
   ],
   "source": [
    "# Get rid of non-numeric junk in the Price field\n",
    "df_customers['TotalSales'] = df_customers['TotalSales'].str.replace('$', '')\n",
    "df_customers['TotalSales'] = df_customers['TotalSales'].str.replace(',', '')\n",
    "\n",
    "df_customers['TotalSales'].head()"
   ]
  },
  {
   "cell_type": "markdown",
   "metadata": {},
   "source": [
    "# (5 pts) Change Data Types  \n",
    "1. Change the data type of any column that contains dollar/currency values to a float  \n",
    "2. Change the data type of any column that contains Date values to a DateTime"
   ]
  },
  {
   "cell_type": "code",
   "execution_count": 23,
   "metadata": {},
   "outputs": [
    {
     "data": {
      "text/plain": [
       "customer_id           int64\n",
       "SalesRegion           int64\n",
       "customer_name        object\n",
       "email_address        object\n",
       "FirstPurchaseDate    object\n",
       "TotalSales           object\n",
       "dtype: object"
      ]
     },
     "execution_count": 23,
     "metadata": {},
     "output_type": "execute_result"
    }
   ],
   "source": [
    "df_customers.dtypes"
   ]
  },
  {
   "cell_type": "code",
   "execution_count": 27,
   "metadata": {},
   "outputs": [
    {
     "data": {
      "text/plain": [
       "customer_id                   int64\n",
       "SalesRegion                   int64\n",
       "customer_name                object\n",
       "email_address                object\n",
       "FirstPurchaseDate    datetime64[ns]\n",
       "TotalSales                  float64\n",
       "dtype: object"
      ]
     },
     "execution_count": 27,
     "metadata": {},
     "output_type": "execute_result"
    }
   ],
   "source": [
    "df_customers['FirstPurchaseDate'] = pd.to_datetime(df_customers['FirstPurchaseDate'])\n",
    "df_customers['TotalSales'] = pd.to_numeric(df_customers['TotalSales']).astype(float)\n",
    "\n",
    "df_customers.dtypes"
   ]
  },
  {
   "cell_type": "markdown",
   "metadata": {},
   "source": [
    "# (10 pts) Subset/Filter Dataframe  \n",
    "Based on the current dataframe, create a new dataframe that only has customers from Sales Region:  **2**"
   ]
  },
  {
   "cell_type": "code",
   "execution_count": 34,
   "metadata": {},
   "outputs": [
    {
     "data": {
      "text/html": [
       "<div>\n",
       "<style scoped>\n",
       "    .dataframe tbody tr th:only-of-type {\n",
       "        vertical-align: middle;\n",
       "    }\n",
       "\n",
       "    .dataframe tbody tr th {\n",
       "        vertical-align: top;\n",
       "    }\n",
       "\n",
       "    .dataframe thead th {\n",
       "        text-align: right;\n",
       "    }\n",
       "</style>\n",
       "<table border=\"1\" class=\"dataframe\">\n",
       "  <thead>\n",
       "    <tr style=\"text-align: right;\">\n",
       "      <th></th>\n",
       "      <th>customer_id</th>\n",
       "      <th>SalesRegion</th>\n",
       "      <th>customer_name</th>\n",
       "      <th>email_address</th>\n",
       "      <th>FirstPurchaseDate</th>\n",
       "      <th>TotalSales</th>\n",
       "    </tr>\n",
       "  </thead>\n",
       "  <tbody>\n",
       "    <tr>\n",
       "      <th>1</th>\n",
       "      <td>1703</td>\n",
       "      <td>2</td>\n",
       "      <td>Roberson, Rebecca</td>\n",
       "      <td>rebecca5 @adventure-works.com</td>\n",
       "      <td>2015-05-01</td>\n",
       "      <td>70950.0</td>\n",
       "    </tr>\n",
       "    <tr>\n",
       "      <th>2</th>\n",
       "      <td>1704</td>\n",
       "      <td>2</td>\n",
       "      <td>Zillo, Dan</td>\n",
       "      <td>dan3@adventure-works.com</td>\n",
       "      <td>2017-03-01</td>\n",
       "      <td>50000.0</td>\n",
       "    </tr>\n",
       "    <tr>\n",
       "      <th>4</th>\n",
       "      <td>1698</td>\n",
       "      <td>2</td>\n",
       "      <td>Craft, Maria</td>\n",
       "      <td>maria5@adventure-works.com</td>\n",
       "      <td>2015-05-01</td>\n",
       "      <td>70950.0</td>\n",
       "    </tr>\n",
       "    <tr>\n",
       "      <th>5</th>\n",
       "      <td>1699</td>\n",
       "      <td>2</td>\n",
       "      <td>Adams, Jorge</td>\n",
       "      <td>adams9@adventure-works.com</td>\n",
       "      <td>2010-06-05</td>\n",
       "      <td>80950.0</td>\n",
       "    </tr>\n",
       "    <tr>\n",
       "      <th>6</th>\n",
       "      <td>1696</td>\n",
       "      <td>2</td>\n",
       "      <td>Forney, Dorothy</td>\n",
       "      <td>dorothy3@adventure-works.com</td>\n",
       "      <td>2017-03-01</td>\n",
       "      <td>5000.0</td>\n",
       "    </tr>\n",
       "  </tbody>\n",
       "</table>\n",
       "</div>"
      ],
      "text/plain": [
       "   customer_id  SalesRegion      customer_name                  email_address  \\\n",
       "1         1703            2  Roberson, Rebecca  rebecca5 @adventure-works.com   \n",
       "2         1704            2         Zillo, Dan       dan3@adventure-works.com   \n",
       "4         1698            2       Craft, Maria     maria5@adventure-works.com   \n",
       "5         1699            2       Adams, Jorge     adams9@adventure-works.com   \n",
       "6         1696            2    Forney, Dorothy   dorothy3@adventure-works.com   \n",
       "\n",
       "  FirstPurchaseDate  TotalSales  \n",
       "1        2015-05-01     70950.0  \n",
       "2        2017-03-01     50000.0  \n",
       "4        2015-05-01     70950.0  \n",
       "5        2010-06-05     80950.0  \n",
       "6        2017-03-01      5000.0  "
      ]
     },
     "execution_count": 34,
     "metadata": {},
     "output_type": "execute_result"
    }
   ],
   "source": [
    "filter = df_customers['SalesRegion'] == 2\n",
    "\n",
    "df_region = df_customers[filter]\n",
    "\n",
    "df_region.head()"
   ]
  },
  {
   "cell_type": "markdown",
   "metadata": {},
   "source": [
    "# (5 pts) Sort  \n",
    "Sort the subsetted/filtered dataframe by customer name, from a-z"
   ]
  },
  {
   "cell_type": "code",
   "execution_count": 37,
   "metadata": {},
   "outputs": [
    {
     "data": {
      "text/html": [
       "<div>\n",
       "<style scoped>\n",
       "    .dataframe tbody tr th:only-of-type {\n",
       "        vertical-align: middle;\n",
       "    }\n",
       "\n",
       "    .dataframe tbody tr th {\n",
       "        vertical-align: top;\n",
       "    }\n",
       "\n",
       "    .dataframe thead th {\n",
       "        text-align: right;\n",
       "    }\n",
       "</style>\n",
       "<table border=\"1\" class=\"dataframe\">\n",
       "  <thead>\n",
       "    <tr style=\"text-align: right;\">\n",
       "      <th></th>\n",
       "      <th>customer_id</th>\n",
       "      <th>SalesRegion</th>\n",
       "      <th>customer_name</th>\n",
       "      <th>email_address</th>\n",
       "      <th>FirstPurchaseDate</th>\n",
       "      <th>TotalSales</th>\n",
       "    </tr>\n",
       "  </thead>\n",
       "  <tbody>\n",
       "    <tr>\n",
       "      <th>5</th>\n",
       "      <td>1699</td>\n",
       "      <td>2</td>\n",
       "      <td>Adams, Jorge</td>\n",
       "      <td>adams9@adventure-works.com</td>\n",
       "      <td>2010-06-05</td>\n",
       "      <td>80950.0</td>\n",
       "    </tr>\n",
       "    <tr>\n",
       "      <th>4</th>\n",
       "      <td>1698</td>\n",
       "      <td>2</td>\n",
       "      <td>Craft, Maria</td>\n",
       "      <td>maria5@adventure-works.com</td>\n",
       "      <td>2015-05-01</td>\n",
       "      <td>70950.0</td>\n",
       "    </tr>\n",
       "    <tr>\n",
       "      <th>6</th>\n",
       "      <td>1696</td>\n",
       "      <td>2</td>\n",
       "      <td>Forney, Dorothy</td>\n",
       "      <td>dorothy3@adventure-works.com</td>\n",
       "      <td>2017-03-01</td>\n",
       "      <td>5000.0</td>\n",
       "    </tr>\n",
       "    <tr>\n",
       "      <th>1</th>\n",
       "      <td>1703</td>\n",
       "      <td>2</td>\n",
       "      <td>Roberson, Rebecca</td>\n",
       "      <td>rebecca5 @adventure-works.com</td>\n",
       "      <td>2015-05-01</td>\n",
       "      <td>70950.0</td>\n",
       "    </tr>\n",
       "    <tr>\n",
       "      <th>2</th>\n",
       "      <td>1704</td>\n",
       "      <td>2</td>\n",
       "      <td>Zillo, Dan</td>\n",
       "      <td>dan3@adventure-works.com</td>\n",
       "      <td>2017-03-01</td>\n",
       "      <td>50000.0</td>\n",
       "    </tr>\n",
       "  </tbody>\n",
       "</table>\n",
       "</div>"
      ],
      "text/plain": [
       "   customer_id  SalesRegion      customer_name                  email_address  \\\n",
       "5         1699            2       Adams, Jorge     adams9@adventure-works.com   \n",
       "4         1698            2       Craft, Maria     maria5@adventure-works.com   \n",
       "6         1696            2    Forney, Dorothy   dorothy3@adventure-works.com   \n",
       "1         1703            2  Roberson, Rebecca  rebecca5 @adventure-works.com   \n",
       "2         1704            2         Zillo, Dan       dan3@adventure-works.com   \n",
       "\n",
       "  FirstPurchaseDate  TotalSales  \n",
       "5        2010-06-05     80950.0  \n",
       "4        2015-05-01     70950.0  \n",
       "6        2017-03-01      5000.0  \n",
       "1        2015-05-01     70950.0  \n",
       "2        2017-03-01     50000.0  "
      ]
     },
     "execution_count": 37,
     "metadata": {},
     "output_type": "execute_result"
    }
   ],
   "source": [
    "df_region.sort_values(['customer_name'], inplace=False, ascending=True)"
   ]
  },
  {
   "cell_type": "markdown",
   "metadata": {},
   "source": [
    "# (10 pts) Do Calculations\n",
    "- Note:  You do NOT have to format your calculated numbers!"
   ]
  },
  {
   "cell_type": "markdown",
   "metadata": {},
   "source": [
    "### Calculate and display the Sum of the TotalSales column for the *df_customers* dataframe"
   ]
  },
  {
   "cell_type": "code",
   "execution_count": 43,
   "metadata": {},
   "outputs": [
    {
     "name": "stdout",
     "output_type": "stream",
     "text": [
      "The sum of total sales is 434750.0\n"
     ]
    }
   ],
   "source": [
    "sum_total = df_customers['TotalSales'].sum()\n",
    "print(\"The sum of total sales is\",sum_total)"
   ]
  },
  {
   "cell_type": "markdown",
   "metadata": {},
   "source": [
    "### Calculate and display the Sum of the TotalSales column of the subsetted/filtered dataframe"
   ]
  },
  {
   "cell_type": "code",
   "execution_count": 44,
   "metadata": {},
   "outputs": [
    {
     "name": "stdout",
     "output_type": "stream",
     "text": [
      "The sum of total sales in region 2 is 277850.0\n"
     ]
    }
   ],
   "source": [
    "sum_region = df_region['TotalSales'].sum()\n",
    "print(\"The sum of total sales in region 2 is\",sum_region)"
   ]
  },
  {
   "cell_type": "code",
   "execution_count": null,
   "metadata": {},
   "outputs": [],
   "source": []
  }
 ],
 "metadata": {
  "kernelspec": {
   "display_name": "Python 3",
   "language": "python",
   "name": "python3"
  },
  "language_info": {
   "codemirror_mode": {
    "name": "ipython",
    "version": 3
   },
   "file_extension": ".py",
   "mimetype": "text/x-python",
   "name": "python",
   "nbconvert_exporter": "python",
   "pygments_lexer": "ipython3",
   "version": "3.7.0"
  }
 },
 "nbformat": 4,
 "nbformat_minor": 2
}
