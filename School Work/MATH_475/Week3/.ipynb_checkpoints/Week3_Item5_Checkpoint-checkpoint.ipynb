{
 "cells": [
  {
   "cell_type": "markdown",
   "metadata": {
    "toc": true
   },
   "source": [
    "<h1>Table of Contents<span class=\"tocSkip\"></span></h1>\n",
    "<div class=\"toc\"><ul class=\"toc-item\"><li><span><a href=\"#Week-3-Item-5-Checkpoint\" data-toc-modified-id=\"Week-3-Item-5-Checkpoint-1\"><span class=\"toc-item-num\">1&nbsp;&nbsp;</span>Week 3 Item 5 Checkpoint</a></span><ul class=\"toc-item\"><li><span><a href=\"#Getting-Started\" data-toc-modified-id=\"Getting-Started-1.1\"><span class=\"toc-item-num\">1.1&nbsp;&nbsp;</span>Getting Started</a></span></li><li><span><a href=\"#Linear-Model\" data-toc-modified-id=\"Linear-Model-1.2\"><span class=\"toc-item-num\">1.2&nbsp;&nbsp;</span>Linear Model</a></span></li><li><span><a href=\"#Cubic-Polynomial-1\" data-toc-modified-id=\"Cubic-Polynomial-1-1.3\"><span class=\"toc-item-num\">1.3&nbsp;&nbsp;</span>Cubic Polynomial 1</a></span></li><li><span><a href=\"#Cubic-Polynomial-2\" data-toc-modified-id=\"Cubic-Polynomial-2-1.4\"><span class=\"toc-item-num\">1.4&nbsp;&nbsp;</span>Cubic Polynomial 2</a></span></li><li><span><a href=\"#Summary\" data-toc-modified-id=\"Summary-1.5\"><span class=\"toc-item-num\">1.5&nbsp;&nbsp;</span>Summary</a></span></li></ul></li></ul></div>"
   ]
  },
  {
   "cell_type": "markdown",
   "metadata": {
    "pycharm": {
     "name": "#%% md\n"
    }
   },
   "source": [
    "# Week 3 Item 5 Checkpoint\n",
    "\n",
    "Earlier this week, we used \"bolt_data.csv\" to build a simple linear model of the form: $y = mx + b$\n",
    "\n",
    "There are two criticisms one might make of this model:\n",
    "1. It predicts that Mr. Bolt will start at time = 0 at a position not equal to 0.\n",
    "2. It assumes that Mr. Bolt runs at a consistent speed (represented by slope).\n",
    "\n",
    "Try the following types of models for the Usain Bolt data (you can fit all the data -- you do not need to test/train split).\n",
    "- A linear model of the form: $y = mx$, with the y-intercept forced to be 0.\n",
    "(Try basic [linear regression](https://scikit-learn.org/stable/modules/generated/sklearn.linear_model.LinearRegression.html) but with: `fit_intercept = False`)\n",
    "- A cubic polynomial (you can use a model similar to the one we built in class on Thursday, but with a degree = 3 instead of degree = 2)\n",
    "- A cubic polynomial of the form: $y = ax^3 + bx^2 + cx$, with the y-intercept forced to be 0. (When you built the Pipeline object and put in the LinearRegression step, use the `fit_intercept=False` option.)\n",
    "\n",
    "Answer the following question: \n",
    "> Of the models you have created, which one do you think is the best?\n",
    ">Take into account all of the measures that we discussed in terms of assessing models.\n",
    "\n",
    "Attach a Jupyter Notebook showing your work.\n",
    "\n",
    "* * *"
   ]
  },
  {
   "cell_type": "markdown",
   "metadata": {
    "pycharm": {
     "name": "#%% md\n"
    }
   },
   "source": [
    "## Getting Started"
   ]
  },
  {
   "cell_type": "code",
   "execution_count": 1,
   "metadata": {
    "ExecuteTime": {
     "end_time": "2020-09-09T15:07:22.308825Z",
     "start_time": "2020-09-09T15:07:17.766358Z"
    },
    "pycharm": {
     "name": "#%%\n"
    }
   },
   "outputs": [],
   "source": [
    "# Imports\n",
    "import pandas as pd\n",
    "import matplotlib.pyplot as plt\n",
    "from sklearn.model_selection import train_test_split\n",
    "from sklearn.linear_model import LinearRegression\n",
    "from sklearn.pipeline import make_pipeline"
   ]
  },
  {
   "cell_type": "code",
   "execution_count": 2,
   "metadata": {
    "ExecuteTime": {
     "end_time": "2020-09-09T15:07:22.355273Z",
     "start_time": "2020-09-09T15:07:22.315112Z"
    },
    "pycharm": {
     "name": "#%%\n"
    }
   },
   "outputs": [
    {
     "data": {
      "text/html": [
       "<div>\n",
       "<style scoped>\n",
       "    .dataframe tbody tr th:only-of-type {\n",
       "        vertical-align: middle;\n",
       "    }\n",
       "\n",
       "    .dataframe tbody tr th {\n",
       "        vertical-align: top;\n",
       "    }\n",
       "\n",
       "    .dataframe thead th {\n",
       "        text-align: right;\n",
       "    }\n",
       "</style>\n",
       "<table border=\"1\" class=\"dataframe\">\n",
       "  <thead>\n",
       "    <tr style=\"text-align: right;\">\n",
       "      <th></th>\n",
       "      <th>time</th>\n",
       "      <th>position</th>\n",
       "    </tr>\n",
       "  </thead>\n",
       "  <tbody>\n",
       "    <tr>\n",
       "      <th>0</th>\n",
       "      <td>0.00</td>\n",
       "      <td>0</td>\n",
       "    </tr>\n",
       "    <tr>\n",
       "      <th>1</th>\n",
       "      <td>1.85</td>\n",
       "      <td>10</td>\n",
       "    </tr>\n",
       "    <tr>\n",
       "      <th>2</th>\n",
       "      <td>2.87</td>\n",
       "      <td>20</td>\n",
       "    </tr>\n",
       "    <tr>\n",
       "      <th>3</th>\n",
       "      <td>3.78</td>\n",
       "      <td>30</td>\n",
       "    </tr>\n",
       "    <tr>\n",
       "      <th>4</th>\n",
       "      <td>4.65</td>\n",
       "      <td>40</td>\n",
       "    </tr>\n",
       "  </tbody>\n",
       "</table>\n",
       "</div>"
      ],
      "text/plain": [
       "   time  position\n",
       "0  0.00         0\n",
       "1  1.85        10\n",
       "2  2.87        20\n",
       "3  3.78        30\n",
       "4  4.65        40"
      ]
     },
     "execution_count": 2,
     "metadata": {},
     "output_type": "execute_result"
    }
   ],
   "source": [
    "# Loading data\n",
    "bolt = pd.read_csv('bolt_data.csv')\n",
    "bolt.head()"
   ]
  },
  {
   "cell_type": "markdown",
   "metadata": {},
   "source": [
    "***"
   ]
  },
  {
   "cell_type": "markdown",
   "metadata": {},
   "source": [
    "## Linear Model"
   ]
  },
  {
   "cell_type": "markdown",
   "metadata": {},
   "source": [
    "$y = mx$"
   ]
  },
  {
   "cell_type": "code",
   "execution_count": 3,
   "metadata": {
    "ExecuteTime": {
     "end_time": "2020-09-09T15:07:22.386667Z",
     "start_time": "2020-09-09T15:07:22.362766Z"
    },
    "pycharm": {
     "name": "#%%\n"
    }
   },
   "outputs": [],
   "source": [
    "# Split time data from bolt\n",
    "bt = bolt[\"time\"].values.reshape(-1, 1)"
   ]
  },
  {
   "cell_type": "code",
   "execution_count": 4,
   "metadata": {
    "ExecuteTime": {
     "end_time": "2020-09-09T15:07:22.417553Z",
     "start_time": "2020-09-09T15:07:22.393738Z"
    },
    "pycharm": {
     "name": "#%%\n"
    }
   },
   "outputs": [],
   "source": [
    "# Split position data from bolt\n",
    "bp = bolt[\"position\"]"
   ]
  },
  {
   "cell_type": "code",
   "execution_count": 5,
   "metadata": {
    "ExecuteTime": {
     "end_time": "2020-09-09T15:07:22.824999Z",
     "start_time": "2020-09-09T15:07:22.423953Z"
    },
    "pycharm": {
     "name": "#%%\n"
    },
    "scrolled": false
   },
   "outputs": [
    {
     "data": {
      "image/png": "[encoded data removed]",
      "text/plain": [
       "<Figure size 432x288 with 1 Axes>"
      ]
     },
     "metadata": {
      "needs_background": "light"
     },
     "output_type": "display_data"
    }
   ],
   "source": [
    "# Plot\n",
    "plt.scatter(bt, bp)\n",
    "plt.xlabel(\"time (sec)\")\n",
    "plt.ylabel(\"position (m)\")\n",
    "plt.title(\"Usain Bolt 100m Run\")\n",
    "plt.grid(True)"
   ]
  },
  {
   "cell_type": "code",
   "execution_count": 6,
   "metadata": {
    "ExecuteTime": {
     "end_time": "2020-09-09T15:07:22.855677Z",
     "start_time": "2020-09-09T15:07:22.832332Z"
    }
   },
   "outputs": [
    {
     "data": {
      "text/plain": [
       "0.9948264249754971"
      ]
     },
     "execution_count": 6,
     "metadata": {},
     "output_type": "execute_result"
    }
   ],
   "source": [
    "# Correlation\n",
    "bolt[\"time\"].corr(bolt[\"position\"])"
   ]
  },
  {
   "cell_type": "code",
   "execution_count": 7,
   "metadata": {
    "ExecuteTime": {
     "end_time": "2020-09-09T15:07:22.886527Z",
     "start_time": "2020-09-09T15:07:22.864326Z"
    }
   },
   "outputs": [],
   "source": [
    "# Create classifier object and fit data\n",
    "lm = LinearRegression(fit_intercept=False).fit(bt, bp)"
   ]
  },
  {
   "cell_type": "code",
   "execution_count": 8,
   "metadata": {
    "ExecuteTime": {
     "end_time": "2020-09-09T15:07:22.917951Z",
     "start_time": "2020-09-09T15:07:22.895493Z"
    }
   },
   "outputs": [
    {
     "data": {
      "text/plain": [
       "array([9.73605139])"
      ]
     },
     "execution_count": 8,
     "metadata": {},
     "output_type": "execute_result"
    }
   ],
   "source": [
    "# Get coefficient\n",
    "lm.coef_"
   ]
  },
  {
   "cell_type": "code",
   "execution_count": 9,
   "metadata": {
    "ExecuteTime": {
     "end_time": "2020-09-09T15:07:22.949039Z",
     "start_time": "2020-09-09T15:07:22.926788Z"
    }
   },
   "outputs": [
    {
     "data": {
      "text/plain": [
       "0.0"
      ]
     },
     "execution_count": 9,
     "metadata": {},
     "output_type": "execute_result"
    }
   ],
   "source": [
    "# Get intercept\n",
    "lm.intercept_"
   ]
  },
  {
   "cell_type": "code",
   "execution_count": 10,
   "metadata": {
    "ExecuteTime": {
     "end_time": "2020-09-09T15:07:22.980635Z",
     "start_time": "2020-09-09T15:07:22.957311Z"
    }
   },
   "outputs": [],
   "source": [
    "pos_pred = lm.predict(bt)"
   ]
  },
  {
   "cell_type": "code",
   "execution_count": 11,
   "metadata": {
    "ExecuteTime": {
     "end_time": "2020-09-09T15:07:23.465407Z",
     "start_time": "2020-09-09T15:07:22.989571Z"
    },
    "scrolled": false
   },
   "outputs": [
    {
     "data": {
      "image/png": "[encoded data removed]",
      "text/plain": [
       "<Figure size 432x288 with 1 Axes>"
      ]
     },
     "metadata": {
      "needs_background": "light"
     },
     "output_type": "display_data"
    }
   ],
   "source": [
    "# Create scatter plot\n",
    "plt.scatter(bolt[\"time\"], bolt[\"position\"], label=\"Actual position\")\n",
    "\n",
    "# Create line plot\n",
    "plt.plot(bolt[\"time\"], pos_pred, color=\"red\", label=\"Ordinary Regression Line\")\n",
    "\n",
    "# Edit axes\n",
    "plt.xlim(bolt[\"time\"].min() - 1, bolt[\"time\"].max() + 1)  # change x-axis\n",
    "plt.ylim(bolt[\"position\"].min() - 1,\n",
    "         bolt[\"position\"].max() + 1)  # change y-axis\n",
    "\n",
    "# Print labels\n",
    "plt.grid(True)\n",
    "plt.legend()\n",
    "plt.show()"
   ]
  },
  {
   "cell_type": "code",
   "execution_count": 12,
   "metadata": {
    "ExecuteTime": {
     "end_time": "2020-09-09T15:07:23.496204Z",
     "start_time": "2020-09-09T15:07:23.470333Z"
    }
   },
   "outputs": [
    {
     "data": {
      "text/plain": [
       "0     0.000000\n",
       "1    -8.011695\n",
       "2    -7.942467\n",
       "3    -6.802274\n",
       "4    -5.272639\n",
       "5    -3.548283\n",
       "6    -1.531845\n",
       "7     0.484593\n",
       "8     2.501031\n",
       "9     4.420108\n",
       "10    5.657662\n",
       "Name: position, dtype: float64"
      ]
     },
     "execution_count": 12,
     "metadata": {},
     "output_type": "execute_result"
    }
   ],
   "source": [
    "pos_residuals = bp - pos_pred\n",
    "pos_residuals"
   ]
  },
  {
   "cell_type": "code",
   "execution_count": 13,
   "metadata": {
    "ExecuteTime": {
     "end_time": "2020-09-09T15:07:24.012507Z",
     "start_time": "2020-09-09T15:07:23.500125Z"
    },
    "scrolled": true
   },
   "outputs": [
    {
     "data": {
      "image/png": "[encoded data removed]",
      "text/plain": [
       "<Figure size 432x288 with 1 Axes>"
      ]
     },
     "metadata": {
      "needs_background": "light"
     },
     "output_type": "display_data"
    }
   ],
   "source": [
    "plt.scatter(bp, pos_residuals, label=\"residuals\")\n",
    "plt.axhline(y=0, color='red', label=\"y = 0\")\n",
    "plt.legend()\n",
    "plt.grid(True)\n",
    "plt.show()"
   ]
  },
  {
   "cell_type": "markdown",
   "metadata": {},
   "source": [
    "***"
   ]
  },
  {
   "cell_type": "markdown",
   "metadata": {},
   "source": [
    "## Cubic Polynomial 1"
   ]
  },
  {
   "cell_type": "markdown",
   "metadata": {},
   "source": [
    "$y = ax^3 + bx^2 + cx + d$"
   ]
  },
  {
   "cell_type": "code",
   "execution_count": 14,
   "metadata": {
    "ExecuteTime": {
     "end_time": "2020-09-09T15:07:24.028453Z",
     "start_time": "2020-09-09T15:07:24.017461Z"
    }
   },
   "outputs": [],
   "source": [
    "from sklearn.preprocessing import PolynomialFeatures\n",
    "from sklearn.pipeline import make_pipeline\n",
    "import numpy as np"
   ]
  },
  {
   "cell_type": "code",
   "execution_count": 15,
   "metadata": {
    "ExecuteTime": {
     "end_time": "2020-09-09T15:07:24.059015Z",
     "start_time": "2020-09-09T15:07:24.035324Z"
    }
   },
   "outputs": [],
   "source": [
    "cub_fit = PolynomialFeatures(degree=3, include_bias=False)"
   ]
  },
  {
   "cell_type": "code",
   "execution_count": 16,
   "metadata": {
    "ExecuteTime": {
     "end_time": "2020-09-09T15:07:24.090494Z",
     "start_time": "2020-09-09T15:07:24.066733Z"
    }
   },
   "outputs": [],
   "source": [
    "cm = LinearRegression()"
   ]
  },
  {
   "cell_type": "code",
   "execution_count": 17,
   "metadata": {
    "ExecuteTime": {
     "end_time": "2020-09-09T15:07:24.106496Z",
     "start_time": "2020-09-09T15:07:24.097493Z"
    }
   },
   "outputs": [],
   "source": [
    "cub_reg = make_pipeline(cub_fit, cm)"
   ]
  },
  {
   "cell_type": "code",
   "execution_count": 18,
   "metadata": {
    "ExecuteTime": {
     "end_time": "2020-09-09T15:07:24.153339Z",
     "start_time": "2020-09-09T15:07:24.113396Z"
    }
   },
   "outputs": [
    {
     "data": {
      "text/plain": [
       "Pipeline(steps=[('polynomialfeatures',\n",
       "                 PolynomialFeatures(degree=3, include_bias=False)),\n",
       "                ('linearregression', LinearRegression())])"
      ]
     },
     "execution_count": 18,
     "metadata": {},
     "output_type": "execute_result"
    }
   ],
   "source": [
    "cub_reg.fit(bt, bp)"
   ]
  },
  {
   "cell_type": "code",
   "execution_count": 19,
   "metadata": {
    "ExecuteTime": {
     "end_time": "2020-09-09T15:07:24.184001Z",
     "start_time": "2020-09-09T15:07:24.160920Z"
    }
   },
   "outputs": [
    {
     "data": {
      "text/plain": [
       "array([ 3.75096592,  1.3654344 , -0.07087901])"
      ]
     },
     "execution_count": 19,
     "metadata": {},
     "output_type": "execute_result"
    }
   ],
   "source": [
    "cm.coef_"
   ]
  },
  {
   "cell_type": "code",
   "execution_count": 20,
   "metadata": {
    "ExecuteTime": {
     "end_time": "2020-09-09T15:07:24.214570Z",
     "start_time": "2020-09-09T15:07:24.192483Z"
    }
   },
   "outputs": [
    {
     "data": {
      "text/plain": [
       "-0.30097506310944766"
      ]
     },
     "execution_count": 20,
     "metadata": {},
     "output_type": "execute_result"
    }
   ],
   "source": [
    "cm.intercept_"
   ]
  },
  {
   "cell_type": "code",
   "execution_count": 21,
   "metadata": {
    "ExecuteTime": {
     "end_time": "2020-09-09T15:07:24.230294Z",
     "start_time": "2020-09-09T15:07:24.219878Z"
    }
   },
   "outputs": [
    {
     "data": {
      "text/plain": [
       "0.9998621069077964"
      ]
     },
     "execution_count": 21,
     "metadata": {},
     "output_type": "execute_result"
    }
   ],
   "source": [
    "cub_reg.score(bt, bp)"
   ]
  },
  {
   "cell_type": "code",
   "execution_count": 22,
   "metadata": {
    "ExecuteTime": {
     "end_time": "2020-09-09T15:07:24.710545Z",
     "start_time": "2020-09-09T15:07:24.236295Z"
    },
    "scrolled": true
   },
   "outputs": [
    {
     "data": {
      "image/png": "[encoded data removed]",
      "text/plain": [
       "<Figure size 432x288 with 1 Axes>"
      ]
     },
     "metadata": {
      "needs_background": "light"
     },
     "output_type": "display_data"
    }
   ],
   "source": [
    "plt.scatter(bt, bp, color=\"blue\", label='Actual position')\n",
    "plt.plot(bt, cub_reg.predict(bt), color=\"red\", label='Predicted position')\n",
    "plt.xlabel(\"time (seconds)\")\n",
    "plt.ylabel(\"position (meters)\")\n",
    "plt.title(\"Usain Bolt's 2009 100m Run\")\n",
    "plt.legend()\n",
    "plt.grid(True)\n",
    "plt.show()"
   ]
  },
  {
   "cell_type": "code",
   "execution_count": 23,
   "metadata": {
    "ExecuteTime": {
     "end_time": "2020-09-09T15:07:24.725942Z",
     "start_time": "2020-09-09T15:07:24.715300Z"
    }
   },
   "outputs": [],
   "source": [
    "bp_pred = cub_reg.predict(bt)"
   ]
  },
  {
   "cell_type": "code",
   "execution_count": 24,
   "metadata": {
    "ExecuteTime": {
     "end_time": "2020-09-09T15:07:24.757233Z",
     "start_time": "2020-09-09T15:07:24.730257Z"
    }
   },
   "outputs": [],
   "source": [
    "bp_cub_residuals = bp - bp_pred"
   ]
  },
  {
   "cell_type": "code",
   "execution_count": 25,
   "metadata": {
    "ExecuteTime": {
     "end_time": "2020-09-09T15:07:25.100639Z",
     "start_time": "2020-09-09T15:07:24.768343Z"
    }
   },
   "outputs": [
    {
     "data": {
      "image/png": "[encoded data removed]",
      "text/plain": [
       "<Figure size 432x288 with 1 Axes>"
      ]
     },
     "metadata": {
      "needs_background": "light"
     },
     "output_type": "display_data"
    }
   ],
   "source": [
    "plt.scatter(bp, bp_cub_residuals)\n",
    "plt.axhline(y=0, color='red', label='y = 0')\n",
    "plt.legend()\n",
    "plt.grid(True)"
   ]
  },
  {
   "cell_type": "markdown",
   "metadata": {},
   "source": [
    "***"
   ]
  },
  {
   "cell_type": "markdown",
   "metadata": {},
   "source": [
    "## Cubic Polynomial 2"
   ]
  },
  {
   "cell_type": "markdown",
   "metadata": {},
   "source": [
    "$y = ax^3 + bx^2 + cx$"
   ]
  },
  {
   "cell_type": "code",
   "execution_count": 26,
   "metadata": {
    "ExecuteTime": {
     "end_time": "2020-09-09T15:07:25.131846Z",
     "start_time": "2020-09-09T15:07:25.108390Z"
    }
   },
   "outputs": [],
   "source": [
    "from sklearn.preprocessing import PolynomialFeatures\n",
    "from sklearn.pipeline import make_pipeline\n",
    "import numpy as np"
   ]
  },
  {
   "cell_type": "code",
   "execution_count": 27,
   "metadata": {
    "ExecuteTime": {
     "end_time": "2020-09-09T15:07:25.241688Z",
     "start_time": "2020-09-09T15:07:25.220600Z"
    }
   },
   "outputs": [],
   "source": [
    "poly_fit = PolynomialFeatures(degree=3, include_bias=False)"
   ]
  },
  {
   "cell_type": "code",
   "execution_count": 28,
   "metadata": {
    "ExecuteTime": {
     "end_time": "2020-09-09T15:07:25.272483Z",
     "start_time": "2020-09-09T15:07:25.249640Z"
    }
   },
   "outputs": [],
   "source": [
    "cm = LinearRegression(fit_intercept=False)"
   ]
  },
  {
   "cell_type": "code",
   "execution_count": 29,
   "metadata": {
    "ExecuteTime": {
     "end_time": "2020-09-09T15:07:25.319532Z",
     "start_time": "2020-09-09T15:07:25.281294Z"
    }
   },
   "outputs": [],
   "source": [
    "cub_reg = make_pipeline(poly_fit, cm)"
   ]
  },
  {
   "cell_type": "code",
   "execution_count": 30,
   "metadata": {
    "ExecuteTime": {
     "end_time": "2020-09-09T15:07:25.350423Z",
     "start_time": "2020-09-09T15:07:25.327176Z"
    }
   },
   "outputs": [
    {
     "data": {
      "text/plain": [
       "Pipeline(steps=[('polynomialfeatures',\n",
       "                 PolynomialFeatures(degree=3, include_bias=False)),\n",
       "                ('linearregression', LinearRegression(fit_intercept=False))])"
      ]
     },
     "execution_count": 30,
     "metadata": {},
     "output_type": "execute_result"
    }
   ],
   "source": [
    "cub_reg.fit(bt, bp)"
   ]
  },
  {
   "cell_type": "code",
   "execution_count": 31,
   "metadata": {
    "ExecuteTime": {
     "end_time": "2020-09-09T15:07:25.381605Z",
     "start_time": "2020-09-09T15:07:25.359646Z"
    }
   },
   "outputs": [
    {
     "data": {
      "text/plain": [
       "array([ 3.56296819,  1.39941833, -0.07273712])"
      ]
     },
     "execution_count": 31,
     "metadata": {},
     "output_type": "execute_result"
    }
   ],
   "source": [
    "cm.coef_"
   ]
  },
  {
   "cell_type": "code",
   "execution_count": 32,
   "metadata": {
    "ExecuteTime": {
     "end_time": "2020-09-09T15:07:25.412594Z",
     "start_time": "2020-09-09T15:07:25.389611Z"
    }
   },
   "outputs": [
    {
     "data": {
      "text/plain": [
       "0.0"
      ]
     },
     "execution_count": 32,
     "metadata": {},
     "output_type": "execute_result"
    }
   ],
   "source": [
    "cm.intercept_"
   ]
  },
  {
   "cell_type": "code",
   "execution_count": 33,
   "metadata": {
    "ExecuteTime": {
     "end_time": "2020-09-09T15:07:25.444255Z",
     "start_time": "2020-09-09T15:07:25.421957Z"
    }
   },
   "outputs": [
    {
     "data": {
      "text/plain": [
       "0.99985332777976"
      ]
     },
     "execution_count": 33,
     "metadata": {},
     "output_type": "execute_result"
    }
   ],
   "source": [
    "cub_reg.score(bt, bp)"
   ]
  },
  {
   "cell_type": "code",
   "execution_count": 34,
   "metadata": {
    "ExecuteTime": {
     "end_time": "2020-09-09T15:07:26.005058Z",
     "start_time": "2020-09-09T15:07:25.450450Z"
    },
    "scrolled": true
   },
   "outputs": [
    {
     "data": {
      "image/png": "[encoded data removed]",
      "text/plain": [
       "<Figure size 432x288 with 1 Axes>"
      ]
     },
     "metadata": {
      "needs_background": "light"
     },
     "output_type": "display_data"
    }
   ],
   "source": [
    "plt.scatter(bt, bp, color=\"blue\", label='Actual position')\n",
    "plt.plot(bt, cub_reg.predict(bt), color=\"red\", label='Predicted position')\n",
    "plt.xlabel(\"time (seconds)\")\n",
    "plt.ylabel(\"position (meters)\")\n",
    "plt.title(\"Usain Bolt's 2009 100m Run\")\n",
    "plt.legend()\n",
    "plt.grid(True)\n",
    "plt.show()"
   ]
  },
  {
   "cell_type": "code",
   "execution_count": 35,
   "metadata": {
    "ExecuteTime": {
     "end_time": "2020-09-09T15:07:26.050650Z",
     "start_time": "2020-09-09T15:07:26.020477Z"
    }
   },
   "outputs": [],
   "source": [
    "bp_pred = cub_reg.predict(bt)"
   ]
  },
  {
   "cell_type": "code",
   "execution_count": 36,
   "metadata": {
    "ExecuteTime": {
     "end_time": "2020-09-09T15:07:26.080959Z",
     "start_time": "2020-09-09T15:07:26.066152Z"
    }
   },
   "outputs": [],
   "source": [
    "bp_cub_residuals = bp - bp_pred"
   ]
  },
  {
   "cell_type": "code",
   "execution_count": 37,
   "metadata": {
    "ExecuteTime": {
     "end_time": "2020-09-09T15:07:26.581308Z",
     "start_time": "2020-09-09T15:07:26.095270Z"
    }
   },
   "outputs": [
    {
     "data": {
      "image/png": "[encoded data removed]",
      "text/plain": [
       "<Figure size 432x288 with 1 Axes>"
      ]
     },
     "metadata": {
      "needs_background": "light"
     },
     "output_type": "display_data"
    }
   ],
   "source": [
    "plt.scatter(bp, bp_cub_residuals)\n",
    "plt.axhline(y=0, color='red', label='y = 0')\n",
    "plt.legend()\n",
    "plt.grid(True)"
   ]
  },
  {
   "cell_type": "markdown",
   "metadata": {
    "ExecuteTime": {
     "end_time": "2020-09-09T13:07:29.733888Z",
     "start_time": "2020-09-09T13:07:29.712074Z"
    }
   },
   "source": [
    "* * *"
   ]
  },
  {
   "cell_type": "markdown",
   "metadata": {},
   "source": [
    "## Summary"
   ]
  },
  {
   "cell_type": "markdown",
   "metadata": {},
   "source": [
    "From the work accomplished in this notebook, the [1st cubic regression](#Cubic-Polynomial-1) has the barely the highest $R^2$ value at 0.99986 so we could assume this would be the best model.  However, the y-intercept is -0.3 which does not make rational sense.  \n",
    "\n",
    "The [2nd cubic regression](#Cubic-Polynomial-2) is more accurate because it starts (y-intercept) at 0, even though the $R^2$ value is -.00001 different.\n",
    "\n",
    "However, when looking at the residuals of each regression, there is a clear pattern of data.  This means we are failing to capture some aspect of our data.\n",
    "\n",
    "Question:\n",
    "> Of the models you have created, which one do you think is the best? Take into account all of the measures that we discussed in terms of assessing models.\n",
    "\n",
    "Answer:\n",
    "> The 2nd cubic regression where the y-intercept is set to 0.\n"
   ]
  }
 ],
 "metadata": {
  "kernelspec": {
   "display_name": "Python 3",
   "language": "python",
   "name": "python3"
  },
  "language_info": {
   "codemirror_mode": {
    "name": "ipython",
    "version": 3
   },
   "file_extension": ".py",
   "mimetype": "text/x-python",
   "name": "python",
   "nbconvert_exporter": "python",
   "pygments_lexer": "ipython3",
   "version": "3.8.5"
  },
  "notify_time": "30",
  "toc": {
   "base_numbering": 1,
   "nav_menu": {},
   "number_sections": true,
   "sideBar": true,
   "skip_h1_title": false,
   "title_cell": "Table of Contents",
   "title_sidebar": "Contents",
   "toc_cell": true,
   "toc_position": {},
   "toc_section_display": true,
   "toc_window_display": false
  }
 },
 "nbformat": 4,
 "nbformat_minor": 1
}
