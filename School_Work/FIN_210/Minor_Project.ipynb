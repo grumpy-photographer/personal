{
 "cells": [
  {
   "cell_type": "markdown",
   "metadata": {
    "ExecuteTime": {
     "end_time": "2020-09-13T19:27:12.707879Z",
     "start_time": "2020-09-13T19:27:12.689963Z"
    }
   },
   "source": [
    "# Minor Project\n",
    "\n",
    "Our Minor Project requires you to create a savings and investing plan to reach a total savings of $1,000,000.\n",
    "\n",
    "The objective is to accumulate $1,000,000 in savings, in 30 years from today.\n",
    "\n",
    "1. What amount of money must be set aside each month, to reach our goal, assuming that the money is not invested and no interest is earned?\n",
    "\n",
    "2. Assume that the money is placed in a checking account that pays a 2% interest rate. What amount must be deposited each month to reach our goal?\n",
    "\n",
    "3. For our third scenario, assume that the money is invested in an index fund, with an annual return rate of 8%. How does this change our calculation?\n",
    "\n",
    " Please, show your calculations and include your results in a table, for ease of comparison.\n",
    "\n",
    "Based on the above calculations, how difficult is it to become a millionaire? Please, include a discussion of each of the 3 scenarios above.\n",
    "\n",
    "While there is not a minimum page requirement for the assignment, your submission must include your calculations, the table with your results and a discussion of each scenario, in your own words."
   ]
  },
  {
   "cell_type": "markdown",
   "metadata": {},
   "source": [
    "Future Value Annuity Formula\n",
    "$FV = PMT x ((1 + i)^n -1) / i$"
   ]
  },
  {
   "cell_type": "markdown",
   "metadata": {},
   "source": [
    "* * *\n",
    "\n",
    "## Scenario 1"
   ]
  },
  {
   "cell_type": "markdown",
   "metadata": {},
   "source": [
    "What amount of money to set aside/month assuming money is not invested and no interest is earned?"
   ]
  },
  {
   "cell_type": "markdown",
   "metadata": {},
   "source": [
    "Future Value:\n",
    "FV = 1000000\n",
    "\n",
    "Present Value:\n",
    "PV = 0\n",
    "\n",
    "Number of periods: \n",
    "N = 360 periods = 12 months * 30 years\n",
    "\n",
    "Interest:\n",
    "I = 0\n",
    "\n",
    "Payment:\n",
    "PMT = "
   ]
  },
  {
   "cell_type": "markdown",
   "metadata": {
    "ExecuteTime": {
     "end_time": "2020-09-13T20:36:05.080518Z",
     "start_time": "2020-09-13T20:36:05.058979Z"
    }
   },
   "source": [
    "$PMT = \\frac{FV}{N}$"
   ]
  },
  {
   "cell_type": "code",
   "execution_count": 32,
   "metadata": {
    "ExecuteTime": {
     "end_time": "2020-09-13T20:39:04.238904Z",
     "start_time": "2020-09-13T20:39:04.229947Z"
    }
   },
   "outputs": [
    {
     "name": "stdout",
     "output_type": "stream",
     "text": [
      "PMT is: 2777.777777777778\n"
     ]
    }
   ],
   "source": [
    "FV = 1000000\n",
    "N = 12*30\n",
    "\n",
    "print(\"PMT is:\",FV/N)"
   ]
  },
  {
   "cell_type": "markdown",
   "metadata": {},
   "source": [
    "* * * \n",
    "\n",
    "## Scenario 2"
   ]
  },
  {
   "cell_type": "markdown",
   "metadata": {},
   "source": [
    "Assume that the money is placed in a checking account that pays a 2% interest rate.  What amount must be deposited each month to reach our goal?"
   ]
  },
  {
   "cell_type": "markdown",
   "metadata": {},
   "source": [
    "Future Value:\n",
    "FV = 1000000\n",
    "\n",
    "Present Value:\n",
    "PV = 0\n",
    "\n",
    "Number of periods: \n",
    "N = 360 periods = 12 months * 30 years\n",
    "\n",
    "Interest:\n",
    "I = 2%\n",
    "\n",
    "Payment:\n",
    "PMT = "
   ]
  },
  {
   "cell_type": "code",
   "execution_count": null,
   "metadata": {
    "ExecuteTime": {
     "end_time": "2020-09-13T20:32:54.885418Z",
     "start_time": "2020-09-13T20:32:54.741Z"
    }
   },
   "outputs": [],
   "source": [
    "FV = 1000000\n",
    "N = 12*30\n",
    "I = 0.02\n",
    "\n",
    "print(\"PMT is:\", )"
   ]
  },
  {
   "cell_type": "markdown",
   "metadata": {},
   "source": [
    "* * *\n",
    "\n",
    "## Scenario 3"
   ]
  },
  {
   "cell_type": "markdown",
   "metadata": {},
   "source": [
    "Assume that the money is invested in an index fund, with an annual rate of 8%.  How does this change our calculation?"
   ]
  },
  {
   "cell_type": "markdown",
   "metadata": {},
   "source": [
    "Future Value:\n",
    "FV = 1000000\n",
    "\n",
    "Present Value:\n",
    "PV = 0\n",
    "\n",
    "Number of Periods: N = 360 periods = 12 months * 30 years\n",
    "\n",
    "Payment:\n",
    "PMT = "
   ]
  },
  {
   "cell_type": "code",
   "execution_count": null,
   "metadata": {},
   "outputs": [],
   "source": []
  }
 ],
 "metadata": {
  "kernelspec": {
   "display_name": "Python 3",
   "language": "python",
   "name": "python3"
  },
  "language_info": {
   "codemirror_mode": {
    "name": "ipython",
    "version": 3
   },
   "file_extension": ".py",
   "mimetype": "text/x-python",
   "name": "python",
   "nbconvert_exporter": "python",
   "pygments_lexer": "ipython3",
   "version": "3.8.5"
  },
  "toc": {
   "base_numbering": 1,
   "nav_menu": {},
   "number_sections": true,
   "sideBar": true,
   "skip_h1_title": true,
   "title_cell": "Table of Contents",
   "title_sidebar": "Contents",
   "toc_cell": false,
   "toc_position": {},
   "toc_section_display": true,
   "toc_window_display": false
  }
 },
 "nbformat": 4,
 "nbformat_minor": 4
}
