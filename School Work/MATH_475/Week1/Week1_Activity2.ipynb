{
 "cells": [
  {
   "cell_type": "markdown",
   "metadata": {},
   "source": [
    "# Accessing More Tutorials"
   ]
  },
  {
   "cell_type": "markdown",
   "metadata": {},
   "source": [
    "Practice from [this website](http://www.randalolson.com/2012/08/06/statistical-analysis-made-easy-in-python/)\n",
    "\n",
    "[Data](https://github.com/rhiever/ipython-notebook-workshop/blob/master/parasite_data.csv)"
   ]
  },
  {
   "cell_type": "code",
   "execution_count": 1,
   "metadata": {},
   "outputs": [],
   "source": [
    "# Imports\n",
    "from pandas import *"
   ]
  },
  {
   "cell_type": "code",
   "execution_count": 2,
   "metadata": {},
   "outputs": [
    {
     "name": "stdout",
     "output_type": "stream",
     "text": [
      "     Virulence  Replicate  ShannonDiversity\n",
      "0          0.5          1          0.059262\n",
      "1          0.5          2          1.093600\n",
      "2          0.5          3          1.139390\n",
      "3          0.5          4          0.547651\n",
      "4          0.5          5          0.065928\n",
      "..         ...        ...               ...\n",
      "345        NaN         46          0.001669\n",
      "346        NaN         47          0.000000\n",
      "347        NaN         48          0.444463\n",
      "348        NaN         49          0.383512\n",
      "349        NaN         50          0.511329\n",
      "\n",
      "[350 rows x 3 columns]\n"
     ]
    }
   ],
   "source": [
    "# must specify that blank space \" \" is NaN\n",
    "experimentDF = read_csv(\"parasite_data.csv\", na_values=[\" \"])\n",
    "\n",
    "print(experimentDF)"
   ]
  },
  {
   "cell_type": "code",
   "execution_count": 3,
   "metadata": {},
   "outputs": [
    {
     "name": "stdout",
     "output_type": "stream",
     "text": [
      "0      0.5\n",
      "1      0.5\n",
      "2      0.5\n",
      "3      0.5\n",
      "4      0.5\n",
      "      ... \n",
      "345    NaN\n",
      "346    NaN\n",
      "347    NaN\n",
      "348    NaN\n",
      "349    NaN\n",
      "Name: Virulence, Length: 350, dtype: float64\n"
     ]
    }
   ],
   "source": [
    "# show all entires in the virulence column\n",
    "print(experimentDF[\"Virulence\"])"
   ]
  },
  {
   "cell_type": "code",
   "execution_count": 4,
   "metadata": {},
   "outputs": [
    {
     "name": "stdout",
     "output_type": "stream",
     "text": [
      "1.58981\n"
     ]
    }
   ],
   "source": [
    "# show the 12th row in the ShannonDiversity column\n",
    "print(experimentDF[\"ShannonDiversity\"][12])"
   ]
  },
  {
   "cell_type": "code",
   "execution_count": 5,
   "metadata": {},
   "outputs": [
    {
     "name": "stdout",
     "output_type": "stream",
     "text": [
      "     Virulence  Replicate  ShannonDiversity\n",
      "8          0.5          9           2.04768\n",
      "89         0.6         40           2.01066\n",
      "92         0.6         43           2.90081\n",
      "96         0.6         47           2.02915\n",
      "105        0.7          6           2.23427\n",
      "117        0.7         18           2.14296\n",
      "127        0.7         28           2.23599\n",
      "129        0.7         30           2.48422\n",
      "133        0.7         34           2.18506\n",
      "134        0.7         35           2.42177\n",
      "139        0.7         40           2.25737\n",
      "142        0.7         43           2.07258\n",
      "148        0.7         49           2.38326\n",
      "151        0.8          2           2.07970\n",
      "153        0.8          4           2.38474\n",
      "163        0.8         14           2.03252\n",
      "165        0.8         16           2.38415\n",
      "170        0.8         21           2.02297\n",
      "172        0.8         23           2.13882\n",
      "173        0.8         24           2.53339\n",
      "182        0.8         33           2.17865\n",
      "196        0.8         47           2.07718\n",
      "208        0.9          9           2.12240\n",
      "209        0.9         10           2.46144\n",
      "212        0.9         13           2.20476\n",
      "229        0.9         30           2.28026\n",
      "235        0.9         36           2.19565\n",
      "237        0.9         38           2.16535\n",
      "243        0.9         44           2.17578\n",
      "251        1.0          2           2.16044\n"
     ]
    }
   ],
   "source": [
    "# show all entries in the ShannonDiversity column > 2.0\n",
    "print(experimentDF[experimentDF[\"ShannonDiversity\"] > 2.0])"
   ]
  },
  {
   "cell_type": "code",
   "execution_count": 6,
   "metadata": {},
   "outputs": [
    {
     "name": "stdout",
     "output_type": "stream",
     "text": [
      "     Virulence  Replicate  ShannonDiversity\n",
      "300        NaN          1          0.000000\n",
      "301        NaN          2          0.000000\n",
      "302        NaN          3          0.833645\n",
      "303        NaN          4          0.000000\n",
      "304        NaN          5          0.990309\n",
      "305        NaN          6          0.000000\n",
      "306        NaN          7          0.000000\n",
      "307        NaN          8          0.000000\n",
      "308        NaN          9          0.061414\n",
      "309        NaN         10          0.316439\n",
      "310        NaN         11          0.904773\n",
      "311        NaN         12          0.884122\n",
      "312        NaN         13          0.000000\n",
      "313        NaN         14          0.000000\n",
      "314        NaN         15          0.000000\n",
      "315        NaN         16          0.000000\n",
      "316        NaN         17          0.013495\n",
      "317        NaN         18          0.882519\n",
      "318        NaN         19          0.000000\n",
      "319        NaN         20          0.986830\n",
      "320        NaN         21          0.000000\n",
      "321        NaN         22          0.000000\n",
      "322        NaN         23          0.000000\n",
      "323        NaN         24          0.000000\n",
      "324        NaN         25          0.000000\n",
      "325        NaN         26          0.000000\n",
      "326        NaN         27          1.702720\n",
      "327        NaN         28          0.169556\n",
      "328        NaN         29          0.949750\n",
      "329        NaN         30          0.240084\n",
      "330        NaN         31          0.925913\n",
      "331        NaN         32          0.000000\n",
      "332        NaN         33          0.693356\n",
      "333        NaN         34          0.000000\n",
      "334        NaN         35          0.310170\n",
      "335        NaN         36          0.000000\n",
      "336        NaN         37          0.000000\n",
      "337        NaN         38          0.000000\n",
      "338        NaN         39          0.000000\n",
      "339        NaN         40          0.000000\n",
      "340        NaN         41          0.000000\n",
      "341        NaN         42          0.000000\n",
      "342        NaN         43          0.000000\n",
      "343        NaN         44          0.000000\n",
      "344        NaN         45          0.391061\n",
      "345        NaN         46          0.001669\n",
      "346        NaN         47          0.000000\n",
      "347        NaN         48          0.444463\n",
      "348        NaN         49          0.383512\n",
      "349        NaN         50          0.511329\n"
     ]
    }
   ],
   "source": [
    "import numpy as np\n",
    "print(experimentDF[np.isnan(experimentDF[\"Virulence\"])])"
   ]
  },
  {
   "cell_type": "code",
   "execution_count": 7,
   "metadata": {},
   "outputs": [
    {
     "name": "stdout",
     "output_type": "stream",
     "text": [
      "Mean virulence across all treatments: 0.75\n"
     ]
    }
   ],
   "source": [
    "print(\"Mean virulence across all treatments:\", experimentDF[\"Virulence\"].mean())"
   ]
  },
  {
   "cell_type": "code",
   "execution_count": 8,
   "metadata": {},
   "outputs": [],
   "source": [
    "from scipy import stats"
   ]
  },
  {
   "cell_type": "code",
   "execution_count": null,
   "metadata": {},
   "outputs": [],
   "source": [
    "print()"
   ]
  }
 ],
 "metadata": {
  "kernelspec": {
   "display_name": "Python 3",
   "language": "python",
   "name": "python3"
  },
  "language_info": {
   "codemirror_mode": {
    "name": "ipython",
    "version": 3
   },
   "file_extension": ".py",
   "mimetype": "text/x-python",
   "name": "python",
   "nbconvert_exporter": "python",
   "pygments_lexer": "ipython3",
   "version": "3.7.9"
  }
 },
 "nbformat": 4,
 "nbformat_minor": 4
}
