{
 "cells": [
  {
   "cell_type": "markdown",
   "metadata": {},
   "source": [
    "# Ex 4.3b  *Field* Operations II\n",
    "\n",
    "- [In Class](#In-Class)  \n",
    "\n",
    "\n",
    "- [Exercise 4.3b](#Exercise-4.3b)  \n",
    "  - [Part 1: Shoes](#Part-1:-Shoes)\n",
    "  - [Part 2: IMDB_250_Scraped.csv](#Part-2:-Screenscraped-IMBDB-Top-250)  \n"
   ]
  },
  {
   "cell_type": "code",
   "execution_count": 24,
   "metadata": {},
   "outputs": [],
   "source": [
    "import pandas as pd"
   ]
  },
  {
   "cell_type": "markdown",
   "metadata": {},
   "source": [
    "# In Class \n",
    "Start from the pickle you saved at the end of Ex 4.3a In Class: **4.3a_EX_Employees.pkl**"
   ]
  },
  {
   "cell_type": "code",
   "execution_count": 25,
   "metadata": {},
   "outputs": [
    {
     "data": {
      "text/html": [
       "<div>\n",
       "<style scoped>\n",
       "    .dataframe tbody tr th:only-of-type {\n",
       "        vertical-align: middle;\n",
       "    }\n",
       "\n",
       "    .dataframe tbody tr th {\n",
       "        vertical-align: top;\n",
       "    }\n",
       "\n",
       "    .dataframe thead th {\n",
       "        text-align: right;\n",
       "    }\n",
       "</style>\n",
       "<table border=\"1\" class=\"dataframe\">\n",
       "  <thead>\n",
       "    <tr style=\"text-align: right;\">\n",
       "      <th></th>\n",
       "      <th>BusinessEntityID</th>\n",
       "      <th>EmployeeName</th>\n",
       "      <th>EmailAddress</th>\n",
       "      <th>PhoneNumber</th>\n",
       "      <th>StartDate</th>\n",
       "      <th>CurrentSalary</th>\n",
       "      <th>LastName</th>\n",
       "      <th>FirstName</th>\n",
       "      <th>AreaCode</th>\n",
       "      <th>LocalPhoneNumber</th>\n",
       "    </tr>\n",
       "  </thead>\n",
       "  <tbody>\n",
       "    <tr>\n",
       "      <th>0</th>\n",
       "      <td>1699</td>\n",
       "      <td>Robinett, David</td>\n",
       "      <td>david22@adventure-works.com</td>\n",
       "      <td>(827) 525-0100</td>\n",
       "      <td>06-05-2010</td>\n",
       "      <td>$80,950</td>\n",
       "      <td>Robinett</td>\n",
       "      <td>David</td>\n",
       "      <td>(827</td>\n",
       "      <td>525-0100</td>\n",
       "    </tr>\n",
       "    <tr>\n",
       "      <th>1</th>\n",
       "      <td>1700</td>\n",
       "      <td>Robinson, Rebecca</td>\n",
       "      <td>rebecca5 @adventure-works.com</td>\n",
       "      <td>(829) 525-0101</td>\n",
       "      <td>05-01-2015</td>\n",
       "      <td>$70,950</td>\n",
       "      <td>Robinson</td>\n",
       "      <td>Rebecca</td>\n",
       "      <td>(829</td>\n",
       "      <td>525-0101</td>\n",
       "    </tr>\n",
       "  </tbody>\n",
       "</table>\n",
       "</div>"
      ],
      "text/plain": [
       "   BusinessEntityID       EmployeeName                   EmailAddress  \\\n",
       "0              1699    Robinett, David    david22@adventure-works.com   \n",
       "1              1700  Robinson, Rebecca  rebecca5 @adventure-works.com   \n",
       "\n",
       "      PhoneNumber   StartDate CurrentSalary  LastName FirstName AreaCode  \\\n",
       "0  (827) 525-0100  06-05-2010       $80,950  Robinett     David     (827   \n",
       "1  (829) 525-0101  05-01-2015       $70,950  Robinson   Rebecca     (829   \n",
       "\n",
       "  LocalPhoneNumber  \n",
       "0         525-0100  \n",
       "1         525-0101  "
      ]
     },
     "execution_count": 25,
     "metadata": {},
     "output_type": "execute_result"
    }
   ],
   "source": [
    "# Read and display the top rows of the pickle\n",
    "file = './Data/4.3a_EX_Employees.pkl'\n",
    "\n",
    "df_employees = pd.read_pickle(file)\n",
    "\n",
    "df_employees.head(2)"
   ]
  },
  {
   "cell_type": "markdown",
   "metadata": {},
   "source": [
    "### Get rid of non-numeric junk in AreaCode field"
   ]
  },
  {
   "cell_type": "code",
   "execution_count": 26,
   "metadata": {
    "scrolled": true
   },
   "outputs": [
    {
     "data": {
      "text/plain": [
       "0    827\n",
       "1    829\n",
       "2    828\n",
       "Name: AreaCode, dtype: object"
      ]
     },
     "execution_count": 26,
     "metadata": {},
     "output_type": "execute_result"
    }
   ],
   "source": [
    "df_employees['AreaCode'] = df_employees['AreaCode'].str.replace('(', '')\n",
    "df_employees['AreaCode'].head()"
   ]
  },
  {
   "cell_type": "markdown",
   "metadata": {},
   "source": [
    "### Get rid of non-numeric junk in CurrentSalary "
   ]
  },
  {
   "cell_type": "code",
   "execution_count": 27,
   "metadata": {
    "scrolled": true
   },
   "outputs": [
    {
     "data": {
      "text/plain": [
       "0    80950\n",
       "1    70950\n",
       "2     5000\n",
       "Name: CurrentSalary, dtype: object"
      ]
     },
     "execution_count": 27,
     "metadata": {},
     "output_type": "execute_result"
    }
   ],
   "source": [
    "df_employees['CurrentSalary'] = df_employees['CurrentSalary'].str.replace('$', '')\n",
    "df_employees['CurrentSalary'] = df_employees['CurrentSalary'].str.replace(',', '')\n",
    "\n",
    "df_employees['CurrentSalary'].head()"
   ]
  },
  {
   "cell_type": "markdown",
   "metadata": {},
   "source": [
    "### Change Data Types"
   ]
  },
  {
   "cell_type": "code",
   "execution_count": 28,
   "metadata": {},
   "outputs": [
    {
     "data": {
      "text/plain": [
       "BusinessEntityID     int64\n",
       "EmployeeName        object\n",
       "EmailAddress        object\n",
       "PhoneNumber         object\n",
       "StartDate           object\n",
       "CurrentSalary       object\n",
       "LastName            object\n",
       "FirstName           object\n",
       "AreaCode            object\n",
       "LocalPhoneNumber    object\n",
       "dtype: object"
      ]
     },
     "execution_count": 28,
     "metadata": {},
     "output_type": "execute_result"
    }
   ],
   "source": [
    "df_employees.dtypes"
   ]
  },
  {
   "cell_type": "code",
   "execution_count": 29,
   "metadata": {},
   "outputs": [
    {
     "data": {
      "text/html": [
       "<div>\n",
       "<style scoped>\n",
       "    .dataframe tbody tr th:only-of-type {\n",
       "        vertical-align: middle;\n",
       "    }\n",
       "\n",
       "    .dataframe tbody tr th {\n",
       "        vertical-align: top;\n",
       "    }\n",
       "\n",
       "    .dataframe thead th {\n",
       "        text-align: right;\n",
       "    }\n",
       "</style>\n",
       "<table border=\"1\" class=\"dataframe\">\n",
       "  <thead>\n",
       "    <tr style=\"text-align: right;\">\n",
       "      <th></th>\n",
       "      <th>BusinessEntityID</th>\n",
       "      <th>EmployeeName</th>\n",
       "      <th>EmailAddress</th>\n",
       "      <th>PhoneNumber</th>\n",
       "      <th>StartDate</th>\n",
       "      <th>CurrentSalary</th>\n",
       "      <th>LastName</th>\n",
       "      <th>FirstName</th>\n",
       "      <th>AreaCode</th>\n",
       "      <th>LocalPhoneNumber</th>\n",
       "    </tr>\n",
       "  </thead>\n",
       "  <tbody>\n",
       "    <tr>\n",
       "      <th>0</th>\n",
       "      <td>1699</td>\n",
       "      <td>Robinett, David</td>\n",
       "      <td>david22@adventure-works.com</td>\n",
       "      <td>(827) 525-0100</td>\n",
       "      <td>06-05-2010</td>\n",
       "      <td>80950</td>\n",
       "      <td>Robinett</td>\n",
       "      <td>David</td>\n",
       "      <td>827</td>\n",
       "      <td>525-0100</td>\n",
       "    </tr>\n",
       "    <tr>\n",
       "      <th>1</th>\n",
       "      <td>1700</td>\n",
       "      <td>Robinson, Rebecca</td>\n",
       "      <td>rebecca5 @adventure-works.com</td>\n",
       "      <td>(829) 525-0101</td>\n",
       "      <td>05-01-2015</td>\n",
       "      <td>70950</td>\n",
       "      <td>Robinson</td>\n",
       "      <td>Rebecca</td>\n",
       "      <td>829</td>\n",
       "      <td>525-0101</td>\n",
       "    </tr>\n",
       "  </tbody>\n",
       "</table>\n",
       "</div>"
      ],
      "text/plain": [
       "   BusinessEntityID       EmployeeName                   EmailAddress  \\\n",
       "0              1699    Robinett, David    david22@adventure-works.com   \n",
       "1              1700  Robinson, Rebecca  rebecca5 @adventure-works.com   \n",
       "\n",
       "      PhoneNumber   StartDate CurrentSalary  LastName FirstName AreaCode  \\\n",
       "0  (827) 525-0100  06-05-2010         80950  Robinett     David      827   \n",
       "1  (829) 525-0101  05-01-2015         70950  Robinson   Rebecca      829   \n",
       "\n",
       "  LocalPhoneNumber  \n",
       "0         525-0100  \n",
       "1         525-0101  "
      ]
     },
     "execution_count": 29,
     "metadata": {},
     "output_type": "execute_result"
    }
   ],
   "source": [
    "df_employees.head(2)"
   ]
  },
  {
   "cell_type": "code",
   "execution_count": 30,
   "metadata": {},
   "outputs": [
    {
     "data": {
      "text/plain": [
       "BusinessEntityID      int64\n",
       "EmployeeName         object\n",
       "EmailAddress         object\n",
       "PhoneNumber          object\n",
       "StartDate            object\n",
       "CurrentSalary       float64\n",
       "LastName             object\n",
       "FirstName            object\n",
       "AreaCode             object\n",
       "LocalPhoneNumber     object\n",
       "dtype: object"
      ]
     },
     "execution_count": 30,
     "metadata": {},
     "output_type": "execute_result"
    }
   ],
   "source": [
    "# Change CurrentSalary to float\n",
    "df_employees['CurrentSalary'] = pd.to_numeric(df_employees['CurrentSalary']).astype(float)\n",
    "\n",
    "df_employees.dtypes"
   ]
  },
  {
   "cell_type": "code",
   "execution_count": 31,
   "metadata": {},
   "outputs": [
    {
     "data": {
      "text/plain": [
       "BusinessEntityID             int64\n",
       "EmployeeName                object\n",
       "EmailAddress                object\n",
       "PhoneNumber                 object\n",
       "StartDate           datetime64[ns]\n",
       "CurrentSalary              float64\n",
       "LastName                    object\n",
       "FirstName                   object\n",
       "AreaCode                    object\n",
       "LocalPhoneNumber            object\n",
       "dtype: object"
      ]
     },
     "execution_count": 31,
     "metadata": {},
     "output_type": "execute_result"
    }
   ],
   "source": [
    "# Change StartDate to date\n",
    "df_employees['StartDate'] = pd.to_datetime(df_employees['StartDate'])\n",
    "\n",
    "df_employees.dtypes"
   ]
  },
  {
   "cell_type": "code",
   "execution_count": 32,
   "metadata": {},
   "outputs": [],
   "source": [
    "# Save the dataframe as a pickle named: 4.3b_EX_Employees.pkl\n",
    "df_employees.to_pickle('./Data/4.3b_EX_Employees.pkl')"
   ]
  },
  {
   "cell_type": "markdown",
   "metadata": {},
   "source": [
    "# Ex 4.3b"
   ]
  },
  {
   "cell_type": "markdown",
   "metadata": {},
   "source": [
    "# Part 1: Shoes  \n",
    "### Read Ex 4.3a, Part 1 pickle file as the starting point for further data wrangling operations"
   ]
  },
  {
   "cell_type": "code",
   "execution_count": 33,
   "metadata": {},
   "outputs": [
    {
     "data": {
      "text/html": [
       "<div>\n",
       "<style scoped>\n",
       "    .dataframe tbody tr th:only-of-type {\n",
       "        vertical-align: middle;\n",
       "    }\n",
       "\n",
       "    .dataframe tbody tr th {\n",
       "        vertical-align: top;\n",
       "    }\n",
       "\n",
       "    .dataframe thead th {\n",
       "        text-align: right;\n",
       "    }\n",
       "</style>\n",
       "<table border=\"1\" class=\"dataframe\">\n",
       "  <thead>\n",
       "    <tr style=\"text-align: right;\">\n",
       "      <th></th>\n",
       "      <th>OrderID</th>\n",
       "      <th>Order Date</th>\n",
       "      <th>Shoe_Type</th>\n",
       "      <th>Size</th>\n",
       "      <th>Colour</th>\n",
       "      <th>Sales</th>\n",
       "      <th>StoreID</th>\n",
       "      <th>StateAbbrev</th>\n",
       "      <th>SubstateID</th>\n",
       "    </tr>\n",
       "  </thead>\n",
       "  <tbody>\n",
       "    <tr>\n",
       "      <th>0</th>\n",
       "      <td>1</td>\n",
       "      <td>2018-05-02</td>\n",
       "      <td>Pumps</td>\n",
       "      <td>7 (EU)</td>\n",
       "      <td>Gold</td>\n",
       "      <td>$25,100</td>\n",
       "      <td>CA-121</td>\n",
       "      <td>CA</td>\n",
       "      <td>121</td>\n",
       "    </tr>\n",
       "    <tr>\n",
       "      <th>1</th>\n",
       "      <td>2</td>\n",
       "      <td>2018-05-03</td>\n",
       "      <td>Pumps</td>\n",
       "      <td>4 (EU)</td>\n",
       "      <td>Gold</td>\n",
       "      <td>$35,500</td>\n",
       "      <td>CA-235</td>\n",
       "      <td>CA</td>\n",
       "      <td>235</td>\n",
       "    </tr>\n",
       "    <tr>\n",
       "      <th>2</th>\n",
       "      <td>3</td>\n",
       "      <td>2018-06-04</td>\n",
       "      <td>Loafer</td>\n",
       "      <td>6 (EU)</td>\n",
       "      <td>Gold</td>\n",
       "      <td>$50,000</td>\n",
       "      <td>NY-12</td>\n",
       "      <td>NY</td>\n",
       "      <td>12</td>\n",
       "    </tr>\n",
       "  </tbody>\n",
       "</table>\n",
       "</div>"
      ],
      "text/plain": [
       "   OrderID  Order Date Shoe_Type    Size Colour    Sales StoreID StateAbbrev  \\\n",
       "0        1  2018-05-02     Pumps  7 (EU)   Gold  $25,100  CA-121          CA   \n",
       "1        2  2018-05-03     Pumps  4 (EU)   Gold  $35,500  CA-235          CA   \n",
       "2        3  2018-06-04    Loafer  6 (EU)   Gold  $50,000   NY-12          NY   \n",
       "\n",
       "  SubstateID  \n",
       "0        121  \n",
       "1        235  \n",
       "2         12  "
      ]
     },
     "execution_count": 33,
     "metadata": {},
     "output_type": "execute_result"
    }
   ],
   "source": [
    "# Read the pickle and display top rows\n",
    "df_Shoes = pd.read_pickle('./Data/4.3a_Ex_Shoes_Split.pkl')\n",
    "\n",
    "df_Shoes.head(3)"
   ]
  },
  {
   "cell_type": "code",
   "execution_count": 34,
   "metadata": {},
   "outputs": [
    {
     "data": {
      "text/plain": [
       "Index(['OrderID', 'Order Date', 'Shoe_Type', 'Size', 'Colour', 'Sales',\n",
       "       'StoreID', 'StateAbbrev', 'SubstateID'],\n",
       "      dtype='object')"
      ]
     },
     "execution_count": 34,
     "metadata": {},
     "output_type": "execute_result"
    }
   ],
   "source": [
    "df_Shoes.columns"
   ]
  },
  {
   "cell_type": "markdown",
   "metadata": {},
   "source": [
    "### Get rid of non-numeric junk in Sales field"
   ]
  },
  {
   "cell_type": "code",
   "execution_count": 35,
   "metadata": {
    "scrolled": true
   },
   "outputs": [
    {
     "data": {
      "text/plain": [
       "0    25100\n",
       "1    35500\n",
       "2    50000\n",
       "Name: Sales, dtype: object"
      ]
     },
     "execution_count": 35,
     "metadata": {},
     "output_type": "execute_result"
    }
   ],
   "source": [
    "df_Shoes['Sales'] = df_Shoes['Sales'].str.replace('$', '')\n",
    "df_Shoes['Sales'] = df_Shoes['Sales'].str.replace(',', '')\n",
    "\n",
    "\n",
    "df_Shoes['Sales'].head()"
   ]
  },
  {
   "cell_type": "markdown",
   "metadata": {},
   "source": [
    "### Get rid of non-numeric junk in Size field"
   ]
  },
  {
   "cell_type": "code",
   "execution_count": 36,
   "metadata": {
    "scrolled": true
   },
   "outputs": [
    {
     "data": {
      "text/plain": [
       "0    7 \n",
       "1    4 \n",
       "2    6 \n",
       "Name: Size, dtype: object"
      ]
     },
     "execution_count": 36,
     "metadata": {},
     "output_type": "execute_result"
    }
   ],
   "source": [
    "df_Shoes['Size'] = df_Shoes['Size'].str.replace('(', '')\n",
    "df_Shoes['Size'] = df_Shoes['Size'].str.replace('EU', '')\n",
    "df_Shoes['Size'] = df_Shoes['Size'].str.replace(')', '')\n",
    "\n",
    "\n",
    "df_Shoes['Size'].head()"
   ]
  },
  {
   "cell_type": "markdown",
   "metadata": {},
   "source": [
    "### Change Data Types"
   ]
  },
  {
   "cell_type": "code",
   "execution_count": 37,
   "metadata": {},
   "outputs": [
    {
     "data": {
      "text/plain": [
       "OrderID         int64\n",
       "Order Date     object\n",
       "Shoe_Type      object\n",
       "Size           object\n",
       "Colour         object\n",
       "Sales          object\n",
       "StoreID        object\n",
       "StateAbbrev    object\n",
       "SubstateID     object\n",
       "dtype: object"
      ]
     },
     "execution_count": 37,
     "metadata": {},
     "output_type": "execute_result"
    }
   ],
   "source": [
    "df_Shoes.dtypes"
   ]
  },
  {
   "cell_type": "code",
   "execution_count": 38,
   "metadata": {},
   "outputs": [
    {
     "data": {
      "text/plain": [
       "OrderID         int64\n",
       "Order Date     object\n",
       "Shoe_Type      object\n",
       "Size            int32\n",
       "Colour         object\n",
       "Sales          object\n",
       "StoreID        object\n",
       "StateAbbrev    object\n",
       "SubstateID     object\n",
       "dtype: object"
      ]
     },
     "execution_count": 38,
     "metadata": {},
     "output_type": "execute_result"
    }
   ],
   "source": [
    "# Change the data type of Size from string to int\n",
    "df_Shoes['Size'] = pd.to_numeric(df_Shoes['Size']).astype(int)\n",
    "\n",
    "df_Shoes.dtypes"
   ]
  },
  {
   "cell_type": "code",
   "execution_count": 39,
   "metadata": {},
   "outputs": [
    {
     "data": {
      "text/plain": [
       "OrderID          int64\n",
       "Order Date      object\n",
       "Shoe_Type       object\n",
       "Size           float64\n",
       "Colour          object\n",
       "Sales           object\n",
       "StoreID         object\n",
       "StateAbbrev     object\n",
       "SubstateID      object\n",
       "dtype: object"
      ]
     },
     "execution_count": 39,
     "metadata": {},
     "output_type": "execute_result"
    }
   ],
   "source": [
    "# Change the data type of Sales to float\n",
    "df_Shoes['Size'] = pd.to_numeric(df_Shoes['Size']).astype(float)\n",
    "\n",
    "df_Shoes.dtypes"
   ]
  },
  {
   "cell_type": "code",
   "execution_count": 40,
   "metadata": {
    "scrolled": true
   },
   "outputs": [
    {
     "data": {
      "text/html": [
       "<div>\n",
       "<style scoped>\n",
       "    .dataframe tbody tr th:only-of-type {\n",
       "        vertical-align: middle;\n",
       "    }\n",
       "\n",
       "    .dataframe tbody tr th {\n",
       "        vertical-align: top;\n",
       "    }\n",
       "\n",
       "    .dataframe thead th {\n",
       "        text-align: right;\n",
       "    }\n",
       "</style>\n",
       "<table border=\"1\" class=\"dataframe\">\n",
       "  <thead>\n",
       "    <tr style=\"text-align: right;\">\n",
       "      <th></th>\n",
       "      <th>OrderID</th>\n",
       "      <th>Order Date</th>\n",
       "      <th>Shoe_Type</th>\n",
       "      <th>Size</th>\n",
       "      <th>Colour</th>\n",
       "      <th>Sales</th>\n",
       "      <th>StoreID</th>\n",
       "      <th>StateAbbrev</th>\n",
       "      <th>SubstateID</th>\n",
       "    </tr>\n",
       "  </thead>\n",
       "  <tbody>\n",
       "    <tr>\n",
       "      <th>0</th>\n",
       "      <td>1</td>\n",
       "      <td>2018-05-02</td>\n",
       "      <td>Pumps</td>\n",
       "      <td>7.0</td>\n",
       "      <td>Gold</td>\n",
       "      <td>25100</td>\n",
       "      <td>CA-121</td>\n",
       "      <td>CA</td>\n",
       "      <td>121</td>\n",
       "    </tr>\n",
       "    <tr>\n",
       "      <th>1</th>\n",
       "      <td>2</td>\n",
       "      <td>2018-05-03</td>\n",
       "      <td>Pumps</td>\n",
       "      <td>4.0</td>\n",
       "      <td>Gold</td>\n",
       "      <td>35500</td>\n",
       "      <td>CA-235</td>\n",
       "      <td>CA</td>\n",
       "      <td>235</td>\n",
       "    </tr>\n",
       "  </tbody>\n",
       "</table>\n",
       "</div>"
      ],
      "text/plain": [
       "   OrderID  Order Date Shoe_Type  Size Colour  Sales StoreID StateAbbrev  \\\n",
       "0        1  2018-05-02     Pumps   7.0   Gold  25100  CA-121          CA   \n",
       "1        2  2018-05-03     Pumps   4.0   Gold  35500  CA-235          CA   \n",
       "\n",
       "  SubstateID  \n",
       "0        121  \n",
       "1        235  "
      ]
     },
     "execution_count": 40,
     "metadata": {},
     "output_type": "execute_result"
    }
   ],
   "source": [
    "# Display the top rows of the dataframe\n",
    "df_Shoes.head(2)"
   ]
  },
  {
   "cell_type": "markdown",
   "metadata": {},
   "source": [
    "# Part 2: Screenscraped IMDB Top 250  \n",
    "### Read Ex 4.3a, Part 2 pickle file as the starting point for further data wrangling operations\n",
    "Start with the pickle file you created at the end of Ex 4.3a, Part 2"
   ]
  },
  {
   "cell_type": "code",
   "execution_count": 45,
   "metadata": {
    "scrolled": true
   },
   "outputs": [
    {
     "data": {
      "text/html": [
       "<div>\n",
       "<style scoped>\n",
       "    .dataframe tbody tr th:only-of-type {\n",
       "        vertical-align: middle;\n",
       "    }\n",
       "\n",
       "    .dataframe tbody tr th {\n",
       "        vertical-align: top;\n",
       "    }\n",
       "\n",
       "    .dataframe thead th {\n",
       "        text-align: right;\n",
       "    }\n",
       "</style>\n",
       "<table border=\"1\" class=\"dataframe\">\n",
       "  <thead>\n",
       "    <tr style=\"text-align: right;\">\n",
       "      <th></th>\n",
       "      <th>Rank</th>\n",
       "      <th>Title</th>\n",
       "      <th>YearWithJunk</th>\n",
       "      <th>IMDb Rating</th>\n",
       "    </tr>\n",
       "  </thead>\n",
       "  <tbody>\n",
       "    <tr>\n",
       "      <th>0</th>\n",
       "      <td>1</td>\n",
       "      <td>The Shawshank Redemption</td>\n",
       "      <td>1994)</td>\n",
       "      <td>9.2</td>\n",
       "    </tr>\n",
       "    <tr>\n",
       "      <th>1</th>\n",
       "      <td>2</td>\n",
       "      <td>The Godfather</td>\n",
       "      <td>1972)</td>\n",
       "      <td>9.2</td>\n",
       "    </tr>\n",
       "  </tbody>\n",
       "</table>\n",
       "</div>"
      ],
      "text/plain": [
       "  Rank                       Title YearWithJunk  IMDb Rating\n",
       "0    1   The Shawshank Redemption         1994)          9.2\n",
       "1    2              The Godfather         1972)          9.2"
      ]
     },
     "execution_count": 45,
     "metadata": {},
     "output_type": "execute_result"
    }
   ],
   "source": [
    "#Read the pickle file and display the top rows\n",
    "df_IMDB = pd.read_pickle('./Data/4.3a_Ex_Part_2.3.pkl')\n",
    "\n",
    "df_IMDB.head(2)"
   ]
  },
  {
   "cell_type": "markdown",
   "metadata": {},
   "source": [
    "### YearWithJunk: Get rid of Non-Numeric Junk and Rename if *Year*"
   ]
  },
  {
   "cell_type": "code",
   "execution_count": 46,
   "metadata": {},
   "outputs": [
    {
     "data": {
      "text/plain": [
       "Index(['Rank', 'Title', 'YearWithJunk', 'IMDb Rating'], dtype='object')"
      ]
     },
     "execution_count": 46,
     "metadata": {},
     "output_type": "execute_result"
    }
   ],
   "source": [
    "df_IMDB.columns\n"
   ]
  },
  {
   "cell_type": "code",
   "execution_count": 49,
   "metadata": {},
   "outputs": [
    {
     "data": {
      "text/plain": [
       "0    1994\n",
       "1    1972\n",
       "2    1974\n",
       "3    2008\n",
       "4    1957\n",
       "Name: YearWithJunk, dtype: object"
      ]
     },
     "execution_count": 49,
     "metadata": {},
     "output_type": "execute_result"
    }
   ],
   "source": [
    "# Get rid of non-numeric junk in the YearWithJunk field\n",
    "df_IMDB['YearWithJunk'] = df_IMDB['YearWithJunk'].str.replace(')', '')\n",
    "\n",
    "df_IMDB['YearWithJunk'].head()"
   ]
  },
  {
   "cell_type": "code",
   "execution_count": 50,
   "metadata": {},
   "outputs": [
    {
     "data": {
      "text/html": [
       "<div>\n",
       "<style scoped>\n",
       "    .dataframe tbody tr th:only-of-type {\n",
       "        vertical-align: middle;\n",
       "    }\n",
       "\n",
       "    .dataframe tbody tr th {\n",
       "        vertical-align: top;\n",
       "    }\n",
       "\n",
       "    .dataframe thead th {\n",
       "        text-align: right;\n",
       "    }\n",
       "</style>\n",
       "<table border=\"1\" class=\"dataframe\">\n",
       "  <thead>\n",
       "    <tr style=\"text-align: right;\">\n",
       "      <th></th>\n",
       "      <th>Rank</th>\n",
       "      <th>Title</th>\n",
       "      <th>Year</th>\n",
       "      <th>IMDb Rating</th>\n",
       "    </tr>\n",
       "  </thead>\n",
       "  <tbody>\n",
       "    <tr>\n",
       "      <th>0</th>\n",
       "      <td>1</td>\n",
       "      <td>The Shawshank Redemption</td>\n",
       "      <td>1994</td>\n",
       "      <td>9.2</td>\n",
       "    </tr>\n",
       "    <tr>\n",
       "      <th>1</th>\n",
       "      <td>2</td>\n",
       "      <td>The Godfather</td>\n",
       "      <td>1972</td>\n",
       "      <td>9.2</td>\n",
       "    </tr>\n",
       "    <tr>\n",
       "      <th>2</th>\n",
       "      <td>3</td>\n",
       "      <td>The Godfather: Part II</td>\n",
       "      <td>1974</td>\n",
       "      <td>9.0</td>\n",
       "    </tr>\n",
       "    <tr>\n",
       "      <th>3</th>\n",
       "      <td>4</td>\n",
       "      <td>The Dark Knight</td>\n",
       "      <td>2008</td>\n",
       "      <td>9.0</td>\n",
       "    </tr>\n",
       "    <tr>\n",
       "      <th>4</th>\n",
       "      <td>5</td>\n",
       "      <td>12 Angry Men</td>\n",
       "      <td>1957</td>\n",
       "      <td>8.9</td>\n",
       "    </tr>\n",
       "  </tbody>\n",
       "</table>\n",
       "</div>"
      ],
      "text/plain": [
       "  Rank                       Title  Year  IMDb Rating\n",
       "0    1   The Shawshank Redemption   1994          9.2\n",
       "1    2              The Godfather   1972          9.2\n",
       "2    3     The Godfather: Part II   1974          9.0\n",
       "3    4            The Dark Knight   2008          9.0\n",
       "4    5               12 Angry Men   1957          8.9"
      ]
     },
     "execution_count": 50,
     "metadata": {},
     "output_type": "execute_result"
    }
   ],
   "source": [
    "# Rename YearWithJunk to Year\n",
    "df_IMDB.rename(columns = {'YearWithJunk': 'Year'}, inplace=True) \n",
    "\n",
    "df_IMDB.head()"
   ]
  },
  {
   "cell_type": "code",
   "execution_count": 51,
   "metadata": {},
   "outputs": [
    {
     "data": {
      "text/html": [
       "<div>\n",
       "<style scoped>\n",
       "    .dataframe tbody tr th:only-of-type {\n",
       "        vertical-align: middle;\n",
       "    }\n",
       "\n",
       "    .dataframe tbody tr th {\n",
       "        vertical-align: top;\n",
       "    }\n",
       "\n",
       "    .dataframe thead th {\n",
       "        text-align: right;\n",
       "    }\n",
       "</style>\n",
       "<table border=\"1\" class=\"dataframe\">\n",
       "  <thead>\n",
       "    <tr style=\"text-align: right;\">\n",
       "      <th></th>\n",
       "      <th>Rank</th>\n",
       "      <th>Title</th>\n",
       "      <th>Year</th>\n",
       "      <th>Rating</th>\n",
       "    </tr>\n",
       "  </thead>\n",
       "  <tbody>\n",
       "    <tr>\n",
       "      <th>0</th>\n",
       "      <td>1</td>\n",
       "      <td>The Shawshank Redemption</td>\n",
       "      <td>1994</td>\n",
       "      <td>9.2</td>\n",
       "    </tr>\n",
       "    <tr>\n",
       "      <th>1</th>\n",
       "      <td>2</td>\n",
       "      <td>The Godfather</td>\n",
       "      <td>1972</td>\n",
       "      <td>9.2</td>\n",
       "    </tr>\n",
       "  </tbody>\n",
       "</table>\n",
       "</div>"
      ],
      "text/plain": [
       "  Rank                       Title  Year  Rating\n",
       "0    1   The Shawshank Redemption   1994     9.2\n",
       "1    2              The Godfather   1972     9.2"
      ]
     },
     "execution_count": 51,
     "metadata": {},
     "output_type": "execute_result"
    }
   ],
   "source": [
    "# Rename IMDb Rating column to Rating\n",
    "df_IMDB.rename(columns = {'IMDb Rating': 'Rating'}, inplace=True)\n",
    "\n",
    "df_IMDB.head(2)"
   ]
  },
  {
   "cell_type": "code",
   "execution_count": 52,
   "metadata": {},
   "outputs": [
    {
     "data": {
      "text/plain": [
       "Index(['Rank', 'Title', 'Year', 'Rating'], dtype='object')"
      ]
     },
     "execution_count": 52,
     "metadata": {},
     "output_type": "execute_result"
    }
   ],
   "source": [
    "df_IMDB.columns"
   ]
  },
  {
   "cell_type": "markdown",
   "metadata": {},
   "source": [
    "### Reorder columns to:  Rank, Title, Rating, Year"
   ]
  },
  {
   "cell_type": "code",
   "execution_count": 53,
   "metadata": {},
   "outputs": [
    {
     "data": {
      "text/plain": [
       "['Rank', 'Title', 'Rating', 'Year']"
      ]
     },
     "execution_count": 53,
     "metadata": {},
     "output_type": "execute_result"
    }
   ],
   "source": [
    "new_cols = ['Rank', 'Title', 'Rating', 'Year']\n",
    "new_cols"
   ]
  },
  {
   "cell_type": "code",
   "execution_count": 55,
   "metadata": {},
   "outputs": [
    {
     "data": {
      "text/html": [
       "<div>\n",
       "<style scoped>\n",
       "    .dataframe tbody tr th:only-of-type {\n",
       "        vertical-align: middle;\n",
       "    }\n",
       "\n",
       "    .dataframe tbody tr th {\n",
       "        vertical-align: top;\n",
       "    }\n",
       "\n",
       "    .dataframe thead th {\n",
       "        text-align: right;\n",
       "    }\n",
       "</style>\n",
       "<table border=\"1\" class=\"dataframe\">\n",
       "  <thead>\n",
       "    <tr style=\"text-align: right;\">\n",
       "      <th></th>\n",
       "      <th>Rank</th>\n",
       "      <th>Title</th>\n",
       "      <th>Rating</th>\n",
       "      <th>Year</th>\n",
       "    </tr>\n",
       "  </thead>\n",
       "  <tbody>\n",
       "    <tr>\n",
       "      <th>0</th>\n",
       "      <td>1</td>\n",
       "      <td>The Shawshank Redemption</td>\n",
       "      <td>9.2</td>\n",
       "      <td>1994</td>\n",
       "    </tr>\n",
       "    <tr>\n",
       "      <th>1</th>\n",
       "      <td>2</td>\n",
       "      <td>The Godfather</td>\n",
       "      <td>9.2</td>\n",
       "      <td>1972</td>\n",
       "    </tr>\n",
       "  </tbody>\n",
       "</table>\n",
       "</div>"
      ],
      "text/plain": [
       "  Rank                       Title  Rating  Year\n",
       "0    1   The Shawshank Redemption      9.2  1994\n",
       "1    2              The Godfather      9.2  1972"
      ]
     },
     "execution_count": 55,
     "metadata": {},
     "output_type": "execute_result"
    }
   ],
   "source": [
    "df_IMDB = df_IMDB[new_cols]\n",
    "df_IMDB.head(2)"
   ]
  },
  {
   "cell_type": "markdown",
   "metadata": {},
   "source": [
    "### Fix data types as needed to get:\n",
    "- Rank:  int  \n",
    "- Title: string/object  \n",
    "- Rating:  float    \n",
    "- Year: int"
   ]
  },
  {
   "cell_type": "code",
   "execution_count": 56,
   "metadata": {},
   "outputs": [
    {
     "data": {
      "text/plain": [
       "Rank       object\n",
       "Title      object\n",
       "Rating    float64\n",
       "Year       object\n",
       "dtype: object"
      ]
     },
     "execution_count": 56,
     "metadata": {},
     "output_type": "execute_result"
    }
   ],
   "source": [
    "df_IMDB.dtypes"
   ]
  },
  {
   "cell_type": "code",
   "execution_count": 59,
   "metadata": {},
   "outputs": [
    {
     "data": {
      "text/plain": [
       "Rank              object\n",
       "Title             object\n",
       "Rating           float64\n",
       "Year      datetime64[ns]\n",
       "dtype: object"
      ]
     },
     "execution_count": 59,
     "metadata": {},
     "output_type": "execute_result"
    }
   ],
   "source": [
    "# Check and fix data types as needed\n",
    "df_IMDB['Year'] = pd.to_datetime(df_IMDB['Year'])\n",
    "\n",
    "df_IMDB.dtypes"
   ]
  },
  {
   "cell_type": "code",
   "execution_count": 60,
   "metadata": {},
   "outputs": [
    {
     "data": {
      "text/html": [
       "<div>\n",
       "<style scoped>\n",
       "    .dataframe tbody tr th:only-of-type {\n",
       "        vertical-align: middle;\n",
       "    }\n",
       "\n",
       "    .dataframe tbody tr th {\n",
       "        vertical-align: top;\n",
       "    }\n",
       "\n",
       "    .dataframe thead th {\n",
       "        text-align: right;\n",
       "    }\n",
       "</style>\n",
       "<table border=\"1\" class=\"dataframe\">\n",
       "  <thead>\n",
       "    <tr style=\"text-align: right;\">\n",
       "      <th></th>\n",
       "      <th>Rank</th>\n",
       "      <th>Title</th>\n",
       "      <th>Rating</th>\n",
       "      <th>Year</th>\n",
       "    </tr>\n",
       "  </thead>\n",
       "  <tbody>\n",
       "    <tr>\n",
       "      <th>0</th>\n",
       "      <td>1</td>\n",
       "      <td>The Shawshank Redemption</td>\n",
       "      <td>9.2</td>\n",
       "      <td>1994-01-01</td>\n",
       "    </tr>\n",
       "    <tr>\n",
       "      <th>1</th>\n",
       "      <td>2</td>\n",
       "      <td>The Godfather</td>\n",
       "      <td>9.2</td>\n",
       "      <td>1972-01-01</td>\n",
       "    </tr>\n",
       "    <tr>\n",
       "      <th>2</th>\n",
       "      <td>3</td>\n",
       "      <td>The Godfather: Part II</td>\n",
       "      <td>9.0</td>\n",
       "      <td>1974-01-01</td>\n",
       "    </tr>\n",
       "    <tr>\n",
       "      <th>3</th>\n",
       "      <td>4</td>\n",
       "      <td>The Dark Knight</td>\n",
       "      <td>9.0</td>\n",
       "      <td>2008-01-01</td>\n",
       "    </tr>\n",
       "    <tr>\n",
       "      <th>4</th>\n",
       "      <td>5</td>\n",
       "      <td>12 Angry Men</td>\n",
       "      <td>8.9</td>\n",
       "      <td>1957-01-01</td>\n",
       "    </tr>\n",
       "    <tr>\n",
       "      <th>5</th>\n",
       "      <td>6</td>\n",
       "      <td>Schindler's List</td>\n",
       "      <td>8.9</td>\n",
       "      <td>1993-01-01</td>\n",
       "    </tr>\n",
       "    <tr>\n",
       "      <th>6</th>\n",
       "      <td>7</td>\n",
       "      <td>The Lord of the Rings: The Return of the King</td>\n",
       "      <td>8.9</td>\n",
       "      <td>2003-01-01</td>\n",
       "    </tr>\n",
       "    <tr>\n",
       "      <th>7</th>\n",
       "      <td>8</td>\n",
       "      <td>Pulp Fiction</td>\n",
       "      <td>8.9</td>\n",
       "      <td>1994-01-01</td>\n",
       "    </tr>\n",
       "    <tr>\n",
       "      <th>8</th>\n",
       "      <td>9</td>\n",
       "      <td>Avengers: Infinity War</td>\n",
       "      <td>8.8</td>\n",
       "      <td>2018-01-01</td>\n",
       "    </tr>\n",
       "    <tr>\n",
       "      <th>9</th>\n",
       "      <td>10</td>\n",
       "      <td>The Good, the Bad and the Ugly</td>\n",
       "      <td>8.8</td>\n",
       "      <td>1966-01-01</td>\n",
       "    </tr>\n",
       "  </tbody>\n",
       "</table>\n",
       "</div>"
      ],
      "text/plain": [
       "  Rank                                            Title  Rating       Year\n",
       "0    1                        The Shawshank Redemption      9.2 1994-01-01\n",
       "1    2                                   The Godfather      9.2 1972-01-01\n",
       "2    3                          The Godfather: Part II      9.0 1974-01-01\n",
       "3    4                                 The Dark Knight      9.0 2008-01-01\n",
       "4    5                                    12 Angry Men      8.9 1957-01-01\n",
       "5    6                                Schindler's List      8.9 1993-01-01\n",
       "6    7   The Lord of the Rings: The Return of the King      8.9 2003-01-01\n",
       "7    8                                    Pulp Fiction      8.9 1994-01-01\n",
       "8    9                          Avengers: Infinity War      8.8 2018-01-01\n",
       "9   10                  The Good, the Bad and the Ugly      8.8 1966-01-01"
      ]
     },
     "execution_count": 60,
     "metadata": {},
     "output_type": "execute_result"
    }
   ],
   "source": [
    "# Display the top ten movies (by Rank)\n",
    "df_IMDB.head(10)"
   ]
  },
  {
   "cell_type": "code",
   "execution_count": 61,
   "metadata": {},
   "outputs": [
    {
     "data": {
      "text/html": [
       "<div>\n",
       "<style scoped>\n",
       "    .dataframe tbody tr th:only-of-type {\n",
       "        vertical-align: middle;\n",
       "    }\n",
       "\n",
       "    .dataframe tbody tr th {\n",
       "        vertical-align: top;\n",
       "    }\n",
       "\n",
       "    .dataframe thead th {\n",
       "        text-align: right;\n",
       "    }\n",
       "</style>\n",
       "<table border=\"1\" class=\"dataframe\">\n",
       "  <thead>\n",
       "    <tr style=\"text-align: right;\">\n",
       "      <th></th>\n",
       "      <th>Rank</th>\n",
       "      <th>Title</th>\n",
       "      <th>Rating</th>\n",
       "      <th>Year</th>\n",
       "    </tr>\n",
       "  </thead>\n",
       "  <tbody>\n",
       "    <tr>\n",
       "      <th>240</th>\n",
       "      <td>241</td>\n",
       "      <td>Paris, Texas</td>\n",
       "      <td>8.0</td>\n",
       "      <td>1984-01-01</td>\n",
       "    </tr>\n",
       "    <tr>\n",
       "      <th>241</th>\n",
       "      <td>242</td>\n",
       "      <td>Infernal Affairs</td>\n",
       "      <td>8.0</td>\n",
       "      <td>2002-01-01</td>\n",
       "    </tr>\n",
       "    <tr>\n",
       "      <th>242</th>\n",
       "      <td>243</td>\n",
       "      <td>Twelve Monkeys</td>\n",
       "      <td>8.0</td>\n",
       "      <td>1995-01-01</td>\n",
       "    </tr>\n",
       "    <tr>\n",
       "      <th>243</th>\n",
       "      <td>244</td>\n",
       "      <td>The Best Years of Our Lives</td>\n",
       "      <td>8.0</td>\n",
       "      <td>1946-01-01</td>\n",
       "    </tr>\n",
       "    <tr>\n",
       "      <th>244</th>\n",
       "      <td>245</td>\n",
       "      <td>Gangs of Wasseypur</td>\n",
       "      <td>8.0</td>\n",
       "      <td>2012-01-01</td>\n",
       "    </tr>\n",
       "    <tr>\n",
       "      <th>245</th>\n",
       "      <td>246</td>\n",
       "      <td>Before Sunset</td>\n",
       "      <td>8.0</td>\n",
       "      <td>2004-01-01</td>\n",
       "    </tr>\n",
       "    <tr>\n",
       "      <th>246</th>\n",
       "      <td>247</td>\n",
       "      <td>Beauty and the Beast</td>\n",
       "      <td>8.0</td>\n",
       "      <td>1991-01-01</td>\n",
       "    </tr>\n",
       "    <tr>\n",
       "      <th>247</th>\n",
       "      <td>248</td>\n",
       "      <td>Dog Day Afternoon</td>\n",
       "      <td>8.0</td>\n",
       "      <td>1975-01-01</td>\n",
       "    </tr>\n",
       "    <tr>\n",
       "      <th>248</th>\n",
       "      <td>249</td>\n",
       "      <td>Pirates of the Caribbean: The Curse of the Bl...</td>\n",
       "      <td>8.0</td>\n",
       "      <td>2003-01-01</td>\n",
       "    </tr>\n",
       "    <tr>\n",
       "      <th>249</th>\n",
       "      <td>250</td>\n",
       "      <td>Tangerines</td>\n",
       "      <td>8.0</td>\n",
       "      <td>2013-01-01</td>\n",
       "    </tr>\n",
       "  </tbody>\n",
       "</table>\n",
       "</div>"
      ],
      "text/plain": [
       "    Rank                                              Title  Rating       Year\n",
       "240  241                                      Paris, Texas      8.0 1984-01-01\n",
       "241  242                                  Infernal Affairs      8.0 2002-01-01\n",
       "242  243                                    Twelve Monkeys      8.0 1995-01-01\n",
       "243  244                       The Best Years of Our Lives      8.0 1946-01-01\n",
       "244  245                                Gangs of Wasseypur      8.0 2012-01-01\n",
       "245  246                                     Before Sunset      8.0 2004-01-01\n",
       "246  247                              Beauty and the Beast      8.0 1991-01-01\n",
       "247  248                                 Dog Day Afternoon      8.0 1975-01-01\n",
       "248  249   Pirates of the Caribbean: The Curse of the Bl...     8.0 2003-01-01\n",
       "249  250                                        Tangerines      8.0 2013-01-01"
      ]
     },
     "execution_count": 61,
     "metadata": {},
     "output_type": "execute_result"
    }
   ],
   "source": [
    "# Display the bottom ten (of the 250) movies (by Rank)\n",
    "df_IMDB.tail(10)"
   ]
  },
  {
   "cell_type": "markdown",
   "metadata": {},
   "source": [
    "### Sort Dataframe"
   ]
  },
  {
   "cell_type": "code",
   "execution_count": 65,
   "metadata": {},
   "outputs": [
    {
     "data": {
      "text/html": [
       "<div>\n",
       "<style scoped>\n",
       "    .dataframe tbody tr th:only-of-type {\n",
       "        vertical-align: middle;\n",
       "    }\n",
       "\n",
       "    .dataframe tbody tr th {\n",
       "        vertical-align: top;\n",
       "    }\n",
       "\n",
       "    .dataframe thead th {\n",
       "        text-align: right;\n",
       "    }\n",
       "</style>\n",
       "<table border=\"1\" class=\"dataframe\">\n",
       "  <thead>\n",
       "    <tr style=\"text-align: right;\">\n",
       "      <th></th>\n",
       "      <th>Rank</th>\n",
       "      <th>Title</th>\n",
       "      <th>Rating</th>\n",
       "      <th>Year</th>\n",
       "    </tr>\n",
       "  </thead>\n",
       "  <tbody>\n",
       "    <tr>\n",
       "      <th>4</th>\n",
       "      <td>5</td>\n",
       "      <td>12 Angry Men</td>\n",
       "      <td>8.9</td>\n",
       "      <td>1957-01-01</td>\n",
       "    </tr>\n",
       "    <tr>\n",
       "      <th>200</th>\n",
       "      <td>201</td>\n",
       "      <td>12 Years a Slave</td>\n",
       "      <td>8.1</td>\n",
       "      <td>2013-01-01</td>\n",
       "    </tr>\n",
       "    <tr>\n",
       "      <th>90</th>\n",
       "      <td>91</td>\n",
       "      <td>2001: A Space Odyssey</td>\n",
       "      <td>8.3</td>\n",
       "      <td>1968-01-01</td>\n",
       "    </tr>\n",
       "    <tr>\n",
       "      <th>92</th>\n",
       "      <td>93</td>\n",
       "      <td>3 Idiots</td>\n",
       "      <td>8.3</td>\n",
       "      <td>2009-01-01</td>\n",
       "    </tr>\n",
       "    <tr>\n",
       "      <th>237</th>\n",
       "      <td>238</td>\n",
       "      <td>8½</td>\n",
       "      <td>8.0</td>\n",
       "      <td>1963-01-01</td>\n",
       "    </tr>\n",
       "    <tr>\n",
       "      <th>143</th>\n",
       "      <td>144</td>\n",
       "      <td>A Beautiful Mind</td>\n",
       "      <td>8.2</td>\n",
       "      <td>2001-01-01</td>\n",
       "    </tr>\n",
       "    <tr>\n",
       "      <th>84</th>\n",
       "      <td>85</td>\n",
       "      <td>A Clockwork Orange</td>\n",
       "      <td>8.3</td>\n",
       "      <td>1971-01-01</td>\n",
       "    </tr>\n",
       "    <tr>\n",
       "      <th>109</th>\n",
       "      <td>110</td>\n",
       "      <td>A Separation</td>\n",
       "      <td>8.2</td>\n",
       "      <td>2011-01-01</td>\n",
       "    </tr>\n",
       "    <tr>\n",
       "      <th>219</th>\n",
       "      <td>220</td>\n",
       "      <td>A Wednesday</td>\n",
       "      <td>8.0</td>\n",
       "      <td>2008-01-01</td>\n",
       "    </tr>\n",
       "    <tr>\n",
       "      <th>51</th>\n",
       "      <td>52</td>\n",
       "      <td>Alien</td>\n",
       "      <td>8.4</td>\n",
       "      <td>1979-01-01</td>\n",
       "    </tr>\n",
       "  </tbody>\n",
       "</table>\n",
       "</div>"
      ],
      "text/plain": [
       "    Rank                    Title  Rating       Year\n",
       "4      5            12 Angry Men      8.9 1957-01-01\n",
       "200  201        12 Years a Slave      8.1 2013-01-01\n",
       "90    91   2001: A Space Odyssey      8.3 1968-01-01\n",
       "92    93                3 Idiots      8.3 2009-01-01\n",
       "237  238                      8½      8.0 1963-01-01\n",
       "143  144        A Beautiful Mind      8.2 2001-01-01\n",
       "84    85      A Clockwork Orange      8.3 1971-01-01\n",
       "109  110            A Separation      8.2 2011-01-01\n",
       "219  220             A Wednesday      8.0 2008-01-01\n",
       "51    52                   Alien      8.4 1979-01-01"
      ]
     },
     "execution_count": 65,
     "metadata": {},
     "output_type": "execute_result"
    }
   ],
   "source": [
    "# Sort by Title - Ascending (inplace)\n",
    "df_IMDB.sort_values('Title', inplace=True, ascending=True)\n",
    "df_IMDB.head(10)"
   ]
  }
 ],
 "metadata": {
  "kernelspec": {
   "display_name": "Python 3",
   "language": "python",
   "name": "python3"
  },
  "language_info": {
   "codemirror_mode": {
    "name": "ipython",
    "version": 3
   },
   "file_extension": ".py",
   "mimetype": "text/x-python",
   "name": "python",
   "nbconvert_exporter": "python",
   "pygments_lexer": "ipython3",
   "version": "3.7.0"
  }
 },
 "nbformat": 4,
 "nbformat_minor": 2
}
