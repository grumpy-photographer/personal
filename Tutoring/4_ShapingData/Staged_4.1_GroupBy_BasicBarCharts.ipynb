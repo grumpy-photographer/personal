{
 "cells": [
  {
   "cell_type": "markdown",
   "metadata": {},
   "source": [
    "# 4.1 pandas *groupby()* for plot.ly express Bar Charts\n",
    "This notebook will show how to use the pandas *groupby()* function to get data into a *Shape* that can easily plotted with a Bar Chart using plotly express.  \n",
    "\n",
    "\n",
    "1. [Data Cleanup](#1.-Data-Cleanup-if-required!)  \n",
    "  1. Keep only Columns We Want  \n",
    "  2. Change Data Types if Needed  \n",
    "2. [Group on a Selected Column](#2.-Group-on-a-Selected-Column) \n",
    "\n",
    "3. [Plot!](#3.-Plot!)  \n",
    "  1. Question: How Does Mean MPG City compare for the different Vehicle Types (SUV, Sedan, etc..)?  \n",
    "  2. Question: What are the Mean Invoice Values for each of the Vehicle Type Categories (SUV, Sedan, etc..)?\n",
    "  \n",
    "**My References**  \n",
    "- [**Keeping Columns**](../0_References/1_Pandas_Reference/Column_Operations.ipynb#Keeping-Columns)  \n",
    "- [**Changing Data Type**](../0_References/1_Pandas_Reference/Field_Operations.ipynb#Changing-Data-Type)  \n",
    "- [**Saving a pandas dataframe as a CSV file**](../0_References/1_Pandas_Reference/SavingFiles.ipynb#Saving-a-pandas-dataframe-as-a-CSV-file)\n",
    "\n"
   ]
  },
  {
   "cell_type": "code",
   "execution_count": null,
   "metadata": {},
   "outputs": [],
   "source": [
    "from IPython.display import display, HTML\n",
    "import pandas as pd\n",
    "import math\n",
    "\n",
    "#import chart_studio.plotly as py\n",
    "import plotly.graph_objects as go\n",
    "import plotly.express as px\n",
    "import numpy as np\n",
    "from scipy import special"
   ]
  },
  {
   "cell_type": "markdown",
   "metadata": {},
   "source": [
    "#### Read Data file"
   ]
  },
  {
   "cell_type": "code",
   "execution_count": null,
   "metadata": {},
   "outputs": [],
   "source": [
    "#Read the csv file into a pandas dataframe\n",
    " = pd.read_csv('')\n",
    "\n",
    "print(\"Number of Rows: \", df.shape[0])\n",
    "print(\"Number of Columns: \", df.shape[1])\n",
    "df_cars.head(5)"
   ]
  },
  {
   "cell_type": "markdown",
   "metadata": {},
   "source": [
    "# 1. Data Cleanup (if required!)"
   ]
  },
  {
   "cell_type": "markdown",
   "metadata": {},
   "source": [
    "### Keep only Selected Columns  \n",
    "\n",
    "- We should get rid of any columns we don't want. \n",
    "- You can use the pandas [drop() function](../0_References/1_Pandas_Reference/Column_Operations.ipynb#Dropping-Columns), but in this case it's probably easier just to keep the columns we want\n",
    " \n",
    "\n",
    "**My Reference:** [Keeping Columns](../0_References/1_Pandas_Reference/Column_Operations.ipynb#Keeping-Columns)\n"
   ]
  },
  {
   "cell_type": "code",
   "execution_count": null,
   "metadata": {},
   "outputs": [],
   "source": [
    "# Display all column names\n",
    "df_cars"
   ]
  },
  {
   "cell_type": "code",
   "execution_count": null,
   "metadata": {},
   "outputs": [],
   "source": [
    "# Create a List of the names of the Columns we want to keep in our new dataframe\n",
    "columns_to_keep = []\n",
    "\n",
    "# Create a new dataframe with only the selected columns\n",
    "df_cars = df_cars[columns_to_keep]"
   ]
  },
  {
   "cell_type": "code",
   "execution_count": null,
   "metadata": {},
   "outputs": [],
   "source": [
    "# Display new dataframe info\n",
    "print(\"Number of Rows: \", .shape[0])\n",
    "print(\"Number of Columns: \", .shape[1])\n",
    "df_cars.head()"
   ]
  },
  {
   "cell_type": "markdown",
   "metadata": {},
   "source": [
    "### Change Data Types as Needed  \n",
    "- If we want to do numeric calculations on a column it is important that pandas recognizes it as numeric. \n",
    "- We also want to make sure a column is a float (rather than integer) if needed.\n",
    "- Otherwise either errors or weird results are going to happen!  \n",
    "\n",
    "**My Reference:** [Changing Data Type](../0_References/1_Pandas_Reference/Field_Operations.ipynb#Changing-Data-Type)\n"
   ]
  },
  {
   "cell_type": "code",
   "execution_count": null,
   "metadata": {},
   "outputs": [],
   "source": [
    "# data types 'Before' \n",
    "df_cars"
   ]
  },
  {
   "cell_type": "code",
   "execution_count": null,
   "metadata": {},
   "outputs": [],
   "source": [
    "# Convert MSRP, Invoice, MPG_City, MPG_Highway to floats\n",
    "df_cars['MSRP'] = pd.to_numeric().astype(float)\n",
    "df_cars['Invoice'] = pd.to_numeric().astype(float)\n",
    "\n",
    "df_cars['MPG_City'] = pd.to_numeric().astype(float)\n",
    "df_cars['MPG_Highway'] = pd.to_numeric().astype(float)"
   ]
  },
  {
   "cell_type": "code",
   "execution_count": null,
   "metadata": {},
   "outputs": [],
   "source": [
    "# data types 'After' \n",
    "df_cars"
   ]
  },
  {
   "cell_type": "markdown",
   "metadata": {},
   "source": [
    "# 2. Group on a Selected Column  \n",
    "1. We are going to group on the **Type** Column!  \n",
    "  1. This means we will compute an Aggregate Function after we group the rows by the Vehicle Type (SUV, Sedan, etc..\n",
    "2. The Aggregate Function we will use here is the **mean()**  \n",
    "  1. We could instead use sum(), count() or others"
   ]
  },
  {
   "cell_type": "code",
   "execution_count": null,
   "metadata": {},
   "outputs": [],
   "source": [
    "# Display the top rows of the starting dataframe\n",
    "df_cars.head(2)"
   ]
  },
  {
   "cell_type": "code",
   "execution_count": null,
   "metadata": {},
   "outputs": [],
   "source": [
    "# Display the unique values in the column we want to Group on\n",
    "df_cars['Type']"
   ]
  },
  {
   "cell_type": "code",
   "execution_count": null,
   "metadata": {
    "scrolled": true
   },
   "outputs": [],
   "source": [
    "# Group by:  Type\n",
    "# Calculation:  mean\n",
    "df_cars_by_type_mean = \n",
    "df_cars_by_type_mean"
   ]
  },
  {
   "cell_type": "markdown",
   "metadata": {},
   "source": [
    "# 3. Plot!  \n",
    "- Below are a number of questions that we can use plots to help answer  \n",
    "- All of them are based on a dataframe that:  \n",
    "  - Is grouped by Type  \n",
    "  - Contain Mean values\n"
   ]
  },
  {
   "cell_type": "markdown",
   "metadata": {},
   "source": [
    "### Question: How Does MPG City compare for the different Vehicle Types? (SUV, Sedan, etc..)"
   ]
  },
  {
   "cell_type": "code",
   "execution_count": null,
   "metadata": {
    "scrolled": true
   },
   "outputs": [],
   "source": [
    "df_cars_by_type_mean"
   ]
  },
  {
   "cell_type": "markdown",
   "metadata": {},
   "source": [
    "#### Let's get *Type* out of the index and just be a regular column  \n"
   ]
  },
  {
   "cell_type": "code",
   "execution_count": null,
   "metadata": {},
   "outputs": [],
   "source": [
    "df_cars_by_type_mean.\n",
    "df_cars_by_type_mean.head()"
   ]
  },
  {
   "cell_type": "code",
   "execution_count": null,
   "metadata": {
    "scrolled": true
   },
   "outputs": [],
   "source": [
    "\n",
    "fig = px.bar(df_cars_by_type_mean, \n",
    "             x='',            \n",
    "             y='',\n",
    "             template='presentation',\n",
    "            title='Mean MPG City by Vehicle Type')\n",
    "\n",
    "fig.show()"
   ]
  },
  {
   "cell_type": "markdown",
   "metadata": {},
   "source": [
    "### Question: How Does MPG Highway compare for the different Vehicle Types? (SUV, Sedan, etc..)"
   ]
  },
  {
   "cell_type": "code",
   "execution_count": null,
   "metadata": {
    "scrolled": true
   },
   "outputs": [],
   "source": [
    "df_cars_by_type_mean.head(2)"
   ]
  },
  {
   "cell_type": "code",
   "execution_count": null,
   "metadata": {
    "scrolled": false
   },
   "outputs": [],
   "source": [
    "fig = px.bar(df_cars_by_type_mean, \n",
    "             x='',            \n",
    "             y='',\n",
    "             template='presentation',\n",
    "            title='Mean MPG Highway by Vehicle Type')\n",
    "\n",
    "fig.show()"
   ]
  },
  {
   "cell_type": "markdown",
   "metadata": {},
   "source": [
    "# Saved the Grouped Data as a csv file  \n",
    "- Let's save this Grouped data as a CSV file so that other Notebooks can use it without having to repeat the steps above.  \n",
    "\n",
    "\n",
    "\n",
    "**My Reference:** [Saving a pandas dataframe as a CSV file](../0_References/1_Pandas_Reference/SavingFiles.ipynb#Saving-a-pandas-dataframe-as-a-CSV-file)\n"
   ]
  },
  {
   "cell_type": "code",
   "execution_count": null,
   "metadata": {},
   "outputs": [],
   "source": [
    "df_cars_by_type_mean.head(2)"
   ]
  },
  {
   "cell_type": "code",
   "execution_count": null,
   "metadata": {},
   "outputs": [],
   "source": [
    "# Save the df dataframe as a CSV file in the Data folder\n",
    "df_cars_by_type_mean.to_csv(\"\", index=False)"
   ]
  },
  {
   "cell_type": "code",
   "execution_count": null,
   "metadata": {},
   "outputs": [],
   "source": [
    "# Read the saved csv file \n",
    "df_test = pd.read_csv(\"\")"
   ]
  },
  {
   "cell_type": "code",
   "execution_count": null,
   "metadata": {},
   "outputs": [],
   "source": [
    "df_test.head()"
   ]
  }
 ],
 "metadata": {
  "kernelspec": {
   "display_name": "Python 3",
   "language": "python",
   "name": "python3"
  },
  "language_info": {
   "codemirror_mode": {
    "name": "ipython",
    "version": 3
   },
   "file_extension": ".py",
   "mimetype": "text/x-python",
   "name": "python",
   "nbconvert_exporter": "python",
   "pygments_lexer": "ipython3",
   "version": "3.7.4"
  }
 },
 "nbformat": 4,
 "nbformat_minor": 4
}
