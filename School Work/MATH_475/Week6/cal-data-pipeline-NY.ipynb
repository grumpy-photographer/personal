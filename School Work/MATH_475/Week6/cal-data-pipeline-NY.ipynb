{
 "cells": [
  {
   "cell_type": "markdown",
   "metadata": {
    "toc": true
   },
   "source": [
    "<h1>Table of Contents<span class=\"tocSkip\"></span></h1>\n",
    "<div class=\"toc\"><ul class=\"toc-item\"><li><span><a href=\"#Import-the-&quot;california-housing.csv&quot;-data-set-as-a-Pandas-dataframe.\" data-toc-modified-id=\"Import-the-&quot;california-housing.csv&quot;-data-set-as-a-Pandas-dataframe.-1\"><span class=\"toc-item-num\">1&nbsp;&nbsp;</span>Import the \"california-housing.csv\" data set as a Pandas dataframe.</a></span></li><li><span><a href=\"#Import-the-&quot;california-housing.csv&quot;-data-set-as-a-Pandas-dataframe.\" data-toc-modified-id=\"Import-the-&quot;california-housing.csv&quot;-data-set-as-a-Pandas-dataframe.-2\"><span class=\"toc-item-num\">2&nbsp;&nbsp;</span>Import the \"california-housing.csv\" data set as a Pandas dataframe.</a></span></li><li><span><a href=\"#Separate-the-dataframe-into-features-(a.k.a.-predictors,-independent-variables,-&quot;X&quot;,-etc)-and-target-(a.k.a.-response,-dependent-variables,-&quot;y&quot;,-etc.)\" data-toc-modified-id=\"Separate-the-dataframe-into-features-(a.k.a.-predictors,-independent-variables,-&quot;X&quot;,-etc)-and-target-(a.k.a.-response,-dependent-variables,-&quot;y&quot;,-etc.)-3\"><span class=\"toc-item-num\">3&nbsp;&nbsp;</span>Separate the dataframe into features (a.k.a. predictors, independent variables, \"X\", etc) and target (a.k.a. response, dependent variables, \"y\", etc.)</a></span></li><li><span><a href=\"#Split-the-data-into-training-and-testing-sets,-with-the-size-of-the-training-set-equal-to-70%-of-the-an-appropriate-command-from-sklearn.\" data-toc-modified-id=\"Split-the-data-into-training-and-testing-sets,-with-the-size-of-the-training-set-equal-to-70%-of-the-an-appropriate-command-from-sklearn.-4\"><span class=\"toc-item-num\">4&nbsp;&nbsp;</span>Split the data into training and testing sets, with the size of the training set equal to 70% of the an appropriate command from sklearn.</a></span></li><li><span><a href=\"#Create-a-Pipeline-that-combines-a-StandardScaler-and-a-kNearestNeighborsRegression-object-with-n-_neighbors-=-3-and-weights-=-&quot;distance&quot;.\" data-toc-modified-id=\"Create-a-Pipeline-that-combines-a-StandardScaler-and-a-kNearestNeighborsRegression-object-with-n-_neighbors-=-3-and-weights-=-&quot;distance&quot;.-5\"><span class=\"toc-item-num\">5&nbsp;&nbsp;</span>Create a Pipeline that combines a StandardScaler and a kNearestNeighborsRegression object with n _neighbors = 3 and weights = \"distance\".</a></span></li><li><span><a href=\"#Fit-the-pipeline-to-your-training-data-set-using-a-method-in-the-pipeline.\" data-toc-modified-id=\"Fit-the-pipeline-to-your-training-data-set-using-a-method-in-the-pipeline.-6\"><span class=\"toc-item-num\">6&nbsp;&nbsp;</span>Fit the pipeline to your training data set using a method in the pipeline.</a></span></li><li><span><a href=\"#Find-the-score-on-the-training-data-set-using-a-method-in-the-pipeline.\" data-toc-modified-id=\"Find-the-score-on-the-training-data-set-using-a-method-in-the-pipeline.-7\"><span class=\"toc-item-num\">7&nbsp;&nbsp;</span>Find the score on the training data set using a method in the pipeline.</a></span></li><li><span><a href=\"#Find-the-score-on-the-test-data-set-using-a-method-in-the-pipeline.\" data-toc-modified-id=\"Find-the-score-on-the-test-data-set-using-a-method-in-the-pipeline.-8\"><span class=\"toc-item-num\">8&nbsp;&nbsp;</span>Find the score on the test data set using a method in the pipeline.</a></span></li></ul></div>"
   ]
  },
  {
   "cell_type": "markdown",
   "metadata": {},
   "source": [
    "## Import the \"california-housing.csv\" data set as a Pandas dataframe."
   ]
  },
  {
   "cell_type": "code",
   "execution_count": 1,
   "metadata": {
    "ExecuteTime": {
     "end_time": "2020-09-26T19:22:29.317207Z",
     "start_time": "2020-09-26T19:22:25.530697Z"
    }
   },
   "outputs": [],
   "source": [
    "import pandas as pd\n",
    "from sklearn.preprocessing import StandardScaler\n",
    "from sklearn.model_selection import train_test_split\n",
    "from sklearn.pipeline import make_pipeline\n",
    "from sklearn.neighbors import KNeighborsClassifier\n",
    "from sklearn import metrics"
   ]
  },
  {
   "cell_type": "markdown",
   "metadata": {},
   "source": [
    "## Import the \"california-housing.csv\" data set as a Pandas dataframe."
   ]
  },
  {
   "cell_type": "code",
   "execution_count": 2,
   "metadata": {
    "ExecuteTime": {
     "end_time": "2020-09-26T19:22:29.457052Z",
     "start_time": "2020-09-26T19:22:29.327054Z"
    }
   },
   "outputs": [],
   "source": [
    "housing_df = pd.read_csv(\"california-housing.csv\")"
   ]
  },
  {
   "cell_type": "code",
   "execution_count": 3,
   "metadata": {
    "ExecuteTime": {
     "end_time": "2020-09-26T19:22:29.496211Z",
     "start_time": "2020-09-26T19:22:29.466147Z"
    },
    "scrolled": true
   },
   "outputs": [],
   "source": [
    "housing_df = housing_df.dropna()"
   ]
  },
  {
   "cell_type": "markdown",
   "metadata": {},
   "source": [
    "## Separate the dataframe into features (a.k.a. predictors, independent variables, \"X\", etc) and target (a.k.a. response, dependent variables, \"y\", etc.)"
   ]
  },
  {
   "cell_type": "code",
   "execution_count": 4,
   "metadata": {
    "ExecuteTime": {
     "end_time": "2020-09-26T19:22:29.523452Z",
     "start_time": "2020-09-26T19:22:29.503863Z"
    }
   },
   "outputs": [],
   "source": [
    "ocean_dummies = pd.get_dummies(housing_df[\"ocean_proximity\"])"
   ]
  },
  {
   "cell_type": "code",
   "execution_count": 5,
   "metadata": {
    "ExecuteTime": {
     "end_time": "2020-09-26T19:22:29.565601Z",
     "start_time": "2020-09-26T19:22:29.529588Z"
    }
   },
   "outputs": [],
   "source": [
    "new_housing_df = housing_df.join(ocean_dummies)\n",
    "\n",
    "new_housing_df = new_housing_df.drop(\"ocean_proximity\", axis=1)"
   ]
  },
  {
   "cell_type": "code",
   "execution_count": 6,
   "metadata": {
    "ExecuteTime": {
     "end_time": "2020-09-26T19:22:29.591652Z",
     "start_time": "2020-09-26T19:22:29.573321Z"
    }
   },
   "outputs": [],
   "source": [
    "st_scaler = StandardScaler()"
   ]
  },
  {
   "cell_type": "code",
   "execution_count": 7,
   "metadata": {
    "ExecuteTime": {
     "end_time": "2020-09-26T19:22:29.619862Z",
     "start_time": "2020-09-26T19:22:29.601790Z"
    }
   },
   "outputs": [],
   "source": [
    "y = new_housing_df[\"median_house_value\"]\n",
    "X = new_housing_df.drop(\"median_house_value\", axis=1)"
   ]
  },
  {
   "cell_type": "code",
   "execution_count": 8,
   "metadata": {
    "ExecuteTime": {
     "end_time": "2020-09-26T19:22:29.684606Z",
     "start_time": "2020-09-26T19:22:29.626671Z"
    }
   },
   "outputs": [],
   "source": [
    "X_standard = pd.DataFrame(st_scaler.fit_transform(X), columns = X.columns.copy())"
   ]
  },
  {
   "cell_type": "markdown",
   "metadata": {},
   "source": [
    "## Split the data into training and testing sets, with the size of the training set equal to 70% of the an appropriate command from sklearn."
   ]
  },
  {
   "cell_type": "code",
   "execution_count": 9,
   "metadata": {
    "ExecuteTime": {
     "end_time": "2020-09-26T19:22:29.726688Z",
     "start_time": "2020-09-26T19:22:29.693796Z"
    }
   },
   "outputs": [],
   "source": [
    "X_train, X_test, y_train, y_test = train_test_split(X, y, train_size=0.7)"
   ]
  },
  {
   "cell_type": "markdown",
   "metadata": {},
   "source": [
    "## Create a Pipeline that combines a StandardScaler and a kNearestNeighborsRegression object with n _neighbors = 3 and weights = \"distance\"."
   ]
  },
  {
   "cell_type": "code",
   "execution_count": 10,
   "metadata": {
    "ExecuteTime": {
     "end_time": "2020-09-26T19:22:29.754048Z",
     "start_time": "2020-09-26T19:22:29.734715Z"
    }
   },
   "outputs": [],
   "source": [
    "knn = KNeighborsClassifier(n_neighbors = 3, weights = \"distance\")"
   ]
  },
  {
   "cell_type": "code",
   "execution_count": 11,
   "metadata": {
    "ExecuteTime": {
     "end_time": "2020-09-26T19:22:29.798965Z",
     "start_time": "2020-09-26T19:22:29.758939Z"
    }
   },
   "outputs": [],
   "source": [
    "k_pipeline = make_pipeline(st_scaler, knn)"
   ]
  },
  {
   "cell_type": "markdown",
   "metadata": {},
   "source": [
    "## Fit the pipeline to your training data set using a method in the pipeline."
   ]
  },
  {
   "cell_type": "code",
   "execution_count": 12,
   "metadata": {
    "ExecuteTime": {
     "end_time": "2020-09-26T19:22:30.843357Z",
     "start_time": "2020-09-26T19:22:29.809192Z"
    }
   },
   "outputs": [
    {
     "data": {
      "text/plain": [
       "Pipeline(steps=[('standardscaler', StandardScaler()),\n",
       "                ('kneighborsclassifier',\n",
       "                 KNeighborsClassifier(n_neighbors=3, weights='distance'))])"
      ]
     },
     "execution_count": 12,
     "metadata": {},
     "output_type": "execute_result"
    }
   ],
   "source": [
    "k_pipeline.fit(X_train, y_train)"
   ]
  },
  {
   "cell_type": "markdown",
   "metadata": {},
   "source": [
    "## Find the score on the training data set using a method in the pipeline."
   ]
  },
  {
   "cell_type": "code",
   "execution_count": 13,
   "metadata": {
    "ExecuteTime": {
     "end_time": "2020-09-26T19:22:38.233363Z",
     "start_time": "2020-09-26T19:22:30.847886Z"
    }
   },
   "outputs": [
    {
     "data": {
      "text/plain": [
       "1.0"
      ]
     },
     "execution_count": 13,
     "metadata": {},
     "output_type": "execute_result"
    }
   ],
   "source": [
    "k_pipeline.score(X_train, y_train)"
   ]
  },
  {
   "cell_type": "markdown",
   "metadata": {},
   "source": [
    "## Find the score on the test data set using a method in the pipeline."
   ]
  },
  {
   "cell_type": "code",
   "execution_count": 14,
   "metadata": {
    "ExecuteTime": {
     "end_time": "2020-09-26T19:22:41.188741Z",
     "start_time": "2020-09-26T19:22:38.239980Z"
    }
   },
   "outputs": [
    {
     "data": {
      "text/plain": [
       "0.027079934747145186"
      ]
     },
     "execution_count": 14,
     "metadata": {},
     "output_type": "execute_result"
    }
   ],
   "source": [
    "k_pipeline.score(X_test, y_test)"
   ]
  }
 ],
 "metadata": {
  "kernelspec": {
   "display_name": "Python 3",
   "language": "python",
   "name": "python3"
  },
  "language_info": {
   "codemirror_mode": {
    "name": "ipython",
    "version": 3
   },
   "file_extension": ".py",
   "mimetype": "text/x-python",
   "name": "python",
   "nbconvert_exporter": "python",
   "pygments_lexer": "ipython3",
   "version": "3.8.5"
  },
  "toc": {
   "base_numbering": 1,
   "nav_menu": {},
   "number_sections": true,
   "sideBar": true,
   "skip_h1_title": true,
   "title_cell": "Table of Contents",
   "title_sidebar": "Contents",
   "toc_cell": true,
   "toc_position": {},
   "toc_section_display": true,
   "toc_window_display": false
  }
 },
 "nbformat": 4,
 "nbformat_minor": 4
}
