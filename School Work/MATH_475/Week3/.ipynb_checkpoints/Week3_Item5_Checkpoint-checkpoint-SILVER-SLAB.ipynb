{
 "cells": [
  {
   "cell_type": "markdown",
   "metadata": {
    "toc": true
   },
   "source": [
    "<h1>Table of Contents<span class=\"tocSkip\"></span></h1>\n",
    "<div class=\"toc\"><ul class=\"toc-item\"><li><span><a href=\"#Week-3-Item-5-Checkpoint\" data-toc-modified-id=\"Week-3-Item-5-Checkpoint-1\"><span class=\"toc-item-num\">1&nbsp;&nbsp;</span>Week 3 Item 5 Checkpoint</a></span><ul class=\"toc-item\"><li><span><a href=\"#Getting-Started\" data-toc-modified-id=\"Getting-Started-1.1\"><span class=\"toc-item-num\">1.1&nbsp;&nbsp;</span>Getting Started</a></span></li></ul></li></ul></div>"
   ]
  },
  {
   "cell_type": "markdown",
   "metadata": {
    "pycharm": {
     "name": "#%% md\n"
    }
   },
   "source": [
    "# Week 3 Item 5 Checkpoint\n",
    "\n",
    "Earlier this week, we used \"bolt_data.csv\" to build a simple linear model of the form: $y = mx + b$\n",
    "\n",
    "There are two criticisms one might make of this model:\n",
    "1. It predicts that Mr. Bolt will start at time = 0 at a position not equal to 0.\n",
    "2. It assumes that Mr. Bolt runs at a consistent speed (represented by slope).\n",
    "\n",
    "Try the following types of models for the Usain Bolt data (you can fit all the data -- you do not need to test/train split).\n",
    "- A linear model of the form: $y = mx$, with the y-intercept forced to be 0.\n",
    "(Try basic [linear regression](https://scikit-learn.org/stable/modules/generated/sklearn.linear_model.LinearRegression.html) but with: `fit_intercept = False`)\n",
    "- A cubic polynomial (you can use a model similar to the one we built in class on Thursday, but with a degree = 3 instead of degree = 2)\n",
    "- A cubic polynomial of the form: $y = ax^3 + bx^2 + cx$, with the y-intercept forced to be 0. (When you built the Pipeline object and put in the LinearRegression step, use the `fit_intercept=False` option.)\n",
    "\n",
    "Answer the following question: \n",
    "> Of the models you have created, which one do you think is the best?\n",
    ">Take into account all of the measures that we discussed in terms of assessing models.\n",
    "\n",
    "Attach a Jupyter Notebook showing your work.\n",
    "\n",
    "* * *"
   ]
  },
  {
   "cell_type": "markdown",
   "metadata": {
    "pycharm": {
     "name": "#%% md\n"
    }
   },
   "source": [
    "## Getting Started"
   ]
  },
  {
   "cell_type": "code",
   "execution_count": 1,
   "metadata": {
    "pycharm": {
     "name": "#%%\n"
    }
   },
   "outputs": [],
   "source": [
    "# Imports\n",
    "import pandas as pd\n",
    "import matplotlib.pyplot as plt\n",
    "from sklearn.model_selection import train_test_split\n",
    "from sklearn.linear_model import LinearRegression\n",
    "from sklearn.pipeline import make_pipeline"
   ]
  },
  {
   "cell_type": "code",
   "execution_count": 2,
   "metadata": {
    "pycharm": {
     "name": "#%%\n"
    }
   },
   "outputs": [
    {
     "data": {
      "text/html": [
       "<div>\n",
       "<style scoped>\n",
       "    .dataframe tbody tr th:only-of-type {\n",
       "        vertical-align: middle;\n",
       "    }\n",
       "\n",
       "    .dataframe tbody tr th {\n",
       "        vertical-align: top;\n",
       "    }\n",
       "\n",
       "    .dataframe thead th {\n",
       "        text-align: right;\n",
       "    }\n",
       "</style>\n",
       "<table border=\"1\" class=\"dataframe\">\n",
       "  <thead>\n",
       "    <tr style=\"text-align: right;\">\n",
       "      <th></th>\n",
       "      <th>Time</th>\n",
       "      <th>Position</th>\n",
       "    </tr>\n",
       "  </thead>\n",
       "  <tbody>\n",
       "    <tr>\n",
       "      <th>0</th>\n",
       "      <td>0.00</td>\n",
       "      <td>0</td>\n",
       "    </tr>\n",
       "    <tr>\n",
       "      <th>1</th>\n",
       "      <td>1.85</td>\n",
       "      <td>10</td>\n",
       "    </tr>\n",
       "    <tr>\n",
       "      <th>2</th>\n",
       "      <td>2.87</td>\n",
       "      <td>20</td>\n",
       "    </tr>\n",
       "    <tr>\n",
       "      <th>3</th>\n",
       "      <td>3.78</td>\n",
       "      <td>30</td>\n",
       "    </tr>\n",
       "    <tr>\n",
       "      <th>4</th>\n",
       "      <td>4.65</td>\n",
       "      <td>40</td>\n",
       "    </tr>\n",
       "  </tbody>\n",
       "</table>\n",
       "</div>"
      ],
      "text/plain": [
       "   Time  Position\n",
       "0  0.00         0\n",
       "1  1.85        10\n",
       "2  2.87        20\n",
       "3  3.78        30\n",
       "4  4.65        40"
      ]
     },
     "execution_count": 2,
     "metadata": {},
     "output_type": "execute_result"
    }
   ],
   "source": [
    "# Loading data\n",
    "bolt = pd.read_csv('bolt_data.csv')\n",
    "bolt.head()"
   ]
  },
  {
   "cell_type": "markdown",
   "metadata": {},
   "source": [
    "## Linear Model"
   ]
  },
  {
   "cell_type": "code",
   "execution_count": 3,
   "metadata": {
    "pycharm": {
     "name": "#%%\n"
    }
   },
   "outputs": [],
   "source": [
    "# Split time data from bolt\n",
    "bt = bolt[\"Time\"].values.reshape(-1, 1)"
   ]
  },
  {
   "cell_type": "code",
   "execution_count": 4,
   "metadata": {
    "pycharm": {
     "name": "#%%\n"
    }
   },
   "outputs": [],
   "source": [
    "# Split position data from bolt\n",
    "bp = bolt[\"Position\"]"
   ]
  },
  {
   "cell_type": "code",
   "execution_count": 5,
   "metadata": {
    "pycharm": {
     "name": "#%%\n"
    },
    "scrolled": true
   },
   "outputs": [
    {
     "data": {
      "image/png": "[encoded data removed]",
      "text/plain": [
       "<Figure size 432x288 with 1 Axes>"
      ]
     },
     "metadata": {
      "needs_background": "light"
     },
     "output_type": "display_data"
    }
   ],
   "source": [
    "# Plot\n",
    "plt.scatter(bt, bp)\n",
    "plt.xlabel(\"Time (sec)\")\n",
    "plt.ylabel(\"Position (m)\")\n",
    "plt.title(\"Usain Bolt 100m Run\")\n",
    "plt.grid(True)"
   ]
  },
  {
   "cell_type": "code",
   "execution_count": 6,
   "metadata": {},
   "outputs": [
    {
     "data": {
      "text/plain": [
       "0.9948264249754971"
      ]
     },
     "execution_count": 6,
     "metadata": {},
     "output_type": "execute_result"
    }
   ],
   "source": [
    "# Correlation\n",
    "bolt[\"Time\"].corr(bolt[\"Position\"])"
   ]
  },
  {
   "cell_type": "code",
   "execution_count": 7,
   "metadata": {},
   "outputs": [],
   "source": [
    "# Create classifier object and fit data\n",
    "lm = LinearRegression(fit_intercept=False).fit(bt, bp)"
   ]
  },
  {
   "cell_type": "code",
   "execution_count": 8,
   "metadata": {},
   "outputs": [
    {
     "data": {
      "text/plain": [
       "array([9.73605139])"
      ]
     },
     "execution_count": 8,
     "metadata": {},
     "output_type": "execute_result"
    }
   ],
   "source": [
    "# Get coefficient\n",
    "lm.coef_"
   ]
  },
  {
   "cell_type": "code",
   "execution_count": 9,
   "metadata": {},
   "outputs": [
    {
     "data": {
      "text/plain": [
       "0.0"
      ]
     },
     "execution_count": 9,
     "metadata": {},
     "output_type": "execute_result"
    }
   ],
   "source": [
    "# Get intercept\n",
    "lm.intercept_"
   ]
  },
  {
   "cell_type": "code",
   "execution_count": 10,
   "metadata": {},
   "outputs": [],
   "source": [
    "pos_pred = lm.predict(bt)"
   ]
  },
  {
   "cell_type": "code",
   "execution_count": 11,
   "metadata": {
    "scrolled": true
   },
   "outputs": [
    {
     "data": {
      "image/png": "[encoded data removed]",
      "text/plain": [
       "<Figure size 432x288 with 1 Axes>"
      ]
     },
     "metadata": {
      "needs_background": "light"
     },
     "output_type": "display_data"
    }
   ],
   "source": [
    "# Create scatter plot\n",
    "plt.scatter(bolt[\"Time\"],\n",
    "            bolt[\"Position\"],\n",
    "            label=\"Actual Position\")\n",
    "\n",
    "# Create line plot\n",
    "plt.plot(bolt[\"Time\"],\n",
    "         pos_pred,\n",
    "         color=\"red\",\n",
    "         label=\"Ordinary Regression Line\")\n",
    "\n",
    "# Edit axes\n",
    "plt.xlim(bolt[\"Time\"].min() - 1,\n",
    "         bolt[\"Time\"].max() + 1)  # change x-axis\n",
    "plt.ylim(bolt[\"Position\"].min() - 1,\n",
    "         bolt[\"Position\"].max() + 1)  # change y-axis\n",
    "\n",
    "# Print labels\n",
    "plt.legend()\n",
    "plt.show()"
   ]
  },
  {
   "cell_type": "code",
   "execution_count": 12,
   "metadata": {},
   "outputs": [
    {
     "data": {
      "text/plain": [
       "0     0.000000\n",
       "1    -8.011695\n",
       "2    -7.942467\n",
       "3    -6.802274\n",
       "4    -5.272639\n",
       "5    -3.548283\n",
       "6    -1.531845\n",
       "7     0.484593\n",
       "8     2.501031\n",
       "9     4.420108\n",
       "10    5.657662\n",
       "Name: Position, dtype: float64"
      ]
     },
     "execution_count": 12,
     "metadata": {},
     "output_type": "execute_result"
    }
   ],
   "source": [
    "pos_residuals = bp - pos_pred\n",
    "pos_residuals"
   ]
  },
  {
   "cell_type": "code",
   "execution_count": 13,
   "metadata": {},
   "outputs": [
    {
     "data": {
      "image/png": "[encoded data removed]",
      "text/plain": [
       "<Figure size 432x288 with 1 Axes>"
      ]
     },
     "metadata": {
      "needs_background": "light"
     },
     "output_type": "display_data"
    }
   ],
   "source": [
    "plt.scatter(bp, pos_residuals, label=\"residuals\")\n",
    "plt.axhline(y=0, color='red', label=\"y = 0\")\n",
    "plt.legend()\n",
    "plt.grid(True)\n",
    "plt.show()"
   ]
  },
  {
   "cell_type": "markdown",
   "metadata": {},
   "source": [
    "## Cubic Polynomial"
   ]
  },
  {
   "cell_type": "code",
   "execution_count": 14,
   "metadata": {},
   "outputs": [],
   "source": [
    "from sklearn.preprocessing import PolynomialFeatures\n",
    "from sklearn.pipeline import make_pipeline\n",
    "import numpy as np"
   ]
  },
  {
   "cell_type": "code",
   "execution_count": 15,
   "metadata": {},
   "outputs": [],
   "source": [
    "poly_fit = PolynomialFeatures(degree = 3, include_bias = False)"
   ]
  },
  {
   "cell_type": "code",
   "execution_count": 16,
   "metadata": {
    "scrolled": false
   },
   "outputs": [
    {
     "data": {
      "text/plain": [
       "array([[0.00000000e+00, 0.00000000e+00, 0.00000000e+00, 0.00000000e+00,\n",
       "        0.00000000e+00, 0.00000000e+00, 0.00000000e+00, 0.00000000e+00,\n",
       "        0.00000000e+00],\n",
       "       [1.85000000e+00, 1.00000000e+01, 3.42250000e+00, 1.85000000e+01,\n",
       "        1.00000000e+02, 6.33162500e+00, 3.42250000e+01, 1.85000000e+02,\n",
       "        1.00000000e+03],\n",
       "       [2.87000000e+00, 2.00000000e+01, 8.23690000e+00, 5.74000000e+01,\n",
       "        4.00000000e+02, 2.36399030e+01, 1.64738000e+02, 1.14800000e+03,\n",
       "        8.00000000e+03],\n",
       "       [3.78000000e+00, 3.00000000e+01, 1.42884000e+01, 1.13400000e+02,\n",
       "        9.00000000e+02, 5.40101520e+01, 4.28652000e+02, 3.40200000e+03,\n",
       "        2.70000000e+04],\n",
       "       [4.65000000e+00, 4.00000000e+01, 2.16225000e+01, 1.86000000e+02,\n",
       "        1.60000000e+03, 1.00544625e+02, 8.64900000e+02, 7.44000000e+03,\n",
       "        6.40000000e+04],\n",
       "       [5.50000000e+00, 5.00000000e+01, 3.02500000e+01, 2.75000000e+02,\n",
       "        2.50000000e+03, 1.66375000e+02, 1.51250000e+03, 1.37500000e+04,\n",
       "        1.25000000e+05],\n",
       "       [6.32000000e+00, 6.00000000e+01, 3.99424000e+01, 3.79200000e+02,\n",
       "        3.60000000e+03, 2.52435968e+02, 2.39654400e+03, 2.27520000e+04,\n",
       "        2.16000000e+05],\n",
       "       [7.14000000e+00, 7.00000000e+01, 5.09796000e+01, 4.99800000e+02,\n",
       "        4.90000000e+03, 3.63994344e+02, 3.56857200e+03, 3.49860000e+04,\n",
       "        3.43000000e+05],\n",
       "       [7.96000000e+00, 8.00000000e+01, 6.33616000e+01, 6.36800000e+02,\n",
       "        6.40000000e+03, 5.04358336e+02, 5.06892800e+03, 5.09440000e+04,\n",
       "        5.12000000e+05],\n",
       "       [8.79000000e+00, 9.00000000e+01, 7.72641000e+01, 7.91100000e+02,\n",
       "        8.10000000e+03, 6.79151439e+02, 6.95376900e+03, 7.11990000e+04,\n",
       "        7.29000000e+05],\n",
       "       [9.69000000e+00, 1.00000000e+02, 9.38961000e+01, 9.69000000e+02,\n",
       "        1.00000000e+04, 9.09853209e+02, 9.38961000e+03, 9.69000000e+04,\n",
       "        1.00000000e+06]])"
      ]
     },
     "execution_count": 16,
     "metadata": {},
     "output_type": "execute_result"
    }
   ],
   "source": [
    "poly_fit.fit_transform(bolt)"
   ]
  },
  {
   "cell_type": "code",
   "execution_count": 17,
   "metadata": {},
   "outputs": [],
   "source": [
    "cm = LinearRegression(fit_intercept=False)"
   ]
  },
  {
   "cell_type": "code",
   "execution_count": 18,
   "metadata": {},
   "outputs": [],
   "source": [
    "cub_reg = make_pipeline(poly_fit, cm)"
   ]
  },
  {
   "cell_type": "code",
   "execution_count": 19,
   "metadata": {},
   "outputs": [
    {
     "data": {
      "text/plain": [
       "Pipeline(steps=[('polynomialfeatures',\n",
       "                 PolynomialFeatures(degree=3, include_bias=False)),\n",
       "                ('linearregression', LinearRegression(fit_intercept=False))])"
      ]
     },
     "execution_count": 19,
     "metadata": {},
     "output_type": "execute_result"
    }
   ],
   "source": [
    "cub_reg.fit(bt, bp)"
   ]
  },
  {
   "cell_type": "code",
   "execution_count": 20,
   "metadata": {},
   "outputs": [
    {
     "data": {
      "text/plain": [
       "array([ 3.56296819,  1.39941833, -0.07273712])"
      ]
     },
     "execution_count": 20,
     "metadata": {},
     "output_type": "execute_result"
    }
   ],
   "source": [
    "cm.coef_"
   ]
  },
  {
   "cell_type": "code",
   "execution_count": 21,
   "metadata": {},
   "outputs": [
    {
     "data": {
      "text/plain": [
       "0.0"
      ]
     },
     "execution_count": 21,
     "metadata": {},
     "output_type": "execute_result"
    }
   ],
   "source": [
    "cm.intercept_"
   ]
  },
  {
   "cell_type": "code",
   "execution_count": 22,
   "metadata": {},
   "outputs": [
    {
     "data": {
      "text/plain": [
       "0.99985332777976"
      ]
     },
     "execution_count": 22,
     "metadata": {},
     "output_type": "execute_result"
    }
   ],
   "source": [
    "cub_reg.score(bt, bp)"
   ]
  },
  {
   "cell_type": "code",
   "execution_count": 23,
   "metadata": {},
   "outputs": [
    {
     "data": {
      "image/png": "[encoded data removed]",
      "text/plain": [
       "<Figure size 432x288 with 1 Axes>"
      ]
     },
     "metadata": {
      "needs_background": "light"
     },
     "output_type": "display_data"
    }
   ],
   "source": [
    "plt.scatter(bt, bp, color=\"blue\", label='Actual Height')\n",
    "plt.plot(bt, cub_reg.predict(bt), color=\"red\", label='predicted height')\n",
    "plt.xlabel(\"Time (seconds)\")\n",
    "plt.ylabel(\"Height (meters)\")\n",
    "plt.title(\"Position of Billionaire's Flying Saucer\")\n",
    "plt.legend()\n",
    "plt.show()"
   ]
  },
  {
   "cell_type": "code",
   "execution_count": 24,
   "metadata": {},
   "outputs": [],
   "source": [
    "bp_pred = cub_reg.predict(bt)"
   ]
  },
  {
   "cell_type": "code",
   "execution_count": 25,
   "metadata": {},
   "outputs": [],
   "source": [
    "bp_cub_residuals = bp = bp_pred"
   ]
  },
  {
   "cell_type": "code",
   "execution_count": 26,
   "metadata": {},
   "outputs": [
    {
     "data": {
      "image/png": "[encoded data removed]",
      "text/plain": [
       "<Figure size 432x288 with 1 Axes>"
      ]
     },
     "metadata": {
      "needs_background": "light"
     },
     "output_type": "display_data"
    }
   ],
   "source": [
    "plt.scatter(bt, bp_cub_residuals)\n",
    "plt.show()"
   ]
  },
  {
   "cell_type": "code",
   "execution_count": 27,
   "metadata": {},
   "outputs": [
    {
     "data": {
      "image/png": "[encoded data removed]",
      "text/plain": [
       "<Figure size 432x288 with 1 Axes>"
      ]
     },
     "metadata": {
      "needs_background": "light"
     },
     "output_type": "display_data"
    }
   ],
   "source": [
    "plt.scatter(bp, bp_cub_residuals, 0.5)\n",
    "plt.axhline(y=0, color='red', label='y = 0')\n",
    "plt.legend()\n",
    "\n",
    "plt.show()"
   ]
  }
 ],
 "metadata": {
  "kernelspec": {
   "display_name": "Python 3",
   "language": "python",
   "name": "python3"
  },
  "language_info": {
   "codemirror_mode": {
    "name": "ipython",
    "version": 3
   },
   "file_extension": ".py",
   "mimetype": "text/x-python",
   "name": "python",
   "nbconvert_exporter": "python",
   "pygments_lexer": "ipython3",
   "version": "3.7.6"
  },
  "toc": {
   "base_numbering": 1,
   "nav_menu": {},
   "number_sections": true,
   "sideBar": true,
   "skip_h1_title": false,
   "title_cell": "Table of Contents",
   "title_sidebar": "Contents",
   "toc_cell": true,
   "toc_position": {},
   "toc_section_display": true,
   "toc_window_display": false
  }
 },
 "nbformat": 4,
 "nbformat_minor": 1
}
