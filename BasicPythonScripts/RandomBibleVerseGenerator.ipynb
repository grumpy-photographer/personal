{
 "cells": [
  {
   "cell_type": "markdown",
   "metadata": {},
   "source": [
    "# Imports"
   ]
  },
  {
   "cell_type": "code",
   "execution_count": 16,
   "metadata": {},
   "outputs": [],
   "source": [
    "import pandas as pd\n",
    "import random "
   ]
  },
  {
   "cell_type": "markdown",
   "metadata": {},
   "source": [
    "# Bible Verse Data"
   ]
  },
  {
   "cell_type": "markdown",
   "metadata": {},
   "source": [
    "### Load and view file in dataframe"
   ]
  },
  {
   "cell_type": "code",
   "execution_count": 17,
   "metadata": {},
   "outputs": [
    {
     "data": {
      "text/plain": "        id  book  chapter  verse  \\\n0  1001001     1        1      1   \n1  1001002     1        1      2   \n\n                                                text  \n0  In the beginning God created the heaven and th...  \n1  And the earth was without form, and void; and ...  ",
      "text/html": "<div>\n<style scoped>\n    .dataframe tbody tr th:only-of-type {\n        vertical-align: middle;\n    }\n\n    .dataframe tbody tr th {\n        vertical-align: top;\n    }\n\n    .dataframe thead th {\n        text-align: right;\n    }\n</style>\n<table border=\"1\" class=\"dataframe\">\n  <thead>\n    <tr style=\"text-align: right;\">\n      <th></th>\n      <th>id</th>\n      <th>book</th>\n      <th>chapter</th>\n      <th>verse</th>\n      <th>text</th>\n    </tr>\n  </thead>\n  <tbody>\n    <tr>\n      <th>0</th>\n      <td>1001001</td>\n      <td>1</td>\n      <td>1</td>\n      <td>1</td>\n      <td>In the beginning God created the heaven and th...</td>\n    </tr>\n    <tr>\n      <th>1</th>\n      <td>1001002</td>\n      <td>1</td>\n      <td>1</td>\n      <td>2</td>\n      <td>And the earth was without form, and void; and ...</td>\n    </tr>\n  </tbody>\n</table>\n</div>"
     },
     "execution_count": 17,
     "metadata": {},
     "output_type": "execute_result"
    }
   ],
   "source": [
    "df = pd.read_excel('/Users/natha/Onedrive/Desktop/GitHub/personal/Data/bible_kjv.xlsx')\n",
    "\n",
    "df.head(2)"
   ]
  },
  {
   "cell_type": "markdown",
   "metadata": {},
   "source": [
    "### View and edit columns"
   ]
  },
  {
   "cell_type": "code",
   "execution_count": 18,
   "metadata": {},
   "outputs": [
    {
     "data": {
      "text/plain": "Index(['id', 'book', 'chapter', 'verse', 'text'], dtype='object')"
     },
     "execution_count": 18,
     "metadata": {},
     "output_type": "execute_result"
    }
   ],
   "source": [
    "df.columns"
   ]
  },
  {
   "cell_type": "code",
   "execution_count": 19,
   "metadata": {},
   "outputs": [
    {
     "data": {
      "text/plain": "        id  book  chapter  verse  \\\n0  1001001     1        1      1   \n1  1001002     1        1      2   \n\n                                                text  \n0  In the beginning God created the heaven and th...  \n1  And the earth was without form, and void; and ...  ",
      "text/html": "<div>\n<style scoped>\n    .dataframe tbody tr th:only-of-type {\n        vertical-align: middle;\n    }\n\n    .dataframe tbody tr th {\n        vertical-align: top;\n    }\n\n    .dataframe thead th {\n        text-align: right;\n    }\n</style>\n<table border=\"1\" class=\"dataframe\">\n  <thead>\n    <tr style=\"text-align: right;\">\n      <th></th>\n      <th>id</th>\n      <th>book</th>\n      <th>chapter</th>\n      <th>verse</th>\n      <th>text</th>\n    </tr>\n  </thead>\n  <tbody>\n    <tr>\n      <th>0</th>\n      <td>1001001</td>\n      <td>1</td>\n      <td>1</td>\n      <td>1</td>\n      <td>In the beginning God created the heaven and th...</td>\n    </tr>\n    <tr>\n      <th>1</th>\n      <td>1001002</td>\n      <td>1</td>\n      <td>1</td>\n      <td>2</td>\n      <td>And the earth was without form, and void; and ...</td>\n    </tr>\n  </tbody>\n</table>\n</div>"
     },
     "execution_count": 19,
     "metadata": {},
     "output_type": "execute_result"
    }
   ],
   "source": [
    "rename_columns = {'b':'book',\n",
    "                 'c':'chapter',\n",
    "                 'v':'verse',\n",
    "                 't':'text'}\n",
    "\n",
    "df.rename(columns = rename_columns, inplace=True)\n",
    "df.head(2)"
   ]
  },
  {
   "cell_type": "markdown",
   "metadata": {},
   "source": [
    "### View and edit datatypes"
   ]
  },
  {
   "cell_type": "code",
   "execution_count": 20,
   "metadata": {},
   "outputs": [
    {
     "data": {
      "text/plain": "id          int64\nbook        int64\nchapter     int64\nverse       int64\ntext       object\ndtype: object"
     },
     "execution_count": 20,
     "metadata": {},
     "output_type": "execute_result"
    }
   ],
   "source": [
    "df.dtypes"
   ]
  },
  {
   "cell_type": "code",
   "execution_count": 21,
   "metadata": {},
   "outputs": [
    {
     "data": {
      "text/plain": "id          int64\nbook       object\nchapter     int64\nverse       int64\ntext       object\ndtype: object"
     },
     "execution_count": 21,
     "metadata": {},
     "output_type": "execute_result"
    }
   ],
   "source": [
    "df['book']=pd.to_numeric(df['book']).astype(object)\n",
    "df.dtypes"
   ]
  },
  {
   "cell_type": "markdown",
   "metadata": {},
   "source": [
    "# Books of the Bible Data"
   ]
  },
  {
   "cell_type": "markdown",
   "metadata": {},
   "source": [
    "### Load and view file in dataframe"
   ]
  },
  {
   "cell_type": "code",
   "execution_count": 22,
   "metadata": {},
   "outputs": [
    {
     "data": {
      "text/plain": "   book book_name\n0     1   Genesis\n1     2    Exodus",
      "text/html": "<div>\n<style scoped>\n    .dataframe tbody tr th:only-of-type {\n        vertical-align: middle;\n    }\n\n    .dataframe tbody tr th {\n        vertical-align: top;\n    }\n\n    .dataframe thead th {\n        text-align: right;\n    }\n</style>\n<table border=\"1\" class=\"dataframe\">\n  <thead>\n    <tr style=\"text-align: right;\">\n      <th></th>\n      <th>book</th>\n      <th>book_name</th>\n    </tr>\n  </thead>\n  <tbody>\n    <tr>\n      <th>0</th>\n      <td>1</td>\n      <td>Genesis</td>\n    </tr>\n    <tr>\n      <th>1</th>\n      <td>2</td>\n      <td>Exodus</td>\n    </tr>\n  </tbody>\n</table>\n</div>"
     },
     "execution_count": 22,
     "metadata": {},
     "output_type": "execute_result"
    }
   ],
   "source": [
    "df_books = pd.read_excel('/Users/natha/Onedrive/Desktop/GitHub/personal/Data/bible_books.xlsx')\n",
    "\n",
    "df_books.head(2)"
   ]
  },
  {
   "cell_type": "markdown",
   "metadata": {},
   "source": [
    "### View and edit columns"
   ]
  },
  {
   "cell_type": "code",
   "execution_count": 23,
   "metadata": {},
   "outputs": [
    {
     "data": {
      "text/plain": "Index(['book', 'book_name'], dtype='object')"
     },
     "execution_count": 23,
     "metadata": {},
     "output_type": "execute_result"
    }
   ],
   "source": [
    "df_books.columns"
   ]
  },
  {
   "cell_type": "markdown",
   "metadata": {},
   "source": [
    "### View and edit datatypes"
   ]
  },
  {
   "cell_type": "code",
   "execution_count": 24,
   "metadata": {},
   "outputs": [
    {
     "data": {
      "text/plain": "book          int64\nbook_name    object\ndtype: object"
     },
     "execution_count": 24,
     "metadata": {},
     "output_type": "execute_result"
    }
   ],
   "source": [
    "df_books.dtypes"
   ]
  },
  {
   "cell_type": "markdown",
   "metadata": {},
   "source": [
    "# Merge"
   ]
  },
  {
   "cell_type": "markdown",
   "metadata": {},
   "source": [
    "### Left-joining Bible Verse Data with Books Data to create complete Bible database"
   ]
  },
  {
   "cell_type": "code",
   "execution_count": 25,
   "metadata": {},
   "outputs": [
    {
     "data": {
      "text/plain": "  book book_name       id  chapter  verse  \\\n0    1   Genesis  1001001        1      1   \n1    1   Genesis  1001002        1      2   \n2    1   Genesis  1001003        1      3   \n3    1   Genesis  1001004        1      4   \n4    1   Genesis  1001005        1      5   \n\n                                                text  \n0  In the beginning God created the heaven and th...  \n1  And the earth was without form, and void; and ...  \n2  And God said, Let there be light: and there wa...  \n3  And God saw the light, that it was good: and G...  \n4  And God called the light Day, and the darkness...  ",
      "text/html": "<div>\n<style scoped>\n    .dataframe tbody tr th:only-of-type {\n        vertical-align: middle;\n    }\n\n    .dataframe tbody tr th {\n        vertical-align: top;\n    }\n\n    .dataframe thead th {\n        text-align: right;\n    }\n</style>\n<table border=\"1\" class=\"dataframe\">\n  <thead>\n    <tr style=\"text-align: right;\">\n      <th></th>\n      <th>book</th>\n      <th>book_name</th>\n      <th>id</th>\n      <th>chapter</th>\n      <th>verse</th>\n      <th>text</th>\n    </tr>\n  </thead>\n  <tbody>\n    <tr>\n      <th>0</th>\n      <td>1</td>\n      <td>Genesis</td>\n      <td>1001001</td>\n      <td>1</td>\n      <td>1</td>\n      <td>In the beginning God created the heaven and th...</td>\n    </tr>\n    <tr>\n      <th>1</th>\n      <td>1</td>\n      <td>Genesis</td>\n      <td>1001002</td>\n      <td>1</td>\n      <td>2</td>\n      <td>And the earth was without form, and void; and ...</td>\n    </tr>\n    <tr>\n      <th>2</th>\n      <td>1</td>\n      <td>Genesis</td>\n      <td>1001003</td>\n      <td>1</td>\n      <td>3</td>\n      <td>And God said, Let there be light: and there wa...</td>\n    </tr>\n    <tr>\n      <th>3</th>\n      <td>1</td>\n      <td>Genesis</td>\n      <td>1001004</td>\n      <td>1</td>\n      <td>4</td>\n      <td>And God saw the light, that it was good: and G...</td>\n    </tr>\n    <tr>\n      <th>4</th>\n      <td>1</td>\n      <td>Genesis</td>\n      <td>1001005</td>\n      <td>1</td>\n      <td>5</td>\n      <td>And God called the light Day, and the darkness...</td>\n    </tr>\n  </tbody>\n</table>\n</div>"
     },
     "execution_count": 25,
     "metadata": {},
     "output_type": "execute_result"
    }
   ],
   "source": [
    "df_bible = pd.merge(df_books, df, on = 'book', how = 'left')\n",
    "df_bible.head()"
   ]
  },
  {
   "cell_type": "markdown",
   "metadata": {},
   "source": [
    "### Editing columns in new dataframe"
   ]
  },
  {
   "cell_type": "code",
   "execution_count": 26,
   "metadata": {
    "scrolled": true
   },
   "outputs": [
    {
     "name": "stdout",
     "output_type": "stream",
     "text": [
      "Number of rows:  31103\n",
      "Number of columns:  6\n"
     ]
    },
    {
     "data": {
      "text/plain": "        id book book_name  chapter  verse  \\\n0  1001001    1   Genesis        1      1   \n1  1001002    1   Genesis        1      2   \n2  1001003    1   Genesis        1      3   \n3  1001004    1   Genesis        1      4   \n4  1001005    1   Genesis        1      5   \n\n                                                text  \n0  In the beginning God created the heaven and th...  \n1  And the earth was without form, and void; and ...  \n2  And God said, Let there be light: and there wa...  \n3  And God saw the light, that it was good: and G...  \n4  And God called the light Day, and the darkness...  ",
      "text/html": "<div>\n<style scoped>\n    .dataframe tbody tr th:only-of-type {\n        vertical-align: middle;\n    }\n\n    .dataframe tbody tr th {\n        vertical-align: top;\n    }\n\n    .dataframe thead th {\n        text-align: right;\n    }\n</style>\n<table border=\"1\" class=\"dataframe\">\n  <thead>\n    <tr style=\"text-align: right;\">\n      <th></th>\n      <th>id</th>\n      <th>book</th>\n      <th>book_name</th>\n      <th>chapter</th>\n      <th>verse</th>\n      <th>text</th>\n    </tr>\n  </thead>\n  <tbody>\n    <tr>\n      <th>0</th>\n      <td>1001001</td>\n      <td>1</td>\n      <td>Genesis</td>\n      <td>1</td>\n      <td>1</td>\n      <td>In the beginning God created the heaven and th...</td>\n    </tr>\n    <tr>\n      <th>1</th>\n      <td>1001002</td>\n      <td>1</td>\n      <td>Genesis</td>\n      <td>1</td>\n      <td>2</td>\n      <td>And the earth was without form, and void; and ...</td>\n    </tr>\n    <tr>\n      <th>2</th>\n      <td>1001003</td>\n      <td>1</td>\n      <td>Genesis</td>\n      <td>1</td>\n      <td>3</td>\n      <td>And God said, Let there be light: and there wa...</td>\n    </tr>\n    <tr>\n      <th>3</th>\n      <td>1001004</td>\n      <td>1</td>\n      <td>Genesis</td>\n      <td>1</td>\n      <td>4</td>\n      <td>And God saw the light, that it was good: and G...</td>\n    </tr>\n    <tr>\n      <th>4</th>\n      <td>1001005</td>\n      <td>1</td>\n      <td>Genesis</td>\n      <td>1</td>\n      <td>5</td>\n      <td>And God called the light Day, and the darkness...</td>\n    </tr>\n  </tbody>\n</table>\n</div>"
     },
     "execution_count": 26,
     "metadata": {},
     "output_type": "execute_result"
    }
   ],
   "source": [
    "new_column_order = ['id','book','book_name','chapter','verse','text']\n",
    "\n",
    "df_bible = df_bible[new_column_order]\n",
    "\n",
    "print('Number of rows: ',df_bible.shape[0])\n",
    "print('Number of columns: ',df_bible.shape[1])\n",
    "df_bible.head()"
   ]
  },
  {
   "cell_type": "code",
   "execution_count": 27,
   "metadata": {
    "scrolled": true
   },
   "outputs": [],
   "source": [
    "df_bible.set_index('book_name')\n",
    "df_bible = df_bible.drop(['book', 'id'], axis=1)"
   ]
  },
  {
   "cell_type": "code",
   "execution_count": 28,
   "metadata": {},
   "outputs": [],
   "source": [
    "df_bible.to_csv('../Data/finished_bible.txt', sep='\\t')"
   ]
  },
  {
   "cell_type": "code",
   "execution_count": 29,
   "metadata": {},
   "outputs": [],
   "source": [
    "df_bible = pd.read_csv('../Data/finished_bible.txt', sep='\\t')"
   ]
  },
  {
   "cell_type": "code",
   "execution_count": 30,
   "metadata": {},
   "outputs": [
    {
     "name": "stdout",
     "output_type": "stream",
     "text": [
      "16598\tProverbs\t7\t23\tTill a dart strike through his liver; as a bird hasteth to the snare, and knoweth not that it is for his life.\n",
      "\n"
     ]
    }
   ],
   "source": [
    "line = random.choice(open('../Data/finished_bible.txt').readlines())\n",
    "print(line)"
   ]
  }
 ],
 "metadata": {
  "kernelspec": {
   "name": "python37664bit11f2714a259d463f877cebf8c870527f",
   "language": "python",
   "display_name": "Python 3.7.6 64-bit"
  },
  "language_info": {
   "codemirror_mode": {
    "name": "ipython",
    "version": 3
   },
   "file_extension": ".py",
   "mimetype": "text/x-python",
   "name": "python",
   "nbconvert_exporter": "python",
   "pygments_lexer": "ipython3",
   "version": "3.7.9"
  }
 },
 "nbformat": 4,
 "nbformat_minor": 2
}