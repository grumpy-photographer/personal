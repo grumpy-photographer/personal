{
 "cells": [
  {
   "cell_type": "markdown",
   "metadata": {
    "slideshow": {
     "slide_type": "slide"
    }
   },
   "source": [
    "# Ex 1.1 -  Variables, Operators and Data Types\n",
    "\n",
    "\n",
    "- [In Class: Tip Calculator](#In-Class:-Tip-Calculator)  \n",
    "- [In Class: User Input](#In-Class:--User-Input) \n",
    "  \n",
    "\n",
    "\n",
    "- [Exercise 1.1: Temperature Converter](#Exercise-1.1:-Temperature-Converter)  \n",
    "  - Part 1  \n",
    "  - Part 2\n"
   ]
  },
  {
   "cell_type": "markdown",
   "metadata": {
    "slideshow": {
     "slide_type": "slide"
    }
   },
   "source": [
    "# In Class: Tip Calculator  \n",
    "#### Enter the following code in the Code Cell below and run it:  \n",
    "\n",
    "```python\n",
    "# Calculate tip amount\n",
    "bill_amount = 100  \n",
    "tip_rate = .15  \n",
    "tip_amount = bill_amount * tip_rate  \n",
    "\n",
    "# Print the results\n",
    "print (\"The Amount of the Tip is: \", tip_amount)  \n",
    "print (f'Nicely formatted for currency: ${tip_amount:.2f}')\n",
    "```"
   ]
  },
  {
   "cell_type": "code",
   "execution_count": null,
   "metadata": {
    "scrolled": false,
    "slideshow": {
     "slide_type": "slide"
    }
   },
   "outputs": [],
   "source": []
  },
  {
   "cell_type": "markdown",
   "metadata": {
    "slideshow": {
     "slide_type": "slide"
    }
   },
   "source": [
    "## Tip Calculator cont...  \n",
    "\n",
    "Add the following as comments in the code cell below and below each comment add the required code:  \n",
    "\n",
    "    1.  Add a variable named total_bill  \n",
    "    2.  Calculate total_bill = bill_amount + tip_amount  \n",
    "    3.  Print total_bill"
   ]
  },
  {
   "cell_type": "code",
   "execution_count": null,
   "metadata": {
    "slideshow": {
     "slide_type": "fragment"
    }
   },
   "outputs": [],
   "source": []
  },
  {
   "cell_type": "markdown",
   "metadata": {
    "slideshow": {
     "slide_type": "slide"
    }
   },
   "source": [
    "Add the following as comments in the code cell below and below each comment add the required code:  \n",
    "\n",
    "    4. Add a variable named:  numberOfPeopleSplittingBill and set it equal to 2  \n",
    "    5. Add a variable for individual share amount of the total bill and calculate it\n",
    "    6. Print that individual share amount -- nicely formatted"
   ]
  },
  {
   "cell_type": "code",
   "execution_count": null,
   "metadata": {},
   "outputs": [],
   "source": []
  },
  {
   "cell_type": "markdown",
   "metadata": {
    "slideshow": {
     "slide_type": "slide"
    }
   },
   "source": [
    "# In Class:  User Input\n",
    "Create the specified code in the following cell:\n"
   ]
  },
  {
   "cell_type": "code",
   "execution_count": null,
   "metadata": {
    "slideshow": {
     "slide_type": "fragment"
    }
   },
   "outputs": [],
   "source": [
    "# Prompt the user for a number, then cube it and display it\n"
   ]
  },
  {
   "cell_type": "markdown",
   "metadata": {
    "slideshow": {
     "slide_type": "slide"
    }
   },
   "source": [
    "# Exercise 1.1: Temperature Converter "
   ]
  },
  {
   "cell_type": "markdown",
   "metadata": {
    "slideshow": {
     "slide_type": "fragment"
    }
   },
   "source": [
    "## Part 1: Enter code that prompts the user for a Fahrenheit temperature, converts it to Celsius, and then displays both to the user: "
   ]
  },
  {
   "cell_type": "code",
   "execution_count": null,
   "metadata": {
    "slideshow": {
     "slide_type": "fragment"
    }
   },
   "outputs": [],
   "source": [
    "# Get the Fahrenheit temperature from the user\n",
    "\n",
    "# Calculate the Celsius equivalent\n",
    "\n",
    "# Display the original and the converted temp"
   ]
  },
  {
   "cell_type": "markdown",
   "metadata": {
    "slideshow": {
     "slide_type": "fragment"
    }
   },
   "source": [
    "## Part 2: Enter the code that prompts the user for a Celsius temperature, converts it to Fahrenheit and then displays both to the user."
   ]
  },
  {
   "cell_type": "code",
   "execution_count": null,
   "metadata": {},
   "outputs": [],
   "source": []
  }
 ],
 "metadata": {
  "kernelspec": {
   "display_name": "Python 3",
   "language": "python",
   "name": "python3"
  },
  "language_info": {
   "codemirror_mode": {
    "name": "ipython",
    "version": 3
   },
   "file_extension": ".py",
   "mimetype": "text/x-python",
   "name": "python",
   "nbconvert_exporter": "python",
   "pygments_lexer": "ipython3",
   "version": "3.6.4"
  }
 },
 "nbformat": 4,
 "nbformat_minor": 2
}
