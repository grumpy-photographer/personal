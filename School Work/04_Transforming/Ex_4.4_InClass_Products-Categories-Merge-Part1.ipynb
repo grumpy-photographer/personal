{
 "cells": [
  {
   "cell_type": "markdown",
   "metadata": {},
   "source": [
    "\n",
    "# 4.4 Left Join Template\n",
    "\n",
    "1. [Identify the *Left* Table](#1.-Identify-the-Left-Table)    \n",
    "2. [Identify the *Right* Table](#2.-Identify-the-Right-Table)   \n",
    "3. [Identify the *Merge* Field/Column](#3.-Identify-the-Merge-Field)   \n",
    "4. [Merge the Two Dataframes](#4.-Merge-the-Two-Dataframes)  \n",
    "5. [Verify that the Merge is Correct](#5.-Verify-that-the-Merge-is-Correct)  \n",
    "6. [Save the Merged Dataframe as a Pickle File](#6.-Save-the-Merged-Dataframe-as-a-Pickle-File)"
   ]
  },
  {
   "cell_type": "code",
   "execution_count": 2,
   "metadata": {},
   "outputs": [],
   "source": [
    "import pandas as pd\n",
    "import pickle"
   ]
  },
  {
   "cell_type": "markdown",
   "metadata": {},
   "source": [
    "# 1. Identify the Left Table  \n",
    "\n",
    "### Questions to answer:  \n",
    "1. What is the Left Table? Products\n",
    "1. Why is this the Left table/data set?  We are merging Products and Categories.\n",
    "2. Number of Rows:  77  \n",
    "3. Number of Columns:  6 "
   ]
  },
  {
   "cell_type": "code",
   "execution_count": 29,
   "metadata": {},
   "outputs": [
    {
     "data": {
      "text/plain": [
       "['Customers',\n",
       " 'Categories',\n",
       " 'Employees',\n",
       " 'OrderDetails',\n",
       " 'Orders',\n",
       " 'Products',\n",
       " 'Shippers',\n",
       " 'Suppliers']"
      ]
     },
     "execution_count": 29,
     "metadata": {},
     "output_type": "execute_result"
    }
   ],
   "source": [
    "file = 'Data//w3schools_Data.xlsx'\n",
    "\n",
    "df = pd.ExcelFile(file)\n",
    "\n",
    "df.sheet_names"
   ]
  },
  {
   "cell_type": "code",
   "execution_count": 43,
   "metadata": {},
   "outputs": [],
   "source": [
    "# Read the Left Table data into a dataframe named: df_Left\n",
    "df_Left = pd.read_excel(file, 'Products', skiprows=2)"
   ]
  },
  {
   "cell_type": "code",
   "execution_count": 44,
   "metadata": {},
   "outputs": [
    {
     "data": {
      "text/html": [
       "<div>\n",
       "<style scoped>\n",
       "    .dataframe tbody tr th:only-of-type {\n",
       "        vertical-align: middle;\n",
       "    }\n",
       "\n",
       "    .dataframe tbody tr th {\n",
       "        vertical-align: top;\n",
       "    }\n",
       "\n",
       "    .dataframe thead th {\n",
       "        text-align: right;\n",
       "    }\n",
       "</style>\n",
       "<table border=\"1\" class=\"dataframe\">\n",
       "  <thead>\n",
       "    <tr style=\"text-align: right;\">\n",
       "      <th></th>\n",
       "      <th>ProductID</th>\n",
       "      <th>ProductName</th>\n",
       "      <th>SupplierID</th>\n",
       "      <th>CategoryID</th>\n",
       "      <th>Unit</th>\n",
       "      <th>Price</th>\n",
       "    </tr>\n",
       "  </thead>\n",
       "  <tbody>\n",
       "    <tr>\n",
       "      <th>0</th>\n",
       "      <td>1</td>\n",
       "      <td>Chais</td>\n",
       "      <td>1</td>\n",
       "      <td>1</td>\n",
       "      <td>10 boxes x 20 bags</td>\n",
       "      <td>18.00</td>\n",
       "    </tr>\n",
       "    <tr>\n",
       "      <th>1</th>\n",
       "      <td>2</td>\n",
       "      <td>Chang</td>\n",
       "      <td>1</td>\n",
       "      <td>1</td>\n",
       "      <td>24 - 12 oz bottles</td>\n",
       "      <td>19.00</td>\n",
       "    </tr>\n",
       "    <tr>\n",
       "      <th>2</th>\n",
       "      <td>3</td>\n",
       "      <td>Aniseed Syrup</td>\n",
       "      <td>1</td>\n",
       "      <td>2</td>\n",
       "      <td>12 - 550 ml bottles</td>\n",
       "      <td>10.00</td>\n",
       "    </tr>\n",
       "    <tr>\n",
       "      <th>3</th>\n",
       "      <td>4</td>\n",
       "      <td>Chef Anton's Cajun Seasoning</td>\n",
       "      <td>2</td>\n",
       "      <td>2</td>\n",
       "      <td>48 - 6 oz jars</td>\n",
       "      <td>22.00</td>\n",
       "    </tr>\n",
       "    <tr>\n",
       "      <th>4</th>\n",
       "      <td>5</td>\n",
       "      <td>Chef Anton's Gumbo Mix</td>\n",
       "      <td>2</td>\n",
       "      <td>2</td>\n",
       "      <td>36 boxes</td>\n",
       "      <td>21.35</td>\n",
       "    </tr>\n",
       "  </tbody>\n",
       "</table>\n",
       "</div>"
      ],
      "text/plain": [
       "   ProductID                   ProductName  SupplierID  CategoryID  \\\n",
       "0          1                         Chais           1           1   \n",
       "1          2                         Chang           1           1   \n",
       "2          3                 Aniseed Syrup           1           2   \n",
       "3          4  Chef Anton's Cajun Seasoning           2           2   \n",
       "4          5        Chef Anton's Gumbo Mix           2           2   \n",
       "\n",
       "                  Unit  Price  \n",
       "0   10 boxes x 20 bags  18.00  \n",
       "1   24 - 12 oz bottles  19.00  \n",
       "2  12 - 550 ml bottles  10.00  \n",
       "3       48 - 6 oz jars  22.00  \n",
       "4             36 boxes  21.35  "
      ]
     },
     "execution_count": 44,
     "metadata": {},
     "output_type": "execute_result"
    }
   ],
   "source": [
    "# Display the first rows in the dataframe\n",
    "df_Left.head()"
   ]
  },
  {
   "cell_type": "code",
   "execution_count": 45,
   "metadata": {},
   "outputs": [
    {
     "name": "stdout",
     "output_type": "stream",
     "text": [
      "Number of Rows in the Left dataframe:   77\n",
      "Number of Columns in Left dataframe:   6\n"
     ]
    }
   ],
   "source": [
    "print(\"Number of Rows in the Left dataframe:  \", df_Left.shape[0])\n",
    "print(\"Number of Columns in Left dataframe:  \", df_Left.shape[1])"
   ]
  },
  {
   "cell_type": "markdown",
   "metadata": {},
   "source": [
    "# 2. Identify the Right Table  \n",
    "\n",
    "### Questions to answer:  \n",
    "1. What is the Right Table? Categories\n",
    "1. Why is this the Right table/data set?  We are merging Products and Categories.\n",
    "2. What columns does it contain that we want to add to the columns in the Left table/dataframe?  CategoryName and Description\n",
    "2. Number of Rows:  8   \n",
    "3. Number of Columns:  3"
   ]
  },
  {
   "cell_type": "code",
   "execution_count": 46,
   "metadata": {},
   "outputs": [],
   "source": [
    "# Read the Right Table data into a dataframe named: df_Right\n",
    "df_Right = pd.read_excel(file, 'Categories')"
   ]
  },
  {
   "cell_type": "code",
   "execution_count": 47,
   "metadata": {},
   "outputs": [
    {
     "data": {
      "text/html": [
       "<div>\n",
       "<style scoped>\n",
       "    .dataframe tbody tr th:only-of-type {\n",
       "        vertical-align: middle;\n",
       "    }\n",
       "\n",
       "    .dataframe tbody tr th {\n",
       "        vertical-align: top;\n",
       "    }\n",
       "\n",
       "    .dataframe thead th {\n",
       "        text-align: right;\n",
       "    }\n",
       "</style>\n",
       "<table border=\"1\" class=\"dataframe\">\n",
       "  <thead>\n",
       "    <tr style=\"text-align: right;\">\n",
       "      <th></th>\n",
       "      <th>CategoryID</th>\n",
       "      <th>CategoryName</th>\n",
       "      <th>Description</th>\n",
       "    </tr>\n",
       "  </thead>\n",
       "  <tbody>\n",
       "    <tr>\n",
       "      <th>0</th>\n",
       "      <td>1</td>\n",
       "      <td>Beverages</td>\n",
       "      <td>Soft drinks, coffees, teas, beers, and ales</td>\n",
       "    </tr>\n",
       "    <tr>\n",
       "      <th>1</th>\n",
       "      <td>2</td>\n",
       "      <td>Condiments</td>\n",
       "      <td>Sweet and savory sauces, relishes, spreads, an...</td>\n",
       "    </tr>\n",
       "    <tr>\n",
       "      <th>2</th>\n",
       "      <td>3</td>\n",
       "      <td>Confections</td>\n",
       "      <td>Desserts, candies, and sweet breads</td>\n",
       "    </tr>\n",
       "    <tr>\n",
       "      <th>3</th>\n",
       "      <td>4</td>\n",
       "      <td>Dairy Products</td>\n",
       "      <td>Cheeses</td>\n",
       "    </tr>\n",
       "    <tr>\n",
       "      <th>4</th>\n",
       "      <td>5</td>\n",
       "      <td>Grains/Cereals</td>\n",
       "      <td>Breads, crackers, pasta, and cereal</td>\n",
       "    </tr>\n",
       "  </tbody>\n",
       "</table>\n",
       "</div>"
      ],
      "text/plain": [
       "   CategoryID    CategoryName  \\\n",
       "0           1       Beverages   \n",
       "1           2      Condiments   \n",
       "2           3     Confections   \n",
       "3           4  Dairy Products   \n",
       "4           5  Grains/Cereals   \n",
       "\n",
       "                                         Description  \n",
       "0        Soft drinks, coffees, teas, beers, and ales  \n",
       "1  Sweet and savory sauces, relishes, spreads, an...  \n",
       "2                Desserts, candies, and sweet breads  \n",
       "3                                            Cheeses  \n",
       "4                Breads, crackers, pasta, and cereal  "
      ]
     },
     "execution_count": 47,
     "metadata": {},
     "output_type": "execute_result"
    }
   ],
   "source": [
    "# Display the first rows in the dataframe\n",
    "df_Right.head()"
   ]
  },
  {
   "cell_type": "code",
   "execution_count": 48,
   "metadata": {},
   "outputs": [
    {
     "name": "stdout",
     "output_type": "stream",
     "text": [
      "Number of Rows in the Right dataframe:   8\n",
      "Number of Columns in Right dataframe:   3\n"
     ]
    }
   ],
   "source": [
    "print(\"Number of Rows in the Right dataframe:  \", df_Right.shape[0])\n",
    "print(\"Number of Columns in Right dataframe:  \", df_Right.shape[1])"
   ]
  },
  {
   "cell_type": "markdown",
   "metadata": {},
   "source": [
    "# 3. Identify the Merge Field  \n",
    "\n",
    "Questions to answer:  \n",
    "1. What is the Merge Column?  **?????**\n",
    "2. Is this Merge Column in both dataframes? **???**  \n",
    "3. Why is this the correct Merge Column? **???**"
   ]
  },
  {
   "cell_type": "markdown",
   "metadata": {},
   "source": [
    "# 4. Merge the Two Dataframes "
   ]
  },
  {
   "cell_type": "code",
   "execution_count": 49,
   "metadata": {},
   "outputs": [],
   "source": [
    "# Create a new Dataframe from a Left Join of two existing dataframes\n",
    "df_left_join = pd.merge(df_Left, df_Right, on='CategoryID', how='left')"
   ]
  },
  {
   "cell_type": "code",
   "execution_count": 50,
   "metadata": {},
   "outputs": [
    {
     "data": {
      "text/html": [
       "<div>\n",
       "<style scoped>\n",
       "    .dataframe tbody tr th:only-of-type {\n",
       "        vertical-align: middle;\n",
       "    }\n",
       "\n",
       "    .dataframe tbody tr th {\n",
       "        vertical-align: top;\n",
       "    }\n",
       "\n",
       "    .dataframe thead th {\n",
       "        text-align: right;\n",
       "    }\n",
       "</style>\n",
       "<table border=\"1\" class=\"dataframe\">\n",
       "  <thead>\n",
       "    <tr style=\"text-align: right;\">\n",
       "      <th></th>\n",
       "      <th>ProductID</th>\n",
       "      <th>ProductName</th>\n",
       "      <th>SupplierID</th>\n",
       "      <th>CategoryID</th>\n",
       "      <th>Unit</th>\n",
       "      <th>Price</th>\n",
       "      <th>CategoryName</th>\n",
       "      <th>Description</th>\n",
       "    </tr>\n",
       "  </thead>\n",
       "  <tbody>\n",
       "    <tr>\n",
       "      <th>0</th>\n",
       "      <td>1</td>\n",
       "      <td>Chais</td>\n",
       "      <td>1</td>\n",
       "      <td>1</td>\n",
       "      <td>10 boxes x 20 bags</td>\n",
       "      <td>18.00</td>\n",
       "      <td>Beverages</td>\n",
       "      <td>Soft drinks, coffees, teas, beers, and ales</td>\n",
       "    </tr>\n",
       "    <tr>\n",
       "      <th>1</th>\n",
       "      <td>2</td>\n",
       "      <td>Chang</td>\n",
       "      <td>1</td>\n",
       "      <td>1</td>\n",
       "      <td>24 - 12 oz bottles</td>\n",
       "      <td>19.00</td>\n",
       "      <td>Beverages</td>\n",
       "      <td>Soft drinks, coffees, teas, beers, and ales</td>\n",
       "    </tr>\n",
       "    <tr>\n",
       "      <th>2</th>\n",
       "      <td>3</td>\n",
       "      <td>Aniseed Syrup</td>\n",
       "      <td>1</td>\n",
       "      <td>2</td>\n",
       "      <td>12 - 550 ml bottles</td>\n",
       "      <td>10.00</td>\n",
       "      <td>Condiments</td>\n",
       "      <td>Sweet and savory sauces, relishes, spreads, an...</td>\n",
       "    </tr>\n",
       "    <tr>\n",
       "      <th>3</th>\n",
       "      <td>4</td>\n",
       "      <td>Chef Anton's Cajun Seasoning</td>\n",
       "      <td>2</td>\n",
       "      <td>2</td>\n",
       "      <td>48 - 6 oz jars</td>\n",
       "      <td>22.00</td>\n",
       "      <td>Condiments</td>\n",
       "      <td>Sweet and savory sauces, relishes, spreads, an...</td>\n",
       "    </tr>\n",
       "    <tr>\n",
       "      <th>4</th>\n",
       "      <td>5</td>\n",
       "      <td>Chef Anton's Gumbo Mix</td>\n",
       "      <td>2</td>\n",
       "      <td>2</td>\n",
       "      <td>36 boxes</td>\n",
       "      <td>21.35</td>\n",
       "      <td>Condiments</td>\n",
       "      <td>Sweet and savory sauces, relishes, spreads, an...</td>\n",
       "    </tr>\n",
       "  </tbody>\n",
       "</table>\n",
       "</div>"
      ],
      "text/plain": [
       "   ProductID                   ProductName  SupplierID  CategoryID  \\\n",
       "0          1                         Chais           1           1   \n",
       "1          2                         Chang           1           1   \n",
       "2          3                 Aniseed Syrup           1           2   \n",
       "3          4  Chef Anton's Cajun Seasoning           2           2   \n",
       "4          5        Chef Anton's Gumbo Mix           2           2   \n",
       "\n",
       "                  Unit  Price CategoryName  \\\n",
       "0   10 boxes x 20 bags  18.00    Beverages   \n",
       "1   24 - 12 oz bottles  19.00    Beverages   \n",
       "2  12 - 550 ml bottles  10.00   Condiments   \n",
       "3       48 - 6 oz jars  22.00   Condiments   \n",
       "4             36 boxes  21.35   Condiments   \n",
       "\n",
       "                                         Description  \n",
       "0        Soft drinks, coffees, teas, beers, and ales  \n",
       "1        Soft drinks, coffees, teas, beers, and ales  \n",
       "2  Sweet and savory sauces, relishes, spreads, an...  \n",
       "3  Sweet and savory sauces, relishes, spreads, an...  \n",
       "4  Sweet and savory sauces, relishes, spreads, an...  "
      ]
     },
     "execution_count": 50,
     "metadata": {},
     "output_type": "execute_result"
    }
   ],
   "source": [
    "# Display the first rows in the merged dataframe\n",
    "df_left_join.head()"
   ]
  },
  {
   "cell_type": "markdown",
   "metadata": {},
   "source": [
    "# 5. Verify that the Merge is Correct  \n",
    "\n",
    "1. Display the first several rows of the merged dataframe.\n",
    "2. Display the number of rows and columns in the merged dataframe  \n",
    "\n",
    "\n",
    "### Questions to answer:  \n",
    "1. Number of Rows:  77\n",
    "  1. How many should there be? 77  \n",
    "2. Number of Columns:   8\n",
    "  1. How many should there be?  The number in the Left Table + number in Right Table - 1 (Merge Column is not duplicated) 8\n",
    "3. Are all the original rows and columns from the Left Table still here? Yes \n",
    "4. Are the additional columns from the Right table now here? Yes"
   ]
  },
  {
   "cell_type": "code",
   "execution_count": 51,
   "metadata": {},
   "outputs": [
    {
     "name": "stdout",
     "output_type": "stream",
     "text": [
      "Left dataframe: \n",
      "Number of Rows in Left dataframe:   77\n",
      "Number of Cols in Left dataframe:   6\n",
      "\n",
      "Right dataframe: \n",
      "Number of Rows in Right dataframe:   8\n",
      "Number of Cols in Right dataframe:   3\n",
      "\n",
      "Merged dataframe: \n",
      "Number of Rows in Merged dataframe:   77 (Note: This should be same as the Left dataframe)\n",
      "Number of Cols in Merged dataframe:   8 (Note: This should be Left Cols + Right Cols - 1)\n",
      "\n",
      "\n",
      "YOUR MERGE WAS SUCCESSFULL!!!\n"
     ]
    }
   ],
   "source": [
    "# Display Left dataframe info\n",
    "print(\"Left dataframe: \")\n",
    "print(\"Number of Rows in Left dataframe:  \", df_Left.shape[0])\n",
    "print(\"Number of Cols in Left dataframe:  \", df_Left.shape[1])\n",
    "print()\n",
    "\n",
    "# Display Right dataframe info\n",
    "print(\"Right dataframe: \")\n",
    "print(\"Number of Rows in Right dataframe:  \", df_Right.shape[0])\n",
    "print(\"Number of Cols in Right dataframe:  \", df_Right.shape[1])\n",
    "print()\n",
    "\n",
    "# Display Merged dataframe info\n",
    "print(\"Merged dataframe: \")\n",
    "print(\"Number of Rows in Merged dataframe:  \", df_left_join.shape[0], \"(Note: This should be same as the Left dataframe)\")\n",
    "print(\"Number of Cols in Merged dataframe:  \", df_left_join.shape[1], \"(Note: This should be Left Cols + Right Cols - 1)\")\n",
    "print()\n",
    "\n",
    "# Check for correct number of Rows and Cols\n",
    "expected_merge_cols = df_Left.shape[1] + df_Right.shape[1] - 1\n",
    "\n",
    "assert df_left_join.shape[0] == df_Left.shape[0], \"The Number of Rows in the Merge is NOT Correct!!\"\n",
    "assert df_left_join.shape[1] == expected_merge_cols, \"The Number of Columns in the Merge is NOT Correct!!\"\n",
    "\n",
    "print()\n",
    "print(\"YOUR MERGE WAS SUCCESSFULL!!!\")"
   ]
  },
  {
   "cell_type": "markdown",
   "metadata": {},
   "source": [
    "# 6. Save the Merged Dataframe as a Pickle File"
   ]
  },
  {
   "cell_type": "code",
   "execution_count": 52,
   "metadata": {},
   "outputs": [],
   "source": [
    "df_left_join.to_pickle('./Data/Ex_4.4_InClass_Merge')"
   ]
  }
 ],
 "metadata": {
  "kernelspec": {
   "display_name": "Python 3",
   "language": "python",
   "name": "python3"
  },
  "language_info": {
   "codemirror_mode": {
    "name": "ipython",
    "version": 3
   },
   "file_extension": ".py",
   "mimetype": "text/x-python",
   "name": "python",
   "nbconvert_exporter": "python",
   "pygments_lexer": "ipython3",
   "version": "3.7.0"
  }
 },
 "nbformat": 4,
 "nbformat_minor": 2
}
