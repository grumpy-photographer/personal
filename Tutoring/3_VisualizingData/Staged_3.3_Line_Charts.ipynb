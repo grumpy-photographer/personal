{
 "cells": [
  {
   "cell_type": "markdown",
   "metadata": {},
   "source": [
    "# 3.3 Line and Scatter Charts \n",
    "   \n",
    "- [**Single Line Chart**](#Single-Line-Chart)  \n",
    "- [**Filled Area Chart**](#Filled-Area-Chart)\n",
    "- [**Multi-Line Charts**](#Multi-Line-Charts)  \n",
    "\n",
    "\n",
    "- [Filtering the Year](#Filtering-the-Year) \n",
    "\n",
    "\n",
    "- [**Scatter Plot**](#Scatter-Plot) \n"
   ]
  },
  {
   "cell_type": "code",
   "execution_count": null,
   "metadata": {},
   "outputs": [],
   "source": [
    "from IPython.display import display, HTML\n",
    "import pandas as pd\n",
    "import math\n",
    "\n",
    "import plotly.express as px\n",
    "import numpy as np\n",
    "from scipy import special"
   ]
  },
  {
   "cell_type": "markdown",
   "metadata": {},
   "source": [
    "### Read Country csv Data into dataframe"
   ]
  },
  {
   "cell_type": "code",
   "execution_count": null,
   "metadata": {},
   "outputs": [],
   "source": [
    "# Read pickle into a dataframe\n",
    "df = pd.read_csv(\"Data/Country_Data.csv\")\n",
    "\n",
    "print(\"Number of Rows: \", df.shape[0])\n",
    "print(\"Number of Columns: \", df.shape[1])\n",
    "df.head()"
   ]
  },
  {
   "cell_type": "markdown",
   "metadata": {},
   "source": [
    "# Single Line Chart  \n"
   ]
  },
  {
   "cell_type": "code",
   "execution_count": null,
   "metadata": {
    "scrolled": true
   },
   "outputs": [],
   "source": [
    "# Create a dataframe with only Afghanistan data in it\n",
    "\n",
    "\n",
    "print(\"Number of Rows: \", df_Afghanistan.shape[0])\n",
    "print(\"Number of Columns: \", df_Afghanistan.shape[1])\n",
    "df_Afghanistan.tail()"
   ]
  },
  {
   "cell_type": "code",
   "execution_count": null,
   "metadata": {},
   "outputs": [],
   "source": [
    "# Plot a Line Chart of Per Capita GDP\n",
    "fig = px.line(df_Afghanistan, \n",
    "             \n",
    "              title='Afghanistan GDP: 1952 - 2007')\n"
   ]
  },
  {
   "cell_type": "markdown",
   "metadata": {},
   "source": [
    "# Filled Area Chart  \n"
   ]
  },
  {
   "cell_type": "code",
   "execution_count": null,
   "metadata": {},
   "outputs": [],
   "source": [
    "fig = px.\n",
    "\n",
    "                  title='Afghanistan GDP: 1952 - 2007')\n"
   ]
  },
  {
   "cell_type": "markdown",
   "metadata": {},
   "source": [
    "# Multi-Line Charts  \n"
   ]
  },
  {
   "cell_type": "markdown",
   "metadata": {},
   "source": [
    "### 1. Create a List of Countries to plot  \n",
    "- Let's show:  'Afghanistan', 'Albania', 'Algeria'"
   ]
  },
  {
   "cell_type": "code",
   "execution_count": null,
   "metadata": {},
   "outputs": [],
   "source": [
    "countries_to_plot ="
   ]
  },
  {
   "cell_type": "markdown",
   "metadata": {},
   "source": [
    "### 2. Create a New Dataframe Containing Only Those Countries:  *df_selected_countries*"
   ]
  },
  {
   "cell_type": "code",
   "execution_count": null,
   "metadata": {
    "scrolled": false
   },
   "outputs": [],
   "source": [
    "\n",
    "\n",
    "\n",
    "print(\"Number of Rows: \", df_selected_countries.shape[0])\n",
    "print(\"Number of Columns: \", df_selected_countries.shape[1])\n",
    "df_selected_countries.head()"
   ]
  },
  {
   "cell_type": "code",
   "execution_count": null,
   "metadata": {},
   "outputs": [],
   "source": [
    "df_selected_countries.tail()"
   ]
  },
  {
   "cell_type": "markdown",
   "metadata": {},
   "source": [
    "### 3. Plot"
   ]
  },
  {
   "cell_type": "code",
   "execution_count": null,
   "metadata": {
    "scrolled": true
   },
   "outputs": [],
   "source": [
    "fig = px.(\n",
    "                 title = 'Afghanistan, Albania, and Algeria GDP Per Capita 1952-2007')\n",
    "fig.show()"
   ]
  },
  {
   "cell_type": "markdown",
   "metadata": {},
   "source": [
    "# Filtering the Year  \n",
    "- We're going to use a dataframe that has already been filtered/subsetted once \n",
    "- We're going to subset/filter it again (into a new dataframe) based on year:  Greater than 1979"
   ]
  },
  {
   "cell_type": "code",
   "execution_count": null,
   "metadata": {},
   "outputs": [],
   "source": [
    "df_selected_countries.head()"
   ]
  },
  {
   "cell_type": "code",
   "execution_count": null,
   "metadata": {},
   "outputs": [],
   "source": [
    "# Filter for Years Greater Than 1979, i.e, 1980 and onward\n",
    "row_filter = "
   ]
  },
  {
   "cell_type": "code",
   "execution_count": null,
   "metadata": {},
   "outputs": [],
   "source": [
    "# Create a new data frame (based on df_selected_countries) with only Years 1980 and after\n",
    "df_1980_onward =  \n",
    "\n",
    "print(\"Number of Rows: \", df_1980_onward.shape[0])\n",
    "print(\"Number of Columns: \", df_1980_onward.shape[1])\n",
    "df_1980_onward.head()"
   ]
  },
  {
   "cell_type": "code",
   "execution_count": null,
   "metadata": {},
   "outputs": [],
   "source": [
    "df_1980_onward.tail()"
   ]
  },
  {
   "cell_type": "code",
   "execution_count": null,
   "metadata": {
    "scrolled": true
   },
   "outputs": [],
   "source": [
    "fig = px.(\n",
    "    \n",
    "                 title = 'Afghanistan, Albania, and Algeria GDP Per Capita:  1980-2007')\n"
   ]
  },
  {
   "cell_type": "markdown",
   "metadata": {},
   "source": [
    "# Scatter Plot  \n",
    "- For the year 2007  \n",
    "- Plot the relationship between Population vs Life Expectancy  \n",
    "- Does it look like there is a relationship?"
   ]
  },
  {
   "cell_type": "code",
   "execution_count": null,
   "metadata": {},
   "outputs": [],
   "source": [
    "row_filter = \n",
    "\n",
    "df_2007 =\n",
    "\n",
    "print(\"Number of Rows: \", df_2007.shape[0])\n",
    "print(\"Number of Columns: \", df_2007.shape[1])\n",
    "df_2007.head()"
   ]
  },
  {
   "cell_type": "code",
   "execution_count": null,
   "metadata": {},
   "outputs": [],
   "source": [
    "fig = px.scatter(, \n",
    "                 x='', \n",
    "                 y='',\n",
    "                 template='plotly_white',\n",
    "                 title='Population vs Life Expectancy:  2007'\n",
    "                )\n",
    "fig.show()"
   ]
  }
 ],
 "metadata": {
  "kernelspec": {
   "display_name": "Python 3",
   "language": "python",
   "name": "python3"
  },
  "language_info": {
   "codemirror_mode": {
    "name": "ipython",
    "version": 3
   },
   "file_extension": ".py",
   "mimetype": "text/x-python",
   "name": "python",
   "nbconvert_exporter": "python",
   "pygments_lexer": "ipython3",
   "version": "3.7.4"
  }
 },
 "nbformat": 4,
 "nbformat_minor": 4
}
