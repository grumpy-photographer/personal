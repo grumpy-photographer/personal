{
 "cells": [
  {
   "cell_type": "markdown",
   "metadata": {},
   "source": [
    "# Week 4, Item 3"
   ]
  },
  {
   "cell_type": "markdown",
   "metadata": {
    "ExecuteTime": {
     "end_time": "2020-09-12T19:19:53.159407Z",
     "start_time": "2020-09-12T19:19:53.151454Z"
    }
   },
   "source": [
    "Create a Jupyter notebook where you do each of the following steps:\n",
    "\n",
    "1. Download the California Housing data set.\n",
    "2. Simplify the data so it contains only numerical data with no missing values. \n",
    "3. Split the data into a training set and a testing set\n",
    "4. Create two different pipelines that use feature selection to select no more than 5 features. \n",
    "5. At least one of the pipelines should use a different scoring function than \"f_regression\".\n",
    "6. The pipelines may use a regression model that is different than LinearRegression(), but they don't have to. \n",
    "7. For each of the two pipelines, find the residual of a single observation in the training set. \n",
    "8. Compare the scores of the two models you've created on the training and testing sets. \n",
    "9. Based on what you see, would you recommend either model for actual use to predict housing prices in the California market in 2020? "
   ]
  },
  {
   "cell_type": "markdown",
   "metadata": {
    "toc": true
   },
   "source": [
    "<h1>Table of Contents<span class=\"tocSkip\"></span></h1>\n",
    "<div class=\"toc\"><ul class=\"toc-item\"><li><span><a href=\"#Getting-Started\" data-toc-modified-id=\"Getting-Started-1\"><span class=\"toc-item-num\">1&nbsp;&nbsp;</span>Getting Started</a></span></li><li><span><a href=\"#Simplify-the-data\" data-toc-modified-id=\"Simplify-the-data-2\"><span class=\"toc-item-num\">2&nbsp;&nbsp;</span>Simplify the data</a></span></li><li><span><a href=\"#Split-Data\" data-toc-modified-id=\"Split-Data-3\"><span class=\"toc-item-num\">3&nbsp;&nbsp;</span>Split Data</a></span></li><li><span><a href=\"#Create-Pipelines\" data-toc-modified-id=\"Create-Pipelines-4\"><span class=\"toc-item-num\">4&nbsp;&nbsp;</span>Create Pipelines</a></span><ul class=\"toc-item\"><li><span><a href=\"#f_regression\" data-toc-modified-id=\"f_regression-4.1\"><span class=\"toc-item-num\">4.1&nbsp;&nbsp;</span>f_regression</a></span><ul class=\"toc-item\"><li><span><a href=\"#Create-pipeline\" data-toc-modified-id=\"Create-pipeline-4.1.1\"><span class=\"toc-item-num\">4.1.1&nbsp;&nbsp;</span>Create pipeline</a></span></li><li><span><a href=\"#Find-the-residual-of-a-single-observation-in-the-training-set\" data-toc-modified-id=\"Find-the-residual-of-a-single-observation-in-the-training-set-4.1.2\"><span class=\"toc-item-num\">4.1.2&nbsp;&nbsp;</span>Find the residual of a single observation in the training set</a></span></li><li><span><a href=\"#Compare-the-scores\" data-toc-modified-id=\"Compare-the-scores-4.1.3\"><span class=\"toc-item-num\">4.1.3&nbsp;&nbsp;</span>Compare the scores</a></span></li></ul></li><li><span><a href=\"#mutual_info_regression\" data-toc-modified-id=\"mutual_info_regression-4.2\"><span class=\"toc-item-num\">4.2&nbsp;&nbsp;</span>mutual_info_regression</a></span><ul class=\"toc-item\"><li><span><a href=\"#Find-the-residuals-of-a-single-observation-in-the-training-set\" data-toc-modified-id=\"Find-the-residuals-of-a-single-observation-in-the-training-set-4.2.1\"><span class=\"toc-item-num\">4.2.1&nbsp;&nbsp;</span>Find the residuals of a single observation in the training set</a></span></li><li><span><a href=\"#Compare-the-scores\" data-toc-modified-id=\"Compare-the-scores-4.2.2\"><span class=\"toc-item-num\">4.2.2&nbsp;&nbsp;</span>Compare the scores</a></span></li></ul></li></ul></li><li><span><a href=\"#Conclusion\" data-toc-modified-id=\"Conclusion-5\"><span class=\"toc-item-num\">5&nbsp;&nbsp;</span>Conclusion</a></span></li></ul></div>"
   ]
  },
  {
   "cell_type": "markdown",
   "metadata": {},
   "source": [
    "## Getting Started"
   ]
  },
  {
   "cell_type": "code",
   "execution_count": 1,
   "metadata": {
    "ExecuteTime": {
     "end_time": "2020-09-16T21:49:49.246693Z",
     "start_time": "2020-09-16T21:49:45.644673Z"
    }
   },
   "outputs": [],
   "source": [
    "# Imports\n",
    "import pandas as pd\n",
    "import numpy as np\n",
    "import matplotlib.pyplot as plt\n",
    "\n",
    "from sklearn.feature_selection import SelectKBest, f_regression, mutual_info_regression\n",
    "from sklearn.linear_model import LinearRegression\n",
    "from sklearn.pipeline import make_pipeline\n",
    "from sklearn.model_selection import train_test_split"
   ]
  },
  {
   "cell_type": "code",
   "execution_count": 2,
   "metadata": {
    "ExecuteTime": {
     "end_time": "2020-09-16T21:49:50.347529Z",
     "start_time": "2020-09-16T21:49:49.246693Z"
    }
   },
   "outputs": [
    {
     "name": "stdout",
     "output_type": "stream",
     "text": [
      "<class 'pandas.core.frame.DataFrame'>\n",
      "RangeIndex: 20640 entries, 0 to 20639\n",
      "Data columns (total 10 columns):\n",
      " #   Column              Non-Null Count  Dtype  \n",
      "---  ------              --------------  -----  \n",
      " 0   longitude           20640 non-null  float64\n",
      " 1   latitude            20640 non-null  float64\n",
      " 2   housing_median_age  20640 non-null  float64\n",
      " 3   total_rooms         20640 non-null  float64\n",
      " 4   total_bedrooms      20433 non-null  float64\n",
      " 5   population          20640 non-null  float64\n",
      " 6   households          20640 non-null  float64\n",
      " 7   median_income       20640 non-null  float64\n",
      " 8   median_house_value  20640 non-null  float64\n",
      " 9   ocean_proximity     20640 non-null  object \n",
      "dtypes: float64(9), object(1)\n",
      "memory usage: 1.5+ MB\n"
     ]
    }
   ],
   "source": [
    "# Read data\n",
    "df = pd.read_csv(\n",
    "    \"https://raw.githubusercontent.com/ageron/handson-ml/master/datasets/housing/housing.csv\"\n",
    ")\n",
    "\n",
    "# View current status of dataframe\n",
    "df.info()"
   ]
  },
  {
   "cell_type": "markdown",
   "metadata": {},
   "source": [
    "## Simplify the data"
   ]
  },
  {
   "cell_type": "code",
   "execution_count": 3,
   "metadata": {
    "ExecuteTime": {
     "end_time": "2020-09-16T21:49:50.371545Z",
     "start_time": "2020-09-16T21:49:50.347529Z"
    }
   },
   "outputs": [],
   "source": [
    "# Remove non-numerical columns\n",
    "clean_df = df.drop(\"ocean_proximity\", axis=1)"
   ]
  },
  {
   "cell_type": "code",
   "execution_count": 4,
   "metadata": {
    "ExecuteTime": {
     "end_time": "2020-09-16T21:49:50.435616Z",
     "start_time": "2020-09-16T21:49:50.371545Z"
    }
   },
   "outputs": [],
   "source": [
    "# Remove null and NaN values\n",
    "clean_df = clean_df.dropna()\n",
    "clean_df = clean_df.dropna(axis=1)"
   ]
  },
  {
   "cell_type": "code",
   "execution_count": 5,
   "metadata": {
    "ExecuteTime": {
     "end_time": "2020-09-16T21:49:50.474197Z",
     "start_time": "2020-09-16T21:49:50.435616Z"
    }
   },
   "outputs": [
    {
     "name": "stdout",
     "output_type": "stream",
     "text": [
      "<class 'pandas.core.frame.DataFrame'>\n",
      "Int64Index: 20433 entries, 0 to 20639\n",
      "Data columns (total 9 columns):\n",
      " #   Column              Non-Null Count  Dtype  \n",
      "---  ------              --------------  -----  \n",
      " 0   longitude           20433 non-null  float64\n",
      " 1   latitude            20433 non-null  float64\n",
      " 2   housing_median_age  20433 non-null  float64\n",
      " 3   total_rooms         20433 non-null  float64\n",
      " 4   total_bedrooms      20433 non-null  float64\n",
      " 5   population          20433 non-null  float64\n",
      " 6   households          20433 non-null  float64\n",
      " 7   median_income       20433 non-null  float64\n",
      " 8   median_house_value  20433 non-null  float64\n",
      "dtypes: float64(9)\n",
      "memory usage: 1.6 MB\n"
     ]
    }
   ],
   "source": [
    "# View dataframe to see changes\n",
    "clean_df.info()"
   ]
  },
  {
   "cell_type": "markdown",
   "metadata": {},
   "source": [
    "## Split Data"
   ]
  },
  {
   "cell_type": "code",
   "execution_count": 6,
   "metadata": {
    "ExecuteTime": {
     "end_time": "2020-09-16T21:49:50.490161Z",
     "start_time": "2020-09-16T21:49:50.474197Z"
    }
   },
   "outputs": [],
   "source": [
    "# Create X and y variables from clean_df\n",
    "y = clean_df[\"median_house_value\"]\n",
    "X = clean_df.drop(\"median_house_value\", axis=1)"
   ]
  },
  {
   "cell_type": "code",
   "execution_count": 7,
   "metadata": {
    "ExecuteTime": {
     "end_time": "2020-09-16T21:49:50.539496Z",
     "start_time": "2020-09-16T21:49:50.498159Z"
    }
   },
   "outputs": [],
   "source": [
    "# Create train and test set\n",
    "X_train, X_test, y_train, y_test = train_test_split(\n",
    "    X, y, train_size=0.7, random_state=24\n",
    ")"
   ]
  },
  {
   "cell_type": "markdown",
   "metadata": {},
   "source": [
    "## Create Pipelines\n",
    "\n",
    "### f_regression"
   ]
  },
  {
   "cell_type": "markdown",
   "metadata": {},
   "source": [
    "#### Create pipeline"
   ]
  },
  {
   "cell_type": "code",
   "execution_count": 8,
   "metadata": {
    "ExecuteTime": {
     "end_time": "2020-09-16T21:49:50.601674Z",
     "start_time": "2020-09-16T21:49:50.547502Z"
    },
    "scrolled": false
   },
   "outputs": [
    {
     "data": {
      "text/plain": [
       "Pipeline(steps=[('selectkbest',\n",
       "                 SelectKBest(k=4,\n",
       "                             score_func=<function f_regression at 0x1B34B268>)),\n",
       "                ('linearregression', LinearRegression())])"
      ]
     },
     "execution_count": 8,
     "metadata": {},
     "output_type": "execute_result"
    }
   ],
   "source": [
    "f_feature_selection = SelectKBest(score_func=f_regression, k=4)\n",
    "f_lm = LinearRegression()\n",
    "f_lm_pipeline = make_pipeline(f_feature_selection, f_lm)\n",
    "f_lm_pipeline.fit(X_train, y_train)"
   ]
  },
  {
   "cell_type": "code",
   "execution_count": 9,
   "metadata": {
    "ExecuteTime": {
     "end_time": "2020-09-16T21:49:50.619674Z",
     "start_time": "2020-09-16T21:49:50.606674Z"
    },
    "scrolled": true
   },
   "outputs": [
    {
     "data": {
      "text/plain": [
       "array([-4.59659148e+03,  1.97162993e+03,  3.73542644e+00,  4.22489975e+04])"
      ]
     },
     "execution_count": 9,
     "metadata": {},
     "output_type": "execute_result"
    }
   ],
   "source": [
    "f_lm.coef_"
   ]
  },
  {
   "cell_type": "code",
   "execution_count": 10,
   "metadata": {
    "ExecuteTime": {
     "end_time": "2020-09-16T21:49:50.644674Z",
     "start_time": "2020-09-16T21:49:50.626675Z"
    },
    "scrolled": false
   },
   "outputs": [
    {
     "data": {
      "text/plain": [
       "140692.10466578297"
      ]
     },
     "execution_count": 10,
     "metadata": {},
     "output_type": "execute_result"
    }
   ],
   "source": [
    "f_lm.intercept_"
   ]
  },
  {
   "cell_type": "markdown",
   "metadata": {},
   "source": [
    "#### Find the residual of a single observation in the training set"
   ]
  },
  {
   "cell_type": "code",
   "execution_count": 11,
   "metadata": {
    "ExecuteTime": {
     "end_time": "2020-09-16T21:49:50.691671Z",
     "start_time": "2020-09-16T21:49:50.650679Z"
    }
   },
   "outputs": [],
   "source": [
    "f_pred = f_lm_pipeline.predict(X_train)"
   ]
  },
  {
   "cell_type": "code",
   "execution_count": 12,
   "metadata": {
    "ExecuteTime": {
     "end_time": "2020-09-16T21:49:50.718892Z",
     "start_time": "2020-09-16T21:49:50.694874Z"
    }
   },
   "outputs": [],
   "source": [
    "f_residuals = X_train[\"median_income\"] - f_pred"
   ]
  },
  {
   "cell_type": "code",
   "execution_count": 13,
   "metadata": {
    "ExecuteTime": {
     "end_time": "2020-09-16T21:49:51.896488Z",
     "start_time": "2020-09-16T21:49:50.719849Z"
    },
    "scrolled": true
   },
   "outputs": [
    {
     "data": {
      "text/plain": [
       "<matplotlib.legend.Legend at 0x1ba73e98>"
      ]
     },
     "execution_count": 13,
     "metadata": {},
     "output_type": "execute_result"
    },
    {
     "data": {
      "image/png": "[encoded data removed]",
      "text/plain": [
       "<Figure size 432x288 with 1 Axes>"
      ]
     },
     "metadata": {
      "needs_background": "light"
     },
     "output_type": "display_data"
    }
   ],
   "source": [
    "plt.scatter(X_train[\"median_income\"], f_residuals)\n",
    "plt.axhline(y=0, color=\"red\", label=\"y=0\")\n",
    "plt.legend()"
   ]
  },
  {
   "cell_type": "markdown",
   "metadata": {},
   "source": [
    "#### Compare the scores"
   ]
  },
  {
   "cell_type": "code",
   "execution_count": 14,
   "metadata": {
    "ExecuteTime": {
     "end_time": "2020-09-16T21:49:51.936483Z",
     "start_time": "2020-09-16T21:49:51.906486Z"
    },
    "scrolled": true
   },
   "outputs": [
    {
     "data": {
      "text/plain": [
       "0.5290796249735321"
      ]
     },
     "execution_count": 14,
     "metadata": {},
     "output_type": "execute_result"
    }
   ],
   "source": [
    "f_lm_pipeline.score(X_train, y_train)"
   ]
  },
  {
   "cell_type": "code",
   "execution_count": 15,
   "metadata": {
    "ExecuteTime": {
     "end_time": "2020-09-16T21:49:52.000484Z",
     "start_time": "2020-09-16T21:49:51.944482Z"
    }
   },
   "outputs": [
    {
     "data": {
      "text/plain": [
       "0.5056485455629692"
      ]
     },
     "execution_count": 15,
     "metadata": {},
     "output_type": "execute_result"
    }
   ],
   "source": [
    "f_lm_pipeline.score(X_test, y_test)"
   ]
  },
  {
   "cell_type": "markdown",
   "metadata": {},
   "source": [
    "### mutual_info_regression"
   ]
  },
  {
   "cell_type": "code",
   "execution_count": 16,
   "metadata": {
    "ExecuteTime": {
     "end_time": "2020-09-16T21:49:59.173460Z",
     "start_time": "2020-09-16T21:49:52.010482Z"
    }
   },
   "outputs": [
    {
     "data": {
      "text/plain": [
       "Pipeline(steps=[('selectkbest',\n",
       "                 SelectKBest(k=5,\n",
       "                             score_func=<function mutual_info_regression at 0x1B7E94A8>)),\n",
       "                ('linearregression', LinearRegression())])"
      ]
     },
     "execution_count": 16,
     "metadata": {},
     "output_type": "execute_result"
    }
   ],
   "source": [
    "mi_feature_selection = SelectKBest(score_func=mutual_info_regression, k=5)\n",
    "mi_lm = LinearRegression()\n",
    "mi_pipeline = make_pipeline(mi_feature_selection, mi_lm)\n",
    "mi_pipeline.fit(X_train, y_train)"
   ]
  },
  {
   "cell_type": "code",
   "execution_count": 17,
   "metadata": {
    "ExecuteTime": {
     "end_time": "2020-09-16T21:49:59.190745Z",
     "start_time": "2020-09-16T21:49:59.178919Z"
    }
   },
   "outputs": [
    {
     "data": {
      "text/plain": [
       "array([-4.68505466e+04, -4.49335970e+04, -8.76297481e+00,  5.75055393e+01,\n",
       "        3.91027893e+04])"
      ]
     },
     "execution_count": 17,
     "metadata": {},
     "output_type": "execute_result"
    }
   ],
   "source": [
    "mi_lm.coef_"
   ]
  },
  {
   "cell_type": "code",
   "execution_count": 18,
   "metadata": {
    "ExecuteTime": {
     "end_time": "2020-09-16T21:49:59.225579Z",
     "start_time": "2020-09-16T21:49:59.198622Z"
    }
   },
   "outputs": [
    {
     "data": {
      "text/plain": [
       "-3951220.9620631495"
      ]
     },
     "execution_count": 18,
     "metadata": {},
     "output_type": "execute_result"
    }
   ],
   "source": [
    "mi_lm.intercept_"
   ]
  },
  {
   "cell_type": "markdown",
   "metadata": {},
   "source": [
    "#### Find the residuals of a single observation in the training set"
   ]
  },
  {
   "cell_type": "code",
   "execution_count": 19,
   "metadata": {
    "ExecuteTime": {
     "end_time": "2020-09-16T21:49:59.297457Z",
     "start_time": "2020-09-16T21:49:59.260457Z"
    }
   },
   "outputs": [],
   "source": [
    "mi_pred = mi_pipeline.predict(X_train)"
   ]
  },
  {
   "cell_type": "code",
   "execution_count": 20,
   "metadata": {
    "ExecuteTime": {
     "end_time": "2020-09-16T21:49:59.320461Z",
     "start_time": "2020-09-16T21:49:59.305456Z"
    }
   },
   "outputs": [],
   "source": [
    "mi_residuals = X_train[\"median_income\"] - mi_pred"
   ]
  },
  {
   "cell_type": "code",
   "execution_count": 21,
   "metadata": {
    "ExecuteTime": {
     "end_time": "2020-09-16T21:50:00.307818Z",
     "start_time": "2020-09-16T21:49:59.332464Z"
    },
    "scrolled": true
   },
   "outputs": [
    {
     "data": {
      "text/plain": [
       "<matplotlib.legend.Legend at 0x1e0d3bf8>"
      ]
     },
     "execution_count": 21,
     "metadata": {},
     "output_type": "execute_result"
    },
    {
     "data": {
      "image/png": "[encoded data removed]",
      "text/plain": [
       "<Figure size 432x288 with 1 Axes>"
      ]
     },
     "metadata": {
      "needs_background": "light"
     },
     "output_type": "display_data"
    }
   ],
   "source": [
    "plt.scatter(X_train[\"median_income\"], mi_residuals)\n",
    "plt.axhline(y=0, color=\"red\", label=\"y=0\")\n",
    "plt.legend()"
   ]
  },
  {
   "cell_type": "markdown",
   "metadata": {},
   "source": [
    "#### Compare the scores"
   ]
  },
  {
   "cell_type": "code",
   "execution_count": 22,
   "metadata": {
    "ExecuteTime": {
     "end_time": "2020-09-16T21:50:00.340087Z",
     "start_time": "2020-09-16T21:50:00.313809Z"
    }
   },
   "outputs": [
    {
     "data": {
      "text/plain": [
       "0.5949233227771011"
      ]
     },
     "execution_count": 22,
     "metadata": {},
     "output_type": "execute_result"
    }
   ],
   "source": [
    "mi_pipeline.score(X_train, y_train)"
   ]
  },
  {
   "cell_type": "code",
   "execution_count": 23,
   "metadata": {
    "ExecuteTime": {
     "end_time": "2020-09-16T21:50:00.389088Z",
     "start_time": "2020-09-16T21:50:00.346086Z"
    },
    "scrolled": true
   },
   "outputs": [
    {
     "data": {
      "text/plain": [
       "0.574561497326818"
      ]
     },
     "execution_count": 23,
     "metadata": {},
     "output_type": "execute_result"
    }
   ],
   "source": [
    "mi_pipeline.score(X_test, y_test)"
   ]
  },
  {
   "cell_type": "markdown",
   "metadata": {},
   "source": [
    "## Conclusion"
   ]
  },
  {
   "cell_type": "markdown",
   "metadata": {},
   "source": [
    "After running both f_regression and multi_info_regression on this California Housing data set, we can see that **multi_info_regression** produces higher scores on both the training and test sets.\n",
    "\n",
    "Based on what you see, would you recommend either model for actual use to predict housing prices in the California market in 2020? \n",
    "\n",
    "> If we wanted to see how **median income** correlated with the **median house value**, as we did with the residual graphs, we find that there is a pattern in the data, a negative slope.  Thus, neither model would be suitable to predict housing prices, based on median income(other observations may work better).  Based on the higher scores and slightly more variation in residuals, if we had to use one of these models, **mutual info regression** would be the recommended option."
   ]
  },
  {
   "cell_type": "code",
   "execution_count": null,
   "metadata": {},
   "outputs": [],
   "source": []
  }
 ],
 "metadata": {
  "kernelspec": {
   "display_name": "Python 3",
   "language": "python",
   "name": "python3"
  },
  "language_info": {
   "codemirror_mode": {
    "name": "ipython",
    "version": 3
   },
   "file_extension": ".py",
   "mimetype": "text/x-python",
   "name": "python",
   "nbconvert_exporter": "python",
   "pygments_lexer": "ipython3",
   "version": "3.8.5"
  },
  "toc": {
   "base_numbering": 1,
   "nav_menu": {},
   "number_sections": true,
   "sideBar": true,
   "skip_h1_title": true,
   "title_cell": "Table of Contents",
   "title_sidebar": "Contents",
   "toc_cell": true,
   "toc_position": {},
   "toc_section_display": true,
   "toc_window_display": false
  }
 },
 "nbformat": 4,
 "nbformat_minor": 4
}
