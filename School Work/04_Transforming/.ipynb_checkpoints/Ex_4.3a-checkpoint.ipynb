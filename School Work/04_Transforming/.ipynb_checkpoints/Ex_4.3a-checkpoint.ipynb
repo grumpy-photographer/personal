{
 "cells": [
  {
   "cell_type": "markdown",
   "metadata": {},
   "source": [
    "# Ex 4.3a  *Field* Operations\n",
    "\n",
    "- [In Class](#In-Class)  \n",
    "\n",
    "\n",
    "- [Exercise 4.3a](#Exercise-4.3a)  \n",
    "  - [Part 1: Shoes](#Part-1:-Shoes)\n",
    "  - [Part 2: IMDB_250_Scraped.csv](#Part-2:-IMDB_250_Scraped.csv) \n"
   ]
  },
  {
   "cell_type": "code",
   "execution_count": 16,
   "metadata": {},
   "outputs": [],
   "source": [
    "import pandas as pd"
   ]
  },
  {
   "cell_type": "markdown",
   "metadata": {},
   "source": [
    "# In Class \n",
    "Start from the pickle you saved at the end of NB 4.3a: **4.3a_NB_Employees.pkl**"
   ]
  },
  {
   "cell_type": "code",
   "execution_count": 17,
   "metadata": {},
   "outputs": [
    {
     "data": {
      "text/html": [
       "<div>\n",
       "<style scoped>\n",
       "    .dataframe tbody tr th:only-of-type {\n",
       "        vertical-align: middle;\n",
       "    }\n",
       "\n",
       "    .dataframe tbody tr th {\n",
       "        vertical-align: top;\n",
       "    }\n",
       "\n",
       "    .dataframe thead th {\n",
       "        text-align: right;\n",
       "    }\n",
       "</style>\n",
       "<table border=\"1\" class=\"dataframe\">\n",
       "  <thead>\n",
       "    <tr style=\"text-align: right;\">\n",
       "      <th></th>\n",
       "      <th>BusinessEntityID</th>\n",
       "      <th>EmployeeName</th>\n",
       "      <th>EmailAddress</th>\n",
       "      <th>PhoneNumber</th>\n",
       "      <th>StartDate</th>\n",
       "      <th>CurrentSalary</th>\n",
       "      <th>LastName</th>\n",
       "      <th>FirstName</th>\n",
       "    </tr>\n",
       "  </thead>\n",
       "  <tbody>\n",
       "    <tr>\n",
       "      <th>0</th>\n",
       "      <td>1699</td>\n",
       "      <td>Robinett, David</td>\n",
       "      <td>david22@adventure-works.com</td>\n",
       "      <td>(827) 525-0100</td>\n",
       "      <td>06-05-2010</td>\n",
       "      <td>$80,950</td>\n",
       "      <td>Robinett</td>\n",
       "      <td>David</td>\n",
       "    </tr>\n",
       "    <tr>\n",
       "      <th>1</th>\n",
       "      <td>1700</td>\n",
       "      <td>Robinson, Rebecca</td>\n",
       "      <td>rebecca5 @adventure-works.com</td>\n",
       "      <td>(829) 525-0101</td>\n",
       "      <td>05-01-2015</td>\n",
       "      <td>$70,950</td>\n",
       "      <td>Robinson</td>\n",
       "      <td>Rebecca</td>\n",
       "    </tr>\n",
       "    <tr>\n",
       "      <th>2</th>\n",
       "      <td>1701</td>\n",
       "      <td>Robinson, Dorothy</td>\n",
       "      <td>dorothy3@adventure-works.com</td>\n",
       "      <td>(828) 555-0102</td>\n",
       "      <td>03-01-2017</td>\n",
       "      <td>$50,00</td>\n",
       "      <td>Robinson</td>\n",
       "      <td>Dorothy</td>\n",
       "    </tr>\n",
       "  </tbody>\n",
       "</table>\n",
       "</div>"
      ],
      "text/plain": [
       "   BusinessEntityID       EmployeeName                        EmailAddress  \\\n",
       "0              1699    Robinett, David       david22@adventure-works.com     \n",
       "1              1700  Robinson, Rebecca     rebecca5 @adventure-works.com     \n",
       "2              1701  Robinson, Dorothy    dorothy3@adventure-works.com       \n",
       "\n",
       "      PhoneNumber   StartDate CurrentSalary  LastName FirstName  \n",
       "0  (827) 525-0100  06-05-2010       $80,950  Robinett     David  \n",
       "1  (829) 525-0101  05-01-2015       $70,950  Robinson   Rebecca  \n",
       "2  (828) 555-0102  03-01-2017        $50,00  Robinson   Dorothy  "
      ]
     },
     "execution_count": 17,
     "metadata": {},
     "output_type": "execute_result"
    }
   ],
   "source": [
    "# Read pickle\n",
    "df_employees = pd.read_pickle('./Data/4.3a_NB_Employees.pkl')\n",
    "\n",
    "# Display top rows\n",
    "df_employees.head()"
   ]
  },
  {
   "cell_type": "markdown",
   "metadata": {},
   "source": [
    "### Strip spaces from EmailAddress"
   ]
  },
  {
   "cell_type": "code",
   "execution_count": 18,
   "metadata": {},
   "outputs": [
    {
     "data": {
      "text/plain": [
       "0         david22@adventure-works.com  \n",
       "1       rebecca5 @adventure-works.com  \n",
       "2      dorothy3@adventure-works.com    \n",
       "Name: EmailAddress, dtype: object"
      ]
     },
     "execution_count": 18,
     "metadata": {},
     "output_type": "execute_result"
    }
   ],
   "source": [
    "# Show the 'before'\n",
    "df_employees['EmailAddress']"
   ]
  },
  {
   "cell_type": "code",
   "execution_count": 19,
   "metadata": {},
   "outputs": [],
   "source": [
    "# Strip extra spaces \n",
    "df_employees['EmailAddress'] = df_employees['EmailAddress'].str.strip()"
   ]
  },
  {
   "cell_type": "code",
   "execution_count": 20,
   "metadata": {},
   "outputs": [
    {
     "data": {
      "text/plain": [
       "0      david22@adventure-works.com\n",
       "1    rebecca5 @adventure-works.com\n",
       "2     dorothy3@adventure-works.com\n",
       "Name: EmailAddress, dtype: object"
      ]
     },
     "execution_count": 20,
     "metadata": {},
     "output_type": "execute_result"
    }
   ],
   "source": [
    "# Show the 'after'\n",
    "df_employees['EmailAddress']"
   ]
  },
  {
   "cell_type": "markdown",
   "metadata": {},
   "source": [
    "### Split PhoneNumber column\n",
    "Split it into the following two columns:  AreaCode and LocalPhoneNumber"
   ]
  },
  {
   "cell_type": "code",
   "execution_count": 21,
   "metadata": {},
   "outputs": [
    {
     "data": {
      "text/html": [
       "<div>\n",
       "<style scoped>\n",
       "    .dataframe tbody tr th:only-of-type {\n",
       "        vertical-align: middle;\n",
       "    }\n",
       "\n",
       "    .dataframe tbody tr th {\n",
       "        vertical-align: top;\n",
       "    }\n",
       "\n",
       "    .dataframe thead th {\n",
       "        text-align: right;\n",
       "    }\n",
       "</style>\n",
       "<table border=\"1\" class=\"dataframe\">\n",
       "  <thead>\n",
       "    <tr style=\"text-align: right;\">\n",
       "      <th></th>\n",
       "      <th>0</th>\n",
       "      <th>1</th>\n",
       "    </tr>\n",
       "  </thead>\n",
       "  <tbody>\n",
       "    <tr>\n",
       "      <th>0</th>\n",
       "      <td>(827</td>\n",
       "      <td>525-0100</td>\n",
       "    </tr>\n",
       "    <tr>\n",
       "      <th>1</th>\n",
       "      <td>(829</td>\n",
       "      <td>525-0101</td>\n",
       "    </tr>\n",
       "    <tr>\n",
       "      <th>2</th>\n",
       "      <td>(828</td>\n",
       "      <td>555-0102</td>\n",
       "    </tr>\n",
       "  </tbody>\n",
       "</table>\n",
       "</div>"
      ],
      "text/plain": [
       "      0          1\n",
       "0  (827   525-0100\n",
       "1  (829   525-0101\n",
       "2  (828   555-0102"
      ]
     },
     "execution_count": 21,
     "metadata": {},
     "output_type": "execute_result"
    }
   ],
   "source": [
    "# Split\n",
    "df_temp = df_employees['PhoneNumber'].str.split(')', 1, expand=True) \n",
    "\n",
    "# Display top rows\n",
    "df_temp.head()"
   ]
  },
  {
   "cell_type": "markdown",
   "metadata": {},
   "source": [
    "### Give names to the two columns in the temp dataframe"
   ]
  },
  {
   "cell_type": "code",
   "execution_count": 22,
   "metadata": {},
   "outputs": [
    {
     "data": {
      "text/html": [
       "<div>\n",
       "<style scoped>\n",
       "    .dataframe tbody tr th:only-of-type {\n",
       "        vertical-align: middle;\n",
       "    }\n",
       "\n",
       "    .dataframe tbody tr th {\n",
       "        vertical-align: top;\n",
       "    }\n",
       "\n",
       "    .dataframe thead th {\n",
       "        text-align: right;\n",
       "    }\n",
       "</style>\n",
       "<table border=\"1\" class=\"dataframe\">\n",
       "  <thead>\n",
       "    <tr style=\"text-align: right;\">\n",
       "      <th></th>\n",
       "      <th>AreaCode</th>\n",
       "      <th>LocalPhoneNumber</th>\n",
       "    </tr>\n",
       "  </thead>\n",
       "  <tbody>\n",
       "    <tr>\n",
       "      <th>0</th>\n",
       "      <td>(827</td>\n",
       "      <td>525-0100</td>\n",
       "    </tr>\n",
       "    <tr>\n",
       "      <th>1</th>\n",
       "      <td>(829</td>\n",
       "      <td>525-0101</td>\n",
       "    </tr>\n",
       "    <tr>\n",
       "      <th>2</th>\n",
       "      <td>(828</td>\n",
       "      <td>555-0102</td>\n",
       "    </tr>\n",
       "  </tbody>\n",
       "</table>\n",
       "</div>"
      ],
      "text/plain": [
       "  AreaCode LocalPhoneNumber\n",
       "0     (827         525-0100\n",
       "1     (829         525-0101\n",
       "2     (828         555-0102"
      ]
     },
     "execution_count": 22,
     "metadata": {},
     "output_type": "execute_result"
    }
   ],
   "source": [
    "# Name columns for df_temp:  'AreaCode', 'LocalPhoneNumber'\n",
    "df_temp.columns = ['AreaCode', 'LocalPhoneNumber']\n",
    "\n",
    "# Display top rows\n",
    "df_temp.head()"
   ]
  },
  {
   "cell_type": "markdown",
   "metadata": {},
   "source": [
    "### Concatenate the new dataframe with the existing dataframe"
   ]
  },
  {
   "cell_type": "code",
   "execution_count": 23,
   "metadata": {},
   "outputs": [
    {
     "data": {
      "text/html": [
       "<div>\n",
       "<style scoped>\n",
       "    .dataframe tbody tr th:only-of-type {\n",
       "        vertical-align: middle;\n",
       "    }\n",
       "\n",
       "    .dataframe tbody tr th {\n",
       "        vertical-align: top;\n",
       "    }\n",
       "\n",
       "    .dataframe thead th {\n",
       "        text-align: right;\n",
       "    }\n",
       "</style>\n",
       "<table border=\"1\" class=\"dataframe\">\n",
       "  <thead>\n",
       "    <tr style=\"text-align: right;\">\n",
       "      <th></th>\n",
       "      <th>BusinessEntityID</th>\n",
       "      <th>EmployeeName</th>\n",
       "      <th>EmailAddress</th>\n",
       "      <th>PhoneNumber</th>\n",
       "      <th>StartDate</th>\n",
       "      <th>CurrentSalary</th>\n",
       "      <th>LastName</th>\n",
       "      <th>FirstName</th>\n",
       "      <th>AreaCode</th>\n",
       "      <th>LocalPhoneNumber</th>\n",
       "    </tr>\n",
       "  </thead>\n",
       "  <tbody>\n",
       "    <tr>\n",
       "      <th>0</th>\n",
       "      <td>1699</td>\n",
       "      <td>Robinett, David</td>\n",
       "      <td>david22@adventure-works.com</td>\n",
       "      <td>(827) 525-0100</td>\n",
       "      <td>06-05-2010</td>\n",
       "      <td>$80,950</td>\n",
       "      <td>Robinett</td>\n",
       "      <td>David</td>\n",
       "      <td>(827</td>\n",
       "      <td>525-0100</td>\n",
       "    </tr>\n",
       "    <tr>\n",
       "      <th>1</th>\n",
       "      <td>1700</td>\n",
       "      <td>Robinson, Rebecca</td>\n",
       "      <td>rebecca5 @adventure-works.com</td>\n",
       "      <td>(829) 525-0101</td>\n",
       "      <td>05-01-2015</td>\n",
       "      <td>$70,950</td>\n",
       "      <td>Robinson</td>\n",
       "      <td>Rebecca</td>\n",
       "      <td>(829</td>\n",
       "      <td>525-0101</td>\n",
       "    </tr>\n",
       "    <tr>\n",
       "      <th>2</th>\n",
       "      <td>1701</td>\n",
       "      <td>Robinson, Dorothy</td>\n",
       "      <td>dorothy3@adventure-works.com</td>\n",
       "      <td>(828) 555-0102</td>\n",
       "      <td>03-01-2017</td>\n",
       "      <td>$50,00</td>\n",
       "      <td>Robinson</td>\n",
       "      <td>Dorothy</td>\n",
       "      <td>(828</td>\n",
       "      <td>555-0102</td>\n",
       "    </tr>\n",
       "  </tbody>\n",
       "</table>\n",
       "</div>"
      ],
      "text/plain": [
       "   BusinessEntityID       EmployeeName                   EmailAddress  \\\n",
       "0              1699    Robinett, David    david22@adventure-works.com   \n",
       "1              1700  Robinson, Rebecca  rebecca5 @adventure-works.com   \n",
       "2              1701  Robinson, Dorothy   dorothy3@adventure-works.com   \n",
       "\n",
       "      PhoneNumber   StartDate CurrentSalary  LastName FirstName AreaCode  \\\n",
       "0  (827) 525-0100  06-05-2010       $80,950  Robinett     David     (827   \n",
       "1  (829) 525-0101  05-01-2015       $70,950  Robinson   Rebecca     (829   \n",
       "2  (828) 555-0102  03-01-2017        $50,00  Robinson   Dorothy     (828   \n",
       "\n",
       "  LocalPhoneNumber  \n",
       "0         525-0100  \n",
       "1         525-0101  \n",
       "2         555-0102  "
      ]
     },
     "execution_count": 23,
     "metadata": {},
     "output_type": "execute_result"
    }
   ],
   "source": [
    "# Concatenate\n",
    "df_employees2 = pd.concat([df_employees, df_temp], axis=1)\n",
    "\n",
    "# Display top rows\n",
    "df_employees2.head()"
   ]
  },
  {
   "cell_type": "code",
   "execution_count": 24,
   "metadata": {},
   "outputs": [],
   "source": [
    "# Save the dataframe as a pickle named: 4.3a_EX_Employees.pkl\n",
    "df_employees2.to_pickle('./Data/4.3a_EX_Employees.pkl')"
   ]
  },
  {
   "cell_type": "markdown",
   "metadata": {},
   "source": [
    "# Exercise 4.3a"
   ]
  },
  {
   "cell_type": "markdown",
   "metadata": {},
   "source": [
    "# Part 1: Shoes  \n",
    "Starting with the hard-coded dataframe below, do the following:\n",
    "1. Get rid of all extra spaces in the Shoe_Type column \n",
    "2. Split the columns"
   ]
  },
  {
   "cell_type": "code",
   "execution_count": 25,
   "metadata": {},
   "outputs": [
    {
     "data": {
      "text/html": [
       "<div>\n",
       "<style scoped>\n",
       "    .dataframe tbody tr th:only-of-type {\n",
       "        vertical-align: middle;\n",
       "    }\n",
       "\n",
       "    .dataframe tbody tr th {\n",
       "        vertical-align: top;\n",
       "    }\n",
       "\n",
       "    .dataframe thead th {\n",
       "        text-align: right;\n",
       "    }\n",
       "</style>\n",
       "<table border=\"1\" class=\"dataframe\">\n",
       "  <thead>\n",
       "    <tr style=\"text-align: right;\">\n",
       "      <th></th>\n",
       "      <th>OrderID</th>\n",
       "      <th>Order Date</th>\n",
       "      <th>Shoe_Type</th>\n",
       "      <th>Size</th>\n",
       "      <th>Colour</th>\n",
       "      <th>Sales</th>\n",
       "      <th>StoreID</th>\n",
       "    </tr>\n",
       "  </thead>\n",
       "  <tbody>\n",
       "    <tr>\n",
       "      <th>0</th>\n",
       "      <td>1</td>\n",
       "      <td>2018-05-02</td>\n",
       "      <td>Pumps</td>\n",
       "      <td>7 (EU)</td>\n",
       "      <td>Gold</td>\n",
       "      <td>$25,100</td>\n",
       "      <td>CA-121</td>\n",
       "    </tr>\n",
       "    <tr>\n",
       "      <th>1</th>\n",
       "      <td>2</td>\n",
       "      <td>2018-05-03</td>\n",
       "      <td>Pumps</td>\n",
       "      <td>4 (EU)</td>\n",
       "      <td>Gold</td>\n",
       "      <td>$35,500</td>\n",
       "      <td>CA-235</td>\n",
       "    </tr>\n",
       "    <tr>\n",
       "      <th>2</th>\n",
       "      <td>3</td>\n",
       "      <td>2018-06-04</td>\n",
       "      <td>Loafer</td>\n",
       "      <td>6 (EU)</td>\n",
       "      <td>Gold</td>\n",
       "      <td>$50,000</td>\n",
       "      <td>NY-12</td>\n",
       "    </tr>\n",
       "  </tbody>\n",
       "</table>\n",
       "</div>"
      ],
      "text/plain": [
       "   OrderID  Order Date  Shoe_Type    Size Colour    Sales StoreID\n",
       "0        1  2018-05-02   Pumps     7 (EU)   Gold  $25,100  CA-121\n",
       "1        2  2018-05-03     Pumps   4 (EU)   Gold  $35,500  CA-235\n",
       "2        3  2018-06-04    Loafer   6 (EU)   Gold  $50,000   NY-12"
      ]
     },
     "execution_count": 25,
     "metadata": {},
     "output_type": "execute_result"
    }
   ],
   "source": [
    "# Hardcode a dataframe\n",
    "df_Shoes = pd.DataFrame(\n",
    "    [\n",
    "    [1,'2018-05-02',' Pumps   ','7 (EU)','Gold','$25,100','CA-121'],\n",
    "    [2,'2018-05-03','   Pumps ','4 (EU)','Gold','$35,500','CA-235'],\n",
    "    [3,'2018-06-04',' Loafer ','6 (EU)','Gold','$50,000','NY-12'],\n",
    "    ], \n",
    "    columns=['OrderID','Order Date','Shoe_Type','Size','Colour','Sales','StoreID'])\n",
    "\n",
    "df_Shoes"
   ]
  },
  {
   "cell_type": "markdown",
   "metadata": {},
   "source": [
    "### 1.1. Get rid of all extra spaces in the *Shoe_Type* column"
   ]
  },
  {
   "cell_type": "code",
   "execution_count": 26,
   "metadata": {},
   "outputs": [
    {
     "data": {
      "text/plain": [
       "0     Pumps   \n",
       "1       Pumps \n",
       "2      Loafer \n",
       "Name: Shoe_Type, dtype: object"
      ]
     },
     "execution_count": 26,
     "metadata": {},
     "output_type": "execute_result"
    }
   ],
   "source": [
    "# Show the 'before'\n",
    "df_Shoes['Shoe_Type']"
   ]
  },
  {
   "cell_type": "code",
   "execution_count": 27,
   "metadata": {},
   "outputs": [],
   "source": [
    "# Strip extra spaces from column values\n",
    "df_Shoes['Shoe_Type'] = df_Shoes['Shoe_Type'].str.strip()"
   ]
  },
  {
   "cell_type": "code",
   "execution_count": 28,
   "metadata": {},
   "outputs": [
    {
     "data": {
      "text/plain": [
       "0     Pumps\n",
       "1     Pumps\n",
       "2    Loafer\n",
       "Name: Shoe_Type, dtype: object"
      ]
     },
     "execution_count": 28,
     "metadata": {},
     "output_type": "execute_result"
    }
   ],
   "source": [
    "# Show the 'after'\n",
    "df_Shoes['Shoe_Type']"
   ]
  },
  {
   "cell_type": "markdown",
   "metadata": {},
   "source": [
    "### 1.2. Split the *StoreID* column into two columns:  StateAbbrev and SubstateID"
   ]
  },
  {
   "cell_type": "code",
   "execution_count": 29,
   "metadata": {},
   "outputs": [
    {
     "data": {
      "text/html": [
       "<div>\n",
       "<style scoped>\n",
       "    .dataframe tbody tr th:only-of-type {\n",
       "        vertical-align: middle;\n",
       "    }\n",
       "\n",
       "    .dataframe tbody tr th {\n",
       "        vertical-align: top;\n",
       "    }\n",
       "\n",
       "    .dataframe thead th {\n",
       "        text-align: right;\n",
       "    }\n",
       "</style>\n",
       "<table border=\"1\" class=\"dataframe\">\n",
       "  <thead>\n",
       "    <tr style=\"text-align: right;\">\n",
       "      <th></th>\n",
       "      <th>OrderID</th>\n",
       "      <th>Order Date</th>\n",
       "      <th>Shoe_Type</th>\n",
       "      <th>Size</th>\n",
       "      <th>Colour</th>\n",
       "      <th>Sales</th>\n",
       "      <th>StoreID</th>\n",
       "    </tr>\n",
       "  </thead>\n",
       "  <tbody>\n",
       "    <tr>\n",
       "      <th>0</th>\n",
       "      <td>1</td>\n",
       "      <td>2018-05-02</td>\n",
       "      <td>Pumps</td>\n",
       "      <td>7 (EU)</td>\n",
       "      <td>Gold</td>\n",
       "      <td>$25,100</td>\n",
       "      <td>CA-121</td>\n",
       "    </tr>\n",
       "    <tr>\n",
       "      <th>1</th>\n",
       "      <td>2</td>\n",
       "      <td>2018-05-03</td>\n",
       "      <td>Pumps</td>\n",
       "      <td>4 (EU)</td>\n",
       "      <td>Gold</td>\n",
       "      <td>$35,500</td>\n",
       "      <td>CA-235</td>\n",
       "    </tr>\n",
       "  </tbody>\n",
       "</table>\n",
       "</div>"
      ],
      "text/plain": [
       "   OrderID  Order Date Shoe_Type    Size Colour    Sales StoreID\n",
       "0        1  2018-05-02     Pumps  7 (EU)   Gold  $25,100  CA-121\n",
       "1        2  2018-05-03     Pumps  4 (EU)   Gold  $35,500  CA-235"
      ]
     },
     "execution_count": 29,
     "metadata": {},
     "output_type": "execute_result"
    }
   ],
   "source": [
    "# Display top rows\n",
    "df_Shoes.head(2)"
   ]
  },
  {
   "cell_type": "markdown",
   "metadata": {},
   "source": [
    "### 1.2.a. Split the StoreID column into a temp dataframe"
   ]
  },
  {
   "cell_type": "code",
   "execution_count": 30,
   "metadata": {},
   "outputs": [
    {
     "data": {
      "text/html": [
       "<div>\n",
       "<style scoped>\n",
       "    .dataframe tbody tr th:only-of-type {\n",
       "        vertical-align: middle;\n",
       "    }\n",
       "\n",
       "    .dataframe tbody tr th {\n",
       "        vertical-align: top;\n",
       "    }\n",
       "\n",
       "    .dataframe thead th {\n",
       "        text-align: right;\n",
       "    }\n",
       "</style>\n",
       "<table border=\"1\" class=\"dataframe\">\n",
       "  <thead>\n",
       "    <tr style=\"text-align: right;\">\n",
       "      <th></th>\n",
       "      <th>0</th>\n",
       "      <th>1</th>\n",
       "    </tr>\n",
       "  </thead>\n",
       "  <tbody>\n",
       "    <tr>\n",
       "      <th>0</th>\n",
       "      <td>CA</td>\n",
       "      <td>121</td>\n",
       "    </tr>\n",
       "    <tr>\n",
       "      <th>1</th>\n",
       "      <td>CA</td>\n",
       "      <td>235</td>\n",
       "    </tr>\n",
       "    <tr>\n",
       "      <th>2</th>\n",
       "      <td>NY</td>\n",
       "      <td>12</td>\n",
       "    </tr>\n",
       "  </tbody>\n",
       "</table>\n",
       "</div>"
      ],
      "text/plain": [
       "    0    1\n",
       "0  CA  121\n",
       "1  CA  235\n",
       "2  NY   12"
      ]
     },
     "execution_count": 30,
     "metadata": {},
     "output_type": "execute_result"
    }
   ],
   "source": [
    "# Split StoreID\n",
    "df_temp = df_Shoes['StoreID'].str.split('-', 1, expand=True)\n",
    "\n",
    "# Display top rows\n",
    "df_temp.head()"
   ]
  },
  {
   "cell_type": "markdown",
   "metadata": {},
   "source": [
    "### 1.2.b Give names to the two columns in the temp dataframe"
   ]
  },
  {
   "cell_type": "code",
   "execution_count": 31,
   "metadata": {},
   "outputs": [
    {
     "data": {
      "text/html": [
       "<div>\n",
       "<style scoped>\n",
       "    .dataframe tbody tr th:only-of-type {\n",
       "        vertical-align: middle;\n",
       "    }\n",
       "\n",
       "    .dataframe tbody tr th {\n",
       "        vertical-align: top;\n",
       "    }\n",
       "\n",
       "    .dataframe thead th {\n",
       "        text-align: right;\n",
       "    }\n",
       "</style>\n",
       "<table border=\"1\" class=\"dataframe\">\n",
       "  <thead>\n",
       "    <tr style=\"text-align: right;\">\n",
       "      <th></th>\n",
       "      <th>StateAbbrev</th>\n",
       "      <th>SubstateID</th>\n",
       "    </tr>\n",
       "  </thead>\n",
       "  <tbody>\n",
       "    <tr>\n",
       "      <th>0</th>\n",
       "      <td>CA</td>\n",
       "      <td>121</td>\n",
       "    </tr>\n",
       "    <tr>\n",
       "      <th>1</th>\n",
       "      <td>CA</td>\n",
       "      <td>235</td>\n",
       "    </tr>\n",
       "    <tr>\n",
       "      <th>2</th>\n",
       "      <td>NY</td>\n",
       "      <td>12</td>\n",
       "    </tr>\n",
       "  </tbody>\n",
       "</table>\n",
       "</div>"
      ],
      "text/plain": [
       "  StateAbbrev SubstateID\n",
       "0          CA        121\n",
       "1          CA        235\n",
       "2          NY         12"
      ]
     },
     "execution_count": 31,
     "metadata": {},
     "output_type": "execute_result"
    }
   ],
   "source": [
    "# Name columns for df_temp:  StateAbbrev and SubstateID\n",
    "df_temp.columns = ['StateAbbrev', 'SubstateID']\n",
    "\n",
    "# Display top rows\n",
    "df_temp.head()"
   ]
  },
  {
   "cell_type": "markdown",
   "metadata": {},
   "source": [
    "### 1.2.c Concatenate the new dataframe with the existing dataframe"
   ]
  },
  {
   "cell_type": "code",
   "execution_count": 32,
   "metadata": {},
   "outputs": [
    {
     "data": {
      "text/html": [
       "<div>\n",
       "<style scoped>\n",
       "    .dataframe tbody tr th:only-of-type {\n",
       "        vertical-align: middle;\n",
       "    }\n",
       "\n",
       "    .dataframe tbody tr th {\n",
       "        vertical-align: top;\n",
       "    }\n",
       "\n",
       "    .dataframe thead th {\n",
       "        text-align: right;\n",
       "    }\n",
       "</style>\n",
       "<table border=\"1\" class=\"dataframe\">\n",
       "  <thead>\n",
       "    <tr style=\"text-align: right;\">\n",
       "      <th></th>\n",
       "      <th>OrderID</th>\n",
       "      <th>Order Date</th>\n",
       "      <th>Shoe_Type</th>\n",
       "      <th>Size</th>\n",
       "      <th>Colour</th>\n",
       "      <th>Sales</th>\n",
       "      <th>StoreID</th>\n",
       "      <th>StateAbbrev</th>\n",
       "      <th>SubstateID</th>\n",
       "    </tr>\n",
       "  </thead>\n",
       "  <tbody>\n",
       "    <tr>\n",
       "      <th>0</th>\n",
       "      <td>1</td>\n",
       "      <td>2018-05-02</td>\n",
       "      <td>Pumps</td>\n",
       "      <td>7 (EU)</td>\n",
       "      <td>Gold</td>\n",
       "      <td>$25,100</td>\n",
       "      <td>CA-121</td>\n",
       "      <td>CA</td>\n",
       "      <td>121</td>\n",
       "    </tr>\n",
       "    <tr>\n",
       "      <th>1</th>\n",
       "      <td>2</td>\n",
       "      <td>2018-05-03</td>\n",
       "      <td>Pumps</td>\n",
       "      <td>4 (EU)</td>\n",
       "      <td>Gold</td>\n",
       "      <td>$35,500</td>\n",
       "      <td>CA-235</td>\n",
       "      <td>CA</td>\n",
       "      <td>235</td>\n",
       "    </tr>\n",
       "    <tr>\n",
       "      <th>2</th>\n",
       "      <td>3</td>\n",
       "      <td>2018-06-04</td>\n",
       "      <td>Loafer</td>\n",
       "      <td>6 (EU)</td>\n",
       "      <td>Gold</td>\n",
       "      <td>$50,000</td>\n",
       "      <td>NY-12</td>\n",
       "      <td>NY</td>\n",
       "      <td>12</td>\n",
       "    </tr>\n",
       "  </tbody>\n",
       "</table>\n",
       "</div>"
      ],
      "text/plain": [
       "   OrderID  Order Date Shoe_Type    Size Colour    Sales StoreID StateAbbrev  \\\n",
       "0        1  2018-05-02     Pumps  7 (EU)   Gold  $25,100  CA-121          CA   \n",
       "1        2  2018-05-03     Pumps  4 (EU)   Gold  $35,500  CA-235          CA   \n",
       "2        3  2018-06-04    Loafer  6 (EU)   Gold  $50,000   NY-12          NY   \n",
       "\n",
       "  SubstateID  \n",
       "0        121  \n",
       "1        235  \n",
       "2         12  "
      ]
     },
     "execution_count": 32,
     "metadata": {},
     "output_type": "execute_result"
    }
   ],
   "source": [
    "# Concatenate\n",
    "df_Shoes2 = pd.concat([df_Shoes, df_temp], axis=1)\n",
    "\n",
    "# Display top rows\n",
    "df_Shoes2.head()"
   ]
  },
  {
   "cell_type": "code",
   "execution_count": 33,
   "metadata": {},
   "outputs": [],
   "source": [
    "# Save the new dataframe as a pickle named: 4.3a_Ex_Shoes_Split.pkl\n",
    "df_Shoes2.to_pickle('./Data/4.3a_Ex_Shoes_Split.pkl')"
   ]
  },
  {
   "cell_type": "markdown",
   "metadata": {},
   "source": [
    "# Part 2: IMDB_250_Scraped.csv"
   ]
  },
  {
   "cell_type": "code",
   "execution_count": 34,
   "metadata": {},
   "outputs": [
    {
     "data": {
      "text/html": [
       "<div>\n",
       "<style scoped>\n",
       "    .dataframe tbody tr th:only-of-type {\n",
       "        vertical-align: middle;\n",
       "    }\n",
       "\n",
       "    .dataframe tbody tr th {\n",
       "        vertical-align: top;\n",
       "    }\n",
       "\n",
       "    .dataframe thead th {\n",
       "        text-align: right;\n",
       "    }\n",
       "</style>\n",
       "<table border=\"1\" class=\"dataframe\">\n",
       "  <thead>\n",
       "    <tr style=\"text-align: right;\">\n",
       "      <th></th>\n",
       "      <th>Column1</th>\n",
       "      <th>Rank &amp; Title</th>\n",
       "      <th>IMDb Rating</th>\n",
       "      <th>Your Rating</th>\n",
       "      <th>2</th>\n",
       "    </tr>\n",
       "  </thead>\n",
       "  <tbody>\n",
       "    <tr>\n",
       "      <th>0</th>\n",
       "      <td>NaN</td>\n",
       "      <td>1. The Shawshank Redemption (1994)</td>\n",
       "      <td>9.2</td>\n",
       "      <td>12345678910\\r\\nNOT YET RELEASED\\r\\nSeen</td>\n",
       "      <td>NaN</td>\n",
       "    </tr>\n",
       "    <tr>\n",
       "      <th>1</th>\n",
       "      <td>NaN</td>\n",
       "      <td>2. The Godfather (1972)</td>\n",
       "      <td>9.2</td>\n",
       "      <td>12345678910\\r\\nNOT YET RELEASED\\r\\nSeen</td>\n",
       "      <td>NaN</td>\n",
       "    </tr>\n",
       "  </tbody>\n",
       "</table>\n",
       "</div>"
      ],
      "text/plain": [
       "   Column1                        Rank & Title  IMDb Rating  \\\n",
       "0      NaN  1. The Shawshank Redemption (1994)          9.2   \n",
       "1      NaN             2. The Godfather (1972)          9.2   \n",
       "\n",
       "                               Your Rating   2  \n",
       "0  12345678910\\r\\nNOT YET RELEASED\\r\\nSeen NaN  \n",
       "1  12345678910\\r\\nNOT YET RELEASED\\r\\nSeen NaN  "
      ]
     },
     "execution_count": 34,
     "metadata": {},
     "output_type": "execute_result"
    }
   ],
   "source": [
    "#Read the csv file into a pandas dataframe\n",
    "file = 'Data//IMDB_250_Scraped.csv'\n",
    "df_imdb = pd.read_csv(file)\n",
    "\n",
    "#Display the first rows in the dataframe\n",
    "df_imdb.head(2)\n"
   ]
  },
  {
   "cell_type": "markdown",
   "metadata": {},
   "source": [
    "### 2.1 *Split Rank & Title* column into three fields: Rank, Title and YearWithJunk"
   ]
  },
  {
   "cell_type": "code",
   "execution_count": 35,
   "metadata": {},
   "outputs": [
    {
     "data": {
      "text/html": [
       "<div>\n",
       "<style scoped>\n",
       "    .dataframe tbody tr th:only-of-type {\n",
       "        vertical-align: middle;\n",
       "    }\n",
       "\n",
       "    .dataframe tbody tr th {\n",
       "        vertical-align: top;\n",
       "    }\n",
       "\n",
       "    .dataframe thead th {\n",
       "        text-align: right;\n",
       "    }\n",
       "</style>\n",
       "<table border=\"1\" class=\"dataframe\">\n",
       "  <thead>\n",
       "    <tr style=\"text-align: right;\">\n",
       "      <th></th>\n",
       "      <th>0</th>\n",
       "      <th>1</th>\n",
       "    </tr>\n",
       "  </thead>\n",
       "  <tbody>\n",
       "    <tr>\n",
       "      <th>0</th>\n",
       "      <td>1</td>\n",
       "      <td>The Shawshank Redemption (1994)</td>\n",
       "    </tr>\n",
       "    <tr>\n",
       "      <th>1</th>\n",
       "      <td>2</td>\n",
       "      <td>The Godfather (1972)</td>\n",
       "    </tr>\n",
       "    <tr>\n",
       "      <th>2</th>\n",
       "      <td>3</td>\n",
       "      <td>The Godfather: Part II (1974)</td>\n",
       "    </tr>\n",
       "    <tr>\n",
       "      <th>3</th>\n",
       "      <td>4</td>\n",
       "      <td>The Dark Knight (2008)</td>\n",
       "    </tr>\n",
       "    <tr>\n",
       "      <th>4</th>\n",
       "      <td>5</td>\n",
       "      <td>12 Angry Men (1957)</td>\n",
       "    </tr>\n",
       "  </tbody>\n",
       "</table>\n",
       "</div>"
      ],
      "text/plain": [
       "   0                                 1\n",
       "0  1   The Shawshank Redemption (1994)\n",
       "1  2              The Godfather (1972)\n",
       "2  3     The Godfather: Part II (1974)\n",
       "3  4            The Dark Knight (2008)\n",
       "4  5               12 Angry Men (1957)"
      ]
     },
     "execution_count": 35,
     "metadata": {},
     "output_type": "execute_result"
    }
   ],
   "source": [
    "# Split 'Rank & Title'\n",
    "df_imdb_temp = df_imdb['Rank & Title'].str.split('.', 1, expand=True)\n",
    "\n",
    "# Display top rows\n",
    "df_imdb_temp.head()"
   ]
  },
  {
   "cell_type": "code",
   "execution_count": 36,
   "metadata": {},
   "outputs": [
    {
     "data": {
      "text/html": [
       "<div>\n",
       "<style scoped>\n",
       "    .dataframe tbody tr th:only-of-type {\n",
       "        vertical-align: middle;\n",
       "    }\n",
       "\n",
       "    .dataframe tbody tr th {\n",
       "        vertical-align: top;\n",
       "    }\n",
       "\n",
       "    .dataframe thead th {\n",
       "        text-align: right;\n",
       "    }\n",
       "</style>\n",
       "<table border=\"1\" class=\"dataframe\">\n",
       "  <thead>\n",
       "    <tr style=\"text-align: right;\">\n",
       "      <th></th>\n",
       "      <th>Rank</th>\n",
       "      <th>TitleWithYear</th>\n",
       "    </tr>\n",
       "  </thead>\n",
       "  <tbody>\n",
       "    <tr>\n",
       "      <th>0</th>\n",
       "      <td>1</td>\n",
       "      <td>The Shawshank Redemption (1994)</td>\n",
       "    </tr>\n",
       "    <tr>\n",
       "      <th>1</th>\n",
       "      <td>2</td>\n",
       "      <td>The Godfather (1972)</td>\n",
       "    </tr>\n",
       "  </tbody>\n",
       "</table>\n",
       "</div>"
      ],
      "text/plain": [
       "  Rank                     TitleWithYear\n",
       "0    1   The Shawshank Redemption (1994)\n",
       "1    2              The Godfather (1972)"
      ]
     },
     "execution_count": 36,
     "metadata": {},
     "output_type": "execute_result"
    }
   ],
   "source": [
    "# Name columns for df_temp:  Rank and TitleWithYear\n",
    "df_imdb_temp.columns = ['Rank', 'TitleWithYear']\n",
    "\n",
    "# Display top rows \n",
    "df_imdb_temp.head(2)"
   ]
  },
  {
   "cell_type": "code",
   "execution_count": 37,
   "metadata": {},
   "outputs": [
    {
     "data": {
      "text/html": [
       "<div>\n",
       "<style scoped>\n",
       "    .dataframe tbody tr th:only-of-type {\n",
       "        vertical-align: middle;\n",
       "    }\n",
       "\n",
       "    .dataframe tbody tr th {\n",
       "        vertical-align: top;\n",
       "    }\n",
       "\n",
       "    .dataframe thead th {\n",
       "        text-align: right;\n",
       "    }\n",
       "</style>\n",
       "<table border=\"1\" class=\"dataframe\">\n",
       "  <thead>\n",
       "    <tr style=\"text-align: right;\">\n",
       "      <th></th>\n",
       "      <th>Column1</th>\n",
       "      <th>Rank &amp; Title</th>\n",
       "      <th>IMDb Rating</th>\n",
       "      <th>Your Rating</th>\n",
       "      <th>2</th>\n",
       "      <th>Rank</th>\n",
       "      <th>TitleWithYear</th>\n",
       "    </tr>\n",
       "  </thead>\n",
       "  <tbody>\n",
       "    <tr>\n",
       "      <th>0</th>\n",
       "      <td>NaN</td>\n",
       "      <td>1. The Shawshank Redemption (1994)</td>\n",
       "      <td>9.2</td>\n",
       "      <td>12345678910\\r\\nNOT YET RELEASED\\r\\nSeen</td>\n",
       "      <td>NaN</td>\n",
       "      <td>1</td>\n",
       "      <td>The Shawshank Redemption (1994)</td>\n",
       "    </tr>\n",
       "    <tr>\n",
       "      <th>1</th>\n",
       "      <td>NaN</td>\n",
       "      <td>2. The Godfather (1972)</td>\n",
       "      <td>9.2</td>\n",
       "      <td>12345678910\\r\\nNOT YET RELEASED\\r\\nSeen</td>\n",
       "      <td>NaN</td>\n",
       "      <td>2</td>\n",
       "      <td>The Godfather (1972)</td>\n",
       "    </tr>\n",
       "  </tbody>\n",
       "</table>\n",
       "</div>"
      ],
      "text/plain": [
       "   Column1                        Rank & Title  IMDb Rating  \\\n",
       "0      NaN  1. The Shawshank Redemption (1994)          9.2   \n",
       "1      NaN             2. The Godfather (1972)          9.2   \n",
       "\n",
       "                               Your Rating   2 Rank  \\\n",
       "0  12345678910\\r\\nNOT YET RELEASED\\r\\nSeen NaN    1   \n",
       "1  12345678910\\r\\nNOT YET RELEASED\\r\\nSeen NaN    2   \n",
       "\n",
       "                      TitleWithYear  \n",
       "0   The Shawshank Redemption (1994)  \n",
       "1              The Godfather (1972)  "
      ]
     },
     "execution_count": 37,
     "metadata": {},
     "output_type": "execute_result"
    }
   ],
   "source": [
    "# Concatenate\n",
    "df_imdb2 = pd.concat([df_imdb, df_imdb_temp], axis=1)\n",
    "\n",
    "# Display top rows\n",
    "df_imdb2.head(2)"
   ]
  },
  {
   "cell_type": "code",
   "execution_count": 38,
   "metadata": {},
   "outputs": [
    {
     "data": {
      "text/html": [
       "<div>\n",
       "<style scoped>\n",
       "    .dataframe tbody tr th:only-of-type {\n",
       "        vertical-align: middle;\n",
       "    }\n",
       "\n",
       "    .dataframe tbody tr th {\n",
       "        vertical-align: top;\n",
       "    }\n",
       "\n",
       "    .dataframe thead th {\n",
       "        text-align: right;\n",
       "    }\n",
       "</style>\n",
       "<table border=\"1\" class=\"dataframe\">\n",
       "  <thead>\n",
       "    <tr style=\"text-align: right;\">\n",
       "      <th></th>\n",
       "      <th>0</th>\n",
       "      <th>1</th>\n",
       "    </tr>\n",
       "  </thead>\n",
       "  <tbody>\n",
       "    <tr>\n",
       "      <th>0</th>\n",
       "      <td>The Shawshank Redemption</td>\n",
       "      <td>1994)</td>\n",
       "    </tr>\n",
       "    <tr>\n",
       "      <th>1</th>\n",
       "      <td>The Godfather</td>\n",
       "      <td>1972)</td>\n",
       "    </tr>\n",
       "  </tbody>\n",
       "</table>\n",
       "</div>"
      ],
      "text/plain": [
       "                            0      1\n",
       "0   The Shawshank Redemption   1994)\n",
       "1              The Godfather   1972)"
      ]
     },
     "execution_count": 38,
     "metadata": {},
     "output_type": "execute_result"
    }
   ],
   "source": [
    "# Split TitleWithYear\n",
    "df_imdb2_temp = df_imdb2['TitleWithYear'].str.split('(', 1, expand=True)\n",
    "\n",
    "\n",
    "# Display top rows\n",
    "df_imdb2_temp.head(2)"
   ]
  },
  {
   "cell_type": "code",
   "execution_count": 39,
   "metadata": {},
   "outputs": [],
   "source": [
    "# Name columns for df_temp:  Title and YearWithJunk\n",
    "df_imdb2_temp.columns = ['Title', 'YearWithJunk']"
   ]
  },
  {
   "cell_type": "code",
   "execution_count": 40,
   "metadata": {},
   "outputs": [
    {
     "data": {
      "text/html": [
       "<div>\n",
       "<style scoped>\n",
       "    .dataframe tbody tr th:only-of-type {\n",
       "        vertical-align: middle;\n",
       "    }\n",
       "\n",
       "    .dataframe tbody tr th {\n",
       "        vertical-align: top;\n",
       "    }\n",
       "\n",
       "    .dataframe thead th {\n",
       "        text-align: right;\n",
       "    }\n",
       "</style>\n",
       "<table border=\"1\" class=\"dataframe\">\n",
       "  <thead>\n",
       "    <tr style=\"text-align: right;\">\n",
       "      <th></th>\n",
       "      <th>Column1</th>\n",
       "      <th>Rank &amp; Title</th>\n",
       "      <th>IMDb Rating</th>\n",
       "      <th>Your Rating</th>\n",
       "      <th>2</th>\n",
       "      <th>Rank</th>\n",
       "      <th>TitleWithYear</th>\n",
       "      <th>Title</th>\n",
       "      <th>YearWithJunk</th>\n",
       "    </tr>\n",
       "  </thead>\n",
       "  <tbody>\n",
       "    <tr>\n",
       "      <th>0</th>\n",
       "      <td>NaN</td>\n",
       "      <td>1. The Shawshank Redemption (1994)</td>\n",
       "      <td>9.2</td>\n",
       "      <td>12345678910\\r\\nNOT YET RELEASED\\r\\nSeen</td>\n",
       "      <td>NaN</td>\n",
       "      <td>1</td>\n",
       "      <td>The Shawshank Redemption (1994)</td>\n",
       "      <td>The Shawshank Redemption</td>\n",
       "      <td>1994)</td>\n",
       "    </tr>\n",
       "    <tr>\n",
       "      <th>1</th>\n",
       "      <td>NaN</td>\n",
       "      <td>2. The Godfather (1972)</td>\n",
       "      <td>9.2</td>\n",
       "      <td>12345678910\\r\\nNOT YET RELEASED\\r\\nSeen</td>\n",
       "      <td>NaN</td>\n",
       "      <td>2</td>\n",
       "      <td>The Godfather (1972)</td>\n",
       "      <td>The Godfather</td>\n",
       "      <td>1972)</td>\n",
       "    </tr>\n",
       "  </tbody>\n",
       "</table>\n",
       "</div>"
      ],
      "text/plain": [
       "   Column1                        Rank & Title  IMDb Rating  \\\n",
       "0      NaN  1. The Shawshank Redemption (1994)          9.2   \n",
       "1      NaN             2. The Godfather (1972)          9.2   \n",
       "\n",
       "                               Your Rating   2 Rank  \\\n",
       "0  12345678910\\r\\nNOT YET RELEASED\\r\\nSeen NaN    1   \n",
       "1  12345678910\\r\\nNOT YET RELEASED\\r\\nSeen NaN    2   \n",
       "\n",
       "                      TitleWithYear                       Title YearWithJunk  \n",
       "0   The Shawshank Redemption (1994)   The Shawshank Redemption         1994)  \n",
       "1              The Godfather (1972)              The Godfather         1972)  "
      ]
     },
     "execution_count": 40,
     "metadata": {},
     "output_type": "execute_result"
    }
   ],
   "source": [
    "# Concatenate\n",
    "df_imdb3 = pd.concat([df_imdb2, df_imdb2_temp], axis=1)\n",
    "\n",
    "# Display top rows\n",
    "df_imdb3.head(2)"
   ]
  },
  {
   "cell_type": "code",
   "execution_count": 41,
   "metadata": {},
   "outputs": [
    {
     "data": {
      "text/plain": [
       "Index(['Column1', 'Rank & Title', 'IMDb Rating', 'Your Rating', '2', 'Rank',\n",
       "       'TitleWithYear', 'Title', 'YearWithJunk'],\n",
       "      dtype='object')"
      ]
     },
     "execution_count": 41,
     "metadata": {},
     "output_type": "execute_result"
    }
   ],
   "source": [
    "# Display columns\n",
    "df_imdb3.columns"
   ]
  },
  {
   "cell_type": "markdown",
   "metadata": {},
   "source": [
    "### 2.2 Drop the following columns: Column1, Rank & Title, Your Rating, 2, TitleWithYear"
   ]
  },
  {
   "cell_type": "code",
   "execution_count": 42,
   "metadata": {},
   "outputs": [],
   "source": [
    "# Note:  inplace=True, so we are not creating a new dataframe\n",
    "df_imdb3.drop(['Column1','Rank & Title','Your Rating', '2', 'TitleWithYear'], axis='columns', inplace=True)"
   ]
  },
  {
   "cell_type": "code",
   "execution_count": 43,
   "metadata": {},
   "outputs": [
    {
     "data": {
      "text/plain": [
       "Index(['IMDb Rating', 'Rank', 'Title', 'YearWithJunk'], dtype='object')"
      ]
     },
     "execution_count": 43,
     "metadata": {},
     "output_type": "execute_result"
    }
   ],
   "source": [
    "# Display columns\n",
    "df_imdb3.columns"
   ]
  },
  {
   "cell_type": "code",
   "execution_count": 44,
   "metadata": {},
   "outputs": [
    {
     "data": {
      "text/html": [
       "<div>\n",
       "<style scoped>\n",
       "    .dataframe tbody tr th:only-of-type {\n",
       "        vertical-align: middle;\n",
       "    }\n",
       "\n",
       "    .dataframe tbody tr th {\n",
       "        vertical-align: top;\n",
       "    }\n",
       "\n",
       "    .dataframe thead th {\n",
       "        text-align: right;\n",
       "    }\n",
       "</style>\n",
       "<table border=\"1\" class=\"dataframe\">\n",
       "  <thead>\n",
       "    <tr style=\"text-align: right;\">\n",
       "      <th></th>\n",
       "      <th>IMDb Rating</th>\n",
       "      <th>Rank</th>\n",
       "      <th>Title</th>\n",
       "      <th>YearWithJunk</th>\n",
       "    </tr>\n",
       "  </thead>\n",
       "  <tbody>\n",
       "    <tr>\n",
       "      <th>0</th>\n",
       "      <td>9.2</td>\n",
       "      <td>1</td>\n",
       "      <td>The Shawshank Redemption</td>\n",
       "      <td>1994)</td>\n",
       "    </tr>\n",
       "    <tr>\n",
       "      <th>1</th>\n",
       "      <td>9.2</td>\n",
       "      <td>2</td>\n",
       "      <td>The Godfather</td>\n",
       "      <td>1972)</td>\n",
       "    </tr>\n",
       "  </tbody>\n",
       "</table>\n",
       "</div>"
      ],
      "text/plain": [
       "   IMDb Rating Rank                       Title YearWithJunk\n",
       "0          9.2    1   The Shawshank Redemption         1994)\n",
       "1          9.2    2              The Godfather         1972)"
      ]
     },
     "execution_count": 44,
     "metadata": {},
     "output_type": "execute_result"
    }
   ],
   "source": [
    "# Display top rows\n",
    "df_imdb3.head(2)"
   ]
  },
  {
   "cell_type": "markdown",
   "metadata": {},
   "source": [
    "### 2.3 Reorder the columns:  Rank , Title, YearWithJunk, IMDb Rating"
   ]
  },
  {
   "cell_type": "code",
   "execution_count": 45,
   "metadata": {},
   "outputs": [
    {
     "data": {
      "text/html": [
       "<div>\n",
       "<style scoped>\n",
       "    .dataframe tbody tr th:only-of-type {\n",
       "        vertical-align: middle;\n",
       "    }\n",
       "\n",
       "    .dataframe tbody tr th {\n",
       "        vertical-align: top;\n",
       "    }\n",
       "\n",
       "    .dataframe thead th {\n",
       "        text-align: right;\n",
       "    }\n",
       "</style>\n",
       "<table border=\"1\" class=\"dataframe\">\n",
       "  <thead>\n",
       "    <tr style=\"text-align: right;\">\n",
       "      <th></th>\n",
       "      <th>Rank</th>\n",
       "      <th>Title</th>\n",
       "      <th>YearWithJunk</th>\n",
       "      <th>IMDb Rating</th>\n",
       "    </tr>\n",
       "  </thead>\n",
       "  <tbody>\n",
       "    <tr>\n",
       "      <th>0</th>\n",
       "      <td>1</td>\n",
       "      <td>The Shawshank Redemption</td>\n",
       "      <td>1994)</td>\n",
       "      <td>9.2</td>\n",
       "    </tr>\n",
       "    <tr>\n",
       "      <th>1</th>\n",
       "      <td>2</td>\n",
       "      <td>The Godfather</td>\n",
       "      <td>1972)</td>\n",
       "      <td>9.2</td>\n",
       "    </tr>\n",
       "  </tbody>\n",
       "</table>\n",
       "</div>"
      ],
      "text/plain": [
       "  Rank                       Title YearWithJunk  IMDb Rating\n",
       "0    1   The Shawshank Redemption         1994)          9.2\n",
       "1    2              The Godfather         1972)          9.2"
      ]
     },
     "execution_count": 45,
     "metadata": {},
     "output_type": "execute_result"
    }
   ],
   "source": [
    "new_cols = ['Rank', 'Title', 'YearWithJunk', 'IMDb Rating']\n",
    "\n",
    "df_imdb3 = df_imdb3[new_cols]\n",
    "\n",
    "df_imdb3.head(2)"
   ]
  },
  {
   "cell_type": "code",
   "execution_count": 46,
   "metadata": {},
   "outputs": [],
   "source": [
    "# Save the dataframe as a pickle named: 4.3a_Ex_Part_2.3.pkl\n",
    "df_imdb3.to_pickle('./Data/4.3a_Ex_Part_2.3.pkl')"
   ]
  }
 ],
 "metadata": {
  "kernelspec": {
   "display_name": "Python 3",
   "language": "python",
   "name": "python3"
  },
  "language_info": {
   "codemirror_mode": {
    "name": "ipython",
    "version": 3
   },
   "file_extension": ".py",
   "mimetype": "text/x-python",
   "name": "python",
   "nbconvert_exporter": "python",
   "pygments_lexer": "ipython3",
   "version": "3.7.0"
  }
 },
 "nbformat": 4,
 "nbformat_minor": 2
}
