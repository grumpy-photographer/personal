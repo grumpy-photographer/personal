{
 "cells": [
  {
   "cell_type": "code",
   "execution_count": 1,
   "metadata": {},
   "outputs": [],
   "source": [
    "import pandas as pd\n",
    "import seaborn as sns\n",
    "from sklearn.model_selection import train_test_split"
   ]
  },
  {
   "cell_type": "code",
   "execution_count": 2,
   "metadata": {
    "scrolled": false
   },
   "outputs": [],
   "source": [
    "data = pd.read_csv(\"https://data.nasa.gov/api/views/dd9e-wu2v/rows.csv?accessType=DOWNLOAD\")"
   ]
  },
  {
   "cell_type": "code",
   "execution_count": 3,
   "metadata": {},
   "outputs": [],
   "source": [
    "data.columns = data.columns.str.strip()"
   ]
  },
  {
   "cell_type": "code",
   "execution_count": 4,
   "metadata": {
    "scrolled": false
   },
   "outputs": [
    {
     "name": "stdout",
     "output_type": "stream",
     "text": [
      "<class 'pandas.core.frame.DataFrame'>\n",
      "RangeIndex: 11033 entries, 0 to 11032\n",
      "Data columns (total 31 columns):\n",
      " #   Column                     Non-Null Count  Dtype  \n",
      "---  ------                     --------------  -----  \n",
      " 0   source_name                11033 non-null  object \n",
      " 1   source_link                10187 non-null  object \n",
      " 2   event_id                   11033 non-null  int64  \n",
      " 3   event_date                 11033 non-null  object \n",
      " 4   event_time                 0 non-null      float64\n",
      " 5   event_title                11033 non-null  object \n",
      " 6   event_description          10171 non-null  object \n",
      " 7   location_description       10931 non-null  object \n",
      " 8   location_accuracy          11031 non-null  object \n",
      " 9   landslide_category         11032 non-null  object \n",
      " 10  landslide_trigger          11010 non-null  object \n",
      " 11  landslide_size             11024 non-null  object \n",
      " 12  landslide_setting          10964 non-null  object \n",
      " 13  fatality_count             9648 non-null   float64\n",
      " 14  injury_count               5359 non-null   float64\n",
      " 15  storm_name                 577 non-null    object \n",
      " 16  photo_link                 1496 non-null   object \n",
      " 17  notes                      317 non-null    object \n",
      " 18  event_import_source        9470 non-null   object \n",
      " 19  event_import_id            9471 non-null   float64\n",
      " 20  country_name               9471 non-null   object \n",
      " 21  country_code               9469 non-null   object \n",
      " 22  admin_division_name        9396 non-null   object \n",
      " 23  admin_division_population  9471 non-null   float64\n",
      " 24  gazeteer_closest_point     9470 non-null   object \n",
      " 25  gazeteer_distance          9471 non-null   float64\n",
      " 26  submitted_date             11023 non-null  object \n",
      " 27  created_date               11032 non-null  object \n",
      " 28  last_edited_date           11033 non-null  object \n",
      " 29  longitude                  11033 non-null  float64\n",
      " 30  latitude                   11033 non-null  float64\n",
      "dtypes: float64(8), int64(1), object(22)\n",
      "memory usage: 2.6+ MB\n"
     ]
    }
   ],
   "source": [
    "data.info()"
   ]
  },
  {
   "cell_type": "code",
   "execution_count": 5,
   "metadata": {},
   "outputs": [],
   "source": [
    "dum = pd.get_dummies(data[\"landslide_category\"])\n",
    "new_df = data.join(dum)"
   ]
  },
  {
   "cell_type": "code",
   "execution_count": 6,
   "metadata": {
    "scrolled": true
   },
   "outputs": [],
   "source": [
    "new_df = new_df.select_dtypes(exclude = \"object\")\n",
    "new_df = new_df.drop(columns = [\"event_id\", \"event_time\", \"longitude\", \"latitude\", \"event_import_id\"], axis =1)\n",
    "new_df = new_df.dropna()"
   ]
  },
  {
   "cell_type": "code",
   "execution_count": 7,
   "metadata": {},
   "outputs": [],
   "source": [
    "X = new_df[[\"fatality_count\", \"injury_count\"]]\n",
    "y = new_df.landslide"
   ]
  },
  {
   "cell_type": "code",
   "execution_count": 8,
   "metadata": {},
   "outputs": [],
   "source": [
    "X_train, X_test, y_train, y_test = train_test_split(X, y, train_size=.5)"
   ]
  },
  {
   "cell_type": "code",
   "execution_count": 9,
   "metadata": {},
   "outputs": [],
   "source": [
    "from sklearn.ensemble import RandomForestClassifier\n",
    "from sklearn.metrics import confusion_matrix, classification_report\n",
    "from sklearn.model_selection import GridSearchCV"
   ]
  },
  {
   "cell_type": "code",
   "execution_count": 10,
   "metadata": {},
   "outputs": [],
   "source": [
    "rfc = RandomForestClassifier()\n",
    "\n",
    "params = {\n",
    "    \"n_estimators\": [100, 1000, 1500],\n",
    "    \"criterion\": ['gini', 'entropy'],\n",
    "    \"max_depth\": [None, 1, 5,  10],\n",
    "    \"max_features\": [None, 'auto', 'sqrt', 'log2'],\n",
    "    \"n_jobs\": [-1],\n",
    "    \"random_state\": [1]\n",
    "}"
   ]
  },
  {
   "cell_type": "code",
   "execution_count": 11,
   "metadata": {},
   "outputs": [],
   "source": [
    "grid = GridSearchCV(rfc, params).fit(X_train, y_train)\n",
    "grid_df = pd.DataFrame(grid.cv_results_)"
   ]
  },
  {
   "cell_type": "code",
   "execution_count": 12,
   "metadata": {},
   "outputs": [
    {
     "data": {
      "text/plain": [
       "mean_fit_time           4.53082\n",
       "std_fit_time            1.83082\n",
       "mean_score_time         1.06912\n",
       "std_score_time         0.255957\n",
       "param_criterion            gini\n",
       "param_max_depth              10\n",
       "param_n_estimators         1500\n",
       "param_n_jobs                 -1\n",
       "param_random_state            1\n",
       "split0_test_score       0.68299\n",
       "split1_test_score       0.68299\n",
       "split2_test_score      0.680412\n",
       "split3_test_score      0.687339\n",
       "split4_test_score      0.687339\n",
       "mean_test_score        0.682667\n",
       "std_test_score        0.0119845\n",
       "rank_test_score              90\n",
       "dtype: object"
      ]
     },
     "execution_count": 12,
     "metadata": {},
     "output_type": "execute_result"
    }
   ],
   "source": [
    "best_model = grid_df.loc[:\"mean_test_score\"].max()\n",
    "best_model"
   ]
  },
  {
   "cell_type": "code",
   "execution_count": 13,
   "metadata": {},
   "outputs": [],
   "source": [
    "best_rfc = RandomForestClassifier(\n",
    "    n_estimators = best_model.param_n_estimators,\n",
    "    criterion = best_model.param_criterion,\n",
    "    max_depth = best_model.param_max_depth,\n",
    "    #max_features = best_model.param_max_features,\n",
    "    n_jobs = best_model.param_n_jobs,\n",
    "    random_state = best_model.param_random_state,\n",
    ").fit(X_train, y_train)"
   ]
  },
  {
   "cell_type": "code",
   "execution_count": 14,
   "metadata": {
    "scrolled": true
   },
   "outputs": [
    {
     "data": {
      "image/png": "[encoded data removed]",
      "text/plain": [
       "<Figure size 432x288 with 2 Axes>"
      ]
     },
     "metadata": {
      "needs_background": "light"
     },
     "output_type": "display_data"
    }
   ],
   "source": [
    "cm = confusion_matrix(y, best_rfc.predict(X))\n",
    "\n",
    "sns.heatmap(cm, annot =True, fmt = 'd');"
   ]
  }
 ],
 "metadata": {
  "kernelspec": {
   "display_name": "Python 3",
   "language": "python",
   "name": "python3"
  },
  "language_info": {
   "codemirror_mode": {
    "name": "ipython",
    "version": 3
   },
   "file_extension": ".py",
   "mimetype": "text/x-python",
   "name": "python",
   "nbconvert_exporter": "python",
   "pygments_lexer": "ipython3",
   "version": "3.7.9"
  },
  "notify_time": "5",
  "toc": {
   "base_numbering": 1,
   "nav_menu": {},
   "number_sections": true,
   "sideBar": false,
   "skip_h1_title": true,
   "title_cell": "Table of Contents",
   "title_sidebar": "Contents",
   "toc_cell": true,
   "toc_position": {},
   "toc_section_display": true,
   "toc_window_display": false
  }
 },
 "nbformat": 4,
 "nbformat_minor": 4
}
