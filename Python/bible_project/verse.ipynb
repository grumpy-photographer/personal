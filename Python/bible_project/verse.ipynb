{
 "cells": [
  {
   "cell_type": "code",
   "execution_count": 1,
   "metadata": {},
   "outputs": [],
   "source": [
    "from getbibleverse import verse_lookup\n",
    "\n",
    "import pandas as pd\n",
    "import numpy as np\n",
    "\n",
    "import spacy\n",
    "from spacy.lang.en.stop_words import STOP_WORDS\n",
    "from string import punctuation\n",
    "from heapq import nlargest"
   ]
  },
  {
   "cell_type": "code",
   "execution_count": 2,
   "metadata": {},
   "outputs": [],
   "source": [
    "def store_verses(*passage):\n",
    "\n",
    "    # create empty df to store verses\n",
    "    verses_df = pd.DataFrame(columns=[\"bookname\", \"chapter\", \"verse\", \"text\"])\n",
    "    df = pd.DataFrame([])\n",
    "\n",
    "    # create empty list to store input separately\n",
    "    books = []\n",
    "    chapters = []\n",
    "    verses = []\n",
    "\n",
    "    # break down input into separate lists\n",
    "    for entry in passage:\n",
    "        spaces = 0\n",
    "        for i in range(0, len(entry)):\n",
    "            if entry[i] == \" \":\n",
    "                spaces += 1\n",
    "        \n",
    "        if spaces == 1:\n",
    "            book, ch_ver = entry.split(\" \")\n",
    "            chapter, verse_range = ch_ver.split(\":\")\n",
    "        elif spaces == 2:\n",
    "            book_num, book, ch_ver = entry.split(\" \")\n",
    "            book = book_num + \" \"  + book\n",
    "            chapter, verse_range = ch_ver.split(\":\")\n",
    "        else: \n",
    "            ValueError\n",
    "\n",
    "        books.append(book)\n",
    "        chapters.append(chapter)\n",
    "        verses.append(verse_range)\n",
    "\n",
    "    for i in range(len(books)):\n",
    "        data = pd.json_normalize(verse_lookup(\n",
    "            books[i], chapters[i], verses[i]))\n",
    "        verses_df = pd.concat([verses_df, data], ignore_index=True)\n",
    "\n",
    "    verses_df['book_chapter'] = verses_df['bookname'] + \" \" + verses_df['chapter']\n",
    "\n",
    "    df['book_chapter'] = verses_df[\"book_chapter\"].unique()\n",
    "    df['verses'] =[i for i in verses]\n",
    "    df['location'] = df['book_chapter'] + \":\" + df['verses']\n",
    "\n",
    "    verses_df = verses_df.groupby(['bookname', 'chapter'], sort=False).sum().reset_index()\n",
    "\n",
    "    df['text'] = verses_df['text']\n",
    "\n",
    "    text = \"\".join(df['text'])\n",
    "\n",
    "    return text"
   ]
  },
  {
   "cell_type": "code",
   "execution_count": 3,
   "metadata": {},
   "outputs": [
    {
     "data": {
      "text/plain": [
       "'A person plans his course, but the Lord directs his steps. Do not be deceived. God will not be made a fool. For a person will reap what he sows, because the person who sows to his own flesh will reap corruption from the flesh, but the one who sows to the Spirit will reap eternal life from the Spirit. Whatever you are doing, work at it with enthusiasm, as to the Lord and not for people, For through the Spirit, by faith, we wait expectantly for the hope of righteousness. A psalm of David. The Lord is my shepherd, I lack nothing. '"
      ]
     },
     "execution_count": 3,
     "metadata": {},
     "output_type": "execute_result"
    }
   ],
   "source": [
    "store_verses(\"Proverbs 16:9\", \"Galatians 6:7-8\", \"Colossians 3:23\", \"Galatians 5:5\", \"Psalms 23:1\")"
   ]
  },
  {
   "cell_type": "code",
   "execution_count": 9,
   "metadata": {},
   "outputs": [
    {
     "data": {
      "text/plain": [
       "'\\n    nlp = spacy.load(\"en_core_web_sm\")\\n\\n    text = nlp(data[0])\\n\\n    word_dict = {}\\n    for word in text:\\n        word = word.text.lower()\\n        if word in word_dict:\\n            word_dict[word] += 1\\n        else:\\n            word_dict[word] = 1\\n\\n    sents = []\\n    sent_score = 0\\n    for index, sent in enumerate(text.sents):\\n        for word in sent:\\n            word = word.text.lower()\\n            sent_score += word_dict[word]\\n        sents.append((sent.text.replace(\"\\n\", \" \"), sent_score/len(sent), index)) \\n\\n    sents = sorted(sents, key=lambda x: -x[1])\\n    sents = sorted(sents[:sum_lgth], key=lambda x: x[2])\\n\\n    summary_text = \"\"\\n    for sent in sents:\\n        summary_text += sent[0] + \" \"\\n\\n    return summary_text'"
      ]
     },
     "execution_count": 9,
     "metadata": {},
     "output_type": "execute_result"
    }
   ],
   "source": [
    "def summary(per, *data):\n",
    "    nlp = spacy.load('en_core_web_sm')\n",
    "    doc= nlp(data[0])\n",
    "    tokens=[token.text for token in doc]\n",
    "    word_frequencies={}\n",
    "    for word in doc:\n",
    "        if word.text.lower() not in list(STOP_WORDS):\n",
    "            if word.text.lower() not in punctuation:\n",
    "                if word.text not in word_frequencies.keys():\n",
    "                    word_frequencies[word.text] = 1\n",
    "                else:\n",
    "                    word_frequencies[word.text] += 1\n",
    "    max_frequency=max(word_frequencies.values())\n",
    "    for word in word_frequencies.keys():\n",
    "        word_frequencies[word]=word_frequencies[word]/max_frequency\n",
    "    sentence_tokens= [sent for sent in doc.sents]\n",
    "    sentence_scores = {}\n",
    "    for sent in sentence_tokens:\n",
    "        for word in sent:\n",
    "            if word.text.lower() in word_frequencies.keys():\n",
    "                if sent not in sentence_scores.keys():                            \n",
    "                    sentence_scores[sent]=word_frequencies[word.text.lower()]\n",
    "                else:\n",
    "                    sentence_scores[sent]+=word_frequencies[word.text.lower()]\n",
    "    select_length=int(len(sentence_tokens)*per)\n",
    "    summary=nlargest(select_length, sentence_scores,key=sentence_scores.get)\n",
    "    final_summary=[word.text for word in summary]\n",
    "    summary=' '.join(final_summary)\n",
    "    return summary\n",
    "\n",
    "\n",
    "\n",
    "\"\"\"\n",
    "    nlp = spacy.load(\"en_core_web_sm\")\n",
    "\n",
    "    text = nlp(data[0])\n",
    "\n",
    "    word_dict = {}\n",
    "    for word in text:\n",
    "        word = word.text.lower()\n",
    "        if word in word_dict:\n",
    "            word_dict[word] += 1\n",
    "        else:\n",
    "            word_dict[word] = 1\n",
    "\n",
    "    sents = []\n",
    "    sent_score = 0\n",
    "    for index, sent in enumerate(text.sents):\n",
    "        for word in sent:\n",
    "            word = word.text.lower()\n",
    "            sent_score += word_dict[word]\n",
    "        sents.append((sent.text.replace(\"\\n\", \" \"), sent_score/len(sent), index)) \n",
    "\n",
    "    sents = sorted(sents, key=lambda x: -x[1])\n",
    "    sents = sorted(sents[:sum_lgth], key=lambda x: x[2])\n",
    "\n",
    "    summary_text = \"\"\n",
    "    for sent in sents:\n",
    "        summary_text += sent[0] + \" \"\n",
    "\n",
    "    return summary_text\"\"\""
   ]
  },
  {
   "cell_type": "code",
   "execution_count": 11,
   "metadata": {},
   "outputs": [
    {
     "data": {
      "text/plain": [
       "'For a person will reap what he sows, because the person who sows to his own flesh will reap corruption from the flesh, but the one who sows to the Spirit will reap eternal life from the Spirit. Whatever you are doing, work at it with enthusiasm, as to the Lord and not for people, For through the Spirit, by faith, we wait expectantly for the hope of righteousness. A person plans his course, but the Lord directs his steps. The Lord is my shepherd, I lack nothing.'"
      ]
     },
     "execution_count": 11,
     "metadata": {},
     "output_type": "execute_result"
    }
   ],
   "source": [
    "summary(0.65, store_verses(\"Proverbs 16:9\", \"Galatians 6:7-8\", \"Colossians 3:23\", \"Galatians 5:5\", \"Psalms 23:1\"))"
   ]
  },
  {
   "cell_type": "code",
   "execution_count": null,
   "metadata": {},
   "outputs": [],
   "source": []
  }
 ],
 "metadata": {
  "kernelspec": {
   "display_name": "Python 3 (ipykernel)",
   "language": "python",
   "name": "python3"
  },
  "language_info": {
   "codemirror_mode": {
    "name": "ipython",
    "version": 3
   },
   "file_extension": ".py",
   "mimetype": "text/x-python",
   "name": "python",
   "nbconvert_exporter": "python",
   "pygments_lexer": "ipython3",
   "version": "3.10.8"
  },
  "vscode": {
   "interpreter": {
    "hash": "9f0d103aebe82dfbb47ec724a2ca4fd3dcb0c9038207abb072b7913218171667"
   }
  }
 },
 "nbformat": 4,
 "nbformat_minor": 2
}
