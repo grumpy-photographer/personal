{
 "cells": [
  {
   "cell_type": "markdown",
   "metadata": {},
   "source": [
    "# *Field* Operations\n",
    "\n",
    "- [**Getting Rid of Non-Numeric Field Junk: Dollar Signs, commas, etc...**](#Getting-Rid-of-Non-Numeric-Field-Junk)    \n",
    "   \n",
    "\n",
    "- [**Changing Data Type**](#Changing-Data-Type)  \n",
    "    - string to int  \n",
    "    - string to float  \n",
    "    - string to date  \n",
    "   \n",
    "   \n",
    "- [Stripping Extra Spaces](#Stripping-Extra-Spaces)  \n",
    "\n",
    "\n",
    "- [**Splitting Columns**](#Splitting-Columns)  \n"
   ]
  },
  {
   "cell_type": "code",
   "execution_count": null,
   "metadata": {},
   "outputs": [],
   "source": [
    "import pandas as pd\n",
    "import os\n",
    "import pickle "
   ]
  },
  {
   "cell_type": "markdown",
   "metadata": {},
   "source": [
    "# Getting Rid of Non-Numeric Field Junk"
   ]
  },
  {
   "cell_type": "code",
   "execution_count": null,
   "metadata": {},
   "outputs": [],
   "source": [
    "# Hardcode a dataframe\n",
    "df_Shoes = pd.DataFrame(\n",
    "    [\n",
    "    [1,'2017-01-01','Boots','7 (US)', '$25,000'],\n",
    "    [2,'2017-01-01','Boots','4 (US)', '$35,000'],\n",
    "    [3,'2017-01-01','Boots','6 (US)', '$21,000'],\n",
    "    ],\n",
    "    columns=['OrderID','Order Date','Product','Size','Price'])\n",
    "\n",
    "df_Shoes"
   ]
  },
  {
   "cell_type": "code",
   "execution_count": null,
   "metadata": {},
   "outputs": [],
   "source": [
    "# Get rid of non-numeric junk in the Price field\n",
    "df_Shoes['Price'] = df_Shoes['Price'].str.replace('$', '')\n",
    "df_Shoes['Price'] = df_Shoes['Price'].str.replace(',', '')\n",
    "\n",
    "df_Shoes['Price'].head()"
   ]
  },
  {
   "cell_type": "code",
   "execution_count": null,
   "metadata": {},
   "outputs": [],
   "source": [
    "# Get rid of non-numeric junk in the Size field\n",
    "df_Shoes['Size'] = df_Shoes['Size'].str.replace('(', '')\n",
    "df_Shoes['Size'] = df_Shoes['Size'].str.replace(')', '')\n",
    "df_Shoes['Size'] = df_Shoes['Size'].str.replace('US', '')\n",
    "\n",
    "df_Shoes['Size'].head()"
   ]
  },
  {
   "cell_type": "markdown",
   "metadata": {},
   "source": [
    "# Changing Data Type"
   ]
  },
  {
   "cell_type": "code",
   "execution_count": null,
   "metadata": {},
   "outputs": [],
   "source": [
    "# Check data types\n",
    "# Note the data type for Price and Size are objects, which means pandas thinks they are strings\n",
    "df_Shoes.dtypes"
   ]
  },
  {
   "cell_type": "markdown",
   "metadata": {},
   "source": [
    "## Changing a string to an int"
   ]
  },
  {
   "cell_type": "code",
   "execution_count": null,
   "metadata": {},
   "outputs": [],
   "source": [
    "# Change the data type of Size from string to int\n",
    "df_Shoes['Size'] = pd.to_numeric(df_Shoes['Size']).astype(int)\n",
    "\n",
    "df_Shoes.dtypes"
   ]
  },
  {
   "cell_type": "markdown",
   "metadata": {},
   "source": [
    "## Changing a string to a float"
   ]
  },
  {
   "cell_type": "code",
   "execution_count": null,
   "metadata": {},
   "outputs": [],
   "source": [
    "# Change the data type of Price to float\n",
    "# Convert it to numeric and then specify float \n",
    "df_Shoes['Price'] = pd.to_numeric(df_Shoes['Price']).astype(float)\n",
    "df_Shoes.dtypes"
   ]
  },
  {
   "cell_type": "markdown",
   "metadata": {},
   "source": [
    "## string to date"
   ]
  },
  {
   "cell_type": "code",
   "execution_count": null,
   "metadata": {},
   "outputs": [],
   "source": [
    "# Change Order Date from string to date\n",
    "df_Shoes['Order Date'] = pd.to_datetime(df_Shoes['Order Date'])\n",
    "\n",
    "df_Shoes.dtypes"
   ]
  },
  {
   "cell_type": "code",
   "execution_count": null,
   "metadata": {
    "scrolled": true
   },
   "outputs": [],
   "source": [
    "df_Shoes.head()"
   ]
  },
  {
   "cell_type": "markdown",
   "metadata": {},
   "source": [
    "# Stripping Extra Spaces"
   ]
  },
  {
   "cell_type": "code",
   "execution_count": null,
   "metadata": {},
   "outputs": [],
   "source": [
    "# Hardcode a dataframe \n",
    "df_employees = pd.DataFrame(\n",
    "    [\n",
    "    [1699,'  Robinett, David  ','  david22@adventure-works.com  ', '(827) 525-0100', '06-05-2010', '$80,950'], \n",
    "    [1700,'  Robinson, Rebecca  ','  rebecca5 @adventure-works.com  ', '(829) 525-0101', '05-01-2015', '$70,950'],\n",
    "    [1701,'     Robinson, Dorothy    ','  dorothy3@adventure-works.com    ', '(828) 555-0102', '03-01-2017', '$50,00'],\n",
    "    ], \n",
    "    columns=['BusinessEntityID', 'EmployeeName','EmailAddress', 'PhoneNumber', 'StartDate', 'CurrentSalary'])\n",
    "  \n",
    "df_employees"
   ]
  },
  {
   "cell_type": "code",
   "execution_count": null,
   "metadata": {},
   "outputs": [],
   "source": [
    "# Show the 'before'\n",
    "df_employees['EmployeeName']"
   ]
  },
  {
   "cell_type": "code",
   "execution_count": null,
   "metadata": {},
   "outputs": [],
   "source": [
    "# Strip extra spaces from Product column\n",
    "df_employees['EmployeeName'] = df_employees['EmployeeName'].str.strip()"
   ]
  },
  {
   "cell_type": "code",
   "execution_count": null,
   "metadata": {},
   "outputs": [],
   "source": [
    "# Show the 'after'\n",
    "df_employees['EmployeeName']"
   ]
  },
  {
   "cell_type": "markdown",
   "metadata": {},
   "source": [
    "# Splitting Columns  \n",
    "The steps involved are:  \n",
    "1. Split the column.  The two new columns will be in a new temporary dataframe\n",
    "2. Give names to the two new columns  \n",
    "3. Create a new Dataframe by concatenating the new temp dataframe to the existing dataframe - **Vertically**!  \n",
    "  1. This means that instead of adding it 'below' the existing dataframe, we add it to the right side of the existing dataframe!  \n",
    "  2. So the number of rows doesn't/shouldn't change, but the number of columns will be two greater than the existing dataframe."
   ]
  },
  {
   "cell_type": "code",
   "execution_count": null,
   "metadata": {},
   "outputs": [],
   "source": [
    "# Display the column names\n",
    "df_employees.columns"
   ]
  },
  {
   "cell_type": "markdown",
   "metadata": {},
   "source": [
    "### 1. Split the CustomerName column into a temp dataframe"
   ]
  },
  {
   "cell_type": "code",
   "execution_count": null,
   "metadata": {},
   "outputs": [],
   "source": [
    "# Note: The 1 causes to split only on the first occurence\n",
    "df_temp = df_employees['EmployeeName'].str.split(',', 1, expand=True) \n",
    "df_temp.head()"
   ]
  },
  {
   "cell_type": "markdown",
   "metadata": {},
   "source": [
    "### 2. Give names to the two columns in the temp dataframe"
   ]
  },
  {
   "cell_type": "code",
   "execution_count": null,
   "metadata": {},
   "outputs": [],
   "source": [
    "df_temp.columns = ['LastName', 'FirstName']\n",
    "df_temp.head()"
   ]
  },
  {
   "cell_type": "markdown",
   "metadata": {},
   "source": [
    "### 3. Concatenate the new dataframe with the existing dataframe"
   ]
  },
  {
   "cell_type": "code",
   "execution_count": null,
   "metadata": {},
   "outputs": [],
   "source": [
    "df_employees2 = pd.concat([df_employees, df_temp], axis='columns')\n",
    "df_employees2.head()"
   ]
  }
 ],
 "metadata": {
  "kernelspec": {
   "display_name": "Python 3",
   "language": "python",
   "name": "python3"
  },
  "language_info": {
   "codemirror_mode": {
    "name": "ipython",
    "version": 3
   },
   "file_extension": ".py",
   "mimetype": "text/x-python",
   "name": "python",
   "nbconvert_exporter": "python",
   "pygments_lexer": "ipython3",
   "version": "3.7.4"
  }
 },
 "nbformat": 4,
 "nbformat_minor": 4
}
