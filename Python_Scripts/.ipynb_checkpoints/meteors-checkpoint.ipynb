{
 "cells": [
  {
   "cell_type": "code",
   "execution_count": 1,
   "metadata": {},
   "outputs": [],
   "source": [
    "import pandas as pd\n",
    "import seaborn as sns\n",
    "from sklearn.model_selection import train_test_split"
   ]
  },
  {
   "cell_type": "code",
   "execution_count": 2,
   "metadata": {
    "scrolled": false
   },
   "outputs": [],
   "source": [
    "data = pd.read_csv(\"https://data.nasa.gov/api/views/dd9e-wu2v/rows.csv?accessType=DOWNLOAD\")"
   ]
  },
  {
   "cell_type": "code",
   "execution_count": 3,
   "metadata": {},
   "outputs": [],
   "source": [
    "data.columns = data.columns.str.strip()"
   ]
  },
  {
   "cell_type": "code",
   "execution_count": 4,
   "metadata": {
    "scrolled": false
   },
   "outputs": [
    {
     "name": "stdout",
     "output_type": "stream",
     "text": [
      "<class 'pandas.core.frame.DataFrame'>\n",
      "RangeIndex: 11033 entries, 0 to 11032\n",
      "Data columns (total 31 columns):\n",
      " #   Column                     Non-Null Count  Dtype  \n",
      "---  ------                     --------------  -----  \n",
      " 0   source_name                11033 non-null  object \n",
      " 1   source_link                10187 non-null  object \n",
      " 2   event_id                   11033 non-null  int64  \n",
      " 3   event_date                 11033 non-null  object \n",
      " 4   event_time                 0 non-null      float64\n",
      " 5   event_title                11033 non-null  object \n",
      " 6   event_description          10171 non-null  object \n",
      " 7   location_description       10931 non-null  object \n",
      " 8   location_accuracy          11031 non-null  object \n",
      " 9   landslide_category         11032 non-null  object \n",
      " 10  landslide_trigger          11010 non-null  object \n",
      " 11  landslide_size             11024 non-null  object \n",
      " 12  landslide_setting          10964 non-null  object \n",
      " 13  fatality_count             9648 non-null   float64\n",
      " 14  injury_count               5359 non-null   float64\n",
      " 15  storm_name                 577 non-null    object \n",
      " 16  photo_link                 1496 non-null   object \n",
      " 17  notes                      317 non-null    object \n",
      " 18  event_import_source        9470 non-null   object \n",
      " 19  event_import_id            9471 non-null   float64\n",
      " 20  country_name               9471 non-null   object \n",
      " 21  country_code               9469 non-null   object \n",
      " 22  admin_division_name        9396 non-null   object \n",
      " 23  admin_division_population  9471 non-null   float64\n",
      " 24  gazeteer_closest_point     9470 non-null   object \n",
      " 25  gazeteer_distance          9471 non-null   float64\n",
      " 26  submitted_date             11023 non-null  object \n",
      " 27  created_date               11032 non-null  object \n",
      " 28  last_edited_date           11033 non-null  object \n",
      " 29  longitude                  11033 non-null  float64\n",
      " 30  latitude                   11033 non-null  float64\n",
      "dtypes: float64(8), int64(1), object(22)\n",
      "memory usage: 2.6+ MB\n"
     ]
    }
   ],
   "source": [
    "data.info()"
   ]
  },
  {
   "cell_type": "code",
   "execution_count": 5,
   "metadata": {},
   "outputs": [],
   "source": [
    "dum = pd.get_dummies(data[\"landslide_category\"])\n",
    "new_df = data.join(dum)"
   ]
  },
  {
   "cell_type": "code",
   "execution_count": 6,
   "metadata": {
    "scrolled": true
   },
   "outputs": [],
   "source": [
    "new_df = new_df.select_dtypes(exclude = \"object\")\n",
    "new_df = new_df.drop(columns = [\"event_id\", \"event_time\", \"longitude\", \"latitude\", \"event_import_id\"], axis =1)\n",
    "new_df = new_df.dropna()"
   ]
  },
  {
   "cell_type": "code",
   "execution_count": 7,
   "metadata": {},
   "outputs": [],
   "source": [
    "X = new_df[[\"fatality_count\", \"injury_count\"]]\n",
    "y = new_df.landslide"
   ]
  },
  {
   "cell_type": "code",
   "execution_count": 8,
   "metadata": {},
   "outputs": [],
   "source": [
    "X_train, X_test, y_train, y_test = train_test_split(X, y, train_size=.5)"
   ]
  },
  {
   "cell_type": "code",
   "execution_count": 9,
   "metadata": {},
   "outputs": [],
   "source": [
    "from sklearn.ensemble import RandomForestClassifier\n",
    "from sklearn.metrics import confusion_matrix, classification_report\n",
    "from sklearn.model_selection import GridSearchCV"
   ]
  },
  {
   "cell_type": "code",
   "execution_count": 10,
   "metadata": {},
   "outputs": [],
   "source": [
    "rfc = RandomForestClassifier()\n",
    "\n",
    "params = {\n",
    "    \"n_estimators\": [100, 1000, 1500, 2000, 2500, 3000],\n",
    "    \"criterion\": ['gini', 'entropy'],\n",
    "    \"max_depth\": [None, 1, 5,  10, 20, 25, 30],\n",
    "    \"max_features\": [None, 'auto', 'sqrt', 'log2'],\n",
    "    \"n_jobs\": [-1],\n",
    "    \"random_state\": [1]\n",
    "}"
   ]
  },
  {
   "cell_type": "code",
   "execution_count": null,
   "metadata": {},
   "outputs": [],
   "source": [
    "grid = GridSearchCV(rfc, params).fit(X_train, y_train)\n",
    "grid_df = pd.DataFrame(grid.cv_results_)"
   ]
  },
  {
   "cell_type": "code",
   "execution_count": null,
   "metadata": {},
   "outputs": [],
   "source": [
    "best_model = grid_df.loc[:\"mean_test_score\"].max()\n",
    "best_model"
   ]
  },
  {
   "cell_type": "code",
   "execution_count": null,
   "metadata": {},
   "outputs": [],
   "source": [
    "best_rfc = RandomForestClassifier(\n",
    "    n_estimators = best_model.param_n_estimators,\n",
    "    criterion = best_model.param_criterion,\n",
    "    max_depth = best_model.param_max_depth,\n",
    "    #max_features = best_model.param_max_features,\n",
    "    n_jobs = best_model.param_n_jobs,\n",
    "    random_state = best_model.param_random_state,\n",
    ").fit(X_train, y_train)"
   ]
  },
  {
   "cell_type": "code",
   "execution_count": null,
   "metadata": {
    "scrolled": true
   },
   "outputs": [],
   "source": [
    "cm = confusion_matrix(y, best_rfc.predict(X))\n",
    "\n",
    "sns.heatmap(cm, annot =True, fmt = 'd');"
   ]
  }
 ],
 "metadata": {
  "kernelspec": {
   "display_name": "Python 3",
   "language": "python",
   "name": "python3"
  },
  "language_info": {
   "codemirror_mode": {
    "name": "ipython",
    "version": 3
   },
   "file_extension": ".py",
   "mimetype": "text/x-python",
   "name": "python",
   "nbconvert_exporter": "python",
   "pygments_lexer": "ipython3",
   "version": "3.8.6"
  },
  "notify_time": "30",
  "toc": {
   "base_numbering": 1,
   "nav_menu": {},
   "number_sections": true,
   "sideBar": false,
   "skip_h1_title": true,
   "title_cell": "Table of Contents",
   "title_sidebar": "Contents",
   "toc_cell": true,
   "toc_position": {},
   "toc_section_display": true,
   "toc_window_display": false
  }
 },
 "nbformat": 4,
 "nbformat_minor": 4
}
