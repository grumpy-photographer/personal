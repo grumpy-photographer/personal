{
 "cells": [
  {
   "cell_type": "markdown",
   "metadata": {
    "slideshow": {
     "slide_type": "slide"
    }
   },
   "source": [
    "# Ex 1.2 Cloning a Public Repo of Jupyter Notebooks  \n",
    "  \n",
    " - [**In Class**](#In-Class)  \n",
    "  - [Negative or Positive Number?](#Negative-or-Positive-Number?)  \n",
    "\n",
    "- [**Exercise**](#Exercise)  \n",
    "  - [Part 1: Eligible to Graduate](#Part-1:-Eligible-to-Graduate-Check)  \n",
    "  - [Part 2: Temperature Converter](#Part-2:-Temperature-Converter)   \n",
    "  - [Part 3: Celsius to Fahrenheit Converter](#Part-3:-Celsius-to-Fahrenheit-Converter) \n",
    "  - [Part 4: Kelvin to Fahrenheit Converter](#Part-4:-Kelvin-to-Fahrenheit-Converter) \n",
    "  - [Part 5: Monthly Sales](#Part-5:-Monthly-Sales)  \n",
    "  \n",
    " \n",
    "  "
   ]
  },
  {
   "cell_type": "markdown",
   "metadata": {},
   "source": [
    "# In Class"
   ]
  },
  {
   "cell_type": "markdown",
   "metadata": {},
   "source": [
    "### Negative or Positive Number?\n",
    "\n",
    "1. In the cell below, declare a variable named user_value and assign it either a postivie or negative number  \n",
    "2. Determine and then display whether it is a postive number or a negative number.  \n",
    "  1. Assume the number is an integer"
   ]
  },
  {
   "cell_type": "code",
   "execution_count": null,
   "metadata": {},
   "outputs": [],
   "source": [
    "# Prompt the user for a value\n"
   ]
  },
  {
   "cell_type": "code",
   "execution_count": null,
   "metadata": {},
   "outputs": [],
   "source": [
    "# Determine and then display if it is a positive or negative number\n"
   ]
  },
  {
   "cell_type": "markdown",
   "metadata": {},
   "source": [
    "# Exercise"
   ]
  },
  {
   "cell_type": "markdown",
   "metadata": {},
   "source": [
    "# Part 1: Eligible to Graduate Check  \n",
    "1. Declare a variable named credits and assign it a value for completed credit hours \n",
    "2. Declare a variable named GPA and assign it a value for overall GPA \n",
    "3. They are only eligible to graduate if their credit hours are at least 120 **and** their overall GPA is at least 2.0\n",
    "4. Display whether they are eligible to graduate or not"
   ]
  },
  {
   "cell_type": "code",
   "execution_count": null,
   "metadata": {},
   "outputs": [],
   "source": [
    "\n",
    "\n"
   ]
  },
  {
   "cell_type": "markdown",
   "metadata": {
    "slideshow": {
     "slide_type": "slide"
    }
   },
   "source": [
    "# Part 2: Temperature Converter \n",
    "- Declare a variable named **temp_fahr** and assign it a value of 212   \n",
    "- Write the code to calculate the equivalent Celsius temperature and stores that value in a variable named **temp_cels**  \n",
    "  - Do a google search to get that formula!\n",
    "- Display both values to the user with info about which is which"
   ]
  },
  {
   "cell_type": "code",
   "execution_count": null,
   "metadata": {},
   "outputs": [],
   "source": [
    "# Declare a variable named temp_fahr and assign it a value of 212  \n"
   ]
  },
  {
   "cell_type": "code",
   "execution_count": null,
   "metadata": {},
   "outputs": [],
   "source": [
    "# Convert to Celsius value\n"
   ]
  },
  {
   "cell_type": "code",
   "execution_count": null,
   "metadata": {},
   "outputs": [],
   "source": [
    "# Display both values to the user\n"
   ]
  },
  {
   "cell_type": "markdown",
   "metadata": {},
   "source": [
    "# Part 3: Celsius to Fahrenheit Converter \n",
    "- Using Part 2 as a model, create the code cells to do the following:  \n",
    "  - Hard code a Celsius temperature value of 100 \n",
    "  - Calculate the equivalent Fahrenheit temperature value  \n",
    "  - Display both values with clear descriptions of what they are"
   ]
  },
  {
   "cell_type": "markdown",
   "metadata": {},
   "source": [
    "# Part 4: Kelvin to Fahrenheit Converter \n",
    "- Hard code a Kelvin temperature value of 0 \n",
    "- Calculate the equivalent Fahrenheit temperature value  \n",
    "- Display both values with clear descriptions of what they are"
   ]
  },
  {
   "cell_type": "markdown",
   "metadata": {},
   "source": [
    "# Part 5: Monthly Sales\n",
    "1. Declare a List named **monthly_sales** and fill it with the following values:  \n",
    "3,000  \n",
    "10,000  \n",
    "15,000  \n",
    "20,000  \n",
    "20,000  \n",
    "25,000  \n",
    "22,000  \n",
    "80,000  \n",
    "20,000  \n",
    "20,000  \n",
    "40,000  \n",
    "60,000  \n",
    "\n",
    "2. Display the filled List  \n",
    "3. Sum the values in the List and assign the value to a variable named *annual_sales*. \n",
    "4. Calculate the average and display it \n",
    "\n",
    "\n",
    "- **Notes**:  \n",
    "  - I included commas above to make the values more readable, but don't include them in your List values in your code. \n",
    "  - For each of the three steps above:\n",
    "    - Create a Markdown cell with the step description in it  \n",
    "    - Create a Code cell directly below it which accomplishes that step "
   ]
  },
  {
   "cell_type": "code",
   "execution_count": null,
   "metadata": {},
   "outputs": [],
   "source": [
    "# 1. Create a List named monthly_sales\n",
    "\n",
    "\n",
    "# 2. Display the filled List\n"
   ]
  },
  {
   "cell_type": "code",
   "execution_count": null,
   "metadata": {},
   "outputs": [],
   "source": [
    "# 3. Sum the values in the List and assign the value to a variable named *annual_sales*. \n",
    "\n",
    "# Intialize annual_sales variable\n",
    "\n",
    "\n",
    "# Loop through list to sum to annual sales\n",
    "\n",
    "   \n",
    "# Print the result\n"
   ]
  },
  {
   "cell_type": "code",
   "execution_count": null,
   "metadata": {},
   "outputs": [],
   "source": [
    "# 4. Calculate the average and display it  \n"
   ]
  }
 ],
 "metadata": {
  "kernelspec": {
   "display_name": "Python 3",
   "language": "python",
   "name": "python3"
  },
  "language_info": {
   "codemirror_mode": {
    "name": "ipython",
    "version": 3
   },
   "file_extension": ".py",
   "mimetype": "text/x-python",
   "name": "python",
   "nbconvert_exporter": "python",
   "pygments_lexer": "ipython3",
   "version": "3.7.4"
  }
 },
 "nbformat": 4,
 "nbformat_minor": 4
}
