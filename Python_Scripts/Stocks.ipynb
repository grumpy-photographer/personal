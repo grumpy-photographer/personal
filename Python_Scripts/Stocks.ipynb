{
 "cells": [
  {
   "cell_type": "code",
   "execution_count": 1,
   "metadata": {
    "ExecuteTime": {
     "end_time": "2020-09-17T15:25:14.884150Z",
     "start_time": "2020-09-17T15:25:10.431737Z"
    }
   },
   "outputs": [
    {
     "ename": "ModuleNotFoundError",
     "evalue": "No module named 'pandas_bokeh'",
     "output_type": "error",
     "traceback": [
      "\u001b[1;31m---------------------------------------------------------------------------\u001b[0m",
      "\u001b[1;31mModuleNotFoundError\u001b[0m                       Traceback (most recent call last)",
      "\u001b[1;32m<ipython-input-1-04712855564e>\u001b[0m in \u001b[0;36m<module>\u001b[1;34m\u001b[0m\n\u001b[0;32m      4\u001b[0m \u001b[1;32mimport\u001b[0m \u001b[0mnumpy\u001b[0m \u001b[1;32mas\u001b[0m \u001b[0mnp\u001b[0m\u001b[1;33m\u001b[0m\u001b[1;33m\u001b[0m\u001b[0m\n\u001b[0;32m      5\u001b[0m \u001b[1;33m\u001b[0m\u001b[0m\n\u001b[1;32m----> 6\u001b[1;33m \u001b[1;32mimport\u001b[0m \u001b[0mpandas_bokeh\u001b[0m\u001b[1;33m\u001b[0m\u001b[1;33m\u001b[0m\u001b[0m\n\u001b[0m\u001b[0;32m      7\u001b[0m \u001b[1;32mimport\u001b[0m \u001b[0mdatetime\u001b[0m \u001b[1;32mas\u001b[0m \u001b[0mdt\u001b[0m\u001b[1;33m\u001b[0m\u001b[1;33m\u001b[0m\u001b[0m\n",
      "\u001b[1;31mModuleNotFoundError\u001b[0m: No module named 'pandas_bokeh'"
     ]
    }
   ],
   "source": [
    "import matplotlib.pyplot as plt\n",
    "import pandas as pd\n",
    "\n",
    "import numpy as np\n",
    "\n",
    "import pandas_bokeh\n",
    "import datetime as dt"
   ]
  },
  {
   "cell_type": "code",
   "execution_count": null,
   "metadata": {
    "ExecuteTime": {
     "end_time": "2020-09-17T15:25:19.444429Z",
     "start_time": "2020-09-17T15:25:14.890184Z"
    }
   },
   "outputs": [],
   "source": [
    "import chart_studio.plotly as py\n",
    "import plotly.graph_objs as go\n",
    "import chart_studio\n",
    "from plotly.offline import download_plotlyjs, init_notebook_mode, plot, iplot\n",
    "import cufflinks as cf\n",
    "\n",
    "cf.set_config_file(offline=True)"
   ]
  },
  {
   "cell_type": "code",
   "execution_count": null,
   "metadata": {
    "ExecuteTime": {
     "end_time": "2020-09-17T15:25:19.462286Z",
     "start_time": "2020-09-17T15:25:19.452386Z"
    }
   },
   "outputs": [],
   "source": [
    "# Start for Stock series:\n",
    "start = dt.datetime(1980, 1, 1)\n",
    "\n",
    "# End of Stock series:\n",
    "end = dt.datetime(2020, 12, 31)"
   ]
  },
  {
   "cell_type": "markdown",
   "metadata": {},
   "source": [
    "# DOW 30 Companies"
   ]
  },
  {
   "cell_type": "code",
   "execution_count": null,
   "metadata": {
    "ExecuteTime": {
     "end_time": "2020-09-17T15:26:36.438200Z",
     "start_time": "2020-09-17T15:25:19.469941Z"
    },
    "scrolled": true
   },
   "outputs": [],
   "source": [
    "stocks_to_retrieve = [\n",
    "    \"MMM\",\n",
    "    \"AXP\",\n",
    "    \"AAPL\",\n",
    "    \"BA\",\n",
    "    \"CAT\",\n",
    "    \"CVX\",\n",
    "    \"CSCO\",\n",
    "    \"KO\",\n",
    "    \"DIS\",\n",
    "    \"DOW\",\n",
    "    \"XOM\",\n",
    "    \"GS\",\n",
    "    \"HD\",\n",
    "    \"IBM\",\n",
    "    \"INTC\",\n",
    "    \"JNJ\",\n",
    "    \"JPM\",\n",
    "    \"MCD\",\n",
    "    \"MRK\",\n",
    "    \"MSFT\",\n",
    "    \"NKE\",\n",
    "    \"PFE\",\n",
    "    \"PG\",\n",
    "    \"TRV\",\n",
    "    \"UTX\",\n",
    "    \"UNH\",\n",
    "    \"VZ\",\n",
    "    \"V\",\n",
    "    \"WMT\",\n",
    "    \"WBA\",\n",
    "]\n",
    "df = web.DataReader(stocks_to_retrieve, \"yahoo\", start, end)\n",
    "df_closing = df[\"Close\"]\n",
    "\n",
    "df_closing.to_csv(\"../Data/closing_stocks.csv\")\n",
    "\n",
    "df_closing.iplot(kind=\"line\", title=\"DOW 30 Companies Close: 01/1980-09/2020\")"
   ]
  },
  {
   "cell_type": "code",
   "execution_count": null,
   "metadata": {
    "ExecuteTime": {
     "end_time": "2020-09-17T15:27:05.448978Z",
     "start_time": "2020-09-17T15:26:36.451248Z"
    },
    "scrolled": false
   },
   "outputs": [],
   "source": [
    "df_closing.plot_bokeh(\n",
    "    figsize=(1900, 1250),\n",
    "    title=\"DOW 30 Companies 01/1980-09/2020\",\n",
    "    xlabel=\"Date\",\n",
    "    ylabel=\"DOW 30 Companies\",\n",
    "    toolbar_location=None,\n",
    "    panning=False,\n",
    "    zooming=False,\n",
    ")"
   ]
  },
  {
   "cell_type": "markdown",
   "metadata": {},
   "source": [
    "# DJIA"
   ]
  },
  {
   "cell_type": "code",
   "execution_count": null,
   "metadata": {
    "ExecuteTime": {
     "end_time": "2020-09-17T15:27:08.751131Z",
     "start_time": "2020-09-17T15:27:05.453979Z"
    }
   },
   "outputs": [],
   "source": [
    "stocks_to_retrieve = [\"DJIA\"]\n",
    "df = web.DataReader(stocks_to_retrieve, \"yahoo\", start, end)\n",
    "df_closing = df[\"Close\"]\n",
    "\n",
    "df_closing.to_csv(\"../Data/DJIA.csv\")\n",
    "\n",
    "df_closing.iplot(kind=\"line\", title=\"DJIA Close: 01/1980-09/2020\")"
   ]
  },
  {
   "cell_type": "code",
   "execution_count": null,
   "metadata": {
    "ExecuteTime": {
     "end_time": "2020-09-17T15:27:09.308135Z",
     "start_time": "2020-09-17T15:27:08.758132Z"
    }
   },
   "outputs": [],
   "source": [
    "df_closing.plot_bokeh(\n",
    "    figsize=(1900, 1250),\n",
    "    title=\"DJIA 01/1980-09/2020\",\n",
    "    xlabel=\"Date\",\n",
    "    ylabel=\"DJIA\",\n",
    "    toolbar_location=None,\n",
    "    panning=False,\n",
    "    zooming=False,\n",
    ")"
   ]
  }
 ],
 "metadata": {
  "kernelspec": {
   "display_name": "Python 3",
   "language": "python",
   "name": "python3"
  },
  "language_info": {
   "codemirror_mode": {
    "name": "ipython",
    "version": 3
   },
   "file_extension": ".py",
   "mimetype": "text/x-python",
   "name": "python",
   "nbconvert_exporter": "python",
   "pygments_lexer": "ipython3",
   "version": "3.7.6"
  },
  "toc": {
   "base_numbering": 1,
   "nav_menu": {},
   "number_sections": true,
   "sideBar": true,
   "skip_h1_title": false,
   "title_cell": "Table of Contents",
   "title_sidebar": "Contents",
   "toc_cell": false,
   "toc_position": {},
   "toc_section_display": true,
   "toc_window_display": false
  }
 },
 "nbformat": 4,
 "nbformat_minor": 2
}
