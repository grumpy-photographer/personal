{
 "cells": [
  {
   "cell_type": "code",
   "execution_count": 16,
   "metadata": {},
   "outputs": [],
   "source": [
    "import pandas as pd\n",
    "from getbibleverse import verse_lookup"
   ]
  },
  {
   "cell_type": "code",
   "execution_count": 20,
   "metadata": {},
   "outputs": [],
   "source": [
    "def store_verses(*passage):\n",
    "\n",
    "    from string import punctuation\n",
    "    from heapq import nlargest\n",
    "\n",
    "    # create empty df to store verses\n",
    "    verses_df = pd.DataFrame(columns=[\"bookname\", \"chapter\", \"verse\", \"text\"])\n",
    "    df = pd.DataFrame([])\n",
    "\n",
    "    # create empty list to store input separately\n",
    "    books = []\n",
    "    chapters = []\n",
    "    verses = []\n",
    "\n",
    "    # break down input into separate lists\n",
    "    for entry in passage:\n",
    "        book, ch_ver = entry.split(\" \")\n",
    "        chapter, verse_range = ch_ver.split(\":\")\n",
    "\n",
    "        books.append(book)\n",
    "        chapters.append(chapter)\n",
    "        verses.append(verse_range)\n",
    "\n",
    "    for i in range(len(books)):\n",
    "        data = pd.json_normalize(verse_lookup(\n",
    "            books[i], chapters[i], verses[i]))\n",
    "        verses_df = pd.concat([verses_df, data], ignore_index=True)\n",
    "\n",
    "    df['book'] = verses_df[\"bookname\"].unique()\n",
    "    df['chapter'] = verses_df['chapter'].unique()\n",
    "    df['verses'] = [i for i in verses]\n",
    "    df['location'] = df[\"book\"] + \" \" + df[\"chapter\"] + \":\" + df[\"verses\"]\n",
    "\n",
    "    verses_df = verses_df.drop(['chapter', 'verse'], axis=1).groupby(\n",
    "        'bookname', sort=False).sum().reset_index()\n",
    "\n",
    "    df['text'] = verses_df['text']\n",
    "\n",
    "    # NLP\n",
    "\n",
    "\n",
    "    return \n"
   ]
  },
  {
   "cell_type": "code",
   "execution_count": 23,
   "metadata": {},
   "outputs": [
    {
     "name": "stdout",
     "output_type": "stream",
     "text": [
      "\n"
     ]
    }
   ],
   "source": [
    "store_verses(\"Genesis 1:1-10\", \"Exodus 3:5-15\", \"Romans 5:20\", \"Revelation 4:20-26\")\n"
   ]
  },
  {
   "cell_type": "code",
   "execution_count": null,
   "metadata": {},
   "outputs": [],
   "source": []
  }
 ],
 "metadata": {
  "kernelspec": {
   "display_name": "Python 3 (ipykernel)",
   "language": "python",
   "name": "python3"
  },
  "language_info": {
   "codemirror_mode": {
    "name": "ipython",
    "version": 3
   },
   "file_extension": ".py",
   "mimetype": "text/x-python",
   "name": "python",
   "nbconvert_exporter": "python",
   "pygments_lexer": "ipython3",
   "version": "3.10.8"
  },
  "vscode": {
   "interpreter": {
    "hash": "9f0d103aebe82dfbb47ec724a2ca4fd3dcb0c9038207abb072b7913218171667"
   }
  }
 },
 "nbformat": 4,
 "nbformat_minor": 2
}
