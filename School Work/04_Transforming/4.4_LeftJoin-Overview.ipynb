{
 "cells": [
  {
   "cell_type": "markdown",
   "metadata": {},
   "source": [
    "# 4.4 Left Join with pandas\n",
    "\n",
    "- [Left Join](#Left-Join)  \n",
    "- [Visual Example: Merging *products* and *categories* Dataframes](#Visual-Example:-Merging-products-and-categories-Dataframes) \n",
    "- [Left Join/Merge Logic](#Left-Join/Merge-Logic)  \n",
    "- [Left Join/Merge Result](#Left-Join/Merge-Result)\n",
    "\n",
    "### Use for Every Left Join you Do:  [4.4_Template_LeftJoin.ipynb](4.4_LeftJoin_Template.ipynb)\n",
    "\n"
   ]
  },
  {
   "cell_type": "markdown",
   "metadata": {},
   "source": [
    "# Left Join  \n",
    "![Left Join](Images/Merging_LeftJoin.png)  \n",
    "- This gives us all of the records from the **Left** table/dataframe but only the matched records from the **Right** table/dataframe.  \n",
    "- The right table is a lookup table.  It has some fields that we want to add to the left table.  \n",
    "- For Data Wrangling/Transforming/Shaping purposes, I think this is the most frequently used merge/join.  "
   ]
  },
  {
   "cell_type": "markdown",
   "metadata": {},
   "source": [
    "# Visual Example: Merging *products* and *categories* Dataframes"
   ]
  },
  {
   "cell_type": "markdown",
   "metadata": {},
   "source": [
    "### *products:*  \n",
    "![products data](Images/products.png)  \n",
    "\n",
    "\n",
    "### Notes:\n",
    "- **This is only the first five rows of the products dataframe!**\n",
    "- We want to do a visualization for this data (Pivot Table, Chart, etc..) to explore the products in each category\n",
    "- But we need the Category Name -- not just the Category ID! \n",
    "- Otherwise our user would have to know what each of the Category ID values represent.  "
   ]
  },
  {
   "cell_type": "markdown",
   "metadata": {},
   "source": [
    "### *categories:*   \n",
    "\n",
    "![categories data](Images/categories.png)  \n",
    "### Notes:\n",
    "- **This is only the first five rows of the categories dataframe!**\n",
    "- There's the Category Name info that we want, but it's in a completely different table!  \n",
    "- Also note that there are a very different number of rows in each of these tables."
   ]
  },
  {
   "cell_type": "markdown",
   "metadata": {},
   "source": [
    "# Left Join/Merge Logic\n",
    "What we want to do is create a new Merged Dataframe:\n",
    "1. That has all the rows and columns as the *products* table\n",
    "2. In addition, it has two additional columns:  *CategoryName* and *Description*    \n",
    "3. For every row in the merged dataframe:\n",
    "    1. Uses the CategoryID value of that row\n",
    "    2. Goes to the categories table and looks up the CategoryName and Description values for that CategoryID value  \n",
    "    3. Adds those values to that row of the the merged dataframe  \n",
    "    4. Continues doing that for every row in the merged dataframe  \n",
    "    5. Until all of the merged dataframe rows have values for CategoryName and Description"
   ]
  },
  {
   "cell_type": "markdown",
   "metadata": {},
   "source": [
    "# Left Join/Merge Result \n",
    " \n",
    "![products categories Left Join](Images/products_categories.png)  \n",
    "- **This is only the first five rows of the merged dataframe!**\n",
    "- Although you can't see it here, this merged dataframe **Must** have the same number of rows as the Left (*products*) dataframe!  \n",
    "- Note that this has all of the columns from the *products* dataframe  \n",
    "- But it also has two new columns it got from the categories dataframe: *CategoryName* and *Description*"
   ]
  }
 ],
 "metadata": {
  "kernelspec": {
   "display_name": "Python 3",
   "language": "python",
   "name": "python3"
  },
  "language_info": {
   "codemirror_mode": {
    "name": "ipython",
    "version": 3
   },
   "file_extension": ".py",
   "mimetype": "text/x-python",
   "name": "python",
   "nbconvert_exporter": "python",
   "pygments_lexer": "ipython3",
   "version": "3.7.0"
  }
 },
 "nbformat": 4,
 "nbformat_minor": 2
}
