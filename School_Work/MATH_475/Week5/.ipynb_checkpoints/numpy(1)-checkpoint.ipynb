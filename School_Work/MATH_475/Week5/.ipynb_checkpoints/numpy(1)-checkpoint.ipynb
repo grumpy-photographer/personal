{
 "cells": [
  {
   "cell_type": "markdown",
   "metadata": {},
   "source": [
    "# Using numpy"
   ]
  },
  {
   "cell_type": "markdown",
   "metadata": {},
   "source": [
    "[*numpy*](https://numpy.org) is a library for numerical computation, including operations on matrices and vectors. It is typically imported as **np**."
   ]
  },
  {
   "cell_type": "code",
   "execution_count": 1,
   "metadata": {},
   "outputs": [],
   "source": [
    "import numpy as np"
   ]
  },
  {
   "cell_type": "markdown",
   "metadata": {},
   "source": [
    "## Performance Advantage of Using numpy"
   ]
  },
  {
   "cell_type": "markdown",
   "metadata": {},
   "source": [
    "Since numpy accesses a lower level (i.e. a level closer to the CPU), it often offers faster performance than doing things in native Python (which, in turn, is faster than coding things ourselves.) "
   ]
  },
  {
   "cell_type": "markdown",
   "metadata": {},
   "source": [
    "### Example: Adding Things Up\n",
    "Consider the following problem: given a list, add up all the numbers in the list. \n"
   ]
  },
  {
   "cell_type": "markdown",
   "metadata": {},
   "source": [
    "#### Solution with For Loop\n",
    "A beginning Python programmer will usually write with a \"for\" loop, which is completely correct. One solution is given below. (If you don't feel fluent in Python, it won't hurt to skip the next cell.)"
   ]
  },
  {
   "cell_type": "code",
   "execution_count": 2,
   "metadata": {},
   "outputs": [],
   "source": [
    "#skip if you want\n",
    "def add_up_numbers_in_list_with_for_loop(x_list):\n",
    "    \"\"\"\n",
    "    Takes as input a list, then adds up all the numbers in the list. \n",
    "    \n",
    "    Args:\n",
    "        x_list (list): a list of numeric types.\n",
    "        \n",
    "    Returns:\n",
    "        total (numeric): the sum of all the numbers in the list\n",
    "        \n",
    "    Examples:\n",
    "        add_up_numbers_in_list_with_for_loop([1, 1.05, 2]) = 4.05\n",
    "    \"\"\"\n",
    "    \n",
    "    total = 0\n",
    "    for x in x_list:\n",
    "        total = x + total\n",
    "    \n",
    "    return total \n",
    "    "
   ]
  },
  {
   "cell_type": "markdown",
   "metadata": {},
   "source": [
    "It's good to test your functions, even informally. "
   ]
  },
  {
   "cell_type": "code",
   "execution_count": 3,
   "metadata": {},
   "outputs": [
    {
     "data": {
      "text/plain": [
       "4.05"
      ]
     },
     "execution_count": 3,
     "metadata": {},
     "output_type": "execute_result"
    }
   ],
   "source": [
    "add_up_numbers_in_list_with_for_loop([1,1.05,2])"
   ]
  },
  {
   "cell_type": "markdown",
   "metadata": {},
   "source": [
    "It's also good to time them to see how they do on large inputs. "
   ]
  },
  {
   "cell_type": "code",
   "execution_count": 4,
   "metadata": {},
   "outputs": [
    {
     "name": "stdout",
     "output_type": "stream",
     "text": [
      "CPU times: user 1min 3s, sys: 240 ms, total: 1min 3s\n",
      "Wall time: 1min 4s\n"
     ]
    },
    {
     "data": {
      "text/plain": [
       "499999999500000000"
      ]
     },
     "execution_count": 4,
     "metadata": {},
     "output_type": "execute_result"
    }
   ],
   "source": [
    "%time add_up_numbers_in_list_with_for_loop(range(1,10**7))"
   ]
  },
  {
   "cell_type": "markdown",
   "metadata": {},
   "source": [
    "#### Pythonic Solution\n",
    "\n",
    "The *pythonic* solution is to utilize Python's built-in functions, along with a list comprehension, to obtain the solution. "
   ]
  },
  {
   "cell_type": "code",
   "execution_count": 5,
   "metadata": {},
   "outputs": [],
   "source": [
    "def add_up_numbers_in_list_pythonic(x_list):\n",
    "    \"\"\"\n",
    "    Takes as input a list, then adds up all the numbers in the list. \n",
    "    \n",
    "    Args:\n",
    "        x_list (list): a list of numeric types.\n",
    "        \n",
    "    Returns:\n",
    "        total (numeric): the sum of all the numbers in the list\n",
    "        \n",
    "    Examples:\n",
    "        add_up_numbers_in_list_pythonic([1, 1.05, 2]) = 4.05\n",
    "    \"\"\"\n",
    "    \n",
    "    total = sum(x_list)\n",
    "    \n",
    "    return total \n",
    "    "
   ]
  },
  {
   "cell_type": "code",
   "execution_count": 6,
   "metadata": {},
   "outputs": [
    {
     "data": {
      "text/plain": [
       "4.05"
      ]
     },
     "execution_count": 6,
     "metadata": {},
     "output_type": "execute_result"
    }
   ],
   "source": [
    "add_up_numbers_in_list_pythonic([1,1.05,2])"
   ]
  },
  {
   "cell_type": "code",
   "execution_count": 7,
   "metadata": {},
   "outputs": [
    {
     "name": "stdout",
     "output_type": "stream",
     "text": [
      "CPU times: user 23.7 s, sys: 148 ms, total: 23.8 s\n",
      "Wall time: 23.9 s\n"
     ]
    },
    {
     "data": {
      "text/plain": [
       "499999999500000000"
      ]
     },
     "execution_count": 7,
     "metadata": {},
     "output_type": "execute_result"
    }
   ],
   "source": [
    "big_test_list = range(1,10**7)\n",
    "%time add_up_numbers_in_list_pythonic(range(1,big_test_list)"
   ]
  },
  {
   "cell_type": "markdown",
   "metadata": {},
   "source": [
    "#### numpy solution \n",
    "\n",
    "Another approach is to use a built-in numpy command. Also, once you get used to using numpy's built-in functions in this way, it somehow becomes more natural. "
   ]
  },
  {
   "cell_type": "code",
   "execution_count": 8,
   "metadata": {},
   "outputs": [],
   "source": [
    "def add_up_numbers_in_list_np(x_list):\n",
    "    \"\"\"\n",
    "    Takes as input a list, then adds up all the numbers in the list. \n",
    "    \n",
    "    Args:\n",
    "        x_list (list): a list of numeric types.\n",
    "        \n",
    "    Returns:\n",
    "        total (numeric): the sum of all the numbers in the list\n",
    "        \n",
    "    Examples:\n",
    "        add_up_numbers_in_list_np([1, 1.05, 2]) = 4.05\n",
    "    \"\"\"\n",
    "    \n",
    "    total = np.sum(np.array(x_list))\n",
    "    \n",
    "    return total \n",
    "    "
   ]
  },
  {
   "cell_type": "code",
   "execution_count": 9,
   "metadata": {},
   "outputs": [
    {
     "data": {
      "text/plain": [
       "4.05"
      ]
     },
     "execution_count": 9,
     "metadata": {},
     "output_type": "execute_result"
    }
   ],
   "source": [
    "add_up_numbers_in_list_np([1,1.05,2])"
   ]
  },
  {
   "cell_type": "code",
   "execution_count": null,
   "metadata": {},
   "outputs": [],
   "source": [
    "%time add_up_numbers_in_list_np(big_test_list))"
   ]
  },
  {
   "cell_type": "code",
   "execution_count": null,
   "metadata": {},
   "outputs": [],
   "source": [
    "%time add_up_numbers_in_list_np(big_test_list))"
   ]
  },
  {
   "cell_type": "markdown",
   "metadata": {},
   "source": [
    "### Example: Squaring Numbers\n",
    "\n",
    "Another problem: given a list, create a new list that contains all of the squares of all of the numbers in the list. "
   ]
  },
  {
   "cell_type": "markdown",
   "metadata": {},
   "source": [
    "#### Using A For Loop   "
   ]
  },
  {
   "cell_type": "code",
   "execution_count": null,
   "metadata": {},
   "outputs": [],
   "source": [
    "def square_list_for_loop(x_list):\n",
    "\"\"\"\n",
    "Takes a list and returns all of the squares of the elements in the list.\n",
    "Uses a for loop to loop over all elements. \n",
    "\n",
    "Args:\n",
    "   x_list: a list (all entries numeric)\n",
    "   \n",
    "Returns:\n",
    "   squares: a list of the squares of the elements in x_list\n",
    "   \n",
    "Example:\n",
    "   square_list_for_loop([1,2,5]) [1, 4, 25]\n",
    "\"\"\"\n",
    "   squares = [] #create an empty list\n",
    "   for x in x_list:\n",
    "        squares.append(x*x)\n",
    "    return x_list"
   ]
  },
  {
   "cell_type": "markdown",
   "metadata": {},
   "source": [
    "#### pythonic approach with list comprehension "
   ]
  },
  {
   "cell_type": "code",
   "execution_count": null,
   "metadata": {},
   "outputs": [],
   "source": [
    "def square_list_pythonic(x_list):\n",
    "\"\"\"\n",
    "Takes a list and returns all of the squares of the elements in the list.\n",
    "Uses a for loop to loop over all elements. \n",
    "\n",
    "Args:\n",
    "   x_list: a list (all entries numeric)\n",
    "   \n",
    "Returns:\n",
    "   squares: a list of the squares of the elements in x_list\n",
    "   \n",
    "Example:\n",
    "   square_list_pythonic([1,2,5]) [1, 4, 25]\n",
    "\"\"\"\n",
    "   squares = [x*x for x in x_list]\n",
    "    return squares"
   ]
  },
  {
   "cell_type": "markdown",
   "metadata": {},
   "source": [
    "#### numpy approach using built-in functions\n",
    "\n",
    "We can achieve the same thing using numpy's built-in *square* command. Notice that here we ask for the input to a numpy array rather than a list. "
   ]
  },
  {
   "cell_type": "code",
   "execution_count": null,
   "metadata": {},
   "outputs": [],
   "source": [
    "def square_list_np(x_array):\n",
    "\"\"\"\n",
    "Takes a list and returns all of the squares of the elements in the list.\n",
    "Uses a for loop to loop over all elements. \n",
    "\n",
    "Args:\n",
    "   x_array: a numpy array (all entries numeric)\n",
    "   \n",
    "Returns:\n",
    "   squares: a list of the squares of the elements in x_list\n",
    "   \n",
    "Example:\n",
    "   square_list_np(np.array([1,2,5]) =  np.array([1, 4, 25])\n",
    "\"\"\"\n",
    "   return np.square(x_array)"
   ]
  }
 ],
 "metadata": {
  "kernelspec": {
   "display_name": "Python 3",
   "language": "python",
   "name": "python3"
  },
  "language_info": {
   "codemirror_mode": {
    "name": "ipython",
    "version": 3
   },
   "file_extension": ".py",
   "mimetype": "text/x-python",
   "name": "python",
   "nbconvert_exporter": "python",
   "pygments_lexer": "ipython3",
   "version": "3.8.5"
  },
  "toc": {
   "base_numbering": 1,
   "nav_menu": {},
   "number_sections": true,
   "sideBar": true,
   "skip_h1_title": false,
   "title_cell": "Table of Contents",
   "title_sidebar": "Contents",
   "toc_cell": false,
   "toc_position": {},
   "toc_section_display": true,
   "toc_window_display": false
  }
 },
 "nbformat": 4,
 "nbformat_minor": 4
}
