{
 "cells": [
  {
   "cell_type": "markdown",
   "metadata": {},
   "source": [
    "# Ex 6.1 pandas plot: Ungrouped Data\n",
    "\n",
    "- [In Class](#In-Class)  \n",
    "  - [Line Chart: Canadian GDP - All Years](#Line-Chart:--Canadian-GDP---All-Years)  \n",
    "  - [Line Chart: Canadian GDP: 1980-2000](#Line-Chart:---Canadian-GDP:--1980-2000)  \n",
    "  - [Vertical Bar Chart: Yearly Canadian GDP per Capita](#Vertical-Bar-Chart:-Yearly-Canadian-GDP-per-Capita)  \n",
    "  - [Horizontal Bar Chart: Yearly Canadian GDP per Capita](#Horizontal-Bar-Chart:-Yearly-Canadian-GDP-per-Capita)  \n",
    "\n",
    " \n",
    " \n",
    " \n",
    "- [Ex 6.1](#Ex-6.1)   \n",
    "  - [Chart 1: Life Expectancy in Ecuador](#Chart-1:-Life-Expectancy-in-Ecuador)  \n",
    "  - [Chart 2: Population in Greece](#Chart-2:-Population-in-Greece)  \n",
    "  - [Chart 3: Multi-Line Population Chart](#Chart-3:-Multi-Line-Population-Chart)  \n",
    "  - [Chart 4: Multi-Line Life Expectancy Chart](#Chart-4:-Multi-Line-Life-Expectancy-Chart)  \n",
    "  - [Chart 5: Stock Price Comparisons](#Chart-5:-Stock-Price-Comparisons)  \n",
    "  \n",
    "\n",
    "\n",
    "\n",
    "- ### Notes:  \n",
    "  - **Every** time you modify an existing dataframe or create a new dataframe you should:  \n",
    "    - Display the number of rows and columns in the dataframe  \n",
    "    - Display the top rows of the dataframe\n",
    "\n"
   ]
  },
  {
   "cell_type": "code",
   "execution_count": 172,
   "metadata": {},
   "outputs": [],
   "source": [
    "import matplotlib\n",
    "import matplotlib.pyplot as plt\n",
    "import pandas as pd"
   ]
  },
  {
   "cell_type": "markdown",
   "metadata": {},
   "source": [
    "# In Class"
   ]
  },
  {
   "cell_type": "markdown",
   "metadata": {},
   "source": [
    "### Read *Country_Data.csv*  file into a dataframe"
   ]
  },
  {
   "cell_type": "code",
   "execution_count": 173,
   "metadata": {},
   "outputs": [
    {
     "name": "stdout",
     "output_type": "stream",
     "text": [
      "Dataframe:  df\n",
      "Number of Rows:  1704\n",
      "Number of Columns:  6\n"
     ]
    },
    {
     "data": {
      "text/html": [
       "<div>\n",
       "<style scoped>\n",
       "    .dataframe tbody tr th:only-of-type {\n",
       "        vertical-align: middle;\n",
       "    }\n",
       "\n",
       "    .dataframe tbody tr th {\n",
       "        vertical-align: top;\n",
       "    }\n",
       "\n",
       "    .dataframe thead th {\n",
       "        text-align: right;\n",
       "    }\n",
       "</style>\n",
       "<table border=\"1\" class=\"dataframe\">\n",
       "  <thead>\n",
       "    <tr style=\"text-align: right;\">\n",
       "      <th></th>\n",
       "      <th>country</th>\n",
       "      <th>continent</th>\n",
       "      <th>year</th>\n",
       "      <th>lifeExpectancy</th>\n",
       "      <th>population</th>\n",
       "      <th>gdpPerCapita</th>\n",
       "    </tr>\n",
       "  </thead>\n",
       "  <tbody>\n",
       "    <tr>\n",
       "      <th>0</th>\n",
       "      <td>Afghanistan</td>\n",
       "      <td>Asia</td>\n",
       "      <td>1952</td>\n",
       "      <td>28.801</td>\n",
       "      <td>8425333</td>\n",
       "      <td>779.445314</td>\n",
       "    </tr>\n",
       "    <tr>\n",
       "      <th>1</th>\n",
       "      <td>Afghanistan</td>\n",
       "      <td>Asia</td>\n",
       "      <td>1957</td>\n",
       "      <td>30.332</td>\n",
       "      <td>9240934</td>\n",
       "      <td>820.853030</td>\n",
       "    </tr>\n",
       "    <tr>\n",
       "      <th>2</th>\n",
       "      <td>Afghanistan</td>\n",
       "      <td>Asia</td>\n",
       "      <td>1962</td>\n",
       "      <td>31.997</td>\n",
       "      <td>10267083</td>\n",
       "      <td>853.100710</td>\n",
       "    </tr>\n",
       "    <tr>\n",
       "      <th>3</th>\n",
       "      <td>Afghanistan</td>\n",
       "      <td>Asia</td>\n",
       "      <td>1967</td>\n",
       "      <td>34.020</td>\n",
       "      <td>11537966</td>\n",
       "      <td>836.197138</td>\n",
       "    </tr>\n",
       "    <tr>\n",
       "      <th>4</th>\n",
       "      <td>Afghanistan</td>\n",
       "      <td>Asia</td>\n",
       "      <td>1972</td>\n",
       "      <td>36.088</td>\n",
       "      <td>13079460</td>\n",
       "      <td>739.981106</td>\n",
       "    </tr>\n",
       "  </tbody>\n",
       "</table>\n",
       "</div>"
      ],
      "text/plain": [
       "       country continent  year  lifeExpectancy  population  gdpPerCapita\n",
       "0  Afghanistan      Asia  1952          28.801     8425333    779.445314\n",
       "1  Afghanistan      Asia  1957          30.332     9240934    820.853030\n",
       "2  Afghanistan      Asia  1962          31.997    10267083    853.100710\n",
       "3  Afghanistan      Asia  1967          34.020    11537966    836.197138\n",
       "4  Afghanistan      Asia  1972          36.088    13079460    739.981106"
      ]
     },
     "execution_count": 173,
     "metadata": {},
     "output_type": "execute_result"
    }
   ],
   "source": [
    "df = pd.read_csv('Data\\\\Country_Data.csv')\n",
    "\n",
    "print(\"Dataframe:  df\")\n",
    "print(\"Number of Rows: \", df.shape[0])\n",
    "print(\"Number of Columns: \", df.shape[1])\n",
    "\n",
    "df.head()"
   ]
  },
  {
   "cell_type": "markdown",
   "metadata": {},
   "source": [
    "### Create *df_Canada* dataframe - using Boolean Row Filtering  \n",
    "- This new subsetted dataframe should contain only Canadian data rows"
   ]
  },
  {
   "cell_type": "code",
   "execution_count": 174,
   "metadata": {},
   "outputs": [
    {
     "name": "stdout",
     "output_type": "stream",
     "text": [
      "Dataframe:  df_CA\n",
      "Number of Rows:  12\n",
      "Number of Columns:  6\n"
     ]
    },
    {
     "data": {
      "text/html": [
       "<div>\n",
       "<style scoped>\n",
       "    .dataframe tbody tr th:only-of-type {\n",
       "        vertical-align: middle;\n",
       "    }\n",
       "\n",
       "    .dataframe tbody tr th {\n",
       "        vertical-align: top;\n",
       "    }\n",
       "\n",
       "    .dataframe thead th {\n",
       "        text-align: right;\n",
       "    }\n",
       "</style>\n",
       "<table border=\"1\" class=\"dataframe\">\n",
       "  <thead>\n",
       "    <tr style=\"text-align: right;\">\n",
       "      <th></th>\n",
       "      <th>country</th>\n",
       "      <th>continent</th>\n",
       "      <th>year</th>\n",
       "      <th>lifeExpectancy</th>\n",
       "      <th>population</th>\n",
       "      <th>gdpPerCapita</th>\n",
       "    </tr>\n",
       "  </thead>\n",
       "  <tbody>\n",
       "    <tr>\n",
       "      <th>240</th>\n",
       "      <td>Canada</td>\n",
       "      <td>Americas</td>\n",
       "      <td>1952</td>\n",
       "      <td>68.750</td>\n",
       "      <td>14785584</td>\n",
       "      <td>11367.16112</td>\n",
       "    </tr>\n",
       "    <tr>\n",
       "      <th>241</th>\n",
       "      <td>Canada</td>\n",
       "      <td>Americas</td>\n",
       "      <td>1957</td>\n",
       "      <td>69.960</td>\n",
       "      <td>17010154</td>\n",
       "      <td>12489.95006</td>\n",
       "    </tr>\n",
       "    <tr>\n",
       "      <th>242</th>\n",
       "      <td>Canada</td>\n",
       "      <td>Americas</td>\n",
       "      <td>1962</td>\n",
       "      <td>71.300</td>\n",
       "      <td>18985849</td>\n",
       "      <td>13462.48555</td>\n",
       "    </tr>\n",
       "    <tr>\n",
       "      <th>243</th>\n",
       "      <td>Canada</td>\n",
       "      <td>Americas</td>\n",
       "      <td>1967</td>\n",
       "      <td>72.130</td>\n",
       "      <td>20819767</td>\n",
       "      <td>16076.58803</td>\n",
       "    </tr>\n",
       "    <tr>\n",
       "      <th>244</th>\n",
       "      <td>Canada</td>\n",
       "      <td>Americas</td>\n",
       "      <td>1972</td>\n",
       "      <td>72.880</td>\n",
       "      <td>22284500</td>\n",
       "      <td>18970.57086</td>\n",
       "    </tr>\n",
       "    <tr>\n",
       "      <th>245</th>\n",
       "      <td>Canada</td>\n",
       "      <td>Americas</td>\n",
       "      <td>1977</td>\n",
       "      <td>74.210</td>\n",
       "      <td>23796400</td>\n",
       "      <td>22090.88306</td>\n",
       "    </tr>\n",
       "    <tr>\n",
       "      <th>246</th>\n",
       "      <td>Canada</td>\n",
       "      <td>Americas</td>\n",
       "      <td>1982</td>\n",
       "      <td>75.760</td>\n",
       "      <td>25201900</td>\n",
       "      <td>22898.79214</td>\n",
       "    </tr>\n",
       "    <tr>\n",
       "      <th>247</th>\n",
       "      <td>Canada</td>\n",
       "      <td>Americas</td>\n",
       "      <td>1987</td>\n",
       "      <td>76.860</td>\n",
       "      <td>26549700</td>\n",
       "      <td>26626.51503</td>\n",
       "    </tr>\n",
       "    <tr>\n",
       "      <th>248</th>\n",
       "      <td>Canada</td>\n",
       "      <td>Americas</td>\n",
       "      <td>1992</td>\n",
       "      <td>77.950</td>\n",
       "      <td>28523502</td>\n",
       "      <td>26342.88426</td>\n",
       "    </tr>\n",
       "    <tr>\n",
       "      <th>249</th>\n",
       "      <td>Canada</td>\n",
       "      <td>Americas</td>\n",
       "      <td>1997</td>\n",
       "      <td>78.610</td>\n",
       "      <td>30305843</td>\n",
       "      <td>28954.92589</td>\n",
       "    </tr>\n",
       "    <tr>\n",
       "      <th>250</th>\n",
       "      <td>Canada</td>\n",
       "      <td>Americas</td>\n",
       "      <td>2002</td>\n",
       "      <td>79.770</td>\n",
       "      <td>31902268</td>\n",
       "      <td>33328.96507</td>\n",
       "    </tr>\n",
       "    <tr>\n",
       "      <th>251</th>\n",
       "      <td>Canada</td>\n",
       "      <td>Americas</td>\n",
       "      <td>2007</td>\n",
       "      <td>80.653</td>\n",
       "      <td>33390141</td>\n",
       "      <td>36319.23501</td>\n",
       "    </tr>\n",
       "  </tbody>\n",
       "</table>\n",
       "</div>"
      ],
      "text/plain": [
       "    country continent  year  lifeExpectancy  population  gdpPerCapita\n",
       "240  Canada  Americas  1952          68.750    14785584   11367.16112\n",
       "241  Canada  Americas  1957          69.960    17010154   12489.95006\n",
       "242  Canada  Americas  1962          71.300    18985849   13462.48555\n",
       "243  Canada  Americas  1967          72.130    20819767   16076.58803\n",
       "244  Canada  Americas  1972          72.880    22284500   18970.57086\n",
       "245  Canada  Americas  1977          74.210    23796400   22090.88306\n",
       "246  Canada  Americas  1982          75.760    25201900   22898.79214\n",
       "247  Canada  Americas  1987          76.860    26549700   26626.51503\n",
       "248  Canada  Americas  1992          77.950    28523502   26342.88426\n",
       "249  Canada  Americas  1997          78.610    30305843   28954.92589\n",
       "250  Canada  Americas  2002          79.770    31902268   33328.96507\n",
       "251  Canada  Americas  2007          80.653    33390141   36319.23501"
      ]
     },
     "execution_count": 174,
     "metadata": {},
     "output_type": "execute_result"
    }
   ],
   "source": [
    "# Use Row Filtering to create a USA dataframe\n",
    "row_filter = df['country'] == 'Canada'\n",
    "df_CA = df[row_filter]\n",
    "\n",
    "print(\"Dataframe:  df_CA\")\n",
    "print(\"Number of Rows: \", df_CA.shape[0])\n",
    "print(\"Number of Columns: \", df_CA.shape[1])\n",
    "\n",
    "df_CA"
   ]
  },
  {
   "cell_type": "markdown",
   "metadata": {},
   "source": [
    "### Line Chart:  Canadian GDP - All Years"
   ]
  },
  {
   "cell_type": "code",
   "execution_count": 175,
   "metadata": {},
   "outputs": [
    {
     "data": {
      "text/plain": [
       "<matplotlib.axes._subplots.AxesSubplot at 0xfb41b70>"
      ]
     },
     "execution_count": 175,
     "metadata": {},
     "output_type": "execute_result"
    },
    {
     "data": {
      "image/png": "[encoded data removed]",
      "text/plain": [
       "<Figure size 432x288 with 1 Axes>"
      ]
     },
     "metadata": {
      "needs_background": "light"
     },
     "output_type": "display_data"
    }
   ],
   "source": [
    "# plot CA GDP per Capita\n",
    "df_CA.plot.line(x='gdpPerCapita', \n",
    "           y='year', \n",
    "           title='CA GDP per Capita')"
   ]
  },
  {
   "cell_type": "markdown",
   "metadata": {},
   "source": [
    "### Line Chart:   Canadian GDP:  1980-2000\n"
   ]
  },
  {
   "cell_type": "code",
   "execution_count": 176,
   "metadata": {},
   "outputs": [],
   "source": [
    "row_filter = df_CA['year'] >= 1980\n",
    "df_filter_CA = df_CA[row_filter]"
   ]
  },
  {
   "cell_type": "code",
   "execution_count": 177,
   "metadata": {},
   "outputs": [],
   "source": [
    "row_filter2 = df_filter_CA['year'] <= 2000\n",
    "df_filter2_CA = df_filter_CA[row_filter2]"
   ]
  },
  {
   "cell_type": "code",
   "execution_count": 178,
   "metadata": {},
   "outputs": [
    {
     "data": {
      "text/plain": [
       "<matplotlib.axes._subplots.AxesSubplot at 0xfb6ce90>"
      ]
     },
     "execution_count": 178,
     "metadata": {},
     "output_type": "execute_result"
    },
    {
     "data": {
      "image/png": "[encoded data removed]",
      "text/plain": [
       "<Figure size 432x288 with 1 Axes>"
      ]
     },
     "metadata": {
      "needs_background": "light"
     },
     "output_type": "display_data"
    }
   ],
   "source": [
    "# plot CA GDP per Capita 1980-2000\n",
    "df_filter2_CA.plot.line(x='gdpPerCapita', \n",
    "           y='year', \n",
    "           title='CA GDP per Capita')"
   ]
  },
  {
   "cell_type": "markdown",
   "metadata": {},
   "source": [
    "### Vertical Bar Chart: Yearly Canadian GDP per Capita  \n",
    "- This should be for all years, ie. the original Canadian dataframe"
   ]
  },
  {
   "cell_type": "code",
   "execution_count": 179,
   "metadata": {},
   "outputs": [
    {
     "data": {
      "text/plain": [
       "<matplotlib.axes._subplots.AxesSubplot at 0xfbbee10>"
      ]
     },
     "execution_count": 179,
     "metadata": {},
     "output_type": "execute_result"
    },
    {
     "data": {
      "image/png": "[encoded data removed]",
      "text/plain": [
       "<Figure size 432x288 with 1 Axes>"
      ]
     },
     "metadata": {
      "needs_background": "light"
     },
     "output_type": "display_data"
    }
   ],
   "source": [
    "df_CA.plot.bar(x='year', \n",
    "           y='gdpPerCapita', \n",
    "           color='olive',\n",
    "           title='CA GDP per Capita')"
   ]
  },
  {
   "cell_type": "markdown",
   "metadata": {},
   "source": [
    "### Horizontal Bar Chart: Yearly Canadian GDP per Capita  \n",
    "- This should be for all years, ie. the original Canadian dataframe"
   ]
  },
  {
   "cell_type": "code",
   "execution_count": 180,
   "metadata": {
    "scrolled": true
   },
   "outputs": [
    {
     "data": {
      "text/plain": [
       "<matplotlib.axes._subplots.AxesSubplot at 0xfc148f0>"
      ]
     },
     "execution_count": 180,
     "metadata": {},
     "output_type": "execute_result"
    },
    {
     "data": {
      "image/png": "[encoded data removed]",
      "text/plain": [
       "<Figure size 432x288 with 1 Axes>"
      ]
     },
     "metadata": {
      "needs_background": "light"
     },
     "output_type": "display_data"
    }
   ],
   "source": [
    "df_CA.plot.barh(x='year', \n",
    "           y='gdpPerCapita', \n",
    "           color='red',\n",
    "           title='CA GDP per Capita')"
   ]
  },
  {
   "cell_type": "markdown",
   "metadata": {},
   "source": [
    "# Ex 6.1"
   ]
  },
  {
   "cell_type": "code",
   "execution_count": 181,
   "metadata": {},
   "outputs": [
    {
     "name": "stdout",
     "output_type": "stream",
     "text": [
      "Dataframe:  df\n",
      "Number of Rows:  1704\n",
      "Number of Columns:  6\n"
     ]
    },
    {
     "data": {
      "text/html": [
       "<div>\n",
       "<style scoped>\n",
       "    .dataframe tbody tr th:only-of-type {\n",
       "        vertical-align: middle;\n",
       "    }\n",
       "\n",
       "    .dataframe tbody tr th {\n",
       "        vertical-align: top;\n",
       "    }\n",
       "\n",
       "    .dataframe thead th {\n",
       "        text-align: right;\n",
       "    }\n",
       "</style>\n",
       "<table border=\"1\" class=\"dataframe\">\n",
       "  <thead>\n",
       "    <tr style=\"text-align: right;\">\n",
       "      <th></th>\n",
       "      <th>country</th>\n",
       "      <th>continent</th>\n",
       "      <th>year</th>\n",
       "      <th>lifeExpectancy</th>\n",
       "      <th>population</th>\n",
       "      <th>gdpPerCapita</th>\n",
       "    </tr>\n",
       "  </thead>\n",
       "  <tbody>\n",
       "    <tr>\n",
       "      <th>0</th>\n",
       "      <td>Afghanistan</td>\n",
       "      <td>Asia</td>\n",
       "      <td>1952</td>\n",
       "      <td>28.801</td>\n",
       "      <td>8425333</td>\n",
       "      <td>779.445314</td>\n",
       "    </tr>\n",
       "    <tr>\n",
       "      <th>1</th>\n",
       "      <td>Afghanistan</td>\n",
       "      <td>Asia</td>\n",
       "      <td>1957</td>\n",
       "      <td>30.332</td>\n",
       "      <td>9240934</td>\n",
       "      <td>820.853030</td>\n",
       "    </tr>\n",
       "    <tr>\n",
       "      <th>2</th>\n",
       "      <td>Afghanistan</td>\n",
       "      <td>Asia</td>\n",
       "      <td>1962</td>\n",
       "      <td>31.997</td>\n",
       "      <td>10267083</td>\n",
       "      <td>853.100710</td>\n",
       "    </tr>\n",
       "    <tr>\n",
       "      <th>3</th>\n",
       "      <td>Afghanistan</td>\n",
       "      <td>Asia</td>\n",
       "      <td>1967</td>\n",
       "      <td>34.020</td>\n",
       "      <td>11537966</td>\n",
       "      <td>836.197138</td>\n",
       "    </tr>\n",
       "    <tr>\n",
       "      <th>4</th>\n",
       "      <td>Afghanistan</td>\n",
       "      <td>Asia</td>\n",
       "      <td>1972</td>\n",
       "      <td>36.088</td>\n",
       "      <td>13079460</td>\n",
       "      <td>739.981106</td>\n",
       "    </tr>\n",
       "  </tbody>\n",
       "</table>\n",
       "</div>"
      ],
      "text/plain": [
       "       country continent  year  lifeExpectancy  population  gdpPerCapita\n",
       "0  Afghanistan      Asia  1952          28.801     8425333    779.445314\n",
       "1  Afghanistan      Asia  1957          30.332     9240934    820.853030\n",
       "2  Afghanistan      Asia  1962          31.997    10267083    853.100710\n",
       "3  Afghanistan      Asia  1967          34.020    11537966    836.197138\n",
       "4  Afghanistan      Asia  1972          36.088    13079460    739.981106"
      ]
     },
     "execution_count": 181,
     "metadata": {},
     "output_type": "execute_result"
    }
   ],
   "source": [
    "df = pd.read_csv('Data\\\\Country_Data.csv')\n",
    "\n",
    "print(\"Dataframe:  df\")\n",
    "print(\"Number of Rows: \", df.shape[0])\n",
    "print(\"Number of Columns: \", df.shape[1])\n",
    "\n",
    "df.head()"
   ]
  },
  {
   "cell_type": "markdown",
   "metadata": {},
   "source": [
    "# Chart 1: Life Expectancy in Ecuador  \n",
    "- Create a dataframe with only Ecuador data rows  \n",
    "- Plot Life Expectancy for Ecuadoreans for all years in the subsetted dataframe"
   ]
  },
  {
   "cell_type": "code",
   "execution_count": 182,
   "metadata": {},
   "outputs": [
    {
     "name": "stdout",
     "output_type": "stream",
     "text": [
      "Dataframe:  df_EC\n",
      "Number of Rows:  12\n",
      "Number of Columns:  6\n"
     ]
    },
    {
     "data": {
      "text/html": [
       "<div>\n",
       "<style scoped>\n",
       "    .dataframe tbody tr th:only-of-type {\n",
       "        vertical-align: middle;\n",
       "    }\n",
       "\n",
       "    .dataframe tbody tr th {\n",
       "        vertical-align: top;\n",
       "    }\n",
       "\n",
       "    .dataframe thead th {\n",
       "        text-align: right;\n",
       "    }\n",
       "</style>\n",
       "<table border=\"1\" class=\"dataframe\">\n",
       "  <thead>\n",
       "    <tr style=\"text-align: right;\">\n",
       "      <th></th>\n",
       "      <th>country</th>\n",
       "      <th>continent</th>\n",
       "      <th>year</th>\n",
       "      <th>lifeExpectancy</th>\n",
       "      <th>population</th>\n",
       "      <th>gdpPerCapita</th>\n",
       "    </tr>\n",
       "  </thead>\n",
       "  <tbody>\n",
       "    <tr>\n",
       "      <th>444</th>\n",
       "      <td>Ecuador</td>\n",
       "      <td>Americas</td>\n",
       "      <td>1952</td>\n",
       "      <td>48.357</td>\n",
       "      <td>3548753</td>\n",
       "      <td>3522.110717</td>\n",
       "    </tr>\n",
       "    <tr>\n",
       "      <th>445</th>\n",
       "      <td>Ecuador</td>\n",
       "      <td>Americas</td>\n",
       "      <td>1957</td>\n",
       "      <td>51.356</td>\n",
       "      <td>4058385</td>\n",
       "      <td>3780.546651</td>\n",
       "    </tr>\n",
       "    <tr>\n",
       "      <th>446</th>\n",
       "      <td>Ecuador</td>\n",
       "      <td>Americas</td>\n",
       "      <td>1962</td>\n",
       "      <td>54.640</td>\n",
       "      <td>4681707</td>\n",
       "      <td>4086.114078</td>\n",
       "    </tr>\n",
       "    <tr>\n",
       "      <th>447</th>\n",
       "      <td>Ecuador</td>\n",
       "      <td>Americas</td>\n",
       "      <td>1967</td>\n",
       "      <td>56.678</td>\n",
       "      <td>5432424</td>\n",
       "      <td>4579.074215</td>\n",
       "    </tr>\n",
       "    <tr>\n",
       "      <th>448</th>\n",
       "      <td>Ecuador</td>\n",
       "      <td>Americas</td>\n",
       "      <td>1972</td>\n",
       "      <td>58.796</td>\n",
       "      <td>6298651</td>\n",
       "      <td>5280.994710</td>\n",
       "    </tr>\n",
       "    <tr>\n",
       "      <th>449</th>\n",
       "      <td>Ecuador</td>\n",
       "      <td>Americas</td>\n",
       "      <td>1977</td>\n",
       "      <td>61.310</td>\n",
       "      <td>7278866</td>\n",
       "      <td>6679.623260</td>\n",
       "    </tr>\n",
       "    <tr>\n",
       "      <th>450</th>\n",
       "      <td>Ecuador</td>\n",
       "      <td>Americas</td>\n",
       "      <td>1982</td>\n",
       "      <td>64.342</td>\n",
       "      <td>8365850</td>\n",
       "      <td>7213.791267</td>\n",
       "    </tr>\n",
       "    <tr>\n",
       "      <th>451</th>\n",
       "      <td>Ecuador</td>\n",
       "      <td>Americas</td>\n",
       "      <td>1987</td>\n",
       "      <td>67.231</td>\n",
       "      <td>9545158</td>\n",
       "      <td>6481.776993</td>\n",
       "    </tr>\n",
       "    <tr>\n",
       "      <th>452</th>\n",
       "      <td>Ecuador</td>\n",
       "      <td>Americas</td>\n",
       "      <td>1992</td>\n",
       "      <td>69.613</td>\n",
       "      <td>10748394</td>\n",
       "      <td>7103.702595</td>\n",
       "    </tr>\n",
       "    <tr>\n",
       "      <th>453</th>\n",
       "      <td>Ecuador</td>\n",
       "      <td>Americas</td>\n",
       "      <td>1997</td>\n",
       "      <td>72.312</td>\n",
       "      <td>11911819</td>\n",
       "      <td>7429.455877</td>\n",
       "    </tr>\n",
       "    <tr>\n",
       "      <th>454</th>\n",
       "      <td>Ecuador</td>\n",
       "      <td>Americas</td>\n",
       "      <td>2002</td>\n",
       "      <td>74.173</td>\n",
       "      <td>12921234</td>\n",
       "      <td>5773.044512</td>\n",
       "    </tr>\n",
       "    <tr>\n",
       "      <th>455</th>\n",
       "      <td>Ecuador</td>\n",
       "      <td>Americas</td>\n",
       "      <td>2007</td>\n",
       "      <td>74.994</td>\n",
       "      <td>13755680</td>\n",
       "      <td>6873.262326</td>\n",
       "    </tr>\n",
       "  </tbody>\n",
       "</table>\n",
       "</div>"
      ],
      "text/plain": [
       "     country continent  year  lifeExpectancy  population  gdpPerCapita\n",
       "444  Ecuador  Americas  1952          48.357     3548753   3522.110717\n",
       "445  Ecuador  Americas  1957          51.356     4058385   3780.546651\n",
       "446  Ecuador  Americas  1962          54.640     4681707   4086.114078\n",
       "447  Ecuador  Americas  1967          56.678     5432424   4579.074215\n",
       "448  Ecuador  Americas  1972          58.796     6298651   5280.994710\n",
       "449  Ecuador  Americas  1977          61.310     7278866   6679.623260\n",
       "450  Ecuador  Americas  1982          64.342     8365850   7213.791267\n",
       "451  Ecuador  Americas  1987          67.231     9545158   6481.776993\n",
       "452  Ecuador  Americas  1992          69.613    10748394   7103.702595\n",
       "453  Ecuador  Americas  1997          72.312    11911819   7429.455877\n",
       "454  Ecuador  Americas  2002          74.173    12921234   5773.044512\n",
       "455  Ecuador  Americas  2007          74.994    13755680   6873.262326"
      ]
     },
     "execution_count": 182,
     "metadata": {},
     "output_type": "execute_result"
    }
   ],
   "source": [
    "# Use Row Filtering to create a EC dataframe\n",
    "row_filter = df['country'] == 'Ecuador'\n",
    "df_EC = df[row_filter]\n",
    "\n",
    "print(\"Dataframe:  df_EC\")\n",
    "print(\"Number of Rows: \", df_EC.shape[0])\n",
    "print(\"Number of Columns: \", df_EC.shape[1])\n",
    "\n",
    "df_EC"
   ]
  },
  {
   "cell_type": "code",
   "execution_count": 183,
   "metadata": {},
   "outputs": [
    {
     "data": {
      "text/plain": [
       "<matplotlib.axes._subplots.AxesSubplot at 0xfc7a1d0>"
      ]
     },
     "execution_count": 183,
     "metadata": {},
     "output_type": "execute_result"
    },
    {
     "data": {
      "image/png": "[encoded data removed]",
      "text/plain": [
       "<Figure size 432x288 with 1 Axes>"
      ]
     },
     "metadata": {
      "needs_background": "light"
     },
     "output_type": "display_data"
    }
   ],
   "source": [
    "df_EC.plot.line(\n",
    "           x='lifeExpectancy', \n",
    "           y='year', \n",
    "           color='green',\n",
    "           marker='D',   # diamond marker\n",
    "           style=':',\n",
    "           title='EC Life Expectancy')"
   ]
  },
  {
   "cell_type": "markdown",
   "metadata": {},
   "source": [
    "## Chart 2: Population in Greece  \n",
    "- Create a dataframe with only Greek data rows  \n",
    "- Create a new column named *population_millions* by dividing the *population* column by a million\n",
    "- Plot population_millions for Greece for all years in the subsetted dataframe"
   ]
  },
  {
   "cell_type": "code",
   "execution_count": 184,
   "metadata": {},
   "outputs": [
    {
     "name": "stdout",
     "output_type": "stream",
     "text": [
      "Dataframe:  df_GR\n",
      "Number of Rows:  12\n",
      "Number of Columns:  6\n"
     ]
    },
    {
     "data": {
      "text/html": [
       "<div>\n",
       "<style scoped>\n",
       "    .dataframe tbody tr th:only-of-type {\n",
       "        vertical-align: middle;\n",
       "    }\n",
       "\n",
       "    .dataframe tbody tr th {\n",
       "        vertical-align: top;\n",
       "    }\n",
       "\n",
       "    .dataframe thead th {\n",
       "        text-align: right;\n",
       "    }\n",
       "</style>\n",
       "<table border=\"1\" class=\"dataframe\">\n",
       "  <thead>\n",
       "    <tr style=\"text-align: right;\">\n",
       "      <th></th>\n",
       "      <th>country</th>\n",
       "      <th>continent</th>\n",
       "      <th>year</th>\n",
       "      <th>lifeExpectancy</th>\n",
       "      <th>population</th>\n",
       "      <th>gdpPerCapita</th>\n",
       "    </tr>\n",
       "  </thead>\n",
       "  <tbody>\n",
       "    <tr>\n",
       "      <th>588</th>\n",
       "      <td>Greece</td>\n",
       "      <td>Europe</td>\n",
       "      <td>1952</td>\n",
       "      <td>65.860</td>\n",
       "      <td>7733250</td>\n",
       "      <td>3530.690067</td>\n",
       "    </tr>\n",
       "    <tr>\n",
       "      <th>589</th>\n",
       "      <td>Greece</td>\n",
       "      <td>Europe</td>\n",
       "      <td>1957</td>\n",
       "      <td>67.860</td>\n",
       "      <td>8096218</td>\n",
       "      <td>4916.299889</td>\n",
       "    </tr>\n",
       "    <tr>\n",
       "      <th>590</th>\n",
       "      <td>Greece</td>\n",
       "      <td>Europe</td>\n",
       "      <td>1962</td>\n",
       "      <td>69.510</td>\n",
       "      <td>8448233</td>\n",
       "      <td>6017.190733</td>\n",
       "    </tr>\n",
       "    <tr>\n",
       "      <th>591</th>\n",
       "      <td>Greece</td>\n",
       "      <td>Europe</td>\n",
       "      <td>1967</td>\n",
       "      <td>71.000</td>\n",
       "      <td>8716441</td>\n",
       "      <td>8513.097016</td>\n",
       "    </tr>\n",
       "    <tr>\n",
       "      <th>592</th>\n",
       "      <td>Greece</td>\n",
       "      <td>Europe</td>\n",
       "      <td>1972</td>\n",
       "      <td>72.340</td>\n",
       "      <td>8888628</td>\n",
       "      <td>12724.829570</td>\n",
       "    </tr>\n",
       "    <tr>\n",
       "      <th>593</th>\n",
       "      <td>Greece</td>\n",
       "      <td>Europe</td>\n",
       "      <td>1977</td>\n",
       "      <td>73.680</td>\n",
       "      <td>9308479</td>\n",
       "      <td>14195.524280</td>\n",
       "    </tr>\n",
       "    <tr>\n",
       "      <th>594</th>\n",
       "      <td>Greece</td>\n",
       "      <td>Europe</td>\n",
       "      <td>1982</td>\n",
       "      <td>75.240</td>\n",
       "      <td>9786480</td>\n",
       "      <td>15268.420890</td>\n",
       "    </tr>\n",
       "    <tr>\n",
       "      <th>595</th>\n",
       "      <td>Greece</td>\n",
       "      <td>Europe</td>\n",
       "      <td>1987</td>\n",
       "      <td>76.670</td>\n",
       "      <td>9974490</td>\n",
       "      <td>16120.528390</td>\n",
       "    </tr>\n",
       "    <tr>\n",
       "      <th>596</th>\n",
       "      <td>Greece</td>\n",
       "      <td>Europe</td>\n",
       "      <td>1992</td>\n",
       "      <td>77.030</td>\n",
       "      <td>10325429</td>\n",
       "      <td>17541.496340</td>\n",
       "    </tr>\n",
       "    <tr>\n",
       "      <th>597</th>\n",
       "      <td>Greece</td>\n",
       "      <td>Europe</td>\n",
       "      <td>1997</td>\n",
       "      <td>77.869</td>\n",
       "      <td>10502372</td>\n",
       "      <td>18747.698140</td>\n",
       "    </tr>\n",
       "    <tr>\n",
       "      <th>598</th>\n",
       "      <td>Greece</td>\n",
       "      <td>Europe</td>\n",
       "      <td>2002</td>\n",
       "      <td>78.256</td>\n",
       "      <td>10603863</td>\n",
       "      <td>22514.254800</td>\n",
       "    </tr>\n",
       "    <tr>\n",
       "      <th>599</th>\n",
       "      <td>Greece</td>\n",
       "      <td>Europe</td>\n",
       "      <td>2007</td>\n",
       "      <td>79.483</td>\n",
       "      <td>10706290</td>\n",
       "      <td>27538.411880</td>\n",
       "    </tr>\n",
       "  </tbody>\n",
       "</table>\n",
       "</div>"
      ],
      "text/plain": [
       "    country continent  year  lifeExpectancy  population  gdpPerCapita\n",
       "588  Greece    Europe  1952          65.860     7733250   3530.690067\n",
       "589  Greece    Europe  1957          67.860     8096218   4916.299889\n",
       "590  Greece    Europe  1962          69.510     8448233   6017.190733\n",
       "591  Greece    Europe  1967          71.000     8716441   8513.097016\n",
       "592  Greece    Europe  1972          72.340     8888628  12724.829570\n",
       "593  Greece    Europe  1977          73.680     9308479  14195.524280\n",
       "594  Greece    Europe  1982          75.240     9786480  15268.420890\n",
       "595  Greece    Europe  1987          76.670     9974490  16120.528390\n",
       "596  Greece    Europe  1992          77.030    10325429  17541.496340\n",
       "597  Greece    Europe  1997          77.869    10502372  18747.698140\n",
       "598  Greece    Europe  2002          78.256    10603863  22514.254800\n",
       "599  Greece    Europe  2007          79.483    10706290  27538.411880"
      ]
     },
     "execution_count": 184,
     "metadata": {},
     "output_type": "execute_result"
    }
   ],
   "source": [
    "# Use Row Filtering to create a Greece dataframe\n",
    "row_filter = df['country'] == 'Greece'\n",
    "df_GR = df[row_filter]\n",
    "\n",
    "print(\"Dataframe:  df_GR\")\n",
    "print(\"Number of Rows: \", df_GR.shape[0])\n",
    "print(\"Number of Columns: \", df_GR.shape[1])\n",
    "\n",
    "df_GR"
   ]
  },
  {
   "cell_type": "code",
   "execution_count": 185,
   "metadata": {},
   "outputs": [
    {
     "name": "stderr",
     "output_type": "stream",
     "text": [
      "c:\\users\\owner\\lib\\site-packages\\ipykernel_launcher.py:1: SettingWithCopyWarning: \n",
      "A value is trying to be set on a copy of a slice from a DataFrame.\n",
      "Try using .loc[row_indexer,col_indexer] = value instead\n",
      "\n",
      "See the caveats in the documentation: http://pandas.pydata.org/pandas-docs/stable/indexing.html#indexing-view-versus-copy\n",
      "  \"\"\"Entry point for launching an IPython kernel.\n"
     ]
    },
    {
     "data": {
      "text/html": [
       "<div>\n",
       "<style scoped>\n",
       "    .dataframe tbody tr th:only-of-type {\n",
       "        vertical-align: middle;\n",
       "    }\n",
       "\n",
       "    .dataframe tbody tr th {\n",
       "        vertical-align: top;\n",
       "    }\n",
       "\n",
       "    .dataframe thead th {\n",
       "        text-align: right;\n",
       "    }\n",
       "</style>\n",
       "<table border=\"1\" class=\"dataframe\">\n",
       "  <thead>\n",
       "    <tr style=\"text-align: right;\">\n",
       "      <th></th>\n",
       "      <th>country</th>\n",
       "      <th>continent</th>\n",
       "      <th>year</th>\n",
       "      <th>lifeExpectancy</th>\n",
       "      <th>population</th>\n",
       "      <th>gdpPerCapita</th>\n",
       "      <th>population_millions</th>\n",
       "    </tr>\n",
       "  </thead>\n",
       "  <tbody>\n",
       "    <tr>\n",
       "      <th>588</th>\n",
       "      <td>Greece</td>\n",
       "      <td>Europe</td>\n",
       "      <td>1952</td>\n",
       "      <td>65.86</td>\n",
       "      <td>7733250</td>\n",
       "      <td>3530.690067</td>\n",
       "      <td>7.733250</td>\n",
       "    </tr>\n",
       "    <tr>\n",
       "      <th>589</th>\n",
       "      <td>Greece</td>\n",
       "      <td>Europe</td>\n",
       "      <td>1957</td>\n",
       "      <td>67.86</td>\n",
       "      <td>8096218</td>\n",
       "      <td>4916.299889</td>\n",
       "      <td>8.096218</td>\n",
       "    </tr>\n",
       "    <tr>\n",
       "      <th>590</th>\n",
       "      <td>Greece</td>\n",
       "      <td>Europe</td>\n",
       "      <td>1962</td>\n",
       "      <td>69.51</td>\n",
       "      <td>8448233</td>\n",
       "      <td>6017.190733</td>\n",
       "      <td>8.448233</td>\n",
       "    </tr>\n",
       "    <tr>\n",
       "      <th>591</th>\n",
       "      <td>Greece</td>\n",
       "      <td>Europe</td>\n",
       "      <td>1967</td>\n",
       "      <td>71.00</td>\n",
       "      <td>8716441</td>\n",
       "      <td>8513.097016</td>\n",
       "      <td>8.716441</td>\n",
       "    </tr>\n",
       "    <tr>\n",
       "      <th>592</th>\n",
       "      <td>Greece</td>\n",
       "      <td>Europe</td>\n",
       "      <td>1972</td>\n",
       "      <td>72.34</td>\n",
       "      <td>8888628</td>\n",
       "      <td>12724.829570</td>\n",
       "      <td>8.888628</td>\n",
       "    </tr>\n",
       "  </tbody>\n",
       "</table>\n",
       "</div>"
      ],
      "text/plain": [
       "    country continent  year  lifeExpectancy  population  gdpPerCapita  \\\n",
       "588  Greece    Europe  1952           65.86     7733250   3530.690067   \n",
       "589  Greece    Europe  1957           67.86     8096218   4916.299889   \n",
       "590  Greece    Europe  1962           69.51     8448233   6017.190733   \n",
       "591  Greece    Europe  1967           71.00     8716441   8513.097016   \n",
       "592  Greece    Europe  1972           72.34     8888628  12724.829570   \n",
       "\n",
       "     population_millions  \n",
       "588             7.733250  \n",
       "589             8.096218  \n",
       "590             8.448233  \n",
       "591             8.716441  \n",
       "592             8.888628  "
      ]
     },
     "execution_count": 185,
     "metadata": {},
     "output_type": "execute_result"
    }
   ],
   "source": [
    "df_GR['population_millions'] = (df_GR.population/1000000)\n",
    "\n",
    "df_GR.head()"
   ]
  },
  {
   "cell_type": "code",
   "execution_count": 186,
   "metadata": {},
   "outputs": [
    {
     "data": {
      "text/plain": [
       "<matplotlib.axes._subplots.AxesSubplot at 0xfcb0df0>"
      ]
     },
     "execution_count": 186,
     "metadata": {},
     "output_type": "execute_result"
    },
    {
     "data": {
      "image/png": "[encoded data removed]",
      "text/plain": [
       "<Figure size 432x288 with 1 Axes>"
      ]
     },
     "metadata": {
      "needs_background": "light"
     },
     "output_type": "display_data"
    }
   ],
   "source": [
    "df_GR.plot.line(\n",
    "           x='population_millions', \n",
    "           y='year', \n",
    "           color='blue',\n",
    "           marker='D',   # diamond marker\n",
    "           style=':',\n",
    "           title='GR Population (millions)')"
   ]
  },
  {
   "cell_type": "markdown",
   "metadata": {},
   "source": [
    "# Setting Up Multi-Line Data"
   ]
  },
  {
   "cell_type": "markdown",
   "metadata": {},
   "source": [
    "# Chart 3: Multi-Line Population Chart\n",
    "- Plot the population,  \n",
    "- For all years,  \n",
    "- For Argentina, Australia,Austria, Bahrain"
   ]
  },
  {
   "cell_type": "code",
   "execution_count": 187,
   "metadata": {
    "scrolled": true
   },
   "outputs": [
    {
     "name": "stdout",
     "output_type": "stream",
     "text": [
      "Dataframe:  df_pop\n",
      "Number of Rows:  12\n",
      "Number of Columns:  142\n"
     ]
    },
    {
     "data": {
      "text/html": [
       "<div>\n",
       "<style scoped>\n",
       "    .dataframe tbody tr th:only-of-type {\n",
       "        vertical-align: middle;\n",
       "    }\n",
       "\n",
       "    .dataframe tbody tr th {\n",
       "        vertical-align: top;\n",
       "    }\n",
       "\n",
       "    .dataframe thead th {\n",
       "        text-align: right;\n",
       "    }\n",
       "</style>\n",
       "<table border=\"1\" class=\"dataframe\">\n",
       "  <thead>\n",
       "    <tr style=\"text-align: right;\">\n",
       "      <th>country</th>\n",
       "      <th>Afghanistan</th>\n",
       "      <th>Albania</th>\n",
       "      <th>Algeria</th>\n",
       "      <th>Angola</th>\n",
       "      <th>Argentina</th>\n",
       "      <th>Australia</th>\n",
       "      <th>Austria</th>\n",
       "      <th>Bahrain</th>\n",
       "      <th>Bangladesh</th>\n",
       "      <th>Belgium</th>\n",
       "      <th>...</th>\n",
       "      <th>Uganda</th>\n",
       "      <th>United Kingdom</th>\n",
       "      <th>United States</th>\n",
       "      <th>Uruguay</th>\n",
       "      <th>Venezuela</th>\n",
       "      <th>Vietnam</th>\n",
       "      <th>West Bank and Gaza</th>\n",
       "      <th>Yemen, Rep.</th>\n",
       "      <th>Zambia</th>\n",
       "      <th>Zimbabwe</th>\n",
       "    </tr>\n",
       "    <tr>\n",
       "      <th>year</th>\n",
       "      <th></th>\n",
       "      <th></th>\n",
       "      <th></th>\n",
       "      <th></th>\n",
       "      <th></th>\n",
       "      <th></th>\n",
       "      <th></th>\n",
       "      <th></th>\n",
       "      <th></th>\n",
       "      <th></th>\n",
       "      <th></th>\n",
       "      <th></th>\n",
       "      <th></th>\n",
       "      <th></th>\n",
       "      <th></th>\n",
       "      <th></th>\n",
       "      <th></th>\n",
       "      <th></th>\n",
       "      <th></th>\n",
       "      <th></th>\n",
       "      <th></th>\n",
       "    </tr>\n",
       "  </thead>\n",
       "  <tbody>\n",
       "    <tr>\n",
       "      <th>1952</th>\n",
       "      <td>8425333</td>\n",
       "      <td>1282697</td>\n",
       "      <td>9279525</td>\n",
       "      <td>4232095</td>\n",
       "      <td>17876956</td>\n",
       "      <td>8691212</td>\n",
       "      <td>6927772</td>\n",
       "      <td>120447</td>\n",
       "      <td>46886859</td>\n",
       "      <td>8730405</td>\n",
       "      <td>...</td>\n",
       "      <td>5824797</td>\n",
       "      <td>50430000</td>\n",
       "      <td>157553000</td>\n",
       "      <td>2252965</td>\n",
       "      <td>5439568</td>\n",
       "      <td>26246839</td>\n",
       "      <td>1030585</td>\n",
       "      <td>4963829</td>\n",
       "      <td>2672000</td>\n",
       "      <td>3080907</td>\n",
       "    </tr>\n",
       "    <tr>\n",
       "      <th>1957</th>\n",
       "      <td>9240934</td>\n",
       "      <td>1476505</td>\n",
       "      <td>10270856</td>\n",
       "      <td>4561361</td>\n",
       "      <td>19610538</td>\n",
       "      <td>9712569</td>\n",
       "      <td>6965860</td>\n",
       "      <td>138655</td>\n",
       "      <td>51365468</td>\n",
       "      <td>8989111</td>\n",
       "      <td>...</td>\n",
       "      <td>6675501</td>\n",
       "      <td>51430000</td>\n",
       "      <td>171984000</td>\n",
       "      <td>2424959</td>\n",
       "      <td>6702668</td>\n",
       "      <td>28998543</td>\n",
       "      <td>1070439</td>\n",
       "      <td>5498090</td>\n",
       "      <td>3016000</td>\n",
       "      <td>3646340</td>\n",
       "    </tr>\n",
       "    <tr>\n",
       "      <th>1962</th>\n",
       "      <td>10267083</td>\n",
       "      <td>1728137</td>\n",
       "      <td>11000948</td>\n",
       "      <td>4826015</td>\n",
       "      <td>21283783</td>\n",
       "      <td>10794968</td>\n",
       "      <td>7129864</td>\n",
       "      <td>171863</td>\n",
       "      <td>56839289</td>\n",
       "      <td>9218400</td>\n",
       "      <td>...</td>\n",
       "      <td>7688797</td>\n",
       "      <td>53292000</td>\n",
       "      <td>186538000</td>\n",
       "      <td>2598466</td>\n",
       "      <td>8143375</td>\n",
       "      <td>33796140</td>\n",
       "      <td>1133134</td>\n",
       "      <td>6120081</td>\n",
       "      <td>3421000</td>\n",
       "      <td>4277736</td>\n",
       "    </tr>\n",
       "    <tr>\n",
       "      <th>1967</th>\n",
       "      <td>11537966</td>\n",
       "      <td>1984060</td>\n",
       "      <td>12760499</td>\n",
       "      <td>5247469</td>\n",
       "      <td>22934225</td>\n",
       "      <td>11872264</td>\n",
       "      <td>7376998</td>\n",
       "      <td>202182</td>\n",
       "      <td>62821884</td>\n",
       "      <td>9556500</td>\n",
       "      <td>...</td>\n",
       "      <td>8900294</td>\n",
       "      <td>54959000</td>\n",
       "      <td>198712000</td>\n",
       "      <td>2748579</td>\n",
       "      <td>9709552</td>\n",
       "      <td>39463910</td>\n",
       "      <td>1142636</td>\n",
       "      <td>6740785</td>\n",
       "      <td>3900000</td>\n",
       "      <td>4995432</td>\n",
       "    </tr>\n",
       "    <tr>\n",
       "      <th>1972</th>\n",
       "      <td>13079460</td>\n",
       "      <td>2263554</td>\n",
       "      <td>14760787</td>\n",
       "      <td>5894858</td>\n",
       "      <td>24779799</td>\n",
       "      <td>13177000</td>\n",
       "      <td>7544201</td>\n",
       "      <td>230800</td>\n",
       "      <td>70759295</td>\n",
       "      <td>9709100</td>\n",
       "      <td>...</td>\n",
       "      <td>10190285</td>\n",
       "      <td>56079000</td>\n",
       "      <td>209896000</td>\n",
       "      <td>2829526</td>\n",
       "      <td>11515649</td>\n",
       "      <td>44655014</td>\n",
       "      <td>1089572</td>\n",
       "      <td>7407075</td>\n",
       "      <td>4506497</td>\n",
       "      <td>5861135</td>\n",
       "    </tr>\n",
       "  </tbody>\n",
       "</table>\n",
       "<p>5 rows × 142 columns</p>\n",
       "</div>"
      ],
      "text/plain": [
       "country  Afghanistan  Albania   Algeria   Angola  Argentina  Australia  \\\n",
       "year                                                                     \n",
       "1952         8425333  1282697   9279525  4232095   17876956    8691212   \n",
       "1957         9240934  1476505  10270856  4561361   19610538    9712569   \n",
       "1962        10267083  1728137  11000948  4826015   21283783   10794968   \n",
       "1967        11537966  1984060  12760499  5247469   22934225   11872264   \n",
       "1972        13079460  2263554  14760787  5894858   24779799   13177000   \n",
       "\n",
       "country  Austria  Bahrain  Bangladesh  Belgium  ...    Uganda  United Kingdom  \\\n",
       "year                                            ...                             \n",
       "1952     6927772   120447    46886859  8730405  ...   5824797        50430000   \n",
       "1957     6965860   138655    51365468  8989111  ...   6675501        51430000   \n",
       "1962     7129864   171863    56839289  9218400  ...   7688797        53292000   \n",
       "1967     7376998   202182    62821884  9556500  ...   8900294        54959000   \n",
       "1972     7544201   230800    70759295  9709100  ...  10190285        56079000   \n",
       "\n",
       "country  United States  Uruguay  Venezuela   Vietnam  West Bank and Gaza  \\\n",
       "year                                                                       \n",
       "1952         157553000  2252965    5439568  26246839             1030585   \n",
       "1957         171984000  2424959    6702668  28998543             1070439   \n",
       "1962         186538000  2598466    8143375  33796140             1133134   \n",
       "1967         198712000  2748579    9709552  39463910             1142636   \n",
       "1972         209896000  2829526   11515649  44655014             1089572   \n",
       "\n",
       "country  Yemen, Rep.   Zambia  Zimbabwe  \n",
       "year                                     \n",
       "1952         4963829  2672000   3080907  \n",
       "1957         5498090  3016000   3646340  \n",
       "1962         6120081  3421000   4277736  \n",
       "1967         6740785  3900000   4995432  \n",
       "1972         7407075  4506497   5861135  \n",
       "\n",
       "[5 rows x 142 columns]"
      ]
     },
     "execution_count": 187,
     "metadata": {},
     "output_type": "execute_result"
    }
   ],
   "source": [
    "# Pivot:  value = population\n",
    "df_pop = df.pivot(index='year', columns='country', values='population')\n",
    "\n",
    "print(\"Dataframe:  df_pop\")\n",
    "print(\"Number of Rows: \", df_pop.shape[0])\n",
    "print(\"Number of Columns: \", df_pop.shape[1])\n",
    "\n",
    "df_pop.head()"
   ]
  },
  {
   "cell_type": "code",
   "execution_count": 188,
   "metadata": {},
   "outputs": [
    {
     "data": {
      "text/plain": [
       "<matplotlib.axes._subplots.AxesSubplot at 0xfcd3510>"
      ]
     },
     "execution_count": 188,
     "metadata": {},
     "output_type": "execute_result"
    },
    {
     "data": {
      "image/png": "[encoded data removed]",
      "text/plain": [
       "<Figure size 432x288 with 1 Axes>"
      ]
     },
     "metadata": {
      "needs_background": "light"
     },
     "output_type": "display_data"
    }
   ],
   "source": [
    "# Create a List filled with the countries to plot\n",
    "countries_to_plot = ['Argentina','Australia','Austria','Bahrain']\n",
    "\n",
    "# plot the countries \n",
    "df_pop[countries_to_plot].plot.line()"
   ]
  },
  {
   "cell_type": "markdown",
   "metadata": {},
   "source": [
    "# Chart 4: Multi-Line Life Expectancy Chart\n",
    "- Plot Life Expectancy,  \n",
    "- For all years,  \n",
    "- For China, Thailand, Vietnam"
   ]
  },
  {
   "cell_type": "code",
   "execution_count": 189,
   "metadata": {},
   "outputs": [
    {
     "name": "stdout",
     "output_type": "stream",
     "text": [
      "Dataframe:  df_life\n",
      "Number of Rows:  12\n",
      "Number of Columns:  142\n"
     ]
    },
    {
     "data": {
      "text/html": [
       "<div>\n",
       "<style scoped>\n",
       "    .dataframe tbody tr th:only-of-type {\n",
       "        vertical-align: middle;\n",
       "    }\n",
       "\n",
       "    .dataframe tbody tr th {\n",
       "        vertical-align: top;\n",
       "    }\n",
       "\n",
       "    .dataframe thead th {\n",
       "        text-align: right;\n",
       "    }\n",
       "</style>\n",
       "<table border=\"1\" class=\"dataframe\">\n",
       "  <thead>\n",
       "    <tr style=\"text-align: right;\">\n",
       "      <th>country</th>\n",
       "      <th>Afghanistan</th>\n",
       "      <th>Albania</th>\n",
       "      <th>Algeria</th>\n",
       "      <th>Angola</th>\n",
       "      <th>Argentina</th>\n",
       "      <th>Australia</th>\n",
       "      <th>Austria</th>\n",
       "      <th>Bahrain</th>\n",
       "      <th>Bangladesh</th>\n",
       "      <th>Belgium</th>\n",
       "      <th>...</th>\n",
       "      <th>Uganda</th>\n",
       "      <th>United Kingdom</th>\n",
       "      <th>United States</th>\n",
       "      <th>Uruguay</th>\n",
       "      <th>Venezuela</th>\n",
       "      <th>Vietnam</th>\n",
       "      <th>West Bank and Gaza</th>\n",
       "      <th>Yemen, Rep.</th>\n",
       "      <th>Zambia</th>\n",
       "      <th>Zimbabwe</th>\n",
       "    </tr>\n",
       "    <tr>\n",
       "      <th>year</th>\n",
       "      <th></th>\n",
       "      <th></th>\n",
       "      <th></th>\n",
       "      <th></th>\n",
       "      <th></th>\n",
       "      <th></th>\n",
       "      <th></th>\n",
       "      <th></th>\n",
       "      <th></th>\n",
       "      <th></th>\n",
       "      <th></th>\n",
       "      <th></th>\n",
       "      <th></th>\n",
       "      <th></th>\n",
       "      <th></th>\n",
       "      <th></th>\n",
       "      <th></th>\n",
       "      <th></th>\n",
       "      <th></th>\n",
       "      <th></th>\n",
       "      <th></th>\n",
       "    </tr>\n",
       "  </thead>\n",
       "  <tbody>\n",
       "    <tr>\n",
       "      <th>1952</th>\n",
       "      <td>28.801</td>\n",
       "      <td>55.23</td>\n",
       "      <td>43.077</td>\n",
       "      <td>30.015</td>\n",
       "      <td>62.485</td>\n",
       "      <td>69.12</td>\n",
       "      <td>66.80</td>\n",
       "      <td>50.939</td>\n",
       "      <td>37.484</td>\n",
       "      <td>68.00</td>\n",
       "      <td>...</td>\n",
       "      <td>39.978</td>\n",
       "      <td>69.18</td>\n",
       "      <td>68.44</td>\n",
       "      <td>66.071</td>\n",
       "      <td>55.088</td>\n",
       "      <td>40.412</td>\n",
       "      <td>43.160</td>\n",
       "      <td>32.548</td>\n",
       "      <td>42.038</td>\n",
       "      <td>48.451</td>\n",
       "    </tr>\n",
       "    <tr>\n",
       "      <th>1957</th>\n",
       "      <td>30.332</td>\n",
       "      <td>59.28</td>\n",
       "      <td>45.685</td>\n",
       "      <td>31.999</td>\n",
       "      <td>64.399</td>\n",
       "      <td>70.33</td>\n",
       "      <td>67.48</td>\n",
       "      <td>53.832</td>\n",
       "      <td>39.348</td>\n",
       "      <td>69.24</td>\n",
       "      <td>...</td>\n",
       "      <td>42.571</td>\n",
       "      <td>70.42</td>\n",
       "      <td>69.49</td>\n",
       "      <td>67.044</td>\n",
       "      <td>57.907</td>\n",
       "      <td>42.887</td>\n",
       "      <td>45.671</td>\n",
       "      <td>33.970</td>\n",
       "      <td>44.077</td>\n",
       "      <td>50.469</td>\n",
       "    </tr>\n",
       "    <tr>\n",
       "      <th>1962</th>\n",
       "      <td>31.997</td>\n",
       "      <td>64.82</td>\n",
       "      <td>48.303</td>\n",
       "      <td>34.000</td>\n",
       "      <td>65.142</td>\n",
       "      <td>70.93</td>\n",
       "      <td>69.54</td>\n",
       "      <td>56.923</td>\n",
       "      <td>41.216</td>\n",
       "      <td>70.25</td>\n",
       "      <td>...</td>\n",
       "      <td>45.344</td>\n",
       "      <td>70.76</td>\n",
       "      <td>70.21</td>\n",
       "      <td>68.253</td>\n",
       "      <td>60.770</td>\n",
       "      <td>45.363</td>\n",
       "      <td>48.127</td>\n",
       "      <td>35.180</td>\n",
       "      <td>46.023</td>\n",
       "      <td>52.358</td>\n",
       "    </tr>\n",
       "    <tr>\n",
       "      <th>1967</th>\n",
       "      <td>34.020</td>\n",
       "      <td>66.22</td>\n",
       "      <td>51.407</td>\n",
       "      <td>35.985</td>\n",
       "      <td>65.634</td>\n",
       "      <td>71.10</td>\n",
       "      <td>70.14</td>\n",
       "      <td>59.923</td>\n",
       "      <td>43.453</td>\n",
       "      <td>70.94</td>\n",
       "      <td>...</td>\n",
       "      <td>48.051</td>\n",
       "      <td>71.36</td>\n",
       "      <td>70.76</td>\n",
       "      <td>68.468</td>\n",
       "      <td>63.479</td>\n",
       "      <td>47.838</td>\n",
       "      <td>51.631</td>\n",
       "      <td>36.984</td>\n",
       "      <td>47.768</td>\n",
       "      <td>53.995</td>\n",
       "    </tr>\n",
       "    <tr>\n",
       "      <th>1972</th>\n",
       "      <td>36.088</td>\n",
       "      <td>67.69</td>\n",
       "      <td>54.518</td>\n",
       "      <td>37.928</td>\n",
       "      <td>67.065</td>\n",
       "      <td>71.93</td>\n",
       "      <td>70.63</td>\n",
       "      <td>63.300</td>\n",
       "      <td>45.252</td>\n",
       "      <td>71.44</td>\n",
       "      <td>...</td>\n",
       "      <td>51.016</td>\n",
       "      <td>72.01</td>\n",
       "      <td>71.34</td>\n",
       "      <td>68.673</td>\n",
       "      <td>65.712</td>\n",
       "      <td>50.254</td>\n",
       "      <td>56.532</td>\n",
       "      <td>39.848</td>\n",
       "      <td>50.107</td>\n",
       "      <td>55.635</td>\n",
       "    </tr>\n",
       "  </tbody>\n",
       "</table>\n",
       "<p>5 rows × 142 columns</p>\n",
       "</div>"
      ],
      "text/plain": [
       "country  Afghanistan  Albania  Algeria  Angola  Argentina  Australia  Austria  \\\n",
       "year                                                                            \n",
       "1952          28.801    55.23   43.077  30.015     62.485      69.12    66.80   \n",
       "1957          30.332    59.28   45.685  31.999     64.399      70.33    67.48   \n",
       "1962          31.997    64.82   48.303  34.000     65.142      70.93    69.54   \n",
       "1967          34.020    66.22   51.407  35.985     65.634      71.10    70.14   \n",
       "1972          36.088    67.69   54.518  37.928     67.065      71.93    70.63   \n",
       "\n",
       "country  Bahrain  Bangladesh  Belgium  ...  Uganda  United Kingdom  \\\n",
       "year                                   ...                           \n",
       "1952      50.939      37.484    68.00  ...  39.978           69.18   \n",
       "1957      53.832      39.348    69.24  ...  42.571           70.42   \n",
       "1962      56.923      41.216    70.25  ...  45.344           70.76   \n",
       "1967      59.923      43.453    70.94  ...  48.051           71.36   \n",
       "1972      63.300      45.252    71.44  ...  51.016           72.01   \n",
       "\n",
       "country  United States  Uruguay  Venezuela  Vietnam  West Bank and Gaza  \\\n",
       "year                                                                      \n",
       "1952             68.44   66.071     55.088   40.412              43.160   \n",
       "1957             69.49   67.044     57.907   42.887              45.671   \n",
       "1962             70.21   68.253     60.770   45.363              48.127   \n",
       "1967             70.76   68.468     63.479   47.838              51.631   \n",
       "1972             71.34   68.673     65.712   50.254              56.532   \n",
       "\n",
       "country  Yemen, Rep.  Zambia  Zimbabwe  \n",
       "year                                    \n",
       "1952          32.548  42.038    48.451  \n",
       "1957          33.970  44.077    50.469  \n",
       "1962          35.180  46.023    52.358  \n",
       "1967          36.984  47.768    53.995  \n",
       "1972          39.848  50.107    55.635  \n",
       "\n",
       "[5 rows x 142 columns]"
      ]
     },
     "execution_count": 189,
     "metadata": {},
     "output_type": "execute_result"
    }
   ],
   "source": [
    "# Pivot:  value = lifeExpectancy\n",
    "df_life = df.pivot(index='year', columns='country', values='lifeExpectancy')\n",
    "\n",
    "print(\"Dataframe:  df_life\")\n",
    "print(\"Number of Rows: \", df_life.shape[0])\n",
    "print(\"Number of Columns: \", df_life.shape[1])\n",
    "\n",
    "df_life.head()"
   ]
  },
  {
   "cell_type": "code",
   "execution_count": 190,
   "metadata": {},
   "outputs": [
    {
     "data": {
      "text/plain": [
       "<matplotlib.axes._subplots.AxesSubplot at 0xfd109d0>"
      ]
     },
     "execution_count": 190,
     "metadata": {},
     "output_type": "execute_result"
    },
    {
     "data": {
      "image/png": "[encoded data removed]",
      "text/plain": [
       "<Figure size 432x288 with 1 Axes>"
      ]
     },
     "metadata": {
      "needs_background": "light"
     },
     "output_type": "display_data"
    }
   ],
   "source": [
    "# Create a List filled with the countries to plot\n",
    "countries_to_plot = ['China', 'Thailand', 'Vietnam']\n",
    "\n",
    "# plot the countries \n",
    "df_life[countries_to_plot].plot.line()"
   ]
  },
  {
   "cell_type": "markdown",
   "metadata": {},
   "source": [
    "# Chart 5: Stock Price Comparisons  \n",
    "1. Read the **stocks_Tall.csv** file into a dataframe named df  \n",
    "2. Create a new dataframe named **df_stocks** based on df -- but with the *Number of Records* column dropped\n",
    "### Data file: *stocks_Tall.csv*  "
   ]
  },
  {
   "cell_type": "code",
   "execution_count": 191,
   "metadata": {},
   "outputs": [
    {
     "name": "stdout",
     "output_type": "stream",
     "text": [
      "Dataframe:  df\n",
      "Number of Rows:  1210\n",
      "Number of Columns:  4\n"
     ]
    },
    {
     "data": {
      "text/html": [
       "<div>\n",
       "<style scoped>\n",
       "    .dataframe tbody tr th:only-of-type {\n",
       "        vertical-align: middle;\n",
       "    }\n",
       "\n",
       "    .dataframe tbody tr th {\n",
       "        vertical-align: top;\n",
       "    }\n",
       "\n",
       "    .dataframe thead th {\n",
       "        text-align: right;\n",
       "    }\n",
       "</style>\n",
       "<table border=\"1\" class=\"dataframe\">\n",
       "  <thead>\n",
       "    <tr style=\"text-align: right;\">\n",
       "      <th></th>\n",
       "      <th>Date</th>\n",
       "      <th>Number of Records</th>\n",
       "      <th>Stock</th>\n",
       "      <th>Stock Value</th>\n",
       "    </tr>\n",
       "  </thead>\n",
       "  <tbody>\n",
       "    <tr>\n",
       "      <th>0</th>\n",
       "      <td>1/3/2007</td>\n",
       "      <td>1</td>\n",
       "      <td>Aapl</td>\n",
       "      <td>11.107141</td>\n",
       "    </tr>\n",
       "    <tr>\n",
       "      <th>1</th>\n",
       "      <td>2/1/2007</td>\n",
       "      <td>1</td>\n",
       "      <td>Aapl</td>\n",
       "      <td>10.962033</td>\n",
       "    </tr>\n",
       "    <tr>\n",
       "      <th>2</th>\n",
       "      <td>3/1/2007</td>\n",
       "      <td>1</td>\n",
       "      <td>Aapl</td>\n",
       "      <td>12.037377</td>\n",
       "    </tr>\n",
       "    <tr>\n",
       "      <th>3</th>\n",
       "      <td>4/2/2007</td>\n",
       "      <td>1</td>\n",
       "      <td>Aapl</td>\n",
       "      <td>12.930043</td>\n",
       "    </tr>\n",
       "    <tr>\n",
       "      <th>4</th>\n",
       "      <td>5/1/2007</td>\n",
       "      <td>1</td>\n",
       "      <td>Aapl</td>\n",
       "      <td>15.701322</td>\n",
       "    </tr>\n",
       "  </tbody>\n",
       "</table>\n",
       "</div>"
      ],
      "text/plain": [
       "       Date  Number of Records Stock  Stock Value\n",
       "0  1/3/2007                  1  Aapl    11.107141\n",
       "1  2/1/2007                  1  Aapl    10.962033\n",
       "2  3/1/2007                  1  Aapl    12.037377\n",
       "3  4/2/2007                  1  Aapl    12.930043\n",
       "4  5/1/2007                  1  Aapl    15.701322"
      ]
     },
     "execution_count": 191,
     "metadata": {},
     "output_type": "execute_result"
    }
   ],
   "source": [
    "df = pd.read_csv('Data\\\\stocks_Tall.csv')\n",
    "\n",
    "print(\"Dataframe:  df\")\n",
    "print(\"Number of Rows: \", df.shape[0])\n",
    "print(\"Number of Columns: \", df.shape[1])\n",
    "\n",
    "df.head()"
   ]
  },
  {
   "cell_type": "markdown",
   "metadata": {},
   "source": [
    "### Drop column 'Number of Records'"
   ]
  },
  {
   "cell_type": "code",
   "execution_count": 192,
   "metadata": {},
   "outputs": [
    {
     "data": {
      "text/html": [
       "<div>\n",
       "<style scoped>\n",
       "    .dataframe tbody tr th:only-of-type {\n",
       "        vertical-align: middle;\n",
       "    }\n",
       "\n",
       "    .dataframe tbody tr th {\n",
       "        vertical-align: top;\n",
       "    }\n",
       "\n",
       "    .dataframe thead th {\n",
       "        text-align: right;\n",
       "    }\n",
       "</style>\n",
       "<table border=\"1\" class=\"dataframe\">\n",
       "  <thead>\n",
       "    <tr style=\"text-align: right;\">\n",
       "      <th></th>\n",
       "      <th>Date</th>\n",
       "      <th>Stock</th>\n",
       "      <th>Stock Value</th>\n",
       "    </tr>\n",
       "  </thead>\n",
       "  <tbody>\n",
       "    <tr>\n",
       "      <th>0</th>\n",
       "      <td>1/3/2007</td>\n",
       "      <td>Aapl</td>\n",
       "      <td>11.107141</td>\n",
       "    </tr>\n",
       "    <tr>\n",
       "      <th>1</th>\n",
       "      <td>2/1/2007</td>\n",
       "      <td>Aapl</td>\n",
       "      <td>10.962033</td>\n",
       "    </tr>\n",
       "    <tr>\n",
       "      <th>2</th>\n",
       "      <td>3/1/2007</td>\n",
       "      <td>Aapl</td>\n",
       "      <td>12.037377</td>\n",
       "    </tr>\n",
       "    <tr>\n",
       "      <th>3</th>\n",
       "      <td>4/2/2007</td>\n",
       "      <td>Aapl</td>\n",
       "      <td>12.930043</td>\n",
       "    </tr>\n",
       "    <tr>\n",
       "      <th>4</th>\n",
       "      <td>5/1/2007</td>\n",
       "      <td>Aapl</td>\n",
       "      <td>15.701322</td>\n",
       "    </tr>\n",
       "  </tbody>\n",
       "</table>\n",
       "</div>"
      ],
      "text/plain": [
       "       Date Stock  Stock Value\n",
       "0  1/3/2007  Aapl    11.107141\n",
       "1  2/1/2007  Aapl    10.962033\n",
       "2  3/1/2007  Aapl    12.037377\n",
       "3  4/2/2007  Aapl    12.930043\n",
       "4  5/1/2007  Aapl    15.701322"
      ]
     },
     "execution_count": 192,
     "metadata": {},
     "output_type": "execute_result"
    }
   ],
   "source": [
    "df.drop(['Number of Records'], axis='columns', inplace=True)\n",
    "\n",
    "df.head()"
   ]
  },
  {
   "cell_type": "markdown",
   "metadata": {},
   "source": [
    "### Display the answer to the question:  What are the different stocks do we have in this dataframe?"
   ]
  },
  {
   "cell_type": "code",
   "execution_count": 193,
   "metadata": {},
   "outputs": [
    {
     "data": {
      "text/plain": [
       "array(['Aapl', 'Adbe', 'CVX', 'Goog', 'IBM', 'Mdlz', 'Msft', 'Nflx',\n",
       "       'Orcl', 'Sbux'], dtype=object)"
      ]
     },
     "execution_count": 193,
     "metadata": {},
     "output_type": "execute_result"
    }
   ],
   "source": [
    "df['Stock'].unique()"
   ]
  },
  {
   "cell_type": "markdown",
   "metadata": {},
   "source": [
    "### Convert the *Date* column to a DateTime datatype"
   ]
  },
  {
   "cell_type": "code",
   "execution_count": 205,
   "metadata": {},
   "outputs": [
    {
     "data": {
      "text/plain": [
       "Date           datetime64[ns]\n",
       "Stock                  object\n",
       "Stock Value           float64\n",
       "dtype: object"
      ]
     },
     "execution_count": 205,
     "metadata": {},
     "output_type": "execute_result"
    }
   ],
   "source": [
    "# Change Date to date\n",
    "df['Date'] = pd.to_datetime(df['Date'])\n",
    "\n",
    "df.dtypes"
   ]
  },
  {
   "cell_type": "markdown",
   "metadata": {},
   "source": [
    "### Create a new dataframe from Pivoting the data to a Wide format  \n",
    "- Each stock should be it's own column  \n",
    "- The Index should be the date  \n",
    "- Display the results"
   ]
  },
  {
   "cell_type": "code",
   "execution_count": 210,
   "metadata": {},
   "outputs": [
    {
     "data": {
      "text/plain": [
       "Stock\n",
       "Aapl           float64\n",
       "Adbe           float64\n",
       "CVX            float64\n",
       "Goog           float64\n",
       "IBM            float64\n",
       "Mdlz           float64\n",
       "Msft           float64\n",
       "Nflx           float64\n",
       "Orcl           float64\n",
       "Sbux           float64\n",
       "Date    datetime64[ns]\n",
       "dtype: object"
      ]
     },
     "execution_count": 210,
     "metadata": {},
     "output_type": "execute_result"
    }
   ],
   "source": [
    "df_stock.dtypes"
   ]
  },
  {
   "cell_type": "code",
   "execution_count": 211,
   "metadata": {
    "scrolled": true
   },
   "outputs": [
    {
     "name": "stdout",
     "output_type": "stream",
     "text": [
      "Dataframe:  df_wide_GDP\n",
      "Number of Rows:  121\n",
      "Number of Columns:  10\n"
     ]
    },
    {
     "data": {
      "text/html": [
       "<div>\n",
       "<style scoped>\n",
       "    .dataframe tbody tr th:only-of-type {\n",
       "        vertical-align: middle;\n",
       "    }\n",
       "\n",
       "    .dataframe tbody tr th {\n",
       "        vertical-align: top;\n",
       "    }\n",
       "\n",
       "    .dataframe thead th {\n",
       "        text-align: right;\n",
       "    }\n",
       "</style>\n",
       "<table border=\"1\" class=\"dataframe\">\n",
       "  <thead>\n",
       "    <tr style=\"text-align: right;\">\n",
       "      <th>Stock</th>\n",
       "      <th>Aapl</th>\n",
       "      <th>Adbe</th>\n",
       "      <th>CVX</th>\n",
       "      <th>Goog</th>\n",
       "      <th>IBM</th>\n",
       "      <th>Mdlz</th>\n",
       "      <th>Msft</th>\n",
       "      <th>Nflx</th>\n",
       "      <th>Orcl</th>\n",
       "      <th>Sbux</th>\n",
       "    </tr>\n",
       "    <tr>\n",
       "      <th>Date</th>\n",
       "      <th></th>\n",
       "      <th></th>\n",
       "      <th></th>\n",
       "      <th></th>\n",
       "      <th></th>\n",
       "      <th></th>\n",
       "      <th></th>\n",
       "      <th></th>\n",
       "      <th></th>\n",
       "      <th></th>\n",
       "    </tr>\n",
       "  </thead>\n",
       "  <tbody>\n",
       "    <tr>\n",
       "      <th>2007-01-03</th>\n",
       "      <td>11.107141</td>\n",
       "      <td>38.869999</td>\n",
       "      <td>50.777351</td>\n",
       "      <td>251.001007</td>\n",
       "      <td>79.242500</td>\n",
       "      <td>17.519524</td>\n",
       "      <td>24.118483</td>\n",
       "      <td>3.258571</td>\n",
       "      <td>15.696321</td>\n",
       "      <td>15.752188</td>\n",
       "    </tr>\n",
       "    <tr>\n",
       "      <th>2007-02-01</th>\n",
       "      <td>10.962033</td>\n",
       "      <td>39.250000</td>\n",
       "      <td>48.082939</td>\n",
       "      <td>224.949951</td>\n",
       "      <td>74.503204</td>\n",
       "      <td>16.019426</td>\n",
       "      <td>22.092464</td>\n",
       "      <td>3.218571</td>\n",
       "      <td>15.028588</td>\n",
       "      <td>13.930813</td>\n",
       "    </tr>\n",
       "    <tr>\n",
       "      <th>2007-03-01</th>\n",
       "      <td>12.037377</td>\n",
       "      <td>41.700001</td>\n",
       "      <td>51.900383</td>\n",
       "      <td>229.309311</td>\n",
       "      <td>75.561348</td>\n",
       "      <td>16.009354</td>\n",
       "      <td>21.857189</td>\n",
       "      <td>3.312857</td>\n",
       "      <td>16.583584</td>\n",
       "      <td>14.138198</td>\n",
       "    </tr>\n",
       "    <tr>\n",
       "      <th>2007-04-02</th>\n",
       "      <td>12.930043</td>\n",
       "      <td>41.560001</td>\n",
       "      <td>54.588032</td>\n",
       "      <td>235.925919</td>\n",
       "      <td>81.934280</td>\n",
       "      <td>16.924608</td>\n",
       "      <td>23.480597</td>\n",
       "      <td>3.167143</td>\n",
       "      <td>17.196436</td>\n",
       "      <td>13.984914</td>\n",
       "    </tr>\n",
       "    <tr>\n",
       "      <th>2007-05-01</th>\n",
       "      <td>15.701322</td>\n",
       "      <td>44.060001</td>\n",
       "      <td>57.598267</td>\n",
       "      <td>249.204208</td>\n",
       "      <td>85.786057</td>\n",
       "      <td>17.111704</td>\n",
       "      <td>24.146753</td>\n",
       "      <td>3.128572</td>\n",
       "      <td>17.726965</td>\n",
       "      <td>12.988567</td>\n",
       "    </tr>\n",
       "  </tbody>\n",
       "</table>\n",
       "</div>"
      ],
      "text/plain": [
       "Stock            Aapl       Adbe        CVX        Goog        IBM       Mdlz  \\\n",
       "Date                                                                            \n",
       "2007-01-03  11.107141  38.869999  50.777351  251.001007  79.242500  17.519524   \n",
       "2007-02-01  10.962033  39.250000  48.082939  224.949951  74.503204  16.019426   \n",
       "2007-03-01  12.037377  41.700001  51.900383  229.309311  75.561348  16.009354   \n",
       "2007-04-02  12.930043  41.560001  54.588032  235.925919  81.934280  16.924608   \n",
       "2007-05-01  15.701322  44.060001  57.598267  249.204208  85.786057  17.111704   \n",
       "\n",
       "Stock            Msft      Nflx       Orcl       Sbux  \n",
       "Date                                                   \n",
       "2007-01-03  24.118483  3.258571  15.696321  15.752188  \n",
       "2007-02-01  22.092464  3.218571  15.028588  13.930813  \n",
       "2007-03-01  21.857189  3.312857  16.583584  14.138198  \n",
       "2007-04-02  23.480597  3.167143  17.196436  13.984914  \n",
       "2007-05-01  24.146753  3.128572  17.726965  12.988567  "
      ]
     },
     "execution_count": 211,
     "metadata": {},
     "output_type": "execute_result"
    }
   ],
   "source": [
    "# Pivot:  value = stock value\n",
    "df_stock = df.pivot(index='Date', columns='Stock', values='Stock Value')\n",
    "\n",
    "print(\"Dataframe:  df_wide_GDP\")\n",
    "print(\"Number of Rows: \", df_stock.shape[0])\n",
    "print(\"Number of Columns: \", df_stock.shape[1])\n",
    "\n",
    "df_stock.head()"
   ]
  },
  {
   "cell_type": "markdown",
   "metadata": {},
   "source": [
    "### Plot Microsoft, Netflix and Oracle on the a Multi-Line Chart"
   ]
  },
  {
   "cell_type": "code",
   "execution_count": 201,
   "metadata": {},
   "outputs": [
    {
     "data": {
      "text/plain": [
       "<matplotlib.axes._subplots.AxesSubplot at 0xe84d110>"
      ]
     },
     "execution_count": 201,
     "metadata": {},
     "output_type": "execute_result"
    },
    {
     "data": {
      "image/png": "[encoded data removed]",
      "text/plain": [
       "<Figure size 432x288 with 1 Axes>"
      ]
     },
     "metadata": {
      "needs_background": "light"
     },
     "output_type": "display_data"
    }
   ],
   "source": [
    "# Create a List filled with the stocks to plot\n",
    "stocks_to_plot = ['Msft', 'Orcl', 'Nflx']\n",
    "\n",
    "# plot the countries \n",
    "df_stock[stocks_to_plot].plot.line()"
   ]
  },
  {
   "cell_type": "markdown",
   "metadata": {},
   "source": [
    "## Plot Adobe, Apple and IBM for 2010"
   ]
  },
  {
   "cell_type": "code",
   "execution_count": 222,
   "metadata": {},
   "outputs": [
    {
     "data": {
      "text/plain": [
       "<matplotlib.axes._subplots.AxesSubplot at 0x10000cf0>"
      ]
     },
     "execution_count": 222,
     "metadata": {},
     "output_type": "execute_result"
    },
    {
     "data": {
      "image/png": "[encoded data removed]",
      "text/plain": [
       "<Figure size 432x288 with 1 Axes>"
      ]
     },
     "metadata": {
      "needs_background": "light"
     },
     "output_type": "display_data"
    }
   ],
   "source": [
    "# Create a List filled with the stocks to plot\n",
    "stocks_to_plot = ['Adbe', 'Aapl', 'IBM']\n",
    "df_stocks = df_stock[stocks_to_plot].loc['2010-01-01':'2010-12-31']\n",
    "\n",
    "# plot the countries \n",
    "df_stocks.plot.line()"
   ]
  },
  {
   "cell_type": "markdown",
   "metadata": {},
   "source": [
    "# Plot Adobe, Apple and IBM for the 2010 through 2017  \n",
    "- Subset the dataframe to include only those rows (2010-2017)\n",
    "- Display the number of rows and columns in the subsetted dataframe\n",
    "- Display the top rows in the subsetted dataframe"
   ]
  },
  {
   "cell_type": "code",
   "execution_count": 232,
   "metadata": {},
   "outputs": [
    {
     "data": {
      "text/html": [
       "<div>\n",
       "<style scoped>\n",
       "    .dataframe tbody tr th:only-of-type {\n",
       "        vertical-align: middle;\n",
       "    }\n",
       "\n",
       "    .dataframe tbody tr th {\n",
       "        vertical-align: top;\n",
       "    }\n",
       "\n",
       "    .dataframe thead th {\n",
       "        text-align: right;\n",
       "    }\n",
       "</style>\n",
       "<table border=\"1\" class=\"dataframe\">\n",
       "  <thead>\n",
       "    <tr style=\"text-align: right;\">\n",
       "      <th>Stock</th>\n",
       "      <th>Adbe</th>\n",
       "      <th>Aapl</th>\n",
       "      <th>IBM</th>\n",
       "    </tr>\n",
       "    <tr>\n",
       "      <th>Date</th>\n",
       "      <th></th>\n",
       "      <th></th>\n",
       "      <th></th>\n",
       "    </tr>\n",
       "  </thead>\n",
       "  <tbody>\n",
       "    <tr>\n",
       "      <th>2010-01-04</th>\n",
       "      <td>32.299999</td>\n",
       "      <td>24.883207</td>\n",
       "      <td>102.943436</td>\n",
       "    </tr>\n",
       "    <tr>\n",
       "      <th>2010-02-01</th>\n",
       "      <td>34.650002</td>\n",
       "      <td>26.510475</td>\n",
       "      <td>107.433914</td>\n",
       "    </tr>\n",
       "    <tr>\n",
       "      <th>2010-03-01</th>\n",
       "      <td>35.369999</td>\n",
       "      <td>30.446495</td>\n",
       "      <td>108.354820</td>\n",
       "    </tr>\n",
       "    <tr>\n",
       "      <th>2010-04-01</th>\n",
       "      <td>33.599998</td>\n",
       "      <td>33.826706</td>\n",
       "      <td>108.988472</td>\n",
       "    </tr>\n",
       "    <tr>\n",
       "      <th>2010-05-03</th>\n",
       "      <td>32.080002</td>\n",
       "      <td>33.281258</td>\n",
       "      <td>106.371109</td>\n",
       "    </tr>\n",
       "  </tbody>\n",
       "</table>\n",
       "</div>"
      ],
      "text/plain": [
       "Stock            Adbe       Aapl         IBM\n",
       "Date                                        \n",
       "2010-01-04  32.299999  24.883207  102.943436\n",
       "2010-02-01  34.650002  26.510475  107.433914\n",
       "2010-03-01  35.369999  30.446495  108.354820\n",
       "2010-04-01  33.599998  33.826706  108.988472\n",
       "2010-05-03  32.080002  33.281258  106.371109"
      ]
     },
     "execution_count": 232,
     "metadata": {},
     "output_type": "execute_result"
    }
   ],
   "source": [
    "# Create a List filled with the stocks to plot\n",
    "stocks_to_plot = ['Adbe', 'Aapl', 'IBM']\n",
    "df_7_yr = df_stock[stocks_to_plot].loc['2010-01-01':'2017-12-31']\n",
    "df_7_yr.head()"
   ]
  },
  {
   "cell_type": "code",
   "execution_count": 233,
   "metadata": {},
   "outputs": [
    {
     "data": {
      "text/plain": [
       "<matplotlib.axes._subplots.AxesSubplot at 0x10123170>"
      ]
     },
     "execution_count": 233,
     "metadata": {},
     "output_type": "execute_result"
    },
    {
     "data": {
      "image/png": "[encoded data removed]",
      "text/plain": [
       "<Figure size 432x288 with 1 Axes>"
      ]
     },
     "metadata": {
      "needs_background": "light"
     },
     "output_type": "display_data"
    }
   ],
   "source": [
    "# plot the countries\n",
    "df_stocks.plot.line()"
   ]
  },
  {
   "cell_type": "code",
   "execution_count": null,
   "metadata": {},
   "outputs": [],
   "source": []
  }
 ],
 "metadata": {
  "kernelspec": {
   "display_name": "Python 3",
   "language": "python",
   "name": "python3"
  },
  "language_info": {
   "codemirror_mode": {
    "name": "ipython",
    "version": 3
   },
   "file_extension": ".py",
   "mimetype": "text/x-python",
   "name": "python",
   "nbconvert_exporter": "python",
   "pygments_lexer": "ipython3",
   "version": "3.7.0"
  }
 },
 "nbformat": 4,
 "nbformat_minor": 2
}
