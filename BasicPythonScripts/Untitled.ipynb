{
 "cells": [
  {
   "cell_type": "markdown",
   "metadata": {},
   "source": [
    "## NC COVID DATA"
   ]
  },
  {
   "cell_type": "code",
   "execution_count": 2,
   "metadata": {},
   "outputs": [],
   "source": [
    "import pandas as pd\n",
    "from zipfile import ZipFile\n",
    "import requests\n",
    "import urllib\n",
    "from io import BytesIO, StringIO"
   ]
  },
  {
   "cell_type": "code",
   "execution_count": 3,
   "metadata": {},
   "outputs": [
    {
     "name": "stdout",
     "output_type": "stream",
     "text": [
      "['Data/TableauTemp/TEMP_0lvcvke1vsjcks1eh4e4z0pbxfnc.hyper', 'Data/TableauTemp/TEMP_17ibg8807bi3f51d863uo13cmu31.hyper', 'Data/TableauTemp/TEMP_1sxp0my1uout7x18z1jeh02bh88x.hyper', 'Data/TableauTemp/TEMP_0sbv16p08o4br519i0pjp129kzmr.hyper', 'Data/TableauTemp/TEMP_1ix2wvm1ypq96x11ezb8x1i4y2uu.hyper', 'Data/TableauTemp/TEMP_0ttoch116xc2mt1d7xppj1y15z1k.hyper', 'TwbxExternalCache/TwbxLQResultsCacheV3/1439823049/.bin', 'TwbxExternalCache/TwbxLQResultsCacheV3/1439823049/.key', 'TwbxExternalCache/TwbxLQResultsCacheV3/2007331796/.bin', 'TwbxExternalCache/TwbxLQResultsCacheV3/2007331796/.key', 'TwbxExternalCache/TwbxLQResultsCacheV3/3141746143/.bin', 'TwbxExternalCache/TwbxLQResultsCacheV3/3141746143/.key', 'TwbxExternalCache/TwbxLQTimestampsCacheV3/2808567805/.bin', 'TwbxExternalCache/TwbxLQTimestampsCacheV3/2808567805/.key', 'TwbxExternalCache/TwbxLQTimestampsCacheV3/3635350367/.bin', 'TwbxExternalCache/TwbxLQTimestampsCacheV3/3635350367/.key', 'TwbxExternalCache/TwbxLQTimestampsCacheV3/617011457/.bin', 'TwbxExternalCache/TwbxLQTimestampsCacheV3/617011457/.key', 'Image/ncdhhslogo.png', 'NCDHHS_COVID-19_DataDownload.twb']\n"
     ]
    }
   ],
   "source": [
    "response = requests.get('https://public.tableau.com/workbooks/NCDHHS_COVID-19_DataDownload.twb')\n",
    "zip = ZipFile(BytesIO(response.content))\n",
    "files = zip.namelist()\n",
    "print(files)"
   ]
  },
  {
   "cell_type": "code",
   "execution_count": 5,
   "metadata": {},
   "outputs": [
    {
     "name": "stdout",
     "output_type": "stream",
     "text": [
      "  Hyper\b   \"encryptionSchemeId\": 0   \"databases\": {\"dropped\": true}  \\\n",
      "0    NaN                        5\f",
      "                              NaN   \n",
      "1    NaN                       NaN                              NaN   \n",
      "2    NaN                       NaN                              NaN   \n",
      "3     \u0004ì                       NaN                              NaN   \n",
      "4     \u000f\u0002                       NaN                              NaN   \n",
      "5    NaN   \"encryptionSchemeId\": 0   \"databases\": {\"dropped\": true}   \n",
      "\n",
      "    \"namespaces\": [{\"oid\": 10001   \"name\": \"public\"   \"owner\": 0  \\\n",
      "0                            NaN                NaN          NaN   \n",
      "1                            NaN                NaN          NaN   \n",
      "2                            NaN                NaN          NaN   \n",
      "3                            NaN                NaN          NaN   \n",
      "4                            NaN                NaN          NaN   \n",
      "5   \"namespaces\": [{\"oid\": 10001   \"name\": \"public\"   \"owner\": 0   \n",
      "\n",
      "    \"dependencies\": []    \"reverseDependencies\": []}  \\\n",
      "0                  NaN                           NaN   \n",
      "1                  NaN                           NaN   \n",
      "2                  NaN                           NaN   \n",
      "3                  NaN                           NaN   \n",
      "4                  NaN                           NaN   \n",
      "5   \"dependencies\": []   \"reverseDependencies\": []}]   \n",
      "\n",
      "              {\"oid\": 10004  \"name\": \"Extract\"  ...  \\\n",
      "0                       NaN                NaN  ...   \n",
      "1                       NaN                NaN  ...   \n",
      "2                       NaN                NaN  ...   \n",
      "3                       NaN                NaN  ...   \n",
      "4                       NaN                NaN  ...   \n",
      "5   \"roles\": [{\"oid\": 10002         \"name\": \"\"  ...   \n",
      "\n",
      "   \"partitionKey\": 4294967295  \"partitionedRelation\": false  \\\n",
      "0                         NaN                           NaN   \n",
      "1                         NaN                           NaN   \n",
      "2                         NaN                           NaN   \n",
      "3                         NaN                           NaN   \n",
      "4                         NaN                           NaN   \n",
      "5                         NaN                           NaN   \n",
      "\n",
      "   \"type\": \"block\"}]  \"externaltables\": []  \"views\": []  \"functions\": []  \\\n",
      "0                NaN                   NaN          NaN              NaN   \n",
      "1                NaN                   NaN          NaN              NaN   \n",
      "2                NaN                   NaN          NaN              NaN   \n",
      "3                NaN                   NaN          NaN              NaN   \n",
      "4                NaN                   NaN          NaN              NaN   \n",
      "5                NaN                   NaN          NaN              NaN   \n",
      "\n",
      "   \"types\": []  \"aggregates\": []  \"sequences\": []}.E\u0014Í   \u000f  \n",
      "0          NaN               NaN                   NaN NaN  \n",
      "1          NaN               NaN                   NaN NaN  \n",
      "2          NaN               NaN                   NaN NaN  \n",
      "3          NaN               NaN                   NaN NaN  \n",
      "4          NaN               NaN                   NaN NaN  \n",
      "5          NaN               NaN                   NaN NaN  \n",
      "\n",
      "[6 rows x 96 columns]\n"
     ]
    }
   ],
   "source": [
    "with zip.open(files[1]) as csvfile:\n",
    "    df = pd.read_csv(csvfile, encoding = 'ISO-8859-1')\n",
    "    print(df)"
   ]
  }
 ],
 "metadata": {
  "kernelspec": {
   "display_name": "Python 3",
   "language": "python",
   "name": "python3"
  },
  "language_info": {
   "codemirror_mode": {
    "name": "ipython",
    "version": 3
   },
   "file_extension": ".py",
   "mimetype": "text/x-python",
   "name": "python",
   "nbconvert_exporter": "python",
   "pygments_lexer": "ipython3",
   "version": "3.8.3"
  }
 },
 "nbformat": 4,
 "nbformat_minor": 4
}
