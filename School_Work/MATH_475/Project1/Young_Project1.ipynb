{
 "cells": [
  {
   "cell_type": "markdown",
   "metadata": {
    "toc": true
   },
   "source": [
    "<h1>Table of Contents<span class=\"tocSkip\"></span></h1>\n",
    "<div class=\"toc\"><ul class=\"toc-item\"><li><span><a href=\"#Questions\" data-toc-modified-id=\"Questions-1\"><span class=\"toc-item-num\">1&nbsp;&nbsp;</span>Questions</a></span><ul class=\"toc-item\"><li><span><a href=\"#Choice-of-Data\" data-toc-modified-id=\"Choice-of-Data-1.1\"><span class=\"toc-item-num\">1.1&nbsp;&nbsp;</span>Choice of Data</a></span></li></ul></li><li><span><a href=\"#Work\" data-toc-modified-id=\"Work-2\"><span class=\"toc-item-num\">2&nbsp;&nbsp;</span>Work</a></span><ul class=\"toc-item\"><li><span><a href=\"#&quot;Global&quot;-Imports\" data-toc-modified-id=\"&quot;Global&quot;-Imports-2.1\"><span class=\"toc-item-num\">2.1&nbsp;&nbsp;</span>\"Global\" Imports</a></span></li><li><span><a href=\"#Read-data\" data-toc-modified-id=\"Read-data-2.2\"><span class=\"toc-item-num\">2.2&nbsp;&nbsp;</span>Read data</a></span></li><li><span><a href=\"#Plot-at-least-one-aspect-to-understand-data\" data-toc-modified-id=\"Plot-at-least-one-aspect-to-understand-data-2.3\"><span class=\"toc-item-num\">2.3&nbsp;&nbsp;</span>Plot at least one aspect to understand data</a></span></li><li><span><a href=\"#Summarize-data-in-one-sentence\" data-toc-modified-id=\"Summarize-data-in-one-sentence-2.4\"><span class=\"toc-item-num\">2.4&nbsp;&nbsp;</span>Summarize data in one sentence</a></span></li><li><span><a href=\"#Split-data-into-train-and-test-where-test-size-=-.3\" data-toc-modified-id=\"Split-data-into-train-and-test-where-test-size-=-.3-2.5\"><span class=\"toc-item-num\">2.5&nbsp;&nbsp;</span>Split data into train and test where test size = .3</a></span></li></ul></li><li><span><a href=\"#Model-1\" data-toc-modified-id=\"Model-1-3\"><span class=\"toc-item-num\">3&nbsp;&nbsp;</span>Model 1</a></span><ul class=\"toc-item\"><li><span><a href=\"#Train-data-in-sklearn-model-on-train-data\" data-toc-modified-id=\"Train-data-in-sklearn-model-on-train-data-3.1\"><span class=\"toc-item-num\">3.1&nbsp;&nbsp;</span>Train data in sklearn model on train data</a></span></li><li><span><a href=\"#Analyze-residuals\" data-toc-modified-id=\"Analyze-residuals-3.2\"><span class=\"toc-item-num\">3.2&nbsp;&nbsp;</span>Analyze residuals</a></span></li></ul></li><li><span><a href=\"#Model-2\" data-toc-modified-id=\"Model-2-4\"><span class=\"toc-item-num\">4&nbsp;&nbsp;</span>Model 2</a></span><ul class=\"toc-item\"><li><span><a href=\"#Train-on-another-model-with-feature-selection\" data-toc-modified-id=\"Train-on-another-model-with-feature-selection-4.1\"><span class=\"toc-item-num\">4.1&nbsp;&nbsp;</span>Train on another model with feature selection</a></span></li><li><span><a href=\"#Analyze-Residuals\" data-toc-modified-id=\"Analyze-Residuals-4.2\"><span class=\"toc-item-num\">4.2&nbsp;&nbsp;</span>Analyze Residuals</a></span></li></ul></li><li><span><a href=\"#Reflection\" data-toc-modified-id=\"Reflection-5\"><span class=\"toc-item-num\">5&nbsp;&nbsp;</span>Reflection</a></span></li><li><span><a href=\"#References\" data-toc-modified-id=\"References-6\"><span class=\"toc-item-num\">6&nbsp;&nbsp;</span>References</a></span></li></ul></div>"
   ]
  },
  {
   "cell_type": "markdown",
   "metadata": {},
   "source": [
    "# Sharing the News, a Machine Learning Project"
   ]
  },
  {
   "cell_type": "markdown",
   "metadata": {},
   "source": [
    "## Questions"
   ]
  },
  {
   "cell_type": "markdown",
   "metadata": {},
   "source": [
    "### Choice of Data"
   ]
  },
  {
   "cell_type": "markdown",
   "metadata": {
    "ExecuteTime": {
     "end_time": "2020-10-06T21:52:27.471994Z",
     "start_time": "2020-10-06T21:52:27.449384Z"
    }
   },
   "source": [
    "Let's take a look at the [Online News Popularity](https://archive.ics.uci.edu/ml/datasets/Online+News+Popularity) dataset provided by University of California Irvine.  According to the source, this data is a collection of data collected by [Mashable](https://mashable.com/) containing information about articles collected over a two year period."
   ]
  },
  {
   "cell_type": "markdown",
   "metadata": {},
   "source": [
    "I chose this data because I wanted to explore how and why news of any kind is shared as well as what different aspects of an article lead it to be shared.  We live in a world of advancing technology.  A larger question would be to ask why news was shared, but I do not believe that can be answered, at least not in this data. "
   ]
  },
  {
   "cell_type": "markdown",
   "metadata": {
    "ExecuteTime": {
     "end_time": "2020-10-06T21:32:28.542420Z",
     "start_time": "2020-10-06T21:32:28.524717Z"
    }
   },
   "source": [
    "***"
   ]
  },
  {
   "cell_type": "markdown",
   "metadata": {},
   "source": [
    "## Work"
   ]
  },
  {
   "cell_type": "markdown",
   "metadata": {},
   "source": [
    "### \"Global\" Imports"
   ]
  },
  {
   "cell_type": "markdown",
   "metadata": {},
   "source": [
    "First, we will import our \"global\" packages.  These packages will be needed throughout our code so instead of putting them in random places, I decided to load them first."
   ]
  },
  {
   "cell_type": "code",
   "execution_count": 1,
   "metadata": {
    "ExecuteTime": {
     "end_time": "2020-10-17T02:18:31.840308Z",
     "start_time": "2020-10-17T02:18:25.378546Z"
    }
   },
   "outputs": [],
   "source": [
    "import pandas as pd\n",
    "import seaborn as sns\n",
    "import matplotlib.pyplot as plt"
   ]
  },
  {
   "cell_type": "markdown",
   "metadata": {},
   "source": [
    "### Read data"
   ]
  },
  {
   "cell_type": "markdown",
   "metadata": {},
   "source": [
    "Next we will read our data.  The `.csv` that we will use is in a `.zip` folder that we can either download from the source or read with other packages.  In this case, it takes less code and is easier to explain if we download the `.zip` folder and extract the `.csv` file into the folder where the notebook is located.  We can then load the data into a dataframe using `data_frame = pd.read_csv(\"[filename.csv]\")` where `[filename.csv]` is the name of the file."
   ]
  },
  {
   "cell_type": "code",
   "execution_count": 2,
   "metadata": {
    "ExecuteTime": {
     "end_time": "2020-10-17T02:18:32.603435Z",
     "start_time": "2020-10-17T02:18:31.842158Z"
    }
   },
   "outputs": [],
   "source": [
    "news_df = pd.read_csv(\"OnlineNewsPopularity.csv\")"
   ]
  },
  {
   "cell_type": "markdown",
   "metadata": {},
   "source": [
    "Before we do any analysis on the data, lets first take a look at the data by viewing the top 5 rows, to get a glimpse of the information portrayed in this dataset.\n",
    "\n",
    "We can do this by using the `data_frame.head()` method."
   ]
  },
  {
   "cell_type": "code",
   "execution_count": 3,
   "metadata": {
    "ExecuteTime": {
     "end_time": "2020-10-17T02:18:32.667201Z",
     "start_time": "2020-10-17T02:18:32.605162Z"
    },
    "scrolled": true
   },
   "outputs": [
    {
     "data": {
      "text/html": [
       "<div>\n",
       "<style scoped>\n",
       "    .dataframe tbody tr th:only-of-type {\n",
       "        vertical-align: middle;\n",
       "    }\n",
       "\n",
       "    .dataframe tbody tr th {\n",
       "        vertical-align: top;\n",
       "    }\n",
       "\n",
       "    .dataframe thead th {\n",
       "        text-align: right;\n",
       "    }\n",
       "</style>\n",
       "<table border=\"1\" class=\"dataframe\">\n",
       "  <thead>\n",
       "    <tr style=\"text-align: right;\">\n",
       "      <th></th>\n",
       "      <th>url</th>\n",
       "      <th>timedelta</th>\n",
       "      <th>n_tokens_title</th>\n",
       "      <th>n_tokens_content</th>\n",
       "      <th>n_unique_tokens</th>\n",
       "      <th>n_non_stop_words</th>\n",
       "      <th>n_non_stop_unique_tokens</th>\n",
       "      <th>num_hrefs</th>\n",
       "      <th>num_self_hrefs</th>\n",
       "      <th>num_imgs</th>\n",
       "      <th>...</th>\n",
       "      <th>min_positive_polarity</th>\n",
       "      <th>max_positive_polarity</th>\n",
       "      <th>avg_negative_polarity</th>\n",
       "      <th>min_negative_polarity</th>\n",
       "      <th>max_negative_polarity</th>\n",
       "      <th>title_subjectivity</th>\n",
       "      <th>title_sentiment_polarity</th>\n",
       "      <th>abs_title_subjectivity</th>\n",
       "      <th>abs_title_sentiment_polarity</th>\n",
       "      <th>shares</th>\n",
       "    </tr>\n",
       "  </thead>\n",
       "  <tbody>\n",
       "    <tr>\n",
       "      <th>0</th>\n",
       "      <td>http://mashable.com/2013/01/07/amazon-instant-...</td>\n",
       "      <td>731.0</td>\n",
       "      <td>12.0</td>\n",
       "      <td>219.0</td>\n",
       "      <td>0.663594</td>\n",
       "      <td>1.0</td>\n",
       "      <td>0.815385</td>\n",
       "      <td>4.0</td>\n",
       "      <td>2.0</td>\n",
       "      <td>1.0</td>\n",
       "      <td>...</td>\n",
       "      <td>0.100000</td>\n",
       "      <td>0.7</td>\n",
       "      <td>-0.350000</td>\n",
       "      <td>-0.600</td>\n",
       "      <td>-0.200000</td>\n",
       "      <td>0.500000</td>\n",
       "      <td>-0.187500</td>\n",
       "      <td>0.000000</td>\n",
       "      <td>0.187500</td>\n",
       "      <td>593</td>\n",
       "    </tr>\n",
       "    <tr>\n",
       "      <th>1</th>\n",
       "      <td>http://mashable.com/2013/01/07/ap-samsung-spon...</td>\n",
       "      <td>731.0</td>\n",
       "      <td>9.0</td>\n",
       "      <td>255.0</td>\n",
       "      <td>0.604743</td>\n",
       "      <td>1.0</td>\n",
       "      <td>0.791946</td>\n",
       "      <td>3.0</td>\n",
       "      <td>1.0</td>\n",
       "      <td>1.0</td>\n",
       "      <td>...</td>\n",
       "      <td>0.033333</td>\n",
       "      <td>0.7</td>\n",
       "      <td>-0.118750</td>\n",
       "      <td>-0.125</td>\n",
       "      <td>-0.100000</td>\n",
       "      <td>0.000000</td>\n",
       "      <td>0.000000</td>\n",
       "      <td>0.500000</td>\n",
       "      <td>0.000000</td>\n",
       "      <td>711</td>\n",
       "    </tr>\n",
       "    <tr>\n",
       "      <th>2</th>\n",
       "      <td>http://mashable.com/2013/01/07/apple-40-billio...</td>\n",
       "      <td>731.0</td>\n",
       "      <td>9.0</td>\n",
       "      <td>211.0</td>\n",
       "      <td>0.575130</td>\n",
       "      <td>1.0</td>\n",
       "      <td>0.663866</td>\n",
       "      <td>3.0</td>\n",
       "      <td>1.0</td>\n",
       "      <td>1.0</td>\n",
       "      <td>...</td>\n",
       "      <td>0.100000</td>\n",
       "      <td>1.0</td>\n",
       "      <td>-0.466667</td>\n",
       "      <td>-0.800</td>\n",
       "      <td>-0.133333</td>\n",
       "      <td>0.000000</td>\n",
       "      <td>0.000000</td>\n",
       "      <td>0.500000</td>\n",
       "      <td>0.000000</td>\n",
       "      <td>1500</td>\n",
       "    </tr>\n",
       "    <tr>\n",
       "      <th>3</th>\n",
       "      <td>http://mashable.com/2013/01/07/astronaut-notre...</td>\n",
       "      <td>731.0</td>\n",
       "      <td>9.0</td>\n",
       "      <td>531.0</td>\n",
       "      <td>0.503788</td>\n",
       "      <td>1.0</td>\n",
       "      <td>0.665635</td>\n",
       "      <td>9.0</td>\n",
       "      <td>0.0</td>\n",
       "      <td>1.0</td>\n",
       "      <td>...</td>\n",
       "      <td>0.136364</td>\n",
       "      <td>0.8</td>\n",
       "      <td>-0.369697</td>\n",
       "      <td>-0.600</td>\n",
       "      <td>-0.166667</td>\n",
       "      <td>0.000000</td>\n",
       "      <td>0.000000</td>\n",
       "      <td>0.500000</td>\n",
       "      <td>0.000000</td>\n",
       "      <td>1200</td>\n",
       "    </tr>\n",
       "    <tr>\n",
       "      <th>4</th>\n",
       "      <td>http://mashable.com/2013/01/07/att-u-verse-apps/</td>\n",
       "      <td>731.0</td>\n",
       "      <td>13.0</td>\n",
       "      <td>1072.0</td>\n",
       "      <td>0.415646</td>\n",
       "      <td>1.0</td>\n",
       "      <td>0.540890</td>\n",
       "      <td>19.0</td>\n",
       "      <td>19.0</td>\n",
       "      <td>20.0</td>\n",
       "      <td>...</td>\n",
       "      <td>0.033333</td>\n",
       "      <td>1.0</td>\n",
       "      <td>-0.220192</td>\n",
       "      <td>-0.500</td>\n",
       "      <td>-0.050000</td>\n",
       "      <td>0.454545</td>\n",
       "      <td>0.136364</td>\n",
       "      <td>0.045455</td>\n",
       "      <td>0.136364</td>\n",
       "      <td>505</td>\n",
       "    </tr>\n",
       "  </tbody>\n",
       "</table>\n",
       "<p>5 rows × 61 columns</p>\n",
       "</div>"
      ],
      "text/plain": [
       "                                                 url   timedelta  \\\n",
       "0  http://mashable.com/2013/01/07/amazon-instant-...       731.0   \n",
       "1  http://mashable.com/2013/01/07/ap-samsung-spon...       731.0   \n",
       "2  http://mashable.com/2013/01/07/apple-40-billio...       731.0   \n",
       "3  http://mashable.com/2013/01/07/astronaut-notre...       731.0   \n",
       "4   http://mashable.com/2013/01/07/att-u-verse-apps/       731.0   \n",
       "\n",
       "    n_tokens_title   n_tokens_content   n_unique_tokens   n_non_stop_words  \\\n",
       "0             12.0              219.0          0.663594                1.0   \n",
       "1              9.0              255.0          0.604743                1.0   \n",
       "2              9.0              211.0          0.575130                1.0   \n",
       "3              9.0              531.0          0.503788                1.0   \n",
       "4             13.0             1072.0          0.415646                1.0   \n",
       "\n",
       "    n_non_stop_unique_tokens   num_hrefs   num_self_hrefs   num_imgs  ...  \\\n",
       "0                   0.815385         4.0              2.0        1.0  ...   \n",
       "1                   0.791946         3.0              1.0        1.0  ...   \n",
       "2                   0.663866         3.0              1.0        1.0  ...   \n",
       "3                   0.665635         9.0              0.0        1.0  ...   \n",
       "4                   0.540890        19.0             19.0       20.0  ...   \n",
       "\n",
       "    min_positive_polarity   max_positive_polarity   avg_negative_polarity  \\\n",
       "0                0.100000                     0.7               -0.350000   \n",
       "1                0.033333                     0.7               -0.118750   \n",
       "2                0.100000                     1.0               -0.466667   \n",
       "3                0.136364                     0.8               -0.369697   \n",
       "4                0.033333                     1.0               -0.220192   \n",
       "\n",
       "    min_negative_polarity   max_negative_polarity   title_subjectivity  \\\n",
       "0                  -0.600               -0.200000             0.500000   \n",
       "1                  -0.125               -0.100000             0.000000   \n",
       "2                  -0.800               -0.133333             0.000000   \n",
       "3                  -0.600               -0.166667             0.000000   \n",
       "4                  -0.500               -0.050000             0.454545   \n",
       "\n",
       "    title_sentiment_polarity   abs_title_subjectivity  \\\n",
       "0                  -0.187500                 0.000000   \n",
       "1                   0.000000                 0.500000   \n",
       "2                   0.000000                 0.500000   \n",
       "3                   0.000000                 0.500000   \n",
       "4                   0.136364                 0.045455   \n",
       "\n",
       "    abs_title_sentiment_polarity   shares  \n",
       "0                       0.187500      593  \n",
       "1                       0.000000      711  \n",
       "2                       0.000000     1500  \n",
       "3                       0.000000     1200  \n",
       "4                       0.136364      505  \n",
       "\n",
       "[5 rows x 61 columns]"
      ]
     },
     "execution_count": 3,
     "metadata": {},
     "output_type": "execute_result"
    }
   ],
   "source": [
    "news_df.head()"
   ]
  },
  {
   "cell_type": "markdown",
   "metadata": {},
   "source": [
    "Looking at the source, it defines `url` and `timedelta` as 'non-predictive' variables, so we can drop them from the data set."
   ]
  },
  {
   "cell_type": "code",
   "execution_count": 4,
   "metadata": {
    "ExecuteTime": {
     "end_time": "2020-10-17T02:18:32.699158Z",
     "start_time": "2020-10-17T02:18:32.670158Z"
    }
   },
   "outputs": [],
   "source": [
    "news_df.drop(columns =[\"url\", \" timedelta\"], inplace=True)"
   ]
  },
  {
   "cell_type": "markdown",
   "metadata": {},
   "source": [
    "Next we can check to see if there are any nulls in our data that need to be taken care of."
   ]
  },
  {
   "cell_type": "code",
   "execution_count": 5,
   "metadata": {
    "ExecuteTime": {
     "end_time": "2020-10-17T02:18:32.730160Z",
     "start_time": "2020-10-17T02:18:32.702160Z"
    },
    "scrolled": true
   },
   "outputs": [
    {
     "data": {
      "text/plain": [
       " n_tokens_title                   0\n",
       " n_tokens_content                 0\n",
       " n_unique_tokens                  0\n",
       " n_non_stop_words                 0\n",
       " n_non_stop_unique_tokens         0\n",
       " num_hrefs                        0\n",
       " num_self_hrefs                   0\n",
       " num_imgs                         0\n",
       " num_videos                       0\n",
       " average_token_length             0\n",
       " num_keywords                     0\n",
       " data_channel_is_lifestyle        0\n",
       " data_channel_is_entertainment    0\n",
       " data_channel_is_bus              0\n",
       " data_channel_is_socmed           0\n",
       " data_channel_is_tech             0\n",
       " data_channel_is_world            0\n",
       " kw_min_min                       0\n",
       " kw_max_min                       0\n",
       " kw_avg_min                       0\n",
       " kw_min_max                       0\n",
       " kw_max_max                       0\n",
       " kw_avg_max                       0\n",
       " kw_min_avg                       0\n",
       " kw_max_avg                       0\n",
       " kw_avg_avg                       0\n",
       " self_reference_min_shares        0\n",
       " self_reference_max_shares        0\n",
       " self_reference_avg_sharess       0\n",
       " weekday_is_monday                0\n",
       " weekday_is_tuesday               0\n",
       " weekday_is_wednesday             0\n",
       " weekday_is_thursday              0\n",
       " weekday_is_friday                0\n",
       " weekday_is_saturday              0\n",
       " weekday_is_sunday                0\n",
       " is_weekend                       0\n",
       " LDA_00                           0\n",
       " LDA_01                           0\n",
       " LDA_02                           0\n",
       " LDA_03                           0\n",
       " LDA_04                           0\n",
       " global_subjectivity              0\n",
       " global_sentiment_polarity        0\n",
       " global_rate_positive_words       0\n",
       " global_rate_negative_words       0\n",
       " rate_positive_words              0\n",
       " rate_negative_words              0\n",
       " avg_positive_polarity            0\n",
       " min_positive_polarity            0\n",
       " max_positive_polarity            0\n",
       " avg_negative_polarity            0\n",
       " min_negative_polarity            0\n",
       " max_negative_polarity            0\n",
       " title_subjectivity               0\n",
       " title_sentiment_polarity         0\n",
       " abs_title_subjectivity           0\n",
       " abs_title_sentiment_polarity     0\n",
       " shares                           0\n",
       "dtype: int64"
      ]
     },
     "execution_count": 5,
     "metadata": {},
     "output_type": "execute_result"
    }
   ],
   "source": [
    "news_df.isna().sum()"
   ]
  },
  {
   "cell_type": "markdown",
   "metadata": {},
   "source": [
    "There do not seem to be any nulls in our data so we can move on."
   ]
  },
  {
   "cell_type": "markdown",
   "metadata": {},
   "source": [
    "### Plot at least one aspect to understand data"
   ]
  },
  {
   "cell_type": "markdown",
   "metadata": {},
   "source": [
    "Before we start building our models, first, let's see if there is a relationship between the number of times an article was shared based on the number of time an article was referenced in other shared articles."
   ]
  },
  {
   "cell_type": "code",
   "execution_count": 6,
   "metadata": {
    "ExecuteTime": {
     "end_time": "2020-10-17T02:18:33.077158Z",
     "start_time": "2020-10-17T02:18:32.736164Z"
    },
    "scrolled": true
   },
   "outputs": [
    {
     "data": {
      "text/plain": [
       "<Axes: xlabel=' self_reference_avg_sharess', ylabel=' shares'>"
      ]
     },
     "execution_count": 6,
     "metadata": {},
     "output_type": "execute_result"
    },
    {
     "data": {
      "image/png": "[encoded data removed]",
      "text/plain": [
       "<Figure size 640x480 with 1 Axes>"
      ]
     },
     "metadata": {},
     "output_type": "display_data"
    }
   ],
   "source": [
    "sns.scatterplot(x=news_df[\" self_reference_avg_sharess\"], y = news_df[\" shares\"])"
   ]
  },
  {
   "cell_type": "markdown",
   "metadata": {},
   "source": [
    "These columns seem to contain similar data.\n",
    "\n",
    "Next, let's see how certain features effect the number of shares, like number of words in the title, number of words in the content, number of images, and the number of links in an article."
   ]
  },
  {
   "cell_type": "code",
   "execution_count": 7,
   "metadata": {
    "ExecuteTime": {
     "end_time": "2020-10-17T02:18:33.284208Z",
     "start_time": "2020-10-17T02:18:33.080163Z"
    },
    "scrolled": true
   },
   "outputs": [
    {
     "data": {
      "text/plain": [
       "<Axes: xlabel=' n_tokens_title', ylabel=' shares'>"
      ]
     },
     "execution_count": 7,
     "metadata": {},
     "output_type": "execute_result"
    },
    {
     "data": {
      "image/png": "[encoded data removed]",
      "text/plain": [
       "<Figure size 640x480 with 1 Axes>"
      ]
     },
     "metadata": {},
     "output_type": "display_data"
    }
   ],
   "source": [
    "sns.scatterplot(news_df, x=news_df[\" n_tokens_title\"], y=news_df[\" shares\"])"
   ]
  },
  {
   "cell_type": "markdown",
   "metadata": {},
   "source": [
    "We can see in this chart, that articles with roughly 12 words in the title are shared most often. Notice there are values that may be considered outliers.\n",
    "\n",
    "Let's see if the chart is similar for number of words in the article."
   ]
  },
  {
   "cell_type": "code",
   "execution_count": 8,
   "metadata": {
    "ExecuteTime": {
     "end_time": "2020-10-17T02:18:33.490210Z",
     "start_time": "2020-10-17T02:18:33.286159Z"
    }
   },
   "outputs": [
    {
     "data": {
      "text/plain": [
       "<Axes: xlabel=' n_tokens_content', ylabel=' shares'>"
      ]
     },
     "execution_count": 8,
     "metadata": {},
     "output_type": "execute_result"
    },
    {
     "data": {
      "image/png": "[encoded data removed]",
      "text/plain": [
       "<Figure size 640x480 with 1 Axes>"
      ]
     },
     "metadata": {},
     "output_type": "display_data"
    }
   ],
   "source": [
    "sns.scatterplot(news_df, x=news_df[\" n_tokens_content\"], y=news_df[\" shares\"])"
   ]
  },
  {
   "cell_type": "markdown",
   "metadata": {},
   "source": [
    "Due to the number of shares and the number of words in each article, this scatter plot can be difficult to read as the data is very close together. We can see, however, that articles with the most shares had word counts just under ~1000.  We also can see there may be outliers."
   ]
  },
  {
   "cell_type": "markdown",
   "metadata": {},
   "source": [
    "### Summarize data in one sentence"
   ]
  },
  {
   "cell_type": "markdown",
   "metadata": {},
   "source": [
    "The Online News Popularity data used different features about articles published on Mashable to determine popularity of an article in number of shares."
   ]
  },
  {
   "cell_type": "markdown",
   "metadata": {},
   "source": [
    "### Split data into train and test where test size = .3"
   ]
  },
  {
   "cell_type": "markdown",
   "metadata": {},
   "source": [
    "Now that we have a better understanding of the data, we will import `train_test_split` from `sklearn` to build our train and test sets of data."
   ]
  },
  {
   "cell_type": "code",
   "execution_count": 9,
   "metadata": {
    "ExecuteTime": {
     "end_time": "2020-10-17T02:18:33.838311Z",
     "start_time": "2020-10-17T02:18:33.492157Z"
    }
   },
   "outputs": [],
   "source": [
    "from sklearn.model_selection import train_test_split "
   ]
  },
  {
   "cell_type": "markdown",
   "metadata": {},
   "source": [
    "From information aquired from the source, we learned that the `shares` column was the target variable thus it will be our 'y' value and everything else will be our 'X'. "
   ]
  },
  {
   "cell_type": "code",
   "execution_count": 10,
   "metadata": {
    "ExecuteTime": {
     "end_time": "2020-10-17T02:18:33.854359Z",
     "start_time": "2020-10-17T02:18:33.839316Z"
    }
   },
   "outputs": [],
   "source": [
    "y = news_df[\" shares\"]\n",
    "X = news_df.drop(columns = \" shares\", axis=1)"
   ]
  },
  {
   "cell_type": "markdown",
   "metadata": {},
   "source": [
    "Once the target variable has been assigned, we can finally split our data.  The instructions ask for a test size of .3, so we will set the `train_size` parameter to `.7`.   We could also set our `test_size` parameter to `.3`."
   ]
  },
  {
   "cell_type": "code",
   "execution_count": 11,
   "metadata": {
    "ExecuteTime": {
     "end_time": "2020-10-17T02:18:33.901330Z",
     "start_time": "2020-10-17T02:18:33.856321Z"
    }
   },
   "outputs": [],
   "source": [
    "X_train, X_test, y_train, y_test = train_test_split(X, y, train_size=.7)"
   ]
  },
  {
   "cell_type": "markdown",
   "metadata": {},
   "source": [
    "## Model 1"
   ]
  },
  {
   "cell_type": "markdown",
   "metadata": {},
   "source": [
    "### Train data in sklearn model on train data"
   ]
  },
  {
   "cell_type": "markdown",
   "metadata": {},
   "source": [
    "Now that our data has been split, we can create our first model: Random Forest regression.  This model combines multiple decision trees allowing us to get better generalization performance, helping to reduce model variance (Raschka and Mirjalili, 2019).  Basically, from what I understand, Random Forest Regression allows us to reduce spread in data by using decision trees, allowing for more accurate predictions."
   ]
  },
  {
   "cell_type": "code",
   "execution_count": 12,
   "metadata": {
    "ExecuteTime": {
     "end_time": "2020-10-17T02:18:34.547618Z",
     "start_time": "2020-10-17T02:18:33.904318Z"
    }
   },
   "outputs": [],
   "source": [
    "from sklearn.ensemble import RandomForestRegressor"
   ]
  },
  {
   "cell_type": "code",
   "execution_count": 13,
   "metadata": {
    "ExecuteTime": {
     "end_time": "2020-10-17T02:18:34.563346Z",
     "start_time": "2020-10-17T02:18:34.549335Z"
    }
   },
   "outputs": [],
   "source": [
    "forest = RandomForestRegressor(n_estimators=1000,\n",
    "                              criterion='squared_error',\n",
    "                              random_state=1,\n",
    "                              n_jobs=1)"
   ]
  },
  {
   "cell_type": "code",
   "execution_count": 14,
   "metadata": {
    "ExecuteTime": {
     "end_time": "2020-10-17T02:43:05.466168Z",
     "start_time": "2020-10-17T02:18:34.566343Z"
    }
   },
   "outputs": [
    {
     "data": {
      "text/html": [
       "<style>#sk-container-id-1 {color: black;}#sk-container-id-1 pre{padding: 0;}#sk-container-id-1 div.sk-toggleable {background-color: white;}#sk-container-id-1 label.sk-toggleable__label {cursor: pointer;display: block;width: 100%;margin-bottom: 0;padding: 0.3em;box-sizing: border-box;text-align: center;}#sk-container-id-1 label.sk-toggleable__label-arrow:before {content: \"▸\";float: left;margin-right: 0.25em;color: #696969;}#sk-container-id-1 label.sk-toggleable__label-arrow:hover:before {color: black;}#sk-container-id-1 div.sk-estimator:hover label.sk-toggleable__label-arrow:before {color: black;}#sk-container-id-1 div.sk-toggleable__content {max-height: 0;max-width: 0;overflow: hidden;text-align: left;background-color: #f0f8ff;}#sk-container-id-1 div.sk-toggleable__content pre {margin: 0.2em;color: black;border-radius: 0.25em;background-color: #f0f8ff;}#sk-container-id-1 input.sk-toggleable__control:checked~div.sk-toggleable__content {max-height: 200px;max-width: 100%;overflow: auto;}#sk-container-id-1 input.sk-toggleable__control:checked~label.sk-toggleable__label-arrow:before {content: \"▾\";}#sk-container-id-1 div.sk-estimator input.sk-toggleable__control:checked~label.sk-toggleable__label {background-color: #d4ebff;}#sk-container-id-1 div.sk-label input.sk-toggleable__control:checked~label.sk-toggleable__label {background-color: #d4ebff;}#sk-container-id-1 input.sk-hidden--visually {border: 0;clip: rect(1px 1px 1px 1px);clip: rect(1px, 1px, 1px, 1px);height: 1px;margin: -1px;overflow: hidden;padding: 0;position: absolute;width: 1px;}#sk-container-id-1 div.sk-estimator {font-family: monospace;background-color: #f0f8ff;border: 1px dotted black;border-radius: 0.25em;box-sizing: border-box;margin-bottom: 0.5em;}#sk-container-id-1 div.sk-estimator:hover {background-color: #d4ebff;}#sk-container-id-1 div.sk-parallel-item::after {content: \"\";width: 100%;border-bottom: 1px solid gray;flex-grow: 1;}#sk-container-id-1 div.sk-label:hover label.sk-toggleable__label {background-color: #d4ebff;}#sk-container-id-1 div.sk-serial::before {content: \"\";position: absolute;border-left: 1px solid gray;box-sizing: border-box;top: 0;bottom: 0;left: 50%;z-index: 0;}#sk-container-id-1 div.sk-serial {display: flex;flex-direction: column;align-items: center;background-color: white;padding-right: 0.2em;padding-left: 0.2em;position: relative;}#sk-container-id-1 div.sk-item {position: relative;z-index: 1;}#sk-container-id-1 div.sk-parallel {display: flex;align-items: stretch;justify-content: center;background-color: white;position: relative;}#sk-container-id-1 div.sk-item::before, #sk-container-id-1 div.sk-parallel-item::before {content: \"\";position: absolute;border-left: 1px solid gray;box-sizing: border-box;top: 0;bottom: 0;left: 50%;z-index: -1;}#sk-container-id-1 div.sk-parallel-item {display: flex;flex-direction: column;z-index: 1;position: relative;background-color: white;}#sk-container-id-1 div.sk-parallel-item:first-child::after {align-self: flex-end;width: 50%;}#sk-container-id-1 div.sk-parallel-item:last-child::after {align-self: flex-start;width: 50%;}#sk-container-id-1 div.sk-parallel-item:only-child::after {width: 0;}#sk-container-id-1 div.sk-dashed-wrapped {border: 1px dashed gray;margin: 0 0.4em 0.5em 0.4em;box-sizing: border-box;padding-bottom: 0.4em;background-color: white;}#sk-container-id-1 div.sk-label label {font-family: monospace;font-weight: bold;display: inline-block;line-height: 1.2em;}#sk-container-id-1 div.sk-label-container {text-align: center;}#sk-container-id-1 div.sk-container {/* jupyter's `normalize.less` sets `[hidden] { display: none; }` but bootstrap.min.css set `[hidden] { display: none !important; }` so we also need the `!important` here to be able to override the default hidden behavior on the sphinx rendered scikit-learn.org. See: https://github.com/scikit-learn/scikit-learn/issues/21755 */display: inline-block !important;position: relative;}#sk-container-id-1 div.sk-text-repr-fallback {display: none;}</style><div id=\"sk-container-id-1\" class=\"sk-top-container\"><div class=\"sk-text-repr-fallback\"><pre>RandomForestRegressor(n_estimators=1000, n_jobs=1, random_state=1)</pre><b>In a Jupyter environment, please rerun this cell to show the HTML representation or trust the notebook. <br />On GitHub, the HTML representation is unable to render, please try loading this page with nbviewer.org.</b></div><div class=\"sk-container\" hidden><div class=\"sk-item\"><div class=\"sk-estimator sk-toggleable\"><input class=\"sk-toggleable__control sk-hidden--visually\" id=\"sk-estimator-id-1\" type=\"checkbox\" checked><label for=\"sk-estimator-id-1\" class=\"sk-toggleable__label sk-toggleable__label-arrow\">RandomForestRegressor</label><div class=\"sk-toggleable__content\"><pre>RandomForestRegressor(n_estimators=1000, n_jobs=1, random_state=1)</pre></div></div></div></div></div>"
      ],
      "text/plain": [
       "RandomForestRegressor(n_estimators=1000, n_jobs=1, random_state=1)"
      ]
     },
     "execution_count": 14,
     "metadata": {},
     "output_type": "execute_result"
    }
   ],
   "source": [
    "forest.fit(X_train, y_train)"
   ]
  },
  {
   "cell_type": "code",
   "execution_count": 15,
   "metadata": {
    "ExecuteTime": {
     "end_time": "2020-10-17T02:43:17.411358Z",
     "start_time": "2020-10-17T02:43:05.466168Z"
    }
   },
   "outputs": [
    {
     "data": {
      "text/plain": [
       "0.8607012475042771"
      ]
     },
     "execution_count": 15,
     "metadata": {},
     "output_type": "execute_result"
    }
   ],
   "source": [
    "forest.score(X_train, y_train)"
   ]
  },
  {
   "cell_type": "code",
   "execution_count": 16,
   "metadata": {
    "ExecuteTime": {
     "end_time": "2020-10-17T02:43:22.505355Z",
     "start_time": "2020-10-17T02:43:17.413642Z"
    }
   },
   "outputs": [
    {
     "data": {
      "text/plain": [
       "-0.0571387927862852"
      ]
     },
     "execution_count": 16,
     "metadata": {},
     "output_type": "execute_result"
    }
   ],
   "source": [
    "forest.score(X_test, y_test)"
   ]
  },
  {
   "cell_type": "markdown",
   "metadata": {},
   "source": [
    "Random Forest seemed to score very well on the training set, but very poorly on the test set.  Let's visualize residuals to see if we can understand why the score is so low. "
   ]
  },
  {
   "cell_type": "markdown",
   "metadata": {},
   "source": [
    "### Analyze residuals"
   ]
  },
  {
   "cell_type": "code",
   "execution_count": 17,
   "metadata": {
    "ExecuteTime": {
     "end_time": "2020-10-17T02:43:34.597203Z",
     "start_time": "2020-10-17T02:43:22.507309Z"
    }
   },
   "outputs": [
    {
     "data": {
      "text/plain": [
       "array([6976.037, 1815.366, 4585.888, ..., 1768.267, 1269.445, 2920.97 ])"
      ]
     },
     "execution_count": 17,
     "metadata": {},
     "output_type": "execute_result"
    }
   ],
   "source": [
    "forest_pred = forest.predict(X_train)\n",
    "forest_pred"
   ]
  },
  {
   "cell_type": "code",
   "execution_count": 18,
   "metadata": {
    "ExecuteTime": {
     "end_time": "2020-10-17T02:43:34.612173Z",
     "start_time": "2020-10-17T02:43:34.599167Z"
    }
   },
   "outputs": [
    {
     "data": {
      "text/plain": [
       "13366   -6114.037\n",
       "24724     -15.366\n",
       "20085    -385.888\n",
       "19274    -452.209\n",
       "4926     -256.993\n",
       "           ...   \n",
       "22513    -602.793\n",
       "6780     -444.031\n",
       "29216      31.733\n",
       "25245     -69.445\n",
       "30729   -1320.970\n",
       "Name:  shares, Length: 27750, dtype: float64"
      ]
     },
     "execution_count": 18,
     "metadata": {},
     "output_type": "execute_result"
    }
   ],
   "source": [
    "forest_residuals = y_train - forest_pred\n",
    "forest_residuals"
   ]
  },
  {
   "cell_type": "code",
   "execution_count": 19,
   "metadata": {
    "ExecuteTime": {
     "end_time": "2020-10-17T02:43:34.871939Z",
     "start_time": "2020-10-17T02:43:34.615174Z"
    },
    "scrolled": true
   },
   "outputs": [
    {
     "data": {
      "text/plain": [
       "<matplotlib.lines.Line2D at 0x1a8cfd06a80>"
      ]
     },
     "execution_count": 19,
     "metadata": {},
     "output_type": "execute_result"
    },
    {
     "data": {
      "image/png": "[encoded data removed]",
      "text/plain": [
       "<Figure size 640x480 with 1 Axes>"
      ]
     },
     "metadata": {},
     "output_type": "display_data"
    }
   ],
   "source": [
    "plt.scatter(y_train, forest_residuals)\n",
    "plt.xlabel(\"train data\")\n",
    "plt.ylabel(\"residuals\")\n",
    "plt.axhline(y=0, c=\"red\")"
   ]
  },
  {
   "cell_type": "markdown",
   "metadata": {},
   "source": [
    "There is not much spread here, and is definetly a linear pattern.  Outliers in the data could be causing some of this, or the features that were used had strong correlation.  Overfitting could also be a factor here."
   ]
  },
  {
   "cell_type": "markdown",
   "metadata": {},
   "source": [
    "## Model 2"
   ]
  },
  {
   "cell_type": "markdown",
   "metadata": {},
   "source": [
    "For the second model, we were tasked to use a model utilizing feature selection.  I used mutual_info_regression as it's goal is to estimate information based on a continuous target variable.  The variable in this data is the number of shares an article has, which is not a qualitative value, so mutual_info_regression should work well (Raschka and Mirjalili, 2019)."
   ]
  },
  {
   "cell_type": "code",
   "execution_count": 20,
   "metadata": {
    "ExecuteTime": {
     "end_time": "2020-10-17T02:43:34.918948Z",
     "start_time": "2020-10-17T02:43:34.874939Z"
    }
   },
   "outputs": [],
   "source": [
    "from sklearn.feature_selection import mutual_info_regression, SelectKBest\n",
    "from sklearn.linear_model import LinearRegression\n",
    "from sklearn.pipeline import make_pipeline"
   ]
  },
  {
   "cell_type": "markdown",
   "metadata": {},
   "source": [
    "### Train on another model with feature selection"
   ]
  },
  {
   "cell_type": "code",
   "execution_count": 21,
   "metadata": {
    "ExecuteTime": {
     "end_time": "2020-10-17T02:45:20.955379Z",
     "start_time": "2020-10-17T02:43:34.928945Z"
    },
    "scrolled": true
   },
   "outputs": [
    {
     "data": {
      "text/html": [
       "<style>#sk-container-id-2 {color: black;}#sk-container-id-2 pre{padding: 0;}#sk-container-id-2 div.sk-toggleable {background-color: white;}#sk-container-id-2 label.sk-toggleable__label {cursor: pointer;display: block;width: 100%;margin-bottom: 0;padding: 0.3em;box-sizing: border-box;text-align: center;}#sk-container-id-2 label.sk-toggleable__label-arrow:before {content: \"▸\";float: left;margin-right: 0.25em;color: #696969;}#sk-container-id-2 label.sk-toggleable__label-arrow:hover:before {color: black;}#sk-container-id-2 div.sk-estimator:hover label.sk-toggleable__label-arrow:before {color: black;}#sk-container-id-2 div.sk-toggleable__content {max-height: 0;max-width: 0;overflow: hidden;text-align: left;background-color: #f0f8ff;}#sk-container-id-2 div.sk-toggleable__content pre {margin: 0.2em;color: black;border-radius: 0.25em;background-color: #f0f8ff;}#sk-container-id-2 input.sk-toggleable__control:checked~div.sk-toggleable__content {max-height: 200px;max-width: 100%;overflow: auto;}#sk-container-id-2 input.sk-toggleable__control:checked~label.sk-toggleable__label-arrow:before {content: \"▾\";}#sk-container-id-2 div.sk-estimator input.sk-toggleable__control:checked~label.sk-toggleable__label {background-color: #d4ebff;}#sk-container-id-2 div.sk-label input.sk-toggleable__control:checked~label.sk-toggleable__label {background-color: #d4ebff;}#sk-container-id-2 input.sk-hidden--visually {border: 0;clip: rect(1px 1px 1px 1px);clip: rect(1px, 1px, 1px, 1px);height: 1px;margin: -1px;overflow: hidden;padding: 0;position: absolute;width: 1px;}#sk-container-id-2 div.sk-estimator {font-family: monospace;background-color: #f0f8ff;border: 1px dotted black;border-radius: 0.25em;box-sizing: border-box;margin-bottom: 0.5em;}#sk-container-id-2 div.sk-estimator:hover {background-color: #d4ebff;}#sk-container-id-2 div.sk-parallel-item::after {content: \"\";width: 100%;border-bottom: 1px solid gray;flex-grow: 1;}#sk-container-id-2 div.sk-label:hover label.sk-toggleable__label {background-color: #d4ebff;}#sk-container-id-2 div.sk-serial::before {content: \"\";position: absolute;border-left: 1px solid gray;box-sizing: border-box;top: 0;bottom: 0;left: 50%;z-index: 0;}#sk-container-id-2 div.sk-serial {display: flex;flex-direction: column;align-items: center;background-color: white;padding-right: 0.2em;padding-left: 0.2em;position: relative;}#sk-container-id-2 div.sk-item {position: relative;z-index: 1;}#sk-container-id-2 div.sk-parallel {display: flex;align-items: stretch;justify-content: center;background-color: white;position: relative;}#sk-container-id-2 div.sk-item::before, #sk-container-id-2 div.sk-parallel-item::before {content: \"\";position: absolute;border-left: 1px solid gray;box-sizing: border-box;top: 0;bottom: 0;left: 50%;z-index: -1;}#sk-container-id-2 div.sk-parallel-item {display: flex;flex-direction: column;z-index: 1;position: relative;background-color: white;}#sk-container-id-2 div.sk-parallel-item:first-child::after {align-self: flex-end;width: 50%;}#sk-container-id-2 div.sk-parallel-item:last-child::after {align-self: flex-start;width: 50%;}#sk-container-id-2 div.sk-parallel-item:only-child::after {width: 0;}#sk-container-id-2 div.sk-dashed-wrapped {border: 1px dashed gray;margin: 0 0.4em 0.5em 0.4em;box-sizing: border-box;padding-bottom: 0.4em;background-color: white;}#sk-container-id-2 div.sk-label label {font-family: monospace;font-weight: bold;display: inline-block;line-height: 1.2em;}#sk-container-id-2 div.sk-label-container {text-align: center;}#sk-container-id-2 div.sk-container {/* jupyter's `normalize.less` sets `[hidden] { display: none; }` but bootstrap.min.css set `[hidden] { display: none !important; }` so we also need the `!important` here to be able to override the default hidden behavior on the sphinx rendered scikit-learn.org. See: https://github.com/scikit-learn/scikit-learn/issues/21755 */display: inline-block !important;position: relative;}#sk-container-id-2 div.sk-text-repr-fallback {display: none;}</style><div id=\"sk-container-id-2\" class=\"sk-top-container\"><div class=\"sk-text-repr-fallback\"><pre>Pipeline(steps=[(&#x27;selectkbest&#x27;,\n",
       "                 SelectKBest(k=5,\n",
       "                             score_func=&lt;function mutual_info_regression at 0x000001A8D3C58900&gt;)),\n",
       "                (&#x27;linearregression&#x27;, LinearRegression())])</pre><b>In a Jupyter environment, please rerun this cell to show the HTML representation or trust the notebook. <br />On GitHub, the HTML representation is unable to render, please try loading this page with nbviewer.org.</b></div><div class=\"sk-container\" hidden><div class=\"sk-item sk-dashed-wrapped\"><div class=\"sk-label-container\"><div class=\"sk-label sk-toggleable\"><input class=\"sk-toggleable__control sk-hidden--visually\" id=\"sk-estimator-id-2\" type=\"checkbox\" ><label for=\"sk-estimator-id-2\" class=\"sk-toggleable__label sk-toggleable__label-arrow\">Pipeline</label><div class=\"sk-toggleable__content\"><pre>Pipeline(steps=[(&#x27;selectkbest&#x27;,\n",
       "                 SelectKBest(k=5,\n",
       "                             score_func=&lt;function mutual_info_regression at 0x000001A8D3C58900&gt;)),\n",
       "                (&#x27;linearregression&#x27;, LinearRegression())])</pre></div></div></div><div class=\"sk-serial\"><div class=\"sk-item\"><div class=\"sk-estimator sk-toggleable\"><input class=\"sk-toggleable__control sk-hidden--visually\" id=\"sk-estimator-id-3\" type=\"checkbox\" ><label for=\"sk-estimator-id-3\" class=\"sk-toggleable__label sk-toggleable__label-arrow\">SelectKBest</label><div class=\"sk-toggleable__content\"><pre>SelectKBest(k=5,\n",
       "            score_func=&lt;function mutual_info_regression at 0x000001A8D3C58900&gt;)</pre></div></div></div><div class=\"sk-item\"><div class=\"sk-estimator sk-toggleable\"><input class=\"sk-toggleable__control sk-hidden--visually\" id=\"sk-estimator-id-4\" type=\"checkbox\" ><label for=\"sk-estimator-id-4\" class=\"sk-toggleable__label sk-toggleable__label-arrow\">LinearRegression</label><div class=\"sk-toggleable__content\"><pre>LinearRegression()</pre></div></div></div></div></div></div></div>"
      ],
      "text/plain": [
       "Pipeline(steps=[('selectkbest',\n",
       "                 SelectKBest(k=5,\n",
       "                             score_func=<function mutual_info_regression at 0x000001A8D3C58900>)),\n",
       "                ('linearregression', LinearRegression())])"
      ]
     },
     "execution_count": 21,
     "metadata": {},
     "output_type": "execute_result"
    }
   ],
   "source": [
    "# create and fit mutual_info_regression model\n",
    "feature_selection = SelectKBest(score_func=mutual_info_regression, k=5, )\n",
    "lm = LinearRegression()\n",
    "lm_pipeline = make_pipeline(feature_selection, lm)\n",
    "lm_pipeline.fit(X_train, y_train)"
   ]
  },
  {
   "cell_type": "code",
   "execution_count": 22,
   "metadata": {
    "ExecuteTime": {
     "end_time": "2020-10-17T02:45:21.010118Z",
     "start_time": "2020-10-17T02:45:20.963339Z"
    }
   },
   "outputs": [
    {
     "data": {
      "text/plain": [
       "0.01583559867309703"
      ]
     },
     "execution_count": 22,
     "metadata": {},
     "output_type": "execute_result"
    }
   ],
   "source": [
    "lm_pipeline.score(X_train, y_train)"
   ]
  },
  {
   "cell_type": "code",
   "execution_count": 23,
   "metadata": {
    "ExecuteTime": {
     "end_time": "2020-10-17T02:45:21.074072Z",
     "start_time": "2020-10-17T02:45:21.015088Z"
    }
   },
   "outputs": [
    {
     "data": {
      "text/plain": [
       "0.015270660979568973"
      ]
     },
     "execution_count": 23,
     "metadata": {},
     "output_type": "execute_result"
    }
   ],
   "source": [
    "lm_pipeline.score(X_test, y_test)"
   ]
  },
  {
   "cell_type": "markdown",
   "metadata": {},
   "source": [
    "mutual_info_regression did score better on the test set, but worse on the train set.  If there was a way that one would want these number to go, this is it.  However, the values are extremely low for what we were looking to get.  Let's plot residuals to see what is happening."
   ]
  },
  {
   "cell_type": "markdown",
   "metadata": {},
   "source": [
    "### Analyze Residuals"
   ]
  },
  {
   "cell_type": "code",
   "execution_count": 24,
   "metadata": {
    "ExecuteTime": {
     "end_time": "2020-10-17T02:45:21.106072Z",
     "start_time": "2020-10-17T02:45:21.080086Z"
    }
   },
   "outputs": [
    {
     "data": {
      "text/plain": [
       "array([6517.21006581, 2457.57753149, 4640.52999203, ..., 2875.9757363 ,\n",
       "       2688.45576365, 3529.08405939])"
      ]
     },
     "execution_count": 24,
     "metadata": {},
     "output_type": "execute_result"
    }
   ],
   "source": [
    "y_train_pred = lm_pipeline.predict(X_train)\n",
    "y_train_pred"
   ]
  },
  {
   "cell_type": "code",
   "execution_count": 25,
   "metadata": {
    "ExecuteTime": {
     "end_time": "2020-10-17T02:45:21.152072Z",
     "start_time": "2020-10-17T02:45:21.111071Z"
    }
   },
   "outputs": [
    {
     "data": {
      "text/plain": [
       "13366   -5655.210066\n",
       "24724    -657.577531\n",
       "20085    -440.529992\n",
       "19274   -1354.839263\n",
       "4926      -73.457609\n",
       "            ...     \n",
       "22513    -817.886887\n",
       "6780    -3184.823058\n",
       "29216   -1075.975736\n",
       "25245   -1488.455764\n",
       "30729   -1929.084059\n",
       "Name:  shares, Length: 27750, dtype: float64"
      ]
     },
     "execution_count": 25,
     "metadata": {},
     "output_type": "execute_result"
    }
   ],
   "source": [
    "residuals = y_train - y_train_pred\n",
    "residuals"
   ]
  },
  {
   "cell_type": "code",
   "execution_count": 26,
   "metadata": {
    "ExecuteTime": {
     "end_time": "2020-10-17T02:45:21.484070Z",
     "start_time": "2020-10-17T02:45:21.156072Z"
    }
   },
   "outputs": [
    {
     "data": {
      "text/plain": [
       "<matplotlib.lines.Line2D at 0x1a8d3c4dca0>"
      ]
     },
     "execution_count": 26,
     "metadata": {},
     "output_type": "execute_result"
    },
    {
     "data": {
      "image/png": "[encoded data removed]",
      "text/plain": [
       "<Figure size 640x480 with 1 Axes>"
      ]
     },
     "metadata": {},
     "output_type": "display_data"
    }
   ],
   "source": [
    "plt.scatter(y_train, residuals)\n",
    "plt.xlabel(\"train data\")\n",
    "plt.ylabel(\"residuals\")\n",
    "plt.axhline(y=0, c=\"red\")"
   ]
  },
  {
   "cell_type": "markdown",
   "metadata": {},
   "source": [
    "Similar to RandomForest regression, our residuals seem linear and the data seems to be overfit.  We are only using 5 features, instead of all of them, but this still does not seem like a strong model to predict the number of shares an article has."
   ]
  },
  {
   "cell_type": "markdown",
   "metadata": {},
   "source": [
    "***"
   ]
  },
  {
   "cell_type": "markdown",
   "metadata": {},
   "source": [
    "## Reflection"
   ]
  },
  {
   "cell_type": "markdown",
   "metadata": {},
   "source": [
    "Would you recommend either model that you have considered for real-life prediction based on this data set? If yes, explain why. If no, what other models would you consider?"
   ]
  },
  {
   "cell_type": "markdown",
   "metadata": {},
   "source": [
    "> Both models scored low and displayed a pattern among residuals so I would not recommend either model to answer the question. According to the source, the Random Forest classifier was used on this data set, as well as a \"rolling windows\" as an assessment method.  I figured doing a Random Forest regression model would work similar, but something about the model does not work on the test set. Random Forest regression uses decision trees to predict values, but often data cannot be answered in a 'yes/no' form, so a model that does not use that form might work better.  With that logic, I tried again, but this time with a new model, while it scored higher on the test set, was still not great and the residuals mapped a similar pattern."
   ]
  },
  {
   "cell_type": "markdown",
   "metadata": {
    "ExecuteTime": {
     "end_time": "2020-10-06T22:04:40.364311Z",
     "start_time": "2020-10-06T22:04:40.342776Z"
    }
   },
   "source": [
    "List three specific things that you have learned or strengthened as a result of doing this project."
   ]
  },
  {
   "cell_type": "markdown",
   "metadata": {},
   "source": [
    "> I attempted to use my memory for the majority of the project, looking back at old code to solve problems if they arose, instead of reaching out to sources like StackOverflow and the like.  I learned that I had picked up on a number of topics and was able to apply them without a second thought.  These things were mainly how to clean, split, and build basic models, as well as plot residuals and find predictions.  \n",
    "\n",
    "> Hyperparameters are important and understanding what each one does is not necessarialy important, but understanding some of them could help to build a better model.\n",
    "\n",
    "> Models do not have to have a good score to be informative.  From our graphs, although we are using a lot of data, there seems to be some sort of relationship between shares and a number of features in the dataset.  "
   ]
  },
  {
   "cell_type": "markdown",
   "metadata": {},
   "source": [
    "List three good questions that you can related to your work on this project."
   ]
  },
  {
   "cell_type": "markdown",
   "metadata": {},
   "source": [
    "1. What hyperparameters could I change to get models to fit better?\n",
    "\n",
    "2. What data is the best to predict the number of shares an article has?\n",
    "\n",
    "3. Why do people share articles?"
   ]
  },
  {
   "cell_type": "markdown",
   "metadata": {},
   "source": [
    "***"
   ]
  },
  {
   "cell_type": "markdown",
   "metadata": {
    "ExecuteTime": {
     "end_time": "2020-10-06T22:04:58.813848Z",
     "start_time": "2020-10-06T22:04:58.797747Z"
    }
   },
   "source": [
    "## References"
   ]
  },
  {
   "cell_type": "markdown",
   "metadata": {},
   "source": [
    "K. Fernandes, P. Vinagre and P. Cortez. A Proactive Intelligent Decision Support System for Predicting the Popularity of Online News. Proceedings of the 17th EPIA 2015 - Portuguese Conference on Artificial Intelligence, September, Coimbra, Portugal."
   ]
  },
  {
   "cell_type": "markdown",
   "metadata": {},
   "source": [
    "> I used the website as a source to better understand the variables/features used as well as understand what methods had been used on the data before to gain inspiration for what models I should try."
   ]
  },
  {
   "cell_type": "markdown",
   "metadata": {},
   "source": [
    "Raschka, S. and Mirjalili, V., 2019. Python Machine Learning. 3rd ed. Birmingham, UK: Packt."
   ]
  },
  {
   "cell_type": "markdown",
   "metadata": {},
   "source": [
    "> I used the course textbook to help define models and gain better understanding of different hyperparameters available. "
   ]
  },
  {
   "cell_type": "markdown",
   "metadata": {},
   "source": [
    "***"
   ]
  },
  {
   "cell_type": "markdown",
   "metadata": {},
   "source": [
    "> I also utilized old course material that we previously worked with to help build a skeleton for the models I would use."
   ]
  }
 ],
 "metadata": {
  "kernelspec": {
   "display_name": "Python 3",
   "language": "python",
   "name": "python3"
  },
  "language_info": {
   "codemirror_mode": {
    "name": "ipython",
    "version": 3
   },
   "file_extension": ".py",
   "mimetype": "text/x-python",
   "name": "python",
   "nbconvert_exporter": "python",
   "pygments_lexer": "ipython3",
   "version": "3.12.1"
  },
  "toc": {
   "base_numbering": 1,
   "nav_menu": {},
   "number_sections": true,
   "sideBar": true,
   "skip_h1_title": true,
   "title_cell": "Table of Contents",
   "title_sidebar": "Contents",
   "toc_cell": true,
   "toc_position": {
    "height": "calc(100% - 180px)",
    "left": "10px",
    "top": "150px",
    "width": "199.865px"
   },
   "toc_section_display": true,
   "toc_window_display": false
  }
 },
 "nbformat": 4,
 "nbformat_minor": 4
}
