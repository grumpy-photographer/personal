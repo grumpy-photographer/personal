{
 "cells": [
  {
   "cell_type": "markdown",
   "metadata": {},
   "source": [
    "# Ex 1.2 \n",
    "- [**In Class**](#In-Class)  \n",
    "  - [Negative or Positive number](#Negative-or-Postive-Number?)    \n",
    "  - [Time of Day](#Time-of-Day?)  \n",
    "  \n",
    "  \n",
    "- [**Exercise 1.2**](#Exercise-1.2)  \n",
    "  - [Excess Luggage Fee Calculator](#Excess-Luggage-Fee-Calculator)   \n",
    "  - [Letter Grade Calculator](#Letter-Grade-Calculator)    \n",
    "  - [Eligible to Graduate](#Eligible-to-Graduate-Check)"
   ]
  },
  {
   "cell_type": "markdown",
   "metadata": {},
   "source": [
    "# In Class"
   ]
  },
  {
   "cell_type": "markdown",
   "metadata": {},
   "source": [
    "### Negative or Postive Number?\n",
    "\n",
    "1. In the cell below, prompt the user for a number and then display whether it is a postive number or a negative number.  \n",
    "2. Assume the number is an integer"
   ]
  },
  {
   "cell_type": "code",
   "execution_count": 14,
   "metadata": {},
   "outputs": [
    {
     "name": "stdout",
     "output_type": "stream",
     "text": [
      "Enter a number:2\n",
      "The number is postive.\n"
     ]
    }
   ],
   "source": [
    "#In the cell below, prompt the user for a number and then display whether it is a postive number or a negative number.\n",
    "#Assume the number is an integer\n",
    "numberToCheck = input(str(\"Enter a number:\"))\n",
    "\n",
    "if numberToCheck > str(0):\n",
    "    print(\"The number is postive.\")\n",
    "else:\n",
    "    print(\"The number is negative.\")"
   ]
  },
  {
   "cell_type": "markdown",
   "metadata": {},
   "source": [
    "### Time of Day?  \n",
    "1. Declare a variable named time_24 and assign it a value of 11  \n",
    "2. Create an If Statement that use the following logic:  \n",
    "  - If the time is less than 12, display **Good Morning!**  \n",
    "  - If the time is less than 18, display **Good Afternoon!**  \n",
    "  - If the time is less than or equal to 24, display **Good Evening!**  \n",
    "  - Otherwise, display **Time must be between 0 and 24!**"
   ]
  },
  {
   "cell_type": "code",
   "execution_count": 21,
   "metadata": {},
   "outputs": [
    {
     "name": "stdout",
     "output_type": "stream",
     "text": [
      "Good morning!\n"
     ]
    }
   ],
   "source": [
    "#Declare a variable named time_24 and assign it a value of 11 \n",
    "time_24 = 11\n",
    "\n",
    "#Create an If Statement that use the following logic:  \n",
    "  #- If the time is less than 12, display **Good Morning!**  \n",
    "  #- If the time is less than 18, display **Good Afternoon!**  \n",
    "  #- If the time is less than or equal to 24, display **Good Evening!**  \n",
    "  #- Otherwise, display **Time must be between 0 and 24!**\n",
    "if time_24 < 12:\n",
    "    print(\"Good morning!\")\n",
    "elif time_24 < 18:\n",
    "    print(\"Good afternoon!\")\n",
    "elif time_24 <= 24:\n",
    "    print(\"Good evening!\")\n",
    "else:\n",
    "    print(\"Time must be between 0 and 24!\")"
   ]
  },
  {
   "cell_type": "markdown",
   "metadata": {},
   "source": [
    "# Exercise 1.2  \n"
   ]
  },
  {
   "cell_type": "markdown",
   "metadata": {},
   "source": [
    "## Excess Luggage Fee Calculator  \n",
    "1. Declare a variable named **weight**  \n",
    "2. Prompt the user for their Luggage weight and assign that value to the weight variable  \n",
    "3. Create an if statement that does this:  \n",
    "    1. If the weight value is over 50.5 pounds, display \"There is a $25 surcharge for luggage that heavy.\"  \n",
    "    2. If not, display \"There is no extra surcharge for your luggage!\"  \n",
    "4. At the end, always display \"Thank you for your business!\""
   ]
  },
  {
   "cell_type": "code",
   "execution_count": 1,
   "metadata": {},
   "outputs": [
    {
     "name": "stdout",
     "output_type": "stream",
     "text": [
      "Enter weight of luggage:50.5\n",
      "There is no extra surcharge for your luggage!\n",
      "Thank you for your business!\n"
     ]
    }
   ],
   "source": [
    "#declare a variable named weight\n",
    "weight = 50.5\n",
    "#prompt the user for their luggage weight and assign that value\n",
    "luggageWeight = input(str(\"Enter weight of luggage:\"))\n",
    "#statements pertaining to luggage weight\n",
    "if luggageWeight > str(50.5):\n",
    "    print(\"There is a $25 surcharge for luggage that heavy.\")\n",
    "else:\n",
    "    print(\"There is no extra surcharge for your luggage!\")\n",
    "#closing comment   \n",
    "print(\"Thank you for your business!\")\n"
   ]
  },
  {
   "cell_type": "markdown",
   "metadata": {},
   "source": [
    "## Letter Grade Calculator  \n",
    "1. Declare two variables:  **exam_score** and **exam_grade**  \n",
    "2. Prompt the user for their exam score and assign that value to the *exam_score* variable   \n",
    "3. Use an if statement to assign a letter grade to the *exam_grade* variable based on a 10 point scale:  90, 80, 70 and 60\n",
    "4. Then display \"Exam Grade is: \" and the value in the *exam_grade* variable"
   ]
  },
  {
   "cell_type": "code",
   "execution_count": 3,
   "metadata": {},
   "outputs": [
    {
     "name": "stdout",
     "output_type": "stream",
     "text": [
      "Enter exam score:56\n",
      "Exam Grade is: F\n"
     ]
    }
   ],
   "source": [
    "#declare variables\n",
    "number_grade = exam_score\n",
    "letter_grade = exam_grade\n",
    "#prompt user to enter grades\n",
    "exam_score = input(str(\"Enter exam score:\"))\n",
    "#assign grades\n",
    "if exam_score > str(90):\n",
    "    print(\"Exam Grade is: A\")\n",
    "elif exam_score > str(80): \n",
    "    print(\"Exam Grade is: B\")\n",
    "elif exam_score > str(70):\n",
    "    print(\"Exam Grade is: C\")\n",
    "elif exam_score > str(60):\n",
    "    print(\"Exam Grade is: D\")\n",
    "else: \n",
    "    print(\"Exam Grade is: F\")"
   ]
  },
  {
   "cell_type": "markdown",
   "metadata": {},
   "source": [
    "## Eligible to Graduate Check  \n",
    "1. Prompt the user for their completed credit hours \n",
    "2. Prompt the user for their overall GPA \n",
    "3. They are only eligible to graduate if their credit hours are at least 120 and their overall GPA is at least 2.0\n",
    "4. Display whether they are eligible to graduate or not"
   ]
  },
  {
   "cell_type": "code",
   "execution_count": 5,
   "metadata": {},
   "outputs": [
    {
     "name": "stdout",
     "output_type": "stream",
     "text": [
      "Enter completed credit hours: 122\n",
      "Enter overall GPA: 3\n",
      "You are eligible to graduate.\n"
     ]
    }
   ],
   "source": [
    "#prompt user for completed credit hours\n",
    "credit_hours = input(str(\"Enter completed credit hours: \"))\n",
    "#prompt user for overall GPA\n",
    "gpa = input(str(\"Enter overall GPA: \"))\n",
    "#calculate grades\n",
    "if credit_hours > str(120) and gpa > str(2.0):\n",
    "    print(\"You are eligible to graduate.\")\n",
    "else:\n",
    "    print(\"You are not eligible to graduate.\")"
   ]
  },
  {
   "cell_type": "code",
   "execution_count": null,
   "metadata": {},
   "outputs": [],
   "source": []
  }
 ],
 "metadata": {
  "kernelspec": {
   "display_name": "Python 3",
   "language": "python",
   "name": "python3"
  },
  "language_info": {
   "codemirror_mode": {
    "name": "ipython",
    "version": 3
   },
   "file_extension": ".py",
   "mimetype": "text/x-python",
   "name": "python",
   "nbconvert_exporter": "python",
   "pygments_lexer": "ipython3",
   "version": "3.7.0"
  }
 },
 "nbformat": 4,
 "nbformat_minor": 2
}
