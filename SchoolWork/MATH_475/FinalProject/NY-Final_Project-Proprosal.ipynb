{
 "cells": [
  {
   "cell_type": "markdown",
   "metadata": {},
   "source": [
    "# Young Final Project Proposal"
   ]
  },
  {
   "cell_type": "markdown",
   "metadata": {
    "toc": true
   },
   "source": [
    "<h1>Table of Contents<span class=\"tocSkip\"></span></h1>\n",
    "<div class=\"toc\"><ul class=\"toc-item\"><li><span><a href=\"#Choose-dataset\" data-toc-modified-id=\"Choose-dataset-1\">Choose dataset</a></span></li><li><span><a href=\"#Big-question\" data-toc-modified-id=\"Big-question-2\">Big question</a></span></li><li><span><a href=\"#Process\" data-toc-modified-id=\"Process-3\">Process</a></span></li><li><span><a href=\"#Presentation\" data-toc-modified-id=\"Presentation-4\">Presentation</a></span></li><li><span><a href=\"#3-Skills-to-Demonstrate\" data-toc-modified-id=\"3-Skills-to-Demonstrate-5\">3 Skills to Demonstrate</a></span></li></ul></div>"
   ]
  },
  {
   "cell_type": "markdown",
   "metadata": {},
   "source": [
    "***"
   ]
  },
  {
   "cell_type": "markdown",
   "metadata": {},
   "source": [
    "## Choose dataset"
   ]
  },
  {
   "cell_type": "markdown",
   "metadata": {},
   "source": [
    "[NASA Hazardous Asteroid Classification dataset from Kaggle](https://www.kaggle.com/shrutimehta/nasa-asteroids-classification)"
   ]
  },
  {
   "cell_type": "markdown",
   "metadata": {},
   "source": [
    "## Big question"
   ]
  },
  {
   "cell_type": "markdown",
   "metadata": {},
   "source": [
    "How few features can be used to accurately predict a hazardous asteroid versus a safe asteroid?"
   ]
  },
  {
   "cell_type": "markdown",
   "metadata": {},
   "source": [
    "## Process"
   ]
  },
  {
   "cell_type": "markdown",
   "metadata": {},
   "source": [
    "| To Do | Description | Goal | How To |\n",
    "|    :-   |    :-       |  :-  |   :-   |\n",
    "| Preprocess | Load data, clean data, encode if necessary | Have a clean dataset | Load data properly with Pandas; use `df.info()`, `df.describe()`, `sum(df.isna().any())`, etc  to understand data and find what needs to be cleaned; remove nulls, replace 'dirty' data, change `dtypes`; use `pd.get_dummies()` to encode target values to 0/1 if necessary |\n",
    "| Visualize | Plot features in data to derive basic insights of features | Find important/effective features to use in model as well as features to possibly exclude | Use different plots in seaborn, matplotlib, plotly, etc to derive insights from different features.  `seaborn.pairplot()` might be a good place to start |\n",
    "| Split data and search for best model | Define X (variables) and y (target), split into Train/Test or Train/Dev/Test set, choose model(s) to use, set up parameters, run parameters and train set through GridSearchCV | Have a strong model to build defined by our limited search | RandomForestClassifier, KNN, etc and GridSearchCV |\n",
    "| Build and score model | Use parameters defined by highest scoring model found in GridSearchCV to build model | Successfully send data into model and get a score in some form | Build classification object with parameters, fit on train data, plot confusion matrix and get classification scores |\n",
    "| Train other models | There might have been other models not used.  Spend some more time training other models that work (see score in GridSearchCV or choose another model) | See if another model works better | Repeat building and scoring with different models, teasing hyperparameters to see if we can get a better result |"
   ]
  },
  {
   "cell_type": "markdown",
   "metadata": {},
   "source": [
    "## Presentation"
   ]
  },
  {
   "cell_type": "markdown",
   "metadata": {},
   "source": [
    "8 - 10 pg report.  I know it's not necessary, as I am in the 475 class, but I want to work on my report writing skills, especially as a potential graduate program opportunity is in the future."
   ]
  },
  {
   "cell_type": "markdown",
   "metadata": {},
   "source": [
    "## 3 Skills to Demonstrate"
   ]
  },
  {
   "cell_type": "markdown",
   "metadata": {},
   "source": [
    "1. Automation\n",
    "2. Informative plots\n",
    "3. Can I utilize new (not learned yet in class) packages to achieve a better score?"
   ]
  }
 ],
 "metadata": {
  "kernelspec": {
   "display_name": "Python 3",
   "language": "python",
   "name": "python3"
  },
  "language_info": {
   "codemirror_mode": {
    "name": "ipython",
    "version": 3
   },
   "file_extension": ".py",
   "mimetype": "text/x-python",
   "name": "python",
   "nbconvert_exporter": "python",
   "pygments_lexer": "ipython3",
   "version": "3.7.9"
  },
  "toc": {
   "base_numbering": 1,
   "nav_menu": {},
   "number_sections": false,
   "sideBar": false,
   "skip_h1_title": true,
   "title_cell": "Table of Contents",
   "title_sidebar": "Contents",
   "toc_cell": true,
   "toc_position": {},
   "toc_section_display": true,
   "toc_window_display": false
  }
 },
 "nbformat": 4,
 "nbformat_minor": 4
}
