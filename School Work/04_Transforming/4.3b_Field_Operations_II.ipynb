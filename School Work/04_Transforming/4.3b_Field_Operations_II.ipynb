{
 "cells": [
  {
   "cell_type": "markdown",
   "metadata": {},
   "source": [
    "# 4.3b  *Field* Operations II\n",
    " \n",
    "- [Getting Rid of Non-Numeric Field Junk: Dollar Signs, commas, etc...](#Getting-Rid-of-Non-Numeric-Field-Junk)    \n",
    "   \n",
    "\n",
    "- [Changing Data Type](#Changing-Data-Type)  \n",
    "    - string to int  \n",
    "    - string to float  \n",
    "    - string to date  "
   ]
  },
  {
   "cell_type": "code",
   "execution_count": 49,
   "metadata": {},
   "outputs": [],
   "source": [
    "import pandas as pd"
   ]
  },
  {
   "cell_type": "markdown",
   "metadata": {},
   "source": [
    "# Getting Rid of Non-Numeric Field Junk"
   ]
  },
  {
   "cell_type": "code",
   "execution_count": 50,
   "metadata": {},
   "outputs": [
    {
     "data": {
      "text/html": [
       "<div>\n",
       "<style scoped>\n",
       "    .dataframe tbody tr th:only-of-type {\n",
       "        vertical-align: middle;\n",
       "    }\n",
       "\n",
       "    .dataframe tbody tr th {\n",
       "        vertical-align: top;\n",
       "    }\n",
       "\n",
       "    .dataframe thead th {\n",
       "        text-align: right;\n",
       "    }\n",
       "</style>\n",
       "<table border=\"1\" class=\"dataframe\">\n",
       "  <thead>\n",
       "    <tr style=\"text-align: right;\">\n",
       "      <th></th>\n",
       "      <th>OrderID</th>\n",
       "      <th>Order Date</th>\n",
       "      <th>Product</th>\n",
       "      <th>Size</th>\n",
       "      <th>Price</th>\n",
       "    </tr>\n",
       "  </thead>\n",
       "  <tbody>\n",
       "    <tr>\n",
       "      <th>0</th>\n",
       "      <td>1</td>\n",
       "      <td>2017-01-01</td>\n",
       "      <td>Boots</td>\n",
       "      <td>7 (US)</td>\n",
       "      <td>$25,000</td>\n",
       "    </tr>\n",
       "    <tr>\n",
       "      <th>1</th>\n",
       "      <td>2</td>\n",
       "      <td>2017-01-01</td>\n",
       "      <td>Boots</td>\n",
       "      <td>4 (US)</td>\n",
       "      <td>$35,000</td>\n",
       "    </tr>\n",
       "    <tr>\n",
       "      <th>2</th>\n",
       "      <td>3</td>\n",
       "      <td>2017-01-01</td>\n",
       "      <td>Boots</td>\n",
       "      <td>6 (US)</td>\n",
       "      <td>$21,000</td>\n",
       "    </tr>\n",
       "  </tbody>\n",
       "</table>\n",
       "</div>"
      ],
      "text/plain": [
       "   OrderID  Order Date Product    Size    Price\n",
       "0        1  2017-01-01   Boots  7 (US)  $25,000\n",
       "1        2  2017-01-01   Boots  4 (US)  $35,000\n",
       "2        3  2017-01-01   Boots  6 (US)  $21,000"
      ]
     },
     "execution_count": 50,
     "metadata": {},
     "output_type": "execute_result"
    }
   ],
   "source": [
    "# Hardcode a dataframe\n",
    "df_Shoes = pd.DataFrame(\n",
    "    [\n",
    "    [1,'2017-01-01','Boots','7 (US)', '$25,000'],\n",
    "    [2,'2017-01-01','Boots','4 (US)', '$35,000'],\n",
    "    [3,'2017-01-01','Boots','6 (US)', '$21,000'],\n",
    "    ],\n",
    "    columns=['OrderID','Order Date','Product','Size','Price'])\n",
    "\n",
    "df_Shoes.head()"
   ]
  },
  {
   "cell_type": "code",
   "execution_count": 51,
   "metadata": {},
   "outputs": [
    {
     "data": {
      "text/plain": [
       "0    25000\n",
       "1    35000\n",
       "2    21000\n",
       "Name: Price, dtype: object"
      ]
     },
     "execution_count": 51,
     "metadata": {},
     "output_type": "execute_result"
    }
   ],
   "source": [
    "# Get rid of non-numeric junk in the Price field\n",
    "df_Shoes['Price'] = df_Shoes['Price'].str.replace('$', '')\n",
    "df_Shoes['Price'] = df_Shoes['Price'].str.replace(',', '')\n",
    "\n",
    "df_Shoes['Price'].head()"
   ]
  },
  {
   "cell_type": "code",
   "execution_count": 52,
   "metadata": {},
   "outputs": [
    {
     "data": {
      "text/plain": [
       "0    7 \n",
       "1    4 \n",
       "2    6 \n",
       "Name: Size, dtype: object"
      ]
     },
     "execution_count": 52,
     "metadata": {},
     "output_type": "execute_result"
    }
   ],
   "source": [
    "# Get rid of non-numeric junk in the Size field\n",
    "df_Shoes['Size'] = df_Shoes['Size'].str.replace('(', '')\n",
    "df_Shoes['Size'] = df_Shoes['Size'].str.replace('US', '')\n",
    "df_Shoes['Size'] = df_Shoes['Size'].str.replace(')', '')\n",
    "\n",
    "df_Shoes['Size'].head()"
   ]
  },
  {
   "cell_type": "markdown",
   "metadata": {},
   "source": [
    "# Changing Data Type"
   ]
  },
  {
   "cell_type": "code",
   "execution_count": 53,
   "metadata": {},
   "outputs": [
    {
     "data": {
      "text/plain": [
       "OrderID        int64\n",
       "Order Date    object\n",
       "Product       object\n",
       "Size          object\n",
       "Price         object\n",
       "dtype: object"
      ]
     },
     "execution_count": 53,
     "metadata": {},
     "output_type": "execute_result"
    }
   ],
   "source": [
    "# Check data types\n",
    "# Note the data type for Price and Size are objects, which means pandas thinks they are strings\n",
    "df_Shoes.dtypes"
   ]
  },
  {
   "cell_type": "markdown",
   "metadata": {},
   "source": [
    "## Changing a string to an int"
   ]
  },
  {
   "cell_type": "code",
   "execution_count": 54,
   "metadata": {},
   "outputs": [
    {
     "data": {
      "text/plain": [
       "OrderID        int64\n",
       "Order Date    object\n",
       "Product       object\n",
       "Size           int32\n",
       "Price         object\n",
       "dtype: object"
      ]
     },
     "execution_count": 54,
     "metadata": {},
     "output_type": "execute_result"
    }
   ],
   "source": [
    "# Change the data type of Size from string to int\n",
    "df_Shoes['Size'] = pd.to_numeric(df_Shoes['Size']).astype(int)\n",
    "\n",
    "df_Shoes.dtypes"
   ]
  },
  {
   "cell_type": "markdown",
   "metadata": {},
   "source": [
    "## Changing a string to a float"
   ]
  },
  {
   "cell_type": "code",
   "execution_count": 55,
   "metadata": {},
   "outputs": [
    {
     "data": {
      "text/plain": [
       "OrderID         int64\n",
       "Order Date     object\n",
       "Product        object\n",
       "Size            int32\n",
       "Price         float64\n",
       "dtype: object"
      ]
     },
     "execution_count": 55,
     "metadata": {},
     "output_type": "execute_result"
    }
   ],
   "source": [
    "# Change the data type of Price to float\n",
    "df_Shoes['Price'] = pd.to_numeric(df_Shoes['Price']).astype(float)\n",
    "df_Shoes.dtypes"
   ]
  },
  {
   "cell_type": "markdown",
   "metadata": {},
   "source": [
    "## string to date"
   ]
  },
  {
   "cell_type": "code",
   "execution_count": 56,
   "metadata": {},
   "outputs": [
    {
     "data": {
      "text/plain": [
       "OrderID                int64\n",
       "Order Date    datetime64[ns]\n",
       "Product               object\n",
       "Size                   int32\n",
       "Price                float64\n",
       "dtype: object"
      ]
     },
     "execution_count": 56,
     "metadata": {},
     "output_type": "execute_result"
    }
   ],
   "source": [
    "# Change Order Date from string to date\n",
    "df_Shoes['Order Date'] = pd.to_datetime(df_Shoes['Order Date'])\n",
    "\n",
    "df_Shoes.dtypes"
   ]
  },
  {
   "cell_type": "code",
   "execution_count": 57,
   "metadata": {
    "scrolled": true
   },
   "outputs": [
    {
     "data": {
      "text/html": [
       "<div>\n",
       "<style scoped>\n",
       "    .dataframe tbody tr th:only-of-type {\n",
       "        vertical-align: middle;\n",
       "    }\n",
       "\n",
       "    .dataframe tbody tr th {\n",
       "        vertical-align: top;\n",
       "    }\n",
       "\n",
       "    .dataframe thead th {\n",
       "        text-align: right;\n",
       "    }\n",
       "</style>\n",
       "<table border=\"1\" class=\"dataframe\">\n",
       "  <thead>\n",
       "    <tr style=\"text-align: right;\">\n",
       "      <th></th>\n",
       "      <th>OrderID</th>\n",
       "      <th>Order Date</th>\n",
       "      <th>Product</th>\n",
       "      <th>Size</th>\n",
       "      <th>Price</th>\n",
       "    </tr>\n",
       "  </thead>\n",
       "  <tbody>\n",
       "    <tr>\n",
       "      <th>0</th>\n",
       "      <td>1</td>\n",
       "      <td>2017-01-01</td>\n",
       "      <td>Boots</td>\n",
       "      <td>7</td>\n",
       "      <td>25000.0</td>\n",
       "    </tr>\n",
       "    <tr>\n",
       "      <th>1</th>\n",
       "      <td>2</td>\n",
       "      <td>2017-01-01</td>\n",
       "      <td>Boots</td>\n",
       "      <td>4</td>\n",
       "      <td>35000.0</td>\n",
       "    </tr>\n",
       "    <tr>\n",
       "      <th>2</th>\n",
       "      <td>3</td>\n",
       "      <td>2017-01-01</td>\n",
       "      <td>Boots</td>\n",
       "      <td>6</td>\n",
       "      <td>21000.0</td>\n",
       "    </tr>\n",
       "  </tbody>\n",
       "</table>\n",
       "</div>"
      ],
      "text/plain": [
       "   OrderID Order Date Product  Size    Price\n",
       "0        1 2017-01-01   Boots     7  25000.0\n",
       "1        2 2017-01-01   Boots     4  35000.0\n",
       "2        3 2017-01-01   Boots     6  21000.0"
      ]
     },
     "execution_count": 57,
     "metadata": {},
     "output_type": "execute_result"
    }
   ],
   "source": [
    "df_Shoes.head()"
   ]
  }
 ],
 "metadata": {
  "kernelspec": {
   "display_name": "Python 3",
   "language": "python",
   "name": "python3"
  },
  "language_info": {
   "codemirror_mode": {
    "name": "ipython",
    "version": 3
   },
   "file_extension": ".py",
   "mimetype": "text/x-python",
   "name": "python",
   "nbconvert_exporter": "python",
   "pygments_lexer": "ipython3",
   "version": "3.7.4"
  }
 },
 "nbformat": 4,
 "nbformat_minor": 2
}
