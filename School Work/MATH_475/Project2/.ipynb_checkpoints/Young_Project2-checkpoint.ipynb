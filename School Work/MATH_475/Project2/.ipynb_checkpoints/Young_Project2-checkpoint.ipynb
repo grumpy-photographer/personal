{
 "cells": [
  {
   "cell_type": "markdown",
   "metadata": {
    "ExecuteTime": {
     "end_time": "2020-10-30T17:28:13.040391Z",
     "start_time": "2020-10-30T17:28:13.016836Z"
    }
   },
   "source": [
    "# Predicting Trees"
   ]
  },
  {
   "cell_type": "markdown",
   "metadata": {
    "toc": true
   },
   "source": [
    "<h1>Table of Contents<span class=\"tocSkip\"></span></h1>\n",
    "<div class=\"toc\"><ul class=\"toc-item\"><li><span><a href=\"#Imports\" data-toc-modified-id=\"Imports-1\"><span class=\"toc-item-num\">1&nbsp;&nbsp;</span>Imports</a></span></li><li><span><a href=\"#Data\" data-toc-modified-id=\"Data-2\"><span class=\"toc-item-num\">2&nbsp;&nbsp;</span>Data</a></span></li><li><span><a href=\"#Process-Data\" data-toc-modified-id=\"Process-Data-3\"><span class=\"toc-item-num\">3&nbsp;&nbsp;</span>Process Data</a></span></li><li><span><a href=\"#Visualize-Data\" data-toc-modified-id=\"Visualize-Data-4\"><span class=\"toc-item-num\">4&nbsp;&nbsp;</span>Visualize Data</a></span></li><li><span><a href=\"#Model\" data-toc-modified-id=\"Model-5\"><span class=\"toc-item-num\">5&nbsp;&nbsp;</span>Model</a></span></li><li><span><a href=\"#Model-2\" data-toc-modified-id=\"Model-2-6\"><span class=\"toc-item-num\">6&nbsp;&nbsp;</span>Model 2</a></span></li><li><span><a href=\"#Citations\" data-toc-modified-id=\"Citations-7\"><span class=\"toc-item-num\">7&nbsp;&nbsp;</span>Citations</a></span></li></ul></div>"
   ]
  },
  {
   "cell_type": "markdown",
   "metadata": {},
   "source": [
    "***"
   ]
  },
  {
   "cell_type": "markdown",
   "metadata": {},
   "source": [
    "## Imports"
   ]
  },
  {
   "cell_type": "code",
   "execution_count": 1,
   "metadata": {
    "ExecuteTime": {
     "end_time": "2020-10-31T04:06:47.929336Z",
     "start_time": "2020-10-31T04:06:46.224532Z"
    }
   },
   "outputs": [],
   "source": [
    "import pandas as pd\n",
    "import numpy as np\n",
    "import matplotlib.pyplot as plt\n",
    "import seaborn as sns\n",
    "from sklearn.model_selection import train_test_split"
   ]
  },
  {
   "cell_type": "markdown",
   "metadata": {},
   "source": [
    "***"
   ]
  },
  {
   "cell_type": "markdown",
   "metadata": {},
   "source": [
    "## Data"
   ]
  },
  {
   "cell_type": "markdown",
   "metadata": {},
   "source": [
    "I am interested in predicting types of trees, based on certain features.  When looking for data, I stumbled upon a US Department of Agriculture research \"data catalog\".  In this catalog, there was [data](https://www.fs.usda.gov/rds/archive/Catalog/RDS-2020-0051) regarding tree surveys of the [Umatilla National Forest](https://www.fs.usda.gov/detail/umatilla/?cid=FSEPRD498952) completed in 2020.\n",
    "\n",
    "This data source contains columns as follows:\n",
    "\n",
    "| Column Name | Column Description |\n",
    "| - | - |\n",
    "| OID | internal feature number |\n",
    "| IDTRSD | join field of township, range, and section number |\n",
    "| TreeSpecie | tree species |\n",
    "| TreeDia | tree diameter at breast height (inches) |\n",
    "| TreeDist | distance to a corner in links (a link is one-hundredth of a chain and since a chain is 66 feet, then one link is 0.66 feet) |\n"
   ]
  },
  {
   "cell_type": "code",
   "execution_count": 2,
   "metadata": {
    "ExecuteTime": {
     "end_time": "2020-10-31T04:06:48.008317Z",
     "start_time": "2020-10-31T04:06:47.934319Z"
    },
    "scrolled": true
   },
   "outputs": [
    {
     "data": {
      "text/html": [
       "<div>\n",
       "<style scoped>\n",
       "    .dataframe tbody tr th:only-of-type {\n",
       "        vertical-align: middle;\n",
       "    }\n",
       "\n",
       "    .dataframe tbody tr th {\n",
       "        vertical-align: top;\n",
       "    }\n",
       "\n",
       "    .dataframe thead th {\n",
       "        text-align: right;\n",
       "    }\n",
       "</style>\n",
       "<table border=\"1\" class=\"dataframe\">\n",
       "  <thead>\n",
       "    <tr style=\"text-align: right;\">\n",
       "      <th></th>\n",
       "      <th>OID</th>\n",
       "      <th>IDTRSD</th>\n",
       "      <th>TreeSpecie</th>\n",
       "      <th>TreeDia</th>\n",
       "      <th>TreeDist</th>\n",
       "    </tr>\n",
       "  </thead>\n",
       "  <tbody>\n",
       "    <tr>\n",
       "      <th>0</th>\n",
       "      <td>0</td>\n",
       "      <td>01S3605NW</td>\n",
       "      <td>FIR</td>\n",
       "      <td>12</td>\n",
       "      <td>19</td>\n",
       "    </tr>\n",
       "    <tr>\n",
       "      <th>1</th>\n",
       "      <td>1</td>\n",
       "      <td>01S3605W</td>\n",
       "      <td>FIR</td>\n",
       "      <td>6</td>\n",
       "      <td>12</td>\n",
       "    </tr>\n",
       "    <tr>\n",
       "      <th>2</th>\n",
       "      <td>2</td>\n",
       "      <td>01S3606NW</td>\n",
       "      <td>FIR</td>\n",
       "      <td>16</td>\n",
       "      <td>41</td>\n",
       "    </tr>\n",
       "    <tr>\n",
       "      <th>3</th>\n",
       "      <td>3</td>\n",
       "      <td>01S3606W</td>\n",
       "      <td>FIR</td>\n",
       "      <td>6</td>\n",
       "      <td>7</td>\n",
       "    </tr>\n",
       "    <tr>\n",
       "      <th>4</th>\n",
       "      <td>4</td>\n",
       "      <td>01S3607N</td>\n",
       "      <td>PINE</td>\n",
       "      <td>15</td>\n",
       "      <td>186</td>\n",
       "    </tr>\n",
       "  </tbody>\n",
       "</table>\n",
       "</div>"
      ],
      "text/plain": [
       "   OID     IDTRSD TreeSpecie TreeDia TreeDist\n",
       "0    0  01S3605NW        FIR      12       19\n",
       "1    1   01S3605W        FIR       6       12\n",
       "2    2  01S3606NW        FIR      16       41\n",
       "3    3   01S3606W        FIR       6        7\n",
       "4    4   01S3607N       PINE      15      186"
      ]
     },
     "execution_count": 2,
     "metadata": {},
     "output_type": "execute_result"
    }
   ],
   "source": [
    "# Read data\n",
    "trees_df = pd.read_csv(\"./Data/corner_trees.csv\")\n",
    "trees_df.head()"
   ]
  },
  {
   "cell_type": "markdown",
   "metadata": {},
   "source": [
    "`OID` and `IDTRSD` don't provide much value, at least not for this classification project.  We will drop the columns."
   ]
  },
  {
   "cell_type": "code",
   "execution_count": 3,
   "metadata": {
    "ExecuteTime": {
     "end_time": "2020-10-31T04:06:48.040314Z",
     "start_time": "2020-10-31T04:06:48.013345Z"
    },
    "scrolled": true
   },
   "outputs": [
    {
     "data": {
      "text/html": [
       "<div>\n",
       "<style scoped>\n",
       "    .dataframe tbody tr th:only-of-type {\n",
       "        vertical-align: middle;\n",
       "    }\n",
       "\n",
       "    .dataframe tbody tr th {\n",
       "        vertical-align: top;\n",
       "    }\n",
       "\n",
       "    .dataframe thead th {\n",
       "        text-align: right;\n",
       "    }\n",
       "</style>\n",
       "<table border=\"1\" class=\"dataframe\">\n",
       "  <thead>\n",
       "    <tr style=\"text-align: right;\">\n",
       "      <th></th>\n",
       "      <th>TreeSpecie</th>\n",
       "      <th>TreeDia</th>\n",
       "      <th>TreeDist</th>\n",
       "    </tr>\n",
       "  </thead>\n",
       "  <tbody>\n",
       "    <tr>\n",
       "      <th>0</th>\n",
       "      <td>FIR</td>\n",
       "      <td>12</td>\n",
       "      <td>19</td>\n",
       "    </tr>\n",
       "    <tr>\n",
       "      <th>1</th>\n",
       "      <td>FIR</td>\n",
       "      <td>6</td>\n",
       "      <td>12</td>\n",
       "    </tr>\n",
       "    <tr>\n",
       "      <th>2</th>\n",
       "      <td>FIR</td>\n",
       "      <td>16</td>\n",
       "      <td>41</td>\n",
       "    </tr>\n",
       "    <tr>\n",
       "      <th>3</th>\n",
       "      <td>FIR</td>\n",
       "      <td>6</td>\n",
       "      <td>7</td>\n",
       "    </tr>\n",
       "    <tr>\n",
       "      <th>4</th>\n",
       "      <td>PINE</td>\n",
       "      <td>15</td>\n",
       "      <td>186</td>\n",
       "    </tr>\n",
       "  </tbody>\n",
       "</table>\n",
       "</div>"
      ],
      "text/plain": [
       "  TreeSpecie TreeDia TreeDist\n",
       "0        FIR      12       19\n",
       "1        FIR       6       12\n",
       "2        FIR      16       41\n",
       "3        FIR       6        7\n",
       "4       PINE      15      186"
      ]
     },
     "execution_count": 3,
     "metadata": {},
     "output_type": "execute_result"
    }
   ],
   "source": [
    "# Drop columns we do not need\n",
    "trees_df = trees_df.drop(columns=[\"OID\", \"IDTRSD\"], axis=1)\n",
    "trees_df.head()"
   ]
  },
  {
   "cell_type": "markdown",
   "metadata": {},
   "source": [
    "After we have dropped the columns, we will check the data to see if there are any missing values in the form of `NaN` values."
   ]
  },
  {
   "cell_type": "code",
   "execution_count": 4,
   "metadata": {
    "ExecuteTime": {
     "end_time": "2020-10-31T04:06:48.056317Z",
     "start_time": "2020-10-31T04:06:48.044318Z"
    },
    "scrolled": true
   },
   "outputs": [
    {
     "data": {
      "text/plain": [
       "0"
      ]
     },
     "execution_count": 4,
     "metadata": {},
     "output_type": "execute_result"
    }
   ],
   "source": [
    "# Check for NaN values and count all instance of NaN\n",
    "trees_df.isna().any().sum()"
   ]
  },
  {
   "cell_type": "markdown",
   "metadata": {},
   "source": [
    "There are no `NaN` values so we can move forward with processing the data.\n",
    "\n",
    "***"
   ]
  },
  {
   "cell_type": "markdown",
   "metadata": {},
   "source": [
    "## Process Data"
   ]
  },
  {
   "cell_type": "markdown",
   "metadata": {},
   "source": [
    "The first thing we have to do is change `TreeSpecie` to numerical values.  We can do this by changing the string values to numbers using `pd.get_dummies()`.  This will replace string values with `0` and `1` where `0 = False` and `1 = True`.  "
   ]
  },
  {
   "cell_type": "code",
   "execution_count": 5,
   "metadata": {
    "ExecuteTime": {
     "end_time": "2020-10-31T04:06:48.086320Z",
     "start_time": "2020-10-31T04:06:48.062338Z"
    },
    "scrolled": true
   },
   "outputs": [],
   "source": [
    "# Create dummies\n",
    "species_dummies = pd.get_dummies(trees_df[\"TreeSpecie\"])\n",
    "\n",
    "# Join old dataframe with dummies and drop `TreeSpecie` column\n",
    "new_trees_df = trees_df.join(species_dummies)\n",
    "new_trees_df = new_trees_df.drop(columns=\"TreeSpecie\", axis=1)"
   ]
  },
  {
   "cell_type": "markdown",
   "metadata": {},
   "source": [
    "When fitting the data the first time, we get a `ValueError` because there seems to be values as '`---`' in both the `TreeDia` and `TreeDist` columns.  Because '`---`' is not a `NaN` value, it was not removed earlier.  We can remove it with a few filters here."
   ]
  },
  {
   "cell_type": "code",
   "execution_count": 6,
   "metadata": {
    "ExecuteTime": {
     "end_time": "2020-10-31T04:06:48.133315Z",
     "start_time": "2020-10-31T04:06:48.091318Z"
    }
   },
   "outputs": [],
   "source": [
    "new_trees_df = new_trees_df[new_trees_df[\"TreeDia\"] != \"---\"]\n",
    "new_trees_df = new_trees_df[new_trees_df[\"TreeDist\"] != \"---\"]\n",
    "\n",
    "new_trees_df = new_trees_df[new_trees_df[\"TreeDist\"] != \"3?\"]"
   ]
  },
  {
   "cell_type": "code",
   "execution_count": 7,
   "metadata": {
    "ExecuteTime": {
     "end_time": "2020-10-31T04:06:48.195313Z",
     "start_time": "2020-10-31T04:06:48.137319Z"
    }
   },
   "outputs": [
    {
     "data": {
      "text/html": [
       "<div>\n",
       "<style scoped>\n",
       "    .dataframe tbody tr th:only-of-type {\n",
       "        vertical-align: middle;\n",
       "    }\n",
       "\n",
       "    .dataframe tbody tr th {\n",
       "        vertical-align: top;\n",
       "    }\n",
       "\n",
       "    .dataframe thead th {\n",
       "        text-align: right;\n",
       "    }\n",
       "</style>\n",
       "<table border=\"1\" class=\"dataframe\">\n",
       "  <thead>\n",
       "    <tr style=\"text-align: right;\">\n",
       "      <th></th>\n",
       "      <th>TreeDia</th>\n",
       "      <th>TreeDist</th>\n",
       "      <th>ALDER</th>\n",
       "      <th>ALPINE FIR</th>\n",
       "      <th>B--RBERY</th>\n",
       "      <th>BALM</th>\n",
       "      <th>BALSAM FIR</th>\n",
       "      <th>BIRCH</th>\n",
       "      <th>BLACK PINE</th>\n",
       "      <th>BULL PINE</th>\n",
       "      <th>...</th>\n",
       "      <th>SILVER FIR</th>\n",
       "      <th>SPRUCE</th>\n",
       "      <th>SPRUCE PINE</th>\n",
       "      <th>WESTERN LARCH</th>\n",
       "      <th>WHITE FIR</th>\n",
       "      <th>WHITE PINE</th>\n",
       "      <th>WILLOW</th>\n",
       "      <th>YELLOW FIR</th>\n",
       "      <th>YELLOW PINE</th>\n",
       "      <th>YEW</th>\n",
       "    </tr>\n",
       "  </thead>\n",
       "  <tbody>\n",
       "    <tr>\n",
       "      <th>0</th>\n",
       "      <td>12</td>\n",
       "      <td>19</td>\n",
       "      <td>0</td>\n",
       "      <td>0</td>\n",
       "      <td>0</td>\n",
       "      <td>0</td>\n",
       "      <td>0</td>\n",
       "      <td>0</td>\n",
       "      <td>0</td>\n",
       "      <td>0</td>\n",
       "      <td>...</td>\n",
       "      <td>0</td>\n",
       "      <td>0</td>\n",
       "      <td>0</td>\n",
       "      <td>0</td>\n",
       "      <td>0</td>\n",
       "      <td>0</td>\n",
       "      <td>0</td>\n",
       "      <td>0</td>\n",
       "      <td>0</td>\n",
       "      <td>0</td>\n",
       "    </tr>\n",
       "    <tr>\n",
       "      <th>1</th>\n",
       "      <td>6</td>\n",
       "      <td>12</td>\n",
       "      <td>0</td>\n",
       "      <td>0</td>\n",
       "      <td>0</td>\n",
       "      <td>0</td>\n",
       "      <td>0</td>\n",
       "      <td>0</td>\n",
       "      <td>0</td>\n",
       "      <td>0</td>\n",
       "      <td>...</td>\n",
       "      <td>0</td>\n",
       "      <td>0</td>\n",
       "      <td>0</td>\n",
       "      <td>0</td>\n",
       "      <td>0</td>\n",
       "      <td>0</td>\n",
       "      <td>0</td>\n",
       "      <td>0</td>\n",
       "      <td>0</td>\n",
       "      <td>0</td>\n",
       "    </tr>\n",
       "    <tr>\n",
       "      <th>2</th>\n",
       "      <td>16</td>\n",
       "      <td>41</td>\n",
       "      <td>0</td>\n",
       "      <td>0</td>\n",
       "      <td>0</td>\n",
       "      <td>0</td>\n",
       "      <td>0</td>\n",
       "      <td>0</td>\n",
       "      <td>0</td>\n",
       "      <td>0</td>\n",
       "      <td>...</td>\n",
       "      <td>0</td>\n",
       "      <td>0</td>\n",
       "      <td>0</td>\n",
       "      <td>0</td>\n",
       "      <td>0</td>\n",
       "      <td>0</td>\n",
       "      <td>0</td>\n",
       "      <td>0</td>\n",
       "      <td>0</td>\n",
       "      <td>0</td>\n",
       "    </tr>\n",
       "    <tr>\n",
       "      <th>3</th>\n",
       "      <td>6</td>\n",
       "      <td>7</td>\n",
       "      <td>0</td>\n",
       "      <td>0</td>\n",
       "      <td>0</td>\n",
       "      <td>0</td>\n",
       "      <td>0</td>\n",
       "      <td>0</td>\n",
       "      <td>0</td>\n",
       "      <td>0</td>\n",
       "      <td>...</td>\n",
       "      <td>0</td>\n",
       "      <td>0</td>\n",
       "      <td>0</td>\n",
       "      <td>0</td>\n",
       "      <td>0</td>\n",
       "      <td>0</td>\n",
       "      <td>0</td>\n",
       "      <td>0</td>\n",
       "      <td>0</td>\n",
       "      <td>0</td>\n",
       "    </tr>\n",
       "    <tr>\n",
       "      <th>4</th>\n",
       "      <td>15</td>\n",
       "      <td>186</td>\n",
       "      <td>0</td>\n",
       "      <td>0</td>\n",
       "      <td>0</td>\n",
       "      <td>0</td>\n",
       "      <td>0</td>\n",
       "      <td>0</td>\n",
       "      <td>0</td>\n",
       "      <td>0</td>\n",
       "      <td>...</td>\n",
       "      <td>0</td>\n",
       "      <td>0</td>\n",
       "      <td>0</td>\n",
       "      <td>0</td>\n",
       "      <td>0</td>\n",
       "      <td>0</td>\n",
       "      <td>0</td>\n",
       "      <td>0</td>\n",
       "      <td>0</td>\n",
       "      <td>0</td>\n",
       "    </tr>\n",
       "    <tr>\n",
       "      <th>...</th>\n",
       "      <td>...</td>\n",
       "      <td>...</td>\n",
       "      <td>...</td>\n",
       "      <td>...</td>\n",
       "      <td>...</td>\n",
       "      <td>...</td>\n",
       "      <td>...</td>\n",
       "      <td>...</td>\n",
       "      <td>...</td>\n",
       "      <td>...</td>\n",
       "      <td>...</td>\n",
       "      <td>...</td>\n",
       "      <td>...</td>\n",
       "      <td>...</td>\n",
       "      <td>...</td>\n",
       "      <td>...</td>\n",
       "      <td>...</td>\n",
       "      <td>...</td>\n",
       "      <td>...</td>\n",
       "      <td>...</td>\n",
       "      <td>...</td>\n",
       "    </tr>\n",
       "    <tr>\n",
       "      <th>20170</th>\n",
       "      <td>7</td>\n",
       "      <td>27</td>\n",
       "      <td>0</td>\n",
       "      <td>0</td>\n",
       "      <td>0</td>\n",
       "      <td>0</td>\n",
       "      <td>0</td>\n",
       "      <td>0</td>\n",
       "      <td>0</td>\n",
       "      <td>0</td>\n",
       "      <td>...</td>\n",
       "      <td>0</td>\n",
       "      <td>0</td>\n",
       "      <td>0</td>\n",
       "      <td>0</td>\n",
       "      <td>0</td>\n",
       "      <td>0</td>\n",
       "      <td>0</td>\n",
       "      <td>0</td>\n",
       "      <td>0</td>\n",
       "      <td>0</td>\n",
       "    </tr>\n",
       "    <tr>\n",
       "      <th>20171</th>\n",
       "      <td>8</td>\n",
       "      <td>410</td>\n",
       "      <td>0</td>\n",
       "      <td>0</td>\n",
       "      <td>0</td>\n",
       "      <td>0</td>\n",
       "      <td>0</td>\n",
       "      <td>0</td>\n",
       "      <td>0</td>\n",
       "      <td>0</td>\n",
       "      <td>...</td>\n",
       "      <td>0</td>\n",
       "      <td>0</td>\n",
       "      <td>0</td>\n",
       "      <td>0</td>\n",
       "      <td>0</td>\n",
       "      <td>0</td>\n",
       "      <td>0</td>\n",
       "      <td>0</td>\n",
       "      <td>0</td>\n",
       "      <td>0</td>\n",
       "    </tr>\n",
       "    <tr>\n",
       "      <th>20172</th>\n",
       "      <td>8</td>\n",
       "      <td>26</td>\n",
       "      <td>0</td>\n",
       "      <td>0</td>\n",
       "      <td>0</td>\n",
       "      <td>0</td>\n",
       "      <td>0</td>\n",
       "      <td>0</td>\n",
       "      <td>0</td>\n",
       "      <td>0</td>\n",
       "      <td>...</td>\n",
       "      <td>0</td>\n",
       "      <td>0</td>\n",
       "      <td>0</td>\n",
       "      <td>0</td>\n",
       "      <td>0</td>\n",
       "      <td>0</td>\n",
       "      <td>0</td>\n",
       "      <td>0</td>\n",
       "      <td>0</td>\n",
       "      <td>0</td>\n",
       "    </tr>\n",
       "    <tr>\n",
       "      <th>20173</th>\n",
       "      <td>10</td>\n",
       "      <td>25</td>\n",
       "      <td>0</td>\n",
       "      <td>0</td>\n",
       "      <td>0</td>\n",
       "      <td>0</td>\n",
       "      <td>0</td>\n",
       "      <td>0</td>\n",
       "      <td>0</td>\n",
       "      <td>0</td>\n",
       "      <td>...</td>\n",
       "      <td>0</td>\n",
       "      <td>0</td>\n",
       "      <td>0</td>\n",
       "      <td>0</td>\n",
       "      <td>0</td>\n",
       "      <td>0</td>\n",
       "      <td>0</td>\n",
       "      <td>0</td>\n",
       "      <td>0</td>\n",
       "      <td>0</td>\n",
       "    </tr>\n",
       "    <tr>\n",
       "      <th>20174</th>\n",
       "      <td>30</td>\n",
       "      <td>38</td>\n",
       "      <td>0</td>\n",
       "      <td>0</td>\n",
       "      <td>0</td>\n",
       "      <td>0</td>\n",
       "      <td>0</td>\n",
       "      <td>0</td>\n",
       "      <td>0</td>\n",
       "      <td>0</td>\n",
       "      <td>...</td>\n",
       "      <td>0</td>\n",
       "      <td>0</td>\n",
       "      <td>0</td>\n",
       "      <td>0</td>\n",
       "      <td>0</td>\n",
       "      <td>0</td>\n",
       "      <td>0</td>\n",
       "      <td>0</td>\n",
       "      <td>0</td>\n",
       "      <td>0</td>\n",
       "    </tr>\n",
       "  </tbody>\n",
       "</table>\n",
       "<p>20152 rows × 41 columns</p>\n",
       "</div>"
      ],
      "text/plain": [
       "      TreeDia TreeDist  ALDER  ALPINE FIR  B--RBERY  BALM  BALSAM FIR  BIRCH  \\\n",
       "0          12       19      0           0         0     0           0      0   \n",
       "1           6       12      0           0         0     0           0      0   \n",
       "2          16       41      0           0         0     0           0      0   \n",
       "3           6        7      0           0         0     0           0      0   \n",
       "4          15      186      0           0         0     0           0      0   \n",
       "...       ...      ...    ...         ...       ...   ...         ...    ...   \n",
       "20170       7       27      0           0         0     0           0      0   \n",
       "20171       8      410      0           0         0     0           0      0   \n",
       "20172       8       26      0           0         0     0           0      0   \n",
       "20173      10       25      0           0         0     0           0      0   \n",
       "20174      30       38      0           0         0     0           0      0   \n",
       "\n",
       "       BLACK PINE  BULL PINE  ...  SILVER FIR  SPRUCE  SPRUCE PINE  \\\n",
       "0               0          0  ...           0       0            0   \n",
       "1               0          0  ...           0       0            0   \n",
       "2               0          0  ...           0       0            0   \n",
       "3               0          0  ...           0       0            0   \n",
       "4               0          0  ...           0       0            0   \n",
       "...           ...        ...  ...         ...     ...          ...   \n",
       "20170           0          0  ...           0       0            0   \n",
       "20171           0          0  ...           0       0            0   \n",
       "20172           0          0  ...           0       0            0   \n",
       "20173           0          0  ...           0       0            0   \n",
       "20174           0          0  ...           0       0            0   \n",
       "\n",
       "       WESTERN LARCH  WHITE FIR  WHITE PINE  WILLOW  YELLOW FIR  YELLOW PINE  \\\n",
       "0                  0          0           0       0           0            0   \n",
       "1                  0          0           0       0           0            0   \n",
       "2                  0          0           0       0           0            0   \n",
       "3                  0          0           0       0           0            0   \n",
       "4                  0          0           0       0           0            0   \n",
       "...              ...        ...         ...     ...         ...          ...   \n",
       "20170              0          0           0       0           0            0   \n",
       "20171              0          0           0       0           0            0   \n",
       "20172              0          0           0       0           0            0   \n",
       "20173              0          0           0       0           0            0   \n",
       "20174              0          0           0       0           0            0   \n",
       "\n",
       "       YEW  \n",
       "0        0  \n",
       "1        0  \n",
       "2        0  \n",
       "3        0  \n",
       "4        0  \n",
       "...    ...  \n",
       "20170    0  \n",
       "20171    0  \n",
       "20172    0  \n",
       "20173    0  \n",
       "20174    0  \n",
       "\n",
       "[20152 rows x 41 columns]"
      ]
     },
     "execution_count": 7,
     "metadata": {},
     "output_type": "execute_result"
    }
   ],
   "source": [
    "new_trees_df"
   ]
  },
  {
   "cell_type": "markdown",
   "metadata": {},
   "source": [
    "***"
   ]
  },
  {
   "cell_type": "markdown",
   "metadata": {
    "ExecuteTime": {
     "end_time": "2020-10-31T04:06:04.361588Z",
     "start_time": "2020-10-31T04:06:04.351319Z"
    }
   },
   "source": [
    "## Visualize Data"
   ]
  },
  {
   "cell_type": "code",
   "execution_count": 25,
   "metadata": {
    "ExecuteTime": {
     "end_time": "2020-10-31T05:15:58.080650Z",
     "start_time": "2020-10-31T05:15:48.802292Z"
    },
    "scrolled": true
   },
   "outputs": [
    {
     "data": {
      "text/plain": [
       "<seaborn.axisgrid.PairGrid at 0x1a5673db448>"
      ]
     },
     "execution_count": 25,
     "metadata": {},
     "output_type": "execute_result"
    },
    {
     "data": {
      "image/png": "[encoded data removed]",
      "text/plain": [
       "<Figure size 360x360 with 6 Axes>"
      ]
     },
     "metadata": {
      "needs_background": "light"
     },
     "output_type": "display_data"
    }
   ],
   "source": [
    "sns.pairplot(new_trees_df, vars = [\"TreeDia\", \"TreeDist\"])"
   ]
  },
  {
   "cell_type": "markdown",
   "metadata": {},
   "source": [
    "***"
   ]
  },
  {
   "cell_type": "markdown",
   "metadata": {},
   "source": [
    "## Model\n",
    "\n",
    "so far utilizing code from book.  more exploration needs to be done"
   ]
  },
  {
   "cell_type": "code",
   "execution_count": 9,
   "metadata": {
    "ExecuteTime": {
     "end_time": "2020-10-31T04:28:17.153031Z",
     "start_time": "2020-10-31T04:28:17.015029Z"
    }
   },
   "outputs": [],
   "source": [
    "from sklearn.preprocessing import StandardScaler\n",
    "from sklearn.linear_model import Perceptron"
   ]
  },
  {
   "cell_type": "code",
   "execution_count": 10,
   "metadata": {
    "ExecuteTime": {
     "end_time": "2020-10-31T04:28:17.169029Z",
     "start_time": "2020-10-31T04:28:17.160030Z"
    }
   },
   "outputs": [],
   "source": [
    "value_cols = [\"TreeDia\", \"TreeDist\"]"
   ]
  },
  {
   "cell_type": "code",
   "execution_count": 11,
   "metadata": {
    "ExecuteTime": {
     "end_time": "2020-10-31T04:28:17.232030Z",
     "start_time": "2020-10-31T04:28:17.174034Z"
    },
    "scrolled": true
   },
   "outputs": [],
   "source": [
    "X = new_trees_df[value_cols]\n",
    "y = new_trees_df[\"FIR\"]"
   ]
  },
  {
   "cell_type": "code",
   "execution_count": 12,
   "metadata": {
    "ExecuteTime": {
     "end_time": "2020-10-31T04:28:17.311030Z",
     "start_time": "2020-10-31T04:28:17.238030Z"
    }
   },
   "outputs": [],
   "source": [
    "X_train, X_test, y_train, y_test = train_test_split(\n",
    "    X, y, train_size=0.7, random_state=1, stratify=y\n",
    ")"
   ]
  },
  {
   "cell_type": "code",
   "execution_count": 13,
   "metadata": {
    "ExecuteTime": {
     "end_time": "2020-10-31T04:28:17.362608Z",
     "start_time": "2020-10-31T04:28:17.320032Z"
    }
   },
   "outputs": [],
   "source": [
    "sc = StandardScaler()\n",
    "sc.fit(X_train)\n",
    "X_train_std = sc.transform(X_train)\n",
    "X_test_std = sc.transform(X_test)"
   ]
  },
  {
   "cell_type": "code",
   "execution_count": 14,
   "metadata": {
    "ExecuteTime": {
     "end_time": "2020-10-31T04:28:17.535643Z",
     "start_time": "2020-10-31T04:28:17.366610Z"
    }
   },
   "outputs": [
    {
     "data": {
      "text/plain": [
       "Perceptron(alpha=0.0001, class_weight=None, early_stopping=False, eta0=0.1,\n",
       "           fit_intercept=True, max_iter=1000, n_iter_no_change=5, n_jobs=None,\n",
       "           penalty=None, random_state=1, shuffle=True, tol=0.001,\n",
       "           validation_fraction=0.1, verbose=0, warm_start=False)"
      ]
     },
     "execution_count": 14,
     "metadata": {},
     "output_type": "execute_result"
    }
   ],
   "source": [
    "ppn = Perceptron(eta0=0.1, random_state=1)\n",
    "ppn.fit(X_train_std, y_train)"
   ]
  },
  {
   "cell_type": "code",
   "execution_count": 15,
   "metadata": {
    "ExecuteTime": {
     "end_time": "2020-10-31T04:28:17.737607Z",
     "start_time": "2020-10-31T04:28:17.538615Z"
    }
   },
   "outputs": [],
   "source": [
    "y_pred = ppn.predict(X_train_std)\n",
    "ppn_residuals = y_train - y_pred"
   ]
  },
  {
   "cell_type": "code",
   "execution_count": 16,
   "metadata": {
    "ExecuteTime": {
     "end_time": "2020-10-31T04:28:18.762939Z",
     "start_time": "2020-10-31T04:28:17.741609Z"
    },
    "scrolled": false
   },
   "outputs": [
    {
     "data": {
      "text/plain": [
       "<matplotlib.lines.Line2D at 0x1a53e0ff7c8>"
      ]
     },
     "execution_count": 16,
     "metadata": {},
     "output_type": "execute_result"
    },
    {
     "data": {
      "image/png": "[encoded data removed]",
      "text/plain": [
       "<Figure size 432x288 with 1 Axes>"
      ]
     },
     "metadata": {
      "needs_background": "light"
     },
     "output_type": "display_data"
    }
   ],
   "source": [
    "plt.scatter(y_train, ppn_residuals)\n",
    "plt.xlabel(\"train data\")\n",
    "plt.ylabel(\"residuals\")\n",
    "plt.axhline(y=0, c=\"red\")"
   ]
  },
  {
   "cell_type": "code",
   "execution_count": 17,
   "metadata": {
    "ExecuteTime": {
     "end_time": "2020-10-31T04:28:18.794942Z",
     "start_time": "2020-10-31T04:28:18.768943Z"
    },
    "scrolled": true
   },
   "outputs": [
    {
     "name": "stdout",
     "output_type": "stream",
     "text": [
      "Misclassified examples: 2635\n"
     ]
    }
   ],
   "source": [
    "y_pred = ppn.predict(X_test_std)\n",
    "print(\"Misclassified examples: %d\" % (y_test != y_pred).sum())"
   ]
  },
  {
   "cell_type": "markdown",
   "metadata": {},
   "source": [
    "^ from book"
   ]
  },
  {
   "cell_type": "markdown",
   "metadata": {},
   "source": [
    "***"
   ]
  },
  {
   "cell_type": "markdown",
   "metadata": {},
   "source": [
    "## Model 2\n",
    "\n",
    "so far utilizing code from book.  more exploration needs to be done"
   ]
  },
  {
   "cell_type": "code",
   "execution_count": 18,
   "metadata": {
    "ExecuteTime": {
     "end_time": "2020-10-31T04:28:19.078938Z",
     "start_time": "2020-10-31T04:28:18.801944Z"
    }
   },
   "outputs": [],
   "source": [
    "from sklearn.preprocessing import LabelEncoder\n",
    "from sklearn.ensemble import BaggingClassifier\n",
    "from sklearn.tree import DecisionTreeClassifier"
   ]
  },
  {
   "cell_type": "code",
   "execution_count": 19,
   "metadata": {
    "ExecuteTime": {
     "end_time": "2020-10-31T04:28:19.094944Z",
     "start_time": "2020-10-31T04:28:19.085977Z"
    }
   },
   "outputs": [],
   "source": [
    "tree = DecisionTreeClassifier(criterion=\"entropy\", random_state=1, max_depth=None)"
   ]
  },
  {
   "cell_type": "code",
   "execution_count": 20,
   "metadata": {
    "ExecuteTime": {
     "end_time": "2020-10-31T04:28:19.126944Z",
     "start_time": "2020-10-31T04:28:19.104963Z"
    }
   },
   "outputs": [],
   "source": [
    "bag = BaggingClassifier(\n",
    "    base_estimator=tree,\n",
    "    n_estimators=500,\n",
    "    max_samples=1.0,\n",
    "    max_features=1.0,\n",
    "    bootstrap=True,\n",
    "    n_jobs=1,\n",
    "    random_state=1,\n",
    ")"
   ]
  },
  {
   "cell_type": "code",
   "execution_count": 21,
   "metadata": {
    "ExecuteTime": {
     "end_time": "2020-10-31T04:28:19.284951Z",
     "start_time": "2020-10-31T04:28:19.133941Z"
    }
   },
   "outputs": [
    {
     "name": "stdout",
     "output_type": "stream",
     "text": [
      "train score: 0.7234510137530129 \n",
      "test score: 0.5922924247436322\n"
     ]
    }
   ],
   "source": [
    "tree = tree.fit(X_train, y_train)\n",
    "y_train_pred = tree.predict(X_train)\n",
    "y_test_pred = tree.predict(X_test)\n",
    "\n",
    "tree_train_score = tree.score(X_train, y_train)\n",
    "tree_test_score = tree.score(X_test, y_test)\n",
    "\n",
    "print(\"train score:\", tree_train_score, \"\\ntest score:\", tree_test_score)"
   ]
  },
  {
   "cell_type": "code",
   "execution_count": 22,
   "metadata": {
    "ExecuteTime": {
     "end_time": "2020-10-31T04:28:49.686307Z",
     "start_time": "2020-10-31T04:28:19.289940Z"
    }
   },
   "outputs": [
    {
     "name": "stdout",
     "output_type": "stream",
     "text": [
      "train score: 0.7234510137530129 \n",
      "test score: 0.5836916969897453\n"
     ]
    }
   ],
   "source": [
    "bag = bag.fit(X_train, y_train)\n",
    "y_train_pred = bag.predict(X_train)\n",
    "y_test_pred = bag.predict(X_test)\n",
    "\n",
    "bag_train_score = bag.score(X_train, y_train)\n",
    "bag_test_score = bag.score(X_test, y_test)\n",
    "\n",
    "print(\"train score:\", bag_train_score, \"\\ntest score:\", bag_test_score)"
   ]
  },
  {
   "cell_type": "markdown",
   "metadata": {},
   "source": [
    "***"
   ]
  },
  {
   "cell_type": "markdown",
   "metadata": {},
   "source": [
    "## Citations"
   ]
  },
  {
   "cell_type": "markdown",
   "metadata": {},
   "source": [
    "Powell, David C.; Hanberry, Brice B. 2020. Historical tree surveys of the Umatilla National Forest. Fort Collins, CO: Forest Service Research Data Archive. https://doi.org/10.2737/RDS-2020-0051\n",
    "\n",
    "Raschka, S. and Mirjalili, V., 2019. Python Machine Learning. 3rd ed. Birmingham, UK: Packt.\n"
   ]
  }
 ],
 "metadata": {
  "kernelspec": {
   "display_name": "Python 3",
   "language": "python",
   "name": "python3"
  },
  "language_info": {
   "codemirror_mode": {
    "name": "ipython",
    "version": 3
   },
   "file_extension": ".py",
   "mimetype": "text/x-python",
   "name": "python",
   "nbconvert_exporter": "python",
   "pygments_lexer": "ipython3",
   "version": "3.7.9"
  },
  "toc": {
   "base_numbering": 1,
   "nav_menu": {},
   "number_sections": true,
   "sideBar": false,
   "skip_h1_title": true,
   "title_cell": "Table of Contents",
   "title_sidebar": "Contents",
   "toc_cell": true,
   "toc_position": {},
   "toc_section_display": true,
   "toc_window_display": false
  }
 },
 "nbformat": 4,
 "nbformat_minor": 4
}
