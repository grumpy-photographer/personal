{
 "cells": [
  {
   "cell_type": "markdown",
   "metadata": {},
   "source": [
    "\n",
    "# 4.4 Left Join Template\n",
    "\n",
    "1. [Identify the *Left* Table](#1.-Identify-the-Left-Table)    \n",
    "2. [Identify the *Right* Table](#2.-Identify-the-Right-Table)   \n",
    "3. [Identify the *Merge* Field/Column](#3.-Identify-the-Merge-Field)   \n",
    "4. [Merge the Two Dataframes](#4.-Merge-the-Two-Dataframes)  \n",
    "5. [Verify that the Merge is Correct](#5.-Verify-that-the-Merge-is-Correct)  \n",
    "6. [Save the Merged Dataframe as a Pickle File](#6.-Save-the-Merged-Dataframe-as-a-Pickle-File)"
   ]
  },
  {
   "cell_type": "code",
   "execution_count": 22,
   "metadata": {},
   "outputs": [],
   "source": [
    "import pandas as pd\n",
    "import pickle"
   ]
  },
  {
   "cell_type": "markdown",
   "metadata": {},
   "source": [
    "# 1. Identify the Left Table  \n",
    "\n",
    "### Questions to answer:  \n",
    "1. What is the Left Table? Orders\n",
    "1. Why is this the Left table/data set?  We are merging Orders with Employees.\n",
    "\n",
    "2. Number of Rows:  196  \n",
    "3. Number of Columns:  5"
   ]
  },
  {
   "cell_type": "code",
   "execution_count": 23,
   "metadata": {},
   "outputs": [],
   "source": [
    "file = 'Data/w3schools_Data.xlsx'"
   ]
  },
  {
   "cell_type": "code",
   "execution_count": 24,
   "metadata": {},
   "outputs": [],
   "source": [
    "# Read the Left Table data into a dataframe named: df_Left\n",
    "df_Left = pd.read_excel(file, 'Orders')"
   ]
  },
  {
   "cell_type": "code",
   "execution_count": 25,
   "metadata": {},
   "outputs": [
    {
     "data": {
      "text/html": [
       "<div>\n",
       "<style scoped>\n",
       "    .dataframe tbody tr th:only-of-type {\n",
       "        vertical-align: middle;\n",
       "    }\n",
       "\n",
       "    .dataframe tbody tr th {\n",
       "        vertical-align: top;\n",
       "    }\n",
       "\n",
       "    .dataframe thead th {\n",
       "        text-align: right;\n",
       "    }\n",
       "</style>\n",
       "<table border=\"1\" class=\"dataframe\">\n",
       "  <thead>\n",
       "    <tr style=\"text-align: right;\">\n",
       "      <th></th>\n",
       "      <th>OrderID</th>\n",
       "      <th>CustomerID</th>\n",
       "      <th>EmployeeID</th>\n",
       "      <th>OrderDate</th>\n",
       "      <th>ShipperID</th>\n",
       "    </tr>\n",
       "  </thead>\n",
       "  <tbody>\n",
       "    <tr>\n",
       "      <th>0</th>\n",
       "      <td>10248</td>\n",
       "      <td>90</td>\n",
       "      <td>5</td>\n",
       "      <td>35250</td>\n",
       "      <td>3</td>\n",
       "    </tr>\n",
       "    <tr>\n",
       "      <th>1</th>\n",
       "      <td>10249</td>\n",
       "      <td>81</td>\n",
       "      <td>6</td>\n",
       "      <td>35251</td>\n",
       "      <td>1</td>\n",
       "    </tr>\n",
       "    <tr>\n",
       "      <th>2</th>\n",
       "      <td>10250</td>\n",
       "      <td>34</td>\n",
       "      <td>4</td>\n",
       "      <td>35254</td>\n",
       "      <td>2</td>\n",
       "    </tr>\n",
       "    <tr>\n",
       "      <th>3</th>\n",
       "      <td>10251</td>\n",
       "      <td>84</td>\n",
       "      <td>3</td>\n",
       "      <td>35254</td>\n",
       "      <td>1</td>\n",
       "    </tr>\n",
       "    <tr>\n",
       "      <th>4</th>\n",
       "      <td>10252</td>\n",
       "      <td>76</td>\n",
       "      <td>4</td>\n",
       "      <td>35255</td>\n",
       "      <td>2</td>\n",
       "    </tr>\n",
       "  </tbody>\n",
       "</table>\n",
       "</div>"
      ],
      "text/plain": [
       "   OrderID  CustomerID  EmployeeID  OrderDate  ShipperID\n",
       "0    10248          90           5      35250          3\n",
       "1    10249          81           6      35251          1\n",
       "2    10250          34           4      35254          2\n",
       "3    10251          84           3      35254          1\n",
       "4    10252          76           4      35255          2"
      ]
     },
     "execution_count": 25,
     "metadata": {},
     "output_type": "execute_result"
    }
   ],
   "source": [
    "# Display the first rows in the dataframe\n",
    "df_Left.head()"
   ]
  },
  {
   "cell_type": "code",
   "execution_count": 26,
   "metadata": {},
   "outputs": [
    {
     "name": "stdout",
     "output_type": "stream",
     "text": [
      "Number of Rows in the Left dataframe:   196\n",
      "Number of Columns in Left dataframe:   5\n"
     ]
    }
   ],
   "source": [
    "print(\"Number of Rows in the Left dataframe:  \", df_Left.shape[0])\n",
    "print(\"Number of Columns in Left dataframe:  \", df_Left.shape[1])"
   ]
  },
  {
   "cell_type": "markdown",
   "metadata": {},
   "source": [
    "# 2. Identify the Right Table  \n",
    "\n",
    "### Questions to answer:  \n",
    "1. What is the Right Table? The right table is the Employees. \n",
    "1. Why is this the Right table/data set?  This is the right table because we are adding information from the orders sheet to this sheet.\n",
    "2. What columns does it contain that we want to add to the columns in the Left table/dataframe?  LastName, FirstName, BirthDate, Photo, Notes\n",
    "2. Number of Rows:  10   \n",
    "3. Number of Columns:  6"
   ]
  },
  {
   "cell_type": "code",
   "execution_count": 27,
   "metadata": {},
   "outputs": [],
   "source": [
    "# Read the Right Table data into a dataframe named: df_Right\n",
    "df_Right = pd.read_excel(file, 'Employees')"
   ]
  },
  {
   "cell_type": "code",
   "execution_count": 28,
   "metadata": {},
   "outputs": [
    {
     "data": {
      "text/html": [
       "<div>\n",
       "<style scoped>\n",
       "    .dataframe tbody tr th:only-of-type {\n",
       "        vertical-align: middle;\n",
       "    }\n",
       "\n",
       "    .dataframe tbody tr th {\n",
       "        vertical-align: top;\n",
       "    }\n",
       "\n",
       "    .dataframe thead th {\n",
       "        text-align: right;\n",
       "    }\n",
       "</style>\n",
       "<table border=\"1\" class=\"dataframe\">\n",
       "  <thead>\n",
       "    <tr style=\"text-align: right;\">\n",
       "      <th></th>\n",
       "      <th>EmployeeID</th>\n",
       "      <th>LastName</th>\n",
       "      <th>FirstName</th>\n",
       "      <th>BirthDate</th>\n",
       "      <th>Photo</th>\n",
       "      <th>Notes</th>\n",
       "    </tr>\n",
       "  </thead>\n",
       "  <tbody>\n",
       "    <tr>\n",
       "      <th>0</th>\n",
       "      <td>1</td>\n",
       "      <td>Davolio</td>\n",
       "      <td>Nancy</td>\n",
       "      <td>25180</td>\n",
       "      <td>EmpID1.pic</td>\n",
       "      <td>Education includes a BA in psychology from Col...</td>\n",
       "    </tr>\n",
       "    <tr>\n",
       "      <th>1</th>\n",
       "      <td>2</td>\n",
       "      <td>Fuller</td>\n",
       "      <td>Andrew</td>\n",
       "      <td>19043</td>\n",
       "      <td>EmpID2.pic</td>\n",
       "      <td>Andrew received his BTS commercial and a Ph.D....</td>\n",
       "    </tr>\n",
       "    <tr>\n",
       "      <th>2</th>\n",
       "      <td>3</td>\n",
       "      <td>Leverling</td>\n",
       "      <td>Janet</td>\n",
       "      <td>23253</td>\n",
       "      <td>EmpID3.pic</td>\n",
       "      <td>Janet has a BS degree in chemistry from Boston...</td>\n",
       "    </tr>\n",
       "    <tr>\n",
       "      <th>3</th>\n",
       "      <td>4</td>\n",
       "      <td>Peacock</td>\n",
       "      <td>Margaret</td>\n",
       "      <td>21447</td>\n",
       "      <td>EmpID4.pic</td>\n",
       "      <td>Margaret holds a BA in English literature from...</td>\n",
       "    </tr>\n",
       "    <tr>\n",
       "      <th>4</th>\n",
       "      <td>5</td>\n",
       "      <td>Buchanan</td>\n",
       "      <td>Steven</td>\n",
       "      <td>20152</td>\n",
       "      <td>EmpID5.pic</td>\n",
       "      <td>Steven Buchanan graduated from St. Andrews Uni...</td>\n",
       "    </tr>\n",
       "  </tbody>\n",
       "</table>\n",
       "</div>"
      ],
      "text/plain": [
       "   EmployeeID   LastName FirstName  BirthDate       Photo  \\\n",
       "0           1    Davolio     Nancy      25180  EmpID1.pic   \n",
       "1           2     Fuller    Andrew      19043  EmpID2.pic   \n",
       "2           3  Leverling     Janet      23253  EmpID3.pic   \n",
       "3           4    Peacock  Margaret      21447  EmpID4.pic   \n",
       "4           5   Buchanan    Steven      20152  EmpID5.pic   \n",
       "\n",
       "                                               Notes  \n",
       "0  Education includes a BA in psychology from Col...  \n",
       "1  Andrew received his BTS commercial and a Ph.D....  \n",
       "2  Janet has a BS degree in chemistry from Boston...  \n",
       "3  Margaret holds a BA in English literature from...  \n",
       "4  Steven Buchanan graduated from St. Andrews Uni...  "
      ]
     },
     "execution_count": 28,
     "metadata": {},
     "output_type": "execute_result"
    }
   ],
   "source": [
    "# Display the first rows in the dataframe\n",
    "df_Right.head()"
   ]
  },
  {
   "cell_type": "code",
   "execution_count": 29,
   "metadata": {},
   "outputs": [
    {
     "name": "stdout",
     "output_type": "stream",
     "text": [
      "Number of Rows in the Right dataframe:   10\n",
      "Number of Columns in Right dataframe:   6\n"
     ]
    }
   ],
   "source": [
    "print(\"Number of Rows in the Right dataframe:  \", df_Right.shape[0])\n",
    "print(\"Number of Columns in Right dataframe:  \", df_Right.shape[1])"
   ]
  },
  {
   "cell_type": "markdown",
   "metadata": {},
   "source": [
    "# 3. Identify the Merge Field  \n",
    "\n",
    "Questions to answer:  \n",
    "1. What is the Merge Column?  EmployeeID\n",
    "2. Is this Merge Column in both dataframes? Yes, both dataframes have EmployeeID as a similar column.  \n",
    "3. Why is this the correct Merge Column? This is the correct merge column because it is similar in each dataframe."
   ]
  },
  {
   "cell_type": "markdown",
   "metadata": {},
   "source": [
    "# 4. Merge the Two Dataframes "
   ]
  },
  {
   "cell_type": "code",
   "execution_count": 30,
   "metadata": {},
   "outputs": [],
   "source": [
    "# Create a new Dataframe from a Left Join of two existing dataframes\n",
    "df_left_join = pd.merge(df_Left, df_Right, on='EmployeeID', how='left')"
   ]
  },
  {
   "cell_type": "code",
   "execution_count": 31,
   "metadata": {},
   "outputs": [
    {
     "data": {
      "text/html": [
       "<div>\n",
       "<style scoped>\n",
       "    .dataframe tbody tr th:only-of-type {\n",
       "        vertical-align: middle;\n",
       "    }\n",
       "\n",
       "    .dataframe tbody tr th {\n",
       "        vertical-align: top;\n",
       "    }\n",
       "\n",
       "    .dataframe thead th {\n",
       "        text-align: right;\n",
       "    }\n",
       "</style>\n",
       "<table border=\"1\" class=\"dataframe\">\n",
       "  <thead>\n",
       "    <tr style=\"text-align: right;\">\n",
       "      <th></th>\n",
       "      <th>OrderID</th>\n",
       "      <th>CustomerID</th>\n",
       "      <th>EmployeeID</th>\n",
       "      <th>OrderDate</th>\n",
       "      <th>ShipperID</th>\n",
       "      <th>LastName</th>\n",
       "      <th>FirstName</th>\n",
       "      <th>BirthDate</th>\n",
       "      <th>Photo</th>\n",
       "      <th>Notes</th>\n",
       "    </tr>\n",
       "  </thead>\n",
       "  <tbody>\n",
       "    <tr>\n",
       "      <th>0</th>\n",
       "      <td>10248</td>\n",
       "      <td>90</td>\n",
       "      <td>5</td>\n",
       "      <td>35250</td>\n",
       "      <td>3</td>\n",
       "      <td>Buchanan</td>\n",
       "      <td>Steven</td>\n",
       "      <td>20152</td>\n",
       "      <td>EmpID5.pic</td>\n",
       "      <td>Steven Buchanan graduated from St. Andrews Uni...</td>\n",
       "    </tr>\n",
       "    <tr>\n",
       "      <th>1</th>\n",
       "      <td>10249</td>\n",
       "      <td>81</td>\n",
       "      <td>6</td>\n",
       "      <td>35251</td>\n",
       "      <td>1</td>\n",
       "      <td>Suyama</td>\n",
       "      <td>Michael</td>\n",
       "      <td>23194</td>\n",
       "      <td>EmpID6.pic</td>\n",
       "      <td>Michael is a graduate of Sussex University (MA...</td>\n",
       "    </tr>\n",
       "    <tr>\n",
       "      <th>2</th>\n",
       "      <td>10250</td>\n",
       "      <td>34</td>\n",
       "      <td>4</td>\n",
       "      <td>35254</td>\n",
       "      <td>2</td>\n",
       "      <td>Peacock</td>\n",
       "      <td>Margaret</td>\n",
       "      <td>21447</td>\n",
       "      <td>EmpID4.pic</td>\n",
       "      <td>Margaret holds a BA in English literature from...</td>\n",
       "    </tr>\n",
       "    <tr>\n",
       "      <th>3</th>\n",
       "      <td>10251</td>\n",
       "      <td>84</td>\n",
       "      <td>3</td>\n",
       "      <td>35254</td>\n",
       "      <td>1</td>\n",
       "      <td>Leverling</td>\n",
       "      <td>Janet</td>\n",
       "      <td>23253</td>\n",
       "      <td>EmpID3.pic</td>\n",
       "      <td>Janet has a BS degree in chemistry from Boston...</td>\n",
       "    </tr>\n",
       "    <tr>\n",
       "      <th>4</th>\n",
       "      <td>10252</td>\n",
       "      <td>76</td>\n",
       "      <td>4</td>\n",
       "      <td>35255</td>\n",
       "      <td>2</td>\n",
       "      <td>Peacock</td>\n",
       "      <td>Margaret</td>\n",
       "      <td>21447</td>\n",
       "      <td>EmpID4.pic</td>\n",
       "      <td>Margaret holds a BA in English literature from...</td>\n",
       "    </tr>\n",
       "  </tbody>\n",
       "</table>\n",
       "</div>"
      ],
      "text/plain": [
       "   OrderID  CustomerID  EmployeeID  OrderDate  ShipperID   LastName FirstName  \\\n",
       "0    10248          90           5      35250          3   Buchanan    Steven   \n",
       "1    10249          81           6      35251          1     Suyama   Michael   \n",
       "2    10250          34           4      35254          2    Peacock  Margaret   \n",
       "3    10251          84           3      35254          1  Leverling     Janet   \n",
       "4    10252          76           4      35255          2    Peacock  Margaret   \n",
       "\n",
       "   BirthDate       Photo                                              Notes  \n",
       "0      20152  EmpID5.pic  Steven Buchanan graduated from St. Andrews Uni...  \n",
       "1      23194  EmpID6.pic  Michael is a graduate of Sussex University (MA...  \n",
       "2      21447  EmpID4.pic  Margaret holds a BA in English literature from...  \n",
       "3      23253  EmpID3.pic  Janet has a BS degree in chemistry from Boston...  \n",
       "4      21447  EmpID4.pic  Margaret holds a BA in English literature from...  "
      ]
     },
     "execution_count": 31,
     "metadata": {},
     "output_type": "execute_result"
    }
   ],
   "source": [
    "# Display the first rows in the merged dataframe\n",
    "df_left_join.head()"
   ]
  },
  {
   "cell_type": "markdown",
   "metadata": {},
   "source": [
    "# 5. Verify that the Merge is Correct  \n",
    "\n",
    "1. Display the first several rows of the merged dataframe.\n",
    "2. Display the number of rows and columns in the merged dataframe  \n",
    "\n",
    "\n",
    "### Questions to answer:  \n",
    "1. Number of Rows:  196\n",
    "  1. How many should there be? 196  \n",
    "2. Number of Columns:   10\n",
    "  1. How many should there be?  The number in the Left Table + number in Right Table - 1 (Merge Column is not duplicated) 10\n",
    "3. Are all the original rows and columns from the Left Table still here?  Yes, all the original columns are still here.\n",
    "4. Are the additional columns from the Right table now here? Yes, the additional columns are here."
   ]
  },
  {
   "cell_type": "code",
   "execution_count": 32,
   "metadata": {},
   "outputs": [
    {
     "name": "stdout",
     "output_type": "stream",
     "text": [
      "Left dataframe: \n",
      "Number of Rows in Left dataframe:   196\n",
      "Number of Cols in Left dataframe:   5\n",
      "\n",
      "Right dataframe: \n",
      "Number of Rows in Right dataframe:   10\n",
      "Number of Cols in Right dataframe:   6\n",
      "\n",
      "Merged dataframe: \n",
      "Number of Rows in Merged dataframe:   196 (Note: This should be same as the Left dataframe)\n",
      "Number of Cols in Merged dataframe:   10 (Note: This should be Left Cols + Right Cols - 1)\n",
      "\n",
      "\n",
      "YOUR MERGE WAS SUCCESSFULL!!!\n"
     ]
    }
   ],
   "source": [
    "# Display Left dataframe info\n",
    "print(\"Left dataframe: \")\n",
    "print(\"Number of Rows in Left dataframe:  \", df_Left.shape[0])\n",
    "print(\"Number of Cols in Left dataframe:  \", df_Left.shape[1])\n",
    "print()\n",
    "\n",
    "# Display Right dataframe info\n",
    "print(\"Right dataframe: \")\n",
    "print(\"Number of Rows in Right dataframe:  \", df_Right.shape[0])\n",
    "print(\"Number of Cols in Right dataframe:  \", df_Right.shape[1])\n",
    "print()\n",
    "\n",
    "# Display Merged dataframe info\n",
    "print(\"Merged dataframe: \")\n",
    "print(\"Number of Rows in Merged dataframe:  \", df_left_join.shape[0], \"(Note: This should be same as the Left dataframe)\")\n",
    "print(\"Number of Cols in Merged dataframe:  \", df_left_join.shape[1], \"(Note: This should be Left Cols + Right Cols - 1)\")\n",
    "print()\n",
    "\n",
    "# Check for correct number of Rows and Cols\n",
    "expected_merge_cols = df_Left.shape[1] + df_Right.shape[1] - 1\n",
    "\n",
    "assert df_left_join.shape[0] == df_Left.shape[0], \"The Number of Rows in the Merge is NOT Correct!!\"\n",
    "assert df_left_join.shape[1] == expected_merge_cols, \"The Number of Columns in the Merge is NOT Correct!!\"\n",
    "\n",
    "print()\n",
    "print(\"YOUR MERGE WAS SUCCESSFULL!!!\")"
   ]
  },
  {
   "cell_type": "markdown",
   "metadata": {},
   "source": [
    "# 6. Save the Merged Dataframe as a Pickle File"
   ]
  },
  {
   "cell_type": "code",
   "execution_count": 33,
   "metadata": {},
   "outputs": [],
   "source": [
    "df_left_join.to_pickle('Data/Ex_4.4_Part2_Orders_Employees_Merge.pkl')"
   ]
  }
 ],
 "metadata": {
  "kernelspec": {
   "display_name": "Python 3",
   "language": "python",
   "name": "python3"
  },
  "language_info": {
   "codemirror_mode": {
    "name": "ipython",
    "version": 3
   },
   "file_extension": ".py",
   "mimetype": "text/x-python",
   "name": "python",
   "nbconvert_exporter": "python",
   "pygments_lexer": "ipython3",
   "version": "3.7.0"
  }
 },
 "nbformat": 4,
 "nbformat_minor": 2
}
