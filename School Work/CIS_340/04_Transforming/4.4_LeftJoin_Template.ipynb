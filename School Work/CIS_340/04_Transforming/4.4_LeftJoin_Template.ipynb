{
 "cells": [
  {
   "cell_type": "markdown",
   "metadata": {},
   "source": [
    "\n",
    "# 4.4 Left Join Template\n",
    "\n",
    "1. [Identify the *Left* Table](#1.-Identify-the-Left-Table)    \n",
    "2. [Identify the *Right* Table](#2.-Identify-the-Right-Table)   \n",
    "3. [Identify the *Merge* Field/Column](#3.-Identify-the-Merge-Field)   \n",
    "4. [Merge the Two Dataframes](#4.-Merge-the-Two-Dataframes)  \n",
    "5. [Verify that the Merge is Correct](#5.-Verify-that-the-Merge-is-Correct)  \n",
    "6. [Save the Merged Dataframe as a Pickle File](#6.-Save-the-Merged-Dataframe-as-a-Pickle-File)"
   ]
  },
  {
   "cell_type": "code",
   "execution_count": 6,
   "metadata": {},
   "outputs": [],
   "source": [
    "import pandas as pd\n",
    "import pickle"
   ]
  },
  {
   "cell_type": "markdown",
   "metadata": {},
   "source": [
    "# 1. Identify the Left Table  \n",
    "\n",
    "### Questions to answer:  \n",
    "1. What is the Left Table? ????????\n",
    "1. Why is this the Left table/data set?  ????????\n",
    "\n",
    "2. Number of Rows:  ??  \n",
    "3. Number of Columns:  ?? "
   ]
  },
  {
   "cell_type": "code",
   "execution_count": 7,
   "metadata": {},
   "outputs": [
    {
     "ename": "SyntaxError",
     "evalue": "invalid syntax (<ipython-input-7-c2c840db098d>, line 2)",
     "output_type": "error",
     "traceback": [
      "\u001b[1;36m  File \u001b[1;32m\"<ipython-input-7-c2c840db098d>\"\u001b[1;36m, line \u001b[1;32m2\u001b[0m\n\u001b[1;33m    df_Left =\u001b[0m\n\u001b[1;37m             ^\u001b[0m\n\u001b[1;31mSyntaxError\u001b[0m\u001b[1;31m:\u001b[0m invalid syntax\n"
     ]
    }
   ],
   "source": [
    "# Read the Left Table data into a dataframe named: df_Left\n",
    "df_Left ="
   ]
  },
  {
   "cell_type": "code",
   "execution_count": null,
   "metadata": {},
   "outputs": [],
   "source": [
    "# Display the first rows in the dataframe\n",
    "df_Left.head()"
   ]
  },
  {
   "cell_type": "code",
   "execution_count": null,
   "metadata": {},
   "outputs": [],
   "source": [
    "print(\"Number of Rows in the Left dataframe:  \", df_Left.shape[0])\n",
    "print(\"Number of Columns in Left dataframe:  \", df_Left.shape[1])"
   ]
  },
  {
   "cell_type": "markdown",
   "metadata": {},
   "source": [
    "# 2. Identify the Right Table  \n",
    "\n",
    "### Questions to answer:  \n",
    "1. What is the Right Table? **???**\n",
    "1. Why is this the Right table/data set?  **????**\n",
    "2. What columns does it contain that we want to add to the columns in the Left table/dataframe?  **???**\n",
    "2. Number of Rows:  ???   \n",
    "3. Number of Columns:  ???"
   ]
  },
  {
   "cell_type": "code",
   "execution_count": null,
   "metadata": {},
   "outputs": [],
   "source": [
    "# Read the Right Table data into a dataframe named: df_Right\n",
    "df_Right = "
   ]
  },
  {
   "cell_type": "code",
   "execution_count": null,
   "metadata": {},
   "outputs": [],
   "source": [
    "# Display the first rows in the dataframe\n",
    "df_Right.head()"
   ]
  },
  {
   "cell_type": "code",
   "execution_count": null,
   "metadata": {},
   "outputs": [],
   "source": [
    "print(\"Number of Rows in the Right dataframe:  \", df_Right.shape[0])\n",
    "print(\"Number of Columns in Right dataframe:  \", df_Right.shape[1])"
   ]
  },
  {
   "cell_type": "markdown",
   "metadata": {},
   "source": [
    "# 3. Identify the Merge Field  \n",
    "\n",
    "Questions to answer:  \n",
    "1. What is the Merge Column?  **?????**\n",
    "2. Is this Merge Column in both dataframes? **???**  \n",
    "3. Why is this the correct Merge Column? **???**"
   ]
  },
  {
   "cell_type": "markdown",
   "metadata": {},
   "source": [
    "# 4. Merge the Two Dataframes "
   ]
  },
  {
   "cell_type": "code",
   "execution_count": null,
   "metadata": {},
   "outputs": [],
   "source": [
    "# Create a new Dataframe from a Left Join of two existing dataframes\n",
    "df_left_join = pd.merge(df_Left, df_Right, on='CategoryID', how='left')"
   ]
  },
  {
   "cell_type": "code",
   "execution_count": null,
   "metadata": {},
   "outputs": [],
   "source": [
    "# Display the first rows in the merged dataframe\n",
    "df_left_join.head()"
   ]
  },
  {
   "cell_type": "markdown",
   "metadata": {},
   "source": [
    "# 5. Verify that the Merge is Correct  \n",
    "\n",
    "1. Display the first several rows of the merged dataframe.\n",
    "2. Display the number of rows and columns in the merged dataframe  \n",
    "\n",
    "\n",
    "### Questions to answer:  \n",
    "1. Number of Rows:  **??**\n",
    "  1. How many should there be? **The same number as in the Left Table**  \n",
    "2. Number of Columns:   **??**\n",
    "  1. How many should there be?  The number in the Left Table + number in Right Table - 1 (Merge Column is not duplicated)\n",
    "3. Are all the original rows and columns from the Left Table still here?  \n",
    "4. Are the additional columns from the Right table now here?"
   ]
  },
  {
   "cell_type": "code",
   "execution_count": null,
   "metadata": {},
   "outputs": [],
   "source": [
    "# Display Left dataframe info\n",
    "print(\"Left dataframe: \")\n",
    "print(\"Number of Rows in Left dataframe:  \", df_Left.shape[0])\n",
    "print(\"Number of Cols in Left dataframe:  \", df_Left.shape[1])\n",
    "print()\n",
    "\n",
    "# Display Right dataframe info\n",
    "print(\"Right dataframe: \")\n",
    "print(\"Number of Rows in Right dataframe:  \", df_Right.shape[0])\n",
    "print(\"Number of Cols in Right dataframe:  \", df_Right.shape[1])\n",
    "print()\n",
    "\n",
    "# Display Merged dataframe info\n",
    "print(\"Merged dataframe: \")\n",
    "print(\"Number of Rows in Merged dataframe:  \", df_left_join.shape[0], \"(Note: This should be same as the Left dataframe)\")\n",
    "print(\"Number of Cols in Merged dataframe:  \", df_left_join.shape[1], \"(Note: This should be Left Cols + Right Cols - 1)\")\n",
    "print()\n",
    "\n",
    "# Check for correct number of Rows and Cols\n",
    "expected_merge_cols = df_Left.shape[1] + df_Right.shape[1] - 1\n",
    "\n",
    "assert df_left_join.shape[0] == df_Left.shape[0], \"The Number of Rows in the Merge is NOT Correct!!\"\n",
    "assert df_left_join.shape[1] == expected_merge_cols, \"The Number of Columns in the Merge is NOT Correct!!\"\n",
    "\n",
    "print()\n",
    "print(\"YOUR MERGE WAS SUCCESSFULL!!!\")"
   ]
  },
  {
   "cell_type": "markdown",
   "metadata": {},
   "source": [
    "# 6. Save the Merged Dataframe as a Pickle File"
   ]
  }
 ],
 "metadata": {
  "kernelspec": {
   "display_name": "Python 3",
   "language": "python",
   "name": "python3"
  },
  "language_info": {
   "codemirror_mode": {
    "name": "ipython",
    "version": 3
   },
   "file_extension": ".py",
   "mimetype": "text/x-python",
   "name": "python",
   "nbconvert_exporter": "python",
   "pygments_lexer": "ipython3",
   "version": "3.7.0"
  }
 },
 "nbformat": 4,
 "nbformat_minor": 2
}
