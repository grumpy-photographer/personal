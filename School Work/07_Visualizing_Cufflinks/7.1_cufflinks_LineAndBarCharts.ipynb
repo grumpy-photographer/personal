{
 "cells": [
  {
   "cell_type": "markdown",
   "metadata": {},
   "source": [
    "# 7.1 *cufflinks*: Line, Area and Bar Charts  \n",
    "\n",
    "**Note: After reading the data, we Pivot it.  Everything becomes so much easier after that!**  \n",
    "\n",
    "- [Get and Shape Data](#Get-and-Shape-Data)  \n",
    "  - Read data\n",
    "  - [Pivot Data from Tall to Wide](#Pivot-Data-from-Tall-to-Wide)    \n",
    "  \n",
    "  \n",
    "- [**Available Color Schemes**](#Available-Color-Schemes)  \n",
    "  \n",
    "\n",
    "- [**Line Charts**](#Line-Charts)  \n",
    "  - [Single Line Chart](#Single-Line-Chart)  \n",
    "  - [Multi-Line Chart](#Multi-Line-Chart) \n",
    "\n",
    " \n",
    " \n",
    "  \n",
    "- [**Basic Bar Charts**](#Basic-Bar-Charts)  \n",
    "  - [Vertical Bar Charts](#Vertical-Bar-Charts)  \n",
    "  - [Horizontal Bar Charts](#Horizontal-Bar-Charts) \n",
    "  \n",
    "\n",
    "- [**Grouped Bar Charts**](#Grouped-Bar-Charts)  \n",
    "\n",
    "\n",
    "- [**Stacked Bar Charts**](#Stacked-Bar-Charts) \n",
    "  - [Vertical Stacked Bar Chart](#Vertical-Stacked-Bar-Chart)  \n",
    "  - [Horizontal Stacked Bar Chart](#Horizontal-Stacked-Bar-Chart)  \n"
   ]
  },
  {
   "cell_type": "code",
   "execution_count": 1,
   "metadata": {},
   "outputs": [
    {
     "data": {
      "text/html": [
       "        <script type=\"text/javascript\">\n",
       "        window.PlotlyConfig = {MathJaxConfig: 'local'};\n",
       "        if (window.MathJax) {MathJax.Hub.Config({SVG: {font: \"STIX-Web\"}});}\n",
       "        if (typeof require !== 'undefined') {\n",
       "        require.undef(\"plotly\");\n",
       "        requirejs.config({\n",
       "            paths: {\n",
       "                'plotly': ['https://cdn.plot.ly/plotly-latest.min']\n",
       "            }\n",
       "        });\n",
       "        require(['plotly'], function(Plotly) {\n",
       "            window._Plotly = Plotly;\n",
       "        });\n",
       "        }\n",
       "        </script>\n",
       "        "
      ]
     },
     "metadata": {},
     "output_type": "display_data"
    },
    {
     "data": {
      "text/html": [
       "        <script type=\"text/javascript\">\n",
       "        window.PlotlyConfig = {MathJaxConfig: 'local'};\n",
       "        if (window.MathJax) {MathJax.Hub.Config({SVG: {font: \"STIX-Web\"}});}\n",
       "        if (typeof require !== 'undefined') {\n",
       "        require.undef(\"plotly\");\n",
       "        requirejs.config({\n",
       "            paths: {\n",
       "                'plotly': ['https://cdn.plot.ly/plotly-latest.min']\n",
       "            }\n",
       "        });\n",
       "        require(['plotly'], function(Plotly) {\n",
       "            window._Plotly = Plotly;\n",
       "        });\n",
       "        }\n",
       "        </script>\n",
       "        "
      ]
     },
     "metadata": {},
     "output_type": "display_data"
    }
   ],
   "source": [
    "from IPython.display import display, HTML\n",
    "import pandas as pd\n",
    "import numpy as np\n",
    "import math\n",
    "\n",
    "# Using plotly + cufflinks in offline mode\n",
    "\n",
    "import plotly.plotly as py\n",
    "import plotly.graph_objs as go\n",
    "import plotly\n",
    "from plotly.offline import download_plotlyjs, init_notebook_mode, plot, iplot\n",
    "import cufflinks as cf\n",
    "cf.set_config_file(offline=True)"
   ]
  },
  {
   "cell_type": "markdown",
   "metadata": {},
   "source": [
    "# Get and Shape Data"
   ]
  },
  {
   "cell_type": "markdown",
   "metadata": {},
   "source": [
    "### Read Country data into dataframe"
   ]
  },
  {
   "cell_type": "code",
   "execution_count": 2,
   "metadata": {},
   "outputs": [
    {
     "data": {
      "text/html": [
       "<div>\n",
       "<style scoped>\n",
       "    .dataframe tbody tr th:only-of-type {\n",
       "        vertical-align: middle;\n",
       "    }\n",
       "\n",
       "    .dataframe tbody tr th {\n",
       "        vertical-align: top;\n",
       "    }\n",
       "\n",
       "    .dataframe thead th {\n",
       "        text-align: right;\n",
       "    }\n",
       "</style>\n",
       "<table border=\"1\" class=\"dataframe\">\n",
       "  <thead>\n",
       "    <tr style=\"text-align: right;\">\n",
       "      <th></th>\n",
       "      <th>country</th>\n",
       "      <th>continent</th>\n",
       "      <th>year</th>\n",
       "      <th>lifeExpectancy</th>\n",
       "      <th>population</th>\n",
       "      <th>gdpPerCapita</th>\n",
       "    </tr>\n",
       "  </thead>\n",
       "  <tbody>\n",
       "    <tr>\n",
       "      <th>0</th>\n",
       "      <td>Afghanistan</td>\n",
       "      <td>Asia</td>\n",
       "      <td>1952</td>\n",
       "      <td>28.801</td>\n",
       "      <td>8425333</td>\n",
       "      <td>779.445314</td>\n",
       "    </tr>\n",
       "    <tr>\n",
       "      <th>1</th>\n",
       "      <td>Afghanistan</td>\n",
       "      <td>Asia</td>\n",
       "      <td>1957</td>\n",
       "      <td>30.332</td>\n",
       "      <td>9240934</td>\n",
       "      <td>820.853030</td>\n",
       "    </tr>\n",
       "    <tr>\n",
       "      <th>2</th>\n",
       "      <td>Afghanistan</td>\n",
       "      <td>Asia</td>\n",
       "      <td>1962</td>\n",
       "      <td>31.997</td>\n",
       "      <td>10267083</td>\n",
       "      <td>853.100710</td>\n",
       "    </tr>\n",
       "    <tr>\n",
       "      <th>3</th>\n",
       "      <td>Afghanistan</td>\n",
       "      <td>Asia</td>\n",
       "      <td>1967</td>\n",
       "      <td>34.020</td>\n",
       "      <td>11537966</td>\n",
       "      <td>836.197138</td>\n",
       "    </tr>\n",
       "    <tr>\n",
       "      <th>4</th>\n",
       "      <td>Afghanistan</td>\n",
       "      <td>Asia</td>\n",
       "      <td>1972</td>\n",
       "      <td>36.088</td>\n",
       "      <td>13079460</td>\n",
       "      <td>739.981106</td>\n",
       "    </tr>\n",
       "  </tbody>\n",
       "</table>\n",
       "</div>"
      ],
      "text/plain": [
       "       country continent  year  lifeExpectancy  population  gdpPerCapita\n",
       "0  Afghanistan      Asia  1952          28.801     8425333    779.445314\n",
       "1  Afghanistan      Asia  1957          30.332     9240934    820.853030\n",
       "2  Afghanistan      Asia  1962          31.997    10267083    853.100710\n",
       "3  Afghanistan      Asia  1967          34.020    11537966    836.197138\n",
       "4  Afghanistan      Asia  1972          36.088    13079460    739.981106"
      ]
     },
     "execution_count": 2,
     "metadata": {},
     "output_type": "execute_result"
    }
   ],
   "source": [
    "df = pd.read_csv('Data\\\\Country_Data.csv')\n",
    "df.head()"
   ]
  },
  {
   "cell_type": "code",
   "execution_count": 3,
   "metadata": {},
   "outputs": [
    {
     "name": "stdout",
     "output_type": "stream",
     "text": [
      "Number of Rows in df:   1704\n",
      "Number of Columns  in df:   6\n"
     ]
    }
   ],
   "source": [
    "print(\"Number of Rows in df:  \", df.shape[0])\n",
    "print(\"Number of Columns  in df:  \", df.shape[1])"
   ]
  },
  {
   "cell_type": "markdown",
   "metadata": {},
   "source": [
    "### Pivot Data from Tall to Wide  \n",
    "- We do this for only one, selected value:  gdpPerCapita "
   ]
  },
  {
   "cell_type": "code",
   "execution_count": 4,
   "metadata": {},
   "outputs": [
    {
     "data": {
      "text/plain": [
       "array([779.4453145, 820.8530296, 853.10071  , ..., 792.4499603,\n",
       "       672.0386227, 469.7092981])"
      ]
     },
     "execution_count": 4,
     "metadata": {},
     "output_type": "execute_result"
    }
   ],
   "source": [
    "df['gdpPerCapita'].unique()"
   ]
  },
  {
   "cell_type": "code",
   "execution_count": 5,
   "metadata": {},
   "outputs": [
    {
     "data": {
      "text/html": [
       "<div>\n",
       "<style scoped>\n",
       "    .dataframe tbody tr th:only-of-type {\n",
       "        vertical-align: middle;\n",
       "    }\n",
       "\n",
       "    .dataframe tbody tr th {\n",
       "        vertical-align: top;\n",
       "    }\n",
       "\n",
       "    .dataframe thead th {\n",
       "        text-align: right;\n",
       "    }\n",
       "</style>\n",
       "<table border=\"1\" class=\"dataframe\">\n",
       "  <thead>\n",
       "    <tr style=\"text-align: right;\">\n",
       "      <th>country</th>\n",
       "      <th>Afghanistan</th>\n",
       "      <th>Albania</th>\n",
       "      <th>Algeria</th>\n",
       "      <th>Angola</th>\n",
       "      <th>Argentina</th>\n",
       "      <th>Australia</th>\n",
       "      <th>Austria</th>\n",
       "      <th>Bahrain</th>\n",
       "      <th>Bangladesh</th>\n",
       "      <th>Belgium</th>\n",
       "      <th>...</th>\n",
       "      <th>Uganda</th>\n",
       "      <th>United Kingdom</th>\n",
       "      <th>United States</th>\n",
       "      <th>Uruguay</th>\n",
       "      <th>Venezuela</th>\n",
       "      <th>Vietnam</th>\n",
       "      <th>West Bank and Gaza</th>\n",
       "      <th>Yemen, Rep.</th>\n",
       "      <th>Zambia</th>\n",
       "      <th>Zimbabwe</th>\n",
       "    </tr>\n",
       "    <tr>\n",
       "      <th>year</th>\n",
       "      <th></th>\n",
       "      <th></th>\n",
       "      <th></th>\n",
       "      <th></th>\n",
       "      <th></th>\n",
       "      <th></th>\n",
       "      <th></th>\n",
       "      <th></th>\n",
       "      <th></th>\n",
       "      <th></th>\n",
       "      <th></th>\n",
       "      <th></th>\n",
       "      <th></th>\n",
       "      <th></th>\n",
       "      <th></th>\n",
       "      <th></th>\n",
       "      <th></th>\n",
       "      <th></th>\n",
       "      <th></th>\n",
       "      <th></th>\n",
       "      <th></th>\n",
       "    </tr>\n",
       "  </thead>\n",
       "  <tbody>\n",
       "    <tr>\n",
       "      <th>1952</th>\n",
       "      <td>779.445314</td>\n",
       "      <td>1601.056136</td>\n",
       "      <td>2449.008185</td>\n",
       "      <td>3520.610273</td>\n",
       "      <td>5911.315053</td>\n",
       "      <td>10039.59564</td>\n",
       "      <td>6137.076492</td>\n",
       "      <td>9867.084765</td>\n",
       "      <td>684.244172</td>\n",
       "      <td>8343.105127</td>\n",
       "      <td>...</td>\n",
       "      <td>734.753484</td>\n",
       "      <td>9979.508487</td>\n",
       "      <td>13990.48208</td>\n",
       "      <td>5716.766744</td>\n",
       "      <td>7689.799761</td>\n",
       "      <td>605.066492</td>\n",
       "      <td>1515.592329</td>\n",
       "      <td>781.717576</td>\n",
       "      <td>1147.388831</td>\n",
       "      <td>406.884115</td>\n",
       "    </tr>\n",
       "    <tr>\n",
       "      <th>1957</th>\n",
       "      <td>820.853030</td>\n",
       "      <td>1942.284244</td>\n",
       "      <td>3013.976023</td>\n",
       "      <td>3827.940465</td>\n",
       "      <td>6856.856212</td>\n",
       "      <td>10949.64959</td>\n",
       "      <td>8842.598030</td>\n",
       "      <td>11635.799450</td>\n",
       "      <td>661.637458</td>\n",
       "      <td>9714.960623</td>\n",
       "      <td>...</td>\n",
       "      <td>774.371069</td>\n",
       "      <td>11283.177950</td>\n",
       "      <td>14847.12712</td>\n",
       "      <td>6150.772969</td>\n",
       "      <td>9802.466526</td>\n",
       "      <td>676.285448</td>\n",
       "      <td>1827.067742</td>\n",
       "      <td>804.830455</td>\n",
       "      <td>1311.956766</td>\n",
       "      <td>518.764268</td>\n",
       "    </tr>\n",
       "    <tr>\n",
       "      <th>1962</th>\n",
       "      <td>853.100710</td>\n",
       "      <td>2312.888958</td>\n",
       "      <td>2550.816880</td>\n",
       "      <td>4269.276742</td>\n",
       "      <td>7133.166023</td>\n",
       "      <td>12217.22686</td>\n",
       "      <td>10750.721110</td>\n",
       "      <td>12753.275140</td>\n",
       "      <td>686.341554</td>\n",
       "      <td>10991.206760</td>\n",
       "      <td>...</td>\n",
       "      <td>767.271740</td>\n",
       "      <td>12477.177070</td>\n",
       "      <td>16173.14586</td>\n",
       "      <td>5603.357717</td>\n",
       "      <td>8422.974165</td>\n",
       "      <td>772.049160</td>\n",
       "      <td>2198.956312</td>\n",
       "      <td>825.623201</td>\n",
       "      <td>1452.725766</td>\n",
       "      <td>527.272182</td>\n",
       "    </tr>\n",
       "    <tr>\n",
       "      <th>1967</th>\n",
       "      <td>836.197138</td>\n",
       "      <td>2760.196931</td>\n",
       "      <td>3246.991771</td>\n",
       "      <td>5522.776375</td>\n",
       "      <td>8052.953021</td>\n",
       "      <td>14526.12465</td>\n",
       "      <td>12834.602400</td>\n",
       "      <td>14804.672700</td>\n",
       "      <td>721.186086</td>\n",
       "      <td>13149.041190</td>\n",
       "      <td>...</td>\n",
       "      <td>908.918522</td>\n",
       "      <td>14142.850890</td>\n",
       "      <td>19530.36557</td>\n",
       "      <td>5444.619620</td>\n",
       "      <td>9541.474188</td>\n",
       "      <td>637.123289</td>\n",
       "      <td>2649.715007</td>\n",
       "      <td>862.442146</td>\n",
       "      <td>1777.077318</td>\n",
       "      <td>569.795071</td>\n",
       "    </tr>\n",
       "    <tr>\n",
       "      <th>1972</th>\n",
       "      <td>739.981106</td>\n",
       "      <td>3313.422188</td>\n",
       "      <td>4182.663766</td>\n",
       "      <td>5473.288005</td>\n",
       "      <td>9443.038526</td>\n",
       "      <td>16788.62948</td>\n",
       "      <td>16661.625600</td>\n",
       "      <td>18268.658390</td>\n",
       "      <td>630.233627</td>\n",
       "      <td>16672.143560</td>\n",
       "      <td>...</td>\n",
       "      <td>950.735869</td>\n",
       "      <td>15895.116410</td>\n",
       "      <td>21806.03594</td>\n",
       "      <td>5703.408898</td>\n",
       "      <td>10505.259660</td>\n",
       "      <td>699.501644</td>\n",
       "      <td>3133.409277</td>\n",
       "      <td>1265.047031</td>\n",
       "      <td>1773.498265</td>\n",
       "      <td>799.362176</td>\n",
       "    </tr>\n",
       "    <tr>\n",
       "      <th>1977</th>\n",
       "      <td>786.113360</td>\n",
       "      <td>3533.003910</td>\n",
       "      <td>4910.416756</td>\n",
       "      <td>3008.647355</td>\n",
       "      <td>10079.026740</td>\n",
       "      <td>18334.19751</td>\n",
       "      <td>19749.422300</td>\n",
       "      <td>19340.101960</td>\n",
       "      <td>659.877232</td>\n",
       "      <td>19117.974480</td>\n",
       "      <td>...</td>\n",
       "      <td>843.733137</td>\n",
       "      <td>17428.748460</td>\n",
       "      <td>24072.63213</td>\n",
       "      <td>6504.339663</td>\n",
       "      <td>13143.950950</td>\n",
       "      <td>713.537120</td>\n",
       "      <td>3682.831494</td>\n",
       "      <td>1829.765177</td>\n",
       "      <td>1588.688299</td>\n",
       "      <td>685.587682</td>\n",
       "    </tr>\n",
       "    <tr>\n",
       "      <th>1982</th>\n",
       "      <td>978.011439</td>\n",
       "      <td>3630.880722</td>\n",
       "      <td>5745.160213</td>\n",
       "      <td>2756.953672</td>\n",
       "      <td>8997.897412</td>\n",
       "      <td>19477.00928</td>\n",
       "      <td>21597.083620</td>\n",
       "      <td>19211.147310</td>\n",
       "      <td>676.981866</td>\n",
       "      <td>20979.845890</td>\n",
       "      <td>...</td>\n",
       "      <td>682.266227</td>\n",
       "      <td>18232.424520</td>\n",
       "      <td>25009.55914</td>\n",
       "      <td>6920.223051</td>\n",
       "      <td>11152.410110</td>\n",
       "      <td>707.235786</td>\n",
       "      <td>4336.032082</td>\n",
       "      <td>1977.557010</td>\n",
       "      <td>1408.678565</td>\n",
       "      <td>788.855041</td>\n",
       "    </tr>\n",
       "    <tr>\n",
       "      <th>1987</th>\n",
       "      <td>852.395945</td>\n",
       "      <td>3738.932735</td>\n",
       "      <td>5681.358539</td>\n",
       "      <td>2430.208311</td>\n",
       "      <td>9139.671389</td>\n",
       "      <td>21888.88903</td>\n",
       "      <td>23687.826070</td>\n",
       "      <td>18524.024060</td>\n",
       "      <td>751.979403</td>\n",
       "      <td>22525.563080</td>\n",
       "      <td>...</td>\n",
       "      <td>617.724406</td>\n",
       "      <td>21664.787670</td>\n",
       "      <td>29884.35041</td>\n",
       "      <td>7452.398969</td>\n",
       "      <td>9883.584648</td>\n",
       "      <td>820.799445</td>\n",
       "      <td>5107.197384</td>\n",
       "      <td>1971.741538</td>\n",
       "      <td>1213.315116</td>\n",
       "      <td>706.157306</td>\n",
       "    </tr>\n",
       "    <tr>\n",
       "      <th>1992</th>\n",
       "      <td>649.341395</td>\n",
       "      <td>2497.437901</td>\n",
       "      <td>5023.216647</td>\n",
       "      <td>2627.845685</td>\n",
       "      <td>9308.418710</td>\n",
       "      <td>23424.76683</td>\n",
       "      <td>27042.018680</td>\n",
       "      <td>19035.579170</td>\n",
       "      <td>837.810164</td>\n",
       "      <td>25575.570690</td>\n",
       "      <td>...</td>\n",
       "      <td>644.170797</td>\n",
       "      <td>22705.092540</td>\n",
       "      <td>32003.93224</td>\n",
       "      <td>8137.004775</td>\n",
       "      <td>10733.926310</td>\n",
       "      <td>989.023149</td>\n",
       "      <td>6017.654756</td>\n",
       "      <td>1879.496673</td>\n",
       "      <td>1210.884633</td>\n",
       "      <td>693.420786</td>\n",
       "    </tr>\n",
       "    <tr>\n",
       "      <th>1997</th>\n",
       "      <td>635.341351</td>\n",
       "      <td>3193.054604</td>\n",
       "      <td>4797.295051</td>\n",
       "      <td>2277.140884</td>\n",
       "      <td>10967.281950</td>\n",
       "      <td>26997.93657</td>\n",
       "      <td>29095.920660</td>\n",
       "      <td>20292.016790</td>\n",
       "      <td>972.770035</td>\n",
       "      <td>27561.196630</td>\n",
       "      <td>...</td>\n",
       "      <td>816.559081</td>\n",
       "      <td>26074.531360</td>\n",
       "      <td>35767.43303</td>\n",
       "      <td>9230.240708</td>\n",
       "      <td>10165.495180</td>\n",
       "      <td>1385.896769</td>\n",
       "      <td>7110.667619</td>\n",
       "      <td>2117.484526</td>\n",
       "      <td>1071.353818</td>\n",
       "      <td>792.449960</td>\n",
       "    </tr>\n",
       "    <tr>\n",
       "      <th>2002</th>\n",
       "      <td>726.734055</td>\n",
       "      <td>4604.211737</td>\n",
       "      <td>5288.040382</td>\n",
       "      <td>2773.287312</td>\n",
       "      <td>8797.640716</td>\n",
       "      <td>30687.75473</td>\n",
       "      <td>32417.607690</td>\n",
       "      <td>23403.559270</td>\n",
       "      <td>1136.390430</td>\n",
       "      <td>30485.883750</td>\n",
       "      <td>...</td>\n",
       "      <td>927.721002</td>\n",
       "      <td>29478.999190</td>\n",
       "      <td>39097.09955</td>\n",
       "      <td>7727.002004</td>\n",
       "      <td>8605.047831</td>\n",
       "      <td>1764.456677</td>\n",
       "      <td>4515.487575</td>\n",
       "      <td>2234.820827</td>\n",
       "      <td>1071.613938</td>\n",
       "      <td>672.038623</td>\n",
       "    </tr>\n",
       "    <tr>\n",
       "      <th>2007</th>\n",
       "      <td>974.580338</td>\n",
       "      <td>5937.029526</td>\n",
       "      <td>6223.367465</td>\n",
       "      <td>4797.231267</td>\n",
       "      <td>12779.379640</td>\n",
       "      <td>34435.36744</td>\n",
       "      <td>36126.492700</td>\n",
       "      <td>29796.048340</td>\n",
       "      <td>1391.253792</td>\n",
       "      <td>33692.605080</td>\n",
       "      <td>...</td>\n",
       "      <td>1056.380121</td>\n",
       "      <td>33203.261280</td>\n",
       "      <td>42951.65309</td>\n",
       "      <td>10611.462990</td>\n",
       "      <td>11415.805690</td>\n",
       "      <td>2441.576404</td>\n",
       "      <td>3025.349798</td>\n",
       "      <td>2280.769906</td>\n",
       "      <td>1271.211593</td>\n",
       "      <td>469.709298</td>\n",
       "    </tr>\n",
       "  </tbody>\n",
       "</table>\n",
       "<p>12 rows × 142 columns</p>\n",
       "</div>"
      ],
      "text/plain": [
       "country  Afghanistan      Albania      Algeria       Angola     Argentina  \\\n",
       "year                                                                        \n",
       "1952      779.445314  1601.056136  2449.008185  3520.610273   5911.315053   \n",
       "1957      820.853030  1942.284244  3013.976023  3827.940465   6856.856212   \n",
       "1962      853.100710  2312.888958  2550.816880  4269.276742   7133.166023   \n",
       "1967      836.197138  2760.196931  3246.991771  5522.776375   8052.953021   \n",
       "1972      739.981106  3313.422188  4182.663766  5473.288005   9443.038526   \n",
       "1977      786.113360  3533.003910  4910.416756  3008.647355  10079.026740   \n",
       "1982      978.011439  3630.880722  5745.160213  2756.953672   8997.897412   \n",
       "1987      852.395945  3738.932735  5681.358539  2430.208311   9139.671389   \n",
       "1992      649.341395  2497.437901  5023.216647  2627.845685   9308.418710   \n",
       "1997      635.341351  3193.054604  4797.295051  2277.140884  10967.281950   \n",
       "2002      726.734055  4604.211737  5288.040382  2773.287312   8797.640716   \n",
       "2007      974.580338  5937.029526  6223.367465  4797.231267  12779.379640   \n",
       "\n",
       "country    Australia       Austria       Bahrain   Bangladesh       Belgium  \\\n",
       "year                                                                          \n",
       "1952     10039.59564   6137.076492   9867.084765   684.244172   8343.105127   \n",
       "1957     10949.64959   8842.598030  11635.799450   661.637458   9714.960623   \n",
       "1962     12217.22686  10750.721110  12753.275140   686.341554  10991.206760   \n",
       "1967     14526.12465  12834.602400  14804.672700   721.186086  13149.041190   \n",
       "1972     16788.62948  16661.625600  18268.658390   630.233627  16672.143560   \n",
       "1977     18334.19751  19749.422300  19340.101960   659.877232  19117.974480   \n",
       "1982     19477.00928  21597.083620  19211.147310   676.981866  20979.845890   \n",
       "1987     21888.88903  23687.826070  18524.024060   751.979403  22525.563080   \n",
       "1992     23424.76683  27042.018680  19035.579170   837.810164  25575.570690   \n",
       "1997     26997.93657  29095.920660  20292.016790   972.770035  27561.196630   \n",
       "2002     30687.75473  32417.607690  23403.559270  1136.390430  30485.883750   \n",
       "2007     34435.36744  36126.492700  29796.048340  1391.253792  33692.605080   \n",
       "\n",
       "country  ...       Uganda  United Kingdom  United States       Uruguay  \\\n",
       "year     ...                                                             \n",
       "1952     ...   734.753484     9979.508487    13990.48208   5716.766744   \n",
       "1957     ...   774.371069    11283.177950    14847.12712   6150.772969   \n",
       "1962     ...   767.271740    12477.177070    16173.14586   5603.357717   \n",
       "1967     ...   908.918522    14142.850890    19530.36557   5444.619620   \n",
       "1972     ...   950.735869    15895.116410    21806.03594   5703.408898   \n",
       "1977     ...   843.733137    17428.748460    24072.63213   6504.339663   \n",
       "1982     ...   682.266227    18232.424520    25009.55914   6920.223051   \n",
       "1987     ...   617.724406    21664.787670    29884.35041   7452.398969   \n",
       "1992     ...   644.170797    22705.092540    32003.93224   8137.004775   \n",
       "1997     ...   816.559081    26074.531360    35767.43303   9230.240708   \n",
       "2002     ...   927.721002    29478.999190    39097.09955   7727.002004   \n",
       "2007     ...  1056.380121    33203.261280    42951.65309  10611.462990   \n",
       "\n",
       "country     Venezuela      Vietnam  West Bank and Gaza  Yemen, Rep.  \\\n",
       "year                                                                  \n",
       "1952      7689.799761   605.066492         1515.592329   781.717576   \n",
       "1957      9802.466526   676.285448         1827.067742   804.830455   \n",
       "1962      8422.974165   772.049160         2198.956312   825.623201   \n",
       "1967      9541.474188   637.123289         2649.715007   862.442146   \n",
       "1972     10505.259660   699.501644         3133.409277  1265.047031   \n",
       "1977     13143.950950   713.537120         3682.831494  1829.765177   \n",
       "1982     11152.410110   707.235786         4336.032082  1977.557010   \n",
       "1987      9883.584648   820.799445         5107.197384  1971.741538   \n",
       "1992     10733.926310   989.023149         6017.654756  1879.496673   \n",
       "1997     10165.495180  1385.896769         7110.667619  2117.484526   \n",
       "2002      8605.047831  1764.456677         4515.487575  2234.820827   \n",
       "2007     11415.805690  2441.576404         3025.349798  2280.769906   \n",
       "\n",
       "country       Zambia    Zimbabwe  \n",
       "year                              \n",
       "1952     1147.388831  406.884115  \n",
       "1957     1311.956766  518.764268  \n",
       "1962     1452.725766  527.272182  \n",
       "1967     1777.077318  569.795071  \n",
       "1972     1773.498265  799.362176  \n",
       "1977     1588.688299  685.587682  \n",
       "1982     1408.678565  788.855041  \n",
       "1987     1213.315116  706.157306  \n",
       "1992     1210.884633  693.420786  \n",
       "1997     1071.353818  792.449960  \n",
       "2002     1071.613938  672.038623  \n",
       "2007     1271.211593  469.709298  \n",
       "\n",
       "[12 rows x 142 columns]"
      ]
     },
     "execution_count": 5,
     "metadata": {},
     "output_type": "execute_result"
    }
   ],
   "source": [
    "# Pivot:  value = gdpPerCapita\n",
    "df_wide_GDP = df.pivot(index='year', \n",
    "                       columns='country', \n",
    "                       values='gdpPerCapita')\n",
    "df_wide_GDP"
   ]
  },
  {
   "cell_type": "code",
   "execution_count": 6,
   "metadata": {
    "scrolled": true
   },
   "outputs": [
    {
     "data": {
      "text/plain": [
       "Index(['Afghanistan', 'Albania', 'Algeria', 'Angola', 'Argentina', 'Australia',\n",
       "       'Austria', 'Bahrain', 'Bangladesh', 'Belgium',\n",
       "       ...\n",
       "       'Uganda', 'United Kingdom', 'United States', 'Uruguay', 'Venezuela',\n",
       "       'Vietnam', 'West Bank and Gaza', 'Yemen, Rep.', 'Zambia', 'Zimbabwe'],\n",
       "      dtype='object', name='country', length=142)"
      ]
     },
     "execution_count": 6,
     "metadata": {},
     "output_type": "execute_result"
    }
   ],
   "source": [
    "# Show columns (which are the countries!)\n",
    "df_wide_GDP.columns"
   ]
  },
  {
   "cell_type": "markdown",
   "metadata": {},
   "source": [
    "# Available Color Schemes  \n",
    "- ggplot  \n",
    "- pearl (default)  \n",
    "- solar  \n",
    "- space  \n",
    "- white  \n",
    "- polar  \n",
    "- henanigans"
   ]
  },
  {
   "cell_type": "code",
   "execution_count": 7,
   "metadata": {},
   "outputs": [
    {
     "data": {
      "text/plain": [
       "['ggplot', 'pearl', 'solar', 'space', 'white', 'polar', 'henanigans']"
      ]
     },
     "execution_count": 7,
     "metadata": {},
     "output_type": "execute_result"
    }
   ],
   "source": [
    "# Show Color Themes\n",
    "cf.getThemes()"
   ]
  },
  {
   "cell_type": "markdown",
   "metadata": {},
   "source": [
    "# Line Charts"
   ]
  },
  {
   "cell_type": "markdown",
   "metadata": {},
   "source": [
    "### Single Line Chart  \n",
    "Color Theme:  **ggplot**"
   ]
  },
  {
   "cell_type": "code",
   "execution_count": 8,
   "metadata": {},
   "outputs": [
    {
     "data": {
      "application/vnd.plotly.v1+json": {
       "config": {
        "linkText": "Export to plot.ly",
        "plotlyServerURL": "https://plot.ly",
        "responsive": true,
        "showLink": true
       },
       "data": [
        {
         "line": {
          "color": "rgba(226, 74, 51, 1.0)",
          "dash": "solid",
          "shape": "linear",
          "width": 1.3
         },
         "mode": "lines",
         "name": "United States",
         "text": "",
         "type": "scatter",
         "uid": "82b2efe5-67da-4793-ad8d-1c7d1fe0331c",
         "x": [
          1952,
          1957,
          1962,
          1967,
          1972,
          1977,
          1982,
          1987,
          1992,
          1997,
          2002,
          2007
         ],
         "y": [
          13990.482080000002,
          14847.12712,
          16173.145859999999,
          19530.365569999998,
          21806.03594,
          24072.63213,
          25009.55914,
          29884.350410000003,
          32003.93224,
          35767.43303,
          39097.09955,
          42951.65309
         ]
        }
       ],
       "layout": {
        "legend": {
         "bgcolor": "#FFFFFF",
         "font": {
          "color": "#666666"
         }
        },
        "paper_bgcolor": "#FFFFFF",
        "plot_bgcolor": "#E5E5E5",
        "title": {
         "font": {
          "color": "#151516"
         },
         "text": "Basic Line Chart"
        },
        "xaxis": {
         "gridcolor": "#F6F6F6",
         "showgrid": true,
         "tickfont": {
          "color": "#666666"
         },
         "title": {
          "font": {
           "color": "#666666"
          },
          "text": ""
         },
         "zerolinecolor": "#F6F6F6"
        },
        "yaxis": {
         "gridcolor": "#F6F6F6",
         "showgrid": true,
         "tickfont": {
          "color": "#666666"
         },
         "title": {
          "font": {
           "color": "#666666"
          },
          "text": ""
         },
         "zerolinecolor": "#F6F6F6"
        }
       }
      },
      "text/html": [
       "<div>\n",
       "        \n",
       "        \n",
       "            <div id=\"f7fb43c0-69b3-4e26-bdce-d999e58361d1\" class=\"plotly-graph-div\"></div>\n",
       "            <script type=\"text/javascript\">\n",
       "                require([\"plotly\"], function(Plotly) {\n",
       "                    window.PLOTLYENV=window.PLOTLYENV || {};\n",
       "                    window.PLOTLYENV.BASE_URL='https://plot.ly';\n",
       "                    \n",
       "                if (document.getElementById(\"f7fb43c0-69b3-4e26-bdce-d999e58361d1\")) {\n",
       "                    Plotly.newPlot(\n",
       "                        'f7fb43c0-69b3-4e26-bdce-d999e58361d1',\n",
       "                        [{\"line\": {\"color\": \"rgba(226, 74, 51, 1.0)\", \"dash\": \"solid\", \"shape\": \"linear\", \"width\": 1.3}, \"mode\": \"lines\", \"name\": \"United States\", \"text\": \"\", \"type\": \"scatter\", \"uid\": \"b68790b7-ed15-40c2-95c3-38063b71e043\", \"x\": [1952, 1957, 1962, 1967, 1972, 1977, 1982, 1987, 1992, 1997, 2002, 2007], \"y\": [13990.482080000002, 14847.12712, 16173.145859999999, 19530.365569999998, 21806.03594, 24072.63213, 25009.55914, 29884.350410000003, 32003.93224, 35767.43303, 39097.09955, 42951.65309]}],\n",
       "                        {\"legend\": {\"bgcolor\": \"#FFFFFF\", \"font\": {\"color\": \"#666666\"}}, \"paper_bgcolor\": \"#FFFFFF\", \"plot_bgcolor\": \"#E5E5E5\", \"title\": {\"font\": {\"color\": \"#151516\"}, \"text\": \"Basic Line Chart\"}, \"xaxis\": {\"gridcolor\": \"#F6F6F6\", \"showgrid\": true, \"tickfont\": {\"color\": \"#666666\"}, \"title\": {\"font\": {\"color\": \"#666666\"}, \"text\": \"\"}, \"zerolinecolor\": \"#F6F6F6\"}, \"yaxis\": {\"gridcolor\": \"#F6F6F6\", \"showgrid\": true, \"tickfont\": {\"color\": \"#666666\"}, \"title\": {\"font\": {\"color\": \"#666666\"}, \"text\": \"\"}, \"zerolinecolor\": \"#F6F6F6\"}},\n",
       "                        {\"showLink\": true, \"linkText\": \"Export to plot.ly\", \"plotlyServerURL\": \"https://plot.ly\", \"responsive\": true}\n",
       "                    )\n",
       "                };\n",
       "                });\n",
       "            </script>\n",
       "        </div>"
      ]
     },
     "metadata": {},
     "output_type": "display_data"
    }
   ],
   "source": [
    "countries_to_plot = ['United States']\n",
    "\n",
    "df_wide_GDP[countries_to_plot].iplot(kind='line',\n",
    "            theme='ggplot',\n",
    "            title='Basic Line Chart')"
   ]
  },
  {
   "cell_type": "markdown",
   "metadata": {},
   "source": [
    "### Multi-Line Chart  \n",
    "Color Theme:  **space**"
   ]
  },
  {
   "cell_type": "code",
   "execution_count": 9,
   "metadata": {},
   "outputs": [
    {
     "data": {
      "application/vnd.plotly.v1+json": {
       "config": {
        "linkText": "Export to plot.ly",
        "plotlyServerURL": "https://plot.ly",
        "responsive": true,
        "showLink": true
       },
       "data": [
        {
         "line": {
          "color": "rgba(255, 153, 51, 1.0)",
          "dash": "solid",
          "shape": "linear",
          "width": 1.3
         },
         "mode": "lines",
         "name": "Albania",
         "text": "",
         "type": "scatter",
         "uid": "b5032218-587c-45bd-805c-356cd0907f2a",
         "x": [
          1952,
          1957,
          1962,
          1967,
          1972,
          1977,
          1982,
          1987,
          1992,
          1997,
          2002,
          2007
         ],
         "y": [
          1601.056136,
          1942.2842440000002,
          2312.888958,
          2760.196931,
          3313.422188,
          3533.0039100000004,
          3630.880722,
          3738.9327350000003,
          2497.4379010000002,
          3193.054604,
          4604.211737,
          5937.029525999999
         ]
        },
        {
         "line": {
          "color": "rgba(55, 128, 191, 1.0)",
          "dash": "solid",
          "shape": "linear",
          "width": 1.3
         },
         "mode": "lines",
         "name": "Australia",
         "text": "",
         "type": "scatter",
         "uid": "1c8812bd-1421-4314-a7b0-1c420662a302",
         "x": [
          1952,
          1957,
          1962,
          1967,
          1972,
          1977,
          1982,
          1987,
          1992,
          1997,
          2002,
          2007
         ],
         "y": [
          10039.595640000001,
          10949.64959,
          12217.226859999999,
          14526.12465,
          16788.62948,
          18334.197509999998,
          19477.009280000002,
          21888.889030000002,
          23424.76683,
          26997.936569999998,
          30687.75473,
          34435.367439999995
         ]
        }
       ],
       "layout": {
        "legend": {
         "bgcolor": "#1A1A1C",
         "font": {
          "color": "#D9D9D9"
         }
        },
        "paper_bgcolor": "#1A1A1C",
        "plot_bgcolor": "#1A1A1C",
        "title": {
         "font": {
          "color": "#D9D9D9"
         },
         "text": "Basic Multi Line Chart"
        },
        "xaxis": {
         "gridcolor": "#434343",
         "showgrid": true,
         "tickfont": {
          "color": "#C2C2C2"
         },
         "title": {
          "font": {
           "color": "#D9D9D9"
          },
          "text": ""
         },
         "zerolinecolor": "#666570"
        },
        "yaxis": {
         "gridcolor": "#434343",
         "showgrid": true,
         "tickfont": {
          "color": "#C2C2C2"
         },
         "title": {
          "font": {
           "color": "#D9D9D9"
          },
          "text": ""
         },
         "zerolinecolor": "#666570"
        }
       }
      },
      "text/html": [
       "<div>\n",
       "        \n",
       "        \n",
       "            <div id=\"e534ae79-de12-4d30-8e19-fc881ba06bb0\" class=\"plotly-graph-div\"></div>\n",
       "            <script type=\"text/javascript\">\n",
       "                require([\"plotly\"], function(Plotly) {\n",
       "                    window.PLOTLYENV=window.PLOTLYENV || {};\n",
       "                    window.PLOTLYENV.BASE_URL='https://plot.ly';\n",
       "                    \n",
       "                if (document.getElementById(\"e534ae79-de12-4d30-8e19-fc881ba06bb0\")) {\n",
       "                    Plotly.newPlot(\n",
       "                        'e534ae79-de12-4d30-8e19-fc881ba06bb0',\n",
       "                        [{\"line\": {\"color\": \"rgba(255, 153, 51, 1.0)\", \"dash\": \"solid\", \"shape\": \"linear\", \"width\": 1.3}, \"mode\": \"lines\", \"name\": \"Albania\", \"text\": \"\", \"type\": \"scatter\", \"uid\": \"c4849bb6-f19f-4d9a-90ba-d421cd81fb43\", \"x\": [1952, 1957, 1962, 1967, 1972, 1977, 1982, 1987, 1992, 1997, 2002, 2007], \"y\": [1601.056136, 1942.2842440000002, 2312.888958, 2760.196931, 3313.422188, 3533.0039100000004, 3630.880722, 3738.9327350000003, 2497.4379010000002, 3193.054604, 4604.211737, 5937.029525999999]}, {\"line\": {\"color\": \"rgba(55, 128, 191, 1.0)\", \"dash\": \"solid\", \"shape\": \"linear\", \"width\": 1.3}, \"mode\": \"lines\", \"name\": \"Australia\", \"text\": \"\", \"type\": \"scatter\", \"uid\": \"77044ce2-5052-4b3e-a038-ad93615af87e\", \"x\": [1952, 1957, 1962, 1967, 1972, 1977, 1982, 1987, 1992, 1997, 2002, 2007], \"y\": [10039.595640000001, 10949.64959, 12217.226859999999, 14526.12465, 16788.62948, 18334.197509999998, 19477.009280000002, 21888.889030000002, 23424.76683, 26997.936569999998, 30687.75473, 34435.367439999995]}],\n",
       "                        {\"legend\": {\"bgcolor\": \"#1A1A1C\", \"font\": {\"color\": \"#D9D9D9\"}}, \"paper_bgcolor\": \"#1A1A1C\", \"plot_bgcolor\": \"#1A1A1C\", \"title\": {\"font\": {\"color\": \"#D9D9D9\"}, \"text\": \"Basic Multi Line Chart\"}, \"xaxis\": {\"gridcolor\": \"#434343\", \"showgrid\": true, \"tickfont\": {\"color\": \"#C2C2C2\"}, \"title\": {\"font\": {\"color\": \"#D9D9D9\"}, \"text\": \"\"}, \"zerolinecolor\": \"#666570\"}, \"yaxis\": {\"gridcolor\": \"#434343\", \"showgrid\": true, \"tickfont\": {\"color\": \"#C2C2C2\"}, \"title\": {\"font\": {\"color\": \"#D9D9D9\"}, \"text\": \"\"}, \"zerolinecolor\": \"#666570\"}},\n",
       "                        {\"showLink\": true, \"linkText\": \"Export to plot.ly\", \"plotlyServerURL\": \"https://plot.ly\", \"responsive\": true}\n",
       "                    )\n",
       "                };\n",
       "                });\n",
       "            </script>\n",
       "        </div>"
      ]
     },
     "metadata": {},
     "output_type": "display_data"
    }
   ],
   "source": [
    "# Create a List filled with the countries to plot\n",
    "countries_to_plot = ['Albania', 'Australia']\n",
    "\n",
    "# plot the countries \n",
    "df_wide_GDP[countries_to_plot].iplot(kind='line', \n",
    "                                     theme='space',\n",
    "                                     title='Basic Multi Line Chart')\n"
   ]
  },
  {
   "cell_type": "markdown",
   "metadata": {},
   "source": [
    "# Basic Bar Charts"
   ]
  },
  {
   "cell_type": "markdown",
   "metadata": {},
   "source": [
    "### Vertical Bar Charts  \n",
    "Color Theme:  **henanigans**"
   ]
  },
  {
   "cell_type": "code",
   "execution_count": 10,
   "metadata": {},
   "outputs": [
    {
     "data": {
      "application/vnd.plotly.v1+json": {
       "config": {
        "linkText": "Export to plot.ly",
        "plotlyServerURL": "https://plot.ly",
        "responsive": true,
        "showLink": true
       },
       "data": [
        {
         "marker": {
          "color": "rgba(255, 153, 51, 0.6)",
          "line": {
           "color": "rgba(255, 153, 51, 1.0)",
           "width": 1
          }
         },
         "name": "United States",
         "orientation": "h",
         "text": "",
         "type": "bar",
         "uid": "b544af03-5e3f-4999-811b-2bea504d56c6",
         "x": [
          13990.482080000002,
          14847.12712,
          16173.145859999999,
          19530.365569999998,
          21806.03594,
          24072.63213,
          25009.55914,
          29884.350410000003,
          32003.93224,
          35767.43303,
          39097.09955,
          42951.65309
         ],
         "y": [
          1952,
          1957,
          1962,
          1967,
          1972,
          1977,
          1982,
          1987,
          1992,
          1997,
          2002,
          2007
         ]
        }
       ],
       "layout": {
        "legend": {
         "bgcolor": "#242424",
         "font": {
          "color": "#F4F4F4"
         }
        },
        "paper_bgcolor": "#242424",
        "plot_bgcolor": "#242424",
        "title": {
         "font": {
          "color": "#F4F4F4"
         },
         "text": "Basic Vertical Bar Chart"
        },
        "xaxis": {
         "gridcolor": "#343434",
         "showgrid": true,
         "tickfont": {
          "color": "#A4A4A4"
         },
         "title": {
          "font": {
           "color": "#A4A4A4"
          },
          "text": ""
         },
         "zerolinecolor": "#444444"
        },
        "yaxis": {
         "gridcolor": "#343434",
         "showgrid": true,
         "tickfont": {
          "color": "#A4A4A4"
         },
         "title": {
          "font": {
           "color": "#A4A4A4"
          },
          "text": "Year"
         },
         "zerolinecolor": "#444444"
        }
       }
      },
      "text/html": [
       "<div>\n",
       "        \n",
       "        \n",
       "            <div id=\"38b3d79d-4884-4bc3-ab8c-3d8e0161f73d\" class=\"plotly-graph-div\"></div>\n",
       "            <script type=\"text/javascript\">\n",
       "                require([\"plotly\"], function(Plotly) {\n",
       "                    window.PLOTLYENV=window.PLOTLYENV || {};\n",
       "                    window.PLOTLYENV.BASE_URL='https://plot.ly';\n",
       "                    \n",
       "                if (document.getElementById(\"38b3d79d-4884-4bc3-ab8c-3d8e0161f73d\")) {\n",
       "                    Plotly.newPlot(\n",
       "                        '38b3d79d-4884-4bc3-ab8c-3d8e0161f73d',\n",
       "                        [{\"marker\": {\"color\": \"rgba(255, 153, 51, 0.6)\", \"line\": {\"color\": \"rgba(255, 153, 51, 1.0)\", \"width\": 1}}, \"name\": \"United States\", \"orientation\": \"h\", \"text\": \"\", \"type\": \"bar\", \"uid\": \"7cb687f8-8f93-4c48-ba95-ef6dcd580063\", \"x\": [13990.482080000002, 14847.12712, 16173.145859999999, 19530.365569999998, 21806.03594, 24072.63213, 25009.55914, 29884.350410000003, 32003.93224, 35767.43303, 39097.09955, 42951.65309], \"y\": [1952, 1957, 1962, 1967, 1972, 1977, 1982, 1987, 1992, 1997, 2002, 2007]}],\n",
       "                        {\"legend\": {\"bgcolor\": \"#242424\", \"font\": {\"color\": \"#F4F4F4\"}}, \"paper_bgcolor\": \"#242424\", \"plot_bgcolor\": \"#242424\", \"title\": {\"font\": {\"color\": \"#F4F4F4\"}, \"text\": \"Basic Vertical Bar Chart\"}, \"xaxis\": {\"gridcolor\": \"#343434\", \"showgrid\": true, \"tickfont\": {\"color\": \"#A4A4A4\"}, \"title\": {\"font\": {\"color\": \"#A4A4A4\"}, \"text\": \"\"}, \"zerolinecolor\": \"#444444\"}, \"yaxis\": {\"gridcolor\": \"#343434\", \"showgrid\": true, \"tickfont\": {\"color\": \"#A4A4A4\"}, \"title\": {\"font\": {\"color\": \"#A4A4A4\"}, \"text\": \"Year\"}, \"zerolinecolor\": \"#444444\"}},\n",
       "                        {\"showLink\": true, \"linkText\": \"Export to plot.ly\", \"plotlyServerURL\": \"https://plot.ly\", \"responsive\": true}\n",
       "                    )\n",
       "                };\n",
       "                });\n",
       "            </script>\n",
       "        </div>"
      ]
     },
     "metadata": {},
     "output_type": "display_data"
    }
   ],
   "source": [
    "countries_to_plot = ['United States']\n",
    "\n",
    "df_wide_GDP[countries_to_plot].iplot(kind='barh',\n",
    "            yTitle='Year',\n",
    "            theme='henanigans',\n",
    "            title='Basic Vertical Bar Chart')"
   ]
  },
  {
   "cell_type": "markdown",
   "metadata": {},
   "source": [
    "### Horizontal Bar Charts"
   ]
  },
  {
   "cell_type": "code",
   "execution_count": 11,
   "metadata": {},
   "outputs": [
    {
     "data": {
      "application/vnd.plotly.v1+json": {
       "config": {
        "linkText": "Export to plot.ly",
        "plotlyServerURL": "https://plot.ly",
        "responsive": true,
        "showLink": true
       },
       "data": [
        {
         "marker": {
          "color": "rgba(255, 153, 51, 0.6)",
          "line": {
           "color": "rgba(255, 153, 51, 1.0)",
           "width": 1
          }
         },
         "name": "United States",
         "orientation": "v",
         "text": "",
         "type": "bar",
         "uid": "514b9a90-098d-437f-8eb0-d7f43df1c29c",
         "x": [
          1952,
          1957,
          1962,
          1967,
          1972,
          1977,
          1982,
          1987,
          1992,
          1997,
          2002,
          2007
         ],
         "y": [
          13990.482080000002,
          14847.12712,
          16173.145859999999,
          19530.365569999998,
          21806.03594,
          24072.63213,
          25009.55914,
          29884.350410000003,
          32003.93224,
          35767.43303,
          39097.09955,
          42951.65309
         ]
        }
       ],
       "layout": {
        "legend": {
         "bgcolor": "#242424",
         "font": {
          "color": "#F4F4F4"
         }
        },
        "paper_bgcolor": "#242424",
        "plot_bgcolor": "#242424",
        "title": {
         "font": {
          "color": "#F4F4F4"
         },
         "text": "Basic Horizontal Bar Chart"
        },
        "xaxis": {
         "gridcolor": "#343434",
         "showgrid": true,
         "tickfont": {
          "color": "#A4A4A4"
         },
         "title": {
          "font": {
           "color": "#A4A4A4"
          },
          "text": ""
         },
         "zerolinecolor": "#444444"
        },
        "yaxis": {
         "gridcolor": "#343434",
         "showgrid": true,
         "tickfont": {
          "color": "#A4A4A4"
         },
         "title": {
          "font": {
           "color": "#A4A4A4"
          },
          "text": "Year"
         },
         "zerolinecolor": "#444444"
        }
       }
      },
      "text/html": [
       "<div>\n",
       "        \n",
       "        \n",
       "            <div id=\"cb1f0934-39ea-48e6-a660-15798b692cf3\" class=\"plotly-graph-div\"></div>\n",
       "            <script type=\"text/javascript\">\n",
       "                require([\"plotly\"], function(Plotly) {\n",
       "                    window.PLOTLYENV=window.PLOTLYENV || {};\n",
       "                    window.PLOTLYENV.BASE_URL='https://plot.ly';\n",
       "                    \n",
       "                if (document.getElementById(\"cb1f0934-39ea-48e6-a660-15798b692cf3\")) {\n",
       "                    Plotly.newPlot(\n",
       "                        'cb1f0934-39ea-48e6-a660-15798b692cf3',\n",
       "                        [{\"marker\": {\"color\": \"rgba(255, 153, 51, 0.6)\", \"line\": {\"color\": \"rgba(255, 153, 51, 1.0)\", \"width\": 1}}, \"name\": \"United States\", \"orientation\": \"v\", \"text\": \"\", \"type\": \"bar\", \"uid\": \"3f2bd62d-31c1-4665-91f8-9b9f64a5fbbd\", \"x\": [1952, 1957, 1962, 1967, 1972, 1977, 1982, 1987, 1992, 1997, 2002, 2007], \"y\": [13990.482080000002, 14847.12712, 16173.145859999999, 19530.365569999998, 21806.03594, 24072.63213, 25009.55914, 29884.350410000003, 32003.93224, 35767.43303, 39097.09955, 42951.65309]}],\n",
       "                        {\"legend\": {\"bgcolor\": \"#242424\", \"font\": {\"color\": \"#F4F4F4\"}}, \"paper_bgcolor\": \"#242424\", \"plot_bgcolor\": \"#242424\", \"title\": {\"font\": {\"color\": \"#F4F4F4\"}, \"text\": \"Basic Horizontal Bar Chart\"}, \"xaxis\": {\"gridcolor\": \"#343434\", \"showgrid\": true, \"tickfont\": {\"color\": \"#A4A4A4\"}, \"title\": {\"font\": {\"color\": \"#A4A4A4\"}, \"text\": \"\"}, \"zerolinecolor\": \"#444444\"}, \"yaxis\": {\"gridcolor\": \"#343434\", \"showgrid\": true, \"tickfont\": {\"color\": \"#A4A4A4\"}, \"title\": {\"font\": {\"color\": \"#A4A4A4\"}, \"text\": \"Year\"}, \"zerolinecolor\": \"#444444\"}},\n",
       "                        {\"showLink\": true, \"linkText\": \"Export to plot.ly\", \"plotlyServerURL\": \"https://plot.ly\", \"responsive\": true}\n",
       "                    )\n",
       "                };\n",
       "                });\n",
       "            </script>\n",
       "        </div>"
      ]
     },
     "metadata": {},
     "output_type": "display_data"
    }
   ],
   "source": [
    "countries_to_plot = ['United States']\n",
    "\n",
    "df_wide_GDP[countries_to_plot].iplot(kind='bar', \n",
    "            yTitle='Year', \n",
    "            theme='henanigans',\n",
    "            title='Basic Horizontal Bar Chart')"
   ]
  },
  {
   "cell_type": "markdown",
   "metadata": {},
   "source": [
    "# Grouped Bar Charts"
   ]
  },
  {
   "cell_type": "code",
   "execution_count": 12,
   "metadata": {},
   "outputs": [
    {
     "data": {
      "application/vnd.plotly.v1+json": {
       "config": {
        "linkText": "Export to plot.ly",
        "plotlyServerURL": "https://plot.ly",
        "responsive": true,
        "showLink": true
       },
       "data": [
        {
         "marker": {
          "color": "rgba(255, 153, 51, 0.6)",
          "line": {
           "color": "rgba(255, 153, 51, 1.0)",
           "width": 1
          }
         },
         "name": "United States",
         "orientation": "v",
         "text": "",
         "type": "bar",
         "uid": "5472b8fa-490b-4e8c-8b16-41f5ae955603",
         "x": [
          1952,
          1957,
          1962,
          1967,
          1972,
          1977,
          1982,
          1987,
          1992,
          1997,
          2002,
          2007
         ],
         "y": [
          13990.482080000002,
          14847.12712,
          16173.145859999999,
          19530.365569999998,
          21806.03594,
          24072.63213,
          25009.55914,
          29884.350410000003,
          32003.93224,
          35767.43303,
          39097.09955,
          42951.65309
         ]
        },
        {
         "marker": {
          "color": "rgba(55, 128, 191, 0.6)",
          "line": {
           "color": "rgba(55, 128, 191, 1.0)",
           "width": 1
          }
         },
         "name": "Canada",
         "orientation": "v",
         "text": "",
         "type": "bar",
         "uid": "0db0c273-90a5-427d-9437-4a9e5fd9d75f",
         "x": [
          1952,
          1957,
          1962,
          1967,
          1972,
          1977,
          1982,
          1987,
          1992,
          1997,
          2002,
          2007
         ],
         "y": [
          11367.16112,
          12489.95006,
          13462.48555,
          16076.58803,
          18970.57086,
          22090.88306,
          22898.79214,
          26626.515030000002,
          26342.88426,
          28954.92589,
          33328.96507,
          36319.235010000004
         ]
        },
        {
         "marker": {
          "color": "rgba(50, 171, 96, 0.6)",
          "line": {
           "color": "rgba(50, 171, 96, 1.0)",
           "width": 1
          }
         },
         "name": "Mexico",
         "orientation": "v",
         "text": "",
         "type": "bar",
         "uid": "863cba67-6617-4dd5-9eee-dd0801ac8cc4",
         "x": [
          1952,
          1957,
          1962,
          1967,
          1972,
          1977,
          1982,
          1987,
          1992,
          1997,
          2002,
          2007
         ],
         "y": [
          3478.125529,
          4131.546641,
          4581.609385,
          5754.733883,
          6809.406690000001,
          7674.929108,
          9611.147541,
          8688.156003,
          9472.384295,
          9767.29753,
          10742.44053,
          11977.57496
         ]
        },
        {
         "marker": {
          "color": "rgba(128, 0, 128, 0.6)",
          "line": {
           "color": "rgba(128, 0, 128, 1.0)",
           "width": 1
          }
         },
         "name": "Zimbabwe",
         "orientation": "v",
         "text": "",
         "type": "bar",
         "uid": "d7d5ad44-cd12-44ca-b5fa-e941c9bad653",
         "x": [
          1952,
          1957,
          1962,
          1967,
          1972,
          1977,
          1982,
          1987,
          1992,
          1997,
          2002,
          2007
         ],
         "y": [
          406.8841148,
          518.7642681,
          527.2721818,
          569.7950712,
          799.3621757999999,
          685.5876821,
          788.8550411,
          706.1573059,
          693.4207856,
          792.4499602999999,
          672.0386227000001,
          469.70929810000007
         ]
        },
        {
         "marker": {
          "color": "rgba(219, 64, 82, 0.6)",
          "line": {
           "color": "rgba(219, 64, 82, 1.0)",
           "width": 1
          }
         },
         "name": "Vietnam",
         "orientation": "v",
         "text": "",
         "type": "bar",
         "uid": "21543a9a-4491-4563-9a8f-f8c2b9bf0be9",
         "x": [
          1952,
          1957,
          1962,
          1967,
          1972,
          1977,
          1982,
          1987,
          1992,
          1997,
          2002,
          2007
         ],
         "y": [
          605.0664917,
          676.2854477999999,
          772.0491602000001,
          637.1232887,
          699.5016441,
          713.5371196000001,
          707.2357863,
          820.7994449,
          989.0231487,
          1385.896769,
          1764.456677,
          2441.576404
         ]
        }
       ],
       "layout": {
        "barmode": "group",
        "legend": {
         "bgcolor": "#151516",
         "font": {
          "color": "#D9D9D9"
         }
        },
        "paper_bgcolor": "#151516",
        "plot_bgcolor": "#151516",
        "title": {
         "font": {
          "color": "#D9D9D9"
         },
         "text": "Grouped Bar Chart"
        },
        "xaxis": {
         "gridcolor": "#434343",
         "showgrid": true,
         "tickfont": {
          "color": "#C2C2C2"
         },
         "title": {
          "font": {
           "color": "#D9D9D9"
          },
          "text": ""
         },
         "zerolinecolor": "#666570"
        },
        "yaxis": {
         "gridcolor": "#434343",
         "showgrid": true,
         "tickfont": {
          "color": "#C2C2C2"
         },
         "title": {
          "font": {
           "color": "#D9D9D9"
          },
          "text": ""
         },
         "zerolinecolor": "#666570"
        }
       }
      },
      "text/html": [
       "<div>\n",
       "        \n",
       "        \n",
       "            <div id=\"4f070021-a4bc-4a4b-b92d-162df95f1d92\" class=\"plotly-graph-div\"></div>\n",
       "            <script type=\"text/javascript\">\n",
       "                require([\"plotly\"], function(Plotly) {\n",
       "                    window.PLOTLYENV=window.PLOTLYENV || {};\n",
       "                    window.PLOTLYENV.BASE_URL='https://plot.ly';\n",
       "                    \n",
       "                if (document.getElementById(\"4f070021-a4bc-4a4b-b92d-162df95f1d92\")) {\n",
       "                    Plotly.newPlot(\n",
       "                        '4f070021-a4bc-4a4b-b92d-162df95f1d92',\n",
       "                        [{\"marker\": {\"color\": \"rgba(255, 153, 51, 0.6)\", \"line\": {\"color\": \"rgba(255, 153, 51, 1.0)\", \"width\": 1}}, \"name\": \"United States\", \"orientation\": \"v\", \"text\": \"\", \"type\": \"bar\", \"uid\": \"5181604e-47fa-4ef6-80ee-b9d5bd107237\", \"x\": [1952, 1957, 1962, 1967, 1972, 1977, 1982, 1987, 1992, 1997, 2002, 2007], \"y\": [13990.482080000002, 14847.12712, 16173.145859999999, 19530.365569999998, 21806.03594, 24072.63213, 25009.55914, 29884.350410000003, 32003.93224, 35767.43303, 39097.09955, 42951.65309]}, {\"marker\": {\"color\": \"rgba(55, 128, 191, 0.6)\", \"line\": {\"color\": \"rgba(55, 128, 191, 1.0)\", \"width\": 1}}, \"name\": \"Canada\", \"orientation\": \"v\", \"text\": \"\", \"type\": \"bar\", \"uid\": \"bc10948c-90eb-4d97-b845-a41190de7a26\", \"x\": [1952, 1957, 1962, 1967, 1972, 1977, 1982, 1987, 1992, 1997, 2002, 2007], \"y\": [11367.16112, 12489.95006, 13462.48555, 16076.58803, 18970.57086, 22090.88306, 22898.79214, 26626.515030000002, 26342.88426, 28954.92589, 33328.96507, 36319.235010000004]}, {\"marker\": {\"color\": \"rgba(50, 171, 96, 0.6)\", \"line\": {\"color\": \"rgba(50, 171, 96, 1.0)\", \"width\": 1}}, \"name\": \"Mexico\", \"orientation\": \"v\", \"text\": \"\", \"type\": \"bar\", \"uid\": \"fd597f82-0634-4c8f-9561-77ae83e1d909\", \"x\": [1952, 1957, 1962, 1967, 1972, 1977, 1982, 1987, 1992, 1997, 2002, 2007], \"y\": [3478.125529, 4131.546641, 4581.609385, 5754.733883, 6809.406690000001, 7674.929108, 9611.147541, 8688.156003, 9472.384295, 9767.29753, 10742.44053, 11977.57496]}, {\"marker\": {\"color\": \"rgba(128, 0, 128, 0.6)\", \"line\": {\"color\": \"rgba(128, 0, 128, 1.0)\", \"width\": 1}}, \"name\": \"Zimbabwe\", \"orientation\": \"v\", \"text\": \"\", \"type\": \"bar\", \"uid\": \"b03337ea-6e55-48a4-a3ab-7aeae202cf22\", \"x\": [1952, 1957, 1962, 1967, 1972, 1977, 1982, 1987, 1992, 1997, 2002, 2007], \"y\": [406.8841148, 518.7642681, 527.2721818, 569.7950712, 799.3621757999999, 685.5876821, 788.8550411, 706.1573059, 693.4207856, 792.4499602999999, 672.0386227000001, 469.70929810000007]}, {\"marker\": {\"color\": \"rgba(219, 64, 82, 0.6)\", \"line\": {\"color\": \"rgba(219, 64, 82, 1.0)\", \"width\": 1}}, \"name\": \"Vietnam\", \"orientation\": \"v\", \"text\": \"\", \"type\": \"bar\", \"uid\": \"7db37e7f-d839-4b52-bd31-0280906fc0f6\", \"x\": [1952, 1957, 1962, 1967, 1972, 1977, 1982, 1987, 1992, 1997, 2002, 2007], \"y\": [605.0664917, 676.2854477999999, 772.0491602000001, 637.1232887, 699.5016441, 713.5371196000001, 707.2357863, 820.7994449, 989.0231487, 1385.896769, 1764.456677, 2441.576404]}],\n",
       "                        {\"barmode\": \"group\", \"legend\": {\"bgcolor\": \"#151516\", \"font\": {\"color\": \"#D9D9D9\"}}, \"paper_bgcolor\": \"#151516\", \"plot_bgcolor\": \"#151516\", \"title\": {\"font\": {\"color\": \"#D9D9D9\"}, \"text\": \"Grouped Bar Chart\"}, \"xaxis\": {\"gridcolor\": \"#434343\", \"showgrid\": true, \"tickfont\": {\"color\": \"#C2C2C2\"}, \"title\": {\"font\": {\"color\": \"#D9D9D9\"}, \"text\": \"\"}, \"zerolinecolor\": \"#666570\"}, \"yaxis\": {\"gridcolor\": \"#434343\", \"showgrid\": true, \"tickfont\": {\"color\": \"#C2C2C2\"}, \"title\": {\"font\": {\"color\": \"#D9D9D9\"}, \"text\": \"\"}, \"zerolinecolor\": \"#666570\"}},\n",
       "                        {\"showLink\": true, \"linkText\": \"Export to plot.ly\", \"plotlyServerURL\": \"https://plot.ly\", \"responsive\": true}\n",
       "                    )\n",
       "                };\n",
       "                });\n",
       "            </script>\n",
       "        </div>"
      ]
     },
     "metadata": {},
     "output_type": "display_data"
    }
   ],
   "source": [
    "# Create a List filled with the countries to plot\n",
    "countries_to_plot = ['United States', 'Canada', 'Mexico', 'Zimbabwe', 'Vietnam']\n",
    "\n",
    "# plot the countries \n",
    "df_wide_GDP[countries_to_plot].iplot(kind='bar',\n",
    "                                     barmode='group',\n",
    "                                     theme='solar',\n",
    "                                     title='Grouped Bar Chart')"
   ]
  },
  {
   "cell_type": "markdown",
   "metadata": {},
   "source": [
    "# Stacked Bar Charts"
   ]
  },
  {
   "cell_type": "markdown",
   "metadata": {},
   "source": [
    "### Vertical Stacked Bar Chart"
   ]
  },
  {
   "cell_type": "code",
   "execution_count": 13,
   "metadata": {},
   "outputs": [
    {
     "data": {
      "application/vnd.plotly.v1+json": {
       "config": {
        "linkText": "Export to plot.ly",
        "plotlyServerURL": "https://plot.ly",
        "responsive": true,
        "showLink": true
       },
       "data": [
        {
         "marker": {
          "color": "rgba(255, 153, 51, 0.6)",
          "line": {
           "color": "rgba(255, 153, 51, 1.0)",
           "width": 1
          }
         },
         "name": "United States",
         "orientation": "h",
         "text": "",
         "type": "bar",
         "uid": "a6fb1ad4-6703-4674-9e9f-d2cd12fa5aaa",
         "x": [
          13990.482080000002,
          14847.12712,
          16173.145859999999,
          19530.365569999998,
          21806.03594,
          24072.63213,
          25009.55914,
          29884.350410000003,
          32003.93224,
          35767.43303,
          39097.09955,
          42951.65309
         ],
         "y": [
          1952,
          1957,
          1962,
          1967,
          1972,
          1977,
          1982,
          1987,
          1992,
          1997,
          2002,
          2007
         ]
        },
        {
         "marker": {
          "color": "rgba(55, 128, 191, 0.6)",
          "line": {
           "color": "rgba(55, 128, 191, 1.0)",
           "width": 1
          }
         },
         "name": "Canada",
         "orientation": "h",
         "text": "",
         "type": "bar",
         "uid": "be579c88-e0e9-4577-8034-37f09925d622",
         "x": [
          11367.16112,
          12489.95006,
          13462.48555,
          16076.58803,
          18970.57086,
          22090.88306,
          22898.79214,
          26626.515030000002,
          26342.88426,
          28954.92589,
          33328.96507,
          36319.235010000004
         ],
         "y": [
          1952,
          1957,
          1962,
          1967,
          1972,
          1977,
          1982,
          1987,
          1992,
          1997,
          2002,
          2007
         ]
        },
        {
         "marker": {
          "color": "rgba(50, 171, 96, 0.6)",
          "line": {
           "color": "rgba(50, 171, 96, 1.0)",
           "width": 1
          }
         },
         "name": "Mexico",
         "orientation": "h",
         "text": "",
         "type": "bar",
         "uid": "d64386ff-1629-4ac9-99d1-0995cdeabf88",
         "x": [
          3478.125529,
          4131.546641,
          4581.609385,
          5754.733883,
          6809.406690000001,
          7674.929108,
          9611.147541,
          8688.156003,
          9472.384295,
          9767.29753,
          10742.44053,
          11977.57496
         ],
         "y": [
          1952,
          1957,
          1962,
          1967,
          1972,
          1977,
          1982,
          1987,
          1992,
          1997,
          2002,
          2007
         ]
        },
        {
         "marker": {
          "color": "rgba(128, 0, 128, 0.6)",
          "line": {
           "color": "rgba(128, 0, 128, 1.0)",
           "width": 1
          }
         },
         "name": "Zimbabwe",
         "orientation": "h",
         "text": "",
         "type": "bar",
         "uid": "b4c5cb84-e11d-4b83-84d2-15aa4f76857f",
         "x": [
          406.8841148,
          518.7642681,
          527.2721818,
          569.7950712,
          799.3621757999999,
          685.5876821,
          788.8550411,
          706.1573059,
          693.4207856,
          792.4499602999999,
          672.0386227000001,
          469.70929810000007
         ],
         "y": [
          1952,
          1957,
          1962,
          1967,
          1972,
          1977,
          1982,
          1987,
          1992,
          1997,
          2002,
          2007
         ]
        },
        {
         "marker": {
          "color": "rgba(219, 64, 82, 0.6)",
          "line": {
           "color": "rgba(219, 64, 82, 1.0)",
           "width": 1
          }
         },
         "name": "Vietnam",
         "orientation": "h",
         "text": "",
         "type": "bar",
         "uid": "1fa12ae9-8e88-48f5-98e8-48126e527c59",
         "x": [
          605.0664917,
          676.2854477999999,
          772.0491602000001,
          637.1232887,
          699.5016441,
          713.5371196000001,
          707.2357863,
          820.7994449,
          989.0231487,
          1385.896769,
          1764.456677,
          2441.576404
         ],
         "y": [
          1952,
          1957,
          1962,
          1967,
          1972,
          1977,
          1982,
          1987,
          1992,
          1997,
          2002,
          2007
         ]
        }
       ],
       "layout": {
        "bargap": 0.5,
        "barmode": "stack",
        "legend": {
         "bgcolor": "#242424",
         "font": {
          "color": "#F4F4F4"
         },
         "traceorder": "normal"
        },
        "paper_bgcolor": "#242424",
        "plot_bgcolor": "#242424",
        "title": {
         "font": {
          "color": "#F4F4F4"
         },
         "text": "Vertical Stacked Bar Chart"
        },
        "xaxis": {
         "gridcolor": "#343434",
         "showgrid": true,
         "tickfont": {
          "color": "#A4A4A4"
         },
         "title": {
          "font": {
           "color": "#A4A4A4"
          },
          "text": ""
         },
         "zerolinecolor": "#444444"
        },
        "yaxis": {
         "gridcolor": "#343434",
         "showgrid": true,
         "tickfont": {
          "color": "#A4A4A4"
         },
         "title": {
          "font": {
           "color": "#A4A4A4"
          },
          "text": ""
         },
         "zerolinecolor": "#444444"
        }
       }
      },
      "text/html": [
       "<div>\n",
       "        \n",
       "        \n",
       "            <div id=\"c7ccbc9c-9ba4-4dde-bb4d-721af475b62c\" class=\"plotly-graph-div\"></div>\n",
       "            <script type=\"text/javascript\">\n",
       "                require([\"plotly\"], function(Plotly) {\n",
       "                    window.PLOTLYENV=window.PLOTLYENV || {};\n",
       "                    window.PLOTLYENV.BASE_URL='https://plot.ly';\n",
       "                    \n",
       "                if (document.getElementById(\"c7ccbc9c-9ba4-4dde-bb4d-721af475b62c\")) {\n",
       "                    Plotly.newPlot(\n",
       "                        'c7ccbc9c-9ba4-4dde-bb4d-721af475b62c',\n",
       "                        [{\"marker\": {\"color\": \"rgba(255, 153, 51, 0.6)\", \"line\": {\"color\": \"rgba(255, 153, 51, 1.0)\", \"width\": 1}}, \"name\": \"United States\", \"orientation\": \"h\", \"text\": \"\", \"type\": \"bar\", \"uid\": \"6e4acdda-2999-4d1a-8ef5-cb5c99b8a993\", \"x\": [13990.482080000002, 14847.12712, 16173.145859999999, 19530.365569999998, 21806.03594, 24072.63213, 25009.55914, 29884.350410000003, 32003.93224, 35767.43303, 39097.09955, 42951.65309], \"y\": [1952, 1957, 1962, 1967, 1972, 1977, 1982, 1987, 1992, 1997, 2002, 2007]}, {\"marker\": {\"color\": \"rgba(55, 128, 191, 0.6)\", \"line\": {\"color\": \"rgba(55, 128, 191, 1.0)\", \"width\": 1}}, \"name\": \"Canada\", \"orientation\": \"h\", \"text\": \"\", \"type\": \"bar\", \"uid\": \"8dc96f42-8665-48dc-bfab-a96da599f471\", \"x\": [11367.16112, 12489.95006, 13462.48555, 16076.58803, 18970.57086, 22090.88306, 22898.79214, 26626.515030000002, 26342.88426, 28954.92589, 33328.96507, 36319.235010000004], \"y\": [1952, 1957, 1962, 1967, 1972, 1977, 1982, 1987, 1992, 1997, 2002, 2007]}, {\"marker\": {\"color\": \"rgba(50, 171, 96, 0.6)\", \"line\": {\"color\": \"rgba(50, 171, 96, 1.0)\", \"width\": 1}}, \"name\": \"Mexico\", \"orientation\": \"h\", \"text\": \"\", \"type\": \"bar\", \"uid\": \"1f059053-db31-4b46-9ddd-8517ae924d5e\", \"x\": [3478.125529, 4131.546641, 4581.609385, 5754.733883, 6809.406690000001, 7674.929108, 9611.147541, 8688.156003, 9472.384295, 9767.29753, 10742.44053, 11977.57496], \"y\": [1952, 1957, 1962, 1967, 1972, 1977, 1982, 1987, 1992, 1997, 2002, 2007]}, {\"marker\": {\"color\": \"rgba(128, 0, 128, 0.6)\", \"line\": {\"color\": \"rgba(128, 0, 128, 1.0)\", \"width\": 1}}, \"name\": \"Zimbabwe\", \"orientation\": \"h\", \"text\": \"\", \"type\": \"bar\", \"uid\": \"261082de-e9bf-4924-acca-e2fa7522c457\", \"x\": [406.8841148, 518.7642681, 527.2721818, 569.7950712, 799.3621757999999, 685.5876821, 788.8550411, 706.1573059, 693.4207856, 792.4499602999999, 672.0386227000001, 469.70929810000007], \"y\": [1952, 1957, 1962, 1967, 1972, 1977, 1982, 1987, 1992, 1997, 2002, 2007]}, {\"marker\": {\"color\": \"rgba(219, 64, 82, 0.6)\", \"line\": {\"color\": \"rgba(219, 64, 82, 1.0)\", \"width\": 1}}, \"name\": \"Vietnam\", \"orientation\": \"h\", \"text\": \"\", \"type\": \"bar\", \"uid\": \"ebeb4e31-c53a-4657-ab9a-0077400639ac\", \"x\": [605.0664917, 676.2854477999999, 772.0491602000001, 637.1232887, 699.5016441, 713.5371196000001, 707.2357863, 820.7994449, 989.0231487, 1385.896769, 1764.456677, 2441.576404], \"y\": [1952, 1957, 1962, 1967, 1972, 1977, 1982, 1987, 1992, 1997, 2002, 2007]}],\n",
       "                        {\"bargap\": 0.5, \"barmode\": \"stack\", \"legend\": {\"bgcolor\": \"#242424\", \"font\": {\"color\": \"#F4F4F4\"}, \"traceorder\": \"normal\"}, \"paper_bgcolor\": \"#242424\", \"plot_bgcolor\": \"#242424\", \"title\": {\"font\": {\"color\": \"#F4F4F4\"}, \"text\": \"Vertical Stacked Bar Chart\"}, \"xaxis\": {\"gridcolor\": \"#343434\", \"showgrid\": true, \"tickfont\": {\"color\": \"#A4A4A4\"}, \"title\": {\"font\": {\"color\": \"#A4A4A4\"}, \"text\": \"\"}, \"zerolinecolor\": \"#444444\"}, \"yaxis\": {\"gridcolor\": \"#343434\", \"showgrid\": true, \"tickfont\": {\"color\": \"#A4A4A4\"}, \"title\": {\"font\": {\"color\": \"#A4A4A4\"}, \"text\": \"\"}, \"zerolinecolor\": \"#444444\"}},\n",
       "                        {\"showLink\": true, \"linkText\": \"Export to plot.ly\", \"plotlyServerURL\": \"https://plot.ly\", \"responsive\": true}\n",
       "                    )\n",
       "                };\n",
       "                });\n",
       "            </script>\n",
       "        </div>"
      ]
     },
     "metadata": {},
     "output_type": "display_data"
    }
   ],
   "source": [
    "countries_to_plot = ['United States', 'Canada', 'Mexico', 'Zimbabwe', 'Vietnam']\n",
    "df_wide_GDP[countries_to_plot].iplot(kind='barh', \n",
    "                                     barmode='stack',\n",
    "                                     bargap= .5,\n",
    "                                     theme='henanigans',\n",
    "                                     title='Vertical Stacked Bar Chart')"
   ]
  },
  {
   "cell_type": "markdown",
   "metadata": {},
   "source": [
    "### Horizontal Stacked Bar Chart"
   ]
  },
  {
   "cell_type": "code",
   "execution_count": 14,
   "metadata": {},
   "outputs": [
    {
     "data": {
      "application/vnd.plotly.v1+json": {
       "config": {
        "linkText": "Export to plot.ly",
        "plotlyServerURL": "https://plot.ly",
        "responsive": true,
        "showLink": true
       },
       "data": [
        {
         "marker": {
          "color": "rgba(255, 153, 51, 0.6)",
          "line": {
           "color": "rgba(255, 153, 51, 1.0)",
           "width": 1
          }
         },
         "name": "United States",
         "orientation": "v",
         "text": "",
         "type": "bar",
         "uid": "16a51346-949e-40a5-b4ec-1c2bea7844bc",
         "x": [
          1952,
          1957,
          1962,
          1967,
          1972,
          1977,
          1982,
          1987,
          1992,
          1997,
          2002,
          2007
         ],
         "y": [
          13990.482080000002,
          14847.12712,
          16173.145859999999,
          19530.365569999998,
          21806.03594,
          24072.63213,
          25009.55914,
          29884.350410000003,
          32003.93224,
          35767.43303,
          39097.09955,
          42951.65309
         ]
        },
        {
         "marker": {
          "color": "rgba(55, 128, 191, 0.6)",
          "line": {
           "color": "rgba(55, 128, 191, 1.0)",
           "width": 1
          }
         },
         "name": "Canada",
         "orientation": "v",
         "text": "",
         "type": "bar",
         "uid": "1660fc14-6823-4011-9750-0e63b951d297",
         "x": [
          1952,
          1957,
          1962,
          1967,
          1972,
          1977,
          1982,
          1987,
          1992,
          1997,
          2002,
          2007
         ],
         "y": [
          11367.16112,
          12489.95006,
          13462.48555,
          16076.58803,
          18970.57086,
          22090.88306,
          22898.79214,
          26626.515030000002,
          26342.88426,
          28954.92589,
          33328.96507,
          36319.235010000004
         ]
        },
        {
         "marker": {
          "color": "rgba(50, 171, 96, 0.6)",
          "line": {
           "color": "rgba(50, 171, 96, 1.0)",
           "width": 1
          }
         },
         "name": "Mexico",
         "orientation": "v",
         "text": "",
         "type": "bar",
         "uid": "28939d42-cbca-4b0c-b84a-4f28ac489396",
         "x": [
          1952,
          1957,
          1962,
          1967,
          1972,
          1977,
          1982,
          1987,
          1992,
          1997,
          2002,
          2007
         ],
         "y": [
          3478.125529,
          4131.546641,
          4581.609385,
          5754.733883,
          6809.406690000001,
          7674.929108,
          9611.147541,
          8688.156003,
          9472.384295,
          9767.29753,
          10742.44053,
          11977.57496
         ]
        },
        {
         "marker": {
          "color": "rgba(128, 0, 128, 0.6)",
          "line": {
           "color": "rgba(128, 0, 128, 1.0)",
           "width": 1
          }
         },
         "name": "Zimbabwe",
         "orientation": "v",
         "text": "",
         "type": "bar",
         "uid": "f2c2752c-4b77-402c-bbbe-94e6305030b5",
         "x": [
          1952,
          1957,
          1962,
          1967,
          1972,
          1977,
          1982,
          1987,
          1992,
          1997,
          2002,
          2007
         ],
         "y": [
          406.8841148,
          518.7642681,
          527.2721818,
          569.7950712,
          799.3621757999999,
          685.5876821,
          788.8550411,
          706.1573059,
          693.4207856,
          792.4499602999999,
          672.0386227000001,
          469.70929810000007
         ]
        },
        {
         "marker": {
          "color": "rgba(219, 64, 82, 0.6)",
          "line": {
           "color": "rgba(219, 64, 82, 1.0)",
           "width": 1
          }
         },
         "name": "Vietnam",
         "orientation": "v",
         "text": "",
         "type": "bar",
         "uid": "b0d2abe7-820a-464d-844a-4c19285fc9af",
         "x": [
          1952,
          1957,
          1962,
          1967,
          1972,
          1977,
          1982,
          1987,
          1992,
          1997,
          2002,
          2007
         ],
         "y": [
          605.0664917,
          676.2854477999999,
          772.0491602000001,
          637.1232887,
          699.5016441,
          713.5371196000001,
          707.2357863,
          820.7994449,
          989.0231487,
          1385.896769,
          1764.456677,
          2441.576404
         ]
        }
       ],
       "layout": {
        "bargap": 0.5,
        "barmode": "stack",
        "legend": {
         "bgcolor": "#F5F6F9",
         "font": {
          "color": "#4D5663"
         },
         "traceorder": "normal"
        },
        "paper_bgcolor": "#F5F6F9",
        "plot_bgcolor": "#F5F6F9",
        "title": {
         "font": {
          "color": "#4D5663"
         },
         "text": "Horizontal Stacked Bar Chart"
        },
        "xaxis": {
         "gridcolor": "#E1E5ED",
         "showgrid": true,
         "tickfont": {
          "color": "#4D5663"
         },
         "title": {
          "font": {
           "color": "#4D5663"
          },
          "text": ""
         },
         "zerolinecolor": "#E1E5ED"
        },
        "yaxis": {
         "gridcolor": "#E1E5ED",
         "showgrid": true,
         "tickfont": {
          "color": "#4D5663"
         },
         "title": {
          "font": {
           "color": "#4D5663"
          },
          "text": ""
         },
         "zerolinecolor": "#E1E5ED"
        }
       }
      },
      "text/html": [
       "<div>\n",
       "        \n",
       "        \n",
       "            <div id=\"f2b5216d-5a33-43fe-a68a-e42b2c1683d9\" class=\"plotly-graph-div\"></div>\n",
       "            <script type=\"text/javascript\">\n",
       "                require([\"plotly\"], function(Plotly) {\n",
       "                    window.PLOTLYENV=window.PLOTLYENV || {};\n",
       "                    window.PLOTLYENV.BASE_URL='https://plot.ly';\n",
       "                    \n",
       "                if (document.getElementById(\"f2b5216d-5a33-43fe-a68a-e42b2c1683d9\")) {\n",
       "                    Plotly.newPlot(\n",
       "                        'f2b5216d-5a33-43fe-a68a-e42b2c1683d9',\n",
       "                        [{\"marker\": {\"color\": \"rgba(255, 153, 51, 0.6)\", \"line\": {\"color\": \"rgba(255, 153, 51, 1.0)\", \"width\": 1}}, \"name\": \"United States\", \"orientation\": \"v\", \"text\": \"\", \"type\": \"bar\", \"uid\": \"3bf4b759-e65a-4674-aed3-d2b13ff27b88\", \"x\": [1952, 1957, 1962, 1967, 1972, 1977, 1982, 1987, 1992, 1997, 2002, 2007], \"y\": [13990.482080000002, 14847.12712, 16173.145859999999, 19530.365569999998, 21806.03594, 24072.63213, 25009.55914, 29884.350410000003, 32003.93224, 35767.43303, 39097.09955, 42951.65309]}, {\"marker\": {\"color\": \"rgba(55, 128, 191, 0.6)\", \"line\": {\"color\": \"rgba(55, 128, 191, 1.0)\", \"width\": 1}}, \"name\": \"Canada\", \"orientation\": \"v\", \"text\": \"\", \"type\": \"bar\", \"uid\": \"3339a6bb-992b-4d58-a628-30e07049b791\", \"x\": [1952, 1957, 1962, 1967, 1972, 1977, 1982, 1987, 1992, 1997, 2002, 2007], \"y\": [11367.16112, 12489.95006, 13462.48555, 16076.58803, 18970.57086, 22090.88306, 22898.79214, 26626.515030000002, 26342.88426, 28954.92589, 33328.96507, 36319.235010000004]}, {\"marker\": {\"color\": \"rgba(50, 171, 96, 0.6)\", \"line\": {\"color\": \"rgba(50, 171, 96, 1.0)\", \"width\": 1}}, \"name\": \"Mexico\", \"orientation\": \"v\", \"text\": \"\", \"type\": \"bar\", \"uid\": \"7e828c33-ab5c-4cd0-99fb-998c7d546c22\", \"x\": [1952, 1957, 1962, 1967, 1972, 1977, 1982, 1987, 1992, 1997, 2002, 2007], \"y\": [3478.125529, 4131.546641, 4581.609385, 5754.733883, 6809.406690000001, 7674.929108, 9611.147541, 8688.156003, 9472.384295, 9767.29753, 10742.44053, 11977.57496]}, {\"marker\": {\"color\": \"rgba(128, 0, 128, 0.6)\", \"line\": {\"color\": \"rgba(128, 0, 128, 1.0)\", \"width\": 1}}, \"name\": \"Zimbabwe\", \"orientation\": \"v\", \"text\": \"\", \"type\": \"bar\", \"uid\": \"25c45131-dfde-4405-946d-78eb83ec53ed\", \"x\": [1952, 1957, 1962, 1967, 1972, 1977, 1982, 1987, 1992, 1997, 2002, 2007], \"y\": [406.8841148, 518.7642681, 527.2721818, 569.7950712, 799.3621757999999, 685.5876821, 788.8550411, 706.1573059, 693.4207856, 792.4499602999999, 672.0386227000001, 469.70929810000007]}, {\"marker\": {\"color\": \"rgba(219, 64, 82, 0.6)\", \"line\": {\"color\": \"rgba(219, 64, 82, 1.0)\", \"width\": 1}}, \"name\": \"Vietnam\", \"orientation\": \"v\", \"text\": \"\", \"type\": \"bar\", \"uid\": \"cd685b98-4f7a-4a12-a0a6-a2d52a4b227e\", \"x\": [1952, 1957, 1962, 1967, 1972, 1977, 1982, 1987, 1992, 1997, 2002, 2007], \"y\": [605.0664917, 676.2854477999999, 772.0491602000001, 637.1232887, 699.5016441, 713.5371196000001, 707.2357863, 820.7994449, 989.0231487, 1385.896769, 1764.456677, 2441.576404]}],\n",
       "                        {\"bargap\": 0.5, \"barmode\": \"stack\", \"legend\": {\"bgcolor\": \"#F5F6F9\", \"font\": {\"color\": \"#4D5663\"}, \"traceorder\": \"normal\"}, \"paper_bgcolor\": \"#F5F6F9\", \"plot_bgcolor\": \"#F5F6F9\", \"title\": {\"font\": {\"color\": \"#4D5663\"}, \"text\": \"Horizontal Stacked Bar Chart\"}, \"xaxis\": {\"gridcolor\": \"#E1E5ED\", \"showgrid\": true, \"tickfont\": {\"color\": \"#4D5663\"}, \"title\": {\"font\": {\"color\": \"#4D5663\"}, \"text\": \"\"}, \"zerolinecolor\": \"#E1E5ED\"}, \"yaxis\": {\"gridcolor\": \"#E1E5ED\", \"showgrid\": true, \"tickfont\": {\"color\": \"#4D5663\"}, \"title\": {\"font\": {\"color\": \"#4D5663\"}, \"text\": \"\"}, \"zerolinecolor\": \"#E1E5ED\"}},\n",
       "                        {\"showLink\": true, \"linkText\": \"Export to plot.ly\", \"plotlyServerURL\": \"https://plot.ly\", \"responsive\": true}\n",
       "                    )\n",
       "                };\n",
       "                });\n",
       "            </script>\n",
       "        </div>"
      ]
     },
     "metadata": {},
     "output_type": "display_data"
    }
   ],
   "source": [
    "df_wide_GDP[countries_to_plot].iplot(kind='bar', \n",
    "                                     barmode='stack', \n",
    "                                     bargap=.5,\n",
    "                                     title='Horizontal Stacked Bar Chart')"
   ]
  }
 ],
 "metadata": {
  "kernelspec": {
   "display_name": "Python 3",
   "language": "python",
   "name": "python3"
  },
  "language_info": {
   "codemirror_mode": {
    "name": "ipython",
    "version": 3
   },
   "file_extension": ".py",
   "mimetype": "text/x-python",
   "name": "python",
   "nbconvert_exporter": "python",
   "pygments_lexer": "ipython3",
   "version": "3.7.0"
  }
 },
 "nbformat": 4,
 "nbformat_minor": 2
}
