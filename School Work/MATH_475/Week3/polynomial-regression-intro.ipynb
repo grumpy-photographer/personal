{
 "cells": [
  {
   "cell_type": "markdown",
   "metadata": {},
   "source": [
    "# Item 1"
   ]
  },
  {
   "cell_type": "markdown",
   "metadata": {},
   "source": [
    "## The Challenge\n",
    "\n",
    "An eccentric but wealthy investor has spent millions of dollars building a flying saucer prototype. He is offering a prize of 10 Bitcoin to the person who can come up with a mathematical model that best predicts the flying saucer's height (in meters) as a function of time during its initial launch.\n",
    "\n",
    "The data has been e-mailed to us as a .csv file called \"height_data_basic.csv\". It represents the height of the flying saucer(in meters) during the first 7 seconds of the saucer's launch. We have no other information. "
   ]
  },
  {
   "cell_type": "code",
   "execution_count": 1,
   "metadata": {
    "ExecuteTime": {
     "end_time": "2020-09-16T22:30:29.604270Z",
     "start_time": "2020-09-16T22:30:27.570247Z"
    }
   },
   "outputs": [],
   "source": [
    "import pandas as pd"
   ]
  },
  {
   "cell_type": "code",
   "execution_count": 2,
   "metadata": {
    "ExecuteTime": {
     "end_time": "2020-09-16T22:30:29.702896Z",
     "start_time": "2020-09-16T22:30:29.612283Z"
    }
   },
   "outputs": [
    {
     "data": {
      "text/html": [
       "<div>\n",
       "<style scoped>\n",
       "    .dataframe tbody tr th:only-of-type {\n",
       "        vertical-align: middle;\n",
       "    }\n",
       "\n",
       "    .dataframe tbody tr th {\n",
       "        vertical-align: top;\n",
       "    }\n",
       "\n",
       "    .dataframe thead th {\n",
       "        text-align: right;\n",
       "    }\n",
       "</style>\n",
       "<table border=\"1\" class=\"dataframe\">\n",
       "  <thead>\n",
       "    <tr style=\"text-align: right;\">\n",
       "      <th></th>\n",
       "      <th>Unnamed: 0</th>\n",
       "      <th>time</th>\n",
       "      <th>height</th>\n",
       "    </tr>\n",
       "  </thead>\n",
       "  <tbody>\n",
       "    <tr>\n",
       "      <th>0</th>\n",
       "      <td>0</td>\n",
       "      <td>0.009683</td>\n",
       "      <td>10.296167</td>\n",
       "    </tr>\n",
       "    <tr>\n",
       "      <th>1</th>\n",
       "      <td>1</td>\n",
       "      <td>0.018922</td>\n",
       "      <td>10.548359</td>\n",
       "    </tr>\n",
       "    <tr>\n",
       "      <th>2</th>\n",
       "      <td>2</td>\n",
       "      <td>0.027022</td>\n",
       "      <td>10.722826</td>\n",
       "    </tr>\n",
       "    <tr>\n",
       "      <th>3</th>\n",
       "      <td>3</td>\n",
       "      <td>0.032868</td>\n",
       "      <td>10.919808</td>\n",
       "    </tr>\n",
       "    <tr>\n",
       "      <th>4</th>\n",
       "      <td>4</td>\n",
       "      <td>0.055189</td>\n",
       "      <td>11.682872</td>\n",
       "    </tr>\n",
       "  </tbody>\n",
       "</table>\n",
       "</div>"
      ],
      "text/plain": [
       "   Unnamed: 0      time     height\n",
       "0           0  0.009683  10.296167\n",
       "1           1  0.018922  10.548359\n",
       "2           2  0.027022  10.722826\n",
       "3           3  0.032868  10.919808\n",
       "4           4  0.055189  11.682872"
      ]
     },
     "execution_count": 2,
     "metadata": {},
     "output_type": "execute_result"
    }
   ],
   "source": [
    "height_df = pd.read_csv(\"height_data_basic.csv\")\n",
    "height_df.head()"
   ]
  },
  {
   "cell_type": "code",
   "execution_count": 3,
   "metadata": {
    "ExecuteTime": {
     "end_time": "2020-09-16T22:30:29.756360Z",
     "start_time": "2020-09-16T22:30:29.711363Z"
    },
    "scrolled": true,
    "tags": []
   },
   "outputs": [
    {
     "name": "stdout",
     "output_type": "stream",
     "text": [
      "<class 'pandas.core.frame.DataFrame'>\n",
      "RangeIndex: 800 entries, 0 to 799\n",
      "Data columns (total 3 columns):\n",
      " #   Column      Non-Null Count  Dtype  \n",
      "---  ------      --------------  -----  \n",
      " 0   Unnamed: 0  800 non-null    int64  \n",
      " 1   time        800 non-null    float64\n",
      " 2   height      800 non-null    float64\n",
      "dtypes: float64(2), int64(1)\n",
      "memory usage: 18.8 KB\n"
     ]
    }
   ],
   "source": [
    "height_df.info()"
   ]
  },
  {
   "cell_type": "code",
   "execution_count": 4,
   "metadata": {
    "ExecuteTime": {
     "end_time": "2020-09-16T22:30:29.779359Z",
     "start_time": "2020-09-16T22:30:29.763361Z"
    }
   },
   "outputs": [],
   "source": [
    "time_data = height_df[\"time\"].values.reshape(-1, 1)"
   ]
  },
  {
   "cell_type": "code",
   "execution_count": 5,
   "metadata": {
    "ExecuteTime": {
     "end_time": "2020-09-16T22:30:29.828359Z",
     "start_time": "2020-09-16T22:30:29.787356Z"
    }
   },
   "outputs": [],
   "source": [
    "height_data = height_df[\"height\"]  # target -- No need to reshape"
   ]
  },
  {
   "cell_type": "markdown",
   "metadata": {},
   "source": [
    "Let's try plotting the data."
   ]
  },
  {
   "cell_type": "code",
   "execution_count": 6,
   "metadata": {
    "ExecuteTime": {
     "end_time": "2020-09-16T22:30:30.981751Z",
     "start_time": "2020-09-16T22:30:29.839356Z"
    }
   },
   "outputs": [],
   "source": [
    "import matplotlib.pyplot as plt"
   ]
  },
  {
   "cell_type": "code",
   "execution_count": 7,
   "metadata": {
    "ExecuteTime": {
     "end_time": "2020-09-16T22:30:31.704973Z",
     "start_time": "2020-09-16T22:30:31.000684Z"
    }
   },
   "outputs": [
    {
     "data": {
      "image/png": "[encoded data removed]",
      "text/plain": [
       "<Figure size 432x288 with 1 Axes>"
      ]
     },
     "metadata": {
      "needs_background": "light"
     },
     "output_type": "display_data"
    }
   ],
   "source": [
    "plt.scatter(time_data, height_data, marker=\".\", s=0.05)\n",
    "plt.xlabel(\"Time (seconds)\")\n",
    "plt.ylabel(\"Height (meters)\")\n",
    "plt.title(\"Position of Billionaire's Flying Saucer\")\n",
    "plt.grid(True)\n",
    "plt.show()"
   ]
  },
  {
   "cell_type": "markdown",
   "metadata": {},
   "source": [
    "Now let's look at the correlation (r correlation coefficient) between these two variables."
   ]
  },
  {
   "cell_type": "code",
   "execution_count": 8,
   "metadata": {
    "ExecuteTime": {
     "end_time": "2020-09-16T22:30:31.740748Z",
     "start_time": "2020-09-16T22:30:31.713666Z"
    }
   },
   "outputs": [
    {
     "data": {
      "text/plain": [
       "0.9968113239576213"
      ]
     },
     "execution_count": 8,
     "metadata": {},
     "output_type": "execute_result"
    }
   ],
   "source": [
    "height_df[\"time\"].corr(height_df[\"height\"])"
   ]
  },
  {
   "cell_type": "markdown",
   "metadata": {},
   "source": [
    "One thing we can do to avoid over-fitting on the training data is to split our data into training set and test set.\n",
    "\n",
    "We fit on training set, then we evaluate our model on the test set.\n",
    "\n",
    "Fit on training set better than fit on test set is a sign of potential over-fitting."
   ]
  },
  {
   "cell_type": "code",
   "execution_count": 9,
   "metadata": {
    "ExecuteTime": {
     "end_time": "2020-09-16T22:30:36.598446Z",
     "start_time": "2020-09-16T22:30:31.747752Z"
    }
   },
   "outputs": [],
   "source": [
    "from sklearn.model_selection import train_test_split\n",
    "from sklearn.linear_model import LinearRegression"
   ]
  },
  {
   "cell_type": "code",
   "execution_count": 10,
   "metadata": {
    "ExecuteTime": {
     "end_time": "2020-09-16T22:30:36.627375Z",
     "start_time": "2020-09-16T22:30:36.605678Z"
    }
   },
   "outputs": [],
   "source": [
    "time_train, time_test, height_train, height_test = train_test_split(\n",
    "    time_data, height_data, train_size=0.7)"
   ]
  },
  {
   "cell_type": "markdown",
   "metadata": {},
   "source": [
    "* * *\n",
    "\n",
    "# Item 2"
   ]
  },
  {
   "cell_type": "markdown",
   "metadata": {},
   "source": [
    "The first thing we will do is create a linear regression object."
   ]
  },
  {
   "cell_type": "code",
   "execution_count": 11,
   "metadata": {
    "ExecuteTime": {
     "end_time": "2020-09-16T22:30:36.659441Z",
     "start_time": "2020-09-16T22:30:36.635408Z"
    }
   },
   "outputs": [],
   "source": [
    "lm = LinearRegression()"
   ]
  },
  {
   "cell_type": "markdown",
   "metadata": {},
   "source": [
    "Fit the LinearRegression ONLY on the training data."
   ]
  },
  {
   "cell_type": "code",
   "execution_count": 12,
   "metadata": {
    "ExecuteTime": {
     "end_time": "2020-09-16T22:30:36.707452Z",
     "start_time": "2020-09-16T22:30:36.669443Z"
    }
   },
   "outputs": [
    {
     "data": {
      "text/plain": [
       "LinearRegression()"
      ]
     },
     "execution_count": 12,
     "metadata": {},
     "output_type": "execute_result"
    }
   ],
   "source": [
    "lm.fit(time_train, height_train)  # Fits linear model to train data"
   ]
  },
  {
   "cell_type": "markdown",
   "metadata": {},
   "source": [
    "The score method gives me the $r^2$ (coefficient of determination)."
   ]
  },
  {
   "cell_type": "markdown",
   "metadata": {},
   "source": [
    "$r^2$ takes values between 0 and 1.  It tells how well the proposed model fits the data."
   ]
  },
  {
   "cell_type": "code",
   "execution_count": 13,
   "metadata": {
    "ExecuteTime": {
     "end_time": "2020-09-16T22:30:36.749734Z",
     "start_time": "2020-09-16T22:30:36.720442Z"
    }
   },
   "outputs": [
    {
     "data": {
      "text/plain": [
       "0.9937646318183369"
      ]
     },
     "execution_count": 13,
     "metadata": {},
     "output_type": "execute_result"
    }
   ],
   "source": [
    "lm.score(time_train, height_train)  # Testing the fit on the training set."
   ]
  },
  {
   "cell_type": "code",
   "execution_count": 14,
   "metadata": {
    "ExecuteTime": {
     "end_time": "2020-09-16T22:30:36.790019Z",
     "start_time": "2020-09-16T22:30:36.759736Z"
    },
    "scrolled": true
   },
   "outputs": [
    {
     "data": {
      "text/plain": [
       "0.9932529799539069"
      ]
     },
     "execution_count": 14,
     "metadata": {},
     "output_type": "execute_result"
    }
   ],
   "source": [
    "lm.score(time_test, height_test)  # Testing the fit on the test set."
   ]
  },
  {
   "cell_type": "markdown",
   "metadata": {},
   "source": [
    "Looks awesome so far! Very high accuracy on both the training data and test data. We are on our way to 10 BTC!!!\n",
    "\n",
    "1. Plot the original scatter plot vs line of best fit\n",
    "\n",
    "2. Plot of x-input vs residuals\n",
    "\n",
    "3. Plot of actual value vs residuals"
   ]
  },
  {
   "cell_type": "code",
   "execution_count": 15,
   "metadata": {
    "ExecuteTime": {
     "end_time": "2020-09-16T22:30:36.830022Z",
     "start_time": "2020-09-16T22:30:36.798027Z"
    }
   },
   "outputs": [],
   "source": [
    "ht_pred = lm.predict(time_data)"
   ]
  },
  {
   "cell_type": "markdown",
   "metadata": {
    "jupyter": {
     "source_hidden": true
    }
   },
   "source": [
    "We should plot our line of best fit against our model."
   ]
  },
  {
   "cell_type": "code",
   "execution_count": 16,
   "metadata": {
    "ExecuteTime": {
     "end_time": "2020-09-16T22:30:37.575764Z",
     "start_time": "2020-09-16T22:30:36.838025Z"
    },
    "jupyter": {
     "outputs_hidden": true,
     "source_hidden": true
    },
    "scrolled": false
   },
   "outputs": [
    {
     "data": {
      "image/png": "[encoded data removed]",
      "text/plain": [
       "<Figure size 432x288 with 1 Axes>"
      ]
     },
     "metadata": {
      "needs_background": "light"
     },
     "output_type": "display_data"
    }
   ],
   "source": [
    "# Create scatter plot\n",
    "plt.scatter(height_df[\"time\"],\n",
    "            height_df[\"height\"],\n",
    "            0.05,\n",
    "            label=\"Actual Height\")\n",
    "\n",
    "# Create line plot\n",
    "plt.plot(height_df[\"time\"],\n",
    "         ht_pred,\n",
    "         color=\"red\",\n",
    "         label=\"Ordinary Regression Line\")\n",
    "\n",
    "# Edit axes\n",
    "plt.xlim(height_df[\"time\"].min() - 1,\n",
    "         height_df[\"time\"].max() + 1)  # change x-axis\n",
    "plt.ylim(height_df[\"height\"].min() - 1,\n",
    "         height_df[\"height\"].max() + 1)  # change y-axis\n",
    "\n",
    "# Print labels\n",
    "plt.legend()\n",
    "plt.show()"
   ]
  },
  {
   "cell_type": "markdown",
   "metadata": {},
   "source": [
    "Let's plot the **residuals** -- the difference between the observed value and the predicted value.\n",
    "\n",
    "If our linear model is accurate, *the residuals should show random ``noise.''"
   ]
  },
  {
   "cell_type": "code",
   "execution_count": 17,
   "metadata": {
    "ExecuteTime": {
     "end_time": "2020-09-16T22:30:37.640250Z",
     "start_time": "2020-09-16T22:30:37.583693Z"
    }
   },
   "outputs": [],
   "source": [
    "ht_residuals = height_data - ht_pred # actual(observed) - predicted"
   ]
  },
  {
   "cell_type": "code",
   "execution_count": 18,
   "metadata": {
    "ExecuteTime": {
     "end_time": "2020-09-16T22:30:37.719614Z",
     "start_time": "2020-09-16T22:30:37.648242Z"
    }
   },
   "outputs": [
    {
     "data": {
      "text/plain": [
       "0     -8.273878\n",
       "1     -8.233112\n",
       "2     -8.244005\n",
       "3     -8.180800\n",
       "4     -7.928516\n",
       "         ...   \n",
       "795   -7.057297\n",
       "796   -7.292221\n",
       "797   -7.464658\n",
       "798   -7.429931\n",
       "799   -7.466286\n",
       "Name: height, Length: 800, dtype: float64"
      ]
     },
     "execution_count": 18,
     "metadata": {},
     "output_type": "execute_result"
    }
   ],
   "source": [
    "# View residuals\n",
    "ht_residuals"
   ]
  },
  {
   "cell_type": "markdown",
   "metadata": {},
   "source": [
    "Plot the residuals against the time data"
   ]
  },
  {
   "cell_type": "code",
   "execution_count": 19,
   "metadata": {
    "ExecuteTime": {
     "end_time": "2020-09-16T22:30:38.318104Z",
     "start_time": "2020-09-16T22:30:37.736611Z"
    }
   },
   "outputs": [
    {
     "data": {
      "image/png": "[encoded data removed]",
      "text/plain": [
       "<Figure size 432x288 with 1 Axes>"
      ]
     },
     "metadata": {
      "needs_background": "light"
     },
     "output_type": "display_data"
    }
   ],
   "source": [
    "plt.scatter(time_data, ht_residuals, s = 0.05)\n",
    "plt.grid(True)\n",
    "plt.show()"
   ]
  },
  {
   "cell_type": "markdown",
   "metadata": {},
   "source": [
    "Uh-oh. Our residuals should show no clear pattern; this one clearly has a quadratic pattern. This tells us that we're missing some part of the data that would be explained by the quadratic."
   ]
  },
  {
   "cell_type": "markdown",
   "metadata": {},
   "source": [
    "We can also look at a plot of actual values vs. residuals. (This also works in higher dimensions.)"
   ]
  },
  {
   "cell_type": "markdown",
   "metadata": {},
   "source": [
    "* * *\n",
    " \n",
    "# Item 3"
   ]
  },
  {
   "cell_type": "code",
   "execution_count": 20,
   "metadata": {
    "ExecuteTime": {
     "end_time": "2020-09-16T22:30:39.088184Z",
     "start_time": "2020-09-16T22:30:38.326111Z"
    }
   },
   "outputs": [
    {
     "data": {
      "image/png": "[encoded data removed]",
      "text/plain": [
       "<Figure size 432x288 with 1 Axes>"
      ]
     },
     "metadata": {
      "needs_background": "light"
     },
     "output_type": "display_data"
    }
   ],
   "source": [
    "# plotting output v error\n",
    "plt.scatter(height_data, ht_residuals, label = \"residuals\")\n",
    "plt.axhline(y=0, color = 'red', label = 'y = 0') # see which residuals are positive/negative\n",
    "plt.legend()\n",
    "plt.show()"
   ]
  },
  {
   "cell_type": "markdown",
   "metadata": {},
   "source": [
    "This is a <span style = \"color: red\"> bad </span> model, despite the fact that there is a high fit. The residuals show a clear pattern. <h1> <span style = \"color:red\"> You  never want the residuals to show a clear pattern. If they do, this means there is some aspect of the data that your model is failing to capture. </span> </h1>\n",
    "\n",
    "For what comes next, it will be helpful to put our data columns separately from the original data frame.  \n",
    "\n",
    "We *should* really do a test-train split again, but we'll skip it this time since we're going to illustrate plenty. \n",
    "\n",
    "We can introduce higher-order terms for height by using the [PolynomialFeatures](https://scikit-learn.org/stable/modules/generated/sklearn.preprocessing.PolynomialFeatures.html) preprocessor in sklearn. "
   ]
  },
  {
   "cell_type": "code",
   "execution_count": 21,
   "metadata": {
    "ExecuteTime": {
     "end_time": "2020-09-16T22:30:39.116132Z",
     "start_time": "2020-09-16T22:30:39.100553Z"
    }
   },
   "outputs": [],
   "source": [
    "from sklearn.preprocessing import PolynomialFeatures\n",
    "import numpy as np"
   ]
  },
  {
   "cell_type": "code",
   "execution_count": 22,
   "metadata": {
    "ExecuteTime": {
     "end_time": "2020-09-16T22:30:39.147708Z",
     "start_time": "2020-09-16T22:30:39.124308Z"
    }
   },
   "outputs": [],
   "source": [
    "example = np.array([1, 2, 3]).reshape(-1,1)"
   ]
  },
  {
   "cell_type": "code",
   "execution_count": 23,
   "metadata": {
    "ExecuteTime": {
     "end_time": "2020-09-16T22:30:39.188616Z",
     "start_time": "2020-09-16T22:30:39.152905Z"
    }
   },
   "outputs": [],
   "source": [
    "poly_fit_example = PolynomialFeatures(degree = 2, include_bias=False) # adds on a degree -2 term"
   ]
  },
  {
   "cell_type": "code",
   "execution_count": 24,
   "metadata": {
    "ExecuteTime": {
     "end_time": "2020-09-16T22:30:39.221624Z",
     "start_time": "2020-09-16T22:30:39.197106Z"
    }
   },
   "outputs": [
    {
     "data": {
      "text/plain": [
       "array([[1., 1.],\n",
       "       [2., 4.],\n",
       "       [3., 9.]])"
      ]
     },
     "execution_count": 24,
     "metadata": {},
     "output_type": "execute_result"
    }
   ],
   "source": [
    "poly_fit_example.fit_transform(example)"
   ]
  },
  {
   "cell_type": "markdown",
   "metadata": {},
   "source": [
    "* * *\n",
    "\n",
    "# Item 4\n",
    "\n",
    "Now let's add quadratic features to our ht_data."
   ]
  },
  {
   "cell_type": "code",
   "execution_count": 25,
   "metadata": {
    "ExecuteTime": {
     "end_time": "2020-09-16T22:30:39.253274Z",
     "start_time": "2020-09-16T22:30:39.229833Z"
    }
   },
   "outputs": [],
   "source": [
    "poly_fit = PolynomialFeatures(degree=2, include_bias=False)"
   ]
  },
  {
   "cell_type": "code",
   "execution_count": 26,
   "metadata": {
    "ExecuteTime": {
     "end_time": "2020-09-16T22:30:39.287271Z",
     "start_time": "2020-09-16T22:30:39.255355Z"
    }
   },
   "outputs": [],
   "source": [
    "qm = LinearRegression() # qm stands for quadratic model"
   ]
  },
  {
   "cell_type": "markdown",
   "metadata": {},
   "source": [
    "Now we make a **pipeline**, which is a way of creating a multi-step data-fitting procedure as one object. "
   ]
  },
  {
   "cell_type": "code",
   "execution_count": 27,
   "metadata": {
    "ExecuteTime": {
     "end_time": "2020-09-16T22:30:39.311849Z",
     "start_time": "2020-09-16T22:30:39.293922Z"
    }
   },
   "outputs": [],
   "source": [
    "from sklearn.pipeline import make_pipeline"
   ]
  },
  {
   "cell_type": "code",
   "execution_count": 28,
   "metadata": {
    "ExecuteTime": {
     "end_time": "2020-09-16T22:30:39.343629Z",
     "start_time": "2020-09-16T22:30:39.316519Z"
    }
   },
   "outputs": [],
   "source": [
    "quad_reg = make_pipeline(poly_fit, qm) #quad_reg = quadratic regression"
   ]
  },
  {
   "cell_type": "code",
   "execution_count": 29,
   "metadata": {
    "ExecuteTime": {
     "end_time": "2020-09-16T22:30:39.375722Z",
     "start_time": "2020-09-16T22:30:39.347267Z"
    }
   },
   "outputs": [
    {
     "data": {
      "text/plain": [
       "Pipeline(steps=[('polynomialfeatures', PolynomialFeatures(include_bias=False)),\n",
       "                ('linearregression', LinearRegression())])"
      ]
     },
     "execution_count": 29,
     "metadata": {},
     "output_type": "execute_result"
    }
   ],
   "source": [
    "quad_reg.fit(time_data, height_data)"
   ]
  },
  {
   "cell_type": "code",
   "execution_count": 30,
   "metadata": {
    "ExecuteTime": {
     "end_time": "2020-09-16T22:30:39.407769Z",
     "start_time": "2020-09-16T22:30:39.383768Z"
    }
   },
   "outputs": [
    {
     "data": {
      "text/plain": [
       "array([30.00483755, -1.00053501])"
      ]
     },
     "execution_count": 30,
     "metadata": {},
     "output_type": "execute_result"
    }
   ],
   "source": [
    "qm.coef_"
   ]
  },
  {
   "cell_type": "code",
   "execution_count": 31,
   "metadata": {
    "ExecuteTime": {
     "end_time": "2020-09-16T22:30:39.423767Z",
     "start_time": "2020-09-16T22:30:39.407769Z"
    }
   },
   "outputs": [
    {
     "data": {
      "text/plain": [
       "9.99281490076433"
      ]
     },
     "execution_count": 31,
     "metadata": {},
     "output_type": "execute_result"
    }
   ],
   "source": [
    "qm.intercept_"
   ]
  },
  {
   "cell_type": "markdown",
   "metadata": {},
   "source": [
    "A pipeline enables data transformation and regression in one process"
   ]
  },
  {
   "cell_type": "markdown",
   "metadata": {},
   "source": [
    "We see that the model predicted by the quadratic regression is\n",
    "$$h(t) = -1.000t^2 + 30.004 + 9.992$$\n",
    "\n"
   ]
  },
  {
   "cell_type": "markdown",
   "metadata": {},
   "source": [
    "* * *\n",
    "\n",
    "# Item 6"
   ]
  },
  {
   "cell_type": "code",
   "execution_count": 32,
   "metadata": {
    "ExecuteTime": {
     "end_time": "2020-09-16T22:30:39.455767Z",
     "start_time": "2020-09-16T22:30:39.431770Z"
    }
   },
   "outputs": [
    {
     "data": {
      "text/plain": [
       "0.9999989763780012"
      ]
     },
     "execution_count": 32,
     "metadata": {},
     "output_type": "execute_result"
    }
   ],
   "source": [
    "quad_reg.score(time_data, height_data) # get the r^2 value for this idea"
   ]
  },
  {
   "cell_type": "markdown",
   "metadata": {},
   "source": [
    "Plot the data and the model again."
   ]
  },
  {
   "cell_type": "code",
   "execution_count": 33,
   "metadata": {
    "ExecuteTime": {
     "end_time": "2020-09-16T22:30:40.348551Z",
     "start_time": "2020-09-16T22:30:39.455767Z"
    }
   },
   "outputs": [
    {
     "data": {
      "image/png": "[encoded data removed]",
      "text/plain": [
       "<Figure size 432x288 with 1 Axes>"
      ]
     },
     "metadata": {
      "needs_background": "light"
     },
     "output_type": "display_data"
    }
   ],
   "source": [
    "plt.scatter(time_data, height_data, 0.05, color=\"blue\", label='Actual Height')\n",
    "plt.plot(time_data, quad_reg.predict(time_data), color=\"red\", label='predicted height')\n",
    "plt.xlabel(\"Time (seconds)\")\n",
    "plt.ylabel(\"Height (meters)\")\n",
    "plt.title(\"Position of Billionaire's Flying Saucer\")\n",
    "plt.legend()\n",
    "plt.show()"
   ]
  },
  {
   "cell_type": "markdown",
   "metadata": {},
   "source": [
    " We should also do our residual plots."
   ]
  },
  {
   "cell_type": "code",
   "execution_count": 34,
   "metadata": {
    "ExecuteTime": {
     "end_time": "2020-09-16T22:30:40.446569Z",
     "start_time": "2020-09-16T22:30:40.355552Z"
    }
   },
   "outputs": [],
   "source": [
    "ht_pred = quad_reg.predict(time_data)"
   ]
  },
  {
   "cell_type": "code",
   "execution_count": 35,
   "metadata": {
    "ExecuteTime": {
     "end_time": "2020-09-16T22:30:40.484556Z",
     "start_time": "2020-09-16T22:30:40.459554Z"
    }
   },
   "outputs": [],
   "source": [
    "ht_quad_residuals = height_data - ht_pred"
   ]
  },
  {
   "cell_type": "code",
   "execution_count": 36,
   "metadata": {
    "ExecuteTime": {
     "end_time": "2020-09-16T22:30:41.118643Z",
     "start_time": "2020-09-16T22:30:40.496560Z"
    }
   },
   "outputs": [
    {
     "data": {
      "image/png": "[encoded data removed]",
      "text/plain": [
       "<Figure size 432x288 with 1 Axes>"
      ]
     },
     "metadata": {
      "needs_background": "light"
     },
     "output_type": "display_data"
    }
   ],
   "source": [
    "plt.scatter(time_data, ht_quad_residuals, 0.5)\n",
    "plt.show()"
   ]
  },
  {
   "cell_type": "code",
   "execution_count": 37,
   "metadata": {
    "ExecuteTime": {
     "end_time": "2020-09-16T22:30:41.973031Z",
     "start_time": "2020-09-16T22:30:41.125670Z"
    },
    "pycharm": {
     "name": "#%%\n"
    },
    "scrolled": true
   },
   "outputs": [
    {
     "data": {
      "image/png": "[encoded data removed]",
      "text/plain": [
       "<Figure size 432x288 with 1 Axes>"
      ]
     },
     "metadata": {
      "needs_background": "light"
     },
     "output_type": "display_data"
    }
   ],
   "source": [
    "plt.scatter(height_data, ht_quad_residuals, 0.5)\n",
    "plt.axhline(y=0, color='red', label='y = 0')\n",
    "plt.legend()\n",
    "\n",
    "plt.show()"
   ]
  }
 ],
 "metadata": {
  "kernelspec": {
   "display_name": "Python 3",
   "language": "python",
   "name": "python3"
  },
  "language_info": {
   "codemirror_mode": {
    "name": "ipython",
    "version": 3
   },
   "file_extension": ".py",
   "mimetype": "text/x-python",
   "name": "python",
   "nbconvert_exporter": "python",
   "pygments_lexer": "ipython3",
   "version": "3.8.5"
  },
  "toc": {
   "base_numbering": 1,
   "nav_menu": {},
   "number_sections": true,
   "sideBar": true,
   "skip_h1_title": false,
   "title_cell": "Table of Contents",
   "title_sidebar": "Contents",
   "toc_cell": false,
   "toc_position": {},
   "toc_section_display": true,
   "toc_window_display": false
  }
 },
 "nbformat": 4,
 "nbformat_minor": 4
}
