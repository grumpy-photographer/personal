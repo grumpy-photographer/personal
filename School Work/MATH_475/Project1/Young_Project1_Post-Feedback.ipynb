{
 "cells": [
  {
   "cell_type": "markdown",
   "metadata": {
    "toc": true
   },
   "source": [
    "<h1>Table of Contents<span class=\"tocSkip\"></span></h1>\n",
    "<div class=\"toc\"><ul class=\"toc-item\"><li><span><a href=\"#Feedback-from-Professor\" data-toc-modified-id=\"Feedback-from-Professor-1\"><span class=\"toc-item-num\">1&nbsp;&nbsp;</span>Feedback from Professor</a></span></li><li><span><a href=\"#Sharing-the-News,-a-Machine-Learning-Project\" data-toc-modified-id=\"Sharing-the-News,-a-Machine-Learning-Project-2\"><span class=\"toc-item-num\">2&nbsp;&nbsp;</span>Sharing the News, a Machine Learning Project</a></span><ul class=\"toc-item\"><li><span><a href=\"#Questions\" data-toc-modified-id=\"Questions-2.1\"><span class=\"toc-item-num\">2.1&nbsp;&nbsp;</span>Questions</a></span><ul class=\"toc-item\"><li><span><a href=\"#Choice-of-Data\" data-toc-modified-id=\"Choice-of-Data-2.1.1\"><span class=\"toc-item-num\">2.1.1&nbsp;&nbsp;</span>Choice of Data</a></span></li></ul></li><li><span><a href=\"#Work\" data-toc-modified-id=\"Work-2.2\"><span class=\"toc-item-num\">2.2&nbsp;&nbsp;</span>Work</a></span><ul class=\"toc-item\"><li><span><a href=\"#&quot;Global&quot;-Imports\" data-toc-modified-id=\"&quot;Global&quot;-Imports-2.2.1\"><span class=\"toc-item-num\">2.2.1&nbsp;&nbsp;</span>\"Global\" Imports</a></span></li><li><span><a href=\"#Read-data\" data-toc-modified-id=\"Read-data-2.2.2\"><span class=\"toc-item-num\">2.2.2&nbsp;&nbsp;</span>Read data</a></span></li><li><span><a href=\"#Plot-at-least-one-aspect-to-understand-data\" data-toc-modified-id=\"Plot-at-least-one-aspect-to-understand-data-2.2.3\"><span class=\"toc-item-num\">2.2.3&nbsp;&nbsp;</span>Plot at least one aspect to understand data</a></span></li><li><span><a href=\"#Summarize-data-in-one-sentence\" data-toc-modified-id=\"Summarize-data-in-one-sentence-2.2.4\"><span class=\"toc-item-num\">2.2.4&nbsp;&nbsp;</span>Summarize data in one sentence</a></span></li><li><span><a href=\"#Split-data-into-train-and-test-where-test-size-=-.3\" data-toc-modified-id=\"Split-data-into-train-and-test-where-test-size-=-.3-2.2.5\"><span class=\"toc-item-num\">2.2.5&nbsp;&nbsp;</span>Split data into train and test where test size = .3</a></span></li></ul></li><li><span><a href=\"#Model-1\" data-toc-modified-id=\"Model-1-2.3\"><span class=\"toc-item-num\">2.3&nbsp;&nbsp;</span>Model 1</a></span><ul class=\"toc-item\"><li><span><a href=\"#Train-data-in-sklearn-model-on-train-data\" data-toc-modified-id=\"Train-data-in-sklearn-model-on-train-data-2.3.1\"><span class=\"toc-item-num\">2.3.1&nbsp;&nbsp;</span>Train data in sklearn model on train data</a></span></li><li><span><a href=\"#Analyze-residuals\" data-toc-modified-id=\"Analyze-residuals-2.3.2\"><span class=\"toc-item-num\">2.3.2&nbsp;&nbsp;</span>Analyze residuals</a></span></li></ul></li><li><span><a href=\"#Model-2\" data-toc-modified-id=\"Model-2-2.4\"><span class=\"toc-item-num\">2.4&nbsp;&nbsp;</span>Model 2</a></span><ul class=\"toc-item\"><li><span><a href=\"#Train-on-another-model-with-feature-selection\" data-toc-modified-id=\"Train-on-another-model-with-feature-selection-2.4.1\"><span class=\"toc-item-num\">2.4.1&nbsp;&nbsp;</span>Train on another model with feature selection</a></span></li><li><span><a href=\"#Analyze-Residuals\" data-toc-modified-id=\"Analyze-Residuals-2.4.2\"><span class=\"toc-item-num\">2.4.2&nbsp;&nbsp;</span>Analyze Residuals</a></span></li></ul></li><li><span><a href=\"#Reflection\" data-toc-modified-id=\"Reflection-2.5\"><span class=\"toc-item-num\">2.5&nbsp;&nbsp;</span>Reflection</a></span></li><li><span><a href=\"#References\" data-toc-modified-id=\"References-2.6\"><span class=\"toc-item-num\">2.6&nbsp;&nbsp;</span>References</a></span></li></ul></li><li><span><a href=\"#Feedback-Response\" data-toc-modified-id=\"Feedback-Response-3\"><span class=\"toc-item-num\">3&nbsp;&nbsp;</span>Feedback Response</a></span><ul class=\"toc-item\"><li><span><a href=\"#Stacked-Regressor\" data-toc-modified-id=\"Stacked-Regressor-3.1\"><span class=\"toc-item-num\">3.1&nbsp;&nbsp;</span>Stacked Regressor</a></span></li><li><span><a href=\"#For-Loop\" data-toc-modified-id=\"For-Loop-3.2\"><span class=\"toc-item-num\">3.2&nbsp;&nbsp;</span>For Loop</a></span></li><li><span><a href=\"#Answer-to-Q3\" data-toc-modified-id=\"Answer-to-Q3-3.3\"><span class=\"toc-item-num\">3.3&nbsp;&nbsp;</span>Answer to Q3</a></span></li></ul></li></ul></div>"
   ]
  },
  {
   "cell_type": "markdown",
   "metadata": {},
   "source": [
    "# Feedback from Professor"
   ]
  },
  {
   "cell_type": "markdown",
   "metadata": {},
   "source": [
    "1. Try using StackingRegressor with more models to see if the stacking technique will improve the score?\n",
    "\n",
    "2. Imagine that this is being submitted in support of a job application that requires \"working knowledge of Python\".  Could you add a few cells to demonstrate this?  For instance, writing your own function to perform a task, or doing something with a \"for\" loop?\n",
    "\n",
    "3. What is your best answer to Question #3."
   ]
  },
  {
   "cell_type": "markdown",
   "metadata": {},
   "source": [
    "# Sharing the News, a Machine Learning Project"
   ]
  },
  {
   "cell_type": "markdown",
   "metadata": {},
   "source": [
    "## Questions"
   ]
  },
  {
   "cell_type": "markdown",
   "metadata": {},
   "source": [
    "### Choice of Data"
   ]
  },
  {
   "cell_type": "markdown",
   "metadata": {
    "ExecuteTime": {
     "end_time": "2020-10-06T21:52:27.471994Z",
     "start_time": "2020-10-06T21:52:27.449384Z"
    }
   },
   "source": [
    "Let's take a look at the [Online News Popularity](https://archive.ics.uci.edu/ml/datasets/Online+News+Popularity) dataset provided by University of California Irvine.  According to the source, this data is a collection of data collected by [Mashable](https://mashable.com/) containing information about articles collected over a two year period."
   ]
  },
  {
   "cell_type": "markdown",
   "metadata": {},
   "source": [
    "I chose this data because I wanted to explore how and why news of any kind is shared as well as what different aspects of an article lead it to be shared.  We live in a world of advancing technology.  A larger question would be to ask why news was shared, but I do not believe that can be answered, at least not in this data. "
   ]
  },
  {
   "cell_type": "markdown",
   "metadata": {
    "ExecuteTime": {
     "end_time": "2020-10-06T21:32:28.542420Z",
     "start_time": "2020-10-06T21:32:28.524717Z"
    }
   },
   "source": [
    "***"
   ]
  },
  {
   "cell_type": "markdown",
   "metadata": {},
   "source": [
    "## Work"
   ]
  },
  {
   "cell_type": "markdown",
   "metadata": {},
   "source": [
    "### \"Global\" Imports"
   ]
  },
  {
   "cell_type": "markdown",
   "metadata": {},
   "source": [
    "First, we will import our \"global\" packages.  These packages will be needed throughout our code so instead of putting them in random places, I decided to load them first."
   ]
  },
  {
   "cell_type": "code",
   "execution_count": 1,
   "metadata": {
    "ExecuteTime": {
     "end_time": "2020-10-26T03:17:32.601230Z",
     "start_time": "2020-10-26T03:17:22.425325Z"
    }
   },
   "outputs": [],
   "source": [
    "import pandas as pd\n",
    "import seaborn as sns\n",
    "import matplotlib.pyplot as plt"
   ]
  },
  {
   "cell_type": "markdown",
   "metadata": {},
   "source": [
    "### Read data"
   ]
  },
  {
   "cell_type": "markdown",
   "metadata": {},
   "source": [
    "Next we will read our data.  The `.csv` that we will use is in a `.zip` folder that we can either download from the source or read with other packages.  In this case, it takes less code and is easier to explain if we download the `.zip` folder and extract the `.csv` file into the folder where the notebook is located.  We can then load the data into a dataframe using `data_frame = pd.read_csv(\"[filename.csv]\")` where `[filename.csv]` is the name of the file."
   ]
  },
  {
   "cell_type": "code",
   "execution_count": 2,
   "metadata": {
    "ExecuteTime": {
     "end_time": "2020-10-26T03:17:33.793757Z",
     "start_time": "2020-10-26T03:17:32.610778Z"
    }
   },
   "outputs": [],
   "source": [
    "news_df = pd.read_csv(\"OnlineNewsPopularity.csv\")"
   ]
  },
  {
   "cell_type": "markdown",
   "metadata": {},
   "source": [
    "Before we do any analysis on the data, lets first take a look at the data by viewing the top 5 rows, to get a glimpse of the information portrayed in this dataset.\n",
    "\n",
    "We can do this by using the `data_frame.head()` method."
   ]
  },
  {
   "cell_type": "code",
   "execution_count": 3,
   "metadata": {
    "ExecuteTime": {
     "end_time": "2020-10-26T03:17:33.924580Z",
     "start_time": "2020-10-26T03:17:33.802747Z"
    },
    "scrolled": true
   },
   "outputs": [
    {
     "data": {
      "text/html": [
       "<div>\n",
       "<style scoped>\n",
       "    .dataframe tbody tr th:only-of-type {\n",
       "        vertical-align: middle;\n",
       "    }\n",
       "\n",
       "    .dataframe tbody tr th {\n",
       "        vertical-align: top;\n",
       "    }\n",
       "\n",
       "    .dataframe thead th {\n",
       "        text-align: right;\n",
       "    }\n",
       "</style>\n",
       "<table border=\"1\" class=\"dataframe\">\n",
       "  <thead>\n",
       "    <tr style=\"text-align: right;\">\n",
       "      <th></th>\n",
       "      <th>url</th>\n",
       "      <th>timedelta</th>\n",
       "      <th>n_tokens_title</th>\n",
       "      <th>n_tokens_content</th>\n",
       "      <th>n_unique_tokens</th>\n",
       "      <th>n_non_stop_words</th>\n",
       "      <th>n_non_stop_unique_tokens</th>\n",
       "      <th>num_hrefs</th>\n",
       "      <th>num_self_hrefs</th>\n",
       "      <th>num_imgs</th>\n",
       "      <th>...</th>\n",
       "      <th>min_positive_polarity</th>\n",
       "      <th>max_positive_polarity</th>\n",
       "      <th>avg_negative_polarity</th>\n",
       "      <th>min_negative_polarity</th>\n",
       "      <th>max_negative_polarity</th>\n",
       "      <th>title_subjectivity</th>\n",
       "      <th>title_sentiment_polarity</th>\n",
       "      <th>abs_title_subjectivity</th>\n",
       "      <th>abs_title_sentiment_polarity</th>\n",
       "      <th>shares</th>\n",
       "    </tr>\n",
       "  </thead>\n",
       "  <tbody>\n",
       "    <tr>\n",
       "      <th>0</th>\n",
       "      <td>http://mashable.com/2013/01/07/amazon-instant-...</td>\n",
       "      <td>731.0</td>\n",
       "      <td>12.0</td>\n",
       "      <td>219.0</td>\n",
       "      <td>0.663594</td>\n",
       "      <td>1.0</td>\n",
       "      <td>0.815385</td>\n",
       "      <td>4.0</td>\n",
       "      <td>2.0</td>\n",
       "      <td>1.0</td>\n",
       "      <td>...</td>\n",
       "      <td>0.100000</td>\n",
       "      <td>0.7</td>\n",
       "      <td>-0.350000</td>\n",
       "      <td>-0.600</td>\n",
       "      <td>-0.200000</td>\n",
       "      <td>0.500000</td>\n",
       "      <td>-0.187500</td>\n",
       "      <td>0.000000</td>\n",
       "      <td>0.187500</td>\n",
       "      <td>593</td>\n",
       "    </tr>\n",
       "    <tr>\n",
       "      <th>1</th>\n",
       "      <td>http://mashable.com/2013/01/07/ap-samsung-spon...</td>\n",
       "      <td>731.0</td>\n",
       "      <td>9.0</td>\n",
       "      <td>255.0</td>\n",
       "      <td>0.604743</td>\n",
       "      <td>1.0</td>\n",
       "      <td>0.791946</td>\n",
       "      <td>3.0</td>\n",
       "      <td>1.0</td>\n",
       "      <td>1.0</td>\n",
       "      <td>...</td>\n",
       "      <td>0.033333</td>\n",
       "      <td>0.7</td>\n",
       "      <td>-0.118750</td>\n",
       "      <td>-0.125</td>\n",
       "      <td>-0.100000</td>\n",
       "      <td>0.000000</td>\n",
       "      <td>0.000000</td>\n",
       "      <td>0.500000</td>\n",
       "      <td>0.000000</td>\n",
       "      <td>711</td>\n",
       "    </tr>\n",
       "    <tr>\n",
       "      <th>2</th>\n",
       "      <td>http://mashable.com/2013/01/07/apple-40-billio...</td>\n",
       "      <td>731.0</td>\n",
       "      <td>9.0</td>\n",
       "      <td>211.0</td>\n",
       "      <td>0.575130</td>\n",
       "      <td>1.0</td>\n",
       "      <td>0.663866</td>\n",
       "      <td>3.0</td>\n",
       "      <td>1.0</td>\n",
       "      <td>1.0</td>\n",
       "      <td>...</td>\n",
       "      <td>0.100000</td>\n",
       "      <td>1.0</td>\n",
       "      <td>-0.466667</td>\n",
       "      <td>-0.800</td>\n",
       "      <td>-0.133333</td>\n",
       "      <td>0.000000</td>\n",
       "      <td>0.000000</td>\n",
       "      <td>0.500000</td>\n",
       "      <td>0.000000</td>\n",
       "      <td>1500</td>\n",
       "    </tr>\n",
       "    <tr>\n",
       "      <th>3</th>\n",
       "      <td>http://mashable.com/2013/01/07/astronaut-notre...</td>\n",
       "      <td>731.0</td>\n",
       "      <td>9.0</td>\n",
       "      <td>531.0</td>\n",
       "      <td>0.503788</td>\n",
       "      <td>1.0</td>\n",
       "      <td>0.665635</td>\n",
       "      <td>9.0</td>\n",
       "      <td>0.0</td>\n",
       "      <td>1.0</td>\n",
       "      <td>...</td>\n",
       "      <td>0.136364</td>\n",
       "      <td>0.8</td>\n",
       "      <td>-0.369697</td>\n",
       "      <td>-0.600</td>\n",
       "      <td>-0.166667</td>\n",
       "      <td>0.000000</td>\n",
       "      <td>0.000000</td>\n",
       "      <td>0.500000</td>\n",
       "      <td>0.000000</td>\n",
       "      <td>1200</td>\n",
       "    </tr>\n",
       "    <tr>\n",
       "      <th>4</th>\n",
       "      <td>http://mashable.com/2013/01/07/att-u-verse-apps/</td>\n",
       "      <td>731.0</td>\n",
       "      <td>13.0</td>\n",
       "      <td>1072.0</td>\n",
       "      <td>0.415646</td>\n",
       "      <td>1.0</td>\n",
       "      <td>0.540890</td>\n",
       "      <td>19.0</td>\n",
       "      <td>19.0</td>\n",
       "      <td>20.0</td>\n",
       "      <td>...</td>\n",
       "      <td>0.033333</td>\n",
       "      <td>1.0</td>\n",
       "      <td>-0.220192</td>\n",
       "      <td>-0.500</td>\n",
       "      <td>-0.050000</td>\n",
       "      <td>0.454545</td>\n",
       "      <td>0.136364</td>\n",
       "      <td>0.045455</td>\n",
       "      <td>0.136364</td>\n",
       "      <td>505</td>\n",
       "    </tr>\n",
       "  </tbody>\n",
       "</table>\n",
       "<p>5 rows × 61 columns</p>\n",
       "</div>"
      ],
      "text/plain": [
       "                                                 url   timedelta  \\\n",
       "0  http://mashable.com/2013/01/07/amazon-instant-...       731.0   \n",
       "1  http://mashable.com/2013/01/07/ap-samsung-spon...       731.0   \n",
       "2  http://mashable.com/2013/01/07/apple-40-billio...       731.0   \n",
       "3  http://mashable.com/2013/01/07/astronaut-notre...       731.0   \n",
       "4   http://mashable.com/2013/01/07/att-u-verse-apps/       731.0   \n",
       "\n",
       "    n_tokens_title   n_tokens_content   n_unique_tokens   n_non_stop_words  \\\n",
       "0             12.0              219.0          0.663594                1.0   \n",
       "1              9.0              255.0          0.604743                1.0   \n",
       "2              9.0              211.0          0.575130                1.0   \n",
       "3              9.0              531.0          0.503788                1.0   \n",
       "4             13.0             1072.0          0.415646                1.0   \n",
       "\n",
       "    n_non_stop_unique_tokens   num_hrefs   num_self_hrefs   num_imgs  ...  \\\n",
       "0                   0.815385         4.0              2.0        1.0  ...   \n",
       "1                   0.791946         3.0              1.0        1.0  ...   \n",
       "2                   0.663866         3.0              1.0        1.0  ...   \n",
       "3                   0.665635         9.0              0.0        1.0  ...   \n",
       "4                   0.540890        19.0             19.0       20.0  ...   \n",
       "\n",
       "    min_positive_polarity   max_positive_polarity   avg_negative_polarity  \\\n",
       "0                0.100000                     0.7               -0.350000   \n",
       "1                0.033333                     0.7               -0.118750   \n",
       "2                0.100000                     1.0               -0.466667   \n",
       "3                0.136364                     0.8               -0.369697   \n",
       "4                0.033333                     1.0               -0.220192   \n",
       "\n",
       "    min_negative_polarity   max_negative_polarity   title_subjectivity  \\\n",
       "0                  -0.600               -0.200000             0.500000   \n",
       "1                  -0.125               -0.100000             0.000000   \n",
       "2                  -0.800               -0.133333             0.000000   \n",
       "3                  -0.600               -0.166667             0.000000   \n",
       "4                  -0.500               -0.050000             0.454545   \n",
       "\n",
       "    title_sentiment_polarity   abs_title_subjectivity  \\\n",
       "0                  -0.187500                 0.000000   \n",
       "1                   0.000000                 0.500000   \n",
       "2                   0.000000                 0.500000   \n",
       "3                   0.000000                 0.500000   \n",
       "4                   0.136364                 0.045455   \n",
       "\n",
       "    abs_title_sentiment_polarity   shares  \n",
       "0                       0.187500      593  \n",
       "1                       0.000000      711  \n",
       "2                       0.000000     1500  \n",
       "3                       0.000000     1200  \n",
       "4                       0.136364      505  \n",
       "\n",
       "[5 rows x 61 columns]"
      ]
     },
     "execution_count": 3,
     "metadata": {},
     "output_type": "execute_result"
    }
   ],
   "source": [
    "news_df.head()"
   ]
  },
  {
   "cell_type": "markdown",
   "metadata": {},
   "source": [
    "Looking at the source, it defines `url` and `timedelta` as 'non-predictive' variables, so we can drop them from the data set."
   ]
  },
  {
   "cell_type": "code",
   "execution_count": 4,
   "metadata": {
    "ExecuteTime": {
     "end_time": "2020-10-26T03:17:33.985358Z",
     "start_time": "2020-10-26T03:17:33.937746Z"
    }
   },
   "outputs": [],
   "source": [
    "news_df.drop(columns=[\"url\", \" timedelta\"], inplace=True)"
   ]
  },
  {
   "cell_type": "markdown",
   "metadata": {},
   "source": [
    "Next we can check to see if there are any nulls in our data that need to be taken care of."
   ]
  },
  {
   "cell_type": "code",
   "execution_count": 5,
   "metadata": {
    "ExecuteTime": {
     "end_time": "2020-10-26T03:17:34.082224Z",
     "start_time": "2020-10-26T03:17:33.997055Z"
    },
    "scrolled": true
   },
   "outputs": [
    {
     "data": {
      "text/plain": [
       " n_tokens_title                   0\n",
       " n_tokens_content                 0\n",
       " n_unique_tokens                  0\n",
       " n_non_stop_words                 0\n",
       " n_non_stop_unique_tokens         0\n",
       " num_hrefs                        0\n",
       " num_self_hrefs                   0\n",
       " num_imgs                         0\n",
       " num_videos                       0\n",
       " average_token_length             0\n",
       " num_keywords                     0\n",
       " data_channel_is_lifestyle        0\n",
       " data_channel_is_entertainment    0\n",
       " data_channel_is_bus              0\n",
       " data_channel_is_socmed           0\n",
       " data_channel_is_tech             0\n",
       " data_channel_is_world            0\n",
       " kw_min_min                       0\n",
       " kw_max_min                       0\n",
       " kw_avg_min                       0\n",
       " kw_min_max                       0\n",
       " kw_max_max                       0\n",
       " kw_avg_max                       0\n",
       " kw_min_avg                       0\n",
       " kw_max_avg                       0\n",
       " kw_avg_avg                       0\n",
       " self_reference_min_shares        0\n",
       " self_reference_max_shares        0\n",
       " self_reference_avg_sharess       0\n",
       " weekday_is_monday                0\n",
       " weekday_is_tuesday               0\n",
       " weekday_is_wednesday             0\n",
       " weekday_is_thursday              0\n",
       " weekday_is_friday                0\n",
       " weekday_is_saturday              0\n",
       " weekday_is_sunday                0\n",
       " is_weekend                       0\n",
       " LDA_00                           0\n",
       " LDA_01                           0\n",
       " LDA_02                           0\n",
       " LDA_03                           0\n",
       " LDA_04                           0\n",
       " global_subjectivity              0\n",
       " global_sentiment_polarity        0\n",
       " global_rate_positive_words       0\n",
       " global_rate_negative_words       0\n",
       " rate_positive_words              0\n",
       " rate_negative_words              0\n",
       " avg_positive_polarity            0\n",
       " min_positive_polarity            0\n",
       " max_positive_polarity            0\n",
       " avg_negative_polarity            0\n",
       " min_negative_polarity            0\n",
       " max_negative_polarity            0\n",
       " title_subjectivity               0\n",
       " title_sentiment_polarity         0\n",
       " abs_title_subjectivity           0\n",
       " abs_title_sentiment_polarity     0\n",
       " shares                           0\n",
       "dtype: int64"
      ]
     },
     "execution_count": 5,
     "metadata": {},
     "output_type": "execute_result"
    }
   ],
   "source": [
    "news_df.isna().sum()"
   ]
  },
  {
   "cell_type": "markdown",
   "metadata": {},
   "source": [
    "There do not seem to be any nulls in our data so we can move on."
   ]
  },
  {
   "cell_type": "markdown",
   "metadata": {},
   "source": [
    "### Plot at least one aspect to understand data"
   ]
  },
  {
   "cell_type": "markdown",
   "metadata": {},
   "source": [
    "Before we start building our models, first, let's see if there is a relationship between the number of times an article was shared based on the number of time an article was referenced in other shared articles."
   ]
  },
  {
   "cell_type": "code",
   "execution_count": 6,
   "metadata": {
    "ExecuteTime": {
     "end_time": "2020-10-26T03:17:35.002754Z",
     "start_time": "2020-10-26T03:17:34.094486Z"
    },
    "scrolled": true
   },
   "outputs": [
    {
     "data": {
      "text/plain": [
       "<matplotlib.axes._subplots.AxesSubplot at 0x161ccb8eb48>"
      ]
     },
     "execution_count": 6,
     "metadata": {},
     "output_type": "execute_result"
    },
    {
     "data": {
      "image/png": "[encoded data removed]",
      "text/plain": [
       "<Figure size 432x288 with 1 Axes>"
      ]
     },
     "metadata": {
      "needs_background": "light"
     },
     "output_type": "display_data"
    }
   ],
   "source": [
    "sns.scatterplot(x=news_df[\" self_reference_avg_sharess\"], y=news_df[\" shares\"])"
   ]
  },
  {
   "cell_type": "markdown",
   "metadata": {},
   "source": [
    "These columns seem to contain similar data.\n",
    "\n",
    "Next, let's see how certain features effect the number of shares, like number of words in the title, number of words in the content, number of images, and the number of links in an article."
   ]
  },
  {
   "cell_type": "code",
   "execution_count": 7,
   "metadata": {
    "ExecuteTime": {
     "end_time": "2020-10-26T03:17:35.743100Z",
     "start_time": "2020-10-26T03:17:35.020674Z"
    },
    "scrolled": true
   },
   "outputs": [
    {
     "data": {
      "text/plain": [
       "<matplotlib.axes._subplots.AxesSubplot at 0x161cd34d548>"
      ]
     },
     "execution_count": 7,
     "metadata": {},
     "output_type": "execute_result"
    },
    {
     "data": {
      "image/png": "[encoded data removed]",
      "text/plain": [
       "<Figure size 432x288 with 1 Axes>"
      ]
     },
     "metadata": {
      "needs_background": "light"
     },
     "output_type": "display_data"
    }
   ],
   "source": [
    "sns.scatterplot(news_df[\" n_tokens_title\"], news_df[\" shares\"])"
   ]
  },
  {
   "cell_type": "markdown",
   "metadata": {},
   "source": [
    "We can see in this chart, that articles with roughly 12 words in the title are shared most often. Notice there are values that may be considered outliers.\n",
    "\n",
    "Let's see if the chart is similar for number of words in the article."
   ]
  },
  {
   "cell_type": "code",
   "execution_count": 8,
   "metadata": {
    "ExecuteTime": {
     "end_time": "2020-10-26T03:17:36.301033Z",
     "start_time": "2020-10-26T03:17:35.746094Z"
    }
   },
   "outputs": [
    {
     "data": {
      "text/plain": [
       "<matplotlib.axes._subplots.AxesSubplot at 0x161cb468ac8>"
      ]
     },
     "execution_count": 8,
     "metadata": {},
     "output_type": "execute_result"
    },
    {
     "data": {
      "image/png": "[encoded data removed]",
      "text/plain": [
       "<Figure size 432x288 with 1 Axes>"
      ]
     },
     "metadata": {
      "needs_background": "light"
     },
     "output_type": "display_data"
    }
   ],
   "source": [
    "sns.scatterplot(news_df[\" n_tokens_content\"], news_df[\" shares\"])"
   ]
  },
  {
   "cell_type": "markdown",
   "metadata": {},
   "source": [
    "Due to the number of shares and the number of words in each article, this scatter plot can be difficult to read as the data is very close together. We can see, however, that articles with the most shares had word counts just under ~1000.  We also can see there may be outliers."
   ]
  },
  {
   "cell_type": "markdown",
   "metadata": {},
   "source": [
    "### Summarize data in one sentence"
   ]
  },
  {
   "cell_type": "markdown",
   "metadata": {},
   "source": [
    "The Online News Popularity data used different features about articles published on Mashable to determine popularity of an article in number of shares."
   ]
  },
  {
   "cell_type": "markdown",
   "metadata": {},
   "source": [
    "### Split data into train and test where test size = .3"
   ]
  },
  {
   "cell_type": "markdown",
   "metadata": {},
   "source": [
    "Now that we have a better understanding of the data, we will import `train_test_split` from `sklearn` to build our train and test sets of data."
   ]
  },
  {
   "cell_type": "code",
   "execution_count": 9,
   "metadata": {
    "ExecuteTime": {
     "end_time": "2020-10-26T03:17:36.624682Z",
     "start_time": "2020-10-26T03:17:36.307863Z"
    }
   },
   "outputs": [],
   "source": [
    "from sklearn.model_selection import train_test_split"
   ]
  },
  {
   "cell_type": "markdown",
   "metadata": {},
   "source": [
    "From information aquired from the source, we learned that the `shares` column was the target variable thus it will be our 'y' value and everything else will be our 'X'. "
   ]
  },
  {
   "cell_type": "code",
   "execution_count": 10,
   "metadata": {
    "ExecuteTime": {
     "end_time": "2020-10-26T03:17:36.664125Z",
     "start_time": "2020-10-26T03:17:36.632121Z"
    }
   },
   "outputs": [],
   "source": [
    "y = news_df[\" shares\"]\n",
    "X = news_df.drop(columns=\" shares\", axis=1)"
   ]
  },
  {
   "cell_type": "markdown",
   "metadata": {},
   "source": [
    "Once the target variable has been assigned, we can finally split our data.  The instructions ask for a test size of .3, so we will set the `train_size` parameter to `.7`.   We could also set our `test_size` parameter to `.3`."
   ]
  },
  {
   "cell_type": "code",
   "execution_count": 11,
   "metadata": {
    "ExecuteTime": {
     "end_time": "2020-10-26T03:17:36.786185Z",
     "start_time": "2020-10-26T03:17:36.676425Z"
    }
   },
   "outputs": [],
   "source": [
    "X_train, X_test, y_train, y_test = train_test_split(X, y, train_size=0.7)"
   ]
  },
  {
   "cell_type": "markdown",
   "metadata": {},
   "source": [
    "## Model 1"
   ]
  },
  {
   "cell_type": "markdown",
   "metadata": {},
   "source": [
    "### Train data in sklearn model on train data"
   ]
  },
  {
   "cell_type": "markdown",
   "metadata": {},
   "source": [
    "Now that our data has been split, we can create our first model: Random Forest regression.  This model combines multiple decision trees allowing us to get better generalization performance, helping to reduce model variance (Raschka and Mirjalili, 2019).  Basically, from what I understand, Random Forest Regression allows us to reduce spread in data by using decision trees, allowing for more accurate predictions."
   ]
  },
  {
   "cell_type": "code",
   "execution_count": 12,
   "metadata": {
    "ExecuteTime": {
     "end_time": "2020-10-26T03:17:37.608085Z",
     "start_time": "2020-10-26T03:17:36.794024Z"
    }
   },
   "outputs": [],
   "source": [
    "from sklearn.ensemble import RandomForestRegressor"
   ]
  },
  {
   "cell_type": "code",
   "execution_count": 13,
   "metadata": {
    "ExecuteTime": {
     "end_time": "2020-10-26T03:17:37.643247Z",
     "start_time": "2020-10-26T03:17:37.617067Z"
    }
   },
   "outputs": [],
   "source": [
    "forest = RandomForestRegressor(\n",
    "    n_estimators=10, criterion=\"mse\", random_state=1, n_jobs=1\n",
    ")"
   ]
  },
  {
   "cell_type": "code",
   "execution_count": 14,
   "metadata": {
    "ExecuteTime": {
     "end_time": "2020-10-26T03:18:12.730680Z",
     "start_time": "2020-10-26T03:17:37.657185Z"
    }
   },
   "outputs": [
    {
     "data": {
      "text/plain": [
       "RandomForestRegressor(bootstrap=True, ccp_alpha=0.0, criterion='mse',\n",
       "                      max_depth=None, max_features='auto', max_leaf_nodes=None,\n",
       "                      max_samples=None, min_impurity_decrease=0.0,\n",
       "                      min_impurity_split=None, min_samples_leaf=1,\n",
       "                      min_samples_split=2, min_weight_fraction_leaf=0.0,\n",
       "                      n_estimators=10, n_jobs=1, oob_score=False,\n",
       "                      random_state=1, verbose=0, warm_start=False)"
      ]
     },
     "execution_count": 14,
     "metadata": {},
     "output_type": "execute_result"
    }
   ],
   "source": [
    "forest.fit(X_train, y_train)"
   ]
  },
  {
   "cell_type": "code",
   "execution_count": 15,
   "metadata": {
    "ExecuteTime": {
     "end_time": "2020-10-26T03:18:13.200719Z",
     "start_time": "2020-10-26T03:18:12.744264Z"
    }
   },
   "outputs": [
    {
     "data": {
      "text/plain": [
       "0.7679993205589679"
      ]
     },
     "execution_count": 15,
     "metadata": {},
     "output_type": "execute_result"
    }
   ],
   "source": [
    "forest.score(X_train, y_train)"
   ]
  },
  {
   "cell_type": "code",
   "execution_count": 16,
   "metadata": {
    "ExecuteTime": {
     "end_time": "2020-10-26T03:18:13.446752Z",
     "start_time": "2020-10-26T03:18:13.209608Z"
    }
   },
   "outputs": [
    {
     "data": {
      "text/plain": [
       "-0.3329383449739256"
      ]
     },
     "execution_count": 16,
     "metadata": {},
     "output_type": "execute_result"
    }
   ],
   "source": [
    "forest.score(X_test, y_test)"
   ]
  },
  {
   "cell_type": "markdown",
   "metadata": {},
   "source": [
    "Random Forest seemed to score very well on the training set, but very poorly on the test set.  Let's visualize residuals to see if we can understand why the score is so low. "
   ]
  },
  {
   "cell_type": "markdown",
   "metadata": {},
   "source": [
    "### Analyze residuals"
   ]
  },
  {
   "cell_type": "code",
   "execution_count": 17,
   "metadata": {
    "ExecuteTime": {
     "end_time": "2020-10-26T03:18:13.800364Z",
     "start_time": "2020-10-26T03:18:13.456471Z"
    }
   },
   "outputs": [
    {
     "data": {
      "text/plain": [
       "array([6000. , 1735.1, 3620. , ..., 4600. , 1480.3, 3030.5])"
      ]
     },
     "execution_count": 17,
     "metadata": {},
     "output_type": "execute_result"
    }
   ],
   "source": [
    "forest_pred = forest.predict(X_train)\n",
    "forest_pred"
   ]
  },
  {
   "cell_type": "code",
   "execution_count": 18,
   "metadata": {
    "ExecuteTime": {
     "end_time": "2020-10-26T03:18:13.833741Z",
     "start_time": "2020-10-26T03:18:13.802415Z"
    }
   },
   "outputs": [
    {
     "data": {
      "text/plain": [
       "22869     600.0\n",
       "20435     364.9\n",
       "36843   -2220.0\n",
       "19070    -160.4\n",
       "17032   -1312.8\n",
       "          ...  \n",
       "17712    5540.0\n",
       "31457   -3760.0\n",
       "7168        0.0\n",
       "5970      -80.3\n",
       "5114      269.5\n",
       "Name:  shares, Length: 27750, dtype: float64"
      ]
     },
     "execution_count": 18,
     "metadata": {},
     "output_type": "execute_result"
    }
   ],
   "source": [
    "forest_residuals = y_train - forest_pred\n",
    "forest_residuals"
   ]
  },
  {
   "cell_type": "code",
   "execution_count": 19,
   "metadata": {
    "ExecuteTime": {
     "end_time": "2020-10-26T03:18:14.349511Z",
     "start_time": "2020-10-26T03:18:13.841761Z"
    },
    "scrolled": true
   },
   "outputs": [
    {
     "data": {
      "text/plain": [
       "<matplotlib.lines.Line2D at 0x161d10582c8>"
      ]
     },
     "execution_count": 19,
     "metadata": {},
     "output_type": "execute_result"
    },
    {
     "data": {
      "image/png": "[encoded data removed]",
      "text/plain": [
       "<Figure size 432x288 with 1 Axes>"
      ]
     },
     "metadata": {
      "needs_background": "light"
     },
     "output_type": "display_data"
    }
   ],
   "source": [
    "plt.scatter(y_train, forest_residuals)\n",
    "plt.xlabel(\"train data\")\n",
    "plt.ylabel(\"residuals\")\n",
    "plt.axhline(y=0, c=\"red\")"
   ]
  },
  {
   "cell_type": "markdown",
   "metadata": {},
   "source": [
    "There is not much spread here, and is definetly a linear pattern.  Outliers in the data could be causing some of this, or the features that were used had strong correlation.  Overfitting could also be a factor here."
   ]
  },
  {
   "cell_type": "markdown",
   "metadata": {},
   "source": [
    "## Model 2"
   ]
  },
  {
   "cell_type": "markdown",
   "metadata": {},
   "source": [
    "For the second model, we were tasked to use a model utilizing feature selection.  I used mutual_info_regression as it's goal is to estimate information based on a continuous target variable.  The variable in this data is the number of shares an article has, which is not a qualitative value, so mutual_info_regression should work well (Raschka and Mirjalili, 2019)."
   ]
  },
  {
   "cell_type": "code",
   "execution_count": 20,
   "metadata": {
    "ExecuteTime": {
     "end_time": "2020-10-26T03:18:14.408549Z",
     "start_time": "2020-10-26T03:18:14.356821Z"
    }
   },
   "outputs": [],
   "source": [
    "from sklearn.feature_selection import mutual_info_regression, SelectKBest\n",
    "from sklearn.linear_model import LinearRegression\n",
    "from sklearn.pipeline import make_pipeline"
   ]
  },
  {
   "cell_type": "markdown",
   "metadata": {},
   "source": [
    "### Train on another model with feature selection"
   ]
  },
  {
   "cell_type": "code",
   "execution_count": 21,
   "metadata": {
    "ExecuteTime": {
     "end_time": "2020-10-26T03:21:57.243226Z",
     "start_time": "2020-10-26T03:18:14.427465Z"
    },
    "scrolled": true
   },
   "outputs": [
    {
     "data": {
      "text/plain": [
       "Pipeline(memory=None,\n",
       "         steps=[('selectkbest',\n",
       "                 SelectKBest(k=5,\n",
       "                             score_func=<function mutual_info_regression at 0x00000161D10E3168>)),\n",
       "                ('linearregression',\n",
       "                 LinearRegression(copy_X=True, fit_intercept=True, n_jobs=None,\n",
       "                                  normalize=False))],\n",
       "         verbose=False)"
      ]
     },
     "execution_count": 21,
     "metadata": {},
     "output_type": "execute_result"
    }
   ],
   "source": [
    "# create and fit mutual_info_regression model\n",
    "feature_selection = SelectKBest(\n",
    "    score_func=mutual_info_regression,\n",
    "    k=5,\n",
    ")\n",
    "lm = LinearRegression()\n",
    "lm_pipeline = make_pipeline(feature_selection, lm)\n",
    "lm_pipeline.fit(X_train, y_train)"
   ]
  },
  {
   "cell_type": "code",
   "execution_count": 22,
   "metadata": {
    "ExecuteTime": {
     "end_time": "2020-10-26T03:21:57.275246Z",
     "start_time": "2020-10-26T03:21:57.250274Z"
    }
   },
   "outputs": [
    {
     "data": {
      "text/plain": [
       "0.01395472560292399"
      ]
     },
     "execution_count": 22,
     "metadata": {},
     "output_type": "execute_result"
    }
   ],
   "source": [
    "lm_pipeline.score(X_train, y_train)"
   ]
  },
  {
   "cell_type": "code",
   "execution_count": 23,
   "metadata": {
    "ExecuteTime": {
     "end_time": "2020-10-26T03:21:57.307229Z",
     "start_time": "2020-10-26T03:21:57.279235Z"
    }
   },
   "outputs": [
    {
     "data": {
      "text/plain": [
       "0.039534324174900326"
      ]
     },
     "execution_count": 23,
     "metadata": {},
     "output_type": "execute_result"
    }
   ],
   "source": [
    "lm_pipeline.score(X_test, y_test)"
   ]
  },
  {
   "cell_type": "markdown",
   "metadata": {},
   "source": [
    "mutual_info_regression did score better on the test set, but worse on the train set.  If there was a way that one would want these number to go, this is it.  However, the values are extremely low for what we were looking to get.  Let's plot residuals to see what is happening."
   ]
  },
  {
   "cell_type": "markdown",
   "metadata": {},
   "source": [
    "### Analyze Residuals"
   ]
  },
  {
   "cell_type": "code",
   "execution_count": 24,
   "metadata": {
    "ExecuteTime": {
     "end_time": "2020-10-26T03:21:57.339236Z",
     "start_time": "2020-10-26T03:21:57.312229Z"
    }
   },
   "outputs": [
    {
     "data": {
      "text/plain": [
       "array([3882.94458985, 3023.58900563, 3679.77535824, ..., 2748.82261067,\n",
       "       2397.54669446, 4240.20086078])"
      ]
     },
     "execution_count": 24,
     "metadata": {},
     "output_type": "execute_result"
    }
   ],
   "source": [
    "y_train_pred = lm_pipeline.predict(X_train)\n",
    "y_train_pred"
   ]
  },
  {
   "cell_type": "code",
   "execution_count": 25,
   "metadata": {
    "ExecuteTime": {
     "end_time": "2020-10-26T03:21:57.369255Z",
     "start_time": "2020-10-26T03:21:57.343237Z"
    }
   },
   "outputs": [
    {
     "data": {
      "text/plain": [
       "22869    2717.055410\n",
       "20435    -923.589006\n",
       "36843   -2279.775358\n",
       "19070    -596.919901\n",
       "17032   -2354.895769\n",
       "            ...     \n",
       "17712    8292.572808\n",
       "31457   -4306.393754\n",
       "7168     1851.177389\n",
       "5970     -997.546694\n",
       "5114     -940.200861\n",
       "Name:  shares, Length: 27750, dtype: float64"
      ]
     },
     "execution_count": 25,
     "metadata": {},
     "output_type": "execute_result"
    }
   ],
   "source": [
    "residuals = y_train - y_train_pred\n",
    "residuals"
   ]
  },
  {
   "cell_type": "code",
   "execution_count": 26,
   "metadata": {
    "ExecuteTime": {
     "end_time": "2020-10-26T03:21:57.669364Z",
     "start_time": "2020-10-26T03:21:57.373236Z"
    }
   },
   "outputs": [
    {
     "data": {
      "text/plain": [
       "<matplotlib.lines.Line2D at 0x161d10f5188>"
      ]
     },
     "execution_count": 26,
     "metadata": {},
     "output_type": "execute_result"
    },
    {
     "data": {
      "image/png": "[encoded data removed]",
      "text/plain": [
       "<Figure size 432x288 with 1 Axes>"
      ]
     },
     "metadata": {
      "needs_background": "light"
     },
     "output_type": "display_data"
    }
   ],
   "source": [
    "plt.scatter(y_train, residuals)\n",
    "plt.xlabel(\"train data\")\n",
    "plt.ylabel(\"residuals\")\n",
    "plt.axhline(y=0, c=\"red\")"
   ]
  },
  {
   "cell_type": "markdown",
   "metadata": {},
   "source": [
    "Similar to RandomForest regression, our residuals seem linear and the data seems to be overfit.  We are only using 5 features, instead of all of them, but this still does not seem like a strong model to predict the number of shares an article has."
   ]
  },
  {
   "cell_type": "markdown",
   "metadata": {},
   "source": [
    "***"
   ]
  },
  {
   "cell_type": "markdown",
   "metadata": {},
   "source": [
    "## Reflection"
   ]
  },
  {
   "cell_type": "markdown",
   "metadata": {},
   "source": [
    "Would you recommend either model that you have considered for real-life prediction based on this data set? If yes, explain why. If no, what other models would you consider?"
   ]
  },
  {
   "cell_type": "markdown",
   "metadata": {},
   "source": [
    "> Both models scored low and displayed a pattern among residuals so I would not recommend either model to answer the question. According to the source, the Random Forest classifier was used on this data set, as well as a \"rolling windows\" as an assessment method.  I figured doing a Random Forest regression model would work similar, but something about the model does not work on the test set. Random Forest regression uses decision trees to predict values, but often data cannot be answered in a 'yes/no' form, so a model that does not use that form might work better.  With that logic, I tried again, but this time with a new model, while it scored higher on the test set, was still not great and the residuals mapped a similar pattern."
   ]
  },
  {
   "cell_type": "markdown",
   "metadata": {
    "ExecuteTime": {
     "end_time": "2020-10-06T22:04:40.364311Z",
     "start_time": "2020-10-06T22:04:40.342776Z"
    }
   },
   "source": [
    "List three specific things that you have learned or strengthened as a result of doing this project."
   ]
  },
  {
   "cell_type": "markdown",
   "metadata": {},
   "source": [
    "> I attempted to use my memory for the majority of the project, looking back at old code to solve problems if they arose, instead of reaching out to sources like StackOverflow and the like.  I learned that I had picked up on a number of topics and was able to apply them without a second thought.  These things were mainly how to clean, split, and build basic models, as well as plot residuals and find predictions.  \n",
    "\n",
    "> Hyperparameters are important and understanding what each one does is not necessarialy important, but understanding some of them could help to build a better model.\n",
    "\n",
    "> Models do not have to have a good score to be informative.  From our graphs, although we are using a lot of data, there seems to be some sort of relationship between shares and a number of features in the dataset.  "
   ]
  },
  {
   "cell_type": "markdown",
   "metadata": {},
   "source": [
    "List three good questions that you can related to your work on this project."
   ]
  },
  {
   "cell_type": "markdown",
   "metadata": {},
   "source": [
    "1. What hyperparameters could I change to get models to fit better?\n",
    "\n",
    "2. What data is the best to predict the number of shares an article has?\n",
    "\n",
    "3. Why do people share articles?"
   ]
  },
  {
   "cell_type": "markdown",
   "metadata": {},
   "source": [
    "***"
   ]
  },
  {
   "cell_type": "markdown",
   "metadata": {
    "ExecuteTime": {
     "end_time": "2020-10-06T22:04:58.813848Z",
     "start_time": "2020-10-06T22:04:58.797747Z"
    }
   },
   "source": [
    "## References"
   ]
  },
  {
   "cell_type": "markdown",
   "metadata": {},
   "source": [
    "K. Fernandes, P. Vinagre and P. Cortez. A Proactive Intelligent Decision Support System for Predicting the Popularity of Online News. Proceedings of the 17th EPIA 2015 - Portuguese Conference on Artificial Intelligence, September, Coimbra, Portugal."
   ]
  },
  {
   "cell_type": "markdown",
   "metadata": {},
   "source": [
    "> I used the website as a source to better understand the variables/features used as well as understand what methods had been used on the data before to gain inspiration for what models I should try."
   ]
  },
  {
   "cell_type": "markdown",
   "metadata": {},
   "source": [
    "Raschka, S. and Mirjalili, V., 2019. Python Machine Learning. 3rd ed. Birmingham, UK: Packt."
   ]
  },
  {
   "cell_type": "markdown",
   "metadata": {},
   "source": [
    "> I used the course textbook to help define models and gain better understanding of different hyperparameters available. "
   ]
  },
  {
   "cell_type": "markdown",
   "metadata": {},
   "source": [
    "***"
   ]
  },
  {
   "cell_type": "markdown",
   "metadata": {},
   "source": [
    "> I also utilized old course material that we previously worked with to help build a skeleton for the models I would use."
   ]
  },
  {
   "cell_type": "markdown",
   "metadata": {},
   "source": [
    "***"
   ]
  },
  {
   "cell_type": "markdown",
   "metadata": {},
   "source": [
    "# Feedback Response"
   ]
  },
  {
   "cell_type": "markdown",
   "metadata": {},
   "source": [
    "## Stacked Regressor\n",
    "\n",
    "[StackingRegressor](https://scikit-learn.org/stable/modules/generated/sklearn.ensemble.StackingRegressor.html#:~:text=sklearn.ensemble%20.StackingRegressor%20%C2%B6%20%20%20fit,%28X%2C%20y%202%20more%20rows%20)\n",
    "\n",
    "[RidgeCV](https://scikit-learn.org/stable/modules/generated/sklearn.linear_model.RidgeCV.html)\n",
    "\n",
    "[LinearSVR](https://scikit-learn.org/stable/modules/generated/sklearn.svm.LinearSVR.html)"
   ]
  },
  {
   "cell_type": "code",
   "execution_count": 27,
   "metadata": {
    "ExecuteTime": {
     "end_time": "2020-10-26T03:21:57.685333Z",
     "start_time": "2020-10-26T03:21:57.674339Z"
    }
   },
   "outputs": [],
   "source": [
    "from sklearn.ensemble import StackingRegressor, RandomForestRegressor\n",
    "from sklearn.linear_model import RidgeCV\n",
    "from sklearn.svm import LinearSVR"
   ]
  },
  {
   "cell_type": "markdown",
   "metadata": {},
   "source": [
    "Stacking Regressors uses estimators to build a model.  The two main examples of estimators that I found were `RidgeCV()` and `LinearSVR()`.  "
   ]
  },
  {
   "cell_type": "code",
   "execution_count": 28,
   "metadata": {
    "ExecuteTime": {
     "end_time": "2020-10-26T03:22:42.600321Z",
     "start_time": "2020-10-26T03:21:57.689339Z"
    },
    "scrolled": true
   },
   "outputs": [
    {
     "name": "stderr",
     "output_type": "stream",
     "text": [
      "c:\\users\\natha\\appdata\\local\\programs\\python\\python37\\lib\\site-packages\\sklearn\\svm\\_base.py:947: ConvergenceWarning: Liblinear failed to converge, increase the number of iterations.\n",
      "  \"the number of iterations.\", ConvergenceWarning)\n",
      "c:\\users\\natha\\appdata\\local\\programs\\python\\python37\\lib\\site-packages\\sklearn\\svm\\_base.py:947: ConvergenceWarning: Liblinear failed to converge, increase the number of iterations.\n",
      "  \"the number of iterations.\", ConvergenceWarning)\n",
      "c:\\users\\natha\\appdata\\local\\programs\\python\\python37\\lib\\site-packages\\sklearn\\svm\\_base.py:947: ConvergenceWarning: Liblinear failed to converge, increase the number of iterations.\n",
      "  \"the number of iterations.\", ConvergenceWarning)\n",
      "c:\\users\\natha\\appdata\\local\\programs\\python\\python37\\lib\\site-packages\\sklearn\\svm\\_base.py:947: ConvergenceWarning: Liblinear failed to converge, increase the number of iterations.\n",
      "  \"the number of iterations.\", ConvergenceWarning)\n",
      "c:\\users\\natha\\appdata\\local\\programs\\python\\python37\\lib\\site-packages\\sklearn\\svm\\_base.py:947: ConvergenceWarning: Liblinear failed to converge, increase the number of iterations.\n",
      "  \"the number of iterations.\", ConvergenceWarning)\n",
      "c:\\users\\natha\\appdata\\local\\programs\\python\\python37\\lib\\site-packages\\sklearn\\svm\\_base.py:947: ConvergenceWarning: Liblinear failed to converge, increase the number of iterations.\n",
      "  \"the number of iterations.\", ConvergenceWarning)\n"
     ]
    },
    {
     "data": {
      "text/plain": [
       "StackingRegressor(cv=None,\n",
       "                  estimators=[('lr',\n",
       "                               RidgeCV(alphas=array([ 0.1,  1. , 10. ]),\n",
       "                                       cv=None, fit_intercept=True,\n",
       "                                       gcv_mode=None, normalize=False,\n",
       "                                       scoring=None, store_cv_values=False)),\n",
       "                              ('svr',\n",
       "                               LinearSVR(C=1.0, dual=True, epsilon=0.0,\n",
       "                                         fit_intercept=True,\n",
       "                                         intercept_scaling=1.0,\n",
       "                                         loss='epsilon_insensitive',\n",
       "                                         max_iter=1000, random_state=1,\n",
       "                                         tol=0.0001, verbose=0))],\n",
       "                  final_estim...rue,\n",
       "                                                        ccp_alpha=0.0,\n",
       "                                                        criterion='mse',\n",
       "                                                        max_depth=None,\n",
       "                                                        max_features='auto',\n",
       "                                                        max_leaf_nodes=None,\n",
       "                                                        max_samples=None,\n",
       "                                                        min_impurity_decrease=0.0,\n",
       "                                                        min_impurity_split=None,\n",
       "                                                        min_samples_leaf=1,\n",
       "                                                        min_samples_split=2,\n",
       "                                                        min_weight_fraction_leaf=0.0,\n",
       "                                                        n_estimators=100,\n",
       "                                                        n_jobs=10,\n",
       "                                                        oob_score=False,\n",
       "                                                        random_state=1,\n",
       "                                                        verbose=0,\n",
       "                                                        warm_start=False),\n",
       "                  n_jobs=None, passthrough=False, verbose=0)"
      ]
     },
     "execution_count": 28,
     "metadata": {},
     "output_type": "execute_result"
    }
   ],
   "source": [
    "# choose estimators\n",
    "estimators = [(\"lr\", RidgeCV()),\n",
    "              (\"svr\", LinearSVR(random_state=1, max_iter=1000))]\n",
    "\n",
    "sr = StackingRegressor(\n",
    "    estimators=estimators,\n",
    "    final_estimator=RandomForestRegressor(\n",
    "        n_estimators=100, n_jobs=10, random_state=1\n",
    "    ),\n",
    ")\n",
    "sr.fit(X_train, y_train)"
   ]
  },
  {
   "cell_type": "code",
   "execution_count": 29,
   "metadata": {
    "ExecuteTime": {
     "end_time": "2020-10-26T03:22:42.855409Z",
     "start_time": "2020-10-26T03:22:42.603272Z"
    }
   },
   "outputs": [
    {
     "data": {
      "text/plain": [
       "-0.2066738092419136"
      ]
     },
     "execution_count": 29,
     "metadata": {},
     "output_type": "execute_result"
    }
   ],
   "source": [
    "sr.score(X_train, y_train)"
   ]
  },
  {
   "cell_type": "code",
   "execution_count": 30,
   "metadata": {
    "ExecuteTime": {
     "end_time": "2020-10-26T03:22:43.108122Z",
     "start_time": "2020-10-26T03:22:42.855409Z"
    }
   },
   "outputs": [
    {
     "data": {
      "text/plain": [
       "-0.31173009178305233"
      ]
     },
     "execution_count": 30,
     "metadata": {},
     "output_type": "execute_result"
    }
   ],
   "source": [
    "sr.score(X_test, y_test)"
   ]
  },
  {
   "cell_type": "markdown",
   "metadata": {},
   "source": [
    "Looks like StackingRegressor doesn't score as well on the test set as either models attempted above.  I don't really know much about how to read the results of `get_params()`, but this might be helpful in future models. "
   ]
  },
  {
   "cell_type": "code",
   "execution_count": 31,
   "metadata": {
    "ExecuteTime": {
     "end_time": "2020-10-26T03:22:43.140111Z",
     "start_time": "2020-10-26T03:22:43.112119Z"
    }
   },
   "outputs": [
    {
     "data": {
      "text/plain": [
       "{'cv': None,\n",
       " 'estimators': [('lr',\n",
       "   RidgeCV(alphas=array([ 0.1,  1. , 10. ]), cv=None, fit_intercept=True,\n",
       "           gcv_mode=None, normalize=False, scoring=None, store_cv_values=False)),\n",
       "  ('svr',\n",
       "   LinearSVR(C=1.0, dual=True, epsilon=0.0, fit_intercept=True,\n",
       "             intercept_scaling=1.0, loss='epsilon_insensitive', max_iter=1000,\n",
       "             random_state=1, tol=0.0001, verbose=0))],\n",
       " 'final_estimator__bootstrap': True,\n",
       " 'final_estimator__ccp_alpha': 0.0,\n",
       " 'final_estimator__criterion': 'mse',\n",
       " 'final_estimator__max_depth': None,\n",
       " 'final_estimator__max_features': 'auto',\n",
       " 'final_estimator__max_leaf_nodes': None,\n",
       " 'final_estimator__max_samples': None,\n",
       " 'final_estimator__min_impurity_decrease': 0.0,\n",
       " 'final_estimator__min_impurity_split': None,\n",
       " 'final_estimator__min_samples_leaf': 1,\n",
       " 'final_estimator__min_samples_split': 2,\n",
       " 'final_estimator__min_weight_fraction_leaf': 0.0,\n",
       " 'final_estimator__n_estimators': 100,\n",
       " 'final_estimator__n_jobs': 10,\n",
       " 'final_estimator__oob_score': False,\n",
       " 'final_estimator__random_state': 1,\n",
       " 'final_estimator__verbose': 0,\n",
       " 'final_estimator__warm_start': False,\n",
       " 'final_estimator': RandomForestRegressor(bootstrap=True, ccp_alpha=0.0, criterion='mse',\n",
       "                       max_depth=None, max_features='auto', max_leaf_nodes=None,\n",
       "                       max_samples=None, min_impurity_decrease=0.0,\n",
       "                       min_impurity_split=None, min_samples_leaf=1,\n",
       "                       min_samples_split=2, min_weight_fraction_leaf=0.0,\n",
       "                       n_estimators=100, n_jobs=10, oob_score=False,\n",
       "                       random_state=1, verbose=0, warm_start=False),\n",
       " 'n_jobs': None,\n",
       " 'passthrough': False,\n",
       " 'verbose': 0,\n",
       " 'lr': RidgeCV(alphas=array([ 0.1,  1. , 10. ]), cv=None, fit_intercept=True,\n",
       "         gcv_mode=None, normalize=False, scoring=None, store_cv_values=False),\n",
       " 'svr': LinearSVR(C=1.0, dual=True, epsilon=0.0, fit_intercept=True,\n",
       "           intercept_scaling=1.0, loss='epsilon_insensitive', max_iter=1000,\n",
       "           random_state=1, tol=0.0001, verbose=0),\n",
       " 'lr__alphas': array([ 0.1,  1. , 10. ]),\n",
       " 'lr__cv': None,\n",
       " 'lr__fit_intercept': True,\n",
       " 'lr__gcv_mode': None,\n",
       " 'lr__normalize': False,\n",
       " 'lr__scoring': None,\n",
       " 'lr__store_cv_values': False,\n",
       " 'svr__C': 1.0,\n",
       " 'svr__dual': True,\n",
       " 'svr__epsilon': 0.0,\n",
       " 'svr__fit_intercept': True,\n",
       " 'svr__intercept_scaling': 1.0,\n",
       " 'svr__loss': 'epsilon_insensitive',\n",
       " 'svr__max_iter': 1000,\n",
       " 'svr__random_state': 1,\n",
       " 'svr__tol': 0.0001,\n",
       " 'svr__verbose': 0}"
      ]
     },
     "execution_count": 31,
     "metadata": {},
     "output_type": "execute_result"
    }
   ],
   "source": [
    "sr.get_params(deep=True)"
   ]
  },
  {
   "cell_type": "code",
   "execution_count": 32,
   "metadata": {
    "ExecuteTime": {
     "end_time": "2020-10-26T03:22:43.425867Z",
     "start_time": "2020-10-26T03:22:43.143111Z"
    }
   },
   "outputs": [
    {
     "data": {
      "text/plain": [
       "array([2969.93, 9851.33, 7903.5 , ..., 1420.14,  993.67, 3929.11])"
      ]
     },
     "execution_count": 32,
     "metadata": {},
     "output_type": "execute_result"
    }
   ],
   "source": [
    "y_train_pred = sr.predict(X_train)\n",
    "y_train_pred"
   ]
  },
  {
   "cell_type": "code",
   "execution_count": 33,
   "metadata": {
    "ExecuteTime": {
     "end_time": "2020-10-26T03:22:43.457581Z",
     "start_time": "2020-10-26T03:22:43.429585Z"
    }
   },
   "outputs": [
    {
     "data": {
      "text/plain": [
       "22869     3630.07\n",
       "20435    -7751.33\n",
       "36843    -6503.50\n",
       "19070     -942.07\n",
       "17032    -1847.02\n",
       "           ...   \n",
       "17712    15683.35\n",
       "31457    -2516.29\n",
       "7168      3179.86\n",
       "5970       406.33\n",
       "5114      -629.11\n",
       "Name:  shares, Length: 27750, dtype: float64"
      ]
     },
     "execution_count": 33,
     "metadata": {},
     "output_type": "execute_result"
    }
   ],
   "source": [
    "residuals = y_train - y_train_pred\n",
    "residuals"
   ]
  },
  {
   "cell_type": "code",
   "execution_count": 34,
   "metadata": {
    "ExecuteTime": {
     "end_time": "2020-10-26T03:22:43.691016Z",
     "start_time": "2020-10-26T03:22:43.460584Z"
    },
    "scrolled": true
   },
   "outputs": [
    {
     "data": {
      "text/plain": [
       "<matplotlib.lines.Line2D at 0x161d14ec6c8>"
      ]
     },
     "execution_count": 34,
     "metadata": {},
     "output_type": "execute_result"
    },
    {
     "data": {
      "image/png": "[encoded data removed]",
      "text/plain": [
       "<Figure size 432x288 with 1 Axes>"
      ]
     },
     "metadata": {
      "needs_background": "light"
     },
     "output_type": "display_data"
    }
   ],
   "source": [
    "plt.scatter(y_train, residuals)\n",
    "plt.xlabel(\"train data\")\n",
    "plt.ylabel(\"residuals\")\n",
    "plt.axhline(y=0, c=\"red\")"
   ]
  },
  {
   "cell_type": "markdown",
   "metadata": {},
   "source": [
    "The residual plot is very similar to the two previous models."
   ]
  },
  {
   "cell_type": "markdown",
   "metadata": {},
   "source": [
    "## For Loop\n"
   ]
  },
  {
   "cell_type": "markdown",
   "metadata": {},
   "source": [
    "I want to write a function that will plot the best variables from the data based on correlation to the target.\n",
    "\n",
    "https://stackoverflow.com/questions/42579908/use-corr-to-get-the-correlation-between-two-columns\n",
    "\n",
    "https://stackoverflow.com/questions/16597265/appending-to-an-empty-dataframe-in-pandas"
   ]
  },
  {
   "cell_type": "code",
   "execution_count": 35,
   "metadata": {
    "ExecuteTime": {
     "end_time": "2020-10-26T03:22:43.707015Z",
     "start_time": "2020-10-26T03:22:43.694018Z"
    }
   },
   "outputs": [],
   "source": [
    "def find_best_variables_correlation_one_target(dataframe, target, num_vars):\n",
    "    \"\"\"\n",
    "    input\n",
    "    -----\n",
    "    dataframe : cleaned dataframe\n",
    "    target : column name that is the target variable\n",
    "    num_vars : number of variables to find\n",
    "\n",
    "    output\n",
    "    ------\n",
    "    df : dataframe with num_vars rows of correlation values\n",
    "\n",
    "    \"\"\"\n",
    "    X = dataframe.drop(columns=[target], axis=1)\n",
    "    y = dataframe[target]\n",
    "    \n",
    "    df = pd.DataFrame()\n",
    "\n",
    "    for i in X.columns:\n",
    "        correlation = X[i].corr(y)\n",
    "        \n",
    "        corr = pd.DataFrame([[i, correlation]], columns = [\"Variable\", \"Correlation\"])\n",
    "        df = df.append(corr)  \n",
    "           \n",
    "    print(display(df.nlargest(num_vars, 'Correlation')))"
   ]
  },
  {
   "cell_type": "code",
   "execution_count": 36,
   "metadata": {
    "ExecuteTime": {
     "end_time": "2020-10-26T03:22:43.947028Z",
     "start_time": "2020-10-26T03:22:43.711017Z"
    },
    "scrolled": false
   },
   "outputs": [
    {
     "data": {
      "text/html": [
       "<div>\n",
       "<style scoped>\n",
       "    .dataframe tbody tr th:only-of-type {\n",
       "        vertical-align: middle;\n",
       "    }\n",
       "\n",
       "    .dataframe tbody tr th {\n",
       "        vertical-align: top;\n",
       "    }\n",
       "\n",
       "    .dataframe thead th {\n",
       "        text-align: right;\n",
       "    }\n",
       "</style>\n",
       "<table border=\"1\" class=\"dataframe\">\n",
       "  <thead>\n",
       "    <tr style=\"text-align: right;\">\n",
       "      <th></th>\n",
       "      <th>Variable</th>\n",
       "      <th>Correlation</th>\n",
       "    </tr>\n",
       "  </thead>\n",
       "  <tbody>\n",
       "    <tr>\n",
       "      <th>0</th>\n",
       "      <td>kw_avg_avg</td>\n",
       "      <td>0.110413</td>\n",
       "    </tr>\n",
       "    <tr>\n",
       "      <th>0</th>\n",
       "      <td>LDA_03</td>\n",
       "      <td>0.083771</td>\n",
       "    </tr>\n",
       "    <tr>\n",
       "      <th>0</th>\n",
       "      <td>kw_max_avg</td>\n",
       "      <td>0.064306</td>\n",
       "    </tr>\n",
       "    <tr>\n",
       "      <th>0</th>\n",
       "      <td>self_reference_avg_sharess</td>\n",
       "      <td>0.057789</td>\n",
       "    </tr>\n",
       "    <tr>\n",
       "      <th>0</th>\n",
       "      <td>self_reference_min_shares</td>\n",
       "      <td>0.055958</td>\n",
       "    </tr>\n",
       "    <tr>\n",
       "      <th>0</th>\n",
       "      <td>self_reference_max_shares</td>\n",
       "      <td>0.047115</td>\n",
       "    </tr>\n",
       "    <tr>\n",
       "      <th>0</th>\n",
       "      <td>num_hrefs</td>\n",
       "      <td>0.045404</td>\n",
       "    </tr>\n",
       "    <tr>\n",
       "      <th>0</th>\n",
       "      <td>kw_avg_max</td>\n",
       "      <td>0.044686</td>\n",
       "    </tr>\n",
       "    <tr>\n",
       "      <th>0</th>\n",
       "      <td>kw_min_avg</td>\n",
       "      <td>0.039551</td>\n",
       "    </tr>\n",
       "    <tr>\n",
       "      <th>0</th>\n",
       "      <td>num_imgs</td>\n",
       "      <td>0.039388</td>\n",
       "    </tr>\n",
       "  </tbody>\n",
       "</table>\n",
       "</div>"
      ],
      "text/plain": [
       "                      Variable  Correlation\n",
       "0                   kw_avg_avg     0.110413\n",
       "0                       LDA_03     0.083771\n",
       "0                   kw_max_avg     0.064306\n",
       "0   self_reference_avg_sharess     0.057789\n",
       "0    self_reference_min_shares     0.055958\n",
       "0    self_reference_max_shares     0.047115\n",
       "0                    num_hrefs     0.045404\n",
       "0                   kw_avg_max     0.044686\n",
       "0                   kw_min_avg     0.039551\n",
       "0                     num_imgs     0.039388"
      ]
     },
     "metadata": {},
     "output_type": "display_data"
    },
    {
     "name": "stdout",
     "output_type": "stream",
     "text": [
      "None\n"
     ]
    }
   ],
   "source": [
    "find_best_variables_correlation_one_target(news_df, \" shares\", 10)"
   ]
  },
  {
   "cell_type": "markdown",
   "metadata": {
    "ExecuteTime": {
     "end_time": "2020-10-26T02:08:09.714250Z",
     "start_time": "2020-10-26T01:48:19.818Z"
    }
   },
   "source": [
    "## Answer to Q3"
   ]
  },
  {
   "cell_type": "markdown",
   "metadata": {},
   "source": [
    "According to the function I have built, the correlation between kw_avg_avg (Avg. keyword (avg. shares)) and shares is the greatest at .11.  \n",
    "\n",
    "I am not sure what the column name means, but it includes shares, so trying to find correlation between shares and something related to shares seems biased.\n",
    "\n",
    "LDA_03 would be the next best variable.  This variable is described as 'Closeness to LDA topic 3' which seems to relate to the Latent Dirichlet Allocation, an statistical model used in natural language processing.  I am not sure what the number means.\n",
    "\n",
    "The next best variable would be `self_reference_avg_shares` as `kw_max_avg` contains shares in the name again.  This column is described as 'the average shares of referenced articles in Mashable.'"
   ]
  }
 ],
 "metadata": {
  "kernelspec": {
   "display_name": "Python 3",
   "language": "python",
   "name": "python3"
  },
  "language_info": {
   "codemirror_mode": {
    "name": "ipython",
    "version": 3
   },
   "file_extension": ".py",
   "mimetype": "text/x-python",
   "name": "python",
   "nbconvert_exporter": "python",
   "pygments_lexer": "ipython3",
   "version": "3.7.9"
  },
  "notify_time": "10",
  "toc": {
   "base_numbering": 1,
   "nav_menu": {},
   "number_sections": true,
   "sideBar": true,
   "skip_h1_title": false,
   "title_cell": "Table of Contents",
   "title_sidebar": "Contents",
   "toc_cell": true,
   "toc_position": {
    "height": "calc(100% - 180px)",
    "left": "10px",
    "top": "150px",
    "width": "199.865px"
   },
   "toc_section_display": true,
   "toc_window_display": false
  }
 },
 "nbformat": 4,
 "nbformat_minor": 4
}
