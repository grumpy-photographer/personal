{
 "cells": [
  {
   "cell_type": "code",
   "execution_count": 1,
   "metadata": {},
   "outputs": [],
   "source": [
    "import pandas as pd\n",
    "import seaborn as sns\n",
    "import numpy as np\n",
    "import matplotlib.pyplot as plt\n",
    "from sklearn.model_selection import train_test_split, GridSearchCV\n",
    "from sklearn.ensemble import RandomForestClassifier\n",
    "from sklearn.metrics import confusion_matrix"
   ]
  },
  {
   "cell_type": "code",
   "execution_count": 2,
   "metadata": {},
   "outputs": [],
   "source": [
    "def landslide_classification(target, train_size=.7):\n",
    "    \"\"\"\n",
    "    input:\n",
    "        target : str : variable to predict\n",
    "            available targets: landslide, mudslide, complex, rock_fall,\n",
    "            debris_flow, riverbank_collapse, other, unknown, lahar,\n",
    "            snow_avalanche, creep, earth_flow, translational_slide, topple\n",
    "        train_size : float : size of training set < 1; default = .7\n",
    "    output:\n",
    "        cm : plot : confusion matrix of classification\n",
    "    \"\"\"\n",
    "    # load data\n",
    "    data = pd.read_csv(\n",
    "        \"https://data.nasa.gov/api/views/dd9e-wu2v/rows.csv?accessType=DOWNLOAD\"\n",
    "    )\n",
    "\n",
    "    # clean whitespace from columns\n",
    "    data.columns = data.columns.str.strip()\n",
    "\n",
    "    # get dummies for target variable\n",
    "    dum = pd.get_dummies(data[\"landslide_category\"])\n",
    "    new_df = data.join(dum)\n",
    "\n",
    "    # clean new_df\n",
    "    new_df = new_df.select_dtypes(exclude=\"object\")\n",
    "    new_df = new_df.drop(\n",
    "        columns=[\"event_id\", \"event_time\", \"longitude\", \"latitude\", \"event_import_id\"],\n",
    "        axis=1,\n",
    "    )\n",
    "    new_df = new_df.dropna()\n",
    "\n",
    "    # set x and y values\n",
    "    X = new_df[[\"fatality_count\", \"injury_count\"]]\n",
    "    y = new_df[target]\n",
    "\n",
    "    # split data\n",
    "    X_train, X_test, y_train, y_test = train_test_split(\n",
    "        X, y, train_size=train_size, random_state=1\n",
    "    )\n",
    "\n",
    "    # build Random Forest Classifier params for GridSearchCV\n",
    "    rfc = RandomForestClassifier()\n",
    "    params = {\n",
    "        \"n_estimators\": [100, 1000, 1500],\n",
    "        \"criterion\": [\"gini\", \"entropy\"],\n",
    "        \"max_depth\": [1, 5, 10],\n",
    "        \"max_features\": [\"sqrt\", \"log2\"],\n",
    "        \"n_jobs\": [-1],\n",
    "        \"random_state\": [1],\n",
    "    }\n",
    "\n",
    "    # Build GridSearchCV\n",
    "    grid = GridSearchCV(rfc, params).fit(X_train, y_train)\n",
    "    grid_df = pd.DataFrame(grid.cv_results_)\n",
    "\n",
    "    # Find best model\n",
    "    best_model = grid_df.loc[:\"mean_test_score\"].max()\n",
    "\n",
    "    # Train best model\n",
    "    best_rfc = RandomForestClassifier(\n",
    "        n_estimators=best_model.param_n_estimators,\n",
    "        criterion=best_model.param_criterion,\n",
    "        max_depth=best_model.param_max_depth,\n",
    "        max_features=best_model.param_max_features,\n",
    "        n_jobs=best_model.param_n_jobs,\n",
    "        random_state=best_model.param_random_state,\n",
    "    ).fit(X_train, y_train)\n",
    "\n",
    "    y_pred = best_rfc.predict(X)\n",
    "\n",
    "    # get results\n",
    "    con_mat = confusion_matrix(y, y_pred)\n",
    "    accuracy = np.trace(con_mat) / np.sum(con_mat).astype(\"float\")\n",
    "    misclassified = 1 - accuracy\n",
    "\n",
    "    ax = plt.subplot()\n",
    "    sns.heatmap(con_mat, annot=True, fmt=\"d\", cmap=\"YlGnBu\")\n",
    "    plt.title(label=target + \" Confusion Matrix\")\n",
    "    plt.xlabel(\n",
    "        \"Predicted\\naccuracy={:0.4f}; misclassified={:0.4f}\".format(\n",
    "            accuracy, misclassified\n",
    "        )\n",
    "    )\n",
    "    plt.ylabel(\"True\")\n",
    "    ax.xaxis.set_ticklabels([\"Positive\", \"Negative\"])\n",
    "    ax.yaxis.set_ticklabels([\"Positive\", \"Negative\"])\n",
    "\n",
    "    return plt.show()"
   ]
  },
  {
   "cell_type": "code",
   "execution_count": 3,
   "metadata": {},
   "outputs": [
    {
     "name": "stderr",
     "output_type": "stream",
     "text": [
      "C:\\Users\\natha\\AppData\\Local\\Temp\\ipykernel_33864\\2961131725.py:57: FutureWarning: Dropping of nuisance columns in DataFrame reductions (with 'numeric_only=None') is deprecated; in a future version this will raise TypeError.  Select only valid columns before calling the reduction.\n",
      "  best_model = grid_df.loc[:\"mean_test_score\"].max()\n"
     ]
    },
    {
     "data": {
      "image/png": "[encoded data removed]",
      "text/plain": [
       "<Figure size 432x288 with 2 Axes>"
      ]
     },
     "metadata": {
      "needs_background": "light"
     },
     "output_type": "display_data"
    }
   ],
   "source": [
    "landslide_classification(target=\"rock_fall\", train_size=.5)"
   ]
  },
  {
   "cell_type": "code",
   "execution_count": null,
   "metadata": {},
   "outputs": [],
   "source": []
  }
 ],
 "metadata": {
  "kernelspec": {
   "display_name": "Python 3.10.6 64-bit",
   "language": "python",
   "name": "python3"
  },
  "language_info": {
   "codemirror_mode": {
    "name": "ipython",
    "version": 3
   },
   "file_extension": ".py",
   "mimetype": "text/x-python",
   "name": "python",
   "nbconvert_exporter": "python",
   "pygments_lexer": "ipython3",
   "version": "3.10.6"
  },
  "vscode": {
   "interpreter": {
    "hash": "26de051ba29f2982a8de78e945f0abaf191376122a1563185a90213a26c5da77"
   }
  }
 },
 "nbformat": 4,
 "nbformat_minor": 4
}
