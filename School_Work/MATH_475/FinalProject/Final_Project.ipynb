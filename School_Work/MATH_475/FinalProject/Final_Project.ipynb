{
 "cells": [
  {
   "cell_type": "markdown",
   "metadata": {},
   "source": [
    "# Predicting Hazardous Asteroids\n",
    "\n",
    "### What\n",
    "\n",
    "NASA (National Aeronautics and Space Administration) is a world-renown organization headquartered in the United States.  The organization was created during the Space Race with Russia, in response to Sputnik 1 being launched into orbit around Earth.  Since then, NASA has landed people on the moon, rovers on Mars, telescopes into deep space, built (with international partnerships) a space station, and is still working to develop new technologies every day.  Part of their research takes a look at asteroids and attempts to determine if asteroids are hazardous or safe to Earth, so that we can take proper action should it be necessary.  The data used in this project comes from [Kaggle](https://www.kaggle.com/shrutimehta/nasa-asteroids-classification), but originates from NASA.\n",
    "\n",
    "This data contains 40 variables which can be summarized as follows:\n",
    "\n",
    "- The first two columns contain identical identifier values and are not too important or beneficial for a model. \n",
    "- The next feature is the absolute magnitude which looks looks at the brightness of an celestial object, according to the definition of absolute magnitude, as it would be seen at a distance of 10 parsecs (equal to 1.9174E+14 miles).  \n",
    "- The next set of features are related to the diameter of asteroids.  Estimates are made in kilometers (km), meters (m), miles (mi), and feet (ft), with data for the maximum and minimum of each distance.  \n",
    "- There are two columns addressing the date asteroids will approach Earth, by date and periods (epoch).  \n",
    "- Features also include the speed of the asteroid, the distance from the earth the asteroid will pass, measured in astronomical, lunar, km, and mi units.  \n",
    "- There are a number of columns dealing with the orbit pattern including the orbital period, perihelion distance, aphelion distance, eccentricity and the like.\n",
    "\n",
    "There is one target in the 40 columns:\n",
    "\n",
    "- The target variable is `hazardous` column, showing whether the asteroid is hazardous or not, based on size, speed, and orbit.\n",
    "  \n",
    "### Why\n",
    "\n",
    "My grandfather worked for NASA during the Apollo missions.  This alone got me interested in a career in aeronautics, as well as witnessing SpaceX's many successes (and failures) and eventual partnership with NASA to launch American astronauts from American soil.  Today, my interest in space continues to grow and one of my goals is to work for an aeronautics company in the future.  Chances of me getting that a role like that are slim, right now, so the best thing I can do is work with data they provide to continue building my skills and experience.\n",
    "\n",
    "Let's get started!\n",
    "\n",
    "## Imports\n",
    "\n",
    "First, we will import \"global\" packages that we will use throughout our code. We will import `pandas`, `numpy`, `seaborn`, `matplotlib`, and various sklearn libraries."
   ]
  },
  {
   "cell_type": "code",
   "execution_count": 8,
   "metadata": {
    "collapsed": false,
    "pycharm": {
     "name": "#%%\n"
    }
   },
   "outputs": [],
   "source": [
    "import pandas as pd\n",
    "import numpy as np\n",
    "from sklearn.model_selection import train_test_split, GridSearchCV\n",
    "from sklearn.metrics import confusion_matrix, classification_report\n",
    "import seaborn as sns\n",
    "import matplotlib.pyplot as plt"
   ]
  },
  {
   "cell_type": "markdown",
   "metadata": {
    "collapsed": false,
    "pycharm": {
     "name": "#%% md\n"
    }
   },
   "source": [
    "### Load data\n",
    "\n",
    "Thanks to this data coming from Kaggle, there are no special steps or attributes necessary to load data into a data frame.  We can just use the `read_csv()` function included in the Pandas library."
   ]
  },
  {
   "cell_type": "code",
   "execution_count": 9,
   "metadata": {
    "collapsed": false,
    "pycharm": {
     "name": "#%%\n"
    }
   },
   "outputs": [],
   "source": [
    "asteroids = pd.read_csv(\"nasa.csv\")"
   ]
  },
  {
   "cell_type": "markdown",
   "metadata": {
    "collapsed": false,
    "pycharm": {
     "name": "#%% md\n"
    }
   },
   "source": [
    "### Understand data\n",
    "\n",
    "Now that the data has been loaded, let's take a run-down of contents.  Again, this data comes from Kaggle and thus has already been preprocessed, but we might want to do more to make it our own.  We can use `.info()` to get information on the columns."
   ]
  },
  {
   "cell_type": "code",
   "execution_count": 10,
   "metadata": {
    "ExecuteTime": {
     "end_time": "2020-11-19T22:53:31.443222Z",
     "start_time": "2020-11-19T22:53:31.404441Z"
    },
    "jupyter": {
     "source_hidden": true
    }
   },
   "outputs": [
    {
     "name": "stdout",
     "output_type": "stream",
     "text": [
      "<class 'pandas.core.frame.DataFrame'>\n",
      "RangeIndex: 4687 entries, 0 to 4686\n",
      "Data columns (total 40 columns):\n",
      " #   Column                        Non-Null Count  Dtype  \n",
      "---  ------                        --------------  -----  \n",
      " 0   Neo Reference ID              4687 non-null   int64  \n",
      " 1   Name                          4687 non-null   int64  \n",
      " 2   Absolute Magnitude            4687 non-null   float64\n",
      " 3   Est Dia in KM(min)            4687 non-null   float64\n",
      " 4   Est Dia in KM(max)            4687 non-null   float64\n",
      " 5   Est Dia in M(min)             4687 non-null   float64\n",
      " 6   Est Dia in M(max)             4687 non-null   float64\n",
      " 7   Est Dia in Miles(min)         4687 non-null   float64\n",
      " 8   Est Dia in Miles(max)         4687 non-null   float64\n",
      " 9   Est Dia in Feet(min)          4687 non-null   float64\n",
      " 10  Est Dia in Feet(max)          4687 non-null   float64\n",
      " 11  Close Approach Date           4687 non-null   object \n",
      " 12  Epoch Date Close Approach     4687 non-null   int64  \n",
      " 13  Relative Velocity km per sec  4687 non-null   float64\n",
      " 14  Relative Velocity km per hr   4687 non-null   float64\n",
      " 15  Miles per hour                4687 non-null   float64\n",
      " 16  Miss Dist.(Astronomical)      4687 non-null   float64\n",
      " 17  Miss Dist.(lunar)             4687 non-null   float64\n",
      " 18  Miss Dist.(kilometers)        4687 non-null   float64\n",
      " 19  Miss Dist.(miles)             4687 non-null   float64\n",
      " 20  Orbiting Body                 4687 non-null   object \n",
      " 21  Orbit ID                      4687 non-null   int64  \n",
      " 22  Orbit Determination Date      4687 non-null   object \n",
      " 23  Orbit Uncertainity            4687 non-null   int64  \n",
      " 24  Minimum Orbit Intersection    4687 non-null   float64\n",
      " 25  Jupiter Tisserand Invariant   4687 non-null   float64\n",
      " 26  Epoch Osculation              4687 non-null   float64\n",
      " 27  Eccentricity                  4687 non-null   float64\n",
      " 28  Semi Major Axis               4687 non-null   float64\n",
      " 29  Inclination                   4687 non-null   float64\n",
      " 30  Asc Node Longitude            4687 non-null   float64\n",
      " 31  Orbital Period                4687 non-null   float64\n",
      " 32  Perihelion Distance           4687 non-null   float64\n",
      " 33  Perihelion Arg                4687 non-null   float64\n",
      " 34  Aphelion Dist                 4687 non-null   float64\n",
      " 35  Perihelion Time               4687 non-null   float64\n",
      " 36  Mean Anomaly                  4687 non-null   float64\n",
      " 37  Mean Motion                   4687 non-null   float64\n",
      " 38  Equinox                       4687 non-null   object \n",
      " 39  Hazardous                     4687 non-null   bool   \n",
      "dtypes: bool(1), float64(30), int64(5), object(4)\n",
      "memory usage: 1.4+ MB\n"
     ]
    }
   ],
   "source": [
    "# view basic info about columns\n",
    "asteroids.info()"
   ]
  },
  {
   "cell_type": "markdown",
   "metadata": {},
   "source": [
    "Each column has the same number of non-null rows which matches the number of rows the dataframe contains (see RangeIndex value at the top of the result pane).  That means there are likely no nulls in the data.  We can see here that there are four (4) columns with the `object` data type and five (5) columns with the `int64` data type.  Let's look at what these columns contain to see if they are helpful. We already plan on dropping the first two `int64` columns, but we will take a look to understand why. We will look at the others following in order, for readability.  \n",
    "\n",
    "First, `Neo Reference ID`.\n",
    "As mentioned before, these values just identify asteroids.  Interesting enough, if you put `.sum()` at the end, it will give you the sum of the column, adding each value together.  That is not the interesting part, as that should be obvious.  What is interesting is if you add `.sum()` to `.unique()` you get a smaller value when you would expect the same value.  This means some asteroids can be found more than once in this data set.  We might want to remove duplicates as they may throw the model off or train it too well. \n",
    "\n",
    "The `Name` column should contain the same values, but we can check just to make sure.\n",
    "Sure enough, as expected, both `Neo Reference ID` and `Name` contain the same values.  We can drop these columns after we use them to remove duplicates.  \n",
    "\n",
    "Let's look at `Close Approach Date`.\n",
    "We don't have access to the metadata, but from the column name, `Close Approach Date` is most likely the date the asteroid will pass closest to the earth.  While it might be interesting to see if there is a pattern in dates relating to if an asteroid is hazardous or not, that exploration is for another project.  If we wanted to use this column, we could encode it, but that would result in over 4000 new columns.  Instead of doing that, for this project, we will drop this column. \n",
    "\n",
    "Let's look at `Epoch Date Close Approach`.\n",
    "There are a number of unique values, but it might be the `Close Approach Date` in epoch format.  Since we are not completely sure, we will drop this column too.  \n",
    "\n",
    "Let's look at `Orbiting Body`.\n",
    "Looking at the data in the `Orbiting Body` column, we can tell that the value is the body the asteroid is orbiting.  Now, basic knowledge of the solar system will tell us that we (Earth) orbit the sun, as does everything else in our the solar system.  We then have an idea of what this column will contain for the values we cannot see.  When `.unique()` argument, we are able to find each distinct value in a column.  Having 4686 rows with the same value  ('Earth') seems odd, but since this data is determining if an asteroid is hazardous to Earth and not the entire solar system, it makes sense.  We can remove this column as it provides no helpful information for classification.\n",
    "\n",
    "Let's take a look at `Orbit ID`.\n",
    "If we were to look at a map of asteroids orbiting Earth, we would see rings going around the planet.  Without the meta data it is difficult to be certain what this column is trying to share with us, but it could be an identifier of an orbital pattern.  Because we don't know exactly what this column means, we will remove it from this classification project.\n",
    "\n",
    "Let's look at `Orbit Determination Date`.\n",
    "This column contains more dates but this column contains times as well.  Again, without meta data we cannot conclude for sure what the definition of this column is, but it might be pertaining to the date and time an asteroid completes an orbit around Earth.  Much like `Close Approach Date`, `Orbit Determination Date` is not helpful for this classification project, thought it might provide helpful insight for other projects.\n",
    "\n",
    "Next, we will check out the `Orbit Uncertainity` column.\n",
    "The column name has a spelling error, adding an extra 'i' so if we keeping it we could make that change.  However, we do not have much information about this column and therefore we will not use it in this classification project.\n",
    "\n",
    "Finally, let's look at `Equinox`.\n",
    "The \"equinox\" is the time or date when the equator of the sun matches the equator of the earth, causing day and night to be equal lengths.  In this case, the values are obviously not in standard date and time, however they are in date and time.  This format is called the \"standard equinox (and epoch)\" where \"J\" stands for \"Julian epoch\" and \"2000\" refers to January 1, 2000, 12:00 Terrestrial Time ([more here](https://community.esri.com/t5/coordinate-reference-systems/drifting-of-the-celestial-sphere-what-is-j2000/ba-p/902058)).  This is a standard value being used since 1984 and is not helpful to determining if an asteroid is hazardous or not, so we will remove this column from our project.\n",
    "\n",
    "None of the columns with an `object` or `int64` data type are helpful when determining if an asteroid is hazardous or not so we will drop them when we clean the data.\n",
    "\n",
    "Also, earlier we mentioned removing the first two columns as they are identifiers and contain the exact same data.  We will do this in the next step as well.\n",
    "\n",
    "[Code from Stack Overflow](https://stackoverflow.com/questions/48817592/how-to-drop-dataframe-columns-based-on-dtype)\n",
    "\n",
    "[Help from Stack Overflow](https://stackoverflow.com/questions/44026832/valueerror-number-of-features-of-the-model-must-match-the-input/44028890#44028890)\n",
    "\n",
    "### Automation"
   ]
  },
  {
   "cell_type": "code",
   "execution_count": 11,
   "metadata": {},
   "outputs": [],
   "source": [
    "from sklearn.ensemble import RandomForestClassifier\n",
    "from sklearn.preprocessing import StandardScaler\n",
    "\n",
    "def random_forest_class(data, dtypes_to_drop, nestimators, mdepth, target):\n",
    "    \"\"\"\n",
    "    Input:\n",
    "        data : str : path to data\n",
    "        dtypes_to_drop : list : remove columns based on dtype\n",
    "        nestimators : list : number of trees to build\n",
    "        mdepth : np.arange int : range of depths\n",
    "        target : str : target variable\n",
    "\n",
    "    Output:\n",
    "        cm : graph : confusion matrix\n",
    "    \"\"\"\n",
    "    df = pd.read_csv(data)\n",
    "\n",
    "    df = df.select_dtypes(exclude=dtypes_to_drop)\n",
    "\n",
    "    X = df.drop(target, axis=1)\n",
    "    y = df[target]\n",
    "\n",
    "    X_train, X_test, y_train, y_test = train_test_split(\n",
    "        X, y, train_size=0.7, test_size=0.3\n",
    "    )\n",
    "\n",
    "    sc = StandardScaler()\n",
    "    sc.fit(X_train)\n",
    "    X_train_std = sc.transform(X_train)\n",
    "    X_test_std = sc.transform(X_test)\n",
    "\n",
    "    X_combined_std = np.vstack((X_train_std, X_test_std))\n",
    "    y_combined = np.hstack((y_train, y_test))\n",
    "\n",
    "    rfc = RandomForestClassifier()\n",
    "\n",
    "    parameters = {\n",
    "        \"n_estimators\": [n for n in nestimators],\n",
    "        \"max_depth\": [d for d in mdepth],\n",
    "        \"criterion\": (\"gini\", \"entropy\"),\n",
    "    }\n",
    "\n",
    "    grid_search = GridSearchCV(rfc, parameters).fit(X_train, y_train)\n",
    "    grid_search_data = pd.DataFrame(grid_search.cv_results_)\n",
    "\n",
    "    best_mean_score = grid_search_data['mean_test_score'].max()\n",
    "    best_row = grid_search_data.loc[grid_search_data['mean_test_score']==best_mean_score]\n",
    "\n",
    "    best_rfc = RandomForestClassifier(\n",
    "        n_estimators=best_row['param_n_estimators'].values[0],\n",
    "        max_depth=best_row['param_max_depth'].values[0],\n",
    "        criterion=best_row['param_criterion'].values[0],\n",
    "        n_jobs=-1,\n",
    "        random_state=1,\n",
    "    ).fit(X_train, y_train)\n",
    "\n",
    "    #best_model = grid_search_data.loc[:\"mean_test_score\"].max()\n",
    "\n",
    "    #best_rfc = RandomForestClassifier(\n",
    "    #    n_estimators=best_model.param_n_estimators,\n",
    "    #    max_depth=best_model.param_max_depth,\n",
    "    #    criterion=best_model.param_criterion,\n",
    "    #    n_jobs=-1,\n",
    "    #    random_state=1,\n",
    "    #).fit(X_train, y_train)\n",
    "\n",
    "    sr = classification_report(y, best_rfc.predict(X))\n",
    "\n",
    "    cm = confusion_matrix(y, best_rfc.predict(X))\n",
    "\n",
    "    return sns.heatmap(cm, annot=True, fmt=\"d\");"
   ]
  },
  {
   "cell_type": "code",
   "execution_count": 12,
   "metadata": {},
   "outputs": [
    {
     "data": {
      "image/png": "[encoded data removed]",
      "text/plain": [
       "<Figure size 640x480 with 2 Axes>"
      ]
     },
     "metadata": {},
     "output_type": "display_data"
    }
   ],
   "source": [
    "random_forest_class(\n",
    "    data=\"nasa.csv\",\n",
    "    dtypes_to_drop=[\"object\", \"int64\"],\n",
    "    nestimators=(100, 1000),\n",
    "    mdepth=np.arange(1, 5),\n",
    "    target=\"Hazardous\",\n",
    ");"
   ]
  },
  {
   "cell_type": "markdown",
   "metadata": {},
   "source": [
    "Looking at the confusion matrix, we can tell that this model, using 30 features, classified hazardous and non-hazardous asteroids fairly well.  \n",
    "\n",
    "- The top left corner, the True Negative quadrant, shows us that the model accurately predicted non-hazardous asteroids 3930 times.\n",
    "- The top right corner tells us that the model predicted two False Positives, hazardous asteroids, that it believed were non-hazardous.\n",
    "- The bottom left corner, the False Negative quadrant, tells us that the model classified 13 asteroids as non-hazardous when they were actually hazardous.\n",
    "- In the bottom right corner, the True Positive quadrant, we can see the model accurately predicted hazardous asteroids 742 times.\n",
    "\n",
    "The score report tells us that the model predicted with 100% precision True (Hazardous) and False (Non-Hazardous) asteroids.\n",
    "I had wanted to find how few features could be used, but when I tried to set `n_features` I kept getting an error, so unfortunately, I was unable to explore that.\n",
    "\n",
    "## New Model\n",
    "\n",
    "I had previously experimented with the BaggingClassifier in a previous project, but ended up not following through with it.  I wanted to attempt to use it again and felt this project was a good place to do so.  The bagging classifier, according to the text book, there are multiple rounds of bagging.  In each round, data is fit to a classifier, creating multiple random samples.  Once each classifier is fit to a bootstrap sample, they are combined using majority voting.  The results should be similar to the ones in the RandomForestClassification model above because Random Forests are actually special bagging classifiers."
   ]
  },
  {
   "cell_type": "code",
   "execution_count": 13,
   "metadata": {
    "code_folding": []
   },
   "outputs": [],
   "source": [
    "from sklearn.ensemble import BaggingClassifier\n",
    "from sklearn.tree import DecisionTreeClassifier\n",
    "\n",
    "def bag_class(data, dtypes_to_drop, mdepth, nestimators, target):\n",
    "    \"\"\"\n",
    "    Input:\n",
    "        data : str : path to data\n",
    "        dtypes_to_drop : list : remove columns based on dtype\n",
    "        nestimators : list : number of trees to build\n",
    "        mdepth : np.arange int : range of depths\n",
    "        target : str : target variable\n",
    "\n",
    "    Output:\n",
    "        cm : graph : confusion matrix\n",
    "    \"\"\"\n",
    "    df = pd.read_csv(data)\n",
    "\n",
    "    df = df.select_dtypes(exclude=dtypes_to_drop)\n",
    "\n",
    "    X = df.drop(target, axis=1)\n",
    "    y = df[target]\n",
    "\n",
    "    X_train, X_test, y_train, y_test = train_test_split(\n",
    "        X, y, train_size=0.7, test_size=0.3\n",
    "    )\n",
    "\n",
    "    sc = StandardScaler()\n",
    "    sc.fit(X_train)\n",
    "    X_train_std = sc.transform(X_train)\n",
    "    X_test_std = sc.transform(X_test)\n",
    "\n",
    "    X_combined_std = np.vstack((X_train_std, X_test_std))\n",
    "    y_combined = np.hstack((y_train, y_test))\n",
    "\n",
    "    dt = DecisionTreeClassifier()\n",
    "\n",
    "    tree_parameters = {\n",
    "        \"criterion\": (\"gini\", \"entropy\"),\n",
    "        \"splitter\": (\"best\", \"random\"),\n",
    "        \"max_depth\": [d for d in mdepth],\n",
    "    }\n",
    "\n",
    "    grid_search_tree = GridSearchCV(dt, tree_parameters).fit(X_train, y_train)\n",
    "    grid_search_tree_data = pd.DataFrame(grid_search_tree.cv_results_)\n",
    "\n",
    "    best_mean_score = grid_search_tree_data[\"mean_test_score\"].max()\n",
    "    best_row = grid_search_tree_data.loc[\n",
    "        grid_search_tree_data[\"mean_test_score\"] == best_mean_score\n",
    "    ]\n",
    "\n",
    "    best_tree = DecisionTreeClassifier(\n",
    "        criterion=best_row[\"param_criterion\"].values[0],\n",
    "        splitter=best_row[\"param_splitter\"].values[0],\n",
    "        max_depth=best_row[\"param_max_depth\"].values[0],\n",
    "        random_state=1,\n",
    "    ).fit(X_train, y_train)\n",
    "\n",
    "    #best_model_tree = grid_search_tree_data.loc[:\"mean_test_score\"].max()\n",
    "\n",
    "    #best_tree = DecisionTreeClassifier(\n",
    "    #    criterion=best_model_tree.param_criterion,\n",
    "    #    splitter=best_model_tree.param_splitter,\n",
    "    #    max_depth=best_model_tree.param_max_depth,\n",
    "    #    random_state=1,\n",
    "    #).fit(X_train, y_train)\n",
    "\n",
    "    bag = BaggingClassifier()\n",
    "\n",
    "    bag_params = {\n",
    "        \"n_estimators\": [n for n in nestimators],\n",
    "        \"bootstrap\": (True, False),\n",
    "    }\n",
    "\n",
    "    grid_search_bag = GridSearchCV(bag, bag_params).fit(X_train, y_train)\n",
    "    grid_search_bag_data = pd.DataFrame(grid_search_bag.cv_results_)\n",
    "\n",
    "    best_mean_score = grid_search_bag_data['mean_test_score'].max()\n",
    "    best_row = grid_search_bag_data.loc[grid_search_bag_data['mean_test_score']==best_mean_score]\n",
    "\n",
    "    best_bag = BaggingClassifier(\n",
    "        n_estimators=best_row['param_n_estimators'].values[0],\n",
    "        bootstrap=best_row['param_bootstrap'].values[0],\n",
    "        n_jobs=-1,\n",
    "        random_state=1,\n",
    "    ).fit(X_train, y_train)\n",
    "\n",
    "    # best_model_bag = grid_search_bag_data.loc[:\"mean_test_score\"].max()\n",
    "\n",
    "    # est_bag = BaggingClassifier(\n",
    "    #    base_estimator=best_tree,\n",
    "    #    n_estimators=best_model_bag.param_n_estimators,\n",
    "    #    bootstrap=best_model_bag.param_bootstrap,\n",
    "    #    n_jobs=-1,\n",
    "    #    random_state=1,\n",
    "    # ).fit(X_train, y_train)\n",
    "\n",
    "    sr = classification_report(y, best_bag.predict(X))\n",
    "\n",
    "    cm = confusion_matrix(y, best_bag.predict(X))\n",
    "\n",
    "    return sns.heatmap(cm, annot=True, fmt=\"d\");"
   ]
  },
  {
   "cell_type": "code",
   "execution_count": 14,
   "metadata": {},
   "outputs": [
    {
     "data": {
      "text/plain": [
       "<Axes: >"
      ]
     },
     "execution_count": 14,
     "metadata": {},
     "output_type": "execute_result"
    },
    {
     "data": {
      "image/png": "[encoded data removed]",
      "text/plain": [
       "<Figure size 640x480 with 2 Axes>"
      ]
     },
     "metadata": {},
     "output_type": "display_data"
    }
   ],
   "source": [
    "bag_class(\n",
    "    data=\"nasa.csv\",\n",
    "    dtypes_to_drop=[\"object\", \"int64\"],\n",
    "    mdepth=np.arange(1, 5),\n",
    "    nestimators=(100, 1000),\n",
    "    target=\"Hazardous\",\n",
    ")"
   ]
  },
  {
   "cell_type": "markdown",
   "metadata": {},
   "source": [
    "Looking at the confusion matrix, we can tell that this model classified hazardous and non-hazardous asteroids fairly well.  \n",
    "\n",
    "- The top left corner, the True Negative quadrant, shows us that the model accurately predicted non-hazardous asteroids 3930 times.\n",
    "- The top right corner tells us that the model predicted 2 False Positives, hazardous asteroids, that it believed were non-hazardous.\n",
    "- The bottom left corner, the False Negative quadrant, tells us that the model classified 75 asteroids as non-hazardous when they were actually hazardous.\n",
    "- In the bottom right corner, the True Positive quadrant, we can see the model accurately predicted hazardous asteroids 680 times.\n",
    "\n",
    "The score report tells us that the model predicted, with 100% precision, all True (Hazardous) and with 98% precision, all False (Non-Hazardous) asteroids.\n",
    "\n",
    "The models had similar scores, but if I had to choose one of these models to use to predict if an asteroid was hazardous or not, I would use the RandomForestClassifier as it predicted asteroids more accurately than the BaggingClassifier."
   ]
  },
  {
   "cell_type": "code",
   "execution_count": 15,
   "metadata": {
    "collapsed": false,
    "pycharm": {
     "name": "#%%\n"
    }
   },
   "outputs": [],
   "source": [
    "from sklearn.gaussian_process import GaussianProcessClassifier"
   ]
  },
  {
   "cell_type": "code",
   "execution_count": 16,
   "metadata": {
    "collapsed": false,
    "pycharm": {
     "name": "#%%\n"
    }
   },
   "outputs": [],
   "source": [
    "def gaussian(data, dtypes_to_drop, target, train_size):\n",
    "    \"\"\"\n",
    "    input:\n",
    "        data : str : data file\n",
    "        dtypes_to_drop : str : data type of columns to drop\n",
    "        target : str : variable to solve for\n",
    "    output:\n",
    "        cm : plot : confusion matrix\n",
    "    \"\"\"\n",
    "    df = pd.read_csv(data)\n",
    "\n",
    "    df = df.select_dtypes(exclude=dtypes_to_drop)\n",
    "\n",
    "    X = df.drop(target, axis =1)\n",
    "    y = df[target]\n",
    "\n",
    "    X_train, X_test, y_train, y_test = train_test_split(X, y,\n",
    "                                                        train_size=train_size, random_state = 1)\n",
    "\n",
    "    sc = StandardScaler()\n",
    "    sc.fit(X_train)\n",
    "    X_train_std = sc.transform(X_train)\n",
    "    X_test_std = sc.transform(X_test)\n",
    "\n",
    "    X_combined_std = np.vstack((X_train_std, X_test_std))\n",
    "    y_combined = np.hstack((y_train, y_test))\n",
    "\n",
    "    gb = GaussianProcessClassifier().fit(X_train, y_train)\n",
    "\n",
    "    cm = confusion_matrix(y, gb.predict(X))\n",
    "\n",
    "    return sns.heatmap(cm, annot=True, fmt=\"d\");"
   ]
  },
  {
   "cell_type": "code",
   "execution_count": 17,
   "metadata": {
    "collapsed": false,
    "pycharm": {
     "name": "#%%\n"
    }
   },
   "outputs": [
    {
     "data": {
      "image/png": "[encoded data removed]",
      "text/plain": [
       "<Figure size 640x480 with 2 Axes>"
      ]
     },
     "metadata": {},
     "output_type": "display_data"
    }
   ],
   "source": [
    "gaussian(\"nasa.csv\", [\"object\", \"int\"], \"Hazardous\", .7);"
   ]
  }
 ],
 "metadata": {
  "kernelspec": {
   "display_name": "Python 3.10.4 64-bit",
   "language": "python",
   "name": "python3"
  },
  "language_info": {
   "codemirror_mode": {
    "name": "ipython",
    "version": 3
   },
   "file_extension": ".py",
   "mimetype": "text/x-python",
   "name": "python",
   "nbconvert_exporter": "python",
   "pygments_lexer": "ipython3",
   "version": "3.12.1"
  },
  "notify_time": "30",
  "toc": {
   "base_numbering": 1,
   "nav_menu": {},
   "number_sections": true,
   "sideBar": false,
   "skip_h1_title": true,
   "title_cell": "Table of Contents",
   "title_sidebar": "Contents",
   "toc_cell": true,
   "toc_position": {},
   "toc_section_display": true,
   "toc_window_display": false
  },
  "vscode": {
   "interpreter": {
    "hash": "9f0d103aebe82dfbb47ec724a2ca4fd3dcb0c9038207abb072b7913218171667"
   }
  }
 },
 "nbformat": 4,
 "nbformat_minor": 4
}
