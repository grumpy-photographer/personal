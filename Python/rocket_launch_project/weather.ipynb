{
 "cells": [
  {
   "cell_type": "code",
   "execution_count": 200,
   "metadata": {},
   "outputs": [],
   "source": [
    "import pandas as pd\n",
    "import requests \n",
    "import json\n",
    "\n",
    "pd.set_option('display.max_columns', None)\n",
    "pd.set_option('display.max_rows', None)"
   ]
  },
  {
   "cell_type": "code",
   "execution_count": 201,
   "metadata": {},
   "outputs": [],
   "source": [
    "base_url = 'https://api.weather.gov/'"
   ]
  },
  {
   "cell_type": "markdown",
   "metadata": {},
   "source": [
    "***"
   ]
  },
  {
   "cell_type": "code",
   "execution_count": 210,
   "metadata": {},
   "outputs": [],
   "source": [
    "def get_weather(base_url, lat, lon, dt, tm):\n",
    "    \n",
    "    day_filter = dt\n",
    "    time_filter = tm\n",
    "\n",
    "    forecast = requests.get(base_url + 'points/{},{}'.format(lat, lon))\n",
    "    forecast_json = json.loads(forecast.text)\n",
    "    \n",
    "    forecast_properties = pd.json_normalize(forecast_json['properties'])\n",
    "    properties = requests.get(forecast_properties['forecastHourly'][0])\n",
    "    properties_json = json.loads(properties.text)\n",
    "\n",
    "    periods = pd.json_normalize(properties_json['properties'])\n",
    "    periods_data = pd.json_normalize(periods['periods'][0])\n",
    "\n",
    "    columns_to_keep = ['startTime', 'endTime', 'temperature', 'temperatureUnit', 'windSpeed', 'windDirection', 'shortForecast', 'probabilityOfPrecipitation.value', 'dewpoint.value', 'relativeHumidity.value']\n",
    "    periods_data = periods_data[columns_to_keep]\n",
    "    \n",
    "    periods_data = periods_data[periods_data['startTime'].str.contains(day_filter)]\n",
    "    periods_data = periods_data[periods_data['startTime'].str.contains(time_filter)]\n",
    "\n",
    "    return periods_data"
   ]
  },
  {
   "cell_type": "markdown",
   "metadata": {},
   "source": [
    "***"
   ]
  },
  {
   "cell_type": "markdown",
   "metadata": {},
   "source": [
    "Cape Canaveral, FL, USA"
   ]
  },
  {
   "cell_type": "code",
   "execution_count": 213,
   "metadata": {},
   "outputs": [
    {
     "data": {
      "text/html": [
       "<div>\n",
       "<style scoped>\n",
       "    .dataframe tbody tr th:only-of-type {\n",
       "        vertical-align: middle;\n",
       "    }\n",
       "\n",
       "    .dataframe tbody tr th {\n",
       "        vertical-align: top;\n",
       "    }\n",
       "\n",
       "    .dataframe thead th {\n",
       "        text-align: right;\n",
       "    }\n",
       "</style>\n",
       "<table border=\"1\" class=\"dataframe\">\n",
       "  <thead>\n",
       "    <tr style=\"text-align: right;\">\n",
       "      <th></th>\n",
       "      <th>startTime</th>\n",
       "      <th>endTime</th>\n",
       "      <th>temperature</th>\n",
       "      <th>temperatureUnit</th>\n",
       "      <th>windSpeed</th>\n",
       "      <th>windDirection</th>\n",
       "      <th>shortForecast</th>\n",
       "      <th>probabilityOfPrecipitation.value</th>\n",
       "      <th>dewpoint.value</th>\n",
       "      <th>relativeHumidity.value</th>\n",
       "    </tr>\n",
       "  </thead>\n",
       "  <tbody>\n",
       "    <tr>\n",
       "      <th>3</th>\n",
       "      <td>2023-08-23T00:00:00-04:00</td>\n",
       "      <td>2023-08-23T01:00:00-04:00</td>\n",
       "      <td>79</td>\n",
       "      <td>F</td>\n",
       "      <td>5 mph</td>\n",
       "      <td>ENE</td>\n",
       "      <td>Mostly Clear</td>\n",
       "      <td>4</td>\n",
       "      <td>23.333333</td>\n",
       "      <td>84</td>\n",
       "    </tr>\n",
       "  </tbody>\n",
       "</table>\n",
       "</div>"
      ],
      "text/plain": [
       "                   startTime                    endTime  temperature  \\\n",
       "3  2023-08-23T00:00:00-04:00  2023-08-23T01:00:00-04:00           79   \n",
       "\n",
       "  temperatureUnit windSpeed windDirection shortForecast  \\\n",
       "3               F     5 mph           ENE  Mostly Clear   \n",
       "\n",
       "   probabilityOfPrecipitation.value  dewpoint.value  relativeHumidity.value  \n",
       "3                                 4       23.333333                      84  "
      ]
     },
     "execution_count": 213,
     "metadata": {},
     "output_type": "execute_result"
    }
   ],
   "source": [
    "# Starlink Group 6-11\n",
    "get_weather(base_url, 28.561941, -80.577357, '2023-08-23', '00:00:00')"
   ]
  },
  {
   "cell_type": "code",
   "execution_count": 214,
   "metadata": {},
   "outputs": [
    {
     "data": {
      "text/html": [
       "<div>\n",
       "<style scoped>\n",
       "    .dataframe tbody tr th:only-of-type {\n",
       "        vertical-align: middle;\n",
       "    }\n",
       "\n",
       "    .dataframe tbody tr th {\n",
       "        vertical-align: top;\n",
       "    }\n",
       "\n",
       "    .dataframe thead th {\n",
       "        text-align: right;\n",
       "    }\n",
       "</style>\n",
       "<table border=\"1\" class=\"dataframe\">\n",
       "  <thead>\n",
       "    <tr style=\"text-align: right;\">\n",
       "      <th></th>\n",
       "      <th>startTime</th>\n",
       "      <th>endTime</th>\n",
       "      <th>temperature</th>\n",
       "      <th>temperatureUnit</th>\n",
       "      <th>windSpeed</th>\n",
       "      <th>windDirection</th>\n",
       "      <th>shortForecast</th>\n",
       "      <th>probabilityOfPrecipitation.value</th>\n",
       "      <th>dewpoint.value</th>\n",
       "      <th>relativeHumidity.value</th>\n",
       "    </tr>\n",
       "  </thead>\n",
       "  <tbody>\n",
       "  </tbody>\n",
       "</table>\n",
       "</div>"
      ],
      "text/plain": [
       "Empty DataFrame\n",
       "Columns: [startTime, endTime, temperature, temperatureUnit, windSpeed, windDirection, shortForecast, probabilityOfPrecipitation.value, dewpoint.value, relativeHumidity.value]\n",
       "Index: []"
      ]
     },
     "execution_count": 214,
     "metadata": {},
     "output_type": "execute_result"
    }
   ],
   "source": [
    "# Starlink Group 7-1\n",
    "get_weather(base_url, 28.561941, -80.577357, '2023-08-22', '06:00:00')"
   ]
  }
 ],
 "metadata": {
  "kernelspec": {
   "display_name": "Python 3",
   "language": "python",
   "name": "python3"
  },
  "language_info": {
   "codemirror_mode": {
    "name": "ipython",
    "version": 3
   },
   "file_extension": ".py",
   "mimetype": "text/x-python",
   "name": "python",
   "nbconvert_exporter": "python",
   "pygments_lexer": "ipython3",
   "version": "3.11.4"
  },
  "orig_nbformat": 4
 },
 "nbformat": 4,
 "nbformat_minor": 2
}
