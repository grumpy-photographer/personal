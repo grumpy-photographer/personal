{
 "cells": [
  {
   "cell_type": "markdown",
   "metadata": {},
   "source": [
    "- (+4 points) How accurate was your time assessment? Was there anything that went\n",
    "significantly longer, or significantly shorter, than you expected?\n",
    "- (+3 points) Look at the Jupyter notebook that you compiled during the first hour of\n",
    "work. If you were forced to leave the project now and give this plan and this notebook to\n",
    "another person on your team, how useful do you think it would be? What information\n",
    "is missing?\n",
    "- (+3 points) List three specific things that you learned from this assignment.\n",
    "- (+10 points) This assignment was noticeable different than the previous projects. Do\n",
    "you think that this project would be useful to include in future Math 475/575 courses?\n",
    "\n",
    "\n",
    "If yes, why? If no, why not? Are there any specific changes that you would make to this\n",
    "project to make it more informative?"
   ]
  }
 ],
 "metadata": {
  "kernelspec": {
   "display_name": "Python 3",
   "language": "python",
   "name": "python3"
  },
  "language_info": {
   "codemirror_mode": {
    "name": "ipython",
    "version": 3
   },
   "file_extension": ".py",
   "mimetype": "text/x-python",
   "name": "python",
   "nbconvert_exporter": "python",
   "pygments_lexer": "ipython3",
   "version": "3.7.9"
  },
  "toc": {
   "base_numbering": 1,
   "nav_menu": {},
   "number_sections": true,
   "sideBar": false,
   "skip_h1_title": true,
   "title_cell": "Table of Contents",
   "title_sidebar": "Contents",
   "toc_cell": true,
   "toc_position": {},
   "toc_section_display": true,
   "toc_window_display": false
  }
 },
 "nbformat": 4,
 "nbformat_minor": 4
}
