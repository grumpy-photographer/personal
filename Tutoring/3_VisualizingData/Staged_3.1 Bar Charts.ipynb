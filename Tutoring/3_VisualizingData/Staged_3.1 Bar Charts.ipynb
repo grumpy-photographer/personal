{
 "cells": [
  {
   "cell_type": "markdown",
   "metadata": {},
   "source": [
    "# 3.1 Bar Charts \n",
    " \n",
    "- [**Vertical Bar Charts**](#Vertical-Bar-Charts)  \n",
    "- [**Horizontal Bar Charts**](#Horizontal-Bar-Charts)  \n",
    "\n",
    "\n",
    "- [**Grouped Bar Charts**](#Grouped-Bar-Charts) \n",
    "- [**Stacked Bar Charts**](#Stacked-Bar-Charts) \n",
    "\n",
    " \n",
    " \n",
    "- [**Display Templates**](#Display-Templates) \n",
    " "
   ]
  },
  {
   "cell_type": "code",
   "execution_count": null,
   "metadata": {},
   "outputs": [],
   "source": [
    "from IPython.display import display, HTML\n",
    "import pandas as pd\n",
    "import math\n",
    "\n",
    "import plotly.express as px\n",
    "import numpy as np\n",
    "from scipy import special"
   ]
  },
  {
   "cell_type": "code",
   "execution_count": null,
   "metadata": {},
   "outputs": [],
   "source": [
    "# Read pickle into a dataframe\n",
    "df = pd.read_csv()\n",
    "\n",
    "print(\"Number of Rows: \", df.shape[0])\n",
    "print(\"Number of Columns: \", df.shape[1])\n",
    "df.head()"
   ]
  },
  {
   "cell_type": "markdown",
   "metadata": {},
   "source": [
    "# Vertical Bar Charts  "
   ]
  },
  {
   "cell_type": "code",
   "execution_count": null,
   "metadata": {},
   "outputs": [],
   "source": [
    "# Create dataframe with only United States data\n",
    "row_filter = \n",
    "\n",
    "df_US = \n",
    "df_US.head()"
   ]
  },
  {
   "cell_type": "code",
   "execution_count": null,
   "metadata": {},
   "outputs": [],
   "source": [
    "# Vertical Bar Chart:  United States Population, over all years\n",
    "fig = px. (\n",
    "            title='US Population: Vertical Bar Chart')\n",
    "fig.show()"
   ]
  },
  {
   "cell_type": "markdown",
   "metadata": {},
   "source": [
    "# Horizontal Bar Charts"
   ]
  },
  {
   "cell_type": "code",
   "execution_count": null,
   "metadata": {},
   "outputs": [],
   "source": [
    "# Horizontal Bar Chart:  United States Population, over all years\n",
    "fig = px.\n",
    "\n",
    "fig.show()"
   ]
  },
  {
   "cell_type": "markdown",
   "metadata": {},
   "source": [
    "# Grouped Bar Charts"
   ]
  },
  {
   "cell_type": "code",
   "execution_count": null,
   "metadata": {},
   "outputs": [],
   "source": [
    "# Create dataframe containing only Canada, United States and United Kingdom data\n",
    "['Canada', 'United States', 'United Kingdom']\n",
    "row_filter = \n",
    "\n",
    "df_group = \n",
    "df_group.head()"
   ]
  },
  {
   "cell_type": "code",
   "execution_count": null,
   "metadata": {
    "scrolled": true
   },
   "outputs": [],
   "source": [
    "# Grouped Bar Chart:  Canada, US and UK, Per Capita GDP, over all years\n",
    "fig = \n",
    "                 title = 'Grouped Bar Chart: United States, Canada and the UK, GDP 1952-2007')\n",
    "fig.show()"
   ]
  },
  {
   "cell_type": "markdown",
   "metadata": {},
   "source": [
    "# Stacked Bar Charts"
   ]
  },
  {
   "cell_type": "code",
   "execution_count": null,
   "metadata": {},
   "outputs": [],
   "source": [
    "# Stacked Bar Chart:  Canada, US and UK, Per Capita GDP, over all years\n",
    "fig = \n",
    "\n",
    "                 title = 'Stacked Bar Chart: United States, Canada and the UK, GDP 1952-2007')\n",
    "fig.show()"
   ]
  },
  {
   "cell_type": "markdown",
   "metadata": {},
   "source": [
    "# Display *Templates*  \n",
    "\n",
    "- ggplot2  \n",
    "- seaborn  \n",
    "- simple_white  \n",
    "- plotly  \n",
    "- plotly_white  \n",
    "- plotly_dark  \n",
    "- presentation  \n",
    "- xgridoff  \n",
    "- ygridoff  \n",
    "- gridon  \n",
    "- none"
   ]
  },
  {
   "cell_type": "code",
   "execution_count": null,
   "metadata": {},
   "outputs": [],
   "source": [
    "fig =             \n",
    "            title='Template:  plotly_dark')\n",
    "fig.show()"
   ]
  },
  {
   "cell_type": "code",
   "execution_count": null,
   "metadata": {},
   "outputs": [],
   "source": [
    "fig = \n",
    "            title='Template:  presentation')\n",
    "fig.show()"
   ]
  }
 ],
 "metadata": {
  "kernelspec": {
   "display_name": "Python 3",
   "language": "python",
   "name": "python3"
  },
  "language_info": {
   "codemirror_mode": {
    "name": "ipython",
    "version": 3
   },
   "file_extension": ".py",
   "mimetype": "text/x-python",
   "name": "python",
   "nbconvert_exporter": "python",
   "pygments_lexer": "ipython3",
   "version": "3.7.4"
  }
 },
 "nbformat": 4,
 "nbformat_minor": 4
}
