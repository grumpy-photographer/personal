{
 "cells": [
  {
   "cell_type": "markdown",
   "metadata": {},
   "source": [
    "# Imports"
   ]
  },
  {
   "cell_type": "code",
   "execution_count": 1,
   "metadata": {},
   "outputs": [],
   "source": [
    "import pandas as pd\n",
    "import random "
   ]
  },
  {
   "cell_type": "markdown",
   "metadata": {},
   "source": [
    "# Bible Verse Data"
   ]
  },
  {
   "cell_type": "markdown",
   "metadata": {},
   "source": [
    "### Load and view file in dataframe"
   ]
  },
  {
   "cell_type": "code",
   "execution_count": 2,
   "metadata": {},
   "outputs": [
    {
     "output_type": "execute_result",
     "data": {
      "text/plain": [
       "        id  book  chapter  verse  \\\n",
       "0  1001001     1        1      1   \n",
       "1  1001002     1        1      2   \n",
       "\n",
       "                                                text  \n",
       "0  In the beginning God created the heaven and th...  \n",
       "1  And the earth was without form, and void; and ...  "
      ],
      "text/html": "<div>\n<style scoped>\n    .dataframe tbody tr th:only-of-type {\n        vertical-align: middle;\n    }\n\n    .dataframe tbody tr th {\n        vertical-align: top;\n    }\n\n    .dataframe thead th {\n        text-align: right;\n    }\n</style>\n<table border=\"1\" class=\"dataframe\">\n  <thead>\n    <tr style=\"text-align: right;\">\n      <th></th>\n      <th>id</th>\n      <th>book</th>\n      <th>chapter</th>\n      <th>verse</th>\n      <th>text</th>\n    </tr>\n  </thead>\n  <tbody>\n    <tr>\n      <th>0</th>\n      <td>1001001</td>\n      <td>1</td>\n      <td>1</td>\n      <td>1</td>\n      <td>In the beginning God created the heaven and th...</td>\n    </tr>\n    <tr>\n      <th>1</th>\n      <td>1001002</td>\n      <td>1</td>\n      <td>1</td>\n      <td>2</td>\n      <td>And the earth was without form, and void; and ...</td>\n    </tr>\n  </tbody>\n</table>\n</div>"
     },
     "metadata": {},
     "execution_count": 2
    }
   ],
   "source": [
    "df = pd.read_excel('../Data/bible_kjv.xlsx')\n",
    "\n",
    "df.head(2)"
   ]
  },
  {
   "cell_type": "markdown",
   "metadata": {},
   "source": [
    "### View and edit columns"
   ]
  },
  {
   "cell_type": "code",
   "execution_count": 3,
   "metadata": {},
   "outputs": [
    {
     "output_type": "execute_result",
     "data": {
      "text/plain": [
       "Index(['id', 'book', 'chapter', 'verse', 'text'], dtype='object')"
      ]
     },
     "metadata": {},
     "execution_count": 3
    }
   ],
   "source": [
    "df.columns"
   ]
  },
  {
   "cell_type": "code",
   "execution_count": 4,
   "metadata": {},
   "outputs": [
    {
     "output_type": "execute_result",
     "data": {
      "text/plain": [
       "        id  book  chapter  verse  \\\n",
       "0  1001001     1        1      1   \n",
       "1  1001002     1        1      2   \n",
       "\n",
       "                                                text  \n",
       "0  In the beginning God created the heaven and th...  \n",
       "1  And the earth was without form, and void; and ...  "
      ],
      "text/html": "<div>\n<style scoped>\n    .dataframe tbody tr th:only-of-type {\n        vertical-align: middle;\n    }\n\n    .dataframe tbody tr th {\n        vertical-align: top;\n    }\n\n    .dataframe thead th {\n        text-align: right;\n    }\n</style>\n<table border=\"1\" class=\"dataframe\">\n  <thead>\n    <tr style=\"text-align: right;\">\n      <th></th>\n      <th>id</th>\n      <th>book</th>\n      <th>chapter</th>\n      <th>verse</th>\n      <th>text</th>\n    </tr>\n  </thead>\n  <tbody>\n    <tr>\n      <th>0</th>\n      <td>1001001</td>\n      <td>1</td>\n      <td>1</td>\n      <td>1</td>\n      <td>In the beginning God created the heaven and th...</td>\n    </tr>\n    <tr>\n      <th>1</th>\n      <td>1001002</td>\n      <td>1</td>\n      <td>1</td>\n      <td>2</td>\n      <td>And the earth was without form, and void; and ...</td>\n    </tr>\n  </tbody>\n</table>\n</div>"
     },
     "metadata": {},
     "execution_count": 4
    }
   ],
   "source": [
    "rename_columns = {'b':'book',\n",
    "                 'c':'chapter',\n",
    "                 'v':'verse',\n",
    "                 't':'text'}\n",
    "\n",
    "df.rename(columns = rename_columns, inplace=True)\n",
    "df.head(2)"
   ]
  },
  {
   "cell_type": "markdown",
   "metadata": {},
   "source": [
    "### View and edit datatypes"
   ]
  },
  {
   "cell_type": "code",
   "execution_count": 5,
   "metadata": {},
   "outputs": [
    {
     "output_type": "execute_result",
     "data": {
      "text/plain": [
       "id          int64\n",
       "book        int64\n",
       "chapter     int64\n",
       "verse       int64\n",
       "text       object\n",
       "dtype: object"
      ]
     },
     "metadata": {},
     "execution_count": 5
    }
   ],
   "source": [
    "df.dtypes"
   ]
  },
  {
   "cell_type": "code",
   "execution_count": 6,
   "metadata": {},
   "outputs": [
    {
     "output_type": "execute_result",
     "data": {
      "text/plain": [
       "id          int64\n",
       "book       object\n",
       "chapter     int64\n",
       "verse       int64\n",
       "text       object\n",
       "dtype: object"
      ]
     },
     "metadata": {},
     "execution_count": 6
    }
   ],
   "source": [
    "df['book']=pd.to_numeric(df['book']).astype(object)\n",
    "df.dtypes"
   ]
  },
  {
   "cell_type": "markdown",
   "metadata": {},
   "source": [
    "# Books of the Bible Data"
   ]
  },
  {
   "cell_type": "markdown",
   "metadata": {},
   "source": [
    "### Load and view file in dataframe"
   ]
  },
  {
   "cell_type": "code",
   "execution_count": 7,
   "metadata": {},
   "outputs": [
    {
     "output_type": "execute_result",
     "data": {
      "text/plain": [
       "   book book_name\n",
       "0     1   Genesis\n",
       "1     2    Exodus"
      ],
      "text/html": "<div>\n<style scoped>\n    .dataframe tbody tr th:only-of-type {\n        vertical-align: middle;\n    }\n\n    .dataframe tbody tr th {\n        vertical-align: top;\n    }\n\n    .dataframe thead th {\n        text-align: right;\n    }\n</style>\n<table border=\"1\" class=\"dataframe\">\n  <thead>\n    <tr style=\"text-align: right;\">\n      <th></th>\n      <th>book</th>\n      <th>book_name</th>\n    </tr>\n  </thead>\n  <tbody>\n    <tr>\n      <th>0</th>\n      <td>1</td>\n      <td>Genesis</td>\n    </tr>\n    <tr>\n      <th>1</th>\n      <td>2</td>\n      <td>Exodus</td>\n    </tr>\n  </tbody>\n</table>\n</div>"
     },
     "metadata": {},
     "execution_count": 7
    }
   ],
   "source": [
    "df_books = pd.read_excel('../Data/bible_books.xlsx')\n",
    "\n",
    "df_books.head(2)"
   ]
  },
  {
   "cell_type": "markdown",
   "metadata": {},
   "source": [
    "### View and edit columns"
   ]
  },
  {
   "cell_type": "code",
   "execution_count": 8,
   "metadata": {},
   "outputs": [
    {
     "output_type": "execute_result",
     "data": {
      "text/plain": [
       "Index(['book', 'book_name'], dtype='object')"
      ]
     },
     "metadata": {},
     "execution_count": 8
    }
   ],
   "source": [
    "df_books.columns"
   ]
  },
  {
   "cell_type": "markdown",
   "metadata": {},
   "source": [
    "### View and edit datatypes"
   ]
  },
  {
   "cell_type": "code",
   "execution_count": 9,
   "metadata": {},
   "outputs": [
    {
     "output_type": "execute_result",
     "data": {
      "text/plain": [
       "book          int64\n",
       "book_name    object\n",
       "dtype: object"
      ]
     },
     "metadata": {},
     "execution_count": 9
    }
   ],
   "source": [
    "df_books.dtypes"
   ]
  },
  {
   "cell_type": "markdown",
   "metadata": {},
   "source": [
    "# Merge"
   ]
  },
  {
   "cell_type": "markdown",
   "metadata": {},
   "source": [
    "### Left-joining Bible Verse Data with Books Data to create complete Bible database"
   ]
  },
  {
   "cell_type": "code",
   "execution_count": 10,
   "metadata": {},
   "outputs": [
    {
     "output_type": "execute_result",
     "data": {
      "text/plain": [
       "  book book_name       id  chapter  verse  \\\n",
       "0    1   Genesis  1001001        1      1   \n",
       "1    1   Genesis  1001002        1      2   \n",
       "2    1   Genesis  1001003        1      3   \n",
       "3    1   Genesis  1001004        1      4   \n",
       "4    1   Genesis  1001005        1      5   \n",
       "\n",
       "                                                text  \n",
       "0  In the beginning God created the heaven and th...  \n",
       "1  And the earth was without form, and void; and ...  \n",
       "2  And God said, Let there be light: and there wa...  \n",
       "3  And God saw the light, that it was good: and G...  \n",
       "4  And God called the light Day, and the darkness...  "
      ],
      "text/html": "<div>\n<style scoped>\n    .dataframe tbody tr th:only-of-type {\n        vertical-align: middle;\n    }\n\n    .dataframe tbody tr th {\n        vertical-align: top;\n    }\n\n    .dataframe thead th {\n        text-align: right;\n    }\n</style>\n<table border=\"1\" class=\"dataframe\">\n  <thead>\n    <tr style=\"text-align: right;\">\n      <th></th>\n      <th>book</th>\n      <th>book_name</th>\n      <th>id</th>\n      <th>chapter</th>\n      <th>verse</th>\n      <th>text</th>\n    </tr>\n  </thead>\n  <tbody>\n    <tr>\n      <th>0</th>\n      <td>1</td>\n      <td>Genesis</td>\n      <td>1001001</td>\n      <td>1</td>\n      <td>1</td>\n      <td>In the beginning God created the heaven and th...</td>\n    </tr>\n    <tr>\n      <th>1</th>\n      <td>1</td>\n      <td>Genesis</td>\n      <td>1001002</td>\n      <td>1</td>\n      <td>2</td>\n      <td>And the earth was without form, and void; and ...</td>\n    </tr>\n    <tr>\n      <th>2</th>\n      <td>1</td>\n      <td>Genesis</td>\n      <td>1001003</td>\n      <td>1</td>\n      <td>3</td>\n      <td>And God said, Let there be light: and there wa...</td>\n    </tr>\n    <tr>\n      <th>3</th>\n      <td>1</td>\n      <td>Genesis</td>\n      <td>1001004</td>\n      <td>1</td>\n      <td>4</td>\n      <td>And God saw the light, that it was good: and G...</td>\n    </tr>\n    <tr>\n      <th>4</th>\n      <td>1</td>\n      <td>Genesis</td>\n      <td>1001005</td>\n      <td>1</td>\n      <td>5</td>\n      <td>And God called the light Day, and the darkness...</td>\n    </tr>\n  </tbody>\n</table>\n</div>"
     },
     "metadata": {},
     "execution_count": 10
    }
   ],
   "source": [
    "df_bible = pd.merge(df_books, df, on = 'book', how = 'left')\n",
    "df_bible.head()"
   ]
  },
  {
   "cell_type": "markdown",
   "metadata": {},
   "source": [
    "### Editing columns in new dataframe"
   ]
  },
  {
   "cell_type": "code",
   "execution_count": 11,
   "metadata": {
    "scrolled": true
   },
   "outputs": [
    {
     "output_type": "stream",
     "name": "stdout",
     "text": [
      "Number of rows:  31103\nNumber of columns:  6\n"
     ]
    },
    {
     "output_type": "execute_result",
     "data": {
      "text/plain": [
       "        id book book_name  chapter  verse  \\\n",
       "0  1001001    1   Genesis        1      1   \n",
       "1  1001002    1   Genesis        1      2   \n",
       "2  1001003    1   Genesis        1      3   \n",
       "3  1001004    1   Genesis        1      4   \n",
       "4  1001005    1   Genesis        1      5   \n",
       "\n",
       "                                                text  \n",
       "0  In the beginning God created the heaven and th...  \n",
       "1  And the earth was without form, and void; and ...  \n",
       "2  And God said, Let there be light: and there wa...  \n",
       "3  And God saw the light, that it was good: and G...  \n",
       "4  And God called the light Day, and the darkness...  "
      ],
      "text/html": "<div>\n<style scoped>\n    .dataframe tbody tr th:only-of-type {\n        vertical-align: middle;\n    }\n\n    .dataframe tbody tr th {\n        vertical-align: top;\n    }\n\n    .dataframe thead th {\n        text-align: right;\n    }\n</style>\n<table border=\"1\" class=\"dataframe\">\n  <thead>\n    <tr style=\"text-align: right;\">\n      <th></th>\n      <th>id</th>\n      <th>book</th>\n      <th>book_name</th>\n      <th>chapter</th>\n      <th>verse</th>\n      <th>text</th>\n    </tr>\n  </thead>\n  <tbody>\n    <tr>\n      <th>0</th>\n      <td>1001001</td>\n      <td>1</td>\n      <td>Genesis</td>\n      <td>1</td>\n      <td>1</td>\n      <td>In the beginning God created the heaven and th...</td>\n    </tr>\n    <tr>\n      <th>1</th>\n      <td>1001002</td>\n      <td>1</td>\n      <td>Genesis</td>\n      <td>1</td>\n      <td>2</td>\n      <td>And the earth was without form, and void; and ...</td>\n    </tr>\n    <tr>\n      <th>2</th>\n      <td>1001003</td>\n      <td>1</td>\n      <td>Genesis</td>\n      <td>1</td>\n      <td>3</td>\n      <td>And God said, Let there be light: and there wa...</td>\n    </tr>\n    <tr>\n      <th>3</th>\n      <td>1001004</td>\n      <td>1</td>\n      <td>Genesis</td>\n      <td>1</td>\n      <td>4</td>\n      <td>And God saw the light, that it was good: and G...</td>\n    </tr>\n    <tr>\n      <th>4</th>\n      <td>1001005</td>\n      <td>1</td>\n      <td>Genesis</td>\n      <td>1</td>\n      <td>5</td>\n      <td>And God called the light Day, and the darkness...</td>\n    </tr>\n  </tbody>\n</table>\n</div>"
     },
     "metadata": {},
     "execution_count": 11
    }
   ],
   "source": [
    "new_column_order = ['id','book','book_name','chapter','verse','text']\n",
    "\n",
    "df_bible = df_bible[new_column_order]\n",
    "\n",
    "print('Number of rows: ',df_bible.shape[0])\n",
    "print('Number of columns: ',df_bible.shape[1])\n",
    "df_bible.head()"
   ]
  },
  {
   "cell_type": "code",
   "execution_count": 12,
   "metadata": {
    "scrolled": true
   },
   "outputs": [],
   "source": [
    "df_bible = df_bible.drop(['id', 'book'], axis=1)\n",
    "\n",
    "df_bible[\"chapter\"] = df_bible[\"chapter\"].astype(str)\n",
    "df_bible[\"verse\"] = df_bible[\"verse\"].astype(str)"
   ]
  },
  {
   "cell_type": "code",
   "execution_count": 13,
   "metadata": {},
   "outputs": [],
   "source": [
    "df_bible[\"book_chapter_verse\"] = df_bible[\"book_name\"] + \" \" + df_bible[\"chapter\"] + \":\" + df_bible[\"verse\"]"
   ]
  },
  {
   "cell_type": "code",
   "execution_count": 14,
   "metadata": {},
   "outputs": [
    {
     "output_type": "execute_result",
     "data": {
      "text/plain": [
       "                                                                 text\n",
       "book_chapter_verse                                                   \n",
       "Genesis 1:1         In the beginning God created the heaven and th...\n",
       "Genesis 1:2         And the earth was without form, and void; and ...\n",
       "Genesis 1:3         And God said, Let there be light: and there wa...\n",
       "Genesis 1:4         And God saw the light, that it was good: and G...\n",
       "Genesis 1:5         And God called the light Day, and the darkness...\n",
       "...                                                               ...\n",
       "Revelation 22:17    And the Spirit and the bride say, Come. And le...\n",
       "Revelation 22:18    For I testify unto every man that heareth the ...\n",
       "Revelation 22:19    And if any man shall take away from the words ...\n",
       "Revelation 22:20    He which testifieth these things saith, Surely...\n",
       "Revelation 22:21    The grace of our Lord Jesus Christ be with you...\n",
       "\n",
       "[31103 rows x 1 columns]"
      ],
      "text/html": "<div>\n<style scoped>\n    .dataframe tbody tr th:only-of-type {\n        vertical-align: middle;\n    }\n\n    .dataframe tbody tr th {\n        vertical-align: top;\n    }\n\n    .dataframe thead th {\n        text-align: right;\n    }\n</style>\n<table border=\"1\" class=\"dataframe\">\n  <thead>\n    <tr style=\"text-align: right;\">\n      <th></th>\n      <th>text</th>\n    </tr>\n    <tr>\n      <th>book_chapter_verse</th>\n      <th></th>\n    </tr>\n  </thead>\n  <tbody>\n    <tr>\n      <th>Genesis 1:1</th>\n      <td>In the beginning God created the heaven and th...</td>\n    </tr>\n    <tr>\n      <th>Genesis 1:2</th>\n      <td>And the earth was without form, and void; and ...</td>\n    </tr>\n    <tr>\n      <th>Genesis 1:3</th>\n      <td>And God said, Let there be light: and there wa...</td>\n    </tr>\n    <tr>\n      <th>Genesis 1:4</th>\n      <td>And God saw the light, that it was good: and G...</td>\n    </tr>\n    <tr>\n      <th>Genesis 1:5</th>\n      <td>And God called the light Day, and the darkness...</td>\n    </tr>\n    <tr>\n      <th>...</th>\n      <td>...</td>\n    </tr>\n    <tr>\n      <th>Revelation 22:17</th>\n      <td>And the Spirit and the bride say, Come. And le...</td>\n    </tr>\n    <tr>\n      <th>Revelation 22:18</th>\n      <td>For I testify unto every man that heareth the ...</td>\n    </tr>\n    <tr>\n      <th>Revelation 22:19</th>\n      <td>And if any man shall take away from the words ...</td>\n    </tr>\n    <tr>\n      <th>Revelation 22:20</th>\n      <td>He which testifieth these things saith, Surely...</td>\n    </tr>\n    <tr>\n      <th>Revelation 22:21</th>\n      <td>The grace of our Lord Jesus Christ be with you...</td>\n    </tr>\n  </tbody>\n</table>\n<p>31103 rows × 1 columns</p>\n</div>"
     },
     "metadata": {},
     "execution_count": 14
    }
   ],
   "source": [
    "cols = [\"book_chapter_verse\", \"text\"]\n",
    "df_bible = df_bible[cols]\n",
    "\n",
    "df_bible.set_index('book_chapter_verse', inplace=True)\n",
    "df_bible"
   ]
  },
  {
   "cell_type": "code",
   "execution_count": 15,
   "metadata": {},
   "outputs": [],
   "source": [
    "df_bible.to_csv('../Data/finished_bible.txt', sep='\\t')"
   ]
  },
  {
   "cell_type": "code",
   "execution_count": 16,
   "metadata": {},
   "outputs": [],
   "source": [
    "df_bible = pd.read_csv('../Data/finished_bible.txt', sep='\\t')"
   ]
  },
  {
   "cell_type": "code",
   "execution_count": 17,
   "metadata": {},
   "outputs": [
    {
     "output_type": "stream",
     "name": "stdout",
     "text": [
      "1 Samuel 6:18\tAnd the golden mice, according to the number of all the cities of the Philistines belonging to the five lords, both of fenced cities, and of country villages, even unto the great stone of Abel, whereon they set down the ark of the LORD: which stone remaineth unto this day in the field of Joshua, the Bethshemite.\n\n"
     ]
    }
   ],
   "source": [
    "line = random.choice(open('../Data/finished_bible.txt').readlines())\n",
    "print(line)"
   ]
  }
 ],
 "metadata": {
  "kernelspec": {
   "name": "python3",
   "display_name": "Python 3.9.1 64-bit",
   "metadata": {
    "interpreter": {
     "hash": "ac59ebe37160ed0dfa835113d9b8498d9f09ceb179beaac4002f036b9467c963"
    }
   }
  },
  "language_info": {
   "codemirror_mode": {
    "name": "ipython",
    "version": 3
   },
   "file_extension": ".py",
   "mimetype": "text/x-python",
   "name": "python",
   "nbconvert_exporter": "python",
   "pygments_lexer": "ipython3",
   "version": "3.9.1-final"
  },
  "toc": {
   "base_numbering": 1,
   "nav_menu": {},
   "number_sections": true,
   "sideBar": true,
   "skip_h1_title": false,
   "title_cell": "Table of Contents",
   "title_sidebar": "Contents",
   "toc_cell": false,
   "toc_position": {},
   "toc_section_display": true,
   "toc_window_display": false
  }
 },
 "nbformat": 4,
 "nbformat_minor": 2
}