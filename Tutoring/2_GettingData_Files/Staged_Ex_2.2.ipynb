{
 "cells": [
  {
   "cell_type": "markdown",
   "metadata": {},
   "source": [
    "# Ex 2.2 *read_excel()*    \n",
    "\n",
    "- [**In Class**: Shoes - Small Data worksheet](#In-Class:-Shoes:-Small-Data-worksheet)  \n",
    "\n",
    "\n",
    "- [**Exercise**](#Exercise) \n",
    "  - [Part 1: Shoes  - Large Data worksheet](#Part-1:-Shoes---Large-Data-worksheet)    \n",
    "  - [Part 2: w3schools - Orders worksheet](#Part-2:-w3schools---Orders-worksheet)    \n",
    "  - [Part 3: w3schools - OrderDetails worksheet](#Part-3:-w3schools---OrderDetails-worksheet) \n",
    "  - [Part 4: w3schools - Employees worksheet](#Part-4:-w3schools---Employees-worksheet) \n",
    " "
   ]
  },
  {
   "cell_type": "code",
   "execution_count": null,
   "metadata": {},
   "outputs": [],
   "source": [
    "import pandas as pd"
   ]
  },
  {
   "cell_type": "markdown",
   "metadata": {},
   "source": [
    "# In Class: Shoes: *Small Data* worksheet   \n",
    "\n",
    "- Data file type:  *Excel file*\n",
    "- Data file:  **Shoes_SmallDataset.xlsx**    \n",
    "- Worksheet name: **Small Data**\n",
    "- Name the dataframe:  **df_shoe_store**  \n",
    "\n",
    "\n",
    "- Display the top rows of the dataframe  \n",
    "- Display the number of rows and columns of data in the dataframe\n",
    "- Show the data types of the columns in the dataframe "
   ]
  },
  {
   "cell_type": "markdown",
   "metadata": {},
   "source": [
    "### 1. Read the Excel Worksheet data into a pandas dataframe"
   ]
  },
  {
   "cell_type": "markdown",
   "metadata": {},
   "source": [
    "### 2. Display info about the new pandas dataframe"
   ]
  },
  {
   "cell_type": "markdown",
   "metadata": {},
   "source": [
    "# Exercise"
   ]
  },
  {
   "cell_type": "markdown",
   "metadata": {},
   "source": [
    "# Part 1: Shoes - *Large Data* worksheet \n",
    "- Data file type:  *Excel file*\n",
    "- Data file:  **Shoes_SmallDataset.xlsx**    \n",
    "- Worksheet name: **Large Data**\n",
    "- Name the dataframe:  **df_shoes_large**  \n",
    "\n",
    "\n",
    "- Display the top rows of the dataframe  \n",
    "- Display the number of rows and columns of data in the dataframe\n",
    "- Show the data types of the columns in the dataframe "
   ]
  },
  {
   "cell_type": "markdown",
   "metadata": {},
   "source": [
    "# Part 2: w3schools - Orders worksheet\n",
    "- Excel Filename:  **w3schools_Data.xlsx** \n",
    "- Worksheet: **Orders**  \n",
    "- pandas Dataframe name: **df_w3_orders** \n",
    "\n",
    "\n",
    "- Display the first five rows of the dataframe  \n",
    "- Display the number of rows and columns of data in the dataframe\n",
    "- Show the data types of the columns in the dataframe"
   ]
  },
  {
   "cell_type": "markdown",
   "metadata": {},
   "source": [
    "# Part 3: w3schools - OrderDetails worksheet\n",
    "- Excel Filename:  **w3schools_Data.xlsx** \n",
    "- Worksheet: **OrderDetails**  \n",
    "- pandas Dataframe name: **df_order_details** \n",
    "\n",
    "\n",
    "- Display the top rows of the dataframe   \n",
    "- Display the number of rows and columns in the dataframe\n",
    "- Show the data types of the columns in the dataframe "
   ]
  },
  {
   "cell_type": "markdown",
   "metadata": {},
   "source": [
    "# Part 4: w3schools - Employees worksheet\n",
    "- Excel Filename:  **w3schools_Data.xlsx** \n",
    "- Worksheet: **Employees**  \n",
    "- pandas Dataframe name: **df_w3_employees** \n",
    "\n",
    "\n",
    "- Display the top rows of the dataframe   \n",
    "- Display the number of rows and columns in the dataframe\n",
    "- Show the data types of the columns in the dataframe "
   ]
  }
 ],
 "metadata": {
  "kernelspec": {
   "display_name": "Python 3",
   "language": "python",
   "name": "python3"
  },
  "language_info": {
   "codemirror_mode": {
    "name": "ipython",
    "version": 3
   },
   "file_extension": ".py",
   "mimetype": "text/x-python",
   "name": "python",
   "nbconvert_exporter": "python",
   "pygments_lexer": "ipython3",
   "version": "3.7.4"
  }
 },
 "nbformat": 4,
 "nbformat_minor": 4
}
