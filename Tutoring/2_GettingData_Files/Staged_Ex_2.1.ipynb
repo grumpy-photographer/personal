{
 "cells": [
  {
   "cell_type": "markdown",
   "metadata": {},
   "source": [
    "# Ex 2.1 Getting Data from Files into a *pandas* Dataframe    \n",
    "\n",
    "- [In Class](#In-Class)  \n",
    "\n",
    "\n",
    "- [Exercise](#Exercise)  \n",
    "  - [Part 1](#Part-1)   \n",
    "  - [Part 2](#Part-2)  \n",
    "  - [Part 3](#Part-3)  \n",
    "  - [Part 4](#Part-4) "
   ]
  },
  {
   "cell_type": "code",
   "execution_count": null,
   "metadata": {},
   "outputs": [],
   "source": [
    "# Import the pandas library as pd\n",
    "import pandas as pd"
   ]
  },
  {
   "cell_type": "markdown",
   "metadata": {},
   "source": [
    "# In Class  \n",
    "- Data file type:  *CSV file*\n",
    "- Data file:  **Shoes_SmallDataset.csv**    \n",
    "- Name the dataframe:  **df_shoes_small**  \n",
    "\n",
    "\n",
    "- Display the top rows of the dataframe  \n",
    "- Display the number of rows and columns of data in the dataframe\n",
    "- Show the data types of the columns in the dataframe"
   ]
  },
  {
   "cell_type": "markdown",
   "metadata": {},
   "source": [
    "### Read the csv file into a pandas dataframe"
   ]
  },
  {
   "cell_type": "code",
   "execution_count": null,
   "metadata": {},
   "outputs": [],
   "source": [
    "# Read the CSV file data into a pandas dataframe\n",
    "\n",
    "\n",
    "#Display the top rows of the dataframe\n"
   ]
  },
  {
   "cell_type": "markdown",
   "metadata": {},
   "source": [
    "### Display info about the new pandas dataframe"
   ]
  },
  {
   "cell_type": "code",
   "execution_count": null,
   "metadata": {},
   "outputs": [],
   "source": [
    "# Display of number of rows and columns in the dataframe to doublecheck\n",
    "\n"
   ]
  },
  {
   "cell_type": "code",
   "execution_count": null,
   "metadata": {},
   "outputs": [],
   "source": [
    "# Display the datatypes of the columns in the dataframe\n"
   ]
  },
  {
   "cell_type": "markdown",
   "metadata": {},
   "source": [
    "# Exercise"
   ]
  },
  {
   "cell_type": "markdown",
   "metadata": {},
   "source": [
    "# Part 1\n",
    "\n",
    "- Data source:  **Femalelist.csv**    \n",
    "- Name the dataframe:  **df_female_customers**  \n",
    "\n",
    "\n",
    "- Display just the top rows of the dataframe  \n",
    "- Display the number of rows and columns of data in the dataframe\n",
    "- Show the data types of the columns in the dataframe"
   ]
  },
  {
   "cell_type": "markdown",
   "metadata": {},
   "source": [
    "### Read the csv file into a pandas dataframe"
   ]
  },
  {
   "cell_type": "markdown",
   "metadata": {},
   "source": [
    "### Display info about the new pandas dataframe"
   ]
  },
  {
   "cell_type": "markdown",
   "metadata": {},
   "source": [
    "# Part 2\n",
    "\n",
    "- Data source:  **Household.csv**    \n",
    "- Name the dataframe:  **df_household**  \n",
    "\n",
    "\n",
    "- Display just the top rows of the dataframe  \n",
    "- Display the number of rows and columns of data in the dataframe\n",
    "- Show the data types of the columns in the dataframe"
   ]
  },
  {
   "cell_type": "markdown",
   "metadata": {},
   "source": [
    "### Read the csv file into a pandas dataframe"
   ]
  },
  {
   "cell_type": "markdown",
   "metadata": {},
   "source": [
    "### Display info about the new pandas dataframe"
   ]
  },
  {
   "cell_type": "markdown",
   "metadata": {},
   "source": [
    "# Part 3\n",
    "\n",
    "- Data source:  **Country_Data.csv**    \n",
    "- Name the dataframe:  **df_country**  \n",
    "\n",
    "\n",
    "- Display just the top rows of the dataframe  \n",
    "- Display the number of rows and columns of data in the dataframe\n",
    "- Show the data types of the columns in the dataframe"
   ]
  },
  {
   "cell_type": "markdown",
   "metadata": {},
   "source": [
    "# Part 4\n",
    "\n",
    "- Data source:  **NCHS_-_Leading_Causes_of_Death__United_States.csv**    \n",
    "- Name the dataframe:  **df_deaths**  \n",
    "\n",
    "\n",
    "- Display just the top rows of the dataframe  \n",
    "- Display the number of rows and columns of data in the dataframe\n",
    "- Show the data types of the columns in the dataframe"
   ]
  }
 ],
 "metadata": {
  "kernelspec": {
   "display_name": "Python 3",
   "language": "python",
   "name": "python3"
  },
  "language_info": {
   "codemirror_mode": {
    "name": "ipython",
    "version": 3
   },
   "file_extension": ".py",
   "mimetype": "text/x-python",
   "name": "python",
   "nbconvert_exporter": "python",
   "pygments_lexer": "ipython3",
   "version": "3.7.4"
  }
 },
 "nbformat": 4,
 "nbformat_minor": 4
}
