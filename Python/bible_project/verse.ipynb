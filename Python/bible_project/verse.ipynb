{
 "cells": [
  {
   "cell_type": "code",
   "execution_count": 2,
   "metadata": {},
   "outputs": [],
   "source": [
    "from getbibleverse import verse_lookup\n",
    "\n",
    "import pandas as pd\n",
    "import numpy as np\n",
    "\n",
    "from transformers import T5Tokenizer, T5ForConditionalGeneration\n",
    "import torch\n",
    "import sentencepiece"
   ]
  },
  {
   "cell_type": "code",
   "execution_count": 3,
   "metadata": {},
   "outputs": [],
   "source": [
    "def store_verses(*passage):\n",
    "\n",
    "    # create empty df to store verses\n",
    "    verses_df = pd.DataFrame(columns=[\"bookname\", \"chapter\", \"verse\", \"text\"])\n",
    "    df = pd.DataFrame([])\n",
    "\n",
    "    # create empty list to store input separately\n",
    "    books = []\n",
    "    chapters = []\n",
    "    verses = []\n",
    "\n",
    "    # break down input into separate lists\n",
    "    for entry in passage:\n",
    "        spaces = 0\n",
    "        for i in range(0, len(entry)):\n",
    "            if entry[i] == \" \":\n",
    "                spaces += 1\n",
    "        \n",
    "        if spaces == 1:\n",
    "            book, ch_ver = entry.split(\" \")\n",
    "            chapter, verse_range = ch_ver.split(\":\")\n",
    "        elif spaces == 2:\n",
    "            book_num, book, ch_ver = entry.split(\" \")\n",
    "            book = book_num + \" \"  + book\n",
    "            chapter, verse_range = ch_ver.split(\":\")\n",
    "        else: \n",
    "            ValueError\n",
    "\n",
    "        books.append(book)\n",
    "        chapters.append(chapter)\n",
    "        verses.append(verse_range)\n",
    "\n",
    "    for i in range(len(books)):\n",
    "        data = pd.json_normalize(verse_lookup(\n",
    "            books[i], chapters[i], verses[i]))\n",
    "        verses_df = pd.concat([verses_df, data], ignore_index=True)\n",
    "\n",
    "    verses_df['book_chapter'] = verses_df['bookname'] + \" \" + verses_df['chapter']\n",
    "\n",
    "    df['book_chapter'] = verses_df[\"book_chapter\"].unique()\n",
    "    df['verses'] =[i for i in verses]\n",
    "    df['location'] = df['book_chapter'] + \":\" + df['verses']\n",
    "\n",
    "    verses_df = verses_df.groupby(['bookname', 'chapter'], sort=False).sum().reset_index()\n",
    "\n",
    "    df['text'] = verses_df['text']\n",
    "\n",
    "    text = \"\".join(df['text'])\n",
    "\n",
    "    return text"
   ]
  },
  {
   "cell_type": "code",
   "execution_count": 4,
   "metadata": {},
   "outputs": [],
   "source": [
    "text = store_verses(\"Matthew 20:28\", \"Colossians 3:12\", \"Proverbs 22:12\")"
   ]
  },
  {
   "cell_type": "code",
   "execution_count": 5,
   "metadata": {},
   "outputs": [
    {
     "data": {
      "text/plain": [
       "'just as the Son of Man did not come to be served but to serve, and to give his life as a ransom for many.” Therefore, as the elect of God, holy and dearly loved, clothe yourselves with a heart of mercy, kindness, humility, gentleness, and patience, The eyes of the Lord watched over a cause and subverted the words of the treacherous person. '"
      ]
     },
     "execution_count": 5,
     "metadata": {},
     "output_type": "execute_result"
    }
   ],
   "source": [
    "text"
   ]
  },
  {
   "cell_type": "markdown",
   "metadata": {},
   "source": [
    "import os\n",
    "\n",
    "os.environ[\"KERAS_BACKEND\"] = \"plaidml.keras.backend\"\n",
    "\n",
    "import tensorflow as tf\n",
    "from transformers import T5Tokenizer, T5ForConditionalGeneration\n",
    "\n",
    "\n",
    "def summarize_text(text):\n",
    "    # Initialize the tokenizer and model\n",
    "    tokenizer = T5Tokenizer.from_pretrained(\"t5-base\")\n",
    "    model = T5ForConditionalGeneration.from_pretrained(\"t5-base\")\n",
    "\n",
    "    # Tokenize the text\n",
    "    inputs = tokenizer.encode(\n",
    "        \"summarize: \" + text, return_tensors=\"pt\", max_length=512, truncation=True\n",
    "    )\n",
    "\n",
    "    # Generate a summary\n",
    "    outputs = model.generate(\n",
    "        inputs,\n",
    "        max_length=150,\n",
    "        min_length=40,\n",
    "        length_penalty=2.0,\n",
    "        num_beams=4,\n",
    "        early_stopping=True,\n",
    "    )\n",
    "\n",
    "    # Decode the summary\n",
    "    summary = tokenizer.decode(outputs[0])\n",
    "\n",
    "    return summary"
   ]
  },
  {
   "cell_type": "markdown",
   "metadata": {},
   "source": [
    "summarize_text(text)"
   ]
  }
 ],
 "metadata": {
  "kernelspec": {
   "display_name": "Python 3 (ipykernel)",
   "language": "python",
   "name": "python3"
  },
  "language_info": {
   "codemirror_mode": {
    "name": "ipython",
    "version": 3
   },
   "file_extension": ".py",
   "mimetype": "text/x-python",
   "name": "python",
   "nbconvert_exporter": "python",
   "pygments_lexer": "ipython3",
   "version": "3.12.4"
  },
  "vscode": {
   "interpreter": {
    "hash": "9f0d103aebe82dfbb47ec724a2ca4fd3dcb0c9038207abb072b7913218171667"
   }
  }
 },
 "nbformat": 4,
 "nbformat_minor": 2
}
