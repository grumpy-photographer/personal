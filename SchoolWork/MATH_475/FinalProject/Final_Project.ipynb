{
 "cells": [
  {
   "cell_type": "markdown",
   "metadata": {},
   "source": [
    "# Predicting Hazardous Asteroids"
   ]
  },
  {
   "cell_type": "markdown",
   "metadata": {
    "toc": true
   },
   "source": [
    "<h1>Table of Contents<span class=\"tocSkip\"></span></h1>\n",
    "<div class=\"toc\"><ul class=\"toc-item\"><li><span><a href=\"#Intro\" data-toc-modified-id=\"Intro-1\"><span class=\"toc-item-num\">1&nbsp;&nbsp;</span>Intro</a></span><ul class=\"toc-item\"><li><span><a href=\"#What\" data-toc-modified-id=\"What-1.1\"><span class=\"toc-item-num\">1.1&nbsp;&nbsp;</span>What</a></span></li><li><span><a href=\"#Why\" data-toc-modified-id=\"Why-1.2\"><span class=\"toc-item-num\">1.2&nbsp;&nbsp;</span>Why</a></span></li></ul></li><li><span><a href=\"#Imports\" data-toc-modified-id=\"Imports-2\"><span class=\"toc-item-num\">2&nbsp;&nbsp;</span>Imports</a></span></li><li><span><a href=\"#Process-Data\" data-toc-modified-id=\"Process-Data-3\"><span class=\"toc-item-num\">3&nbsp;&nbsp;</span>Process Data</a></span><ul class=\"toc-item\"><li><span><a href=\"#Load-data\" data-toc-modified-id=\"Load-data-3.1\"><span class=\"toc-item-num\">3.1&nbsp;&nbsp;</span>Load data</a></span></li><li><span><a href=\"#Understand-data\" data-toc-modified-id=\"Understand-data-3.2\"><span class=\"toc-item-num\">3.2&nbsp;&nbsp;</span>Understand data</a></span></li><li><span><a href=\"#Clean-data\" data-toc-modified-id=\"Clean-data-3.3\"><span class=\"toc-item-num\">3.3&nbsp;&nbsp;</span>Clean data</a></span></li><li><span><a href=\"#Visualize-data\" data-toc-modified-id=\"Visualize-data-3.4\"><span class=\"toc-item-num\">3.4&nbsp;&nbsp;</span>Visualize data</a></span></li></ul></li><li><span><a href=\"#Split-data\" data-toc-modified-id=\"Split-data-4\"><span class=\"toc-item-num\">4&nbsp;&nbsp;</span>Split data</a></span></li><li><span><a href=\"#Find-Model\" data-toc-modified-id=\"Find-Model-5\"><span class=\"toc-item-num\">5&nbsp;&nbsp;</span>Find Model</a></span></li><li><span><a href=\"#Model-1\" data-toc-modified-id=\"Model-1-6\"><span class=\"toc-item-num\">6&nbsp;&nbsp;</span>Model 1</a></span></li><li><span><a href=\"#Model-2\" data-toc-modified-id=\"Model-2-7\"><span class=\"toc-item-num\">7&nbsp;&nbsp;</span>Model 2</a></span></li></ul></div>"
   ]
  },
  {
   "cell_type": "markdown",
   "metadata": {},
   "source": [
    "***"
   ]
  },
  {
   "cell_type": "markdown",
   "metadata": {},
   "source": [
    "## Intro"
   ]
  },
  {
   "cell_type": "markdown",
   "metadata": {},
   "source": [
    "### What"
   ]
  },
  {
   "cell_type": "markdown",
   "metadata": {},
   "source": [
    "NASA (National Aeronautics and Space Administration) is a world-renown organization headquartered in the United States.  The organization was created during the Space Race with Russia, in response to Sputnik 1 being launched into orbit around Earth.  Since then, NASA has landed people on the moon, rovers on Mars, telescopes into deep space, built (with international partnerships) a space station, and is still working to develop new technologies every day.  Part of their research takes a look at asteroids and attempts to determine if asteroids are hazardous or safe to Earth, so that we can take proper action should it be necessary.  The data used in this project comes from [Kaggle](https://www.kaggle.com/shrutimehta/nasa-asteroids-classification), but originates from NASA.\n",
    "\n",
    "This data contains 40 variables which can be summarized as follows:\n",
    "\n",
    "- The first two columns contain identical identifier values and are not too important or beneficial for a model. \n",
    "- The next feature is the absolute magnitude which looks looks at the brightness of an celestial object, according to the definition of absolute magnitude, as it would be seen at a distance of 10 parsecs (equal to 1.9174E+14 miles).  \n",
    "- The next set of features are related to the diameter of asteroids.  Estimates are made in kilometers (km), meters (m), miles (mi), and feet (ft), with data for the maximum and minimum of each distance.  \n",
    "- There are two columns addressing the date asteroids will approach Earth, by date and periods (epoch).  \n",
    "- Features also include the speed of the asteroid, the distance from the earth the asteroid will pass, measured in astronomical, lunar, km, and mi units.  \n",
    "- There are a number of columns dealing with the orbit pattern including the orbital period, perihelion distance, aphelion distance, eccentricity and the like.\n",
    "\n",
    "There is one target in the 40 columns:\n",
    "\n",
    "- The target variable is `hazardous` column, showing whether the asteroid is hazardous or not, based on size, speed, and orbit."
   ]
  },
  {
   "cell_type": "markdown",
   "metadata": {},
   "source": [
    "### Why"
   ]
  },
  {
   "cell_type": "markdown",
   "metadata": {},
   "source": [
    "My grandfather worked for NASA during the Apollo missions.  This alone got me interested in a career in aeronautics, as well as witnessing SpaceX's many successes (and failures) and eventual partnership with NASA to launch American astronauts from American soil.  Today, my interest in space continues to grow and one of my goals is to work for an aeronautics company in the future.  Chances of me getting that a role like that are slim, right now, so the best thing I can do is work with data they provide to continue building my skills and experience.\n",
    "\n",
    "Let's get started!"
   ]
  },
  {
   "cell_type": "markdown",
   "metadata": {},
   "source": [
    "***\n",
    "\n",
    "## Imports"
   ]
  },
  {
   "cell_type": "markdown",
   "metadata": {},
   "source": [
    "First, we will import \"global\" packages that we will use throughout our code."
   ]
  },
  {
   "cell_type": "code",
   "execution_count": 1,
   "metadata": {},
   "outputs": [],
   "source": [
    "import pandas as pd\n",
    "import seaborn as sns\n",
    "import matplotlib.pyplot as plt"
   ]
  },
  {
   "cell_type": "markdown",
   "metadata": {},
   "source": [
    "***\n",
    "\n",
    "## Process Data"
   ]
  },
  {
   "cell_type": "markdown",
   "metadata": {},
   "source": [
    "### Load data"
   ]
  },
  {
   "cell_type": "markdown",
   "metadata": {},
   "source": [
    "Thanks to this data coming from Kaggle, there are no special steps or attributes necessary to load data into a data frame.  We can just use the `read_csv()` function included in the Pandas library."
   ]
  },
  {
   "cell_type": "code",
   "execution_count": 2,
   "metadata": {},
   "outputs": [],
   "source": [
    "# load csv into pandas dataframe\n",
    "asteroids = pd.read_csv(\"nasa.csv\")"
   ]
  },
  {
   "cell_type": "markdown",
   "metadata": {},
   "source": [
    "### Understand data"
   ]
  },
  {
   "cell_type": "markdown",
   "metadata": {},
   "source": [
    "Now that the data has been loaded, let's take a run-down of contents.  Again, this data comes from Kaggle and thus has already been preprocessed, but we might want to do more to make it our own."
   ]
  },
  {
   "cell_type": "code",
   "execution_count": 3,
   "metadata": {
    "scrolled": false
   },
   "outputs": [
    {
     "name": "stdout",
     "output_type": "stream",
     "text": [
      "<class 'pandas.core.frame.DataFrame'>\n",
      "RangeIndex: 4687 entries, 0 to 4686\n",
      "Data columns (total 40 columns):\n",
      " #   Column                        Non-Null Count  Dtype  \n",
      "---  ------                        --------------  -----  \n",
      " 0   Neo Reference ID              4687 non-null   int64  \n",
      " 1   Name                          4687 non-null   int64  \n",
      " 2   Absolute Magnitude            4687 non-null   float64\n",
      " 3   Est Dia in KM(min)            4687 non-null   float64\n",
      " 4   Est Dia in KM(max)            4687 non-null   float64\n",
      " 5   Est Dia in M(min)             4687 non-null   float64\n",
      " 6   Est Dia in M(max)             4687 non-null   float64\n",
      " 7   Est Dia in Miles(min)         4687 non-null   float64\n",
      " 8   Est Dia in Miles(max)         4687 non-null   float64\n",
      " 9   Est Dia in Feet(min)          4687 non-null   float64\n",
      " 10  Est Dia in Feet(max)          4687 non-null   float64\n",
      " 11  Close Approach Date           4687 non-null   object \n",
      " 12  Epoch Date Close Approach     4687 non-null   int64  \n",
      " 13  Relative Velocity km per sec  4687 non-null   float64\n",
      " 14  Relative Velocity km per hr   4687 non-null   float64\n",
      " 15  Miles per hour                4687 non-null   float64\n",
      " 16  Miss Dist.(Astronomical)      4687 non-null   float64\n",
      " 17  Miss Dist.(lunar)             4687 non-null   float64\n",
      " 18  Miss Dist.(kilometers)        4687 non-null   float64\n",
      " 19  Miss Dist.(miles)             4687 non-null   float64\n",
      " 20  Orbiting Body                 4687 non-null   object \n",
      " 21  Orbit ID                      4687 non-null   int64  \n",
      " 22  Orbit Determination Date      4687 non-null   object \n",
      " 23  Orbit Uncertainity            4687 non-null   int64  \n",
      " 24  Minimum Orbit Intersection    4687 non-null   float64\n",
      " 25  Jupiter Tisserand Invariant   4687 non-null   float64\n",
      " 26  Epoch Osculation              4687 non-null   float64\n",
      " 27  Eccentricity                  4687 non-null   float64\n",
      " 28  Semi Major Axis               4687 non-null   float64\n",
      " 29  Inclination                   4687 non-null   float64\n",
      " 30  Asc Node Longitude            4687 non-null   float64\n",
      " 31  Orbital Period                4687 non-null   float64\n",
      " 32  Perihelion Distance           4687 non-null   float64\n",
      " 33  Perihelion Arg                4687 non-null   float64\n",
      " 34  Aphelion Dist                 4687 non-null   float64\n",
      " 35  Perihelion Time               4687 non-null   float64\n",
      " 36  Mean Anomaly                  4687 non-null   float64\n",
      " 37  Mean Motion                   4687 non-null   float64\n",
      " 38  Equinox                       4687 non-null   object \n",
      " 39  Hazardous                     4687 non-null   bool   \n",
      "dtypes: bool(1), float64(30), int64(5), object(4)\n",
      "memory usage: 1.4+ MB\n"
     ]
    }
   ],
   "source": [
    "# view basic info about columns\n",
    "asteroids.info()"
   ]
  },
  {
   "cell_type": "markdown",
   "metadata": {},
   "source": [
    "Each column has the same number of non-null rows which matches the number of rows the dataframe contains (see RangeIndex value at the top of the result pane).  That means there are likely no nulls in the data.  We can see here that there are four (4) columns with the `object` data type and five (5) columns with the `int64` data type.  Let's look at what these columns contain to see if they are helpful. We already plan on dropping the first two `int64` columns, but we will take a look to understand why. We will look at the others following in order, for readability.  \n",
    "\n",
    "First, `Neo Reference ID`."
   ]
  },
  {
   "cell_type": "code",
   "execution_count": 4,
   "metadata": {
    "scrolled": true
   },
   "outputs": [
    {
     "data": {
      "text/plain": [
       "0       3703080\n",
       "1       3723955\n",
       "2       2446862\n",
       "3       3092506\n",
       "4       3514799\n",
       "         ...   \n",
       "4682    3759007\n",
       "4683    3759295\n",
       "4684    3759714\n",
       "4685    3759720\n",
       "4686    3772978\n",
       "Name: Neo Reference ID, Length: 4687, dtype: int64"
      ]
     },
     "execution_count": 4,
     "metadata": {},
     "output_type": "execute_result"
    }
   ],
   "source": [
    "# look at 'Neo Reference ID'\n",
    "asteroids[\"Neo Reference ID\"]\n",
    "\n",
    "#asteroids[\"Neo Refernce ID\"].sum() = 15337259656"
   ]
  },
  {
   "cell_type": "code",
   "execution_count": 5,
   "metadata": {},
   "outputs": [
    {
     "data": {
      "text/plain": [
       "array([3703080, 3723955, 2446862, ..., 3759714, 3759720, 3772978],\n",
       "      dtype=int64)"
      ]
     },
     "execution_count": 5,
     "metadata": {},
     "output_type": "execute_result"
    }
   ],
   "source": [
    "# see unique values in column\n",
    "asteroids[\"Neo Reference ID\"].unique()\n",
    "\n",
    "#asteroids[\"Neo Reference ID\"].unique().sum() = 12150256364"
   ]
  },
  {
   "cell_type": "markdown",
   "metadata": {},
   "source": [
    "As mentioned before, these values just identify asteroids.  Interesting enough, if you put `.sum()` at the end, it will give you the sum of the column, adding each value together.  That is not the interesting part, as that should be obvious.  What is interesting is if you add `.sum()` to `.unique()` you get a smaller value when you would expect the same value.  This means some asteroids can be found more than once in this data set.  We might want to remove duplicates as they may throw the model off or train it too well. \n",
    "\n",
    "The `Name` column should contain the same values, but we can check just to make sure."
   ]
  },
  {
   "cell_type": "code",
   "execution_count": 6,
   "metadata": {},
   "outputs": [
    {
     "data": {
      "text/plain": [
       "0       3703080\n",
       "1       3723955\n",
       "2       2446862\n",
       "3       3092506\n",
       "4       3514799\n",
       "         ...   \n",
       "4682    3759007\n",
       "4683    3759295\n",
       "4684    3759714\n",
       "4685    3759720\n",
       "4686    3772978\n",
       "Name: Name, Length: 4687, dtype: int64"
      ]
     },
     "execution_count": 6,
     "metadata": {},
     "output_type": "execute_result"
    }
   ],
   "source": [
    "# look at 'Name'\n",
    "asteroids[\"Name\"]\n",
    "\n",
    "#asteroids[\"Name\"].sum() = 15337259656"
   ]
  },
  {
   "cell_type": "code",
   "execution_count": 7,
   "metadata": {},
   "outputs": [
    {
     "data": {
      "text/plain": [
       "array([3703080, 3723955, 2446862, ..., 3759714, 3759720, 3772978],\n",
       "      dtype=int64)"
      ]
     },
     "execution_count": 7,
     "metadata": {},
     "output_type": "execute_result"
    }
   ],
   "source": [
    "# see unique values in column\n",
    "asteroids[\"Name\"].unique()\n",
    "\n",
    "#asteroids[\"Name\"].unique().sum() = 12150256364"
   ]
  },
  {
   "cell_type": "markdown",
   "metadata": {},
   "source": [
    "Sure enough, as expected, both `Neo Reference ID` and `Name` contain the same values.  We can drop these columns after we use them to remove duplicates.  \n",
    "\n",
    "Let's look at `Close Approach Date`."
   ]
  },
  {
   "cell_type": "code",
   "execution_count": 8,
   "metadata": {},
   "outputs": [
    {
     "data": {
      "text/plain": [
       "0    1995-01-01\n",
       "1    1995-01-01\n",
       "2    1995-01-08\n",
       "3    1995-01-15\n",
       "4    1995-01-15\n",
       "Name: Close Approach Date, dtype: object"
      ]
     },
     "execution_count": 8,
     "metadata": {},
     "output_type": "execute_result"
    }
   ],
   "source": [
    "# look at 'Close Approach Date'\n",
    "asteroids[\"Close Approach Date\"].head()"
   ]
  },
  {
   "cell_type": "markdown",
   "metadata": {},
   "source": [
    "We don't have access to the metadata, but from the column name, `Close Approach Date` is most likely the date the asteroid will pass closest to the earth.  While it might be interesting to see if there is a pattern in dates relating to if an asteroid is hazardous or not, that exploration is for another project.  If we wanted to use this column, we could encode it, but that would result in over 4000 new columns.  Instead of doing that, for this project, we will drop this column. \n",
    "\n",
    "Let's look at `Epoch Date Close Approach`."
   ]
  },
  {
   "cell_type": "code",
   "execution_count": 9,
   "metadata": {},
   "outputs": [
    {
     "data": {
      "text/plain": [
       "0        788947200000\n",
       "1        788947200000\n",
       "2        789552000000\n",
       "3        790156800000\n",
       "4        790156800000\n",
       "            ...      \n",
       "4682    1473318000000\n",
       "4683    1473318000000\n",
       "4684    1473318000000\n",
       "4685    1473318000000\n",
       "4686    1473318000000\n",
       "Name: Epoch Date Close Approach, Length: 4687, dtype: int64"
      ]
     },
     "execution_count": 9,
     "metadata": {},
     "output_type": "execute_result"
    }
   ],
   "source": [
    "# look at 'Epoch Date Close Approach'\n",
    "asteroids[\"Epoch Date Close Approach\"]"
   ]
  },
  {
   "cell_type": "code",
   "execution_count": 10,
   "metadata": {
    "scrolled": true
   },
   "outputs": [
    {
     "data": {
      "text/plain": [
       "array([ 788947200000,  789552000000,  790156800000,  790761600000,\n",
       "        792230400000,  792835200000,  793440000000,  794649600000,\n",
       "        795254400000,  795859200000,  797324400000,  797929200000,\n",
       "        798534000000,  799916400000,  800521200000,  801126000000,\n",
       "        802594800000,  803199600000,  803804400000,  805186800000,\n",
       "        805791600000,  806396400000,  807865200000,  808470000000,\n",
       "        809074800000,  810543600000,  811148400000,  811753200000,\n",
       "        813135600000,  813740400000,  814345200000,  815817600000,\n",
       "        816422400000,  817027200000,  818409600000,  819014400000,\n",
       "        819619200000,  821088000000,  821692800000,  822297600000,\n",
       "        823766400000,  824371200000,  824976000000,  826272000000,\n",
       "        827481600000,  828946800000,  829551600000,  830156400000,\n",
       "        831538800000,  832143600000,  832748400000,  834217200000,\n",
       "        834822000000,  835426800000,  836809200000,  837414000000,\n",
       "        838018800000,  839487600000,  840092400000,  840697200000,\n",
       "        842166000000,  842770800000,  843375600000,  844758000000,\n",
       "        845362800000,  845967600000,  847440000000,  848044800000,\n",
       "        848649600000,  850032000000,  850636800000,  851241600000,\n",
       "        852710400000,  853315200000,  853920000000,  855388800000,\n",
       "        855993600000,  856598400000,  857808000000,  858412800000,\n",
       "        859017600000,  860482800000,  861087600000,  861692400000,\n",
       "        863074800000,  863679600000,  864284400000,  865753200000,\n",
       "        866358000000,  866962800000,  868345200000,  868950000000,\n",
       "        869554800000,  871023600000,  871628400000,  872233200000,\n",
       "        873702000000,  874306800000,  874911600000,  876294000000,\n",
       "        876898800000,  877503600000,  878976000000,  879580800000,\n",
       "        880185600000,  881568000000,  882172800000,  882777600000,\n",
       "        884246400000,  884851200000,  885456000000,  886924800000,\n",
       "        887529600000,  888134400000,  889344000000,  889948800000,\n",
       "        890553600000,  892018800000,  892623600000,  893228400000,\n",
       "        894610800000,  895215600000,  895820400000,  897289200000,\n",
       "        897894000000,  898498800000,  899881200000,  900486000000,\n",
       "        902559600000,  903164400000,  903769200000,  905238000000,\n",
       "        905842800000,  906447600000,  907830000000,  908434800000,\n",
       "        909039600000,  910512000000,  911116800000,  911721600000,\n",
       "        913104000000,  913708800000,  914313600000,  915782400000,\n",
       "        916387200000,  916992000000,  918460800000,  919065600000,\n",
       "        919670400000,  920880000000,  921484800000,  922089600000,\n",
       "        923554800000,  924159600000,  924764400000,  926751600000,\n",
       "        927356400000,  928825200000,  929430000000,  930034800000,\n",
       "        931417200000,  932022000000,  932626800000,  934095600000,\n",
       "        934700400000,  935305200000,  936774000000,  937378800000,\n",
       "        937983600000,  939366000000,  939970800000,  940575600000,\n",
       "        942048000000,  942652800000,  943257600000,  944640000000,\n",
       "        945244800000,  945849600000,  947318400000,  947923200000,\n",
       "        948528000000,  949996800000,  950601600000,  951206400000,\n",
       "        953107200000,  953712000000,  955177200000,  955782000000,\n",
       "        956386800000,  957769200000,  958374000000,  958978800000,\n",
       "        960447600000,  961052400000,  961657200000,  963039600000,\n",
       "        963644400000,  964249200000,  965718000000,  966322800000,\n",
       "        966927600000,  968396400000,  969001200000,  969606000000,\n",
       "        970988400000,  971593200000,  972198000000,  973670400000,\n",
       "        974275200000,  974880000000,  976262400000,  976867200000,\n",
       "        977472000000,  978940800000,  979545600000,  980150400000,\n",
       "        981619200000,  982224000000,  982828800000,  984038400000,\n",
       "        984643200000,  985248000000,  986713200000,  987318000000,\n",
       "        987922800000,  989305200000,  989910000000,  990514800000,\n",
       "        991983600000,  992588400000,  993193200000,  994575600000,\n",
       "        995180400000,  995785200000,  997254000000,  997858800000,\n",
       "        998463600000,  999932400000, 1000537200000, 1001142000000,\n",
       "       1002524400000, 1003129200000, 1003734000000, 1005206400000,\n",
       "       1005811200000, 1006416000000, 1007798400000, 1008403200000,\n",
       "       1009008000000, 1010476800000, 1011081600000, 1011686400000,\n",
       "       1013155200000, 1013760000000, 1014364800000, 1015574400000,\n",
       "       1016179200000, 1016784000000, 1018249200000, 1018854000000,\n",
       "       1019458800000, 1020841200000, 1021446000000, 1022050800000,\n",
       "       1023519600000, 1024124400000, 1024729200000, 1026111600000,\n",
       "       1026716400000, 1027321200000, 1028790000000, 1029394800000,\n",
       "       1029999600000, 1031468400000, 1032073200000, 1032678000000,\n",
       "       1034060400000, 1034665200000, 1035270000000, 1036742400000,\n",
       "       1037347200000, 1037952000000, 1039334400000, 1039939200000,\n",
       "       1040544000000, 1042012800000, 1042617600000, 1043222400000,\n",
       "       1044691200000, 1045296000000, 1045900800000, 1047110400000,\n",
       "       1047715200000, 1048320000000, 1049785200000, 1050390000000,\n",
       "       1050994800000, 1052377200000, 1052982000000, 1053586800000,\n",
       "       1055055600000, 1055660400000, 1056265200000, 1057647600000,\n",
       "       1058252400000, 1058857200000, 1060326000000, 1060930800000,\n",
       "       1061535600000, 1063004400000, 1063609200000, 1064214000000,\n",
       "       1065596400000, 1066201200000, 1066806000000, 1068278400000,\n",
       "       1068883200000, 1069488000000, 1070870400000, 1071475200000,\n",
       "       1072080000000, 1073548800000, 1074153600000, 1074758400000,\n",
       "       1076227200000, 1076832000000, 1077436800000, 1078732800000,\n",
       "       1079337600000, 1079942400000, 1081407600000, 1082012400000,\n",
       "       1082617200000, 1083999600000, 1084604400000, 1085209200000,\n",
       "       1086678000000, 1087282800000, 1087887600000, 1089270000000,\n",
       "       1089874800000, 1090479600000, 1091948400000, 1092553200000,\n",
       "       1093158000000, 1094626800000, 1095231600000, 1095836400000,\n",
       "       1097218800000, 1097823600000, 1098428400000, 1099900800000,\n",
       "       1100505600000, 1101110400000, 1102492800000, 1103097600000,\n",
       "       1103702400000, 1105171200000, 1105776000000, 1106380800000,\n",
       "       1107849600000, 1108454400000, 1109059200000, 1110268800000,\n",
       "       1110873600000, 1111478400000, 1112943600000, 1113548400000,\n",
       "       1114153200000, 1115535600000, 1116140400000, 1116745200000,\n",
       "       1118214000000, 1118818800000, 1119423600000, 1121410800000,\n",
       "       1122015600000, 1123484400000, 1124089200000, 1124694000000,\n",
       "       1126162800000, 1126767600000, 1127372400000, 1128754800000,\n",
       "       1129359600000, 1129964400000, 1131436800000, 1132041600000,\n",
       "       1132646400000, 1134028800000, 1134633600000, 1135238400000,\n",
       "       1136707200000, 1137312000000, 1137916800000, 1139385600000,\n",
       "       1139990400000, 1140595200000, 1141804800000, 1142409600000,\n",
       "       1143014400000, 1144479600000, 1145084400000, 1145689200000,\n",
       "       1147071600000, 1147676400000, 1148281200000, 1149750000000,\n",
       "       1150354800000, 1150959600000, 1152342000000, 1152946800000,\n",
       "       1153551600000, 1155020400000, 1155625200000, 1156230000000,\n",
       "       1157698800000, 1158303600000, 1158908400000, 1160290800000,\n",
       "       1160895600000, 1161500400000, 1162972800000, 1163577600000,\n",
       "       1164182400000, 1165564800000, 1166169600000, 1166774400000,\n",
       "       1168243200000, 1168848000000, 1169452800000, 1170921600000,\n",
       "       1171526400000, 1172131200000, 1173340800000, 1173942000000,\n",
       "       1174546800000, 1176015600000, 1176620400000, 1177225200000,\n",
       "       1178607600000, 1179212400000, 1179817200000, 1181286000000,\n",
       "       1181890800000, 1182495600000, 1183878000000, 1184482800000,\n",
       "       1185087600000, 1186556400000, 1187161200000, 1187766000000,\n",
       "       1189234800000, 1189839600000, 1190444400000, 1191826800000,\n",
       "       1192431600000, 1193036400000, 1194508800000, 1195113600000,\n",
       "       1195718400000, 1197100800000, 1197705600000, 1198310400000,\n",
       "       1199779200000, 1200384000000, 1200988800000, 1202457600000,\n",
       "       1203062400000, 1203667200000, 1204963200000, 1205564400000,\n",
       "       1206169200000, 1207638000000, 1208242800000, 1208847600000,\n",
       "       1210230000000, 1210834800000, 1211439600000, 1212908400000,\n",
       "       1213513200000, 1214118000000, 1215500400000, 1216105200000,\n",
       "       1216710000000, 1218178800000, 1218783600000, 1219388400000,\n",
       "       1220857200000, 1221462000000, 1222066800000, 1223449200000,\n",
       "       1224054000000, 1224658800000, 1226131200000, 1226736000000,\n",
       "       1227340800000, 1228723200000, 1229328000000, 1229932800000,\n",
       "       1231401600000, 1232006400000, 1232611200000, 1234080000000,\n",
       "       1234684800000, 1235289600000, 1236499200000, 1237100400000,\n",
       "       1237705200000, 1239174000000, 1239778800000, 1240383600000,\n",
       "       1241766000000, 1242370800000, 1242975600000, 1244444400000,\n",
       "       1245049200000, 1245654000000, 1247036400000, 1247641200000,\n",
       "       1248246000000, 1249714800000, 1250319600000, 1250924400000,\n",
       "       1252393200000, 1252998000000, 1253602800000, 1254985200000,\n",
       "       1255590000000, 1256194800000, 1257667200000, 1258272000000,\n",
       "       1258876800000, 1260259200000, 1260864000000, 1261468800000,\n",
       "       1262937600000, 1263542400000, 1264147200000, 1265616000000,\n",
       "       1266220800000, 1266825600000, 1268035200000, 1268636400000,\n",
       "       1269241200000, 1270710000000, 1271314800000, 1271919600000,\n",
       "       1273302000000, 1273906800000, 1274511600000, 1275980400000,\n",
       "       1276585200000, 1277190000000, 1278572400000, 1279177200000,\n",
       "       1279782000000, 1281250800000, 1281855600000, 1282460400000,\n",
       "       1283929200000, 1284534000000, 1285138800000, 1286521200000,\n",
       "       1287126000000, 1287730800000, 1289203200000, 1289808000000,\n",
       "       1290412800000, 1291795200000, 1292400000000, 1293004800000,\n",
       "       1294473600000, 1295078400000, 1295683200000, 1297152000000,\n",
       "       1297756800000, 1298361600000, 1299571200000, 1300172400000,\n",
       "       1300777200000, 1302246000000, 1302850800000, 1303455600000,\n",
       "       1304838000000, 1305442800000, 1306047600000, 1307516400000,\n",
       "       1308121200000, 1308726000000, 1310108400000, 1310713200000,\n",
       "       1311318000000, 1312786800000, 1313391600000, 1313996400000,\n",
       "       1315465200000, 1316070000000, 1316674800000, 1318057200000,\n",
       "       1318662000000, 1319266800000, 1320739200000, 1321344000000,\n",
       "       1321948800000, 1323331200000, 1323936000000, 1324540800000,\n",
       "       1326009600000, 1326614400000, 1327219200000, 1328688000000,\n",
       "       1329292800000, 1329897600000, 1331193600000, 1331794800000,\n",
       "       1332399600000, 1333868400000, 1334473200000, 1335078000000,\n",
       "       1336460400000, 1337065200000, 1337670000000, 1339138800000,\n",
       "       1339743600000, 1340348400000, 1341730800000, 1342335600000,\n",
       "       1342940400000, 1344409200000, 1345014000000, 1345618800000,\n",
       "       1347087600000, 1347692400000, 1348297200000, 1349679600000,\n",
       "       1350284400000, 1350889200000, 1352361600000, 1352966400000,\n",
       "       1353571200000, 1354953600000, 1355558400000, 1356163200000,\n",
       "       1357632000000, 1358236800000, 1358841600000, 1360310400000,\n",
       "       1360915200000, 1361520000000, 1362729600000, 1363330800000,\n",
       "       1363935600000, 1365404400000, 1366009200000, 1366614000000,\n",
       "       1367996400000, 1368601200000, 1369206000000, 1370674800000,\n",
       "       1371279600000, 1371884400000, 1373266800000, 1373871600000,\n",
       "       1374476400000, 1375945200000, 1376550000000, 1377154800000,\n",
       "       1378623600000, 1379228400000, 1379833200000, 1381215600000,\n",
       "       1381820400000, 1382425200000, 1383897600000, 1384502400000,\n",
       "       1385107200000, 1386489600000, 1387094400000, 1387699200000,\n",
       "       1389168000000, 1389772800000, 1390377600000, 1391846400000,\n",
       "       1392451200000, 1393056000000, 1394265600000, 1394866800000,\n",
       "       1395471600000, 1396940400000, 1397545200000, 1398150000000,\n",
       "       1399532400000, 1400137200000, 1400742000000, 1402210800000,\n",
       "       1402815600000, 1403420400000, 1404802800000, 1405407600000,\n",
       "       1406012400000, 1407481200000, 1408086000000, 1408690800000,\n",
       "       1410159600000, 1410764400000, 1411369200000, 1412751600000,\n",
       "       1413356400000, 1413961200000, 1415433600000, 1416038400000,\n",
       "       1416643200000, 1418025600000, 1418630400000, 1419235200000,\n",
       "       1420704000000, 1421308800000, 1421913600000, 1423382400000,\n",
       "       1423987200000, 1424592000000, 1425801600000, 1426402800000,\n",
       "       1427007600000, 1428476400000, 1429081200000, 1429686000000,\n",
       "       1431068400000, 1431673200000, 1432278000000, 1433746800000,\n",
       "       1434351600000, 1434956400000, 1436338800000, 1436943600000,\n",
       "       1437548400000, 1439017200000, 1439622000000, 1440226800000,\n",
       "       1441695600000, 1442300400000, 1442905200000, 1444287600000,\n",
       "       1444892400000, 1445497200000, 1446969600000, 1447574400000,\n",
       "       1448179200000, 1449561600000, 1450166400000, 1450771200000,\n",
       "       1452240000000, 1452844800000, 1453449600000, 1454918400000,\n",
       "       1455523200000, 1456128000000, 1457424000000, 1458025200000,\n",
       "       1458630000000, 1460098800000, 1460703600000, 1461308400000,\n",
       "       1462690800000, 1463295600000, 1463900400000, 1465369200000,\n",
       "       1465974000000, 1466578800000, 1467961200000, 1468566000000,\n",
       "       1469170800000, 1470639600000, 1471244400000, 1471849200000,\n",
       "       1473318000000], dtype=int64)"
      ]
     },
     "execution_count": 10,
     "metadata": {},
     "output_type": "execute_result"
    }
   ],
   "source": [
    "# see unique values in column\n",
    "asteroids[\"Epoch Date Close Approach\"].unique()"
   ]
  },
  {
   "cell_type": "markdown",
   "metadata": {},
   "source": [
    "There are a number of unique values, but it might be the `Close Approach Date` in epoch format.  Since we are not completely sure, we will drop this column too.  \n",
    "\n",
    "Let's look at `Orbiting Body`."
   ]
  },
  {
   "cell_type": "code",
   "execution_count": 11,
   "metadata": {
    "scrolled": true
   },
   "outputs": [
    {
     "data": {
      "text/plain": [
       "0       Earth\n",
       "1       Earth\n",
       "2       Earth\n",
       "3       Earth\n",
       "4       Earth\n",
       "        ...  \n",
       "4682    Earth\n",
       "4683    Earth\n",
       "4684    Earth\n",
       "4685    Earth\n",
       "4686    Earth\n",
       "Name: Orbiting Body, Length: 4687, dtype: object"
      ]
     },
     "execution_count": 11,
     "metadata": {},
     "output_type": "execute_result"
    }
   ],
   "source": [
    "# look at 'Orbiting Body'\n",
    "asteroids[\"Orbiting Body\"]"
   ]
  },
  {
   "cell_type": "code",
   "execution_count": 12,
   "metadata": {},
   "outputs": [
    {
     "data": {
      "text/plain": [
       "array(['Earth'], dtype=object)"
      ]
     },
     "execution_count": 12,
     "metadata": {},
     "output_type": "execute_result"
    }
   ],
   "source": [
    "# see unique values in column\n",
    "asteroids[\"Orbiting Body\"].unique()"
   ]
  },
  {
   "cell_type": "markdown",
   "metadata": {},
   "source": [
    "Looking at the data in the `Orbiting Body` column, we can tell that the value is the body the asteroid is orbiting.  Now, basic knowledge of the solar system will tell us that we (Earth) orbit the sun, as does everything else in our the solar system.  We then have an idea of what this column will contain for the values we cannot see.  When `.unique()` argument, we are able to find each distinct value in a column.  Having 4686 rows with the same value  ('Earth') seems odd, but since this data is determining if an asteroid is hazardous to Earth and not the entire solar system, it makes sense.  We can remove this column as it provides no helpful information for classification.\n",
    "\n",
    "Let's take a look at `Orbit ID`."
   ]
  },
  {
   "cell_type": "code",
   "execution_count": 13,
   "metadata": {},
   "outputs": [
    {
     "data": {
      "text/plain": [
       "0       17\n",
       "1       21\n",
       "2       22\n",
       "3        7\n",
       "4       25\n",
       "        ..\n",
       "4682     4\n",
       "4683     2\n",
       "4684    17\n",
       "4685     6\n",
       "4686    13\n",
       "Name: Orbit ID, Length: 4687, dtype: int64"
      ]
     },
     "execution_count": 13,
     "metadata": {},
     "output_type": "execute_result"
    }
   ],
   "source": [
    "# look at 'Orbit ID'\n",
    "asteroids[\"Orbit ID\"]"
   ]
  },
  {
   "cell_type": "code",
   "execution_count": 14,
   "metadata": {},
   "outputs": [
    {
     "data": {
      "text/plain": [
       "array([ 17,  21,  22,   7,  25,  40,  43, 100,  30,  12,  23,   5,  42,\n",
       "        26,   4,  27,  16,  29,  13,   8,  32,  10,   2, 117,  14,  34,\n",
       "         6,  41,  80,  39,  48,  11,   9,  69,  36,  44,  45,  52,  18,\n",
       "        24,  19,  72, 253,  50,  75,  38, 121,  67,  37,  28,  94,  60,\n",
       "        55,  15,  57, 101,  78,   3,  51,  20,  33, 109,  49, 167,  47,\n",
       "        65, 115,  59,  68,  97,  77,  83,  54,  56,  84,  31,  70,  73,\n",
       "        87, 236,  53, 193, 164,  64, 271,  35, 412, 138,  85,  88,  96,\n",
       "       184,  74, 143, 128,  61,   1, 154, 104, 133, 328, 120, 192,  62,\n",
       "        46, 111, 112,  91, 370,  92,  93, 137,  95,  81, 105, 190, 134,\n",
       "        71, 122, 182,  89, 146, 350, 102,  66,  58, 132,  63, 131, 165,\n",
       "       238,  99, 159, 214, 140, 185, 147, 229,  90, 213,  82, 108, 116,\n",
       "       149, 113, 289, 211, 158, 156,  76, 188,  79, 611, 175, 212, 264,\n",
       "       114, 130, 170, 324, 119, 127, 259, 453, 285, 123, 337, 103, 106,\n",
       "       362, 386, 335, 125, 126, 157, 148, 163, 176, 422, 243, 207, 172,\n",
       "       152,  98, 358, 278,  86, 107], dtype=int64)"
      ]
     },
     "execution_count": 14,
     "metadata": {},
     "output_type": "execute_result"
    }
   ],
   "source": [
    "# see unique values\n",
    "asteroids[\"Orbit ID\"].unique()"
   ]
  },
  {
   "cell_type": "markdown",
   "metadata": {},
   "source": [
    "If we were to look at a map of asteroids orbiting Earth, we would see rings going around the planet.  Without the meta data it is difficult to be certain what this column is trying to share with us, but it could be an identifier of an orbital pattern.  Because we don't know exactly what this column means, we will remove it from this classification project.\n",
    "\n",
    "Let's look at `Orbit Determination Date`."
   ]
  },
  {
   "cell_type": "code",
   "execution_count": 15,
   "metadata": {
    "scrolled": true
   },
   "outputs": [
    {
     "data": {
      "text/plain": [
       "0    2017-04-06 08:36:37\n",
       "1    2017-04-06 08:32:49\n",
       "2    2017-04-06 09:20:19\n",
       "3    2017-04-06 09:15:49\n",
       "4    2017-04-06 08:57:58\n",
       "Name: Orbit Determination Date, dtype: object"
      ]
     },
     "execution_count": 15,
     "metadata": {},
     "output_type": "execute_result"
    }
   ],
   "source": [
    "# look at 'Orbit Determination Date'\n",
    "asteroids[\"Orbit Determination Date\"].head()"
   ]
  },
  {
   "cell_type": "markdown",
   "metadata": {},
   "source": [
    "This column contains more dates but this column contains times as well.  Again, without meta data we cannot conclude for sure what the definition of this column is, but it might be pertaining to the date and time an asteroid completes an orbit around Earth.  Much like `Close Approach Date`, `Orbit Determination Date` is not helpful for this classification project, thought it might provide helpful insight for other projects.\n",
    "\n",
    "Next, we will check out the `Orbit Uncertainity` column."
   ]
  },
  {
   "cell_type": "code",
   "execution_count": 16,
   "metadata": {
    "scrolled": true
   },
   "outputs": [
    {
     "data": {
      "text/plain": [
       "0       5\n",
       "1       3\n",
       "2       0\n",
       "3       6\n",
       "4       1\n",
       "       ..\n",
       "4682    8\n",
       "4683    6\n",
       "4684    6\n",
       "4685    5\n",
       "4686    6\n",
       "Name: Orbit Uncertainity, Length: 4687, dtype: int64"
      ]
     },
     "execution_count": 16,
     "metadata": {},
     "output_type": "execute_result"
    }
   ],
   "source": [
    "# look at 'Orbit Uncertainty'\n",
    "asteroids[\"Orbit Uncertainity\"]"
   ]
  },
  {
   "cell_type": "code",
   "execution_count": 17,
   "metadata": {},
   "outputs": [
    {
     "data": {
      "text/plain": [
       "array([5, 3, 0, 6, 1, 4, 2, 7, 8, 9], dtype=int64)"
      ]
     },
     "execution_count": 17,
     "metadata": {},
     "output_type": "execute_result"
    }
   ],
   "source": [
    "asteroids[\"Orbit Uncertainity\"].unique()"
   ]
  },
  {
   "cell_type": "markdown",
   "metadata": {},
   "source": [
    "The column name has a spelling error, adding an extra 'i' so if we keeping it we could make that change.  However, we do not have much information about this column and therefore we will not use it in this classification project.\n",
    "\n",
    "Finally, let's look at `Equinox`."
   ]
  },
  {
   "cell_type": "code",
   "execution_count": 18,
   "metadata": {
    "scrolled": true
   },
   "outputs": [
    {
     "data": {
      "text/plain": [
       "0       J2000\n",
       "1       J2000\n",
       "2       J2000\n",
       "3       J2000\n",
       "4       J2000\n",
       "        ...  \n",
       "4682    J2000\n",
       "4683    J2000\n",
       "4684    J2000\n",
       "4685    J2000\n",
       "4686    J2000\n",
       "Name: Equinox, Length: 4687, dtype: object"
      ]
     },
     "execution_count": 18,
     "metadata": {},
     "output_type": "execute_result"
    }
   ],
   "source": [
    "# look at 'Equinox'\n",
    "asteroids[\"Equinox\"]"
   ]
  },
  {
   "cell_type": "code",
   "execution_count": 19,
   "metadata": {},
   "outputs": [
    {
     "data": {
      "text/plain": [
       "array(['J2000'], dtype=object)"
      ]
     },
     "execution_count": 19,
     "metadata": {},
     "output_type": "execute_result"
    }
   ],
   "source": [
    "# see unique values in `Equinox` column\n",
    "asteroids[\"Equinox\"].unique()"
   ]
  },
  {
   "cell_type": "markdown",
   "metadata": {},
   "source": [
    "The \"equinox\" is the time or date when the equator of the sun matches the equator of the earth, causing day and night to be equal lengths.  In this case, the values are obviously not in standard date and time, however they are in date and time.  This format is called the \"standard equinox (and epoch)\" where \"J\" stands for \"Julian epoch\" and \"2000\" refers to January 1, 2000, 12:00 Terrestrial Time ([more here](https://community.esri.com/t5/coordinate-reference-systems/drifting-of-the-celestial-sphere-what-is-j2000/ba-p/902058)).  This is a standard value being used since 1984 and is not helpful to determining if an asteroid is hazardous or not, so we will remove this column from our project.\n",
    "\n",
    "None of the columns with an `object` or `int64` data type are helpful when determining if an asteroid is hazardous or not so we will drop them when we clean the data.\n",
    "\n",
    "Also, earlier we mentioned removing the first two columns as they are identifiers and contain the exact same data.  We will do this in the next step as well."
   ]
  },
  {
   "cell_type": "markdown",
   "metadata": {},
   "source": [
    "### Clean data "
   ]
  },
  {
   "cell_type": "code",
   "execution_count": 20,
   "metadata": {},
   "outputs": [],
   "source": [
    "# drop columns with 'object' or 'int64' dtypes\n",
    "asteroids = asteroids.select_dtypes(exclude = [\"object\", \"int64\"])    "
   ]
  },
  {
   "cell_type": "markdown",
   "metadata": {},
   "source": [
    "[Code from Stack Overflow](https://stackoverflow.com/questions/48817592/how-to-drop-dataframe-columns-based-on-dtype)"
   ]
  },
  {
   "cell_type": "markdown",
   "metadata": {},
   "source": [
    "### Visualize data"
   ]
  },
  {
   "cell_type": "markdown",
   "metadata": {},
   "source": [
    "***\n",
    "\n",
    "## Split data"
   ]
  },
  {
   "cell_type": "code",
   "execution_count": 22,
   "metadata": {},
   "outputs": [],
   "source": [
    "from sklearn.model_selection import train_test_split"
   ]
  },
  {
   "cell_type": "code",
   "execution_count": 23,
   "metadata": {},
   "outputs": [],
   "source": [
    "X = asteroids.drop(columns = [\"Hazardous\"], axis = 1)\n",
    "y = asteroids[\"Hazardous\"]"
   ]
  },
  {
   "cell_type": "code",
   "execution_count": 24,
   "metadata": {},
   "outputs": [],
   "source": [
    "X_train, X_test, y_train, y_test = train_test_split(X, y, test_size = .3)"
   ]
  },
  {
   "cell_type": "markdown",
   "metadata": {},
   "source": [
    "***\n",
    "\n",
    "## Find Model"
   ]
  },
  {
   "cell_type": "code",
   "execution_count": 25,
   "metadata": {},
   "outputs": [],
   "source": [
    "from sklearn.model_selection import GridSearchCV"
   ]
  },
  {
   "cell_type": "code",
   "execution_count": null,
   "metadata": {},
   "outputs": [],
   "source": []
  },
  {
   "cell_type": "markdown",
   "metadata": {},
   "source": [
    "***\n",
    "\n",
    "## Model 1"
   ]
  },
  {
   "cell_type": "code",
   "execution_count": null,
   "metadata": {},
   "outputs": [],
   "source": []
  },
  {
   "cell_type": "markdown",
   "metadata": {},
   "source": [
    "***\n",
    "\n",
    "## Model 2"
   ]
  }
 ],
 "metadata": {
  "kernelspec": {
   "display_name": "Python 3",
   "language": "python",
   "name": "python3"
  },
  "language_info": {
   "codemirror_mode": {
    "name": "ipython",
    "version": 3
   },
   "file_extension": ".py",
   "mimetype": "text/x-python",
   "name": "python",
   "nbconvert_exporter": "python",
   "pygments_lexer": "ipython3",
   "version": "3.7.9-final"
  },
  "notify_time": "30",
  "toc": {
   "base_numbering": 1,
   "nav_menu": {},
   "number_sections": true,
   "sideBar": false,
   "skip_h1_title": true,
   "title_cell": "Table of Contents",
   "title_sidebar": "Contents",
   "toc_cell": true,
   "toc_position": {},
   "toc_section_display": true,
   "toc_window_display": false
  }
 },
 "nbformat": 4,
 "nbformat_minor": 4
}