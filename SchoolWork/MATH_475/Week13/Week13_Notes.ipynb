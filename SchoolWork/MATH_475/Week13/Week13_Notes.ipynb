{
 "cells": [
  {
   "cell_type": "markdown",
   "metadata": {
    "collapsed": true,
    "pycharm": {
     "name": "#%% md\n"
    }
   },
   "source": [
    "# Week 13 Notes"
   ]
  },
  {
   "cell_type": "markdown",
   "source": [
    "## Assessing the Performance of Classifiers\n",
    "\n",
    "- in the \"real world\", the test set is typically kept secret from the modelers.  You only get one shot at it.\n",
    "\n",
    "- You have a train set and a (development/validation/holdout) set.\n",
    "\n",
    "- Someoene spilts the data into training set, development set, and a test set.\n",
    "\n",
    "- You use the training set to train models, you use the development set to tweak the models, and then you get one shot at the test set -- which determines your actual performance."
   ],
   "metadata": {
    "collapsed": false,
    "pycharm": {
     "name": "#%% md\n"
    }
   }
  },
  {
   "cell_type": "markdown",
   "source": [
    "## How should you split the data for train/dev/test?\n",
    "\n",
    "1. you could to 70% for train, 20% for dev, 10% for test\n",
    "2. 70 train, 15 dev, 15 test\n",
    "3. (deeplearning.ai) 1000 observations for dev & test, the rest for train\n",
    "\n",
    "## How do you do train/dev/test split uisng sklearn?\n",
    "\n",
    "`from sklearn.model_selection import train_test_split`"
   ],
   "metadata": {
    "collapsed": false,
    "pycharm": {
     "name": "#%% md\n"
    }
   }
  },
  {
   "cell_type": "markdown",
   "source": [
    "## Cross validation\n",
    "Previously, we've had one training set, and one testing set.  Both of these"
   ],
   "metadata": {
    "collapsed": false,
    "pycharm": {
     "name": "#%% md\n"
    }
   }
  }
 ],
 "metadata": {
  "kernelspec": {
   "display_name": "Python 3",
   "language": "python",
   "name": "python3"
  },
  "language_info": {
   "codemirror_mode": {
    "name": "ipython",
    "version": 2
   },
   "file_extension": ".py",
   "mimetype": "text/x-python",
   "name": "python",
   "nbconvert_exporter": "python",
   "pygments_lexer": "ipython2",
   "version": "2.7.6"
  }
 },
 "nbformat": 4,
 "nbformat_minor": 0
}