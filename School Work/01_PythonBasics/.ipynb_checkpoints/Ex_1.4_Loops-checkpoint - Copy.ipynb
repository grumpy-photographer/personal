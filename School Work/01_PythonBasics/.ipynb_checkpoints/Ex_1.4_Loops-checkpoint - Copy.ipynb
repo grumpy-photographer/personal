{
 "cells": [
  {
   "cell_type": "markdown",
   "metadata": {},
   "source": [
    "# Ex 1.4 - For Loops in Python  \n",
    "\n",
    "- [In Class](#In-Class:--Quarterly-Sales) \n",
    "\n",
    "\n",
    "- [Exercise 1.4](#Exercise-1.4)  \n",
    "  - [Part 1: Monthly Sales](#Part-1:-Monthly-Sales)  \n",
    "  - [Part 2: Entertainment Expense Tracking](#Part-2:-Entertainment-Expense-Tracking)"
   ]
  },
  {
   "cell_type": "markdown",
   "metadata": {},
   "source": [
    "## In Class:  Quarterly Sales"
   ]
  },
  {
   "cell_type": "code",
   "execution_count": null,
   "metadata": {},
   "outputs": [],
   "source": [
    "# Create a List named quarterly_sales and fill it with the following values:  300000, 400000, 1300000, 500000 \n",
    "\n",
    "\n",
    "# Display the List\n",
    "\n"
   ]
  },
  {
   "cell_type": "code",
   "execution_count": null,
   "metadata": {},
   "outputs": [],
   "source": [
    "# Declare annual_sales variable and set it equal to zero\n",
    "\n",
    "# Loop through the list and sum the values: print the current annual_sales value every time through the loop\n",
    "\n",
    "\n"
   ]
  },
  {
   "cell_type": "code",
   "execution_count": null,
   "metadata": {},
   "outputs": [],
   "source": [
    "# Display the sum - formatted as dollar amount with zero decimal places\n"
   ]
  },
  {
   "cell_type": "code",
   "execution_count": null,
   "metadata": {},
   "outputs": [],
   "source": [
    "# Calculate the monthly sales \n",
    "\n",
    "\n",
    "# Display the average - formatted as dollar amount with two decimal places\n"
   ]
  },
  {
   "cell_type": "code",
   "execution_count": null,
   "metadata": {},
   "outputs": [],
   "source": [
    "# Using an if statement inside a For Loop, display the highest sales value in the quarterly_sales List\n",
    "\n",
    "# Intialize highest_value variable to zero\n",
    "\n",
    "\n",
    "# Loop through the List and find the highest value\n",
    "\n",
    "\n",
    "\n",
    "\n",
    "\n",
    "# Display the entire List\n",
    "\n",
    "\n",
    "# Display the highest value in the List\n"
   ]
  },
  {
   "cell_type": "code",
   "execution_count": null,
   "metadata": {},
   "outputs": [],
   "source": [
    "#  Using an if statement inside a For Loop, display the lowest sales value in the List\n",
    "\n",
    "# Intialize the lowest value variable\n",
    "\n",
    "\n",
    "# Loop through the List and find the lowest value\n",
    "\n",
    "\n",
    "\n",
    "\n",
    "# Display the entire List\n",
    "\n",
    "\n",
    "# Display the lowest value in the List\n"
   ]
  },
  {
   "cell_type": "markdown",
   "metadata": {},
   "source": [
    "# Exercise 1.4"
   ]
  },
  {
   "cell_type": "markdown",
   "metadata": {},
   "source": [
    "## Part 1: Monthly Sales\n",
    "1. Create a List named **monthly_sales** and fill it with the following values:  \n",
    "3,000  \n",
    "10,000  \n",
    "15,000  \n",
    "20,000  \n",
    "20,000  \n",
    "25,000  \n",
    "22,000  \n",
    "80,000  \n",
    "20,000  \n",
    "20,000  \n",
    "40,000  \n",
    "60,000  \n",
    "Note:  I included commas above to make the values more readable.  Don't include them in your list values."
   ]
  },
  {
   "cell_type": "code",
   "execution_count": null,
   "metadata": {},
   "outputs": [],
   "source": [
    "# Create a List named monthly_sales \n"
   ]
  },
  {
   "cell_type": "code",
   "execution_count": null,
   "metadata": {},
   "outputs": [],
   "source": [
    "#Loop through the monthly_sales List and display all of the values \n"
   ]
  },
  {
   "cell_type": "code",
   "execution_count": null,
   "metadata": {},
   "outputs": [],
   "source": [
    "#Loop through the list and sum the values\n",
    "\n",
    "#Display the sum - formatted as dollar amounts with zero decimal places\n"
   ]
  },
  {
   "cell_type": "code",
   "execution_count": null,
   "metadata": {},
   "outputs": [],
   "source": [
    "#Calculate the average of the values in the list\n",
    "\n",
    "#Display the average - formatted as dollar amounts with zero decimal places\n"
   ]
  },
  {
   "cell_type": "code",
   "execution_count": null,
   "metadata": {},
   "outputs": [],
   "source": [
    "# The Monthly Sales quota is $20,000  \n",
    "# Display the number of months the sales rep has exceded this Sales Quota"
   ]
  },
  {
   "cell_type": "code",
   "execution_count": null,
   "metadata": {},
   "outputs": [],
   "source": [
    "# Using Looping, display the number of months the sales rep has Not exceded this Sales Quota"
   ]
  },
  {
   "cell_type": "code",
   "execution_count": null,
   "metadata": {},
   "outputs": [],
   "source": [
    "# Using Looping, display the total sum of the amount for the year the sales rep has exceded the Sales Quota"
   ]
  },
  {
   "cell_type": "markdown",
   "metadata": {},
   "source": [
    "## Part 2: Entertainment Expense Tracking\n",
    "1. Create a List named entertainment_expenses and fill it with the folllowing values: 90, 150, 200, 90, 85, 130\n",
    "2. You've decided that your target max for this category is $100 \n",
    "3. Loop through the List and display the number of months that you exceded your target  \n",
    "4. Loop through the List and display the total sum of how much you've exceded your target over these months     \n",
    "5. Loop through the List and display for every time you've exceded your target:  \n",
    "  1. The amount you exceded your target that month  \n",
    "  2. The running total of the sum of how much you've exceded your target by that point in the year.  \n",
    "  \n",
    "**Notes:**  \n",
    "- Each of the above top level numbered items should show up as a comment in its own code cell below.  \n",
    "- The second level numbered items should show up as comments within a cell"
   ]
  },
  {
   "cell_type": "code",
   "execution_count": null,
   "metadata": {},
   "outputs": [],
   "source": []
  }
 ],
 "metadata": {
  "kernelspec": {
   "display_name": "Python 3",
   "language": "python",
   "name": "python3"
  },
  "language_info": {
   "codemirror_mode": {
    "name": "ipython",
    "version": 3
   },
   "file_extension": ".py",
   "mimetype": "text/x-python",
   "name": "python",
   "nbconvert_exporter": "python",
   "pygments_lexer": "ipython3",
   "version": "3.7.0"
  }
 },
 "nbformat": 4,
 "nbformat_minor": 2
}
