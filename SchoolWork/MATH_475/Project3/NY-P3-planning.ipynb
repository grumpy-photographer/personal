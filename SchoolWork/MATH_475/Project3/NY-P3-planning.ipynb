{
 "cells": [
  {
   "cell_type": "markdown",
   "metadata": {},
   "source": [
    "# Schedule\n",
    "\n",
    "| Time | To Do | Description | Goal | How To |\n",
    "|  :-  |    :-   |    :-       |  :-  |   :-   |\n",
    "| 8a - 8:30a | Preprocess | Load data, clean data, encode if necessary | Have a clean dataset | Load data properly with Pandas; use `df.info()`, `df.describe()`, `sum(df.isna().any())`, etc  to understand data and find what needs to be cleaned; remove nulls, replace 'dirty' data, change `dtypes`; use `pd.get_dummies()` to encode target values to 0/1 if necessary |\n",
    "| 8:30a - 9:30a | Visualize | Plot features in data to derive basic insights of features | Find important/effective features to use in model as well as features to possibly exclude | Use different plots in seaborn, matplotlib, plotly, etc to derive insights from different features.  `seaborn.pairplot()` might be a good place to start |\n",
    "| 9:30a - 11:30a | Split data and search for best model | Define X (variables) and y (target), split into Train/Test or Train/Dev/Test set, choose model(s) to use, set up parameters, run parameters and train set through GridSearchCV | Have a strong model to build defined by our limited search | RandomForestClassifier, KNN, etc and GridSearchCV |\n",
    "| 11:30a - 1:30p | Build and score model | Use parameters defined by highest scoring model found in GridSearchCV to build model | Successfully send data into model and get a score in some form | Build classification object with parameters, fit on train data, plot confusion matrix and get classification scores |\n",
    "| 1:30p - 4p | Train other models | There might have been other models not used.  Spend some more time training other models that work (see score in GridSearchCV or choose another model) | See if another model works better | Repeat building and scoring with different models, teasing hyperparameters to see if we can get a better result |"
   ]
  }
 ],
 "metadata": {
  "kernelspec": {
   "display_name": "Python 3",
   "language": "python",
   "name": "python3"
  },
  "language_info": {
   "codemirror_mode": {
    "name": "ipython",
    "version": 3
   },
   "file_extension": ".py",
   "mimetype": "text/x-python",
   "name": "python",
   "nbconvert_exporter": "python",
   "pygments_lexer": "ipython3",
   "version": "3.7.9"
  },
  "toc": {
   "base_numbering": 1,
   "nav_menu": {},
   "number_sections": false,
   "sideBar": false,
   "skip_h1_title": false,
   "title_cell": "Table of Contents",
   "title_sidebar": "Contents",
   "toc_cell": false,
   "toc_position": {
    "height": "238.312px",
    "left": "10px",
    "top": "150px",
    "width": "406px"
   },
   "toc_section_display": true,
   "toc_window_display": false
  }
 },
 "nbformat": 4,
 "nbformat_minor": 4
}
