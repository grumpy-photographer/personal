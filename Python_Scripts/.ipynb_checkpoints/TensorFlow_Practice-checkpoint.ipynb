{
 "cells": [
  {
   "cell_type": "code",
   "execution_count": 1,
   "id": "exempt-sperm",
   "metadata": {
    "ExecuteTime": {
     "end_time": "2021-02-14T04:08:12.407529Z",
     "start_time": "2021-02-14T04:08:04.853879Z"
    }
   },
   "outputs": [],
   "source": [
    "import tensorflow as tf\n",
    "import numpy as np\n",
    "\n",
    "np.set_printoptions(precision=3)"
   ]
  },
  {
   "cell_type": "code",
   "execution_count": 2,
   "id": "adapted-muscle",
   "metadata": {
    "ExecuteTime": {
     "end_time": "2021-02-14T04:08:12.423468Z",
     "start_time": "2021-02-14T04:08:12.413290Z"
    }
   },
   "outputs": [],
   "source": [
    "a = np.array([1, 2, 3], dtype=np.int32)\n",
    "b = [4, 5, 6]"
   ]
  },
  {
   "cell_type": "code",
   "execution_count": 3,
   "id": "visible-water",
   "metadata": {
    "ExecuteTime": {
     "end_time": "2021-02-14T04:08:12.502057Z",
     "start_time": "2021-02-14T04:08:12.433239Z"
    }
   },
   "outputs": [],
   "source": [
    "t_a = tf.convert_to_tensor(a)\n",
    "t_b = tf.convert_to_tensor(b)"
   ]
  },
  {
   "cell_type": "code",
   "execution_count": 4,
   "id": "general-dublin",
   "metadata": {
    "ExecuteTime": {
     "end_time": "2021-02-14T04:08:12.565937Z",
     "start_time": "2021-02-14T04:08:12.514154Z"
    }
   },
   "outputs": [
    {
     "name": "stdout",
     "output_type": "stream",
     "text": [
      "tf.Tensor([1 2 3], shape=(3,), dtype=int32)\n",
      "tf.Tensor([4 5 6], shape=(3,), dtype=int32)\n"
     ]
    }
   ],
   "source": [
    "# print tensors with their properties \n",
    "print(t_a)\n",
    "print(t_b)"
   ]
  },
  {
   "cell_type": "code",
   "execution_count": 5,
   "id": "empty-designer",
   "metadata": {
    "ExecuteTime": {
     "end_time": "2021-02-14T04:08:12.628712Z",
     "start_time": "2021-02-14T04:08:12.573346Z"
    }
   },
   "outputs": [
    {
     "data": {
      "text/plain": [
       "TensorShape([2, 3])"
      ]
     },
     "execution_count": 5,
     "metadata": {},
     "output_type": "execute_result"
    }
   ],
   "source": [
    "t_ones = tf.ones((2, 3))\n",
    "t_ones.shape"
   ]
  },
  {
   "cell_type": "code",
   "execution_count": 6,
   "id": "younger-belief",
   "metadata": {
    "ExecuteTime": {
     "end_time": "2021-02-14T04:08:12.658767Z",
     "start_time": "2021-02-14T04:08:12.632702Z"
    }
   },
   "outputs": [
    {
     "data": {
      "text/plain": [
       "array([[1., 1., 1.],\n",
       "       [1., 1., 1.]], dtype=float32)"
      ]
     },
     "execution_count": 6,
     "metadata": {},
     "output_type": "execute_result"
    }
   ],
   "source": [
    "t_ones.numpy()"
   ]
  },
  {
   "cell_type": "code",
   "execution_count": 7,
   "id": "alleged-factor",
   "metadata": {
    "ExecuteTime": {
     "end_time": "2021-02-14T04:08:12.690616Z",
     "start_time": "2021-02-14T04:08:12.665654Z"
    }
   },
   "outputs": [
    {
     "name": "stdout",
     "output_type": "stream",
     "text": [
      "tf.Tensor([1.2   5.    3.142], shape=(3,), dtype=float32)\n"
     ]
    }
   ],
   "source": [
    "# create tensor with constant values\n",
    "const_tensor = tf.constant([1.2, 5, np.pi],\n",
    "                          dtype=tf.float32)\n",
    "print(const_tensor)"
   ]
  },
  {
   "cell_type": "code",
   "execution_count": 8,
   "id": "institutional-armstrong",
   "metadata": {
    "ExecuteTime": {
     "end_time": "2021-02-14T04:08:12.722573Z",
     "start_time": "2021-02-14T04:08:12.700528Z"
    }
   },
   "outputs": [
    {
     "name": "stdout",
     "output_type": "stream",
     "text": [
      "<dtype: 'int64'>\n"
     ]
    }
   ],
   "source": [
    "# t_cast function can be used to change dtype\n",
    "t_a_new = tf.cast(t_a, tf.int64)\n",
    "print(t_a_new.dtype)"
   ]
  },
  {
   "cell_type": "code",
   "execution_count": 9,
   "id": "removable-overall",
   "metadata": {
    "ExecuteTime": {
     "end_time": "2021-02-14T04:08:12.752548Z",
     "start_time": "2021-02-14T04:08:12.730443Z"
    }
   },
   "outputs": [
    {
     "name": "stdout",
     "output_type": "stream",
     "text": [
      "(3, 5)  -->  (5, 3)\n"
     ]
    }
   ],
   "source": [
    "# transposing a tensor\n",
    "t = tf.random.uniform(shape=(3, 5))\n",
    "t_tr = tf.transpose(t)\n",
    "print(t.shape, ' --> ', t_tr.shape)"
   ]
  },
  {
   "cell_type": "code",
   "execution_count": 10,
   "id": "colonial-transfer",
   "metadata": {
    "ExecuteTime": {
     "end_time": "2021-02-14T04:08:12.784333Z",
     "start_time": "2021-02-14T04:08:12.758367Z"
    }
   },
   "outputs": [
    {
     "name": "stdout",
     "output_type": "stream",
     "text": [
      "(5, 6)\n"
     ]
    }
   ],
   "source": [
    "# reshaping a tensor (for example, from 1D vector to 2D array)\n",
    "t = tf.zeros((30,))\n",
    "t_reshape = tf.reshape(t, shape=(5, 6))\n",
    "print(t_reshape.shape)"
   ]
  },
  {
   "cell_type": "code",
   "execution_count": 11,
   "id": "simple-valuable",
   "metadata": {
    "ExecuteTime": {
     "end_time": "2021-02-14T04:08:12.814295Z",
     "start_time": "2021-02-14T04:08:12.789287Z"
    }
   },
   "outputs": [
    {
     "name": "stdout",
     "output_type": "stream",
     "text": [
      "(1, 2, 1, 4, 1)  -->  (1, 2, 4)\n"
     ]
    }
   ],
   "source": [
    "# removing the unnecessary dimensions (dimensions that have size 1, which are not needed)\n",
    "t = tf.zeros((1, 2, 1, 4, 1))\n",
    "t_sqz = tf.squeeze(t, axis=(2, 4))\n",
    "print(t.shape, ' --> ', t_sqz.shape)"
   ]
  },
  {
   "cell_type": "markdown",
   "id": "derived-kazakhstan",
   "metadata": {},
   "source": [
    "## Applying Mathematical Operations to Tensors"
   ]
  },
  {
   "cell_type": "code",
   "execution_count": 12,
   "id": "sharing-alaska",
   "metadata": {
    "ExecuteTime": {
     "end_time": "2021-02-14T04:08:12.845135Z",
     "start_time": "2021-02-14T04:08:12.821291Z"
    }
   },
   "outputs": [],
   "source": [
    "tf.random.set_seed(1)"
   ]
  },
  {
   "cell_type": "code",
   "execution_count": 13,
   "id": "sustained-monthly",
   "metadata": {
    "ExecuteTime": {
     "end_time": "2021-02-14T04:08:12.861090Z",
     "start_time": "2021-02-14T04:08:12.849124Z"
    }
   },
   "outputs": [],
   "source": [
    "t1 = tf.random.uniform(shape=(5, 2),\n",
    "                      minval=-1.0, maxval=1.0)\n",
    "\n",
    "t2 = tf.random.normal(shape=(5, 2), \n",
    "                      mean=0.0, stddev=1.0)"
   ]
  },
  {
   "cell_type": "code",
   "execution_count": 14,
   "id": "durable-supplement",
   "metadata": {
    "ExecuteTime": {
     "end_time": "2021-02-14T04:08:12.893005Z",
     "start_time": "2021-02-14T04:08:12.865081Z"
    }
   },
   "outputs": [
    {
     "name": "stdout",
     "output_type": "stream",
     "text": [
      "[[-0.27  -0.874]\n",
      " [-0.017 -0.175]\n",
      " [-0.296 -0.139]\n",
      " [-0.727  0.135]\n",
      " [-0.401  0.004]]\n"
     ]
    }
   ],
   "source": [
    "t3 = tf.multiply(t1, t2).numpy()\n",
    "print(t3)"
   ]
  },
  {
   "cell_type": "code",
   "execution_count": 15,
   "id": "established-seafood",
   "metadata": {
    "ExecuteTime": {
     "end_time": "2021-02-14T04:08:12.924069Z",
     "start_time": "2021-02-14T04:08:12.899042Z"
    }
   },
   "outputs": [
    {
     "name": "stdout",
     "output_type": "stream",
     "text": [
      "tf.Tensor([0.09  0.207], shape=(2,), dtype=float32)\n"
     ]
    }
   ],
   "source": [
    "t4 = tf.math.reduce_mean(t1, axis=0)\n",
    "print(t4)"
   ]
  },
  {
   "cell_type": "code",
   "execution_count": 16,
   "id": "presidential-poetry",
   "metadata": {
    "ExecuteTime": {
     "end_time": "2021-02-14T04:08:12.971797Z",
     "start_time": "2021-02-14T04:08:12.928937Z"
    }
   },
   "outputs": [
    {
     "name": "stdout",
     "output_type": "stream",
     "text": [
      "tf.Tensor(\n",
      "[[-1.144  1.115 -0.87  -0.321  0.856]\n",
      " [ 0.248 -0.191  0.25  -0.064 -0.331]\n",
      " [-0.478  0.407 -0.436  0.022  0.527]\n",
      " [ 0.525 -0.234  0.741 -0.593 -1.194]\n",
      " [-0.099  0.26   0.125 -0.462 -0.396]], shape=(5, 5), dtype=float32)\n"
     ]
    }
   ],
   "source": [
    "t5 = tf.linalg.matmul(t1, t2, transpose_b=True)\n",
    "print(t5)"
   ]
  },
  {
   "cell_type": "code",
   "execution_count": 17,
   "id": "acting-newark",
   "metadata": {
    "ExecuteTime": {
     "end_time": "2021-02-14T04:08:12.987752Z",
     "start_time": "2021-02-14T04:08:12.974788Z"
    }
   },
   "outputs": [
    {
     "name": "stdout",
     "output_type": "stream",
     "text": [
      "[[-1.711  0.302]\n",
      " [ 0.371 -1.049]]\n"
     ]
    }
   ],
   "source": [
    "t6 = tf.linalg.matmul(t1, t2, transpose_a=True)\n",
    "print(t6.numpy())"
   ]
  },
  {
   "cell_type": "code",
   "execution_count": 18,
   "id": "surprised-granny",
   "metadata": {
    "ExecuteTime": {
     "end_time": "2021-02-14T04:08:13.003711Z",
     "start_time": "2021-02-14T04:08:12.989747Z"
    }
   },
   "outputs": [
    {
     "name": "stdout",
     "output_type": "stream",
     "text": [
      "[1.046 0.293 0.504 0.96  0.383]\n"
     ]
    }
   ],
   "source": [
    "# useful for computing Lp norm of a tensor\n",
    "norm_t1 = tf.norm(t1, ord=2, axis=1).numpy()\n",
    "print(norm_t1)"
   ]
  },
  {
   "cell_type": "markdown",
   "id": "desperate-potential",
   "metadata": {},
   "source": [
    "## Split, stack, and concatenate tensors"
   ]
  },
  {
   "cell_type": "code",
   "execution_count": 19,
   "id": "physical-dynamics",
   "metadata": {
    "ExecuteTime": {
     "end_time": "2021-02-14T04:08:13.019666Z",
     "start_time": "2021-02-14T04:08:13.007752Z"
    }
   },
   "outputs": [
    {
     "name": "stdout",
     "output_type": "stream",
     "text": [
      "[0.165 0.901 0.631 0.435 0.292 0.643]\n"
     ]
    }
   ],
   "source": [
    "tf.random.set_seed(1)\n",
    "t = tf.random.uniform((6, ))\n",
    "print(t.numpy())"
   ]
  },
  {
   "cell_type": "code",
   "execution_count": 20,
   "id": "center-algeria",
   "metadata": {
    "ExecuteTime": {
     "end_time": "2021-02-14T04:08:13.051584Z",
     "start_time": "2021-02-14T04:08:13.022659Z"
    }
   },
   "outputs": [
    {
     "data": {
      "text/plain": [
       "[array([0.165, 0.901], dtype=float32),\n",
       " array([0.631, 0.435], dtype=float32),\n",
       " array([0.292, 0.643], dtype=float32)]"
      ]
     },
     "execution_count": 20,
     "metadata": {},
     "output_type": "execute_result"
    }
   ],
   "source": [
    "t_splits = tf.split(t, num_or_size_splits=3)\n",
    "[item.numpy() for item in t_splits]"
   ]
  },
  {
   "cell_type": "code",
   "execution_count": 21,
   "id": "boolean-canal",
   "metadata": {
    "ExecuteTime": {
     "end_time": "2021-02-14T04:08:13.067542Z",
     "start_time": "2021-02-14T04:08:13.055812Z"
    }
   },
   "outputs": [
    {
     "name": "stdout",
     "output_type": "stream",
     "text": [
      "[0.165 0.901 0.631 0.435 0.292]\n"
     ]
    }
   ],
   "source": [
    "tf.random.set_seed(1)\n",
    "t = tf.random.uniform((5, ))\n",
    "print(t.numpy())"
   ]
  },
  {
   "cell_type": "code",
   "execution_count": 22,
   "id": "closed-representative",
   "metadata": {
    "ExecuteTime": {
     "end_time": "2021-02-14T04:08:13.099485Z",
     "start_time": "2021-02-14T04:08:13.071528Z"
    }
   },
   "outputs": [
    {
     "data": {
      "text/plain": [
       "[array([0.165, 0.901, 0.631], dtype=float32),\n",
       " array([0.435, 0.292], dtype=float32)]"
      ]
     },
     "execution_count": 22,
     "metadata": {},
     "output_type": "execute_result"
    }
   ],
   "source": [
    "t_splits = tf.split(t, num_or_size_splits=[3, 2])\n",
    "[item.numpy() for item in t_splits]"
   ]
  },
  {
   "cell_type": "code",
   "execution_count": 23,
   "id": "eleven-friendly",
   "metadata": {
    "ExecuteTime": {
     "end_time": "2021-02-14T04:08:13.115413Z",
     "start_time": "2021-02-14T04:08:13.103444Z"
    }
   },
   "outputs": [
    {
     "name": "stdout",
     "output_type": "stream",
     "text": [
      "[1. 1. 1. 0. 0.]\n"
     ]
    }
   ],
   "source": [
    "A = tf.ones((3, ))\n",
    "B = tf.zeros((2, ))\n",
    "C = tf.concat([A, B], axis=0)\n",
    "print(C.numpy())"
   ]
  },
  {
   "cell_type": "code",
   "execution_count": 24,
   "id": "closing-limit",
   "metadata": {
    "ExecuteTime": {
     "end_time": "2021-02-14T04:08:13.145334Z",
     "start_time": "2021-02-14T04:08:13.119404Z"
    }
   },
   "outputs": [
    {
     "name": "stdout",
     "output_type": "stream",
     "text": [
      "[[1. 0.]\n",
      " [1. 0.]\n",
      " [1. 0.]]\n"
     ]
    }
   ],
   "source": [
    "A = tf.ones((3, ))\n",
    "B = tf.zeros((3, ))\n",
    "S = tf.stack([A, B], axis=1)\n",
    "print(S.numpy())"
   ]
  },
  {
   "cell_type": "markdown",
   "id": "mineral-mercury",
   "metadata": {},
   "source": [
    "## Creating a TensorFlow Dataset From Exisiting Tensors"
   ]
  },
  {
   "cell_type": "code",
   "execution_count": 25,
   "id": "lovely-startup",
   "metadata": {
    "ExecuteTime": {
     "end_time": "2021-02-14T04:08:13.161413Z",
     "start_time": "2021-02-14T04:08:13.148343Z"
    }
   },
   "outputs": [
    {
     "name": "stdout",
     "output_type": "stream",
     "text": [
      "<TensorSliceDataset shapes: (), types: tf.float32>\n"
     ]
    }
   ],
   "source": [
    "a = [1.2, 3.4, 7.5, 4.1, 5.0, 1.0]\n",
    "ds = tf.data.Dataset.from_tensor_slices(a)\n",
    "print(ds)"
   ]
  },
  {
   "cell_type": "code",
   "execution_count": 26,
   "id": "eight-standing",
   "metadata": {
    "ExecuteTime": {
     "end_time": "2021-02-14T04:08:13.256067Z",
     "start_time": "2021-02-14T04:08:13.168269Z"
    }
   },
   "outputs": [
    {
     "name": "stdout",
     "output_type": "stream",
     "text": [
      "tf.Tensor(1.2, shape=(), dtype=float32)\n",
      "tf.Tensor(3.4, shape=(), dtype=float32)\n",
      "tf.Tensor(7.5, shape=(), dtype=float32)\n",
      "tf.Tensor(4.1, shape=(), dtype=float32)\n",
      "tf.Tensor(5.0, shape=(), dtype=float32)\n",
      "tf.Tensor(1.0, shape=(), dtype=float32)\n"
     ]
    }
   ],
   "source": [
    "for item in ds:\n",
    "    print(item)"
   ]
  },
  {
   "cell_type": "code",
   "execution_count": 27,
   "id": "suited-cloud",
   "metadata": {
    "ExecuteTime": {
     "end_time": "2021-02-14T04:08:13.287952Z",
     "start_time": "2021-02-14T04:08:13.259029Z"
    }
   },
   "outputs": [
    {
     "name": "stdout",
     "output_type": "stream",
     "text": [
      "batch 1: [1.2 3.4 7.5]\n",
      "batch 2: [4.1 5.  1. ]\n"
     ]
    }
   ],
   "source": [
    "ds_batch = ds.batch(3)\n",
    "for i, elem in enumerate(ds_batch, 1):\n",
    "    print('batch {}:'.format(i), elem.numpy())"
   ]
  },
  {
   "cell_type": "markdown",
   "id": "higher-vertical",
   "metadata": {},
   "source": [
    "## Combining two tensors into a joint dataset"
   ]
  },
  {
   "cell_type": "code",
   "execution_count": 28,
   "id": "collected-institute",
   "metadata": {
    "ExecuteTime": {
     "end_time": "2021-02-14T04:08:13.303910Z",
     "start_time": "2021-02-14T04:08:13.290940Z"
    }
   },
   "outputs": [],
   "source": [
    "tf.random.set_seed(1)\n",
    "t_x = tf.random.uniform([4, 3], dtype=tf.float32)\n",
    "t_y = tf.range(4)"
   ]
  },
  {
   "cell_type": "code",
   "execution_count": 29,
   "id": "domestic-ontario",
   "metadata": {
    "ExecuteTime": {
     "end_time": "2021-02-14T04:08:13.319666Z",
     "start_time": "2021-02-14T04:08:13.308975Z"
    }
   },
   "outputs": [],
   "source": [
    "ds_x = tf.data.Dataset.from_tensor_slices(t_x)\n",
    "ds_y = tf.data.Dataset.from_tensor_slices(t_y)"
   ]
  },
  {
   "cell_type": "code",
   "execution_count": 30,
   "id": "double-redhead",
   "metadata": {
    "ExecuteTime": {
     "end_time": "2021-02-14T04:08:13.349786Z",
     "start_time": "2021-02-14T04:08:13.323853Z"
    }
   },
   "outputs": [
    {
     "name": "stdout",
     "output_type": "stream",
     "text": [
      "x: [0.165 0.901 0.631]   y: 0\n",
      "x: [0.435 0.292 0.643]   y: 1\n",
      "x: [0.976 0.435 0.66 ]   y: 2\n",
      "x: [0.605 0.637 0.614]   y: 3\n"
     ]
    }
   ],
   "source": [
    "ds_joint = tf.data.Dataset.zip((ds_x, ds_y))\n",
    "for example in ds_joint:\n",
    "    print('x:', example[0].numpy(),\n",
    "          '  y:', example[1].numpy())"
   ]
  },
  {
   "cell_type": "code",
   "execution_count": 31,
   "id": "regional-ideal",
   "metadata": {
    "ExecuteTime": {
     "end_time": "2021-02-14T04:08:13.474494Z",
     "start_time": "2021-02-14T04:08:13.352815Z"
    }
   },
   "outputs": [
    {
     "name": "stdout",
     "output_type": "stream",
     "text": [
      "x: [-0.67   0.803  0.262]   y: 0\n",
      "x: [-0.131 -0.416  0.285]   y: 1\n",
      "x: [ 0.952 -0.13   0.32 ]   y: 2\n",
      "x: [0.21  0.273 0.229]   y: 3\n"
     ]
    }
   ],
   "source": [
    "ds_trans = ds_joint.map(lambda x, y: (x*2-1.0, y))\n",
    "for example in ds_trans:\n",
    "    print('x:', example[0].numpy(),\n",
    "          '  y:', example[1].numpy())"
   ]
  },
  {
   "cell_type": "markdown",
   "id": "planned-possible",
   "metadata": {},
   "source": [
    "## Shuffle, batch, and repeat"
   ]
  },
  {
   "cell_type": "code",
   "execution_count": 32,
   "id": "sized-detection",
   "metadata": {
    "ExecuteTime": {
     "end_time": "2021-02-14T04:08:13.506368Z",
     "start_time": "2021-02-14T04:08:13.477445Z"
    }
   },
   "outputs": [
    {
     "name": "stdout",
     "output_type": "stream",
     "text": [
      "x: [0.976 0.435 0.66 ]   y: 2\n",
      "x: [0.435 0.292 0.643]   y: 1\n",
      "x: [0.165 0.901 0.631]   y: 0\n",
      "x: [0.605 0.637 0.614]   y: 3\n"
     ]
    }
   ],
   "source": [
    "tf.random.set_seed(1)\n",
    "ds = ds_joint.shuffle(buffer_size=len(t_x))\n",
    "for example in ds:\n",
    "    print('x:', example[0].numpy(),\n",
    "          '  y:', example[1].numpy())"
   ]
  },
  {
   "cell_type": "code",
   "execution_count": 33,
   "id": "brazilian-reform",
   "metadata": {
    "ExecuteTime": {
     "end_time": "2021-02-14T04:08:13.537403Z",
     "start_time": "2021-02-14T04:08:13.510361Z"
    }
   },
   "outputs": [
    {
     "name": "stdout",
     "output_type": "stream",
     "text": [
      "Batch-x:\n",
      " [[0.165 0.901 0.631]\n",
      " [0.435 0.292 0.643]\n",
      " [0.976 0.435 0.66 ]]\n"
     ]
    }
   ],
   "source": [
    "ds = ds_joint.batch(batch_size=3,\n",
    "                   drop_remainder=False)\n",
    "batch_x, batch_y = next(iter(ds))\n",
    "print('Batch-x:\\n', batch_x.numpy())"
   ]
  },
  {
   "cell_type": "code",
   "execution_count": 34,
   "id": "champion-sender",
   "metadata": {
    "ExecuteTime": {
     "end_time": "2021-02-14T04:08:13.552249Z",
     "start_time": "2021-02-14T04:08:13.541294Z"
    }
   },
   "outputs": [
    {
     "name": "stdout",
     "output_type": "stream",
     "text": [
      "Batch-y:  [0 1 2]\n"
     ]
    }
   ],
   "source": [
    "print('Batch-y: ', batch_y.numpy())"
   ]
  },
  {
   "cell_type": "code",
   "execution_count": 35,
   "id": "controlling-modeling",
   "metadata": {
    "ExecuteTime": {
     "end_time": "2021-02-14T04:08:13.582264Z",
     "start_time": "2021-02-14T04:08:13.557233Z"
    }
   },
   "outputs": [
    {
     "name": "stdout",
     "output_type": "stream",
     "text": [
      "0 (3, 3) [0 1 2]\n",
      "1 (1, 3) [3]\n",
      "2 (3, 3) [0 1 2]\n",
      "3 (1, 3) [3]\n"
     ]
    }
   ],
   "source": [
    "ds = ds_joint.batch(3).repeat(count=2)\n",
    "for i, (batch_x, batch_y) in enumerate(ds):\n",
    "    print(i, batch_x.shape, batch_y.numpy())"
   ]
  },
  {
   "cell_type": "code",
   "execution_count": 36,
   "id": "sixth-installation",
   "metadata": {
    "ExecuteTime": {
     "end_time": "2021-02-14T04:08:13.630036Z",
     "start_time": "2021-02-14T04:08:13.587231Z"
    }
   },
   "outputs": [
    {
     "name": "stdout",
     "output_type": "stream",
     "text": [
      "0 (3, 3) [0 1 2]\n",
      "1 (3, 3) [3 0 1]\n",
      "2 (2, 3) [2 3]\n"
     ]
    }
   ],
   "source": [
    "ds = ds_joint.repeat(count=2).batch(3)\n",
    "for i, (batch_x, batch_y) in enumerate(ds):\n",
    "    print(i, batch_x.shape, batch_y.numpy())"
   ]
  },
  {
   "cell_type": "code",
   "execution_count": 37,
   "id": "combined-melissa",
   "metadata": {
    "ExecuteTime": {
     "end_time": "2021-02-14T04:08:13.675958Z",
     "start_time": "2021-02-14T04:08:13.634025Z"
    }
   },
   "outputs": [
    {
     "name": "stdout",
     "output_type": "stream",
     "text": [
      "0 (2, 3) [2 1]\n",
      "1 (2, 3) [0 3]\n",
      "2 (2, 3) [0 3]\n",
      "3 (2, 3) [1 2]\n",
      "4 (2, 3) [3 0]\n",
      "5 (2, 3) [1 2]\n"
     ]
    }
   ],
   "source": [
    "## Order 1: shuffle -> batch -> repeat\n",
    "tf.random.set_seed(1)\n",
    "ds = ds_joint.shuffle(4).batch(2).repeat(3)\n",
    "for i, (batch_x, batch_y) in enumerate(ds):\n",
    "    print(i, batch_x.shape, batch_y.numpy())"
   ]
  },
  {
   "cell_type": "code",
   "execution_count": 38,
   "id": "limiting-currency",
   "metadata": {
    "ExecuteTime": {
     "end_time": "2021-02-14T04:08:13.723906Z",
     "start_time": "2021-02-14T04:08:13.680933Z"
    }
   },
   "outputs": [
    {
     "name": "stdout",
     "output_type": "stream",
     "text": [
      "0 (2, 3) [0 1]\n",
      "1 (2, 3) [2 3]\n",
      "2 (2, 3) [0 1]\n",
      "3 (2, 3) [2 3]\n",
      "4 (2, 3) [2 3]\n",
      "5 (2, 3) [0 1]\n"
     ]
    }
   ],
   "source": [
    "## Order 2: batch -> shuffle -> repeat\n",
    "tf.random.set_seed(1)\n",
    "ds = ds_joint.batch(2).shuffle(4).repeat(3)\n",
    "for i, (batch_x, batch_y) in enumerate(ds):\n",
    "    print(i, batch_x.shape, batch_y.numpy())"
   ]
  },
  {
   "cell_type": "markdown",
   "id": "orange-cartoon",
   "metadata": {},
   "source": [
    "## Create a dataset from files on your local storage disk"
   ]
  },
  {
   "cell_type": "code",
   "execution_count": 39,
   "id": "orange-recruitment",
   "metadata": {
    "ExecuteTime": {
     "end_time": "2021-02-14T04:08:13.739772Z",
     "start_time": "2021-02-14T04:08:13.726777Z"
    }
   },
   "outputs": [],
   "source": [
    "import pathlib"
   ]
  },
  {
   "cell_type": "code",
   "execution_count": 43,
   "id": "substantial-evidence",
   "metadata": {
    "ExecuteTime": {
     "end_time": "2021-02-14T04:11:36.336934Z",
     "start_time": "2021-02-14T04:11:36.326939Z"
    }
   },
   "outputs": [
    {
     "name": "stdout",
     "output_type": "stream",
     "text": [
      "[]\n"
     ]
    }
   ],
   "source": [
    "imgdir_path = pathlib.Path('cat_dog_images')\n",
    "file_list = sorted([str(path) for path in\n",
    "                   imgdir_path.glob('*.jpg')])\n",
    "print(file_list)"
   ]
  },
  {
   "cell_type": "code",
   "execution_count": 41,
   "id": "special-dealer",
   "metadata": {
    "ExecuteTime": {
     "end_time": "2021-02-14T04:08:14.324555Z",
     "start_time": "2021-02-14T04:08:13.759690Z"
    }
   },
   "outputs": [],
   "source": [
    "import matplotlib.pyplot as plt"
   ]
  },
  {
   "cell_type": "code",
   "execution_count": 42,
   "id": "individual-driving",
   "metadata": {
    "ExecuteTime": {
     "end_time": "2021-02-14T04:08:14.369816Z",
     "start_time": "2021-02-14T04:08:14.330171Z"
    }
   },
   "outputs": [
    {
     "data": {
      "text/plain": [
       "<Figure size 720x360 with 0 Axes>"
      ]
     },
     "metadata": {},
     "output_type": "display_data"
    }
   ],
   "source": [
    "fig = plt.figure(figsize=(10, 5))\n",
    "for i, file in enumerate(file_list):\n",
    "    img_raw = tf.io.read_file(file)\n",
    "    img = tf.image.decode_image(img_raw)\n",
    "    print('Image shape: ', img.shape)\n",
    "    ax = fig.add_subplot(2, 3, i+1)\n",
    "    ax.set_xticks([]); ax.set_yticks([])\n",
    "    ax.imshow(img)\n",
    "    ax.set_title(os.path.basename(file), size=15)\n",
    "plt.tight_layout()\n",
    "plt.show()"
   ]
  },
  {
   "cell_type": "code",
   "execution_count": null,
   "id": "private-contribution",
   "metadata": {},
   "outputs": [],
   "source": []
  }
 ],
 "metadata": {
  "kernelspec": {
   "display_name": "Python 3",
   "language": "python",
   "name": "python3"
  },
  "language_info": {
   "codemirror_mode": {
    "name": "ipython",
    "version": 3
   },
   "file_extension": ".py",
   "mimetype": "text/x-python",
   "name": "python",
   "nbconvert_exporter": "python",
   "pygments_lexer": "ipython3",
   "version": "3.8.7"
  }
 },
 "nbformat": 4,
 "nbformat_minor": 5
}
