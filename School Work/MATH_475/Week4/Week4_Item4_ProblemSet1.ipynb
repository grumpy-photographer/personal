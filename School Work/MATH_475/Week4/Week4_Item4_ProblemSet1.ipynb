{
 "cells": [
  {
   "cell_type": "code",
   "execution_count": 1,
   "metadata": {
    "ExecuteTime": {
     "end_time": "2020-09-17T03:31:14.794133Z",
     "start_time": "2020-09-17T03:31:01.234656Z"
    }
   },
   "outputs": [],
   "source": [
    "from sklearn.linear_model import LinearRegression\n",
    "from sklearn.preprocessing import PolynomialFeatures\n",
    "from sklearn.pipeline import make_pipeline\n",
    "import matplotlib.pyplot as plt"
   ]
  },
  {
   "cell_type": "code",
   "execution_count": 2,
   "metadata": {
    "ExecuteTime": {
     "end_time": "2020-09-17T03:31:14.826133Z",
     "start_time": "2020-09-17T03:31:14.803138Z"
    }
   },
   "outputs": [],
   "source": [
    "def automated_polynomial_regression_plot(X, y, d, fname):\n",
    "    \"\"\"\n",
    "    Plot a polynomial regression based on specified degrees.\n",
    "\n",
    "    Parameters\n",
    "    ----------\n",
    "    x: a 1D array of input data\n",
    "    y: a 1D array of output data\n",
    "    d: degree of polynomial (integer)\n",
    "    fname: filename\n",
    "\n",
    "    Returns\n",
    "    _______\n",
    "    None: saves plot as fname\n",
    "\n",
    "    \"\"\"\n",
    "    # Set up regression\n",
    "    poly_features = PolynomialFeatures(degree=d, include_bias=False)\n",
    "    poly_model = LinearRegression()\n",
    "    poly_reg = make_pipeline(poly_features, poly_model)\n",
    "    poly_reg.fit(X, y)\n",
    "\n",
    "    # Predict\n",
    "    poly_predict = poly_reg.predict(X.reshape(-1, 1))\n",
    "\n",
    "    # Plot\n",
    "    plt.scatter(X, y)\n",
    "    plt.plot(X, poly_predict)\n",
    "    plt.xlabel(\"X\")\n",
    "    plt.ylabel(\"y\")\n",
    "    plt.show()\n",
    "\n",
    "    # Save plot\n",
    "    plt.savefig(fname)\n",
    "\n",
    "    return None"
   ]
  }
 ],
 "metadata": {
  "kernelspec": {
   "display_name": "Python 3",
   "language": "python",
   "name": "python3"
  },
  "language_info": {
   "codemirror_mode": {
    "name": "ipython",
    "version": 3
   },
   "file_extension": ".py",
   "mimetype": "text/x-python",
   "name": "python",
   "nbconvert_exporter": "python",
   "pygments_lexer": "ipython3",
   "version": "3.8.5"
  },
  "toc": {
   "base_numbering": 1,
   "nav_menu": {},
   "number_sections": true,
   "sideBar": true,
   "skip_h1_title": false,
   "title_cell": "Table of Contents",
   "title_sidebar": "Contents",
   "toc_cell": false,
   "toc_position": {},
   "toc_section_display": true,
   "toc_window_display": false
  }
 },
 "nbformat": 4,
 "nbformat_minor": 4
}
