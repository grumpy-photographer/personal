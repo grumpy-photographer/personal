{
 "cells": [
  {
   "cell_type": "markdown",
   "metadata": {
    "pycharm": {
     "name": "#%% md\n"
    }
   },
   "source": [
    "# Landslide Classification\n",
    "#### By Nathan Young\n",
    "\n",
    "***\n",
    "\n",
    "The [NASA Global Landslide Catalog (GLC)](https://data.nasa.gov/api/views/dd9e-wu2v) is the largest openly available global inventory of rainfall-triggered mass movements known to date. The inventory was created in at NASA Goddard Space Flight Center (GSFC) and currently contains more than 11,500 reports on landslides, debris flows, rock avalanches, etc. around the world. Reports of landslides are found primarily from online media, including news articles as well as other databases. The GLC has been compiled by scientists, interns and other colleagues at NASA GSFC. The GLC has been cited more than 75 times in peer-reviewed articles.\n",
    "\n",
    "\n",
    "##### Citations:\n",
    "###### Kirschbaum, D.B., Stanley, T., & Zhou, Y. (2015). Spatial and temporal analysis of a global landslide catalog. Geomorphology, 249, 4-15. doi:10.1016/j.geomorph.2015.03.016\n",
    "###### Kirschbaum, D.B., Adler, R., Hong, Y., Hill, S., & Lerner-Lam, A. (2010). A global landslide catalog for hazard applications: method, results, and limitations. Natural Hazards, 52, 561-575. doi:10.1007/s11069-009-9401-4\n",
    "\n",
    "***"
   ]
  },
  {
   "cell_type": "code",
   "execution_count": 1,
   "metadata": {
    "pycharm": {
     "name": "#%%\n"
    }
   },
   "outputs": [],
   "source": [
    "import pandas as pd\n",
    "import seaborn as sns\n",
    "import numpy as np\n",
    "import matplotlib.pyplot as plt\n",
    "from sklearn.model_selection import train_test_split, GridSearchCV\n",
    "from sklearn.ensemble import RandomForestClassifier\n",
    "from sklearn.metrics import confusion_matrix"
   ]
  },
  {
   "cell_type": "code",
   "execution_count": 2,
   "metadata": {
    "pycharm": {
     "name": "#%%\n"
    }
   },
   "outputs": [],
   "source": [
    "def landslide_classification(target, train_size):\n",
    "    \"\"\"\n",
    "    input:\n",
    "        target : str : variable to predict\n",
    "            available targets: landslide, mudslide, complex, rock_fall,\n",
    "            debris_flow, riverbank_collapse, other, unknown, lahar,\n",
    "            snow_avalanche, creep, earth_flow, translational_slide, topple\n",
    "        train_size : int : size of training set\n",
    "    output:\n",
    "        cm : plot : confusion matrix of classification\n",
    "        report : : classification report\n",
    "    \"\"\"\n",
    "    # load data\n",
    "    data = pd.read_csv(\n",
    "        \"https://data.nasa.gov/api/views/dd9e-wu2v/rows.csv?accessType=DOWNLOAD\"\n",
    "    )\n",
    "\n",
    "    # clean whitespace from columns\n",
    "    data.columns = data.columns.str.strip()\n",
    "\n",
    "    # get dummies for target variable\n",
    "    dum = pd.get_dummies(data[\"landslide_category\"])\n",
    "    new_df = data.join(dum)\n",
    "\n",
    "    # clean new_df\n",
    "    new_df = new_df.select_dtypes(exclude=\"object\")\n",
    "    new_df = new_df.drop(\n",
    "        columns=[\"event_id\", \"event_time\", \"longitude\", \"latitude\", \"event_import_id\"],\n",
    "        axis=1,\n",
    "    )\n",
    "    new_df = new_df.dropna()\n",
    "\n",
    "    # set x and y values\n",
    "    X = new_df[[\"fatality_count\", \"injury_count\"]]\n",
    "    y = new_df[target]\n",
    "\n",
    "    # split data\n",
    "    X_train, X_test, y_train, y_test = train_test_split(\n",
    "        X, y, train_size=train_size, random_state=1\n",
    "    )\n",
    "\n",
    "    # build Random Forest Classifier params for GridSearchCV\n",
    "    rfc = RandomForestClassifier()\n",
    "    params = {\n",
    "        \"n_estimators\": [100, 1000, 1500],\n",
    "        \"criterion\": [\"gini\", \"entropy\"],\n",
    "        \"max_depth\": [1, 5, 10],\n",
    "        \"max_features\": [\"auto\", \"sqrt\", \"log2\"],\n",
    "        \"random_state\": [1],\n",
    "    }\n",
    "\n",
    "    # Build GridSearchCV\n",
    "    grid = GridSearchCV(rfc, params).fit(X_train, y_train)\n",
    "    grid_df = pd.DataFrame(grid.cv_results_)\n",
    "\n",
    "    # Find best model\n",
    "    best_model = grid_df.loc[:\"mean_test_score\"].max()\n",
    "\n",
    "    # Train best model\n",
    "    best_rfc = RandomForestClassifier(\n",
    "        n_estimators=best_model.param_n_estimators,\n",
    "        criterion=best_model.param_criterion,\n",
    "        max_depth=best_model.param_max_depth,\n",
    "        max_features=best_model.param_max_features,\n",
    "        random_state=best_model.param_random_state,\n",
    "    ).fit(X_train, y_train)\n",
    "\n",
    "    y_pred = best_rfc.predict(X)\n",
    "    \n",
    "    # get results\n",
    "    con_mat = confusion_matrix(y, y_pred)\n",
    "    accuracy = np.trace(con_mat) / np.sum(con_mat).astype(\"float\")\n",
    "    misclassified = 1 - accuracy\n",
    "\n",
    "    # plot results - confusion matrix\n",
    "    ax = plt.subplot()\n",
    "    sns.heatmap(con_mat, annot=True, fmt=\"d\", cmap=\"YlGnBu\")\n",
    "    plt.title(label=target + \" Confusion Matrix\")\n",
    "    plt.xlabel(\n",
    "        \"Predicted\\naccuracy={:0.4f}; misclassified={:0.4f}\".format(\n",
    "            accuracy, misclassified\n",
    "        )\n",
    "    )\n",
    "    plt.ylabel(\"True\")\n",
    "    ax.xaxis.set_ticklabels([\"Positive\", \"Negative\"])\n",
    "    ax.yaxis.set_ticklabels([\"Positive\", \"Negative\"])\n",
    "        \n",
    "    return plt.show()"
   ]
  },
  {
   "cell_type": "code",
   "execution_count": 3,
   "metadata": {
    "pycharm": {
     "is_executing": true,
     "name": "#%%\n"
    },
    "scrolled": true
   },
   "outputs": [
    {
     "data": {
      "image/png": "[encoded data removed]",
      "text/plain": [
       "<Figure size 432x288 with 2 Axes>"
      ]
     },
     "metadata": {
      "needs_background": "light"
     },
     "output_type": "display_data"
    }
   ],
   "source": [
    "landslide_classification(\"mudslide\", .9)"
   ]
  },
  {
   "cell_type": "code",
   "execution_count": null,
   "metadata": {
    "pycharm": {
     "name": "#%%\n"
    },
    "scrolled": true
   },
   "outputs": [],
   "source": [
    "landslide_classification(\"mudslide\", .2)"
   ]
  },
  {
   "cell_type": "code",
   "execution_count": null,
   "metadata": {
    "scrolled": true
   },
   "outputs": [],
   "source": [
    "landslide_classification(\"lahar\", .6)"
   ]
  },
  {
   "cell_type": "code",
   "execution_count": null,
   "metadata": {},
   "outputs": [],
   "source": []
  }
 ],
 "metadata": {
  "kernelspec": {
   "display_name": "Python 3",
   "language": "python",
   "name": "python3"
  },
  "language_info": {
   "codemirror_mode": {
    "name": "ipython",
    "version": 3
   },
   "file_extension": ".py",
   "mimetype": "text/x-python",
   "name": "python",
   "nbconvert_exporter": "python",
   "pygments_lexer": "ipython3",
   "version": "3.8.6"
  },
  "notify_time": "30",
  "toc": {
   "base_numbering": 1,
   "nav_menu": {},
   "number_sections": true,
   "sideBar": false,
   "skip_h1_title": true,
   "title_cell": "Table of Contents",
   "title_sidebar": "Contents",
   "toc_cell": true,
   "toc_position": {},
   "toc_section_display": true,
   "toc_window_display": false
  }
 },
 "nbformat": 4,
 "nbformat_minor": 4
}
