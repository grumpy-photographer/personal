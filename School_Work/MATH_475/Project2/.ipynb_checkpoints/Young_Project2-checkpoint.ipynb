{
 "cells": [
  {
   "cell_type": "markdown",
   "metadata": {
    "ExecuteTime": {
     "end_time": "2020-10-30T17:28:13.040391Z",
     "start_time": "2020-10-30T17:28:13.016836Z"
    }
   },
   "source": [
    "# Predicting Trees\n",
    "\n",
    "***"
   ]
  },
  {
   "cell_type": "markdown",
   "metadata": {
    "toc": true
   },
   "source": [
    "<h1>Table of Contents<span class=\"tocSkip\"></span></h1>\n",
    "<div class=\"toc\"><ul class=\"toc-item\"><li><span><a href=\"#Intro\" data-toc-modified-id=\"Intro-1\"><span class=\"toc-item-num\">1&nbsp;&nbsp;</span>Intro</a></span></li><li><span><a href=\"#Imports\" data-toc-modified-id=\"Imports-2\"><span class=\"toc-item-num\">2&nbsp;&nbsp;</span>Imports</a></span></li><li><span><a href=\"#Data\" data-toc-modified-id=\"Data-3\"><span class=\"toc-item-num\">3&nbsp;&nbsp;</span>Data</a></span></li><li><span><a href=\"#Process-Data\" data-toc-modified-id=\"Process-Data-4\"><span class=\"toc-item-num\">4&nbsp;&nbsp;</span>Process Data</a></span></li><li><span><a href=\"#Visualize-Data\" data-toc-modified-id=\"Visualize-Data-5\"><span class=\"toc-item-num\">5&nbsp;&nbsp;</span>Visualize Data</a></span></li><li><span><a href=\"#Split-data\" data-toc-modified-id=\"Split-data-6\"><span class=\"toc-item-num\">6&nbsp;&nbsp;</span>Split data</a></span></li><li><span><a href=\"#Binary-Classification-using-LogisticRegression\" data-toc-modified-id=\"Binary-Classification-using-LogisticRegression-7\"><span class=\"toc-item-num\">7&nbsp;&nbsp;</span>Binary Classification using LogisticRegression</a></span></li><li><span><a href=\"#Automated-Binary-Classification-using-LogisticRegression\" data-toc-modified-id=\"Automated-Binary-Classification-using-LogisticRegression-8\"><span class=\"toc-item-num\">8&nbsp;&nbsp;</span>Automated Binary Classification using LogisticRegression</a></span></li><li><span><a href=\"#Binary-Classification-using-RandomForestClassifier-and-StackingClassifier\" data-toc-modified-id=\"Binary-Classification-using-RandomForestClassifier-and-StackingClassifier-9\"><span class=\"toc-item-num\">9&nbsp;&nbsp;</span>Binary Classification using RandomForestClassifier and StackingClassifier</a></span></li><li><span><a href=\"#Automated-Binary-Classification-using-RandomForestClassifier\" data-toc-modified-id=\"Automated-Binary-Classification-using-RandomForestClassifier-10\"><span class=\"toc-item-num\">10&nbsp;&nbsp;</span>Automated Binary Classification using RandomForestClassifier</a></span></li><li><span><a href=\"#Extra:-Binary-Classification-using-KNeighborsClassifier\" data-toc-modified-id=\"Extra:-Binary-Classification-using-KNeighborsClassifier-11\"><span class=\"toc-item-num\">11&nbsp;&nbsp;</span>Extra: Binary Classification using KNeighborsClassifier</a></span></li><li><span><a href=\"#Model-Explanation\" data-toc-modified-id=\"Model-Explanation-12\"><span class=\"toc-item-num\">12&nbsp;&nbsp;</span>Model Explanation</a></span></li><li><span><a href=\"#Reflection\" data-toc-modified-id=\"Reflection-13\"><span class=\"toc-item-num\">13&nbsp;&nbsp;</span>Reflection</a></span></li><li><span><a href=\"#Questions\" data-toc-modified-id=\"Questions-14\"><span class=\"toc-item-num\">14&nbsp;&nbsp;</span>Questions</a></span></li><li><span><a href=\"#Extra:-Automated-Binary-Classification-using-KNeighborsClassifier\" data-toc-modified-id=\"Extra:-Automated-Binary-Classification-using-KNeighborsClassifier-15\"><span class=\"toc-item-num\">15&nbsp;&nbsp;</span>Extra: Automated Binary Classification using KNeighborsClassifier</a></span></li><li><span><a href=\"#Acknowledgments\" data-toc-modified-id=\"Acknowledgments-16\"><span class=\"toc-item-num\">16&nbsp;&nbsp;</span>Acknowledgments</a></span></li><li><span><a href=\"#References\" data-toc-modified-id=\"References-17\"><span class=\"toc-item-num\">17&nbsp;&nbsp;</span>References</a></span></li></ul></div>"
   ]
  },
  {
   "cell_type": "markdown",
   "metadata": {},
   "source": [
    "***"
   ]
  },
  {
   "cell_type": "markdown",
   "metadata": {},
   "source": [
    "## Intro\n",
    "\n",
    "For the longest time, back to my days in the Scouting, plant identification has been very interesting to me.  To this day, I can walk around the forests of Washington and identify plants.  Now that I am working on machine learning, I wanted to see if my computer could do what I have been able to do for a while. While I was looking for data sets, I stumbled upon a US Department of Agriculture research \"data catalog\". This may not be the best dataset for this project, as there are not many variables, and even fewer that have tree features that would be helpful in identification, but it is a start.  In this catalog, there was [data](https://www.fs.usda.gov/rds/archive/Catalog/RDS-2020-0051) regarding tree surveys of the [Umatilla National Forest](https://www.fs.usda.gov/detail/umatilla/?cid=FSEPRD498952) completed in 2020.\n",
    "\n",
    "Using this data, I want to classify tree species based on the features available. There are multiple `.csv` files available to use, but upon farther investigation, `corner_trees.csv` looked to have the best descriptive variables.  This file contains columns as follows:\n",
    "\n",
    "| Column Name | Column Description |\n",
    "| :- | :- |\n",
    "| OID | internal feature number |\n",
    "| IDTRSD | join field of township, range, and section number |\n",
    "| TreeSpecie | tree species |\n",
    "| TreeDia | tree diameter at breast height (inches) |\n",
    "| TreeDist | distance to a corner in links (a link is one-hundredth of a chain and since a chain is 66 feet, then one link is 0.66 feet) |\n",
    "\n",
    "The `OID` and `IDTRSD` seem to be identification values used in the survey, so they don't provide much benefit to the classification.\n",
    "\n",
    "Let's get started!"
   ]
  },
  {
   "cell_type": "markdown",
   "metadata": {},
   "source": [
    "***"
   ]
  },
  {
   "cell_type": "markdown",
   "metadata": {},
   "source": [
    "## Imports"
   ]
  },
  {
   "cell_type": "markdown",
   "metadata": {},
   "source": [
    "First, as always, we will import \"global\" packages.  These will be used throughout the project, so to avoid random lines of imports, they are together here."
   ]
  },
  {
   "cell_type": "code",
   "execution_count": 6,
   "metadata": {
    "ExecuteTime": {
     "end_time": "2020-11-06T19:03:11.913552Z",
     "start_time": "2020-11-06T19:03:09.227550Z"
    },
    "code_folding": [
     0
    ]
   },
   "outputs": [],
   "source": [
    "# imports\n",
    "import pandas as pd\n",
    "import numpy as np\n",
    "import matplotlib.pyplot as plt\n",
    "from matplotlib.colors import ListedColormap\n",
    "import seaborn as sns\n",
    "from sklearn.model_selection import train_test_split, GridSearchCV\n",
    "from sklearn.metrics import confusion_matrix, classification_report\n",
    "from sklearn.preprocessing import StandardScaler"
   ]
  },
  {
   "cell_type": "markdown",
   "metadata": {},
   "source": [
    "Utilizing code from the textbook, we can include the function that will build our decision boundary plots.  We will be referencing back to this function later, so running it here helps up to maintain clean code."
   ]
  },
  {
   "cell_type": "code",
   "execution_count": 7,
   "metadata": {
    "ExecuteTime": {
     "end_time": "2020-11-06T19:03:11.944550Z",
     "start_time": "2020-11-06T19:03:11.916554Z"
    },
    "code_folding": [
     0,
     1
    ]
   },
   "outputs": [],
   "source": [
    "# plot_decision_regions function\n",
    "def plot_decision_regions(X, y, classifier, test_idx=None, resolution=0.02):\n",
    "\n",
    "    # setup marker generator and color map\n",
    "    markers = (\"s\", \"x\", \"o\", \"^\", \"v\")\n",
    "    colors = (\"red\", \"blue\", \"lightgreen\", \"gray\", \"cyan\")\n",
    "    cmap = ListedColormap(colors[: len(np.unique(y))])\n",
    "\n",
    "    # plot the decision surface\n",
    "    x1_min, x1_max = X[:, 0].min() - 1, X[:, 0].max() + 1\n",
    "    x2_min, x2_max = X[:, 1].min() - 1, X[:, 1].max() + 1\n",
    "    xx1, xx2 = np.meshgrid(\n",
    "        np.arange(x1_min, x1_max, resolution), np.arange(\n",
    "            x2_min, x2_max, resolution)\n",
    "    )\n",
    "    Z = classifier.predict(np.array([xx1.ravel(), xx2.ravel()]).T)\n",
    "    Z = Z.reshape(xx1.shape)\n",
    "    plt.contourf(xx1, xx2, Z, alpha=0.3, cmap=cmap)\n",
    "    plt.xlim(xx1.min(), xx1.max())\n",
    "    plt.ylim(xx2.min(), xx2.max())\n",
    "\n",
    "    for idx, cl in enumerate(np.unique(y)):\n",
    "        plt.scatter(\n",
    "            x=X[y == cl, 0],\n",
    "            y=X[y == cl, 1],\n",
    "            alpha=0.8,\n",
    "            c=colors[idx],\n",
    "            marker=markers[idx],\n",
    "            label=cl,\n",
    "            edgecolor=\"black\",\n",
    "        )\n",
    "\n",
    "    # highlight test examples\n",
    "    if test_idx:\n",
    "        # plot all examples\n",
    "        X_test, y_test = X[test_idx, :], y[test_idx]\n",
    "\n",
    "        plt.scatter(\n",
    "            X_test[:, 0],\n",
    "            X_test[:, 1],\n",
    "            c=\"\",\n",
    "            edgecolor=\"black\",\n",
    "            alpha=1.0,\n",
    "            linewidth=1,\n",
    "            marker=\"o\",\n",
    "            s=100,\n",
    "            label=\"test set\",\n",
    "        )"
   ]
  },
  {
   "cell_type": "markdown",
   "metadata": {},
   "source": [
    "***"
   ]
  },
  {
   "cell_type": "markdown",
   "metadata": {},
   "source": [
    "## Data"
   ]
  },
  {
   "cell_type": "markdown",
   "metadata": {},
   "source": [
    "We can use `.read_csv()` from pandas to load data into a dataframe."
   ]
  },
  {
   "cell_type": "code",
   "execution_count": 8,
   "metadata": {
    "ExecuteTime": {
     "end_time": "2020-11-06T19:03:12.005546Z",
     "start_time": "2020-11-06T19:03:11.947551Z"
    },
    "code_folding": [
     0
    ]
   },
   "outputs": [
    {
     "data": {
      "text/html": [
       "<div>\n",
       "<style scoped>\n",
       "    .dataframe tbody tr th:only-of-type {\n",
       "        vertical-align: middle;\n",
       "    }\n",
       "\n",
       "    .dataframe tbody tr th {\n",
       "        vertical-align: top;\n",
       "    }\n",
       "\n",
       "    .dataframe thead th {\n",
       "        text-align: right;\n",
       "    }\n",
       "</style>\n",
       "<table border=\"1\" class=\"dataframe\">\n",
       "  <thead>\n",
       "    <tr style=\"text-align: right;\">\n",
       "      <th></th>\n",
       "      <th>OID</th>\n",
       "      <th>IDTRSD</th>\n",
       "      <th>TreeSpecie</th>\n",
       "      <th>TreeDia</th>\n",
       "      <th>TreeDist</th>\n",
       "    </tr>\n",
       "  </thead>\n",
       "  <tbody>\n",
       "    <tr>\n",
       "      <th>0</th>\n",
       "      <td>0</td>\n",
       "      <td>01S3605NW</td>\n",
       "      <td>FIR</td>\n",
       "      <td>12</td>\n",
       "      <td>19</td>\n",
       "    </tr>\n",
       "    <tr>\n",
       "      <th>1</th>\n",
       "      <td>1</td>\n",
       "      <td>01S3605W</td>\n",
       "      <td>FIR</td>\n",
       "      <td>6</td>\n",
       "      <td>12</td>\n",
       "    </tr>\n",
       "    <tr>\n",
       "      <th>2</th>\n",
       "      <td>2</td>\n",
       "      <td>01S3606NW</td>\n",
       "      <td>FIR</td>\n",
       "      <td>16</td>\n",
       "      <td>41</td>\n",
       "    </tr>\n",
       "    <tr>\n",
       "      <th>3</th>\n",
       "      <td>3</td>\n",
       "      <td>01S3606W</td>\n",
       "      <td>FIR</td>\n",
       "      <td>6</td>\n",
       "      <td>7</td>\n",
       "    </tr>\n",
       "    <tr>\n",
       "      <th>4</th>\n",
       "      <td>4</td>\n",
       "      <td>01S3607N</td>\n",
       "      <td>PINE</td>\n",
       "      <td>15</td>\n",
       "      <td>186</td>\n",
       "    </tr>\n",
       "  </tbody>\n",
       "</table>\n",
       "</div>"
      ],
      "text/plain": [
       "   OID     IDTRSD TreeSpecie TreeDia TreeDist\n",
       "0    0  01S3605NW        FIR      12       19\n",
       "1    1   01S3605W        FIR       6       12\n",
       "2    2  01S3606NW        FIR      16       41\n",
       "3    3   01S3606W        FIR       6        7\n",
       "4    4   01S3607N       PINE      15      186"
      ]
     },
     "execution_count": 8,
     "metadata": {},
     "output_type": "execute_result"
    }
   ],
   "source": [
    "# Read data\n",
    "trees_df = pd.read_csv(\"./Data/corner_trees.csv\")\n",
    "\n",
    "# display data\n",
    "trees_df.head()"
   ]
  },
  {
   "cell_type": "markdown",
   "metadata": {},
   "source": [
    "There are quite a few different species of trees in this file.  Running `.unique()` on the `TreeSpecie` column allows us to see each specie that is represented.  This can be helpful to reference when using the automatic functions later in the project."
   ]
  },
  {
   "cell_type": "code",
   "execution_count": 9,
   "metadata": {
    "ExecuteTime": {
     "end_time": "2020-11-06T19:03:12.021552Z",
     "start_time": "2020-11-06T19:03:12.008584Z"
    }
   },
   "outputs": [
    {
     "data": {
      "text/plain": [
       "array(['FIR', 'PINE', 'SPRUCE', 'COTTONWOOD', 'WESTERN LARCH', 'ALDER',\n",
       "       'WILLOW', 'CHERRY', 'BALM', 'HEMLOCK', 'BIRCH', 'RED FIR',\n",
       "       'BLACK PINE', 'MAHOGANY', 'WHITE FIR', 'ROCKY MTN MAPLE',\n",
       "       'JUNIPER', 'YEW', 'WHITE PINE', 'YELLOW PINE', 'QUAKING ASPEN',\n",
       "       'LODGEPOLE PINE', 'MESQUITE', 'DOUBLE FIR', 'QUAKING ASH',\n",
       "       'BULL PINE', 'ALPINE FIR', 'DOUBLE PINE', 'YELLOW FIR',\n",
       "       'SPRUCE PINE', 'DEAD FIR', 'BALSAM FIR', 'LARCH', 'POPLAR',\n",
       "       'DOUBLE SPRUCE', 'DOUBLE WHITE PINE', 'DEAD PINE', 'B--RBERY',\n",
       "       'SILVER FIR'], dtype=object)"
      ]
     },
     "execution_count": 9,
     "metadata": {},
     "output_type": "execute_result"
    }
   ],
   "source": [
    "trees_df.TreeSpecie.unique()"
   ]
  },
  {
   "cell_type": "markdown",
   "metadata": {},
   "source": [
    "As mentioned before, `OID` and `IDTRSD` don't provide much value, at least not for this classification project.  We will drop the columns."
   ]
  },
  {
   "cell_type": "code",
   "execution_count": 10,
   "metadata": {
    "ExecuteTime": {
     "end_time": "2020-11-06T19:03:12.067553Z",
     "start_time": "2020-11-06T19:03:12.041548Z"
    },
    "code_folding": [
     0
    ]
   },
   "outputs": [],
   "source": [
    "# Drop columns we do not need\n",
    "trees_df = trees_df.drop(columns=[\"OID\", \"IDTRSD\"], axis=1)"
   ]
  },
  {
   "cell_type": "markdown",
   "metadata": {},
   "source": [
    "After we have dropped the columns, we will check the data to see if there are any missing values in the form of `NaN` values."
   ]
  },
  {
   "cell_type": "code",
   "execution_count": 11,
   "metadata": {
    "ExecuteTime": {
     "end_time": "2020-11-06T19:03:12.082553Z",
     "start_time": "2020-11-06T19:03:12.070556Z"
    },
    "code_folding": [
     0
    ]
   },
   "outputs": [
    {
     "data": {
      "text/plain": [
       "0"
      ]
     },
     "execution_count": 11,
     "metadata": {},
     "output_type": "execute_result"
    }
   ],
   "source": [
    "# Check for NaN values and count all instance of NaN\n",
    "trees_df.isna().any().sum()"
   ]
  },
  {
   "cell_type": "markdown",
   "metadata": {},
   "source": [
    "There are no `NaN` values so we can move forward with processing the data.\n",
    "\n",
    "***"
   ]
  },
  {
   "cell_type": "markdown",
   "metadata": {},
   "source": [
    "## Process Data"
   ]
  },
  {
   "cell_type": "markdown",
   "metadata": {},
   "source": [
    "The first thing we have to do is change `TreeSpecie` to numerical values.  We can do this by changing the string values to numbers using `pd.get_dummies()` on the `TreeSpecie` column.  This will replace string values with `0` and `1` where `0 = False` and `1 = True`, respective to the tree specie it represents."
   ]
  },
  {
   "cell_type": "code",
   "execution_count": 12,
   "metadata": {
    "ExecuteTime": {
     "end_time": "2020-11-06T19:03:12.113547Z",
     "start_time": "2020-11-06T19:03:12.086559Z"
    },
    "code_folding": [
     0
    ],
    "scrolled": true
   },
   "outputs": [],
   "source": [
    "# Create dummies\n",
    "species_dummies = pd.get_dummies(trees_df[\"TreeSpecie\"])\n",
    "\n",
    "# Join old dataframe with dummies and drop `TreeSpecie` column\n",
    "new_trees_df = trees_df.join(species_dummies)\n",
    "new_trees_df = new_trees_df.drop(columns=\"TreeSpecie\", axis=1)"
   ]
  },
  {
   "cell_type": "code",
   "execution_count": 13,
   "metadata": {},
   "outputs": [
    {
     "name": "stdout",
     "output_type": "stream",
     "text": [
      "Columns: 41\n"
     ]
    }
   ],
   "source": [
    "print(\"Columns:\", new_trees_df.shape[1])"
   ]
  },
  {
   "cell_type": "markdown",
   "metadata": {},
   "source": [
    "After creating dummies, we see that we are left with 41 columns.  We can try to predict on 41 columns, but for this project, we will predict on one.  Thus, we will keep only the columns we are interested in.  For now, we will just attempt to classify Fir trees."
   ]
  },
  {
   "cell_type": "code",
   "execution_count": 14,
   "metadata": {
    "ExecuteTime": {
     "end_time": "2020-11-06T19:03:12.128545Z",
     "start_time": "2020-11-06T19:03:12.116548Z"
    },
    "code_folding": [
     0
    ]
   },
   "outputs": [],
   "source": [
    "# Keep only a few columns\n",
    "new_trees_df = new_trees_df[[\"TreeDia\", \"TreeDist\", \"FIR\"]]"
   ]
  },
  {
   "cell_type": "markdown",
   "metadata": {},
   "source": [
    "When fitting the data the first time, we get a `ValueError` because there seems to be values as '`---`' in both the `TreeDia` and `TreeDist` columns.  Because '`---`' is not a `NaN` value, it was not removed earlier.  We can remove it with a few filters here."
   ]
  },
  {
   "cell_type": "code",
   "execution_count": 15,
   "metadata": {
    "ExecuteTime": {
     "end_time": "2020-11-06T19:03:12.159544Z",
     "start_time": "2020-11-06T19:03:12.132556Z"
    },
    "code_folding": [
     0
    ]
   },
   "outputs": [],
   "source": [
    "# Clean columns\n",
    "new_trees_df = new_trees_df[new_trees_df[\"TreeDia\"] != \"---\"]\n",
    "new_trees_df = new_trees_df[new_trees_df[\"TreeDist\"] != \"---\"]\n",
    "\n",
    "new_trees_df = new_trees_df[new_trees_df[\"TreeDist\"] != \"3?\"]"
   ]
  },
  {
   "cell_type": "markdown",
   "metadata": {},
   "source": [
    "The pairplot in the following cell was very random.  To fix this, we will convert `TreeDia` and `TreeDist` to integer values."
   ]
  },
  {
   "cell_type": "code",
   "execution_count": 16,
   "metadata": {
    "ExecuteTime": {
     "end_time": "2020-11-06T19:03:12.189585Z",
     "start_time": "2020-11-06T19:03:12.162547Z"
    },
    "code_folding": [
     0
    ]
   },
   "outputs": [],
   "source": [
    "# Change dtypes\n",
    "new_trees_df[\"TreeDia\"] = new_trees_df[\"TreeDia\"].astype(int)\n",
    "new_trees_df[\"TreeDist\"] = new_trees_df[\"TreeDist\"].astype(int)"
   ]
  },
  {
   "cell_type": "markdown",
   "metadata": {},
   "source": [
    "***"
   ]
  },
  {
   "cell_type": "markdown",
   "metadata": {
    "ExecuteTime": {
     "end_time": "2020-10-31T04:06:04.361588Z",
     "start_time": "2020-10-31T04:06:04.351319Z"
    }
   },
   "source": [
    "## Visualize Data"
   ]
  },
  {
   "cell_type": "markdown",
   "metadata": {},
   "source": [
    "One of the easiest ways to visualize data is using the `.pairplot()` from `seaborn`. Due to the values of Fir only being 1 or 0, we will plot `TreeDia` against `TreeDist`."
   ]
  },
  {
   "cell_type": "code",
   "execution_count": 17,
   "metadata": {
    "ExecuteTime": {
     "end_time": "2020-11-06T19:03:14.646544Z",
     "start_time": "2020-11-06T19:03:12.192549Z"
    },
    "code_folding": [
     0
    ]
   },
   "outputs": [
    {
     "data": {
      "text/plain": [
       "<seaborn.axisgrid.PairGrid at 0x26276e02608>"
      ]
     },
     "execution_count": 17,
     "metadata": {},
     "output_type": "execute_result"
    },
    {
     "data": {
      "image/png": "[encoded data removed]",
      "text/plain": [
       "<Figure size 720x720 with 6 Axes>"
      ]
     },
     "metadata": {
      "needs_background": "light"
     },
     "output_type": "display_data"
    }
   ],
   "source": [
    "# Plot TreeDia v TreeDist\n",
    "sns.pairplot(new_trees_df, vars=[\"TreeDia\",\n",
    "                                 \"TreeDist\"], diag_kind=\"kde\", height=5)"
   ]
  },
  {
   "cell_type": "markdown",
   "metadata": {},
   "source": [
    "This does not provide much information, but we can see that, looking mainly in the 2nd quadrant, trees that have a greater distance have a smaller diameter and trees that have a larger diameter are closer together."
   ]
  },
  {
   "cell_type": "markdown",
   "metadata": {},
   "source": [
    "***"
   ]
  },
  {
   "cell_type": "markdown",
   "metadata": {},
   "source": [
    "## Split data"
   ]
  },
  {
   "cell_type": "markdown",
   "metadata": {},
   "source": [
    "Now we can split the data into training and test sets.  \n",
    "\n",
    "When fitting data, mainly `y`, a `DataConversionWarning`is raised.  Instead of suppressing the warning by ignoring it, I wanted to avoid it.  We can do that by using `.values.ravel()` on the `y` variable, converting the value to a 1d array.  Ravel documentation [here](https://www.geeksforgeeks.org/numpy-ravel-python/).\n",
    "\n",
    "The `stratify` argument splits data \"in a stratified fashion\" according to documentation on [`train_test_split`](https://scikit-learn.org/stable/modules/generated/sklearn.model_selection.train_test_split.html).\n",
    "\n",
    "After we split the data, we need to scale it using StandardScaler().  To get our decision boundaries to plot correctly, we have to combine the training and test sets.  We will use these variables later."
   ]
  },
  {
   "cell_type": "code",
   "execution_count": 18,
   "metadata": {
    "ExecuteTime": {
     "end_time": "2020-11-06T19:03:14.662348Z",
     "start_time": "2020-11-06T19:03:14.649661Z"
    },
    "code_folding": [
     0
    ]
   },
   "outputs": [],
   "source": [
    "# Create target variable\n",
    "x_vals = [\"TreeDia\", \"TreeDist\"]\n",
    "y_vals = [\"FIR\"]\n",
    "\n",
    "X = new_trees_df[x_vals]\n",
    "y = new_trees_df[y_vals].values.ravel()"
   ]
  },
  {
   "cell_type": "code",
   "execution_count": 19,
   "metadata": {
    "ExecuteTime": {
     "end_time": "2020-11-06T19:03:14.694346Z",
     "start_time": "2020-11-06T19:03:14.665352Z"
    },
    "code_folding": [
     0
    ]
   },
   "outputs": [],
   "source": [
    "# Split into train and test sets\n",
    "X_train, X_test, y_train, y_test = train_test_split(\n",
    "    X, y, train_size=0.7, random_state=0, stratify=y\n",
    ")"
   ]
  },
  {
   "cell_type": "code",
   "execution_count": 20,
   "metadata": {
    "ExecuteTime": {
     "end_time": "2020-11-06T19:03:14.726350Z",
     "start_time": "2020-11-06T19:03:14.697378Z"
    },
    "code_folding": [
     0
    ]
   },
   "outputs": [],
   "source": [
    "# Scale data\n",
    "sc = StandardScaler()\n",
    "sc.fit(X_train)\n",
    "X_train_std = sc.transform(X_train)\n",
    "X_test_std = sc.transform(X_test)\n",
    "\n",
    "X_combined_std = np.vstack((X_train_std, X_test_std))\n",
    "y_combined = np.hstack((y_train, y_test))"
   ]
  },
  {
   "cell_type": "markdown",
   "metadata": {},
   "source": [
    "***"
   ]
  },
  {
   "cell_type": "markdown",
   "metadata": {},
   "source": [
    "## Binary Classification using LogisticRegression"
   ]
  },
  {
   "cell_type": "markdown",
   "metadata": {},
   "source": [
    "Dr. Penland suggested I try to use Binary Classification to predict the type of tree based on tree diameter and distance.  Let's look at a Logistic Regression model to see how it works on this data.  "
   ]
  },
  {
   "cell_type": "code",
   "execution_count": 21,
   "metadata": {
    "ExecuteTime": {
     "end_time": "2020-11-06T19:03:14.806347Z",
     "start_time": "2020-11-06T19:03:14.730350Z"
    }
   },
   "outputs": [],
   "source": [
    "from sklearn.linear_model import LogisticRegression"
   ]
  },
  {
   "cell_type": "code",
   "execution_count": 22,
   "metadata": {
    "ExecuteTime": {
     "end_time": "2020-11-06T19:03:14.964349Z",
     "start_time": "2020-11-06T19:03:14.813350Z"
    },
    "code_folding": [
     0
    ]
   },
   "outputs": [],
   "source": [
    "# Build LogisticRegression model\n",
    "lr = LogisticRegression(\n",
    "    random_state=1, multi_class=\"ovr\").fit(X_train, y_train)"
   ]
  },
  {
   "cell_type": "markdown",
   "metadata": {},
   "source": [
    "Now that the model has been created and fit, let's see how well it did on the data.  In classification, one way to tell how well the model did is too look at a confusion matrix.  This will show how well the model can make predictions."
   ]
  },
  {
   "cell_type": "code",
   "execution_count": 23,
   "metadata": {
    "ExecuteTime": {
     "end_time": "2020-11-06T19:03:15.012344Z",
     "start_time": "2020-11-06T19:03:14.968350Z"
    }
   },
   "outputs": [
    {
     "data": {
      "text/plain": [
       "array([[12802,     1],\n",
       "       [ 7348,     1]], dtype=int64)"
      ]
     },
     "execution_count": 23,
     "metadata": {},
     "output_type": "execute_result"
    }
   ],
   "source": [
    "confusion_matrix(y, lr.predict(X))"
   ]
  },
  {
   "cell_type": "markdown",
   "metadata": {},
   "source": [
    "The position of values in Confusion Matrix's are as follows:\n",
    "\n",
    "||\n",
    "|-|-|\n",
    "|True Negatives|False Positives|\n",
    "|False Negatives|True Positives|\n",
    "\n",
    "Reading this matrix down, we see that there are:\n",
    "\n",
    "- 12802 true negative predictions.  The model predicted the first 12802 zeros (0) correctly.\n",
    "- 7348 false negative predictions.  The model predicted zeros (0) wrong 7348 times.\n",
    "- 1 false positive prediction.  The model predicted zero (0) wrong once.\n",
    "- 1 true positive prediction.  The model predicted one (1) correctly once.\n",
    "\n",
    "To get a better understanding of these values, let's plot the confusion matrix."
   ]
  },
  {
   "cell_type": "code",
   "execution_count": 24,
   "metadata": {
    "ExecuteTime": {
     "end_time": "2020-11-06T19:03:15.327350Z",
     "start_time": "2020-11-06T19:03:15.016351Z"
    },
    "code_folding": [
     0
    ],
    "scrolled": true
   },
   "outputs": [
    {
     "data": {
      "text/plain": [
       "<matplotlib.axes._subplots.AxesSubplot at 0x2627b369088>"
      ]
     },
     "execution_count": 24,
     "metadata": {},
     "output_type": "execute_result"
    },
    {
     "data": {
      "image/png": "[encoded data removed]",
      "text/plain": [
       "<Figure size 432x288 with 2 Axes>"
      ]
     },
     "metadata": {
      "needs_background": "light"
     },
     "output_type": "display_data"
    }
   ],
   "source": [
    "# Build confusion_matrix object\n",
    "cm = confusion_matrix(y, lr.predict(X))\n",
    "\n",
    "# Plot confusion_matrix\n",
    "sns.heatmap(cm, annot=True, fmt=\"d\")"
   ]
  },
  {
   "cell_type": "markdown",
   "metadata": {},
   "source": [
    "Of course, the heat map shares the same information, but seeing it in color helps to show just how drastic the values are.\n",
    "\n",
    "Thanks to code from the course textbook above, we can plot results using decision boundaries. Let's do that now.\n",
    "\n",
    "The first time the graph is plotted, we only see one decision boundary (red).  We can zoom in to see if one is buried somewhere, as there is, according to our confusion matrix, one true positive prediction.  There should be an 'x' in a blue boundary. To zoom in, we just have to remove the lines that have been commented out and change the numerical values to values on the axes."
   ]
  },
  {
   "cell_type": "code",
   "execution_count": 25,
   "metadata": {
    "ExecuteTime": {
     "end_time": "2020-11-06T19:03:15.751345Z",
     "start_time": "2020-11-06T19:03:15.331350Z"
    },
    "code_folding": [
     0
    ],
    "scrolled": true
   },
   "outputs": [
    {
     "data": {
      "text/plain": [
       "<matplotlib.legend.Legend at 0x2627b6ad248>"
      ]
     },
     "execution_count": 25,
     "metadata": {},
     "output_type": "execute_result"
    },
    {
     "data": {
      "image/png": "[encoded data removed]",
      "text/plain": [
       "<Figure size 432x288 with 1 Axes>"
      ]
     },
     "metadata": {
      "needs_background": "light"
     },
     "output_type": "display_data"
    }
   ],
   "source": [
    "# plot decision regions\n",
    "plot_decision_regions(X=X_combined_std, y=y_combined, classifier=lr)\n",
    "\n",
    "plt.xlabel(\"Tree Diameter [standardized]\")\n",
    "plt.ylabel(\"Tree Distance [standardized]\")\n",
    "#plt.xlim(-2,4)\n",
    "#plt.ylim(0,5)\n",
    "plt.tight_layout()\n",
    "plt.legend()"
   ]
  },
  {
   "cell_type": "markdown",
   "metadata": {},
   "source": [
    "Even after playing with the zoom, I cannot find the 1 correct variable.  The decision boundary may be too small to see.  \n",
    "\n",
    "Let's look at the classification report to see if we can get any more information."
   ]
  },
  {
   "cell_type": "markdown",
   "metadata": {},
   "source": [
    "## Automated Binary Classification using LogisticRegression"
   ]
  },
  {
   "cell_type": "code",
   "execution_count": 26,
   "metadata": {
    "ExecuteTime": {
     "end_time": "2020-11-06T19:03:15.782347Z",
     "start_time": "2020-11-06T19:03:15.755347Z"
    },
    "code_folding": [
     0
    ]
   },
   "outputs": [],
   "source": [
    "def tree_pred_binary_log(data, cols_to_drop, target):\n",
    "    \"\"\"\n",
    "    Inputs\n",
    "    ------\n",
    "    data : data file\n",
    "    cols_to_drop : columns to drop\n",
    "    target : target tree to predict\n",
    "\n",
    "    Output\n",
    "    ------\n",
    "    cm : confusion_matrix\n",
    "    plot_decision_regions() : plot results\n",
    "    \"\"\"\n",
    "\n",
    "    # read data\n",
    "    data_frame = pd.read_csv(data)\n",
    "\n",
    "    # drop junk columns\n",
    "    for column in cols_to_drop:\n",
    "        data_frame = data_frame.drop(column, axis=1)\n",
    "\n",
    "    # check for null values\n",
    "    for value in data_frame.columns.values:\n",
    "        sum_nulls = data_frame[value].isna().any().sum()\n",
    "    if sum_nulls == 0:\n",
    "        pass\n",
    "    else:\n",
    "        print(\"There are null values.\")\n",
    "\n",
    "    # create dummies\n",
    "    species_dummies = pd.get_dummies(data_frame[\"TreeSpecie\"])\n",
    "\n",
    "    # join old dataframe with dummies and drop `TreeSpecie` column\n",
    "    new_data_frame = data_frame.join(species_dummies)\n",
    "    new_data_frame = new_data_frame.drop(\"TreeSpecie\", axis=1)\n",
    "\n",
    "    # clean columns\n",
    "    new_data_frame = new_data_frame[new_data_frame[\"TreeDia\"] != \"---\"]\n",
    "    new_data_frame = new_data_frame[new_data_frame[\"TreeDist\"] != \"---\"]\n",
    "    new_data_frame = new_data_frame[new_data_frame[\"TreeDist\"] != \"3?\"]\n",
    "\n",
    "    # split data\n",
    "    x_vals = [\"TreeDia\", \"TreeDist\"]\n",
    "    y_vals = [target]\n",
    "\n",
    "    X = new_data_frame[x_vals]\n",
    "    y = new_data_frame[y_vals].values.ravel()\n",
    "\n",
    "    X_train, X_test, y_train, y_test = train_test_split(\n",
    "        X, y, train_size=0.7, random_state=1\n",
    "    )\n",
    "\n",
    "    sc = StandardScaler()\n",
    "    sc.fit(X_train)\n",
    "    X_train_std = sc.transform(X_train)\n",
    "    X_test_std = sc.transform(X_test)\n",
    "\n",
    "    X_combined_std = np.vstack((X_train_std, X_test_std))\n",
    "    y_combined = np.hstack((y_train, y_test))\n",
    "\n",
    "    # build Logistic Classifier model\n",
    "    lr = LogisticRegression(\n",
    "        random_state=1, multi_class=\"ovr\").fit(X_train, y_train)\n",
    "\n",
    "    cm = confusion_matrix(y, lr.predict(X))\n",
    "\n",
    "    dr = plot_decision_regions(X=X_combined_std, y=y_combined, classifier=lr)\n",
    "\n",
    "    return print(\n",
    "        \"True Negatives:\",\n",
    "        cm[0, 0],\n",
    "        \"\\nFalse Negatives:\",\n",
    "        cm[-1, 0],\n",
    "        \"\\n\\nFlase Positives:\",\n",
    "        cm[0, 1],\n",
    "        \"\\nTrue Positives:\",\n",
    "        cm[1, -1],\n",
    "    )"
   ]
  },
  {
   "cell_type": "code",
   "execution_count": 27,
   "metadata": {
    "ExecuteTime": {
     "end_time": "2020-11-06T19:03:16.390546Z",
     "start_time": "2020-11-06T19:03:15.786352Z"
    },
    "code_folding": [
     0
    ]
   },
   "outputs": [
    {
     "name": "stdout",
     "output_type": "stream",
     "text": [
      "True Negatives: 11780 \n",
      "False Negatives: 7436 \n",
      "\n",
      "Flase Positives: 417 \n",
      "True Positives: 519\n"
     ]
    },
    {
     "data": {
      "text/plain": [
       "<matplotlib.legend.Legend at 0x2627b71a588>"
      ]
     },
     "execution_count": 27,
     "metadata": {},
     "output_type": "execute_result"
    },
    {
     "data": {
      "image/png": "[encoded data removed]",
      "text/plain": [
       "<Figure size 432x288 with 1 Axes>"
      ]
     },
     "metadata": {
      "needs_background": "light"
     },
     "output_type": "display_data"
    }
   ],
   "source": [
    "# automated logistic regression\n",
    "tree_pred_binary_log(\n",
    "    data=\"./Data/corner_trees.csv\", cols_to_drop=[\"OID\", \"IDTRSD\"], target=\"PINE\")\n",
    "\n",
    "plt.xlabel(\"Tree Diameter [standardized]\")\n",
    "plt.ylabel(\"Tree Distance [standardized]\")\n",
    "#plt.xlim(-2,4)\n",
    "#plt.ylim(0,5)\n",
    "plt.tight_layout()\n",
    "plt.legend()"
   ]
  },
  {
   "cell_type": "markdown",
   "metadata": {},
   "source": [
    "***"
   ]
  },
  {
   "cell_type": "markdown",
   "metadata": {},
   "source": [
    "## Binary Classification using RandomForestClassifier and StackingClassifier"
   ]
  },
  {
   "cell_type": "markdown",
   "metadata": {},
   "source": [
    "Next, let's try to use RandomForestClassifier.  This model utilizes numerous decision trees specified by the user to average values together to improve scores.  \n",
    "\n",
    "This model, due to it's goal of improving scores, might be able to classify values better.\n",
    "\n",
    "First, we will set up the model."
   ]
  },
  {
   "cell_type": "code",
   "execution_count": 32,
   "metadata": {
    "ExecuteTime": {
     "end_time": "2020-11-06T19:03:16.546543Z",
     "start_time": "2020-11-06T19:03:16.393542Z"
    }
   },
   "outputs": [],
   "source": [
    "from sklearn.svm import LinearSVC\n",
    "from sklearn.ensemble import RandomForestClassifier, StackingClassifier\n",
    "from sklearn.pipeline import make_pipeline"
   ]
  },
  {
   "cell_type": "markdown",
   "metadata": {},
   "source": [
    "After we find the best model, we can build another RandomForestClassifier model using features from that model."
   ]
  },
  {
   "cell_type": "code",
   "execution_count": 34,
   "metadata": {
    "code_folding": []
   },
   "outputs": [],
   "source": [
    "estimators = [\n",
    "    ('rf', RandomForestClassifier(n_estimators=10, random_state=1)),\n",
    "    ('svr', make_pipeline(StandardScaler(),\n",
    "                         LinearSVC(random_state=1, max_iter = 100000)))\n",
    "]\n",
    "\n",
    "clf = StackingClassifier(\n",
    "    estimators=estimators,\n",
    "    final_estimator=LogisticRegression()\n",
    ").fit(X_train, y_train)"
   ]
  },
  {
   "cell_type": "markdown",
   "metadata": {},
   "source": [
    "After the model has been fit, we can check to see how well it performed with a confusion matrix."
   ]
  },
  {
   "cell_type": "code",
   "execution_count": 25,
   "metadata": {
    "ExecuteTime": {
     "end_time": "2020-11-06T19:03:24.017356Z",
     "start_time": "2020-11-06T19:03:22.465475Z"
    },
    "code_folding": [
     0
    ],
    "scrolled": true
   },
   "outputs": [
    {
     "data": {
      "text/plain": [
       "array([[12795,     8],\n",
       "       [ 7328,    21]], dtype=int64)"
      ]
     },
     "execution_count": 25,
     "metadata": {},
     "output_type": "execute_result"
    }
   ],
   "source": [
    "# build confusion matrix\n",
    "confusion_matrix(y, rfc.predict(X))"
   ]
  },
  {
   "cell_type": "code",
   "execution_count": 26,
   "metadata": {
    "ExecuteTime": {
     "end_time": "2020-11-06T19:03:25.866676Z",
     "start_time": "2020-11-06T19:03:24.021325Z"
    },
    "code_folding": [
     0
    ],
    "scrolled": false
   },
   "outputs": [
    {
     "data": {
      "text/plain": [
       "<matplotlib.axes._subplots.AxesSubplot at 0x25dabac2b88>"
      ]
     },
     "execution_count": 26,
     "metadata": {},
     "output_type": "execute_result"
    },
    {
     "data": {
      "image/png": "[encoded data removed]",
      "text/plain": [
       "<Figure size 432x288 with 2 Axes>"
      ]
     },
     "metadata": {
      "needs_background": "light"
     },
     "output_type": "display_data"
    }
   ],
   "source": [
    "# Build confusion_matrix object\n",
    "cm = confusion_matrix(y, rfc.predict(X))\n",
    "\n",
    "# Plot confusion_matrix\n",
    "sns.heatmap(cm, annot=True, fmt=\"d\")"
   ]
  },
  {
   "cell_type": "markdown",
   "metadata": {},
   "source": [
    "The confusion matrix shows us:\n",
    "\n",
    "- 12795 true negative predictions.  The model predicted the first 12795 zeros (0) correctly.\n",
    "- 7328 false negative predictions.  The model predicted zeros (0) wrong 7328 times.\n",
    "- 8 false positive prediction.  The model predicted zero (0) wrong 8 times.\n",
    "- 21 true positive prediction.  The model predicted one (1) correctly 21 times.\n",
    "\n",
    "Let's plot data against the decision boundaries."
   ]
  },
  {
   "cell_type": "code",
   "execution_count": 27,
   "metadata": {
    "ExecuteTime": {
     "end_time": "2020-11-06T19:03:50.299877Z",
     "start_time": "2020-11-06T19:03:25.869683Z"
    },
    "code_folding": [],
    "scrolled": true
   },
   "outputs": [
    {
     "data": {
      "text/plain": [
       "<matplotlib.legend.Legend at 0x25dabc8a2c8>"
      ]
     },
     "execution_count": 27,
     "metadata": {},
     "output_type": "execute_result"
    },
    {
     "data": {
      "image/png": "[encoded data removed]",
      "text/plain": [
       "<Figure size 432x288 with 1 Axes>"
      ]
     },
     "metadata": {
      "needs_background": "light"
     },
     "output_type": "display_data"
    }
   ],
   "source": [
    "# plot decision regions\n",
    "plot_decision_regions(X=X_combined_std, y=y_combined, classifier=rfc)\n",
    "\n",
    "plt.xlabel(\"Tree Diameter [standardized]\")\n",
    "plt.ylabel(\"Tree Distance [standardized]\")\n",
    "#plt.xlim(-2,4)\n",
    "#plt.ylim(0,5)\n",
    "plt.tight_layout()\n",
    "plt.legend()"
   ]
  },
  {
   "cell_type": "markdown",
   "metadata": {},
   "source": [
    "## Automated Binary Classification using RandomForestClassifier"
   ]
  },
  {
   "cell_type": "code",
   "execution_count": 28,
   "metadata": {
    "code_folding": [
     0
    ]
   },
   "outputs": [],
   "source": [
    "def tree_pred_binary_neighbors(data, cols_to_drop, target, estimators, depth):\n",
    "    \"\"\"\n",
    "    Inputs\n",
    "    ------\n",
    "    data : data file\n",
    "    cols_to_drop : columns to drop\n",
    "    target : target tree to predict\n",
    "    estimators : array of values for estimators\n",
    "    depth : array of values for depth\n",
    "    \n",
    "    Output\n",
    "    ------\n",
    "    cm : confusion_matrix\n",
    "    plot_decision_regions() : plot results\n",
    "    \"\"\"\n",
    "\n",
    "    # read data\n",
    "    data_frame = pd.read_csv(data)\n",
    "\n",
    "    # drop junk columns\n",
    "    for column in cols_to_drop:\n",
    "        data_frame = data_frame.drop(column, axis=1)\n",
    "\n",
    "    # check for null values\n",
    "    for value in data_frame.columns.values:\n",
    "        sum_nulls = data_frame[value].isna().any().sum()\n",
    "    if sum_nulls == 0:\n",
    "        pass\n",
    "    else:\n",
    "        print(\"There are null values.\")\n",
    "\n",
    "    # create dummies\n",
    "    species_dummies = pd.get_dummies(data_frame[\"TreeSpecie\"])\n",
    "\n",
    "    # join old dataframe with dummies and drop `TreeSpecie` column\n",
    "    new_data_frame = data_frame.join(species_dummies)\n",
    "    new_data_frame = new_data_frame.drop(\"TreeSpecie\", axis=1)\n",
    "\n",
    "    # clean columns\n",
    "    new_data_frame = new_data_frame[new_data_frame[\"TreeDia\"] != \"---\"]\n",
    "    new_data_frame = new_data_frame[new_data_frame[\"TreeDist\"] != \"---\"]\n",
    "    new_data_frame = new_data_frame[new_data_frame[\"TreeDist\"] != \"3?\"]\n",
    "\n",
    "    # split data\n",
    "    x_vals = [\"TreeDia\", \"TreeDist\"]\n",
    "    y_vals = [target]\n",
    "\n",
    "    X = new_data_frame[x_vals]\n",
    "    y = new_data_frame[y_vals].values.ravel()\n",
    "\n",
    "    X_train, X_test, y_train, y_test = train_test_split(\n",
    "        X, y, train_size=0.7, random_state=1\n",
    "    )\n",
    "\n",
    "    sc = StandardScaler()\n",
    "    sc.fit(X_train)\n",
    "    X_train_std = sc.transform(X_train)\n",
    "    X_test_std = sc.transform(X_test)\n",
    "\n",
    "    X_combined_std = np.vstack((X_train_std, X_test_std))\n",
    "    y_combined = np.hstack((y_train, y_test))\n",
    "\n",
    "    # Find best model\n",
    "    rfc = RandomForestClassifier()\n",
    "\n",
    "    parameters = {\n",
    "        \"n_estimators\": [e for e in estimators],\n",
    "        \"max_depth\" : [d for d in depth],\n",
    "        \"n_jobs\" : [-1],\n",
    "    }\n",
    "\n",
    "    grid_search = GridSearchCV(rfc, parameters).fit(X_train, y_train)\n",
    "\n",
    "    grid_search_data = pd.DataFrame(grid_search.cv_results_)\n",
    "\n",
    "    best_model = grid_search_data.loc[:\"mean_test_score\"].max()\n",
    "\n",
    "    # build best model\n",
    "    best_rfc = RandomForestClassifier(\n",
    "        n_estimators = best_model.param_n_estimators.astype(int),\n",
    "        max_depth = best_model.param_max_depth,\n",
    "        n_jobs = best_model.param_n_jobs,\n",
    "    ).fit(X_train, y_train)\n",
    "\n",
    "    cm = confusion_matrix(y, best_rfc.predict(X))\n",
    "\n",
    "    dr = plot_decision_regions(\n",
    "        X=X_combined_std, y=y_combined, classifier=best_rfc)\n",
    "\n",
    "    return best_model, print(\n",
    "        \"True Negatives:\",\n",
    "        cm[0, 0],\n",
    "        \"\\nFalse Negatives:\",\n",
    "        cm[-1, 0],\n",
    "        \"\\n\\nFlase Positives:\",\n",
    "        cm[0, 1],\n",
    "        \"\\nTrue Positives:\",\n",
    "        cm[1, -1],\n",
    "    )"
   ]
  },
  {
   "cell_type": "code",
   "execution_count": 44,
   "metadata": {},
   "outputs": [],
   "source": [
    "#tree_pred_binary_neighbors(data = \"./Data/corner_trees.csv\",\n",
    "#                           cols_to_drop = [\"OID\", \"IDTRSD\"],\n",
    "#                           target=\"FIR\",\n",
    "#                           estimators = np.arange(1, 10),\n",
    "#                           depth = np.arange(1, 5))"
   ]
  },
  {
   "cell_type": "markdown",
   "metadata": {},
   "source": [
    "This is just practice for setting up automation of machine learning models.  I am not sure what is causing this error or how to fix it, but it provides a project for me to look into.  When running the cell above a `ValueError` is raised. Here is the error message: \n",
    "> ValueError: Stop argument for islice() must be None or an integer: 0 <= x <= sys.maxsize."
   ]
  },
  {
   "cell_type": "markdown",
   "metadata": {
    "ExecuteTime": {
     "end_time": "2020-11-05T23:40:37.596728Z",
     "start_time": "2020-11-05T23:40:37.587685Z"
    }
   },
   "source": [
    "***"
   ]
  },
  {
   "cell_type": "markdown",
   "metadata": {},
   "source": [
    "## Extra: Binary Classification using KNeighborsClassifier"
   ]
  },
  {
   "cell_type": "code",
   "execution_count": 30,
   "metadata": {
    "ExecuteTime": {
     "end_time": "2020-11-06T19:04:20.489425Z",
     "start_time": "2020-11-06T19:04:20.477427Z"
    }
   },
   "outputs": [],
   "source": [
    "from sklearn.neighbors import KNeighborsClassifier"
   ]
  },
  {
   "cell_type": "code",
   "execution_count": 31,
   "metadata": {
    "ExecuteTime": {
     "end_time": "2020-11-06T19:04:20.505426Z",
     "start_time": "2020-11-06T19:04:20.493431Z"
    }
   },
   "outputs": [],
   "source": [
    "knn = KNeighborsClassifier()"
   ]
  },
  {
   "cell_type": "code",
   "execution_count": 32,
   "metadata": {
    "ExecuteTime": {
     "end_time": "2020-11-06T19:04:20.521429Z",
     "start_time": "2020-11-06T19:04:20.509428Z"
    }
   },
   "outputs": [],
   "source": [
    "parameters = {\n",
    "    \"n_neighbors\": [1, 2, 3, 4, 5, 6, 7, 8, 100],\n",
    "    \"weights\": (\"uniform\", \"distance\"),\n",
    "    \"n_jobs\": [-1],\n",
    "}"
   ]
  },
  {
   "cell_type": "code",
   "execution_count": 33,
   "metadata": {
    "ExecuteTime": {
     "end_time": "2020-11-06T19:04:33.672457Z",
     "start_time": "2020-11-06T19:04:20.526425Z"
    },
    "scrolled": true
   },
   "outputs": [],
   "source": [
    "grid_search = GridSearchCV(knn, parameters).fit(X_train, y_train)"
   ]
  },
  {
   "cell_type": "code",
   "execution_count": 34,
   "metadata": {
    "ExecuteTime": {
     "end_time": "2020-11-06T19:04:33.687457Z",
     "start_time": "2020-11-06T19:04:33.674455Z"
    }
   },
   "outputs": [],
   "source": [
    "grid_search_data = pd.DataFrame(grid_search.cv_results_)"
   ]
  },
  {
   "cell_type": "code",
   "execution_count": 35,
   "metadata": {
    "ExecuteTime": {
     "end_time": "2020-11-06T19:04:33.718457Z",
     "start_time": "2020-11-06T19:04:33.691458Z"
    }
   },
   "outputs": [
    {
     "data": {
      "text/plain": [
       "mean_fit_time         0.0185695\n",
       "std_fit_time         0.00720979\n",
       "mean_score_time        0.293909\n",
       "std_score_time        0.0821488\n",
       "param_n_jobs                 -1\n",
       "param_n_neighbors           100\n",
       "param_weights           uniform\n",
       "split0_test_score      0.639617\n",
       "split1_test_score      0.632045\n",
       "split2_test_score      0.626728\n",
       "split3_test_score      0.632754\n",
       "split4_test_score      0.636654\n",
       "mean_test_score         0.63356\n",
       "std_test_score       0.00713248\n",
       "rank_test_score              17\n",
       "dtype: object"
      ]
     },
     "execution_count": 35,
     "metadata": {},
     "output_type": "execute_result"
    }
   ],
   "source": [
    "best_model = grid_search_data.loc[:\"mean_test_score\"].max()\n",
    "best_model"
   ]
  },
  {
   "cell_type": "code",
   "execution_count": 36,
   "metadata": {
    "ExecuteTime": {
     "end_time": "2020-11-06T19:04:33.750457Z",
     "start_time": "2020-11-06T19:04:33.722461Z"
    }
   },
   "outputs": [],
   "source": [
    "best_knn = KNeighborsClassifier(\n",
    "    n_jobs=best_model.param_n_jobs,\n",
    "    n_neighbors=best_model.param_n_neighbors,\n",
    "    weights=best_model.param_weights,\n",
    ").fit(X_train, y_train)"
   ]
  },
  {
   "cell_type": "code",
   "execution_count": 37,
   "metadata": {
    "ExecuteTime": {
     "end_time": "2020-11-06T19:04:35.359460Z",
     "start_time": "2020-11-06T19:04:33.753456Z"
    }
   },
   "outputs": [
    {
     "data": {
      "text/plain": [
       "array([[12430,   373],\n",
       "       [ 6981,   368]], dtype=int64)"
      ]
     },
     "execution_count": 37,
     "metadata": {},
     "output_type": "execute_result"
    }
   ],
   "source": [
    "confusion_matrix(y, best_knn.predict(X))"
   ]
  },
  {
   "cell_type": "code",
   "execution_count": 38,
   "metadata": {
    "ExecuteTime": {
     "end_time": "2020-11-06T19:04:36.858658Z",
     "start_time": "2020-11-06T19:04:35.362462Z"
    },
    "code_folding": []
   },
   "outputs": [
    {
     "data": {
      "text/plain": [
       "<matplotlib.axes._subplots.AxesSubplot at 0x25dabcfcd88>"
      ]
     },
     "execution_count": 38,
     "metadata": {},
     "output_type": "execute_result"
    },
    {
     "data": {
      "image/png": "[encoded data removed]",
      "text/plain": [
       "<Figure size 432x288 with 2 Axes>"
      ]
     },
     "metadata": {
      "needs_background": "light"
     },
     "output_type": "display_data"
    }
   ],
   "source": [
    "# Build confusion_matrix object\n",
    "cm = confusion_matrix(y, best_knn.predict(X))\n",
    "\n",
    "# Plot confusion_matrix\n",
    "sns.heatmap(cm, annot=True, fmt=\"d\")"
   ]
  },
  {
   "cell_type": "code",
   "execution_count": 39,
   "metadata": {
    "ExecuteTime": {
     "end_time": "2020-11-06T19:05:18.065716Z",
     "start_time": "2020-11-06T19:04:36.860613Z"
    },
    "scrolled": false
   },
   "outputs": [
    {
     "data": {
      "text/plain": [
       "<matplotlib.legend.Legend at 0x25dabba56c8>"
      ]
     },
     "execution_count": 39,
     "metadata": {},
     "output_type": "execute_result"
    },
    {
     "data": {
      "image/png": "[encoded data removed]",
      "text/plain": [
       "<Figure size 432x288 with 1 Axes>"
      ]
     },
     "metadata": {
      "needs_background": "light"
     },
     "output_type": "display_data"
    }
   ],
   "source": [
    "plot_decision_regions(X=X_combined_std, y=y_combined, classifier=best_knn)\n",
    "\n",
    "plt.xlabel(\"Tree Diameter [standardized]\")\n",
    "plt.ylabel(\"Tree Distance [standardized]\")\n",
    "#plt.xlim(-2,4)\n",
    "#plt.ylim(0,5)\n",
    "plt.tight_layout()\n",
    "plt.legend(loc=\"upper right\")"
   ]
  },
  {
   "cell_type": "markdown",
   "metadata": {},
   "source": [
    "***"
   ]
  },
  {
   "cell_type": "markdown",
   "metadata": {},
   "source": [
    "## Model Explanation"
   ]
  },
  {
   "cell_type": "markdown",
   "metadata": {},
   "source": [
    "Neither model here resulted in a strong classification model as seen on the decision_regions plots. Looking at the confusion matrices, there are many values that are misclassified. This is most likely due to the lack of features.  I would likely recommend a Decision Tree classifier, utilizing grid search to find the right model or using a data set with more variables."
   ]
  },
  {
   "cell_type": "markdown",
   "metadata": {},
   "source": [
    "## Reflection"
   ]
  },
  {
   "cell_type": "markdown",
   "metadata": {},
   "source": [
    "1. Classification is fun to work with. I attempted to automate a few models with GridSearchCV and will continue to play with that.\n",
    "2. Thanks to this project, I have been able to work on memorizing how to build classification models and working with hyperparameters.  \n",
    "3. Understanding how to plot decision region plots, even if code comes from another source."
   ]
  },
  {
   "cell_type": "markdown",
   "metadata": {},
   "source": [
    "## Questions"
   ]
  },
  {
   "cell_type": "markdown",
   "metadata": {},
   "source": [
    "1. What variables could be added to improve the model?\n",
    "2. Would a Decision Tree Classifier model improve the classification of this data?\n",
    "3. Automation obviously makes life easier, but is it always better than writing models by hand?"
   ]
  },
  {
   "cell_type": "markdown",
   "metadata": {},
   "source": [
    "***"
   ]
  },
  {
   "cell_type": "markdown",
   "metadata": {
    "ExecuteTime": {
     "end_time": "2020-11-06T18:31:40.052397Z",
     "start_time": "2020-11-06T18:31:40.039399Z"
    }
   },
   "source": [
    "## Extra: Automated Binary Classification using KNeighborsClassifier"
   ]
  },
  {
   "cell_type": "code",
   "execution_count": 38,
   "metadata": {},
   "outputs": [],
   "source": [
    "from sklearn.neighbors import KNeighborsClassifier"
   ]
  },
  {
   "cell_type": "code",
   "execution_count": 39,
   "metadata": {
    "ExecuteTime": {
     "end_time": "2020-11-06T19:05:18.095718Z",
     "start_time": "2020-11-06T19:05:18.068723Z"
    },
    "code_folding": [
     0
    ]
   },
   "outputs": [],
   "source": [
    "def tree_pred_binary_neighbors(data, cols_to_drop, target, neighbors):\n",
    "    \"\"\"\n",
    "    Inputs\n",
    "    ------\n",
    "    data : data file\n",
    "    cols_to_drop : columns to drop\n",
    "    target : target tree to predict\n",
    "    neighbors : max range of n_neighbors to build a model on\n",
    "\n",
    "    Output\n",
    "    ------\n",
    "    cm : confusion_matrix\n",
    "    plot_decision_regions() : plot results\n",
    "    \"\"\"\n",
    "\n",
    "    # read data\n",
    "    data_frame = pd.read_csv(data)\n",
    "\n",
    "    # drop junk columns\n",
    "    for column in cols_to_drop:\n",
    "        data_frame = data_frame.drop(column, axis=1)\n",
    "\n",
    "    # check for null values\n",
    "    for value in data_frame.columns.values:\n",
    "        sum_nulls = data_frame[value].isna().any().sum()\n",
    "    if sum_nulls == 0:\n",
    "        pass\n",
    "    else:\n",
    "        print(\"There are null values.\")\n",
    "\n",
    "    # create dummies\n",
    "    species_dummies = pd.get_dummies(data_frame[\"TreeSpecie\"])\n",
    "\n",
    "    # join old dataframe with dummies and drop `TreeSpecie` column\n",
    "    new_data_frame = data_frame.join(species_dummies)\n",
    "    new_data_frame = new_data_frame.drop(\"TreeSpecie\", axis=1)\n",
    "\n",
    "    # clean columns\n",
    "    new_data_frame = new_data_frame[new_data_frame[\"TreeDia\"] != \"---\"]\n",
    "    new_data_frame = new_data_frame[new_data_frame[\"TreeDist\"] != \"---\"]\n",
    "    new_data_frame = new_data_frame[new_data_frame[\"TreeDist\"] != \"3?\"]\n",
    "\n",
    "    # split data\n",
    "    x_vals = [\"TreeDia\", \"TreeDist\"]\n",
    "    y_vals = [target]\n",
    "\n",
    "    X = new_data_frame[x_vals]\n",
    "    y = new_data_frame[y_vals].values.ravel()\n",
    "\n",
    "    X_train, X_test, y_train, y_test = train_test_split(\n",
    "        X, y, train_size=0.7, random_state=1\n",
    "    )\n",
    "\n",
    "    sc = StandardScaler()\n",
    "    sc.fit(X_train)\n",
    "    X_train_std = sc.transform(X_train)\n",
    "    X_test_std = sc.transform(X_test)\n",
    "\n",
    "    X_combined_std = np.vstack((X_train_std, X_test_std))\n",
    "    y_combined = np.hstack((y_train, y_test))\n",
    "\n",
    "    # Find best model\n",
    "    knn = KNeighborsClassifier()\n",
    "\n",
    "    parameters = {\n",
    "        \"n_neighbors\": [n for n in neighbors],\n",
    "        \"weights\": (\"uniform\", \"distance\"),\n",
    "        \"n_jobs\": [-1],\n",
    "    }\n",
    "\n",
    "    grid_search = GridSearchCV(knn, parameters).fit(X_train, y_train)\n",
    "\n",
    "    grid_search_data = pd.DataFrame(grid_search.cv_results_)\n",
    "\n",
    "    best_model = grid_search_data.loc[:\"mean_test_score\"].max()\n",
    "\n",
    "    # build best model\n",
    "    best_knn = KNeighborsClassifier(\n",
    "        n_jobs=best_model.param_n_jobs,\n",
    "        n_neighbors=best_model.param_n_neighbors,\n",
    "        weights=best_model.param_weights,\n",
    "    ).fit(X_train, y_train)\n",
    "\n",
    "    cm = confusion_matrix(y, best_knn.predict(X))\n",
    "\n",
    "    dr = plot_decision_regions(\n",
    "        X=X_combined_std, y=y_combined, classifier=best_knn)\n",
    "\n",
    "    return best_model, print(\n",
    "        \"True Negatives:\",\n",
    "        cm[0, 0],\n",
    "        \"\\nFalse Negatives:\",\n",
    "        cm[-1, 0],\n",
    "        \"\\n\\nFlase Positives:\",\n",
    "        cm[0, 1],\n",
    "        \"\\nTrue Positives:\",\n",
    "        cm[1, -1],\n",
    "    )"
   ]
  },
  {
   "cell_type": "code",
   "execution_count": 40,
   "metadata": {
    "ExecuteTime": {
     "end_time": "2020-11-06T19:07:10.499585Z",
     "start_time": "2020-11-06T19:05:18.097718Z"
    },
    "code_folding": [],
    "scrolled": false
   },
   "outputs": [
    {
     "name": "stdout",
     "output_type": "stream",
     "text": [
      "True Negatives: 11094 \n",
      "False Negatives: 6406 \n",
      "\n",
      "Flase Positives: 1103 \n",
      "True Positives: 1549\n"
     ]
    },
    {
     "data": {
      "text/plain": [
       "<matplotlib.legend.Legend at 0x26276c1df08>"
      ]
     },
     "execution_count": 40,
     "metadata": {},
     "output_type": "execute_result"
    },
    {
     "data": {
      "image/png": "[encoded data removed]",
      "text/plain": [
       "<Figure size 432x288 with 1 Axes>"
      ]
     },
     "metadata": {
      "needs_background": "light"
     },
     "output_type": "display_data"
    }
   ],
   "source": [
    "tree_pred_binary_neighbors(\n",
    "    data=\"./Data/corner_trees.csv\",\n",
    "    cols_to_drop=[\"OID\", \"IDTRSD\"],\n",
    "    target=\"PINE\",\n",
    "    neighbors=np.arange(1, 100),\n",
    ")\n",
    "\n",
    "plt.xlabel(\"Tree Diameter [standardized]\")\n",
    "plt.ylabel(\"Tree Distance [standardized]\")\n",
    "#plt.xlim(-2,4)\n",
    "#plt.ylim(0,5)\n",
    "plt.tight_layout()\n",
    "plt.legend(loc=\"upper right\")"
   ]
  },
  {
   "cell_type": "markdown",
   "metadata": {},
   "source": [
    "***"
   ]
  },
  {
   "cell_type": "markdown",
   "metadata": {},
   "source": [
    "## Acknowledgments"
   ]
  },
  {
   "cell_type": "markdown",
   "metadata": {},
   "source": [
    "Dr. Penland guided me to use Binary Classification."
   ]
  },
  {
   "cell_type": "markdown",
   "metadata": {},
   "source": [
    "## References"
   ]
  },
  {
   "cell_type": "markdown",
   "metadata": {
    "ExecuteTime": {
     "end_time": "2020-11-03T22:29:24.574605Z",
     "start_time": "2020-11-03T22:29:24.557418Z"
    }
   },
   "source": [
    "[Binary Classification](https://stackabuse.com/classification-in-python-with-scikit-learn-and-pandas/#:~:text=%20Binary%20Classification%20%201%20Logistic%20Regression.%20Logistic,fit%20multiple%20Decision%20Trees%20on%20subsets...%20More%20)"
   ]
  },
  {
   "cell_type": "markdown",
   "metadata": {},
   "source": [
    "Powell, David C.; Hanberry, Brice B. 2020. Historical tree surveys of the Umatilla National Forest. Fort Collins, CO: Forest Service Research Data Archive. https://doi.org/10.2737/RDS-2020-0051\n",
    "\n",
    "Raschka, S. and Mirjalili, V., 2019. Python Machine Learning. 3rd ed. Birmingham, UK: Packt.\n"
   ]
  }
 ],
 "metadata": {
  "kernelspec": {
   "display_name": "Python 3",
   "language": "python",
   "name": "python3"
  },
  "language_info": {
   "codemirror_mode": {
    "name": "ipython",
    "version": 3
   },
   "file_extension": ".py",
   "mimetype": "text/x-python",
   "name": "python",
   "nbconvert_exporter": "python",
   "pygments_lexer": "ipython3",
   "version": "3.7.9"
  },
  "notify_time": "5",
  "toc": {
   "base_numbering": 1,
   "nav_menu": {},
   "number_sections": true,
   "sideBar": false,
   "skip_h1_title": true,
   "title_cell": "Table of Contents",
   "title_sidebar": "Contents",
   "toc_cell": true,
   "toc_position": {},
   "toc_section_display": true,
   "toc_window_display": false
  }
 },
 "nbformat": 4,
 "nbformat_minor": 4
}
