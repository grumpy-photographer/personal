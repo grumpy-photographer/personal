{
 "cells": [
  {
   "cell_type": "markdown",
   "metadata": {
    "toc": true
   },
   "source": [
    "<h1>Table of Contents<span class=\"tocSkip\"></span></h1>\n",
    "<div class=\"toc\"><ul class=\"toc-item\"><li><span><a href=\"#The-three-different-types-of-machine-learning\" data-toc-modified-id=\"The-three-different-types-of-machine-learning-1\"><span class=\"toc-item-num\">1&nbsp;&nbsp;</span>The three different types of machine learning</a></span></li><li><span><a href=\"#Making-predictions-about-the-future-with-supervised-learning\" data-toc-modified-id=\"Making-predictions-about-the-future-with-supervised-learning-2\"><span class=\"toc-item-num\">2&nbsp;&nbsp;</span>Making predictions about the future with supervised learning</a></span><ul class=\"toc-item\"><li><span><a href=\"#Classification-for-predicting-class-labels\" data-toc-modified-id=\"Classification-for-predicting-class-labels-2.1\"><span class=\"toc-item-num\">2.1&nbsp;&nbsp;</span>Classification for predicting class labels</a></span></li><li><span><a href=\"#Regression-for-predicting-continuous-outcomes\" data-toc-modified-id=\"Regression-for-predicting-continuous-outcomes-2.2\"><span class=\"toc-item-num\">2.2&nbsp;&nbsp;</span>Regression for predicting continuous outcomes</a></span></li><li><span><a href=\"#Solving-interactive-problems-with-reinforcement-learning\" data-toc-modified-id=\"Solving-interactive-problems-with-reinforcement-learning-2.3\"><span class=\"toc-item-num\">2.3&nbsp;&nbsp;</span>Solving interactive problems with reinforcement learning</a></span></li></ul></li><li><span><a href=\"#Discovering-hidden-structures-with-unsupervised-learning\" data-toc-modified-id=\"Discovering-hidden-structures-with-unsupervised-learning-3\"><span class=\"toc-item-num\">3&nbsp;&nbsp;</span>Discovering hidden structures with unsupervised learning</a></span><ul class=\"toc-item\"><li><span><a href=\"#Finding-subgroups-with-clustering\" data-toc-modified-id=\"Finding-subgroups-with-clustering-3.1\"><span class=\"toc-item-num\">3.1&nbsp;&nbsp;</span>Finding subgroups with clustering</a></span></li><li><span><a href=\"#Dimensionality-reduction-for-data-comprehension\" data-toc-modified-id=\"Dimensionality-reduction-for-data-comprehension-3.2\"><span class=\"toc-item-num\">3.2&nbsp;&nbsp;</span>Dimensionality reduction for data comprehension</a></span></li></ul></li></ul></div>"
   ]
  },
  {
   "cell_type": "markdown",
   "metadata": {},
   "source": [
    "# Chapter 1: Giving Computers the Ability to Learn from Data"
   ]
  },
  {
   "cell_type": "markdown",
   "metadata": {},
   "source": [
    "**Machine Learning**: the application and science of algorithms that make sense of data"
   ]
  },
  {
   "cell_type": "markdown",
   "metadata": {},
   "source": [
    "## The three different types of machine learning"
   ]
  },
  {
   "cell_type": "markdown",
   "metadata": {},
   "source": [
    "- Supervised\n",
    "    - labeled data\n",
    "    - direct feedback\n",
    "    - predict outcome/future\n",
    "\n",
    "- Unsupervised\n",
    "    - no labels\n",
    "    - no feedback\n",
    "    - find hidden structure in data\n",
    "    \n",
    "- Reinforcement\n",
    "    - decision process\n",
    "    - reward system\n",
    "    - learn series of actions\n",
    "    \n",
    "* * *"
   ]
  },
  {
   "cell_type": "markdown",
   "metadata": {},
   "source": [
    "## Making predictions about the future with supervised learning"
   ]
  },
  {
   "cell_type": "markdown",
   "metadata": {},
   "source": [
    "The goal of supervised learning is to learn a model from labeled training data.\n",
    "\n",
    "'Supervised' refers to a set of training data where the desired output signals (labels) are already known.\n",
    "\n",
    "A supervised learning task with discrete class labels is also called a **classifaction task**.\n",
    "\n",
    "A subcategory of supervised learning is **regression**, where the outcome is a continuous value."
   ]
  },
  {
   "cell_type": "markdown",
   "metadata": {},
   "source": [
    "### Classification for predicting class labels"
   ]
  },
  {
   "cell_type": "markdown",
   "metadata": {},
   "source": [
    "The goal is to predict the categorical class labels of new instances, based on past observations.\n",
    "\n",
    "A typical example of **multiclass classification** is handwritten character recognition."
   ]
  },
  {
   "cell_type": "markdown",
   "metadata": {},
   "source": [
    "### Regression for predicting continuous outcomes"
   ]
  },
  {
   "cell_type": "markdown",
   "metadata": {},
   "source": [
    "In regression analysis, we are given a number of predictor (**explanatory**) variables and a continuous response variable (**outcome**) and we try to find a relationship between those variables that allows us to predict an outcome.\n",
    "\n",
    "Note: predictor variables are commonly called \"features\" and the response variables are commonly called \"target variables\". "
   ]
  },
  {
   "cell_type": "markdown",
   "metadata": {},
   "source": [
    "### Solving interactive problems with reinforcement learning"
   ]
  },
  {
   "cell_type": "markdown",
   "metadata": {},
   "source": [
    "In reinforcement learning, the goal is to develop a system (**agent**) that improves its performance based on interactions with the environment.  \n",
    "\n",
    "Since the information about the current state of the environment typically also includes a so-called **reward signal**, we can think of reinforcement learning as a field related to supervised learning.\n",
    "\n",
    "In a game of chess, the reward could be defined as **win** or **lose** at the end of the game.\n",
    "\n",
    "There are many subtypes of reinforcement learning, but a general \"scheme\" is that the agent tries to maximize the reward through a series of interactions with the environment.\n",
    "\n",
    "Reinforcement learning is concerned with learning to choose a series of actions that maximizes the total reward, which could be earned either immediately after taking an action or via *delayed* feedback.\n",
    "\n",
    "* * *"
   ]
  },
  {
   "cell_type": "markdown",
   "metadata": {},
   "source": [
    "## Discovering hidden structures with unsupervised learning"
   ]
  },
  {
   "cell_type": "markdown",
   "metadata": {
    "ExecuteTime": {
     "end_time": "2020-09-09T01:02:49.078245Z",
     "start_time": "2020-09-09T01:02:49.072810Z"
    }
   },
   "source": [
    "### Finding subgroups with clustering"
   ]
  },
  {
   "cell_type": "markdown",
   "metadata": {},
   "source": [
    "**Clustering** is an exploratory data analysis technique that allows us to organize a pile of information into meaningful subgroups (clusters) without having any prior knowledge of their group memberships.\n",
    "\n",
    "Each cluster defines a group of objects that share a certain degree of similarity but are more dissimilar to objects in other clusters.\n",
    "\n",
    "Clustering is sometimes also called **unsupervised classification**."
   ]
  },
  {
   "cell_type": "markdown",
   "metadata": {},
   "source": [
    "### Dimensionality reduction for data comprehension"
   ]
  },
  {
   "cell_type": "markdown",
   "metadata": {},
   "source": [
    "**Dimensionality reduction**\n",
    "\n",
    "- is commonly used in feature preprocessing to remove noise from data which can also degrade the predictive performance of algorithms and compress data into smaller dimensional subspace while retaining most of the relevant info\n",
    "\n",
    "Can be useful for visualizing data"
   ]
  }
 ],
 "metadata": {
  "kernelspec": {
   "display_name": "Python 3",
   "language": "python",
   "name": "python3"
  },
  "language_info": {
   "codemirror_mode": {
    "name": "ipython",
    "version": 3
   },
   "file_extension": ".py",
   "mimetype": "text/x-python",
   "name": "python",
   "nbconvert_exporter": "python",
   "pygments_lexer": "ipython3",
   "version": "3.8.5"
  },
  "toc": {
   "base_numbering": 1,
   "nav_menu": {},
   "number_sections": true,
   "sideBar": false,
   "skip_h1_title": true,
   "title_cell": "Table of Contents",
   "title_sidebar": "Contents",
   "toc_cell": true,
   "toc_position": {},
   "toc_section_display": true,
   "toc_window_display": true
  }
 },
 "nbformat": 4,
 "nbformat_minor": 4
}
