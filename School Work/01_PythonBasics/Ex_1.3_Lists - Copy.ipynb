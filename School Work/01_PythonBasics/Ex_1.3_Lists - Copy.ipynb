{
 "cells": [
  {
   "cell_type": "markdown",
   "metadata": {},
   "source": [
    "# Ex 1.3 Python *Lists*  \n",
    "  \n",
    "- [In Class: Quarterly Sales List ](#In-Class:-Quarterly-Sales-List )  \n",
    "- [In Class: Sorting and Formatting](#In-Class:-Sorting-and-Formatting)  \n",
    "\n",
    "\n",
    "- [Exercise 1.3](#Exercise-1.3)  \n",
    "  - [Part 1: Monthly Sales](#Part-1:-Monthly-Sales)  \n",
    "  - [Part 2: if Statement to Check if Name is in the List](#Part-2:-if-Statement-to-Check-if-Name-is-in-the-List)  \n",
    "  - [Part 3: List of Favorite Fruits](#Part-3:-List-of-Favorite-Fruits)  \n",
    "  - [Part 4: Adding New Names to Employee Names List](#Part-4:-Adding-new-names-to-employee_names-List)"
   ]
  },
  {
   "cell_type": "markdown",
   "metadata": {},
   "source": [
    "# In Class: Quarterly Sales List  \n",
    "In the Code cells below, add the code needed to accomplish the following:\n",
    "\n",
    "1. Declare a List named quarterly_sales and fill it with the following values: 300000, 400000, 1300000, 500000  \n",
    "2. Display the filled List\n",
    "3. Display the first element of the List  \n",
    "4. Display the last element of the List  \n",
    "5. Sum the values in the List and display the sum\n",
    "6. Calculate the average of the values in the List and display it  \n"
   ]
  },
  {
   "cell_type": "code",
   "execution_count": null,
   "metadata": {},
   "outputs": [],
   "source": [
    "# 1. Declare a List named quarterly_sales and fill it with the following values: 300000, 400000, 1300000, 500000\n"
   ]
  },
  {
   "cell_type": "code",
   "execution_count": null,
   "metadata": {},
   "outputs": [],
   "source": [
    "# 2. Display the filled List\n"
   ]
  },
  {
   "cell_type": "code",
   "execution_count": null,
   "metadata": {},
   "outputs": [],
   "source": [
    "# 3. Display the first element of the List\n"
   ]
  },
  {
   "cell_type": "code",
   "execution_count": null,
   "metadata": {},
   "outputs": [],
   "source": [
    "# 4. Display the last element of the List\n"
   ]
  },
  {
   "cell_type": "code",
   "execution_count": null,
   "metadata": {},
   "outputs": [],
   "source": [
    "# 5. Sum the values in the quarterly_sales List and assign the value to a variable named annual_sales\n",
    "\n",
    "\n",
    "# Display the annual_sales value\n"
   ]
  },
  {
   "cell_type": "code",
   "execution_count": null,
   "metadata": {},
   "outputs": [],
   "source": [
    "# 6. Calculate the average sales and display the value\n"
   ]
  },
  {
   "cell_type": "markdown",
   "metadata": {},
   "source": [
    "# In Class: Sorting and Formatting"
   ]
  },
  {
   "cell_type": "markdown",
   "metadata": {},
   "source": [
    "### List of Car Names"
   ]
  },
  {
   "cell_type": "code",
   "execution_count": null,
   "metadata": {},
   "outputs": [],
   "source": [
    "# Create a List named car_names with the following values:  Chevrolet, Ford, Toyota, Honda, Pontiac, BMW\n",
    "\n",
    "\n",
    "# Display the List\n",
    "\n",
    "\n",
    "# Sort the list (descending) \n",
    "\n",
    "\n",
    "# Display the Sorted List\n"
   ]
  },
  {
   "cell_type": "markdown",
   "metadata": {},
   "source": [
    "### List of Temperatures"
   ]
  },
  {
   "cell_type": "code",
   "execution_count": null,
   "metadata": {},
   "outputs": [],
   "source": [
    "# Create a List named temps with the following values:  56, 67, 72, 84, 88, 70\n",
    "\n",
    "\n",
    "# Display the List\n"
   ]
  },
  {
   "cell_type": "code",
   "execution_count": null,
   "metadata": {},
   "outputs": [],
   "source": [
    "# Write code to determine which value is the highest and display it\n",
    "\n"
   ]
  },
  {
   "cell_type": "markdown",
   "metadata": {},
   "source": [
    "# Exercise 1.3  "
   ]
  },
  {
   "cell_type": "markdown",
   "metadata": {},
   "source": [
    "## Part 1: Monthly Sales\n",
    "1. In the cell below, declare a List named **monthly_sales** and fill it with the following values:  \n",
    "3,000  \n",
    "10,000  \n",
    "15,000  \n",
    "20,000  \n",
    "20,000  \n",
    "25,000  \n",
    "22,000  \n",
    "80,000  \n",
    "20,000  \n",
    "20,000  \n",
    "40,000  \n",
    "60,000  \n",
    "\n",
    "2. Display the filled List  \n",
    "3. Sum the values in the List and assign the value to a variable named *annual_sales*. Display this as a formatted dollar amount, with no decimal places\n",
    "4. Calculate the average and display it as a formatted dollar amount, with two decimal places.   \n",
    "5. Sort the List with the highest value first and display the sorted List\n",
    "\n",
    "\n",
    "Note:  I included commas above to make the values more readable, but don't include them in your List values in your code."
   ]
  },
  {
   "cell_type": "code",
   "execution_count": null,
   "metadata": {},
   "outputs": [],
   "source": [
    "# 1. Create a List named monthly_sales\n",
    "\n",
    "\n",
    "# 2. Display the filled List\n"
   ]
  },
  {
   "cell_type": "code",
   "execution_count": null,
   "metadata": {},
   "outputs": [],
   "source": [
    "# 3. Sum the values in the List and assign the value to a variable named *annual_sales*. \n",
    "\n",
    "#   Display this as a formatted dollar amount, with no decimal places\n",
    "\n"
   ]
  },
  {
   "cell_type": "code",
   "execution_count": null,
   "metadata": {},
   "outputs": [],
   "source": [
    "# 4. Calculate the average and display it as a formatted dollar amount, with two decimal places \n",
    "\n"
   ]
  },
  {
   "cell_type": "code",
   "execution_count": null,
   "metadata": {},
   "outputs": [],
   "source": [
    "# 5. Sort the monthly_sales list and display the highest value first in the List\n",
    "\n",
    "\n"
   ]
  },
  {
   "cell_type": "markdown",
   "metadata": {},
   "source": [
    "### Part 2: if Statement to Check if Name is in the List  "
   ]
  },
  {
   "cell_type": "code",
   "execution_count": null,
   "metadata": {},
   "outputs": [],
   "source": [
    "# Hard-code a name that is NOT in the list\n",
    "\n",
    "\n",
    "# Create an if statement to display whether it name_to_check value is in the List or not\n",
    "# If it IS, display: That name IS in the List!\n",
    "# If it is NOT, display: That name IS NOT in the List\n",
    "\n"
   ]
  },
  {
   "cell_type": "code",
   "execution_count": null,
   "metadata": {},
   "outputs": [],
   "source": [
    "# Hard-code a name that IS in the list\n",
    "\n",
    "\n",
    "# Use the same if statement from the preceding code cell:\n",
    "\n"
   ]
  },
  {
   "cell_type": "markdown",
   "metadata": {},
   "source": [
    "### Part 3: List of Favorite Fruits  \n"
   ]
  },
  {
   "cell_type": "code",
   "execution_count": null,
   "metadata": {},
   "outputs": [],
   "source": [
    "# Prompt the user for a fruit that they like\n"
   ]
  },
  {
   "cell_type": "code",
   "execution_count": null,
   "metadata": {},
   "outputs": [],
   "source": [
    "# Declare a list with this fruit as the first element\n",
    "\n",
    "\n",
    "# Display the List of favorite fruits\n"
   ]
  },
  {
   "cell_type": "code",
   "execution_count": null,
   "metadata": {},
   "outputs": [],
   "source": [
    "# Prompt user for a fruit that they like\n",
    "\n",
    "\n",
    "# Add that fruit to the List\n"
   ]
  },
  {
   "cell_type": "code",
   "execution_count": null,
   "metadata": {},
   "outputs": [],
   "source": [
    "# Display the List of favorite fruits\n",
    "\n"
   ]
  },
  {
   "cell_type": "code",
   "execution_count": null,
   "metadata": {},
   "outputs": [],
   "source": [
    "# Sort the List and display it\n",
    "\n",
    "\n"
   ]
  },
  {
   "cell_type": "markdown",
   "metadata": {},
   "source": [
    "### Part 4: Adding new names to employee_names List  \n",
    "1. Create a List named employee_names, with just the following name in it:  *Serena James* \n",
    "2. Display the List\n",
    "3. Add the following names:  John Smith, Fred Martinez, Jane Miguel  \n",
    "4. Display the List"
   ]
  },
  {
   "cell_type": "code",
   "execution_count": null,
   "metadata": {},
   "outputs": [],
   "source": [
    "# 1. Create a List named employee_names, with just the following name in it:  Serena James \n"
   ]
  },
  {
   "cell_type": "code",
   "execution_count": null,
   "metadata": {},
   "outputs": [],
   "source": [
    "# 2. Display the employee_names List\n"
   ]
  },
  {
   "cell_type": "code",
   "execution_count": null,
   "metadata": {},
   "outputs": [],
   "source": [
    "# 3. Add the following names:  John Smith, Fred Martinez, Jane Miguel \n"
   ]
  },
  {
   "cell_type": "code",
   "execution_count": null,
   "metadata": {},
   "outputs": [],
   "source": [
    "# 4. Display the employee_names List\n"
   ]
  }
 ],
 "metadata": {
  "kernelspec": {
   "display_name": "Python 3",
   "language": "python",
   "name": "python3"
  },
  "language_info": {
   "codemirror_mode": {
    "name": "ipython",
    "version": 3
   },
   "file_extension": ".py",
   "mimetype": "text/x-python",
   "name": "python",
   "nbconvert_exporter": "python",
   "pygments_lexer": "ipython3",
   "version": "3.6.4"
  }
 },
 "nbformat": 4,
 "nbformat_minor": 2
}
