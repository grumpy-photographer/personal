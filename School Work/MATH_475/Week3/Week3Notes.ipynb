{
 "cells": [
  {
   "cell_type": "markdown",
   "metadata": {},
   "source": [
    "# Math_475 Week 3 Class Notes\n",
    "\n",
    "* * *"
   ]
  },
  {
   "cell_type": "markdown",
   "metadata": {},
   "source": [
    "## Goals\n",
    "\n",
    "Monday - 9 AM, material posted\n",
    "Wednesday, EOD - all of assignments are due\n",
    "\n",
    "120 min = 75 min class time + 45 min homework\n",
    "\n",
    "Checkpoints: unlimited attempts, with frequent feedback\n",
    "\n",
    "Email with questions"
   ]
  },
  {
   "cell_type": "markdown",
   "metadata": {},
   "source": [
    "## Presentation Notes"
   ]
  },
  {
   "cell_type": "markdown",
   "metadata": {},
   "source": [
    "For a good model, the residuals should be noisy.\n",
    "\n",
    "There should not be a trend."
   ]
  },
  {
   "cell_type": "markdown",
   "metadata": {},
   "source": [
    "What are some signs that a linear model is important?\n",
    "- visually linear (scatterplot)\n",
    "- domain knowledge\n",
    "- $r$ close to 1 or -1\n",
    "- randomness in residuals (after model is fit)"
   ]
  },
  {
   "cell_type": "code",
   "execution_count": null,
   "metadata": {},
   "outputs": [],
   "source": []
  }
 ],
 "metadata": {
  "kernelspec": {
   "display_name": "Python 3",
   "language": "python",
   "name": "python3"
  },
  "language_info": {
   "codemirror_mode": {
    "name": "ipython",
    "version": 3
   },
   "file_extension": ".py",
   "mimetype": "text/x-python",
   "name": "python",
   "nbconvert_exporter": "python",
   "pygments_lexer": "ipython3",
   "version": "3.8.5"
  }
 },
 "nbformat": 4,
 "nbformat_minor": 4
}
