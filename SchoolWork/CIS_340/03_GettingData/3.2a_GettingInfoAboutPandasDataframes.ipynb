{
 "cells": [
  {
   "cell_type": "markdown",
   "metadata": {},
   "source": [
    "# 3.2a Info about *pandas* Dataframes    \n",
    "\n",
    "- [Getting Info about a Dataframe](#Getting-Info-about-a-Dataframe)  \n",
    "  - shape    \n",
    "  - dtypes    \n",
    "  - describe()  \n",
    "  \n",
    "  \n",
    "- [Getting Info about Individual Columns in a Dataframe](#Explore-individual-columns)    \n",
    "  - describe()  \n",
    "  - unique()\n",
    "\n",
    "\n",
    "- **Data Files Required**  \n",
    "  - olympics.csv  "
   ]
  },
  {
   "cell_type": "code",
   "execution_count": 1,
   "metadata": {},
   "outputs": [],
   "source": [
    "#Import pandas \n",
    "import pandas as pd"
   ]
  },
  {
   "cell_type": "code",
   "execution_count": 2,
   "metadata": {},
   "outputs": [
    {
     "data": {
      "text/html": [
       "<div>\n",
       "<style scoped>\n",
       "    .dataframe tbody tr th:only-of-type {\n",
       "        vertical-align: middle;\n",
       "    }\n",
       "\n",
       "    .dataframe tbody tr th {\n",
       "        vertical-align: top;\n",
       "    }\n",
       "\n",
       "    .dataframe thead th {\n",
       "        text-align: right;\n",
       "    }\n",
       "</style>\n",
       "<table border=\"1\" class=\"dataframe\">\n",
       "  <thead>\n",
       "    <tr style=\"text-align: right;\">\n",
       "      <th></th>\n",
       "      <th>Rank</th>\n",
       "      <th>Country</th>\n",
       "      <th>Gold</th>\n",
       "      <th>Silver</th>\n",
       "      <th>Bronze</th>\n",
       "      <th>Total</th>\n",
       "    </tr>\n",
       "  </thead>\n",
       "  <tbody>\n",
       "    <tr>\n",
       "      <th>0</th>\n",
       "      <td>1</td>\n",
       "      <td>United States (USA)</td>\n",
       "      <td>46</td>\n",
       "      <td>37</td>\n",
       "      <td>38</td>\n",
       "      <td>121</td>\n",
       "    </tr>\n",
       "    <tr>\n",
       "      <th>1</th>\n",
       "      <td>2</td>\n",
       "      <td>Great Britain (GBR)</td>\n",
       "      <td>27</td>\n",
       "      <td>23</td>\n",
       "      <td>17</td>\n",
       "      <td>67</td>\n",
       "    </tr>\n",
       "    <tr>\n",
       "      <th>2</th>\n",
       "      <td>3</td>\n",
       "      <td>China (CHN)</td>\n",
       "      <td>26</td>\n",
       "      <td>18</td>\n",
       "      <td>26</td>\n",
       "      <td>70</td>\n",
       "    </tr>\n",
       "    <tr>\n",
       "      <th>3</th>\n",
       "      <td>4</td>\n",
       "      <td>Russia (RUS)</td>\n",
       "      <td>19</td>\n",
       "      <td>17</td>\n",
       "      <td>19</td>\n",
       "      <td>55</td>\n",
       "    </tr>\n",
       "    <tr>\n",
       "      <th>4</th>\n",
       "      <td>5</td>\n",
       "      <td>Germany (GER)</td>\n",
       "      <td>17</td>\n",
       "      <td>10</td>\n",
       "      <td>15</td>\n",
       "      <td>42</td>\n",
       "    </tr>\n",
       "  </tbody>\n",
       "</table>\n",
       "</div>"
      ],
      "text/plain": [
       "   Rank              Country  Gold  Silver  Bronze  Total\n",
       "0     1  United States (USA)    46      37      38    121\n",
       "1     2  Great Britain (GBR)    27      23      17     67\n",
       "2     3          China (CHN)    26      18      26     70\n",
       "3     4         Russia (RUS)    19      17      19     55\n",
       "4     5        Germany (GER)    17      10      15     42"
      ]
     },
     "execution_count": 2,
     "metadata": {},
     "output_type": "execute_result"
    }
   ],
   "source": [
    "#Read the csv file into a pandas dataframe\n",
    "#Note: This file is in the Data folder underneath this folder \n",
    "df = pd.read_csv('Data//olympics.csv')\n",
    "\n",
    "#Display the first five records/rows in the dataframe\n",
    "df.head()"
   ]
  },
  {
   "cell_type": "code",
   "execution_count": null,
   "metadata": {},
   "outputs": [],
   "source": []
  },
  {
   "cell_type": "markdown",
   "metadata": {},
   "source": [
    "# Getting Info about a Dataframe\n",
    "- shape   \n",
    "- dtypes  \n",
    "- describe()    "
   ]
  },
  {
   "cell_type": "code",
   "execution_count": 3,
   "metadata": {},
   "outputs": [],
   "source": [
    "# shape: displays the number of rows and columns in the dataframe"
   ]
  },
  {
   "cell_type": "code",
   "execution_count": 10,
   "metadata": {},
   "outputs": [
    {
     "name": "stdout",
     "output_type": "stream",
     "text": [
      "Number of Rows:   87\n",
      "Number of Columns:   87\n"
     ]
    }
   ],
   "source": [
    "# Nicer display of number of rows and columns in the dataframe\n",
    "# This is the one I want you to use for the rest of the course!\n",
    "print(\"Number of Rows:  \", df.shape[0])\n",
    "print(\"Number of Columns:  \", df.shape[0])"
   ]
  },
  {
   "cell_type": "code",
   "execution_count": 5,
   "metadata": {},
   "outputs": [
    {
     "data": {
      "text/plain": [
       "Rank        int64\n",
       "Country    object\n",
       "Gold        int64\n",
       "Silver      int64\n",
       "Bronze      int64\n",
       "Total       int64\n",
       "dtype: object"
      ]
     },
     "execution_count": 5,
     "metadata": {},
     "output_type": "execute_result"
    }
   ],
   "source": [
    "# Display the datatypes of the columns in the dataframe\n",
    "df.dtypes"
   ]
  },
  {
   "cell_type": "code",
   "execution_count": 14,
   "metadata": {},
   "outputs": [
    {
     "data": {
      "text/html": [
       "<div>\n",
       "<style scoped>\n",
       "    .dataframe tbody tr th:only-of-type {\n",
       "        vertical-align: middle;\n",
       "    }\n",
       "\n",
       "    .dataframe tbody tr th {\n",
       "        vertical-align: top;\n",
       "    }\n",
       "\n",
       "    .dataframe thead th {\n",
       "        text-align: right;\n",
       "    }\n",
       "</style>\n",
       "<table border=\"1\" class=\"dataframe\">\n",
       "  <thead>\n",
       "    <tr style=\"text-align: right;\">\n",
       "      <th></th>\n",
       "      <th>Rank</th>\n",
       "      <th>Gold</th>\n",
       "      <th>Silver</th>\n",
       "      <th>Bronze</th>\n",
       "      <th>Total</th>\n",
       "    </tr>\n",
       "  </thead>\n",
       "  <tbody>\n",
       "    <tr>\n",
       "      <th>count</th>\n",
       "      <td>87.000000</td>\n",
       "      <td>87.000000</td>\n",
       "      <td>87.000000</td>\n",
       "      <td>87.000000</td>\n",
       "      <td>87.000000</td>\n",
       "    </tr>\n",
       "    <tr>\n",
       "      <th>mean</th>\n",
       "      <td>43.091954</td>\n",
       "      <td>3.528736</td>\n",
       "      <td>3.517241</td>\n",
       "      <td>4.126437</td>\n",
       "      <td>11.172414</td>\n",
       "    </tr>\n",
       "    <tr>\n",
       "      <th>std</th>\n",
       "      <td>24.193326</td>\n",
       "      <td>6.867245</td>\n",
       "      <td>5.726036</td>\n",
       "      <td>6.263227</td>\n",
       "      <td>18.213340</td>\n",
       "    </tr>\n",
       "    <tr>\n",
       "      <th>min</th>\n",
       "      <td>1.000000</td>\n",
       "      <td>0.000000</td>\n",
       "      <td>0.000000</td>\n",
       "      <td>0.000000</td>\n",
       "      <td>1.000000</td>\n",
       "    </tr>\n",
       "    <tr>\n",
       "      <th>25%</th>\n",
       "      <td>22.500000</td>\n",
       "      <td>0.000000</td>\n",
       "      <td>0.000000</td>\n",
       "      <td>1.000000</td>\n",
       "      <td>2.000000</td>\n",
       "    </tr>\n",
       "    <tr>\n",
       "      <th>50%</th>\n",
       "      <td>44.000000</td>\n",
       "      <td>1.000000</td>\n",
       "      <td>2.000000</td>\n",
       "      <td>2.000000</td>\n",
       "      <td>4.000000</td>\n",
       "    </tr>\n",
       "    <tr>\n",
       "      <th>75%</th>\n",
       "      <td>65.000000</td>\n",
       "      <td>3.000000</td>\n",
       "      <td>4.000000</td>\n",
       "      <td>4.000000</td>\n",
       "      <td>11.000000</td>\n",
       "    </tr>\n",
       "    <tr>\n",
       "      <th>max</th>\n",
       "      <td>78.000000</td>\n",
       "      <td>46.000000</td>\n",
       "      <td>37.000000</td>\n",
       "      <td>38.000000</td>\n",
       "      <td>121.000000</td>\n",
       "    </tr>\n",
       "  </tbody>\n",
       "</table>\n",
       "</div>"
      ],
      "text/plain": [
       "            Rank       Gold     Silver     Bronze       Total\n",
       "count  87.000000  87.000000  87.000000  87.000000   87.000000\n",
       "mean   43.091954   3.528736   3.517241   4.126437   11.172414\n",
       "std    24.193326   6.867245   5.726036   6.263227   18.213340\n",
       "min     1.000000   0.000000   0.000000   0.000000    1.000000\n",
       "25%    22.500000   0.000000   0.000000   1.000000    2.000000\n",
       "50%    44.000000   1.000000   2.000000   2.000000    4.000000\n",
       "75%    65.000000   3.000000   4.000000   4.000000   11.000000\n",
       "max    78.000000  46.000000  37.000000  38.000000  121.000000"
      ]
     },
     "execution_count": 14,
     "metadata": {},
     "output_type": "execute_result"
    }
   ],
   "source": [
    "# Display some statistical stats about the columns in the dataframe\n",
    "df.describe()"
   ]
  },
  {
   "cell_type": "markdown",
   "metadata": {},
   "source": [
    "## Explore individual columns"
   ]
  },
  {
   "cell_type": "code",
   "execution_count": 11,
   "metadata": {},
   "outputs": [
    {
     "data": {
      "text/plain": [
       "count    87.000000\n",
       "mean      3.528736\n",
       "std       6.867245\n",
       "min       0.000000\n",
       "25%       0.000000\n",
       "50%       1.000000\n",
       "75%       3.000000\n",
       "max      46.000000\n",
       "Name: Gold, dtype: float64"
      ]
     },
     "execution_count": 11,
     "metadata": {},
     "output_type": "execute_result"
    }
   ],
   "source": [
    "# Display some info about the Country column (Non-numeric)\n",
    "df['Gold'].describe()"
   ]
  },
  {
   "cell_type": "code",
   "execution_count": 13,
   "metadata": {},
   "outputs": [
    {
     "data": {
      "text/plain": [
       "array(['United States (USA)', 'Great Britain (GBR)', 'China (CHN)',\n",
       "       'Russia (RUS)', 'Germany (GER)', 'Japan (JPN)', 'France (FRA)',\n",
       "       'South Korea (KOR)', 'Italy (ITA)', 'Australia (AUS)',\n",
       "       'Netherlands (NED)', 'Hungary (HUN)', 'Brazil (BRA)*',\n",
       "       'Spain (ESP)', 'Kenya (KEN)', 'Jamaica (JAM)', 'Croatia (CRO)',\n",
       "       'Cuba (CUB)', 'New Zealand (NZL)', 'Canada (CAN)',\n",
       "       'Uzbekistan (UZB)', 'Kazakhstan (KAZ)', 'Colombia (COL)',\n",
       "       'Switzerland (SUI)', 'Iran (IRI)', 'Greece (GRE)',\n",
       "       'Argentina (ARG)', 'Denmark (DEN)', 'Sweden (SWE)',\n",
       "       'South Africa (RSA)', 'Ukraine (UKR)', 'Serbia (SRB)',\n",
       "       'Poland (POL)', 'North Korea (PRK)', 'Belgium (BEL)',\n",
       "       'Thailand (THA)', 'Slovakia (SVK)', 'Georgia (GEO)',\n",
       "       'Azerbaijan (AZE)', 'Belarus (BLR)', 'Turkey (TUR)',\n",
       "       'Armenia (ARM)', 'Czech Republic (CZE)', 'Ethiopia (ETH)',\n",
       "       'Slovenia (SLO)', 'Indonesia (INA)', 'Romania (ROU)',\n",
       "       'Bahrain (BRN)', 'Vietnam (VIE)', 'Chinese Taipei (TPE)',\n",
       "       'Bahamas (BAH)', \"Côte d'Ivoire (CIV)\",\n",
       "       'Independent Olympic Athletes (IOA)', 'Fiji (FIJ)', 'Jordan (JOR)',\n",
       "       'Kosovo (KOS)', 'Puerto Rico (PUR)', 'Singapore (SIN)',\n",
       "       'Tajikistan (TJK)', 'Malaysia (MAS)', 'Mexico (MEX)',\n",
       "       'Algeria (ALG)', 'Ireland (IRL)', 'Lithuania (LTU)',\n",
       "       'Bulgaria (BUL)', 'Venezuela (VEN)', 'India (IND)',\n",
       "       'Mongolia (MGL)', 'Burundi (BDI)', 'Grenada (GRN)', 'Niger (NIG)',\n",
       "       'Philippines (PHI)', 'Qatar (QAT)', 'Norway (NOR)', 'Egypt (EGY)',\n",
       "       'Tunisia (TUN)', 'Israel (ISR)', 'Austria (AUT)',\n",
       "       'Dominican Republic (DOM)', 'Estonia (EST)', 'Finland (FIN)',\n",
       "       'Morocco (MAR)', 'Moldova (MDA)', 'Nigeria (NGR)',\n",
       "       'Portugal (POR)', 'Trinidad and Tobago (TTO)',\n",
       "       'United Arab Emirates (UAE)'], dtype=object)"
      ]
     },
     "execution_count": 13,
     "metadata": {},
     "output_type": "execute_result"
    }
   ],
   "source": [
    "# Display the unique values in the Country column\n",
    "df['Country'].unique()"
   ]
  },
  {
   "cell_type": "code",
   "execution_count": 9,
   "metadata": {},
   "outputs": [
    {
     "data": {
      "text/plain": [
       "0     46\n",
       "1     27\n",
       "2     26\n",
       "3     19\n",
       "4     17\n",
       "5     12\n",
       "6     10\n",
       "7      9\n",
       "8      8\n",
       "9      8\n",
       "10     8\n",
       "11     8\n",
       "12     7\n",
       "13     7\n",
       "14     6\n",
       "15     6\n",
       "16     5\n",
       "17     5\n",
       "18     4\n",
       "19     4\n",
       "20     4\n",
       "21     3\n",
       "22     3\n",
       "23     3\n",
       "24     3\n",
       "25     3\n",
       "26     3\n",
       "27     2\n",
       "28     2\n",
       "29     2\n",
       "      ..\n",
       "57     1\n",
       "58     1\n",
       "59     0\n",
       "60     0\n",
       "61     0\n",
       "62     0\n",
       "63     0\n",
       "64     0\n",
       "65     0\n",
       "66     0\n",
       "67     0\n",
       "68     0\n",
       "69     0\n",
       "70     0\n",
       "71     0\n",
       "72     0\n",
       "73     0\n",
       "74     0\n",
       "75     0\n",
       "76     0\n",
       "77     0\n",
       "78     0\n",
       "79     0\n",
       "80     0\n",
       "81     0\n",
       "82     0\n",
       "83     0\n",
       "84     0\n",
       "85     0\n",
       "86     0\n",
       "Name: Gold, Length: 87, dtype: int64"
      ]
     },
     "execution_count": 9,
     "metadata": {},
     "output_type": "execute_result"
    }
   ],
   "source": [
    "# Display some info about the Gold column (Numeric)\n",
    "df['Gold']"
   ]
  }
 ],
 "metadata": {
  "kernelspec": {
   "display_name": "Python 3",
   "language": "python",
   "name": "python3"
  },
  "language_info": {
   "codemirror_mode": {
    "name": "ipython",
    "version": 3
   },
   "file_extension": ".py",
   "mimetype": "text/x-python",
   "name": "python",
   "nbconvert_exporter": "python",
   "pygments_lexer": "ipython3",
   "version": "3.7.0"
  }
 },
 "nbformat": 4,
 "nbformat_minor": 2
}
