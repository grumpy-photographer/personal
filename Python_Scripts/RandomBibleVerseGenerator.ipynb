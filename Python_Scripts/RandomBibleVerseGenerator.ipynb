{
 "cells": [
  {
   "cell_type": "markdown",
   "metadata": {},
   "source": [
    "# Imports"
   ]
  },
  {
   "cell_type": "code",
   "execution_count": 1,
   "metadata": {},
   "outputs": [],
   "source": [
    "import pandas as pd\n",
    "import random "
   ]
  },
  {
   "cell_type": "markdown",
   "metadata": {},
   "source": [
    "# Bible Verse Data"
   ]
  },
  {
   "cell_type": "markdown",
   "metadata": {},
   "source": [
    "### Load and view file in dataframe"
   ]
  },
  {
   "cell_type": "code",
   "execution_count": 2,
   "metadata": {},
   "outputs": [
    {
     "output_type": "execute_result",
     "data": {
      "text/plain": [
       "        id  book  chapter  verse  \\\n",
       "0  1001001     1        1      1   \n",
       "1  1001002     1        1      2   \n",
       "\n",
       "                                                text  \n",
       "0  In the beginning God created the heaven and th...  \n",
       "1  And the earth was without form, and void; and ...  "
      ],
      "text/html": "<div>\n<style scoped>\n    .dataframe tbody tr th:only-of-type {\n        vertical-align: middle;\n    }\n\n    .dataframe tbody tr th {\n        vertical-align: top;\n    }\n\n    .dataframe thead th {\n        text-align: right;\n    }\n</style>\n<table border=\"1\" class=\"dataframe\">\n  <thead>\n    <tr style=\"text-align: right;\">\n      <th></th>\n      <th>id</th>\n      <th>book</th>\n      <th>chapter</th>\n      <th>verse</th>\n      <th>text</th>\n    </tr>\n  </thead>\n  <tbody>\n    <tr>\n      <th>0</th>\n      <td>1001001</td>\n      <td>1</td>\n      <td>1</td>\n      <td>1</td>\n      <td>In the beginning God created the heaven and th...</td>\n    </tr>\n    <tr>\n      <th>1</th>\n      <td>1001002</td>\n      <td>1</td>\n      <td>1</td>\n      <td>2</td>\n      <td>And the earth was without form, and void; and ...</td>\n    </tr>\n  </tbody>\n</table>\n</div>"
     },
     "metadata": {},
     "execution_count": 2
    }
   ],
   "source": [
    "df = pd.read_excel('/Users/natha/Onedrive/Desktop/GitHub/personal/Data/bible_kjv.xlsx')\n",
    "\n",
    "df.head(2)"
   ]
  },
  {
   "cell_type": "markdown",
   "metadata": {},
   "source": [
    "### View and edit columns"
   ]
  },
  {
   "cell_type": "code",
   "execution_count": 3,
   "metadata": {},
   "outputs": [
    {
     "output_type": "execute_result",
     "data": {
      "text/plain": [
       "Index(['id', 'book', 'chapter', 'verse', 'text'], dtype='object')"
      ]
     },
     "metadata": {},
     "execution_count": 3
    }
   ],
   "source": [
    "df.columns"
   ]
  },
  {
   "cell_type": "code",
   "execution_count": 4,
   "metadata": {},
   "outputs": [
    {
     "output_type": "execute_result",
     "data": {
      "text/plain": [
       "        id  book  chapter  verse  \\\n",
       "0  1001001     1        1      1   \n",
       "1  1001002     1        1      2   \n",
       "\n",
       "                                                text  \n",
       "0  In the beginning God created the heaven and th...  \n",
       "1  And the earth was without form, and void; and ...  "
      ],
      "text/html": "<div>\n<style scoped>\n    .dataframe tbody tr th:only-of-type {\n        vertical-align: middle;\n    }\n\n    .dataframe tbody tr th {\n        vertical-align: top;\n    }\n\n    .dataframe thead th {\n        text-align: right;\n    }\n</style>\n<table border=\"1\" class=\"dataframe\">\n  <thead>\n    <tr style=\"text-align: right;\">\n      <th></th>\n      <th>id</th>\n      <th>book</th>\n      <th>chapter</th>\n      <th>verse</th>\n      <th>text</th>\n    </tr>\n  </thead>\n  <tbody>\n    <tr>\n      <th>0</th>\n      <td>1001001</td>\n      <td>1</td>\n      <td>1</td>\n      <td>1</td>\n      <td>In the beginning God created the heaven and th...</td>\n    </tr>\n    <tr>\n      <th>1</th>\n      <td>1001002</td>\n      <td>1</td>\n      <td>1</td>\n      <td>2</td>\n      <td>And the earth was without form, and void; and ...</td>\n    </tr>\n  </tbody>\n</table>\n</div>"
     },
     "metadata": {},
     "execution_count": 4
    }
   ],
   "source": [
    "rename_columns = {'b':'book',\n",
    "                 'c':'chapter',\n",
    "                 'v':'verse',\n",
    "                 't':'text'}\n",
    "\n",
    "df.rename(columns = rename_columns, inplace=True)\n",
    "df.head(2)"
   ]
  },
  {
   "cell_type": "markdown",
   "metadata": {},
   "source": [
    "### View and edit datatypes"
   ]
  },
  {
   "cell_type": "code",
   "execution_count": 5,
   "metadata": {},
   "outputs": [
    {
     "output_type": "execute_result",
     "data": {
      "text/plain": [
       "id          int64\n",
       "book        int64\n",
       "chapter     int64\n",
       "verse       int64\n",
       "text       object\n",
       "dtype: object"
      ]
     },
     "metadata": {},
     "execution_count": 5
    }
   ],
   "source": [
    "df.dtypes"
   ]
  },
  {
   "cell_type": "code",
   "execution_count": 6,
   "metadata": {},
   "outputs": [
    {
     "output_type": "execute_result",
     "data": {
      "text/plain": [
       "id          int64\n",
       "book       object\n",
       "chapter     int64\n",
       "verse       int64\n",
       "text       object\n",
       "dtype: object"
      ]
     },
     "metadata": {},
     "execution_count": 6
    }
   ],
   "source": [
    "df['book']=pd.to_numeric(df['book']).astype(object)\n",
    "df.dtypes"
   ]
  },
  {
   "cell_type": "markdown",
   "metadata": {},
   "source": [
    "# Books of the Bible Data"
   ]
  },
  {
   "cell_type": "markdown",
   "metadata": {},
   "source": [
    "### Load and view file in dataframe"
   ]
  },
  {
   "cell_type": "code",
   "execution_count": 7,
   "metadata": {},
   "outputs": [
    {
     "output_type": "execute_result",
     "data": {
      "text/plain": [
       "   book book_name\n",
       "0     1   Genesis\n",
       "1     2    Exodus"
      ],
      "text/html": "<div>\n<style scoped>\n    .dataframe tbody tr th:only-of-type {\n        vertical-align: middle;\n    }\n\n    .dataframe tbody tr th {\n        vertical-align: top;\n    }\n\n    .dataframe thead th {\n        text-align: right;\n    }\n</style>\n<table border=\"1\" class=\"dataframe\">\n  <thead>\n    <tr style=\"text-align: right;\">\n      <th></th>\n      <th>book</th>\n      <th>book_name</th>\n    </tr>\n  </thead>\n  <tbody>\n    <tr>\n      <th>0</th>\n      <td>1</td>\n      <td>Genesis</td>\n    </tr>\n    <tr>\n      <th>1</th>\n      <td>2</td>\n      <td>Exodus</td>\n    </tr>\n  </tbody>\n</table>\n</div>"
     },
     "metadata": {},
     "execution_count": 7
    }
   ],
   "source": [
    "df_books = pd.read_excel('/Users/natha/Onedrive/Desktop/GitHub/personal/Data/bible_books.xlsx')\n",
    "\n",
    "df_books.head(2)"
   ]
  },
  {
   "cell_type": "markdown",
   "metadata": {},
   "source": [
    "### View and edit columns"
   ]
  },
  {
   "cell_type": "code",
   "execution_count": 8,
   "metadata": {},
   "outputs": [
    {
     "output_type": "execute_result",
     "data": {
      "text/plain": [
       "Index(['book', 'book_name'], dtype='object')"
      ]
     },
     "metadata": {},
     "execution_count": 8
    }
   ],
   "source": [
    "df_books.columns"
   ]
  },
  {
   "cell_type": "markdown",
   "metadata": {},
   "source": [
    "### View and edit datatypes"
   ]
  },
  {
   "cell_type": "code",
   "execution_count": 9,
   "metadata": {},
   "outputs": [
    {
     "output_type": "execute_result",
     "data": {
      "text/plain": [
       "book          int64\n",
       "book_name    object\n",
       "dtype: object"
      ]
     },
     "metadata": {},
     "execution_count": 9
    }
   ],
   "source": [
    "df_books.dtypes"
   ]
  },
  {
   "cell_type": "markdown",
   "metadata": {},
   "source": [
    "# Merge"
   ]
  },
  {
   "cell_type": "markdown",
   "metadata": {},
   "source": [
    "### Left-joining Bible Verse Data with Books Data to create complete Bible database"
   ]
  },
  {
   "cell_type": "code",
   "execution_count": 10,
   "metadata": {},
   "outputs": [
    {
     "output_type": "execute_result",
     "data": {
      "text/plain": [
       "  book book_name       id  chapter  verse  \\\n",
       "0    1   Genesis  1001001        1      1   \n",
       "1    1   Genesis  1001002        1      2   \n",
       "2    1   Genesis  1001003        1      3   \n",
       "3    1   Genesis  1001004        1      4   \n",
       "4    1   Genesis  1001005        1      5   \n",
       "\n",
       "                                                text  \n",
       "0  In the beginning God created the heaven and th...  \n",
       "1  And the earth was without form, and void; and ...  \n",
       "2  And God said, Let there be light: and there wa...  \n",
       "3  And God saw the light, that it was good: and G...  \n",
       "4  And God called the light Day, and the darkness...  "
      ],
      "text/html": "<div>\n<style scoped>\n    .dataframe tbody tr th:only-of-type {\n        vertical-align: middle;\n    }\n\n    .dataframe tbody tr th {\n        vertical-align: top;\n    }\n\n    .dataframe thead th {\n        text-align: right;\n    }\n</style>\n<table border=\"1\" class=\"dataframe\">\n  <thead>\n    <tr style=\"text-align: right;\">\n      <th></th>\n      <th>book</th>\n      <th>book_name</th>\n      <th>id</th>\n      <th>chapter</th>\n      <th>verse</th>\n      <th>text</th>\n    </tr>\n  </thead>\n  <tbody>\n    <tr>\n      <th>0</th>\n      <td>1</td>\n      <td>Genesis</td>\n      <td>1001001</td>\n      <td>1</td>\n      <td>1</td>\n      <td>In the beginning God created the heaven and th...</td>\n    </tr>\n    <tr>\n      <th>1</th>\n      <td>1</td>\n      <td>Genesis</td>\n      <td>1001002</td>\n      <td>1</td>\n      <td>2</td>\n      <td>And the earth was without form, and void; and ...</td>\n    </tr>\n    <tr>\n      <th>2</th>\n      <td>1</td>\n      <td>Genesis</td>\n      <td>1001003</td>\n      <td>1</td>\n      <td>3</td>\n      <td>And God said, Let there be light: and there wa...</td>\n    </tr>\n    <tr>\n      <th>3</th>\n      <td>1</td>\n      <td>Genesis</td>\n      <td>1001004</td>\n      <td>1</td>\n      <td>4</td>\n      <td>And God saw the light, that it was good: and G...</td>\n    </tr>\n    <tr>\n      <th>4</th>\n      <td>1</td>\n      <td>Genesis</td>\n      <td>1001005</td>\n      <td>1</td>\n      <td>5</td>\n      <td>And God called the light Day, and the darkness...</td>\n    </tr>\n  </tbody>\n</table>\n</div>"
     },
     "metadata": {},
     "execution_count": 10
    }
   ],
   "source": [
    "df_bible = pd.merge(df_books, df, on = 'book', how = 'left')\n",
    "df_bible.head()"
   ]
  },
  {
   "cell_type": "markdown",
   "metadata": {},
   "source": [
    "### Editing columns in new dataframe"
   ]
  },
  {
   "cell_type": "code",
   "execution_count": 11,
   "metadata": {
    "scrolled": true
   },
   "outputs": [
    {
     "output_type": "stream",
     "name": "stdout",
     "text": [
      "Number of rows:  31103\nNumber of columns:  6\n"
     ]
    },
    {
     "output_type": "execute_result",
     "data": {
      "text/plain": [
       "        id book book_name  chapter  verse  \\\n",
       "0  1001001    1   Genesis        1      1   \n",
       "1  1001002    1   Genesis        1      2   \n",
       "2  1001003    1   Genesis        1      3   \n",
       "3  1001004    1   Genesis        1      4   \n",
       "4  1001005    1   Genesis        1      5   \n",
       "\n",
       "                                                text  \n",
       "0  In the beginning God created the heaven and th...  \n",
       "1  And the earth was without form, and void; and ...  \n",
       "2  And God said, Let there be light: and there wa...  \n",
       "3  And God saw the light, that it was good: and G...  \n",
       "4  And God called the light Day, and the darkness...  "
      ],
      "text/html": "<div>\n<style scoped>\n    .dataframe tbody tr th:only-of-type {\n        vertical-align: middle;\n    }\n\n    .dataframe tbody tr th {\n        vertical-align: top;\n    }\n\n    .dataframe thead th {\n        text-align: right;\n    }\n</style>\n<table border=\"1\" class=\"dataframe\">\n  <thead>\n    <tr style=\"text-align: right;\">\n      <th></th>\n      <th>id</th>\n      <th>book</th>\n      <th>book_name</th>\n      <th>chapter</th>\n      <th>verse</th>\n      <th>text</th>\n    </tr>\n  </thead>\n  <tbody>\n    <tr>\n      <th>0</th>\n      <td>1001001</td>\n      <td>1</td>\n      <td>Genesis</td>\n      <td>1</td>\n      <td>1</td>\n      <td>In the beginning God created the heaven and th...</td>\n    </tr>\n    <tr>\n      <th>1</th>\n      <td>1001002</td>\n      <td>1</td>\n      <td>Genesis</td>\n      <td>1</td>\n      <td>2</td>\n      <td>And the earth was without form, and void; and ...</td>\n    </tr>\n    <tr>\n      <th>2</th>\n      <td>1001003</td>\n      <td>1</td>\n      <td>Genesis</td>\n      <td>1</td>\n      <td>3</td>\n      <td>And God said, Let there be light: and there wa...</td>\n    </tr>\n    <tr>\n      <th>3</th>\n      <td>1001004</td>\n      <td>1</td>\n      <td>Genesis</td>\n      <td>1</td>\n      <td>4</td>\n      <td>And God saw the light, that it was good: and G...</td>\n    </tr>\n    <tr>\n      <th>4</th>\n      <td>1001005</td>\n      <td>1</td>\n      <td>Genesis</td>\n      <td>1</td>\n      <td>5</td>\n      <td>And God called the light Day, and the darkness...</td>\n    </tr>\n  </tbody>\n</table>\n</div>"
     },
     "metadata": {},
     "execution_count": 11
    }
   ],
   "source": [
    "new_column_order = ['id','book','book_name','chapter','verse','text']\n",
    "\n",
    "df_bible = df_bible[new_column_order]\n",
    "\n",
    "print('Number of rows: ',df_bible.shape[0])\n",
    "print('Number of columns: ',df_bible.shape[1])\n",
    "df_bible.head()"
   ]
  },
  {
   "cell_type": "code",
   "execution_count": 12,
   "metadata": {
    "scrolled": true
   },
   "outputs": [],
   "source": [
    "df_bible.set_index('book_name', inplace=True)\n",
    "df_bible = df_bible.drop(['id', 'book'], axis=1)\n",
    "\n",
    "df_bible[\"chapter\"] = df_bible[\"chapter\"].astype(str)\n",
    "df_bible[\"verse\"] = df_bible[\"verse\"]."
   ]
  },
  {
   "cell_type": "code",
   "execution_count": 13,
   "metadata": {},
   "outputs": [
    {
     "output_type": "execute_result",
     "data": {
      "text/plain": [
       "            chapter  verse                                               text\n",
       "book_name                                                                    \n",
       "Genesis           1      1  In the beginning God created the heaven and th...\n",
       "Genesis           1      2  And the earth was without form, and void; and ...\n",
       "Genesis           1      3  And God said, Let there be light: and there wa...\n",
       "Genesis           1      4  And God saw the light, that it was good: and G...\n",
       "Genesis           1      5  And God called the light Day, and the darkness...\n",
       "...             ...    ...                                                ...\n",
       "Revelation       22     17  And the Spirit and the bride say, Come. And le...\n",
       "Revelation       22     18  For I testify unto every man that heareth the ...\n",
       "Revelation       22     19  And if any man shall take away from the words ...\n",
       "Revelation       22     20  He which testifieth these things saith, Surely...\n",
       "Revelation       22     21  The grace of our Lord Jesus Christ be with you...\n",
       "\n",
       "[31103 rows x 3 columns]"
      ],
      "text/html": "<div>\n<style scoped>\n    .dataframe tbody tr th:only-of-type {\n        vertical-align: middle;\n    }\n\n    .dataframe tbody tr th {\n        vertical-align: top;\n    }\n\n    .dataframe thead th {\n        text-align: right;\n    }\n</style>\n<table border=\"1\" class=\"dataframe\">\n  <thead>\n    <tr style=\"text-align: right;\">\n      <th></th>\n      <th>chapter</th>\n      <th>verse</th>\n      <th>text</th>\n    </tr>\n    <tr>\n      <th>book_name</th>\n      <th></th>\n      <th></th>\n      <th></th>\n    </tr>\n  </thead>\n  <tbody>\n    <tr>\n      <th>Genesis</th>\n      <td>1</td>\n      <td>1</td>\n      <td>In the beginning God created the heaven and th...</td>\n    </tr>\n    <tr>\n      <th>Genesis</th>\n      <td>1</td>\n      <td>2</td>\n      <td>And the earth was without form, and void; and ...</td>\n    </tr>\n    <tr>\n      <th>Genesis</th>\n      <td>1</td>\n      <td>3</td>\n      <td>And God said, Let there be light: and there wa...</td>\n    </tr>\n    <tr>\n      <th>Genesis</th>\n      <td>1</td>\n      <td>4</td>\n      <td>And God saw the light, that it was good: and G...</td>\n    </tr>\n    <tr>\n      <th>Genesis</th>\n      <td>1</td>\n      <td>5</td>\n      <td>And God called the light Day, and the darkness...</td>\n    </tr>\n    <tr>\n      <th>...</th>\n      <td>...</td>\n      <td>...</td>\n      <td>...</td>\n    </tr>\n    <tr>\n      <th>Revelation</th>\n      <td>22</td>\n      <td>17</td>\n      <td>And the Spirit and the bride say, Come. And le...</td>\n    </tr>\n    <tr>\n      <th>Revelation</th>\n      <td>22</td>\n      <td>18</td>\n      <td>For I testify unto every man that heareth the ...</td>\n    </tr>\n    <tr>\n      <th>Revelation</th>\n      <td>22</td>\n      <td>19</td>\n      <td>And if any man shall take away from the words ...</td>\n    </tr>\n    <tr>\n      <th>Revelation</th>\n      <td>22</td>\n      <td>20</td>\n      <td>He which testifieth these things saith, Surely...</td>\n    </tr>\n    <tr>\n      <th>Revelation</th>\n      <td>22</td>\n      <td>21</td>\n      <td>The grace of our Lord Jesus Christ be with you...</td>\n    </tr>\n  </tbody>\n</table>\n<p>31103 rows × 3 columns</p>\n</div>"
     },
     "metadata": {},
     "execution_count": 13
    }
   ],
   "source": [
    "df_bible"
   ]
  },
  {
   "cell_type": "code",
   "execution_count": 15,
   "metadata": {},
   "outputs": [
    {
     "output_type": "error",
     "ename": "AttributeError",
     "evalue": "Can only use .str accessor with string values!",
     "traceback": [
      "\u001b[1;31m---------------------------------------------------------------------------\u001b[0m",
      "\u001b[1;31mAttributeError\u001b[0m                            Traceback (most recent call last)",
      "\u001b[1;32m<ipython-input-15-ab02d6ce8153>\u001b[0m in \u001b[0;36m<module>\u001b[1;34m\u001b[0m\n\u001b[1;32m----> 1\u001b[1;33m \u001b[0mdf_bible\u001b[0m\u001b[1;33m[\u001b[0m\u001b[1;34m\"chapter:verse\"\u001b[0m\u001b[1;33m]\u001b[0m \u001b[1;33m=\u001b[0m \u001b[0mdf_bible\u001b[0m\u001b[1;33m.\u001b[0m\u001b[0mchapter\u001b[0m\u001b[1;33m.\u001b[0m\u001b[0mstr\u001b[0m\u001b[1;33m.\u001b[0m\u001b[0mcat\u001b[0m\u001b[1;33m(\u001b[0m\u001b[0mdf_bible\u001b[0m\u001b[1;33m.\u001b[0m\u001b[0mverse\u001b[0m\u001b[1;33m,\u001b[0m \u001b[0msep\u001b[0m\u001b[1;33m=\u001b[0m\u001b[1;34m\":\"\u001b[0m\u001b[1;33m)\u001b[0m\u001b[1;33m\u001b[0m\u001b[1;33m\u001b[0m\u001b[0m\n\u001b[0m",
      "\u001b[1;32m~\\AppData\\Roaming\\Python\\Python39\\site-packages\\pandas\\core\\generic.py\u001b[0m in \u001b[0;36m__getattr__\u001b[1;34m(self, name)\u001b[0m\n\u001b[0;32m   5135\u001b[0m             \u001b[1;32mor\u001b[0m \u001b[0mname\u001b[0m \u001b[1;32min\u001b[0m \u001b[0mself\u001b[0m\u001b[1;33m.\u001b[0m\u001b[0m_accessors\u001b[0m\u001b[1;33m\u001b[0m\u001b[1;33m\u001b[0m\u001b[0m\n\u001b[0;32m   5136\u001b[0m         ):\n\u001b[1;32m-> 5137\u001b[1;33m             \u001b[1;32mreturn\u001b[0m \u001b[0mobject\u001b[0m\u001b[1;33m.\u001b[0m\u001b[0m__getattribute__\u001b[0m\u001b[1;33m(\u001b[0m\u001b[0mself\u001b[0m\u001b[1;33m,\u001b[0m \u001b[0mname\u001b[0m\u001b[1;33m)\u001b[0m\u001b[1;33m\u001b[0m\u001b[1;33m\u001b[0m\u001b[0m\n\u001b[0m\u001b[0;32m   5138\u001b[0m         \u001b[1;32melse\u001b[0m\u001b[1;33m:\u001b[0m\u001b[1;33m\u001b[0m\u001b[1;33m\u001b[0m\u001b[0m\n\u001b[0;32m   5139\u001b[0m             \u001b[1;32mif\u001b[0m \u001b[0mself\u001b[0m\u001b[1;33m.\u001b[0m\u001b[0m_info_axis\u001b[0m\u001b[1;33m.\u001b[0m\u001b[0m_can_hold_identifiers_and_holds_name\u001b[0m\u001b[1;33m(\u001b[0m\u001b[0mname\u001b[0m\u001b[1;33m)\u001b[0m\u001b[1;33m:\u001b[0m\u001b[1;33m\u001b[0m\u001b[1;33m\u001b[0m\u001b[0m\n",
      "\u001b[1;32m~\\AppData\\Roaming\\Python\\Python39\\site-packages\\pandas\\core\\accessor.py\u001b[0m in \u001b[0;36m__get__\u001b[1;34m(self, obj, cls)\u001b[0m\n\u001b[0;32m    185\u001b[0m             \u001b[1;31m# we're accessing the attribute of the class, i.e., Dataset.geo\u001b[0m\u001b[1;33m\u001b[0m\u001b[1;33m\u001b[0m\u001b[1;33m\u001b[0m\u001b[0m\n\u001b[0;32m    186\u001b[0m             \u001b[1;32mreturn\u001b[0m \u001b[0mself\u001b[0m\u001b[1;33m.\u001b[0m\u001b[0m_accessor\u001b[0m\u001b[1;33m\u001b[0m\u001b[1;33m\u001b[0m\u001b[0m\n\u001b[1;32m--> 187\u001b[1;33m         \u001b[0maccessor_obj\u001b[0m \u001b[1;33m=\u001b[0m \u001b[0mself\u001b[0m\u001b[1;33m.\u001b[0m\u001b[0m_accessor\u001b[0m\u001b[1;33m(\u001b[0m\u001b[0mobj\u001b[0m\u001b[1;33m)\u001b[0m\u001b[1;33m\u001b[0m\u001b[1;33m\u001b[0m\u001b[0m\n\u001b[0m\u001b[0;32m    188\u001b[0m         \u001b[1;31m# Replace the property with the accessor object. Inspired by:\u001b[0m\u001b[1;33m\u001b[0m\u001b[1;33m\u001b[0m\u001b[1;33m\u001b[0m\u001b[0m\n\u001b[0;32m    189\u001b[0m         \u001b[1;31m# https://www.pydanny.com/cached-property.html\u001b[0m\u001b[1;33m\u001b[0m\u001b[1;33m\u001b[0m\u001b[1;33m\u001b[0m\u001b[0m\n",
      "\u001b[1;32m~\\AppData\\Roaming\\Python\\Python39\\site-packages\\pandas\\core\\strings.py\u001b[0m in \u001b[0;36m__init__\u001b[1;34m(self, data)\u001b[0m\n\u001b[0;32m   2098\u001b[0m \u001b[1;33m\u001b[0m\u001b[0m\n\u001b[0;32m   2099\u001b[0m     \u001b[1;32mdef\u001b[0m \u001b[0m__init__\u001b[0m\u001b[1;33m(\u001b[0m\u001b[0mself\u001b[0m\u001b[1;33m,\u001b[0m \u001b[0mdata\u001b[0m\u001b[1;33m)\u001b[0m\u001b[1;33m:\u001b[0m\u001b[1;33m\u001b[0m\u001b[1;33m\u001b[0m\u001b[0m\n\u001b[1;32m-> 2100\u001b[1;33m         \u001b[0mself\u001b[0m\u001b[1;33m.\u001b[0m\u001b[0m_inferred_dtype\u001b[0m \u001b[1;33m=\u001b[0m \u001b[0mself\u001b[0m\u001b[1;33m.\u001b[0m\u001b[0m_validate\u001b[0m\u001b[1;33m(\u001b[0m\u001b[0mdata\u001b[0m\u001b[1;33m)\u001b[0m\u001b[1;33m\u001b[0m\u001b[1;33m\u001b[0m\u001b[0m\n\u001b[0m\u001b[0;32m   2101\u001b[0m         \u001b[0mself\u001b[0m\u001b[1;33m.\u001b[0m\u001b[0m_is_categorical\u001b[0m \u001b[1;33m=\u001b[0m \u001b[0mis_categorical_dtype\u001b[0m\u001b[1;33m(\u001b[0m\u001b[0mdata\u001b[0m\u001b[1;33m.\u001b[0m\u001b[0mdtype\u001b[0m\u001b[1;33m)\u001b[0m\u001b[1;33m\u001b[0m\u001b[1;33m\u001b[0m\u001b[0m\n\u001b[0;32m   2102\u001b[0m         \u001b[0mself\u001b[0m\u001b[1;33m.\u001b[0m\u001b[0m_is_string\u001b[0m \u001b[1;33m=\u001b[0m \u001b[0mdata\u001b[0m\u001b[1;33m.\u001b[0m\u001b[0mdtype\u001b[0m\u001b[1;33m.\u001b[0m\u001b[0mname\u001b[0m \u001b[1;33m==\u001b[0m \u001b[1;34m\"string\"\u001b[0m\u001b[1;33m\u001b[0m\u001b[1;33m\u001b[0m\u001b[0m\n",
      "\u001b[1;32m~\\AppData\\Roaming\\Python\\Python39\\site-packages\\pandas\\core\\strings.py\u001b[0m in \u001b[0;36m_validate\u001b[1;34m(data)\u001b[0m\n\u001b[0;32m   2155\u001b[0m \u001b[1;33m\u001b[0m\u001b[0m\n\u001b[0;32m   2156\u001b[0m         \u001b[1;32mif\u001b[0m \u001b[0minferred_dtype\u001b[0m \u001b[1;32mnot\u001b[0m \u001b[1;32min\u001b[0m \u001b[0mallowed_types\u001b[0m\u001b[1;33m:\u001b[0m\u001b[1;33m\u001b[0m\u001b[1;33m\u001b[0m\u001b[0m\n\u001b[1;32m-> 2157\u001b[1;33m             \u001b[1;32mraise\u001b[0m \u001b[0mAttributeError\u001b[0m\u001b[1;33m(\u001b[0m\u001b[1;34m\"Can only use .str accessor with string values!\"\u001b[0m\u001b[1;33m)\u001b[0m\u001b[1;33m\u001b[0m\u001b[1;33m\u001b[0m\u001b[0m\n\u001b[0m\u001b[0;32m   2158\u001b[0m         \u001b[1;32mreturn\u001b[0m \u001b[0minferred_dtype\u001b[0m\u001b[1;33m\u001b[0m\u001b[1;33m\u001b[0m\u001b[0m\n\u001b[0;32m   2159\u001b[0m \u001b[1;33m\u001b[0m\u001b[0m\n",
      "\u001b[1;31mAttributeError\u001b[0m: Can only use .str accessor with string values!"
     ]
    }
   ],
   "source": [
    "df_bible[\"chapter:verse\"] = df_bible.chapter.str.cat(df_bible.verse, sep=\":\")"
   ]
  },
  {
   "cell_type": "code",
   "execution_count": 31,
   "metadata": {},
   "outputs": [
    {
     "output_type": "execute_result",
     "data": {
      "text/plain": [
       "        book_name  chapter  verse  \\\n",
       "0         Genesis        1      1   \n",
       "1         Genesis        1      2   \n",
       "2         Genesis        1      3   \n",
       "3         Genesis        1      4   \n",
       "4         Genesis        1      5   \n",
       "...           ...      ...    ...   \n",
       "31098  Revelation       22     17   \n",
       "31099  Revelation       22     18   \n",
       "31100  Revelation       22     19   \n",
       "31101  Revelation       22     20   \n",
       "31102  Revelation       22     21   \n",
       "\n",
       "                                                    text  chapter:verse  \n",
       "0      In the beginning God created the heaven and th...              2  \n",
       "1      And the earth was without form, and void; and ...              3  \n",
       "2      And God said, Let there be light: and there wa...              4  \n",
       "3      And God saw the light, that it was good: and G...              5  \n",
       "4      And God called the light Day, and the darkness...              6  \n",
       "...                                                  ...            ...  \n",
       "31098  And the Spirit and the bride say, Come. And le...             39  \n",
       "31099  For I testify unto every man that heareth the ...             40  \n",
       "31100  And if any man shall take away from the words ...             41  \n",
       "31101  He which testifieth these things saith, Surely...             42  \n",
       "31102  The grace of our Lord Jesus Christ be with you...             43  \n",
       "\n",
       "[31103 rows x 5 columns]"
      ],
      "text/html": "<div>\n<style scoped>\n    .dataframe tbody tr th:only-of-type {\n        vertical-align: middle;\n    }\n\n    .dataframe tbody tr th {\n        vertical-align: top;\n    }\n\n    .dataframe thead th {\n        text-align: right;\n    }\n</style>\n<table border=\"1\" class=\"dataframe\">\n  <thead>\n    <tr style=\"text-align: right;\">\n      <th></th>\n      <th>book_name</th>\n      <th>chapter</th>\n      <th>verse</th>\n      <th>text</th>\n      <th>chapter:verse</th>\n    </tr>\n  </thead>\n  <tbody>\n    <tr>\n      <th>0</th>\n      <td>Genesis</td>\n      <td>1</td>\n      <td>1</td>\n      <td>In the beginning God created the heaven and th...</td>\n      <td>2</td>\n    </tr>\n    <tr>\n      <th>1</th>\n      <td>Genesis</td>\n      <td>1</td>\n      <td>2</td>\n      <td>And the earth was without form, and void; and ...</td>\n      <td>3</td>\n    </tr>\n    <tr>\n      <th>2</th>\n      <td>Genesis</td>\n      <td>1</td>\n      <td>3</td>\n      <td>And God said, Let there be light: and there wa...</td>\n      <td>4</td>\n    </tr>\n    <tr>\n      <th>3</th>\n      <td>Genesis</td>\n      <td>1</td>\n      <td>4</td>\n      <td>And God saw the light, that it was good: and G...</td>\n      <td>5</td>\n    </tr>\n    <tr>\n      <th>4</th>\n      <td>Genesis</td>\n      <td>1</td>\n      <td>5</td>\n      <td>And God called the light Day, and the darkness...</td>\n      <td>6</td>\n    </tr>\n    <tr>\n      <th>...</th>\n      <td>...</td>\n      <td>...</td>\n      <td>...</td>\n      <td>...</td>\n      <td>...</td>\n    </tr>\n    <tr>\n      <th>31098</th>\n      <td>Revelation</td>\n      <td>22</td>\n      <td>17</td>\n      <td>And the Spirit and the bride say, Come. And le...</td>\n      <td>39</td>\n    </tr>\n    <tr>\n      <th>31099</th>\n      <td>Revelation</td>\n      <td>22</td>\n      <td>18</td>\n      <td>For I testify unto every man that heareth the ...</td>\n      <td>40</td>\n    </tr>\n    <tr>\n      <th>31100</th>\n      <td>Revelation</td>\n      <td>22</td>\n      <td>19</td>\n      <td>And if any man shall take away from the words ...</td>\n      <td>41</td>\n    </tr>\n    <tr>\n      <th>31101</th>\n      <td>Revelation</td>\n      <td>22</td>\n      <td>20</td>\n      <td>He which testifieth these things saith, Surely...</td>\n      <td>42</td>\n    </tr>\n    <tr>\n      <th>31102</th>\n      <td>Revelation</td>\n      <td>22</td>\n      <td>21</td>\n      <td>The grace of our Lord Jesus Christ be with you...</td>\n      <td>43</td>\n    </tr>\n  </tbody>\n</table>\n<p>31103 rows × 5 columns</p>\n</div>"
     },
     "metadata": {},
     "execution_count": 31
    }
   ],
   "source": [
    "df_bible"
   ]
  },
  {
   "cell_type": "code",
   "execution_count": 19,
   "metadata": {},
   "outputs": [],
   "source": [
    "df_bible.to_csv('../Data/finished_bible.txt', sep='\\t')"
   ]
  },
  {
   "cell_type": "code",
   "execution_count": 20,
   "metadata": {},
   "outputs": [],
   "source": [
    "df_bible = pd.read_csv('../Data/finished_bible.txt', sep='\\t')"
   ]
  },
  {
   "cell_type": "code",
   "execution_count": 21,
   "metadata": {},
   "outputs": [
    {
     "output_type": "stream",
     "name": "stdout",
     "text": [
      "Jeremiah\t8\t12\tWere they ashamed when they had committed abomination? nay, they were not at all ashamed, neither could they blush: therefore shall they fall among them that fall: in the time of their visitation they shall be cast down, saith the LORD.\n\n"
     ]
    }
   ],
   "source": [
    "line = random.choice(open('../Data/finished_bible.txt').readlines())\n",
    "print(line)"
   ]
  },
  {
   "cell_type": "code",
   "execution_count": null,
   "metadata": {},
   "outputs": [],
   "source": []
  }
 ],
 "metadata": {
  "kernelspec": {
   "name": "python3",
   "display_name": "Python 3.9.1 64-bit",
   "metadata": {
    "interpreter": {
     "hash": "ac59ebe37160ed0dfa835113d9b8498d9f09ceb179beaac4002f036b9467c963"
    }
   }
  },
  "language_info": {
   "codemirror_mode": {
    "name": "ipython",
    "version": 3
   },
   "file_extension": ".py",
   "mimetype": "text/x-python",
   "name": "python",
   "nbconvert_exporter": "python",
   "pygments_lexer": "ipython3",
   "version": "3.9.1-final"
  },
  "toc": {
   "base_numbering": 1,
   "nav_menu": {},
   "number_sections": true,
   "sideBar": true,
   "skip_h1_title": false,
   "title_cell": "Table of Contents",
   "title_sidebar": "Contents",
   "toc_cell": false,
   "toc_position": {},
   "toc_section_display": true,
   "toc_window_display": false
  }
 },
 "nbformat": 4,
 "nbformat_minor": 2
}