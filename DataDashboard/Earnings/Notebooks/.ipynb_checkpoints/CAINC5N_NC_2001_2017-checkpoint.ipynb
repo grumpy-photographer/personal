{
 "cells": [
  {
   "cell_type": "code",
   "execution_count": 43,
   "metadata": {},
   "outputs": [],
   "source": [
    "import pandas as pd\n",
    "import urllib"
   ]
  },
  {
   "cell_type": "code",
   "execution_count": 44,
   "metadata": {},
   "outputs": [
    {
     "data": {
      "text/plain": [
       "'Must create backups manually at this time!!\\nAdd _BACKUP to the name of the .txt file in Updates and move it to \\n Backups folder before running this script!'"
      ]
     },
     "execution_count": 44,
     "metadata": {},
     "output_type": "execute_result"
    }
   ],
   "source": [
    "'''Must create backups manually at this time!!\n",
    "Add _BACKUP to the name of the .txt file in Updates and move it to \n",
    " Backups folder before running this script!'''"
   ]
  },
  {
   "cell_type": "code",
   "execution_count": null,
   "metadata": {
    "scrolled": true
   },
   "outputs": [],
   "source": [
    "df_data = urlopen('https://apps.bea.gov/regional/zip/CAINC5N.zip')\n",
    "zipcontent = df_data.read()"
   ]
  },
  {
   "cell_type": "code",
   "execution_count": null,
   "metadata": {},
   "outputs": [],
   "source": [
    "#df.to_csv('./Updates/STG_BEA_CAINC5N_NC_2001_2017.txt', sep = '\\t')"
   ]
  }
 ],
 "metadata": {
  "kernelspec": {
   "display_name": "Python 3",
   "language": "python",
   "name": "python3"
  },
  "language_info": {
   "codemirror_mode": {
    "name": "ipython",
    "version": 3
   },
   "file_extension": ".py",
   "mimetype": "text/x-python",
   "name": "python",
   "nbconvert_exporter": "python",
   "pygments_lexer": "ipython3",
   "version": "3.7.4"
  }
 },
 "nbformat": 4,
 "nbformat_minor": 2
}
