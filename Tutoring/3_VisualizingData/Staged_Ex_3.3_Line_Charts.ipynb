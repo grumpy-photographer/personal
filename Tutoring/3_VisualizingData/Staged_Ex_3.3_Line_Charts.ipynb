{
 "cells": [
  {
   "cell_type": "markdown",
   "metadata": {},
   "source": [
    "# Ex 3.3 Line, Area and Scatter Plots\n",
    "\n",
    "- [**In Class**](#In-Class)    \n",
    "  - Yearly Canadian GDP per Capita, All Years  \n",
    "  - Yearly Canadian GDP per Capita, Before 2000\n",
    "\n",
    "\n",
    " \n",
    " \n",
    " \n",
    "- [**Exercise**](#Exercise)    \n",
    "  - Part 1: Display US Population Over Time   \n",
    "  - Part 2: Display How Life Expectancy Has Changed in China  \n",
    "  - Part 3: Compare How Population Has Changed in China vs the US  \n",
    "  - Part 4: Compare How Life Expectancy Has Changed in China vs the US: 1980-2007  \n",
    "  - Part 5: Compare How GDP per Capita Has Changed in Canada vs the US: 1980-2007  \n",
    "  - Part 6: Compare GDP per Capita vs Life Expectancy for 1982\n",
    "\n"
   ]
  },
  {
   "cell_type": "code",
   "execution_count": null,
   "metadata": {},
   "outputs": [],
   "source": [
    "from IPython.display import display, HTML\n",
    "import pandas as pd\n",
    "import math\n",
    "\n",
    "import plotly.express as px\n",
    "import numpy as np\n",
    "from scipy import special"
   ]
  },
  {
   "cell_type": "markdown",
   "metadata": {},
   "source": [
    "# In Class"
   ]
  },
  {
   "cell_type": "code",
   "execution_count": null,
   "metadata": {},
   "outputs": [],
   "source": [
    "# Read the data file Country_Data.csv into a pandas dataframe\n",
    "\n",
    "\n",
    "print(\"Number of Rows: \", df.shape[0])\n",
    "print(\"Number of Columns: \", df.shape[1])\n",
    "df.head()"
   ]
  },
  {
   "cell_type": "markdown",
   "metadata": {},
   "source": [
    "### Yearly Canadian GDP per Capita: All Years  \n",
    "- Chart Type:  Line Chart  \n",
    "- plotly template:  presentation "
   ]
  },
  {
   "cell_type": "code",
   "execution_count": null,
   "metadata": {},
   "outputs": [],
   "source": []
  },
  {
   "cell_type": "code",
   "execution_count": null,
   "metadata": {
    "scrolled": true
   },
   "outputs": [],
   "source": []
  },
  {
   "cell_type": "markdown",
   "metadata": {},
   "source": [
    "### Yearly Canadian GDP per Capita: Before 2000 \n",
    "- Chart Type:  Line Chart"
   ]
  },
  {
   "cell_type": "code",
   "execution_count": null,
   "metadata": {},
   "outputs": [],
   "source": []
  },
  {
   "cell_type": "code",
   "execution_count": null,
   "metadata": {
    "scrolled": true
   },
   "outputs": [],
   "source": []
  },
  {
   "cell_type": "markdown",
   "metadata": {},
   "source": [
    "# Exercise"
   ]
  },
  {
   "cell_type": "markdown",
   "metadata": {},
   "source": [
    "# Part 1: Display US Population  Over Time\n",
    "- Chart Type:  **Line Chart**  "
   ]
  },
  {
   "cell_type": "code",
   "execution_count": null,
   "metadata": {},
   "outputs": [],
   "source": []
  },
  {
   "cell_type": "code",
   "execution_count": null,
   "metadata": {},
   "outputs": [],
   "source": []
  },
  {
   "cell_type": "markdown",
   "metadata": {},
   "source": [
    "# Part 2: Display How Life Expectancy Has Changed in China  Over Time\n",
    "- Chart Type:  **Area Chart**  "
   ]
  },
  {
   "cell_type": "code",
   "execution_count": null,
   "metadata": {},
   "outputs": [],
   "source": []
  },
  {
   "cell_type": "code",
   "execution_count": null,
   "metadata": {},
   "outputs": [],
   "source": []
  },
  {
   "cell_type": "markdown",
   "metadata": {},
   "source": [
    "# Part 3: Compare How Population Has Changed in China vs the US\n",
    "- Chart Type:  **Line Chart**  \n",
    "- All years"
   ]
  },
  {
   "cell_type": "code",
   "execution_count": null,
   "metadata": {},
   "outputs": [],
   "source": []
  },
  {
   "cell_type": "markdown",
   "metadata": {},
   "source": [
    "# Part 4: Compare How Life Expectancy Has Changed in China vs the US\n",
    "- Chart Type:  **Line Chart**  \n",
    "- All years"
   ]
  },
  {
   "cell_type": "code",
   "execution_count": null,
   "metadata": {},
   "outputs": [],
   "source": []
  },
  {
   "cell_type": "markdown",
   "metadata": {},
   "source": [
    "# Part 5: Compare How GDP per Capita Has Changed in Canada vs the US: 1980-2007\n",
    "- Chart Type:  **Line Chart**  "
   ]
  },
  {
   "cell_type": "code",
   "execution_count": null,
   "metadata": {},
   "outputs": [],
   "source": []
  },
  {
   "cell_type": "markdown",
   "metadata": {},
   "source": [
    "# Part 6: Compare GDP per Capita vs Life Expectancy for  1982\n",
    "- Chart Type:  **Scatter Plot**  \n",
    "- Put GDP per Capita on the x-axis"
   ]
  },
  {
   "cell_type": "code",
   "execution_count": null,
   "metadata": {},
   "outputs": [],
   "source": []
  }
 ],
 "metadata": {
  "kernelspec": {
   "display_name": "Python 3",
   "language": "python",
   "name": "python3"
  },
  "language_info": {
   "codemirror_mode": {
    "name": "ipython",
    "version": 3
   },
   "file_extension": ".py",
   "mimetype": "text/x-python",
   "name": "python",
   "nbconvert_exporter": "python",
   "pygments_lexer": "ipython3",
   "version": "3.7.4"
  }
 },
 "nbformat": 4,
 "nbformat_minor": 4
}
