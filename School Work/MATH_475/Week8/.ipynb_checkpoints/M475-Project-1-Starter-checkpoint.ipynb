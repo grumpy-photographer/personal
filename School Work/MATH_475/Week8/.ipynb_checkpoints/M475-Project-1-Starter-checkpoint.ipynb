{
 "cells": [
  {
   "cell_type": "markdown",
   "metadata": {},
   "source": [
    "Give your document a title. Include ALL co-authors. "
   ]
  },
  {
   "cell_type": "markdown",
   "metadata": {},
   "source": []
  },
  {
   "cell_type": "markdown",
   "metadata": {},
   "source": [
    "1. Create a Table of Contents for the notebook, using hyperlinks.\n"
   ]
  },
  {
   "cell_type": "markdown",
   "metadata": {},
   "source": [
    "2. Make sure that your notebook is well-organized into section, with verbal explanations as well as code. \n",
    "\n",
    "## **Make sure that all numbered items are deleted, replaced with appropriate sentences and narrative.**\n",
    "\n",
    "## **Take away your code and only look at the Markdown. How much would someone who did not know much about this subject be able to understand what you are doing in this report?**\n",
    "\n"
   ]
  },
  {
   "cell_type": "markdown",
   "metadata": {},
   "source": [
    "## (**IMPORTANT:**) **Acknowledgments:** List any conversations you had with anyone who was not a co-author related to this project. Briefly describe the details of the conversation and how you are using any information. \n",
    "\n",
    "# <span style=\"color:red\"> **Failure to complete the \"Acknowledgments\" section will place the co-authors at risk of Academic Dishonesty.** </span>"
   ]
  },
  {
   "cell_type": "markdown",
   "metadata": {},
   "source": [
    "3. Choose one of the following data sets:\n",
    "* Miles-Per-Gallon (https://archive.ics.uci.edu/ml/datasets/Auto+MPG)\n",
    "* Cuff-less Blood Pressure Prediction (https://archive.ics.uci.edu/ml/datasets/Cuff-Less+Blood+Pressure+Estimation)\n",
    "* Online News Popularity (LAGRE) (https://archive.ics.uci.edu/ml/datasets/Online+News+Popularity)\n",
    "* Residential Building Projects (https://archive.ics.uci.edu/ml/datasets/Residential+Building+Data+Set)\n",
    "* A data set that you are interested in; please e-mail Dr. Penland to discuss by end of day Monday, October 12. "
   ]
  },
  {
   "cell_type": "markdown",
   "metadata": {},
   "source": [
    "4. Briefly explain the data set you chose. What does the data contain? Why is that interesting to you? "
   ]
  },
  {
   "cell_type": "markdown",
   "metadata": {},
   "source": [
    "5. Explain the problem you are considering. What is the target you hope to predict? Which features are available to you? "
   ]
  },
  {
   "cell_type": "markdown",
   "metadata": {},
   "source": [
    "6. Use an appropriate command to read the data set into a format that are accessible to Python libraries we have used. "
   ]
  },
  {
   "cell_type": "markdown",
   "metadata": {},
   "source": [
    "7. Analyze the data using at least one plot. "
   ]
  },
  {
   "cell_type": "markdown",
   "metadata": {},
   "source": [
    "8. Summarize in a sentence what information this plot has given you about the new data. "
   ]
  },
  {
   "cell_type": "markdown",
   "metadata": {},
   "source": [
    "9. Split the data into training and testing sets, with the size of the test data set equal to 30% overall.  "
   ]
  },
  {
   "cell_type": "markdown",
   "metadata": {},
   "source": [
    "10. Create an sklearn model (of your choice) on the training set. Depending on the data set and the model you choose, you may need to preprocess the data (dealing with categorical or missing variable, scaling appropriately, etc.)"
   ]
  },
  {
   "cell_type": "markdown",
   "metadata": {},
   "source": [
    "11. Find the sklearn **score** of the model on both the training and testing set. "
   ]
  },
  {
   "cell_type": "markdown",
   "metadata": {},
   "source": [
    "12. Create at least one resdual plot. "
   ]
  },
  {
   "cell_type": "markdown",
   "metadata": {},
   "source": [
    "13. Based on the scores, the residual plot, and any other relevant information, analyze the performance of the model. Does it appear to be clearly overfit/underfit? Is there any information being left out? "
   ]
  },
  {
   "cell_type": "markdown",
   "metadata": {},
   "source": [
    "14. Train and analyze another model on this same data set. Follow all of the same steps that you did on the first model, **plus** some form of feature selection (either human-centric or automated)."
   ]
  },
  {
   "cell_type": "markdown",
   "metadata": {},
   "source": [
    "15. Would you recommend either model that you have considered for real-life prediction based on this data set? If yes, explain why. If no, what other models would you consider?"
   ]
  },
  {
   "cell_type": "markdown",
   "metadata": {},
   "source": [
    "16. List three specific things that you have learned or strengthened as a result of doing this project."
   ]
  },
  {
   "cell_type": "markdown",
   "metadata": {},
   "source": [
    "17. List three **good** questions that you can related to your work on this project."
   ]
  },
  {
   "cell_type": "markdown",
   "metadata": {},
   "source": [
    "# <span style=\"color:red\"> **IMPORTANT**: REFERENCES List **ALL** books,videos, websites, etc. that you consulted. Explain how you used the information that you obtained from them. (If you found the information unhelpful, still list the resource -- just mention that.) <\\span>"
   ]
  },
  {
   "cell_type": "code",
   "execution_count": null,
   "metadata": {},
   "outputs": [],
   "source": []
  }
 ],
 "metadata": {
  "kernelspec": {
   "display_name": "Python 3",
   "language": "python",
   "name": "python3"
  },
  "language_info": {
   "codemirror_mode": {
    "name": "ipython",
    "version": 3
   },
   "file_extension": ".py",
   "mimetype": "text/x-python",
   "name": "python",
   "nbconvert_exporter": "python",
   "pygments_lexer": "ipython3",
   "version": "3.7.9"
  },
  "toc": {
   "base_numbering": 1,
   "nav_menu": {},
   "number_sections": true,
   "sideBar": true,
   "skip_h1_title": false,
   "title_cell": "Table of Contents",
   "title_sidebar": "Contents",
   "toc_cell": false,
   "toc_position": {},
   "toc_section_display": true,
   "toc_window_display": false
  }
 },
 "nbformat": 4,
 "nbformat_minor": 4
}
