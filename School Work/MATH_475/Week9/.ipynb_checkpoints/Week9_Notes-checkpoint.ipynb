{
 "cells": [
  {
   "cell_type": "markdown",
   "metadata": {
    "toc": true
   },
   "source": [
    "<h1>Table of Contents<span class=\"tocSkip\"></span></h1>\n",
    "<div class=\"toc\"><ul class=\"toc-item\"><li><span><a href=\"#Week-9-Notes\" data-toc-modified-id=\"Week-9-Notes-1\"><span class=\"toc-item-num\">1&nbsp;&nbsp;</span>Week 9 Notes</a></span></li><li><span><a href=\"#Decision-Tree\" data-toc-modified-id=\"Decision-Tree-2\"><span class=\"toc-item-num\">2&nbsp;&nbsp;</span>Decision Tree</a></span></li></ul></div>"
   ]
  },
  {
   "cell_type": "markdown",
   "metadata": {},
   "source": [
    "## Week 9 Notes"
   ]
  },
  {
   "cell_type": "markdown",
   "metadata": {},
   "source": [
    "L2"
   ]
  },
  {
   "cell_type": "code",
   "execution_count": 1,
   "metadata": {
    "ExecuteTime": {
     "end_time": "2020-10-08T22:37:02.293514Z",
     "start_time": "2020-10-08T22:37:02.020294Z"
    }
   },
   "outputs": [],
   "source": [
    "import numpy as np"
   ]
  },
  {
   "cell_type": "code",
   "execution_count": 2,
   "metadata": {
    "ExecuteTime": {
     "end_time": "2020-10-08T22:37:53.951488Z",
     "start_time": "2020-10-08T22:37:53.933424Z"
    }
   },
   "outputs": [],
   "source": [
    "def l2(w,v):\n",
    "    return np.sqrt(np.sum(np.square(w-v)))"
   ]
  },
  {
   "cell_type": "code",
   "execution_count": 3,
   "metadata": {
    "ExecuteTime": {
     "end_time": "2020-10-08T22:38:01.585117Z",
     "start_time": "2020-10-08T22:38:01.538488Z"
    }
   },
   "outputs": [
    {
     "data": {
      "text/plain": [
       "1.0"
      ]
     },
     "execution_count": 3,
     "metadata": {},
     "output_type": "execute_result"
    }
   ],
   "source": [
    "l2(3,4)"
   ]
  },
  {
   "cell_type": "code",
   "execution_count": 7,
   "metadata": {
    "ExecuteTime": {
     "end_time": "2020-10-08T22:40:08.698022Z",
     "start_time": "2020-10-08T22:40:08.665692Z"
    }
   },
   "outputs": [
    {
     "data": {
      "text/plain": [
       "658.0"
      ]
     },
     "execution_count": 7,
     "metadata": {},
     "output_type": "execute_result"
    }
   ],
   "source": [
    "l2(100,758)"
   ]
  },
  {
   "cell_type": "markdown",
   "metadata": {},
   "source": [
    "***"
   ]
  },
  {
   "cell_type": "markdown",
   "metadata": {},
   "source": [
    "L1"
   ]
  },
  {
   "cell_type": "code",
   "execution_count": 8,
   "metadata": {
    "ExecuteTime": {
     "end_time": "2020-10-08T22:43:54.331598Z",
     "start_time": "2020-10-08T22:43:54.322757Z"
    }
   },
   "outputs": [],
   "source": [
    "def l1(w,v):\n",
    "    return np.sum(np.abs(w-v))"
   ]
  },
  {
   "cell_type": "code",
   "execution_count": 12,
   "metadata": {
    "ExecuteTime": {
     "end_time": "2020-10-08T22:44:38.201211Z",
     "start_time": "2020-10-08T22:44:38.184491Z"
    }
   },
   "outputs": [
    {
     "data": {
      "text/plain": [
       "1"
      ]
     },
     "execution_count": 12,
     "metadata": {},
     "output_type": "execute_result"
    }
   ],
   "source": [
    "l1(3,4)"
   ]
  },
  {
   "cell_type": "code",
   "execution_count": 10,
   "metadata": {
    "ExecuteTime": {
     "end_time": "2020-10-08T22:44:13.202197Z",
     "start_time": "2020-10-08T22:44:13.188543Z"
    }
   },
   "outputs": [
    {
     "data": {
      "text/plain": [
       "658"
      ]
     },
     "execution_count": 10,
     "metadata": {},
     "output_type": "execute_result"
    }
   ],
   "source": [
    "l1(100, 758)"
   ]
  },
  {
   "cell_type": "markdown",
   "metadata": {},
   "source": [
    "***"
   ]
  },
  {
   "cell_type": "markdown",
   "metadata": {},
   "source": [
    "1. kNN can overfit by \"memorizing\" answers (if the number of neighbors isn't too large) \n",
    "\n",
    "2. need to ensure features are on the same scale\n",
    "\n",
    "3. make sure you remove any irrelevant features\n",
    "\n",
    "** May not work perfectly, but should work better **"
   ]
  },
  {
   "cell_type": "markdown",
   "metadata": {},
   "source": [
    "Q. If training set has 5 observations, and you did 5 NN, what would target look like?\n",
    "\n",
    "A. the average of 5 targets"
   ]
  },
  {
   "cell_type": "markdown",
   "metadata": {},
   "source": [
    "***"
   ]
  },
  {
   "cell_type": "markdown",
   "metadata": {},
   "source": [
    "## Decision Tree"
   ]
  },
  {
   "cell_type": "markdown",
   "metadata": {},
   "source": [
    "Tree: graph with no cycles\n",
    "\n",
    "Go forward from one node to another, but can't go back"
   ]
  },
  {
   "cell_type": "markdown",
   "metadata": {},
   "source": [
    "A leaf is a vertex that only has one neighbor (like the leaf of a tree)"
   ]
  },
  {
   "cell_type": "markdown",
   "metadata": {},
   "source": [
    "Depth/level = splits"
   ]
  },
  {
   "cell_type": "markdown",
   "metadata": {},
   "source": [
    "Hire someone for a job, you want to figure out what their starting salary should be\n",
    "\n",
    "Interview process:\n",
    "    \n",
    "    ask questions\n",
    "    at the end, you will decide on a salary\n",
    "\n",
    "In a decision tree, you can only ask yes/no questions"
   ]
  },
  {
   "cell_type": "markdown",
   "metadata": {},
   "source": [
    "***"
   ]
  },
  {
   "cell_type": "markdown",
   "metadata": {},
   "source": [
    "sometimes things that look like outliers don't look like outliers on a log scale"
   ]
  },
  {
   "cell_type": "markdown",
   "metadata": {},
   "source": [
    "***"
   ]
  },
  {
   "cell_type": "markdown",
   "metadata": {
    "ExecuteTime": {
     "end_time": "2020-10-08T23:21:34.887763Z",
     "start_time": "2020-10-08T23:21:34.860987Z"
    }
   },
   "source": [
    "do larger coefs suggest more important features?\n",
    "\n",
    "yes -- if the features are on the same scale"
   ]
  },
  {
   "cell_type": "markdown",
   "metadata": {},
   "source": [
    "Data leakage: once you're modeling something, your model might impact what you are modeling\n",
    "\n",
    "\n",
    "ie:  you're trying to figure out where to place police, but you will put cops where there is high crime.  high crime could be due to more cops making more arrests"
   ]
  },
  {
   "cell_type": "code",
   "execution_count": null,
   "metadata": {},
   "outputs": [],
   "source": []
  }
 ],
 "metadata": {
  "kernelspec": {
   "display_name": "Python 3",
   "language": "python",
   "name": "python3"
  },
  "language_info": {
   "codemirror_mode": {
    "name": "ipython",
    "version": 3
   },
   "file_extension": ".py",
   "mimetype": "text/x-python",
   "name": "python",
   "nbconvert_exporter": "python",
   "pygments_lexer": "ipython3",
   "version": "3.7.9"
  },
  "toc": {
   "base_numbering": 1,
   "nav_menu": {},
   "number_sections": true,
   "sideBar": false,
   "skip_h1_title": true,
   "title_cell": "Table of Contents",
   "title_sidebar": "Contents",
   "toc_cell": true,
   "toc_position": {},
   "toc_section_display": true,
   "toc_window_display": false
  }
 },
 "nbformat": 4,
 "nbformat_minor": 4
}
