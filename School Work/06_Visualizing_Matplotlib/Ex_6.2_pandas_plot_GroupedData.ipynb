{
 "cells": [
  {
   "cell_type": "markdown",
   "metadata": {},
   "source": [
    "# Ex 6.2 Grouping and plotting data\n",
    "\n",
    "- [In Class: Household Data](#In-Class:-Household-Data)  \n",
    "\n",
    "\n",
    "- **Ex 6.1**   \n",
    "  - [Part 1: Shoe Store](#Part-1:-Shoe-Store)   \n",
    "  - [Part 2: Bike Store](#Part-2:-Bike-Store)  \n"
   ]
  },
  {
   "cell_type": "code",
   "execution_count": 1,
   "metadata": {},
   "outputs": [],
   "source": [
    "import pandas as pd"
   ]
  },
  {
   "cell_type": "markdown",
   "metadata": {},
   "source": [
    "# In Class: Household Data"
   ]
  },
  {
   "cell_type": "code",
   "execution_count": 2,
   "metadata": {},
   "outputs": [
    {
     "data": {
      "text/html": [
       "<div>\n",
       "<style scoped>\n",
       "    .dataframe tbody tr th:only-of-type {\n",
       "        vertical-align: middle;\n",
       "    }\n",
       "\n",
       "    .dataframe tbody tr th {\n",
       "        vertical-align: top;\n",
       "    }\n",
       "\n",
       "    .dataframe thead th {\n",
       "        text-align: right;\n",
       "    }\n",
       "</style>\n",
       "<table border=\"1\" class=\"dataframe\">\n",
       "  <thead>\n",
       "    <tr style=\"text-align: right;\">\n",
       "      <th></th>\n",
       "      <th>Month</th>\n",
       "      <th>Category</th>\n",
       "      <th>Amount</th>\n",
       "    </tr>\n",
       "  </thead>\n",
       "  <tbody>\n",
       "    <tr>\n",
       "      <th>0</th>\n",
       "      <td>1/1/2018</td>\n",
       "      <td>Transportation</td>\n",
       "      <td>74</td>\n",
       "    </tr>\n",
       "    <tr>\n",
       "      <th>1</th>\n",
       "      <td>1/1/2018</td>\n",
       "      <td>Grocery</td>\n",
       "      <td>235</td>\n",
       "    </tr>\n",
       "    <tr>\n",
       "      <th>2</th>\n",
       "      <td>1/1/2018</td>\n",
       "      <td>Household</td>\n",
       "      <td>175</td>\n",
       "    </tr>\n",
       "    <tr>\n",
       "      <th>3</th>\n",
       "      <td>1/1/2018</td>\n",
       "      <td>Entertainment</td>\n",
       "      <td>100</td>\n",
       "    </tr>\n",
       "    <tr>\n",
       "      <th>4</th>\n",
       "      <td>2/1/2018</td>\n",
       "      <td>Transportation</td>\n",
       "      <td>115</td>\n",
       "    </tr>\n",
       "    <tr>\n",
       "      <th>5</th>\n",
       "      <td>2/1/2018</td>\n",
       "      <td>Grocery</td>\n",
       "      <td>240</td>\n",
       "    </tr>\n",
       "    <tr>\n",
       "      <th>6</th>\n",
       "      <td>2/1/2018</td>\n",
       "      <td>Household</td>\n",
       "      <td>225</td>\n",
       "    </tr>\n",
       "    <tr>\n",
       "      <th>7</th>\n",
       "      <td>2/1/2018</td>\n",
       "      <td>Entertainment</td>\n",
       "      <td>125</td>\n",
       "    </tr>\n",
       "    <tr>\n",
       "      <th>8</th>\n",
       "      <td>3/1/2018</td>\n",
       "      <td>Transportation</td>\n",
       "      <td>90</td>\n",
       "    </tr>\n",
       "    <tr>\n",
       "      <th>9</th>\n",
       "      <td>3/1/2018</td>\n",
       "      <td>Grocery</td>\n",
       "      <td>260</td>\n",
       "    </tr>\n",
       "    <tr>\n",
       "      <th>10</th>\n",
       "      <td>3/1/2018</td>\n",
       "      <td>Household</td>\n",
       "      <td>200</td>\n",
       "    </tr>\n",
       "    <tr>\n",
       "      <th>11</th>\n",
       "      <td>3/1/2018</td>\n",
       "      <td>Entertainment</td>\n",
       "      <td>120</td>\n",
       "    </tr>\n",
       "  </tbody>\n",
       "</table>\n",
       "</div>"
      ],
      "text/plain": [
       "       Month        Category  Amount\n",
       "0   1/1/2018  Transportation      74\n",
       "1   1/1/2018         Grocery     235\n",
       "2   1/1/2018       Household     175\n",
       "3   1/1/2018   Entertainment     100\n",
       "4   2/1/2018  Transportation     115\n",
       "5   2/1/2018         Grocery     240\n",
       "6   2/1/2018       Household     225\n",
       "7   2/1/2018   Entertainment     125\n",
       "8   3/1/2018  Transportation      90\n",
       "9   3/1/2018         Grocery     260\n",
       "10  3/1/2018       Household     200\n",
       "11  3/1/2018   Entertainment     120"
      ]
     },
     "execution_count": 2,
     "metadata": {},
     "output_type": "execute_result"
    }
   ],
   "source": [
    "# Read the csv file\n",
    "df = pd.read_csv(\"Data/Data_Household.csv\")\n",
    "df"
   ]
  },
  {
   "cell_type": "markdown",
   "metadata": {},
   "source": [
    "### Cleanup Data Types as Needed"
   ]
  },
  {
   "cell_type": "code",
   "execution_count": 3,
   "metadata": {},
   "outputs": [
    {
     "data": {
      "text/plain": [
       "Month       object\n",
       "Category    object\n",
       "Amount       int64\n",
       "dtype: object"
      ]
     },
     "execution_count": 3,
     "metadata": {},
     "output_type": "execute_result"
    }
   ],
   "source": [
    "# Display the types of the columns in the dataframe\n",
    "df.dtypes"
   ]
  },
  {
   "cell_type": "code",
   "execution_count": 4,
   "metadata": {},
   "outputs": [
    {
     "data": {
      "text/plain": [
       "Month       datetime64[ns]\n",
       "Category            object\n",
       "Amount               int64\n",
       "dtype: object"
      ]
     },
     "execution_count": 4,
     "metadata": {},
     "output_type": "execute_result"
    }
   ],
   "source": [
    "# Convert the Month column to a datetime type\n",
    "df['Month'] = pd.to_datetime(df['Month'])\n",
    "\n",
    "df.dtypes"
   ]
  },
  {
   "cell_type": "markdown",
   "metadata": {},
   "source": [
    "### Display and Plot the Total Amount spent by Category  \n",
    "- Sort by largest to smallest amount sum"
   ]
  },
  {
   "cell_type": "code",
   "execution_count": 5,
   "metadata": {},
   "outputs": [
    {
     "name": "stdout",
     "output_type": "stream",
     "text": [
      "<class 'pandas.core.series.Series'>\n"
     ]
    },
    {
     "data": {
      "text/plain": [
       "Category\n",
       "Entertainment     345\n",
       "Grocery           735\n",
       "Household         600\n",
       "Transportation    279\n",
       "Name: Amount, dtype: int64"
      ]
     },
     "execution_count": 5,
     "metadata": {},
     "output_type": "execute_result"
    }
   ],
   "source": [
    "# Sum by Type: Category\n",
    "amount_by_category = df.groupby(\"Category\")['Amount'].sum()\n",
    "\n",
    "print(type(amount_by_category))\n",
    "amount_by_category.head()"
   ]
  },
  {
   "cell_type": "code",
   "execution_count": 6,
   "metadata": {},
   "outputs": [
    {
     "data": {
      "text/plain": [
       "<matplotlib.axes._subplots.AxesSubplot at 0xac63db0>"
      ]
     },
     "execution_count": 6,
     "metadata": {},
     "output_type": "execute_result"
    }
   ],
   "source": [
    "amount_by_category.plot.bar(title='Total Amount Spent by Category')"
   ]
  },
  {
   "cell_type": "markdown",
   "metadata": {},
   "source": [
    "### Display the Mean Amount spent by Month"
   ]
  },
  {
   "cell_type": "code",
   "execution_count": 7,
   "metadata": {},
   "outputs": [
    {
     "name": "stdout",
     "output_type": "stream",
     "text": [
      "<class 'pandas.core.series.Series'>\n"
     ]
    },
    {
     "data": {
      "text/plain": [
       "Month\n",
       "2018-01-01    146.00\n",
       "2018-02-01    176.25\n",
       "2018-03-01    167.50\n",
       "Name: Amount, dtype: float64"
      ]
     },
     "execution_count": 7,
     "metadata": {},
     "output_type": "execute_result"
    }
   ],
   "source": [
    "# Means by Type: Month\n",
    "amount_means_by_month = df.groupby(\"Month\")['Amount'].mean()\n",
    "\n",
    "print(type(amount_means_by_month))\n",
    "amount_means_by_month.head()"
   ]
  },
  {
   "cell_type": "code",
   "execution_count": 8,
   "metadata": {},
   "outputs": [
    {
     "name": "stdout",
     "output_type": "stream",
     "text": [
      "Index(['Jan', 'Feb', 'Mar'], dtype='object')\n"
     ]
    }
   ],
   "source": [
    "# Now that it's sorted in the right order, rename the index to be month names (three letters) \n",
    "amount_means_by_month.index = amount_means_by_month.index.strftime('%b')\n",
    "\n",
    "print(amount_means_by_month.index)"
   ]
  },
  {
   "cell_type": "code",
   "execution_count": 9,
   "metadata": {},
   "outputs": [
    {
     "data": {
      "text/plain": [
       "<matplotlib.axes._subplots.AxesSubplot at 0xbe54b30>"
      ]
     },
     "execution_count": 9,
     "metadata": {},
     "output_type": "execute_result"
    },
    {
     "data": {
      "image/png": "[encoded data removed]",
      "text/plain": [
       "<Figure size 432x288 with 1 Axes>"
      ]
     },
     "metadata": {
      "needs_background": "light"
     },
     "output_type": "display_data"
    }
   ],
   "source": [
    "# Plot\n",
    "amount_means_by_month.plot.bar(title='Mean Amount Spent by Month')"
   ]
  },
  {
   "cell_type": "markdown",
   "metadata": {},
   "source": [
    "# Ex 6.2"
   ]
  },
  {
   "cell_type": "markdown",
   "metadata": {},
   "source": [
    "# Part 1: Shoe Store  \n",
    "Data source: *6.1_Exercise_Start.csv*"
   ]
  },
  {
   "cell_type": "code",
   "execution_count": 10,
   "metadata": {},
   "outputs": [
    {
     "data": {
      "text/html": [
       "<div>\n",
       "<style scoped>\n",
       "    .dataframe tbody tr th:only-of-type {\n",
       "        vertical-align: middle;\n",
       "    }\n",
       "\n",
       "    .dataframe tbody tr th {\n",
       "        vertical-align: top;\n",
       "    }\n",
       "\n",
       "    .dataframe thead th {\n",
       "        text-align: right;\n",
       "    }\n",
       "</style>\n",
       "<table border=\"1\" class=\"dataframe\">\n",
       "  <thead>\n",
       "    <tr style=\"text-align: right;\">\n",
       "      <th></th>\n",
       "      <th>OrderID</th>\n",
       "      <th>Order Date</th>\n",
       "      <th>Product</th>\n",
       "      <th>Size (US)</th>\n",
       "      <th>Colour</th>\n",
       "      <th>Price ($)</th>\n",
       "      <th>Store</th>\n",
       "    </tr>\n",
       "  </thead>\n",
       "  <tbody>\n",
       "    <tr>\n",
       "      <th>0</th>\n",
       "      <td>1</td>\n",
       "      <td>1/2/2015</td>\n",
       "      <td>Boots</td>\n",
       "      <td>7</td>\n",
       "      <td>Gold</td>\n",
       "      <td>25</td>\n",
       "      <td>California</td>\n",
       "    </tr>\n",
       "    <tr>\n",
       "      <th>1</th>\n",
       "      <td>2</td>\n",
       "      <td>1/2/2015</td>\n",
       "      <td>Boots</td>\n",
       "      <td>4</td>\n",
       "      <td>Black</td>\n",
       "      <td>25</td>\n",
       "      <td>New York</td>\n",
       "    </tr>\n",
       "    <tr>\n",
       "      <th>2</th>\n",
       "      <td>3</td>\n",
       "      <td>1/2/2015</td>\n",
       "      <td>Boots</td>\n",
       "      <td>6</td>\n",
       "      <td>Red</td>\n",
       "      <td>25</td>\n",
       "      <td>Georgia</td>\n",
       "    </tr>\n",
       "    <tr>\n",
       "      <th>3</th>\n",
       "      <td>4</td>\n",
       "      <td>1/3/2015</td>\n",
       "      <td>House Slippers</td>\n",
       "      <td>11</td>\n",
       "      <td>Black</td>\n",
       "      <td>8</td>\n",
       "      <td>Internet</td>\n",
       "    </tr>\n",
       "    <tr>\n",
       "      <th>4</th>\n",
       "      <td>5</td>\n",
       "      <td>1/3/2015</td>\n",
       "      <td>Boots</td>\n",
       "      <td>6</td>\n",
       "      <td>Silver</td>\n",
       "      <td>25</td>\n",
       "      <td>California</td>\n",
       "    </tr>\n",
       "    <tr>\n",
       "      <th>5</th>\n",
       "      <td>6</td>\n",
       "      <td>1/3/2015</td>\n",
       "      <td>Boots</td>\n",
       "      <td>5</td>\n",
       "      <td>Gold</td>\n",
       "      <td>25</td>\n",
       "      <td>New York</td>\n",
       "    </tr>\n",
       "    <tr>\n",
       "      <th>6</th>\n",
       "      <td>7</td>\n",
       "      <td>1/3/2015</td>\n",
       "      <td>Boots</td>\n",
       "      <td>10</td>\n",
       "      <td>Black</td>\n",
       "      <td>25</td>\n",
       "      <td>California</td>\n",
       "    </tr>\n",
       "    <tr>\n",
       "      <th>7</th>\n",
       "      <td>8</td>\n",
       "      <td>1/3/2015</td>\n",
       "      <td>Boots</td>\n",
       "      <td>9</td>\n",
       "      <td>Black</td>\n",
       "      <td>25</td>\n",
       "      <td>New York</td>\n",
       "    </tr>\n",
       "    <tr>\n",
       "      <th>8</th>\n",
       "      <td>9</td>\n",
       "      <td>1/3/2015</td>\n",
       "      <td>House Slippers</td>\n",
       "      <td>8</td>\n",
       "      <td>Black</td>\n",
       "      <td>8</td>\n",
       "      <td>Internet</td>\n",
       "    </tr>\n",
       "    <tr>\n",
       "      <th>9</th>\n",
       "      <td>10</td>\n",
       "      <td>1/4/2015</td>\n",
       "      <td>Boots</td>\n",
       "      <td>12</td>\n",
       "      <td>Black</td>\n",
       "      <td>25</td>\n",
       "      <td>New York</td>\n",
       "    </tr>\n",
       "  </tbody>\n",
       "</table>\n",
       "</div>"
      ],
      "text/plain": [
       "   OrderID Order Date         Product  Size (US)  Colour  Price ($)  \\\n",
       "0        1   1/2/2015           Boots          7    Gold         25   \n",
       "1        2   1/2/2015           Boots          4   Black         25   \n",
       "2        3   1/2/2015           Boots          6     Red         25   \n",
       "3        4   1/3/2015  House Slippers         11   Black          8   \n",
       "4        5   1/3/2015           Boots          6  Silver         25   \n",
       "5        6   1/3/2015           Boots          5    Gold         25   \n",
       "6        7   1/3/2015           Boots         10   Black         25   \n",
       "7        8   1/3/2015           Boots          9   Black         25   \n",
       "8        9   1/3/2015  House Slippers          8   Black          8   \n",
       "9       10   1/4/2015           Boots         12   Black         25   \n",
       "\n",
       "        Store  \n",
       "0  California  \n",
       "1    New York  \n",
       "2     Georgia  \n",
       "3    Internet  \n",
       "4  California  \n",
       "5    New York  \n",
       "6  California  \n",
       "7    New York  \n",
       "8    Internet  \n",
       "9    New York  "
      ]
     },
     "execution_count": 10,
     "metadata": {},
     "output_type": "execute_result"
    }
   ],
   "source": [
    "# Read the csv file\n",
    "df_Shoes = pd.read_csv(\"Data/6.1_Exercise_Start.csv\")\n",
    "df_Shoes.head(10)"
   ]
  },
  {
   "cell_type": "markdown",
   "metadata": {},
   "source": [
    "### Cleanup Data Types as Needed"
   ]
  },
  {
   "cell_type": "code",
   "execution_count": 11,
   "metadata": {
    "scrolled": true
   },
   "outputs": [
    {
     "data": {
      "text/plain": [
       "OrderID        int64\n",
       "Order Date    object\n",
       "Product       object\n",
       "Size (US)      int64\n",
       "Colour        object\n",
       "Price ($)      int64\n",
       "Store         object\n",
       "dtype: object"
      ]
     },
     "execution_count": 11,
     "metadata": {},
     "output_type": "execute_result"
    }
   ],
   "source": [
    "df_Shoes.dtypes"
   ]
  },
  {
   "cell_type": "code",
   "execution_count": 12,
   "metadata": {},
   "outputs": [],
   "source": [
    "# Fix some data types\n",
    "df_Shoes['Order Date'] = pd.to_datetime(df_Shoes['Order Date'])"
   ]
  },
  {
   "cell_type": "code",
   "execution_count": 13,
   "metadata": {},
   "outputs": [
    {
     "data": {
      "text/html": [
       "<div>\n",
       "<style scoped>\n",
       "    .dataframe tbody tr th:only-of-type {\n",
       "        vertical-align: middle;\n",
       "    }\n",
       "\n",
       "    .dataframe tbody tr th {\n",
       "        vertical-align: top;\n",
       "    }\n",
       "\n",
       "    .dataframe thead th {\n",
       "        text-align: right;\n",
       "    }\n",
       "</style>\n",
       "<table border=\"1\" class=\"dataframe\">\n",
       "  <thead>\n",
       "    <tr style=\"text-align: right;\">\n",
       "      <th></th>\n",
       "      <th>OrderID</th>\n",
       "      <th>Order Date</th>\n",
       "      <th>Product</th>\n",
       "      <th>Size (US)</th>\n",
       "      <th>Colour</th>\n",
       "      <th>Price ($)</th>\n",
       "      <th>Store</th>\n",
       "    </tr>\n",
       "  </thead>\n",
       "  <tbody>\n",
       "    <tr>\n",
       "      <th>0</th>\n",
       "      <td>1</td>\n",
       "      <td>2015-01-02</td>\n",
       "      <td>Boots</td>\n",
       "      <td>7</td>\n",
       "      <td>Gold</td>\n",
       "      <td>25</td>\n",
       "      <td>California</td>\n",
       "    </tr>\n",
       "    <tr>\n",
       "      <th>1</th>\n",
       "      <td>2</td>\n",
       "      <td>2015-01-02</td>\n",
       "      <td>Boots</td>\n",
       "      <td>4</td>\n",
       "      <td>Black</td>\n",
       "      <td>25</td>\n",
       "      <td>New York</td>\n",
       "    </tr>\n",
       "    <tr>\n",
       "      <th>2</th>\n",
       "      <td>3</td>\n",
       "      <td>2015-01-02</td>\n",
       "      <td>Boots</td>\n",
       "      <td>6</td>\n",
       "      <td>Red</td>\n",
       "      <td>25</td>\n",
       "      <td>Georgia</td>\n",
       "    </tr>\n",
       "    <tr>\n",
       "      <th>3</th>\n",
       "      <td>4</td>\n",
       "      <td>2015-01-03</td>\n",
       "      <td>House Slippers</td>\n",
       "      <td>11</td>\n",
       "      <td>Black</td>\n",
       "      <td>8</td>\n",
       "      <td>Internet</td>\n",
       "    </tr>\n",
       "    <tr>\n",
       "      <th>4</th>\n",
       "      <td>5</td>\n",
       "      <td>2015-01-03</td>\n",
       "      <td>Boots</td>\n",
       "      <td>6</td>\n",
       "      <td>Silver</td>\n",
       "      <td>25</td>\n",
       "      <td>California</td>\n",
       "    </tr>\n",
       "  </tbody>\n",
       "</table>\n",
       "</div>"
      ],
      "text/plain": [
       "   OrderID Order Date         Product  Size (US)  Colour  Price ($)  \\\n",
       "0        1 2015-01-02           Boots          7    Gold         25   \n",
       "1        2 2015-01-02           Boots          4   Black         25   \n",
       "2        3 2015-01-02           Boots          6     Red         25   \n",
       "3        4 2015-01-03  House Slippers         11   Black          8   \n",
       "4        5 2015-01-03           Boots          6  Silver         25   \n",
       "\n",
       "        Store  \n",
       "0  California  \n",
       "1    New York  \n",
       "2     Georgia  \n",
       "3    Internet  \n",
       "4  California  "
      ]
     },
     "execution_count": 13,
     "metadata": {},
     "output_type": "execute_result"
    }
   ],
   "source": [
    "df_Shoes.dtypes\n",
    "df_Shoes.head()"
   ]
  },
  {
   "cell_type": "markdown",
   "metadata": {},
   "source": [
    "### 1.a Sales Summed by Store"
   ]
  },
  {
   "cell_type": "code",
   "execution_count": 14,
   "metadata": {},
   "outputs": [
    {
     "name": "stdout",
     "output_type": "stream",
     "text": [
      "<class 'pandas.core.series.Series'>\n"
     ]
    },
    {
     "data": {
      "text/plain": [
       "<matplotlib.axes._subplots.AxesSubplot at 0xbea5db0>"
      ]
     },
     "execution_count": 14,
     "metadata": {},
     "output_type": "execute_result"
    },
    {
     "data": {
      "image/png": "[encoded data removed]",
      "text/plain": [
       "<Figure size 432x288 with 1 Axes>"
      ]
     },
     "metadata": {
      "needs_background": "light"
     },
     "output_type": "display_data"
    }
   ],
   "source": [
    "# Sum Sales by Store\n",
    "sales_sum_by_store = df_Shoes.groupby(\"Store\")[\"Price ($)\"].sum()\n",
    "\n",
    "print(type(sales_sum_by_store))\n",
    "sales_sum_by_store.plot.bar(title='Sum Sales by Store')"
   ]
  },
  {
   "cell_type": "markdown",
   "metadata": {},
   "source": [
    "### 1.b Sales Summed by Product"
   ]
  },
  {
   "cell_type": "code",
   "execution_count": 15,
   "metadata": {},
   "outputs": [
    {
     "name": "stdout",
     "output_type": "stream",
     "text": [
      "<class 'pandas.core.series.Series'>\n"
     ]
    },
    {
     "data": {
      "text/plain": [
       "<matplotlib.axes._subplots.AxesSubplot at 0xcec9350>"
      ]
     },
     "execution_count": 15,
     "metadata": {},
     "output_type": "execute_result"
    },
    {
     "data": {
      "image/png": "[encoded data removed]",
      "text/plain": [
       "<Figure size 432x288 with 1 Axes>"
      ]
     },
     "metadata": {
      "needs_background": "light"
     },
     "output_type": "display_data"
    }
   ],
   "source": [
    "# Sum Sales by Product\n",
    "sum_sales_by_product = df_Shoes.groupby(\"Product\")['Price ($)'].sum()\n",
    "\n",
    "print(type(sum_sales_by_product))\n",
    "sum_sales_by_product.plot.bar(title='Sum Sales by Product')"
   ]
  },
  {
   "cell_type": "markdown",
   "metadata": {},
   "source": [
    "### 1.c Sales Summed by Colour  \n",
    "- Sort by highest sales first"
   ]
  },
  {
   "cell_type": "code",
   "execution_count": 16,
   "metadata": {},
   "outputs": [
    {
     "name": "stdout",
     "output_type": "stream",
     "text": [
      "<class 'pandas.core.series.Series'>\n"
     ]
    },
    {
     "data": {
      "text/plain": [
       "<matplotlib.axes._subplots.AxesSubplot at 0xcf047d0>"
      ]
     },
     "execution_count": 16,
     "metadata": {},
     "output_type": "execute_result"
    },
    {
     "data": {
      "image/png": "[encoded data removed]",
      "text/plain": [
       "<Figure size 432x288 with 1 Axes>"
      ]
     },
     "metadata": {
      "needs_background": "light"
     },
     "output_type": "display_data"
    }
   ],
   "source": [
    "# Sum Sales by Color\n",
    "sum_sales_by_colour = df_Shoes.groupby(\"Colour\")[\"Price ($)\"].sum()\n",
    "\n",
    "print(type(sum_sales_by_colour))\n",
    "sum_sales_by_colour.plot.bar(title='Sum Sales by Colour')"
   ]
  },
  {
   "cell_type": "markdown",
   "metadata": {},
   "source": [
    "# Part 2: Bike Store  \n",
    "Data source: *BikeStore.csv*"
   ]
  },
  {
   "cell_type": "code",
   "execution_count": 17,
   "metadata": {},
   "outputs": [
    {
     "data": {
      "text/html": [
       "<div>\n",
       "<style scoped>\n",
       "    .dataframe tbody tr th:only-of-type {\n",
       "        vertical-align: middle;\n",
       "    }\n",
       "\n",
       "    .dataframe tbody tr th {\n",
       "        vertical-align: top;\n",
       "    }\n",
       "\n",
       "    .dataframe thead th {\n",
       "        text-align: right;\n",
       "    }\n",
       "</style>\n",
       "<table border=\"1\" class=\"dataframe\">\n",
       "  <thead>\n",
       "    <tr style=\"text-align: right;\">\n",
       "      <th></th>\n",
       "      <th>Market</th>\n",
       "      <th>Customer</th>\n",
       "      <th>Business Segment</th>\n",
       "      <th>Category</th>\n",
       "      <th>Model</th>\n",
       "      <th>Color</th>\n",
       "      <th>SalesDate</th>\n",
       "      <th>SalesPeriod</th>\n",
       "      <th>ListPrice</th>\n",
       "      <th>UnitPrice</th>\n",
       "      <th>OrderQty</th>\n",
       "      <th>Sales Amount</th>\n",
       "    </tr>\n",
       "  </thead>\n",
       "  <tbody>\n",
       "    <tr>\n",
       "      <th>0</th>\n",
       "      <td>Southeast</td>\n",
       "      <td>Trusted Catalog Store</td>\n",
       "      <td>Bikes</td>\n",
       "      <td>Mountain Bikes</td>\n",
       "      <td>Mountain-100</td>\n",
       "      <td>Silver</td>\n",
       "      <td>01/01/08</td>\n",
       "      <td>01/01/08</td>\n",
       "      <td>$3,400</td>\n",
       "      <td>$2,040</td>\n",
       "      <td>3</td>\n",
       "      <td>$6,120</td>\n",
       "    </tr>\n",
       "    <tr>\n",
       "      <th>1</th>\n",
       "      <td>Southeast</td>\n",
       "      <td>Trusted Catalog Store</td>\n",
       "      <td>Bikes</td>\n",
       "      <td>Mountain Bikes</td>\n",
       "      <td>Mountain-100</td>\n",
       "      <td>Black</td>\n",
       "      <td>01/14/08</td>\n",
       "      <td>01/01/08</td>\n",
       "      <td>$3,375</td>\n",
       "      <td>$2,025</td>\n",
       "      <td>2</td>\n",
       "      <td>$4,050</td>\n",
       "    </tr>\n",
       "  </tbody>\n",
       "</table>\n",
       "</div>"
      ],
      "text/plain": [
       "      Market               Customer Business Segment        Category  \\\n",
       "0  Southeast  Trusted Catalog Store            Bikes  Mountain Bikes   \n",
       "1  Southeast  Trusted Catalog Store            Bikes  Mountain Bikes   \n",
       "\n",
       "          Model   Color SalesDate SalesPeriod ListPrice UnitPrice  OrderQty  \\\n",
       "0  Mountain-100  Silver  01/01/08    01/01/08    $3,400    $2,040         3   \n",
       "1  Mountain-100   Black  01/14/08    01/01/08    $3,375    $2,025         2   \n",
       "\n",
       "  Sales Amount  \n",
       "0       $6,120  \n",
       "1       $4,050  "
      ]
     },
     "execution_count": 17,
     "metadata": {},
     "output_type": "execute_result"
    }
   ],
   "source": [
    "# Read the csv file\n",
    "df_bikes = pd.read_csv(\"Data/BikeStore.csv\")\n",
    "df_bikes.head(2)"
   ]
  },
  {
   "cell_type": "markdown",
   "metadata": {},
   "source": [
    "### Cleanup Data as needed"
   ]
  },
  {
   "cell_type": "code",
   "execution_count": 18,
   "metadata": {},
   "outputs": [
    {
     "data": {
      "text/plain": [
       "0    2040\n",
       "1    2025\n",
       "2    2025\n",
       "3       6\n",
       "4    2040\n",
       "Name: UnitPrice, dtype: object"
      ]
     },
     "execution_count": 18,
     "metadata": {},
     "output_type": "execute_result"
    }
   ],
   "source": [
    "# Remove non-numeric junk from unit price\n",
    "df_bikes['UnitPrice'] = df_bikes['UnitPrice'].str.replace('$', '')\n",
    "df_bikes['UnitPrice'] = df_bikes['UnitPrice'].str.replace(',', '')\n",
    "df_bikes['UnitPrice'].head()"
   ]
  },
  {
   "cell_type": "code",
   "execution_count": 19,
   "metadata": {},
   "outputs": [
    {
     "data": {
      "text/plain": [
       "0    3400\n",
       "1    3375\n",
       "2    3375\n",
       "3      10\n",
       "4    3400\n",
       "Name: ListPrice, dtype: object"
      ]
     },
     "execution_count": 19,
     "metadata": {},
     "output_type": "execute_result"
    }
   ],
   "source": [
    "# Remove non-numeric junk from list price\n",
    "df_bikes['ListPrice'] = df_bikes['ListPrice'].str.replace('$', '')\n",
    "df_bikes['ListPrice'] = df_bikes['ListPrice'].str.replace(',', '')\n",
    "df_bikes['ListPrice'].head()"
   ]
  },
  {
   "cell_type": "code",
   "execution_count": 20,
   "metadata": {},
   "outputs": [
    {
     "data": {
      "text/plain": [
       "0    6120\n",
       "1    4050\n",
       "2    6075\n",
       "3      46\n",
       "4    2040\n",
       "Name: Sales Amount, dtype: object"
      ]
     },
     "execution_count": 20,
     "metadata": {},
     "output_type": "execute_result"
    }
   ],
   "source": [
    "# Remove non-numeric junk from sales amount\n",
    "df_bikes['Sales Amount'] = df_bikes['Sales Amount'].str.replace('$', '')\n",
    "df_bikes['Sales Amount'] = df_bikes['Sales Amount'].str.replace(',', '')\n",
    "df_bikes['Sales Amount'].head()"
   ]
  },
  {
   "cell_type": "code",
   "execution_count": 21,
   "metadata": {
    "scrolled": true
   },
   "outputs": [
    {
     "data": {
      "text/html": [
       "<div>\n",
       "<style scoped>\n",
       "    .dataframe tbody tr th:only-of-type {\n",
       "        vertical-align: middle;\n",
       "    }\n",
       "\n",
       "    .dataframe tbody tr th {\n",
       "        vertical-align: top;\n",
       "    }\n",
       "\n",
       "    .dataframe thead th {\n",
       "        text-align: right;\n",
       "    }\n",
       "</style>\n",
       "<table border=\"1\" class=\"dataframe\">\n",
       "  <thead>\n",
       "    <tr style=\"text-align: right;\">\n",
       "      <th></th>\n",
       "      <th>Market</th>\n",
       "      <th>Customer</th>\n",
       "      <th>Business Segment</th>\n",
       "      <th>Category</th>\n",
       "      <th>Model</th>\n",
       "      <th>Color</th>\n",
       "      <th>SalesDate</th>\n",
       "      <th>SalesPeriod</th>\n",
       "      <th>ListPrice</th>\n",
       "      <th>UnitPrice</th>\n",
       "      <th>OrderQty</th>\n",
       "      <th>Sales Amount</th>\n",
       "    </tr>\n",
       "  </thead>\n",
       "  <tbody>\n",
       "    <tr>\n",
       "      <th>0</th>\n",
       "      <td>Southeast</td>\n",
       "      <td>Trusted Catalog Store</td>\n",
       "      <td>Bikes</td>\n",
       "      <td>Mountain Bikes</td>\n",
       "      <td>Mountain-100</td>\n",
       "      <td>Silver</td>\n",
       "      <td>01/01/08</td>\n",
       "      <td>01/01/08</td>\n",
       "      <td>3400</td>\n",
       "      <td>2040</td>\n",
       "      <td>3</td>\n",
       "      <td>6120</td>\n",
       "    </tr>\n",
       "    <tr>\n",
       "      <th>1</th>\n",
       "      <td>Southeast</td>\n",
       "      <td>Trusted Catalog Store</td>\n",
       "      <td>Bikes</td>\n",
       "      <td>Mountain Bikes</td>\n",
       "      <td>Mountain-100</td>\n",
       "      <td>Black</td>\n",
       "      <td>01/14/08</td>\n",
       "      <td>01/01/08</td>\n",
       "      <td>3375</td>\n",
       "      <td>2025</td>\n",
       "      <td>2</td>\n",
       "      <td>4050</td>\n",
       "    </tr>\n",
       "    <tr>\n",
       "      <th>2</th>\n",
       "      <td>Southeast</td>\n",
       "      <td>Trusted Catalog Store</td>\n",
       "      <td>Bikes</td>\n",
       "      <td>Mountain Bikes</td>\n",
       "      <td>Mountain-100</td>\n",
       "      <td>Black</td>\n",
       "      <td>01/30/08</td>\n",
       "      <td>01/01/08</td>\n",
       "      <td>3375</td>\n",
       "      <td>2025</td>\n",
       "      <td>3</td>\n",
       "      <td>6075</td>\n",
       "    </tr>\n",
       "    <tr>\n",
       "      <th>3</th>\n",
       "      <td>Southeast</td>\n",
       "      <td>Trusted Catalog Store</td>\n",
       "      <td>Clothing</td>\n",
       "      <td>Socks</td>\n",
       "      <td>Mountain Bike Socks</td>\n",
       "      <td>White</td>\n",
       "      <td>01/16/08</td>\n",
       "      <td>01/01/08</td>\n",
       "      <td>10</td>\n",
       "      <td>6</td>\n",
       "      <td>8</td>\n",
       "      <td>46</td>\n",
       "    </tr>\n",
       "    <tr>\n",
       "      <th>4</th>\n",
       "      <td>Southeast</td>\n",
       "      <td>Trusted Catalog Store</td>\n",
       "      <td>Bikes</td>\n",
       "      <td>Mountain Bikes</td>\n",
       "      <td>Mountain-100</td>\n",
       "      <td>Silver</td>\n",
       "      <td>01/31/08</td>\n",
       "      <td>01/01/08</td>\n",
       "      <td>3400</td>\n",
       "      <td>2040</td>\n",
       "      <td>1</td>\n",
       "      <td>2040</td>\n",
       "    </tr>\n",
       "  </tbody>\n",
       "</table>\n",
       "</div>"
      ],
      "text/plain": [
       "      Market               Customer Business Segment        Category  \\\n",
       "0  Southeast  Trusted Catalog Store            Bikes  Mountain Bikes   \n",
       "1  Southeast  Trusted Catalog Store            Bikes  Mountain Bikes   \n",
       "2  Southeast  Trusted Catalog Store            Bikes  Mountain Bikes   \n",
       "3  Southeast  Trusted Catalog Store         Clothing           Socks   \n",
       "4  Southeast  Trusted Catalog Store            Bikes  Mountain Bikes   \n",
       "\n",
       "                 Model   Color SalesDate SalesPeriod ListPrice UnitPrice  \\\n",
       "0         Mountain-100  Silver  01/01/08    01/01/08      3400      2040   \n",
       "1         Mountain-100   Black  01/14/08    01/01/08      3375      2025   \n",
       "2         Mountain-100   Black  01/30/08    01/01/08      3375      2025   \n",
       "3  Mountain Bike Socks   White  01/16/08    01/01/08        10         6   \n",
       "4         Mountain-100  Silver  01/31/08    01/01/08      3400      2040   \n",
       "\n",
       "   OrderQty Sales Amount  \n",
       "0         3         6120  \n",
       "1         2         4050  \n",
       "2         3         6075  \n",
       "3         8           46  \n",
       "4         1         2040  "
      ]
     },
     "execution_count": 21,
     "metadata": {},
     "output_type": "execute_result"
    }
   ],
   "source": [
    "df_bikes.head()"
   ]
  },
  {
   "cell_type": "code",
   "execution_count": 22,
   "metadata": {},
   "outputs": [],
   "source": [
    "df_bikes['SalesDate'] = pd.to_datetime(df_bikes['SalesDate'])\n",
    "df_bikes['SalesPeriod'] = pd.to_datetime(df_bikes['SalesPeriod'])\n",
    "df_bikes['ListPrice'] = pd.to_numeric(df_bikes['ListPrice'])\n",
    "df_bikes['Sales Amount'] = pd.to_numeric(df_bikes['Sales Amount'])\n",
    "df_bikes['UnitPrice'] = pd.to_numeric(df_bikes['UnitPrice'])"
   ]
  },
  {
   "cell_type": "code",
   "execution_count": 23,
   "metadata": {},
   "outputs": [
    {
     "data": {
      "text/plain": [
       "Market                      object\n",
       "Customer                    object\n",
       "Business Segment            object\n",
       "Category                    object\n",
       "Model                       object\n",
       "Color                       object\n",
       "SalesDate           datetime64[ns]\n",
       "SalesPeriod         datetime64[ns]\n",
       "ListPrice                    int64\n",
       "UnitPrice                    int64\n",
       "OrderQty                     int64\n",
       "Sales Amount                 int64\n",
       "dtype: object"
      ]
     },
     "execution_count": 23,
     "metadata": {},
     "output_type": "execute_result"
    }
   ],
   "source": [
    "df_bikes.dtypes"
   ]
  },
  {
   "cell_type": "markdown",
   "metadata": {},
   "source": [
    "### Create new column named Sales In Millions \n",
    "- Divide Sales Amount by one million"
   ]
  },
  {
   "cell_type": "code",
   "execution_count": 24,
   "metadata": {},
   "outputs": [
    {
     "data": {
      "text/html": [
       "<div>\n",
       "<style scoped>\n",
       "    .dataframe tbody tr th:only-of-type {\n",
       "        vertical-align: middle;\n",
       "    }\n",
       "\n",
       "    .dataframe tbody tr th {\n",
       "        vertical-align: top;\n",
       "    }\n",
       "\n",
       "    .dataframe thead th {\n",
       "        text-align: right;\n",
       "    }\n",
       "</style>\n",
       "<table border=\"1\" class=\"dataframe\">\n",
       "  <thead>\n",
       "    <tr style=\"text-align: right;\">\n",
       "      <th></th>\n",
       "      <th>Market</th>\n",
       "      <th>Customer</th>\n",
       "      <th>Business Segment</th>\n",
       "      <th>Category</th>\n",
       "      <th>Model</th>\n",
       "      <th>Color</th>\n",
       "      <th>SalesDate</th>\n",
       "      <th>SalesPeriod</th>\n",
       "      <th>ListPrice</th>\n",
       "      <th>UnitPrice</th>\n",
       "      <th>OrderQty</th>\n",
       "      <th>Sales Amount</th>\n",
       "      <th>Sales in Millions</th>\n",
       "    </tr>\n",
       "  </thead>\n",
       "  <tbody>\n",
       "    <tr>\n",
       "      <th>0</th>\n",
       "      <td>Southeast</td>\n",
       "      <td>Trusted Catalog Store</td>\n",
       "      <td>Bikes</td>\n",
       "      <td>Mountain Bikes</td>\n",
       "      <td>Mountain-100</td>\n",
       "      <td>Silver</td>\n",
       "      <td>2008-01-01</td>\n",
       "      <td>2008-01-01</td>\n",
       "      <td>3400</td>\n",
       "      <td>2040</td>\n",
       "      <td>3</td>\n",
       "      <td>6120</td>\n",
       "      <td>0.006120</td>\n",
       "    </tr>\n",
       "    <tr>\n",
       "      <th>1</th>\n",
       "      <td>Southeast</td>\n",
       "      <td>Trusted Catalog Store</td>\n",
       "      <td>Bikes</td>\n",
       "      <td>Mountain Bikes</td>\n",
       "      <td>Mountain-100</td>\n",
       "      <td>Black</td>\n",
       "      <td>2008-01-14</td>\n",
       "      <td>2008-01-01</td>\n",
       "      <td>3375</td>\n",
       "      <td>2025</td>\n",
       "      <td>2</td>\n",
       "      <td>4050</td>\n",
       "      <td>0.004050</td>\n",
       "    </tr>\n",
       "    <tr>\n",
       "      <th>2</th>\n",
       "      <td>Southeast</td>\n",
       "      <td>Trusted Catalog Store</td>\n",
       "      <td>Bikes</td>\n",
       "      <td>Mountain Bikes</td>\n",
       "      <td>Mountain-100</td>\n",
       "      <td>Black</td>\n",
       "      <td>2008-01-30</td>\n",
       "      <td>2008-01-01</td>\n",
       "      <td>3375</td>\n",
       "      <td>2025</td>\n",
       "      <td>3</td>\n",
       "      <td>6075</td>\n",
       "      <td>0.006075</td>\n",
       "    </tr>\n",
       "    <tr>\n",
       "      <th>3</th>\n",
       "      <td>Southeast</td>\n",
       "      <td>Trusted Catalog Store</td>\n",
       "      <td>Clothing</td>\n",
       "      <td>Socks</td>\n",
       "      <td>Mountain Bike Socks</td>\n",
       "      <td>White</td>\n",
       "      <td>2008-01-16</td>\n",
       "      <td>2008-01-01</td>\n",
       "      <td>10</td>\n",
       "      <td>6</td>\n",
       "      <td>8</td>\n",
       "      <td>46</td>\n",
       "      <td>0.000046</td>\n",
       "    </tr>\n",
       "    <tr>\n",
       "      <th>4</th>\n",
       "      <td>Southeast</td>\n",
       "      <td>Trusted Catalog Store</td>\n",
       "      <td>Bikes</td>\n",
       "      <td>Mountain Bikes</td>\n",
       "      <td>Mountain-100</td>\n",
       "      <td>Silver</td>\n",
       "      <td>2008-01-31</td>\n",
       "      <td>2008-01-01</td>\n",
       "      <td>3400</td>\n",
       "      <td>2040</td>\n",
       "      <td>1</td>\n",
       "      <td>2040</td>\n",
       "      <td>0.002040</td>\n",
       "    </tr>\n",
       "  </tbody>\n",
       "</table>\n",
       "</div>"
      ],
      "text/plain": [
       "      Market               Customer Business Segment        Category  \\\n",
       "0  Southeast  Trusted Catalog Store            Bikes  Mountain Bikes   \n",
       "1  Southeast  Trusted Catalog Store            Bikes  Mountain Bikes   \n",
       "2  Southeast  Trusted Catalog Store            Bikes  Mountain Bikes   \n",
       "3  Southeast  Trusted Catalog Store         Clothing           Socks   \n",
       "4  Southeast  Trusted Catalog Store            Bikes  Mountain Bikes   \n",
       "\n",
       "                 Model   Color  SalesDate SalesPeriod  ListPrice  UnitPrice  \\\n",
       "0         Mountain-100  Silver 2008-01-01  2008-01-01       3400       2040   \n",
       "1         Mountain-100   Black 2008-01-14  2008-01-01       3375       2025   \n",
       "2         Mountain-100   Black 2008-01-30  2008-01-01       3375       2025   \n",
       "3  Mountain Bike Socks   White 2008-01-16  2008-01-01         10          6   \n",
       "4         Mountain-100  Silver 2008-01-31  2008-01-01       3400       2040   \n",
       "\n",
       "   OrderQty  Sales Amount  Sales in Millions  \n",
       "0         3          6120           0.006120  \n",
       "1         2          4050           0.004050  \n",
       "2         3          6075           0.006075  \n",
       "3         8            46           0.000046  \n",
       "4         1          2040           0.002040  "
      ]
     },
     "execution_count": 24,
     "metadata": {},
     "output_type": "execute_result"
    }
   ],
   "source": [
    "df_bikes['Sales in Millions'] = df_bikes['Sales Amount'] / 1000000\n",
    "df_bikes.head()"
   ]
  },
  {
   "cell_type": "markdown",
   "metadata": {},
   "source": [
    "### 2.a Total Sales by Market  \n",
    "- Use your *Sales In Millions* column\n",
    "- Show highest sales markets first"
   ]
  },
  {
   "cell_type": "code",
   "execution_count": 25,
   "metadata": {},
   "outputs": [
    {
     "name": "stdout",
     "output_type": "stream",
     "text": [
      "<class 'pandas.core.series.Series'>\n"
     ]
    },
    {
     "data": {
      "text/plain": [
       "<matplotlib.axes._subplots.AxesSubplot at 0xd30a610>"
      ]
     },
     "execution_count": 25,
     "metadata": {},
     "output_type": "execute_result"
    },
    {
     "data": {
      "image/png": "[encoded data removed]",
      "text/plain": [
       "<Figure size 432x288 with 1 Axes>"
      ]
     },
     "metadata": {
      "needs_background": "light"
     },
     "output_type": "display_data"
    }
   ],
   "source": [
    "# Total Sales by Market\n",
    "total_sales_by_market = df_bikes.groupby(\"Market\")['Sales in Millions'].sum()\n",
    "\n",
    "print(type(total_sales_by_market))\n",
    "total_sales_by_market.plot.bar(title='Sales by Market')"
   ]
  },
  {
   "cell_type": "markdown",
   "metadata": {},
   "source": [
    "### 2.b Total Sales by Business Segment  \n",
    "- Use your *Sales In Millions* column\n",
    "- Sort by sales"
   ]
  },
  {
   "cell_type": "code",
   "execution_count": 26,
   "metadata": {},
   "outputs": [
    {
     "name": "stdout",
     "output_type": "stream",
     "text": [
      "<class 'pandas.core.series.Series'>\n"
     ]
    },
    {
     "data": {
      "text/plain": [
       "<matplotlib.axes._subplots.AxesSubplot at 0xd2fa050>"
      ]
     },
     "execution_count": 26,
     "metadata": {},
     "output_type": "execute_result"
    },
    {
     "data": {
      "image/png": "[encoded data removed]",
      "text/plain": [
       "<Figure size 432x288 with 1 Axes>"
      ]
     },
     "metadata": {
      "needs_background": "light"
     },
     "output_type": "display_data"
    }
   ],
   "source": [
    "# sales by business segment\n",
    "sales_by_segment = df_bikes.groupby(\"Business Segment\")['Sales in Millions'].sum()\n",
    "\n",
    "print(type(sales_by_segment))\n",
    "sales_by_segment.plot(title='Sales by Segment')"
   ]
  },
  {
   "cell_type": "markdown",
   "metadata": {},
   "source": [
    "### 2.c Total List Price and UnitPrice by Business Segment"
   ]
  },
  {
   "cell_type": "code",
   "execution_count": 27,
   "metadata": {},
   "outputs": [
    {
     "name": "stdout",
     "output_type": "stream",
     "text": [
      "<class 'pandas.core.frame.DataFrame'>\n"
     ]
    },
    {
     "data": {
      "text/plain": [
       "<matplotlib.axes._subplots.AxesSubplot at 0xd2e5a30>"
      ]
     },
     "execution_count": 27,
     "metadata": {},
     "output_type": "execute_result"
    },
    {
     "data": {
      "image/png": "[encoded data removed]",
      "text/plain": [
       "<Figure size 432x288 with 1 Axes>"
      ]
     },
     "metadata": {
      "needs_background": "light"
     },
     "output_type": "display_data"
    }
   ],
   "source": [
    "# List and UnitPrice by Segment\n",
    "sum_price_by_segment = df_bikes.groupby(\"Business Segment\")['ListPrice', 'UnitPrice'].sum()\n",
    "\n",
    "print(type(sum_price_by_segment))\n",
    "sum_price_by_segment.plot(title='Sum Price by Segment')"
   ]
  },
  {
   "cell_type": "markdown",
   "metadata": {},
   "source": [
    "### 2.d Total Unit Margin by Business Segment  \n",
    "- Create a new column named 'UnitMargin' by subtracting UnitPrice from ListPrice  \n",
    "- Divide all the UnitMargin values by 1,000\n",
    "- Plot the sum of UnitMargin by Business Segment"
   ]
  },
  {
   "cell_type": "code",
   "execution_count": 28,
   "metadata": {
    "scrolled": true
   },
   "outputs": [
    {
     "data": {
      "text/html": [
       "<div>\n",
       "<style scoped>\n",
       "    .dataframe tbody tr th:only-of-type {\n",
       "        vertical-align: middle;\n",
       "    }\n",
       "\n",
       "    .dataframe tbody tr th {\n",
       "        vertical-align: top;\n",
       "    }\n",
       "\n",
       "    .dataframe thead th {\n",
       "        text-align: right;\n",
       "    }\n",
       "</style>\n",
       "<table border=\"1\" class=\"dataframe\">\n",
       "  <thead>\n",
       "    <tr style=\"text-align: right;\">\n",
       "      <th></th>\n",
       "      <th>Market</th>\n",
       "      <th>Customer</th>\n",
       "      <th>Business Segment</th>\n",
       "      <th>Category</th>\n",
       "      <th>Model</th>\n",
       "      <th>Color</th>\n",
       "      <th>SalesDate</th>\n",
       "      <th>SalesPeriod</th>\n",
       "      <th>ListPrice</th>\n",
       "      <th>UnitPrice</th>\n",
       "      <th>OrderQty</th>\n",
       "      <th>Sales Amount</th>\n",
       "      <th>Sales in Millions</th>\n",
       "      <th>UnitMargin</th>\n",
       "    </tr>\n",
       "  </thead>\n",
       "  <tbody>\n",
       "    <tr>\n",
       "      <th>0</th>\n",
       "      <td>Southeast</td>\n",
       "      <td>Trusted Catalog Store</td>\n",
       "      <td>Bikes</td>\n",
       "      <td>Mountain Bikes</td>\n",
       "      <td>Mountain-100</td>\n",
       "      <td>Silver</td>\n",
       "      <td>2008-01-01</td>\n",
       "      <td>2008-01-01</td>\n",
       "      <td>3400</td>\n",
       "      <td>2040</td>\n",
       "      <td>3</td>\n",
       "      <td>6120</td>\n",
       "      <td>0.006120</td>\n",
       "      <td>1.360</td>\n",
       "    </tr>\n",
       "    <tr>\n",
       "      <th>1</th>\n",
       "      <td>Southeast</td>\n",
       "      <td>Trusted Catalog Store</td>\n",
       "      <td>Bikes</td>\n",
       "      <td>Mountain Bikes</td>\n",
       "      <td>Mountain-100</td>\n",
       "      <td>Black</td>\n",
       "      <td>2008-01-14</td>\n",
       "      <td>2008-01-01</td>\n",
       "      <td>3375</td>\n",
       "      <td>2025</td>\n",
       "      <td>2</td>\n",
       "      <td>4050</td>\n",
       "      <td>0.004050</td>\n",
       "      <td>1.350</td>\n",
       "    </tr>\n",
       "    <tr>\n",
       "      <th>2</th>\n",
       "      <td>Southeast</td>\n",
       "      <td>Trusted Catalog Store</td>\n",
       "      <td>Bikes</td>\n",
       "      <td>Mountain Bikes</td>\n",
       "      <td>Mountain-100</td>\n",
       "      <td>Black</td>\n",
       "      <td>2008-01-30</td>\n",
       "      <td>2008-01-01</td>\n",
       "      <td>3375</td>\n",
       "      <td>2025</td>\n",
       "      <td>3</td>\n",
       "      <td>6075</td>\n",
       "      <td>0.006075</td>\n",
       "      <td>1.350</td>\n",
       "    </tr>\n",
       "    <tr>\n",
       "      <th>3</th>\n",
       "      <td>Southeast</td>\n",
       "      <td>Trusted Catalog Store</td>\n",
       "      <td>Clothing</td>\n",
       "      <td>Socks</td>\n",
       "      <td>Mountain Bike Socks</td>\n",
       "      <td>White</td>\n",
       "      <td>2008-01-16</td>\n",
       "      <td>2008-01-01</td>\n",
       "      <td>10</td>\n",
       "      <td>6</td>\n",
       "      <td>8</td>\n",
       "      <td>46</td>\n",
       "      <td>0.000046</td>\n",
       "      <td>0.004</td>\n",
       "    </tr>\n",
       "    <tr>\n",
       "      <th>4</th>\n",
       "      <td>Southeast</td>\n",
       "      <td>Trusted Catalog Store</td>\n",
       "      <td>Bikes</td>\n",
       "      <td>Mountain Bikes</td>\n",
       "      <td>Mountain-100</td>\n",
       "      <td>Silver</td>\n",
       "      <td>2008-01-31</td>\n",
       "      <td>2008-01-01</td>\n",
       "      <td>3400</td>\n",
       "      <td>2040</td>\n",
       "      <td>1</td>\n",
       "      <td>2040</td>\n",
       "      <td>0.002040</td>\n",
       "      <td>1.360</td>\n",
       "    </tr>\n",
       "  </tbody>\n",
       "</table>\n",
       "</div>"
      ],
      "text/plain": [
       "      Market               Customer Business Segment        Category  \\\n",
       "0  Southeast  Trusted Catalog Store            Bikes  Mountain Bikes   \n",
       "1  Southeast  Trusted Catalog Store            Bikes  Mountain Bikes   \n",
       "2  Southeast  Trusted Catalog Store            Bikes  Mountain Bikes   \n",
       "3  Southeast  Trusted Catalog Store         Clothing           Socks   \n",
       "4  Southeast  Trusted Catalog Store            Bikes  Mountain Bikes   \n",
       "\n",
       "                 Model   Color  SalesDate SalesPeriod  ListPrice  UnitPrice  \\\n",
       "0         Mountain-100  Silver 2008-01-01  2008-01-01       3400       2040   \n",
       "1         Mountain-100   Black 2008-01-14  2008-01-01       3375       2025   \n",
       "2         Mountain-100   Black 2008-01-30  2008-01-01       3375       2025   \n",
       "3  Mountain Bike Socks   White 2008-01-16  2008-01-01         10          6   \n",
       "4         Mountain-100  Silver 2008-01-31  2008-01-01       3400       2040   \n",
       "\n",
       "   OrderQty  Sales Amount  Sales in Millions  UnitMargin  \n",
       "0         3          6120           0.006120       1.360  \n",
       "1         2          4050           0.004050       1.350  \n",
       "2         3          6075           0.006075       1.350  \n",
       "3         8            46           0.000046       0.004  \n",
       "4         1          2040           0.002040       1.360  "
      ]
     },
     "execution_count": 28,
     "metadata": {},
     "output_type": "execute_result"
    }
   ],
   "source": [
    "df_bikes['UnitMargin'] = (df_bikes['ListPrice'] - df_bikes['UnitPrice'])/1000\n",
    "\n",
    "df_bikes.head()"
   ]
  },
  {
   "cell_type": "code",
   "execution_count": 29,
   "metadata": {},
   "outputs": [
    {
     "name": "stdout",
     "output_type": "stream",
     "text": [
      "<class 'pandas.core.series.Series'>\n"
     ]
    },
    {
     "data": {
      "text/plain": [
       "<matplotlib.axes._subplots.AxesSubplot at 0xd45fed0>"
      ]
     },
     "execution_count": 29,
     "metadata": {},
     "output_type": "execute_result"
    },
    {
     "data": {
      "image/png": "[encoded data removed]",
      "text/plain": [
       "<Figure size 432x288 with 1 Axes>"
      ]
     },
     "metadata": {
      "needs_background": "light"
     },
     "output_type": "display_data"
    }
   ],
   "source": [
    "# Unit Margin by Segment\n",
    "margin_by_segment = df_bikes.groupby(\"Business Segment\")['UnitMargin'].sum()\n",
    "\n",
    "print(type(margin_by_segment))\n",
    "margin_by_segment.plot.line(title='Unit Margin by Segment')"
   ]
  },
  {
   "cell_type": "markdown",
   "metadata": {},
   "source": [
    "### 2.e Plot Sales (in Millions) by Year"
   ]
  },
  {
   "cell_type": "code",
   "execution_count": 30,
   "metadata": {},
   "outputs": [
    {
     "name": "stdout",
     "output_type": "stream",
     "text": [
      "<class 'pandas.core.series.Series'>\n"
     ]
    },
    {
     "data": {
      "text/plain": [
       "<matplotlib.axes._subplots.AxesSubplot at 0xd4515b0>"
      ]
     },
     "execution_count": 30,
     "metadata": {},
     "output_type": "execute_result"
    },
    {
     "data": {
      "image/png": "[encoded data removed]",
      "text/plain": [
       "<Figure size 432x288 with 1 Axes>"
      ]
     },
     "metadata": {
      "needs_background": "light"
     },
     "output_type": "display_data"
    }
   ],
   "source": [
    "# Define year\n",
    "df_bikes['Year'] = df_bikes['SalesDate'].dt.year\n",
    "\n",
    "# Sales by Year\n",
    "sales_by_year = df_bikes.groupby(\"Year\")['Sales in Millions'].sum()\n",
    "\n",
    "print(type(sales_by_year))\n",
    "sales_by_year.plot.bar(title='Sales by Year (millions)')"
   ]
  },
  {
   "cell_type": "markdown",
   "metadata": {},
   "source": [
    "### 2.f Plot Sales (in Millions) by Quarter  \n",
    "- Plot as Line Chart"
   ]
  },
  {
   "cell_type": "code",
   "execution_count": 31,
   "metadata": {},
   "outputs": [
    {
     "name": "stdout",
     "output_type": "stream",
     "text": [
      "<class 'pandas.core.series.Series'>\n"
     ]
    },
    {
     "data": {
      "text/plain": [
       "<matplotlib.axes._subplots.AxesSubplot at 0xd462fd0>"
      ]
     },
     "execution_count": 31,
     "metadata": {},
     "output_type": "execute_result"
    },
    {
     "data": {
      "image/png": "[encoded data removed]",
      "text/plain": [
       "<Figure size 432x288 with 1 Axes>"
      ]
     },
     "metadata": {
      "needs_background": "light"
     },
     "output_type": "display_data"
    }
   ],
   "source": [
    "# define quarter\n",
    "df_bikes['Quarter'] = df_bikes['SalesDate'].dt.quarter\n",
    "\n",
    "# Sales by quarter\n",
    "sales_by_quarter = df_bikes.groupby(\"Quarter\")['Sales in Millions'].sum()\n",
    "\n",
    "print(type(sales_by_quarter))\n",
    "sales_by_quarter.plot.bar(title='Sales by Quarter (millions)')"
   ]
  },
  {
   "cell_type": "markdown",
   "metadata": {},
   "source": [
    "### Extra Credit (10 pts):  Plot Sales (in Millions) by Day of the Week\n",
    "- Plot as Bar Chart \n",
    "- x axis:  Monday, Tuesday, ...."
   ]
  },
  {
   "cell_type": "code",
   "execution_count": 32,
   "metadata": {},
   "outputs": [
    {
     "data": {
      "text/plain": [
       "<matplotlib.axes._subplots.AxesSubplot at 0xe04aab0>"
      ]
     },
     "execution_count": 32,
     "metadata": {},
     "output_type": "execute_result"
    },
    {
     "data": {
      "image/png": "[encoded data removed]",
      "text/plain": [
       "<Figure size 432x288 with 1 Axes>"
      ]
     },
     "metadata": {
      "needs_background": "light"
     },
     "output_type": "display_data"
    }
   ],
   "source": [
    "# set day of week\n",
    "df_bikes['Day of Week'] = df_bikes['SalesDate'].dt.weekday_name\n",
    "df_bikes.head()\n",
    "\n",
    "# Sum Sales by Product\n",
    "sales_by_weekday = df_bikes.groupby(\"Day of Week\")['Sales in Millions'].sum()\n",
    "\n",
    "weekday_order = ['Monday', 'Tuesday', 'Wednesday', 'Thursday', 'Friday', 'Saturday', 'Sunday']\n",
    "sales_by_weekday[weekday_order].plot.bar(title='Sum Sales by Weekday (millions)')"
   ]
  }
 ],
 "metadata": {
  "kernelspec": {
   "display_name": "Python 3",
   "language": "python",
   "name": "python3"
  },
  "language_info": {
   "codemirror_mode": {
    "name": "ipython",
    "version": 3
   },
   "file_extension": ".py",
   "mimetype": "text/x-python",
   "name": "python",
   "nbconvert_exporter": "python",
   "pygments_lexer": "ipython3",
   "version": "3.7.0"
  }
 },
 "nbformat": 4,
 "nbformat_minor": 2
}
